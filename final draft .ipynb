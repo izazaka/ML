{
 "cells": [
  {
   "cell_type": "markdown",
   "id": "2864c5e7",
   "metadata": {},
   "source": [
    "Assessment Task\n",
    "\n",
    "\n",
    "Suggested possible analysis \n",
    "\n",
    "- What are the most important features for predicting X as a target variable?\n",
    "- Which classification approach do you prefer for the prediction of X as a target variable, and why? o How to classify the loyal and churn customers using Support Vector Machines?\n",
    "- Why is dimensionality reduction important in machine learning?\n",
    "\n",
    "The pair would need to consider the following instructions (a - d) during the development of this pair project.\n",
    "a) Logical justification based on the reasoning for the specific choice of machine learning approaches.\n",
    "b) Multiple machine learning approaches (at least two) using hyperparameters and a comparison\n",
    "between the chosen modelling approaches.\n",
    " c) Visualise your comparison of ML modelling outcomes. You may use a statistical approach to argue that one feature is more important than other features (for example, using PCA).\n",
    "d) Cross-validation methods should be used to justify the authenticity of your ML results.\n",
    "Your pair will present their findings and defend the results in the report (MS Doc or Open word format) by highlighting their individual contribution. Your report should capture the following aspects that are relevant\n",
    "to 1.\n",
    "2.\n",
    "3.\n",
    "4.\n",
    "5.\n",
    "your project investigations.\n",
    "Motivation, a description of the problem domain, and an explanation of how the project's goals are justified using Prediction / Classification / Clustering Rules / Dimensionality Reduction etc..\n",
    "(10 marks) Characterization of data, explanation and description of techniques used for the variation in the\n",
    "accuracy across three training splits (10% / 20%/ 30%) using cross validation techniques.\n",
    "(30 marks) Interpret and explain the results obtained, discuss overfitting / underfitting / generalisation, provide a rationale for the chosen model and use visualisations to support your findings. Comments in Python code, conclusions of the project should be specified at the end of the report. Harvard Style must be\n",
    "used for citations and references.\n",
    "(20 marks) Each team member presents a PowerPoint presentation of their work (maximum 5 slides) to emphasize their distinctive contributions based on their involvement in the project's conceptual\n",
    "understanding, code development, and deployment.\n",
    "(20 marks individual) Each team member fully described their individual contributions to the project in a reflective journal, using at least 500 to 700 words as well as images, diagrams, figures, and visualizations to elaborate\n",
    "his/ her work.\n",
    "Submission Requirements\n",
    "All assessment submissions must meet the minimum requirements listed below. Failure to do so may have implications for the marks awarded.\n",
    "● The code and datasets should be provided and uploaded in zip format on Moodle.\n",
    "● Clearly detail the number of words used in the report.\n",
    "● Number of Words in the report (2000 words +/-10%) excluding diagrams, code, references and\n",
    "titles. Number of words used to express individual contributions is part of the mentioned words.\n",
    "● In the case of individual submission, students will submit a (1000 words +/-10%) report.\n",
    "● Describe the contribution of each team member in the project clearly and use a bar chart or pie\n",
    "chart to represent the effort and time spent during this project. Use version control like Github or any other tool to show the progress of both team members in CA1. You should have at least 5 commits on Github before submission.\n",
    "● The rubric is provided for the detailed breakdown of marks at the end of this CA1.\n",
    "● Use Harvard Referencing when citing third party material\n",
    "● Be the student’s own work.\n",
    "● Include the CCT assessment cover page.\n",
    "● Be submitted by the deadline date specified or be subject to late submission penalties\n",
    "(20 marks individual)\n",
    " \n",
    "● Note: The names of pair members must be uploaded on the link provided on Moodle until 15th October 2023 (23:59).\n",
    "● Must be clearly specified the number of words used after each section in the report."
   ]
  },
  {
   "cell_type": "markdown",
   "id": "2fb81969",
   "metadata": {},
   "source": [
    "# DO CROSS VALIDATION AND ANN"
   ]
  },
  {
   "cell_type": "markdown",
   "id": "00fd4389",
   "metadata": {},
   "source": [
    "# Librabries "
   ]
  },
  {
   "cell_type": "code",
   "execution_count": 1,
   "id": "6d9355bf",
   "metadata": {},
   "outputs": [],
   "source": [
    "%matplotlib inline\n",
    "\n",
    "import pandas as pd\n",
    "\n",
    "import numpy as np\n",
    "\n",
    "import matplotlib.pyplot as plt\n",
    "\n",
    "import seaborn as sns\n",
    "\n",
    "from sklearn.model_selection import train_test_split, cross_val_score\n",
    "\n",
    "from sklearn import metrics\n",
    "\n",
    "from sklearn.preprocessing import MinMaxScaler\n",
    "\n",
    "from sklearn.metrics import mean_squared_error, r2_score\n",
    "\n",
    "from sklearn.metrics import classification_report\n",
    "\n",
    "from sklearn.metrics import accuracy_score\n",
    "\n",
    "from sklearn.model_selection import cross_val_score"
   ]
  },
  {
   "cell_type": "markdown",
   "id": "a23f5879",
   "metadata": {},
   "source": []
  },
  {
   "cell_type": "markdown",
   "id": "3651eb2d",
   "metadata": {},
   "source": [
    "# EDA"
   ]
  },
  {
   "cell_type": "code",
   "execution_count": 2,
   "id": "d0a7ffb6",
   "metadata": {},
   "outputs": [],
   "source": [
    "bike = pd.read_csv(\"Seoul_Bike.csv\")"
   ]
  },
  {
   "cell_type": "markdown",
   "id": "928b9638",
   "metadata": {},
   "source": [
    "DOI\n",
    "10.24432/C5F62R\n",
    "License\n",
    "This dataset is licensed under a Creative Commons Attribution 4.0 International (CC BY 4.0) license.\n",
    "This allows for the sharing and adaptation of the datasets for any purpose, provided that the appropriate credit is given.\n",
    "\n",
    "https://archive.ics.uci.edu/dataset/560/seoul+bike+sharing+demand\n"
   ]
  },
  {
   "cell_type": "markdown",
   "id": "e3319d90",
   "metadata": {},
   "source": [
    "@misc{misc_seoul_bike_sharing_demand_560,\n",
    "  title        = {{Seoul Bike Sharing Demand}},\n",
    "  year         = {2020},\n",
    "  howpublished = {UCI Machine Learning Repository},\n",
    "  note         = {{DOI}: https://doi.org/10.24432/C5F62R}\n",
    "}"
   ]
  },
  {
   "cell_type": "code",
   "execution_count": 3,
   "id": "0a3114db",
   "metadata": {},
   "outputs": [
    {
     "data": {
      "text/html": [
       "<div>\n",
       "<style scoped>\n",
       "    .dataframe tbody tr th:only-of-type {\n",
       "        vertical-align: middle;\n",
       "    }\n",
       "\n",
       "    .dataframe tbody tr th {\n",
       "        vertical-align: top;\n",
       "    }\n",
       "\n",
       "    .dataframe thead th {\n",
       "        text-align: right;\n",
       "    }\n",
       "</style>\n",
       "<table border=\"1\" class=\"dataframe\">\n",
       "  <thead>\n",
       "    <tr style=\"text-align: right;\">\n",
       "      <th></th>\n",
       "      <th>Date</th>\n",
       "      <th>Rented Bike Count</th>\n",
       "      <th>Hour</th>\n",
       "      <th>Temperature(°C)</th>\n",
       "      <th>Humidity(%)</th>\n",
       "      <th>Wind speed (m/s)</th>\n",
       "      <th>Visibility (10m)</th>\n",
       "      <th>Dew point temperature(°C)</th>\n",
       "      <th>Solar Radiation (MJ/m2)</th>\n",
       "      <th>Rainfall(mm)</th>\n",
       "      <th>Snowfall (cm)</th>\n",
       "      <th>Seasons</th>\n",
       "      <th>Holiday</th>\n",
       "      <th>Functioning Day</th>\n",
       "    </tr>\n",
       "  </thead>\n",
       "  <tbody>\n",
       "    <tr>\n",
       "      <th>0</th>\n",
       "      <td>01/12/2017</td>\n",
       "      <td>254</td>\n",
       "      <td>0</td>\n",
       "      <td>-5.2</td>\n",
       "      <td>37</td>\n",
       "      <td>2.2</td>\n",
       "      <td>2000</td>\n",
       "      <td>-17.6</td>\n",
       "      <td>0.0</td>\n",
       "      <td>0.0</td>\n",
       "      <td>0.0</td>\n",
       "      <td>Winter</td>\n",
       "      <td>No Holiday</td>\n",
       "      <td>Yes</td>\n",
       "    </tr>\n",
       "    <tr>\n",
       "      <th>1</th>\n",
       "      <td>01/12/2017</td>\n",
       "      <td>204</td>\n",
       "      <td>1</td>\n",
       "      <td>-5.5</td>\n",
       "      <td>38</td>\n",
       "      <td>0.8</td>\n",
       "      <td>2000</td>\n",
       "      <td>-17.6</td>\n",
       "      <td>0.0</td>\n",
       "      <td>0.0</td>\n",
       "      <td>0.0</td>\n",
       "      <td>Winter</td>\n",
       "      <td>No Holiday</td>\n",
       "      <td>Yes</td>\n",
       "    </tr>\n",
       "    <tr>\n",
       "      <th>2</th>\n",
       "      <td>01/12/2017</td>\n",
       "      <td>173</td>\n",
       "      <td>2</td>\n",
       "      <td>-6.0</td>\n",
       "      <td>39</td>\n",
       "      <td>1.0</td>\n",
       "      <td>2000</td>\n",
       "      <td>-17.7</td>\n",
       "      <td>0.0</td>\n",
       "      <td>0.0</td>\n",
       "      <td>0.0</td>\n",
       "      <td>Winter</td>\n",
       "      <td>No Holiday</td>\n",
       "      <td>Yes</td>\n",
       "    </tr>\n",
       "  </tbody>\n",
       "</table>\n",
       "</div>"
      ],
      "text/plain": [
       "         Date  Rented Bike Count  Hour  Temperature(°C)  Humidity(%)  \\\n",
       "0  01/12/2017                254     0             -5.2           37   \n",
       "1  01/12/2017                204     1             -5.5           38   \n",
       "2  01/12/2017                173     2             -6.0           39   \n",
       "\n",
       "   Wind speed (m/s)  Visibility (10m)  Dew point temperature(°C)  \\\n",
       "0               2.2              2000                      -17.6   \n",
       "1               0.8              2000                      -17.6   \n",
       "2               1.0              2000                      -17.7   \n",
       "\n",
       "   Solar Radiation (MJ/m2)  Rainfall(mm)  Snowfall (cm) Seasons     Holiday  \\\n",
       "0                      0.0           0.0            0.0  Winter  No Holiday   \n",
       "1                      0.0           0.0            0.0  Winter  No Holiday   \n",
       "2                      0.0           0.0            0.0  Winter  No Holiday   \n",
       "\n",
       "  Functioning Day  \n",
       "0             Yes  \n",
       "1             Yes  \n",
       "2             Yes  "
      ]
     },
     "execution_count": 3,
     "metadata": {},
     "output_type": "execute_result"
    }
   ],
   "source": [
    "bike.head(3)"
   ]
  },
  {
   "cell_type": "code",
   "execution_count": 4,
   "id": "d7da1278",
   "metadata": {},
   "outputs": [
    {
     "data": {
      "text/html": [
       "<div>\n",
       "<style scoped>\n",
       "    .dataframe tbody tr th:only-of-type {\n",
       "        vertical-align: middle;\n",
       "    }\n",
       "\n",
       "    .dataframe tbody tr th {\n",
       "        vertical-align: top;\n",
       "    }\n",
       "\n",
       "    .dataframe thead th {\n",
       "        text-align: right;\n",
       "    }\n",
       "</style>\n",
       "<table border=\"1\" class=\"dataframe\">\n",
       "  <thead>\n",
       "    <tr style=\"text-align: right;\">\n",
       "      <th></th>\n",
       "      <th>Date</th>\n",
       "      <th>Rented Bike Count</th>\n",
       "      <th>Hour</th>\n",
       "      <th>Temperature(°C)</th>\n",
       "      <th>Humidity(%)</th>\n",
       "      <th>Wind speed (m/s)</th>\n",
       "      <th>Visibility (10m)</th>\n",
       "      <th>Dew point temperature(°C)</th>\n",
       "      <th>Solar Radiation (MJ/m2)</th>\n",
       "      <th>Rainfall(mm)</th>\n",
       "      <th>Snowfall (cm)</th>\n",
       "      <th>Seasons</th>\n",
       "      <th>Holiday</th>\n",
       "      <th>Functioning Day</th>\n",
       "    </tr>\n",
       "  </thead>\n",
       "  <tbody>\n",
       "    <tr>\n",
       "      <th>8757</th>\n",
       "      <td>30/11/2018</td>\n",
       "      <td>694</td>\n",
       "      <td>21</td>\n",
       "      <td>2.6</td>\n",
       "      <td>39</td>\n",
       "      <td>0.3</td>\n",
       "      <td>1968</td>\n",
       "      <td>-9.9</td>\n",
       "      <td>0.0</td>\n",
       "      <td>0.0</td>\n",
       "      <td>0.0</td>\n",
       "      <td>Autumn</td>\n",
       "      <td>No Holiday</td>\n",
       "      <td>Yes</td>\n",
       "    </tr>\n",
       "    <tr>\n",
       "      <th>8758</th>\n",
       "      <td>30/11/2018</td>\n",
       "      <td>712</td>\n",
       "      <td>22</td>\n",
       "      <td>2.1</td>\n",
       "      <td>41</td>\n",
       "      <td>1.0</td>\n",
       "      <td>1859</td>\n",
       "      <td>-9.8</td>\n",
       "      <td>0.0</td>\n",
       "      <td>0.0</td>\n",
       "      <td>0.0</td>\n",
       "      <td>Autumn</td>\n",
       "      <td>No Holiday</td>\n",
       "      <td>Yes</td>\n",
       "    </tr>\n",
       "    <tr>\n",
       "      <th>8759</th>\n",
       "      <td>30/11/2018</td>\n",
       "      <td>584</td>\n",
       "      <td>23</td>\n",
       "      <td>1.9</td>\n",
       "      <td>43</td>\n",
       "      <td>1.3</td>\n",
       "      <td>1909</td>\n",
       "      <td>-9.3</td>\n",
       "      <td>0.0</td>\n",
       "      <td>0.0</td>\n",
       "      <td>0.0</td>\n",
       "      <td>Autumn</td>\n",
       "      <td>No Holiday</td>\n",
       "      <td>Yes</td>\n",
       "    </tr>\n",
       "  </tbody>\n",
       "</table>\n",
       "</div>"
      ],
      "text/plain": [
       "            Date  Rented Bike Count  Hour  Temperature(°C)  Humidity(%)  \\\n",
       "8757  30/11/2018                694    21              2.6           39   \n",
       "8758  30/11/2018                712    22              2.1           41   \n",
       "8759  30/11/2018                584    23              1.9           43   \n",
       "\n",
       "      Wind speed (m/s)  Visibility (10m)  Dew point temperature(°C)  \\\n",
       "8757               0.3              1968                       -9.9   \n",
       "8758               1.0              1859                       -9.8   \n",
       "8759               1.3              1909                       -9.3   \n",
       "\n",
       "      Solar Radiation (MJ/m2)  Rainfall(mm)  Snowfall (cm) Seasons  \\\n",
       "8757                      0.0           0.0            0.0  Autumn   \n",
       "8758                      0.0           0.0            0.0  Autumn   \n",
       "8759                      0.0           0.0            0.0  Autumn   \n",
       "\n",
       "         Holiday Functioning Day  \n",
       "8757  No Holiday             Yes  \n",
       "8758  No Holiday             Yes  \n",
       "8759  No Holiday             Yes  "
      ]
     },
     "execution_count": 4,
     "metadata": {},
     "output_type": "execute_result"
    }
   ],
   "source": [
    "bike.tail(3)"
   ]
  },
  {
   "cell_type": "code",
   "execution_count": 5,
   "id": "ce60c0ee",
   "metadata": {},
   "outputs": [
    {
     "data": {
      "text/plain": [
       "(8760, 14)"
      ]
     },
     "execution_count": 5,
     "metadata": {},
     "output_type": "execute_result"
    }
   ],
   "source": [
    "bike.shape"
   ]
  },
  {
   "cell_type": "code",
   "execution_count": 6,
   "id": "10c051a7",
   "metadata": {},
   "outputs": [
    {
     "data": {
      "text/html": [
       "<div>\n",
       "<style scoped>\n",
       "    .dataframe tbody tr th:only-of-type {\n",
       "        vertical-align: middle;\n",
       "    }\n",
       "\n",
       "    .dataframe tbody tr th {\n",
       "        vertical-align: top;\n",
       "    }\n",
       "\n",
       "    .dataframe thead th {\n",
       "        text-align: right;\n",
       "    }\n",
       "</style>\n",
       "<table border=\"1\" class=\"dataframe\">\n",
       "  <thead>\n",
       "    <tr style=\"text-align: right;\">\n",
       "      <th></th>\n",
       "      <th>Rented Bike Count</th>\n",
       "      <th>Hour</th>\n",
       "      <th>Temperature(°C)</th>\n",
       "      <th>Humidity(%)</th>\n",
       "      <th>Wind speed (m/s)</th>\n",
       "      <th>Visibility (10m)</th>\n",
       "      <th>Dew point temperature(°C)</th>\n",
       "      <th>Solar Radiation (MJ/m2)</th>\n",
       "      <th>Rainfall(mm)</th>\n",
       "      <th>Snowfall (cm)</th>\n",
       "    </tr>\n",
       "  </thead>\n",
       "  <tbody>\n",
       "    <tr>\n",
       "      <th>count</th>\n",
       "      <td>8760.000000</td>\n",
       "      <td>8760.000000</td>\n",
       "      <td>8760.000000</td>\n",
       "      <td>8760.000000</td>\n",
       "      <td>8760.000000</td>\n",
       "      <td>8760.000000</td>\n",
       "      <td>8760.000000</td>\n",
       "      <td>8760.000000</td>\n",
       "      <td>8760.000000</td>\n",
       "      <td>8760.000000</td>\n",
       "    </tr>\n",
       "    <tr>\n",
       "      <th>mean</th>\n",
       "      <td>704.602055</td>\n",
       "      <td>11.500000</td>\n",
       "      <td>12.882922</td>\n",
       "      <td>58.226256</td>\n",
       "      <td>1.724909</td>\n",
       "      <td>1436.825799</td>\n",
       "      <td>4.073813</td>\n",
       "      <td>0.569111</td>\n",
       "      <td>0.148687</td>\n",
       "      <td>0.075068</td>\n",
       "    </tr>\n",
       "    <tr>\n",
       "      <th>std</th>\n",
       "      <td>644.997468</td>\n",
       "      <td>6.922582</td>\n",
       "      <td>11.944825</td>\n",
       "      <td>20.362413</td>\n",
       "      <td>1.036300</td>\n",
       "      <td>608.298712</td>\n",
       "      <td>13.060369</td>\n",
       "      <td>0.868746</td>\n",
       "      <td>1.128193</td>\n",
       "      <td>0.436746</td>\n",
       "    </tr>\n",
       "    <tr>\n",
       "      <th>min</th>\n",
       "      <td>0.000000</td>\n",
       "      <td>0.000000</td>\n",
       "      <td>-17.800000</td>\n",
       "      <td>0.000000</td>\n",
       "      <td>0.000000</td>\n",
       "      <td>27.000000</td>\n",
       "      <td>-30.600000</td>\n",
       "      <td>0.000000</td>\n",
       "      <td>0.000000</td>\n",
       "      <td>0.000000</td>\n",
       "    </tr>\n",
       "    <tr>\n",
       "      <th>25%</th>\n",
       "      <td>191.000000</td>\n",
       "      <td>5.750000</td>\n",
       "      <td>3.500000</td>\n",
       "      <td>42.000000</td>\n",
       "      <td>0.900000</td>\n",
       "      <td>940.000000</td>\n",
       "      <td>-4.700000</td>\n",
       "      <td>0.000000</td>\n",
       "      <td>0.000000</td>\n",
       "      <td>0.000000</td>\n",
       "    </tr>\n",
       "    <tr>\n",
       "      <th>50%</th>\n",
       "      <td>504.500000</td>\n",
       "      <td>11.500000</td>\n",
       "      <td>13.700000</td>\n",
       "      <td>57.000000</td>\n",
       "      <td>1.500000</td>\n",
       "      <td>1698.000000</td>\n",
       "      <td>5.100000</td>\n",
       "      <td>0.010000</td>\n",
       "      <td>0.000000</td>\n",
       "      <td>0.000000</td>\n",
       "    </tr>\n",
       "    <tr>\n",
       "      <th>75%</th>\n",
       "      <td>1065.250000</td>\n",
       "      <td>17.250000</td>\n",
       "      <td>22.500000</td>\n",
       "      <td>74.000000</td>\n",
       "      <td>2.300000</td>\n",
       "      <td>2000.000000</td>\n",
       "      <td>14.800000</td>\n",
       "      <td>0.930000</td>\n",
       "      <td>0.000000</td>\n",
       "      <td>0.000000</td>\n",
       "    </tr>\n",
       "    <tr>\n",
       "      <th>max</th>\n",
       "      <td>3556.000000</td>\n",
       "      <td>23.000000</td>\n",
       "      <td>39.400000</td>\n",
       "      <td>98.000000</td>\n",
       "      <td>7.400000</td>\n",
       "      <td>2000.000000</td>\n",
       "      <td>27.200000</td>\n",
       "      <td>3.520000</td>\n",
       "      <td>35.000000</td>\n",
       "      <td>8.800000</td>\n",
       "    </tr>\n",
       "  </tbody>\n",
       "</table>\n",
       "</div>"
      ],
      "text/plain": [
       "       Rented Bike Count         Hour  Temperature(°C)  Humidity(%)  \\\n",
       "count        8760.000000  8760.000000      8760.000000  8760.000000   \n",
       "mean          704.602055    11.500000        12.882922    58.226256   \n",
       "std           644.997468     6.922582        11.944825    20.362413   \n",
       "min             0.000000     0.000000       -17.800000     0.000000   \n",
       "25%           191.000000     5.750000         3.500000    42.000000   \n",
       "50%           504.500000    11.500000        13.700000    57.000000   \n",
       "75%          1065.250000    17.250000        22.500000    74.000000   \n",
       "max          3556.000000    23.000000        39.400000    98.000000   \n",
       "\n",
       "       Wind speed (m/s)  Visibility (10m)  Dew point temperature(°C)  \\\n",
       "count       8760.000000       8760.000000                8760.000000   \n",
       "mean           1.724909       1436.825799                   4.073813   \n",
       "std            1.036300        608.298712                  13.060369   \n",
       "min            0.000000         27.000000                 -30.600000   \n",
       "25%            0.900000        940.000000                  -4.700000   \n",
       "50%            1.500000       1698.000000                   5.100000   \n",
       "75%            2.300000       2000.000000                  14.800000   \n",
       "max            7.400000       2000.000000                  27.200000   \n",
       "\n",
       "       Solar Radiation (MJ/m2)  Rainfall(mm)  Snowfall (cm)  \n",
       "count              8760.000000   8760.000000    8760.000000  \n",
       "mean                  0.569111      0.148687       0.075068  \n",
       "std                   0.868746      1.128193       0.436746  \n",
       "min                   0.000000      0.000000       0.000000  \n",
       "25%                   0.000000      0.000000       0.000000  \n",
       "50%                   0.010000      0.000000       0.000000  \n",
       "75%                   0.930000      0.000000       0.000000  \n",
       "max                   3.520000     35.000000       8.800000  "
      ]
     },
     "execution_count": 6,
     "metadata": {},
     "output_type": "execute_result"
    }
   ],
   "source": [
    "bike.describe()"
   ]
  },
  {
   "cell_type": "code",
   "execution_count": 7,
   "id": "1525f72d",
   "metadata": {},
   "outputs": [
    {
     "name": "stdout",
     "output_type": "stream",
     "text": [
      "<class 'pandas.core.frame.DataFrame'>\n",
      "RangeIndex: 8760 entries, 0 to 8759\n",
      "Data columns (total 14 columns):\n",
      " #   Column                     Non-Null Count  Dtype  \n",
      "---  ------                     --------------  -----  \n",
      " 0   Date                       8760 non-null   object \n",
      " 1   Rented Bike Count          8760 non-null   int64  \n",
      " 2   Hour                       8760 non-null   int64  \n",
      " 3   Temperature(°C)            8760 non-null   float64\n",
      " 4   Humidity(%)                8760 non-null   int64  \n",
      " 5   Wind speed (m/s)           8760 non-null   float64\n",
      " 6   Visibility (10m)           8760 non-null   int64  \n",
      " 7   Dew point temperature(°C)  8760 non-null   float64\n",
      " 8   Solar Radiation (MJ/m2)    8760 non-null   float64\n",
      " 9   Rainfall(mm)               8760 non-null   float64\n",
      " 10  Snowfall (cm)              8760 non-null   float64\n",
      " 11  Seasons                    8760 non-null   object \n",
      " 12  Holiday                    8760 non-null   object \n",
      " 13  Functioning Day            8760 non-null   object \n",
      "dtypes: float64(6), int64(4), object(4)\n",
      "memory usage: 958.3+ KB\n"
     ]
    }
   ],
   "source": [
    "bike.info()"
   ]
  },
  {
   "cell_type": "markdown",
   "id": "d554ad98",
   "metadata": {},
   "source": [
    "## Changing from categorical to numerical"
   ]
  },
  {
   "cell_type": "code",
   "execution_count": 8,
   "id": "49481691",
   "metadata": {},
   "outputs": [
    {
     "data": {
      "text/plain": [
       "array(['Winter', 'Spring', 'Summer', 'Autumn'], dtype=object)"
      ]
     },
     "execution_count": 8,
     "metadata": {},
     "output_type": "execute_result"
    }
   ],
   "source": [
    "bike[\"Seasons\"].unique()"
   ]
  },
  {
   "cell_type": "code",
   "execution_count": 9,
   "id": "71933fa1",
   "metadata": {},
   "outputs": [
    {
     "data": {
      "text/plain": [
       "array(['No Holiday', 'Holiday'], dtype=object)"
      ]
     },
     "execution_count": 9,
     "metadata": {},
     "output_type": "execute_result"
    }
   ],
   "source": [
    "bike[\"Holiday\"].unique()"
   ]
  },
  {
   "cell_type": "code",
   "execution_count": 10,
   "id": "9cddce80",
   "metadata": {},
   "outputs": [
    {
     "data": {
      "text/plain": [
       "array(['Yes', 'No'], dtype=object)"
      ]
     },
     "execution_count": 10,
     "metadata": {},
     "output_type": "execute_result"
    }
   ],
   "source": [
    "bike[\"Functioning Day\"].unique()"
   ]
  },
  {
   "cell_type": "code",
   "execution_count": 11,
   "id": "5b553529",
   "metadata": {},
   "outputs": [],
   "source": [
    "bike['Seasons'].replace('Winter', 0, inplace = True)\n",
    "bike['Seasons'].replace('Spring', 1, inplace = True)\n",
    "bike['Seasons'].replace('Summer', 2, inplace = True)\n",
    "bike['Seasons'].replace('Autumn', 3, inplace = True)"
   ]
  },
  {
   "cell_type": "code",
   "execution_count": 12,
   "id": "9b709716",
   "metadata": {},
   "outputs": [
    {
     "data": {
      "text/plain": [
       "8758    3\n",
       "8759    3\n",
       "Name: Seasons, dtype: int64"
      ]
     },
     "execution_count": 12,
     "metadata": {},
     "output_type": "execute_result"
    }
   ],
   "source": [
    "bike['Seasons'].tail(2)"
   ]
  },
  {
   "cell_type": "code",
   "execution_count": 13,
   "id": "4a633542",
   "metadata": {},
   "outputs": [],
   "source": [
    "bike[\"Holiday\"].replace('No Holiday', 0, inplace = True)\n",
    "bike[\"Holiday\"].replace('Holiday', 1, inplace = True)"
   ]
  },
  {
   "cell_type": "code",
   "execution_count": 14,
   "id": "168799a7",
   "metadata": {},
   "outputs": [
    {
     "data": {
      "text/plain": [
       "8758    0\n",
       "8759    0\n",
       "Name: Holiday, dtype: int64"
      ]
     },
     "execution_count": 14,
     "metadata": {},
     "output_type": "execute_result"
    }
   ],
   "source": [
    "bike[\"Holiday\"].tail(2)"
   ]
  },
  {
   "cell_type": "code",
   "execution_count": 15,
   "id": "2d461b05",
   "metadata": {},
   "outputs": [],
   "source": [
    "bike[\"Functioning Day\"].replace('No', 0, inplace = True)\n",
    "bike[\"Functioning Day\"].replace('Yes', 1, inplace = True)"
   ]
  },
  {
   "cell_type": "code",
   "execution_count": 16,
   "id": "de4649aa",
   "metadata": {},
   "outputs": [
    {
     "data": {
      "text/plain": [
       "8758    1\n",
       "8759    1\n",
       "Name: Functioning Day, dtype: int64"
      ]
     },
     "execution_count": 16,
     "metadata": {},
     "output_type": "execute_result"
    }
   ],
   "source": [
    "bike[\"Functioning Day\"].tail(2)"
   ]
  },
  {
   "cell_type": "markdown",
   "id": "3f5ded7f",
   "metadata": {},
   "source": []
  },
  {
   "cell_type": "markdown",
   "id": "9b8617ba",
   "metadata": {},
   "source": [
    "# Graphics "
   ]
  },
  {
   "cell_type": "markdown",
   "id": "b7a66de9",
   "metadata": {},
   "source": [
    "sns.histplot(data = bike, y = \"Rented Bike Count\", x = \"Hour\")"
   ]
  },
  {
   "cell_type": "markdown",
   "id": "9a9f97d3",
   "metadata": {},
   "source": [
    "sns.histplot(data = bike, x = \"Holiday\")"
   ]
  },
  {
   "cell_type": "markdown",
   "id": "4344e869",
   "metadata": {},
   "source": []
  },
  {
   "cell_type": "markdown",
   "id": "f52f9faf",
   "metadata": {},
   "source": [
    "sns.histplot(data = bike, x = \"Functioning Day\")"
   ]
  },
  {
   "cell_type": "markdown",
   "id": "0dbb515f",
   "metadata": {},
   "source": []
  },
  {
   "cell_type": "markdown",
   "id": "27e3f8db",
   "metadata": {
    "scrolled": false
   },
   "source": [
    "sns.histplot(data = bike, x = \"Rented Bike Count\")"
   ]
  },
  {
   "cell_type": "markdown",
   "id": "4b638edd",
   "metadata": {},
   "source": [
    "sns.histplot(data = bike, x = \"Temperature(°C)\")"
   ]
  },
  {
   "cell_type": "markdown",
   "id": "28f862ac",
   "metadata": {},
   "source": [
    "sns.histplot(data = bike, x = \"Humidity(%)\")\n",
    "\n"
   ]
  },
  {
   "cell_type": "markdown",
   "id": "7e3b5b69",
   "metadata": {},
   "source": [
    "sns.histplot(data = bike, x = \"Wind speed (m/s)\")\n",
    "\n"
   ]
  },
  {
   "cell_type": "markdown",
   "id": "9eae0515",
   "metadata": {},
   "source": [
    "sns.histplot(data = bike, x = \"Visibility (10m)\")"
   ]
  },
  {
   "cell_type": "markdown",
   "id": "a5bcb0bb",
   "metadata": {},
   "source": [
    "sns.histplot(data = bike, x = \"Dew point temperature(°C)\")"
   ]
  },
  {
   "cell_type": "markdown",
   "id": "adc3744c",
   "metadata": {},
   "source": [
    "sns.histplot(data = bike, x = \"Solar Radiation (MJ/m2)\")\n"
   ]
  },
  {
   "cell_type": "markdown",
   "id": "e5fc2ba5",
   "metadata": {},
   "source": [
    "sns.histplot(data = bike, x = \"Rainfall(mm)\")"
   ]
  },
  {
   "cell_type": "markdown",
   "id": "b48980c8",
   "metadata": {},
   "source": [
    "sns.histplot(data = bike, x = \"Snowfall (cm)\")"
   ]
  },
  {
   "cell_type": "markdown",
   "id": "f98697b8",
   "metadata": {},
   "source": [
    "sns.histplot(data = bike, x = \"Seasons\")"
   ]
  },
  {
   "cell_type": "markdown",
   "id": "ca143f37",
   "metadata": {},
   "source": [
    "The bikes have been used equally throughout the seasons "
   ]
  },
  {
   "cell_type": "markdown",
   "id": "bd615d3f",
   "metadata": {},
   "source": [
    "The seasons have the same amount of observations but the number of rented bikes are different between seasons"
   ]
  },
  {
   "cell_type": "markdown",
   "id": "89a558a7",
   "metadata": {},
   "source": [
    "bike.head(1)"
   ]
  },
  {
   "cell_type": "markdown",
   "id": "fc44aa3b",
   "metadata": {},
   "source": [
    "bike.plot(x = \"Temperature(°C)\", y = \"Rented Bike Count\", style = \"*\")\n",
    "plt.title(\"Rented Bike Count vs Temperature(°C)\")\n",
    "plt.xlabel(\"Temperature(°C)\")\n",
    "plt.ylabel(\"Rented Bike Count\")\n",
    "plt.show()"
   ]
  },
  {
   "cell_type": "markdown",
   "id": "0ff3f65f",
   "metadata": {},
   "source": [
    "bike.plot(x = \"Hour\", y = \"Rented Bike Count\", style = \"*\")\n",
    "plt.title(\"Rented Bike Count vs Hour\")\n",
    "plt.xlabel(\"Hour\")\n",
    "plt.ylabel(\"Rented Bike Count\")\n",
    "plt.show()"
   ]
  },
  {
   "cell_type": "markdown",
   "id": "b05d02d0",
   "metadata": {},
   "source": [
    "sns.histplot(data = bike, x = \"Seasons\", y = \"Rented Bike Count\")"
   ]
  },
  {
   "cell_type": "markdown",
   "id": "5d391499",
   "metadata": {},
   "source": [
    "('Winter', 0, inplace = True)\n",
    "('Spring', 1, inplace = True)\n",
    "('Summer', 2, inplace = True)\n",
    "('Autumn', 3, inplace = True)"
   ]
  },
  {
   "cell_type": "markdown",
   "id": "551fcf49",
   "metadata": {},
   "source": [
    "sns.histplot(data = bike, x = \"Seasons\", y = \"Temperature(°C)\")"
   ]
  },
  {
   "cell_type": "markdown",
   "id": "ccc42cc7",
   "metadata": {},
   "source": [
    "sns.boxplot(data = bike[\"Rented Bike Count\"])"
   ]
  },
  {
   "cell_type": "markdown",
   "id": "e97e4996",
   "metadata": {},
   "source": [
    "sns.boxplot(data = bike[\"Temperature(°C)\"])"
   ]
  },
  {
   "cell_type": "markdown",
   "id": "96ec0b6c",
   "metadata": {},
   "source": [
    " sns.boxplot(data = bike[\"Visibility (10m)\"])"
   ]
  },
  {
   "cell_type": "markdown",
   "id": "2e489789",
   "metadata": {},
   "source": []
  },
  {
   "cell_type": "markdown",
   "id": "82dc2cc5",
   "metadata": {},
   "source": [
    "# Correlation"
   ]
  },
  {
   "cell_type": "markdown",
   "id": "3405e80a",
   "metadata": {},
   "source": [
    "bike.head(3)"
   ]
  },
  {
   "cell_type": "markdown",
   "id": "c85bf135",
   "metadata": {},
   "source": [
    "bike_d = bike.drop([\"Date\"], axis = 1)"
   ]
  },
  {
   "cell_type": "markdown",
   "id": "3493c839",
   "metadata": {},
   "source": [
    "bike_d.head(3)"
   ]
  },
  {
   "cell_type": "markdown",
   "id": "acd8c52d",
   "metadata": {},
   "source": [
    "from statsmodels.stats.outliers_influence import variance_inflation_factor\n",
    "\n",
    "vif_data = pd.DataFrame()\n",
    "vif_data[\"Variable\"] = bike_d.columns\n",
    "vif_data[\"VIF\"] = [variance_inflation_factor(bike_d.values, i) for i in range(bike_d.shape[1])]\n",
    "print(vif_data)"
   ]
  },
  {
   "cell_type": "markdown",
   "id": "d0787800",
   "metadata": {},
   "source": [
    "corr_matrix = np.corrcoef(bike_d, rowvar = False)\n",
    "\n",
    "sns.heatmap(corr_matrix, annot = True, cmap = 'coolwarm', fmt = '.2f', \n",
    "            xticklabels = range(bike_d.shape[1]), yticklabels = range(bike_d.shape[1]))\n",
    "plt.title(\"Feature Correlation Matrix\")\n",
    "plt.show()"
   ]
  },
  {
   "cell_type": "markdown",
   "id": "47b0ce43",
   "metadata": {},
   "source": [
    "The highest correlations are between: \n",
    "- Rented Bike Count & Temperature(°C) = 0.54 (0 & 2)\n",
    "- Temperature(°C) & Dew point temperature(°C) = 0.91 (2 & 6)\n",
    "- Temperature(°C) & Seasons = 0.59 (2 & 10)\n",
    "- Humidity(%) & Visibility (10m) = 0.54 (3 & 5)\n",
    "- Humidity(%) & Dew point temperature(°C) = 0.54 (3 & 6)\n",
    "- Dew point temperature(°C) & Seasons = 0.58 (6 & 10)"
   ]
  },
  {
   "cell_type": "markdown",
   "id": "e49f9512",
   "metadata": {},
   "source": [
    "import numpy as np\n",
    "\n",
    "eigenvalues, _ = np.linalg.eig(corr_matrix)\n",
    "print(\"Eigenvalues:\", eigenvalues)\n"
   ]
  },
  {
   "cell_type": "markdown",
   "id": "1abe2c34",
   "metadata": {},
   "source": [
    "condition_number = np.sqrt(np.max(eigenvalues) / np.min(eigenvalues))\n",
    "print(\"Condition Number:\", condition_number)\n"
   ]
  },
  {
   "cell_type": "markdown",
   "id": "8260248c",
   "metadata": {},
   "source": [
    "def find_highly_correlated_vars(corr_matrix, threshold = 0.5):\n",
    "    if isinstance(corr_matrix, pd.DataFrame):\n",
    "        corr_matrix = corr_matrix.values\n",
    "    rows, cols = np.where(np.abs(corr_matrix) > threshold)\n",
    "    unique_pairs = set((min(r, c), max(r, c)) for r, c in zip(rows, cols) if r != c)\n",
    "    return list(unique_pairs)\n",
    "\n",
    "corr_matrix = bike_d.corr()\n",
    "highly_corr_vars = find_highly_correlated_vars(corr_matrix, threshold=0.5)\n",
    "\n",
    "print(\"Pairs of highly correlated variables:\", highly_corr_vars)"
   ]
  },
  {
   "cell_type": "markdown",
   "id": "dc574245",
   "metadata": {},
   "source": [
    "bike_d.head(1)"
   ]
  },
  {
   "cell_type": "markdown",
   "id": "7f3da89e",
   "metadata": {
    "scrolled": false
   },
   "source": [
    "sns.pairplot(bike[[\"Rented Bike Count\", \"Temperature(°C)\"]])\n",
    "\n",
    "#sns.pairplot(bike[[\"Rented Bike Count\", \"Seasons\"]])\n",
    "\n",
    "sns.pairplot(bike[[\"Temperature(°C)\", \"Dew point temperature(°C)\"]])\n",
    "\n",
    "sns.pairplot(bike[[\"Temperature(°C)\", \"Seasons\"]])\n",
    "\n",
    "sns.pairplot(bike[[\"Humidity(%)\", \"Visibility (10m)\"]])\n",
    "\n",
    "sns.pairplot(bike[[\"Humidity(%)\", \"Dew point temperature(°C)\"]])\n",
    "\n",
    "sns.pairplot(bike[[\"Dew point temperature(°C)\", \"Seasons\"]])"
   ]
  },
  {
   "cell_type": "markdown",
   "id": "686a6bcf",
   "metadata": {},
   "source": [
    "Rented Bike Count & Temperature(°C) = 0.54 (0 & 2)\n",
    "\n",
    "Temperature(°C) & Dew point temperature(°C) = 0.91 (2 & 6)\n",
    "\n",
    "Temperature(°C) & Seasons = 0.59 (2 & 10)\n",
    "\n",
    "Humidity(%) & Visibility (10m) = 0.54 (3 & 5)\n",
    "\n",
    "Humidity(%) & Dew point temperature(°C) = 0.54 (3 & 6)\n",
    "Dew point temperature(°C) & Seasons = 0.58 (6 & 10"
   ]
  },
  {
   "cell_type": "markdown",
   "id": "f341a7b9",
   "metadata": {},
   "source": [
    "Multicollinearity"
   ]
  },
  {
   "cell_type": "markdown",
   "id": "ea8fb6a3",
   "metadata": {},
   "source": [
    "X = bike_d.iloc[:, 1:]  # All rows, columns from index 1 onwards (excluding the first column)\n",
    "y = bike_d.iloc[:, 0]   # All rows, only the first column"
   ]
  },
  {
   "cell_type": "code",
   "execution_count": 17,
   "id": "1a7078a1",
   "metadata": {},
   "outputs": [],
   "source": [
    "bike_d2 = bike.drop([\"Date\", \"Visibility (10m)\", \"Dew point temperature(°C)\", \"Seasons\", \"Holiday\", \"Functioning Day\"], axis = 1)"
   ]
  },
  {
   "cell_type": "code",
   "execution_count": 18,
   "id": "de5b431d",
   "metadata": {},
   "outputs": [
    {
     "data": {
      "text/html": [
       "<div>\n",
       "<style scoped>\n",
       "    .dataframe tbody tr th:only-of-type {\n",
       "        vertical-align: middle;\n",
       "    }\n",
       "\n",
       "    .dataframe tbody tr th {\n",
       "        vertical-align: top;\n",
       "    }\n",
       "\n",
       "    .dataframe thead th {\n",
       "        text-align: right;\n",
       "    }\n",
       "</style>\n",
       "<table border=\"1\" class=\"dataframe\">\n",
       "  <thead>\n",
       "    <tr style=\"text-align: right;\">\n",
       "      <th></th>\n",
       "      <th>Rented Bike Count</th>\n",
       "      <th>Hour</th>\n",
       "      <th>Temperature(°C)</th>\n",
       "      <th>Humidity(%)</th>\n",
       "      <th>Wind speed (m/s)</th>\n",
       "      <th>Solar Radiation (MJ/m2)</th>\n",
       "      <th>Rainfall(mm)</th>\n",
       "      <th>Snowfall (cm)</th>\n",
       "    </tr>\n",
       "  </thead>\n",
       "  <tbody>\n",
       "    <tr>\n",
       "      <th>0</th>\n",
       "      <td>254</td>\n",
       "      <td>0</td>\n",
       "      <td>-5.2</td>\n",
       "      <td>37</td>\n",
       "      <td>2.2</td>\n",
       "      <td>0.0</td>\n",
       "      <td>0.0</td>\n",
       "      <td>0.0</td>\n",
       "    </tr>\n",
       "    <tr>\n",
       "      <th>1</th>\n",
       "      <td>204</td>\n",
       "      <td>1</td>\n",
       "      <td>-5.5</td>\n",
       "      <td>38</td>\n",
       "      <td>0.8</td>\n",
       "      <td>0.0</td>\n",
       "      <td>0.0</td>\n",
       "      <td>0.0</td>\n",
       "    </tr>\n",
       "  </tbody>\n",
       "</table>\n",
       "</div>"
      ],
      "text/plain": [
       "   Rented Bike Count  Hour  Temperature(°C)  Humidity(%)  Wind speed (m/s)  \\\n",
       "0                254     0             -5.2           37               2.2   \n",
       "1                204     1             -5.5           38               0.8   \n",
       "\n",
       "   Solar Radiation (MJ/m2)  Rainfall(mm)  Snowfall (cm)  \n",
       "0                      0.0           0.0            0.0  \n",
       "1                      0.0           0.0            0.0  "
      ]
     },
     "execution_count": 18,
     "metadata": {},
     "output_type": "execute_result"
    }
   ],
   "source": [
    "bike_d2.head(2)"
   ]
  },
  {
   "cell_type": "code",
   "execution_count": 90,
   "id": "bf1272e5",
   "metadata": {},
   "outputs": [
    {
     "data": {
      "image/png": "[encoded data removed]",
      "text/plain": [
       "<Figure size 640x480 with 2 Axes>"
      ]
     },
     "metadata": {},
     "output_type": "display_data"
    }
   ],
   "source": [
    "corr_matrix = np.corrcoef(bike_d2, rowvar = False)\n",
    "\n",
    "sns.heatmap(corr_matrix, annot = True, cmap = 'coolwarm', fmt = '.2f', \n",
    "            xticklabels = range(bike_d2.shape[1]), yticklabels = range(bike_d2.shape[1]))\n",
    "plt.title(\"Feature Correlation Matrix\")\n",
    "plt.show()"
   ]
  },
  {
   "cell_type": "code",
   "execution_count": 91,
   "id": "8145b0a8",
   "metadata": {},
   "outputs": [
    {
     "name": "stdout",
     "output_type": "stream",
     "text": [
      "Eigenvalues: [2.30501078 1.48845607 0.22373965 0.43508645 0.62660268 0.8840208\n",
      " 0.96495307 1.07213051]\n"
     ]
    }
   ],
   "source": [
    "import numpy as np\n",
    "\n",
    "eigenvalues, _ = np.linalg.eig(corr_matrix)\n",
    "print(\"Eigenvalues:\", eigenvalues)"
   ]
  },
  {
   "cell_type": "code",
   "execution_count": 92,
   "id": "3d127557",
   "metadata": {},
   "outputs": [
    {
     "name": "stdout",
     "output_type": "stream",
     "text": [
      "Condition Number: 3.2097041653301455\n"
     ]
    }
   ],
   "source": [
    "condition_number = np.sqrt(np.max(eigenvalues) / np.min(eigenvalues))\n",
    "print(\"Condition Number:\", condition_number)"
   ]
  },
  {
   "cell_type": "code",
   "execution_count": 94,
   "id": "e59917cc",
   "metadata": {},
   "outputs": [
    {
     "name": "stdout",
     "output_type": "stream",
     "text": [
      "Pairs of highly correlated variables: [(0, 2)]\n"
     ]
    }
   ],
   "source": [
    "def find_highly_correlated_vars(corr_matrix, threshold = 0.5):\n",
    "    if isinstance(corr_matrix, pd.DataFrame):\n",
    "        corr_matrix = corr_matrix.values\n",
    "    rows, cols = np.where(np.abs(corr_matrix) > threshold)\n",
    "    unique_pairs = set((min(r, c), max(r, c)) for r, c in zip(rows, cols) if r != c)\n",
    "    return list(unique_pairs)\n",
    "\n",
    "corr_matrix = bike_d2.corr()\n",
    "highly_corr_vars = find_highly_correlated_vars(corr_matrix, threshold=0.5)\n",
    "\n",
    "print(\"Pairs of highly correlated variables:\", highly_corr_vars)"
   ]
  },
  {
   "cell_type": "code",
   "execution_count": null,
   "id": "9a8432e1",
   "metadata": {},
   "outputs": [],
   "source": []
  },
  {
   "cell_type": "code",
   "execution_count": null,
   "id": "5a3fe98c",
   "metadata": {},
   "outputs": [],
   "source": []
  },
  {
   "cell_type": "code",
   "execution_count": 95,
   "id": "ba5f429f",
   "metadata": {},
   "outputs": [
    {
     "data": {
      "text/html": [
       "<div>\n",
       "<style scoped>\n",
       "    .dataframe tbody tr th:only-of-type {\n",
       "        vertical-align: middle;\n",
       "    }\n",
       "\n",
       "    .dataframe tbody tr th {\n",
       "        vertical-align: top;\n",
       "    }\n",
       "\n",
       "    .dataframe thead th {\n",
       "        text-align: right;\n",
       "    }\n",
       "</style>\n",
       "<table border=\"1\" class=\"dataframe\">\n",
       "  <thead>\n",
       "    <tr style=\"text-align: right;\">\n",
       "      <th></th>\n",
       "      <th>Rented Bike Count</th>\n",
       "      <th>Hour</th>\n",
       "      <th>Temperature(°C)</th>\n",
       "      <th>Humidity(%)</th>\n",
       "      <th>Wind speed (m/s)</th>\n",
       "      <th>Solar Radiation (MJ/m2)</th>\n",
       "      <th>Rainfall(mm)</th>\n",
       "      <th>Snowfall (cm)</th>\n",
       "    </tr>\n",
       "  </thead>\n",
       "  <tbody>\n",
       "    <tr>\n",
       "      <th>0</th>\n",
       "      <td>254</td>\n",
       "      <td>0</td>\n",
       "      <td>-5.2</td>\n",
       "      <td>37</td>\n",
       "      <td>2.2</td>\n",
       "      <td>0.0</td>\n",
       "      <td>0.0</td>\n",
       "      <td>0.0</td>\n",
       "    </tr>\n",
       "    <tr>\n",
       "      <th>1</th>\n",
       "      <td>204</td>\n",
       "      <td>1</td>\n",
       "      <td>-5.5</td>\n",
       "      <td>38</td>\n",
       "      <td>0.8</td>\n",
       "      <td>0.0</td>\n",
       "      <td>0.0</td>\n",
       "      <td>0.0</td>\n",
       "    </tr>\n",
       "  </tbody>\n",
       "</table>\n",
       "</div>"
      ],
      "text/plain": [
       "   Rented Bike Count  Hour  Temperature(°C)  Humidity(%)  Wind speed (m/s)  \\\n",
       "0                254     0             -5.2           37               2.2   \n",
       "1                204     1             -5.5           38               0.8   \n",
       "\n",
       "   Solar Radiation (MJ/m2)  Rainfall(mm)  Snowfall (cm)  \n",
       "0                      0.0           0.0            0.0  \n",
       "1                      0.0           0.0            0.0  "
      ]
     },
     "execution_count": 95,
     "metadata": {},
     "output_type": "execute_result"
    }
   ],
   "source": [
    "bike_d2.head(2)"
   ]
  },
  {
   "cell_type": "code",
   "execution_count": 19,
   "id": "2e4a3862",
   "metadata": {},
   "outputs": [],
   "source": [
    "bike_array = bike_d2.values"
   ]
  },
  {
   "cell_type": "code",
   "execution_count": 20,
   "id": "031a6c1e",
   "metadata": {},
   "outputs": [],
   "source": [
    "X = bike_array[:, 1:]\n",
    "\n",
    "y = bike_array[:, 0]"
   ]
  },
  {
   "cell_type": "code",
   "execution_count": 21,
   "id": "68998cc4",
   "metadata": {},
   "outputs": [
    {
     "data": {
      "text/plain": [
       "array([254., 204., 173., ..., 694., 712., 584.])"
      ]
     },
     "execution_count": 21,
     "metadata": {},
     "output_type": "execute_result"
    }
   ],
   "source": [
    "y"
   ]
  },
  {
   "cell_type": "code",
   "execution_count": 22,
   "id": "90223a12",
   "metadata": {},
   "outputs": [
    {
     "data": {
      "text/plain": [
       "array([[ 0. , -5.2, 37. , ...,  0. ,  0. ,  0. ],\n",
       "       [ 1. , -5.5, 38. , ...,  0. ,  0. ,  0. ],\n",
       "       [ 2. , -6. , 39. , ...,  0. ,  0. ,  0. ],\n",
       "       ...,\n",
       "       [21. ,  2.6, 39. , ...,  0. ,  0. ,  0. ],\n",
       "       [22. ,  2.1, 41. , ...,  0. ,  0. ,  0. ],\n",
       "       [23. ,  1.9, 43. , ...,  0. ,  0. ,  0. ]])"
      ]
     },
     "execution_count": 22,
     "metadata": {},
     "output_type": "execute_result"
    }
   ],
   "source": [
    "X"
   ]
  },
  {
   "cell_type": "code",
   "execution_count": 23,
   "id": "898ac511",
   "metadata": {},
   "outputs": [],
   "source": [
    "X_train, X_test, y_train, y_test = train_test_split(X, y, test_size = 0.2, random_state = 12)"
   ]
  },
  {
   "cell_type": "code",
   "execution_count": 24,
   "id": "20e33953",
   "metadata": {},
   "outputs": [
    {
     "data": {
      "text/plain": [
       "((8760, 7), (8760,), (7008, 7), (1752, 7), (7008,), (1752,))"
      ]
     },
     "execution_count": 24,
     "metadata": {},
     "output_type": "execute_result"
    }
   ],
   "source": [
    "X.shape, y.shape, X_train.shape, X_test.shape, y_train.shape, y_test.shape"
   ]
  },
  {
   "cell_type": "code",
   "execution_count": 25,
   "id": "aea68f3d",
   "metadata": {},
   "outputs": [],
   "source": [
    "scaler = MinMaxScaler()\n",
    "\n",
    "scaler.fit(X_train)\n",
    "\n",
    "X_train_scaled = scaler.transform(X_train)\n",
    "\n",
    "X_test_scaled  = scaler.transform(X_test)\n",
    "\n",
    "X_scaled = scaler.transform(X)"
   ]
  },
  {
   "cell_type": "markdown",
   "id": "74fe5b3d",
   "metadata": {},
   "source": [
    "# Models"
   ]
  },
  {
   "cell_type": "markdown",
   "id": "590b4100",
   "metadata": {},
   "source": [
    "# Linear Regression"
   ]
  },
  {
   "cell_type": "code",
   "execution_count": 26,
   "id": "5c2a959c",
   "metadata": {},
   "outputs": [],
   "source": [
    "from sklearn.linear_model import LinearRegression"
   ]
  },
  {
   "cell_type": "code",
   "execution_count": 27,
   "id": "35d12d92",
   "metadata": {},
   "outputs": [
    {
     "name": "stdout",
     "output_type": "stream",
     "text": [
      "Mean Squared Error: 216628.77814566\n",
      "Root Mean Squared Error: 465.43396754605266\n",
      "R-squared: 0.46398066023961204\n",
      "Adjusted R-squared: 0.46182920646763803\n"
     ]
    }
   ],
   "source": [
    "linear_reg = LinearRegression()\n",
    "\n",
    "linear_reg.fit(X_train_scaled, y_train)\n",
    "\n",
    "yp_lr = linear_reg.predict(X_test_scaled)\n",
    "\n",
    "mse = mean_squared_error(y_test, yp_lr)\n",
    "mse_r = mean_squared_error(y_test, yp_lr, squared = False)\n",
    "r2 = r2_score(y_test, yp_lr)\n",
    "\n",
    "n = len(y_test)\n",
    "k = X_train_scaled.shape[1]\n",
    "adj_r2 = 1 - ((1 - r2) * (n - 1) / (n - k - 1))\n",
    "\n",
    "print(f'Mean Squared Error: {mse}')\n",
    "print(f'Root Mean Squared Error: {mse_r}')\n",
    "print(f'R-squared: {r2}')\n",
    "print(f'Adjusted R-squared: {adj_r2}')"
   ]
  },
  {
   "cell_type": "code",
   "execution_count": 28,
   "id": "1a3cb88c",
   "metadata": {},
   "outputs": [
    {
     "name": "stdout",
     "output_type": "stream",
     "text": [
      "Training MSE: 221410.47406051576\n",
      "Validation MSE: 216628.77814566\n"
     ]
    }
   ],
   "source": [
    "train_pred = linear_reg.predict(X_train_scaled)\n",
    "test_pred = linear_reg.predict(X_test_scaled)\n",
    "\n",
    "from sklearn.metrics import mean_squared_error, r2_score\n",
    "\n",
    "train_mse = mean_squared_error(y_train, train_pred)\n",
    "test_mse = mean_squared_error(y_test, test_pred)\n",
    "\n",
    "print(f'Training MSE: {train_mse}')\n",
    "print(f'Validation MSE: {test_mse}')"
   ]
  },
  {
   "cell_type": "markdown",
   "id": "be072bea",
   "metadata": {},
   "source": [
    "## A little bit overfitting but low R2"
   ]
  },
  {
   "cell_type": "code",
   "execution_count": 29,
   "id": "75828c13",
   "metadata": {},
   "outputs": [
    {
     "name": "stdout",
     "output_type": "stream",
     "text": [
      "Huber Loss: [646.38644477 192.78762792 507.57713695 ... 178.51972985 232.87127327\n",
      "  52.94341111]\n",
      "Mean Huber Loss: 339.1764602203368\n"
     ]
    }
   ],
   "source": [
    "import tensorflow as tf\n",
    "def huber_loss(y_test, yp_lr, delta=1.0):\n",
    "    error = y_test - yp_lr\n",
    "    condition = tf.abs(error) < delta\n",
    "    squared_loss = 0.5 * tf.square(error)\n",
    "    linear_loss = delta * (tf.abs(error) - 0.5 * delta)\n",
    "    return tf.where(condition, squared_loss, linear_loss)\n",
    "\n",
    "loss = huber_loss(y_test, yp_lr, delta=1.0)\n",
    "print(\"Huber Loss:\", loss.numpy())\n",
    "\n",
    "mean_huber_loss = np.mean(loss)\n",
    "print(f\"Mean Huber Loss: {mean_huber_loss}\")"
   ]
  },
  {
   "cell_type": "code",
   "execution_count": 30,
   "id": "297a10e1",
   "metadata": {},
   "outputs": [
    {
     "data": {
      "text/plain": [
       "0.4593758323122934"
      ]
     },
     "execution_count": 30,
     "metadata": {},
     "output_type": "execute_result"
    }
   ],
   "source": [
    "score_l = cross_val_score(LinearRegression(), X_test_scaled, y_test, cv = 5, scoring = 'r2').mean()\n",
    "score_l"
   ]
  },
  {
   "cell_type": "code",
   "execution_count": 31,
   "id": "7bb2d981",
   "metadata": {},
   "outputs": [
    {
     "data": {
      "text/html": [
       "<div>\n",
       "<style scoped>\n",
       "    .dataframe tbody tr th:only-of-type {\n",
       "        vertical-align: middle;\n",
       "    }\n",
       "\n",
       "    .dataframe tbody tr th {\n",
       "        vertical-align: top;\n",
       "    }\n",
       "\n",
       "    .dataframe thead th {\n",
       "        text-align: right;\n",
       "    }\n",
       "</style>\n",
       "<table border=\"1\" class=\"dataframe\">\n",
       "  <thead>\n",
       "    <tr style=\"text-align: right;\">\n",
       "      <th></th>\n",
       "      <th>Actual</th>\n",
       "      <th>Predicted</th>\n",
       "    </tr>\n",
       "  </thead>\n",
       "  <tbody>\n",
       "    <tr>\n",
       "      <th>0</th>\n",
       "      <td>278.0</td>\n",
       "      <td>924.886445</td>\n",
       "    </tr>\n",
       "    <tr>\n",
       "      <th>1</th>\n",
       "      <td>96.0</td>\n",
       "      <td>-97.287628</td>\n",
       "    </tr>\n",
       "    <tr>\n",
       "      <th>2</th>\n",
       "      <td>215.0</td>\n",
       "      <td>723.077137</td>\n",
       "    </tr>\n",
       "    <tr>\n",
       "      <th>3</th>\n",
       "      <td>1290.0</td>\n",
       "      <td>1204.940332</td>\n",
       "    </tr>\n",
       "    <tr>\n",
       "      <th>4</th>\n",
       "      <td>165.0</td>\n",
       "      <td>688.878524</td>\n",
       "    </tr>\n",
       "  </tbody>\n",
       "</table>\n",
       "</div>"
      ],
      "text/plain": [
       "   Actual    Predicted\n",
       "0   278.0   924.886445\n",
       "1    96.0   -97.287628\n",
       "2   215.0   723.077137\n",
       "3  1290.0  1204.940332\n",
       "4   165.0   688.878524"
      ]
     },
     "execution_count": 31,
     "metadata": {},
     "output_type": "execute_result"
    }
   ],
   "source": [
    "pred = pd.DataFrame({'Actual': y_test, 'Predicted': yp_lr})\n",
    "pred.head()"
   ]
  },
  {
   "cell_type": "markdown",
   "id": "0dc2c325",
   "metadata": {},
   "source": [
    "## Polynomial 2 and 3"
   ]
  },
  {
   "cell_type": "code",
   "execution_count": 32,
   "id": "34597a64",
   "metadata": {},
   "outputs": [],
   "source": [
    "from sklearn.preprocessing import PolynomialFeatures"
   ]
  },
  {
   "cell_type": "code",
   "execution_count": 33,
   "id": "2de30d74",
   "metadata": {},
   "outputs": [
    {
     "name": "stdout",
     "output_type": "stream",
     "text": [
      "Mean Squared Error: 173892.26181136008\n",
      "Root Mean Squared Error: 417.00391102645557\n",
      "R-squared: 0.5697265332730072\n",
      "Adjusted R-squared: 0.5679995182116029\n"
     ]
    }
   ],
   "source": [
    "poly_features = PolynomialFeatures(degree = 2)\n",
    "\n",
    "X_train_poly = poly_features.fit_transform(X_train_scaled)\n",
    "X_test_poly = poly_features.transform(X_test_scaled)\n",
    "\n",
    "poly_reg = LinearRegression()\n",
    "poly_reg.fit(X_train_poly, y_train)\n",
    "\n",
    "yp_p2 = poly_reg.predict(X_test_poly)\n",
    "\n",
    "mse = mean_squared_error(y_test, yp_p2)\n",
    "mse_r = mean_squared_error(y_test, yp_p2, squared = False)\n",
    "r2 = r2_score(y_test, yp_p2)\n",
    "\n",
    "n = len(y_test)\n",
    "k = X_train_scaled.shape[1]  # Number of features\n",
    "adj_r2 = 1 - ((1 - r2) * (n - 1) / (n - k - 1))\n",
    "\n",
    "print(f'Mean Squared Error: {mse}')\n",
    "print(f'Root Mean Squared Error: {mse_r}')\n",
    "print(f'R-squared: {r2}')\n",
    "print(f'Adjusted R-squared: {adj_r2}')"
   ]
  },
  {
   "cell_type": "code",
   "execution_count": 34,
   "id": "c28660de",
   "metadata": {},
   "outputs": [
    {
     "data": {
      "text/plain": [
       "0.4593758323122934"
      ]
     },
     "execution_count": 34,
     "metadata": {},
     "output_type": "execute_result"
    }
   ],
   "source": [
    "score_lp2 = cross_val_score(poly_reg, X_test_scaled, y_test, cv = 5, scoring = 'r2').mean()\n",
    "score_lp2"
   ]
  },
  {
   "cell_type": "code",
   "execution_count": 35,
   "id": "0268788d",
   "metadata": {},
   "outputs": [
    {
     "data": {
      "text/html": [
       "<div>\n",
       "<style scoped>\n",
       "    .dataframe tbody tr th:only-of-type {\n",
       "        vertical-align: middle;\n",
       "    }\n",
       "\n",
       "    .dataframe tbody tr th {\n",
       "        vertical-align: top;\n",
       "    }\n",
       "\n",
       "    .dataframe thead th {\n",
       "        text-align: right;\n",
       "    }\n",
       "</style>\n",
       "<table border=\"1\" class=\"dataframe\">\n",
       "  <thead>\n",
       "    <tr style=\"text-align: right;\">\n",
       "      <th></th>\n",
       "      <th>Actual</th>\n",
       "      <th>Predicted</th>\n",
       "    </tr>\n",
       "  </thead>\n",
       "  <tbody>\n",
       "    <tr>\n",
       "      <th>0</th>\n",
       "      <td>278.0</td>\n",
       "      <td>641.280768</td>\n",
       "    </tr>\n",
       "    <tr>\n",
       "      <th>1</th>\n",
       "      <td>96.0</td>\n",
       "      <td>55.817418</td>\n",
       "    </tr>\n",
       "    <tr>\n",
       "      <th>2</th>\n",
       "      <td>215.0</td>\n",
       "      <td>695.881927</td>\n",
       "    </tr>\n",
       "    <tr>\n",
       "      <th>3</th>\n",
       "      <td>1290.0</td>\n",
       "      <td>1411.240311</td>\n",
       "    </tr>\n",
       "    <tr>\n",
       "      <th>4</th>\n",
       "      <td>165.0</td>\n",
       "      <td>441.798312</td>\n",
       "    </tr>\n",
       "  </tbody>\n",
       "</table>\n",
       "</div>"
      ],
      "text/plain": [
       "   Actual    Predicted\n",
       "0   278.0   641.280768\n",
       "1    96.0    55.817418\n",
       "2   215.0   695.881927\n",
       "3  1290.0  1411.240311\n",
       "4   165.0   441.798312"
      ]
     },
     "execution_count": 35,
     "metadata": {},
     "output_type": "execute_result"
    }
   ],
   "source": [
    "pred_p2 = pd.DataFrame({'Actual': y_test, 'Predicted': yp_p2})\n",
    "pred_p2.head()"
   ]
  },
  {
   "cell_type": "code",
   "execution_count": 36,
   "id": "43004aad",
   "metadata": {},
   "outputs": [
    {
     "name": "stdout",
     "output_type": "stream",
     "text": [
      "Training MSE: 179884.61340435053\n",
      "Validation MSE: 173892.26181136008\n",
      "Huber Loss: [362.78076805  39.68258151 480.38192733 ... 158.59363598  11.72397097\n",
      " 197.63554304]\n",
      "Mean Huber Loss: 296.13907805060893\n"
     ]
    }
   ],
   "source": [
    "train_pred = poly_reg.predict(X_train_poly)\n",
    "test_pred = poly_reg.predict(X_test_poly)\n",
    "\n",
    "from sklearn.metrics import mean_squared_error, r2_score\n",
    "\n",
    "train_mse = mean_squared_error(y_train, train_pred)\n",
    "test_mse = mean_squared_error(y_test, test_pred)\n",
    "\n",
    "print(f'Training MSE: {train_mse}')\n",
    "print(f'Validation MSE: {test_mse}')\n",
    "\n",
    "import tensorflow as tf\n",
    "def huber_loss(y_test, yp_p2, delta=1.0):\n",
    "    error = y_test - yp_p2\n",
    "    condition = tf.abs(error) < delta\n",
    "    squared_loss = 0.5 * tf.square(error)\n",
    "    linear_loss = delta * (tf.abs(error) - 0.5 * delta)\n",
    "    return tf.where(condition, squared_loss, linear_loss)\n",
    "\n",
    "loss = huber_loss(y_test, yp_p2, delta=1.0)\n",
    "print(\"Huber Loss:\", loss.numpy())\n",
    "\n",
    "mean_huber_loss = np.mean(loss)\n",
    "print(f\"Mean Huber Loss: {mean_huber_loss}\")"
   ]
  },
  {
   "cell_type": "markdown",
   "id": "033f05b5",
   "metadata": {},
   "source": [
    "## Not overfitting "
   ]
  },
  {
   "cell_type": "markdown",
   "id": "b1221b2b",
   "metadata": {},
   "source": []
  },
  {
   "cell_type": "code",
   "execution_count": 37,
   "id": "f5aed552",
   "metadata": {},
   "outputs": [
    {
     "name": "stdout",
     "output_type": "stream",
     "text": [
      "Mean Squared Error: 211921.37621353226\n",
      "R-squared: 0.47562850544856783\n"
     ]
    }
   ],
   "source": [
    "degree = 3\n",
    "poly_features = PolynomialFeatures(degree=degree)\n",
    "\n",
    "X_train_poly = poly_features.fit_transform(X_train_scaled)\n",
    "X_test_poly = poly_features.transform(X_test_scaled)\n",
    "\n",
    "poly_reg = LinearRegression()\n",
    "poly_reg.fit(X_train_poly, y_train)\n",
    "\n",
    "yp_p3 = poly_reg.predict(X_test_poly)\n",
    "\n",
    "mse = mean_squared_error(y_test, yp_p3)\n",
    "r2 = r2_score(y_test, yp_p3)\n",
    "\n",
    "print(f'Mean Squared Error: {mse}')\n",
    "print(f'R-squared: {r2}')"
   ]
  },
  {
   "cell_type": "markdown",
   "id": "0a86ab62",
   "metadata": {},
   "source": [
    "## Ridge"
   ]
  },
  {
   "cell_type": "code",
   "execution_count": 38,
   "id": "4102f4b3",
   "metadata": {},
   "outputs": [
    {
     "name": "stdout",
     "output_type": "stream",
     "text": [
      "Mean Squared Error (Ridge): 216737.3041829407\n",
      "R-squared (Ridge): 0.4637121268741563\n"
     ]
    }
   ],
   "source": [
    "from sklearn.linear_model import Ridge\n",
    "\n",
    "ridge_reg = Ridge(alpha=1.0)  # Adjust alpha based on the strength of regularization\n",
    "ridge_reg.fit(X_train_scaled, y_train)\n",
    "\n",
    "yp_lnR = ridge_reg.predict(X_test_scaled)\n",
    "\n",
    "mse = mean_squared_error(y_test, yp_lnR)\n",
    "r2 = r2_score(y_test, yp_lnR)\n",
    "\n",
    "print(f'Mean Squared Error (Ridge): {mse}')\n",
    "print(f'R-squared (Ridge): {r2}')"
   ]
  },
  {
   "cell_type": "code",
   "execution_count": 39,
   "id": "64ba5acc",
   "metadata": {},
   "outputs": [
    {
     "data": {
      "text/html": [
       "<div>\n",
       "<style scoped>\n",
       "    .dataframe tbody tr th:only-of-type {\n",
       "        vertical-align: middle;\n",
       "    }\n",
       "\n",
       "    .dataframe tbody tr th {\n",
       "        vertical-align: top;\n",
       "    }\n",
       "\n",
       "    .dataframe thead th {\n",
       "        text-align: right;\n",
       "    }\n",
       "</style>\n",
       "<table border=\"1\" class=\"dataframe\">\n",
       "  <thead>\n",
       "    <tr style=\"text-align: right;\">\n",
       "      <th></th>\n",
       "      <th>Actual</th>\n",
       "      <th>Predicted</th>\n",
       "    </tr>\n",
       "  </thead>\n",
       "  <tbody>\n",
       "    <tr>\n",
       "      <th>0</th>\n",
       "      <td>278.0</td>\n",
       "      <td>920.724925</td>\n",
       "    </tr>\n",
       "    <tr>\n",
       "      <th>1</th>\n",
       "      <td>96.0</td>\n",
       "      <td>-102.609284</td>\n",
       "    </tr>\n",
       "    <tr>\n",
       "      <th>2</th>\n",
       "      <td>215.0</td>\n",
       "      <td>720.632140</td>\n",
       "    </tr>\n",
       "    <tr>\n",
       "      <th>3</th>\n",
       "      <td>1290.0</td>\n",
       "      <td>1202.321952</td>\n",
       "    </tr>\n",
       "    <tr>\n",
       "      <th>4</th>\n",
       "      <td>165.0</td>\n",
       "      <td>682.596051</td>\n",
       "    </tr>\n",
       "  </tbody>\n",
       "</table>\n",
       "</div>"
      ],
      "text/plain": [
       "   Actual    Predicted\n",
       "0   278.0   920.724925\n",
       "1    96.0  -102.609284\n",
       "2   215.0   720.632140\n",
       "3  1290.0  1202.321952\n",
       "4   165.0   682.596051"
      ]
     },
     "execution_count": 39,
     "metadata": {},
     "output_type": "execute_result"
    }
   ],
   "source": [
    "pred_lnR = pd.DataFrame({'Actual': y_test, 'Predicted': yp_lnR})\n",
    "pred_lnR.head()"
   ]
  },
  {
   "cell_type": "code",
   "execution_count": 40,
   "id": "05ceb1dd",
   "metadata": {},
   "outputs": [
    {
     "name": "stdout",
     "output_type": "stream",
     "text": [
      "Mean Squared Error (Ridge): 186181.20384798557\n",
      "Root Mean Squared Error: 431.48720009750645\n",
      "R-squared (Ridge): 0.5393191670254971\n",
      "Adjusted R-squared: 0.46155959527330714\n"
     ]
    }
   ],
   "source": [
    "degree = 2\n",
    "\n",
    "poly = PolynomialFeatures(degree=degree, include_bias=False)\n",
    "X_train_poly = poly.fit_transform(X_train_scaled)\n",
    "X_test_poly = poly.transform(X_test_scaled)\n",
    "\n",
    "ridge_reg2 = Ridge(alpha = 10.0) \n",
    "ridge_reg2.fit(X_train_poly, y_train)\n",
    "\n",
    "yp_rp2 = ridge_reg2.predict(X_test_poly)\n",
    "\n",
    "mse_ridge = mean_squared_error(y_test, yp_rp2)\n",
    "mse_ridge_r = mean_squared_error(y_test, yp_rp2, squared = False)\n",
    "r2_ridge = r2_score(y_test, yp_rp2)\n",
    "\n",
    "n = len(y_test)\n",
    "k = X_train_scaled.shape[1]  \n",
    "adj_r2 = 1 - ((1 - r2) * (n - 1) / (n - k - 1))\n",
    "\n",
    "print(f'Mean Squared Error (Ridge): {mse_ridge}')\n",
    "print(f'Root Mean Squared Error: {mse_ridge_r}')\n",
    "print(f'R-squared (Ridge): {r2_ridge}')\n",
    "print(f'Adjusted R-squared: {adj_r2}')"
   ]
  },
  {
   "cell_type": "code",
   "execution_count": 41,
   "id": "833cbaac",
   "metadata": {},
   "outputs": [
    {
     "data": {
      "text/plain": [
       "0.4408471910281132"
      ]
     },
     "execution_count": 41,
     "metadata": {},
     "output_type": "execute_result"
    }
   ],
   "source": [
    "score_rp2 = cross_val_score(ridge_reg2, X_test_scaled, y_test, cv = 5, scoring = 'r2').mean()\n",
    "score_rp2"
   ]
  },
  {
   "cell_type": "code",
   "execution_count": 42,
   "id": "00cbb057",
   "metadata": {},
   "outputs": [
    {
     "name": "stdout",
     "output_type": "stream",
     "text": [
      "Training MSE: 191862.63178018117\n",
      "Validation MSE: 186181.20384798557\n",
      "Huber Loss: [423.49616516  21.04614644 432.9297126  ... 161.72461231 102.86306651\n",
      " 120.36642429]\n",
      "Mean Huber Loss: 305.2603225503822\n"
     ]
    }
   ],
   "source": [
    "train_pred = ridge_reg2.predict(X_train_poly)\n",
    "test_pred = ridge_reg2.predict(X_test_poly)\n",
    "\n",
    "from sklearn.metrics import mean_squared_error, r2_score\n",
    "\n",
    "train_mse = mean_squared_error(y_train, train_pred)\n",
    "test_mse = mean_squared_error(y_test, test_pred)\n",
    "\n",
    "print(f'Training MSE: {train_mse}')\n",
    "print(f'Validation MSE: {test_mse}')\n",
    "\n",
    "import tensorflow as tf\n",
    "def huber_loss(y_test, yp_rp2, delta = 1.0):\n",
    "    error = y_test - yp_rp2\n",
    "    condition = tf.abs(error) < delta\n",
    "    squared_loss = 0.5 * tf.square(error)\n",
    "    linear_loss = delta * (tf.abs(error) - 0.5 * delta)\n",
    "    return tf.where(condition, squared_loss, linear_loss)\n",
    "\n",
    "loss = huber_loss(y_test, yp_rp2, delta = 1.0)\n",
    "print(\"Huber Loss:\", loss.numpy())\n",
    "\n",
    "mean_huber_loss = np.mean(loss)\n",
    "print(f\"Mean Huber Loss: {mean_huber_loss}\")"
   ]
  },
  {
   "cell_type": "markdown",
   "id": "dd6683b0",
   "metadata": {},
   "source": [
    "## A little bit overfitting but significant difference between R2 and Adjusted R2"
   ]
  },
  {
   "cell_type": "markdown",
   "id": "0061aadf",
   "metadata": {},
   "source": []
  },
  {
   "cell_type": "markdown",
   "id": "ec8b581e",
   "metadata": {},
   "source": [
    "## Lasso"
   ]
  },
  {
   "cell_type": "code",
   "execution_count": 43,
   "id": "8e1e9c71",
   "metadata": {},
   "outputs": [
    {
     "name": "stdout",
     "output_type": "stream",
     "text": [
      "Mean Squared Error (Lasso): 217628.13957105268\n",
      "R-squared (Lasso): 0.461507872200985\n"
     ]
    }
   ],
   "source": [
    "from sklearn.linear_model import Lasso\n",
    "\n",
    "lasso_reg = Lasso(alpha=1.0) \n",
    "lasso_reg.fit(X_train_scaled, y_train)\n",
    "\n",
    "yp_lnL = lasso_reg.predict(X_test_scaled)\n",
    "\n",
    "mse = mean_squared_error(y_test, yp_lnL)\n",
    "r2 = r2_score(y_test, yp_lnL)\n",
    "\n",
    "print(f'Mean Squared Error (Lasso): {mse}')\n",
    "print(f'R-squared (Lasso): {r2}')"
   ]
  },
  {
   "cell_type": "code",
   "execution_count": 44,
   "id": "d5922ae0",
   "metadata": {},
   "outputs": [
    {
     "name": "stdout",
     "output_type": "stream",
     "text": [
      "Mean Squared Error (Lasso): 207819.4462584602\n",
      "R-squared (Lasso): 0.48577819010765166\n"
     ]
    }
   ],
   "source": [
    "degree = 2\n",
    "\n",
    "poly = PolynomialFeatures(degree=degree, include_bias=False)\n",
    "X_train_poly = poly.fit_transform(X_train_scaled)\n",
    "X_test_poly = poly.transform(X_test_scaled)\n",
    " \n",
    "lasso_reg = Lasso(alpha = 10.0, max_iter = 100000)\n",
    "lasso_reg.fit(X_train_poly, y_train)\n",
    "\n",
    "yp_lp2 = lasso_reg.predict(X_test_poly)\n",
    "\n",
    "mse_lasso = mean_squared_error(y_test, yp_lp2)\n",
    "r2_lasso = r2_score(y_test, yp_lp2)\n",
    "\n",
    "print(f'Mean Squared Error (Lasso): {mse_lasso}')\n",
    "print(f'R-squared (Lasso): {r2_lasso}')"
   ]
  },
  {
   "cell_type": "markdown",
   "id": "f7e2efe0",
   "metadata": {},
   "source": []
  },
  {
   "cell_type": "markdown",
   "id": "fd85fb6b",
   "metadata": {},
   "source": [
    "# Random Forest"
   ]
  },
  {
   "cell_type": "code",
   "execution_count": 45,
   "id": "be5d6dc6",
   "metadata": {},
   "outputs": [],
   "source": [
    "from sklearn.ensemble import RandomForestRegressor"
   ]
  },
  {
   "cell_type": "code",
   "execution_count": 46,
   "id": "c38de7ad",
   "metadata": {},
   "outputs": [
    {
     "name": "stdout",
     "output_type": "stream",
     "text": [
      "Best Hyperparameters: {'max_depth': 20, 'min_samples_leaf': 4, 'n_estimators': 200}\n",
      "Mean Squared Error: 103412.06923429851\n",
      "Root Mean Squared Error: 321.57747003529107\n",
      "R-squared (Best Model): 0.744120473979903\n",
      "Adjusted R-squared: 0.4593464932476633\n"
     ]
    }
   ],
   "source": [
    "from sklearn.model_selection import GridSearchCV\n",
    "\n",
    "param_grid = {\n",
    "    'n_estimators': [50, 100, 200],\n",
    "    'max_depth': [None, 10, 20],\n",
    "    'min_samples_leaf': [1, 2, 4]\n",
    "}\n",
    "\n",
    "grid_search = GridSearchCV(RandomForestRegressor(random_state = 12), param_grid, cv = 5, scoring = 'r2')\n",
    "grid_search.fit(X_train_scaled, y_train)\n",
    "\n",
    "best_params = grid_search.best_params_\n",
    "best_model = grid_search.best_estimator_\n",
    "\n",
    "y_pred_best = best_model.predict(X_test_scaled)\n",
    "mse = mean_squared_error(y_test, y_pred_best)\n",
    "mse_r = mean_squared_error(y_test, y_pred_best, squared = False)\n",
    "r2_best = r2_score(y_test, y_pred_best)\n",
    "\n",
    "n = len(y_test)\n",
    "k = X_train_scaled.shape[1]  \n",
    "adj_r2 = 1 - ((1 - r2) * (n - 1) / (n - k - 1))\n",
    "\n",
    "print(f'Best Hyperparameters: {best_params}')\n",
    "print(f'Mean Squared Error: {mse}')\n",
    "print(f'Root Mean Squared Error: {mse_r}')\n",
    "print(f'R-squared (Best Model): {r2_best}')\n",
    "print(f'Adjusted R-squared: {adj_r2}')"
   ]
  },
  {
   "cell_type": "code",
   "execution_count": 47,
   "id": "71731a18",
   "metadata": {},
   "outputs": [
    {
     "data": {
      "text/plain": [
       "0.7063884963970979"
      ]
     },
     "execution_count": 47,
     "metadata": {},
     "output_type": "execute_result"
    }
   ],
   "source": [
    "score_rf = cross_val_score(RandomForestRegressor(max_depth = 20,\n",
    "                                              min_samples_leaf = 4, \n",
    "                                              n_estimators = 200,\n",
    "                                              random_state = 12), X_test_scaled, y_test, \n",
    "                           cv = 10, scoring = 'r2').mean()\n",
    "score_rf"
   ]
  },
  {
   "cell_type": "code",
   "execution_count": 48,
   "id": "0214ede1",
   "metadata": {},
   "outputs": [
    {
     "data": {
      "text/html": [
       "<div>\n",
       "<style scoped>\n",
       "    .dataframe tbody tr th:only-of-type {\n",
       "        vertical-align: middle;\n",
       "    }\n",
       "\n",
       "    .dataframe tbody tr th {\n",
       "        vertical-align: top;\n",
       "    }\n",
       "\n",
       "    .dataframe thead th {\n",
       "        text-align: right;\n",
       "    }\n",
       "</style>\n",
       "<table border=\"1\" class=\"dataframe\">\n",
       "  <thead>\n",
       "    <tr style=\"text-align: right;\">\n",
       "      <th></th>\n",
       "      <th>Actual</th>\n",
       "      <th>Predicted</th>\n",
       "    </tr>\n",
       "  </thead>\n",
       "  <tbody>\n",
       "    <tr>\n",
       "      <th>0</th>\n",
       "      <td>278.0</td>\n",
       "      <td>406.373171</td>\n",
       "    </tr>\n",
       "    <tr>\n",
       "      <th>1</th>\n",
       "      <td>96.0</td>\n",
       "      <td>118.290294</td>\n",
       "    </tr>\n",
       "    <tr>\n",
       "      <th>2</th>\n",
       "      <td>215.0</td>\n",
       "      <td>222.059403</td>\n",
       "    </tr>\n",
       "  </tbody>\n",
       "</table>\n",
       "</div>"
      ],
      "text/plain": [
       "   Actual   Predicted\n",
       "0   278.0  406.373171\n",
       "1    96.0  118.290294\n",
       "2   215.0  222.059403"
      ]
     },
     "execution_count": 48,
     "metadata": {},
     "output_type": "execute_result"
    }
   ],
   "source": [
    "pred_rf = pd.DataFrame({'Actual': y_test, 'Predicted': y_pred_best})\n",
    "pred_rf.head(3)"
   ]
  },
  {
   "cell_type": "code",
   "execution_count": null,
   "id": "592c5f08",
   "metadata": {},
   "outputs": [],
   "source": []
  },
  {
   "cell_type": "code",
   "execution_count": 49,
   "id": "20fc16cf",
   "metadata": {},
   "outputs": [
    {
     "name": "stdout",
     "output_type": "stream",
     "text": [
      "Training MSE: 46237.05013119372\n",
      "Validation MSE: 103412.06923429851\n",
      "Huber Loss: [127.87317091  21.79029353   6.55940297 ...  18.09348922 175.18516525\n",
      " 109.90417185]\n",
      "Mean Huber Loss: 189.43463278694904\n"
     ]
    }
   ],
   "source": [
    "train_pred = best_model.predict(X_train_scaled)\n",
    "test_pred = best_model.predict(X_test_scaled)\n",
    "\n",
    "from sklearn.metrics import mean_squared_error, r2_score\n",
    "\n",
    "train_mse = mean_squared_error(y_train, train_pred)\n",
    "test_mse = mean_squared_error(y_test, test_pred)\n",
    "\n",
    "print(f'Training MSE: {train_mse}')\n",
    "print(f'Validation MSE: {test_mse}')\n",
    "\n",
    "import tensorflow as tf\n",
    "def huber_loss(y_test, y_pred_best, delta = 1.0):\n",
    "    error = y_test - y_pred_best\n",
    "    condition = tf.abs(error) < delta\n",
    "    squared_loss = 0.5 * tf.square(error)\n",
    "    linear_loss = delta * (tf.abs(error) - 0.5 * delta)\n",
    "    return tf.where(condition, squared_loss, linear_loss)\n",
    "\n",
    "loss = huber_loss(y_test, y_pred_best, delta = 1.0)\n",
    "print(\"Huber Loss:\", loss.numpy())\n",
    "\n",
    "mean_huber_loss = np.mean(loss)\n",
    "print(f\"Mean Huber Loss: {mean_huber_loss}\")"
   ]
  },
  {
   "cell_type": "markdown",
   "id": "6242d3fd",
   "metadata": {},
   "source": [
    "## Overfitting here and big difference between R2 and Adjusted R2"
   ]
  },
  {
   "cell_type": "code",
   "execution_count": null,
   "id": "8c78a37f",
   "metadata": {},
   "outputs": [],
   "source": []
  },
  {
   "cell_type": "code",
   "execution_count": null,
   "id": "b16b412d",
   "metadata": {},
   "outputs": [],
   "source": []
  },
  {
   "cell_type": "markdown",
   "id": "2d6d7853",
   "metadata": {},
   "source": [
    "# ANN"
   ]
  },
  {
   "cell_type": "code",
   "execution_count": 50,
   "id": "665034be",
   "metadata": {
    "collapsed": true
   },
   "outputs": [
    {
     "name": "stdout",
     "output_type": "stream",
     "text": [
      "Requirement already satisfied: tensorflow in /Users/izaiaszacca/anaconda3/lib/python3.11/site-packages (2.15.0)\n",
      "Requirement already satisfied: tensorflow-macos==2.15.0 in /Users/izaiaszacca/anaconda3/lib/python3.11/site-packages (from tensorflow) (2.15.0)\n",
      "Requirement already satisfied: absl-py>=1.0.0 in /Users/izaiaszacca/anaconda3/lib/python3.11/site-packages (from tensorflow-macos==2.15.0->tensorflow) (2.0.0)\n",
      "Requirement already satisfied: astunparse>=1.6.0 in /Users/izaiaszacca/anaconda3/lib/python3.11/site-packages (from tensorflow-macos==2.15.0->tensorflow) (1.6.3)\n",
      "Requirement already satisfied: flatbuffers>=23.5.26 in /Users/izaiaszacca/anaconda3/lib/python3.11/site-packages (from tensorflow-macos==2.15.0->tensorflow) (23.5.26)\n",
      "Requirement already satisfied: gast!=0.5.0,!=0.5.1,!=0.5.2,>=0.2.1 in /Users/izaiaszacca/anaconda3/lib/python3.11/site-packages (from tensorflow-macos==2.15.0->tensorflow) (0.5.4)\n",
      "Requirement already satisfied: google-pasta>=0.1.1 in /Users/izaiaszacca/anaconda3/lib/python3.11/site-packages (from tensorflow-macos==2.15.0->tensorflow) (0.2.0)\n",
      "Requirement already satisfied: h5py>=2.9.0 in /Users/izaiaszacca/anaconda3/lib/python3.11/site-packages (from tensorflow-macos==2.15.0->tensorflow) (3.9.0)\n",
      "Requirement already satisfied: libclang>=13.0.0 in /Users/izaiaszacca/anaconda3/lib/python3.11/site-packages (from tensorflow-macos==2.15.0->tensorflow) (16.0.6)\n",
      "Requirement already satisfied: ml-dtypes~=0.2.0 in /Users/izaiaszacca/anaconda3/lib/python3.11/site-packages (from tensorflow-macos==2.15.0->tensorflow) (0.2.0)\n",
      "Requirement already satisfied: numpy<2.0.0,>=1.23.5 in /Users/izaiaszacca/anaconda3/lib/python3.11/site-packages (from tensorflow-macos==2.15.0->tensorflow) (1.24.3)\n",
      "Requirement already satisfied: opt-einsum>=2.3.2 in /Users/izaiaszacca/anaconda3/lib/python3.11/site-packages (from tensorflow-macos==2.15.0->tensorflow) (3.3.0)\n",
      "Requirement already satisfied: packaging in /Users/izaiaszacca/anaconda3/lib/python3.11/site-packages (from tensorflow-macos==2.15.0->tensorflow) (23.1)\n",
      "Requirement already satisfied: protobuf!=4.21.0,!=4.21.1,!=4.21.2,!=4.21.3,!=4.21.4,!=4.21.5,<5.0.0dev,>=3.20.3 in /Users/izaiaszacca/anaconda3/lib/python3.11/site-packages (from tensorflow-macos==2.15.0->tensorflow) (4.23.4)\n",
      "Requirement already satisfied: setuptools in /Users/izaiaszacca/anaconda3/lib/python3.11/site-packages (from tensorflow-macos==2.15.0->tensorflow) (68.0.0)\n",
      "Requirement already satisfied: six>=1.12.0 in /Users/izaiaszacca/anaconda3/lib/python3.11/site-packages (from tensorflow-macos==2.15.0->tensorflow) (1.16.0)\n",
      "Requirement already satisfied: termcolor>=1.1.0 in /Users/izaiaszacca/anaconda3/lib/python3.11/site-packages (from tensorflow-macos==2.15.0->tensorflow) (2.3.0)\n",
      "Requirement already satisfied: typing-extensions>=3.6.6 in /Users/izaiaszacca/anaconda3/lib/python3.11/site-packages (from tensorflow-macos==2.15.0->tensorflow) (4.7.1)\n",
      "Requirement already satisfied: wrapt<1.15,>=1.11.0 in /Users/izaiaszacca/anaconda3/lib/python3.11/site-packages (from tensorflow-macos==2.15.0->tensorflow) (1.14.1)\n",
      "Requirement already satisfied: tensorflow-io-gcs-filesystem>=0.23.1 in /Users/izaiaszacca/anaconda3/lib/python3.11/site-packages (from tensorflow-macos==2.15.0->tensorflow) (0.34.0)\n",
      "Requirement already satisfied: grpcio<2.0,>=1.24.3 in /Users/izaiaszacca/anaconda3/lib/python3.11/site-packages (from tensorflow-macos==2.15.0->tensorflow) (1.59.3)\n",
      "Requirement already satisfied: tensorboard<2.16,>=2.15 in /Users/izaiaszacca/anaconda3/lib/python3.11/site-packages (from tensorflow-macos==2.15.0->tensorflow) (2.15.1)\n",
      "Requirement already satisfied: tensorflow-estimator<2.16,>=2.15.0 in /Users/izaiaszacca/anaconda3/lib/python3.11/site-packages (from tensorflow-macos==2.15.0->tensorflow) (2.15.0)\n",
      "Requirement already satisfied: keras<2.16,>=2.15.0 in /Users/izaiaszacca/anaconda3/lib/python3.11/site-packages (from tensorflow-macos==2.15.0->tensorflow) (2.15.0)\n",
      "Requirement already satisfied: wheel<1.0,>=0.23.0 in /Users/izaiaszacca/anaconda3/lib/python3.11/site-packages (from astunparse>=1.6.0->tensorflow-macos==2.15.0->tensorflow) (0.38.4)\n",
      "Requirement already satisfied: google-auth<3,>=1.6.3 in /Users/izaiaszacca/anaconda3/lib/python3.11/site-packages (from tensorboard<2.16,>=2.15->tensorflow-macos==2.15.0->tensorflow) (2.23.4)\n",
      "Requirement already satisfied: google-auth-oauthlib<2,>=0.5 in /Users/izaiaszacca/anaconda3/lib/python3.11/site-packages (from tensorboard<2.16,>=2.15->tensorflow-macos==2.15.0->tensorflow) (1.1.0)\n",
      "Requirement already satisfied: markdown>=2.6.8 in /Users/izaiaszacca/anaconda3/lib/python3.11/site-packages (from tensorboard<2.16,>=2.15->tensorflow-macos==2.15.0->tensorflow) (3.4.1)\n",
      "Requirement already satisfied: requests<3,>=2.21.0 in /Users/izaiaszacca/anaconda3/lib/python3.11/site-packages (from tensorboard<2.16,>=2.15->tensorflow-macos==2.15.0->tensorflow) (2.31.0)\n",
      "Requirement already satisfied: tensorboard-data-server<0.8.0,>=0.7.0 in /Users/izaiaszacca/anaconda3/lib/python3.11/site-packages (from tensorboard<2.16,>=2.15->tensorflow-macos==2.15.0->tensorflow) (0.7.2)\n",
      "Requirement already satisfied: werkzeug>=1.0.1 in /Users/izaiaszacca/anaconda3/lib/python3.11/site-packages (from tensorboard<2.16,>=2.15->tensorflow-macos==2.15.0->tensorflow) (2.2.3)\n",
      "Requirement already satisfied: cachetools<6.0,>=2.0.0 in /Users/izaiaszacca/anaconda3/lib/python3.11/site-packages (from google-auth<3,>=1.6.3->tensorboard<2.16,>=2.15->tensorflow-macos==2.15.0->tensorflow) (5.3.2)\n",
      "Requirement already satisfied: pyasn1-modules>=0.2.1 in /Users/izaiaszacca/anaconda3/lib/python3.11/site-packages (from google-auth<3,>=1.6.3->tensorboard<2.16,>=2.15->tensorflow-macos==2.15.0->tensorflow) (0.2.8)\n",
      "Requirement already satisfied: rsa<5,>=3.1.4 in /Users/izaiaszacca/anaconda3/lib/python3.11/site-packages (from google-auth<3,>=1.6.3->tensorboard<2.16,>=2.15->tensorflow-macos==2.15.0->tensorflow) (4.9)\n",
      "Requirement already satisfied: requests-oauthlib>=0.7.0 in /Users/izaiaszacca/anaconda3/lib/python3.11/site-packages (from google-auth-oauthlib<2,>=0.5->tensorboard<2.16,>=2.15->tensorflow-macos==2.15.0->tensorflow) (1.3.1)\n",
      "Requirement already satisfied: charset-normalizer<4,>=2 in /Users/izaiaszacca/anaconda3/lib/python3.11/site-packages (from requests<3,>=2.21.0->tensorboard<2.16,>=2.15->tensorflow-macos==2.15.0->tensorflow) (2.0.4)\n",
      "Requirement already satisfied: idna<4,>=2.5 in /Users/izaiaszacca/anaconda3/lib/python3.11/site-packages (from requests<3,>=2.21.0->tensorboard<2.16,>=2.15->tensorflow-macos==2.15.0->tensorflow) (3.4)\n",
      "Requirement already satisfied: urllib3<3,>=1.21.1 in /Users/izaiaszacca/anaconda3/lib/python3.11/site-packages (from requests<3,>=2.21.0->tensorboard<2.16,>=2.15->tensorflow-macos==2.15.0->tensorflow) (1.26.16)\n",
      "Requirement already satisfied: certifi>=2017.4.17 in /Users/izaiaszacca/anaconda3/lib/python3.11/site-packages (from requests<3,>=2.21.0->tensorboard<2.16,>=2.15->tensorflow-macos==2.15.0->tensorflow) (2023.7.22)\n",
      "Requirement already satisfied: MarkupSafe>=2.1.1 in /Users/izaiaszacca/anaconda3/lib/python3.11/site-packages (from werkzeug>=1.0.1->tensorboard<2.16,>=2.15->tensorflow-macos==2.15.0->tensorflow) (2.1.1)\n",
      "Requirement already satisfied: pyasn1<0.5.0,>=0.4.6 in /Users/izaiaszacca/anaconda3/lib/python3.11/site-packages (from pyasn1-modules>=0.2.1->google-auth<3,>=1.6.3->tensorboard<2.16,>=2.15->tensorflow-macos==2.15.0->tensorflow) (0.4.8)\n",
      "Requirement already satisfied: oauthlib>=3.0.0 in /Users/izaiaszacca/anaconda3/lib/python3.11/site-packages (from requests-oauthlib>=0.7.0->google-auth-oauthlib<2,>=0.5->tensorboard<2.16,>=2.15->tensorflow-macos==2.15.0->tensorflow) (3.2.2)\n",
      "Requirement already satisfied: keras in /Users/izaiaszacca/anaconda3/lib/python3.11/site-packages (2.15.0)\n"
     ]
    }
   ],
   "source": [
    " !pip install tensorflow\n",
    " !pip install keras"
   ]
  },
  {
   "cell_type": "code",
   "execution_count": 51,
   "id": "16fec597",
   "metadata": {},
   "outputs": [],
   "source": [
    "import numpy as np\n",
    "import tensorflow as tf\n",
    "from tensorflow import keras"
   ]
  },
  {
   "cell_type": "code",
   "execution_count": 52,
   "id": "d5178b1d",
   "metadata": {
    "collapsed": true
   },
   "outputs": [
    {
     "name": "stdout",
     "output_type": "stream",
     "text": [
      "Epoch 1/300\n",
      "88/88 [==============================] - 0s 1ms/step - loss: 904537.3125 - val_loss: 862405.1875\n",
      "Epoch 2/300\n",
      "88/88 [==============================] - 0s 499us/step - loss: 589512.5625 - val_loss: 350076.4688\n",
      "Epoch 3/300\n",
      "88/88 [==============================] - 0s 497us/step - loss: 339304.8438 - val_loss: 330261.8125\n",
      "Epoch 4/300\n",
      "88/88 [==============================] - 0s 514us/step - loss: 319383.7500 - val_loss: 309496.6562\n",
      "Epoch 5/300\n",
      "88/88 [==============================] - 0s 511us/step - loss: 299641.7500 - val_loss: 289728.8125\n",
      "Epoch 6/300\n",
      "88/88 [==============================] - 0s 495us/step - loss: 281255.5312 - val_loss: 270854.7188\n",
      "Epoch 7/300\n",
      "88/88 [==============================] - 0s 474us/step - loss: 264297.7812 - val_loss: 254824.6719\n",
      "Epoch 8/300\n",
      "88/88 [==============================] - 0s 468us/step - loss: 249765.1094 - val_loss: 242086.5000\n",
      "Epoch 9/300\n",
      "88/88 [==============================] - 0s 474us/step - loss: 239278.2812 - val_loss: 231110.6875\n",
      "Epoch 10/300\n",
      "88/88 [==============================] - 0s 468us/step - loss: 230837.2500 - val_loss: 223371.7031\n",
      "Epoch 11/300\n",
      "88/88 [==============================] - 0s 507us/step - loss: 225364.1406 - val_loss: 218085.5625\n",
      "Epoch 12/300\n",
      "88/88 [==============================] - 0s 516us/step - loss: 221308.0000 - val_loss: 214548.1250\n",
      "Epoch 13/300\n",
      "88/88 [==============================] - 0s 537us/step - loss: 218247.3281 - val_loss: 212052.7031\n",
      "Epoch 14/300\n",
      "88/88 [==============================] - 0s 508us/step - loss: 216578.9219 - val_loss: 211358.7188\n",
      "Epoch 15/300\n",
      "88/88 [==============================] - 0s 481us/step - loss: 214683.5781 - val_loss: 207693.0156\n",
      "Epoch 16/300\n",
      "88/88 [==============================] - 0s 481us/step - loss: 213029.8750 - val_loss: 206379.2031\n",
      "Epoch 17/300\n",
      "88/88 [==============================] - 0s 494us/step - loss: 211511.9375 - val_loss: 204626.4844\n",
      "Epoch 18/300\n",
      "88/88 [==============================] - 0s 501us/step - loss: 210096.6562 - val_loss: 202634.4062\n",
      "Epoch 19/300\n",
      "88/88 [==============================] - 0s 596us/step - loss: 208259.3594 - val_loss: 201344.1875\n",
      "Epoch 20/300\n",
      "88/88 [==============================] - 0s 556us/step - loss: 207534.1875 - val_loss: 200132.0781\n",
      "Epoch 21/300\n",
      "88/88 [==============================] - 0s 510us/step - loss: 206543.4844 - val_loss: 199236.4688\n",
      "Epoch 22/300\n",
      "88/88 [==============================] - 0s 494us/step - loss: 205840.6719 - val_loss: 198434.4688\n",
      "Epoch 23/300\n",
      "88/88 [==============================] - 0s 505us/step - loss: 204970.1719 - val_loss: 199164.3906\n",
      "Epoch 24/300\n",
      "88/88 [==============================] - 0s 496us/step - loss: 204516.4219 - val_loss: 197187.6719\n",
      "Epoch 25/300\n",
      "88/88 [==============================] - 0s 485us/step - loss: 204117.0469 - val_loss: 197004.1250\n",
      "Epoch 26/300\n",
      "88/88 [==============================] - 0s 468us/step - loss: 203265.2500 - val_loss: 198764.5781\n",
      "Epoch 27/300\n",
      "88/88 [==============================] - 0s 502us/step - loss: 203949.0469 - val_loss: 196820.4062\n",
      "Epoch 28/300\n",
      "88/88 [==============================] - 0s 671us/step - loss: 202109.4219 - val_loss: 195605.0938\n",
      "Epoch 29/300\n",
      "88/88 [==============================] - 0s 694us/step - loss: 203017.1562 - val_loss: 195289.6094\n",
      "Epoch 30/300\n",
      "88/88 [==============================] - 0s 571us/step - loss: 201716.2031 - val_loss: 193708.3281\n",
      "Epoch 31/300\n",
      "88/88 [==============================] - 0s 489us/step - loss: 201236.7344 - val_loss: 193267.4062\n",
      "Epoch 32/300\n",
      "88/88 [==============================] - 0s 479us/step - loss: 200544.9062 - val_loss: 194161.8438\n",
      "Epoch 33/300\n",
      "88/88 [==============================] - 0s 481us/step - loss: 200003.9062 - val_loss: 192531.2344\n",
      "Epoch 34/300\n",
      "88/88 [==============================] - 0s 482us/step - loss: 200066.8281 - val_loss: 191867.5469\n",
      "Epoch 35/300\n",
      "88/88 [==============================] - 0s 474us/step - loss: 199208.0312 - val_loss: 190923.3438\n",
      "Epoch 36/300\n",
      "88/88 [==============================] - 0s 475us/step - loss: 198280.1094 - val_loss: 189788.3438\n",
      "Epoch 37/300\n",
      "88/88 [==============================] - 0s 470us/step - loss: 197790.2969 - val_loss: 189079.4688\n",
      "Epoch 38/300\n",
      "88/88 [==============================] - 0s 473us/step - loss: 198098.9531 - val_loss: 188992.0469\n",
      "Epoch 39/300\n",
      "88/88 [==============================] - 0s 475us/step - loss: 196555.3906 - val_loss: 187806.7656\n",
      "Epoch 40/300\n",
      "88/88 [==============================] - 0s 471us/step - loss: 196305.4375 - val_loss: 186941.3594\n",
      "Epoch 41/300\n",
      "88/88 [==============================] - 0s 469us/step - loss: 195261.6250 - val_loss: 188086.7031\n",
      "Epoch 42/300\n",
      "88/88 [==============================] - 0s 510us/step - loss: 194520.1875 - val_loss: 185819.9688\n",
      "Epoch 43/300\n",
      "88/88 [==============================] - 0s 527us/step - loss: 194362.0469 - val_loss: 184923.9219\n",
      "Epoch 44/300\n",
      "88/88 [==============================] - 0s 486us/step - loss: 193994.0625 - val_loss: 184396.1406\n",
      "Epoch 45/300\n",
      "88/88 [==============================] - 0s 472us/step - loss: 193151.0625 - val_loss: 184062.8750\n",
      "Epoch 46/300\n",
      "88/88 [==============================] - 0s 472us/step - loss: 192770.1250 - val_loss: 183155.4531\n",
      "Epoch 47/300\n",
      "88/88 [==============================] - 0s 472us/step - loss: 192588.1250 - val_loss: 182598.8438\n",
      "Epoch 48/300\n",
      "88/88 [==============================] - 0s 469us/step - loss: 191848.1406 - val_loss: 182599.7656\n",
      "Epoch 49/300\n",
      "88/88 [==============================] - 0s 571us/step - loss: 191947.6250 - val_loss: 182777.2969\n",
      "Epoch 50/300\n",
      "88/88 [==============================] - 0s 485us/step - loss: 191568.1875 - val_loss: 181822.6719\n",
      "Epoch 51/300\n",
      "88/88 [==============================] - 0s 470us/step - loss: 190889.0781 - val_loss: 181827.6406\n",
      "Epoch 52/300\n",
      "88/88 [==============================] - 0s 472us/step - loss: 190534.3281 - val_loss: 180961.1250\n",
      "Epoch 53/300\n",
      "88/88 [==============================] - 0s 476us/step - loss: 189918.6719 - val_loss: 180723.2656\n",
      "Epoch 54/300\n",
      "88/88 [==============================] - 0s 534us/step - loss: 189581.0312 - val_loss: 180128.5156\n",
      "Epoch 55/300\n",
      "88/88 [==============================] - 0s 586us/step - loss: 189566.9688 - val_loss: 180101.9219\n",
      "Epoch 56/300\n",
      "88/88 [==============================] - 0s 547us/step - loss: 189210.2188 - val_loss: 180141.8906\n",
      "Epoch 57/300\n",
      "88/88 [==============================] - 0s 534us/step - loss: 188773.5781 - val_loss: 178989.3125\n",
      "Epoch 58/300\n",
      "88/88 [==============================] - 0s 535us/step - loss: 188332.2656 - val_loss: 178288.7812\n",
      "Epoch 59/300\n",
      "88/88 [==============================] - 0s 542us/step - loss: 188305.9844 - val_loss: 178611.2656\n",
      "Epoch 60/300\n",
      "88/88 [==============================] - 0s 564us/step - loss: 188425.2656 - val_loss: 177946.3594\n",
      "Epoch 61/300\n",
      "88/88 [==============================] - 0s 514us/step - loss: 187646.2344 - val_loss: 179745.2344\n",
      "Epoch 62/300\n",
      "88/88 [==============================] - 0s 488us/step - loss: 187798.5781 - val_loss: 176968.3750\n",
      "Epoch 63/300\n",
      "88/88 [==============================] - 0s 485us/step - loss: 187030.1562 - val_loss: 176443.8281\n",
      "Epoch 64/300\n",
      "88/88 [==============================] - 0s 488us/step - loss: 187062.8281 - val_loss: 176549.5625\n",
      "Epoch 65/300\n",
      "88/88 [==============================] - 0s 514us/step - loss: 186509.3125 - val_loss: 176466.6562\n",
      "Epoch 66/300\n",
      "88/88 [==============================] - 0s 524us/step - loss: 186560.6562 - val_loss: 175779.4844\n",
      "Epoch 67/300\n",
      "88/88 [==============================] - 0s 529us/step - loss: 186197.8438 - val_loss: 175630.2031\n",
      "Epoch 68/300\n",
      "88/88 [==============================] - 0s 529us/step - loss: 185747.2969 - val_loss: 175037.6406\n",
      "Epoch 69/300\n",
      "88/88 [==============================] - 0s 543us/step - loss: 186053.8281 - val_loss: 179955.5000\n",
      "Epoch 70/300\n",
      "88/88 [==============================] - 0s 497us/step - loss: 186407.3594 - val_loss: 175197.4375\n",
      "Epoch 71/300\n",
      "88/88 [==============================] - 0s 468us/step - loss: 184867.1562 - val_loss: 175292.8750\n",
      "Epoch 72/300\n",
      "88/88 [==============================] - 0s 474us/step - loss: 184715.6875 - val_loss: 175637.2188\n",
      "Epoch 73/300\n",
      "88/88 [==============================] - 0s 487us/step - loss: 184784.7656 - val_loss: 174460.0156\n",
      "Epoch 74/300\n",
      "88/88 [==============================] - 0s 528us/step - loss: 183983.3125 - val_loss: 175217.3906\n",
      "Epoch 75/300\n",
      "88/88 [==============================] - 0s 534us/step - loss: 184531.2031 - val_loss: 173811.3594\n",
      "Epoch 76/300\n",
      "88/88 [==============================] - 0s 496us/step - loss: 183670.5625 - val_loss: 173164.7031\n",
      "Epoch 77/300\n",
      "88/88 [==============================] - 0s 473us/step - loss: 183823.0312 - val_loss: 174378.6562\n",
      "Epoch 78/300\n",
      "88/88 [==============================] - 0s 469us/step - loss: 183445.5000 - val_loss: 173177.2344\n",
      "Epoch 79/300\n",
      "88/88 [==============================] - 0s 470us/step - loss: 183214.9844 - val_loss: 172793.1250\n",
      "Epoch 80/300\n",
      "88/88 [==============================] - 0s 470us/step - loss: 182773.2969 - val_loss: 172053.8594\n",
      "Epoch 81/300\n",
      "88/88 [==============================] - 0s 466us/step - loss: 182682.1562 - val_loss: 172889.3438\n",
      "Epoch 82/300\n",
      "88/88 [==============================] - 0s 474us/step - loss: 182022.4062 - val_loss: 172828.7812\n",
      "Epoch 83/300\n",
      "88/88 [==============================] - 0s 469us/step - loss: 182856.3438 - val_loss: 171095.0000\n",
      "Epoch 84/300\n",
      "88/88 [==============================] - 0s 468us/step - loss: 181402.2031 - val_loss: 171928.3750\n",
      "Epoch 85/300\n",
      "88/88 [==============================] - 0s 467us/step - loss: 181243.3906 - val_loss: 174475.7812\n",
      "Epoch 86/300\n",
      "88/88 [==============================] - 0s 470us/step - loss: 180990.4062 - val_loss: 170172.6406\n",
      "Epoch 87/300\n",
      "88/88 [==============================] - 0s 480us/step - loss: 180690.3594 - val_loss: 173918.5938\n",
      "Epoch 88/300\n",
      "88/88 [==============================] - 0s 484us/step - loss: 181018.7812 - val_loss: 169524.1250\n",
      "Epoch 89/300\n",
      "88/88 [==============================] - 0s 528us/step - loss: 180866.1875 - val_loss: 169274.7656\n",
      "Epoch 90/300\n",
      "88/88 [==============================] - 0s 722us/step - loss: 180321.2656 - val_loss: 169604.6719\n",
      "Epoch 91/300\n",
      "88/88 [==============================] - 0s 585us/step - loss: 179890.7500 - val_loss: 170215.8750\n",
      "Epoch 92/300\n",
      "88/88 [==============================] - 0s 491us/step - loss: 179937.5000 - val_loss: 169456.7344\n",
      "Epoch 93/300\n",
      "88/88 [==============================] - 0s 485us/step - loss: 179413.2188 - val_loss: 168311.8125\n",
      "Epoch 94/300\n",
      "88/88 [==============================] - 0s 483us/step - loss: 178904.0312 - val_loss: 167580.8438\n",
      "Epoch 95/300\n",
      "88/88 [==============================] - 0s 491us/step - loss: 178638.7656 - val_loss: 167150.2188\n",
      "Epoch 96/300\n",
      "88/88 [==============================] - 0s 478us/step - loss: 178234.0000 - val_loss: 166717.2812\n",
      "Epoch 97/300\n",
      "88/88 [==============================] - 0s 475us/step - loss: 177649.2656 - val_loss: 166101.5781\n",
      "Epoch 98/300\n",
      "88/88 [==============================] - 0s 481us/step - loss: 177524.3906 - val_loss: 165820.1250\n",
      "Epoch 99/300\n",
      "88/88 [==============================] - 0s 469us/step - loss: 176971.4531 - val_loss: 167966.7031\n",
      "Epoch 100/300\n",
      "88/88 [==============================] - 0s 475us/step - loss: 176245.0000 - val_loss: 165190.5156\n",
      "Epoch 101/300\n",
      "88/88 [==============================] - 0s 474us/step - loss: 176357.7031 - val_loss: 164365.1406\n",
      "Epoch 102/300\n",
      "88/88 [==============================] - 0s 471us/step - loss: 175414.4375 - val_loss: 163955.0312\n",
      "Epoch 103/300\n",
      "88/88 [==============================] - 0s 474us/step - loss: 174763.4688 - val_loss: 163518.5625\n",
      "Epoch 104/300\n",
      "88/88 [==============================] - 0s 467us/step - loss: 174646.5781 - val_loss: 163681.1406\n",
      "Epoch 105/300\n",
      "88/88 [==============================] - 0s 470us/step - loss: 174530.9844 - val_loss: 162464.9531\n",
      "Epoch 106/300\n",
      "88/88 [==============================] - 0s 483us/step - loss: 173760.9219 - val_loss: 161498.6250\n",
      "Epoch 107/300\n",
      "88/88 [==============================] - 0s 465us/step - loss: 172870.5000 - val_loss: 162027.3594\n",
      "Epoch 108/300\n",
      "88/88 [==============================] - 0s 476us/step - loss: 172512.5781 - val_loss: 162164.1250\n",
      "Epoch 109/300\n",
      "88/88 [==============================] - 0s 475us/step - loss: 172246.4688 - val_loss: 159361.3125\n",
      "Epoch 110/300\n",
      "88/88 [==============================] - 0s 926us/step - loss: 170615.3750 - val_loss: 160773.0625\n",
      "Epoch 111/300\n",
      "88/88 [==============================] - 0s 827us/step - loss: 170732.6875 - val_loss: 159627.5312\n",
      "Epoch 112/300\n",
      "88/88 [==============================] - 0s 646us/step - loss: 169886.0781 - val_loss: 159267.6406\n",
      "Epoch 113/300\n",
      "88/88 [==============================] - 0s 553us/step - loss: 168453.4219 - val_loss: 156565.2344\n",
      "Epoch 114/300\n",
      "88/88 [==============================] - 0s 532us/step - loss: 168403.2969 - val_loss: 156844.2500\n",
      "Epoch 115/300\n",
      "88/88 [==============================] - 0s 509us/step - loss: 167403.1250 - val_loss: 154387.1562\n",
      "Epoch 116/300\n",
      "88/88 [==============================] - 0s 527us/step - loss: 166095.6719 - val_loss: 154618.4688\n",
      "Epoch 117/300\n",
      "88/88 [==============================] - 0s 527us/step - loss: 166102.8594 - val_loss: 152695.6406\n",
      "Epoch 118/300\n",
      "88/88 [==============================] - 0s 518us/step - loss: 164472.9219 - val_loss: 151715.7969\n",
      "Epoch 119/300\n",
      "88/88 [==============================] - 0s 486us/step - loss: 163042.8438 - val_loss: 150586.6094\n",
      "Epoch 120/300\n",
      "88/88 [==============================] - 0s 506us/step - loss: 162518.2500 - val_loss: 150372.0469\n",
      "Epoch 121/300\n",
      "88/88 [==============================] - 0s 488us/step - loss: 161991.2031 - val_loss: 149082.1875\n",
      "Epoch 122/300\n",
      "88/88 [==============================] - 0s 472us/step - loss: 160979.0000 - val_loss: 148392.4688\n",
      "Epoch 123/300\n",
      "88/88 [==============================] - 0s 476us/step - loss: 160024.6406 - val_loss: 147832.6094\n",
      "Epoch 124/300\n",
      "88/88 [==============================] - 0s 472us/step - loss: 158358.4531 - val_loss: 145835.2969\n",
      "Epoch 125/300\n",
      "88/88 [==============================] - 0s 471us/step - loss: 157677.9688 - val_loss: 144706.2969\n",
      "Epoch 126/300\n",
      "88/88 [==============================] - 0s 479us/step - loss: 156539.1719 - val_loss: 144380.0781\n",
      "Epoch 127/300\n",
      "88/88 [==============================] - 0s 468us/step - loss: 155213.7969 - val_loss: 146732.7344\n",
      "Epoch 128/300\n",
      "88/88 [==============================] - 0s 470us/step - loss: 154758.9062 - val_loss: 142150.3125\n",
      "Epoch 129/300\n",
      "88/88 [==============================] - 0s 466us/step - loss: 153962.7031 - val_loss: 142884.0469\n",
      "Epoch 130/300\n",
      "88/88 [==============================] - 0s 468us/step - loss: 153149.5781 - val_loss: 140717.5000\n",
      "Epoch 131/300\n",
      "88/88 [==============================] - 0s 513us/step - loss: 153013.9375 - val_loss: 144043.0312\n",
      "Epoch 132/300\n",
      "88/88 [==============================] - 0s 485us/step - loss: 151410.5938 - val_loss: 139644.9688\n",
      "Epoch 133/300\n",
      "88/88 [==============================] - 0s 473us/step - loss: 150522.7188 - val_loss: 142428.1875\n",
      "Epoch 134/300\n",
      "88/88 [==============================] - 0s 472us/step - loss: 150370.4688 - val_loss: 139415.9375\n",
      "Epoch 135/300\n",
      "88/88 [==============================] - 0s 553us/step - loss: 149482.6094 - val_loss: 137669.5938\n",
      "Epoch 136/300\n",
      "88/88 [==============================] - 0s 502us/step - loss: 149006.0625 - val_loss: 137717.1719\n",
      "Epoch 137/300\n",
      "88/88 [==============================] - 0s 497us/step - loss: 148030.4531 - val_loss: 136825.6875\n",
      "Epoch 138/300\n",
      "88/88 [==============================] - 0s 492us/step - loss: 148122.9844 - val_loss: 138567.7188\n",
      "Epoch 139/300\n",
      "88/88 [==============================] - 0s 475us/step - loss: 147524.0781 - val_loss: 135675.5938\n",
      "Epoch 140/300\n",
      "88/88 [==============================] - 0s 464us/step - loss: 146544.2969 - val_loss: 136078.5156\n",
      "Epoch 141/300\n",
      "88/88 [==============================] - 0s 470us/step - loss: 145931.7656 - val_loss: 134300.7969\n",
      "Epoch 142/300\n",
      "88/88 [==============================] - 0s 466us/step - loss: 145280.4688 - val_loss: 134478.3594\n",
      "Epoch 143/300\n",
      "88/88 [==============================] - 0s 471us/step - loss: 144408.8125 - val_loss: 133396.8438\n",
      "Epoch 144/300\n",
      "88/88 [==============================] - 0s 467us/step - loss: 143815.1250 - val_loss: 132975.0938\n",
      "Epoch 145/300\n",
      "88/88 [==============================] - 0s 465us/step - loss: 143721.4688 - val_loss: 133206.6250\n",
      "Epoch 146/300\n",
      "88/88 [==============================] - 0s 483us/step - loss: 143274.9062 - val_loss: 132849.7812\n"
     ]
    },
    {
     "name": "stdout",
     "output_type": "stream",
     "text": [
      "Epoch 147/300\n",
      "88/88 [==============================] - 0s 530us/step - loss: 142999.7656 - val_loss: 131931.2656\n",
      "Epoch 148/300\n",
      "88/88 [==============================] - 0s 642us/step - loss: 141544.5000 - val_loss: 131686.3906\n",
      "Epoch 149/300\n",
      "88/88 [==============================] - 0s 770us/step - loss: 140984.8125 - val_loss: 131065.0859\n",
      "Epoch 150/300\n",
      "88/88 [==============================] - 0s 485us/step - loss: 140161.8438 - val_loss: 131316.7812\n",
      "Epoch 151/300\n",
      "88/88 [==============================] - 0s 547us/step - loss: 139872.5469 - val_loss: 130602.6797\n",
      "Epoch 152/300\n",
      "88/88 [==============================] - 0s 478us/step - loss: 139451.3125 - val_loss: 129629.8438\n",
      "Epoch 153/300\n",
      "88/88 [==============================] - 0s 476us/step - loss: 139090.9688 - val_loss: 132449.5938\n",
      "Epoch 154/300\n",
      "88/88 [==============================] - 0s 475us/step - loss: 138392.2031 - val_loss: 129474.9219\n",
      "Epoch 155/300\n",
      "88/88 [==============================] - 0s 471us/step - loss: 137415.0312 - val_loss: 129240.0703\n",
      "Epoch 156/300\n",
      "88/88 [==============================] - 0s 471us/step - loss: 137172.0156 - val_loss: 130678.4219\n",
      "Epoch 157/300\n",
      "88/88 [==============================] - 0s 468us/step - loss: 137220.2500 - val_loss: 128784.8750\n",
      "Epoch 158/300\n",
      "88/88 [==============================] - 0s 475us/step - loss: 136919.3906 - val_loss: 128717.9609\n",
      "Epoch 159/300\n",
      "88/88 [==============================] - 0s 477us/step - loss: 136446.8594 - val_loss: 129966.7656\n",
      "Epoch 160/300\n",
      "88/88 [==============================] - 0s 475us/step - loss: 135645.0625 - val_loss: 129087.3984\n",
      "Epoch 161/300\n",
      "88/88 [==============================] - 0s 474us/step - loss: 135739.1719 - val_loss: 127706.3281\n",
      "Epoch 162/300\n",
      "88/88 [==============================] - 0s 467us/step - loss: 134558.7812 - val_loss: 126597.2031\n",
      "Epoch 163/300\n",
      "88/88 [==============================] - 0s 462us/step - loss: 134381.6406 - val_loss: 131115.9844\n",
      "Epoch 164/300\n",
      "88/88 [==============================] - 0s 464us/step - loss: 134464.5625 - val_loss: 126653.1250\n",
      "Epoch 165/300\n",
      "88/88 [==============================] - 0s 464us/step - loss: 134231.9531 - val_loss: 128278.0859\n",
      "Epoch 166/300\n",
      "88/88 [==============================] - 0s 462us/step - loss: 134969.5312 - val_loss: 127099.1250\n",
      "Epoch 167/300\n",
      "88/88 [==============================] - 0s 470us/step - loss: 133652.3594 - val_loss: 126505.1953\n",
      "Epoch 168/300\n",
      "88/88 [==============================] - 0s 468us/step - loss: 132775.8906 - val_loss: 128309.3984\n",
      "Epoch 169/300\n",
      "88/88 [==============================] - 0s 486us/step - loss: 132712.5625 - val_loss: 126907.1875\n",
      "Epoch 170/300\n",
      "88/88 [==============================] - 0s 500us/step - loss: 132364.0469 - val_loss: 126444.9766\n",
      "Epoch 171/300\n",
      "88/88 [==============================] - 0s 508us/step - loss: 132019.7031 - val_loss: 126647.6094\n",
      "Epoch 172/300\n",
      "88/88 [==============================] - 0s 506us/step - loss: 131241.4844 - val_loss: 125353.9141\n",
      "Epoch 173/300\n",
      "88/88 [==============================] - 0s 479us/step - loss: 130983.6719 - val_loss: 125583.5000\n",
      "Epoch 174/300\n",
      "88/88 [==============================] - 0s 470us/step - loss: 131134.4375 - val_loss: 125624.3047\n",
      "Epoch 175/300\n",
      "88/88 [==============================] - 0s 473us/step - loss: 130141.9531 - val_loss: 124654.4453\n",
      "Epoch 176/300\n",
      "88/88 [==============================] - 0s 467us/step - loss: 130796.9141 - val_loss: 125704.9219\n",
      "Epoch 177/300\n",
      "88/88 [==============================] - 0s 464us/step - loss: 129640.3594 - val_loss: 125236.6016\n",
      "Epoch 178/300\n",
      "88/88 [==============================] - 0s 464us/step - loss: 129409.3047 - val_loss: 127156.6484\n",
      "Epoch 179/300\n",
      "88/88 [==============================] - 0s 465us/step - loss: 129248.1562 - val_loss: 124827.5938\n",
      "Epoch 180/300\n",
      "88/88 [==============================] - 0s 482us/step - loss: 128742.1797 - val_loss: 124944.2188\n",
      "Epoch 181/300\n",
      "88/88 [==============================] - 0s 490us/step - loss: 128930.6719 - val_loss: 124597.8672\n",
      "Epoch 182/300\n",
      "88/88 [==============================] - 0s 496us/step - loss: 128264.5078 - val_loss: 124110.3203\n",
      "Epoch 183/300\n",
      "88/88 [==============================] - 0s 517us/step - loss: 129345.2188 - val_loss: 125581.8984\n",
      "Epoch 184/300\n",
      "88/88 [==============================] - 0s 585us/step - loss: 128043.2578 - val_loss: 123795.5938\n",
      "Epoch 185/300\n",
      "88/88 [==============================] - 0s 547us/step - loss: 128312.6250 - val_loss: 123670.9375\n",
      "Epoch 186/300\n",
      "88/88 [==============================] - 0s 529us/step - loss: 126629.0156 - val_loss: 123414.3203\n",
      "Epoch 187/300\n",
      "88/88 [==============================] - 0s 482us/step - loss: 126730.7344 - val_loss: 124389.7266\n",
      "Epoch 188/300\n",
      "88/88 [==============================] - 0s 476us/step - loss: 126194.1094 - val_loss: 124450.7422\n",
      "Epoch 189/300\n",
      "88/88 [==============================] - 0s 471us/step - loss: 127054.5703 - val_loss: 123863.4219\n",
      "Epoch 190/300\n",
      "88/88 [==============================] - 0s 495us/step - loss: 126367.3047 - val_loss: 123680.8672\n",
      "Epoch 191/300\n",
      "88/88 [==============================] - 0s 554us/step - loss: 126458.2266 - val_loss: 124152.2031\n",
      "Epoch 192/300\n",
      "88/88 [==============================] - 0s 579us/step - loss: 126013.8438 - val_loss: 127988.9453\n",
      "Epoch 193/300\n",
      "88/88 [==============================] - 0s 684us/step - loss: 126508.5312 - val_loss: 126401.8750\n",
      "Epoch 194/300\n",
      "88/88 [==============================] - 0s 713us/step - loss: 125797.8359 - val_loss: 126274.9062\n",
      "Epoch 195/300\n",
      "88/88 [==============================] - 0s 505us/step - loss: 124622.2812 - val_loss: 124433.3828\n",
      "Epoch 196/300\n",
      "88/88 [==============================] - 0s 509us/step - loss: 124576.4453 - val_loss: 127931.8906\n",
      "55/55 [==============================] - 0s 245us/step\n",
      "Mean Squared Error: 131905.83992011592\n",
      "Root Mean Squared Error: 363.1884358292757\n",
      "R-squared: 0.6736163965390649\n",
      "Adjusted R-squared: 0.6723063706077423\n"
     ]
    }
   ],
   "source": [
    "from keras.models import Sequential\n",
    "from keras.layers import Dense\n",
    "\n",
    "model = Sequential()\n",
    "\n",
    "model.add(Dense(units=64, activation='relu', input_dim=X_train_scaled.shape[1]))\n",
    "\n",
    "model.add(Dense(units=32, activation='relu'))\n",
    "\n",
    "model.add(Dense(units=16, activation='relu'))\n",
    "\n",
    "model.add(Dense(units=8, activation='relu'))\n",
    "\n",
    "model.add(Dense(units=1, activation='linear'))\n",
    "\n",
    "model.compile(optimizer='adam', loss='mean_squared_error')\n",
    "\n",
    "#from keras.layers import Dropout\n",
    "#model.add(Dropout(0.5)) \n",
    "\n",
    "#from keras.regularizers import l1, l2\n",
    "#model.add(Dense(units=64, activation='relu', input_dim=X_train.shape[1], kernel_regularizer=l2(0.01)))\n",
    "\n",
    "from keras.callbacks import EarlyStopping\n",
    "early_stopping = EarlyStopping(monitor='val_loss', patience = 10, restore_best_weights=True)\n",
    "model.fit(X_train_scaled, y_train, epochs = 300, batch_size = 64, validation_split=0.2, callbacks=[early_stopping])\n",
    "\n",
    "y_pred = model.predict(X_test_scaled)\n",
    "\n",
    "mse = mean_squared_error(y_test, y_pred)\n",
    "mse_r = mean_squared_error(y_test, y_pred, squared = False)\n",
    "r2 = r2_score(y_test, y_pred)\n",
    "\n",
    "n = len(y_test)\n",
    "k = X_train_scaled.shape[1]  \n",
    "adj_r2 = 1 - ((1 - r2) * (n - 1) / (n - k - 1))\n",
    "\n",
    "print(f'Mean Squared Error: {mse}')\n",
    "print(f'Root Mean Squared Error: {mse_r}')\n",
    "print(f'R-squared: {r2}')\n",
    "print(f'Adjusted R-squared: {adj_r2}')"
   ]
  },
  {
   "cell_type": "code",
   "execution_count": 53,
   "id": "82226ac5",
   "metadata": {},
   "outputs": [
    {
     "name": "stdout",
     "output_type": "stream",
     "text": [
      "Mean Squared Error: 131905.83992011592\n",
      "Root Mean Squared Error: 363.1884358292757\n",
      "R-squared: 0.6736163965390649\n",
      "Adjusted R-squared: 0.6723063706077423\n"
     ]
    }
   ],
   "source": [
    "print(f'Mean Squared Error: {mse}')\n",
    "print(f'Root Mean Squared Error: {mse_r}')\n",
    "print(f'R-squared: {r2}')\n",
    "print(f'Adjusted R-squared: {adj_r2}')"
   ]
  },
  {
   "cell_type": "code",
   "execution_count": 54,
   "id": "077803f9",
   "metadata": {},
   "outputs": [
    {
     "name": "stdout",
     "output_type": "stream",
     "text": [
      "219/219 [==============================] - 0s 204us/step\n",
      "55/55 [==============================] - 0s 254us/step\n",
      "Training MSE: 125348.78830246927\n",
      "Validation MSE: 131905.83992011592\n",
      "Huber Loss: [[249.41485596 431.41485596 312.41485596 ... 233.58514404 239.41485596\n",
      "  273.41485596]\n",
      " [192.44987488  10.44987488 129.44987488 ... 676.44987488 202.44987488\n",
      "  168.44987488]\n",
      " [153.90060425 335.90060425 216.90060425 ... 329.09939575 143.90060425\n",
      "  177.90060425]\n",
      " ...\n",
      " [727.59075928 909.59075928 790.59075928 ... 243.59075928 717.59075928\n",
      "  751.59075928]\n",
      " [175.22363281   5.77636719 112.22363281 ... 659.22363281 185.22363281\n",
      "  151.22363281]\n",
      " [128.78451538 310.78451538 191.78451538 ... 354.21548462 118.78451538\n",
      "  152.78451538]]\n",
      "Mean Huber Loss: 628.3937934212064\n"
     ]
    }
   ],
   "source": [
    "train_pred = model.predict(X_train_scaled)\n",
    "test_pred = model.predict(X_test_scaled)\n",
    "\n",
    "from sklearn.metrics import mean_squared_error, r2_score\n",
    "\n",
    "train_mse = mean_squared_error(y_train, train_pred)\n",
    "test_mse = mean_squared_error(y_test, test_pred)\n",
    "\n",
    "print(f'Training MSE: {train_mse}')\n",
    "print(f'Validation MSE: {test_mse}')\n",
    "\n",
    "import tensorflow as tf\n",
    "def huber_loss(y_test, y_pred, delta = 1.0):\n",
    "    error = y_test - y_pred\n",
    "    condition = tf.abs(error) < delta\n",
    "    squared_loss = 0.5 * tf.square(error)\n",
    "    linear_loss = delta * (tf.abs(error) - 0.5 * delta)\n",
    "    return tf.where(condition, squared_loss, linear_loss)\n",
    "\n",
    "loss = huber_loss(y_test, y_pred, delta = 1.0)\n",
    "print(\"Huber Loss:\", loss.numpy())\n",
    "\n",
    "mean_huber_loss = np.mean(loss)\n",
    "print(f\"Mean Huber Loss: {mean_huber_loss}\")"
   ]
  },
  {
   "cell_type": "code",
   "execution_count": null,
   "id": "e823c99a",
   "metadata": {},
   "outputs": [],
   "source": []
  },
  {
   "cell_type": "code",
   "execution_count": 55,
   "id": "c3b99ecb",
   "metadata": {
    "collapsed": true
   },
   "outputs": [
    {
     "name": "stdout",
     "output_type": "stream",
     "text": [
      "Epoch 1/200\n",
      "77/77 [==============================] - 0s 1ms/step - loss: 913794.8750 - val_loss: 891574.6875\n",
      "Epoch 2/200\n",
      "77/77 [==============================] - 0s 567us/step - loss: 728114.1875 - val_loss: 441835.0938\n",
      "Epoch 3/200\n",
      "77/77 [==============================] - 0s 626us/step - loss: 364390.3438 - val_loss: 338901.4062\n",
      "Epoch 4/200\n",
      "77/77 [==============================] - 0s 709us/step - loss: 334519.5000 - val_loss: 319000.7500\n",
      "Epoch 5/200\n",
      "77/77 [==============================] - 0s 661us/step - loss: 315934.4375 - val_loss: 300392.0938\n",
      "Epoch 6/200\n",
      "77/77 [==============================] - 0s 630us/step - loss: 297952.5000 - val_loss: 281574.4062\n",
      "Epoch 7/200\n",
      "77/77 [==============================] - 0s 601us/step - loss: 280341.4062 - val_loss: 263492.0312\n",
      "Epoch 8/200\n",
      "77/77 [==============================] - 0s 774us/step - loss: 263635.8438 - val_loss: 246968.9062\n",
      "Epoch 9/200\n",
      "77/77 [==============================] - 0s 677us/step - loss: 249676.5938 - val_loss: 233449.5781\n",
      "Epoch 10/200\n",
      "77/77 [==============================] - 0s 705us/step - loss: 238611.8594 - val_loss: 223171.0938\n",
      "Epoch 11/200\n",
      "77/77 [==============================] - 0s 672us/step - loss: 230367.2031 - val_loss: 218237.6875\n",
      "Epoch 12/200\n",
      "77/77 [==============================] - 0s 586us/step - loss: 225985.1875 - val_loss: 210816.8125\n",
      "Epoch 13/200\n",
      "77/77 [==============================] - 0s 559us/step - loss: 221513.0469 - val_loss: 207451.0469\n",
      "Epoch 14/200\n",
      "77/77 [==============================] - 0s 531us/step - loss: 218594.0469 - val_loss: 204797.4062\n",
      "Epoch 15/200\n",
      "77/77 [==============================] - 0s 522us/step - loss: 216603.9375 - val_loss: 202651.8594\n",
      "Epoch 16/200\n",
      "77/77 [==============================] - 0s 527us/step - loss: 215143.4531 - val_loss: 200985.4375\n",
      "Epoch 17/200\n",
      "77/77 [==============================] - 0s 524us/step - loss: 213733.8750 - val_loss: 199741.0000\n",
      "Epoch 18/200\n",
      "77/77 [==============================] - 0s 541us/step - loss: 212381.2344 - val_loss: 197776.2188\n",
      "Epoch 19/200\n",
      "77/77 [==============================] - 0s 565us/step - loss: 210793.1719 - val_loss: 196154.6406\n",
      "Epoch 20/200\n",
      "77/77 [==============================] - 0s 566us/step - loss: 210348.5625 - val_loss: 194841.2656\n",
      "Epoch 21/200\n",
      "77/77 [==============================] - 0s 534us/step - loss: 208248.0625 - val_loss: 196550.1562\n",
      "Epoch 22/200\n",
      "77/77 [==============================] - 0s 533us/step - loss: 208021.1250 - val_loss: 193226.6875\n",
      "Epoch 23/200\n",
      "77/77 [==============================] - 0s 521us/step - loss: 207028.2812 - val_loss: 192490.5625\n",
      "Epoch 24/200\n",
      "77/77 [==============================] - 0s 533us/step - loss: 207200.5781 - val_loss: 191406.3125\n",
      "Epoch 25/200\n",
      "77/77 [==============================] - 0s 538us/step - loss: 206718.3594 - val_loss: 189921.9375\n",
      "Epoch 26/200\n",
      "77/77 [==============================] - 0s 524us/step - loss: 204540.0938 - val_loss: 188609.5000\n",
      "Epoch 27/200\n",
      "77/77 [==============================] - 0s 523us/step - loss: 203564.5781 - val_loss: 188048.0781\n",
      "Epoch 28/200\n",
      "77/77 [==============================] - 0s 522us/step - loss: 202949.6406 - val_loss: 187295.1250\n",
      "Epoch 29/200\n",
      "77/77 [==============================] - 0s 519us/step - loss: 202663.0156 - val_loss: 186625.3594\n",
      "Epoch 30/200\n",
      "77/77 [==============================] - 0s 513us/step - loss: 201202.9844 - val_loss: 186739.4062\n",
      "Epoch 31/200\n",
      "77/77 [==============================] - 0s 518us/step - loss: 201148.6094 - val_loss: 184795.8281\n",
      "Epoch 32/200\n",
      "77/77 [==============================] - 0s 517us/step - loss: 199859.2344 - val_loss: 183475.7656\n",
      "Epoch 33/200\n",
      "77/77 [==============================] - 0s 516us/step - loss: 200417.0625 - val_loss: 183027.5312\n",
      "Epoch 34/200\n",
      "77/77 [==============================] - 0s 516us/step - loss: 198151.4219 - val_loss: 181812.3750\n",
      "Epoch 35/200\n",
      "77/77 [==============================] - 0s 529us/step - loss: 198006.2969 - val_loss: 181778.9219\n",
      "Epoch 36/200\n",
      "77/77 [==============================] - 0s 530us/step - loss: 197307.6875 - val_loss: 180568.5781\n",
      "Epoch 37/200\n",
      "77/77 [==============================] - 0s 533us/step - loss: 196502.4531 - val_loss: 179223.0938\n",
      "Epoch 38/200\n",
      "77/77 [==============================] - 0s 560us/step - loss: 195876.3750 - val_loss: 178610.9062\n",
      "Epoch 39/200\n",
      "77/77 [==============================] - 0s 541us/step - loss: 195578.7344 - val_loss: 177581.1406\n",
      "Epoch 40/200\n",
      "77/77 [==============================] - 0s 531us/step - loss: 194926.5000 - val_loss: 177429.1406\n",
      "Epoch 41/200\n",
      "77/77 [==============================] - 0s 524us/step - loss: 193783.7969 - val_loss: 176699.4531\n",
      "Epoch 42/200\n",
      "77/77 [==============================] - 0s 528us/step - loss: 193096.7344 - val_loss: 176248.0781\n",
      "Epoch 43/200\n",
      "77/77 [==============================] - 0s 533us/step - loss: 192294.0781 - val_loss: 174565.4688\n",
      "Epoch 44/200\n",
      "77/77 [==============================] - 0s 539us/step - loss: 191828.9375 - val_loss: 174659.5938\n",
      "Epoch 45/200\n",
      "77/77 [==============================] - 0s 542us/step - loss: 191128.0156 - val_loss: 175047.0469\n",
      "Epoch 46/200\n",
      "77/77 [==============================] - 0s 554us/step - loss: 190360.1719 - val_loss: 172613.7656\n",
      "Epoch 47/200\n",
      "77/77 [==============================] - 0s 553us/step - loss: 190162.1562 - val_loss: 172177.6406\n",
      "Epoch 48/200\n",
      "77/77 [==============================] - 0s 520us/step - loss: 189359.1875 - val_loss: 172337.8750\n",
      "Epoch 49/200\n",
      "77/77 [==============================] - 0s 557us/step - loss: 189753.8281 - val_loss: 170831.5000\n",
      "Epoch 50/200\n",
      "77/77 [==============================] - 0s 555us/step - loss: 189074.1406 - val_loss: 171609.7656\n",
      "Epoch 51/200\n",
      "77/77 [==============================] - 0s 571us/step - loss: 188217.2188 - val_loss: 169459.5938\n",
      "Epoch 52/200\n",
      "77/77 [==============================] - 0s 559us/step - loss: 187345.8594 - val_loss: 169472.8906\n",
      "Epoch 53/200\n",
      "77/77 [==============================] - 0s 549us/step - loss: 188772.4375 - val_loss: 169044.8281\n",
      "Epoch 54/200\n",
      "77/77 [==============================] - 0s 546us/step - loss: 186393.5156 - val_loss: 168060.2188\n",
      "Epoch 55/200\n",
      "77/77 [==============================] - 0s 519us/step - loss: 186051.5938 - val_loss: 167490.5156\n",
      "Epoch 56/200\n",
      "77/77 [==============================] - 0s 519us/step - loss: 185258.7812 - val_loss: 167238.2188\n",
      "Epoch 57/200\n",
      "77/77 [==============================] - 0s 516us/step - loss: 185291.2500 - val_loss: 166929.6562\n",
      "Epoch 58/200\n",
      "77/77 [==============================] - 0s 523us/step - loss: 185661.9844 - val_loss: 165970.0781\n",
      "Epoch 59/200\n",
      "77/77 [==============================] - 0s 510us/step - loss: 184637.1875 - val_loss: 167095.5000\n",
      "Epoch 60/200\n",
      "77/77 [==============================] - 0s 527us/step - loss: 184859.1719 - val_loss: 165576.0000\n",
      "Epoch 61/200\n",
      "77/77 [==============================] - 0s 546us/step - loss: 183540.2344 - val_loss: 164687.9375\n",
      "Epoch 62/200\n",
      "77/77 [==============================] - 0s 541us/step - loss: 184295.3750 - val_loss: 165934.8281\n",
      "Epoch 63/200\n",
      "77/77 [==============================] - 0s 552us/step - loss: 183011.9531 - val_loss: 164391.0781\n",
      "Epoch 64/200\n",
      "77/77 [==============================] - 0s 556us/step - loss: 182586.2969 - val_loss: 163588.0156\n",
      "Epoch 65/200\n",
      "77/77 [==============================] - 0s 578us/step - loss: 182037.1094 - val_loss: 163233.7812\n",
      "Epoch 66/200\n",
      "77/77 [==============================] - 0s 553us/step - loss: 181662.2656 - val_loss: 164598.7656\n",
      "Epoch 67/200\n",
      "77/77 [==============================] - 0s 546us/step - loss: 181230.1562 - val_loss: 163369.9375\n",
      "Epoch 68/200\n",
      "77/77 [==============================] - 0s 531us/step - loss: 181590.1719 - val_loss: 162078.2344\n",
      "Epoch 69/200\n",
      "77/77 [==============================] - 0s 520us/step - loss: 180951.8750 - val_loss: 162299.3125\n",
      "Epoch 70/200\n",
      "77/77 [==============================] - 0s 530us/step - loss: 180389.5938 - val_loss: 163437.4375\n",
      "Epoch 71/200\n",
      "77/77 [==============================] - 0s 528us/step - loss: 180192.5938 - val_loss: 161483.2500\n",
      "Epoch 72/200\n",
      "77/77 [==============================] - 0s 532us/step - loss: 180126.6406 - val_loss: 161974.1562\n",
      "Epoch 73/200\n",
      "77/77 [==============================] - 0s 673us/step - loss: 179588.0312 - val_loss: 160756.0781\n",
      "Epoch 74/200\n",
      "77/77 [==============================] - 0s 611us/step - loss: 179258.5000 - val_loss: 162078.7656\n",
      "Epoch 75/200\n",
      "77/77 [==============================] - 0s 641us/step - loss: 179668.0938 - val_loss: 160225.0469\n",
      "Epoch 76/200\n",
      "77/77 [==============================] - 0s 606us/step - loss: 178013.8750 - val_loss: 161159.5000\n",
      "Epoch 77/200\n",
      "77/77 [==============================] - 0s 624us/step - loss: 178039.2969 - val_loss: 159361.1406\n",
      "Epoch 78/200\n",
      "77/77 [==============================] - 0s 600us/step - loss: 178205.6719 - val_loss: 159431.8594\n",
      "Epoch 79/200\n",
      "77/77 [==============================] - 0s 810us/step - loss: 178942.0781 - val_loss: 158967.6250\n",
      "Epoch 80/200\n",
      "77/77 [==============================] - 0s 568us/step - loss: 177024.4375 - val_loss: 159737.4375\n",
      "Epoch 81/200\n",
      "77/77 [==============================] - 0s 552us/step - loss: 177218.8125 - val_loss: 160618.0156\n",
      "Epoch 82/200\n",
      "77/77 [==============================] - 0s 612us/step - loss: 176765.6562 - val_loss: 158182.5781\n",
      "Epoch 83/200\n",
      "77/77 [==============================] - 0s 764us/step - loss: 176194.5312 - val_loss: 157975.4062\n",
      "Epoch 84/200\n",
      "77/77 [==============================] - 0s 655us/step - loss: 178241.6250 - val_loss: 158271.3750\n",
      "Epoch 85/200\n",
      "77/77 [==============================] - 0s 608us/step - loss: 176671.9375 - val_loss: 161337.6250\n",
      "Epoch 86/200\n",
      "77/77 [==============================] - 0s 564us/step - loss: 175664.0156 - val_loss: 157376.5469\n",
      "Epoch 87/200\n",
      "77/77 [==============================] - 0s 535us/step - loss: 175239.1094 - val_loss: 157188.2188\n",
      "Epoch 88/200\n",
      "77/77 [==============================] - 0s 524us/step - loss: 175099.1719 - val_loss: 160759.5625\n",
      "Epoch 89/200\n",
      "77/77 [==============================] - 0s 528us/step - loss: 174949.6406 - val_loss: 156801.8594\n",
      "Epoch 90/200\n",
      "77/77 [==============================] - 0s 544us/step - loss: 174672.0625 - val_loss: 158102.0469\n",
      "Epoch 91/200\n",
      "77/77 [==============================] - 0s 562us/step - loss: 173709.5625 - val_loss: 157384.1094\n",
      "Epoch 92/200\n",
      "77/77 [==============================] - 0s 727us/step - loss: 173508.6562 - val_loss: 156051.2500\n",
      "Epoch 93/200\n",
      "77/77 [==============================] - 0s 645us/step - loss: 173067.8281 - val_loss: 159777.2656\n",
      "Epoch 94/200\n",
      "77/77 [==============================] - 0s 767us/step - loss: 173310.9844 - val_loss: 155648.5312\n",
      "Epoch 95/200\n",
      "77/77 [==============================] - 0s 566us/step - loss: 173218.7500 - val_loss: 155134.4531\n",
      "Epoch 96/200\n",
      "77/77 [==============================] - 0s 528us/step - loss: 173176.9219 - val_loss: 156195.4531\n",
      "Epoch 97/200\n",
      "77/77 [==============================] - 0s 534us/step - loss: 172194.3594 - val_loss: 155989.8281\n",
      "Epoch 98/200\n",
      "77/77 [==============================] - 0s 532us/step - loss: 172222.5625 - val_loss: 157653.2969\n",
      "Epoch 99/200\n",
      "77/77 [==============================] - 0s 525us/step - loss: 171982.1719 - val_loss: 154566.4062\n",
      "Epoch 100/200\n",
      "77/77 [==============================] - 0s 543us/step - loss: 171580.2812 - val_loss: 156511.2969\n",
      "Epoch 101/200\n",
      "77/77 [==============================] - 0s 559us/step - loss: 171881.2500 - val_loss: 155011.0312\n",
      "Epoch 102/200\n",
      "77/77 [==============================] - 0s 787us/step - loss: 171098.8438 - val_loss: 153476.0625\n",
      "Epoch 103/200\n",
      "77/77 [==============================] - 0s 631us/step - loss: 170985.3594 - val_loss: 158518.7031\n",
      "Epoch 104/200\n",
      "77/77 [==============================] - 0s 680us/step - loss: 170879.5625 - val_loss: 156540.3906\n",
      "Epoch 105/200\n",
      "77/77 [==============================] - 0s 573us/step - loss: 170233.3125 - val_loss: 153399.2500\n",
      "Epoch 106/200\n",
      "77/77 [==============================] - 0s 536us/step - loss: 172046.9531 - val_loss: 154230.8750\n",
      "Epoch 107/200\n",
      "77/77 [==============================] - 0s 530us/step - loss: 169568.7188 - val_loss: 152702.1562\n",
      "Epoch 108/200\n",
      "77/77 [==============================] - 0s 524us/step - loss: 170879.6094 - val_loss: 156406.6875\n",
      "Epoch 109/200\n",
      "77/77 [==============================] - 0s 541us/step - loss: 168848.3438 - val_loss: 152755.4062\n",
      "Epoch 110/200\n",
      "77/77 [==============================] - 0s 551us/step - loss: 169168.4375 - val_loss: 153045.5781\n",
      "Epoch 111/200\n",
      "77/77 [==============================] - 0s 544us/step - loss: 169022.5000 - val_loss: 152893.4844\n",
      "Epoch 112/200\n",
      "77/77 [==============================] - 0s 541us/step - loss: 169356.5469 - val_loss: 152173.5938\n",
      "Epoch 113/200\n",
      "77/77 [==============================] - 0s 552us/step - loss: 168195.2344 - val_loss: 151780.2344\n",
      "Epoch 114/200\n",
      "77/77 [==============================] - 0s 549us/step - loss: 168117.8438 - val_loss: 151316.0781\n",
      "Epoch 115/200\n",
      "77/77 [==============================] - 0s 549us/step - loss: 167777.4531 - val_loss: 155468.5312\n",
      "Epoch 116/200\n",
      "77/77 [==============================] - 0s 544us/step - loss: 168420.4375 - val_loss: 152048.9844\n",
      "Epoch 117/200\n",
      "77/77 [==============================] - 0s 549us/step - loss: 168223.7031 - val_loss: 150964.2812\n",
      "Epoch 118/200\n",
      "77/77 [==============================] - 0s 544us/step - loss: 166770.3125 - val_loss: 153855.2969\n",
      "Epoch 119/200\n",
      "77/77 [==============================] - 0s 539us/step - loss: 166845.3906 - val_loss: 150486.3281\n",
      "Epoch 120/200\n",
      "77/77 [==============================] - 0s 547us/step - loss: 166574.1406 - val_loss: 150243.6719\n",
      "Epoch 121/200\n",
      "77/77 [==============================] - 0s 545us/step - loss: 166458.5156 - val_loss: 150099.8906\n",
      "Epoch 122/200\n",
      "77/77 [==============================] - 0s 551us/step - loss: 165886.1719 - val_loss: 149904.5156\n",
      "Epoch 123/200\n",
      "77/77 [==============================] - 0s 568us/step - loss: 165225.9688 - val_loss: 151025.3906\n",
      "Epoch 124/200\n",
      "77/77 [==============================] - 0s 566us/step - loss: 165846.8281 - val_loss: 149452.5156\n",
      "Epoch 125/200\n",
      "77/77 [==============================] - 0s 563us/step - loss: 164933.7969 - val_loss: 149411.9062\n",
      "Epoch 126/200\n",
      "77/77 [==============================] - 0s 564us/step - loss: 164905.6406 - val_loss: 149149.7812\n",
      "Epoch 127/200\n",
      "77/77 [==============================] - 0s 595us/step - loss: 164374.6094 - val_loss: 149002.6094\n",
      "Epoch 128/200\n",
      "77/77 [==============================] - 0s 539us/step - loss: 164212.0156 - val_loss: 149840.4844\n",
      "Epoch 129/200\n",
      "77/77 [==============================] - 0s 531us/step - loss: 164076.2500 - val_loss: 152675.6719\n",
      "Epoch 130/200\n",
      "77/77 [==============================] - 0s 553us/step - loss: 163916.8594 - val_loss: 148310.5000\n",
      "Epoch 131/200\n",
      "77/77 [==============================] - 0s 566us/step - loss: 163426.3125 - val_loss: 147567.3906\n",
      "Epoch 132/200\n",
      "77/77 [==============================] - 0s 557us/step - loss: 162750.9375 - val_loss: 149013.9844\n",
      "Epoch 133/200\n",
      "77/77 [==============================] - 0s 552us/step - loss: 162438.2031 - val_loss: 147488.8281\n",
      "Epoch 134/200\n",
      "77/77 [==============================] - 0s 548us/step - loss: 162172.2031 - val_loss: 146892.1094\n",
      "Epoch 135/200\n",
      "77/77 [==============================] - 0s 561us/step - loss: 162233.9531 - val_loss: 147334.5938\n",
      "Epoch 136/200\n",
      "77/77 [==============================] - 0s 563us/step - loss: 161561.8594 - val_loss: 150036.9531\n",
      "Epoch 137/200\n",
      "77/77 [==============================] - 0s 555us/step - loss: 162172.6094 - val_loss: 146143.9062\n",
      "Epoch 138/200\n",
      "77/77 [==============================] - 0s 543us/step - loss: 162705.7188 - val_loss: 147280.1719\n",
      "Epoch 139/200\n",
      "77/77 [==============================] - 0s 542us/step - loss: 161266.0000 - val_loss: 147025.7969\n",
      "Epoch 140/200\n",
      "77/77 [==============================] - 0s 544us/step - loss: 161202.4375 - val_loss: 145961.4062\n",
      "Epoch 141/200\n",
      "77/77 [==============================] - 0s 526us/step - loss: 160564.7969 - val_loss: 147059.3438\n",
      "Epoch 142/200\n",
      "77/77 [==============================] - 0s 518us/step - loss: 161652.9844 - val_loss: 145784.7500\n",
      "Epoch 143/200\n",
      "77/77 [==============================] - 0s 519us/step - loss: 160485.2344 - val_loss: 146036.7188\n",
      "Epoch 144/200\n",
      "77/77 [==============================] - 0s 523us/step - loss: 160593.7969 - val_loss: 145718.4062\n",
      "Epoch 145/200\n",
      "77/77 [==============================] - 0s 517us/step - loss: 159504.2344 - val_loss: 144448.3125\n",
      "Epoch 146/200\n",
      "77/77 [==============================] - 0s 510us/step - loss: 159581.9375 - val_loss: 144684.1875\n"
     ]
    },
    {
     "name": "stdout",
     "output_type": "stream",
     "text": [
      "Epoch 147/200\n",
      "77/77 [==============================] - 0s 536us/step - loss: 158711.5938 - val_loss: 149170.1250\n",
      "Epoch 148/200\n",
      "77/77 [==============================] - 0s 530us/step - loss: 159705.1250 - val_loss: 144573.3750\n",
      "Epoch 149/200\n",
      "77/77 [==============================] - 0s 523us/step - loss: 159654.6562 - val_loss: 146398.8906\n",
      "Epoch 150/200\n",
      "77/77 [==============================] - 0s 522us/step - loss: 159429.7031 - val_loss: 144007.5000\n",
      "Epoch 151/200\n",
      "77/77 [==============================] - 0s 531us/step - loss: 158376.2969 - val_loss: 143949.0781\n",
      "Epoch 152/200\n",
      "77/77 [==============================] - 0s 522us/step - loss: 158024.2656 - val_loss: 143364.7500\n",
      "Epoch 153/200\n",
      "77/77 [==============================] - 0s 519us/step - loss: 158655.8750 - val_loss: 143975.2656\n",
      "Epoch 154/200\n",
      "77/77 [==============================] - 0s 525us/step - loss: 158081.1250 - val_loss: 143218.0469\n",
      "Epoch 155/200\n",
      "77/77 [==============================] - 0s 529us/step - loss: 157419.0000 - val_loss: 143752.1094\n",
      "Epoch 156/200\n",
      "77/77 [==============================] - 0s 534us/step - loss: 157596.3594 - val_loss: 142634.0000\n",
      "Epoch 157/200\n",
      "77/77 [==============================] - 0s 527us/step - loss: 158002.4062 - val_loss: 143582.5312\n",
      "Epoch 158/200\n",
      "77/77 [==============================] - 0s 535us/step - loss: 157514.5156 - val_loss: 143203.6406\n",
      "Epoch 159/200\n",
      "77/77 [==============================] - 0s 527us/step - loss: 156966.3281 - val_loss: 142792.4844\n",
      "Epoch 160/200\n",
      "77/77 [==============================] - 0s 546us/step - loss: 156062.1406 - val_loss: 141963.0938\n",
      "Epoch 161/200\n",
      "77/77 [==============================] - 0s 537us/step - loss: 156730.9219 - val_loss: 141906.9062\n",
      "Epoch 162/200\n",
      "77/77 [==============================] - 0s 532us/step - loss: 157692.1562 - val_loss: 142931.5781\n",
      "Epoch 163/200\n",
      "77/77 [==============================] - 0s 514us/step - loss: 156211.4688 - val_loss: 142223.4062\n",
      "Epoch 164/200\n",
      "77/77 [==============================] - 0s 511us/step - loss: 155614.6875 - val_loss: 142671.2500\n",
      "Epoch 165/200\n",
      "77/77 [==============================] - 0s 518us/step - loss: 154419.4062 - val_loss: 142865.3438\n",
      "Epoch 166/200\n",
      "77/77 [==============================] - 0s 516us/step - loss: 156276.3125 - val_loss: 141196.4375\n",
      "Epoch 167/200\n",
      "77/77 [==============================] - 0s 515us/step - loss: 154740.7812 - val_loss: 141527.8750\n",
      "Epoch 168/200\n",
      "77/77 [==============================] - 0s 511us/step - loss: 155002.3438 - val_loss: 143720.9531\n",
      "Epoch 169/200\n",
      "77/77 [==============================] - 0s 511us/step - loss: 155749.7031 - val_loss: 145060.1719\n",
      "Epoch 170/200\n",
      "77/77 [==============================] - 0s 513us/step - loss: 156114.2500 - val_loss: 141957.9531\n",
      "Epoch 171/200\n",
      "77/77 [==============================] - 0s 519us/step - loss: 155035.6406 - val_loss: 140392.4375\n",
      "Epoch 172/200\n",
      "77/77 [==============================] - 0s 520us/step - loss: 153511.9062 - val_loss: 139708.2188\n",
      "Epoch 173/200\n",
      "77/77 [==============================] - 0s 530us/step - loss: 153557.0781 - val_loss: 139386.2188\n",
      "Epoch 174/200\n",
      "77/77 [==============================] - 0s 530us/step - loss: 153026.7812 - val_loss: 139404.5625\n",
      "Epoch 175/200\n",
      "77/77 [==============================] - 0s 522us/step - loss: 152652.7500 - val_loss: 139709.4688\n",
      "Epoch 176/200\n",
      "77/77 [==============================] - 0s 520us/step - loss: 152695.7031 - val_loss: 139030.5938\n",
      "Epoch 177/200\n",
      "77/77 [==============================] - 0s 514us/step - loss: 152634.6719 - val_loss: 140899.9062\n",
      "Epoch 178/200\n",
      "77/77 [==============================] - 0s 518us/step - loss: 151813.1094 - val_loss: 138625.7188\n",
      "Epoch 179/200\n",
      "77/77 [==============================] - 0s 518us/step - loss: 153471.2031 - val_loss: 140796.2969\n",
      "Epoch 180/200\n",
      "77/77 [==============================] - 0s 516us/step - loss: 151821.2500 - val_loss: 137723.3906\n",
      "Epoch 181/200\n",
      "77/77 [==============================] - 0s 517us/step - loss: 153413.8438 - val_loss: 137361.8125\n",
      "Epoch 182/200\n",
      "77/77 [==============================] - 0s 511us/step - loss: 152693.2812 - val_loss: 140341.5469\n",
      "Epoch 183/200\n",
      "77/77 [==============================] - 0s 520us/step - loss: 151105.4688 - val_loss: 146633.9375\n",
      "Epoch 184/200\n",
      "77/77 [==============================] - 0s 511us/step - loss: 151417.2656 - val_loss: 139005.2656\n",
      "Epoch 185/200\n",
      "77/77 [==============================] - 0s 511us/step - loss: 151508.8281 - val_loss: 138171.1562\n",
      "Epoch 186/200\n",
      "77/77 [==============================] - 0s 540us/step - loss: 149774.4375 - val_loss: 138375.1562\n",
      "Epoch 187/200\n",
      "77/77 [==============================] - 0s 546us/step - loss: 150403.2656 - val_loss: 136885.0469\n",
      "Epoch 188/200\n",
      "77/77 [==============================] - 0s 533us/step - loss: 150026.1875 - val_loss: 137286.3594\n",
      "Epoch 189/200\n",
      "77/77 [==============================] - 0s 521us/step - loss: 150131.2500 - val_loss: 138962.4688\n",
      "Epoch 190/200\n",
      "77/77 [==============================] - 0s 515us/step - loss: 149170.9844 - val_loss: 140492.5781\n",
      "Epoch 191/200\n",
      "77/77 [==============================] - 0s 516us/step - loss: 150223.1562 - val_loss: 137766.4844\n",
      "Epoch 192/200\n",
      "77/77 [==============================] - 0s 516us/step - loss: 148743.4688 - val_loss: 136114.3438\n",
      "Epoch 193/200\n",
      "77/77 [==============================] - 0s 511us/step - loss: 148371.5156 - val_loss: 138279.3750\n",
      "Epoch 194/200\n",
      "77/77 [==============================] - 0s 518us/step - loss: 148096.4531 - val_loss: 135076.7656\n",
      "Epoch 195/200\n",
      "77/77 [==============================] - 0s 510us/step - loss: 147801.0000 - val_loss: 135806.3125\n",
      "Epoch 196/200\n",
      "77/77 [==============================] - 0s 513us/step - loss: 148657.9375 - val_loss: 137363.7500\n",
      "Epoch 197/200\n",
      "77/77 [==============================] - 0s 517us/step - loss: 148180.0625 - val_loss: 135326.0938\n",
      "Epoch 198/200\n",
      "77/77 [==============================] - 0s 512us/step - loss: 148674.4219 - val_loss: 145899.7969\n",
      "Epoch 199/200\n",
      "77/77 [==============================] - 0s 534us/step - loss: 147048.5469 - val_loss: 136578.6094\n",
      "Epoch 200/200\n",
      "77/77 [==============================] - 0s 532us/step - loss: 146651.4062 - val_loss: 134521.8594\n",
      "Mean Squared Error: 131905.83992011592\n",
      "Root Mean Squared Error: 363.1884358292757\n",
      "R-squared: 0.6736163965390649\n",
      "Adjusted R-squared: 0.6723063706077423\n"
     ]
    }
   ],
   "source": [
    "from keras.models import Sequential\n",
    "from keras.layers import Dense\n",
    "\n",
    "model = Sequential()\n",
    "\n",
    "model.add(Dense(units=64, activation='relu', input_dim=X_train_scaled.shape[1]))\n",
    "\n",
    "model.add(Dense(units=32, activation='relu'))\n",
    "\n",
    "model.add(Dense(units=16, activation='relu'))\n",
    "\n",
    "model.add(Dense(units=8, activation='relu'))\n",
    "\n",
    "model.add(Dense(units=1, activation='linear'))\n",
    "\n",
    "model.compile(optimizer='adam', loss='mean_squared_error')\n",
    "\n",
    "#from keras.layers import Dropout\n",
    "#model.add(Dropout(0.5)) \n",
    "\n",
    "#from keras.regularizers import l1, l2\n",
    "#model.add(Dense(units=64, activation='relu', input_dim=X_train.shape[1], kernel_regularizer=l2(0.01)))\n",
    "\n",
    "from keras.callbacks import EarlyStopping\n",
    "early_stopping = EarlyStopping(monitor='val_loss', patience = 10, restore_best_weights=True)\n",
    "model.fit(X_train_scaled, y_train, epochs = 200, batch_size = 64, validation_split=0.3, callbacks=[early_stopping])\n",
    "\n",
    "mse = mean_squared_error(y_test, y_pred)\n",
    "mse_r = mean_squared_error(y_test, y_pred, squared = False)\n",
    "r2 = r2_score(y_test, y_pred)\n",
    "\n",
    "n = len(y_test)\n",
    "k = X_train_scaled.shape[1]  \n",
    "adj_r2 = 1 - ((1 - r2) * (n - 1) / (n - k - 1))\n",
    "\n",
    "print(f'Mean Squared Error: {mse}')\n",
    "print(f'Root Mean Squared Error: {mse_r}')\n",
    "print(f'R-squared: {r2}')\n",
    "print(f'Adjusted R-squared: {adj_r2}')"
   ]
  },
  {
   "cell_type": "code",
   "execution_count": 56,
   "id": "f4ed3263",
   "metadata": {},
   "outputs": [
    {
     "name": "stdout",
     "output_type": "stream",
     "text": [
      "Mean Squared Error: 131905.83992011592\n",
      "Root Mean Squared Error: 363.1884358292757\n",
      "R-squared: 0.6736163965390649\n",
      "Adjusted R-squared: 0.6723063706077423\n"
     ]
    }
   ],
   "source": [
    "print(f'Mean Squared Error: {mse}')\n",
    "print(f'Root Mean Squared Error: {mse_r}')\n",
    "print(f'R-squared: {r2}')\n",
    "print(f'Adjusted R-squared: {adj_r2}')"
   ]
  },
  {
   "cell_type": "code",
   "execution_count": 57,
   "id": "53397bb4",
   "metadata": {},
   "outputs": [
    {
     "name": "stdout",
     "output_type": "stream",
     "text": [
      "219/219 [==============================] - 0s 206us/step\n",
      "55/55 [==============================] - 0s 237us/step\n",
      "Training MSE: 141769.38970322226\n",
      "Validation MSE: 143113.9292923471\n",
      "Huber Loss: [[249.41485596 431.41485596 312.41485596 ... 233.58514404 239.41485596\n",
      "  273.41485596]\n",
      " [192.44987488  10.44987488 129.44987488 ... 676.44987488 202.44987488\n",
      "  168.44987488]\n",
      " [153.90060425 335.90060425 216.90060425 ... 329.09939575 143.90060425\n",
      "  177.90060425]\n",
      " ...\n",
      " [727.59075928 909.59075928 790.59075928 ... 243.59075928 717.59075928\n",
      "  751.59075928]\n",
      " [175.22363281   5.77636719 112.22363281 ... 659.22363281 185.22363281\n",
      "  151.22363281]\n",
      " [128.78451538 310.78451538 191.78451538 ... 354.21548462 118.78451538\n",
      "  152.78451538]]\n",
      "Mean Huber Loss: 628.3937934212064\n"
     ]
    }
   ],
   "source": [
    "train_pred = model.predict(X_train_scaled)\n",
    "test_pred = model.predict(X_test_scaled)\n",
    "\n",
    "from sklearn.metrics import mean_squared_error, r2_score\n",
    "\n",
    "train_mse = mean_squared_error(y_train, train_pred)\n",
    "test_mse = mean_squared_error(y_test, test_pred)\n",
    "\n",
    "print(f'Training MSE: {train_mse}')\n",
    "print(f'Validation MSE: {test_mse}')\n",
    "\n",
    "import tensorflow as tf\n",
    "def huber_loss(y_test, y_pred, delta = 1.0):\n",
    "    error = y_test - y_pred\n",
    "    condition = tf.abs(error) < delta\n",
    "    squared_loss = 0.5 * tf.square(error)\n",
    "    linear_loss = delta * (tf.abs(error) - 0.5 * delta)\n",
    "    return tf.where(condition, squared_loss, linear_loss)\n",
    "\n",
    "loss = huber_loss(y_test, y_pred, delta = 1.0)\n",
    "print(\"Huber Loss:\", loss.numpy())\n",
    "\n",
    "mean_huber_loss = np.mean(loss)\n",
    "print(f\"Mean Huber Loss: {mean_huber_loss}\")"
   ]
  },
  {
   "cell_type": "code",
   "execution_count": null,
   "id": "3e549f40",
   "metadata": {},
   "outputs": [],
   "source": []
  },
  {
   "cell_type": "markdown",
   "id": "f0d8b450",
   "metadata": {},
   "source": [
    "# SVM"
   ]
  },
  {
   "cell_type": "code",
   "execution_count": 58,
   "id": "577688c3",
   "metadata": {},
   "outputs": [],
   "source": [
    "from sklearn import svm"
   ]
  },
  {
   "cell_type": "code",
   "execution_count": 59,
   "id": "ff30a011",
   "metadata": {},
   "outputs": [
    {
     "name": "stdout",
     "output_type": "stream",
     "text": [
      "Mean Squared Error: 249826.94848220333\n",
      "Root Mean Squared Error: 499.82691852500636\n",
      "R-squared: 0.38183616633916784\n",
      "Adjusted R-squared: 0.3793550041627769\n"
     ]
    }
   ],
   "source": [
    "regressor = svm.SVR(kernel = 'linear', C = 5.0, epsilon = 2.5)\n",
    "\n",
    "regressor.fit(X_train_scaled, y_train)\n",
    "\n",
    "yp_svm = regressor.predict(X_test_scaled)\n",
    "\n",
    "mse = mean_squared_error(y_test, yp_svm)\n",
    "mse_r = mean_squared_error(y_test, yp_svm, squared = False)\n",
    "r2 = r2_score(y_test, yp_svm)\n",
    "\n",
    "n = len(y_test)\n",
    "k = X_train_scaled.shape[1]  \n",
    "adj_r2 = 1 - ((1 - r2) * (n - 1) / (n - k - 1))\n",
    "\n",
    "print(f'Mean Squared Error: {mse}')\n",
    "print(f'Root Mean Squared Error: {mse_r}')\n",
    "print(f'R-squared: {r2}')\n",
    "print(f'Adjusted R-squared: {adj_r2}')"
   ]
  },
  {
   "cell_type": "code",
   "execution_count": 60,
   "id": "a8e88b7d",
   "metadata": {},
   "outputs": [
    {
     "data": {
      "text/plain": [
       "0.25962965284628725"
      ]
     },
     "execution_count": 60,
     "metadata": {},
     "output_type": "execute_result"
    }
   ],
   "source": [
    "score_svm = cross_val_score(svm.SVR(kernel = 'linear', C = 5.0, epsilon = 2.5), \n",
    "                            X_test_scaled, y_test, cv = 10, scoring = 'r2').mean()\n",
    "score_svm"
   ]
  },
  {
   "cell_type": "code",
   "execution_count": 61,
   "id": "ea0dc11d",
   "metadata": {},
   "outputs": [
    {
     "data": {
      "text/html": [
       "<div>\n",
       "<style scoped>\n",
       "    .dataframe tbody tr th:only-of-type {\n",
       "        vertical-align: middle;\n",
       "    }\n",
       "\n",
       "    .dataframe tbody tr th {\n",
       "        vertical-align: top;\n",
       "    }\n",
       "\n",
       "    .dataframe thead th {\n",
       "        text-align: right;\n",
       "    }\n",
       "</style>\n",
       "<table border=\"1\" class=\"dataframe\">\n",
       "  <thead>\n",
       "    <tr style=\"text-align: right;\">\n",
       "      <th></th>\n",
       "      <th>Actual</th>\n",
       "      <th>Predicted</th>\n",
       "    </tr>\n",
       "  </thead>\n",
       "  <tbody>\n",
       "    <tr>\n",
       "      <th>0</th>\n",
       "      <td>278.0</td>\n",
       "      <td>659.846987</td>\n",
       "    </tr>\n",
       "    <tr>\n",
       "      <th>1</th>\n",
       "      <td>96.0</td>\n",
       "      <td>-5.507031</td>\n",
       "    </tr>\n",
       "    <tr>\n",
       "      <th>2</th>\n",
       "      <td>215.0</td>\n",
       "      <td>526.516283</td>\n",
       "    </tr>\n",
       "    <tr>\n",
       "      <th>3</th>\n",
       "      <td>1290.0</td>\n",
       "      <td>808.214104</td>\n",
       "    </tr>\n",
       "    <tr>\n",
       "      <th>4</th>\n",
       "      <td>165.0</td>\n",
       "      <td>494.382744</td>\n",
       "    </tr>\n",
       "  </tbody>\n",
       "</table>\n",
       "</div>"
      ],
      "text/plain": [
       "   Actual   Predicted\n",
       "0   278.0  659.846987\n",
       "1    96.0   -5.507031\n",
       "2   215.0  526.516283\n",
       "3  1290.0  808.214104\n",
       "4   165.0  494.382744"
      ]
     },
     "execution_count": 61,
     "metadata": {},
     "output_type": "execute_result"
    }
   ],
   "source": [
    "pred_svm = pd.DataFrame({'Actual': y_test, 'Predicted': yp_svm})\n",
    "pred_svm.head()"
   ]
  },
  {
   "cell_type": "code",
   "execution_count": null,
   "id": "4dee445f",
   "metadata": {},
   "outputs": [],
   "source": []
  },
  {
   "cell_type": "code",
   "execution_count": 62,
   "id": "753e0e58",
   "metadata": {},
   "outputs": [
    {
     "name": "stdout",
     "output_type": "stream",
     "text": [
      "Mean Squared Error: 191659.42304736376\n",
      "Root Mean Squared Error: 437.7892450110712\n",
      "R-squared: 0.5257640361539241\n",
      "Adjusted R-squared: 0.5238605661155511\n"
     ]
    }
   ],
   "source": [
    "regressor = svm.SVR(kernel = 'poly', C = 50.0, epsilon = 3.5, degree = 2)\n",
    "\n",
    "regressor.fit(X_train_scaled, y_train)\n",
    "\n",
    "yp_svm_p2 = regressor.predict(X_test_scaled)\n",
    "\n",
    "mse = mean_squared_error(y_test, yp_svm_p2)\n",
    "mse_r = mean_squared_error(y_test, yp_svm_p2, squared = False)\n",
    "r2 = r2_score(y_test, yp_svm_p2)\n",
    "\n",
    "n = len(y_test)\n",
    "k = X_train_scaled.shape[1]  \n",
    "adj_r2 = 1 - ((1 - r2) * (n - 1) / (n - k - 1))\n",
    "\n",
    "print(f'Mean Squared Error: {mse}')\n",
    "print(f'Root Mean Squared Error: {mse_r}')\n",
    "print(f'R-squared: {r2}')\n",
    "print(f'Adjusted R-squared: {adj_r2}')"
   ]
  },
  {
   "cell_type": "code",
   "execution_count": 63,
   "id": "7db15db6",
   "metadata": {},
   "outputs": [
    {
     "data": {
      "text/plain": [
       "0.5058830333674365"
      ]
     },
     "execution_count": 63,
     "metadata": {},
     "output_type": "execute_result"
    }
   ],
   "source": [
    "score_svr = cross_val_score(svm.SVR(kernel = 'poly', C = 50.0, epsilon = 3.5, degree = 2), \n",
    "                            X_test_scaled, y_test, cv = 10, scoring = 'r2').mean()\n",
    "score_svr"
   ]
  },
  {
   "cell_type": "code",
   "execution_count": 64,
   "id": "2b7f64bf",
   "metadata": {},
   "outputs": [
    {
     "name": "stdout",
     "output_type": "stream",
     "text": [
      "Training MSE: 199991.54371977234\n",
      "Validation MSE: 191659.42304736376\n",
      "Huber Loss: [268.33908267  28.6134898  264.06705925 ...   9.56012949 140.5524789\n",
      "  36.56282453]\n",
      "Mean Huber Loss: 301.57988809256506\n"
     ]
    }
   ],
   "source": [
    "train_pred = regressor.predict(X_train_scaled)\n",
    "test_pred = regressor.predict(X_test_scaled)\n",
    "\n",
    "from sklearn.metrics import mean_squared_error, r2_score\n",
    "\n",
    "train_mse = mean_squared_error(y_train, train_pred)\n",
    "test_mse = mean_squared_error(y_test, test_pred)\n",
    "\n",
    "print(f'Training MSE: {train_mse}')\n",
    "print(f'Validation MSE: {test_mse}')\n",
    "\n",
    "import tensorflow as tf\n",
    "def huber_loss(y_test, yp_svm_p2, delta = 1.0):\n",
    "    error = y_test - yp_svm_p2\n",
    "    condition = tf.abs(error) < delta\n",
    "    squared_loss = 0.5 * tf.square(error)\n",
    "    linear_loss = delta * (tf.abs(error) - 0.5 * delta)\n",
    "    return tf.where(condition, squared_loss, linear_loss)\n",
    "\n",
    "loss = huber_loss(y_test, yp_svm_p2, delta = 1.0)\n",
    "print(\"Huber Loss:\", loss.numpy())\n",
    "\n",
    "mean_huber_loss = np.mean(loss)\n",
    "print(f\"Mean Huber Loss: {mean_huber_loss}\")"
   ]
  },
  {
   "cell_type": "markdown",
   "id": "b672faf2",
   "metadata": {},
   "source": [
    "## No overfitting "
   ]
  },
  {
   "cell_type": "markdown",
   "id": "a204554b",
   "metadata": {},
   "source": []
  },
  {
   "cell_type": "markdown",
   "id": "cebdc20b",
   "metadata": {},
   "source": [
    "# KNN"
   ]
  },
  {
   "cell_type": "code",
   "execution_count": 66,
   "id": "051ace45",
   "metadata": {},
   "outputs": [],
   "source": [
    "from sklearn.neighbors import KNeighborsRegressor"
   ]
  },
  {
   "cell_type": "code",
   "execution_count": 67,
   "id": "e7466068",
   "metadata": {},
   "outputs": [
    {
     "data": {
      "text/plain": [
       "9"
      ]
     },
     "execution_count": 67,
     "metadata": {},
     "output_type": "execute_result"
    }
   ],
   "source": [
    "from sklearn.model_selection import GridSearchCV\n",
    "\n",
    "param_grid = {'n_neighbors': [1, 3, 5, 7, 9]}  # Adjust the range based on your data\n",
    "grid_search = GridSearchCV(KNeighborsRegressor(), param_grid, cv=5, scoring='neg_mean_squared_error')\n",
    "grid_search.fit(X_train_scaled, y_train)\n",
    "\n",
    "best_k = grid_search.best_params_['n_neighbors']\n",
    "#knn_regressor = KNeighborsRegressor(n_neighbors=best_k)\n",
    "#knn_regressor.fit(X_train, y_train)\n",
    "\n",
    "best_k"
   ]
  },
  {
   "cell_type": "code",
   "execution_count": 83,
   "id": "b1c23bf5",
   "metadata": {},
   "outputs": [
    {
     "name": "stdout",
     "output_type": "stream",
     "text": [
      "Mean Squared Error: 114202.0461271774\n",
      "Root Mean Squared Error: 337.93793235914995\n",
      "R-squared: 0.7174220992779883\n",
      "Adjusted R-squared: 0.7162878989883931\n"
     ]
    }
   ],
   "source": [
    "knn_regressor = KNeighborsRegressor(n_neighbors = 9, metric='manhattan') \n",
    "\n",
    "knn_regressor.fit(X_train_scaled, y_train)\n",
    "\n",
    "yp_knn = knn_regressor.predict(X_test_scaled)\n",
    "\n",
    "mse = mean_squared_error(y_test, yp_knn)\n",
    "mse_r = mean_squared_error(y_test, yp_knn, squared = False)\n",
    "r2 = r2_score(y_test, yp_knn)\n",
    "\n",
    "n = len(y_test)\n",
    "k = X_train_scaled.shape[1]  \n",
    "adj_r2 = 1 - ((1 - r2) * (n - 1) / (n - k - 1))\n",
    "\n",
    "print(f'Mean Squared Error: {mse}')\n",
    "print(f'Root Mean Squared Error: {mse_r}')\n",
    "print(f'R-squared: {r2}')\n",
    "print(f'Adjusted R-squared: {adj_r2}')"
   ]
  },
  {
   "cell_type": "code",
   "execution_count": 84,
   "id": "85167242",
   "metadata": {},
   "outputs": [
    {
     "data": {
      "text/plain": [
       "0.6462657700687238"
      ]
     },
     "execution_count": 84,
     "metadata": {},
     "output_type": "execute_result"
    }
   ],
   "source": [
    "score_knn = cross_val_score(KNeighborsRegressor(n_neighbors = 9), \n",
    "                            X_test_scaled, y_test, cv = 5, scoring = 'r2').mean()\n",
    "score_knn"
   ]
  },
  {
   "cell_type": "code",
   "execution_count": 85,
   "id": "7af89a94",
   "metadata": {},
   "outputs": [
    {
     "data": {
      "text/html": [
       "<div>\n",
       "<style scoped>\n",
       "    .dataframe tbody tr th:only-of-type {\n",
       "        vertical-align: middle;\n",
       "    }\n",
       "\n",
       "    .dataframe tbody tr th {\n",
       "        vertical-align: top;\n",
       "    }\n",
       "\n",
       "    .dataframe thead th {\n",
       "        text-align: right;\n",
       "    }\n",
       "</style>\n",
       "<table border=\"1\" class=\"dataframe\">\n",
       "  <thead>\n",
       "    <tr style=\"text-align: right;\">\n",
       "      <th></th>\n",
       "      <th>Actual</th>\n",
       "      <th>Predicted</th>\n",
       "    </tr>\n",
       "  </thead>\n",
       "  <tbody>\n",
       "    <tr>\n",
       "      <th>0</th>\n",
       "      <td>278.0</td>\n",
       "      <td>345.000000</td>\n",
       "    </tr>\n",
       "    <tr>\n",
       "      <th>1</th>\n",
       "      <td>96.0</td>\n",
       "      <td>140.555556</td>\n",
       "    </tr>\n",
       "    <tr>\n",
       "      <th>2</th>\n",
       "      <td>215.0</td>\n",
       "      <td>189.000000</td>\n",
       "    </tr>\n",
       "    <tr>\n",
       "      <th>3</th>\n",
       "      <td>1290.0</td>\n",
       "      <td>1109.222222</td>\n",
       "    </tr>\n",
       "    <tr>\n",
       "      <th>4</th>\n",
       "      <td>165.0</td>\n",
       "      <td>372.222222</td>\n",
       "    </tr>\n",
       "  </tbody>\n",
       "</table>\n",
       "</div>"
      ],
      "text/plain": [
       "   Actual    Predicted\n",
       "0   278.0   345.000000\n",
       "1    96.0   140.555556\n",
       "2   215.0   189.000000\n",
       "3  1290.0  1109.222222\n",
       "4   165.0   372.222222"
      ]
     },
     "execution_count": 85,
     "metadata": {},
     "output_type": "execute_result"
    }
   ],
   "source": [
    "pred_knn = pd.DataFrame({'Actual': y_test, 'Predicted': yp_knn})\n",
    "pred_knn.head()"
   ]
  },
  {
   "cell_type": "code",
   "execution_count": 86,
   "id": "a0860514",
   "metadata": {},
   "outputs": [
    {
     "name": "stdout",
     "output_type": "stream",
     "text": [
      "Training MSE: 92249.42253297819\n",
      "Validation MSE: 114202.0461271774\n",
      "Huber Loss: [6.65000000e+01 4.40555556e+01 2.55000000e+01 ... 3.20500000e+02\n",
      " 1.39166667e+02 9.87654321e-02]\n",
      "Mean Huber Loss: 207.39849695585997\n"
     ]
    }
   ],
   "source": [
    "train_pred = knn_regressor.predict(X_train_scaled)\n",
    "test_pred = knn_regressor.predict(X_test_scaled)\n",
    "\n",
    "from sklearn.metrics import mean_squared_error, r2_score\n",
    "\n",
    "train_mse = mean_squared_error(y_train, train_pred)\n",
    "test_mse = mean_squared_error(y_test, test_pred)\n",
    "\n",
    "print(f'Training MSE: {train_mse}')\n",
    "print(f'Validation MSE: {test_mse}')\n",
    "\n",
    "import tensorflow as tf\n",
    "def huber_loss(y_test, yp_knn, delta = 1.0):\n",
    "    error = y_test - yp_knn\n",
    "    condition = tf.abs(error) < delta\n",
    "    squared_loss = 0.5 * tf.square(error)\n",
    "    linear_loss = delta * (tf.abs(error) - 0.5 * delta)\n",
    "    return tf.where(condition, squared_loss, linear_loss)\n",
    "\n",
    "loss = huber_loss(y_test, yp_knn, delta = 1.0)\n",
    "print(\"Huber Loss:\", loss.numpy())\n",
    "\n",
    "mean_huber_loss = np.mean(loss)\n",
    "print(f\"Mean Huber Loss: {mean_huber_loss}\")"
   ]
  },
  {
   "cell_type": "markdown",
   "id": "da91fbf7",
   "metadata": {},
   "source": [
    "## Overfitting here"
   ]
  },
  {
   "cell_type": "code",
   "execution_count": 72,
   "id": "a34e3255",
   "metadata": {},
   "outputs": [
    {
     "name": "stdout",
     "output_type": "stream",
     "text": [
      "Mean Squared Error: 126043.13907498574\n",
      "Root Mean Squared Error: 355.02554707370814\n",
      "R-squared: 0.6881228765327172\n",
      "Adjusted R-squared: 0.6868710761518279\n"
     ]
    }
   ],
   "source": [
    "from sklearn.ensemble import BaggingRegressor\n",
    "\n",
    "bagging_regressor = BaggingRegressor(KNeighborsRegressor(n_neighbors = 4), n_estimators = 10, random_state=12)\n",
    "bagging_regressor.fit(X_train_scaled, y_train)\n",
    "\n",
    "\n",
    "yp_knn_bgg = bagging_regressor.predict(X_test_scaled)\n",
    "\n",
    "mse = mean_squared_error(y_test, yp_knn_bgg)\n",
    "mse_r = mean_squared_error(y_test, yp_knn_bgg, squared = False)\n",
    "r2 = r2_score(y_test, yp_knn_bgg)\n",
    "\n",
    "n = len(y_test)\n",
    "k = X_train_scaled.shape[1]  \n",
    "adj_r2 = 1 - ((1 - r2) * (n - 1) / (n - k - 1))\n",
    "\n",
    "print(f'Mean Squared Error: {mse}')\n",
    "print(f'Root Mean Squared Error: {mse_r}')\n",
    "print(f'R-squared: {r2}')\n",
    "print(f'Adjusted R-squared: {adj_r2}')"
   ]
  },
  {
   "cell_type": "code",
   "execution_count": 73,
   "id": "a1dfb6f6",
   "metadata": {},
   "outputs": [
    {
     "data": {
      "text/plain": [
       "0.6275024635843514"
      ]
     },
     "execution_count": 73,
     "metadata": {},
     "output_type": "execute_result"
    }
   ],
   "source": [
    "score_knn_bgg = cross_val_score(BaggingRegressor(KNeighborsRegressor(n_neighbors = 4), n_estimators = 10, random_state=12), \n",
    "                            X_test_scaled, y_test, cv = 5, scoring = 'r2').mean()\n",
    "score_knn_bgg"
   ]
  },
  {
   "cell_type": "code",
   "execution_count": 74,
   "id": "9b79040b",
   "metadata": {},
   "outputs": [
    {
     "name": "stdout",
     "output_type": "stream",
     "text": [
      "Training MSE: 72433.2515102383\n",
      "Validation MSE: 126043.13907498574\n",
      "Huber Loss: [ 19.575  62.2     8.75  ... 481.625 168.325  18.325]\n",
      "Mean Huber Loss: 213.98805525827626\n"
     ]
    }
   ],
   "source": [
    "train_pred = bagging_regressor.predict(X_train_scaled)\n",
    "test_pred = bagging_regressor.predict(X_test_scaled)\n",
    "\n",
    "from sklearn.metrics import mean_squared_error, r2_score\n",
    "\n",
    "train_mse = mean_squared_error(y_train, train_pred)\n",
    "test_mse = mean_squared_error(y_test, test_pred)\n",
    "\n",
    "print(f'Training MSE: {train_mse}')\n",
    "print(f'Validation MSE: {test_mse}')\n",
    "\n",
    "import tensorflow as tf\n",
    "def huber_loss(y_test, yp_knn_bgg, delta = 1.0):\n",
    "    error = y_test - yp_knn_bgg\n",
    "    condition = tf.abs(error) < delta\n",
    "    squared_loss = 0.5 * tf.square(error)\n",
    "    linear_loss = delta * (tf.abs(error) - 0.5 * delta)\n",
    "    return tf.where(condition, squared_loss, linear_loss)\n",
    "\n",
    "loss = huber_loss(y_test, yp_knn_bgg, delta = 1.0)\n",
    "print(\"Huber Loss:\", loss.numpy())\n",
    "\n",
    "mean_huber_loss = np.mean(loss)\n",
    "print(f\"Mean Huber Loss: {mean_huber_loss}\")"
   ]
  },
  {
   "cell_type": "markdown",
   "id": "7c1633e6",
   "metadata": {},
   "source": [
    "## Overfitting here"
   ]
  },
  {
   "cell_type": "markdown",
   "id": "a3e461dc",
   "metadata": {},
   "source": [
    "# Decision Tree"
   ]
  },
  {
   "cell_type": "code",
   "execution_count": 75,
   "id": "3ae0b356",
   "metadata": {},
   "outputs": [],
   "source": [
    "from sklearn.tree import DecisionTreeRegressor"
   ]
  },
  {
   "cell_type": "code",
   "execution_count": 76,
   "id": "3f884de5",
   "metadata": {},
   "outputs": [
    {
     "data": {
      "text/plain": [
       "{'max_depth': 10, 'min_samples_leaf': 4, 'min_samples_split': 10}"
      ]
     },
     "execution_count": 76,
     "metadata": {},
     "output_type": "execute_result"
    }
   ],
   "source": [
    "from sklearn.model_selection import GridSearchCV\n",
    "\n",
    "param_grid = {\n",
    "    'max_depth': [None, 10, 20, 30],\n",
    "    'min_samples_split': [2, 5, 10],\n",
    "    'min_samples_leaf': [1, 2, 4]\n",
    "}\n",
    "\n",
    "grid_search = GridSearchCV(DecisionTreeRegressor(), param_grid, cv = 5, scoring = 'neg_mean_squared_error')\n",
    "grid_search.fit(X_train_scaled, y_train)\n",
    "\n",
    "best_params = grid_search.best_params_\n",
    "best_params"
   ]
  },
  {
   "cell_type": "code",
   "execution_count": 77,
   "id": "ee9064cc",
   "metadata": {},
   "outputs": [
    {
     "name": "stdout",
     "output_type": "stream",
     "text": [
      "Mean Squared Error: 131702.02705320265\n",
      "Root Mean Squared Error: 362.9077390373518\n",
      "R-squared: 0.6741207045968063\n",
      "Adjusted R-squared: 0.6728127028377338\n"
     ]
    }
   ],
   "source": [
    "tree_regressor = DecisionTreeRegressor(\n",
    "    max_depth = 10,\n",
    "    min_samples_split = 10,\n",
    "    min_samples_leaf = 4,\n",
    "    random_state = 12\n",
    ")\n",
    "\n",
    "tree_regressor.fit(X_train_scaled, y_train)\n",
    "\n",
    "yp_dt = tree_regressor.predict(X_test_scaled)\n",
    "\n",
    "mse = mean_squared_error(y_test, yp_dt)\n",
    "mse_r = mean_squared_error(y_test, yp_dt, squared = False)\n",
    "r2 = r2_score(y_test, yp_dt)\n",
    "\n",
    "n = len(y_test)\n",
    "k = X_train_scaled.shape[1]  \n",
    "adj_r2 = 1 - ((1 - r2) * (n - 1) / (n - k - 1))\n",
    "\n",
    "print(f'Mean Squared Error: {mse}')\n",
    "print(f'Root Mean Squared Error: {mse_r}')\n",
    "print(f'R-squared: {r2}')\n",
    "print(f'Adjusted R-squared: {adj_r2}')"
   ]
  },
  {
   "cell_type": "code",
   "execution_count": 87,
   "id": "503c2f33",
   "metadata": {},
   "outputs": [
    {
     "data": {
      "text/plain": [
       "0.5808544242835636"
      ]
     },
     "execution_count": 87,
     "metadata": {},
     "output_type": "execute_result"
    }
   ],
   "source": [
    "score_dt = cross_val_score(DecisionTreeRegressor(max_depth = 10, min_samples_split = 10, \n",
    "                                                 min_samples_leaf = 4, random_state = 12), \n",
    "X_test_scaled, y_test, cv = 5, scoring = 'r2').mean()\n",
    "\n",
    "score_dt"
   ]
  },
  {
   "cell_type": "code",
   "execution_count": 88,
   "id": "eeb2b251",
   "metadata": {},
   "outputs": [
    {
     "data": {
      "text/html": [
       "<div>\n",
       "<style scoped>\n",
       "    .dataframe tbody tr th:only-of-type {\n",
       "        vertical-align: middle;\n",
       "    }\n",
       "\n",
       "    .dataframe tbody tr th {\n",
       "        vertical-align: top;\n",
       "    }\n",
       "\n",
       "    .dataframe thead th {\n",
       "        text-align: right;\n",
       "    }\n",
       "</style>\n",
       "<table border=\"1\" class=\"dataframe\">\n",
       "  <thead>\n",
       "    <tr style=\"text-align: right;\">\n",
       "      <th></th>\n",
       "      <th>Actual</th>\n",
       "      <th>Predicted</th>\n",
       "    </tr>\n",
       "  </thead>\n",
       "  <tbody>\n",
       "    <tr>\n",
       "      <th>0</th>\n",
       "      <td>278.0</td>\n",
       "      <td>349.964286</td>\n",
       "    </tr>\n",
       "    <tr>\n",
       "      <th>1</th>\n",
       "      <td>96.0</td>\n",
       "      <td>92.000000</td>\n",
       "    </tr>\n",
       "    <tr>\n",
       "      <th>2</th>\n",
       "      <td>215.0</td>\n",
       "      <td>170.500000</td>\n",
       "    </tr>\n",
       "    <tr>\n",
       "      <th>3</th>\n",
       "      <td>1290.0</td>\n",
       "      <td>1265.058824</td>\n",
       "    </tr>\n",
       "    <tr>\n",
       "      <th>4</th>\n",
       "      <td>165.0</td>\n",
       "      <td>339.166667</td>\n",
       "    </tr>\n",
       "  </tbody>\n",
       "</table>\n",
       "</div>"
      ],
      "text/plain": [
       "   Actual    Predicted\n",
       "0   278.0   349.964286\n",
       "1    96.0    92.000000\n",
       "2   215.0   170.500000\n",
       "3  1290.0  1265.058824\n",
       "4   165.0   339.166667"
      ]
     },
     "execution_count": 88,
     "metadata": {},
     "output_type": "execute_result"
    }
   ],
   "source": [
    "pred_dt = pd.DataFrame({'Actual': y_test, 'Predicted': yp_dt})\n",
    "pred_dt.head()"
   ]
  },
  {
   "cell_type": "code",
   "execution_count": 89,
   "id": "e05c04f7",
   "metadata": {},
   "outputs": [
    {
     "name": "stdout",
     "output_type": "stream",
     "text": [
      "Training MSE: 74822.15032014124\n",
      "Validation MSE: 131702.02705320265\n",
      "Huber Loss: [ 71.46428571   3.5         44.         ... 181.28313253 129.77272727\n",
      " 206.76315789]\n",
      "Mean Huber Loss: 217.4911109334023\n"
     ]
    }
   ],
   "source": [
    "train_pred = tree_regressor.predict(X_train_scaled)\n",
    "test_pred = tree_regressor.predict(X_test_scaled)\n",
    "\n",
    "from sklearn.metrics import mean_squared_error, r2_score\n",
    "\n",
    "train_mse = mean_squared_error(y_train, train_pred)\n",
    "test_mse = mean_squared_error(y_test, test_pred)\n",
    "\n",
    "print(f'Training MSE: {train_mse}')\n",
    "print(f'Validation MSE: {test_mse}')\n",
    "\n",
    "import tensorflow as tf\n",
    "def huber_loss(y_test, yp_dt, delta = 1.0):\n",
    "    error = y_test - yp_dt\n",
    "    condition = tf.abs(error) < delta\n",
    "    squared_loss = 0.5 * tf.square(error)\n",
    "    linear_loss = delta * (tf.abs(error) - 0.5 * delta)\n",
    "    return tf.where(condition, squared_loss, linear_loss)\n",
    "\n",
    "loss = huber_loss(y_test, yp_dt, delta = 1.0)\n",
    "print(\"Huber Loss:\", loss.numpy())\n",
    "\n",
    "mean_huber_loss = np.mean(loss)\n",
    "print(f\"Mean Huber Loss: {mean_huber_loss}\")"
   ]
  },
  {
   "cell_type": "markdown",
   "id": "c4612edf",
   "metadata": {},
   "source": [
    "## Overfitting here"
   ]
  },
  {
   "cell_type": "markdown",
   "id": "92d71547",
   "metadata": {},
   "source": [
    "# Summary"
   ]
  },
  {
   "cell_type": "code",
   "execution_count": 81,
   "id": "112bc5e6",
   "metadata": {},
   "outputs": [
    {
     "name": "stdout",
     "output_type": "stream",
     "text": [
      "R2 LN: 0.46398066023961204\n",
      "R2 LNP2: 0.5697265332730072\n",
      "R2 RP2: 0.5393191670254971\n",
      "R2 RF: 0.744120473979903\n",
      "R2 Report SVM: 0.38183616633916784\n",
      "R2 SVR: 0.5257640361539241\n",
      "R2 KNN: 0.7118386141151822\n",
      "R2 KNN BGG: 0.6881228765327172\n",
      "R2 DT: 0.6741207045968063\n"
     ]
    }
   ],
   "source": [
    "print(\"R2 LN:\", r2_score(y_test, yp_lr))\n",
    "\n",
    "print(\"R2 LNP2:\", r2_score(y_test, yp_p2))\n",
    "\n",
    "print(\"R2 RP2:\", r2_score(y_test, yp_rp2))\n",
    "\n",
    "print(\"R2 RF:\", r2_score(y_test, y_pred_best))\n",
    "\n",
    "print(\"R2 Report SVM:\", r2_score(y_test, yp_svm))\n",
    "\n",
    "print(\"R2 SVR:\", r2_score(y_test, yp_svm_p2))\n",
    "\n",
    "print(\"R2 KNN:\", r2_score(y_test, yp_knn))\n",
    "\n",
    "print(\"R2 KNN BGG:\", r2_score(y_test, yp_knn_bgg))\n",
    "\n",
    "print(\"R2 DT:\", r2_score(y_test, yp_dt))"
   ]
  },
  {
   "cell_type": "code",
   "execution_count": null,
   "id": "543c1b24",
   "metadata": {},
   "outputs": [],
   "source": []
  },
  {
   "cell_type": "markdown",
   "id": "8706c32c",
   "metadata": {},
   "source": [
    "less X \n",
    "- R2 LN: 0.52529649482042\n",
    "- R2 LNP2: 0.6554331060997658\n",
    "- R2 RP2: 0.6213144674255984\n",
    "- R2 RF: 0.8652196621176939\n",
    "- R2 SVM: 0.4251713331905206\n",
    "- R2 SVR: 0.5968790842225762\n",
    "- R2 KNN: 0.8351079076593745\n",
    "- R2 KNN BGG: 0.820196677419755\n",
    "- R2 DT: 0.8123233303297475"
   ]
  },
  {
   "cell_type": "markdown",
   "id": "351d7512",
   "metadata": {},
   "source": [
    "PCA\n",
    "- R2 LN: 0.00026587473278671947\n",
    "- R2 LNP2: -0.016234262458589388\n",
    "- R2 RP2: 4.7678354563984726e-05\n",
    "- R2 RF: -0.0074760565829212755\n",
    "- R2 SVM: -0.08563072443027475\n",
    "- R2 SVR: -0.09217215527709399\n",
    "- R2 KNN: -0.09579557291859575\n",
    "- R2 KNN BGG: -0.18895100097992756\n",
    "- R2 DT: -0.08782161761984697"
   ]
  },
  {
   "cell_type": "code",
   "execution_count": 82,
   "id": "93c77371",
   "metadata": {},
   "outputs": [
    {
     "name": "stdout",
     "output_type": "stream",
     "text": [
      "Cross Validation LN: 0.4593758323122934\n",
      "Cross Validation LNP2: 0.4593758323122934\n",
      "Cross Validation RP2: 0.4408471910281132\n",
      "Cross Validation RF: 0.7063884963970979\n",
      "Cross Validation SVM: 0.25962965284628725\n",
      "Cross Validation SVR: 0.5058830333674365\n",
      "Cross Validation KNN: 0.6444068932793872\n",
      "Cross Validation KNN BGG: 0.6275024635843514\n",
      "Cross Validation DT: 0.5616945598313572\n"
     ]
    }
   ],
   "source": [
    "print(\"Cross Validation LN:\", score_l) #yp_lr\n",
    "\n",
    "print(\"Cross Validation LNP2:\", score_lp2) #yp_p2\n",
    "\n",
    "print(\"Cross Validation RP2:\", score_rp2) #yp_rp2\n",
    "\n",
    "print(\"Cross Validation RF:\", score_rf) #y_pred_best\n",
    "\n",
    "#ANN y_pred\n",
    "\n",
    "print(\"Cross Validation SVM:\", score_svm) #yp_svm\n",
    "\n",
    "print(\"Cross Validation SVR:\", score_svr) #yp_svm_p2\n",
    "\n",
    "print(\"Cross Validation KNN:\", score_knn) #yp_knn\n",
    "\n",
    "print(\"Cross Validation KNN BGG:\", score_knn_bgg)  #yp_knn_bgg\n",
    "\n",
    "print(\"Cross Validation DT:\", score_dt) #yp_dt\n",
    "\n",
    "\n"
   ]
  },
  {
   "cell_type": "code",
   "execution_count": null,
   "id": "87752301",
   "metadata": {},
   "outputs": [],
   "source": []
  },
  {
   "cell_type": "code",
   "execution_count": null,
   "id": "e73ee44a",
   "metadata": {},
   "outputs": [],
   "source": []
  },
  {
   "cell_type": "code",
   "execution_count": null,
   "id": "1a751ca9",
   "metadata": {},
   "outputs": [],
   "source": []
  },
  {
   "cell_type": "code",
   "execution_count": null,
   "id": "3e8fbacf",
   "metadata": {},
   "outputs": [],
   "source": []
  },
  {
   "cell_type": "code",
   "execution_count": null,
   "id": "1dc0b4be",
   "metadata": {},
   "outputs": [],
   "source": []
  },
  {
   "cell_type": "code",
   "execution_count": null,
   "id": "221651a1",
   "metadata": {},
   "outputs": [],
   "source": []
  }
 ],
 "metadata": {
  "kernelspec": {
   "display_name": "Python 3 (ipykernel)",
   "language": "python",
   "name": "python3"
  },
  "language_info": {
   "codemirror_mode": {
    "name": "ipython",
    "version": 3
   },
   "file_extension": ".py",
   "mimetype": "text/x-python",
   "name": "python",
   "nbconvert_exporter": "python",
   "pygments_lexer": "ipython3",
   "version": "3.11.5"
  }
 },
 "nbformat": 4,
 "nbformat_minor": 5
}
