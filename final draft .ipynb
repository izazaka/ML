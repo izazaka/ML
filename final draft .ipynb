{
 "cells": [
  {
   "cell_type": "markdown",
   "id": "2864c5e7",
   "metadata": {},
   "source": [
    "Assessment Task\n",
    "\n",
    "\n",
    "Suggested possible analysis \n",
    "\n",
    "- What are the most important features for predicting X as a target variable?\n",
    "- Which classification approach do you prefer for the prediction of X as a target variable, and why? o How to classify the loyal and churn customers using Support Vector Machines?\n",
    "- Why is dimensionality reduction important in machine learning?\n",
    "\n",
    "The pair would need to consider the following instructions (a - d) during the development of this pair project.\n",
    "a) Logical justification based on the reasoning for the specific choice of machine learning approaches.\n",
    "b) Multiple machine learning approaches (at least two) using hyperparameters and a comparison\n",
    "between the chosen modelling approaches.\n",
    " c) Visualise your comparison of ML modelling outcomes. You may use a statistical approach to argue that one feature is more important than other features (for example, using PCA).\n",
    "d) Cross-validation methods should be used to justify the authenticity of your ML results.\n",
    "Your pair will present their findings and defend the results in the report (MS Doc or Open word format) by highlighting their individual contribution. Your report should capture the following aspects that are relevant\n",
    "to 1.\n",
    "2.\n",
    "3.\n",
    "4.\n",
    "5.\n",
    "your project investigations.\n",
    "Motivation, a description of the problem domain, and an explanation of how the project's goals are justified using Prediction / Classification / Clustering Rules / Dimensionality Reduction etc..\n",
    "(10 marks) Characterization of data, explanation and description of techniques used for the variation in the\n",
    "accuracy across three training splits (10% / 20%/ 30%) using cross validation techniques.\n",
    "(30 marks) Interpret and explain the results obtained, discuss overfitting / underfitting / generalisation, provide a rationale for the chosen model and use visualisations to support your findings. Comments in Python code, conclusions of the project should be specified at the end of the report. Harvard Style must be\n",
    "used for citations and references.\n",
    "(20 marks) Each team member presents a PowerPoint presentation of their work (maximum 5 slides) to emphasize their distinctive contributions based on their involvement in the project's conceptual\n",
    "understanding, code development, and deployment.\n",
    "(20 marks individual) Each team member fully described their individual contributions to the project in a reflective journal, using at least 500 to 700 words as well as images, diagrams, figures, and visualizations to elaborate\n",
    "his/ her work.\n",
    "Submission Requirements\n",
    "All assessment submissions must meet the minimum requirements listed below. Failure to do so may have implications for the marks awarded.\n",
    "● The code and datasets should be provided and uploaded in zip format on Moodle.\n",
    "● Clearly detail the number of words used in the report.\n",
    "● Number of Words in the report (2000 words +/-10%) excluding diagrams, code, references and\n",
    "titles. Number of words used to express individual contributions is part of the mentioned words.\n",
    "● In the case of individual submission, students will submit a (1000 words +/-10%) report.\n",
    "● Describe the contribution of each team member in the project clearly and use a bar chart or pie\n",
    "chart to represent the effort and time spent during this project. Use version control like Github or any other tool to show the progress of both team members in CA1. You should have at least 5 commits on Github before submission.\n",
    "● The rubric is provided for the detailed breakdown of marks at the end of this CA1.\n",
    "● Use Harvard Referencing when citing third party material\n",
    "● Be the student’s own work.\n",
    "● Include the CCT assessment cover page.\n",
    "● Be submitted by the deadline date specified or be subject to late submission penalties\n",
    "(20 marks individual)\n",
    " \n",
    "● Note: The names of pair members must be uploaded on the link provided on Moodle until 15th October 2023 (23:59).\n",
    "● Must be clearly specified the number of words used after each section in the report."
   ]
  },
  {
   "cell_type": "markdown",
   "id": "2fb81969",
   "metadata": {},
   "source": [
    "# DO CROSS VALIDATION AND ANN"
   ]
  },
  {
   "cell_type": "markdown",
   "id": "00fd4389",
   "metadata": {},
   "source": [
    "# Librabries "
   ]
  },
  {
   "cell_type": "code",
   "execution_count": 1,
   "id": "6d9355bf",
   "metadata": {},
   "outputs": [],
   "source": [
    "%matplotlib inline\n",
    "\n",
    "import pandas as pd\n",
    "\n",
    "import numpy as np\n",
    "\n",
    "import matplotlib.pyplot as plt\n",
    "\n",
    "import seaborn as sns\n",
    "\n",
    "from sklearn.model_selection import train_test_split, cross_val_score\n",
    "\n",
    "from sklearn import metrics\n",
    "\n",
    "from sklearn.preprocessing import MinMaxScaler\n",
    "\n",
    "from sklearn.metrics import mean_squared_error, r2_score\n",
    "\n",
    "from sklearn.metrics import classification_report\n",
    "\n",
    "from sklearn.metrics import accuracy_score\n",
    "\n",
    "from sklearn.model_selection import cross_val_score"
   ]
  },
  {
   "cell_type": "markdown",
   "id": "a23f5879",
   "metadata": {},
   "source": []
  },
  {
   "cell_type": "markdown",
   "id": "3651eb2d",
   "metadata": {},
   "source": [
    "# EDA"
   ]
  },
  {
   "cell_type": "code",
   "execution_count": 2,
   "id": "d0a7ffb6",
   "metadata": {},
   "outputs": [],
   "source": [
    "bike = pd.read_csv(\"Seoul_Bike.csv\")"
   ]
  },
  {
   "cell_type": "markdown",
   "id": "928b9638",
   "metadata": {},
   "source": [
    "DOI\n",
    "10.24432/C5F62R\n",
    "License\n",
    "This dataset is licensed under a Creative Commons Attribution 4.0 International (CC BY 4.0) license.\n",
    "This allows for the sharing and adaptation of the datasets for any purpose, provided that the appropriate credit is given.\n",
    "\n",
    "https://archive.ics.uci.edu/dataset/560/seoul+bike+sharing+demand\n"
   ]
  },
  {
   "cell_type": "markdown",
   "id": "e3319d90",
   "metadata": {},
   "source": [
    "@misc{misc_seoul_bike_sharing_demand_560,\n",
    "  title        = {{Seoul Bike Sharing Demand}},\n",
    "  year         = {2020},\n",
    "  howpublished = {UCI Machine Learning Repository},\n",
    "  note         = {{DOI}: https://doi.org/10.24432/C5F62R}\n",
    "}"
   ]
  },
  {
   "cell_type": "code",
   "execution_count": 3,
   "id": "0a3114db",
   "metadata": {},
   "outputs": [
    {
     "data": {
      "text/html": [
       "<div>\n",
       "<style scoped>\n",
       "    .dataframe tbody tr th:only-of-type {\n",
       "        vertical-align: middle;\n",
       "    }\n",
       "\n",
       "    .dataframe tbody tr th {\n",
       "        vertical-align: top;\n",
       "    }\n",
       "\n",
       "    .dataframe thead th {\n",
       "        text-align: right;\n",
       "    }\n",
       "</style>\n",
       "<table border=\"1\" class=\"dataframe\">\n",
       "  <thead>\n",
       "    <tr style=\"text-align: right;\">\n",
       "      <th></th>\n",
       "      <th>Date</th>\n",
       "      <th>Rented Bike Count</th>\n",
       "      <th>Hour</th>\n",
       "      <th>Temperature(°C)</th>\n",
       "      <th>Humidity(%)</th>\n",
       "      <th>Wind speed (m/s)</th>\n",
       "      <th>Visibility (10m)</th>\n",
       "      <th>Dew point temperature(°C)</th>\n",
       "      <th>Solar Radiation (MJ/m2)</th>\n",
       "      <th>Rainfall(mm)</th>\n",
       "      <th>Snowfall (cm)</th>\n",
       "      <th>Seasons</th>\n",
       "      <th>Holiday</th>\n",
       "      <th>Functioning Day</th>\n",
       "    </tr>\n",
       "  </thead>\n",
       "  <tbody>\n",
       "    <tr>\n",
       "      <th>0</th>\n",
       "      <td>01/12/2017</td>\n",
       "      <td>254</td>\n",
       "      <td>0</td>\n",
       "      <td>-5.2</td>\n",
       "      <td>37</td>\n",
       "      <td>2.2</td>\n",
       "      <td>2000</td>\n",
       "      <td>-17.6</td>\n",
       "      <td>0.0</td>\n",
       "      <td>0.0</td>\n",
       "      <td>0.0</td>\n",
       "      <td>Winter</td>\n",
       "      <td>No Holiday</td>\n",
       "      <td>Yes</td>\n",
       "    </tr>\n",
       "    <tr>\n",
       "      <th>1</th>\n",
       "      <td>01/12/2017</td>\n",
       "      <td>204</td>\n",
       "      <td>1</td>\n",
       "      <td>-5.5</td>\n",
       "      <td>38</td>\n",
       "      <td>0.8</td>\n",
       "      <td>2000</td>\n",
       "      <td>-17.6</td>\n",
       "      <td>0.0</td>\n",
       "      <td>0.0</td>\n",
       "      <td>0.0</td>\n",
       "      <td>Winter</td>\n",
       "      <td>No Holiday</td>\n",
       "      <td>Yes</td>\n",
       "    </tr>\n",
       "    <tr>\n",
       "      <th>2</th>\n",
       "      <td>01/12/2017</td>\n",
       "      <td>173</td>\n",
       "      <td>2</td>\n",
       "      <td>-6.0</td>\n",
       "      <td>39</td>\n",
       "      <td>1.0</td>\n",
       "      <td>2000</td>\n",
       "      <td>-17.7</td>\n",
       "      <td>0.0</td>\n",
       "      <td>0.0</td>\n",
       "      <td>0.0</td>\n",
       "      <td>Winter</td>\n",
       "      <td>No Holiday</td>\n",
       "      <td>Yes</td>\n",
       "    </tr>\n",
       "  </tbody>\n",
       "</table>\n",
       "</div>"
      ],
      "text/plain": [
       "         Date  Rented Bike Count  Hour  Temperature(°C)  Humidity(%)  \\\n",
       "0  01/12/2017                254     0             -5.2           37   \n",
       "1  01/12/2017                204     1             -5.5           38   \n",
       "2  01/12/2017                173     2             -6.0           39   \n",
       "\n",
       "   Wind speed (m/s)  Visibility (10m)  Dew point temperature(°C)  \\\n",
       "0               2.2              2000                      -17.6   \n",
       "1               0.8              2000                      -17.6   \n",
       "2               1.0              2000                      -17.7   \n",
       "\n",
       "   Solar Radiation (MJ/m2)  Rainfall(mm)  Snowfall (cm) Seasons     Holiday  \\\n",
       "0                      0.0           0.0            0.0  Winter  No Holiday   \n",
       "1                      0.0           0.0            0.0  Winter  No Holiday   \n",
       "2                      0.0           0.0            0.0  Winter  No Holiday   \n",
       "\n",
       "  Functioning Day  \n",
       "0             Yes  \n",
       "1             Yes  \n",
       "2             Yes  "
      ]
     },
     "execution_count": 3,
     "metadata": {},
     "output_type": "execute_result"
    }
   ],
   "source": [
    "bike.head(3)"
   ]
  },
  {
   "cell_type": "code",
   "execution_count": 4,
   "id": "d7da1278",
   "metadata": {},
   "outputs": [
    {
     "data": {
      "text/html": [
       "<div>\n",
       "<style scoped>\n",
       "    .dataframe tbody tr th:only-of-type {\n",
       "        vertical-align: middle;\n",
       "    }\n",
       "\n",
       "    .dataframe tbody tr th {\n",
       "        vertical-align: top;\n",
       "    }\n",
       "\n",
       "    .dataframe thead th {\n",
       "        text-align: right;\n",
       "    }\n",
       "</style>\n",
       "<table border=\"1\" class=\"dataframe\">\n",
       "  <thead>\n",
       "    <tr style=\"text-align: right;\">\n",
       "      <th></th>\n",
       "      <th>Date</th>\n",
       "      <th>Rented Bike Count</th>\n",
       "      <th>Hour</th>\n",
       "      <th>Temperature(°C)</th>\n",
       "      <th>Humidity(%)</th>\n",
       "      <th>Wind speed (m/s)</th>\n",
       "      <th>Visibility (10m)</th>\n",
       "      <th>Dew point temperature(°C)</th>\n",
       "      <th>Solar Radiation (MJ/m2)</th>\n",
       "      <th>Rainfall(mm)</th>\n",
       "      <th>Snowfall (cm)</th>\n",
       "      <th>Seasons</th>\n",
       "      <th>Holiday</th>\n",
       "      <th>Functioning Day</th>\n",
       "    </tr>\n",
       "  </thead>\n",
       "  <tbody>\n",
       "    <tr>\n",
       "      <th>8757</th>\n",
       "      <td>30/11/2018</td>\n",
       "      <td>694</td>\n",
       "      <td>21</td>\n",
       "      <td>2.6</td>\n",
       "      <td>39</td>\n",
       "      <td>0.3</td>\n",
       "      <td>1968</td>\n",
       "      <td>-9.9</td>\n",
       "      <td>0.0</td>\n",
       "      <td>0.0</td>\n",
       "      <td>0.0</td>\n",
       "      <td>Autumn</td>\n",
       "      <td>No Holiday</td>\n",
       "      <td>Yes</td>\n",
       "    </tr>\n",
       "    <tr>\n",
       "      <th>8758</th>\n",
       "      <td>30/11/2018</td>\n",
       "      <td>712</td>\n",
       "      <td>22</td>\n",
       "      <td>2.1</td>\n",
       "      <td>41</td>\n",
       "      <td>1.0</td>\n",
       "      <td>1859</td>\n",
       "      <td>-9.8</td>\n",
       "      <td>0.0</td>\n",
       "      <td>0.0</td>\n",
       "      <td>0.0</td>\n",
       "      <td>Autumn</td>\n",
       "      <td>No Holiday</td>\n",
       "      <td>Yes</td>\n",
       "    </tr>\n",
       "    <tr>\n",
       "      <th>8759</th>\n",
       "      <td>30/11/2018</td>\n",
       "      <td>584</td>\n",
       "      <td>23</td>\n",
       "      <td>1.9</td>\n",
       "      <td>43</td>\n",
       "      <td>1.3</td>\n",
       "      <td>1909</td>\n",
       "      <td>-9.3</td>\n",
       "      <td>0.0</td>\n",
       "      <td>0.0</td>\n",
       "      <td>0.0</td>\n",
       "      <td>Autumn</td>\n",
       "      <td>No Holiday</td>\n",
       "      <td>Yes</td>\n",
       "    </tr>\n",
       "  </tbody>\n",
       "</table>\n",
       "</div>"
      ],
      "text/plain": [
       "            Date  Rented Bike Count  Hour  Temperature(°C)  Humidity(%)  \\\n",
       "8757  30/11/2018                694    21              2.6           39   \n",
       "8758  30/11/2018                712    22              2.1           41   \n",
       "8759  30/11/2018                584    23              1.9           43   \n",
       "\n",
       "      Wind speed (m/s)  Visibility (10m)  Dew point temperature(°C)  \\\n",
       "8757               0.3              1968                       -9.9   \n",
       "8758               1.0              1859                       -9.8   \n",
       "8759               1.3              1909                       -9.3   \n",
       "\n",
       "      Solar Radiation (MJ/m2)  Rainfall(mm)  Snowfall (cm) Seasons  \\\n",
       "8757                      0.0           0.0            0.0  Autumn   \n",
       "8758                      0.0           0.0            0.0  Autumn   \n",
       "8759                      0.0           0.0            0.0  Autumn   \n",
       "\n",
       "         Holiday Functioning Day  \n",
       "8757  No Holiday             Yes  \n",
       "8758  No Holiday             Yes  \n",
       "8759  No Holiday             Yes  "
      ]
     },
     "execution_count": 4,
     "metadata": {},
     "output_type": "execute_result"
    }
   ],
   "source": [
    "bike.tail(3)"
   ]
  },
  {
   "cell_type": "code",
   "execution_count": 5,
   "id": "ce60c0ee",
   "metadata": {},
   "outputs": [
    {
     "data": {
      "text/plain": [
       "(8760, 14)"
      ]
     },
     "execution_count": 5,
     "metadata": {},
     "output_type": "execute_result"
    }
   ],
   "source": [
    "bike.shape"
   ]
  },
  {
   "cell_type": "code",
   "execution_count": 6,
   "id": "10c051a7",
   "metadata": {},
   "outputs": [
    {
     "data": {
      "text/html": [
       "<div>\n",
       "<style scoped>\n",
       "    .dataframe tbody tr th:only-of-type {\n",
       "        vertical-align: middle;\n",
       "    }\n",
       "\n",
       "    .dataframe tbody tr th {\n",
       "        vertical-align: top;\n",
       "    }\n",
       "\n",
       "    .dataframe thead th {\n",
       "        text-align: right;\n",
       "    }\n",
       "</style>\n",
       "<table border=\"1\" class=\"dataframe\">\n",
       "  <thead>\n",
       "    <tr style=\"text-align: right;\">\n",
       "      <th></th>\n",
       "      <th>Rented Bike Count</th>\n",
       "      <th>Hour</th>\n",
       "      <th>Temperature(°C)</th>\n",
       "      <th>Humidity(%)</th>\n",
       "      <th>Wind speed (m/s)</th>\n",
       "      <th>Visibility (10m)</th>\n",
       "      <th>Dew point temperature(°C)</th>\n",
       "      <th>Solar Radiation (MJ/m2)</th>\n",
       "      <th>Rainfall(mm)</th>\n",
       "      <th>Snowfall (cm)</th>\n",
       "    </tr>\n",
       "  </thead>\n",
       "  <tbody>\n",
       "    <tr>\n",
       "      <th>count</th>\n",
       "      <td>8760.000000</td>\n",
       "      <td>8760.000000</td>\n",
       "      <td>8760.000000</td>\n",
       "      <td>8760.000000</td>\n",
       "      <td>8760.000000</td>\n",
       "      <td>8760.000000</td>\n",
       "      <td>8760.000000</td>\n",
       "      <td>8760.000000</td>\n",
       "      <td>8760.000000</td>\n",
       "      <td>8760.000000</td>\n",
       "    </tr>\n",
       "    <tr>\n",
       "      <th>mean</th>\n",
       "      <td>704.602055</td>\n",
       "      <td>11.500000</td>\n",
       "      <td>12.882922</td>\n",
       "      <td>58.226256</td>\n",
       "      <td>1.724909</td>\n",
       "      <td>1436.825799</td>\n",
       "      <td>4.073813</td>\n",
       "      <td>0.569111</td>\n",
       "      <td>0.148687</td>\n",
       "      <td>0.075068</td>\n",
       "    </tr>\n",
       "    <tr>\n",
       "      <th>std</th>\n",
       "      <td>644.997468</td>\n",
       "      <td>6.922582</td>\n",
       "      <td>11.944825</td>\n",
       "      <td>20.362413</td>\n",
       "      <td>1.036300</td>\n",
       "      <td>608.298712</td>\n",
       "      <td>13.060369</td>\n",
       "      <td>0.868746</td>\n",
       "      <td>1.128193</td>\n",
       "      <td>0.436746</td>\n",
       "    </tr>\n",
       "    <tr>\n",
       "      <th>min</th>\n",
       "      <td>0.000000</td>\n",
       "      <td>0.000000</td>\n",
       "      <td>-17.800000</td>\n",
       "      <td>0.000000</td>\n",
       "      <td>0.000000</td>\n",
       "      <td>27.000000</td>\n",
       "      <td>-30.600000</td>\n",
       "      <td>0.000000</td>\n",
       "      <td>0.000000</td>\n",
       "      <td>0.000000</td>\n",
       "    </tr>\n",
       "    <tr>\n",
       "      <th>25%</th>\n",
       "      <td>191.000000</td>\n",
       "      <td>5.750000</td>\n",
       "      <td>3.500000</td>\n",
       "      <td>42.000000</td>\n",
       "      <td>0.900000</td>\n",
       "      <td>940.000000</td>\n",
       "      <td>-4.700000</td>\n",
       "      <td>0.000000</td>\n",
       "      <td>0.000000</td>\n",
       "      <td>0.000000</td>\n",
       "    </tr>\n",
       "    <tr>\n",
       "      <th>50%</th>\n",
       "      <td>504.500000</td>\n",
       "      <td>11.500000</td>\n",
       "      <td>13.700000</td>\n",
       "      <td>57.000000</td>\n",
       "      <td>1.500000</td>\n",
       "      <td>1698.000000</td>\n",
       "      <td>5.100000</td>\n",
       "      <td>0.010000</td>\n",
       "      <td>0.000000</td>\n",
       "      <td>0.000000</td>\n",
       "    </tr>\n",
       "    <tr>\n",
       "      <th>75%</th>\n",
       "      <td>1065.250000</td>\n",
       "      <td>17.250000</td>\n",
       "      <td>22.500000</td>\n",
       "      <td>74.000000</td>\n",
       "      <td>2.300000</td>\n",
       "      <td>2000.000000</td>\n",
       "      <td>14.800000</td>\n",
       "      <td>0.930000</td>\n",
       "      <td>0.000000</td>\n",
       "      <td>0.000000</td>\n",
       "    </tr>\n",
       "    <tr>\n",
       "      <th>max</th>\n",
       "      <td>3556.000000</td>\n",
       "      <td>23.000000</td>\n",
       "      <td>39.400000</td>\n",
       "      <td>98.000000</td>\n",
       "      <td>7.400000</td>\n",
       "      <td>2000.000000</td>\n",
       "      <td>27.200000</td>\n",
       "      <td>3.520000</td>\n",
       "      <td>35.000000</td>\n",
       "      <td>8.800000</td>\n",
       "    </tr>\n",
       "  </tbody>\n",
       "</table>\n",
       "</div>"
      ],
      "text/plain": [
       "       Rented Bike Count         Hour  Temperature(°C)  Humidity(%)  \\\n",
       "count        8760.000000  8760.000000      8760.000000  8760.000000   \n",
       "mean          704.602055    11.500000        12.882922    58.226256   \n",
       "std           644.997468     6.922582        11.944825    20.362413   \n",
       "min             0.000000     0.000000       -17.800000     0.000000   \n",
       "25%           191.000000     5.750000         3.500000    42.000000   \n",
       "50%           504.500000    11.500000        13.700000    57.000000   \n",
       "75%          1065.250000    17.250000        22.500000    74.000000   \n",
       "max          3556.000000    23.000000        39.400000    98.000000   \n",
       "\n",
       "       Wind speed (m/s)  Visibility (10m)  Dew point temperature(°C)  \\\n",
       "count       8760.000000       8760.000000                8760.000000   \n",
       "mean           1.724909       1436.825799                   4.073813   \n",
       "std            1.036300        608.298712                  13.060369   \n",
       "min            0.000000         27.000000                 -30.600000   \n",
       "25%            0.900000        940.000000                  -4.700000   \n",
       "50%            1.500000       1698.000000                   5.100000   \n",
       "75%            2.300000       2000.000000                  14.800000   \n",
       "max            7.400000       2000.000000                  27.200000   \n",
       "\n",
       "       Solar Radiation (MJ/m2)  Rainfall(mm)  Snowfall (cm)  \n",
       "count              8760.000000   8760.000000    8760.000000  \n",
       "mean                  0.569111      0.148687       0.075068  \n",
       "std                   0.868746      1.128193       0.436746  \n",
       "min                   0.000000      0.000000       0.000000  \n",
       "25%                   0.000000      0.000000       0.000000  \n",
       "50%                   0.010000      0.000000       0.000000  \n",
       "75%                   0.930000      0.000000       0.000000  \n",
       "max                   3.520000     35.000000       8.800000  "
      ]
     },
     "execution_count": 6,
     "metadata": {},
     "output_type": "execute_result"
    }
   ],
   "source": [
    "bike.describe()"
   ]
  },
  {
   "cell_type": "code",
   "execution_count": 7,
   "id": "1525f72d",
   "metadata": {},
   "outputs": [
    {
     "name": "stdout",
     "output_type": "stream",
     "text": [
      "<class 'pandas.core.frame.DataFrame'>\n",
      "RangeIndex: 8760 entries, 0 to 8759\n",
      "Data columns (total 14 columns):\n",
      " #   Column                     Non-Null Count  Dtype  \n",
      "---  ------                     --------------  -----  \n",
      " 0   Date                       8760 non-null   object \n",
      " 1   Rented Bike Count          8760 non-null   int64  \n",
      " 2   Hour                       8760 non-null   int64  \n",
      " 3   Temperature(°C)            8760 non-null   float64\n",
      " 4   Humidity(%)                8760 non-null   int64  \n",
      " 5   Wind speed (m/s)           8760 non-null   float64\n",
      " 6   Visibility (10m)           8760 non-null   int64  \n",
      " 7   Dew point temperature(°C)  8760 non-null   float64\n",
      " 8   Solar Radiation (MJ/m2)    8760 non-null   float64\n",
      " 9   Rainfall(mm)               8760 non-null   float64\n",
      " 10  Snowfall (cm)              8760 non-null   float64\n",
      " 11  Seasons                    8760 non-null   object \n",
      " 12  Holiday                    8760 non-null   object \n",
      " 13  Functioning Day            8760 non-null   object \n",
      "dtypes: float64(6), int64(4), object(4)\n",
      "memory usage: 958.3+ KB\n"
     ]
    }
   ],
   "source": [
    "bike.info()"
   ]
  },
  {
   "cell_type": "markdown",
   "id": "d554ad98",
   "metadata": {},
   "source": [
    "## Changing from categorical to numerical"
   ]
  },
  {
   "cell_type": "code",
   "execution_count": 8,
   "id": "49481691",
   "metadata": {},
   "outputs": [
    {
     "data": {
      "text/plain": [
       "array(['Winter', 'Spring', 'Summer', 'Autumn'], dtype=object)"
      ]
     },
     "execution_count": 8,
     "metadata": {},
     "output_type": "execute_result"
    }
   ],
   "source": [
    "bike[\"Seasons\"].unique()"
   ]
  },
  {
   "cell_type": "code",
   "execution_count": 9,
   "id": "71933fa1",
   "metadata": {},
   "outputs": [
    {
     "data": {
      "text/plain": [
       "array(['No Holiday', 'Holiday'], dtype=object)"
      ]
     },
     "execution_count": 9,
     "metadata": {},
     "output_type": "execute_result"
    }
   ],
   "source": [
    "bike[\"Holiday\"].unique()"
   ]
  },
  {
   "cell_type": "code",
   "execution_count": 10,
   "id": "9cddce80",
   "metadata": {},
   "outputs": [
    {
     "data": {
      "text/plain": [
       "array(['Yes', 'No'], dtype=object)"
      ]
     },
     "execution_count": 10,
     "metadata": {},
     "output_type": "execute_result"
    }
   ],
   "source": [
    "bike[\"Functioning Day\"].unique()"
   ]
  },
  {
   "cell_type": "code",
   "execution_count": 11,
   "id": "5b553529",
   "metadata": {},
   "outputs": [],
   "source": [
    "bike['Seasons'].replace('Winter', 0, inplace = True)\n",
    "bike['Seasons'].replace('Spring', 1, inplace = True)\n",
    "bike['Seasons'].replace('Summer', 2, inplace = True)\n",
    "bike['Seasons'].replace('Autumn', 3, inplace = True)"
   ]
  },
  {
   "cell_type": "code",
   "execution_count": 12,
   "id": "9b709716",
   "metadata": {},
   "outputs": [
    {
     "data": {
      "text/plain": [
       "8758    3\n",
       "8759    3\n",
       "Name: Seasons, dtype: int64"
      ]
     },
     "execution_count": 12,
     "metadata": {},
     "output_type": "execute_result"
    }
   ],
   "source": [
    "bike['Seasons'].tail(2)"
   ]
  },
  {
   "cell_type": "code",
   "execution_count": 13,
   "id": "4a633542",
   "metadata": {},
   "outputs": [],
   "source": [
    "bike[\"Holiday\"].replace('No Holiday', 0, inplace = True)\n",
    "bike[\"Holiday\"].replace('Holiday', 1, inplace = True)"
   ]
  },
  {
   "cell_type": "code",
   "execution_count": 14,
   "id": "168799a7",
   "metadata": {},
   "outputs": [
    {
     "data": {
      "text/plain": [
       "8758    0\n",
       "8759    0\n",
       "Name: Holiday, dtype: int64"
      ]
     },
     "execution_count": 14,
     "metadata": {},
     "output_type": "execute_result"
    }
   ],
   "source": [
    "bike[\"Holiday\"].tail(2)"
   ]
  },
  {
   "cell_type": "code",
   "execution_count": 15,
   "id": "2d461b05",
   "metadata": {},
   "outputs": [],
   "source": [
    "bike[\"Functioning Day\"].replace('No', 0, inplace = True)\n",
    "bike[\"Functioning Day\"].replace('Yes', 1, inplace = True)"
   ]
  },
  {
   "cell_type": "code",
   "execution_count": 16,
   "id": "de4649aa",
   "metadata": {},
   "outputs": [
    {
     "data": {
      "text/plain": [
       "8758    1\n",
       "8759    1\n",
       "Name: Functioning Day, dtype: int64"
      ]
     },
     "execution_count": 16,
     "metadata": {},
     "output_type": "execute_result"
    }
   ],
   "source": [
    "bike[\"Functioning Day\"].tail(2)"
   ]
  },
  {
   "cell_type": "markdown",
   "id": "3f5ded7f",
   "metadata": {},
   "source": []
  },
  {
   "cell_type": "markdown",
   "id": "9b8617ba",
   "metadata": {},
   "source": [
    "# Graphics "
   ]
  },
  {
   "cell_type": "markdown",
   "id": "b7a66de9",
   "metadata": {},
   "source": [
    "sns.histplot(data = bike, y = \"Rented Bike Count\", x = \"Hour\")"
   ]
  },
  {
   "cell_type": "markdown",
   "id": "9a9f97d3",
   "metadata": {},
   "source": [
    "sns.histplot(data = bike, x = \"Holiday\")"
   ]
  },
  {
   "cell_type": "markdown",
   "id": "4344e869",
   "metadata": {},
   "source": []
  },
  {
   "cell_type": "markdown",
   "id": "f52f9faf",
   "metadata": {},
   "source": [
    "sns.histplot(data = bike, x = \"Functioning Day\")"
   ]
  },
  {
   "cell_type": "markdown",
   "id": "0dbb515f",
   "metadata": {},
   "source": []
  },
  {
   "cell_type": "markdown",
   "id": "27e3f8db",
   "metadata": {
    "scrolled": false
   },
   "source": [
    "sns.histplot(data = bike, x = \"Rented Bike Count\")"
   ]
  },
  {
   "cell_type": "markdown",
   "id": "4b638edd",
   "metadata": {},
   "source": [
    "sns.histplot(data = bike, x = \"Temperature(°C)\")"
   ]
  },
  {
   "cell_type": "markdown",
   "id": "28f862ac",
   "metadata": {},
   "source": [
    "sns.histplot(data = bike, x = \"Humidity(%)\")\n",
    "\n"
   ]
  },
  {
   "cell_type": "markdown",
   "id": "7e3b5b69",
   "metadata": {},
   "source": [
    "sns.histplot(data = bike, x = \"Wind speed (m/s)\")\n",
    "\n"
   ]
  },
  {
   "cell_type": "markdown",
   "id": "9eae0515",
   "metadata": {},
   "source": [
    "sns.histplot(data = bike, x = \"Visibility (10m)\")"
   ]
  },
  {
   "cell_type": "markdown",
   "id": "a5bcb0bb",
   "metadata": {},
   "source": [
    "sns.histplot(data = bike, x = \"Dew point temperature(°C)\")"
   ]
  },
  {
   "cell_type": "markdown",
   "id": "adc3744c",
   "metadata": {},
   "source": [
    "sns.histplot(data = bike, x = \"Solar Radiation (MJ/m2)\")\n"
   ]
  },
  {
   "cell_type": "markdown",
   "id": "e5fc2ba5",
   "metadata": {},
   "source": [
    "sns.histplot(data = bike, x = \"Rainfall(mm)\")"
   ]
  },
  {
   "cell_type": "markdown",
   "id": "b48980c8",
   "metadata": {},
   "source": [
    "sns.histplot(data = bike, x = \"Snowfall (cm)\")"
   ]
  },
  {
   "cell_type": "markdown",
   "id": "f98697b8",
   "metadata": {},
   "source": [
    "sns.histplot(data = bike, x = \"Seasons\")"
   ]
  },
  {
   "cell_type": "markdown",
   "id": "ca143f37",
   "metadata": {},
   "source": [
    "The bikes have been used equally throughout the seasons "
   ]
  },
  {
   "cell_type": "markdown",
   "id": "bd615d3f",
   "metadata": {},
   "source": [
    "The seasons have the same amount of observations but the number of rented bikes are different between seasons"
   ]
  },
  {
   "cell_type": "markdown",
   "id": "89a558a7",
   "metadata": {},
   "source": [
    "bike.head(1)"
   ]
  },
  {
   "cell_type": "markdown",
   "id": "fc44aa3b",
   "metadata": {},
   "source": [
    "bike.plot(x = \"Temperature(°C)\", y = \"Rented Bike Count\", style = \"*\")\n",
    "plt.title(\"Rented Bike Count vs Temperature(°C)\")\n",
    "plt.xlabel(\"Temperature(°C)\")\n",
    "plt.ylabel(\"Rented Bike Count\")\n",
    "plt.show()"
   ]
  },
  {
   "cell_type": "markdown",
   "id": "0ff3f65f",
   "metadata": {},
   "source": [
    "bike.plot(x = \"Hour\", y = \"Rented Bike Count\", style = \"*\")\n",
    "plt.title(\"Rented Bike Count vs Hour\")\n",
    "plt.xlabel(\"Hour\")\n",
    "plt.ylabel(\"Rented Bike Count\")\n",
    "plt.show()"
   ]
  },
  {
   "cell_type": "markdown",
   "id": "b05d02d0",
   "metadata": {},
   "source": [
    "sns.histplot(data = bike, x = \"Seasons\", y = \"Rented Bike Count\")"
   ]
  },
  {
   "cell_type": "markdown",
   "id": "5d391499",
   "metadata": {},
   "source": [
    "('Winter', 0, inplace = True)\n",
    "('Spring', 1, inplace = True)\n",
    "('Summer', 2, inplace = True)\n",
    "('Autumn', 3, inplace = True)"
   ]
  },
  {
   "cell_type": "markdown",
   "id": "551fcf49",
   "metadata": {},
   "source": [
    "sns.histplot(data = bike, x = \"Seasons\", y = \"Temperature(°C)\")"
   ]
  },
  {
   "cell_type": "markdown",
   "id": "ccc42cc7",
   "metadata": {},
   "source": [
    "sns.boxplot(data = bike[\"Rented Bike Count\"])"
   ]
  },
  {
   "cell_type": "markdown",
   "id": "e97e4996",
   "metadata": {},
   "source": [
    "sns.boxplot(data = bike[\"Temperature(°C)\"])"
   ]
  },
  {
   "cell_type": "markdown",
   "id": "96ec0b6c",
   "metadata": {},
   "source": [
    " sns.boxplot(data = bike[\"Visibility (10m)\"])"
   ]
  },
  {
   "cell_type": "markdown",
   "id": "2e489789",
   "metadata": {},
   "source": []
  },
  {
   "cell_type": "markdown",
   "id": "82dc2cc5",
   "metadata": {},
   "source": [
    "# Correlation"
   ]
  },
  {
   "cell_type": "markdown",
   "id": "3405e80a",
   "metadata": {},
   "source": [
    "bike.head(3)"
   ]
  },
  {
   "cell_type": "markdown",
   "id": "c85bf135",
   "metadata": {},
   "source": [
    "bike_d = bike.drop([\"Date\"], axis = 1)"
   ]
  },
  {
   "cell_type": "markdown",
   "id": "3493c839",
   "metadata": {},
   "source": [
    "bike_d.head(3)"
   ]
  },
  {
   "cell_type": "markdown",
   "id": "acd8c52d",
   "metadata": {},
   "source": [
    "from statsmodels.stats.outliers_influence import variance_inflation_factor\n",
    "\n",
    "vif_data = pd.DataFrame()\n",
    "vif_data[\"Variable\"] = bike_d.columns\n",
    "vif_data[\"VIF\"] = [variance_inflation_factor(bike_d.values, i) for i in range(bike_d.shape[1])]\n",
    "print(vif_data)"
   ]
  },
  {
   "cell_type": "markdown",
   "id": "d0787800",
   "metadata": {},
   "source": [
    "corr_matrix = np.corrcoef(bike_d, rowvar = False)\n",
    "\n",
    "sns.heatmap(corr_matrix, annot = True, cmap = 'coolwarm', fmt = '.2f', \n",
    "            xticklabels = range(bike_d.shape[1]), yticklabels = range(bike_d.shape[1]))\n",
    "plt.title(\"Feature Correlation Matrix\")\n",
    "plt.show()"
   ]
  },
  {
   "cell_type": "markdown",
   "id": "47b0ce43",
   "metadata": {},
   "source": [
    "The highest correlations are between: \n",
    "- Rented Bike Count & Temperature(°C) = 0.54 (0 & 2)\n",
    "- Temperature(°C) & Dew point temperature(°C) = 0.91 (2 & 6)\n",
    "- Temperature(°C) & Seasons = 0.59 (2 & 10)\n",
    "- Humidity(%) & Visibility (10m) = 0.54 (3 & 5)\n",
    "- Humidity(%) & Dew point temperature(°C) = 0.54 (3 & 6)\n",
    "- Dew point temperature(°C) & Seasons = 0.58 (6 & 10)"
   ]
  },
  {
   "cell_type": "markdown",
   "id": "e49f9512",
   "metadata": {},
   "source": [
    "import numpy as np\n",
    "\n",
    "eigenvalues, _ = np.linalg.eig(corr_matrix)\n",
    "print(\"Eigenvalues:\", eigenvalues)\n"
   ]
  },
  {
   "cell_type": "markdown",
   "id": "1abe2c34",
   "metadata": {},
   "source": [
    "condition_number = np.sqrt(np.max(eigenvalues) / np.min(eigenvalues))\n",
    "print(\"Condition Number:\", condition_number)\n"
   ]
  },
  {
   "cell_type": "markdown",
   "id": "8260248c",
   "metadata": {},
   "source": [
    "def find_highly_correlated_vars(corr_matrix, threshold = 0.5):\n",
    "    if isinstance(corr_matrix, pd.DataFrame):\n",
    "        corr_matrix = corr_matrix.values\n",
    "    rows, cols = np.where(np.abs(corr_matrix) > threshold)\n",
    "    unique_pairs = set((min(r, c), max(r, c)) for r, c in zip(rows, cols) if r != c)\n",
    "    return list(unique_pairs)\n",
    "\n",
    "corr_matrix = bike_d.corr()\n",
    "highly_corr_vars = find_highly_correlated_vars(corr_matrix, threshold=0.5)\n",
    "\n",
    "print(\"Pairs of highly correlated variables:\", highly_corr_vars)"
   ]
  },
  {
   "cell_type": "markdown",
   "id": "dc574245",
   "metadata": {},
   "source": [
    "bike_d.head(1)"
   ]
  },
  {
   "cell_type": "markdown",
   "id": "7f3da89e",
   "metadata": {
    "scrolled": false
   },
   "source": [
    "sns.pairplot(bike[[\"Rented Bike Count\", \"Temperature(°C)\"]])\n",
    "\n",
    "#sns.pairplot(bike[[\"Rented Bike Count\", \"Seasons\"]])\n",
    "\n",
    "sns.pairplot(bike[[\"Temperature(°C)\", \"Dew point temperature(°C)\"]])\n",
    "\n",
    "sns.pairplot(bike[[\"Temperature(°C)\", \"Seasons\"]])\n",
    "\n",
    "sns.pairplot(bike[[\"Humidity(%)\", \"Visibility (10m)\"]])\n",
    "\n",
    "sns.pairplot(bike[[\"Humidity(%)\", \"Dew point temperature(°C)\"]])\n",
    "\n",
    "sns.pairplot(bike[[\"Dew point temperature(°C)\", \"Seasons\"]])"
   ]
  },
  {
   "cell_type": "markdown",
   "id": "686a6bcf",
   "metadata": {},
   "source": [
    "Rented Bike Count & Temperature(°C) = 0.54 (0 & 2)\n",
    "\n",
    "Temperature(°C) & Dew point temperature(°C) = 0.91 (2 & 6)\n",
    "\n",
    "Temperature(°C) & Seasons = 0.59 (2 & 10)\n",
    "\n",
    "Humidity(%) & Visibility (10m) = 0.54 (3 & 5)\n",
    "\n",
    "Humidity(%) & Dew point temperature(°C) = 0.54 (3 & 6)\n",
    "Dew point temperature(°C) & Seasons = 0.58 (6 & 10"
   ]
  },
  {
   "cell_type": "markdown",
   "id": "f341a7b9",
   "metadata": {},
   "source": [
    "Multicollinearity"
   ]
  },
  {
   "cell_type": "markdown",
   "id": "ea8fb6a3",
   "metadata": {},
   "source": [
    "X = bike_d.iloc[:, 1:]  # All rows, columns from index 1 onwards (excluding the first column)\n",
    "y = bike_d.iloc[:, 0]   # All rows, only the first column"
   ]
  },
  {
   "cell_type": "code",
   "execution_count": 17,
   "id": "1a7078a1",
   "metadata": {},
   "outputs": [],
   "source": [
    "bike_d2 = bike.drop([\"Date\", \"Visibility (10m)\", \"Dew point temperature(°C)\", \"Seasons\", \"Holiday\", \"Functioning Day\"], axis = 1)"
   ]
  },
  {
   "cell_type": "code",
   "execution_count": 18,
   "id": "de5b431d",
   "metadata": {},
   "outputs": [
    {
     "data": {
      "text/html": [
       "<div>\n",
       "<style scoped>\n",
       "    .dataframe tbody tr th:only-of-type {\n",
       "        vertical-align: middle;\n",
       "    }\n",
       "\n",
       "    .dataframe tbody tr th {\n",
       "        vertical-align: top;\n",
       "    }\n",
       "\n",
       "    .dataframe thead th {\n",
       "        text-align: right;\n",
       "    }\n",
       "</style>\n",
       "<table border=\"1\" class=\"dataframe\">\n",
       "  <thead>\n",
       "    <tr style=\"text-align: right;\">\n",
       "      <th></th>\n",
       "      <th>Rented Bike Count</th>\n",
       "      <th>Hour</th>\n",
       "      <th>Temperature(°C)</th>\n",
       "      <th>Humidity(%)</th>\n",
       "      <th>Wind speed (m/s)</th>\n",
       "      <th>Solar Radiation (MJ/m2)</th>\n",
       "      <th>Rainfall(mm)</th>\n",
       "      <th>Snowfall (cm)</th>\n",
       "    </tr>\n",
       "  </thead>\n",
       "  <tbody>\n",
       "    <tr>\n",
       "      <th>0</th>\n",
       "      <td>254</td>\n",
       "      <td>0</td>\n",
       "      <td>-5.2</td>\n",
       "      <td>37</td>\n",
       "      <td>2.2</td>\n",
       "      <td>0.0</td>\n",
       "      <td>0.0</td>\n",
       "      <td>0.0</td>\n",
       "    </tr>\n",
       "    <tr>\n",
       "      <th>1</th>\n",
       "      <td>204</td>\n",
       "      <td>1</td>\n",
       "      <td>-5.5</td>\n",
       "      <td>38</td>\n",
       "      <td>0.8</td>\n",
       "      <td>0.0</td>\n",
       "      <td>0.0</td>\n",
       "      <td>0.0</td>\n",
       "    </tr>\n",
       "  </tbody>\n",
       "</table>\n",
       "</div>"
      ],
      "text/plain": [
       "   Rented Bike Count  Hour  Temperature(°C)  Humidity(%)  Wind speed (m/s)  \\\n",
       "0                254     0             -5.2           37               2.2   \n",
       "1                204     1             -5.5           38               0.8   \n",
       "\n",
       "   Solar Radiation (MJ/m2)  Rainfall(mm)  Snowfall (cm)  \n",
       "0                      0.0           0.0            0.0  \n",
       "1                      0.0           0.0            0.0  "
      ]
     },
     "execution_count": 18,
     "metadata": {},
     "output_type": "execute_result"
    }
   ],
   "source": [
    "bike_d2.head(2)"
   ]
  },
  {
   "cell_type": "code",
   "execution_count": null,
   "id": "bf1272e5",
   "metadata": {},
   "outputs": [],
   "source": []
  },
  {
   "cell_type": "code",
   "execution_count": null,
   "id": "ba5f429f",
   "metadata": {},
   "outputs": [],
   "source": []
  },
  {
   "cell_type": "code",
   "execution_count": 19,
   "id": "2e4a3862",
   "metadata": {},
   "outputs": [],
   "source": [
    "bike_array = bike_d2.values"
   ]
  },
  {
   "cell_type": "code",
   "execution_count": 20,
   "id": "031a6c1e",
   "metadata": {},
   "outputs": [],
   "source": [
    "X = bike_array[:, 1:]\n",
    "\n",
    "y = bike_array[:, 0]"
   ]
  },
  {
   "cell_type": "code",
   "execution_count": 21,
   "id": "68998cc4",
   "metadata": {},
   "outputs": [
    {
     "data": {
      "text/plain": [
       "array([254., 204., 173., ..., 694., 712., 584.])"
      ]
     },
     "execution_count": 21,
     "metadata": {},
     "output_type": "execute_result"
    }
   ],
   "source": [
    "y"
   ]
  },
  {
   "cell_type": "code",
   "execution_count": 22,
   "id": "90223a12",
   "metadata": {},
   "outputs": [
    {
     "data": {
      "text/plain": [
       "array([[ 0. , -5.2, 37. , ...,  0. ,  0. ,  0. ],\n",
       "       [ 1. , -5.5, 38. , ...,  0. ,  0. ,  0. ],\n",
       "       [ 2. , -6. , 39. , ...,  0. ,  0. ,  0. ],\n",
       "       ...,\n",
       "       [21. ,  2.6, 39. , ...,  0. ,  0. ,  0. ],\n",
       "       [22. ,  2.1, 41. , ...,  0. ,  0. ,  0. ],\n",
       "       [23. ,  1.9, 43. , ...,  0. ,  0. ,  0. ]])"
      ]
     },
     "execution_count": 22,
     "metadata": {},
     "output_type": "execute_result"
    }
   ],
   "source": [
    "X"
   ]
  },
  {
   "cell_type": "code",
   "execution_count": 23,
   "id": "898ac511",
   "metadata": {},
   "outputs": [],
   "source": [
    "X_train, X_test, y_train, y_test = train_test_split(X, y, test_size = 0.2, random_state = 12)"
   ]
  },
  {
   "cell_type": "code",
   "execution_count": 24,
   "id": "20e33953",
   "metadata": {},
   "outputs": [
    {
     "data": {
      "text/plain": [
       "((8760, 7), (8760,), (7008, 7), (1752, 7), (7008,), (1752,))"
      ]
     },
     "execution_count": 24,
     "metadata": {},
     "output_type": "execute_result"
    }
   ],
   "source": [
    "X.shape, y.shape, X_train.shape, X_test.shape, y_train.shape, y_test.shape"
   ]
  },
  {
   "cell_type": "code",
   "execution_count": 25,
   "id": "aea68f3d",
   "metadata": {},
   "outputs": [],
   "source": [
    "scaler = MinMaxScaler()\n",
    "\n",
    "scaler.fit(X_train)\n",
    "\n",
    "X_train_scaled = scaler.transform(X_train)\n",
    "\n",
    "X_test_scaled  = scaler.transform(X_test)\n",
    "\n",
    "X_scaled = scaler.transform(X)"
   ]
  },
  {
   "cell_type": "markdown",
   "id": "78a6d713",
   "metadata": {},
   "source": [
    "train_pred = model.predict(X_train_scaled)\n",
    "test_pred = model.predict(X_test_scaled)\n",
    "\n",
    "from sklearn.metrics import mean_squared_error, r2_score\n",
    "\n",
    "train_mse = mean_squared_error(y_train, train_pred)\n",
    "test_mse = mean_squared_error(y_test, test_pred)\n",
    "\n",
    "print(f'Training MSE: {train_mse}')\n",
    "print(f'Validation MSE: {test_mse}')"
   ]
  },
  {
   "cell_type": "markdown",
   "id": "74fe5b3d",
   "metadata": {},
   "source": [
    "# Models"
   ]
  },
  {
   "cell_type": "markdown",
   "id": "590b4100",
   "metadata": {},
   "source": [
    "# Linear Regression"
   ]
  },
  {
   "cell_type": "code",
   "execution_count": 26,
   "id": "5c2a959c",
   "metadata": {},
   "outputs": [],
   "source": [
    "from sklearn.linear_model import LinearRegression"
   ]
  },
  {
   "cell_type": "code",
   "execution_count": 27,
   "id": "35d12d92",
   "metadata": {},
   "outputs": [
    {
     "name": "stdout",
     "output_type": "stream",
     "text": [
      "Mean Squared Error: 216628.77814566\n",
      "Root Mean Squared Error: 465.43396754605266\n",
      "R-squared: 0.46398066023961204\n",
      "Adjusted R-squared: 0.46182920646763803\n"
     ]
    }
   ],
   "source": [
    "linear_reg = LinearRegression()\n",
    "\n",
    "linear_reg.fit(X_train_scaled, y_train)\n",
    "\n",
    "yp_lr = linear_reg.predict(X_test_scaled)\n",
    "\n",
    "mse = mean_squared_error(y_test, yp_lr)\n",
    "mse_r = mean_squared_error(y_test, yp_lr, squared = False)\n",
    "r2 = r2_score(y_test, yp_lr)\n",
    "\n",
    "n = len(y_test)\n",
    "k = X_train_scaled.shape[1]\n",
    "adj_r2 = 1 - ((1 - r2) * (n - 1) / (n - k - 1))\n",
    "\n",
    "print(f'Mean Squared Error: {mse}')\n",
    "print(f'Root Mean Squared Error: {mse_r}')\n",
    "print(f'R-squared: {r2}')\n",
    "print(f'Adjusted R-squared: {adj_r2}')"
   ]
  },
  {
   "cell_type": "code",
   "execution_count": 28,
   "id": "1a3cb88c",
   "metadata": {},
   "outputs": [
    {
     "name": "stdout",
     "output_type": "stream",
     "text": [
      "Training MSE: 221410.47406051576\n",
      "Validation MSE: 216628.77814566\n"
     ]
    }
   ],
   "source": [
    "train_pred = linear_reg.predict(X_train_scaled)\n",
    "test_pred = linear_reg.predict(X_test_scaled)\n",
    "\n",
    "from sklearn.metrics import mean_squared_error, r2_score\n",
    "\n",
    "train_mse = mean_squared_error(y_train, train_pred)\n",
    "test_mse = mean_squared_error(y_test, test_pred)\n",
    "\n",
    "print(f'Training MSE: {train_mse}')\n",
    "print(f'Validation MSE: {test_mse}')"
   ]
  },
  {
   "cell_type": "code",
   "execution_count": 29,
   "id": "75828c13",
   "metadata": {},
   "outputs": [
    {
     "name": "stdout",
     "output_type": "stream",
     "text": [
      "Huber Loss: [646.38644477 192.78762792 507.57713695 ... 178.51972985 232.87127327\n",
      "  52.94341111]\n",
      "Mean Huber Loss: 339.1764602203368\n"
     ]
    }
   ],
   "source": [
    "import tensorflow as tf\n",
    "def huber_loss(y_test, yp_lr, delta=1.0):\n",
    "    error = y_test - yp_lr\n",
    "    condition = tf.abs(error) < delta\n",
    "    squared_loss = 0.5 * tf.square(error)\n",
    "    linear_loss = delta * (tf.abs(error) - 0.5 * delta)\n",
    "    return tf.where(condition, squared_loss, linear_loss)\n",
    "\n",
    "loss = huber_loss(y_test, yp_lr, delta=1.0)\n",
    "print(\"Huber Loss:\", loss.numpy())\n",
    "\n",
    "mean_huber_loss = np.mean(loss)\n",
    "print(f\"Mean Huber Loss: {mean_huber_loss}\")"
   ]
  },
  {
   "cell_type": "code",
   "execution_count": 30,
   "id": "297a10e1",
   "metadata": {},
   "outputs": [
    {
     "data": {
      "text/plain": [
       "0.4593758323122934"
      ]
     },
     "execution_count": 30,
     "metadata": {},
     "output_type": "execute_result"
    }
   ],
   "source": [
    "score_l = cross_val_score(LinearRegression(), X_test_scaled, y_test, cv = 5, scoring = 'r2').mean()\n",
    "score_l"
   ]
  },
  {
   "cell_type": "code",
   "execution_count": 31,
   "id": "7bb2d981",
   "metadata": {},
   "outputs": [
    {
     "data": {
      "text/html": [
       "<div>\n",
       "<style scoped>\n",
       "    .dataframe tbody tr th:only-of-type {\n",
       "        vertical-align: middle;\n",
       "    }\n",
       "\n",
       "    .dataframe tbody tr th {\n",
       "        vertical-align: top;\n",
       "    }\n",
       "\n",
       "    .dataframe thead th {\n",
       "        text-align: right;\n",
       "    }\n",
       "</style>\n",
       "<table border=\"1\" class=\"dataframe\">\n",
       "  <thead>\n",
       "    <tr style=\"text-align: right;\">\n",
       "      <th></th>\n",
       "      <th>Actual</th>\n",
       "      <th>Predicted</th>\n",
       "    </tr>\n",
       "  </thead>\n",
       "  <tbody>\n",
       "    <tr>\n",
       "      <th>0</th>\n",
       "      <td>278.0</td>\n",
       "      <td>924.886445</td>\n",
       "    </tr>\n",
       "    <tr>\n",
       "      <th>1</th>\n",
       "      <td>96.0</td>\n",
       "      <td>-97.287628</td>\n",
       "    </tr>\n",
       "    <tr>\n",
       "      <th>2</th>\n",
       "      <td>215.0</td>\n",
       "      <td>723.077137</td>\n",
       "    </tr>\n",
       "    <tr>\n",
       "      <th>3</th>\n",
       "      <td>1290.0</td>\n",
       "      <td>1204.940332</td>\n",
       "    </tr>\n",
       "    <tr>\n",
       "      <th>4</th>\n",
       "      <td>165.0</td>\n",
       "      <td>688.878524</td>\n",
       "    </tr>\n",
       "  </tbody>\n",
       "</table>\n",
       "</div>"
      ],
      "text/plain": [
       "   Actual    Predicted\n",
       "0   278.0   924.886445\n",
       "1    96.0   -97.287628\n",
       "2   215.0   723.077137\n",
       "3  1290.0  1204.940332\n",
       "4   165.0   688.878524"
      ]
     },
     "execution_count": 31,
     "metadata": {},
     "output_type": "execute_result"
    }
   ],
   "source": [
    "pred = pd.DataFrame({'Actual': y_test, 'Predicted': yp_lr})\n",
    "pred.head()"
   ]
  },
  {
   "cell_type": "markdown",
   "id": "0dc2c325",
   "metadata": {},
   "source": [
    "## Polynomial 2 and 3"
   ]
  },
  {
   "cell_type": "code",
   "execution_count": 32,
   "id": "34597a64",
   "metadata": {},
   "outputs": [],
   "source": [
    "from sklearn.preprocessing import PolynomialFeatures"
   ]
  },
  {
   "cell_type": "code",
   "execution_count": 33,
   "id": "2de30d74",
   "metadata": {},
   "outputs": [
    {
     "name": "stdout",
     "output_type": "stream",
     "text": [
      "Mean Squared Error: 173892.26181136008\n",
      "Root Mean Squared Error: 417.00391102645557\n",
      "R-squared: 0.5697265332730072\n",
      "Adjusted R-squared: 0.5679995182116029\n"
     ]
    }
   ],
   "source": [
    "poly_features = PolynomialFeatures(degree = 2)\n",
    "\n",
    "X_train_poly = poly_features.fit_transform(X_train_scaled)\n",
    "X_test_poly = poly_features.transform(X_test_scaled)\n",
    "\n",
    "poly_reg = LinearRegression()\n",
    "poly_reg.fit(X_train_poly, y_train)\n",
    "\n",
    "yp_p2 = poly_reg.predict(X_test_poly)\n",
    "\n",
    "mse = mean_squared_error(y_test, yp_p2)\n",
    "mse_r = mean_squared_error(y_test, yp_p2, squared = False)\n",
    "r2 = r2_score(y_test, yp_p2)\n",
    "\n",
    "n = len(y_test)\n",
    "k = X_train_scaled.shape[1]  # Number of features\n",
    "adj_r2 = 1 - ((1 - r2) * (n - 1) / (n - k - 1))\n",
    "\n",
    "print(f'Mean Squared Error: {mse}')\n",
    "print(f'Root Mean Squared Error: {mse_r}')\n",
    "print(f'R-squared: {r2}')\n",
    "print(f'Adjusted R-squared: {adj_r2}')"
   ]
  },
  {
   "cell_type": "code",
   "execution_count": 34,
   "id": "c28660de",
   "metadata": {},
   "outputs": [
    {
     "data": {
      "text/plain": [
       "0.4593758323122934"
      ]
     },
     "execution_count": 34,
     "metadata": {},
     "output_type": "execute_result"
    }
   ],
   "source": [
    "score_lp2 = cross_val_score(poly_reg, X_test_scaled, y_test, cv = 5, scoring = 'r2').mean()\n",
    "score_lp2"
   ]
  },
  {
   "cell_type": "code",
   "execution_count": 35,
   "id": "0268788d",
   "metadata": {},
   "outputs": [
    {
     "data": {
      "text/html": [
       "<div>\n",
       "<style scoped>\n",
       "    .dataframe tbody tr th:only-of-type {\n",
       "        vertical-align: middle;\n",
       "    }\n",
       "\n",
       "    .dataframe tbody tr th {\n",
       "        vertical-align: top;\n",
       "    }\n",
       "\n",
       "    .dataframe thead th {\n",
       "        text-align: right;\n",
       "    }\n",
       "</style>\n",
       "<table border=\"1\" class=\"dataframe\">\n",
       "  <thead>\n",
       "    <tr style=\"text-align: right;\">\n",
       "      <th></th>\n",
       "      <th>Actual</th>\n",
       "      <th>Predicted</th>\n",
       "    </tr>\n",
       "  </thead>\n",
       "  <tbody>\n",
       "    <tr>\n",
       "      <th>0</th>\n",
       "      <td>278.0</td>\n",
       "      <td>641.280768</td>\n",
       "    </tr>\n",
       "    <tr>\n",
       "      <th>1</th>\n",
       "      <td>96.0</td>\n",
       "      <td>55.817418</td>\n",
       "    </tr>\n",
       "    <tr>\n",
       "      <th>2</th>\n",
       "      <td>215.0</td>\n",
       "      <td>695.881927</td>\n",
       "    </tr>\n",
       "    <tr>\n",
       "      <th>3</th>\n",
       "      <td>1290.0</td>\n",
       "      <td>1411.240311</td>\n",
       "    </tr>\n",
       "    <tr>\n",
       "      <th>4</th>\n",
       "      <td>165.0</td>\n",
       "      <td>441.798312</td>\n",
       "    </tr>\n",
       "  </tbody>\n",
       "</table>\n",
       "</div>"
      ],
      "text/plain": [
       "   Actual    Predicted\n",
       "0   278.0   641.280768\n",
       "1    96.0    55.817418\n",
       "2   215.0   695.881927\n",
       "3  1290.0  1411.240311\n",
       "4   165.0   441.798312"
      ]
     },
     "execution_count": 35,
     "metadata": {},
     "output_type": "execute_result"
    }
   ],
   "source": [
    "pred_p2 = pd.DataFrame({'Actual': y_test, 'Predicted': yp_p2})\n",
    "pred_p2.head()"
   ]
  },
  {
   "cell_type": "code",
   "execution_count": 36,
   "id": "43004aad",
   "metadata": {},
   "outputs": [
    {
     "name": "stdout",
     "output_type": "stream",
     "text": [
      "Training MSE: 179884.61340435053\n",
      "Validation MSE: 173892.26181136008\n",
      "Huber Loss: [362.78076805  39.68258151 480.38192733 ... 158.59363598  11.72397097\n",
      " 197.63554304]\n",
      "Mean Huber Loss: 296.13907805060893\n"
     ]
    }
   ],
   "source": [
    "train_pred = poly_reg.predict(X_train_poly)\n",
    "test_pred = poly_reg.predict(X_test_poly)\n",
    "\n",
    "from sklearn.metrics import mean_squared_error, r2_score\n",
    "\n",
    "train_mse = mean_squared_error(y_train, train_pred)\n",
    "test_mse = mean_squared_error(y_test, test_pred)\n",
    "\n",
    "print(f'Training MSE: {train_mse}')\n",
    "print(f'Validation MSE: {test_mse}')\n",
    "\n",
    "import tensorflow as tf\n",
    "def huber_loss(y_test, yp_p2, delta=1.0):\n",
    "    error = y_test - yp_p2\n",
    "    condition = tf.abs(error) < delta\n",
    "    squared_loss = 0.5 * tf.square(error)\n",
    "    linear_loss = delta * (tf.abs(error) - 0.5 * delta)\n",
    "    return tf.where(condition, squared_loss, linear_loss)\n",
    "\n",
    "loss = huber_loss(y_test, yp_p2, delta=1.0)\n",
    "print(\"Huber Loss:\", loss.numpy())\n",
    "\n",
    "mean_huber_loss = np.mean(loss)\n",
    "print(f\"Mean Huber Loss: {mean_huber_loss}\")"
   ]
  },
  {
   "cell_type": "code",
   "execution_count": 37,
   "id": "f5aed552",
   "metadata": {},
   "outputs": [
    {
     "name": "stdout",
     "output_type": "stream",
     "text": [
      "Mean Squared Error: 211921.37621353226\n",
      "R-squared: 0.47562850544856783\n"
     ]
    }
   ],
   "source": [
    "degree = 3\n",
    "poly_features = PolynomialFeatures(degree=degree)\n",
    "\n",
    "X_train_poly = poly_features.fit_transform(X_train_scaled)\n",
    "X_test_poly = poly_features.transform(X_test_scaled)\n",
    "\n",
    "poly_reg = LinearRegression()\n",
    "poly_reg.fit(X_train_poly, y_train)\n",
    "\n",
    "yp_p3 = poly_reg.predict(X_test_poly)\n",
    "\n",
    "mse = mean_squared_error(y_test, yp_p3)\n",
    "r2 = r2_score(y_test, yp_p3)\n",
    "\n",
    "print(f'Mean Squared Error: {mse}')\n",
    "print(f'R-squared: {r2}')"
   ]
  },
  {
   "cell_type": "markdown",
   "id": "0a86ab62",
   "metadata": {},
   "source": [
    "## Ridge"
   ]
  },
  {
   "cell_type": "code",
   "execution_count": 38,
   "id": "4102f4b3",
   "metadata": {},
   "outputs": [
    {
     "name": "stdout",
     "output_type": "stream",
     "text": [
      "Mean Squared Error (Ridge): 216737.3041829407\n",
      "R-squared (Ridge): 0.4637121268741563\n"
     ]
    }
   ],
   "source": [
    "from sklearn.linear_model import Ridge\n",
    "\n",
    "ridge_reg = Ridge(alpha=1.0)  # Adjust alpha based on the strength of regularization\n",
    "ridge_reg.fit(X_train_scaled, y_train)\n",
    "\n",
    "yp_lnR = ridge_reg.predict(X_test_scaled)\n",
    "\n",
    "mse = mean_squared_error(y_test, yp_lnR)\n",
    "r2 = r2_score(y_test, yp_lnR)\n",
    "\n",
    "print(f'Mean Squared Error (Ridge): {mse}')\n",
    "print(f'R-squared (Ridge): {r2}')"
   ]
  },
  {
   "cell_type": "code",
   "execution_count": 39,
   "id": "64ba5acc",
   "metadata": {},
   "outputs": [
    {
     "data": {
      "text/html": [
       "<div>\n",
       "<style scoped>\n",
       "    .dataframe tbody tr th:only-of-type {\n",
       "        vertical-align: middle;\n",
       "    }\n",
       "\n",
       "    .dataframe tbody tr th {\n",
       "        vertical-align: top;\n",
       "    }\n",
       "\n",
       "    .dataframe thead th {\n",
       "        text-align: right;\n",
       "    }\n",
       "</style>\n",
       "<table border=\"1\" class=\"dataframe\">\n",
       "  <thead>\n",
       "    <tr style=\"text-align: right;\">\n",
       "      <th></th>\n",
       "      <th>Actual</th>\n",
       "      <th>Predicted</th>\n",
       "    </tr>\n",
       "  </thead>\n",
       "  <tbody>\n",
       "    <tr>\n",
       "      <th>0</th>\n",
       "      <td>278.0</td>\n",
       "      <td>920.724925</td>\n",
       "    </tr>\n",
       "    <tr>\n",
       "      <th>1</th>\n",
       "      <td>96.0</td>\n",
       "      <td>-102.609284</td>\n",
       "    </tr>\n",
       "    <tr>\n",
       "      <th>2</th>\n",
       "      <td>215.0</td>\n",
       "      <td>720.632140</td>\n",
       "    </tr>\n",
       "    <tr>\n",
       "      <th>3</th>\n",
       "      <td>1290.0</td>\n",
       "      <td>1202.321952</td>\n",
       "    </tr>\n",
       "    <tr>\n",
       "      <th>4</th>\n",
       "      <td>165.0</td>\n",
       "      <td>682.596051</td>\n",
       "    </tr>\n",
       "  </tbody>\n",
       "</table>\n",
       "</div>"
      ],
      "text/plain": [
       "   Actual    Predicted\n",
       "0   278.0   920.724925\n",
       "1    96.0  -102.609284\n",
       "2   215.0   720.632140\n",
       "3  1290.0  1202.321952\n",
       "4   165.0   682.596051"
      ]
     },
     "execution_count": 39,
     "metadata": {},
     "output_type": "execute_result"
    }
   ],
   "source": [
    "pred_lnR = pd.DataFrame({'Actual': y_test, 'Predicted': yp_lnR})\n",
    "pred_lnR.head()"
   ]
  },
  {
   "cell_type": "code",
   "execution_count": 40,
   "id": "05ceb1dd",
   "metadata": {},
   "outputs": [
    {
     "name": "stdout",
     "output_type": "stream",
     "text": [
      "Mean Squared Error (Ridge): 186181.20384798557\n",
      "Root Mean Squared Error: 431.48720009750645\n",
      "R-squared (Ridge): 0.5393191670254971\n",
      "Adjusted R-squared: 0.46155959527330714\n"
     ]
    }
   ],
   "source": [
    "degree = 2\n",
    "\n",
    "poly = PolynomialFeatures(degree=degree, include_bias=False)\n",
    "X_train_poly = poly.fit_transform(X_train_scaled)\n",
    "X_test_poly = poly.transform(X_test_scaled)\n",
    "\n",
    "ridge_reg2 = Ridge(alpha = 10.0) \n",
    "ridge_reg2.fit(X_train_poly, y_train)\n",
    "\n",
    "yp_rp2 = ridge_reg2.predict(X_test_poly)\n",
    "\n",
    "mse_ridge = mean_squared_error(y_test, yp_rp2)\n",
    "mse_ridge_r = mean_squared_error(y_test, yp_rp2, squared = False)\n",
    "r2_ridge = r2_score(y_test, yp_rp2)\n",
    "\n",
    "n = len(y_test)\n",
    "k = X_train_scaled.shape[1]  \n",
    "adj_r2 = 1 - ((1 - r2) * (n - 1) / (n - k - 1))\n",
    "\n",
    "print(f'Mean Squared Error (Ridge): {mse_ridge}')\n",
    "print(f'Root Mean Squared Error: {mse_ridge_r}')\n",
    "print(f'R-squared (Ridge): {r2_ridge}')\n",
    "print(f'Adjusted R-squared: {adj_r2}')"
   ]
  },
  {
   "cell_type": "code",
   "execution_count": 41,
   "id": "833cbaac",
   "metadata": {},
   "outputs": [
    {
     "data": {
      "text/plain": [
       "0.4408471910281132"
      ]
     },
     "execution_count": 41,
     "metadata": {},
     "output_type": "execute_result"
    }
   ],
   "source": [
    "score_rp2 = cross_val_score(ridge_reg2, X_test_scaled, y_test, cv = 5, scoring = 'r2').mean()\n",
    "score_rp2"
   ]
  },
  {
   "cell_type": "code",
   "execution_count": 42,
   "id": "00cbb057",
   "metadata": {},
   "outputs": [
    {
     "name": "stdout",
     "output_type": "stream",
     "text": [
      "Training MSE: 191862.63178018117\n",
      "Validation MSE: 186181.20384798557\n",
      "Huber Loss: [423.49616516  21.04614644 432.9297126  ... 161.72461231 102.86306651\n",
      " 120.36642429]\n",
      "Mean Huber Loss: 305.2603225503822\n"
     ]
    }
   ],
   "source": [
    "train_pred = ridge_reg2.predict(X_train_poly)\n",
    "test_pred = ridge_reg2.predict(X_test_poly)\n",
    "\n",
    "from sklearn.metrics import mean_squared_error, r2_score\n",
    "\n",
    "train_mse = mean_squared_error(y_train, train_pred)\n",
    "test_mse = mean_squared_error(y_test, test_pred)\n",
    "\n",
    "print(f'Training MSE: {train_mse}')\n",
    "print(f'Validation MSE: {test_mse}')\n",
    "\n",
    "import tensorflow as tf\n",
    "def huber_loss(y_test, yp_rp2, delta = 1.0):\n",
    "    error = y_test - yp_rp2\n",
    "    condition = tf.abs(error) < delta\n",
    "    squared_loss = 0.5 * tf.square(error)\n",
    "    linear_loss = delta * (tf.abs(error) - 0.5 * delta)\n",
    "    return tf.where(condition, squared_loss, linear_loss)\n",
    "\n",
    "loss = huber_loss(y_test, yp_rp2, delta = 1.0)\n",
    "print(\"Huber Loss:\", loss.numpy())\n",
    "\n",
    "mean_huber_loss = np.mean(loss)\n",
    "print(f\"Mean Huber Loss: {mean_huber_loss}\")"
   ]
  },
  {
   "cell_type": "markdown",
   "id": "ec8b581e",
   "metadata": {},
   "source": [
    "## Lasso"
   ]
  },
  {
   "cell_type": "code",
   "execution_count": 43,
   "id": "8e1e9c71",
   "metadata": {},
   "outputs": [
    {
     "name": "stdout",
     "output_type": "stream",
     "text": [
      "Mean Squared Error (Lasso): 217628.13957105268\n",
      "R-squared (Lasso): 0.461507872200985\n"
     ]
    }
   ],
   "source": [
    "from sklearn.linear_model import Lasso\n",
    "\n",
    "lasso_reg = Lasso(alpha=1.0) \n",
    "lasso_reg.fit(X_train_scaled, y_train)\n",
    "\n",
    "yp_lnL = lasso_reg.predict(X_test_scaled)\n",
    "\n",
    "mse = mean_squared_error(y_test, yp_lnL)\n",
    "r2 = r2_score(y_test, yp_lnL)\n",
    "\n",
    "print(f'Mean Squared Error (Lasso): {mse}')\n",
    "print(f'R-squared (Lasso): {r2}')"
   ]
  },
  {
   "cell_type": "code",
   "execution_count": 44,
   "id": "d5922ae0",
   "metadata": {},
   "outputs": [
    {
     "name": "stdout",
     "output_type": "stream",
     "text": [
      "Mean Squared Error (Lasso): 207819.4462584602\n",
      "R-squared (Lasso): 0.48577819010765166\n"
     ]
    }
   ],
   "source": [
    "degree = 2\n",
    "\n",
    "poly = PolynomialFeatures(degree=degree, include_bias=False)\n",
    "X_train_poly = poly.fit_transform(X_train_scaled)\n",
    "X_test_poly = poly.transform(X_test_scaled)\n",
    " \n",
    "lasso_reg = Lasso(alpha = 10.0, max_iter = 100000)\n",
    "lasso_reg.fit(X_train_poly, y_train)\n",
    "\n",
    "yp_lp2 = lasso_reg.predict(X_test_poly)\n",
    "\n",
    "mse_lasso = mean_squared_error(y_test, yp_lp2)\n",
    "r2_lasso = r2_score(y_test, yp_lp2)\n",
    "\n",
    "print(f'Mean Squared Error (Lasso): {mse_lasso}')\n",
    "print(f'R-squared (Lasso): {r2_lasso}')"
   ]
  },
  {
   "cell_type": "code",
   "execution_count": null,
   "id": "99933654",
   "metadata": {},
   "outputs": [],
   "source": []
  },
  {
   "cell_type": "code",
   "execution_count": null,
   "id": "30277b04",
   "metadata": {},
   "outputs": [],
   "source": []
  },
  {
   "cell_type": "code",
   "execution_count": null,
   "id": "434908e8",
   "metadata": {},
   "outputs": [],
   "source": []
  },
  {
   "cell_type": "markdown",
   "id": "fd85fb6b",
   "metadata": {},
   "source": [
    "# Random Forest"
   ]
  },
  {
   "cell_type": "code",
   "execution_count": 45,
   "id": "be5d6dc6",
   "metadata": {},
   "outputs": [],
   "source": [
    "from sklearn.ensemble import RandomForestRegressor"
   ]
  },
  {
   "cell_type": "code",
   "execution_count": 46,
   "id": "c38de7ad",
   "metadata": {},
   "outputs": [
    {
     "name": "stdout",
     "output_type": "stream",
     "text": [
      "Best Hyperparameters: {'max_depth': 20, 'min_samples_leaf': 4, 'n_estimators': 200}\n",
      "Mean Squared Error: 103412.06923429851\n",
      "Root Mean Squared Error: 321.57747003529107\n",
      "R-squared (Best Model): 0.744120473979903\n",
      "Adjusted R-squared: 0.4593464932476633\n"
     ]
    }
   ],
   "source": [
    "from sklearn.model_selection import GridSearchCV\n",
    "\n",
    "param_grid = {\n",
    "    'n_estimators': [50, 100, 200],\n",
    "    'max_depth': [None, 10, 20],\n",
    "    'min_samples_leaf': [1, 2, 4]\n",
    "}\n",
    "\n",
    "grid_search = GridSearchCV(RandomForestRegressor(random_state = 12), param_grid, cv = 5, scoring = 'r2')\n",
    "grid_search.fit(X_train_scaled, y_train)\n",
    "\n",
    "best_params = grid_search.best_params_\n",
    "best_model = grid_search.best_estimator_\n",
    "\n",
    "y_pred_best = best_model.predict(X_test_scaled)\n",
    "mse = mean_squared_error(y_test, y_pred_best)\n",
    "mse_r = mean_squared_error(y_test, y_pred_best, squared = False)\n",
    "r2_best = r2_score(y_test, y_pred_best)\n",
    "\n",
    "n = len(y_test)\n",
    "k = X_train_scaled.shape[1]  \n",
    "adj_r2 = 1 - ((1 - r2) * (n - 1) / (n - k - 1))\n",
    "\n",
    "print(f'Best Hyperparameters: {best_params}')\n",
    "print(f'Mean Squared Error: {mse}')\n",
    "print(f'Root Mean Squared Error: {mse_r}')\n",
    "print(f'R-squared (Best Model): {r2_best}')\n",
    "print(f'Adjusted R-squared: {adj_r2}')"
   ]
  },
  {
   "cell_type": "code",
   "execution_count": 47,
   "id": "71731a18",
   "metadata": {},
   "outputs": [
    {
     "data": {
      "text/plain": [
       "0.6986399209522299"
      ]
     },
     "execution_count": 47,
     "metadata": {},
     "output_type": "execute_result"
    }
   ],
   "source": [
    "score_rf = cross_val_score(RandomForestRegressor(max_depth = 20,\n",
    "                                              min_samples_leaf = 1, \n",
    "                                              n_estimators = 200,\n",
    "                                              random_state = 12), X_test_scaled, y_test, \n",
    "                           cv = 10, scoring = 'r2').mean()\n",
    "score_rf"
   ]
  },
  {
   "cell_type": "code",
   "execution_count": 48,
   "id": "0214ede1",
   "metadata": {},
   "outputs": [
    {
     "data": {
      "text/html": [
       "<div>\n",
       "<style scoped>\n",
       "    .dataframe tbody tr th:only-of-type {\n",
       "        vertical-align: middle;\n",
       "    }\n",
       "\n",
       "    .dataframe tbody tr th {\n",
       "        vertical-align: top;\n",
       "    }\n",
       "\n",
       "    .dataframe thead th {\n",
       "        text-align: right;\n",
       "    }\n",
       "</style>\n",
       "<table border=\"1\" class=\"dataframe\">\n",
       "  <thead>\n",
       "    <tr style=\"text-align: right;\">\n",
       "      <th></th>\n",
       "      <th>Actual</th>\n",
       "      <th>Predicted</th>\n",
       "    </tr>\n",
       "  </thead>\n",
       "  <tbody>\n",
       "    <tr>\n",
       "      <th>0</th>\n",
       "      <td>278.0</td>\n",
       "      <td>406.373171</td>\n",
       "    </tr>\n",
       "    <tr>\n",
       "      <th>1</th>\n",
       "      <td>96.0</td>\n",
       "      <td>118.290294</td>\n",
       "    </tr>\n",
       "    <tr>\n",
       "      <th>2</th>\n",
       "      <td>215.0</td>\n",
       "      <td>222.059403</td>\n",
       "    </tr>\n",
       "  </tbody>\n",
       "</table>\n",
       "</div>"
      ],
      "text/plain": [
       "   Actual   Predicted\n",
       "0   278.0  406.373171\n",
       "1    96.0  118.290294\n",
       "2   215.0  222.059403"
      ]
     },
     "execution_count": 48,
     "metadata": {},
     "output_type": "execute_result"
    }
   ],
   "source": [
    "pred_rf = pd.DataFrame({'Actual': y_test, 'Predicted': y_pred_best})\n",
    "pred_rf.head(3)"
   ]
  },
  {
   "cell_type": "code",
   "execution_count": null,
   "id": "592c5f08",
   "metadata": {},
   "outputs": [],
   "source": []
  },
  {
   "cell_type": "code",
   "execution_count": 49,
   "id": "20fc16cf",
   "metadata": {},
   "outputs": [
    {
     "name": "stdout",
     "output_type": "stream",
     "text": [
      "Training MSE: 46237.05013119372\n",
      "Validation MSE: 103412.06923429851\n",
      "Huber Loss: [127.87317091  21.79029353   6.55940297 ...  18.09348922 175.18516525\n",
      " 109.90417185]\n",
      "Mean Huber Loss: 189.43463278694904\n"
     ]
    }
   ],
   "source": [
    "train_pred = best_model.predict(X_train_scaled)\n",
    "test_pred = best_model.predict(X_test_scaled)\n",
    "\n",
    "from sklearn.metrics import mean_squared_error, r2_score\n",
    "\n",
    "train_mse = mean_squared_error(y_train, train_pred)\n",
    "test_mse = mean_squared_error(y_test, test_pred)\n",
    "\n",
    "print(f'Training MSE: {train_mse}')\n",
    "print(f'Validation MSE: {test_mse}')\n",
    "\n",
    "import tensorflow as tf\n",
    "def huber_loss(y_test, y_pred_best, delta = 1.0):\n",
    "    error = y_test - y_pred_best\n",
    "    condition = tf.abs(error) < delta\n",
    "    squared_loss = 0.5 * tf.square(error)\n",
    "    linear_loss = delta * (tf.abs(error) - 0.5 * delta)\n",
    "    return tf.where(condition, squared_loss, linear_loss)\n",
    "\n",
    "loss = huber_loss(y_test, y_pred_best, delta = 1.0)\n",
    "print(\"Huber Loss:\", loss.numpy())\n",
    "\n",
    "mean_huber_loss = np.mean(loss)\n",
    "print(f\"Mean Huber Loss: {mean_huber_loss}\")"
   ]
  },
  {
   "cell_type": "markdown",
   "id": "6242d3fd",
   "metadata": {},
   "source": [
    "## overfitting here"
   ]
  },
  {
   "cell_type": "code",
   "execution_count": null,
   "id": "8c78a37f",
   "metadata": {},
   "outputs": [],
   "source": []
  },
  {
   "cell_type": "code",
   "execution_count": null,
   "id": "b16b412d",
   "metadata": {},
   "outputs": [],
   "source": []
  },
  {
   "cell_type": "markdown",
   "id": "2d6d7853",
   "metadata": {},
   "source": [
    "# ANN"
   ]
  },
  {
   "cell_type": "code",
   "execution_count": 50,
   "id": "665034be",
   "metadata": {},
   "outputs": [
    {
     "name": "stdout",
     "output_type": "stream",
     "text": [
      "Requirement already satisfied: tensorflow in /Users/izaiaszacca/anaconda3/lib/python3.11/site-packages (2.15.0)\n",
      "Requirement already satisfied: tensorflow-macos==2.15.0 in /Users/izaiaszacca/anaconda3/lib/python3.11/site-packages (from tensorflow) (2.15.0)\n",
      "Requirement already satisfied: absl-py>=1.0.0 in /Users/izaiaszacca/anaconda3/lib/python3.11/site-packages (from tensorflow-macos==2.15.0->tensorflow) (2.0.0)\n",
      "Requirement already satisfied: astunparse>=1.6.0 in /Users/izaiaszacca/anaconda3/lib/python3.11/site-packages (from tensorflow-macos==2.15.0->tensorflow) (1.6.3)\n",
      "Requirement already satisfied: flatbuffers>=23.5.26 in /Users/izaiaszacca/anaconda3/lib/python3.11/site-packages (from tensorflow-macos==2.15.0->tensorflow) (23.5.26)\n",
      "Requirement already satisfied: gast!=0.5.0,!=0.5.1,!=0.5.2,>=0.2.1 in /Users/izaiaszacca/anaconda3/lib/python3.11/site-packages (from tensorflow-macos==2.15.0->tensorflow) (0.5.4)\n",
      "Requirement already satisfied: google-pasta>=0.1.1 in /Users/izaiaszacca/anaconda3/lib/python3.11/site-packages (from tensorflow-macos==2.15.0->tensorflow) (0.2.0)\n",
      "Requirement already satisfied: h5py>=2.9.0 in /Users/izaiaszacca/anaconda3/lib/python3.11/site-packages (from tensorflow-macos==2.15.0->tensorflow) (3.9.0)\n",
      "Requirement already satisfied: libclang>=13.0.0 in /Users/izaiaszacca/anaconda3/lib/python3.11/site-packages (from tensorflow-macos==2.15.0->tensorflow) (16.0.6)\n",
      "Requirement already satisfied: ml-dtypes~=0.2.0 in /Users/izaiaszacca/anaconda3/lib/python3.11/site-packages (from tensorflow-macos==2.15.0->tensorflow) (0.2.0)\n",
      "Requirement already satisfied: numpy<2.0.0,>=1.23.5 in /Users/izaiaszacca/anaconda3/lib/python3.11/site-packages (from tensorflow-macos==2.15.0->tensorflow) (1.24.3)\n",
      "Requirement already satisfied: opt-einsum>=2.3.2 in /Users/izaiaszacca/anaconda3/lib/python3.11/site-packages (from tensorflow-macos==2.15.0->tensorflow) (3.3.0)\n",
      "Requirement already satisfied: packaging in /Users/izaiaszacca/anaconda3/lib/python3.11/site-packages (from tensorflow-macos==2.15.0->tensorflow) (23.1)\n",
      "Requirement already satisfied: protobuf!=4.21.0,!=4.21.1,!=4.21.2,!=4.21.3,!=4.21.4,!=4.21.5,<5.0.0dev,>=3.20.3 in /Users/izaiaszacca/anaconda3/lib/python3.11/site-packages (from tensorflow-macos==2.15.0->tensorflow) (4.23.4)\n",
      "Requirement already satisfied: setuptools in /Users/izaiaszacca/anaconda3/lib/python3.11/site-packages (from tensorflow-macos==2.15.0->tensorflow) (68.0.0)\n",
      "Requirement already satisfied: six>=1.12.0 in /Users/izaiaszacca/anaconda3/lib/python3.11/site-packages (from tensorflow-macos==2.15.0->tensorflow) (1.16.0)\n",
      "Requirement already satisfied: termcolor>=1.1.0 in /Users/izaiaszacca/anaconda3/lib/python3.11/site-packages (from tensorflow-macos==2.15.0->tensorflow) (2.3.0)\n",
      "Requirement already satisfied: typing-extensions>=3.6.6 in /Users/izaiaszacca/anaconda3/lib/python3.11/site-packages (from tensorflow-macos==2.15.0->tensorflow) (4.7.1)\n",
      "Requirement already satisfied: wrapt<1.15,>=1.11.0 in /Users/izaiaszacca/anaconda3/lib/python3.11/site-packages (from tensorflow-macos==2.15.0->tensorflow) (1.14.1)\n",
      "Requirement already satisfied: tensorflow-io-gcs-filesystem>=0.23.1 in /Users/izaiaszacca/anaconda3/lib/python3.11/site-packages (from tensorflow-macos==2.15.0->tensorflow) (0.34.0)\n",
      "Requirement already satisfied: grpcio<2.0,>=1.24.3 in /Users/izaiaszacca/anaconda3/lib/python3.11/site-packages (from tensorflow-macos==2.15.0->tensorflow) (1.59.3)\n",
      "Requirement already satisfied: tensorboard<2.16,>=2.15 in /Users/izaiaszacca/anaconda3/lib/python3.11/site-packages (from tensorflow-macos==2.15.0->tensorflow) (2.15.1)\n",
      "Requirement already satisfied: tensorflow-estimator<2.16,>=2.15.0 in /Users/izaiaszacca/anaconda3/lib/python3.11/site-packages (from tensorflow-macos==2.15.0->tensorflow) (2.15.0)\n",
      "Requirement already satisfied: keras<2.16,>=2.15.0 in /Users/izaiaszacca/anaconda3/lib/python3.11/site-packages (from tensorflow-macos==2.15.0->tensorflow) (2.15.0)\n",
      "Requirement already satisfied: wheel<1.0,>=0.23.0 in /Users/izaiaszacca/anaconda3/lib/python3.11/site-packages (from astunparse>=1.6.0->tensorflow-macos==2.15.0->tensorflow) (0.38.4)\n",
      "Requirement already satisfied: google-auth<3,>=1.6.3 in /Users/izaiaszacca/anaconda3/lib/python3.11/site-packages (from tensorboard<2.16,>=2.15->tensorflow-macos==2.15.0->tensorflow) (2.23.4)\n",
      "Requirement already satisfied: google-auth-oauthlib<2,>=0.5 in /Users/izaiaszacca/anaconda3/lib/python3.11/site-packages (from tensorboard<2.16,>=2.15->tensorflow-macos==2.15.0->tensorflow) (1.1.0)\n",
      "Requirement already satisfied: markdown>=2.6.8 in /Users/izaiaszacca/anaconda3/lib/python3.11/site-packages (from tensorboard<2.16,>=2.15->tensorflow-macos==2.15.0->tensorflow) (3.4.1)\n",
      "Requirement already satisfied: requests<3,>=2.21.0 in /Users/izaiaszacca/anaconda3/lib/python3.11/site-packages (from tensorboard<2.16,>=2.15->tensorflow-macos==2.15.0->tensorflow) (2.31.0)\n",
      "Requirement already satisfied: tensorboard-data-server<0.8.0,>=0.7.0 in /Users/izaiaszacca/anaconda3/lib/python3.11/site-packages (from tensorboard<2.16,>=2.15->tensorflow-macos==2.15.0->tensorflow) (0.7.2)\n",
      "Requirement already satisfied: werkzeug>=1.0.1 in /Users/izaiaszacca/anaconda3/lib/python3.11/site-packages (from tensorboard<2.16,>=2.15->tensorflow-macos==2.15.0->tensorflow) (2.2.3)\n",
      "Requirement already satisfied: cachetools<6.0,>=2.0.0 in /Users/izaiaszacca/anaconda3/lib/python3.11/site-packages (from google-auth<3,>=1.6.3->tensorboard<2.16,>=2.15->tensorflow-macos==2.15.0->tensorflow) (5.3.2)\n",
      "Requirement already satisfied: pyasn1-modules>=0.2.1 in /Users/izaiaszacca/anaconda3/lib/python3.11/site-packages (from google-auth<3,>=1.6.3->tensorboard<2.16,>=2.15->tensorflow-macos==2.15.0->tensorflow) (0.2.8)\n",
      "Requirement already satisfied: rsa<5,>=3.1.4 in /Users/izaiaszacca/anaconda3/lib/python3.11/site-packages (from google-auth<3,>=1.6.3->tensorboard<2.16,>=2.15->tensorflow-macos==2.15.0->tensorflow) (4.9)\n",
      "Requirement already satisfied: requests-oauthlib>=0.7.0 in /Users/izaiaszacca/anaconda3/lib/python3.11/site-packages (from google-auth-oauthlib<2,>=0.5->tensorboard<2.16,>=2.15->tensorflow-macos==2.15.0->tensorflow) (1.3.1)\n",
      "Requirement already satisfied: charset-normalizer<4,>=2 in /Users/izaiaszacca/anaconda3/lib/python3.11/site-packages (from requests<3,>=2.21.0->tensorboard<2.16,>=2.15->tensorflow-macos==2.15.0->tensorflow) (2.0.4)\n",
      "Requirement already satisfied: idna<4,>=2.5 in /Users/izaiaszacca/anaconda3/lib/python3.11/site-packages (from requests<3,>=2.21.0->tensorboard<2.16,>=2.15->tensorflow-macos==2.15.0->tensorflow) (3.4)\n",
      "Requirement already satisfied: urllib3<3,>=1.21.1 in /Users/izaiaszacca/anaconda3/lib/python3.11/site-packages (from requests<3,>=2.21.0->tensorboard<2.16,>=2.15->tensorflow-macos==2.15.0->tensorflow) (1.26.16)\n",
      "Requirement already satisfied: certifi>=2017.4.17 in /Users/izaiaszacca/anaconda3/lib/python3.11/site-packages (from requests<3,>=2.21.0->tensorboard<2.16,>=2.15->tensorflow-macos==2.15.0->tensorflow) (2023.7.22)\n",
      "Requirement already satisfied: MarkupSafe>=2.1.1 in /Users/izaiaszacca/anaconda3/lib/python3.11/site-packages (from werkzeug>=1.0.1->tensorboard<2.16,>=2.15->tensorflow-macos==2.15.0->tensorflow) (2.1.1)\n",
      "Requirement already satisfied: pyasn1<0.5.0,>=0.4.6 in /Users/izaiaszacca/anaconda3/lib/python3.11/site-packages (from pyasn1-modules>=0.2.1->google-auth<3,>=1.6.3->tensorboard<2.16,>=2.15->tensorflow-macos==2.15.0->tensorflow) (0.4.8)\n",
      "Requirement already satisfied: oauthlib>=3.0.0 in /Users/izaiaszacca/anaconda3/lib/python3.11/site-packages (from requests-oauthlib>=0.7.0->google-auth-oauthlib<2,>=0.5->tensorboard<2.16,>=2.15->tensorflow-macos==2.15.0->tensorflow) (3.2.2)\n",
      "Requirement already satisfied: keras in /Users/izaiaszacca/anaconda3/lib/python3.11/site-packages (2.15.0)\n"
     ]
    }
   ],
   "source": [
    " !pip install tensorflow\n",
    " !pip install keras"
   ]
  },
  {
   "cell_type": "code",
   "execution_count": 51,
   "id": "16fec597",
   "metadata": {},
   "outputs": [],
   "source": [
    "import numpy as np\n",
    "import tensorflow as tf\n",
    "from tensorflow import keras"
   ]
  },
  {
   "cell_type": "code",
   "execution_count": 52,
   "id": "d5178b1d",
   "metadata": {},
   "outputs": [
    {
     "name": "stdout",
     "output_type": "stream",
     "text": [
      "Epoch 1/300\n",
      "88/88 [==============================] - 0s 1ms/step - loss: 909524.8125 - val_loss: 886094.5000\n",
      "Epoch 2/300\n",
      "88/88 [==============================] - 0s 539us/step - loss: 666105.2500 - val_loss: 376061.8438\n",
      "Epoch 3/300\n",
      "88/88 [==============================] - 0s 582us/step - loss: 347134.0000 - val_loss: 338386.8438\n",
      "Epoch 4/300\n",
      "88/88 [==============================] - 0s 536us/step - loss: 329498.4062 - val_loss: 322113.5312\n",
      "Epoch 5/300\n",
      "88/88 [==============================] - 0s 538us/step - loss: 313146.4375 - val_loss: 305963.4688\n",
      "Epoch 6/300\n",
      "88/88 [==============================] - 0s 542us/step - loss: 296630.5625 - val_loss: 287675.9062\n",
      "Epoch 7/300\n",
      "88/88 [==============================] - 0s 559us/step - loss: 280700.6250 - val_loss: 271607.7812\n",
      "Epoch 8/300\n",
      "88/88 [==============================] - 0s 559us/step - loss: 265314.0625 - val_loss: 256666.9375\n",
      "Epoch 9/300\n",
      "88/88 [==============================] - 0s 569us/step - loss: 252232.8438 - val_loss: 245248.5781\n",
      "Epoch 10/300\n",
      "88/88 [==============================] - 0s 553us/step - loss: 240898.6562 - val_loss: 233255.3281\n",
      "Epoch 11/300\n",
      "88/88 [==============================] - 0s 578us/step - loss: 231874.6562 - val_loss: 224304.5312\n",
      "Epoch 12/300\n",
      "88/88 [==============================] - 0s 542us/step - loss: 225396.3594 - val_loss: 217648.9844\n",
      "Epoch 13/300\n",
      "88/88 [==============================] - 0s 576us/step - loss: 220310.6719 - val_loss: 212425.5469\n",
      "Epoch 14/300\n",
      "88/88 [==============================] - 0s 554us/step - loss: 216233.2969 - val_loss: 208482.5312\n",
      "Epoch 15/300\n",
      "88/88 [==============================] - 0s 512us/step - loss: 213109.0156 - val_loss: 205585.8438\n",
      "Epoch 16/300\n",
      "88/88 [==============================] - 0s 553us/step - loss: 210784.9062 - val_loss: 202522.0156\n",
      "Epoch 17/300\n",
      "88/88 [==============================] - 0s 538us/step - loss: 208370.9844 - val_loss: 199944.4844\n",
      "Epoch 18/300\n",
      "88/88 [==============================] - 0s 582us/step - loss: 206168.4062 - val_loss: 198080.1562\n",
      "Epoch 19/300\n",
      "88/88 [==============================] - 0s 560us/step - loss: 204755.2969 - val_loss: 196359.8906\n",
      "Epoch 20/300\n",
      "88/88 [==============================] - 0s 575us/step - loss: 203990.9062 - val_loss: 194192.0469\n",
      "Epoch 21/300\n",
      "88/88 [==============================] - 0s 548us/step - loss: 201996.6719 - val_loss: 193507.9219\n",
      "Epoch 22/300\n",
      "88/88 [==============================] - 0s 581us/step - loss: 201352.4531 - val_loss: 191839.4688\n",
      "Epoch 23/300\n",
      "88/88 [==============================] - 0s 683us/step - loss: 200419.9844 - val_loss: 191064.7656\n",
      "Epoch 24/300\n",
      "88/88 [==============================] - 0s 989us/step - loss: 199889.2656 - val_loss: 191484.9688\n",
      "Epoch 25/300\n",
      "88/88 [==============================] - 0s 953us/step - loss: 199154.2344 - val_loss: 189345.2656\n",
      "Epoch 26/300\n",
      "88/88 [==============================] - 0s 807us/step - loss: 198619.0625 - val_loss: 189616.7812\n",
      "Epoch 27/300\n",
      "88/88 [==============================] - 0s 650us/step - loss: 198139.2969 - val_loss: 187749.3594\n",
      "Epoch 28/300\n",
      "88/88 [==============================] - 0s 611us/step - loss: 197398.1094 - val_loss: 187738.0156\n",
      "Epoch 29/300\n",
      "88/88 [==============================] - 0s 570us/step - loss: 197025.3750 - val_loss: 186883.1562\n",
      "Epoch 30/300\n",
      "88/88 [==============================] - 0s 544us/step - loss: 196734.9531 - val_loss: 186711.7656\n",
      "Epoch 31/300\n",
      "88/88 [==============================] - 0s 572us/step - loss: 196562.0781 - val_loss: 185433.5938\n",
      "Epoch 32/300\n",
      "88/88 [==============================] - 0s 556us/step - loss: 195851.0469 - val_loss: 184802.0156\n",
      "Epoch 33/300\n",
      "88/88 [==============================] - 0s 610us/step - loss: 195033.8906 - val_loss: 185299.2031\n",
      "Epoch 34/300\n",
      "88/88 [==============================] - 0s 538us/step - loss: 194831.4062 - val_loss: 183911.9531\n",
      "Epoch 35/300\n",
      "88/88 [==============================] - 0s 529us/step - loss: 194074.1406 - val_loss: 183239.3906\n",
      "Epoch 36/300\n",
      "88/88 [==============================] - 0s 536us/step - loss: 193465.0625 - val_loss: 184048.0625\n",
      "Epoch 37/300\n",
      "88/88 [==============================] - 0s 525us/step - loss: 192526.5469 - val_loss: 182380.0000\n",
      "Epoch 38/300\n",
      "88/88 [==============================] - 0s 524us/step - loss: 192523.2969 - val_loss: 181351.0312\n",
      "Epoch 39/300\n",
      "88/88 [==============================] - 0s 514us/step - loss: 192504.3438 - val_loss: 180657.1875\n",
      "Epoch 40/300\n",
      "88/88 [==============================] - 0s 552us/step - loss: 191931.9531 - val_loss: 180813.4062\n",
      "Epoch 41/300\n",
      "88/88 [==============================] - 0s 526us/step - loss: 191029.0156 - val_loss: 179093.9531\n",
      "Epoch 42/300\n",
      "88/88 [==============================] - 0s 530us/step - loss: 190280.6094 - val_loss: 178908.4844\n",
      "Epoch 43/300\n",
      "88/88 [==============================] - 0s 513us/step - loss: 189848.0938 - val_loss: 178105.1875\n",
      "Epoch 44/300\n",
      "88/88 [==============================] - 0s 528us/step - loss: 189167.8594 - val_loss: 177238.6094\n",
      "Epoch 45/300\n",
      "88/88 [==============================] - 0s 535us/step - loss: 189635.5000 - val_loss: 176800.1406\n",
      "Epoch 46/300\n",
      "88/88 [==============================] - 0s 533us/step - loss: 188215.3750 - val_loss: 175974.5000\n",
      "Epoch 47/300\n",
      "88/88 [==============================] - 0s 530us/step - loss: 187864.0625 - val_loss: 175752.2812\n",
      "Epoch 48/300\n",
      "88/88 [==============================] - 0s 523us/step - loss: 187291.6250 - val_loss: 175019.8594\n",
      "Epoch 49/300\n",
      "88/88 [==============================] - 0s 515us/step - loss: 187046.4844 - val_loss: 174706.4688\n",
      "Epoch 50/300\n",
      "88/88 [==============================] - 0s 509us/step - loss: 186488.0156 - val_loss: 175091.9844\n",
      "Epoch 51/300\n",
      "88/88 [==============================] - 0s 529us/step - loss: 186108.2812 - val_loss: 173541.0781\n",
      "Epoch 52/300\n",
      "88/88 [==============================] - 0s 526us/step - loss: 185612.3281 - val_loss: 173110.2500\n",
      "Epoch 53/300\n",
      "88/88 [==============================] - 0s 512us/step - loss: 184921.0625 - val_loss: 173153.3438\n",
      "Epoch 54/300\n",
      "88/88 [==============================] - 0s 584us/step - loss: 185936.6406 - val_loss: 172829.7344\n",
      "Epoch 55/300\n",
      "88/88 [==============================] - 0s 502us/step - loss: 184321.5000 - val_loss: 171568.4531\n",
      "Epoch 56/300\n",
      "88/88 [==============================] - 0s 500us/step - loss: 183688.6875 - val_loss: 174325.3594\n",
      "Epoch 57/300\n",
      "88/88 [==============================] - 0s 495us/step - loss: 183906.2188 - val_loss: 170639.8125\n",
      "Epoch 58/300\n",
      "88/88 [==============================] - 0s 503us/step - loss: 184115.2188 - val_loss: 170353.3281\n",
      "Epoch 59/300\n",
      "88/88 [==============================] - 0s 500us/step - loss: 183880.0625 - val_loss: 170269.0000\n",
      "Epoch 60/300\n",
      "88/88 [==============================] - 0s 515us/step - loss: 182994.1562 - val_loss: 169540.9844\n",
      "Epoch 61/300\n",
      "88/88 [==============================] - 0s 514us/step - loss: 181491.8281 - val_loss: 171815.1094\n",
      "Epoch 62/300\n",
      "88/88 [==============================] - 0s 498us/step - loss: 181655.7812 - val_loss: 168827.9531\n",
      "Epoch 63/300\n",
      "88/88 [==============================] - 0s 512us/step - loss: 181286.9531 - val_loss: 168636.1719\n",
      "Epoch 64/300\n",
      "88/88 [==============================] - 0s 519us/step - loss: 181584.4219 - val_loss: 168121.4219\n",
      "Epoch 65/300\n",
      "88/88 [==============================] - 0s 518us/step - loss: 181008.4688 - val_loss: 167731.9531\n",
      "Epoch 66/300\n",
      "88/88 [==============================] - 0s 518us/step - loss: 179920.1250 - val_loss: 167267.3125\n",
      "Epoch 67/300\n",
      "88/88 [==============================] - 0s 516us/step - loss: 179883.4219 - val_loss: 167244.6094\n",
      "Epoch 68/300\n",
      "88/88 [==============================] - 0s 505us/step - loss: 179612.4375 - val_loss: 167453.2656\n",
      "Epoch 69/300\n",
      "88/88 [==============================] - 0s 503us/step - loss: 178610.4844 - val_loss: 166720.2969\n",
      "Epoch 70/300\n",
      "88/88 [==============================] - 0s 518us/step - loss: 178726.3750 - val_loss: 164978.1875\n",
      "Epoch 71/300\n",
      "88/88 [==============================] - 0s 512us/step - loss: 178113.6562 - val_loss: 165279.5938\n",
      "Epoch 72/300\n",
      "88/88 [==============================] - 0s 520us/step - loss: 177691.8281 - val_loss: 163935.7969\n",
      "Epoch 73/300\n",
      "88/88 [==============================] - 0s 509us/step - loss: 177362.9219 - val_loss: 164237.2031\n",
      "Epoch 74/300\n"
     ]
    },
    {
     "name": "stdout",
     "output_type": "stream",
     "text": [
      "88/88 [==============================] - 0s 510us/step - loss: 177299.6094 - val_loss: 163125.9844\n",
      "Epoch 75/300\n",
      "88/88 [==============================] - 0s 497us/step - loss: 176630.7188 - val_loss: 163441.6875\n",
      "Epoch 76/300\n",
      "88/88 [==============================] - 0s 501us/step - loss: 175961.9219 - val_loss: 162054.9062\n",
      "Epoch 77/300\n",
      "88/88 [==============================] - 0s 516us/step - loss: 175755.2969 - val_loss: 161966.7500\n",
      "Epoch 78/300\n",
      "88/88 [==============================] - 0s 504us/step - loss: 175319.5938 - val_loss: 162420.5000\n",
      "Epoch 79/300\n",
      "88/88 [==============================] - 0s 502us/step - loss: 174692.7031 - val_loss: 160899.3281\n",
      "Epoch 80/300\n",
      "88/88 [==============================] - 0s 507us/step - loss: 174145.1875 - val_loss: 160758.4688\n",
      "Epoch 81/300\n",
      "88/88 [==============================] - 0s 514us/step - loss: 173727.2812 - val_loss: 159569.8125\n",
      "Epoch 82/300\n",
      "88/88 [==============================] - 0s 499us/step - loss: 174327.5000 - val_loss: 159151.5156\n",
      "Epoch 83/300\n",
      "88/88 [==============================] - 0s 498us/step - loss: 172924.7188 - val_loss: 160356.8594\n",
      "Epoch 84/300\n",
      "88/88 [==============================] - 0s 514us/step - loss: 173099.4688 - val_loss: 158530.5938\n",
      "Epoch 85/300\n",
      "88/88 [==============================] - 0s 502us/step - loss: 172055.7031 - val_loss: 159245.5781\n",
      "Epoch 86/300\n",
      "88/88 [==============================] - 0s 500us/step - loss: 172090.8125 - val_loss: 158003.8281\n",
      "Epoch 87/300\n",
      "88/88 [==============================] - 0s 504us/step - loss: 171338.5625 - val_loss: 158346.1406\n",
      "Epoch 88/300\n",
      "88/88 [==============================] - 0s 508us/step - loss: 170511.0625 - val_loss: 157986.4375\n",
      "Epoch 89/300\n",
      "88/88 [==============================] - 0s 498us/step - loss: 169625.5312 - val_loss: 156163.4062\n",
      "Epoch 90/300\n",
      "88/88 [==============================] - 0s 492us/step - loss: 169549.2344 - val_loss: 156646.3750\n",
      "Epoch 91/300\n",
      "88/88 [==============================] - 0s 516us/step - loss: 169103.3438 - val_loss: 155938.3438\n",
      "Epoch 92/300\n",
      "88/88 [==============================] - 0s 495us/step - loss: 168931.3594 - val_loss: 155098.0000\n",
      "Epoch 93/300\n",
      "88/88 [==============================] - 0s 501us/step - loss: 168101.4531 - val_loss: 156333.0938\n",
      "Epoch 94/300\n",
      "88/88 [==============================] - 0s 507us/step - loss: 167504.2344 - val_loss: 153807.6406\n",
      "Epoch 95/300\n",
      "88/88 [==============================] - 0s 504us/step - loss: 167405.7656 - val_loss: 154388.7812\n",
      "Epoch 96/300\n",
      "88/88 [==============================] - 0s 499us/step - loss: 166750.0312 - val_loss: 153127.3594\n",
      "Epoch 97/300\n",
      "88/88 [==============================] - 0s 504us/step - loss: 166310.3750 - val_loss: 153010.1875\n",
      "Epoch 98/300\n",
      "88/88 [==============================] - 0s 510us/step - loss: 165655.8906 - val_loss: 153153.6406\n",
      "Epoch 99/300\n",
      "88/88 [==============================] - 0s 496us/step - loss: 166357.6094 - val_loss: 152501.5469\n",
      "Epoch 100/300\n",
      "88/88 [==============================] - 0s 502us/step - loss: 164810.2500 - val_loss: 154087.8125\n",
      "Epoch 101/300\n",
      "88/88 [==============================] - 0s 510us/step - loss: 164745.5781 - val_loss: 153090.3125\n",
      "Epoch 102/300\n",
      "88/88 [==============================] - 0s 510us/step - loss: 164114.4062 - val_loss: 151312.4844\n",
      "Epoch 103/300\n",
      "88/88 [==============================] - 0s 501us/step - loss: 163552.1406 - val_loss: 151524.8438\n",
      "Epoch 104/300\n",
      "88/88 [==============================] - 0s 502us/step - loss: 163357.3438 - val_loss: 153242.3438\n",
      "Epoch 105/300\n",
      "88/88 [==============================] - 0s 515us/step - loss: 162756.4531 - val_loss: 149851.3438\n",
      "Epoch 106/300\n",
      "88/88 [==============================] - 0s 497us/step - loss: 162754.3906 - val_loss: 149857.9062\n",
      "Epoch 107/300\n",
      "88/88 [==============================] - 0s 501us/step - loss: 162541.0469 - val_loss: 149106.3906\n",
      "Epoch 108/300\n",
      "88/88 [==============================] - 0s 515us/step - loss: 161473.7188 - val_loss: 148762.3906\n",
      "Epoch 109/300\n",
      "88/88 [==============================] - 0s 528us/step - loss: 161090.0469 - val_loss: 148209.0312\n",
      "Epoch 110/300\n",
      "88/88 [==============================] - 0s 499us/step - loss: 160486.7812 - val_loss: 148405.5625\n",
      "Epoch 111/300\n",
      "88/88 [==============================] - 0s 498us/step - loss: 159997.1406 - val_loss: 148471.5156\n",
      "Epoch 112/300\n",
      "88/88 [==============================] - 0s 519us/step - loss: 159300.8594 - val_loss: 148079.0469\n",
      "Epoch 113/300\n",
      "88/88 [==============================] - 0s 502us/step - loss: 159109.7969 - val_loss: 146956.3594\n",
      "Epoch 114/300\n",
      "88/88 [==============================] - 0s 494us/step - loss: 158876.7188 - val_loss: 146947.4375\n",
      "Epoch 115/300\n",
      "88/88 [==============================] - 0s 505us/step - loss: 158041.5469 - val_loss: 146629.0000\n",
      "Epoch 116/300\n",
      "88/88 [==============================] - 0s 505us/step - loss: 157415.4375 - val_loss: 145804.3594\n",
      "Epoch 117/300\n",
      "88/88 [==============================] - 0s 494us/step - loss: 157011.0469 - val_loss: 146206.8750\n",
      "Epoch 118/300\n",
      "88/88 [==============================] - 0s 501us/step - loss: 156884.5000 - val_loss: 145058.5000\n",
      "Epoch 119/300\n",
      "88/88 [==============================] - 0s 505us/step - loss: 156114.5156 - val_loss: 145217.4219\n",
      "Epoch 120/300\n",
      "88/88 [==============================] - 0s 498us/step - loss: 155547.3281 - val_loss: 144469.9844\n",
      "Epoch 121/300\n",
      "88/88 [==============================] - 0s 504us/step - loss: 155973.2656 - val_loss: 145535.1875\n",
      "Epoch 122/300\n",
      "88/88 [==============================] - 0s 514us/step - loss: 154891.9688 - val_loss: 143648.2188\n",
      "Epoch 123/300\n",
      "88/88 [==============================] - 0s 518us/step - loss: 154384.1562 - val_loss: 143097.7969\n",
      "Epoch 124/300\n",
      "88/88 [==============================] - 0s 494us/step - loss: 153658.6562 - val_loss: 143134.9688\n",
      "Epoch 125/300\n",
      "88/88 [==============================] - 0s 504us/step - loss: 154073.0469 - val_loss: 143042.1250\n",
      "Epoch 126/300\n",
      "88/88 [==============================] - 0s 512us/step - loss: 152698.5156 - val_loss: 142578.7656\n",
      "Epoch 127/300\n",
      "88/88 [==============================] - 0s 513us/step - loss: 152490.7031 - val_loss: 142436.7031\n",
      "Epoch 128/300\n",
      "88/88 [==============================] - 0s 509us/step - loss: 152647.2031 - val_loss: 141965.9688\n",
      "Epoch 129/300\n",
      "88/88 [==============================] - 0s 507us/step - loss: 152204.8750 - val_loss: 141950.9375\n",
      "Epoch 130/300\n",
      "88/88 [==============================] - 0s 519us/step - loss: 151586.1719 - val_loss: 140252.0938\n",
      "Epoch 131/300\n",
      "88/88 [==============================] - 0s 509us/step - loss: 151248.9531 - val_loss: 141510.8281\n",
      "Epoch 132/300\n",
      "88/88 [==============================] - 0s 511us/step - loss: 150494.5000 - val_loss: 139826.0156\n",
      "Epoch 133/300\n",
      "88/88 [==============================] - 0s 520us/step - loss: 150673.0000 - val_loss: 139809.9688\n",
      "Epoch 134/300\n",
      "88/88 [==============================] - 0s 513us/step - loss: 150043.9844 - val_loss: 138981.7344\n",
      "Epoch 135/300\n",
      "88/88 [==============================] - 0s 507us/step - loss: 148991.7812 - val_loss: 139596.0312\n",
      "Epoch 136/300\n",
      "88/88 [==============================] - 0s 517us/step - loss: 148495.2812 - val_loss: 138157.1094\n",
      "Epoch 137/300\n",
      "88/88 [==============================] - 0s 515us/step - loss: 147973.7812 - val_loss: 137542.5625\n",
      "Epoch 138/300\n",
      "88/88 [==============================] - 0s 521us/step - loss: 147758.9844 - val_loss: 137455.7188\n",
      "Epoch 139/300\n",
      "88/88 [==============================] - 0s 507us/step - loss: 147417.9375 - val_loss: 137889.5938\n",
      "Epoch 140/300\n",
      "88/88 [==============================] - 0s 500us/step - loss: 146629.4531 - val_loss: 137092.3125\n",
      "Epoch 141/300\n",
      "88/88 [==============================] - 0s 507us/step - loss: 146131.9688 - val_loss: 136824.1875\n",
      "Epoch 142/300\n",
      "88/88 [==============================] - 0s 509us/step - loss: 145582.0938 - val_loss: 136856.5312\n",
      "Epoch 143/300\n",
      "88/88 [==============================] - 0s 511us/step - loss: 145438.2656 - val_loss: 135749.4844\n",
      "Epoch 144/300\n",
      "88/88 [==============================] - 0s 503us/step - loss: 144769.7969 - val_loss: 135703.1875\n",
      "Epoch 145/300\n",
      "88/88 [==============================] - 0s 503us/step - loss: 144255.6719 - val_loss: 135939.7031\n",
      "Epoch 146/300\n",
      "88/88 [==============================] - 0s 513us/step - loss: 143657.6250 - val_loss: 134751.3125\n"
     ]
    },
    {
     "name": "stdout",
     "output_type": "stream",
     "text": [
      "Epoch 147/300\n",
      "88/88 [==============================] - 0s 515us/step - loss: 144312.6875 - val_loss: 134553.8438\n",
      "Epoch 148/300\n",
      "88/88 [==============================] - 0s 498us/step - loss: 143375.1875 - val_loss: 137419.7500\n",
      "Epoch 149/300\n",
      "88/88 [==============================] - 0s 504us/step - loss: 142763.3750 - val_loss: 135137.5156\n",
      "Epoch 150/300\n",
      "88/88 [==============================] - 0s 504us/step - loss: 142572.8750 - val_loss: 135588.4219\n",
      "Epoch 151/300\n",
      "88/88 [==============================] - 0s 500us/step - loss: 141529.3438 - val_loss: 132691.1094\n",
      "Epoch 152/300\n",
      "88/88 [==============================] - 0s 501us/step - loss: 141627.3438 - val_loss: 133512.7812\n",
      "Epoch 153/300\n",
      "88/88 [==============================] - 0s 506us/step - loss: 141123.1094 - val_loss: 132791.6875\n",
      "Epoch 154/300\n",
      "88/88 [==============================] - 0s 506us/step - loss: 140539.8438 - val_loss: 132896.9844\n",
      "Epoch 155/300\n",
      "88/88 [==============================] - 0s 497us/step - loss: 139997.8438 - val_loss: 136434.6875\n",
      "Epoch 156/300\n",
      "88/88 [==============================] - 0s 506us/step - loss: 139644.0000 - val_loss: 132145.9688\n",
      "Epoch 157/300\n",
      "88/88 [==============================] - 0s 514us/step - loss: 138784.0938 - val_loss: 131076.1406\n",
      "Epoch 158/300\n",
      "88/88 [==============================] - 0s 499us/step - loss: 138403.1719 - val_loss: 130296.7422\n",
      "Epoch 159/300\n",
      "88/88 [==============================] - 0s 510us/step - loss: 138503.3750 - val_loss: 131520.9219\n",
      "Epoch 160/300\n",
      "88/88 [==============================] - 0s 513us/step - loss: 137933.9375 - val_loss: 130165.8438\n",
      "Epoch 161/300\n",
      "88/88 [==============================] - 0s 504us/step - loss: 137887.8125 - val_loss: 130438.2734\n",
      "Epoch 162/300\n",
      "88/88 [==============================] - 0s 504us/step - loss: 136873.7344 - val_loss: 129622.2891\n",
      "Epoch 163/300\n",
      "88/88 [==============================] - 0s 506us/step - loss: 136961.2344 - val_loss: 129190.8438\n",
      "Epoch 164/300\n",
      "88/88 [==============================] - 0s 508us/step - loss: 136513.4062 - val_loss: 130170.8906\n",
      "Epoch 165/300\n",
      "88/88 [==============================] - 0s 494us/step - loss: 136062.6094 - val_loss: 129788.8047\n",
      "Epoch 166/300\n",
      "88/88 [==============================] - 0s 504us/step - loss: 135653.8750 - val_loss: 129148.7031\n",
      "Epoch 167/300\n",
      "88/88 [==============================] - 0s 505us/step - loss: 135026.8750 - val_loss: 128315.2500\n",
      "Epoch 168/300\n",
      "88/88 [==============================] - 0s 498us/step - loss: 134837.1719 - val_loss: 129618.9531\n",
      "Epoch 169/300\n",
      "88/88 [==============================] - 0s 503us/step - loss: 135378.0156 - val_loss: 128106.8750\n",
      "Epoch 170/300\n",
      "88/88 [==============================] - 0s 496us/step - loss: 134444.5625 - val_loss: 130102.8828\n",
      "Epoch 171/300\n",
      "88/88 [==============================] - 975s 11s/step - loss: 134225.6250 - val_loss: 129598.4375\n",
      "Epoch 172/300\n",
      "88/88 [==============================] - 0s 702us/step - loss: 133861.8125 - val_loss: 128203.3359\n",
      "Epoch 173/300\n",
      "88/88 [==============================] - 0s 568us/step - loss: 133693.9844 - val_loss: 126812.1641\n",
      "Epoch 174/300\n",
      "88/88 [==============================] - 0s 578us/step - loss: 133791.7656 - val_loss: 126353.4297\n",
      "Epoch 175/300\n",
      "88/88 [==============================] - 0s 509us/step - loss: 133150.2969 - val_loss: 127552.7500\n",
      "Epoch 176/300\n",
      "88/88 [==============================] - 0s 512us/step - loss: 133893.9531 - val_loss: 127043.5156\n",
      "Epoch 177/300\n",
      "88/88 [==============================] - 0s 575us/step - loss: 132318.5000 - val_loss: 126400.3516\n",
      "Epoch 178/300\n",
      "88/88 [==============================] - 0s 519us/step - loss: 132286.2031 - val_loss: 127549.0000\n",
      "Epoch 179/300\n",
      "88/88 [==============================] - 0s 510us/step - loss: 132103.7969 - val_loss: 126728.6484\n",
      "Epoch 180/300\n",
      "88/88 [==============================] - 0s 528us/step - loss: 132238.5156 - val_loss: 127883.7578\n",
      "Epoch 181/300\n",
      "88/88 [==============================] - 0s 641us/step - loss: 131701.4219 - val_loss: 127171.6328\n",
      "Epoch 182/300\n",
      "88/88 [==============================] - 0s 536us/step - loss: 131968.6562 - val_loss: 126233.1719\n",
      "Epoch 183/300\n",
      "88/88 [==============================] - 0s 516us/step - loss: 131839.0000 - val_loss: 128723.4688\n",
      "Epoch 184/300\n",
      "88/88 [==============================] - 0s 528us/step - loss: 131125.5312 - val_loss: 125387.9297\n",
      "Epoch 185/300\n",
      "88/88 [==============================] - 0s 563us/step - loss: 130712.3516 - val_loss: 126817.2656\n",
      "Epoch 186/300\n",
      "88/88 [==============================] - 0s 541us/step - loss: 130905.2656 - val_loss: 125179.7578\n",
      "Epoch 187/300\n",
      "88/88 [==============================] - 0s 594us/step - loss: 131516.7031 - val_loss: 127007.2891\n",
      "Epoch 188/300\n",
      "88/88 [==============================] - 0s 566us/step - loss: 130494.8906 - val_loss: 128757.0547\n",
      "Epoch 189/300\n",
      "88/88 [==============================] - 0s 553us/step - loss: 129803.5781 - val_loss: 128391.4609\n",
      "Epoch 190/300\n",
      "88/88 [==============================] - 0s 530us/step - loss: 130075.2812 - val_loss: 124357.9766\n",
      "Epoch 191/300\n",
      "88/88 [==============================] - 0s 534us/step - loss: 129219.2344 - val_loss: 124311.8516\n",
      "Epoch 192/300\n",
      "88/88 [==============================] - 0s 527us/step - loss: 129880.7656 - val_loss: 125262.5859\n",
      "Epoch 193/300\n",
      "88/88 [==============================] - 0s 506us/step - loss: 130036.4844 - val_loss: 132465.6719\n",
      "Epoch 194/300\n",
      "88/88 [==============================] - 0s 620us/step - loss: 129336.5781 - val_loss: 124157.4219\n",
      "Epoch 195/300\n",
      "88/88 [==============================] - 0s 518us/step - loss: 128295.8203 - val_loss: 124417.8750\n",
      "Epoch 196/300\n",
      "88/88 [==============================] - 0s 519us/step - loss: 129307.8438 - val_loss: 123853.9609\n",
      "Epoch 197/300\n",
      "88/88 [==============================] - 0s 511us/step - loss: 128561.7656 - val_loss: 123319.6094\n",
      "Epoch 198/300\n",
      "88/88 [==============================] - 0s 514us/step - loss: 128268.9375 - val_loss: 124042.3828\n",
      "Epoch 199/300\n",
      "88/88 [==============================] - 0s 505us/step - loss: 127941.7969 - val_loss: 124096.1797\n",
      "Epoch 200/300\n",
      "88/88 [==============================] - 0s 508us/step - loss: 128239.9375 - val_loss: 124431.5547\n",
      "Epoch 201/300\n",
      "88/88 [==============================] - 0s 516us/step - loss: 128044.6406 - val_loss: 123587.8125\n",
      "Epoch 202/300\n",
      "88/88 [==============================] - 0s 553us/step - loss: 128005.6172 - val_loss: 124476.7578\n",
      "Epoch 203/300\n",
      "88/88 [==============================] - 0s 520us/step - loss: 127631.5234 - val_loss: 124465.6172\n",
      "Epoch 204/300\n",
      "88/88 [==============================] - 0s 511us/step - loss: 128288.0234 - val_loss: 126951.5859\n",
      "Epoch 205/300\n",
      "88/88 [==============================] - 0s 506us/step - loss: 128142.5703 - val_loss: 122873.3906\n",
      "Epoch 206/300\n",
      "88/88 [==============================] - 0s 569us/step - loss: 127024.6250 - val_loss: 122117.5234\n",
      "Epoch 207/300\n",
      "88/88 [==============================] - 0s 551us/step - loss: 127172.6562 - val_loss: 123635.3438\n",
      "Epoch 208/300\n",
      "88/88 [==============================] - 0s 588us/step - loss: 125588.6875 - val_loss: 124484.7969\n",
      "Epoch 209/300\n",
      "88/88 [==============================] - 0s 540us/step - loss: 126727.3672 - val_loss: 122725.9688\n",
      "Epoch 210/300\n",
      "88/88 [==============================] - 0s 530us/step - loss: 126478.9297 - val_loss: 122080.7422\n",
      "Epoch 211/300\n",
      "88/88 [==============================] - 0s 536us/step - loss: 125867.2344 - val_loss: 123302.6797\n",
      "Epoch 212/300\n",
      "88/88 [==============================] - 0s 630us/step - loss: 125609.2109 - val_loss: 122886.8906\n",
      "Epoch 213/300\n",
      "88/88 [==============================] - 0s 609us/step - loss: 125450.6875 - val_loss: 127836.2109\n",
      "Epoch 214/300\n",
      "88/88 [==============================] - 0s 525us/step - loss: 125859.8125 - val_loss: 124744.2969\n",
      "Epoch 215/300\n",
      "88/88 [==============================] - 0s 500us/step - loss: 125523.8906 - val_loss: 122220.8516\n",
      "Epoch 216/300\n",
      "88/88 [==============================] - 0s 509us/step - loss: 126253.0391 - val_loss: 122377.8125\n",
      "Epoch 217/300\n",
      "88/88 [==============================] - 0s 528us/step - loss: 125961.8828 - val_loss: 121885.4297\n",
      "Epoch 218/300\n",
      "88/88 [==============================] - 0s 538us/step - loss: 125645.5312 - val_loss: 121346.4297\n",
      "Epoch 219/300\n"
     ]
    },
    {
     "name": "stdout",
     "output_type": "stream",
     "text": [
      "88/88 [==============================] - 0s 510us/step - loss: 124724.8906 - val_loss: 120951.7734\n",
      "Epoch 220/300\n",
      "88/88 [==============================] - 0s 497us/step - loss: 124796.7500 - val_loss: 124052.5391\n",
      "Epoch 221/300\n",
      "88/88 [==============================] - 0s 509us/step - loss: 125402.3281 - val_loss: 121295.0312\n",
      "Epoch 222/300\n",
      "88/88 [==============================] - 0s 502us/step - loss: 123865.8203 - val_loss: 120538.4766\n",
      "Epoch 223/300\n",
      "88/88 [==============================] - 0s 490us/step - loss: 124791.1172 - val_loss: 120677.8125\n",
      "Epoch 224/300\n",
      "88/88 [==============================] - 0s 504us/step - loss: 124157.9766 - val_loss: 120959.5312\n",
      "Epoch 225/300\n",
      "88/88 [==============================] - 0s 506us/step - loss: 124211.0781 - val_loss: 122426.9219\n",
      "Epoch 226/300\n",
      "88/88 [==============================] - 0s 495us/step - loss: 124658.1875 - val_loss: 121063.2109\n",
      "Epoch 227/300\n",
      "88/88 [==============================] - 0s 501us/step - loss: 123332.5547 - val_loss: 120586.5781\n",
      "Epoch 228/300\n",
      "88/88 [==============================] - 0s 509us/step - loss: 123536.8516 - val_loss: 121330.6953\n",
      "Epoch 229/300\n",
      "88/88 [==============================] - 0s 495us/step - loss: 124454.9297 - val_loss: 120142.7109\n",
      "Epoch 230/300\n",
      "88/88 [==============================] - 0s 510us/step - loss: 123106.1328 - val_loss: 123023.2500\n",
      "Epoch 231/300\n",
      "88/88 [==============================] - 0s 506us/step - loss: 123189.4375 - val_loss: 119522.6250\n",
      "Epoch 232/300\n",
      "88/88 [==============================] - 0s 500us/step - loss: 122684.2891 - val_loss: 119795.3438\n",
      "Epoch 233/300\n",
      "88/88 [==============================] - 0s 490us/step - loss: 122621.0781 - val_loss: 119699.0234\n",
      "Epoch 234/300\n",
      "88/88 [==============================] - 0s 496us/step - loss: 122369.1562 - val_loss: 121772.7578\n",
      "Epoch 235/300\n",
      "88/88 [==============================] - 0s 487us/step - loss: 122874.1562 - val_loss: 120338.3203\n",
      "Epoch 236/300\n",
      "88/88 [==============================] - 0s 498us/step - loss: 122708.7188 - val_loss: 123093.6484\n",
      "Epoch 237/300\n",
      "88/88 [==============================] - 0s 511us/step - loss: 122235.0000 - val_loss: 122302.2891\n",
      "Epoch 238/300\n",
      "88/88 [==============================] - 0s 507us/step - loss: 122436.0312 - val_loss: 119729.9141\n",
      "Epoch 239/300\n",
      "88/88 [==============================] - 0s 497us/step - loss: 122199.2812 - val_loss: 119260.9609\n",
      "Epoch 240/300\n",
      "88/88 [==============================] - 0s 511us/step - loss: 121587.5234 - val_loss: 119075.6484\n",
      "Epoch 241/300\n",
      "88/88 [==============================] - 0s 508us/step - loss: 123110.8750 - val_loss: 125818.7500\n",
      "Epoch 242/300\n",
      "88/88 [==============================] - 0s 508us/step - loss: 123407.1016 - val_loss: 118846.7344\n",
      "Epoch 243/300\n",
      "88/88 [==============================] - 0s 500us/step - loss: 121178.7031 - val_loss: 119513.0078\n",
      "Epoch 244/300\n",
      "88/88 [==============================] - 0s 503us/step - loss: 122415.1953 - val_loss: 120264.1562\n",
      "Epoch 245/300\n",
      "88/88 [==============================] - 0s 507us/step - loss: 120573.8984 - val_loss: 118630.8047\n",
      "Epoch 246/300\n",
      "88/88 [==============================] - 0s 510us/step - loss: 121555.4219 - val_loss: 117911.6484\n",
      "Epoch 247/300\n",
      "88/88 [==============================] - 0s 500us/step - loss: 121680.6250 - val_loss: 118730.1719\n",
      "Epoch 248/300\n",
      "88/88 [==============================] - 0s 507us/step - loss: 120515.2109 - val_loss: 122142.1406\n",
      "Epoch 249/300\n",
      "88/88 [==============================] - 0s 493us/step - loss: 120331.5391 - val_loss: 118909.1328\n",
      "Epoch 250/300\n",
      "88/88 [==============================] - 0s 497us/step - loss: 120429.7891 - val_loss: 119144.5703\n",
      "Epoch 251/300\n",
      "88/88 [==============================] - 0s 514us/step - loss: 120275.1250 - val_loss: 120643.6719\n",
      "Epoch 252/300\n",
      "88/88 [==============================] - 0s 505us/step - loss: 120610.6016 - val_loss: 117245.7266\n",
      "Epoch 253/300\n",
      "88/88 [==============================] - 0s 484us/step - loss: 119175.1562 - val_loss: 117920.5625\n",
      "Epoch 254/300\n",
      "88/88 [==============================] - 0s 503us/step - loss: 119517.6484 - val_loss: 120290.7812\n",
      "Epoch 255/300\n",
      "88/88 [==============================] - 0s 515us/step - loss: 121579.8359 - val_loss: 117101.0234\n",
      "Epoch 256/300\n",
      "88/88 [==============================] - 0s 505us/step - loss: 118837.2656 - val_loss: 121926.4375\n",
      "Epoch 257/300\n",
      "88/88 [==============================] - 0s 506us/step - loss: 119077.4922 - val_loss: 116765.6250\n",
      "Epoch 258/300\n",
      "88/88 [==============================] - 0s 504us/step - loss: 120033.3672 - val_loss: 117136.1953\n",
      "Epoch 259/300\n",
      "88/88 [==============================] - 0s 497us/step - loss: 119839.1094 - val_loss: 118848.8750\n",
      "Epoch 260/300\n",
      "88/88 [==============================] - 0s 506us/step - loss: 119931.2188 - val_loss: 115783.2812\n",
      "Epoch 261/300\n",
      "88/88 [==============================] - 0s 498us/step - loss: 118622.3906 - val_loss: 117218.1484\n",
      "Epoch 262/300\n",
      "88/88 [==============================] - 0s 505us/step - loss: 118727.8984 - val_loss: 116911.4062\n",
      "Epoch 263/300\n",
      "88/88 [==============================] - 0s 498us/step - loss: 119109.2031 - val_loss: 116645.1328\n",
      "Epoch 264/300\n",
      "88/88 [==============================] - 0s 505us/step - loss: 118211.6953 - val_loss: 117256.5391\n",
      "Epoch 265/300\n",
      "88/88 [==============================] - 0s 509us/step - loss: 118876.2344 - val_loss: 118564.6094\n",
      "Epoch 266/300\n",
      "88/88 [==============================] - 0s 493us/step - loss: 118146.6953 - val_loss: 116824.3047\n",
      "Epoch 267/300\n",
      "88/88 [==============================] - 0s 502us/step - loss: 117709.4453 - val_loss: 116705.7656\n",
      "Epoch 268/300\n",
      "88/88 [==============================] - 0s 511us/step - loss: 117519.4688 - val_loss: 115603.2891\n",
      "Epoch 269/300\n",
      "88/88 [==============================] - 0s 507us/step - loss: 117612.8125 - val_loss: 116737.8750\n",
      "Epoch 270/300\n",
      "88/88 [==============================] - 0s 510us/step - loss: 117150.6953 - val_loss: 117123.8672\n",
      "Epoch 271/300\n",
      "88/88 [==============================] - 0s 512us/step - loss: 116614.8594 - val_loss: 115181.3203\n",
      "Epoch 272/300\n",
      "88/88 [==============================] - 0s 508us/step - loss: 117740.9141 - val_loss: 117881.7109\n",
      "Epoch 273/300\n",
      "88/88 [==============================] - 0s 501us/step - loss: 116642.7969 - val_loss: 116880.6484\n",
      "Epoch 274/300\n",
      "88/88 [==============================] - 0s 515us/step - loss: 117887.4531 - val_loss: 115556.4844\n",
      "Epoch 275/300\n",
      "88/88 [==============================] - 0s 508us/step - loss: 116441.0781 - val_loss: 116426.1016\n",
      "Epoch 276/300\n",
      "88/88 [==============================] - 0s 514us/step - loss: 116224.0703 - val_loss: 117506.1797\n",
      "Epoch 277/300\n",
      "88/88 [==============================] - 0s 506us/step - loss: 117241.3984 - val_loss: 114897.1406\n",
      "Epoch 278/300\n",
      "88/88 [==============================] - 0s 500us/step - loss: 117745.5000 - val_loss: 116566.6094\n",
      "Epoch 279/300\n",
      "88/88 [==============================] - 0s 498us/step - loss: 116352.0703 - val_loss: 117137.0078\n",
      "Epoch 280/300\n",
      "88/88 [==============================] - 364s 4s/step - loss: 115581.1719 - val_loss: 116442.0000\n",
      "Epoch 281/300\n",
      "88/88 [==============================] - 0s 768us/step - loss: 116556.3906 - val_loss: 114865.7266\n",
      "Epoch 282/300\n",
      "88/88 [==============================] - 0s 916us/step - loss: 116198.3047 - val_loss: 114549.3281\n",
      "Epoch 283/300\n",
      "88/88 [==============================] - 0s 1ms/step - loss: 115460.1641 - val_loss: 113862.0156\n",
      "Epoch 284/300\n",
      "88/88 [==============================] - 0s 498us/step - loss: 114745.7422 - val_loss: 116030.2969\n",
      "Epoch 285/300\n",
      "88/88 [==============================] - 0s 520us/step - loss: 114661.1406 - val_loss: 115626.6562\n",
      "Epoch 286/300\n",
      "88/88 [==============================] - 0s 514us/step - loss: 114850.8750 - val_loss: 115730.6719\n",
      "Epoch 287/300\n",
      "88/88 [==============================] - 0s 547us/step - loss: 115346.3906 - val_loss: 114481.6094\n",
      "Epoch 288/300\n",
      "88/88 [==============================] - 0s 551us/step - loss: 115710.5625 - val_loss: 118733.5234\n",
      "Epoch 289/300\n",
      "88/88 [==============================] - 0s 538us/step - loss: 115612.1172 - val_loss: 115712.8750\n",
      "Epoch 290/300\n",
      "88/88 [==============================] - 0s 583us/step - loss: 114135.3438 - val_loss: 116294.1641\n",
      "Epoch 291/300\n"
     ]
    },
    {
     "name": "stdout",
     "output_type": "stream",
     "text": [
      "88/88 [==============================] - 0s 723us/step - loss: 113810.6094 - val_loss: 114711.4609\n",
      "Epoch 292/300\n",
      "88/88 [==============================] - 0s 525us/step - loss: 115044.3750 - val_loss: 113562.1016\n",
      "Epoch 293/300\n",
      "88/88 [==============================] - 0s 659us/step - loss: 114609.8984 - val_loss: 114522.4062\n",
      "Epoch 294/300\n",
      "88/88 [==============================] - 0s 655us/step - loss: 113537.6016 - val_loss: 118189.6016\n",
      "Epoch 295/300\n",
      "88/88 [==============================] - 0s 638us/step - loss: 115366.7734 - val_loss: 116206.0859\n",
      "Epoch 296/300\n",
      "88/88 [==============================] - 0s 709us/step - loss: 113902.3359 - val_loss: 113290.5938\n",
      "Epoch 297/300\n",
      "88/88 [==============================] - 0s 1ms/step - loss: 113296.6562 - val_loss: 114656.9844\n",
      "Epoch 298/300\n",
      "88/88 [==============================] - 0s 717us/step - loss: 113386.1250 - val_loss: 114982.5938\n",
      "Epoch 299/300\n",
      "88/88 [==============================] - 0s 589us/step - loss: 114280.4844 - val_loss: 114078.2109\n",
      "Epoch 300/300\n",
      "88/88 [==============================] - 0s 576us/step - loss: 113697.9375 - val_loss: 114449.9844\n",
      "55/55 [==============================] - 0s 382us/step\n",
      "Mean Squared Error: 121216.91502654758\n",
      "Root Mean Squared Error: 348.16219643514944\n",
      "R-squared: 0.7000647313967099\n",
      "Adjusted R-squared: 0.6988608627727287\n"
     ]
    }
   ],
   "source": [
    "from keras.models import Sequential\n",
    "from keras.layers import Dense\n",
    "\n",
    "model = Sequential()\n",
    "\n",
    "model.add(Dense(units=64, activation='relu', input_dim=X_train_scaled.shape[1]))\n",
    "\n",
    "model.add(Dense(units=32, activation='relu'))\n",
    "\n",
    "model.add(Dense(units=16, activation='relu'))\n",
    "\n",
    "model.add(Dense(units=8, activation='relu'))\n",
    "\n",
    "model.add(Dense(units=1, activation='linear'))\n",
    "\n",
    "model.compile(optimizer='adam', loss='mean_squared_error')\n",
    "\n",
    "#from keras.layers import Dropout\n",
    "#model.add(Dropout(0.5)) \n",
    "\n",
    "#from keras.regularizers import l1, l2\n",
    "#model.add(Dense(units=64, activation='relu', input_dim=X_train.shape[1], kernel_regularizer=l2(0.01)))\n",
    "\n",
    "from keras.callbacks import EarlyStopping\n",
    "early_stopping = EarlyStopping(monitor='val_loss', patience = 10, restore_best_weights=True)\n",
    "model.fit(X_train_scaled, y_train, epochs = 300, batch_size = 64, validation_split=0.2, callbacks=[early_stopping])\n",
    "\n",
    "y_pred = model.predict(X_test_scaled)\n",
    "\n",
    "mse = mean_squared_error(y_test, y_pred)\n",
    "mse_r = mean_squared_error(y_test, y_pred, squared = False)\n",
    "r2 = r2_score(y_test, y_pred)\n",
    "\n",
    "n = len(y_test)\n",
    "k = X_train_scaled.shape[1]  \n",
    "adj_r2 = 1 - ((1 - r2) * (n - 1) / (n - k - 1))\n",
    "\n",
    "print(f'Mean Squared Error: {mse}')\n",
    "print(f'Root Mean Squared Error: {mse_r}')\n",
    "print(f'R-squared: {r2}')\n",
    "print(f'Adjusted R-squared: {adj_r2}')"
   ]
  },
  {
   "cell_type": "code",
   "execution_count": 53,
   "id": "82226ac5",
   "metadata": {},
   "outputs": [
    {
     "name": "stdout",
     "output_type": "stream",
     "text": [
      "Mean Squared Error: 121216.91502654758\n",
      "Root Mean Squared Error: 348.16219643514944\n",
      "R-squared: 0.7000647313967099\n",
      "Adjusted R-squared: 0.6988608627727287\n"
     ]
    }
   ],
   "source": [
    "print(f'Mean Squared Error: {mse}')\n",
    "print(f'Root Mean Squared Error: {mse_r}')\n",
    "print(f'R-squared: {r2}')\n",
    "print(f'Adjusted R-squared: {adj_r2}')"
   ]
  },
  {
   "cell_type": "code",
   "execution_count": 54,
   "id": "077803f9",
   "metadata": {},
   "outputs": [
    {
     "name": "stdout",
     "output_type": "stream",
     "text": [
      "219/219 [==============================] - 0s 363us/step\n",
      "55/55 [==============================] - 0s 633us/step\n",
      "Training MSE: 113758.36366374716\n",
      "Validation MSE: 121216.91502654758\n",
      "Huber Loss: [[137.26681519 319.26681519 200.26681519 ... 345.73318481 127.26681519\n",
      "  161.26681519]\n",
      " [205.33738708  23.33738708 142.33738708 ... 689.33738708 215.33738708\n",
      "  181.33738708]\n",
      " [ 34.41162109 216.41162109  97.41162109 ... 448.58837891  24.41162109\n",
      "   58.41162109]\n",
      " ...\n",
      " [748.5098877  930.5098877  811.5098877  ... 264.5098877  738.5098877\n",
      "  772.5098877 ]\n",
      " [125.34790039  55.65209961  62.34790039 ... 609.34790039 135.34790039\n",
      "  101.34790039]\n",
      " [ 22.8843689  204.8843689   85.8843689  ... 460.1156311   12.8843689\n",
      "   46.8843689 ]]\n",
      "Mean Huber Loss: 623.9388384947148\n"
     ]
    }
   ],
   "source": [
    "train_pred = model.predict(X_train_scaled)\n",
    "test_pred = model.predict(X_test_scaled)\n",
    "\n",
    "from sklearn.metrics import mean_squared_error, r2_score\n",
    "\n",
    "train_mse = mean_squared_error(y_train, train_pred)\n",
    "test_mse = mean_squared_error(y_test, test_pred)\n",
    "\n",
    "print(f'Training MSE: {train_mse}')\n",
    "print(f'Validation MSE: {test_mse}')\n",
    "\n",
    "import tensorflow as tf\n",
    "def huber_loss(y_test, y_pred, delta = 1.0):\n",
    "    error = y_test - y_pred\n",
    "    condition = tf.abs(error) < delta\n",
    "    squared_loss = 0.5 * tf.square(error)\n",
    "    linear_loss = delta * (tf.abs(error) - 0.5 * delta)\n",
    "    return tf.where(condition, squared_loss, linear_loss)\n",
    "\n",
    "loss = huber_loss(y_test, y_pred, delta = 1.0)\n",
    "print(\"Huber Loss:\", loss.numpy())\n",
    "\n",
    "mean_huber_loss = np.mean(loss)\n",
    "print(f\"Mean Huber Loss: {mean_huber_loss}\")"
   ]
  },
  {
   "cell_type": "code",
   "execution_count": null,
   "id": "e823c99a",
   "metadata": {},
   "outputs": [],
   "source": []
  },
  {
   "cell_type": "code",
   "execution_count": 55,
   "id": "c3b99ecb",
   "metadata": {},
   "outputs": [
    {
     "name": "stdout",
     "output_type": "stream",
     "text": [
      "Epoch 1/200\n",
      "77/77 [==============================] - 0s 2ms/step - loss: 908448.8750 - val_loss: 871284.8125\n",
      "Epoch 2/200\n",
      "77/77 [==============================] - 0s 691us/step - loss: 657379.0625 - val_loss: 372206.9688\n",
      "Epoch 3/200\n",
      "77/77 [==============================] - 0s 646us/step - loss: 353241.0938 - val_loss: 336987.9062\n",
      "Epoch 4/200\n",
      "77/77 [==============================] - 0s 726us/step - loss: 332553.9062 - val_loss: 315749.5312\n",
      "Epoch 5/200\n",
      "77/77 [==============================] - 0s 631us/step - loss: 311832.4375 - val_loss: 293797.6562\n",
      "Epoch 6/200\n",
      "77/77 [==============================] - 0s 612us/step - loss: 290207.1250 - val_loss: 270057.5000\n",
      "Epoch 7/200\n",
      "77/77 [==============================] - 0s 625us/step - loss: 267850.5312 - val_loss: 248229.1719\n",
      "Epoch 8/200\n",
      "77/77 [==============================] - 0s 603us/step - loss: 249552.3750 - val_loss: 230709.6406\n",
      "Epoch 9/200\n",
      "77/77 [==============================] - 0s 587us/step - loss: 235627.7969 - val_loss: 218334.0781\n",
      "Epoch 10/200\n",
      "77/77 [==============================] - 0s 603us/step - loss: 225720.5781 - val_loss: 209414.5000\n",
      "Epoch 11/200\n",
      "77/77 [==============================] - 0s 636us/step - loss: 219174.9062 - val_loss: 202985.4844\n",
      "Epoch 12/200\n",
      "77/77 [==============================] - 0s 636us/step - loss: 214164.7500 - val_loss: 198139.8125\n",
      "Epoch 13/200\n",
      "77/77 [==============================] - 0s 661us/step - loss: 210597.5781 - val_loss: 194331.0000\n",
      "Epoch 14/200\n",
      "77/77 [==============================] - 0s 627us/step - loss: 207445.7188 - val_loss: 192266.3281\n",
      "Epoch 15/200\n",
      "77/77 [==============================] - 0s 640us/step - loss: 204927.5625 - val_loss: 189058.3750\n",
      "Epoch 16/200\n",
      "77/77 [==============================] - 0s 655us/step - loss: 203636.7812 - val_loss: 186727.3281\n",
      "Epoch 17/200\n",
      "77/77 [==============================] - 0s 631us/step - loss: 200926.4844 - val_loss: 184082.5781\n",
      "Epoch 18/200\n",
      "77/77 [==============================] - 0s 617us/step - loss: 199474.9062 - val_loss: 181935.3438\n",
      "Epoch 19/200\n",
      "77/77 [==============================] - 0s 616us/step - loss: 197715.3438 - val_loss: 180405.7500\n",
      "Epoch 20/200\n",
      "77/77 [==============================] - 0s 625us/step - loss: 197076.6094 - val_loss: 180251.8750\n",
      "Epoch 21/200\n",
      "77/77 [==============================] - 0s 669us/step - loss: 195287.1719 - val_loss: 177567.1875\n",
      "Epoch 22/200\n",
      "77/77 [==============================] - 0s 638us/step - loss: 194535.2031 - val_loss: 176041.7031\n",
      "Epoch 23/200\n",
      "77/77 [==============================] - 0s 657us/step - loss: 193166.3125 - val_loss: 175419.6875\n",
      "Epoch 24/200\n",
      "77/77 [==============================] - 0s 643us/step - loss: 192208.5781 - val_loss: 175319.2656\n",
      "Epoch 25/200\n",
      "77/77 [==============================] - 0s 626us/step - loss: 191992.2500 - val_loss: 172696.9062\n",
      "Epoch 26/200\n",
      "77/77 [==============================] - 0s 657us/step - loss: 191422.4062 - val_loss: 175672.7344\n",
      "Epoch 27/200\n",
      "77/77 [==============================] - 0s 597us/step - loss: 189270.7500 - val_loss: 170846.5625\n",
      "Epoch 28/200\n",
      "77/77 [==============================] - 0s 646us/step - loss: 188464.9688 - val_loss: 169606.2344\n",
      "Epoch 29/200\n",
      "77/77 [==============================] - 0s 608us/step - loss: 188419.2969 - val_loss: 169105.0469\n",
      "Epoch 30/200\n",
      "77/77 [==============================] - 0s 619us/step - loss: 187088.4375 - val_loss: 168834.9531\n",
      "Epoch 31/200\n",
      "77/77 [==============================] - 0s 656us/step - loss: 185895.3125 - val_loss: 167161.6250\n",
      "Epoch 32/200\n",
      "77/77 [==============================] - 0s 650us/step - loss: 184763.0781 - val_loss: 166293.8438\n",
      "Epoch 33/200\n",
      "77/77 [==============================] - 0s 651us/step - loss: 184573.5156 - val_loss: 165138.1406\n",
      "Epoch 34/200\n",
      "77/77 [==============================] - 0s 596us/step - loss: 183150.2812 - val_loss: 164185.3438\n",
      "Epoch 35/200\n",
      "77/77 [==============================] - 0s 586us/step - loss: 182618.8438 - val_loss: 163441.7188\n",
      "Epoch 36/200\n",
      "77/77 [==============================] - 0s 651us/step - loss: 181707.6562 - val_loss: 162559.8125\n",
      "Epoch 37/200\n",
      "77/77 [==============================] - 0s 626us/step - loss: 181494.6875 - val_loss: 162239.5938\n",
      "Epoch 38/200\n",
      "77/77 [==============================] - 0s 615us/step - loss: 180158.1719 - val_loss: 161016.5469\n",
      "Epoch 39/200\n",
      "77/77 [==============================] - 0s 629us/step - loss: 179694.9062 - val_loss: 162160.1875\n",
      "Epoch 40/200\n",
      "77/77 [==============================] - 0s 634us/step - loss: 179148.7188 - val_loss: 159565.7500\n",
      "Epoch 41/200\n",
      "77/77 [==============================] - 0s 688us/step - loss: 179079.5312 - val_loss: 158928.2344\n",
      "Epoch 42/200\n",
      "77/77 [==============================] - 0s 703us/step - loss: 177811.0469 - val_loss: 158189.7188\n",
      "Epoch 43/200\n",
      "77/77 [==============================] - 0s 611us/step - loss: 176782.4375 - val_loss: 158028.4531\n",
      "Epoch 44/200\n",
      "77/77 [==============================] - 0s 622us/step - loss: 176168.6094 - val_loss: 157261.4219\n",
      "Epoch 45/200\n",
      "77/77 [==============================] - 0s 636us/step - loss: 175260.5781 - val_loss: 156519.3750\n",
      "Epoch 46/200\n",
      "77/77 [==============================] - 0s 602us/step - loss: 174398.9688 - val_loss: 156381.2969\n",
      "Epoch 47/200\n",
      "77/77 [==============================] - 0s 614us/step - loss: 174337.6094 - val_loss: 155882.4531\n",
      "Epoch 48/200\n",
      "77/77 [==============================] - 0s 649us/step - loss: 173535.5469 - val_loss: 154555.3125\n",
      "Epoch 49/200\n",
      "77/77 [==============================] - 0s 637us/step - loss: 172661.4219 - val_loss: 154219.1875\n",
      "Epoch 50/200\n",
      "77/77 [==============================] - 0s 645us/step - loss: 172729.6562 - val_loss: 153526.1250\n",
      "Epoch 51/200\n",
      "77/77 [==============================] - 0s 596us/step - loss: 171400.8750 - val_loss: 156190.6562\n",
      "Epoch 52/200\n",
      "77/77 [==============================] - 0s 631us/step - loss: 171905.0469 - val_loss: 152502.7500\n",
      "Epoch 53/200\n",
      "77/77 [==============================] - 0s 640us/step - loss: 170709.4844 - val_loss: 154224.7188\n",
      "Epoch 54/200\n",
      "77/77 [==============================] - 0s 710us/step - loss: 170411.7031 - val_loss: 154187.9375\n",
      "Epoch 55/200\n",
      "77/77 [==============================] - 0s 615us/step - loss: 169889.5938 - val_loss: 151194.5312\n",
      "Epoch 56/200\n",
      "77/77 [==============================] - 0s 574us/step - loss: 168900.7031 - val_loss: 151846.7812\n",
      "Epoch 57/200\n",
      "77/77 [==============================] - 0s 588us/step - loss: 168519.7656 - val_loss: 149932.9531\n",
      "Epoch 58/200\n",
      "77/77 [==============================] - 0s 587us/step - loss: 167628.4375 - val_loss: 152471.2812\n",
      "Epoch 59/200\n",
      "77/77 [==============================] - 0s 626us/step - loss: 167749.4219 - val_loss: 149190.2656\n",
      "Epoch 60/200\n",
      "77/77 [==============================] - 0s 613us/step - loss: 166615.1094 - val_loss: 148301.1094\n",
      "Epoch 61/200\n",
      "77/77 [==============================] - 0s 605us/step - loss: 166333.4531 - val_loss: 148568.7969\n",
      "Epoch 62/200\n",
      "77/77 [==============================] - 0s 604us/step - loss: 165861.5000 - val_loss: 147532.1562\n",
      "Epoch 63/200\n",
      "77/77 [==============================] - 0s 625us/step - loss: 165335.9844 - val_loss: 147197.4531\n",
      "Epoch 64/200\n",
      "77/77 [==============================] - 0s 605us/step - loss: 164661.2812 - val_loss: 146448.3594\n",
      "Epoch 65/200\n",
      "77/77 [==============================] - 0s 637us/step - loss: 164149.2812 - val_loss: 145934.5469\n",
      "Epoch 66/200\n",
      "77/77 [==============================] - 0s 603us/step - loss: 163742.3438 - val_loss: 147015.0938\n",
      "Epoch 67/200\n",
      "77/77 [==============================] - 0s 617us/step - loss: 163752.8438 - val_loss: 148100.4062\n",
      "Epoch 68/200\n",
      "77/77 [==============================] - 0s 621us/step - loss: 162631.1406 - val_loss: 144715.4375\n",
      "Epoch 69/200\n",
      "77/77 [==============================] - 0s 578us/step - loss: 162191.2500 - val_loss: 143911.1875\n",
      "Epoch 70/200\n",
      "77/77 [==============================] - 0s 575us/step - loss: 161560.5312 - val_loss: 144308.6875\n",
      "Epoch 71/200\n",
      "77/77 [==============================] - 0s 602us/step - loss: 161529.4062 - val_loss: 143645.9375\n",
      "Epoch 72/200\n",
      "77/77 [==============================] - 0s 609us/step - loss: 160023.3906 - val_loss: 143382.6719\n",
      "Epoch 73/200\n",
      "77/77 [==============================] - 0s 586us/step - loss: 160378.1250 - val_loss: 146890.1719\n",
      "Epoch 74/200\n"
     ]
    },
    {
     "name": "stdout",
     "output_type": "stream",
     "text": [
      "77/77 [==============================] - 0s 596us/step - loss: 159315.8750 - val_loss: 141716.6562\n",
      "Epoch 75/200\n",
      "77/77 [==============================] - 0s 581us/step - loss: 158845.4844 - val_loss: 142102.5938\n",
      "Epoch 76/200\n",
      "77/77 [==============================] - 0s 602us/step - loss: 157915.5000 - val_loss: 142171.9062\n",
      "Epoch 77/200\n",
      "77/77 [==============================] - 0s 605us/step - loss: 158287.9375 - val_loss: 141691.7344\n",
      "Epoch 78/200\n",
      "77/77 [==============================] - 0s 607us/step - loss: 157199.2031 - val_loss: 141389.8125\n",
      "Epoch 79/200\n",
      "77/77 [==============================] - 0s 596us/step - loss: 156554.8750 - val_loss: 140585.8281\n",
      "Epoch 80/200\n",
      "77/77 [==============================] - 0s 599us/step - loss: 156418.6562 - val_loss: 140390.9531\n",
      "Epoch 81/200\n",
      "77/77 [==============================] - 0s 576us/step - loss: 156993.8594 - val_loss: 139816.9531\n",
      "Epoch 82/200\n",
      "77/77 [==============================] - 0s 606us/step - loss: 155626.3438 - val_loss: 139554.0156\n",
      "Epoch 83/200\n",
      "77/77 [==============================] - 0s 601us/step - loss: 155786.2031 - val_loss: 140182.6406\n",
      "Epoch 84/200\n",
      "77/77 [==============================] - 0s 598us/step - loss: 155547.9844 - val_loss: 138560.0781\n",
      "Epoch 85/200\n",
      "77/77 [==============================] - 0s 612us/step - loss: 155433.6406 - val_loss: 141783.4062\n",
      "Epoch 86/200\n",
      "77/77 [==============================] - 0s 595us/step - loss: 154827.1094 - val_loss: 141164.9062\n",
      "Epoch 87/200\n",
      "77/77 [==============================] - 0s 620us/step - loss: 155090.9531 - val_loss: 138059.9219\n",
      "Epoch 88/200\n",
      "77/77 [==============================] - 0s 601us/step - loss: 154294.7188 - val_loss: 139153.2656\n",
      "Epoch 89/200\n",
      "77/77 [==============================] - 0s 595us/step - loss: 153832.4062 - val_loss: 139665.9844\n",
      "Epoch 90/200\n",
      "77/77 [==============================] - 0s 589us/step - loss: 153266.1250 - val_loss: 137977.2656\n",
      "Epoch 91/200\n",
      "77/77 [==============================] - 0s 602us/step - loss: 152581.0938 - val_loss: 137557.6719\n",
      "Epoch 92/200\n",
      "77/77 [==============================] - 0s 590us/step - loss: 152620.3281 - val_loss: 137338.0938\n",
      "Epoch 93/200\n",
      "77/77 [==============================] - 0s 616us/step - loss: 152573.0312 - val_loss: 136732.0781\n",
      "Epoch 94/200\n",
      "77/77 [==============================] - 0s 604us/step - loss: 152267.2500 - val_loss: 140028.0938\n",
      "Epoch 95/200\n",
      "77/77 [==============================] - 0s 603us/step - loss: 151272.7812 - val_loss: 136513.4844\n",
      "Epoch 96/200\n",
      "77/77 [==============================] - 0s 571us/step - loss: 151630.3906 - val_loss: 136971.5625\n",
      "Epoch 97/200\n",
      "77/77 [==============================] - 0s 571us/step - loss: 151835.8438 - val_loss: 137043.9531\n",
      "Epoch 98/200\n",
      "77/77 [==============================] - 0s 609us/step - loss: 151106.3125 - val_loss: 137350.1406\n",
      "Epoch 99/200\n",
      "77/77 [==============================] - 0s 609us/step - loss: 150679.0312 - val_loss: 136320.9531\n",
      "Epoch 100/200\n",
      "77/77 [==============================] - 0s 601us/step - loss: 150582.1250 - val_loss: 135622.7812\n",
      "Epoch 101/200\n",
      "77/77 [==============================] - 0s 582us/step - loss: 149696.5156 - val_loss: 136294.3281\n",
      "Epoch 102/200\n",
      "77/77 [==============================] - 0s 583us/step - loss: 150261.7344 - val_loss: 136342.8594\n",
      "Epoch 103/200\n",
      "77/77 [==============================] - 0s 586us/step - loss: 149714.3906 - val_loss: 135820.9531\n",
      "Epoch 104/200\n",
      "77/77 [==============================] - 0s 588us/step - loss: 149725.9531 - val_loss: 135181.1875\n",
      "Epoch 105/200\n",
      "77/77 [==============================] - 0s 582us/step - loss: 149339.9844 - val_loss: 134637.2812\n",
      "Epoch 106/200\n",
      "77/77 [==============================] - 0s 570us/step - loss: 150627.4844 - val_loss: 138136.5000\n",
      "Epoch 107/200\n",
      "77/77 [==============================] - 0s 589us/step - loss: 149871.0625 - val_loss: 136725.5938\n",
      "Epoch 108/200\n",
      "77/77 [==============================] - 0s 594us/step - loss: 149899.7344 - val_loss: 133189.3906\n",
      "Epoch 109/200\n",
      "77/77 [==============================] - 0s 594us/step - loss: 148551.1562 - val_loss: 134031.8125\n",
      "Epoch 110/200\n",
      "77/77 [==============================] - 0s 583us/step - loss: 148147.1562 - val_loss: 132829.2031\n",
      "Epoch 111/200\n",
      "77/77 [==============================] - 0s 582us/step - loss: 148487.1250 - val_loss: 133122.4844\n",
      "Epoch 112/200\n",
      "77/77 [==============================] - 0s 582us/step - loss: 148246.4531 - val_loss: 138033.8594\n",
      "Epoch 113/200\n",
      "77/77 [==============================] - 0s 597us/step - loss: 148036.3125 - val_loss: 140306.2812\n",
      "Epoch 114/200\n",
      "77/77 [==============================] - 0s 578us/step - loss: 148379.0312 - val_loss: 133560.3438\n",
      "Epoch 115/200\n",
      "77/77 [==============================] - 0s 593us/step - loss: 147320.8281 - val_loss: 132986.3125\n",
      "Epoch 116/200\n",
      "77/77 [==============================] - 0s 588us/step - loss: 147029.1406 - val_loss: 133003.4688\n",
      "Epoch 117/200\n",
      "77/77 [==============================] - 0s 597us/step - loss: 147246.8750 - val_loss: 132419.5312\n",
      "Epoch 118/200\n",
      "77/77 [==============================] - 0s 569us/step - loss: 147030.8594 - val_loss: 132780.4219\n",
      "Epoch 119/200\n",
      "77/77 [==============================] - 0s 584us/step - loss: 147350.9062 - val_loss: 131430.2812\n",
      "Epoch 120/200\n",
      "77/77 [==============================] - 0s 591us/step - loss: 147575.2031 - val_loss: 131364.8906\n",
      "Epoch 121/200\n",
      "77/77 [==============================] - 0s 589us/step - loss: 146544.7812 - val_loss: 131418.0781\n",
      "Epoch 122/200\n",
      "77/77 [==============================] - 0s 574us/step - loss: 145975.3594 - val_loss: 131222.2344\n",
      "Epoch 123/200\n",
      "77/77 [==============================] - 0s 576us/step - loss: 145707.3281 - val_loss: 130813.3828\n",
      "Epoch 124/200\n",
      "77/77 [==============================] - 0s 600us/step - loss: 145735.6406 - val_loss: 130715.9844\n",
      "Epoch 125/200\n",
      "77/77 [==============================] - 0s 595us/step - loss: 145186.5312 - val_loss: 130537.2031\n",
      "Epoch 126/200\n",
      "77/77 [==============================] - 0s 568us/step - loss: 145972.2969 - val_loss: 130859.3047\n",
      "Epoch 127/200\n",
      "77/77 [==============================] - 0s 574us/step - loss: 146010.0938 - val_loss: 130816.8359\n",
      "Epoch 128/200\n",
      "77/77 [==============================] - 0s 593us/step - loss: 144693.2031 - val_loss: 130063.2734\n",
      "Epoch 129/200\n",
      "77/77 [==============================] - 0s 586us/step - loss: 145856.0156 - val_loss: 130013.2031\n",
      "Epoch 130/200\n",
      "77/77 [==============================] - 0s 561us/step - loss: 144664.2500 - val_loss: 131116.8438\n",
      "Epoch 131/200\n",
      "77/77 [==============================] - 0s 592us/step - loss: 144414.1875 - val_loss: 129963.6094\n",
      "Epoch 132/200\n",
      "77/77 [==============================] - 0s 589us/step - loss: 144134.2812 - val_loss: 129216.1250\n",
      "Epoch 133/200\n",
      "77/77 [==============================] - 0s 590us/step - loss: 143871.6094 - val_loss: 129346.8125\n",
      "Epoch 134/200\n",
      "77/77 [==============================] - 0s 592us/step - loss: 145065.2969 - val_loss: 129185.3359\n",
      "Epoch 135/200\n",
      "77/77 [==============================] - 0s 587us/step - loss: 143951.2188 - val_loss: 128612.7031\n",
      "Epoch 136/200\n",
      "77/77 [==============================] - 0s 565us/step - loss: 144598.3906 - val_loss: 129440.2422\n",
      "Epoch 137/200\n",
      "77/77 [==============================] - 0s 588us/step - loss: 143511.7031 - val_loss: 130848.2266\n",
      "Epoch 138/200\n",
      "77/77 [==============================] - 0s 602us/step - loss: 144294.5000 - val_loss: 129582.9297\n",
      "Epoch 139/200\n",
      "77/77 [==============================] - 0s 589us/step - loss: 143591.5938 - val_loss: 130782.7344\n",
      "Epoch 140/200\n",
      "77/77 [==============================] - 0s 585us/step - loss: 142640.5000 - val_loss: 128787.2188\n",
      "Epoch 141/200\n",
      "77/77 [==============================] - 0s 579us/step - loss: 142962.0938 - val_loss: 128204.4766\n",
      "Epoch 142/200\n",
      "77/77 [==============================] - 0s 582us/step - loss: 142071.5781 - val_loss: 133148.9844\n",
      "Epoch 143/200\n",
      "77/77 [==============================] - 0s 604us/step - loss: 143904.0312 - val_loss: 129841.1641\n",
      "Epoch 144/200\n",
      "77/77 [==============================] - 0s 574us/step - loss: 142443.4844 - val_loss: 129726.6016\n",
      "Epoch 145/200\n",
      "77/77 [==============================] - 0s 575us/step - loss: 141961.1094 - val_loss: 127629.6562\n",
      "Epoch 146/200\n",
      "77/77 [==============================] - 0s 594us/step - loss: 141290.6406 - val_loss: 127020.5781\n"
     ]
    },
    {
     "name": "stdout",
     "output_type": "stream",
     "text": [
      "Epoch 147/200\n",
      "77/77 [==============================] - 0s 605us/step - loss: 141881.3438 - val_loss: 127486.4141\n",
      "Epoch 148/200\n",
      "77/77 [==============================] - 0s 577us/step - loss: 140647.4062 - val_loss: 127908.3359\n",
      "Epoch 149/200\n",
      "77/77 [==============================] - 0s 586us/step - loss: 141129.5156 - val_loss: 127938.9688\n",
      "Epoch 150/200\n",
      "77/77 [==============================] - 0s 584us/step - loss: 140722.2344 - val_loss: 127373.6641\n",
      "Epoch 151/200\n",
      "77/77 [==============================] - 0s 595us/step - loss: 140790.1562 - val_loss: 126955.5078\n",
      "Epoch 152/200\n",
      "77/77 [==============================] - 0s 586us/step - loss: 140816.9688 - val_loss: 128317.1406\n",
      "Epoch 153/200\n",
      "77/77 [==============================] - 0s 607us/step - loss: 140770.5000 - val_loss: 125451.9609\n",
      "Epoch 154/200\n",
      "77/77 [==============================] - 0s 558us/step - loss: 140769.7812 - val_loss: 127154.5391\n",
      "Epoch 155/200\n",
      "77/77 [==============================] - 0s 607us/step - loss: 140651.1719 - val_loss: 125307.0625\n",
      "Epoch 156/200\n",
      "77/77 [==============================] - 0s 576us/step - loss: 140603.2031 - val_loss: 129586.1406\n",
      "Epoch 157/200\n",
      "77/77 [==============================] - 0s 583us/step - loss: 139602.9531 - val_loss: 126322.7578\n",
      "Epoch 158/200\n",
      "77/77 [==============================] - 0s 580us/step - loss: 139219.2656 - val_loss: 125394.7344\n",
      "Epoch 159/200\n",
      "77/77 [==============================] - 0s 582us/step - loss: 138782.5000 - val_loss: 127114.3047\n",
      "Epoch 160/200\n",
      "77/77 [==============================] - 0s 581us/step - loss: 139762.4688 - val_loss: 126024.8281\n",
      "Epoch 161/200\n",
      "77/77 [==============================] - 0s 581us/step - loss: 139555.4062 - val_loss: 127216.0391\n",
      "Epoch 162/200\n",
      "77/77 [==============================] - 0s 581us/step - loss: 138839.7656 - val_loss: 123894.6328\n",
      "Epoch 163/200\n",
      "77/77 [==============================] - 0s 578us/step - loss: 138591.0469 - val_loss: 127011.6016\n",
      "Epoch 164/200\n",
      "77/77 [==============================] - 0s 577us/step - loss: 138165.3281 - val_loss: 123501.8438\n",
      "Epoch 165/200\n",
      "77/77 [==============================] - 0s 578us/step - loss: 137108.6406 - val_loss: 127919.2031\n",
      "Epoch 166/200\n",
      "77/77 [==============================] - 0s 591us/step - loss: 138338.6875 - val_loss: 125017.8281\n",
      "Epoch 167/200\n",
      "77/77 [==============================] - 0s 588us/step - loss: 137807.5781 - val_loss: 124117.8750\n",
      "Epoch 168/200\n",
      "77/77 [==============================] - 0s 600us/step - loss: 138442.2500 - val_loss: 124160.2656\n",
      "Epoch 169/200\n",
      "77/77 [==============================] - 0s 586us/step - loss: 137380.8281 - val_loss: 123247.7266\n",
      "Epoch 170/200\n",
      "77/77 [==============================] - 0s 593us/step - loss: 138992.1250 - val_loss: 123952.7891\n",
      "Epoch 171/200\n",
      "77/77 [==============================] - 0s 591us/step - loss: 137420.4531 - val_loss: 124633.3359\n",
      "Epoch 172/200\n",
      "77/77 [==============================] - 0s 605us/step - loss: 137091.3750 - val_loss: 122739.8359\n",
      "Epoch 173/200\n",
      "77/77 [==============================] - 0s 581us/step - loss: 137113.0156 - val_loss: 125466.6719\n",
      "Epoch 174/200\n",
      "77/77 [==============================] - 0s 595us/step - loss: 136861.2500 - val_loss: 122431.1641\n",
      "Epoch 175/200\n",
      "77/77 [==============================] - 0s 598us/step - loss: 136043.0469 - val_loss: 123430.3438\n",
      "Epoch 176/200\n",
      "77/77 [==============================] - 0s 597us/step - loss: 139830.4062 - val_loss: 122036.1016\n",
      "Epoch 177/200\n",
      "77/77 [==============================] - 0s 580us/step - loss: 136815.6875 - val_loss: 121594.7031\n",
      "Epoch 178/200\n",
      "77/77 [==============================] - 0s 587us/step - loss: 136375.2656 - val_loss: 121797.0938\n",
      "Epoch 179/200\n",
      "77/77 [==============================] - 0s 570us/step - loss: 136235.0000 - val_loss: 122247.9609\n",
      "Epoch 180/200\n",
      "77/77 [==============================] - 0s 616us/step - loss: 134912.9844 - val_loss: 121989.1797\n",
      "Epoch 181/200\n",
      "77/77 [==============================] - 0s 579us/step - loss: 135870.5000 - val_loss: 121126.3047\n",
      "Epoch 182/200\n",
      "77/77 [==============================] - 0s 571us/step - loss: 135123.9219 - val_loss: 121985.7578\n",
      "Epoch 183/200\n",
      "77/77 [==============================] - 0s 602us/step - loss: 135064.8281 - val_loss: 121769.3906\n",
      "Epoch 184/200\n",
      "77/77 [==============================] - 0s 600us/step - loss: 135758.7500 - val_loss: 120418.4609\n",
      "Epoch 185/200\n",
      "77/77 [==============================] - 0s 584us/step - loss: 134847.3281 - val_loss: 124727.0391\n",
      "Epoch 186/200\n",
      "77/77 [==============================] - 0s 575us/step - loss: 135174.3281 - val_loss: 121046.6797\n",
      "Epoch 187/200\n",
      "77/77 [==============================] - 0s 582us/step - loss: 135188.6875 - val_loss: 120208.3906\n",
      "Epoch 188/200\n",
      "77/77 [==============================] - 0s 590us/step - loss: 136106.4219 - val_loss: 120774.8047\n",
      "Epoch 189/200\n",
      "77/77 [==============================] - 0s 587us/step - loss: 135293.7500 - val_loss: 120553.8672\n",
      "Epoch 190/200\n",
      "77/77 [==============================] - 0s 577us/step - loss: 133906.7812 - val_loss: 120276.9375\n",
      "Epoch 191/200\n",
      "77/77 [==============================] - 0s 588us/step - loss: 133524.0312 - val_loss: 119818.1641\n",
      "Epoch 192/200\n",
      "77/77 [==============================] - 0s 584us/step - loss: 133170.7812 - val_loss: 119885.6484\n",
      "Epoch 193/200\n",
      "77/77 [==============================] - 0s 589us/step - loss: 134621.4219 - val_loss: 120501.3906\n",
      "Epoch 194/200\n",
      "77/77 [==============================] - 0s 587us/step - loss: 133080.5625 - val_loss: 119059.7031\n",
      "Epoch 195/200\n",
      "77/77 [==============================] - 0s 581us/step - loss: 133729.1875 - val_loss: 118632.2188\n",
      "Epoch 196/200\n",
      "77/77 [==============================] - 0s 602us/step - loss: 132946.7031 - val_loss: 118548.7812\n",
      "Epoch 197/200\n",
      "77/77 [==============================] - 0s 602us/step - loss: 132758.6719 - val_loss: 118356.0391\n",
      "Epoch 198/200\n",
      "77/77 [==============================] - 0s 604us/step - loss: 133274.7812 - val_loss: 120399.2422\n",
      "Epoch 199/200\n",
      "77/77 [==============================] - 0s 586us/step - loss: 133215.3750 - val_loss: 123827.2188\n",
      "Epoch 200/200\n",
      "77/77 [==============================] - 0s 587us/step - loss: 132870.6250 - val_loss: 122294.0234\n",
      "Mean Squared Error: 121216.91502654758\n",
      "Root Mean Squared Error: 348.16219643514944\n",
      "R-squared: 0.7000647313967099\n",
      "Adjusted R-squared: 0.6988608627727287\n"
     ]
    }
   ],
   "source": [
    "from keras.models import Sequential\n",
    "from keras.layers import Dense\n",
    "\n",
    "model = Sequential()\n",
    "\n",
    "model.add(Dense(units=64, activation='relu', input_dim=X_train_scaled.shape[1]))\n",
    "\n",
    "model.add(Dense(units=32, activation='relu'))\n",
    "\n",
    "model.add(Dense(units=16, activation='relu'))\n",
    "\n",
    "model.add(Dense(units=8, activation='relu'))\n",
    "\n",
    "model.add(Dense(units=1, activation='linear'))\n",
    "\n",
    "model.compile(optimizer='adam', loss='mean_squared_error')\n",
    "\n",
    "#from keras.layers import Dropout\n",
    "#model.add(Dropout(0.5)) \n",
    "\n",
    "#from keras.regularizers import l1, l2\n",
    "#model.add(Dense(units=64, activation='relu', input_dim=X_train.shape[1], kernel_regularizer=l2(0.01)))\n",
    "\n",
    "from keras.callbacks import EarlyStopping\n",
    "early_stopping = EarlyStopping(monitor='val_loss', patience = 10, restore_best_weights=True)\n",
    "model.fit(X_train_scaled, y_train, epochs = 200, batch_size = 64, validation_split=0.3, callbacks=[early_stopping])\n",
    "\n",
    "mse = mean_squared_error(y_test, y_pred)\n",
    "mse_r = mean_squared_error(y_test, y_pred, squared = False)\n",
    "r2 = r2_score(y_test, y_pred)\n",
    "\n",
    "n = len(y_test)\n",
    "k = X_train_scaled.shape[1]  \n",
    "adj_r2 = 1 - ((1 - r2) * (n - 1) / (n - k - 1))\n",
    "\n",
    "print(f'Mean Squared Error: {mse}')\n",
    "print(f'Root Mean Squared Error: {mse_r}')\n",
    "print(f'R-squared: {r2}')\n",
    "print(f'Adjusted R-squared: {adj_r2}')"
   ]
  },
  {
   "cell_type": "code",
   "execution_count": 56,
   "id": "f4ed3263",
   "metadata": {},
   "outputs": [
    {
     "name": "stdout",
     "output_type": "stream",
     "text": [
      "Mean Squared Error: 121216.91502654758\n",
      "Root Mean Squared Error: 348.16219643514944\n",
      "R-squared: 0.7000647313967099\n",
      "Adjusted R-squared: 0.6988608627727287\n"
     ]
    }
   ],
   "source": [
    "print(f'Mean Squared Error: {mse}')\n",
    "print(f'Root Mean Squared Error: {mse_r}')\n",
    "print(f'R-squared: {r2}')\n",
    "print(f'Adjusted R-squared: {adj_r2}')"
   ]
  },
  {
   "cell_type": "code",
   "execution_count": 57,
   "id": "53397bb4",
   "metadata": {},
   "outputs": [
    {
     "name": "stdout",
     "output_type": "stream",
     "text": [
      "219/219 [==============================] - 0s 270us/step\n",
      "55/55 [==============================] - 0s 257us/step\n",
      "Training MSE: 130556.02792166747\n",
      "Validation MSE: 137954.37209720525\n",
      "Huber Loss: [[137.26681519 319.26681519 200.26681519 ... 345.73318481 127.26681519\n",
      "  161.26681519]\n",
      " [205.33738708  23.33738708 142.33738708 ... 689.33738708 215.33738708\n",
      "  181.33738708]\n",
      " [ 34.41162109 216.41162109  97.41162109 ... 448.58837891  24.41162109\n",
      "   58.41162109]\n",
      " ...\n",
      " [748.5098877  930.5098877  811.5098877  ... 264.5098877  738.5098877\n",
      "  772.5098877 ]\n",
      " [125.34790039  55.65209961  62.34790039 ... 609.34790039 135.34790039\n",
      "  101.34790039]\n",
      " [ 22.8843689  204.8843689   85.8843689  ... 460.1156311   12.8843689\n",
      "   46.8843689 ]]\n",
      "Mean Huber Loss: 623.9388384947148\n"
     ]
    }
   ],
   "source": [
    "train_pred = model.predict(X_train_scaled)\n",
    "test_pred = model.predict(X_test_scaled)\n",
    "\n",
    "from sklearn.metrics import mean_squared_error, r2_score\n",
    "\n",
    "train_mse = mean_squared_error(y_train, train_pred)\n",
    "test_mse = mean_squared_error(y_test, test_pred)\n",
    "\n",
    "print(f'Training MSE: {train_mse}')\n",
    "print(f'Validation MSE: {test_mse}')\n",
    "\n",
    "import tensorflow as tf\n",
    "def huber_loss(y_test, y_pred, delta = 1.0):\n",
    "    error = y_test - y_pred\n",
    "    condition = tf.abs(error) < delta\n",
    "    squared_loss = 0.5 * tf.square(error)\n",
    "    linear_loss = delta * (tf.abs(error) - 0.5 * delta)\n",
    "    return tf.where(condition, squared_loss, linear_loss)\n",
    "\n",
    "loss = huber_loss(y_test, y_pred, delta = 1.0)\n",
    "print(\"Huber Loss:\", loss.numpy())\n",
    "\n",
    "mean_huber_loss = np.mean(loss)\n",
    "print(f\"Mean Huber Loss: {mean_huber_loss}\")"
   ]
  },
  {
   "cell_type": "code",
   "execution_count": null,
   "id": "3e549f40",
   "metadata": {},
   "outputs": [],
   "source": []
  },
  {
   "cell_type": "markdown",
   "id": "f0d8b450",
   "metadata": {},
   "source": [
    "# SVM"
   ]
  },
  {
   "cell_type": "code",
   "execution_count": 58,
   "id": "577688c3",
   "metadata": {},
   "outputs": [],
   "source": [
    "from sklearn import svm"
   ]
  },
  {
   "cell_type": "code",
   "execution_count": 59,
   "id": "ff30a011",
   "metadata": {},
   "outputs": [
    {
     "name": "stdout",
     "output_type": "stream",
     "text": [
      "Mean Squared Error: 249826.94848220333\n",
      "Root Mean Squared Error: 499.82691852500636\n",
      "R-squared: 0.38183616633916784\n",
      "Adjusted R-squared: 0.3793550041627769\n"
     ]
    }
   ],
   "source": [
    "regressor = svm.SVR(kernel = 'linear', C = 5.0, epsilon = 2.5)\n",
    "\n",
    "regressor.fit(X_train_scaled, y_train)\n",
    "\n",
    "yp_svm = regressor.predict(X_test_scaled)\n",
    "\n",
    "mse = mean_squared_error(y_test, yp_svm)\n",
    "mse_r = mean_squared_error(y_test, yp_svm, squared = False)\n",
    "r2 = r2_score(y_test, yp_svm)\n",
    "\n",
    "n = len(y_test)\n",
    "k = X_train_scaled.shape[1]  \n",
    "adj_r2 = 1 - ((1 - r2) * (n - 1) / (n - k - 1))\n",
    "\n",
    "print(f'Mean Squared Error: {mse}')\n",
    "print(f'Root Mean Squared Error: {mse_r}')\n",
    "print(f'R-squared: {r2}')\n",
    "print(f'Adjusted R-squared: {adj_r2}')"
   ]
  },
  {
   "cell_type": "code",
   "execution_count": 60,
   "id": "a8e88b7d",
   "metadata": {},
   "outputs": [
    {
     "data": {
      "text/plain": [
       "0.25962965284628725"
      ]
     },
     "execution_count": 60,
     "metadata": {},
     "output_type": "execute_result"
    }
   ],
   "source": [
    "score_svm = cross_val_score(svm.SVR(kernel = 'linear', C = 5.0, epsilon = 2.5), \n",
    "                            X_test_scaled, y_test, cv = 10, scoring = 'r2').mean()\n",
    "score_svm"
   ]
  },
  {
   "cell_type": "code",
   "execution_count": 61,
   "id": "ea0dc11d",
   "metadata": {},
   "outputs": [
    {
     "data": {
      "text/html": [
       "<div>\n",
       "<style scoped>\n",
       "    .dataframe tbody tr th:only-of-type {\n",
       "        vertical-align: middle;\n",
       "    }\n",
       "\n",
       "    .dataframe tbody tr th {\n",
       "        vertical-align: top;\n",
       "    }\n",
       "\n",
       "    .dataframe thead th {\n",
       "        text-align: right;\n",
       "    }\n",
       "</style>\n",
       "<table border=\"1\" class=\"dataframe\">\n",
       "  <thead>\n",
       "    <tr style=\"text-align: right;\">\n",
       "      <th></th>\n",
       "      <th>Actual</th>\n",
       "      <th>Predicted</th>\n",
       "    </tr>\n",
       "  </thead>\n",
       "  <tbody>\n",
       "    <tr>\n",
       "      <th>0</th>\n",
       "      <td>278.0</td>\n",
       "      <td>659.846987</td>\n",
       "    </tr>\n",
       "    <tr>\n",
       "      <th>1</th>\n",
       "      <td>96.0</td>\n",
       "      <td>-5.507031</td>\n",
       "    </tr>\n",
       "    <tr>\n",
       "      <th>2</th>\n",
       "      <td>215.0</td>\n",
       "      <td>526.516283</td>\n",
       "    </tr>\n",
       "    <tr>\n",
       "      <th>3</th>\n",
       "      <td>1290.0</td>\n",
       "      <td>808.214104</td>\n",
       "    </tr>\n",
       "    <tr>\n",
       "      <th>4</th>\n",
       "      <td>165.0</td>\n",
       "      <td>494.382744</td>\n",
       "    </tr>\n",
       "  </tbody>\n",
       "</table>\n",
       "</div>"
      ],
      "text/plain": [
       "   Actual   Predicted\n",
       "0   278.0  659.846987\n",
       "1    96.0   -5.507031\n",
       "2   215.0  526.516283\n",
       "3  1290.0  808.214104\n",
       "4   165.0  494.382744"
      ]
     },
     "execution_count": 61,
     "metadata": {},
     "output_type": "execute_result"
    }
   ],
   "source": [
    "pred_svm = pd.DataFrame({'Actual': y_test, 'Predicted': yp_svm})\n",
    "pred_svm.head()"
   ]
  },
  {
   "cell_type": "code",
   "execution_count": null,
   "id": "4dee445f",
   "metadata": {},
   "outputs": [],
   "source": []
  },
  {
   "cell_type": "code",
   "execution_count": 62,
   "id": "753e0e58",
   "metadata": {},
   "outputs": [
    {
     "name": "stdout",
     "output_type": "stream",
     "text": [
      "Mean Squared Error: 191659.42304736376\n",
      "Root Mean Squared Error: 437.7892450110712\n",
      "R-squared: 0.5257640361539241\n",
      "Adjusted R-squared: 0.5238605661155511\n"
     ]
    }
   ],
   "source": [
    "regressor = svm.SVR(kernel = 'poly', C = 50.0, epsilon = 3.5, degree = 2)\n",
    "\n",
    "regressor.fit(X_train_scaled, y_train)\n",
    "\n",
    "yp_svm_p2 = regressor.predict(X_test_scaled)\n",
    "\n",
    "mse = mean_squared_error(y_test, yp_svm_p2)\n",
    "mse_r = mean_squared_error(y_test, yp_svm_p2, squared = False)\n",
    "r2 = r2_score(y_test, yp_svm_p2)\n",
    "\n",
    "n = len(y_test)\n",
    "k = X_train_scaled.shape[1]  \n",
    "adj_r2 = 1 - ((1 - r2) * (n - 1) / (n - k - 1))\n",
    "\n",
    "print(f'Mean Squared Error: {mse}')\n",
    "print(f'Root Mean Squared Error: {mse_r}')\n",
    "print(f'R-squared: {r2}')\n",
    "print(f'Adjusted R-squared: {adj_r2}')"
   ]
  },
  {
   "cell_type": "code",
   "execution_count": 63,
   "id": "7db15db6",
   "metadata": {},
   "outputs": [
    {
     "data": {
      "text/plain": [
       "0.5058830333674365"
      ]
     },
     "execution_count": 63,
     "metadata": {},
     "output_type": "execute_result"
    }
   ],
   "source": [
    "score_svr = cross_val_score(svm.SVR(kernel = 'poly', C = 50.0, epsilon = 3.5, degree = 2), \n",
    "                            X_test_scaled, y_test, cv = 10, scoring = 'r2').mean()\n",
    "score_svr"
   ]
  },
  {
   "cell_type": "code",
   "execution_count": 64,
   "id": "2b7f64bf",
   "metadata": {},
   "outputs": [
    {
     "name": "stdout",
     "output_type": "stream",
     "text": [
      "Training MSE: 199991.54371977234\n",
      "Validation MSE: 191659.42304736376\n",
      "Huber Loss: [268.33908267  28.6134898  264.06705925 ...   9.56012949 140.5524789\n",
      "  36.56282453]\n",
      "Mean Huber Loss: 301.57988809256506\n"
     ]
    }
   ],
   "source": [
    "train_pred = regressor.predict(X_train_scaled)\n",
    "test_pred = regressor.predict(X_test_scaled)\n",
    "\n",
    "from sklearn.metrics import mean_squared_error, r2_score\n",
    "\n",
    "train_mse = mean_squared_error(y_train, train_pred)\n",
    "test_mse = mean_squared_error(y_test, test_pred)\n",
    "\n",
    "print(f'Training MSE: {train_mse}')\n",
    "print(f'Validation MSE: {test_mse}')\n",
    "\n",
    "import tensorflow as tf\n",
    "def huber_loss(y_test, yp_svm_p2, delta = 1.0):\n",
    "    error = y_test - yp_svm_p2\n",
    "    condition = tf.abs(error) < delta\n",
    "    squared_loss = 0.5 * tf.square(error)\n",
    "    linear_loss = delta * (tf.abs(error) - 0.5 * delta)\n",
    "    return tf.where(condition, squared_loss, linear_loss)\n",
    "\n",
    "loss = huber_loss(y_test, yp_svm_p2, delta = 1.0)\n",
    "print(\"Huber Loss:\", loss.numpy())\n",
    "\n",
    "mean_huber_loss = np.mean(loss)\n",
    "print(f\"Mean Huber Loss: {mean_huber_loss}\")"
   ]
  },
  {
   "cell_type": "code",
   "execution_count": null,
   "id": "f1ac3f89",
   "metadata": {},
   "outputs": [],
   "source": []
  },
  {
   "cell_type": "code",
   "execution_count": 65,
   "id": "866ff7cf",
   "metadata": {},
   "outputs": [
    {
     "name": "stdout",
     "output_type": "stream",
     "text": [
      "Mean Squared Error (Linear SVR): 236982.01988326592\n",
      "R-squared (Linear SVR): 0.41361924800453287\n"
     ]
    },
    {
     "name": "stderr",
     "output_type": "stream",
     "text": [
      "/Users/izaiaszacca/anaconda3/lib/python3.11/site-packages/sklearn/svm/_classes.py:32: FutureWarning: The default value of `dual` will change from `True` to `'auto'` in 1.5. Set the value of `dual` explicitly to suppress the warning.\n",
      "  warnings.warn(\n"
     ]
    }
   ],
   "source": [
    "from sklearn.svm import LinearSVR\n",
    "\n",
    "linear_svr_model = LinearSVR(C = 10.0, epsilon = 0.2)\n",
    "linear_svr_model.fit(X_train_scaled, y_train)\n",
    "\n",
    "y_pred = linear_svr_model.predict(X_test_scaled)\n",
    "\n",
    "mse = mean_squared_error(y_test, y_pred)\n",
    "r2 = r2_score(y_test, y_pred)\n",
    "\n",
    "print(f'Mean Squared Error (Linear SVR): {mse}')\n",
    "print(f'R-squared (Linear SVR): {r2}')"
   ]
  },
  {
   "cell_type": "code",
   "execution_count": null,
   "id": "4fa3a720",
   "metadata": {},
   "outputs": [],
   "source": []
  },
  {
   "cell_type": "code",
   "execution_count": null,
   "id": "3cf8f7b3",
   "metadata": {},
   "outputs": [],
   "source": []
  },
  {
   "cell_type": "markdown",
   "id": "cebdc20b",
   "metadata": {},
   "source": [
    "# KNN"
   ]
  },
  {
   "cell_type": "code",
   "execution_count": 66,
   "id": "051ace45",
   "metadata": {},
   "outputs": [],
   "source": [
    "from sklearn.neighbors import KNeighborsRegressor"
   ]
  },
  {
   "cell_type": "code",
   "execution_count": 67,
   "id": "e7466068",
   "metadata": {},
   "outputs": [
    {
     "data": {
      "text/plain": [
       "9"
      ]
     },
     "execution_count": 67,
     "metadata": {},
     "output_type": "execute_result"
    }
   ],
   "source": [
    "from sklearn.model_selection import GridSearchCV\n",
    "\n",
    "param_grid = {'n_neighbors': [1, 3, 5, 7, 9]}  # Adjust the range based on your data\n",
    "grid_search = GridSearchCV(KNeighborsRegressor(), param_grid, cv=5, scoring='neg_mean_squared_error')\n",
    "grid_search.fit(X_train_scaled, y_train)\n",
    "\n",
    "best_k = grid_search.best_params_['n_neighbors']\n",
    "#knn_regressor = KNeighborsRegressor(n_neighbors=best_k)\n",
    "#knn_regressor.fit(X_train, y_train)\n",
    "\n",
    "best_k"
   ]
  },
  {
   "cell_type": "code",
   "execution_count": 68,
   "id": "b1c23bf5",
   "metadata": {},
   "outputs": [
    {
     "name": "stdout",
     "output_type": "stream",
     "text": [
      "Mean Squared Error: 116458.57584335103\n",
      "Root Mean Squared Error: 341.26027580624003\n",
      "R-squared: 0.7118386141151822\n",
      "Adjusted R-squared: 0.710682003047984\n"
     ]
    }
   ],
   "source": [
    "knn_regressor = KNeighborsRegressor(n_neighbors = 7, metric='manhattan') \n",
    "\n",
    "knn_regressor.fit(X_train_scaled, y_train)\n",
    "\n",
    "yp_knn = knn_regressor.predict(X_test_scaled)\n",
    "\n",
    "mse = mean_squared_error(y_test, yp_knn)\n",
    "mse_r = mean_squared_error(y_test, yp_knn, squared = False)\n",
    "r2 = r2_score(y_test, yp_knn)\n",
    "\n",
    "n = len(y_test)\n",
    "k = X_train_scaled.shape[1]  \n",
    "adj_r2 = 1 - ((1 - r2) * (n - 1) / (n - k - 1))\n",
    "\n",
    "print(f'Mean Squared Error: {mse}')\n",
    "print(f'Root Mean Squared Error: {mse_r}')\n",
    "print(f'R-squared: {r2}')\n",
    "print(f'Adjusted R-squared: {adj_r2}')"
   ]
  },
  {
   "cell_type": "code",
   "execution_count": 69,
   "id": "85167242",
   "metadata": {},
   "outputs": [
    {
     "data": {
      "text/plain": [
       "0.6444068932793872"
      ]
     },
     "execution_count": 69,
     "metadata": {},
     "output_type": "execute_result"
    }
   ],
   "source": [
    "score_knn = cross_val_score(KNeighborsRegressor(n_neighbors = 7, metric='manhattan'), \n",
    "                            X_test_scaled, y_test, cv = 5, scoring = 'r2').mean()\n",
    "score_knn"
   ]
  },
  {
   "cell_type": "code",
   "execution_count": 70,
   "id": "7af89a94",
   "metadata": {},
   "outputs": [
    {
     "data": {
      "text/html": [
       "<div>\n",
       "<style scoped>\n",
       "    .dataframe tbody tr th:only-of-type {\n",
       "        vertical-align: middle;\n",
       "    }\n",
       "\n",
       "    .dataframe tbody tr th {\n",
       "        vertical-align: top;\n",
       "    }\n",
       "\n",
       "    .dataframe thead th {\n",
       "        text-align: right;\n",
       "    }\n",
       "</style>\n",
       "<table border=\"1\" class=\"dataframe\">\n",
       "  <thead>\n",
       "    <tr style=\"text-align: right;\">\n",
       "      <th></th>\n",
       "      <th>Actual</th>\n",
       "      <th>Predicted</th>\n",
       "    </tr>\n",
       "  </thead>\n",
       "  <tbody>\n",
       "    <tr>\n",
       "      <th>0</th>\n",
       "      <td>278.0</td>\n",
       "      <td>302.428571</td>\n",
       "    </tr>\n",
       "    <tr>\n",
       "      <th>1</th>\n",
       "      <td>96.0</td>\n",
       "      <td>166.857143</td>\n",
       "    </tr>\n",
       "    <tr>\n",
       "      <th>2</th>\n",
       "      <td>215.0</td>\n",
       "      <td>193.857143</td>\n",
       "    </tr>\n",
       "    <tr>\n",
       "      <th>3</th>\n",
       "      <td>1290.0</td>\n",
       "      <td>1157.571429</td>\n",
       "    </tr>\n",
       "    <tr>\n",
       "      <th>4</th>\n",
       "      <td>165.0</td>\n",
       "      <td>370.857143</td>\n",
       "    </tr>\n",
       "  </tbody>\n",
       "</table>\n",
       "</div>"
      ],
      "text/plain": [
       "   Actual    Predicted\n",
       "0   278.0   302.428571\n",
       "1    96.0   166.857143\n",
       "2   215.0   193.857143\n",
       "3  1290.0  1157.571429\n",
       "4   165.0   370.857143"
      ]
     },
     "execution_count": 70,
     "metadata": {},
     "output_type": "execute_result"
    }
   ],
   "source": [
    "pred_knn = pd.DataFrame({'Actual': y_test, 'Predicted': yp_knn})\n",
    "pred_knn.head()"
   ]
  },
  {
   "cell_type": "code",
   "execution_count": 71,
   "id": "a0860514",
   "metadata": {},
   "outputs": [
    {
     "name": "stdout",
     "output_type": "stream",
     "text": [
      "Training MSE: 87995.29156474234\n",
      "Validation MSE: 116458.57584335103\n",
      "Huber Loss: [ 23.92857143  70.35714286  20.64285714 ... 224.92857143 146.92857143\n",
      "   7.21428571]\n",
      "Mean Huber Loss: 206.935088761532\n"
     ]
    }
   ],
   "source": [
    "train_pred = knn_regressor.predict(X_train_scaled)\n",
    "test_pred = knn_regressor.predict(X_test_scaled)\n",
    "\n",
    "from sklearn.metrics import mean_squared_error, r2_score\n",
    "\n",
    "train_mse = mean_squared_error(y_train, train_pred)\n",
    "test_mse = mean_squared_error(y_test, test_pred)\n",
    "\n",
    "print(f'Training MSE: {train_mse}')\n",
    "print(f'Validation MSE: {test_mse}')\n",
    "\n",
    "import tensorflow as tf\n",
    "def huber_loss(y_test, yp_knn, delta = 1.0):\n",
    "    error = y_test - yp_knn\n",
    "    condition = tf.abs(error) < delta\n",
    "    squared_loss = 0.5 * tf.square(error)\n",
    "    linear_loss = delta * (tf.abs(error) - 0.5 * delta)\n",
    "    return tf.where(condition, squared_loss, linear_loss)\n",
    "\n",
    "loss = huber_loss(y_test, yp_knn, delta = 1.0)\n",
    "print(\"Huber Loss:\", loss.numpy())\n",
    "\n",
    "mean_huber_loss = np.mean(loss)\n",
    "print(f\"Mean Huber Loss: {mean_huber_loss}\")"
   ]
  },
  {
   "cell_type": "markdown",
   "id": "da91fbf7",
   "metadata": {},
   "source": [
    "## overfitting here"
   ]
  },
  {
   "cell_type": "code",
   "execution_count": 72,
   "id": "a34e3255",
   "metadata": {},
   "outputs": [
    {
     "name": "stdout",
     "output_type": "stream",
     "text": [
      "Mean Squared Error: 126043.13907498574\n",
      "Root Mean Squared Error: 355.02554707370814\n",
      "R-squared: 0.6881228765327172\n",
      "Adjusted R-squared: 0.6868710761518279\n"
     ]
    }
   ],
   "source": [
    "from sklearn.ensemble import BaggingRegressor\n",
    "\n",
    "bagging_regressor = BaggingRegressor(KNeighborsRegressor(n_neighbors = 4), n_estimators = 10, random_state=12)\n",
    "bagging_regressor.fit(X_train_scaled, y_train)\n",
    "\n",
    "\n",
    "yp_knn_bgg = bagging_regressor.predict(X_test_scaled)\n",
    "\n",
    "mse = mean_squared_error(y_test, yp_knn_bgg)\n",
    "mse_r = mean_squared_error(y_test, yp_knn_bgg, squared = False)\n",
    "r2 = r2_score(y_test, yp_knn_bgg)\n",
    "\n",
    "n = len(y_test)\n",
    "k = X_train_scaled.shape[1]  \n",
    "adj_r2 = 1 - ((1 - r2) * (n - 1) / (n - k - 1))\n",
    "\n",
    "print(f'Mean Squared Error: {mse}')\n",
    "print(f'Root Mean Squared Error: {mse_r}')\n",
    "print(f'R-squared: {r2}')\n",
    "print(f'Adjusted R-squared: {adj_r2}')"
   ]
  },
  {
   "cell_type": "code",
   "execution_count": 73,
   "id": "a1dfb6f6",
   "metadata": {},
   "outputs": [
    {
     "data": {
      "text/plain": [
       "0.6275024635843514"
      ]
     },
     "execution_count": 73,
     "metadata": {},
     "output_type": "execute_result"
    }
   ],
   "source": [
    "score_knn_bgg = cross_val_score(BaggingRegressor(KNeighborsRegressor(n_neighbors = 4), n_estimators = 10, random_state=12), \n",
    "                            X_test_scaled, y_test, cv = 5, scoring = 'r2').mean()\n",
    "score_knn_bgg"
   ]
  },
  {
   "cell_type": "code",
   "execution_count": 74,
   "id": "9b79040b",
   "metadata": {},
   "outputs": [
    {
     "name": "stdout",
     "output_type": "stream",
     "text": [
      "Training MSE: 72433.2515102383\n",
      "Validation MSE: 126043.13907498574\n",
      "Huber Loss: [ 19.575  62.2     8.75  ... 481.625 168.325  18.325]\n",
      "Mean Huber Loss: 213.98805525827626\n"
     ]
    }
   ],
   "source": [
    "train_pred = bagging_regressor.predict(X_train_scaled)\n",
    "test_pred = bagging_regressor.predict(X_test_scaled)\n",
    "\n",
    "from sklearn.metrics import mean_squared_error, r2_score\n",
    "\n",
    "train_mse = mean_squared_error(y_train, train_pred)\n",
    "test_mse = mean_squared_error(y_test, test_pred)\n",
    "\n",
    "print(f'Training MSE: {train_mse}')\n",
    "print(f'Validation MSE: {test_mse}')\n",
    "\n",
    "import tensorflow as tf\n",
    "def huber_loss(y_test, yp_knn_bgg, delta = 1.0):\n",
    "    error = y_test - yp_knn_bgg\n",
    "    condition = tf.abs(error) < delta\n",
    "    squared_loss = 0.5 * tf.square(error)\n",
    "    linear_loss = delta * (tf.abs(error) - 0.5 * delta)\n",
    "    return tf.where(condition, squared_loss, linear_loss)\n",
    "\n",
    "loss = huber_loss(y_test, yp_knn_bgg, delta = 1.0)\n",
    "print(\"Huber Loss:\", loss.numpy())\n",
    "\n",
    "mean_huber_loss = np.mean(loss)\n",
    "print(f\"Mean Huber Loss: {mean_huber_loss}\")"
   ]
  },
  {
   "cell_type": "markdown",
   "id": "7c1633e6",
   "metadata": {},
   "source": [
    "## overfitting here"
   ]
  },
  {
   "cell_type": "markdown",
   "id": "a3e461dc",
   "metadata": {},
   "source": [
    "# Decision Tree"
   ]
  },
  {
   "cell_type": "code",
   "execution_count": 75,
   "id": "3ae0b356",
   "metadata": {},
   "outputs": [],
   "source": [
    "from sklearn.tree import DecisionTreeRegressor"
   ]
  },
  {
   "cell_type": "code",
   "execution_count": 76,
   "id": "3f884de5",
   "metadata": {},
   "outputs": [
    {
     "data": {
      "text/plain": [
       "{'max_depth': 10, 'min_samples_leaf': 4, 'min_samples_split': 10}"
      ]
     },
     "execution_count": 76,
     "metadata": {},
     "output_type": "execute_result"
    }
   ],
   "source": [
    "from sklearn.model_selection import GridSearchCV\n",
    "\n",
    "param_grid = {\n",
    "    'max_depth': [None, 10, 20, 30],\n",
    "    'min_samples_split': [2, 5, 10],\n",
    "    'min_samples_leaf': [1, 2, 4]\n",
    "}\n",
    "\n",
    "grid_search = GridSearchCV(DecisionTreeRegressor(), param_grid, cv = 5, scoring = 'neg_mean_squared_error')\n",
    "grid_search.fit(X_train_scaled, y_train)\n",
    "\n",
    "best_params = grid_search.best_params_\n",
    "best_params"
   ]
  },
  {
   "cell_type": "code",
   "execution_count": 77,
   "id": "ee9064cc",
   "metadata": {},
   "outputs": [
    {
     "name": "stdout",
     "output_type": "stream",
     "text": [
      "Mean Squared Error: 131702.02705320265\n",
      "Root Mean Squared Error: 362.9077390373518\n",
      "R-squared: 0.6741207045968063\n",
      "Adjusted R-squared: 0.6728127028377338\n"
     ]
    }
   ],
   "source": [
    "tree_regressor = DecisionTreeRegressor(\n",
    "    max_depth = 10,\n",
    "    min_samples_split = 10,\n",
    "    min_samples_leaf = 4,\n",
    "    random_state = 12\n",
    ")\n",
    "\n",
    "tree_regressor.fit(X_train_scaled, y_train)\n",
    "\n",
    "yp_dt = tree_regressor.predict(X_test_scaled)\n",
    "\n",
    "mse = mean_squared_error(y_test, yp_dt)\n",
    "mse_r = mean_squared_error(y_test, yp_dt, squared = False)\n",
    "r2 = r2_score(y_test, yp_dt)\n",
    "\n",
    "n = len(y_test)\n",
    "k = X_train_scaled.shape[1]  \n",
    "adj_r2 = 1 - ((1 - r2) * (n - 1) / (n - k - 1))\n",
    "\n",
    "print(f'Mean Squared Error: {mse}')\n",
    "print(f'Root Mean Squared Error: {mse_r}')\n",
    "print(f'R-squared: {r2}')\n",
    "print(f'Adjusted R-squared: {adj_r2}')"
   ]
  },
  {
   "cell_type": "code",
   "execution_count": 78,
   "id": "503c2f33",
   "metadata": {},
   "outputs": [
    {
     "data": {
      "text/plain": [
       "0.5616945598313572"
      ]
     },
     "execution_count": 78,
     "metadata": {},
     "output_type": "execute_result"
    }
   ],
   "source": [
    "score_dt = cross_val_score(DecisionTreeRegressor(max_depth = 10, min_samples_split = 10, \n",
    "                                                 min_samples_leaf = 1, random_state = 12), \n",
    "X_test_scaled, y_test, cv = 5, scoring = 'r2').mean()\n",
    "\n",
    "score_dt"
   ]
  },
  {
   "cell_type": "code",
   "execution_count": 79,
   "id": "eeb2b251",
   "metadata": {},
   "outputs": [
    {
     "data": {
      "text/html": [
       "<div>\n",
       "<style scoped>\n",
       "    .dataframe tbody tr th:only-of-type {\n",
       "        vertical-align: middle;\n",
       "    }\n",
       "\n",
       "    .dataframe tbody tr th {\n",
       "        vertical-align: top;\n",
       "    }\n",
       "\n",
       "    .dataframe thead th {\n",
       "        text-align: right;\n",
       "    }\n",
       "</style>\n",
       "<table border=\"1\" class=\"dataframe\">\n",
       "  <thead>\n",
       "    <tr style=\"text-align: right;\">\n",
       "      <th></th>\n",
       "      <th>Actual</th>\n",
       "      <th>Predicted</th>\n",
       "    </tr>\n",
       "  </thead>\n",
       "  <tbody>\n",
       "    <tr>\n",
       "      <th>0</th>\n",
       "      <td>278.0</td>\n",
       "      <td>349.964286</td>\n",
       "    </tr>\n",
       "    <tr>\n",
       "      <th>1</th>\n",
       "      <td>96.0</td>\n",
       "      <td>92.000000</td>\n",
       "    </tr>\n",
       "    <tr>\n",
       "      <th>2</th>\n",
       "      <td>215.0</td>\n",
       "      <td>170.500000</td>\n",
       "    </tr>\n",
       "    <tr>\n",
       "      <th>3</th>\n",
       "      <td>1290.0</td>\n",
       "      <td>1265.058824</td>\n",
       "    </tr>\n",
       "    <tr>\n",
       "      <th>4</th>\n",
       "      <td>165.0</td>\n",
       "      <td>339.166667</td>\n",
       "    </tr>\n",
       "  </tbody>\n",
       "</table>\n",
       "</div>"
      ],
      "text/plain": [
       "   Actual    Predicted\n",
       "0   278.0   349.964286\n",
       "1    96.0    92.000000\n",
       "2   215.0   170.500000\n",
       "3  1290.0  1265.058824\n",
       "4   165.0   339.166667"
      ]
     },
     "execution_count": 79,
     "metadata": {},
     "output_type": "execute_result"
    }
   ],
   "source": [
    "pred_dt = pd.DataFrame({'Actual': y_test, 'Predicted': yp_dt})\n",
    "pred_dt.head()"
   ]
  },
  {
   "cell_type": "code",
   "execution_count": 80,
   "id": "e05c04f7",
   "metadata": {},
   "outputs": [
    {
     "name": "stdout",
     "output_type": "stream",
     "text": [
      "Training MSE: 74822.15032014124\n",
      "Validation MSE: 131702.02705320265\n",
      "Huber Loss: [ 71.46428571   3.5         44.         ... 181.28313253 129.77272727\n",
      " 206.76315789]\n",
      "Mean Huber Loss: 217.4911109334023\n"
     ]
    }
   ],
   "source": [
    "train_pred = tree_regressor.predict(X_train_scaled)\n",
    "test_pred = tree_regressor.predict(X_test_scaled)\n",
    "\n",
    "from sklearn.metrics import mean_squared_error, r2_score\n",
    "\n",
    "train_mse = mean_squared_error(y_train, train_pred)\n",
    "test_mse = mean_squared_error(y_test, test_pred)\n",
    "\n",
    "print(f'Training MSE: {train_mse}')\n",
    "print(f'Validation MSE: {test_mse}')\n",
    "\n",
    "import tensorflow as tf\n",
    "def huber_loss(y_test, yp_dt, delta = 1.0):\n",
    "    error = y_test - yp_dt\n",
    "    condition = tf.abs(error) < delta\n",
    "    squared_loss = 0.5 * tf.square(error)\n",
    "    linear_loss = delta * (tf.abs(error) - 0.5 * delta)\n",
    "    return tf.where(condition, squared_loss, linear_loss)\n",
    "\n",
    "loss = huber_loss(y_test, yp_dt, delta = 1.0)\n",
    "print(\"Huber Loss:\", loss.numpy())\n",
    "\n",
    "mean_huber_loss = np.mean(loss)\n",
    "print(f\"Mean Huber Loss: {mean_huber_loss}\")"
   ]
  },
  {
   "cell_type": "markdown",
   "id": "c4612edf",
   "metadata": {},
   "source": [
    "## overfitting here"
   ]
  },
  {
   "cell_type": "markdown",
   "id": "92d71547",
   "metadata": {},
   "source": [
    "# Summary"
   ]
  },
  {
   "cell_type": "code",
   "execution_count": 81,
   "id": "112bc5e6",
   "metadata": {},
   "outputs": [
    {
     "name": "stdout",
     "output_type": "stream",
     "text": [
      "R2 LN: 0.46398066023961204\n",
      "R2 LNP2: 0.5697265332730072\n",
      "R2 RP2: 0.5393191670254971\n",
      "R2 RF: 0.744120473979903\n",
      "R2 Report SVM: 0.38183616633916784\n",
      "R2 SVR: 0.5257640361539241\n",
      "R2 KNN: 0.7118386141151822\n",
      "R2 KNN BGG: 0.6881228765327172\n",
      "R2 DT: 0.6741207045968063\n"
     ]
    }
   ],
   "source": [
    "print(\"R2 LN:\", r2_score(y_test, yp_lr))\n",
    "\n",
    "print(\"R2 LNP2:\", r2_score(y_test, yp_p2))\n",
    "\n",
    "print(\"R2 RP2:\", r2_score(y_test, yp_rp2))\n",
    "\n",
    "print(\"R2 RF:\", r2_score(y_test, y_pred_best))\n",
    "\n",
    "print(\"R2 Report SVM:\", r2_score(y_test, yp_svm))\n",
    "\n",
    "print(\"R2 SVR:\", r2_score(y_test, yp_svm_p2))\n",
    "\n",
    "print(\"R2 KNN:\", r2_score(y_test, yp_knn))\n",
    "\n",
    "print(\"R2 KNN BGG:\", r2_score(y_test, yp_knn_bgg))\n",
    "\n",
    "print(\"R2 DT:\", r2_score(y_test, yp_dt))"
   ]
  },
  {
   "cell_type": "code",
   "execution_count": null,
   "id": "543c1b24",
   "metadata": {},
   "outputs": [],
   "source": []
  },
  {
   "cell_type": "markdown",
   "id": "8706c32c",
   "metadata": {},
   "source": [
    "less X \n",
    "- R2 LN: 0.52529649482042\n",
    "- R2 LNP2: 0.6554331060997658\n",
    "- R2 RP2: 0.6213144674255984\n",
    "- R2 RF: 0.8652196621176939\n",
    "- R2 SVM: 0.4251713331905206\n",
    "- R2 SVR: 0.5968790842225762\n",
    "- R2 KNN: 0.8351079076593745\n",
    "- R2 KNN BGG: 0.820196677419755\n",
    "- R2 DT: 0.8123233303297475"
   ]
  },
  {
   "cell_type": "markdown",
   "id": "351d7512",
   "metadata": {},
   "source": [
    "PCA\n",
    "- R2 LN: 0.00026587473278671947\n",
    "- R2 LNP2: -0.016234262458589388\n",
    "- R2 RP2: 4.7678354563984726e-05\n",
    "- R2 RF: -0.0074760565829212755\n",
    "- R2 SVM: -0.08563072443027475\n",
    "- R2 SVR: -0.09217215527709399\n",
    "- R2 KNN: -0.09579557291859575\n",
    "- R2 KNN BGG: -0.18895100097992756\n",
    "- R2 DT: -0.08782161761984697"
   ]
  },
  {
   "cell_type": "code",
   "execution_count": 82,
   "id": "93c77371",
   "metadata": {},
   "outputs": [
    {
     "name": "stdout",
     "output_type": "stream",
     "text": [
      "Cross Validation LN: 0.4593758323122934\n",
      "Cross Validation LNP2: 0.4593758323122934\n",
      "Cross Validation RP2: 0.4408471910281132\n",
      "Cross Validation RF: 0.6986399209522299\n",
      "Cross Validation SVM: 0.25962965284628725\n",
      "Cross Validation SVR: 0.5058830333674365\n",
      "Cross Validation KNN: 0.6444068932793872\n",
      "Cross Validation KNN BGG: 0.6275024635843514\n",
      "Cross Validation DT: 0.5616945598313572\n"
     ]
    }
   ],
   "source": [
    "print(\"Cross Validation LN:\", score_l) #yp_lr\n",
    "\n",
    "print(\"Cross Validation LNP2:\", score_lp2) #yp_p2\n",
    "\n",
    "print(\"Cross Validation RP2:\", score_rp2) #yp_rp2\n",
    "\n",
    "print(\"Cross Validation RF:\", score_rf) #y_pred_best\n",
    "\n",
    "#ANN y_pred\n",
    "\n",
    "print(\"Cross Validation SVM:\", score_svm) #yp_svm\n",
    "\n",
    "print(\"Cross Validation SVR:\", score_svr) #yp_svm_p2\n",
    "\n",
    "print(\"Cross Validation KNN:\", score_knn) #yp_knn\n",
    "\n",
    "print(\"Cross Validation KNN BGG:\", score_knn_bgg)  #yp_knn_bgg\n",
    "\n",
    "print(\"Cross Validation DT:\", score_dt) #yp_dt\n",
    "\n",
    "\n"
   ]
  },
  {
   "cell_type": "code",
   "execution_count": null,
   "id": "87752301",
   "metadata": {},
   "outputs": [],
   "source": []
  },
  {
   "cell_type": "code",
   "execution_count": null,
   "id": "e73ee44a",
   "metadata": {},
   "outputs": [],
   "source": []
  },
  {
   "cell_type": "code",
   "execution_count": null,
   "id": "1a751ca9",
   "metadata": {},
   "outputs": [],
   "source": []
  },
  {
   "cell_type": "code",
   "execution_count": null,
   "id": "3e8fbacf",
   "metadata": {},
   "outputs": [],
   "source": []
  },
  {
   "cell_type": "code",
   "execution_count": null,
   "id": "1dc0b4be",
   "metadata": {},
   "outputs": [],
   "source": []
  },
  {
   "cell_type": "code",
   "execution_count": null,
   "id": "221651a1",
   "metadata": {},
   "outputs": [],
   "source": []
  }
 ],
 "metadata": {
  "kernelspec": {
   "display_name": "Python 3 (ipykernel)",
   "language": "python",
   "name": "python3"
  },
  "language_info": {
   "codemirror_mode": {
    "name": "ipython",
    "version": 3
   },
   "file_extension": ".py",
   "mimetype": "text/x-python",
   "name": "python",
   "nbconvert_exporter": "python",
   "pygments_lexer": "ipython3",
   "version": "3.11.5"
  }
 },
 "nbformat": 4,
 "nbformat_minor": 5
}
