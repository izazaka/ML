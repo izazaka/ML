{
 "cells": [
  {
   "cell_type": "markdown",
   "id": "00fd4389",
   "metadata": {},
   "source": [
    "# Librabries "
   ]
  },
  {
   "cell_type": "code",
   "execution_count": 1,
   "id": "6d9355bf",
   "metadata": {},
   "outputs": [],
   "source": [
    "%matplotlib inline\n",
    "\n",
    "import pandas as pd\n",
    "\n",
    "import numpy as np\n",
    "\n",
    "import matplotlib.pyplot as plt\n",
    "\n",
    "import seaborn as sns\n",
    "\n",
    "from sklearn.model_selection import train_test_split, cross_val_score\n",
    "\n",
    "from sklearn import metrics\n",
    "\n",
    "from sklearn.preprocessing import MinMaxScaler\n",
    "\n",
    "from sklearn.metrics import mean_squared_error, r2_score\n",
    "\n",
    "from sklearn.metrics import classification_report\n",
    "\n",
    "from sklearn.metrics import accuracy_score\n",
    "\n",
    "from sklearn.model_selection import cross_val_score"
   ]
  },
  {
   "cell_type": "markdown",
   "id": "a23f5879",
   "metadata": {},
   "source": []
  },
  {
   "cell_type": "markdown",
   "id": "3651eb2d",
   "metadata": {},
   "source": [
    "# EDA"
   ]
  },
  {
   "cell_type": "code",
   "execution_count": 2,
   "id": "d0a7ffb6",
   "metadata": {},
   "outputs": [],
   "source": [
    "bike = pd.read_csv(\"Seoul_Bike.csv\")"
   ]
  },
  {
   "cell_type": "markdown",
   "id": "928b9638",
   "metadata": {},
   "source": [
    "DOI\n",
    "10.24432/C5F62R\n",
    "License\n",
    "This dataset is licensed under a Creative Commons Attribution 4.0 International (CC BY 4.0) license.\n",
    "This allows for the sharing and adaptation of the datasets for any purpose, provided that the appropriate credit is given.\n",
    "\n",
    "https://archive.ics.uci.edu/dataset/560/seoul+bike+sharing+demand\n"
   ]
  },
  {
   "cell_type": "markdown",
   "id": "77c7c5cc",
   "metadata": {},
   "source": [
    "@misc{misc_seoul_bike_sharing_demand_560,\n",
    "  title        = {{Seoul Bike Sharing Demand}},\n",
    "  year         = {2020},\n",
    "  howpublished = {UCI Machine Learning Repository},\n",
    "  note         = {{DOI}: https://doi.org/10.24432/C5F62R}\n",
    "}"
   ]
  },
  {
   "cell_type": "code",
   "execution_count": 3,
   "id": "0a3114db",
   "metadata": {},
   "outputs": [
    {
     "data": {
      "text/html": [
       "<div>\n",
       "<style scoped>\n",
       "    .dataframe tbody tr th:only-of-type {\n",
       "        vertical-align: middle;\n",
       "    }\n",
       "\n",
       "    .dataframe tbody tr th {\n",
       "        vertical-align: top;\n",
       "    }\n",
       "\n",
       "    .dataframe thead th {\n",
       "        text-align: right;\n",
       "    }\n",
       "</style>\n",
       "<table border=\"1\" class=\"dataframe\">\n",
       "  <thead>\n",
       "    <tr style=\"text-align: right;\">\n",
       "      <th></th>\n",
       "      <th>Date</th>\n",
       "      <th>Rented Bike Count</th>\n",
       "      <th>Hour</th>\n",
       "      <th>Temperature(°C)</th>\n",
       "      <th>Humidity(%)</th>\n",
       "      <th>Wind speed (m/s)</th>\n",
       "      <th>Visibility (10m)</th>\n",
       "      <th>Dew point temperature(°C)</th>\n",
       "      <th>Solar Radiation (MJ/m2)</th>\n",
       "      <th>Rainfall(mm)</th>\n",
       "      <th>Snowfall (cm)</th>\n",
       "      <th>Seasons</th>\n",
       "      <th>Holiday</th>\n",
       "      <th>Functioning Day</th>\n",
       "    </tr>\n",
       "  </thead>\n",
       "  <tbody>\n",
       "    <tr>\n",
       "      <th>0</th>\n",
       "      <td>01/12/2017</td>\n",
       "      <td>254</td>\n",
       "      <td>0</td>\n",
       "      <td>-5.2</td>\n",
       "      <td>37</td>\n",
       "      <td>2.2</td>\n",
       "      <td>2000</td>\n",
       "      <td>-17.6</td>\n",
       "      <td>0.0</td>\n",
       "      <td>0.0</td>\n",
       "      <td>0.0</td>\n",
       "      <td>Winter</td>\n",
       "      <td>No Holiday</td>\n",
       "      <td>Yes</td>\n",
       "    </tr>\n",
       "    <tr>\n",
       "      <th>1</th>\n",
       "      <td>01/12/2017</td>\n",
       "      <td>204</td>\n",
       "      <td>1</td>\n",
       "      <td>-5.5</td>\n",
       "      <td>38</td>\n",
       "      <td>0.8</td>\n",
       "      <td>2000</td>\n",
       "      <td>-17.6</td>\n",
       "      <td>0.0</td>\n",
       "      <td>0.0</td>\n",
       "      <td>0.0</td>\n",
       "      <td>Winter</td>\n",
       "      <td>No Holiday</td>\n",
       "      <td>Yes</td>\n",
       "    </tr>\n",
       "    <tr>\n",
       "      <th>2</th>\n",
       "      <td>01/12/2017</td>\n",
       "      <td>173</td>\n",
       "      <td>2</td>\n",
       "      <td>-6.0</td>\n",
       "      <td>39</td>\n",
       "      <td>1.0</td>\n",
       "      <td>2000</td>\n",
       "      <td>-17.7</td>\n",
       "      <td>0.0</td>\n",
       "      <td>0.0</td>\n",
       "      <td>0.0</td>\n",
       "      <td>Winter</td>\n",
       "      <td>No Holiday</td>\n",
       "      <td>Yes</td>\n",
       "    </tr>\n",
       "  </tbody>\n",
       "</table>\n",
       "</div>"
      ],
      "text/plain": [
       "         Date  Rented Bike Count  Hour  Temperature(°C)  Humidity(%)  \\\n",
       "0  01/12/2017                254     0             -5.2           37   \n",
       "1  01/12/2017                204     1             -5.5           38   \n",
       "2  01/12/2017                173     2             -6.0           39   \n",
       "\n",
       "   Wind speed (m/s)  Visibility (10m)  Dew point temperature(°C)  \\\n",
       "0               2.2              2000                      -17.6   \n",
       "1               0.8              2000                      -17.6   \n",
       "2               1.0              2000                      -17.7   \n",
       "\n",
       "   Solar Radiation (MJ/m2)  Rainfall(mm)  Snowfall (cm) Seasons     Holiday  \\\n",
       "0                      0.0           0.0            0.0  Winter  No Holiday   \n",
       "1                      0.0           0.0            0.0  Winter  No Holiday   \n",
       "2                      0.0           0.0            0.0  Winter  No Holiday   \n",
       "\n",
       "  Functioning Day  \n",
       "0             Yes  \n",
       "1             Yes  \n",
       "2             Yes  "
      ]
     },
     "execution_count": 3,
     "metadata": {},
     "output_type": "execute_result"
    }
   ],
   "source": [
    "bike.head(3)"
   ]
  },
  {
   "cell_type": "code",
   "execution_count": 4,
   "id": "365bd25f",
   "metadata": {},
   "outputs": [
    {
     "data": {
      "text/html": [
       "<div>\n",
       "<style scoped>\n",
       "    .dataframe tbody tr th:only-of-type {\n",
       "        vertical-align: middle;\n",
       "    }\n",
       "\n",
       "    .dataframe tbody tr th {\n",
       "        vertical-align: top;\n",
       "    }\n",
       "\n",
       "    .dataframe thead th {\n",
       "        text-align: right;\n",
       "    }\n",
       "</style>\n",
       "<table border=\"1\" class=\"dataframe\">\n",
       "  <thead>\n",
       "    <tr style=\"text-align: right;\">\n",
       "      <th></th>\n",
       "      <th>Date</th>\n",
       "      <th>Rented Bike Count</th>\n",
       "      <th>Hour</th>\n",
       "      <th>Temperature(°C)</th>\n",
       "      <th>Humidity(%)</th>\n",
       "      <th>Wind speed (m/s)</th>\n",
       "      <th>Visibility (10m)</th>\n",
       "      <th>Dew point temperature(°C)</th>\n",
       "      <th>Solar Radiation (MJ/m2)</th>\n",
       "      <th>Rainfall(mm)</th>\n",
       "      <th>Snowfall (cm)</th>\n",
       "      <th>Seasons</th>\n",
       "      <th>Holiday</th>\n",
       "      <th>Functioning Day</th>\n",
       "    </tr>\n",
       "  </thead>\n",
       "  <tbody>\n",
       "    <tr>\n",
       "      <th>8757</th>\n",
       "      <td>30/11/2018</td>\n",
       "      <td>694</td>\n",
       "      <td>21</td>\n",
       "      <td>2.6</td>\n",
       "      <td>39</td>\n",
       "      <td>0.3</td>\n",
       "      <td>1968</td>\n",
       "      <td>-9.9</td>\n",
       "      <td>0.0</td>\n",
       "      <td>0.0</td>\n",
       "      <td>0.0</td>\n",
       "      <td>Autumn</td>\n",
       "      <td>No Holiday</td>\n",
       "      <td>Yes</td>\n",
       "    </tr>\n",
       "    <tr>\n",
       "      <th>8758</th>\n",
       "      <td>30/11/2018</td>\n",
       "      <td>712</td>\n",
       "      <td>22</td>\n",
       "      <td>2.1</td>\n",
       "      <td>41</td>\n",
       "      <td>1.0</td>\n",
       "      <td>1859</td>\n",
       "      <td>-9.8</td>\n",
       "      <td>0.0</td>\n",
       "      <td>0.0</td>\n",
       "      <td>0.0</td>\n",
       "      <td>Autumn</td>\n",
       "      <td>No Holiday</td>\n",
       "      <td>Yes</td>\n",
       "    </tr>\n",
       "    <tr>\n",
       "      <th>8759</th>\n",
       "      <td>30/11/2018</td>\n",
       "      <td>584</td>\n",
       "      <td>23</td>\n",
       "      <td>1.9</td>\n",
       "      <td>43</td>\n",
       "      <td>1.3</td>\n",
       "      <td>1909</td>\n",
       "      <td>-9.3</td>\n",
       "      <td>0.0</td>\n",
       "      <td>0.0</td>\n",
       "      <td>0.0</td>\n",
       "      <td>Autumn</td>\n",
       "      <td>No Holiday</td>\n",
       "      <td>Yes</td>\n",
       "    </tr>\n",
       "  </tbody>\n",
       "</table>\n",
       "</div>"
      ],
      "text/plain": [
       "            Date  Rented Bike Count  Hour  Temperature(°C)  Humidity(%)  \\\n",
       "8757  30/11/2018                694    21              2.6           39   \n",
       "8758  30/11/2018                712    22              2.1           41   \n",
       "8759  30/11/2018                584    23              1.9           43   \n",
       "\n",
       "      Wind speed (m/s)  Visibility (10m)  Dew point temperature(°C)  \\\n",
       "8757               0.3              1968                       -9.9   \n",
       "8758               1.0              1859                       -9.8   \n",
       "8759               1.3              1909                       -9.3   \n",
       "\n",
       "      Solar Radiation (MJ/m2)  Rainfall(mm)  Snowfall (cm) Seasons  \\\n",
       "8757                      0.0           0.0            0.0  Autumn   \n",
       "8758                      0.0           0.0            0.0  Autumn   \n",
       "8759                      0.0           0.0            0.0  Autumn   \n",
       "\n",
       "         Holiday Functioning Day  \n",
       "8757  No Holiday             Yes  \n",
       "8758  No Holiday             Yes  \n",
       "8759  No Holiday             Yes  "
      ]
     },
     "execution_count": 4,
     "metadata": {},
     "output_type": "execute_result"
    }
   ],
   "source": [
    "bike.tail(3)"
   ]
  },
  {
   "cell_type": "code",
   "execution_count": 5,
   "id": "ce60c0ee",
   "metadata": {},
   "outputs": [
    {
     "data": {
      "text/plain": [
       "(8760, 14)"
      ]
     },
     "execution_count": 5,
     "metadata": {},
     "output_type": "execute_result"
    }
   ],
   "source": [
    "bike.shape"
   ]
  },
  {
   "cell_type": "code",
   "execution_count": 6,
   "id": "10c051a7",
   "metadata": {},
   "outputs": [
    {
     "data": {
      "text/html": [
       "<div>\n",
       "<style scoped>\n",
       "    .dataframe tbody tr th:only-of-type {\n",
       "        vertical-align: middle;\n",
       "    }\n",
       "\n",
       "    .dataframe tbody tr th {\n",
       "        vertical-align: top;\n",
       "    }\n",
       "\n",
       "    .dataframe thead th {\n",
       "        text-align: right;\n",
       "    }\n",
       "</style>\n",
       "<table border=\"1\" class=\"dataframe\">\n",
       "  <thead>\n",
       "    <tr style=\"text-align: right;\">\n",
       "      <th></th>\n",
       "      <th>Rented Bike Count</th>\n",
       "      <th>Hour</th>\n",
       "      <th>Temperature(°C)</th>\n",
       "      <th>Humidity(%)</th>\n",
       "      <th>Wind speed (m/s)</th>\n",
       "      <th>Visibility (10m)</th>\n",
       "      <th>Dew point temperature(°C)</th>\n",
       "      <th>Solar Radiation (MJ/m2)</th>\n",
       "      <th>Rainfall(mm)</th>\n",
       "      <th>Snowfall (cm)</th>\n",
       "    </tr>\n",
       "  </thead>\n",
       "  <tbody>\n",
       "    <tr>\n",
       "      <th>count</th>\n",
       "      <td>8760.000000</td>\n",
       "      <td>8760.000000</td>\n",
       "      <td>8760.000000</td>\n",
       "      <td>8760.000000</td>\n",
       "      <td>8760.000000</td>\n",
       "      <td>8760.000000</td>\n",
       "      <td>8760.000000</td>\n",
       "      <td>8760.000000</td>\n",
       "      <td>8760.000000</td>\n",
       "      <td>8760.000000</td>\n",
       "    </tr>\n",
       "    <tr>\n",
       "      <th>mean</th>\n",
       "      <td>704.602055</td>\n",
       "      <td>11.500000</td>\n",
       "      <td>12.882922</td>\n",
       "      <td>58.226256</td>\n",
       "      <td>1.724909</td>\n",
       "      <td>1436.825799</td>\n",
       "      <td>4.073813</td>\n",
       "      <td>0.569111</td>\n",
       "      <td>0.148687</td>\n",
       "      <td>0.075068</td>\n",
       "    </tr>\n",
       "    <tr>\n",
       "      <th>std</th>\n",
       "      <td>644.997468</td>\n",
       "      <td>6.922582</td>\n",
       "      <td>11.944825</td>\n",
       "      <td>20.362413</td>\n",
       "      <td>1.036300</td>\n",
       "      <td>608.298712</td>\n",
       "      <td>13.060369</td>\n",
       "      <td>0.868746</td>\n",
       "      <td>1.128193</td>\n",
       "      <td>0.436746</td>\n",
       "    </tr>\n",
       "    <tr>\n",
       "      <th>min</th>\n",
       "      <td>0.000000</td>\n",
       "      <td>0.000000</td>\n",
       "      <td>-17.800000</td>\n",
       "      <td>0.000000</td>\n",
       "      <td>0.000000</td>\n",
       "      <td>27.000000</td>\n",
       "      <td>-30.600000</td>\n",
       "      <td>0.000000</td>\n",
       "      <td>0.000000</td>\n",
       "      <td>0.000000</td>\n",
       "    </tr>\n",
       "    <tr>\n",
       "      <th>25%</th>\n",
       "      <td>191.000000</td>\n",
       "      <td>5.750000</td>\n",
       "      <td>3.500000</td>\n",
       "      <td>42.000000</td>\n",
       "      <td>0.900000</td>\n",
       "      <td>940.000000</td>\n",
       "      <td>-4.700000</td>\n",
       "      <td>0.000000</td>\n",
       "      <td>0.000000</td>\n",
       "      <td>0.000000</td>\n",
       "    </tr>\n",
       "    <tr>\n",
       "      <th>50%</th>\n",
       "      <td>504.500000</td>\n",
       "      <td>11.500000</td>\n",
       "      <td>13.700000</td>\n",
       "      <td>57.000000</td>\n",
       "      <td>1.500000</td>\n",
       "      <td>1698.000000</td>\n",
       "      <td>5.100000</td>\n",
       "      <td>0.010000</td>\n",
       "      <td>0.000000</td>\n",
       "      <td>0.000000</td>\n",
       "    </tr>\n",
       "    <tr>\n",
       "      <th>75%</th>\n",
       "      <td>1065.250000</td>\n",
       "      <td>17.250000</td>\n",
       "      <td>22.500000</td>\n",
       "      <td>74.000000</td>\n",
       "      <td>2.300000</td>\n",
       "      <td>2000.000000</td>\n",
       "      <td>14.800000</td>\n",
       "      <td>0.930000</td>\n",
       "      <td>0.000000</td>\n",
       "      <td>0.000000</td>\n",
       "    </tr>\n",
       "    <tr>\n",
       "      <th>max</th>\n",
       "      <td>3556.000000</td>\n",
       "      <td>23.000000</td>\n",
       "      <td>39.400000</td>\n",
       "      <td>98.000000</td>\n",
       "      <td>7.400000</td>\n",
       "      <td>2000.000000</td>\n",
       "      <td>27.200000</td>\n",
       "      <td>3.520000</td>\n",
       "      <td>35.000000</td>\n",
       "      <td>8.800000</td>\n",
       "    </tr>\n",
       "  </tbody>\n",
       "</table>\n",
       "</div>"
      ],
      "text/plain": [
       "       Rented Bike Count         Hour  Temperature(°C)  Humidity(%)  \\\n",
       "count        8760.000000  8760.000000      8760.000000  8760.000000   \n",
       "mean          704.602055    11.500000        12.882922    58.226256   \n",
       "std           644.997468     6.922582        11.944825    20.362413   \n",
       "min             0.000000     0.000000       -17.800000     0.000000   \n",
       "25%           191.000000     5.750000         3.500000    42.000000   \n",
       "50%           504.500000    11.500000        13.700000    57.000000   \n",
       "75%          1065.250000    17.250000        22.500000    74.000000   \n",
       "max          3556.000000    23.000000        39.400000    98.000000   \n",
       "\n",
       "       Wind speed (m/s)  Visibility (10m)  Dew point temperature(°C)  \\\n",
       "count       8760.000000       8760.000000                8760.000000   \n",
       "mean           1.724909       1436.825799                   4.073813   \n",
       "std            1.036300        608.298712                  13.060369   \n",
       "min            0.000000         27.000000                 -30.600000   \n",
       "25%            0.900000        940.000000                  -4.700000   \n",
       "50%            1.500000       1698.000000                   5.100000   \n",
       "75%            2.300000       2000.000000                  14.800000   \n",
       "max            7.400000       2000.000000                  27.200000   \n",
       "\n",
       "       Solar Radiation (MJ/m2)  Rainfall(mm)  Snowfall (cm)  \n",
       "count              8760.000000   8760.000000    8760.000000  \n",
       "mean                  0.569111      0.148687       0.075068  \n",
       "std                   0.868746      1.128193       0.436746  \n",
       "min                   0.000000      0.000000       0.000000  \n",
       "25%                   0.000000      0.000000       0.000000  \n",
       "50%                   0.010000      0.000000       0.000000  \n",
       "75%                   0.930000      0.000000       0.000000  \n",
       "max                   3.520000     35.000000       8.800000  "
      ]
     },
     "execution_count": 6,
     "metadata": {},
     "output_type": "execute_result"
    }
   ],
   "source": [
    "bike.describe()"
   ]
  },
  {
   "cell_type": "code",
   "execution_count": 7,
   "id": "1525f72d",
   "metadata": {},
   "outputs": [
    {
     "name": "stdout",
     "output_type": "stream",
     "text": [
      "<class 'pandas.core.frame.DataFrame'>\n",
      "RangeIndex: 8760 entries, 0 to 8759\n",
      "Data columns (total 14 columns):\n",
      " #   Column                     Non-Null Count  Dtype  \n",
      "---  ------                     --------------  -----  \n",
      " 0   Date                       8760 non-null   object \n",
      " 1   Rented Bike Count          8760 non-null   int64  \n",
      " 2   Hour                       8760 non-null   int64  \n",
      " 3   Temperature(°C)            8760 non-null   float64\n",
      " 4   Humidity(%)                8760 non-null   int64  \n",
      " 5   Wind speed (m/s)           8760 non-null   float64\n",
      " 6   Visibility (10m)           8760 non-null   int64  \n",
      " 7   Dew point temperature(°C)  8760 non-null   float64\n",
      " 8   Solar Radiation (MJ/m2)    8760 non-null   float64\n",
      " 9   Rainfall(mm)               8760 non-null   float64\n",
      " 10  Snowfall (cm)              8760 non-null   float64\n",
      " 11  Seasons                    8760 non-null   object \n",
      " 12  Holiday                    8760 non-null   object \n",
      " 13  Functioning Day            8760 non-null   object \n",
      "dtypes: float64(6), int64(4), object(4)\n",
      "memory usage: 958.3+ KB\n"
     ]
    }
   ],
   "source": [
    "bike.info()"
   ]
  },
  {
   "cell_type": "markdown",
   "id": "d554ad98",
   "metadata": {},
   "source": [
    "## Changing from categorical to numerical"
   ]
  },
  {
   "cell_type": "code",
   "execution_count": 8,
   "id": "49481691",
   "metadata": {},
   "outputs": [
    {
     "data": {
      "text/plain": [
       "array(['Winter', 'Spring', 'Summer', 'Autumn'], dtype=object)"
      ]
     },
     "execution_count": 8,
     "metadata": {},
     "output_type": "execute_result"
    }
   ],
   "source": [
    "bike[\"Seasons\"].unique()"
   ]
  },
  {
   "cell_type": "code",
   "execution_count": 9,
   "id": "71933fa1",
   "metadata": {},
   "outputs": [
    {
     "data": {
      "text/plain": [
       "array(['No Holiday', 'Holiday'], dtype=object)"
      ]
     },
     "execution_count": 9,
     "metadata": {},
     "output_type": "execute_result"
    }
   ],
   "source": [
    "bike[\"Holiday\"].unique()"
   ]
  },
  {
   "cell_type": "code",
   "execution_count": 10,
   "id": "9cddce80",
   "metadata": {},
   "outputs": [
    {
     "data": {
      "text/plain": [
       "array(['Yes', 'No'], dtype=object)"
      ]
     },
     "execution_count": 10,
     "metadata": {},
     "output_type": "execute_result"
    }
   ],
   "source": [
    "bike[\"Functioning Day\"].unique()"
   ]
  },
  {
   "cell_type": "code",
   "execution_count": 11,
   "id": "5b553529",
   "metadata": {},
   "outputs": [],
   "source": [
    "bike['Seasons'].replace('Winter', 0, inplace = True)\n",
    "bike['Seasons'].replace('Spring', 1, inplace = True)\n",
    "bike['Seasons'].replace('Summer', 2, inplace = True)\n",
    "bike['Seasons'].replace('Autumn', 3, inplace = True)"
   ]
  },
  {
   "cell_type": "code",
   "execution_count": 12,
   "id": "9b709716",
   "metadata": {},
   "outputs": [
    {
     "data": {
      "text/plain": [
       "8758    3\n",
       "8759    3\n",
       "Name: Seasons, dtype: int64"
      ]
     },
     "execution_count": 12,
     "metadata": {},
     "output_type": "execute_result"
    }
   ],
   "source": [
    "bike['Seasons'].tail(2)"
   ]
  },
  {
   "cell_type": "code",
   "execution_count": 13,
   "id": "4a633542",
   "metadata": {},
   "outputs": [],
   "source": [
    "bike[\"Holiday\"].replace('No Holiday', 0, inplace = True)\n",
    "bike[\"Holiday\"].replace('Holiday', 1, inplace = True)"
   ]
  },
  {
   "cell_type": "code",
   "execution_count": 14,
   "id": "168799a7",
   "metadata": {},
   "outputs": [
    {
     "data": {
      "text/plain": [
       "8758    0\n",
       "8759    0\n",
       "Name: Holiday, dtype: int64"
      ]
     },
     "execution_count": 14,
     "metadata": {},
     "output_type": "execute_result"
    }
   ],
   "source": [
    "bike[\"Holiday\"].tail(2)"
   ]
  },
  {
   "cell_type": "code",
   "execution_count": 15,
   "id": "2d461b05",
   "metadata": {},
   "outputs": [],
   "source": [
    "bike[\"Functioning Day\"].replace('No', 0, inplace = True)\n",
    "bike[\"Functioning Day\"].replace('Yes', 1, inplace = True)"
   ]
  },
  {
   "cell_type": "code",
   "execution_count": 16,
   "id": "de4649aa",
   "metadata": {},
   "outputs": [
    {
     "data": {
      "text/plain": [
       "8758    1\n",
       "8759    1\n",
       "Name: Functioning Day, dtype: int64"
      ]
     },
     "execution_count": 16,
     "metadata": {},
     "output_type": "execute_result"
    }
   ],
   "source": [
    "bike[\"Functioning Day\"].tail(2)"
   ]
  },
  {
   "cell_type": "markdown",
   "id": "3f5ded7f",
   "metadata": {},
   "source": []
  },
  {
   "cell_type": "markdown",
   "id": "9b8617ba",
   "metadata": {},
   "source": [
    "# Graphics "
   ]
  },
  {
   "cell_type": "markdown",
   "id": "9351fb70",
   "metadata": {},
   "source": [
    "sns.histplot(data = bike, y = \"Rented Bike Count\", x = \"Hour\")"
   ]
  },
  {
   "cell_type": "markdown",
   "id": "40506421",
   "metadata": {},
   "source": [
    "sns.histplot(data = bike, x = \"Holiday\")"
   ]
  },
  {
   "cell_type": "markdown",
   "id": "f9eac96b",
   "metadata": {},
   "source": []
  },
  {
   "cell_type": "markdown",
   "id": "8d5096c3",
   "metadata": {},
   "source": [
    "sns.histplot(data = bike, x = \"Functioning Day\")"
   ]
  },
  {
   "cell_type": "markdown",
   "id": "0dbb515f",
   "metadata": {},
   "source": []
  },
  {
   "cell_type": "markdown",
   "id": "6f2636d2",
   "metadata": {
    "scrolled": false
   },
   "source": [
    "sns.histplot(data = bike, x = \"Rented Bike Count\")"
   ]
  },
  {
   "cell_type": "markdown",
   "id": "6777083c",
   "metadata": {},
   "source": [
    "sns.histplot(data = bike, x = \"Temperature(°C)\")"
   ]
  },
  {
   "cell_type": "markdown",
   "id": "c23cff8c",
   "metadata": {},
   "source": [
    "sns.histplot(data = bike, x = \"Humidity(%)\")\n",
    "\n"
   ]
  },
  {
   "cell_type": "markdown",
   "id": "410afb81",
   "metadata": {},
   "source": [
    "sns.histplot(data = bike, x = \"Wind speed (m/s)\")\n",
    "\n"
   ]
  },
  {
   "cell_type": "markdown",
   "id": "115e78dc",
   "metadata": {},
   "source": [
    "sns.histplot(data = bike, x = \"Visibility (10m)\")"
   ]
  },
  {
   "cell_type": "markdown",
   "id": "ed761705",
   "metadata": {},
   "source": [
    "sns.histplot(data = bike, x = \"Dew point temperature(°C)\")"
   ]
  },
  {
   "cell_type": "markdown",
   "id": "9d04a1c6",
   "metadata": {},
   "source": [
    "sns.histplot(data = bike, x = \"Solar Radiation (MJ/m2)\")\n"
   ]
  },
  {
   "cell_type": "markdown",
   "id": "a256f7bd",
   "metadata": {},
   "source": [
    "sns.histplot(data = bike, x = \"Rainfall(mm)\")"
   ]
  },
  {
   "cell_type": "markdown",
   "id": "39e3aac7",
   "metadata": {},
   "source": [
    "sns.histplot(data = bike, x = \"Snowfall (cm)\")"
   ]
  },
  {
   "cell_type": "markdown",
   "id": "f8932904",
   "metadata": {},
   "source": [
    "sns.histplot(data = bike, x = \"Seasons\")"
   ]
  },
  {
   "cell_type": "markdown",
   "id": "ca143f37",
   "metadata": {},
   "source": [
    "The bikes have been used equally throughout the seasons "
   ]
  },
  {
   "cell_type": "markdown",
   "id": "bd615d3f",
   "metadata": {},
   "source": [
    "The seasons have the same amount of observations but the number of rented bikes are different between seasons"
   ]
  },
  {
   "cell_type": "markdown",
   "id": "13c11992",
   "metadata": {},
   "source": [
    "bike.head(1)"
   ]
  },
  {
   "cell_type": "markdown",
   "id": "a8d0eeab",
   "metadata": {},
   "source": [
    "bike.plot(x = \"Temperature(°C)\", y = \"Rented Bike Count\", style = \"*\")\n",
    "plt.title(\"Rented Bike Count vs Temperature(°C)\")\n",
    "plt.xlabel(\"Temperature(°C)\")\n",
    "plt.ylabel(\"Rented Bike Count\")\n",
    "plt.show()"
   ]
  },
  {
   "cell_type": "markdown",
   "id": "314a5388",
   "metadata": {},
   "source": [
    "bike.plot(x = \"Hour\", y = \"Rented Bike Count\", style = \"*\")\n",
    "plt.title(\"Rented Bike Count vs Hour\")\n",
    "plt.xlabel(\"Hour\")\n",
    "plt.ylabel(\"Rented Bike Count\")\n",
    "plt.show()"
   ]
  },
  {
   "cell_type": "markdown",
   "id": "2de82fe9",
   "metadata": {},
   "source": [
    "sns.histplot(data = bike, x = \"Seasons\", y = \"Rented Bike Count\")"
   ]
  },
  {
   "cell_type": "markdown",
   "id": "5d391499",
   "metadata": {},
   "source": [
    "('Winter', 0, inplace = True)\n",
    "('Spring', 1, inplace = True)\n",
    "('Summer', 2, inplace = True)\n",
    "('Autumn', 3, inplace = True)"
   ]
  },
  {
   "cell_type": "markdown",
   "id": "d00373a2",
   "metadata": {},
   "source": [
    "sns.histplot(data = bike, x = \"Seasons\", y = \"Temperature(°C)\")"
   ]
  },
  {
   "cell_type": "markdown",
   "id": "c1216476",
   "metadata": {},
   "source": [
    "sns.boxplot(data = bike[\"Rented Bike Count\"])"
   ]
  },
  {
   "cell_type": "markdown",
   "id": "b7981c99",
   "metadata": {},
   "source": [
    "sns.boxplot(data = bike[\"Temperature(°C)\"])"
   ]
  },
  {
   "cell_type": "markdown",
   "id": "b2977155",
   "metadata": {},
   "source": [
    " sns.boxplot(data = bike[\"Visibility (10m)\"])"
   ]
  },
  {
   "cell_type": "markdown",
   "id": "2e489789",
   "metadata": {},
   "source": []
  },
  {
   "cell_type": "markdown",
   "id": "82dc2cc5",
   "metadata": {},
   "source": [
    "# Correlation"
   ]
  },
  {
   "cell_type": "code",
   "execution_count": 17,
   "id": "4955b771",
   "metadata": {},
   "outputs": [
    {
     "data": {
      "text/html": [
       "<div>\n",
       "<style scoped>\n",
       "    .dataframe tbody tr th:only-of-type {\n",
       "        vertical-align: middle;\n",
       "    }\n",
       "\n",
       "    .dataframe tbody tr th {\n",
       "        vertical-align: top;\n",
       "    }\n",
       "\n",
       "    .dataframe thead th {\n",
       "        text-align: right;\n",
       "    }\n",
       "</style>\n",
       "<table border=\"1\" class=\"dataframe\">\n",
       "  <thead>\n",
       "    <tr style=\"text-align: right;\">\n",
       "      <th></th>\n",
       "      <th>Date</th>\n",
       "      <th>Rented Bike Count</th>\n",
       "      <th>Hour</th>\n",
       "      <th>Temperature(°C)</th>\n",
       "      <th>Humidity(%)</th>\n",
       "      <th>Wind speed (m/s)</th>\n",
       "      <th>Visibility (10m)</th>\n",
       "      <th>Dew point temperature(°C)</th>\n",
       "      <th>Solar Radiation (MJ/m2)</th>\n",
       "      <th>Rainfall(mm)</th>\n",
       "      <th>Snowfall (cm)</th>\n",
       "      <th>Seasons</th>\n",
       "      <th>Holiday</th>\n",
       "      <th>Functioning Day</th>\n",
       "    </tr>\n",
       "  </thead>\n",
       "  <tbody>\n",
       "    <tr>\n",
       "      <th>0</th>\n",
       "      <td>01/12/2017</td>\n",
       "      <td>254</td>\n",
       "      <td>0</td>\n",
       "      <td>-5.2</td>\n",
       "      <td>37</td>\n",
       "      <td>2.2</td>\n",
       "      <td>2000</td>\n",
       "      <td>-17.6</td>\n",
       "      <td>0.0</td>\n",
       "      <td>0.0</td>\n",
       "      <td>0.0</td>\n",
       "      <td>0</td>\n",
       "      <td>0</td>\n",
       "      <td>1</td>\n",
       "    </tr>\n",
       "    <tr>\n",
       "      <th>1</th>\n",
       "      <td>01/12/2017</td>\n",
       "      <td>204</td>\n",
       "      <td>1</td>\n",
       "      <td>-5.5</td>\n",
       "      <td>38</td>\n",
       "      <td>0.8</td>\n",
       "      <td>2000</td>\n",
       "      <td>-17.6</td>\n",
       "      <td>0.0</td>\n",
       "      <td>0.0</td>\n",
       "      <td>0.0</td>\n",
       "      <td>0</td>\n",
       "      <td>0</td>\n",
       "      <td>1</td>\n",
       "    </tr>\n",
       "    <tr>\n",
       "      <th>2</th>\n",
       "      <td>01/12/2017</td>\n",
       "      <td>173</td>\n",
       "      <td>2</td>\n",
       "      <td>-6.0</td>\n",
       "      <td>39</td>\n",
       "      <td>1.0</td>\n",
       "      <td>2000</td>\n",
       "      <td>-17.7</td>\n",
       "      <td>0.0</td>\n",
       "      <td>0.0</td>\n",
       "      <td>0.0</td>\n",
       "      <td>0</td>\n",
       "      <td>0</td>\n",
       "      <td>1</td>\n",
       "    </tr>\n",
       "  </tbody>\n",
       "</table>\n",
       "</div>"
      ],
      "text/plain": [
       "         Date  Rented Bike Count  Hour  Temperature(°C)  Humidity(%)  \\\n",
       "0  01/12/2017                254     0             -5.2           37   \n",
       "1  01/12/2017                204     1             -5.5           38   \n",
       "2  01/12/2017                173     2             -6.0           39   \n",
       "\n",
       "   Wind speed (m/s)  Visibility (10m)  Dew point temperature(°C)  \\\n",
       "0               2.2              2000                      -17.6   \n",
       "1               0.8              2000                      -17.6   \n",
       "2               1.0              2000                      -17.7   \n",
       "\n",
       "   Solar Radiation (MJ/m2)  Rainfall(mm)  Snowfall (cm)  Seasons  Holiday  \\\n",
       "0                      0.0           0.0            0.0        0        0   \n",
       "1                      0.0           0.0            0.0        0        0   \n",
       "2                      0.0           0.0            0.0        0        0   \n",
       "\n",
       "   Functioning Day  \n",
       "0                1  \n",
       "1                1  \n",
       "2                1  "
      ]
     },
     "execution_count": 17,
     "metadata": {},
     "output_type": "execute_result"
    }
   ],
   "source": [
    "bike.head(3)"
   ]
  },
  {
   "cell_type": "code",
   "execution_count": 18,
   "id": "a6554f4e",
   "metadata": {},
   "outputs": [],
   "source": [
    "bike_d = bike.drop([\"Date\"], axis = 1)"
   ]
  },
  {
   "cell_type": "code",
   "execution_count": 19,
   "id": "53cd2778",
   "metadata": {},
   "outputs": [
    {
     "data": {
      "text/html": [
       "<div>\n",
       "<style scoped>\n",
       "    .dataframe tbody tr th:only-of-type {\n",
       "        vertical-align: middle;\n",
       "    }\n",
       "\n",
       "    .dataframe tbody tr th {\n",
       "        vertical-align: top;\n",
       "    }\n",
       "\n",
       "    .dataframe thead th {\n",
       "        text-align: right;\n",
       "    }\n",
       "</style>\n",
       "<table border=\"1\" class=\"dataframe\">\n",
       "  <thead>\n",
       "    <tr style=\"text-align: right;\">\n",
       "      <th></th>\n",
       "      <th>Rented Bike Count</th>\n",
       "      <th>Hour</th>\n",
       "      <th>Temperature(°C)</th>\n",
       "      <th>Humidity(%)</th>\n",
       "      <th>Wind speed (m/s)</th>\n",
       "      <th>Visibility (10m)</th>\n",
       "      <th>Dew point temperature(°C)</th>\n",
       "      <th>Solar Radiation (MJ/m2)</th>\n",
       "      <th>Rainfall(mm)</th>\n",
       "      <th>Snowfall (cm)</th>\n",
       "      <th>Seasons</th>\n",
       "      <th>Holiday</th>\n",
       "      <th>Functioning Day</th>\n",
       "    </tr>\n",
       "  </thead>\n",
       "  <tbody>\n",
       "    <tr>\n",
       "      <th>0</th>\n",
       "      <td>254</td>\n",
       "      <td>0</td>\n",
       "      <td>-5.2</td>\n",
       "      <td>37</td>\n",
       "      <td>2.2</td>\n",
       "      <td>2000</td>\n",
       "      <td>-17.6</td>\n",
       "      <td>0.0</td>\n",
       "      <td>0.0</td>\n",
       "      <td>0.0</td>\n",
       "      <td>0</td>\n",
       "      <td>0</td>\n",
       "      <td>1</td>\n",
       "    </tr>\n",
       "    <tr>\n",
       "      <th>1</th>\n",
       "      <td>204</td>\n",
       "      <td>1</td>\n",
       "      <td>-5.5</td>\n",
       "      <td>38</td>\n",
       "      <td>0.8</td>\n",
       "      <td>2000</td>\n",
       "      <td>-17.6</td>\n",
       "      <td>0.0</td>\n",
       "      <td>0.0</td>\n",
       "      <td>0.0</td>\n",
       "      <td>0</td>\n",
       "      <td>0</td>\n",
       "      <td>1</td>\n",
       "    </tr>\n",
       "    <tr>\n",
       "      <th>2</th>\n",
       "      <td>173</td>\n",
       "      <td>2</td>\n",
       "      <td>-6.0</td>\n",
       "      <td>39</td>\n",
       "      <td>1.0</td>\n",
       "      <td>2000</td>\n",
       "      <td>-17.7</td>\n",
       "      <td>0.0</td>\n",
       "      <td>0.0</td>\n",
       "      <td>0.0</td>\n",
       "      <td>0</td>\n",
       "      <td>0</td>\n",
       "      <td>1</td>\n",
       "    </tr>\n",
       "  </tbody>\n",
       "</table>\n",
       "</div>"
      ],
      "text/plain": [
       "   Rented Bike Count  Hour  Temperature(°C)  Humidity(%)  Wind speed (m/s)  \\\n",
       "0                254     0             -5.2           37               2.2   \n",
       "1                204     1             -5.5           38               0.8   \n",
       "2                173     2             -6.0           39               1.0   \n",
       "\n",
       "   Visibility (10m)  Dew point temperature(°C)  Solar Radiation (MJ/m2)  \\\n",
       "0              2000                      -17.6                      0.0   \n",
       "1              2000                      -17.6                      0.0   \n",
       "2              2000                      -17.7                      0.0   \n",
       "\n",
       "   Rainfall(mm)  Snowfall (cm)  Seasons  Holiday  Functioning Day  \n",
       "0           0.0            0.0        0        0                1  \n",
       "1           0.0            0.0        0        0                1  \n",
       "2           0.0            0.0        0        0                1  "
      ]
     },
     "execution_count": 19,
     "metadata": {},
     "output_type": "execute_result"
    }
   ],
   "source": [
    "bike_d.head(3)"
   ]
  },
  {
   "cell_type": "markdown",
   "id": "fd930058",
   "metadata": {},
   "source": [
    "from statsmodels.stats.outliers_influence import variance_inflation_factor\n",
    "\n",
    "vif_data = pd.DataFrame()\n",
    "vif_data[\"Variable\"] = bike_d.columns\n",
    "vif_data[\"VIF\"] = [variance_inflation_factor(bike_d.values, i) for i in range(bike_d.shape[1])]\n",
    "print(vif_data)"
   ]
  },
  {
   "cell_type": "markdown",
   "id": "73424f75",
   "metadata": {},
   "source": [
    "corr_matrix = np.corrcoef(bike_d, rowvar = False)\n",
    "\n",
    "sns.heatmap(corr_matrix, annot = True, cmap = 'coolwarm', fmt = '.2f', \n",
    "            xticklabels = range(bike_d.shape[1]), yticklabels = range(bike_d.shape[1]))\n",
    "plt.title(\"Feature Correlation Matrix\")\n",
    "plt.show()"
   ]
  },
  {
   "cell_type": "markdown",
   "id": "47b0ce43",
   "metadata": {},
   "source": [
    "The highest correlations are between: \n",
    "- Rented Bike Count & Temperature(°C) = 0.54 (0 & 2)\n",
    "- Temperature(°C) & Dew point temperature(°C) = 0.91 (2 & 6)\n",
    "- Temperature(°C) & Seasons = 0.59 (2 & 10)\n",
    "- Humidity(%) & Visibility (10m) = 0.54 (3 & 5)\n",
    "- Humidity(%) & Dew point temperature(°C) = 0.54 (3 & 6)\n",
    "- Dew point temperature(°C) & Seasons = 0.58 (6 & 10)"
   ]
  },
  {
   "cell_type": "markdown",
   "id": "87481ad6",
   "metadata": {},
   "source": [
    "import numpy as np\n",
    "\n",
    "eigenvalues, _ = np.linalg.eig(corr_matrix)\n",
    "print(\"Eigenvalues:\", eigenvalues)\n"
   ]
  },
  {
   "cell_type": "markdown",
   "id": "143afedb",
   "metadata": {},
   "source": [
    "condition_number = np.sqrt(np.max(eigenvalues) / np.min(eigenvalues))\n",
    "print(\"Condition Number:\", condition_number)\n"
   ]
  },
  {
   "cell_type": "markdown",
   "id": "ec3619ef",
   "metadata": {},
   "source": [
    "def find_highly_correlated_vars(corr_matrix, threshold = 0.5):\n",
    "    if isinstance(corr_matrix, pd.DataFrame):\n",
    "        corr_matrix = corr_matrix.values\n",
    "    rows, cols = np.where(np.abs(corr_matrix) > threshold)\n",
    "    unique_pairs = set((min(r, c), max(r, c)) for r, c in zip(rows, cols) if r != c)\n",
    "    return list(unique_pairs)\n",
    "\n",
    "corr_matrix = bike_d.corr()\n",
    "highly_corr_vars = find_highly_correlated_vars(corr_matrix, threshold=0.5)\n",
    "\n",
    "print(\"Pairs of highly correlated variables:\", highly_corr_vars)"
   ]
  },
  {
   "cell_type": "markdown",
   "id": "91d3ebe6",
   "metadata": {},
   "source": [
    "bike_d.head(1)"
   ]
  },
  {
   "cell_type": "markdown",
   "id": "60ae7717",
   "metadata": {
    "scrolled": false
   },
   "source": [
    "sns.pairplot(bike[[\"Rented Bike Count\", \"Temperature(°C)\"]])\n",
    "\n",
    "#sns.pairplot(bike[[\"Rented Bike Count\", \"Seasons\"]])\n",
    "\n",
    "sns.pairplot(bike[[\"Temperature(°C)\", \"Dew point temperature(°C)\"]])\n",
    "\n",
    "sns.pairplot(bike[[\"Temperature(°C)\", \"Seasons\"]])\n",
    "\n",
    "sns.pairplot(bike[[\"Humidity(%)\", \"Visibility (10m)\"]])\n",
    "\n",
    "sns.pairplot(bike[[\"Humidity(%)\", \"Dew point temperature(°C)\"]])\n",
    "\n",
    "sns.pairplot(bike[[\"Dew point temperature(°C)\", \"Seasons\"]])"
   ]
  },
  {
   "cell_type": "markdown",
   "id": "686a6bcf",
   "metadata": {},
   "source": [
    "Rented Bike Count & Temperature(°C) = 0.54 (0 & 2)\n",
    "\n",
    "Temperature(°C) & Dew point temperature(°C) = 0.91 (2 & 6)\n",
    "\n",
    "Temperature(°C) & Seasons = 0.59 (2 & 10)\n",
    "\n",
    "Humidity(%) & Visibility (10m) = 0.54 (3 & 5)\n",
    "\n",
    "Humidity(%) & Dew point temperature(°C) = 0.54 (3 & 6)\n",
    "Dew point temperature(°C) & Seasons = 0.58 (6 & 10"
   ]
  },
  {
   "cell_type": "markdown",
   "id": "f341a7b9",
   "metadata": {},
   "source": [
    "Multicollinearity"
   ]
  },
  {
   "cell_type": "markdown",
   "id": "ea8fb6a3",
   "metadata": {},
   "source": [
    "X = bike_d.iloc[:, 1:]  # All rows, columns from index 1 onwards (excluding the first column)\n",
    "y = bike_d.iloc[:, 0]   # All rows, only the first column"
   ]
  },
  {
   "cell_type": "code",
   "execution_count": 20,
   "id": "2e4a3862",
   "metadata": {},
   "outputs": [],
   "source": [
    "bike_array = bike_d.values"
   ]
  },
  {
   "cell_type": "code",
   "execution_count": 21,
   "id": "031a6c1e",
   "metadata": {},
   "outputs": [],
   "source": [
    "X = bike_array[:, 1:]\n",
    "\n",
    "y = bike_array[:, 0]"
   ]
  },
  {
   "cell_type": "code",
   "execution_count": 22,
   "id": "68998cc4",
   "metadata": {},
   "outputs": [
    {
     "data": {
      "text/plain": [
       "array([254., 204., 173., ..., 694., 712., 584.])"
      ]
     },
     "execution_count": 22,
     "metadata": {},
     "output_type": "execute_result"
    }
   ],
   "source": [
    "y"
   ]
  },
  {
   "cell_type": "code",
   "execution_count": 23,
   "id": "90223a12",
   "metadata": {},
   "outputs": [
    {
     "data": {
      "text/plain": [
       "array([[ 0. , -5.2, 37. , ...,  0. ,  0. ,  1. ],\n",
       "       [ 1. , -5.5, 38. , ...,  0. ,  0. ,  1. ],\n",
       "       [ 2. , -6. , 39. , ...,  0. ,  0. ,  1. ],\n",
       "       ...,\n",
       "       [21. ,  2.6, 39. , ...,  3. ,  0. ,  1. ],\n",
       "       [22. ,  2.1, 41. , ...,  3. ,  0. ,  1. ],\n",
       "       [23. ,  1.9, 43. , ...,  3. ,  0. ,  1. ]])"
      ]
     },
     "execution_count": 23,
     "metadata": {},
     "output_type": "execute_result"
    }
   ],
   "source": [
    "X"
   ]
  },
  {
   "cell_type": "code",
   "execution_count": null,
   "id": "23843f8f",
   "metadata": {},
   "outputs": [],
   "source": []
  },
  {
   "cell_type": "code",
   "execution_count": 24,
   "id": "f99706c2",
   "metadata": {},
   "outputs": [
    {
     "name": "stdout",
     "output_type": "stream",
     "text": [
      "                            OLS Regression Results                            \n",
      "==============================================================================\n",
      "Dep. Variable:                      y   R-squared:                       0.545\n",
      "Model:                            OLS   Adj. R-squared:                  0.544\n",
      "Method:                 Least Squares   F-statistic:                     871.6\n",
      "Date:                Sun, 26 Nov 2023   Prob (F-statistic):               0.00\n",
      "Time:                        09:44:38   Log-Likelihood:                -65655.\n",
      "No. Observations:                8760   AIC:                         1.313e+05\n",
      "Df Residuals:                    8747   BIC:                         1.314e+05\n",
      "Df Model:                          12                                         \n",
      "Covariance Type:            nonrobust                                         \n",
      "==============================================================================\n",
      "                 coef    std err          t      P>|t|      [0.025      0.975]\n",
      "------------------------------------------------------------------------------\n",
      "const       -335.7974     96.368     -3.485      0.000    -524.702    -146.893\n",
      "x1            27.4522      0.732     37.524      0.000      26.018      28.886\n",
      "x2            19.4339      3.649      5.326      0.000      12.281      26.587\n",
      "x3            -9.9012      1.033     -9.589      0.000     -11.925      -7.877\n",
      "x4            21.4400      5.121      4.187      0.000      11.402      31.478\n",
      "x5            -0.0063      0.010     -0.641      0.521      -0.025       0.013\n",
      "x6             7.3304      3.833      1.912      0.056      -0.184      14.845\n",
      "x7           -74.3133      7.619     -9.754      0.000     -89.248     -59.379\n",
      "x8           -59.3219      4.296    -13.809      0.000     -67.743     -50.901\n",
      "x9            16.2795     11.160      1.459      0.145      -5.596      38.155\n",
      "x10          108.9526      5.532     19.696      0.000      98.109     119.796\n",
      "x11         -126.7298     21.578     -5.873      0.000    -169.027     -84.432\n",
      "x12          916.1297     26.445     34.643      0.000     864.291     967.968\n",
      "==============================================================================\n",
      "Omnibus:                     1395.904   Durbin-Watson:                   0.503\n",
      "Prob(Omnibus):                  0.000   Jarque-Bera (JB):             2755.333\n",
      "Skew:                           0.978   Prob(JB):                         0.00\n",
      "Kurtosis:                       4.930   Cond. No.                     3.25e+04\n",
      "==============================================================================\n",
      "\n",
      "Notes:\n",
      "[1] Standard Errors assume that the covariance matrix of the errors is correctly specified.\n",
      "[2] The condition number is large, 3.25e+04. This might indicate that there are\n",
      "strong multicollinearity or other numerical problems.\n"
     ]
    }
   ],
   "source": [
    "import statsmodels.api as sm\n",
    "\n",
    "# Assuming X is your feature matrix and y is your target variable\n",
    "\n",
    "# Add a constant to the feature matrix (for intercept)\n",
    "X_with_constant = sm.add_constant(X)\n",
    "\n",
    "# Fit the OLS model\n",
    "model = sm.OLS(y, X_with_constant).fit()\n",
    "\n",
    "# Summary of the regression results\n",
    "print(model.summary())\n"
   ]
  },
  {
   "cell_type": "code",
   "execution_count": null,
   "id": "0eeb5dfe",
   "metadata": {},
   "outputs": [],
   "source": []
  },
  {
   "cell_type": "code",
   "execution_count": 25,
   "id": "898ac511",
   "metadata": {},
   "outputs": [],
   "source": [
    "X_train, X_test, y_train, y_test = train_test_split(X, y, test_size = 0.3, random_state = 12)"
   ]
  },
  {
   "cell_type": "code",
   "execution_count": 26,
   "id": "20e33953",
   "metadata": {},
   "outputs": [
    {
     "data": {
      "text/plain": [
       "((8760, 12), (8760,), (6132, 12), (2628, 12), (6132,), (2628,))"
      ]
     },
     "execution_count": 26,
     "metadata": {},
     "output_type": "execute_result"
    }
   ],
   "source": [
    "X.shape, y.shape, X_train.shape, X_test.shape, y_train.shape, y_test.shape"
   ]
  },
  {
   "cell_type": "code",
   "execution_count": 27,
   "id": "aea68f3d",
   "metadata": {},
   "outputs": [],
   "source": [
    "scaler = MinMaxScaler()\n",
    "\n",
    "scaler.fit(X_train)\n",
    "\n",
    "X_train_scaled = scaler.transform(X_train)\n",
    "\n",
    "X_test_scaled  = scaler.transform(X_test)\n",
    "\n",
    "X_scaled = scaler.transform(X)"
   ]
  },
  {
   "cell_type": "markdown",
   "id": "74fe5b3d",
   "metadata": {},
   "source": [
    "# Models"
   ]
  },
  {
   "cell_type": "markdown",
   "id": "590b4100",
   "metadata": {},
   "source": [
    "# Linear Regression"
   ]
  },
  {
   "cell_type": "code",
   "execution_count": 28,
   "id": "5c2a959c",
   "metadata": {},
   "outputs": [],
   "source": [
    "from sklearn.linear_model import LinearRegression"
   ]
  },
  {
   "cell_type": "code",
   "execution_count": 29,
   "id": "35d12d92",
   "metadata": {},
   "outputs": [
    {
     "name": "stdout",
     "output_type": "stream",
     "text": [
      "Mean Squared Error: 195025.4952516888\n",
      "Root Mean Squared Error: 441.6169100608454\n",
      "R-squared: 0.5369360619674715\n",
      "Adjusted R-squared: 0.5348111031696166\n"
     ]
    }
   ],
   "source": [
    "linear_reg = LinearRegression()\n",
    "\n",
    "linear_reg.fit(X_train_scaled, y_train)\n",
    "\n",
    "yp_lr = linear_reg.predict(X_test_scaled)\n",
    "\n",
    "mse = mean_squared_error(y_test, yp_lr)\n",
    "mse_r = mean_squared_error(y_test, yp_lr, squared = False)\n",
    "r2 = r2_score(y_test, yp_lr)\n",
    "\n",
    "n = len(y_test)\n",
    "k = X_train_scaled.shape[1]\n",
    "adj_r2 = 1 - ((1 - r2) * (n - 1) / (n - k - 1))\n",
    "\n",
    "print(f'Mean Squared Error: {mse}')\n",
    "print(f'Root Mean Squared Error: {mse_r}')\n",
    "print(f'R-squared: {r2}')\n",
    "print(f'Adjusted R-squared: {adj_r2}')"
   ]
  },
  {
   "cell_type": "code",
   "execution_count": 30,
   "id": "2b395788",
   "metadata": {},
   "outputs": [
    {
     "name": "stdout",
     "output_type": "stream",
     "text": [
      "Training MSE: 187264.33538299127\n",
      "Validation MSE: 195025.4952516888\n"
     ]
    }
   ],
   "source": [
    "train_pred = linear_reg.predict(X_train_scaled)\n",
    "test_pred = linear_reg.predict(X_test_scaled)\n",
    "\n",
    "from sklearn.metrics import mean_squared_error, r2_score\n",
    "\n",
    "train_mse = mean_squared_error(y_train, train_pred)\n",
    "test_mse = mean_squared_error(y_test, test_pred)\n",
    "\n",
    "print(f'Training MSE: {train_mse}')\n",
    "print(f'Validation MSE: {test_mse}')"
   ]
  },
  {
   "cell_type": "markdown",
   "id": "b838aaa8",
   "metadata": {},
   "source": [
    "## No overfitting"
   ]
  },
  {
   "cell_type": "code",
   "execution_count": 31,
   "id": "f64f323c",
   "metadata": {},
   "outputs": [
    {
     "name": "stdout",
     "output_type": "stream",
     "text": [
      "Huber Loss: [631.48979372 276.44736223 670.36964612 ... 261.8908237  171.93822227\n",
      " 236.18380796]\n",
      "Mean Huber Loss: 326.980255571286\n"
     ]
    }
   ],
   "source": [
    "import tensorflow as tf\n",
    "def huber_loss(y_test, yp_lr, delta=1.0):\n",
    "    error = y_test - yp_lr\n",
    "    condition = tf.abs(error) < delta\n",
    "    squared_loss = 0.5 * tf.square(error)\n",
    "    linear_loss = delta * (tf.abs(error) - 0.5 * delta)\n",
    "    return tf.where(condition, squared_loss, linear_loss)\n",
    "\n",
    "loss = huber_loss(y_test, yp_lr, delta=1.0)\n",
    "print(\"Huber Loss:\", loss.numpy())\n",
    "\n",
    "mean_huber_loss = np.mean(loss)\n",
    "print(f\"Mean Huber Loss: {mean_huber_loss}\")"
   ]
  },
  {
   "cell_type": "code",
   "execution_count": 32,
   "id": "297a10e1",
   "metadata": {},
   "outputs": [
    {
     "data": {
      "text/plain": [
       "0.5325208313082583"
      ]
     },
     "execution_count": 32,
     "metadata": {},
     "output_type": "execute_result"
    }
   ],
   "source": [
    "score_l = cross_val_score(LinearRegression(), X_test_scaled, y_test, cv = 5, scoring = 'r2').mean()\n",
    "score_l"
   ]
  },
  {
   "cell_type": "code",
   "execution_count": 33,
   "id": "7bb2d981",
   "metadata": {},
   "outputs": [
    {
     "data": {
      "text/html": [
       "<div>\n",
       "<style scoped>\n",
       "    .dataframe tbody tr th:only-of-type {\n",
       "        vertical-align: middle;\n",
       "    }\n",
       "\n",
       "    .dataframe tbody tr th {\n",
       "        vertical-align: top;\n",
       "    }\n",
       "\n",
       "    .dataframe thead th {\n",
       "        text-align: right;\n",
       "    }\n",
       "</style>\n",
       "<table border=\"1\" class=\"dataframe\">\n",
       "  <thead>\n",
       "    <tr style=\"text-align: right;\">\n",
       "      <th></th>\n",
       "      <th>Actual</th>\n",
       "      <th>Predicted</th>\n",
       "    </tr>\n",
       "  </thead>\n",
       "  <tbody>\n",
       "    <tr>\n",
       "      <th>0</th>\n",
       "      <td>278.0</td>\n",
       "      <td>909.989794</td>\n",
       "    </tr>\n",
       "    <tr>\n",
       "      <th>1</th>\n",
       "      <td>96.0</td>\n",
       "      <td>-180.947362</td>\n",
       "    </tr>\n",
       "    <tr>\n",
       "      <th>2</th>\n",
       "      <td>215.0</td>\n",
       "      <td>885.869646</td>\n",
       "    </tr>\n",
       "    <tr>\n",
       "      <th>3</th>\n",
       "      <td>1290.0</td>\n",
       "      <td>1213.461479</td>\n",
       "    </tr>\n",
       "    <tr>\n",
       "      <th>4</th>\n",
       "      <td>165.0</td>\n",
       "      <td>621.696814</td>\n",
       "    </tr>\n",
       "  </tbody>\n",
       "</table>\n",
       "</div>"
      ],
      "text/plain": [
       "   Actual    Predicted\n",
       "0   278.0   909.989794\n",
       "1    96.0  -180.947362\n",
       "2   215.0   885.869646\n",
       "3  1290.0  1213.461479\n",
       "4   165.0   621.696814"
      ]
     },
     "execution_count": 33,
     "metadata": {},
     "output_type": "execute_result"
    }
   ],
   "source": [
    "pred = pd.DataFrame({'Actual': y_test, 'Predicted': yp_lr})\n",
    "pred.head()"
   ]
  },
  {
   "cell_type": "markdown",
   "id": "0dc2c325",
   "metadata": {},
   "source": [
    "## Polynomial 2 and 3"
   ]
  },
  {
   "cell_type": "code",
   "execution_count": 34,
   "id": "34597a64",
   "metadata": {},
   "outputs": [],
   "source": [
    "from sklearn.preprocessing import PolynomialFeatures"
   ]
  },
  {
   "cell_type": "code",
   "execution_count": 35,
   "id": "2de30d74",
   "metadata": {},
   "outputs": [
    {
     "name": "stdout",
     "output_type": "stream",
     "text": [
      "Mean Squared Error: 143033.25052369505\n",
      "Root Mean Squared Error: 378.1973698000755\n",
      "R-squared: 0.6603852220879212\n",
      "Adjusted R-squared: 0.6588267603919575\n"
     ]
    }
   ],
   "source": [
    "poly_features = PolynomialFeatures(degree = 2)\n",
    "\n",
    "X_train_poly = poly_features.fit_transform(X_train_scaled)\n",
    "X_test_poly = poly_features.transform(X_test_scaled)\n",
    "\n",
    "poly_reg = LinearRegression()\n",
    "poly_reg.fit(X_train_poly, y_train)\n",
    "\n",
    "yp_p2 = poly_reg.predict(X_test_poly)\n",
    "\n",
    "mse = mean_squared_error(y_test, yp_p2)\n",
    "mse_r = mean_squared_error(y_test, yp_p2, squared = False)\n",
    "r2 = r2_score(y_test, yp_p2)\n",
    "\n",
    "n = len(y_test)\n",
    "k = X_train_scaled.shape[1]\n",
    "adj_r2 = 1 - ((1 - r2) * (n - 1) / (n - k - 1))\n",
    "\n",
    "print(f'Mean Squared Error: {mse}')\n",
    "print(f'Root Mean Squared Error: {mse_r}')\n",
    "print(f'R-squared: {r2}')\n",
    "print(f'Adjusted R-squared: {adj_r2}')"
   ]
  },
  {
   "cell_type": "markdown",
   "id": "7372f5fb",
   "metadata": {},
   "source": [
    "I tried to check the Training MSE and the Validation MSE but I encountered an error and I could not fixed it."
   ]
  },
  {
   "cell_type": "code",
   "execution_count": 36,
   "id": "c28660de",
   "metadata": {},
   "outputs": [
    {
     "data": {
      "text/plain": [
       "0.5325208313082583"
      ]
     },
     "execution_count": 36,
     "metadata": {},
     "output_type": "execute_result"
    }
   ],
   "source": [
    "score_lp2 = cross_val_score(poly_reg, X_test_scaled, y_test, cv = 5, scoring = 'r2').mean()\n",
    "score_lp2"
   ]
  },
  {
   "cell_type": "code",
   "execution_count": 37,
   "id": "0268788d",
   "metadata": {},
   "outputs": [
    {
     "data": {
      "text/html": [
       "<div>\n",
       "<style scoped>\n",
       "    .dataframe tbody tr th:only-of-type {\n",
       "        vertical-align: middle;\n",
       "    }\n",
       "\n",
       "    .dataframe tbody tr th {\n",
       "        vertical-align: top;\n",
       "    }\n",
       "\n",
       "    .dataframe thead th {\n",
       "        text-align: right;\n",
       "    }\n",
       "</style>\n",
       "<table border=\"1\" class=\"dataframe\">\n",
       "  <thead>\n",
       "    <tr style=\"text-align: right;\">\n",
       "      <th></th>\n",
       "      <th>Actual</th>\n",
       "      <th>Predicted</th>\n",
       "    </tr>\n",
       "  </thead>\n",
       "  <tbody>\n",
       "    <tr>\n",
       "      <th>0</th>\n",
       "      <td>278.0</td>\n",
       "      <td>566.039963</td>\n",
       "    </tr>\n",
       "    <tr>\n",
       "      <th>1</th>\n",
       "      <td>96.0</td>\n",
       "      <td>-136.344803</td>\n",
       "    </tr>\n",
       "    <tr>\n",
       "      <th>2</th>\n",
       "      <td>215.0</td>\n",
       "      <td>873.961838</td>\n",
       "    </tr>\n",
       "    <tr>\n",
       "      <th>3</th>\n",
       "      <td>1290.0</td>\n",
       "      <td>1495.696213</td>\n",
       "    </tr>\n",
       "    <tr>\n",
       "      <th>4</th>\n",
       "      <td>165.0</td>\n",
       "      <td>97.463791</td>\n",
       "    </tr>\n",
       "  </tbody>\n",
       "</table>\n",
       "</div>"
      ],
      "text/plain": [
       "   Actual    Predicted\n",
       "0   278.0   566.039963\n",
       "1    96.0  -136.344803\n",
       "2   215.0   873.961838\n",
       "3  1290.0  1495.696213\n",
       "4   165.0    97.463791"
      ]
     },
     "execution_count": 37,
     "metadata": {},
     "output_type": "execute_result"
    }
   ],
   "source": [
    "pred_p2 = pd.DataFrame({'Actual': y_test, 'Predicted': yp_p2})\n",
    "pred_p2.head()"
   ]
  },
  {
   "cell_type": "code",
   "execution_count": 38,
   "id": "f5aed552",
   "metadata": {},
   "outputs": [
    {
     "name": "stdout",
     "output_type": "stream",
     "text": [
      "Mean Squared Error: 1274362.9654606974\n",
      "R-squared: -2.025817380991534\n"
     ]
    }
   ],
   "source": [
    "degree = 3\n",
    "poly_features = PolynomialFeatures(degree=degree)\n",
    "\n",
    "X_train_poly = poly_features.fit_transform(X_train_scaled)\n",
    "X_test_poly = poly_features.transform(X_test_scaled)\n",
    "\n",
    "poly_reg = LinearRegression()\n",
    "poly_reg.fit(X_train_poly, y_train)\n",
    "\n",
    "yp_p3 = poly_reg.predict(X_test_poly)\n",
    "\n",
    "mse = mean_squared_error(y_test, yp_p3)\n",
    "r2 = r2_score(y_test, yp_p3)\n",
    "\n",
    "print(f'Mean Squared Error: {mse}')\n",
    "print(f'R-squared: {r2}')"
   ]
  },
  {
   "cell_type": "markdown",
   "id": "0a86ab62",
   "metadata": {},
   "source": [
    "## Ridge"
   ]
  },
  {
   "cell_type": "code",
   "execution_count": 39,
   "id": "4102f4b3",
   "metadata": {},
   "outputs": [
    {
     "name": "stdout",
     "output_type": "stream",
     "text": [
      "Mean Squared Error (Ridge): 194774.2640691104\n",
      "R-squared (Ridge): 0.5375325793643952\n"
     ]
    }
   ],
   "source": [
    "from sklearn.linear_model import Ridge\n",
    "\n",
    "ridge_reg = Ridge(alpha=1.0)  # Adjust alpha based on the strength of regularization\n",
    "ridge_reg.fit(X_train_scaled, y_train)\n",
    "\n",
    "yp_lnR = ridge_reg.predict(X_test_scaled)\n",
    "\n",
    "mse = mean_squared_error(y_test, yp_lnR)\n",
    "r2 = r2_score(y_test, yp_lnR)\n",
    "\n",
    "print(f'Mean Squared Error (Ridge): {mse}')\n",
    "print(f'R-squared (Ridge): {r2}')"
   ]
  },
  {
   "cell_type": "code",
   "execution_count": 40,
   "id": "64ba5acc",
   "metadata": {},
   "outputs": [
    {
     "data": {
      "text/html": [
       "<div>\n",
       "<style scoped>\n",
       "    .dataframe tbody tr th:only-of-type {\n",
       "        vertical-align: middle;\n",
       "    }\n",
       "\n",
       "    .dataframe tbody tr th {\n",
       "        vertical-align: top;\n",
       "    }\n",
       "\n",
       "    .dataframe thead th {\n",
       "        text-align: right;\n",
       "    }\n",
       "</style>\n",
       "<table border=\"1\" class=\"dataframe\">\n",
       "  <thead>\n",
       "    <tr style=\"text-align: right;\">\n",
       "      <th></th>\n",
       "      <th>Actual</th>\n",
       "      <th>Predicted</th>\n",
       "    </tr>\n",
       "  </thead>\n",
       "  <tbody>\n",
       "    <tr>\n",
       "      <th>0</th>\n",
       "      <td>278.0</td>\n",
       "      <td>907.815940</td>\n",
       "    </tr>\n",
       "    <tr>\n",
       "      <th>1</th>\n",
       "      <td>96.0</td>\n",
       "      <td>-185.364014</td>\n",
       "    </tr>\n",
       "    <tr>\n",
       "      <th>2</th>\n",
       "      <td>215.0</td>\n",
       "      <td>885.086671</td>\n",
       "    </tr>\n",
       "    <tr>\n",
       "      <th>3</th>\n",
       "      <td>1290.0</td>\n",
       "      <td>1206.516664</td>\n",
       "    </tr>\n",
       "    <tr>\n",
       "      <th>4</th>\n",
       "      <td>165.0</td>\n",
       "      <td>618.039892</td>\n",
       "    </tr>\n",
       "  </tbody>\n",
       "</table>\n",
       "</div>"
      ],
      "text/plain": [
       "   Actual    Predicted\n",
       "0   278.0   907.815940\n",
       "1    96.0  -185.364014\n",
       "2   215.0   885.086671\n",
       "3  1290.0  1206.516664\n",
       "4   165.0   618.039892"
      ]
     },
     "execution_count": 40,
     "metadata": {},
     "output_type": "execute_result"
    }
   ],
   "source": [
    "pred_lnR = pd.DataFrame({'Actual': y_test, 'Predicted': yp_lnR})\n",
    "pred_lnR.head()"
   ]
  },
  {
   "cell_type": "code",
   "execution_count": 41,
   "id": "05ceb1dd",
   "metadata": {},
   "outputs": [
    {
     "name": "stdout",
     "output_type": "stream",
     "text": [
      "Mean Squared Error (Ridge): 151925.0628436109\n",
      "Root Mean Squared Error: 389.7756570690516\n",
      "R-squared (Ridge): 0.6392727125476039\n",
      "Adjusted R-squared: 0.5354103579312681\n"
     ]
    }
   ],
   "source": [
    "degree = 2\n",
    "\n",
    "poly = PolynomialFeatures(degree=degree, include_bias=False)\n",
    "X_train_poly = poly.fit_transform(X_train_scaled)\n",
    "X_test_poly = poly.transform(X_test_scaled)\n",
    "\n",
    "ridge_reg2 = Ridge(alpha = 10.0) \n",
    "ridge_reg2.fit(X_train_poly, y_train)\n",
    "\n",
    "yp_rp2 = ridge_reg2.predict(X_test_poly)\n",
    "\n",
    "mse_ridge = mean_squared_error(y_test, yp_rp2)\n",
    "mse_ridge_r = mean_squared_error(y_test, yp_rp2, squared = False)\n",
    "r2_ridge = r2_score(y_test, yp_rp2)\n",
    "\n",
    "n = len(y_test)\n",
    "k = X_train_scaled.shape[1]  \n",
    "adj_r2 = 1 - ((1 - r2) * (n - 1) / (n - k - 1))\n",
    "\n",
    "print(f'Mean Squared Error (Ridge): {mse_ridge}')\n",
    "print(f'Root Mean Squared Error: {mse_ridge_r}')\n",
    "print(f'R-squared (Ridge): {r2_ridge}')\n",
    "print(f'Adjusted R-squared: {adj_r2}')"
   ]
  },
  {
   "cell_type": "code",
   "execution_count": 42,
   "id": "833cbaac",
   "metadata": {},
   "outputs": [
    {
     "data": {
      "text/plain": [
       "0.5249917659671306"
      ]
     },
     "execution_count": 42,
     "metadata": {},
     "output_type": "execute_result"
    }
   ],
   "source": [
    "score_rp2 = cross_val_score(ridge_reg2, X_test_scaled, y_test, cv = 5, scoring = 'r2').mean()\n",
    "score_rp2"
   ]
  },
  {
   "cell_type": "code",
   "execution_count": 43,
   "id": "44e36eb8",
   "metadata": {},
   "outputs": [
    {
     "name": "stdout",
     "output_type": "stream",
     "text": [
      "Training MSE: 150158.735953171\n",
      "Validation MSE: 151925.0628436109\n",
      "Huber Loss: [4.01553128e+02 7.48937601e-02 5.72034482e+02 ... 3.40048576e+02\n",
      " 2.99828537e+02 2.51084145e+02]\n",
      "Mean Huber Loss: 279.55142284035753\n"
     ]
    }
   ],
   "source": [
    "train_pred = ridge_reg2.predict(X_train_poly)\n",
    "test_pred = ridge_reg2.predict(X_test_poly)\n",
    "\n",
    "from sklearn.metrics import mean_squared_error, r2_score\n",
    "\n",
    "train_mse = mean_squared_error(y_train, train_pred)\n",
    "test_mse = mean_squared_error(y_test, test_pred)\n",
    "\n",
    "print(f'Training MSE: {train_mse}')\n",
    "print(f'Validation MSE: {test_mse}')\n",
    "\n",
    "import tensorflow as tf\n",
    "def huber_loss(y_test, yp_rp2, delta = 1.0):\n",
    "    error = y_test - yp_rp2\n",
    "    condition = tf.abs(error) < delta\n",
    "    squared_loss = 0.5 * tf.square(error)\n",
    "    linear_loss = delta * (tf.abs(error) - 0.5 * delta)\n",
    "    return tf.where(condition, squared_loss, linear_loss)\n",
    "\n",
    "loss = huber_loss(y_test, yp_rp2, delta = 1.0)\n",
    "print(\"Huber Loss:\", loss.numpy())\n",
    "\n",
    "mean_huber_loss = np.mean(loss)\n",
    "print(f\"Mean Huber Loss: {mean_huber_loss}\")"
   ]
  },
  {
   "cell_type": "markdown",
   "id": "d93a534e",
   "metadata": {},
   "source": [
    "# No overfitting"
   ]
  },
  {
   "cell_type": "markdown",
   "id": "ec8b581e",
   "metadata": {},
   "source": [
    "## Lasso"
   ]
  },
  {
   "cell_type": "code",
   "execution_count": 44,
   "id": "8e1e9c71",
   "metadata": {},
   "outputs": [
    {
     "name": "stdout",
     "output_type": "stream",
     "text": [
      "Mean Squared Error (Lasso): 195429.72143396936\n",
      "R-squared (Lasso): 0.5359762768502428\n"
     ]
    }
   ],
   "source": [
    "from sklearn.linear_model import Lasso\n",
    "\n",
    "lasso_reg = Lasso(alpha=1.0) \n",
    "lasso_reg.fit(X_train_scaled, y_train)\n",
    "\n",
    "yp_lnL = lasso_reg.predict(X_test_scaled)\n",
    "\n",
    "mse = mean_squared_error(y_test, yp_lnL)\n",
    "r2 = r2_score(y_test, yp_lnL)\n",
    "\n",
    "print(f'Mean Squared Error (Lasso): {mse}')\n",
    "print(f'R-squared (Lasso): {r2}')"
   ]
  },
  {
   "cell_type": "code",
   "execution_count": 45,
   "id": "d5922ae0",
   "metadata": {},
   "outputs": [
    {
     "name": "stdout",
     "output_type": "stream",
     "text": [
      "Mean Squared Error (Lasso): 185187.68448353908\n",
      "R-squared (Lasso): 0.5602947279205516\n"
     ]
    }
   ],
   "source": [
    "degree = 2\n",
    "\n",
    "poly = PolynomialFeatures(degree=degree, include_bias=False)\n",
    "X_train_poly = poly.fit_transform(X_train_scaled)\n",
    "X_test_poly = poly.transform(X_test_scaled)\n",
    " \n",
    "lasso_reg = Lasso(alpha = 10.0, max_iter = 100000)\n",
    "lasso_reg.fit(X_train_poly, y_train)\n",
    "\n",
    "yp_lp2 = lasso_reg.predict(X_test_poly)\n",
    "\n",
    "mse_lasso = mean_squared_error(y_test, yp_lp2)\n",
    "r2_lasso = r2_score(y_test, yp_lp2)\n",
    "\n",
    "print(f'Mean Squared Error (Lasso): {mse_lasso}')\n",
    "print(f'R-squared (Lasso): {r2_lasso}')"
   ]
  },
  {
   "cell_type": "code",
   "execution_count": null,
   "id": "99933654",
   "metadata": {},
   "outputs": [],
   "source": []
  },
  {
   "cell_type": "code",
   "execution_count": null,
   "id": "30277b04",
   "metadata": {},
   "outputs": [],
   "source": []
  },
  {
   "cell_type": "code",
   "execution_count": null,
   "id": "434908e8",
   "metadata": {},
   "outputs": [],
   "source": []
  },
  {
   "cell_type": "markdown",
   "id": "fd85fb6b",
   "metadata": {},
   "source": [
    "# Random Forest"
   ]
  },
  {
   "cell_type": "code",
   "execution_count": 46,
   "id": "be5d6dc6",
   "metadata": {},
   "outputs": [],
   "source": [
    "from sklearn.ensemble import RandomForestRegressor"
   ]
  },
  {
   "cell_type": "code",
   "execution_count": 47,
   "id": "c38de7ad",
   "metadata": {},
   "outputs": [
    {
     "name": "stdout",
     "output_type": "stream",
     "text": [
      "Best Hyperparameters: {'max_depth': None, 'min_samples_leaf': 1, 'n_estimators': 200}\n",
      "Mean Squared Error: 54327.35225532724\n",
      "Root Mean Squared Error: 233.08228644692682\n",
      "R-squared (Best Model): 0.8710064156188093\n",
      "Adjusted R-squared: 0.5338469136847372\n"
     ]
    }
   ],
   "source": [
    "from sklearn.model_selection import GridSearchCV\n",
    "\n",
    "param_grid = {\n",
    "    'n_estimators': [50, 100, 200],\n",
    "    'max_depth': [None, 10, 20],\n",
    "    'min_samples_leaf': [1, 2, 4]\n",
    "}\n",
    "\n",
    "grid_search = GridSearchCV(RandomForestRegressor(random_state = 12), param_grid, cv = 5, scoring = 'r2')\n",
    "grid_search.fit(X_train_scaled, y_train)\n",
    "\n",
    "best_params = grid_search.best_params_\n",
    "best_model = grid_search.best_estimator_\n",
    "\n",
    "y_pred_best = best_model.predict(X_test_scaled)\n",
    "mse = mean_squared_error(y_test, y_pred_best)\n",
    "mse_r = mean_squared_error(y_test, y_pred_best, squared = False)\n",
    "r2_best = r2_score(y_test, y_pred_best)\n",
    "\n",
    "n = len(y_test)\n",
    "k = X_train_scaled.shape[1]  \n",
    "adj_r2 = 1 - ((1 - r2) * (n - 1) / (n - k - 1))\n",
    "\n",
    "print(f'Best Hyperparameters: {best_params}')\n",
    "print(f'Mean Squared Error: {mse}')\n",
    "print(f'Root Mean Squared Error: {mse_r}')\n",
    "print(f'R-squared (Best Model): {r2_best}')\n",
    "print(f'Adjusted R-squared: {adj_r2}')"
   ]
  },
  {
   "cell_type": "code",
   "execution_count": 88,
   "id": "71731a18",
   "metadata": {},
   "outputs": [
    {
     "data": {
      "text/plain": [
       "0.8395852452933015"
      ]
     },
     "execution_count": 88,
     "metadata": {},
     "output_type": "execute_result"
    }
   ],
   "source": [
    "score_rf = cross_val_score(RandomForestRegressor(max_depth = None,\n",
    "                                              min_samples_leaf = 1, \n",
    "                                              n_estimators = 200,\n",
    "                                              random_state = 12), X_test_scaled, y_test, \n",
    "                           cv = 10, scoring = 'r2').mean()\n",
    "score_rf"
   ]
  },
  {
   "cell_type": "code",
   "execution_count": 89,
   "id": "0214ede1",
   "metadata": {},
   "outputs": [
    {
     "data": {
      "text/html": [
       "<div>\n",
       "<style scoped>\n",
       "    .dataframe tbody tr th:only-of-type {\n",
       "        vertical-align: middle;\n",
       "    }\n",
       "\n",
       "    .dataframe tbody tr th {\n",
       "        vertical-align: top;\n",
       "    }\n",
       "\n",
       "    .dataframe thead th {\n",
       "        text-align: right;\n",
       "    }\n",
       "</style>\n",
       "<table border=\"1\" class=\"dataframe\">\n",
       "  <thead>\n",
       "    <tr style=\"text-align: right;\">\n",
       "      <th></th>\n",
       "      <th>Actual</th>\n",
       "      <th>Predicted</th>\n",
       "    </tr>\n",
       "  </thead>\n",
       "  <tbody>\n",
       "    <tr>\n",
       "      <th>0</th>\n",
       "      <td>278.0</td>\n",
       "      <td>337.350</td>\n",
       "    </tr>\n",
       "    <tr>\n",
       "      <th>1</th>\n",
       "      <td>96.0</td>\n",
       "      <td>99.055</td>\n",
       "    </tr>\n",
       "    <tr>\n",
       "      <th>2</th>\n",
       "      <td>215.0</td>\n",
       "      <td>215.610</td>\n",
       "    </tr>\n",
       "  </tbody>\n",
       "</table>\n",
       "</div>"
      ],
      "text/plain": [
       "   Actual  Predicted\n",
       "0   278.0    337.350\n",
       "1    96.0     99.055\n",
       "2   215.0    215.610"
      ]
     },
     "execution_count": 89,
     "metadata": {},
     "output_type": "execute_result"
    }
   ],
   "source": [
    "pred_rf = pd.DataFrame({'Actual': y_test, 'Predicted': y_pred_best})\n",
    "pred_rf.head(3)"
   ]
  },
  {
   "cell_type": "code",
   "execution_count": null,
   "id": "592c5f08",
   "metadata": {},
   "outputs": [],
   "source": []
  },
  {
   "cell_type": "code",
   "execution_count": 90,
   "id": "4e6c07b7",
   "metadata": {},
   "outputs": [
    {
     "name": "stdout",
     "output_type": "stream",
     "text": [
      "Training MSE: 7192.178119243314\n",
      "Validation MSE: 54327.35225532724\n",
      "Huber Loss: [58.85     2.555    0.18605 ... 21.19    60.765   48.38   ]\n",
      "Mean Huber Loss: 142.982815625\n"
     ]
    }
   ],
   "source": [
    "train_pred = best_model.predict(X_train_scaled)\n",
    "test_pred = best_model.predict(X_test_scaled)\n",
    "\n",
    "from sklearn.metrics import mean_squared_error, r2_score\n",
    "\n",
    "train_mse = mean_squared_error(y_train, train_pred)\n",
    "test_mse = mean_squared_error(y_test, test_pred)\n",
    "\n",
    "print(f'Training MSE: {train_mse}')\n",
    "print(f'Validation MSE: {test_mse}')\n",
    "\n",
    "import tensorflow as tf\n",
    "def huber_loss(y_test, y_pred_best, delta = 1.0):\n",
    "    error = y_test - y_pred_best\n",
    "    condition = tf.abs(error) < delta\n",
    "    squared_loss = 0.5 * tf.square(error)\n",
    "    linear_loss = delta * (tf.abs(error) - 0.5 * delta)\n",
    "    return tf.where(condition, squared_loss, linear_loss)\n",
    "\n",
    "loss = huber_loss(y_test, y_pred_best, delta = 1.0)\n",
    "print(\"Huber Loss:\", loss.numpy())\n",
    "\n",
    "mean_huber_loss = np.mean(loss)\n",
    "print(f\"Mean Huber Loss: {mean_huber_loss}\")"
   ]
  },
  {
   "cell_type": "markdown",
   "id": "fb174594",
   "metadata": {},
   "source": [
    "## Overfitting here and big difference between R2 and Adjusted R2"
   ]
  },
  {
   "cell_type": "code",
   "execution_count": null,
   "id": "bf4915d0",
   "metadata": {},
   "outputs": [],
   "source": []
  },
  {
   "cell_type": "code",
   "execution_count": null,
   "id": "b16b412d",
   "metadata": {},
   "outputs": [],
   "source": []
  },
  {
   "cell_type": "markdown",
   "id": "2d6d7853",
   "metadata": {},
   "source": [
    "# ANN"
   ]
  },
  {
   "cell_type": "code",
   "execution_count": 51,
   "id": "665034be",
   "metadata": {
    "collapsed": true
   },
   "outputs": [
    {
     "name": "stdout",
     "output_type": "stream",
     "text": [
      "Requirement already satisfied: tensorflow in /Users/izaiaszacca/anaconda3/lib/python3.11/site-packages (2.15.0)\n",
      "Requirement already satisfied: tensorflow-macos==2.15.0 in /Users/izaiaszacca/anaconda3/lib/python3.11/site-packages (from tensorflow) (2.15.0)\n",
      "Requirement already satisfied: absl-py>=1.0.0 in /Users/izaiaszacca/anaconda3/lib/python3.11/site-packages (from tensorflow-macos==2.15.0->tensorflow) (2.0.0)\n",
      "Requirement already satisfied: astunparse>=1.6.0 in /Users/izaiaszacca/anaconda3/lib/python3.11/site-packages (from tensorflow-macos==2.15.0->tensorflow) (1.6.3)\n",
      "Requirement already satisfied: flatbuffers>=23.5.26 in /Users/izaiaszacca/anaconda3/lib/python3.11/site-packages (from tensorflow-macos==2.15.0->tensorflow) (23.5.26)\n",
      "Requirement already satisfied: gast!=0.5.0,!=0.5.1,!=0.5.2,>=0.2.1 in /Users/izaiaszacca/anaconda3/lib/python3.11/site-packages (from tensorflow-macos==2.15.0->tensorflow) (0.5.4)\n",
      "Requirement already satisfied: google-pasta>=0.1.1 in /Users/izaiaszacca/anaconda3/lib/python3.11/site-packages (from tensorflow-macos==2.15.0->tensorflow) (0.2.0)\n",
      "Requirement already satisfied: h5py>=2.9.0 in /Users/izaiaszacca/anaconda3/lib/python3.11/site-packages (from tensorflow-macos==2.15.0->tensorflow) (3.9.0)\n",
      "Requirement already satisfied: libclang>=13.0.0 in /Users/izaiaszacca/anaconda3/lib/python3.11/site-packages (from tensorflow-macos==2.15.0->tensorflow) (16.0.6)\n",
      "Requirement already satisfied: ml-dtypes~=0.2.0 in /Users/izaiaszacca/anaconda3/lib/python3.11/site-packages (from tensorflow-macos==2.15.0->tensorflow) (0.2.0)\n",
      "Requirement already satisfied: numpy<2.0.0,>=1.23.5 in /Users/izaiaszacca/anaconda3/lib/python3.11/site-packages (from tensorflow-macos==2.15.0->tensorflow) (1.24.3)\n",
      "Requirement already satisfied: opt-einsum>=2.3.2 in /Users/izaiaszacca/anaconda3/lib/python3.11/site-packages (from tensorflow-macos==2.15.0->tensorflow) (3.3.0)\n",
      "Requirement already satisfied: packaging in /Users/izaiaszacca/anaconda3/lib/python3.11/site-packages (from tensorflow-macos==2.15.0->tensorflow) (23.1)\n",
      "Requirement already satisfied: protobuf!=4.21.0,!=4.21.1,!=4.21.2,!=4.21.3,!=4.21.4,!=4.21.5,<5.0.0dev,>=3.20.3 in /Users/izaiaszacca/anaconda3/lib/python3.11/site-packages (from tensorflow-macos==2.15.0->tensorflow) (4.23.4)\n",
      "Requirement already satisfied: setuptools in /Users/izaiaszacca/anaconda3/lib/python3.11/site-packages (from tensorflow-macos==2.15.0->tensorflow) (68.0.0)\n",
      "Requirement already satisfied: six>=1.12.0 in /Users/izaiaszacca/anaconda3/lib/python3.11/site-packages (from tensorflow-macos==2.15.0->tensorflow) (1.16.0)\n",
      "Requirement already satisfied: termcolor>=1.1.0 in /Users/izaiaszacca/anaconda3/lib/python3.11/site-packages (from tensorflow-macos==2.15.0->tensorflow) (2.3.0)\n",
      "Requirement already satisfied: typing-extensions>=3.6.6 in /Users/izaiaszacca/anaconda3/lib/python3.11/site-packages (from tensorflow-macos==2.15.0->tensorflow) (4.7.1)\n",
      "Requirement already satisfied: wrapt<1.15,>=1.11.0 in /Users/izaiaszacca/anaconda3/lib/python3.11/site-packages (from tensorflow-macos==2.15.0->tensorflow) (1.14.1)\n",
      "Requirement already satisfied: tensorflow-io-gcs-filesystem>=0.23.1 in /Users/izaiaszacca/anaconda3/lib/python3.11/site-packages (from tensorflow-macos==2.15.0->tensorflow) (0.34.0)\n",
      "Requirement already satisfied: grpcio<2.0,>=1.24.3 in /Users/izaiaszacca/anaconda3/lib/python3.11/site-packages (from tensorflow-macos==2.15.0->tensorflow) (1.59.3)\n",
      "Requirement already satisfied: tensorboard<2.16,>=2.15 in /Users/izaiaszacca/anaconda3/lib/python3.11/site-packages (from tensorflow-macos==2.15.0->tensorflow) (2.15.1)\n",
      "Requirement already satisfied: tensorflow-estimator<2.16,>=2.15.0 in /Users/izaiaszacca/anaconda3/lib/python3.11/site-packages (from tensorflow-macos==2.15.0->tensorflow) (2.15.0)\n",
      "Requirement already satisfied: keras<2.16,>=2.15.0 in /Users/izaiaszacca/anaconda3/lib/python3.11/site-packages (from tensorflow-macos==2.15.0->tensorflow) (2.15.0)\n",
      "Requirement already satisfied: wheel<1.0,>=0.23.0 in /Users/izaiaszacca/anaconda3/lib/python3.11/site-packages (from astunparse>=1.6.0->tensorflow-macos==2.15.0->tensorflow) (0.38.4)\n",
      "Requirement already satisfied: google-auth<3,>=1.6.3 in /Users/izaiaszacca/anaconda3/lib/python3.11/site-packages (from tensorboard<2.16,>=2.15->tensorflow-macos==2.15.0->tensorflow) (2.23.4)\n",
      "Requirement already satisfied: google-auth-oauthlib<2,>=0.5 in /Users/izaiaszacca/anaconda3/lib/python3.11/site-packages (from tensorboard<2.16,>=2.15->tensorflow-macos==2.15.0->tensorflow) (1.1.0)\n",
      "Requirement already satisfied: markdown>=2.6.8 in /Users/izaiaszacca/anaconda3/lib/python3.11/site-packages (from tensorboard<2.16,>=2.15->tensorflow-macos==2.15.0->tensorflow) (3.4.1)\n",
      "Requirement already satisfied: requests<3,>=2.21.0 in /Users/izaiaszacca/anaconda3/lib/python3.11/site-packages (from tensorboard<2.16,>=2.15->tensorflow-macos==2.15.0->tensorflow) (2.31.0)\n",
      "Requirement already satisfied: tensorboard-data-server<0.8.0,>=0.7.0 in /Users/izaiaszacca/anaconda3/lib/python3.11/site-packages (from tensorboard<2.16,>=2.15->tensorflow-macos==2.15.0->tensorflow) (0.7.2)\n",
      "Requirement already satisfied: werkzeug>=1.0.1 in /Users/izaiaszacca/anaconda3/lib/python3.11/site-packages (from tensorboard<2.16,>=2.15->tensorflow-macos==2.15.0->tensorflow) (2.2.3)\n",
      "Requirement already satisfied: cachetools<6.0,>=2.0.0 in /Users/izaiaszacca/anaconda3/lib/python3.11/site-packages (from google-auth<3,>=1.6.3->tensorboard<2.16,>=2.15->tensorflow-macos==2.15.0->tensorflow) (5.3.2)\n",
      "Requirement already satisfied: pyasn1-modules>=0.2.1 in /Users/izaiaszacca/anaconda3/lib/python3.11/site-packages (from google-auth<3,>=1.6.3->tensorboard<2.16,>=2.15->tensorflow-macos==2.15.0->tensorflow) (0.2.8)\n",
      "Requirement already satisfied: rsa<5,>=3.1.4 in /Users/izaiaszacca/anaconda3/lib/python3.11/site-packages (from google-auth<3,>=1.6.3->tensorboard<2.16,>=2.15->tensorflow-macos==2.15.0->tensorflow) (4.9)\n",
      "Requirement already satisfied: requests-oauthlib>=0.7.0 in /Users/izaiaszacca/anaconda3/lib/python3.11/site-packages (from google-auth-oauthlib<2,>=0.5->tensorboard<2.16,>=2.15->tensorflow-macos==2.15.0->tensorflow) (1.3.1)\n",
      "Requirement already satisfied: charset-normalizer<4,>=2 in /Users/izaiaszacca/anaconda3/lib/python3.11/site-packages (from requests<3,>=2.21.0->tensorboard<2.16,>=2.15->tensorflow-macos==2.15.0->tensorflow) (2.0.4)\n",
      "Requirement already satisfied: idna<4,>=2.5 in /Users/izaiaszacca/anaconda3/lib/python3.11/site-packages (from requests<3,>=2.21.0->tensorboard<2.16,>=2.15->tensorflow-macos==2.15.0->tensorflow) (3.4)\n",
      "Requirement already satisfied: urllib3<3,>=1.21.1 in /Users/izaiaszacca/anaconda3/lib/python3.11/site-packages (from requests<3,>=2.21.0->tensorboard<2.16,>=2.15->tensorflow-macos==2.15.0->tensorflow) (1.26.16)\n",
      "Requirement already satisfied: certifi>=2017.4.17 in /Users/izaiaszacca/anaconda3/lib/python3.11/site-packages (from requests<3,>=2.21.0->tensorboard<2.16,>=2.15->tensorflow-macos==2.15.0->tensorflow) (2023.7.22)\n",
      "Requirement already satisfied: MarkupSafe>=2.1.1 in /Users/izaiaszacca/anaconda3/lib/python3.11/site-packages (from werkzeug>=1.0.1->tensorboard<2.16,>=2.15->tensorflow-macos==2.15.0->tensorflow) (2.1.1)\n",
      "Requirement already satisfied: pyasn1<0.5.0,>=0.4.6 in /Users/izaiaszacca/anaconda3/lib/python3.11/site-packages (from pyasn1-modules>=0.2.1->google-auth<3,>=1.6.3->tensorboard<2.16,>=2.15->tensorflow-macos==2.15.0->tensorflow) (0.4.8)\n",
      "Requirement already satisfied: oauthlib>=3.0.0 in /Users/izaiaszacca/anaconda3/lib/python3.11/site-packages (from requests-oauthlib>=0.7.0->google-auth-oauthlib<2,>=0.5->tensorboard<2.16,>=2.15->tensorflow-macos==2.15.0->tensorflow) (3.2.2)\n",
      "Requirement already satisfied: keras in /Users/izaiaszacca/anaconda3/lib/python3.11/site-packages (2.15.0)\n"
     ]
    }
   ],
   "source": [
    " !pip install tensorflow\n",
    " !pip install keras"
   ]
  },
  {
   "cell_type": "code",
   "execution_count": 52,
   "id": "16fec597",
   "metadata": {},
   "outputs": [],
   "source": [
    "import numpy as np\n",
    "import tensorflow as tf\n",
    "from tensorflow import keras"
   ]
  },
  {
   "cell_type": "code",
   "execution_count": 53,
   "id": "d5178b1d",
   "metadata": {
    "collapsed": true
   },
   "outputs": [
    {
     "name": "stdout",
     "output_type": "stream",
     "text": [
      "Epoch 1/300\n",
      "77/77 [==============================] - 0s 2ms/step - loss: 899896.6250 - val_loss: 884227.7500\n",
      "Epoch 2/300\n",
      "77/77 [==============================] - 0s 1ms/step - loss: 708201.4375 - val_loss: 424308.8750\n",
      "Epoch 3/300\n",
      "77/77 [==============================] - 0s 960us/step - loss: 338743.5938 - val_loss: 324658.5000\n",
      "Epoch 4/300\n",
      "77/77 [==============================] - 0s 1ms/step - loss: 313771.2500 - val_loss: 307096.6562\n",
      "Epoch 5/300\n",
      "77/77 [==============================] - 0s 607us/step - loss: 293287.1562 - val_loss: 286020.5000\n",
      "Epoch 6/300\n",
      "77/77 [==============================] - 0s 878us/step - loss: 269613.9688 - val_loss: 262544.7188\n",
      "Epoch 7/300\n",
      "77/77 [==============================] - 0s 1ms/step - loss: 245378.3281 - val_loss: 243642.8438\n",
      "Epoch 8/300\n",
      "77/77 [==============================] - 0s 2ms/step - loss: 226849.2500 - val_loss: 227065.9531\n",
      "Epoch 9/300\n",
      "77/77 [==============================] - 0s 1ms/step - loss: 213629.3125 - val_loss: 214444.0000\n",
      "Epoch 10/300\n",
      "77/77 [==============================] - 0s 1ms/step - loss: 202091.8906 - val_loss: 203960.6094\n",
      "Epoch 11/300\n",
      "77/77 [==============================] - 0s 1ms/step - loss: 192243.8594 - val_loss: 194257.2656\n",
      "Epoch 12/300\n",
      "77/77 [==============================] - 0s 1ms/step - loss: 183733.2812 - val_loss: 185405.5312\n",
      "Epoch 13/300\n",
      "77/77 [==============================] - 0s 828us/step - loss: 177765.9688 - val_loss: 180142.6094\n",
      "Epoch 14/300\n",
      "77/77 [==============================] - 0s 550us/step - loss: 172900.2969 - val_loss: 176622.7344\n",
      "Epoch 15/300\n",
      "77/77 [==============================] - 0s 639us/step - loss: 168488.6875 - val_loss: 169399.2344\n",
      "Epoch 16/300\n",
      "77/77 [==============================] - 0s 551us/step - loss: 165028.8750 - val_loss: 167541.4844\n",
      "Epoch 17/300\n",
      "77/77 [==============================] - 0s 503us/step - loss: 162366.9375 - val_loss: 162573.3438\n",
      "Epoch 18/300\n",
      "77/77 [==============================] - 0s 500us/step - loss: 160554.0312 - val_loss: 161237.1562\n",
      "Epoch 19/300\n",
      "77/77 [==============================] - 0s 507us/step - loss: 158576.8125 - val_loss: 160589.2812\n",
      "Epoch 20/300\n",
      "77/77 [==============================] - 0s 551us/step - loss: 157483.6719 - val_loss: 159525.2344\n",
      "Epoch 21/300\n",
      "77/77 [==============================] - 0s 893us/step - loss: 155591.1094 - val_loss: 156335.2969\n",
      "Epoch 22/300\n",
      "77/77 [==============================] - 0s 1ms/step - loss: 154521.0312 - val_loss: 154116.3125\n",
      "Epoch 23/300\n",
      "77/77 [==============================] - 0s 1ms/step - loss: 153786.6562 - val_loss: 155172.9531\n",
      "Epoch 24/300\n",
      "77/77 [==============================] - 0s 1ms/step - loss: 154137.4062 - val_loss: 155296.4062\n",
      "Epoch 25/300\n",
      "77/77 [==============================] - 0s 923us/step - loss: 152430.1875 - val_loss: 151217.1406\n",
      "Epoch 26/300\n",
      "77/77 [==============================] - 0s 567us/step - loss: 151425.1094 - val_loss: 150850.9531\n",
      "Epoch 27/300\n",
      "77/77 [==============================] - 0s 615us/step - loss: 150877.7500 - val_loss: 149461.6094\n",
      "Epoch 28/300\n",
      "77/77 [==============================] - 0s 841us/step - loss: 149799.7812 - val_loss: 148816.3750\n",
      "Epoch 29/300\n",
      "77/77 [==============================] - 0s 1ms/step - loss: 149588.5312 - val_loss: 148286.5781\n",
      "Epoch 30/300\n",
      "77/77 [==============================] - 0s 1ms/step - loss: 148368.0938 - val_loss: 147070.5469\n",
      "Epoch 31/300\n",
      "77/77 [==============================] - 0s 954us/step - loss: 147886.9688 - val_loss: 146715.7031\n",
      "Epoch 32/300\n",
      "77/77 [==============================] - 0s 1ms/step - loss: 147651.1562 - val_loss: 145844.4062\n",
      "Epoch 33/300\n",
      "77/77 [==============================] - 0s 629us/step - loss: 146809.5469 - val_loss: 148252.5469\n",
      "Epoch 34/300\n",
      "77/77 [==============================] - 0s 756us/step - loss: 146667.5469 - val_loss: 145703.7812\n",
      "Epoch 35/300\n",
      "77/77 [==============================] - 0s 1ms/step - loss: 145783.9219 - val_loss: 146094.9375\n",
      "Epoch 36/300\n",
      "77/77 [==============================] - 0s 937us/step - loss: 145827.6719 - val_loss: 143179.6250\n",
      "Epoch 37/300\n",
      "77/77 [==============================] - 0s 1ms/step - loss: 144890.5000 - val_loss: 144748.2188\n",
      "Epoch 38/300\n",
      "77/77 [==============================] - 0s 1ms/step - loss: 145708.8906 - val_loss: 141346.1094\n",
      "Epoch 39/300\n",
      "77/77 [==============================] - 0s 664us/step - loss: 143483.8594 - val_loss: 141751.6875\n",
      "Epoch 40/300\n",
      "77/77 [==============================] - 0s 578us/step - loss: 142887.5625 - val_loss: 140187.8906\n",
      "Epoch 41/300\n",
      "77/77 [==============================] - 0s 1ms/step - loss: 142795.7969 - val_loss: 140628.3438\n",
      "Epoch 42/300\n",
      "77/77 [==============================] - 0s 935us/step - loss: 141508.9688 - val_loss: 138734.2344\n",
      "Epoch 43/300\n",
      "77/77 [==============================] - 0s 1ms/step - loss: 141782.5781 - val_loss: 137982.8438\n",
      "Epoch 44/300\n",
      "77/77 [==============================] - 0s 1ms/step - loss: 140646.1719 - val_loss: 137674.8594\n",
      "Epoch 45/300\n",
      "77/77 [==============================] - 0s 891us/step - loss: 140267.5469 - val_loss: 139938.6875\n",
      "Epoch 46/300\n",
      "77/77 [==============================] - 0s 677us/step - loss: 139656.5781 - val_loss: 136511.1719\n",
      "Epoch 47/300\n",
      "77/77 [==============================] - 0s 767us/step - loss: 139182.8125 - val_loss: 135604.6719\n",
      "Epoch 48/300\n",
      "77/77 [==============================] - 0s 869us/step - loss: 138904.5625 - val_loss: 134758.1875\n",
      "Epoch 49/300\n",
      "77/77 [==============================] - 0s 1ms/step - loss: 139228.0469 - val_loss: 134406.8594\n",
      "Epoch 50/300\n",
      "77/77 [==============================] - 0s 871us/step - loss: 137525.6719 - val_loss: 133933.7344\n",
      "Epoch 51/300\n",
      "77/77 [==============================] - 0s 948us/step - loss: 137524.2812 - val_loss: 134318.2344\n",
      "Epoch 52/300\n",
      "77/77 [==============================] - 0s 744us/step - loss: 136707.8750 - val_loss: 132604.1875\n",
      "Epoch 53/300\n",
      "77/77 [==============================] - 0s 559us/step - loss: 136879.8438 - val_loss: 133650.2500\n",
      "Epoch 54/300\n",
      "77/77 [==============================] - 0s 516us/step - loss: 135122.0000 - val_loss: 132880.4531\n",
      "Epoch 55/300\n",
      "77/77 [==============================] - 0s 501us/step - loss: 135495.5156 - val_loss: 130739.0234\n",
      "Epoch 56/300\n",
      "77/77 [==============================] - 0s 496us/step - loss: 134943.3594 - val_loss: 132066.1719\n",
      "Epoch 57/300\n",
      "77/77 [==============================] - 0s 507us/step - loss: 134502.4531 - val_loss: 135003.6875\n",
      "Epoch 58/300\n",
      "77/77 [==============================] - 0s 791us/step - loss: 134373.7031 - val_loss: 129392.0000\n",
      "Epoch 59/300\n",
      "77/77 [==============================] - 0s 742us/step - loss: 133112.8906 - val_loss: 131750.5938\n",
      "Epoch 60/300\n",
      "77/77 [==============================] - 0s 981us/step - loss: 133653.2500 - val_loss: 130131.0000\n",
      "Epoch 61/300\n",
      "77/77 [==============================] - 0s 1ms/step - loss: 131790.3750 - val_loss: 127500.0000\n",
      "Epoch 62/300\n",
      "77/77 [==============================] - 0s 1ms/step - loss: 131993.0938 - val_loss: 128420.0000\n",
      "Epoch 63/300\n",
      "77/77 [==============================] - 0s 806us/step - loss: 130975.1719 - val_loss: 129323.9062\n",
      "Epoch 64/300\n",
      "77/77 [==============================] - 0s 677us/step - loss: 130631.9297 - val_loss: 125367.0156\n",
      "Epoch 65/300\n",
      "77/77 [==============================] - 0s 861us/step - loss: 129711.3359 - val_loss: 125607.3047\n",
      "Epoch 66/300\n",
      "77/77 [==============================] - 0s 795us/step - loss: 129368.7812 - val_loss: 124422.6484\n",
      "Epoch 67/300\n",
      "77/77 [==============================] - 0s 1ms/step - loss: 128996.4531 - val_loss: 123639.9922\n",
      "Epoch 68/300\n",
      "77/77 [==============================] - 0s 899us/step - loss: 128051.7891 - val_loss: 125143.2344\n",
      "Epoch 69/300\n",
      "77/77 [==============================] - 0s 1ms/step - loss: 127523.6484 - val_loss: 125720.9219\n",
      "Epoch 70/300\n",
      "77/77 [==============================] - 0s 782us/step - loss: 127922.0000 - val_loss: 122503.3828\n",
      "Epoch 71/300\n",
      "77/77 [==============================] - 0s 686us/step - loss: 126484.0781 - val_loss: 122380.7031\n",
      "Epoch 72/300\n",
      "77/77 [==============================] - 0s 976us/step - loss: 126512.5391 - val_loss: 120958.8125\n",
      "Epoch 73/300\n",
      "77/77 [==============================] - 0s 991us/step - loss: 125372.2812 - val_loss: 119896.2031\n",
      "Epoch 74/300\n"
     ]
    },
    {
     "name": "stdout",
     "output_type": "stream",
     "text": [
      "77/77 [==============================] - 0s 864us/step - loss: 125367.6719 - val_loss: 119736.8125\n",
      "Epoch 75/300\n",
      "77/77 [==============================] - 0s 1ms/step - loss: 125188.9219 - val_loss: 118481.2656\n",
      "Epoch 76/300\n",
      "77/77 [==============================] - 0s 1ms/step - loss: 123967.3906 - val_loss: 118533.1094\n",
      "Epoch 77/300\n",
      "77/77 [==============================] - 0s 943us/step - loss: 122838.3516 - val_loss: 117531.5547\n",
      "Epoch 78/300\n",
      "77/77 [==============================] - 0s 735us/step - loss: 122885.2578 - val_loss: 117481.3125\n",
      "Epoch 79/300\n",
      "77/77 [==============================] - 0s 911us/step - loss: 122695.0703 - val_loss: 118162.8984\n",
      "Epoch 80/300\n",
      "77/77 [==============================] - 0s 741us/step - loss: 120950.0078 - val_loss: 116277.8438\n",
      "Epoch 81/300\n",
      "77/77 [==============================] - 0s 968us/step - loss: 121351.3750 - val_loss: 116084.6797\n",
      "Epoch 82/300\n",
      "77/77 [==============================] - 0s 1ms/step - loss: 120063.5078 - val_loss: 116433.9141\n",
      "Epoch 83/300\n",
      "77/77 [==============================] - 0s 1ms/step - loss: 119435.5312 - val_loss: 113908.8125\n",
      "Epoch 84/300\n",
      "77/77 [==============================] - 0s 959us/step - loss: 119329.0234 - val_loss: 114682.8125\n",
      "Epoch 85/300\n",
      "77/77 [==============================] - 0s 914us/step - loss: 118741.2031 - val_loss: 112813.6406\n",
      "Epoch 86/300\n",
      "77/77 [==============================] - 0s 788us/step - loss: 118612.6250 - val_loss: 112412.6875\n",
      "Epoch 87/300\n",
      "77/77 [==============================] - 0s 943us/step - loss: 117825.3828 - val_loss: 112070.3125\n",
      "Epoch 88/300\n",
      "77/77 [==============================] - 0s 1ms/step - loss: 116690.1875 - val_loss: 111507.2500\n",
      "Epoch 89/300\n",
      "77/77 [==============================] - 0s 1ms/step - loss: 115976.5859 - val_loss: 112225.2812\n",
      "Epoch 90/300\n",
      "77/77 [==============================] - 0s 1ms/step - loss: 115649.9219 - val_loss: 110107.8281\n",
      "Epoch 91/300\n",
      "77/77 [==============================] - 0s 819us/step - loss: 115453.7422 - val_loss: 109502.5391\n",
      "Epoch 92/300\n",
      "77/77 [==============================] - 0s 651us/step - loss: 114432.1797 - val_loss: 110709.1250\n",
      "Epoch 93/300\n",
      "77/77 [==============================] - 0s 555us/step - loss: 114344.0938 - val_loss: 108951.5547\n",
      "Epoch 94/300\n",
      "77/77 [==============================] - 0s 500us/step - loss: 114231.7109 - val_loss: 109498.6016\n",
      "Epoch 95/300\n",
      "77/77 [==============================] - 0s 500us/step - loss: 112489.5469 - val_loss: 108597.7266\n",
      "Epoch 96/300\n",
      "77/77 [==============================] - 0s 538us/step - loss: 112613.0703 - val_loss: 108000.1797\n",
      "Epoch 97/300\n",
      "77/77 [==============================] - 0s 759us/step - loss: 111360.7422 - val_loss: 112130.2812\n",
      "Epoch 98/300\n",
      "77/77 [==============================] - 0s 888us/step - loss: 111562.7812 - val_loss: 111459.2344\n",
      "Epoch 99/300\n",
      "77/77 [==============================] - 0s 1ms/step - loss: 110475.7188 - val_loss: 105718.7344\n",
      "Epoch 100/300\n",
      "77/77 [==============================] - 0s 1ms/step - loss: 110840.5781 - val_loss: 107874.6172\n",
      "Epoch 101/300\n",
      "77/77 [==============================] - 0s 803us/step - loss: 109476.1719 - val_loss: 108393.6797\n",
      "Epoch 102/300\n",
      "77/77 [==============================] - 0s 683us/step - loss: 109476.5859 - val_loss: 105148.0234\n",
      "Epoch 103/300\n",
      "77/77 [==============================] - 0s 843us/step - loss: 109221.5156 - val_loss: 106658.5000\n",
      "Epoch 104/300\n",
      "77/77 [==============================] - 0s 1ms/step - loss: 109030.2031 - val_loss: 107520.4844\n",
      "Epoch 105/300\n",
      "77/77 [==============================] - 0s 1ms/step - loss: 109279.1875 - val_loss: 103819.0859\n",
      "Epoch 106/300\n",
      "77/77 [==============================] - 0s 1ms/step - loss: 107480.2500 - val_loss: 106839.2031\n",
      "Epoch 107/300\n",
      "77/77 [==============================] - 0s 1ms/step - loss: 108407.3359 - val_loss: 105673.7422\n",
      "Epoch 108/300\n",
      "77/77 [==============================] - 0s 598us/step - loss: 107077.4609 - val_loss: 103142.4062\n",
      "Epoch 109/300\n",
      "77/77 [==============================] - 0s 550us/step - loss: 106590.6328 - val_loss: 104126.2344\n",
      "Epoch 110/300\n",
      "77/77 [==============================] - 0s 798us/step - loss: 105867.9688 - val_loss: 105434.5391\n",
      "Epoch 111/300\n",
      "77/77 [==============================] - 0s 1ms/step - loss: 105816.1953 - val_loss: 102592.7969\n",
      "Epoch 112/300\n",
      "77/77 [==============================] - 0s 1ms/step - loss: 105705.8516 - val_loss: 102488.0391\n",
      "Epoch 113/300\n",
      "77/77 [==============================] - 0s 1ms/step - loss: 105804.9297 - val_loss: 102151.9141\n",
      "Epoch 114/300\n",
      "77/77 [==============================] - 0s 898us/step - loss: 105066.1172 - val_loss: 101822.1719\n",
      "Epoch 115/300\n",
      "77/77 [==============================] - 0s 713us/step - loss: 105156.6328 - val_loss: 105051.2500\n",
      "Epoch 116/300\n",
      "77/77 [==============================] - 0s 707us/step - loss: 105028.8828 - val_loss: 102638.7969\n",
      "Epoch 117/300\n",
      "77/77 [==============================] - 0s 531us/step - loss: 104095.1953 - val_loss: 101386.5000\n",
      "Epoch 118/300\n",
      "77/77 [==============================] - 0s 518us/step - loss: 103718.7422 - val_loss: 100913.3438\n",
      "Epoch 119/300\n",
      "77/77 [==============================] - 0s 502us/step - loss: 103930.3281 - val_loss: 100764.3906\n",
      "Epoch 120/300\n",
      "77/77 [==============================] - 0s 495us/step - loss: 103045.0469 - val_loss: 101041.7578\n",
      "Epoch 121/300\n",
      "77/77 [==============================] - 0s 494us/step - loss: 102584.6094 - val_loss: 102329.8750\n",
      "Epoch 122/300\n",
      "77/77 [==============================] - 0s 489us/step - loss: 102894.2734 - val_loss: 100295.0000\n",
      "Epoch 123/300\n",
      "77/77 [==============================] - 0s 491us/step - loss: 103186.1875 - val_loss: 105536.2266\n",
      "Epoch 124/300\n",
      "77/77 [==============================] - 0s 488us/step - loss: 102733.5859 - val_loss: 100571.0938\n",
      "Epoch 125/300\n",
      "77/77 [==============================] - 0s 486us/step - loss: 101788.4453 - val_loss: 102492.6719\n",
      "Epoch 126/300\n",
      "77/77 [==============================] - 0s 487us/step - loss: 104659.5625 - val_loss: 99704.6484\n",
      "Epoch 127/300\n",
      "77/77 [==============================] - 0s 487us/step - loss: 101711.5781 - val_loss: 101213.4609\n",
      "Epoch 128/300\n",
      "77/77 [==============================] - 0s 489us/step - loss: 100860.2734 - val_loss: 99249.4766\n",
      "Epoch 129/300\n",
      "77/77 [==============================] - 0s 493us/step - loss: 100602.4141 - val_loss: 100562.6250\n",
      "Epoch 130/300\n",
      "77/77 [==============================] - 0s 485us/step - loss: 100758.5000 - val_loss: 100599.0234\n",
      "Epoch 131/300\n",
      "77/77 [==============================] - 0s 485us/step - loss: 100099.3203 - val_loss: 101402.8203\n",
      "Epoch 132/300\n",
      "77/77 [==============================] - 0s 491us/step - loss: 100815.4062 - val_loss: 98873.0469\n",
      "Epoch 133/300\n",
      "77/77 [==============================] - 0s 486us/step - loss: 101388.5391 - val_loss: 98965.5391\n",
      "Epoch 134/300\n",
      "77/77 [==============================] - 0s 491us/step - loss: 99687.6016 - val_loss: 98837.4219\n",
      "Epoch 135/300\n",
      "77/77 [==============================] - 0s 485us/step - loss: 100321.7578 - val_loss: 100301.3750\n",
      "Epoch 136/300\n",
      "77/77 [==============================] - 0s 488us/step - loss: 100160.5312 - val_loss: 108140.4766\n",
      "Epoch 137/300\n",
      "77/77 [==============================] - 0s 493us/step - loss: 101160.7578 - val_loss: 98575.9219\n",
      "Epoch 138/300\n",
      "77/77 [==============================] - 0s 492us/step - loss: 99596.6797 - val_loss: 98223.3906\n",
      "Epoch 139/300\n",
      "77/77 [==============================] - 0s 484us/step - loss: 99345.0938 - val_loss: 102719.0703\n",
      "Epoch 140/300\n",
      "77/77 [==============================] - 0s 486us/step - loss: 99960.2188 - val_loss: 99598.8672\n",
      "Epoch 141/300\n",
      "77/77 [==============================] - 0s 492us/step - loss: 99562.3750 - val_loss: 97832.7422\n",
      "Epoch 142/300\n",
      "77/77 [==============================] - 0s 489us/step - loss: 98594.6797 - val_loss: 98229.5156\n",
      "Epoch 143/300\n",
      "77/77 [==============================] - 0s 481us/step - loss: 101913.2500 - val_loss: 99251.3359\n",
      "Epoch 144/300\n",
      "77/77 [==============================] - 0s 484us/step - loss: 98516.5625 - val_loss: 98289.2578\n",
      "Epoch 145/300\n",
      "77/77 [==============================] - 0s 483us/step - loss: 98318.1797 - val_loss: 98435.6094\n",
      "Epoch 146/300\n",
      "77/77 [==============================] - 0s 492us/step - loss: 97958.1094 - val_loss: 97666.1562\n",
      "Epoch 147/300\n"
     ]
    },
    {
     "name": "stdout",
     "output_type": "stream",
     "text": [
      "77/77 [==============================] - 0s 486us/step - loss: 100277.5938 - val_loss: 107844.7969\n",
      "Epoch 148/300\n",
      "77/77 [==============================] - 0s 488us/step - loss: 98152.2734 - val_loss: 99716.7734\n",
      "Epoch 149/300\n",
      "77/77 [==============================] - 0s 483us/step - loss: 98395.1875 - val_loss: 97673.0469\n",
      "Epoch 150/300\n",
      "77/77 [==============================] - 0s 485us/step - loss: 97670.3906 - val_loss: 98297.1406\n",
      "Epoch 151/300\n",
      "77/77 [==============================] - 0s 491us/step - loss: 97953.8438 - val_loss: 97112.5703\n",
      "Epoch 152/300\n",
      "77/77 [==============================] - 0s 495us/step - loss: 97463.5938 - val_loss: 104487.9844\n",
      "Epoch 153/300\n",
      "77/77 [==============================] - 0s 491us/step - loss: 97373.9062 - val_loss: 96984.5625\n",
      "Epoch 154/300\n",
      "77/77 [==============================] - 0s 489us/step - loss: 97557.1953 - val_loss: 97105.2422\n",
      "Epoch 155/300\n",
      "77/77 [==============================] - 0s 492us/step - loss: 96276.1328 - val_loss: 97141.5391\n",
      "Epoch 156/300\n",
      "77/77 [==============================] - 0s 482us/step - loss: 96382.7578 - val_loss: 98162.1641\n",
      "Epoch 157/300\n",
      "77/77 [==============================] - 0s 486us/step - loss: 95915.6953 - val_loss: 98389.5078\n",
      "Epoch 158/300\n",
      "77/77 [==============================] - 0s 482us/step - loss: 96813.0469 - val_loss: 97287.2500\n",
      "Epoch 159/300\n",
      "77/77 [==============================] - 0s 499us/step - loss: 96480.9062 - val_loss: 96776.5156\n",
      "Epoch 160/300\n",
      "77/77 [==============================] - 0s 486us/step - loss: 96272.1562 - val_loss: 100895.6250\n",
      "Epoch 161/300\n",
      "77/77 [==============================] - 0s 492us/step - loss: 95896.6172 - val_loss: 96467.4531\n",
      "Epoch 162/300\n",
      "77/77 [==============================] - 0s 484us/step - loss: 95606.8125 - val_loss: 98024.2266\n",
      "Epoch 163/300\n",
      "77/77 [==============================] - 0s 487us/step - loss: 95880.5859 - val_loss: 97284.2266\n",
      "Epoch 164/300\n",
      "77/77 [==============================] - 0s 489us/step - loss: 95399.5781 - val_loss: 96159.3516\n",
      "Epoch 165/300\n",
      "77/77 [==============================] - 0s 495us/step - loss: 95889.4141 - val_loss: 95562.7422\n",
      "Epoch 166/300\n",
      "77/77 [==============================] - 0s 489us/step - loss: 95380.6641 - val_loss: 96156.7266\n",
      "Epoch 167/300\n",
      "77/77 [==============================] - 0s 485us/step - loss: 95311.8047 - val_loss: 95736.2109\n",
      "Epoch 168/300\n",
      "77/77 [==============================] - 0s 486us/step - loss: 94705.9297 - val_loss: 96541.3281\n",
      "Epoch 169/300\n",
      "77/77 [==============================] - 0s 491us/step - loss: 94493.8750 - val_loss: 95912.7891\n",
      "Epoch 170/300\n",
      "77/77 [==============================] - 0s 482us/step - loss: 94935.2891 - val_loss: 95968.7969\n",
      "Epoch 171/300\n",
      "77/77 [==============================] - 0s 480us/step - loss: 95584.1562 - val_loss: 96248.1484\n",
      "Epoch 172/300\n",
      "77/77 [==============================] - 0s 492us/step - loss: 95145.3828 - val_loss: 97049.5234\n",
      "Epoch 173/300\n",
      "77/77 [==============================] - 0s 485us/step - loss: 94774.0625 - val_loss: 101282.7344\n",
      "Epoch 174/300\n",
      "77/77 [==============================] - 0s 493us/step - loss: 95672.5469 - val_loss: 95341.6953\n",
      "Epoch 175/300\n",
      "77/77 [==============================] - 0s 502us/step - loss: 94176.0859 - val_loss: 95844.7109\n",
      "Epoch 176/300\n",
      "77/77 [==============================] - 0s 503us/step - loss: 94014.4375 - val_loss: 95879.3047\n",
      "Epoch 177/300\n",
      "77/77 [==============================] - 0s 548us/step - loss: 93666.8438 - val_loss: 95306.9062\n",
      "Epoch 178/300\n",
      "77/77 [==============================] - 0s 847us/step - loss: 93310.2344 - val_loss: 96244.2734\n",
      "Epoch 179/300\n",
      "77/77 [==============================] - 0s 934us/step - loss: 93785.3359 - val_loss: 94858.2266\n",
      "Epoch 180/300\n",
      "77/77 [==============================] - 0s 1ms/step - loss: 93579.3047 - val_loss: 95090.8203\n",
      "Epoch 181/300\n",
      "77/77 [==============================] - 0s 1ms/step - loss: 92884.6250 - val_loss: 95163.7188\n",
      "Epoch 182/300\n",
      "77/77 [==============================] - 0s 1ms/step - loss: 94172.3672 - val_loss: 95372.7891\n",
      "Epoch 183/300\n",
      "77/77 [==============================] - 0s 658us/step - loss: 95067.5781 - val_loss: 94651.4688\n",
      "Epoch 184/300\n",
      "77/77 [==============================] - 0s 704us/step - loss: 93454.5234 - val_loss: 96583.5781\n",
      "Epoch 185/300\n",
      "77/77 [==============================] - 0s 890us/step - loss: 92729.3047 - val_loss: 93974.8828\n",
      "Epoch 186/300\n",
      "77/77 [==============================] - 0s 1ms/step - loss: 92768.2656 - val_loss: 95192.6094\n",
      "Epoch 187/300\n",
      "77/77 [==============================] - 0s 983us/step - loss: 93081.8438 - val_loss: 94464.2578\n",
      "Epoch 188/300\n",
      "77/77 [==============================] - 0s 584us/step - loss: 92629.9609 - val_loss: 96566.4453\n",
      "Epoch 189/300\n",
      "77/77 [==============================] - 0s 506us/step - loss: 92213.5938 - val_loss: 95715.7266\n",
      "Epoch 190/300\n",
      "77/77 [==============================] - 0s 499us/step - loss: 92270.5859 - val_loss: 99071.1875\n",
      "Epoch 191/300\n",
      "77/77 [==============================] - 0s 499us/step - loss: 92408.2891 - val_loss: 94189.5859\n",
      "Epoch 192/300\n",
      "77/77 [==============================] - 0s 503us/step - loss: 92334.3438 - val_loss: 94182.7578\n",
      "Epoch 193/300\n",
      "77/77 [==============================] - 0s 483us/step - loss: 93014.8906 - val_loss: 95135.7188\n",
      "Epoch 194/300\n",
      "77/77 [==============================] - 0s 509us/step - loss: 91284.2656 - val_loss: 93701.5703\n",
      "Epoch 195/300\n",
      "77/77 [==============================] - 0s 497us/step - loss: 91419.3438 - val_loss: 93703.2812\n",
      "Epoch 196/300\n",
      "77/77 [==============================] - 0s 530us/step - loss: 91383.3750 - val_loss: 93994.1406\n",
      "Epoch 197/300\n",
      "77/77 [==============================] - 0s 684us/step - loss: 92013.8594 - val_loss: 94700.6953\n",
      "Epoch 198/300\n",
      "77/77 [==============================] - 0s 783us/step - loss: 92350.7109 - val_loss: 97152.6953\n",
      "Epoch 199/300\n",
      "77/77 [==============================] - 0s 773us/step - loss: 90993.8984 - val_loss: 93331.1484\n",
      "Epoch 200/300\n",
      "77/77 [==============================] - 0s 757us/step - loss: 91010.5938 - val_loss: 94979.0469\n",
      "Epoch 201/300\n",
      "77/77 [==============================] - 0s 517us/step - loss: 90861.7812 - val_loss: 93520.4844\n",
      "Epoch 202/300\n",
      "77/77 [==============================] - 0s 500us/step - loss: 90166.8750 - val_loss: 93170.1641\n",
      "Epoch 203/300\n",
      "77/77 [==============================] - 0s 490us/step - loss: 90587.6250 - val_loss: 93707.9766\n",
      "Epoch 204/300\n",
      "77/77 [==============================] - 0s 507us/step - loss: 90638.4531 - val_loss: 96732.4453\n",
      "Epoch 205/300\n",
      "77/77 [==============================] - 0s 488us/step - loss: 92472.2031 - val_loss: 94439.8984\n",
      "Epoch 206/300\n",
      "77/77 [==============================] - 0s 527us/step - loss: 90870.9844 - val_loss: 93767.4688\n",
      "Epoch 207/300\n",
      "77/77 [==============================] - 0s 893us/step - loss: 89913.1094 - val_loss: 91807.8828\n",
      "Epoch 208/300\n",
      "77/77 [==============================] - 0s 1ms/step - loss: 89773.9844 - val_loss: 94972.7734\n",
      "Epoch 209/300\n",
      "77/77 [==============================] - 0s 1ms/step - loss: 89649.9375 - val_loss: 91535.0703\n",
      "Epoch 210/300\n",
      "77/77 [==============================] - 0s 1ms/step - loss: 89771.5156 - val_loss: 94927.3672\n",
      "Epoch 211/300\n",
      "77/77 [==============================] - 0s 871us/step - loss: 88185.1172 - val_loss: 95295.9766\n",
      "Epoch 212/300\n",
      "77/77 [==============================] - 0s 745us/step - loss: 89272.3047 - val_loss: 90988.7734\n",
      "Epoch 213/300\n",
      "77/77 [==============================] - 0s 835us/step - loss: 89749.4219 - val_loss: 91333.8125\n",
      "Epoch 214/300\n",
      "77/77 [==============================] - 0s 921us/step - loss: 88461.1875 - val_loss: 91372.6953\n",
      "Epoch 215/300\n",
      "77/77 [==============================] - 0s 898us/step - loss: 87963.4453 - val_loss: 91574.5625\n",
      "Epoch 216/300\n",
      "77/77 [==============================] - 0s 807us/step - loss: 88415.7109 - val_loss: 92700.1172\n",
      "Epoch 217/300\n",
      "77/77 [==============================] - 0s 559us/step - loss: 89321.2812 - val_loss: 93292.7109\n",
      "Epoch 218/300\n",
      "77/77 [==============================] - 0s 498us/step - loss: 88140.5859 - val_loss: 94223.8125\n",
      "Epoch 219/300\n",
      "77/77 [==============================] - 0s 499us/step - loss: 87716.0312 - val_loss: 91376.9844\n",
      "Epoch 220/300\n",
      "77/77 [==============================] - 0s 510us/step - loss: 87416.6641 - val_loss: 90916.0781\n",
      "Epoch 221/300\n"
     ]
    },
    {
     "name": "stdout",
     "output_type": "stream",
     "text": [
      "77/77 [==============================] - 0s 630us/step - loss: 87446.7188 - val_loss: 91604.3516\n",
      "Epoch 222/300\n",
      "77/77 [==============================] - 0s 977us/step - loss: 88079.9609 - val_loss: 91917.2891\n",
      "Epoch 223/300\n",
      "77/77 [==============================] - 0s 964us/step - loss: 87863.2422 - val_loss: 93179.2422\n",
      "Epoch 224/300\n",
      "77/77 [==============================] - 0s 635us/step - loss: 86955.8828 - val_loss: 90952.5781\n",
      "Epoch 225/300\n",
      "77/77 [==============================] - 0s 507us/step - loss: 86580.3516 - val_loss: 94124.8047\n",
      "Epoch 226/300\n",
      "77/77 [==============================] - 0s 508us/step - loss: 86542.8203 - val_loss: 90124.6719\n",
      "Epoch 227/300\n",
      "77/77 [==============================] - 0s 498us/step - loss: 86422.7891 - val_loss: 89494.7422\n",
      "Epoch 228/300\n",
      "77/77 [==============================] - 0s 490us/step - loss: 87029.1250 - val_loss: 96147.2734\n",
      "Epoch 229/300\n",
      "77/77 [==============================] - 0s 491us/step - loss: 85863.6641 - val_loss: 89241.5391\n",
      "Epoch 230/300\n",
      "77/77 [==============================] - 0s 490us/step - loss: 87004.2578 - val_loss: 89193.8281\n",
      "Epoch 231/300\n",
      "77/77 [==============================] - 0s 498us/step - loss: 86719.4688 - val_loss: 89920.9453\n",
      "Epoch 232/300\n",
      "77/77 [==============================] - 0s 492us/step - loss: 84915.3906 - val_loss: 89677.1016\n",
      "Epoch 233/300\n",
      "77/77 [==============================] - 0s 486us/step - loss: 86464.1016 - val_loss: 90393.4375\n",
      "Epoch 234/300\n",
      "77/77 [==============================] - 0s 488us/step - loss: 84837.2656 - val_loss: 90307.2031\n",
      "Epoch 235/300\n",
      "77/77 [==============================] - 0s 490us/step - loss: 84248.8594 - val_loss: 88692.6328\n",
      "Epoch 236/300\n",
      "77/77 [==============================] - 0s 487us/step - loss: 84365.5312 - val_loss: 89241.9531\n",
      "Epoch 237/300\n",
      "77/77 [==============================] - 0s 494us/step - loss: 84246.0234 - val_loss: 88197.1250\n",
      "Epoch 238/300\n",
      "77/77 [==============================] - 0s 492us/step - loss: 84021.0781 - val_loss: 87721.2969\n",
      "Epoch 239/300\n",
      "77/77 [==============================] - 0s 487us/step - loss: 84034.5938 - val_loss: 88175.4766\n",
      "Epoch 240/300\n",
      "77/77 [==============================] - 0s 494us/step - loss: 83342.7812 - val_loss: 87092.0469\n",
      "Epoch 241/300\n",
      "77/77 [==============================] - 0s 491us/step - loss: 83254.9219 - val_loss: 88775.1406\n",
      "Epoch 242/300\n",
      "77/77 [==============================] - 0s 520us/step - loss: 83192.1797 - val_loss: 87043.2109\n",
      "Epoch 243/300\n",
      "77/77 [==============================] - 0s 535us/step - loss: 82902.4062 - val_loss: 88190.6016\n",
      "Epoch 244/300\n",
      "77/77 [==============================] - 0s 656us/step - loss: 83225.4297 - val_loss: 87494.6719\n",
      "Epoch 245/300\n",
      "77/77 [==============================] - 0s 807us/step - loss: 82275.3359 - val_loss: 88155.2891\n",
      "Epoch 246/300\n",
      "77/77 [==============================] - 0s 577us/step - loss: 83222.4453 - val_loss: 86637.9453\n",
      "Epoch 247/300\n",
      "77/77 [==============================] - 0s 520us/step - loss: 82451.4922 - val_loss: 87058.2109\n",
      "Epoch 248/300\n",
      "77/77 [==============================] - 0s 506us/step - loss: 81473.2578 - val_loss: 85887.9453\n",
      "Epoch 249/300\n",
      "77/77 [==============================] - 0s 500us/step - loss: 82648.7734 - val_loss: 87055.3672\n",
      "Epoch 250/300\n",
      "77/77 [==============================] - 0s 510us/step - loss: 82015.1875 - val_loss: 85520.2969\n",
      "Epoch 251/300\n",
      "77/77 [==============================] - 0s 535us/step - loss: 80946.5938 - val_loss: 86771.0859\n",
      "Epoch 252/300\n",
      "77/77 [==============================] - 0s 534us/step - loss: 81226.7812 - val_loss: 88470.2344\n",
      "Epoch 253/300\n",
      "77/77 [==============================] - 0s 529us/step - loss: 82068.6797 - val_loss: 84919.0312\n",
      "Epoch 254/300\n",
      "77/77 [==============================] - 0s 510us/step - loss: 80848.5469 - val_loss: 86638.9688\n",
      "Epoch 255/300\n",
      "77/77 [==============================] - 0s 492us/step - loss: 80824.6719 - val_loss: 84813.1094\n",
      "Epoch 256/300\n",
      "77/77 [==============================] - 0s 486us/step - loss: 80552.3438 - val_loss: 85385.1641\n",
      "Epoch 257/300\n",
      "77/77 [==============================] - 0s 488us/step - loss: 80813.9062 - val_loss: 85687.4453\n",
      "Epoch 258/300\n",
      "77/77 [==============================] - 0s 507us/step - loss: 79924.9453 - val_loss: 85081.2500\n",
      "Epoch 259/300\n",
      "77/77 [==============================] - 0s 521us/step - loss: 79551.5000 - val_loss: 85860.1172\n",
      "Epoch 260/300\n",
      "77/77 [==============================] - 0s 543us/step - loss: 79941.9922 - val_loss: 84268.5547\n",
      "Epoch 261/300\n",
      "77/77 [==============================] - 0s 543us/step - loss: 79819.4844 - val_loss: 84014.7891\n",
      "Epoch 262/300\n",
      "77/77 [==============================] - 0s 520us/step - loss: 78926.1484 - val_loss: 87889.8125\n",
      "Epoch 263/300\n",
      "77/77 [==============================] - 0s 515us/step - loss: 78767.0000 - val_loss: 85184.1797\n",
      "Epoch 264/300\n",
      "77/77 [==============================] - 0s 495us/step - loss: 78898.7344 - val_loss: 82819.7656\n",
      "Epoch 265/300\n",
      "77/77 [==============================] - 0s 517us/step - loss: 79296.5625 - val_loss: 83191.2969\n",
      "Epoch 266/300\n",
      "77/77 [==============================] - 0s 534us/step - loss: 78365.7266 - val_loss: 82408.7031\n",
      "Epoch 267/300\n",
      "77/77 [==============================] - 0s 516us/step - loss: 79301.7344 - val_loss: 82798.8359\n",
      "Epoch 268/300\n",
      "77/77 [==============================] - 0s 529us/step - loss: 78680.6484 - val_loss: 85875.2188\n",
      "Epoch 269/300\n",
      "77/77 [==============================] - 0s 519us/step - loss: 78358.1328 - val_loss: 82616.8984\n",
      "Epoch 270/300\n",
      "77/77 [==============================] - 0s 590us/step - loss: 77305.0781 - val_loss: 82518.7734\n",
      "Epoch 271/300\n",
      "77/77 [==============================] - 0s 566us/step - loss: 76906.5469 - val_loss: 82495.6094\n",
      "Epoch 272/300\n",
      "77/77 [==============================] - 0s 535us/step - loss: 77152.1250 - val_loss: 81723.4297\n",
      "Epoch 273/300\n",
      "77/77 [==============================] - 0s 527us/step - loss: 77103.1016 - val_loss: 82771.1641\n",
      "Epoch 274/300\n",
      "77/77 [==============================] - 0s 538us/step - loss: 77122.8750 - val_loss: 81413.5234\n",
      "Epoch 275/300\n",
      "77/77 [==============================] - 0s 552us/step - loss: 76604.5078 - val_loss: 84393.6328\n",
      "Epoch 276/300\n",
      "77/77 [==============================] - 0s 580us/step - loss: 77029.0547 - val_loss: 80525.0625\n",
      "Epoch 277/300\n",
      "77/77 [==============================] - 0s 598us/step - loss: 76313.7031 - val_loss: 82600.7422\n",
      "Epoch 278/300\n",
      "77/77 [==============================] - 0s 580us/step - loss: 76387.2109 - val_loss: 82183.4219\n",
      "Epoch 279/300\n",
      "77/77 [==============================] - 0s 597us/step - loss: 76564.1172 - val_loss: 80077.7422\n",
      "Epoch 280/300\n",
      "77/77 [==============================] - 0s 572us/step - loss: 75659.4219 - val_loss: 81261.3281\n",
      "Epoch 281/300\n",
      "77/77 [==============================] - 0s 549us/step - loss: 75479.9297 - val_loss: 81469.6250\n",
      "Epoch 282/300\n",
      "77/77 [==============================] - 0s 567us/step - loss: 75993.0781 - val_loss: 78939.8438\n",
      "Epoch 283/300\n",
      "77/77 [==============================] - 0s 547us/step - loss: 76642.8906 - val_loss: 80775.0703\n",
      "Epoch 284/300\n",
      "77/77 [==============================] - 0s 538us/step - loss: 74969.5312 - val_loss: 81400.8359\n",
      "Epoch 285/300\n",
      "77/77 [==============================] - 0s 551us/step - loss: 74883.5312 - val_loss: 84110.6016\n",
      "Epoch 286/300\n",
      "77/77 [==============================] - 0s 540us/step - loss: 75632.0859 - val_loss: 81090.0547\n",
      "Epoch 287/300\n",
      "77/77 [==============================] - 0s 543us/step - loss: 74547.8359 - val_loss: 80989.7031\n",
      "Epoch 288/300\n",
      "77/77 [==============================] - 0s 551us/step - loss: 74600.0859 - val_loss: 79168.7422\n",
      "Epoch 289/300\n",
      "77/77 [==============================] - 0s 565us/step - loss: 74897.4844 - val_loss: 82174.6406\n",
      "Epoch 290/300\n",
      "77/77 [==============================] - 0s 527us/step - loss: 74997.4688 - val_loss: 79577.8438\n",
      "Epoch 291/300\n",
      "77/77 [==============================] - 0s 509us/step - loss: 75202.9141 - val_loss: 79460.5938\n",
      "Epoch 292/300\n",
      "77/77 [==============================] - 0s 531us/step - loss: 74425.1797 - val_loss: 81040.8359\n",
      "83/83 [==============================] - 0s 243us/step\n",
      "Mean Squared Error: 82659.09654959479\n",
      "Root Mean Squared Error: 287.50495047841315\n",
      "R-squared: 0.8037361899116371\n",
      "Adjusted R-squared: 0.802835552924616\n"
     ]
    }
   ],
   "source": [
    "from keras.models import Sequential\n",
    "from keras.layers import Dense\n",
    "\n",
    "model = Sequential()\n",
    "\n",
    "model.add(Dense(units=64, activation='relu', input_dim=X_train_scaled.shape[1]))\n",
    "\n",
    "model.add(Dense(units=32, activation='relu'))\n",
    "\n",
    "model.add(Dense(units=16, activation='relu'))\n",
    "\n",
    "model.add(Dense(units=8, activation='relu'))\n",
    "\n",
    "model.add(Dense(units=1, activation='linear'))\n",
    "\n",
    "model.compile(optimizer='adam', loss='mean_squared_error')\n",
    "\n",
    "#from keras.layers import Dropout\n",
    "#model.add(Dropout(0.5)) \n",
    "\n",
    "#from keras.regularizers import l1, l2\n",
    "#model.add(Dense(units=64, activation='relu', input_dim=X_train.shape[1], kernel_regularizer=l2(0.01)))\n",
    "\n",
    "from keras.callbacks import EarlyStopping\n",
    "early_stopping = EarlyStopping(monitor='val_loss', patience = 10, restore_best_weights=True)\n",
    "model.fit(X_train_scaled, y_train, epochs = 300, batch_size = 64, validation_split=0.2, callbacks=[early_stopping])\n",
    "\n",
    "y_pred = model.predict(X_test_scaled)\n",
    "\n",
    "mse = mean_squared_error(y_test, y_pred)\n",
    "mse_r = mean_squared_error(y_test, y_pred, squared = False)\n",
    "r2 = r2_score(y_test, y_pred)\n",
    "\n",
    "n = len(y_test)\n",
    "k = X_train_scaled.shape[1]  \n",
    "adj_r2 = 1 - ((1 - r2) * (n - 1) / (n - k - 1))\n",
    "\n",
    "print(f'Mean Squared Error: {mse}')\n",
    "print(f'Root Mean Squared Error: {mse_r}')\n",
    "print(f'R-squared: {r2}')\n",
    "print(f'Adjusted R-squared: {adj_r2}')"
   ]
  },
  {
   "cell_type": "code",
   "execution_count": 54,
   "id": "82226ac5",
   "metadata": {},
   "outputs": [
    {
     "name": "stdout",
     "output_type": "stream",
     "text": [
      "Mean Squared Error: 82659.09654959479\n",
      "Root Mean Squared Error: 287.50495047841315\n",
      "R-squared: 0.8037361899116371\n",
      "Adjusted R-squared: 0.802835552924616\n"
     ]
    }
   ],
   "source": [
    "print(f'Mean Squared Error: {mse}')\n",
    "print(f'Root Mean Squared Error: {mse_r}')\n",
    "print(f'R-squared: {r2}')\n",
    "print(f'Adjusted R-squared: {adj_r2}')"
   ]
  },
  {
   "cell_type": "code",
   "execution_count": 55,
   "id": "8c5330c5",
   "metadata": {},
   "outputs": [
    {
     "name": "stdout",
     "output_type": "stream",
     "text": [
      "192/192 [==============================] - 0s 199us/step\n",
      "83/83 [==============================] - 0s 239us/step\n",
      "Training MSE: 75081.36911687806\n",
      "Validation MSE: 82659.09654959479\n",
      "Huber Loss: [[303.07775879 485.07775879 366.07775879 ... 376.07775879 319.92224121\n",
      "  394.07775879]\n",
      " [158.938591    22.061409    95.938591   ...  85.938591   782.938591\n",
      "   67.938591  ]\n",
      " [314.21124268 496.21124268 377.21124268 ... 387.21124268 308.78875732\n",
      "  405.21124268]\n",
      " ...\n",
      " [ 10.99890137 170.00109863  51.00109863 ...  61.00109863 634.99890137\n",
      "   79.00109863]\n",
      " [372.7432251  554.7432251  435.7432251  ... 445.7432251  250.2567749\n",
      "  463.7432251 ]\n",
      " [119.77130127 301.77130127 182.77130127 ... 192.77130127 503.22869873\n",
      "  210.77130127]]\n",
      "Mean Huber Loss: 663.985561126239\n"
     ]
    }
   ],
   "source": [
    "train_pred = model.predict(X_train_scaled)\n",
    "test_pred = model.predict(X_test_scaled)\n",
    "\n",
    "from sklearn.metrics import mean_squared_error, r2_score\n",
    "\n",
    "train_mse = mean_squared_error(y_train, train_pred)\n",
    "test_mse = mean_squared_error(y_test, test_pred)\n",
    "\n",
    "print(f'Training MSE: {train_mse}')\n",
    "print(f'Validation MSE: {test_mse}')\n",
    "\n",
    "import tensorflow as tf\n",
    "def huber_loss(y_test, y_pred, delta = 1.0):\n",
    "    error = y_test - y_pred\n",
    "    condition = tf.abs(error) < delta\n",
    "    squared_loss = 0.5 * tf.square(error)\n",
    "    linear_loss = delta * (tf.abs(error) - 0.5 * delta)\n",
    "    return tf.where(condition, squared_loss, linear_loss)\n",
    "\n",
    "loss = huber_loss(y_test, y_pred, delta = 1.0)\n",
    "print(\"Huber Loss:\", loss.numpy())\n",
    "\n",
    "mean_huber_loss = np.mean(loss)\n",
    "print(f\"Mean Huber Loss: {mean_huber_loss}\")"
   ]
  },
  {
   "cell_type": "markdown",
   "id": "d6508386",
   "metadata": {},
   "source": [
    "## Overfitting "
   ]
  },
  {
   "cell_type": "code",
   "execution_count": 56,
   "id": "c3b99ecb",
   "metadata": {
    "collapsed": true
   },
   "outputs": [
    {
     "name": "stdout",
     "output_type": "stream",
     "text": [
      "Epoch 1/200\n",
      "68/68 [==============================] - 0s 1ms/step - loss: 897464.5625 - val_loss: 915851.9375\n",
      "Epoch 2/200\n",
      "68/68 [==============================] - 0s 630us/step - loss: 848140.5000 - val_loss: 762969.1875\n",
      "Epoch 3/200\n",
      "68/68 [==============================] - 0s 608us/step - loss: 531055.9375 - val_loss: 343661.6250\n",
      "Epoch 4/200\n",
      "68/68 [==============================] - 0s 683us/step - loss: 329926.4688 - val_loss: 322496.6875\n",
      "Epoch 5/200\n",
      "68/68 [==============================] - 0s 592us/step - loss: 316761.2500 - val_loss: 309315.0312\n",
      "Epoch 6/200\n",
      "68/68 [==============================] - 0s 580us/step - loss: 302553.4062 - val_loss: 295234.6875\n",
      "Epoch 7/200\n",
      "68/68 [==============================] - 0s 658us/step - loss: 288339.0312 - val_loss: 280648.3438\n",
      "Epoch 8/200\n",
      "68/68 [==============================] - 0s 736us/step - loss: 273894.9062 - val_loss: 266671.4688\n",
      "Epoch 9/200\n",
      "68/68 [==============================] - 0s 1ms/step - loss: 259172.8594 - val_loss: 252806.6562\n",
      "Epoch 10/200\n",
      "68/68 [==============================] - 0s 780us/step - loss: 245608.0156 - val_loss: 238352.6719\n",
      "Epoch 11/200\n",
      "68/68 [==============================] - 0s 682us/step - loss: 232994.7344 - val_loss: 227137.9531\n",
      "Epoch 12/200\n",
      "68/68 [==============================] - 0s 565us/step - loss: 223524.4531 - val_loss: 218665.2344\n",
      "Epoch 13/200\n",
      "68/68 [==============================] - 0s 546us/step - loss: 215571.9844 - val_loss: 210662.3281\n",
      "Epoch 14/200\n",
      "68/68 [==============================] - 0s 549us/step - loss: 208857.3125 - val_loss: 204277.1875\n",
      "Epoch 15/200\n",
      "68/68 [==============================] - 0s 542us/step - loss: 203048.5781 - val_loss: 197354.5469\n",
      "Epoch 16/200\n",
      "68/68 [==============================] - 0s 545us/step - loss: 197373.1875 - val_loss: 191622.3438\n",
      "Epoch 17/200\n",
      "68/68 [==============================] - 0s 596us/step - loss: 192121.7344 - val_loss: 186152.4219\n",
      "Epoch 18/200\n",
      "68/68 [==============================] - 0s 601us/step - loss: 186675.2188 - val_loss: 181362.5938\n",
      "Epoch 19/200\n",
      "68/68 [==============================] - 0s 625us/step - loss: 182451.8594 - val_loss: 179065.0781\n",
      "Epoch 20/200\n",
      "68/68 [==============================] - 0s 608us/step - loss: 178267.6406 - val_loss: 173950.9531\n",
      "Epoch 21/200\n",
      "68/68 [==============================] - 0s 632us/step - loss: 175144.4688 - val_loss: 169781.0625\n",
      "Epoch 22/200\n",
      "68/68 [==============================] - 0s 593us/step - loss: 173031.7656 - val_loss: 166121.5469\n",
      "Epoch 23/200\n",
      "68/68 [==============================] - 0s 599us/step - loss: 169182.2031 - val_loss: 163799.0469\n",
      "Epoch 24/200\n",
      "68/68 [==============================] - 0s 594us/step - loss: 167339.8750 - val_loss: 163775.5000\n",
      "Epoch 25/200\n",
      "68/68 [==============================] - 0s 594us/step - loss: 166071.6875 - val_loss: 158612.4375\n",
      "Epoch 26/200\n",
      "68/68 [==============================] - 0s 595us/step - loss: 163947.6719 - val_loss: 156736.1562\n",
      "Epoch 27/200\n",
      "68/68 [==============================] - 0s 620us/step - loss: 161530.5000 - val_loss: 155450.3750\n",
      "Epoch 28/200\n",
      "68/68 [==============================] - 0s 598us/step - loss: 160278.2500 - val_loss: 153257.2344\n",
      "Epoch 29/200\n",
      "68/68 [==============================] - 0s 556us/step - loss: 159050.6094 - val_loss: 151866.3281\n",
      "Epoch 30/200\n",
      "68/68 [==============================] - 0s 562us/step - loss: 157941.3906 - val_loss: 150948.1562\n",
      "Epoch 31/200\n",
      "68/68 [==============================] - 0s 573us/step - loss: 156620.5156 - val_loss: 149809.7031\n",
      "Epoch 32/200\n",
      "68/68 [==============================] - 0s 554us/step - loss: 155221.0625 - val_loss: 147454.0156\n",
      "Epoch 33/200\n",
      "68/68 [==============================] - 0s 532us/step - loss: 153709.9531 - val_loss: 148402.5781\n",
      "Epoch 34/200\n",
      "68/68 [==============================] - 0s 577us/step - loss: 152619.6250 - val_loss: 144701.3281\n",
      "Epoch 35/200\n",
      "68/68 [==============================] - 0s 550us/step - loss: 152509.9375 - val_loss: 144766.7969\n",
      "Epoch 36/200\n",
      "68/68 [==============================] - 0s 547us/step - loss: 151551.5312 - val_loss: 142711.5469\n",
      "Epoch 37/200\n",
      "68/68 [==============================] - 0s 542us/step - loss: 150565.7188 - val_loss: 142055.8281\n",
      "Epoch 38/200\n",
      "68/68 [==============================] - 0s 534us/step - loss: 149522.8750 - val_loss: 144129.7500\n",
      "Epoch 39/200\n",
      "68/68 [==============================] - 0s 532us/step - loss: 148598.2188 - val_loss: 141554.0156\n",
      "Epoch 40/200\n",
      "68/68 [==============================] - 0s 560us/step - loss: 148809.7188 - val_loss: 140108.9688\n",
      "Epoch 41/200\n",
      "68/68 [==============================] - 0s 626us/step - loss: 147369.8125 - val_loss: 139769.2969\n",
      "Epoch 42/200\n",
      "68/68 [==============================] - 0s 643us/step - loss: 147118.7969 - val_loss: 138539.3281\n",
      "Epoch 43/200\n",
      "68/68 [==============================] - 0s 694us/step - loss: 146085.2031 - val_loss: 138495.6094\n",
      "Epoch 44/200\n",
      "68/68 [==============================] - 0s 739us/step - loss: 147282.2656 - val_loss: 137833.9062\n",
      "Epoch 45/200\n",
      "68/68 [==============================] - 0s 732us/step - loss: 145549.0625 - val_loss: 136505.5781\n",
      "Epoch 46/200\n",
      "68/68 [==============================] - 0s 739us/step - loss: 145418.1875 - val_loss: 135919.5000\n",
      "Epoch 47/200\n",
      "68/68 [==============================] - 0s 622us/step - loss: 143518.1250 - val_loss: 136636.0781\n",
      "Epoch 48/200\n",
      "68/68 [==============================] - 0s 572us/step - loss: 144298.2188 - val_loss: 139289.9844\n",
      "Epoch 49/200\n",
      "68/68 [==============================] - 0s 597us/step - loss: 144175.3438 - val_loss: 137145.8125\n",
      "Epoch 50/200\n",
      "68/68 [==============================] - 0s 583us/step - loss: 143437.9531 - val_loss: 134260.4531\n",
      "Epoch 51/200\n",
      "68/68 [==============================] - 0s 601us/step - loss: 143470.1094 - val_loss: 134284.2500\n",
      "Epoch 52/200\n",
      "68/68 [==============================] - 0s 663us/step - loss: 142110.5469 - val_loss: 133378.7969\n",
      "Epoch 53/200\n",
      "68/68 [==============================] - 0s 760us/step - loss: 141299.8438 - val_loss: 133962.2188\n",
      "Epoch 54/200\n",
      "68/68 [==============================] - 0s 729us/step - loss: 141505.3594 - val_loss: 132960.1719\n",
      "Epoch 55/200\n",
      "68/68 [==============================] - 0s 678us/step - loss: 141162.1406 - val_loss: 132375.0156\n",
      "Epoch 56/200\n",
      "68/68 [==============================] - 0s 620us/step - loss: 140696.9844 - val_loss: 131688.5156\n",
      "Epoch 57/200\n",
      "68/68 [==============================] - 0s 613us/step - loss: 140674.4375 - val_loss: 131189.1250\n",
      "Epoch 58/200\n",
      "68/68 [==============================] - 0s 603us/step - loss: 139800.1406 - val_loss: 131204.1250\n",
      "Epoch 59/200\n",
      "68/68 [==============================] - 0s 614us/step - loss: 139188.3750 - val_loss: 130712.1406\n",
      "Epoch 60/200\n",
      "68/68 [==============================] - 0s 591us/step - loss: 138730.0156 - val_loss: 133314.2812\n",
      "Epoch 61/200\n",
      "68/68 [==============================] - 0s 592us/step - loss: 138823.2344 - val_loss: 129551.0781\n",
      "Epoch 62/200\n",
      "68/68 [==============================] - 0s 554us/step - loss: 137902.8594 - val_loss: 129495.8984\n",
      "Epoch 63/200\n",
      "68/68 [==============================] - 0s 558us/step - loss: 137559.7656 - val_loss: 128547.8672\n",
      "Epoch 64/200\n",
      "68/68 [==============================] - 0s 572us/step - loss: 137425.2969 - val_loss: 129452.3672\n",
      "Epoch 65/200\n",
      "68/68 [==============================] - 0s 580us/step - loss: 137351.7500 - val_loss: 127892.0859\n",
      "Epoch 66/200\n",
      "68/68 [==============================] - 0s 578us/step - loss: 136934.0781 - val_loss: 128508.9844\n",
      "Epoch 67/200\n",
      "68/68 [==============================] - 0s 623us/step - loss: 136049.1250 - val_loss: 127156.7578\n",
      "Epoch 68/200\n",
      "68/68 [==============================] - 0s 616us/step - loss: 135970.6094 - val_loss: 126785.7266\n",
      "Epoch 69/200\n",
      "68/68 [==============================] - 0s 538us/step - loss: 135838.4219 - val_loss: 126821.8672\n",
      "Epoch 70/200\n",
      "68/68 [==============================] - 0s 546us/step - loss: 135291.2812 - val_loss: 126674.0703\n",
      "Epoch 71/200\n",
      "68/68 [==============================] - 0s 542us/step - loss: 134885.7344 - val_loss: 125919.7266\n",
      "Epoch 72/200\n",
      "68/68 [==============================] - 0s 563us/step - loss: 133723.0312 - val_loss: 128747.2578\n",
      "Epoch 73/200\n",
      "68/68 [==============================] - 0s 622us/step - loss: 134191.1719 - val_loss: 125797.2109\n",
      "Epoch 74/200\n"
     ]
    },
    {
     "name": "stdout",
     "output_type": "stream",
     "text": [
      "68/68 [==============================] - 0s 650us/step - loss: 133532.5781 - val_loss: 130358.9531\n",
      "Epoch 75/200\n",
      "68/68 [==============================] - 0s 568us/step - loss: 138552.5312 - val_loss: 125410.5547\n",
      "Epoch 76/200\n",
      "68/68 [==============================] - 0s 547us/step - loss: 132416.3750 - val_loss: 126569.8984\n",
      "Epoch 77/200\n",
      "68/68 [==============================] - 0s 555us/step - loss: 134413.1875 - val_loss: 123356.8672\n",
      "Epoch 78/200\n",
      "68/68 [==============================] - 0s 554us/step - loss: 131802.9219 - val_loss: 123112.7891\n",
      "Epoch 79/200\n",
      "68/68 [==============================] - 0s 550us/step - loss: 131180.3906 - val_loss: 123446.7500\n",
      "Epoch 80/200\n",
      "68/68 [==============================] - 0s 534us/step - loss: 131102.8281 - val_loss: 126349.2969\n",
      "Epoch 81/200\n",
      "68/68 [==============================] - 0s 542us/step - loss: 131061.8281 - val_loss: 124879.6484\n",
      "Epoch 82/200\n",
      "68/68 [==============================] - 0s 550us/step - loss: 131014.3828 - val_loss: 121832.8516\n",
      "Epoch 83/200\n",
      "68/68 [==============================] - 0s 565us/step - loss: 129877.1875 - val_loss: 121875.0859\n",
      "Epoch 84/200\n",
      "68/68 [==============================] - 0s 598us/step - loss: 129885.1797 - val_loss: 121311.2344\n",
      "Epoch 85/200\n",
      "68/68 [==============================] - 0s 581us/step - loss: 128623.1641 - val_loss: 121861.2266\n",
      "Epoch 86/200\n",
      "68/68 [==============================] - 0s 585us/step - loss: 128592.0000 - val_loss: 120652.1094\n",
      "Epoch 87/200\n",
      "68/68 [==============================] - 0s 623us/step - loss: 128651.9766 - val_loss: 121342.9062\n",
      "Epoch 88/200\n",
      "68/68 [==============================] - 0s 590us/step - loss: 128253.3438 - val_loss: 120033.7891\n",
      "Epoch 89/200\n",
      "68/68 [==============================] - 0s 581us/step - loss: 127457.8203 - val_loss: 119377.0156\n",
      "Epoch 90/200\n",
      "68/68 [==============================] - 0s 576us/step - loss: 126528.6250 - val_loss: 123071.9531\n",
      "Epoch 91/200\n",
      "68/68 [==============================] - 0s 592us/step - loss: 126760.0938 - val_loss: 118507.0156\n",
      "Epoch 92/200\n",
      "68/68 [==============================] - 0s 601us/step - loss: 126334.0625 - val_loss: 118010.3203\n",
      "Epoch 93/200\n",
      "68/68 [==============================] - 0s 604us/step - loss: 126052.8125 - val_loss: 117875.4531\n",
      "Epoch 94/200\n",
      "68/68 [==============================] - 0s 561us/step - loss: 125396.6797 - val_loss: 120616.4141\n",
      "Epoch 95/200\n",
      "68/68 [==============================] - 0s 535us/step - loss: 125896.9297 - val_loss: 119392.1875\n",
      "Epoch 96/200\n",
      "68/68 [==============================] - 0s 546us/step - loss: 125093.7578 - val_loss: 116640.2734\n",
      "Epoch 97/200\n",
      "68/68 [==============================] - 0s 542us/step - loss: 124803.9453 - val_loss: 116379.0469\n",
      "Epoch 98/200\n",
      "68/68 [==============================] - 0s 542us/step - loss: 123374.1016 - val_loss: 116033.6250\n",
      "Epoch 99/200\n",
      "68/68 [==============================] - 0s 533us/step - loss: 124089.5703 - val_loss: 118178.3984\n",
      "Epoch 100/200\n",
      "68/68 [==============================] - 0s 577us/step - loss: 122432.1016 - val_loss: 116938.5703\n",
      "Epoch 101/200\n",
      "68/68 [==============================] - 0s 625us/step - loss: 122213.2188 - val_loss: 120846.2812\n",
      "Epoch 102/200\n",
      "68/68 [==============================] - 0s 607us/step - loss: 123060.3828 - val_loss: 114802.5859\n",
      "Epoch 103/200\n",
      "68/68 [==============================] - 0s 620us/step - loss: 121060.8516 - val_loss: 114278.0078\n",
      "Epoch 104/200\n",
      "68/68 [==============================] - 0s 629us/step - loss: 120895.1719 - val_loss: 115002.9219\n",
      "Epoch 105/200\n",
      "68/68 [==============================] - 0s 702us/step - loss: 121974.3750 - val_loss: 118281.8516\n",
      "Epoch 106/200\n",
      "68/68 [==============================] - 0s 635us/step - loss: 120362.0312 - val_loss: 113417.5469\n",
      "Epoch 107/200\n",
      "68/68 [==============================] - 0s 600us/step - loss: 119641.0938 - val_loss: 114416.0469\n",
      "Epoch 108/200\n",
      "68/68 [==============================] - 0s 628us/step - loss: 119755.2969 - val_loss: 112787.5078\n",
      "Epoch 109/200\n",
      "68/68 [==============================] - 0s 604us/step - loss: 119191.1641 - val_loss: 116213.1875\n",
      "Epoch 110/200\n",
      "68/68 [==============================] - 0s 598us/step - loss: 118399.5938 - val_loss: 116477.1250\n",
      "Epoch 111/200\n",
      "68/68 [==============================] - 0s 579us/step - loss: 120812.6875 - val_loss: 112767.7031\n",
      "Epoch 112/200\n",
      "68/68 [==============================] - 0s 548us/step - loss: 118390.7344 - val_loss: 112796.8984\n",
      "Epoch 113/200\n",
      "68/68 [==============================] - 0s 561us/step - loss: 117390.3672 - val_loss: 112944.0156\n",
      "Epoch 114/200\n",
      "68/68 [==============================] - 0s 574us/step - loss: 116997.6328 - val_loss: 111050.7266\n",
      "Epoch 115/200\n",
      "68/68 [==============================] - 0s 571us/step - loss: 116561.8281 - val_loss: 112785.0469\n",
      "Epoch 116/200\n",
      "68/68 [==============================] - 0s 571us/step - loss: 115796.4766 - val_loss: 110575.8984\n",
      "Epoch 117/200\n",
      "68/68 [==============================] - 0s 616us/step - loss: 115182.4531 - val_loss: 114219.7969\n",
      "Epoch 118/200\n",
      "68/68 [==============================] - 0s 643us/step - loss: 116175.5234 - val_loss: 113483.1406\n",
      "Epoch 119/200\n",
      "68/68 [==============================] - 0s 550us/step - loss: 115007.4453 - val_loss: 110127.6250\n",
      "Epoch 120/200\n",
      "68/68 [==============================] - 0s 557us/step - loss: 115201.7656 - val_loss: 109692.0625\n",
      "Epoch 121/200\n",
      "68/68 [==============================] - 0s 598us/step - loss: 116436.3438 - val_loss: 109354.7500\n",
      "Epoch 122/200\n",
      "68/68 [==============================] - 0s 656us/step - loss: 113999.6797 - val_loss: 108525.3125\n",
      "Epoch 123/200\n",
      "68/68 [==============================] - 0s 602us/step - loss: 114206.8516 - val_loss: 108326.9688\n",
      "Epoch 124/200\n",
      "68/68 [==============================] - 0s 574us/step - loss: 114484.3047 - val_loss: 108729.7422\n",
      "Epoch 125/200\n",
      "68/68 [==============================] - 0s 571us/step - loss: 112512.7422 - val_loss: 107673.0781\n",
      "Epoch 126/200\n",
      "68/68 [==============================] - 0s 554us/step - loss: 112089.4062 - val_loss: 107691.9531\n",
      "Epoch 127/200\n",
      "68/68 [==============================] - 0s 552us/step - loss: 112170.0938 - val_loss: 108296.3125\n",
      "Epoch 128/200\n",
      "68/68 [==============================] - 0s 540us/step - loss: 111488.6406 - val_loss: 108661.9922\n",
      "Epoch 129/200\n",
      "68/68 [==============================] - 0s 546us/step - loss: 112007.1875 - val_loss: 106906.2109\n",
      "Epoch 130/200\n",
      "68/68 [==============================] - 0s 550us/step - loss: 110515.7344 - val_loss: 107326.1016\n",
      "Epoch 131/200\n",
      "68/68 [==============================] - 0s 615us/step - loss: 110577.7188 - val_loss: 109123.2812\n",
      "Epoch 132/200\n",
      "68/68 [==============================] - 0s 601us/step - loss: 111846.1562 - val_loss: 106925.7734\n",
      "Epoch 133/200\n",
      "68/68 [==============================] - 0s 593us/step - loss: 109645.2344 - val_loss: 105986.0547\n",
      "Epoch 134/200\n",
      "68/68 [==============================] - 0s 547us/step - loss: 110421.4219 - val_loss: 108126.2812\n",
      "Epoch 135/200\n",
      "68/68 [==============================] - 0s 608us/step - loss: 109220.3438 - val_loss: 105628.2812\n",
      "Epoch 136/200\n",
      "68/68 [==============================] - 0s 587us/step - loss: 110044.2344 - val_loss: 106552.7500\n",
      "Epoch 137/200\n",
      "68/68 [==============================] - 0s 549us/step - loss: 109369.0000 - val_loss: 105201.5312\n",
      "Epoch 138/200\n",
      "68/68 [==============================] - 0s 545us/step - loss: 108259.5703 - val_loss: 105231.5234\n",
      "Epoch 139/200\n",
      "68/68 [==============================] - 0s 545us/step - loss: 108538.9141 - val_loss: 105033.4141\n",
      "Epoch 140/200\n",
      "68/68 [==============================] - 0s 535us/step - loss: 107737.7734 - val_loss: 107330.8906\n",
      "Epoch 141/200\n",
      "68/68 [==============================] - 0s 542us/step - loss: 107551.4688 - val_loss: 107798.8359\n",
      "Epoch 142/200\n",
      "68/68 [==============================] - 0s 599us/step - loss: 108625.5703 - val_loss: 104369.3906\n",
      "Epoch 143/200\n",
      "68/68 [==============================] - 0s 618us/step - loss: 106815.3828 - val_loss: 104670.9766\n",
      "Epoch 144/200\n",
      "68/68 [==============================] - 0s 585us/step - loss: 106471.3047 - val_loss: 104380.2266\n",
      "Epoch 145/200\n",
      "68/68 [==============================] - 0s 571us/step - loss: 106166.0469 - val_loss: 105109.3516\n",
      "Epoch 146/200\n",
      "68/68 [==============================] - 0s 579us/step - loss: 105899.7500 - val_loss: 103842.6250\n"
     ]
    },
    {
     "name": "stdout",
     "output_type": "stream",
     "text": [
      "Epoch 147/200\n",
      "68/68 [==============================] - 0s 581us/step - loss: 105878.6562 - val_loss: 104554.9297\n",
      "Epoch 148/200\n",
      "68/68 [==============================] - 0s 609us/step - loss: 105374.5781 - val_loss: 103703.9531\n",
      "Epoch 149/200\n",
      "68/68 [==============================] - 0s 592us/step - loss: 105860.8750 - val_loss: 109641.0625\n",
      "Epoch 150/200\n",
      "68/68 [==============================] - 0s 566us/step - loss: 107972.7344 - val_loss: 107170.2188\n",
      "Epoch 151/200\n",
      "68/68 [==============================] - 0s 581us/step - loss: 104602.0391 - val_loss: 103164.7266\n",
      "Epoch 152/200\n",
      "68/68 [==============================] - 0s 573us/step - loss: 104444.7500 - val_loss: 105900.5547\n",
      "Epoch 153/200\n",
      "68/68 [==============================] - 0s 587us/step - loss: 105266.2734 - val_loss: 102961.2812\n",
      "Epoch 154/200\n",
      "68/68 [==============================] - 0s 571us/step - loss: 103692.2031 - val_loss: 103757.2812\n",
      "Epoch 155/200\n",
      "68/68 [==============================] - 0s 568us/step - loss: 103765.2422 - val_loss: 107260.7109\n",
      "Epoch 156/200\n",
      "68/68 [==============================] - 0s 580us/step - loss: 104536.9219 - val_loss: 103006.2812\n",
      "Epoch 157/200\n",
      "68/68 [==============================] - 0s 562us/step - loss: 103232.7969 - val_loss: 104502.6094\n",
      "Epoch 158/200\n",
      "68/68 [==============================] - 0s 577us/step - loss: 103126.1094 - val_loss: 102589.6953\n",
      "Epoch 159/200\n",
      "68/68 [==============================] - 0s 562us/step - loss: 102002.4141 - val_loss: 104343.1797\n",
      "Epoch 160/200\n",
      "68/68 [==============================] - 0s 538us/step - loss: 103551.3750 - val_loss: 103911.5234\n",
      "Epoch 161/200\n",
      "68/68 [==============================] - 0s 534us/step - loss: 101429.7266 - val_loss: 102074.9297\n",
      "Epoch 162/200\n",
      "68/68 [==============================] - 0s 593us/step - loss: 101971.8125 - val_loss: 101724.3906\n",
      "Epoch 163/200\n",
      "68/68 [==============================] - 0s 565us/step - loss: 102030.6484 - val_loss: 101552.9062\n",
      "Epoch 164/200\n",
      "68/68 [==============================] - 0s 566us/step - loss: 100814.1250 - val_loss: 101522.2031\n",
      "Epoch 165/200\n",
      "68/68 [==============================] - 0s 576us/step - loss: 101672.1484 - val_loss: 102905.5156\n",
      "Epoch 166/200\n",
      "68/68 [==============================] - 0s 577us/step - loss: 100748.4297 - val_loss: 101287.0781\n",
      "Epoch 167/200\n",
      "68/68 [==============================] - 0s 573us/step - loss: 100129.2344 - val_loss: 101686.7969\n",
      "Epoch 168/200\n",
      "68/68 [==============================] - 0s 567us/step - loss: 101652.5859 - val_loss: 101270.8672\n",
      "Epoch 169/200\n",
      "68/68 [==============================] - 0s 547us/step - loss: 100504.0078 - val_loss: 104628.3984\n",
      "Epoch 170/200\n",
      "68/68 [==============================] - 0s 531us/step - loss: 99505.2422 - val_loss: 101759.6406\n",
      "Epoch 171/200\n",
      "68/68 [==============================] - 0s 529us/step - loss: 100305.0312 - val_loss: 102459.1406\n",
      "Epoch 172/200\n",
      "68/68 [==============================] - 0s 532us/step - loss: 99538.6562 - val_loss: 100220.4922\n",
      "Epoch 173/200\n",
      "68/68 [==============================] - 0s 533us/step - loss: 98347.3359 - val_loss: 100656.2734\n",
      "Epoch 174/200\n",
      "68/68 [==============================] - 0s 579us/step - loss: 98127.7266 - val_loss: 100269.8672\n",
      "Epoch 175/200\n",
      "68/68 [==============================] - 0s 631us/step - loss: 98669.0938 - val_loss: 100419.4688\n",
      "Epoch 176/200\n",
      "68/68 [==============================] - 0s 597us/step - loss: 98927.6719 - val_loss: 100301.1406\n",
      "Epoch 177/200\n",
      "68/68 [==============================] - 0s 661us/step - loss: 97864.0781 - val_loss: 103381.7734\n",
      "Epoch 178/200\n",
      "68/68 [==============================] - 0s 689us/step - loss: 97748.0078 - val_loss: 101386.6797\n",
      "Epoch 179/200\n",
      "68/68 [==============================] - 0s 637us/step - loss: 97067.1953 - val_loss: 99924.1797\n",
      "Epoch 180/200\n",
      "68/68 [==============================] - 0s 576us/step - loss: 98701.4375 - val_loss: 99866.7109\n",
      "Epoch 181/200\n",
      "68/68 [==============================] - 0s 572us/step - loss: 97036.3047 - val_loss: 100964.3281\n",
      "Epoch 182/200\n",
      "68/68 [==============================] - 0s 639us/step - loss: 97750.9219 - val_loss: 99870.7422\n",
      "Epoch 183/200\n",
      "68/68 [==============================] - 0s 617us/step - loss: 97205.2031 - val_loss: 100119.8750\n",
      "Epoch 184/200\n",
      "68/68 [==============================] - 0s 574us/step - loss: 96839.0078 - val_loss: 100958.0000\n",
      "Epoch 185/200\n",
      "68/68 [==============================] - 0s 653us/step - loss: 96537.0312 - val_loss: 101785.2500\n",
      "Epoch 186/200\n",
      "68/68 [==============================] - 0s 658us/step - loss: 98400.1953 - val_loss: 100370.1484\n",
      "Epoch 187/200\n",
      "68/68 [==============================] - 0s 734us/step - loss: 97666.5859 - val_loss: 99158.6953\n",
      "Epoch 188/200\n",
      "68/68 [==============================] - 0s 677us/step - loss: 96283.2578 - val_loss: 98928.1406\n",
      "Epoch 189/200\n",
      "68/68 [==============================] - 0s 581us/step - loss: 96047.0234 - val_loss: 100936.3125\n",
      "Epoch 190/200\n",
      "68/68 [==============================] - 0s 602us/step - loss: 97397.1094 - val_loss: 100555.8125\n",
      "Epoch 191/200\n",
      "68/68 [==============================] - 0s 601us/step - loss: 95766.7109 - val_loss: 98588.3750\n",
      "Epoch 192/200\n",
      "68/68 [==============================] - 0s 577us/step - loss: 94882.3359 - val_loss: 100566.6875\n",
      "Epoch 193/200\n",
      "68/68 [==============================] - 0s 632us/step - loss: 96706.7266 - val_loss: 105120.3672\n",
      "Epoch 194/200\n",
      "68/68 [==============================] - 0s 645us/step - loss: 95927.0000 - val_loss: 99184.1406\n",
      "Epoch 195/200\n",
      "68/68 [==============================] - 0s 739us/step - loss: 94565.3750 - val_loss: 102605.5625\n",
      "Epoch 196/200\n",
      "68/68 [==============================] - 0s 698us/step - loss: 95505.5469 - val_loss: 102138.0234\n",
      "Epoch 197/200\n",
      "68/68 [==============================] - 0s 624us/step - loss: 94224.7344 - val_loss: 100185.3203\n",
      "Epoch 198/200\n",
      "68/68 [==============================] - 0s 628us/step - loss: 93505.7578 - val_loss: 98041.3750\n",
      "Epoch 199/200\n",
      "68/68 [==============================] - 0s 579us/step - loss: 94654.6797 - val_loss: 98795.5547\n",
      "Epoch 200/200\n",
      "68/68 [==============================] - 0s 559us/step - loss: 95952.4531 - val_loss: 97604.0000\n",
      "Mean Squared Error: 82659.09654959479\n",
      "Root Mean Squared Error: 287.50495047841315\n",
      "R-squared: 0.8037361899116371\n",
      "Adjusted R-squared: 0.802835552924616\n"
     ]
    }
   ],
   "source": [
    "from keras.models import Sequential\n",
    "from keras.layers import Dense\n",
    "\n",
    "model = Sequential()\n",
    "\n",
    "model.add(Dense(units=64, activation='relu', input_dim=X_train_scaled.shape[1]))\n",
    "\n",
    "model.add(Dense(units=32, activation='relu'))\n",
    "\n",
    "model.add(Dense(units=16, activation='relu'))\n",
    "\n",
    "model.add(Dense(units=8, activation='relu'))\n",
    "\n",
    "model.add(Dense(units=1, activation='linear'))\n",
    "\n",
    "model.compile(optimizer='adam', loss='mean_squared_error')\n",
    "\n",
    "#from keras.layers import Dropout\n",
    "#model.add(Dropout(0.5)) \n",
    "\n",
    "#from keras.regularizers import l1, l2\n",
    "#model.add(Dense(units=64, activation='relu', input_dim=X_train.shape[1], kernel_regularizer=l2(0.01)))\n",
    "\n",
    "from keras.callbacks import EarlyStopping\n",
    "early_stopping = EarlyStopping(monitor='val_loss', patience = 10, restore_best_weights=True)\n",
    "model.fit(X_train_scaled, y_train, epochs = 200, batch_size = 64, validation_split=0.3, callbacks=[early_stopping])\n",
    "\n",
    "mse = mean_squared_error(y_test, y_pred)\n",
    "mse_r = mean_squared_error(y_test, y_pred, squared = False)\n",
    "r2 = r2_score(y_test, y_pred)\n",
    "\n",
    "n = len(y_test)\n",
    "k = X_train_scaled.shape[1]  \n",
    "adj_r2 = 1 - ((1 - r2) * (n - 1) / (n - k - 1))\n",
    "\n",
    "print(f'Mean Squared Error: {mse}')\n",
    "print(f'Root Mean Squared Error: {mse_r}')\n",
    "print(f'R-squared: {r2}')\n",
    "print(f'Adjusted R-squared: {adj_r2}')"
   ]
  },
  {
   "cell_type": "code",
   "execution_count": 57,
   "id": "f4ed3263",
   "metadata": {},
   "outputs": [
    {
     "name": "stdout",
     "output_type": "stream",
     "text": [
      "Mean Squared Error: 82659.09654959479\n",
      "Root Mean Squared Error: 287.50495047841315\n",
      "R-squared: 0.8037361899116371\n",
      "Adjusted R-squared: 0.802835552924616\n"
     ]
    }
   ],
   "source": [
    "print(f'Mean Squared Error: {mse}')\n",
    "print(f'Root Mean Squared Error: {mse_r}')\n",
    "print(f'R-squared: {r2}')\n",
    "print(f'Adjusted R-squared: {adj_r2}')"
   ]
  },
  {
   "cell_type": "code",
   "execution_count": 58,
   "id": "a32f3df8",
   "metadata": {},
   "outputs": [
    {
     "name": "stdout",
     "output_type": "stream",
     "text": [
      "192/192 [==============================] - 0s 217us/step\n",
      "83/83 [==============================] - 0s 215us/step\n",
      "Training MSE: 94190.77861947824\n",
      "Validation MSE: 99644.35187497338\n",
      "Huber Loss: [[303.07775879 485.07775879 366.07775879 ... 376.07775879 319.92224121\n",
      "  394.07775879]\n",
      " [158.938591    22.061409    95.938591   ...  85.938591   782.938591\n",
      "   67.938591  ]\n",
      " [314.21124268 496.21124268 377.21124268 ... 387.21124268 308.78875732\n",
      "  405.21124268]\n",
      " ...\n",
      " [ 10.99890137 170.00109863  51.00109863 ...  61.00109863 634.99890137\n",
      "   79.00109863]\n",
      " [372.7432251  554.7432251  435.7432251  ... 445.7432251  250.2567749\n",
      "  463.7432251 ]\n",
      " [119.77130127 301.77130127 182.77130127 ... 192.77130127 503.22869873\n",
      "  210.77130127]]\n",
      "Mean Huber Loss: 663.985561126239\n"
     ]
    }
   ],
   "source": [
    "train_pred = model.predict(X_train_scaled)\n",
    "test_pred = model.predict(X_test_scaled)\n",
    "\n",
    "from sklearn.metrics import mean_squared_error, r2_score\n",
    "\n",
    "train_mse = mean_squared_error(y_train, train_pred)\n",
    "test_mse = mean_squared_error(y_test, test_pred)\n",
    "\n",
    "print(f'Training MSE: {train_mse}')\n",
    "print(f'Validation MSE: {test_mse}')\n",
    "\n",
    "import tensorflow as tf\n",
    "def huber_loss(y_test, y_pred, delta = 1.0):\n",
    "    error = y_test - y_pred\n",
    "    condition = tf.abs(error) < delta\n",
    "    squared_loss = 0.5 * tf.square(error)\n",
    "    linear_loss = delta * (tf.abs(error) - 0.5 * delta)\n",
    "    return tf.where(condition, squared_loss, linear_loss)\n",
    "\n",
    "loss = huber_loss(y_test, y_pred, delta = 1.0)\n",
    "print(\"Huber Loss:\", loss.numpy())\n",
    "\n",
    "mean_huber_loss = np.mean(loss)\n",
    "print(f\"Mean Huber Loss: {mean_huber_loss}\")"
   ]
  },
  {
   "cell_type": "markdown",
   "id": "4ecf7217",
   "metadata": {},
   "source": [
    "## A little bit overfitting "
   ]
  },
  {
   "cell_type": "markdown",
   "id": "92f48da5",
   "metadata": {},
   "source": []
  },
  {
   "cell_type": "markdown",
   "id": "f0d8b450",
   "metadata": {},
   "source": [
    "# SVM"
   ]
  },
  {
   "cell_type": "code",
   "execution_count": 59,
   "id": "577688c3",
   "metadata": {},
   "outputs": [],
   "source": [
    "from sklearn import svm"
   ]
  },
  {
   "cell_type": "code",
   "execution_count": 60,
   "id": "ff30a011",
   "metadata": {},
   "outputs": [
    {
     "name": "stdout",
     "output_type": "stream",
     "text": [
      "Mean Squared Error: 236429.84301803165\n",
      "Root Mean Squared Error: 486.24051972046885\n",
      "R-squared: 0.43862655477402646\n",
      "Adjusted R-squared: 0.43605046248235857\n"
     ]
    }
   ],
   "source": [
    "regressor = svm.SVR(kernel = 'linear', C = 5.0, epsilon = 2.5)\n",
    "\n",
    "regressor.fit(X_train_scaled, y_train)\n",
    "\n",
    "yp_svm = regressor.predict(X_test_scaled)\n",
    "\n",
    "mse = mean_squared_error(y_test, yp_svm)\n",
    "mse_r = mean_squared_error(y_test, yp_svm, squared = False)\n",
    "r2 = r2_score(y_test, yp_svm)\n",
    "\n",
    "n = len(y_test)\n",
    "k = X_train_scaled.shape[1]  \n",
    "adj_r2 = 1 - ((1 - r2) * (n - 1) / (n - k - 1))\n",
    "\n",
    "print(f'Mean Squared Error: {mse}')\n",
    "print(f'Root Mean Squared Error: {mse_r}')\n",
    "print(f'R-squared: {r2}')\n",
    "print(f'Adjusted R-squared: {adj_r2}')"
   ]
  },
  {
   "cell_type": "code",
   "execution_count": 61,
   "id": "a8e88b7d",
   "metadata": {},
   "outputs": [
    {
     "data": {
      "text/plain": [
       "0.39066264273211904"
      ]
     },
     "execution_count": 61,
     "metadata": {},
     "output_type": "execute_result"
    }
   ],
   "source": [
    "score_svm = cross_val_score(svm.SVR(kernel = 'linear', C = 5.0, epsilon = 2.5), \n",
    "                            X_test_scaled, y_test, cv = 10, scoring = 'r2').mean()\n",
    "score_svm"
   ]
  },
  {
   "cell_type": "code",
   "execution_count": 62,
   "id": "ea0dc11d",
   "metadata": {},
   "outputs": [
    {
     "data": {
      "text/html": [
       "<div>\n",
       "<style scoped>\n",
       "    .dataframe tbody tr th:only-of-type {\n",
       "        vertical-align: middle;\n",
       "    }\n",
       "\n",
       "    .dataframe tbody tr th {\n",
       "        vertical-align: top;\n",
       "    }\n",
       "\n",
       "    .dataframe thead th {\n",
       "        text-align: right;\n",
       "    }\n",
       "</style>\n",
       "<table border=\"1\" class=\"dataframe\">\n",
       "  <thead>\n",
       "    <tr style=\"text-align: right;\">\n",
       "      <th></th>\n",
       "      <th>Actual</th>\n",
       "      <th>Predicted</th>\n",
       "    </tr>\n",
       "  </thead>\n",
       "  <tbody>\n",
       "    <tr>\n",
       "      <th>0</th>\n",
       "      <td>278.0</td>\n",
       "      <td>752.001061</td>\n",
       "    </tr>\n",
       "    <tr>\n",
       "      <th>1</th>\n",
       "      <td>96.0</td>\n",
       "      <td>-46.373636</td>\n",
       "    </tr>\n",
       "    <tr>\n",
       "      <th>2</th>\n",
       "      <td>215.0</td>\n",
       "      <td>751.421698</td>\n",
       "    </tr>\n",
       "    <tr>\n",
       "      <th>3</th>\n",
       "      <td>1290.0</td>\n",
       "      <td>772.225837</td>\n",
       "    </tr>\n",
       "    <tr>\n",
       "      <th>4</th>\n",
       "      <td>165.0</td>\n",
       "      <td>409.359190</td>\n",
       "    </tr>\n",
       "  </tbody>\n",
       "</table>\n",
       "</div>"
      ],
      "text/plain": [
       "   Actual   Predicted\n",
       "0   278.0  752.001061\n",
       "1    96.0  -46.373636\n",
       "2   215.0  751.421698\n",
       "3  1290.0  772.225837\n",
       "4   165.0  409.359190"
      ]
     },
     "execution_count": 62,
     "metadata": {},
     "output_type": "execute_result"
    }
   ],
   "source": [
    "pred_svm = pd.DataFrame({'Actual': y_test, 'Predicted': yp_svm})\n",
    "pred_svm.head()"
   ]
  },
  {
   "cell_type": "code",
   "execution_count": null,
   "id": "4dee445f",
   "metadata": {},
   "outputs": [],
   "source": []
  },
  {
   "cell_type": "code",
   "execution_count": 63,
   "id": "753e0e58",
   "metadata": {},
   "outputs": [
    {
     "name": "stdout",
     "output_type": "stream",
     "text": [
      "Mean Squared Error: 171042.0750008932\n",
      "Root Mean Squared Error: 413.57233345678867\n",
      "R-squared: 0.5938817295812873\n",
      "Adjusted R-squared: 0.592018089334624\n"
     ]
    }
   ],
   "source": [
    "regressor = svm.SVR(kernel = 'poly', C = 50.0, epsilon = 3.5, degree = 2)\n",
    "\n",
    "regressor.fit(X_train_scaled, y_train)\n",
    "\n",
    "yp_svm_p2 = regressor.predict(X_test_scaled)\n",
    "\n",
    "mse = mean_squared_error(y_test, yp_svm_p2)\n",
    "mse_r = mean_squared_error(y_test, yp_svm_p2, squared = False)\n",
    "r2 = r2_score(y_test, yp_svm_p2)\n",
    "\n",
    "n = len(y_test)\n",
    "k = X_train_scaled.shape[1]  \n",
    "adj_r2 = 1 - ((1 - r2) * (n - 1) / (n - k - 1))\n",
    "\n",
    "print(f'Mean Squared Error: {mse}')\n",
    "print(f'Root Mean Squared Error: {mse_r}')\n",
    "print(f'R-squared: {r2}')\n",
    "print(f'Adjusted R-squared: {adj_r2}')"
   ]
  },
  {
   "cell_type": "code",
   "execution_count": 64,
   "id": "7db15db6",
   "metadata": {},
   "outputs": [
    {
     "data": {
      "text/plain": [
       "0.5814502820155307"
      ]
     },
     "execution_count": 64,
     "metadata": {},
     "output_type": "execute_result"
    }
   ],
   "source": [
    "score_svr = cross_val_score(svm.SVR(kernel = 'poly', C = 50.0, epsilon = 3.5, degree = 2), \n",
    "                            X_test_scaled, y_test, cv = 10, scoring = 'r2').mean()\n",
    "score_svr"
   ]
  },
  {
   "cell_type": "code",
   "execution_count": 65,
   "id": "2b7f64bf",
   "metadata": {},
   "outputs": [
    {
     "name": "stdout",
     "output_type": "stream",
     "text": [
      "Training MSE: 166261.82566648372\n",
      "Validation MSE: 171042.0750008932\n",
      "Huber Loss: [384.37340128   6.84765552 504.59238377 ... 222.44997011 366.62108966\n",
      " 197.29393556]\n",
      "Mean Huber Loss: 279.70157583458814\n"
     ]
    }
   ],
   "source": [
    "train_pred = regressor.predict(X_train_scaled)\n",
    "test_pred = regressor.predict(X_test_scaled)\n",
    "\n",
    "from sklearn.metrics import mean_squared_error, r2_score\n",
    "\n",
    "train_mse = mean_squared_error(y_train, train_pred)\n",
    "test_mse = mean_squared_error(y_test, test_pred)\n",
    "\n",
    "print(f'Training MSE: {train_mse}')\n",
    "print(f'Validation MSE: {test_mse}')\n",
    "\n",
    "import tensorflow as tf\n",
    "def huber_loss(y_test, yp_svm_p2, delta = 1.0):\n",
    "    error = y_test - yp_svm_p2\n",
    "    condition = tf.abs(error) < delta\n",
    "    squared_loss = 0.5 * tf.square(error)\n",
    "    linear_loss = delta * (tf.abs(error) - 0.5 * delta)\n",
    "    return tf.where(condition, squared_loss, linear_loss)\n",
    "\n",
    "loss = huber_loss(y_test, yp_svm_p2, delta = 1.0)\n",
    "print(\"Huber Loss:\", loss.numpy())\n",
    "\n",
    "mean_huber_loss = np.mean(loss)\n",
    "print(f\"Mean Huber Loss: {mean_huber_loss}\")"
   ]
  },
  {
   "cell_type": "markdown",
   "id": "7f34301c",
   "metadata": {},
   "source": [
    "## Small difference not that overffit "
   ]
  },
  {
   "cell_type": "markdown",
   "id": "9e3d088b",
   "metadata": {},
   "source": []
  },
  {
   "cell_type": "code",
   "execution_count": 66,
   "id": "ec18e31f",
   "metadata": {},
   "outputs": [],
   "source": [
    "from sklearn.model_selection import RandomizedSearchCV\n",
    "\n",
    "param_dist = {'kernel': ['linear', 'poly', 'rbf', 'sigmoid'],\n",
    "              'C': [0.1, 1, 10, 100],\n",
    "              'epsilon': [0.1, 0.5, 1, 2],\n",
    "              'degree': [2, 3, 4]}\n",
    "\n",
    "random_search = RandomizedSearchCV(svm.SVR(), param_dist, cv=5)\n",
    "random_search.fit(X_train_scaled, y_train)\n",
    "\n",
    "best_params = random_search.best_params_\n",
    "best_regressor = random_search.best_estimator_\n",
    "\n",
    "yp_best = best_regressor.predict(X_test_scaled)\n"
   ]
  },
  {
   "cell_type": "code",
   "execution_count": 67,
   "id": "f7582981",
   "metadata": {},
   "outputs": [
    {
     "data": {
      "text/plain": [
       "{'kernel': 'poly', 'epsilon': 1, 'degree': 4, 'C': 10}"
      ]
     },
     "execution_count": 67,
     "metadata": {},
     "output_type": "execute_result"
    }
   ],
   "source": [
    "best_params"
   ]
  },
  {
   "cell_type": "code",
   "execution_count": 91,
   "id": "7c6a0fea",
   "metadata": {},
   "outputs": [
    {
     "name": "stdout",
     "output_type": "stream",
     "text": [
      "Mean Squared Error: 143005.04451917205\n",
      "Root Mean Squared Error: 378.16007790243015\n",
      "R-squared: 0.6604521937600799\n",
      "Adjusted R-squared: 0.6588940393911014\n"
     ]
    }
   ],
   "source": [
    "regressor = svm.SVR(kernel = 'poly', C = 10.0, epsilon = 1.0, degree = 4)\n",
    "\n",
    "regressor.fit(X_train_scaled, y_train)\n",
    "\n",
    "yp_svm_p2 = regressor.predict(X_test_scaled)\n",
    "\n",
    "mse = mean_squared_error(y_test, yp_svm_p2)\n",
    "mse_r = mean_squared_error(y_test, yp_svm_p2, squared = False)\n",
    "r2 = r2_score(y_test, yp_svm_p2)\n",
    "\n",
    "n = len(y_test)\n",
    "k = X_train_scaled.shape[1]  \n",
    "adj_r2 = 1 - ((1 - r2) * (n - 1) / (n - k - 1))\n",
    "\n",
    "print(f'Mean Squared Error: {mse}')\n",
    "print(f'Root Mean Squared Error: {mse_r}')\n",
    "print(f'R-squared: {r2}')\n",
    "print(f'Adjusted R-squared: {adj_r2}')"
   ]
  },
  {
   "cell_type": "code",
   "execution_count": 98,
   "id": "4fa3a720",
   "metadata": {},
   "outputs": [
    {
     "data": {
      "text/plain": [
       "0.6439695019158407"
      ]
     },
     "execution_count": 98,
     "metadata": {},
     "output_type": "execute_result"
    }
   ],
   "source": [
    "score_svr = cross_val_score(svm.SVR(kernel = 'poly', C = 10.0, epsilon = 1.0, degree = 4), \n",
    "                            X_test_scaled, y_test, cv = 10, scoring = 'r2').mean()\n",
    "score_svr"
   ]
  },
  {
   "cell_type": "code",
   "execution_count": 99,
   "id": "3cf8f7b3",
   "metadata": {},
   "outputs": [
    {
     "name": "stdout",
     "output_type": "stream",
     "text": [
      "Training MSE: 144765.91253138767\n",
      "Validation MSE: 143005.04451917205\n",
      "Huber Loss: [277.04102608  10.01434742 468.26113932 ... 175.86335861 367.9171136\n",
      " 121.81844369]\n",
      "Mean Huber Loss: 243.49759222439724\n"
     ]
    }
   ],
   "source": [
    "train_pred = regressor.predict(X_train_scaled)\n",
    "test_pred = regressor.predict(X_test_scaled)\n",
    "\n",
    "from sklearn.metrics import mean_squared_error, r2_score\n",
    "\n",
    "train_mse = mean_squared_error(y_train, train_pred)\n",
    "test_mse = mean_squared_error(y_test, test_pred)\n",
    "\n",
    "print(f'Training MSE: {train_mse}')\n",
    "print(f'Validation MSE: {test_mse}')\n",
    "\n",
    "import tensorflow as tf\n",
    "def huber_loss(y_test, yp_svm_p2, delta = 1.0):\n",
    "    error = y_test - yp_svm_p2\n",
    "    condition = tf.abs(error) < delta\n",
    "    squared_loss = 0.5 * tf.square(error)\n",
    "    linear_loss = delta * (tf.abs(error) - 0.5 * delta)\n",
    "    return tf.where(condition, squared_loss, linear_loss)\n",
    "\n",
    "loss = huber_loss(y_test, yp_svm_p2, delta = 1.0)\n",
    "print(\"Huber Loss:\", loss.numpy())\n",
    "\n",
    "mean_huber_loss = np.mean(loss)\n",
    "print(f\"Mean Huber Loss: {mean_huber_loss}\")"
   ]
  },
  {
   "cell_type": "markdown",
   "id": "65618b76",
   "metadata": {},
   "source": [
    "## The best one among LN and SVM, the highest R2 with the least difference between Training and Validation "
   ]
  },
  {
   "cell_type": "code",
   "execution_count": null,
   "id": "c70d4eea",
   "metadata": {},
   "outputs": [],
   "source": []
  },
  {
   "cell_type": "code",
   "execution_count": null,
   "id": "71310987",
   "metadata": {},
   "outputs": [],
   "source": []
  },
  {
   "cell_type": "markdown",
   "id": "cebdc20b",
   "metadata": {},
   "source": [
    "# KNN"
   ]
  },
  {
   "cell_type": "code",
   "execution_count": 71,
   "id": "051ace45",
   "metadata": {},
   "outputs": [],
   "source": [
    "from sklearn.neighbors import KNeighborsRegressor"
   ]
  },
  {
   "cell_type": "code",
   "execution_count": 72,
   "id": "e7466068",
   "metadata": {},
   "outputs": [
    {
     "data": {
      "text/plain": [
       "7"
      ]
     },
     "execution_count": 72,
     "metadata": {},
     "output_type": "execute_result"
    }
   ],
   "source": [
    "from sklearn.model_selection import GridSearchCV\n",
    "\n",
    "param_grid = {'n_neighbors': [1, 3, 5, 7, 9]}\n",
    "grid_search = GridSearchCV(KNeighborsRegressor(), param_grid, cv = 5, scoring = 'neg_mean_squared_error')\n",
    "grid_search.fit(X_train_scaled, y_train)\n",
    "\n",
    "best_k = grid_search.best_params_['n_neighbors']\n",
    "#knn_regressor = KNeighborsRegressor(n_neighbors=best_k)\n",
    "#knn_regressor.fit(X_train, y_train)\n",
    "\n",
    "best_k"
   ]
  },
  {
   "cell_type": "code",
   "execution_count": 73,
   "id": "b1c23bf5",
   "metadata": {},
   "outputs": [
    {
     "name": "stdout",
     "output_type": "stream",
     "text": [
      "Mean Squared Error: 82368.36185661479\n",
      "Root Mean Squared Error: 286.9988882497889\n",
      "R-squared: 0.8044265035123295\n",
      "Adjusted R-squared: 0.8035290343123861\n"
     ]
    }
   ],
   "source": [
    "knn_regressor = KNeighborsRegressor(n_neighbors = 7) #metric = 'manhattan') \n",
    "\n",
    "knn_regressor.fit(X_train_scaled, y_train)\n",
    "\n",
    "yp_knn = knn_regressor.predict(X_test_scaled)\n",
    "\n",
    "mse = mean_squared_error(y_test, yp_knn)\n",
    "mse_r = mean_squared_error(y_test, yp_knn, squared = False)\n",
    "r2 = r2_score(y_test, yp_knn)\n",
    "\n",
    "n = len(y_test)\n",
    "k = X_train_scaled.shape[1]  \n",
    "adj_r2 = 1 - ((1 - r2) * (n - 1) / (n - k - 1))\n",
    "\n",
    "print(f'Mean Squared Error: {mse}')\n",
    "print(f'Root Mean Squared Error: {mse_r}')\n",
    "print(f'R-squared: {r2}')\n",
    "print(f'Adjusted R-squared: {adj_r2}')"
   ]
  },
  {
   "cell_type": "code",
   "execution_count": 100,
   "id": "85167242",
   "metadata": {},
   "outputs": [
    {
     "data": {
      "text/plain": [
       "0.7480101693896504"
      ]
     },
     "execution_count": 100,
     "metadata": {},
     "output_type": "execute_result"
    }
   ],
   "source": [
    "score_knn = cross_val_score(KNeighborsRegressor(n_neighbors = 7), \n",
    "                            X_test_scaled, y_test, cv = 5, scoring = 'r2').mean()\n",
    "score_knn"
   ]
  },
  {
   "cell_type": "code",
   "execution_count": 101,
   "id": "7af89a94",
   "metadata": {},
   "outputs": [
    {
     "data": {
      "text/html": [
       "<div>\n",
       "<style scoped>\n",
       "    .dataframe tbody tr th:only-of-type {\n",
       "        vertical-align: middle;\n",
       "    }\n",
       "\n",
       "    .dataframe tbody tr th {\n",
       "        vertical-align: top;\n",
       "    }\n",
       "\n",
       "    .dataframe thead th {\n",
       "        text-align: right;\n",
       "    }\n",
       "</style>\n",
       "<table border=\"1\" class=\"dataframe\">\n",
       "  <thead>\n",
       "    <tr style=\"text-align: right;\">\n",
       "      <th></th>\n",
       "      <th>Actual</th>\n",
       "      <th>Predicted</th>\n",
       "    </tr>\n",
       "  </thead>\n",
       "  <tbody>\n",
       "    <tr>\n",
       "      <th>0</th>\n",
       "      <td>278.0</td>\n",
       "      <td>331.571429</td>\n",
       "    </tr>\n",
       "    <tr>\n",
       "      <th>1</th>\n",
       "      <td>96.0</td>\n",
       "      <td>67.857143</td>\n",
       "    </tr>\n",
       "    <tr>\n",
       "      <th>2</th>\n",
       "      <td>215.0</td>\n",
       "      <td>251.000000</td>\n",
       "    </tr>\n",
       "    <tr>\n",
       "      <th>3</th>\n",
       "      <td>1290.0</td>\n",
       "      <td>1302.142857</td>\n",
       "    </tr>\n",
       "    <tr>\n",
       "      <th>4</th>\n",
       "      <td>165.0</td>\n",
       "      <td>292.000000</td>\n",
       "    </tr>\n",
       "  </tbody>\n",
       "</table>\n",
       "</div>"
      ],
      "text/plain": [
       "   Actual    Predicted\n",
       "0   278.0   331.571429\n",
       "1    96.0    67.857143\n",
       "2   215.0   251.000000\n",
       "3  1290.0  1302.142857\n",
       "4   165.0   292.000000"
      ]
     },
     "execution_count": 101,
     "metadata": {},
     "output_type": "execute_result"
    }
   ],
   "source": [
    "pred_knn = pd.DataFrame({'Actual': y_test, 'Predicted': yp_knn})\n",
    "pred_knn.head()"
   ]
  },
  {
   "cell_type": "code",
   "execution_count": 102,
   "id": "ec4ca7f0",
   "metadata": {},
   "outputs": [
    {
     "name": "stdout",
     "output_type": "stream",
     "text": [
      "Training MSE: 62251.30046128041\n",
      "Validation MSE: 82368.36185661479\n",
      "Huber Loss: [ 53.07142857  27.64285714  35.5        ...  62.64285714 210.5\n",
      " 111.07142857]\n",
      "Mean Huber Loss: 185.09528468921815\n"
     ]
    }
   ],
   "source": [
    "train_pred = knn_regressor.predict(X_train_scaled)\n",
    "test_pred = knn_regressor.predict(X_test_scaled)\n",
    "\n",
    "from sklearn.metrics import mean_squared_error, r2_score\n",
    "\n",
    "train_mse = mean_squared_error(y_train, train_pred)\n",
    "test_mse = mean_squared_error(y_test, test_pred)\n",
    "\n",
    "print(f'Training MSE: {train_mse}')\n",
    "print(f'Validation MSE: {test_mse}')\n",
    "\n",
    "import tensorflow as tf\n",
    "def huber_loss(y_test, yp_knn, delta = 1.0):\n",
    "    error = y_test - yp_knn\n",
    "    condition = tf.abs(error) < delta\n",
    "    squared_loss = 0.5 * tf.square(error)\n",
    "    linear_loss = delta * (tf.abs(error) - 0.5 * delta)\n",
    "    return tf.where(condition, squared_loss, linear_loss)\n",
    "\n",
    "loss = huber_loss(y_test, yp_knn, delta = 1.0)\n",
    "print(\"Huber Loss:\", loss.numpy())\n",
    "\n",
    "mean_huber_loss = np.mean(loss)\n",
    "print(f\"Mean Huber Loss: {mean_huber_loss}\")"
   ]
  },
  {
   "cell_type": "markdown",
   "id": "3df8ec02",
   "metadata": {},
   "source": [
    "## overfitting here"
   ]
  },
  {
   "cell_type": "markdown",
   "id": "ec5225f5",
   "metadata": {},
   "source": [
    "## Bagging Regressor KNN"
   ]
  },
  {
   "cell_type": "code",
   "execution_count": 77,
   "id": "a34e3255",
   "metadata": {},
   "outputs": [
    {
     "name": "stdout",
     "output_type": "stream",
     "text": [
      "Mean Squared Error: 80458.40375679496\n",
      "Root Mean Squared Error: 283.6519059636211\n",
      "R-squared: 0.8089614629956436\n",
      "Adjusted R-squared: 0.8080848043172297\n"
     ]
    }
   ],
   "source": [
    "from sklearn.ensemble import BaggingRegressor\n",
    "\n",
    "bagging_regressor = BaggingRegressor(KNeighborsRegressor(n_neighbors = 7), n_estimators = 10, random_state=12)\n",
    "bagging_regressor.fit(X_train_scaled, y_train)\n",
    "\n",
    "\n",
    "yp_knn_bgg = bagging_regressor.predict(X_test_scaled)\n",
    "\n",
    "mse = mean_squared_error(y_test, yp_knn_bgg)\n",
    "mse_r = mean_squared_error(y_test, yp_knn_bgg, squared = False)\n",
    "r2 = r2_score(y_test, yp_knn_bgg)\n",
    "\n",
    "n = len(y_test)\n",
    "k = X_train_scaled.shape[1]  \n",
    "adj_r2 = 1 - ((1 - r2) * (n - 1) / (n - k - 1))\n",
    "\n",
    "print(f'Mean Squared Error: {mse}')\n",
    "print(f'Root Mean Squared Error: {mse_r}')\n",
    "print(f'R-squared: {r2}')\n",
    "print(f'Adjusted R-squared: {adj_r2}')"
   ]
  },
  {
   "cell_type": "code",
   "execution_count": 78,
   "id": "a1dfb6f6",
   "metadata": {},
   "outputs": [
    {
     "data": {
      "text/plain": [
       "0.7519048445979636"
      ]
     },
     "execution_count": 78,
     "metadata": {},
     "output_type": "execute_result"
    }
   ],
   "source": [
    "score_knn_bgg = cross_val_score(BaggingRegressor(KNeighborsRegressor(n_neighbors = 7), n_estimators = 10, random_state=12), \n",
    "                            X_test_scaled, y_test, cv = 5, scoring = 'r2').mean()\n",
    "score_knn_bgg"
   ]
  },
  {
   "cell_type": "code",
   "execution_count": 79,
   "id": "9b79040b",
   "metadata": {},
   "outputs": [
    {
     "name": "stdout",
     "output_type": "stream",
     "text": [
      "Training MSE: 60804.84111795599\n",
      "Validation MSE: 80458.40375679496\n",
      "Huber Loss: [ 54.9         31.04285714  38.38571429 ...  63.1        215.91428571\n",
      " 113.92857143]\n",
      "Mean Huber Loss: 183.57020214021682\n"
     ]
    }
   ],
   "source": [
    "train_pred = bagging_regressor.predict(X_train_scaled)\n",
    "test_pred = bagging_regressor.predict(X_test_scaled)\n",
    "\n",
    "from sklearn.metrics import mean_squared_error, r2_score\n",
    "\n",
    "train_mse = mean_squared_error(y_train, train_pred)\n",
    "test_mse = mean_squared_error(y_test, test_pred)\n",
    "\n",
    "print(f'Training MSE: {train_mse}')\n",
    "print(f'Validation MSE: {test_mse}')\n",
    "\n",
    "import tensorflow as tf\n",
    "def huber_loss(y_test, yp_knn_bgg, delta = 1.0):\n",
    "    error = y_test - yp_knn_bgg\n",
    "    condition = tf.abs(error) < delta\n",
    "    squared_loss = 0.5 * tf.square(error)\n",
    "    linear_loss = delta * (tf.abs(error) - 0.5 * delta)\n",
    "    return tf.where(condition, squared_loss, linear_loss)\n",
    "\n",
    "loss = huber_loss(y_test, yp_knn_bgg, delta = 1.0)\n",
    "print(\"Huber Loss:\", loss.numpy())\n",
    "\n",
    "mean_huber_loss = np.mean(loss)\n",
    "print(f\"Mean Huber Loss: {mean_huber_loss}\")"
   ]
  },
  {
   "cell_type": "markdown",
   "id": "207ea361",
   "metadata": {},
   "source": [
    "## overfitting here"
   ]
  },
  {
   "cell_type": "markdown",
   "id": "a3e461dc",
   "metadata": {},
   "source": [
    "# Decision Tree"
   ]
  },
  {
   "cell_type": "code",
   "execution_count": 80,
   "id": "3ae0b356",
   "metadata": {},
   "outputs": [],
   "source": [
    "from sklearn.tree import DecisionTreeRegressor"
   ]
  },
  {
   "cell_type": "code",
   "execution_count": 81,
   "id": "3f884de5",
   "metadata": {},
   "outputs": [
    {
     "data": {
      "text/plain": [
       "{'max_depth': 10, 'min_samples_leaf': 4, 'min_samples_split': 10}"
      ]
     },
     "execution_count": 81,
     "metadata": {},
     "output_type": "execute_result"
    }
   ],
   "source": [
    "from sklearn.model_selection import GridSearchCV\n",
    "\n",
    "param_grid = {\n",
    "    'max_depth': [None, 10, 20, 30],\n",
    "    'min_samples_split': [2, 5, 10],\n",
    "    'min_samples_leaf': [1, 2, 4]\n",
    "}\n",
    "\n",
    "grid_search = GridSearchCV(DecisionTreeRegressor(), param_grid, cv = 10, scoring = 'neg_mean_squared_error')\n",
    "grid_search.fit(X_train_scaled, y_train)\n",
    "\n",
    "best_params = grid_search.best_params_\n",
    "best_params"
   ]
  },
  {
   "cell_type": "code",
   "execution_count": 92,
   "id": "ee9064cc",
   "metadata": {},
   "outputs": [
    {
     "name": "stdout",
     "output_type": "stream",
     "text": [
      "Mean Squared Error: 77009.00746334367\n",
      "Root Mean Squared Error: 277.50496835794434\n",
      "R-squared: 0.8171516282323426\n",
      "Adjusted R-squared: 0.8163125534861813\n"
     ]
    }
   ],
   "source": [
    "tree_regressor = DecisionTreeRegressor(\n",
    "    max_depth = 10,\n",
    "    min_samples_split = 10,\n",
    "    min_samples_leaf = 4,\n",
    "    random_state = 12\n",
    ")\n",
    "\n",
    "tree_regressor.fit(X_train_scaled, y_train)\n",
    "\n",
    "yp_dt = tree_regressor.predict(X_test_scaled)\n",
    "\n",
    "mse = mean_squared_error(y_test, yp_dt)\n",
    "mse_r = mean_squared_error(y_test, yp_dt, squared = False)\n",
    "r2 = r2_score(y_test, yp_dt)\n",
    "\n",
    "n = len(y_test)\n",
    "k = X_train_scaled.shape[1]  \n",
    "adj_r2 = 1 - ((1 - r2) * (n - 1) / (n - k - 1))\n",
    "\n",
    "print(f'Mean Squared Error: {mse}')\n",
    "print(f'Root Mean Squared Error: {mse_r}')\n",
    "print(f'R-squared: {r2}')\n",
    "print(f'Adjusted R-squared: {adj_r2}')"
   ]
  },
  {
   "cell_type": "code",
   "execution_count": 93,
   "id": "503c2f33",
   "metadata": {},
   "outputs": [
    {
     "data": {
      "text/plain": [
       "0.7552361945223577"
      ]
     },
     "execution_count": 93,
     "metadata": {},
     "output_type": "execute_result"
    }
   ],
   "source": [
    "score_dt = cross_val_score(DecisionTreeRegressor(max_depth = 10, min_samples_split = 10, \n",
    "                                                 min_samples_leaf = 1, random_state = 12), \n",
    "X_test_scaled, y_test, cv = 5, scoring = 'r2').mean()\n",
    "\n",
    "score_dt"
   ]
  },
  {
   "cell_type": "code",
   "execution_count": 94,
   "id": "eeb2b251",
   "metadata": {},
   "outputs": [
    {
     "data": {
      "text/html": [
       "<div>\n",
       "<style scoped>\n",
       "    .dataframe tbody tr th:only-of-type {\n",
       "        vertical-align: middle;\n",
       "    }\n",
       "\n",
       "    .dataframe tbody tr th {\n",
       "        vertical-align: top;\n",
       "    }\n",
       "\n",
       "    .dataframe thead th {\n",
       "        text-align: right;\n",
       "    }\n",
       "</style>\n",
       "<table border=\"1\" class=\"dataframe\">\n",
       "  <thead>\n",
       "    <tr style=\"text-align: right;\">\n",
       "      <th></th>\n",
       "      <th>Actual</th>\n",
       "      <th>Predicted</th>\n",
       "    </tr>\n",
       "  </thead>\n",
       "  <tbody>\n",
       "    <tr>\n",
       "      <th>0</th>\n",
       "      <td>278.0</td>\n",
       "      <td>343.821053</td>\n",
       "    </tr>\n",
       "    <tr>\n",
       "      <th>1</th>\n",
       "      <td>96.0</td>\n",
       "      <td>83.400000</td>\n",
       "    </tr>\n",
       "    <tr>\n",
       "      <th>2</th>\n",
       "      <td>215.0</td>\n",
       "      <td>224.190751</td>\n",
       "    </tr>\n",
       "    <tr>\n",
       "      <th>3</th>\n",
       "      <td>1290.0</td>\n",
       "      <td>1070.311111</td>\n",
       "    </tr>\n",
       "    <tr>\n",
       "      <th>4</th>\n",
       "      <td>165.0</td>\n",
       "      <td>173.466667</td>\n",
       "    </tr>\n",
       "  </tbody>\n",
       "</table>\n",
       "</div>"
      ],
      "text/plain": [
       "   Actual    Predicted\n",
       "0   278.0   343.821053\n",
       "1    96.0    83.400000\n",
       "2   215.0   224.190751\n",
       "3  1290.0  1070.311111\n",
       "4   165.0   173.466667"
      ]
     },
     "execution_count": 94,
     "metadata": {},
     "output_type": "execute_result"
    }
   ],
   "source": [
    "pred_dt = pd.DataFrame({'Actual': y_test, 'Predicted': yp_dt})\n",
    "pred_dt.head()"
   ]
  },
  {
   "cell_type": "code",
   "execution_count": 95,
   "id": "e05c04f7",
   "metadata": {},
   "outputs": [
    {
     "name": "stdout",
     "output_type": "stream",
     "text": [
      "Training MSE: 51278.484522600986\n",
      "Validation MSE: 77009.00746334367\n",
      "Huber Loss: [65.32105263 12.1         8.69075145 ... 53.52352941 40.5\n",
      " 67.66666667]\n",
      "Mean Huber Loss: 169.31624965165088\n"
     ]
    }
   ],
   "source": [
    "train_pred = tree_regressor.predict(X_train_scaled)\n",
    "test_pred = tree_regressor.predict(X_test_scaled)\n",
    "\n",
    "from sklearn.metrics import mean_squared_error, r2_score\n",
    "\n",
    "train_mse = mean_squared_error(y_train, train_pred)\n",
    "test_mse = mean_squared_error(y_test, test_pred)\n",
    "\n",
    "print(f'Training MSE: {train_mse}')\n",
    "print(f'Validation MSE: {test_mse}')\n",
    "\n",
    "import tensorflow as tf\n",
    "def huber_loss(y_test, yp_dt, delta = 1.0):\n",
    "    error = y_test - yp_dt\n",
    "    condition = tf.abs(error) < delta\n",
    "    squared_loss = 0.5 * tf.square(error)\n",
    "    linear_loss = delta * (tf.abs(error) - 0.5 * delta)\n",
    "    return tf.where(condition, squared_loss, linear_loss)\n",
    "\n",
    "loss = huber_loss(y_test, yp_dt, delta = 1.0)\n",
    "print(\"Huber Loss:\", loss.numpy())\n",
    "\n",
    "mean_huber_loss = np.mean(loss)\n",
    "print(f\"Mean Huber Loss: {mean_huber_loss}\")"
   ]
  },
  {
   "cell_type": "markdown",
   "id": "47a91686",
   "metadata": {},
   "source": [
    "## overfitting here"
   ]
  },
  {
   "cell_type": "markdown",
   "id": "8431e836",
   "metadata": {},
   "source": [
    "# Summary"
   ]
  },
  {
   "cell_type": "code",
   "execution_count": 103,
   "id": "112bc5e6",
   "metadata": {},
   "outputs": [
    {
     "name": "stdout",
     "output_type": "stream",
     "text": [
      "R2 LN: 0.5369360619674715\n",
      "R2 LNP2: 0.6603852220879212\n",
      "R2 RP2: 0.6392727125476039\n",
      "R2 RF: 0.8710064156188093\n",
      "R2 Report SVM: 0.43862655477402646\n",
      "R2 SVR: 0.6604521937600799\n",
      "R2 KNN: 0.8044265035123295\n",
      "R2 KNN BGG: 0.8089614629956436\n",
      "R2 DT: 0.8171516282323426\n"
     ]
    }
   ],
   "source": [
    "print(\"R2 LN:\", r2_score(y_test, yp_lr))\n",
    "\n",
    "print(\"R2 LNP2:\", r2_score(y_test, yp_p2))\n",
    "\n",
    "print(\"R2 RP2:\", r2_score(y_test, yp_rp2))\n",
    "\n",
    "print(\"R2 RF:\", r2_score(y_test, y_pred_best))\n",
    "\n",
    "print(\"R2 Report SVM:\", r2_score(y_test, yp_svm))\n",
    "\n",
    "print(\"R2 SVR:\", r2_score(y_test, yp_svm_p2))\n",
    "\n",
    "print(\"R2 KNN:\", r2_score(y_test, yp_knn))\n",
    "\n",
    "print(\"R2 KNN BGG:\", r2_score(y_test, yp_knn_bgg))\n",
    "\n",
    "print(\"R2 DT:\", r2_score(y_test, yp_dt))"
   ]
  },
  {
   "cell_type": "code",
   "execution_count": null,
   "id": "543c1b24",
   "metadata": {},
   "outputs": [],
   "source": []
  },
  {
   "cell_type": "markdown",
   "id": "8706c32c",
   "metadata": {},
   "source": [
    "less X \n",
    "- R2 LN: 0.52529649482042\n",
    "- R2 LNP2: 0.6554331060997658\n",
    "- R2 RP2: 0.6213144674255984\n",
    "- R2 RF: 0.8652196621176939\n",
    "- R2 SVM: 0.4251713331905206\n",
    "- R2 SVR: 0.5968790842225762\n",
    "- R2 KNN: 0.8351079076593745\n",
    "- R2 KNN BGG: 0.820196677419755\n",
    "- R2 DT: 0.8123233303297475"
   ]
  },
  {
   "cell_type": "markdown",
   "id": "351d7512",
   "metadata": {},
   "source": [
    "PCA\n",
    "- R2 LN: 0.00026587473278671947\n",
    "- R2 LNP2: -0.016234262458589388\n",
    "- R2 RP2: 4.7678354563984726e-05\n",
    "- R2 RF: -0.0074760565829212755\n",
    "- R2 SVM: -0.08563072443027475\n",
    "- R2 SVR: -0.09217215527709399\n",
    "- R2 KNN: -0.09579557291859575\n",
    "- R2 KNN BGG: -0.18895100097992756\n",
    "- R2 DT: -0.08782161761984697"
   ]
  },
  {
   "cell_type": "code",
   "execution_count": 104,
   "id": "93c77371",
   "metadata": {},
   "outputs": [
    {
     "name": "stdout",
     "output_type": "stream",
     "text": [
      "Cross Validation LN: 0.5325208313082583\n",
      "Cross Validation LNP2: 0.5325208313082583\n",
      "Cross Validation RP2: 0.5249917659671306\n",
      "Cross Validation RF: 0.8395852452933015\n",
      "Cross Validation SVM: 0.39066264273211904\n",
      "Cross Validation SVR: 0.6439695019158407\n",
      "Cross Validation KNN: 0.7480101693896504\n",
      "Cross Validation KNN BGG: 0.7519048445979636\n",
      "Cross Validation DT: 0.7552361945223577\n"
     ]
    }
   ],
   "source": [
    "print(\"Cross Validation LN:\", score_l) #yp_lr\n",
    "\n",
    "print(\"Cross Validation LNP2:\", score_lp2) #yp_p2\n",
    "\n",
    "print(\"Cross Validation RP2:\", score_rp2) #yp_rp2\n",
    "\n",
    "print(\"Cross Validation RF:\", score_rf) #y_pred_best\n",
    "\n",
    "#ANN y_pred\n",
    "\n",
    "print(\"Cross Validation SVM:\", score_svm) #yp_svm\n",
    "\n",
    "print(\"Cross Validation SVR:\", score_svr) #yp_svm_p2\n",
    "\n",
    "print(\"Cross Validation KNN:\", score_knn) #yp_knn\n",
    "\n",
    "print(\"Cross Validation KNN BGG:\", score_knn_bgg)  #yp_knn_bgg\n",
    "\n",
    "print(\"Cross Validation DT:\", score_dt) #yp_dt\n",
    "\n",
    "\n"
   ]
  },
  {
   "cell_type": "code",
   "execution_count": null,
   "id": "87752301",
   "metadata": {},
   "outputs": [],
   "source": []
  },
  {
   "cell_type": "code",
   "execution_count": null,
   "id": "ff844956",
   "metadata": {},
   "outputs": [],
   "source": []
  },
  {
   "cell_type": "code",
   "execution_count": null,
   "id": "cafe00a2",
   "metadata": {},
   "outputs": [],
   "source": []
  },
  {
   "cell_type": "code",
   "execution_count": null,
   "id": "2959e6c5",
   "metadata": {},
   "outputs": [],
   "source": []
  },
  {
   "cell_type": "code",
   "execution_count": null,
   "id": "f9ef0b3f",
   "metadata": {},
   "outputs": [],
   "source": []
  },
  {
   "cell_type": "code",
   "execution_count": null,
   "id": "15adf5e0",
   "metadata": {},
   "outputs": [],
   "source": []
  }
 ],
 "metadata": {
  "kernelspec": {
   "display_name": "Python 3 (ipykernel)",
   "language": "python",
   "name": "python3"
  },
  "language_info": {
   "codemirror_mode": {
    "name": "ipython",
    "version": 3
   },
   "file_extension": ".py",
   "mimetype": "text/x-python",
   "name": "python",
   "nbconvert_exporter": "python",
   "pygments_lexer": "ipython3",
   "version": "3.11.5"
  }
 },
 "nbformat": 4,
 "nbformat_minor": 5
}
