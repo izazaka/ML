{
 "cells": [
  {
   "cell_type": "markdown",
   "id": "00fd4389",
   "metadata": {},
   "source": [
    "# Librabries "
   ]
  },
  {
   "cell_type": "code",
   "execution_count": 1,
   "id": "6d9355bf",
   "metadata": {},
   "outputs": [],
   "source": [
    "%matplotlib inline\n",
    "\n",
    "import pandas as pd\n",
    "\n",
    "import numpy as np\n",
    "\n",
    "import matplotlib.pyplot as plt\n",
    "\n",
    "import seaborn as sns\n",
    "\n",
    "from sklearn.model_selection import train_test_split, cross_val_score\n",
    "\n",
    "from sklearn import metrics\n",
    "\n",
    "from sklearn.preprocessing import MinMaxScaler\n",
    "\n",
    "from sklearn.metrics import mean_squared_error, r2_score\n",
    "\n",
    "from sklearn.metrics import classification_report\n",
    "\n",
    "from sklearn.metrics import accuracy_score\n",
    "\n",
    "from sklearn.model_selection import cross_val_score"
   ]
  },
  {
   "cell_type": "markdown",
   "id": "a23f5879",
   "metadata": {},
   "source": []
  },
  {
   "cell_type": "markdown",
   "id": "3651eb2d",
   "metadata": {},
   "source": [
    "# EDA"
   ]
  },
  {
   "cell_type": "code",
   "execution_count": 2,
   "id": "d0a7ffb6",
   "metadata": {},
   "outputs": [],
   "source": [
    "bike = pd.read_csv(\"Seoul_Bike.csv\")"
   ]
  },
  {
   "cell_type": "markdown",
   "id": "928b9638",
   "metadata": {},
   "source": [
    "DOI\n",
    "10.24432/C5F62R\n",
    "License\n",
    "This dataset is licensed under a Creative Commons Attribution 4.0 International (CC BY 4.0) license.\n",
    "This allows for the sharing and adaptation of the datasets for any purpose, provided that the appropriate credit is given.\n",
    "\n",
    "https://archive.ics.uci.edu/dataset/560/seoul+bike+sharing+demand\n"
   ]
  },
  {
   "cell_type": "markdown",
   "id": "77c7c5cc",
   "metadata": {},
   "source": [
    "@misc{misc_seoul_bike_sharing_demand_560,\n",
    "  title        = {{Seoul Bike Sharing Demand}},\n",
    "  year         = {2020},\n",
    "  howpublished = {UCI Machine Learning Repository},\n",
    "  note         = {{DOI}: https://doi.org/10.24432/C5F62R}\n",
    "}"
   ]
  },
  {
   "cell_type": "code",
   "execution_count": 3,
   "id": "0a3114db",
   "metadata": {},
   "outputs": [
    {
     "data": {
      "text/html": [
       "<div>\n",
       "<style scoped>\n",
       "    .dataframe tbody tr th:only-of-type {\n",
       "        vertical-align: middle;\n",
       "    }\n",
       "\n",
       "    .dataframe tbody tr th {\n",
       "        vertical-align: top;\n",
       "    }\n",
       "\n",
       "    .dataframe thead th {\n",
       "        text-align: right;\n",
       "    }\n",
       "</style>\n",
       "<table border=\"1\" class=\"dataframe\">\n",
       "  <thead>\n",
       "    <tr style=\"text-align: right;\">\n",
       "      <th></th>\n",
       "      <th>Date</th>\n",
       "      <th>Rented Bike Count</th>\n",
       "      <th>Hour</th>\n",
       "      <th>Temperature(°C)</th>\n",
       "      <th>Humidity(%)</th>\n",
       "      <th>Wind speed (m/s)</th>\n",
       "      <th>Visibility (10m)</th>\n",
       "      <th>Dew point temperature(°C)</th>\n",
       "      <th>Solar Radiation (MJ/m2)</th>\n",
       "      <th>Rainfall(mm)</th>\n",
       "      <th>Snowfall (cm)</th>\n",
       "      <th>Seasons</th>\n",
       "      <th>Holiday</th>\n",
       "      <th>Functioning Day</th>\n",
       "    </tr>\n",
       "  </thead>\n",
       "  <tbody>\n",
       "    <tr>\n",
       "      <th>0</th>\n",
       "      <td>01/12/2017</td>\n",
       "      <td>254</td>\n",
       "      <td>0</td>\n",
       "      <td>-5.2</td>\n",
       "      <td>37</td>\n",
       "      <td>2.2</td>\n",
       "      <td>2000</td>\n",
       "      <td>-17.6</td>\n",
       "      <td>0.0</td>\n",
       "      <td>0.0</td>\n",
       "      <td>0.0</td>\n",
       "      <td>Winter</td>\n",
       "      <td>No Holiday</td>\n",
       "      <td>Yes</td>\n",
       "    </tr>\n",
       "    <tr>\n",
       "      <th>1</th>\n",
       "      <td>01/12/2017</td>\n",
       "      <td>204</td>\n",
       "      <td>1</td>\n",
       "      <td>-5.5</td>\n",
       "      <td>38</td>\n",
       "      <td>0.8</td>\n",
       "      <td>2000</td>\n",
       "      <td>-17.6</td>\n",
       "      <td>0.0</td>\n",
       "      <td>0.0</td>\n",
       "      <td>0.0</td>\n",
       "      <td>Winter</td>\n",
       "      <td>No Holiday</td>\n",
       "      <td>Yes</td>\n",
       "    </tr>\n",
       "    <tr>\n",
       "      <th>2</th>\n",
       "      <td>01/12/2017</td>\n",
       "      <td>173</td>\n",
       "      <td>2</td>\n",
       "      <td>-6.0</td>\n",
       "      <td>39</td>\n",
       "      <td>1.0</td>\n",
       "      <td>2000</td>\n",
       "      <td>-17.7</td>\n",
       "      <td>0.0</td>\n",
       "      <td>0.0</td>\n",
       "      <td>0.0</td>\n",
       "      <td>Winter</td>\n",
       "      <td>No Holiday</td>\n",
       "      <td>Yes</td>\n",
       "    </tr>\n",
       "  </tbody>\n",
       "</table>\n",
       "</div>"
      ],
      "text/plain": [
       "         Date  Rented Bike Count  Hour  Temperature(°C)  Humidity(%)  \\\n",
       "0  01/12/2017                254     0             -5.2           37   \n",
       "1  01/12/2017                204     1             -5.5           38   \n",
       "2  01/12/2017                173     2             -6.0           39   \n",
       "\n",
       "   Wind speed (m/s)  Visibility (10m)  Dew point temperature(°C)  \\\n",
       "0               2.2              2000                      -17.6   \n",
       "1               0.8              2000                      -17.6   \n",
       "2               1.0              2000                      -17.7   \n",
       "\n",
       "   Solar Radiation (MJ/m2)  Rainfall(mm)  Snowfall (cm) Seasons     Holiday  \\\n",
       "0                      0.0           0.0            0.0  Winter  No Holiday   \n",
       "1                      0.0           0.0            0.0  Winter  No Holiday   \n",
       "2                      0.0           0.0            0.0  Winter  No Holiday   \n",
       "\n",
       "  Functioning Day  \n",
       "0             Yes  \n",
       "1             Yes  \n",
       "2             Yes  "
      ]
     },
     "execution_count": 3,
     "metadata": {},
     "output_type": "execute_result"
    }
   ],
   "source": [
    "bike.head(3)"
   ]
  },
  {
   "cell_type": "code",
   "execution_count": 4,
   "id": "365bd25f",
   "metadata": {},
   "outputs": [
    {
     "data": {
      "text/html": [
       "<div>\n",
       "<style scoped>\n",
       "    .dataframe tbody tr th:only-of-type {\n",
       "        vertical-align: middle;\n",
       "    }\n",
       "\n",
       "    .dataframe tbody tr th {\n",
       "        vertical-align: top;\n",
       "    }\n",
       "\n",
       "    .dataframe thead th {\n",
       "        text-align: right;\n",
       "    }\n",
       "</style>\n",
       "<table border=\"1\" class=\"dataframe\">\n",
       "  <thead>\n",
       "    <tr style=\"text-align: right;\">\n",
       "      <th></th>\n",
       "      <th>Date</th>\n",
       "      <th>Rented Bike Count</th>\n",
       "      <th>Hour</th>\n",
       "      <th>Temperature(°C)</th>\n",
       "      <th>Humidity(%)</th>\n",
       "      <th>Wind speed (m/s)</th>\n",
       "      <th>Visibility (10m)</th>\n",
       "      <th>Dew point temperature(°C)</th>\n",
       "      <th>Solar Radiation (MJ/m2)</th>\n",
       "      <th>Rainfall(mm)</th>\n",
       "      <th>Snowfall (cm)</th>\n",
       "      <th>Seasons</th>\n",
       "      <th>Holiday</th>\n",
       "      <th>Functioning Day</th>\n",
       "    </tr>\n",
       "  </thead>\n",
       "  <tbody>\n",
       "    <tr>\n",
       "      <th>8757</th>\n",
       "      <td>30/11/2018</td>\n",
       "      <td>694</td>\n",
       "      <td>21</td>\n",
       "      <td>2.6</td>\n",
       "      <td>39</td>\n",
       "      <td>0.3</td>\n",
       "      <td>1968</td>\n",
       "      <td>-9.9</td>\n",
       "      <td>0.0</td>\n",
       "      <td>0.0</td>\n",
       "      <td>0.0</td>\n",
       "      <td>Autumn</td>\n",
       "      <td>No Holiday</td>\n",
       "      <td>Yes</td>\n",
       "    </tr>\n",
       "    <tr>\n",
       "      <th>8758</th>\n",
       "      <td>30/11/2018</td>\n",
       "      <td>712</td>\n",
       "      <td>22</td>\n",
       "      <td>2.1</td>\n",
       "      <td>41</td>\n",
       "      <td>1.0</td>\n",
       "      <td>1859</td>\n",
       "      <td>-9.8</td>\n",
       "      <td>0.0</td>\n",
       "      <td>0.0</td>\n",
       "      <td>0.0</td>\n",
       "      <td>Autumn</td>\n",
       "      <td>No Holiday</td>\n",
       "      <td>Yes</td>\n",
       "    </tr>\n",
       "    <tr>\n",
       "      <th>8759</th>\n",
       "      <td>30/11/2018</td>\n",
       "      <td>584</td>\n",
       "      <td>23</td>\n",
       "      <td>1.9</td>\n",
       "      <td>43</td>\n",
       "      <td>1.3</td>\n",
       "      <td>1909</td>\n",
       "      <td>-9.3</td>\n",
       "      <td>0.0</td>\n",
       "      <td>0.0</td>\n",
       "      <td>0.0</td>\n",
       "      <td>Autumn</td>\n",
       "      <td>No Holiday</td>\n",
       "      <td>Yes</td>\n",
       "    </tr>\n",
       "  </tbody>\n",
       "</table>\n",
       "</div>"
      ],
      "text/plain": [
       "            Date  Rented Bike Count  Hour  Temperature(°C)  Humidity(%)  \\\n",
       "8757  30/11/2018                694    21              2.6           39   \n",
       "8758  30/11/2018                712    22              2.1           41   \n",
       "8759  30/11/2018                584    23              1.9           43   \n",
       "\n",
       "      Wind speed (m/s)  Visibility (10m)  Dew point temperature(°C)  \\\n",
       "8757               0.3              1968                       -9.9   \n",
       "8758               1.0              1859                       -9.8   \n",
       "8759               1.3              1909                       -9.3   \n",
       "\n",
       "      Solar Radiation (MJ/m2)  Rainfall(mm)  Snowfall (cm) Seasons  \\\n",
       "8757                      0.0           0.0            0.0  Autumn   \n",
       "8758                      0.0           0.0            0.0  Autumn   \n",
       "8759                      0.0           0.0            0.0  Autumn   \n",
       "\n",
       "         Holiday Functioning Day  \n",
       "8757  No Holiday             Yes  \n",
       "8758  No Holiday             Yes  \n",
       "8759  No Holiday             Yes  "
      ]
     },
     "execution_count": 4,
     "metadata": {},
     "output_type": "execute_result"
    }
   ],
   "source": [
    "bike.tail(3)"
   ]
  },
  {
   "cell_type": "code",
   "execution_count": 5,
   "id": "ce60c0ee",
   "metadata": {},
   "outputs": [
    {
     "data": {
      "text/plain": [
       "(8760, 14)"
      ]
     },
     "execution_count": 5,
     "metadata": {},
     "output_type": "execute_result"
    }
   ],
   "source": [
    "bike.shape"
   ]
  },
  {
   "cell_type": "code",
   "execution_count": 6,
   "id": "10c051a7",
   "metadata": {},
   "outputs": [
    {
     "data": {
      "text/html": [
       "<div>\n",
       "<style scoped>\n",
       "    .dataframe tbody tr th:only-of-type {\n",
       "        vertical-align: middle;\n",
       "    }\n",
       "\n",
       "    .dataframe tbody tr th {\n",
       "        vertical-align: top;\n",
       "    }\n",
       "\n",
       "    .dataframe thead th {\n",
       "        text-align: right;\n",
       "    }\n",
       "</style>\n",
       "<table border=\"1\" class=\"dataframe\">\n",
       "  <thead>\n",
       "    <tr style=\"text-align: right;\">\n",
       "      <th></th>\n",
       "      <th>Rented Bike Count</th>\n",
       "      <th>Hour</th>\n",
       "      <th>Temperature(°C)</th>\n",
       "      <th>Humidity(%)</th>\n",
       "      <th>Wind speed (m/s)</th>\n",
       "      <th>Visibility (10m)</th>\n",
       "      <th>Dew point temperature(°C)</th>\n",
       "      <th>Solar Radiation (MJ/m2)</th>\n",
       "      <th>Rainfall(mm)</th>\n",
       "      <th>Snowfall (cm)</th>\n",
       "    </tr>\n",
       "  </thead>\n",
       "  <tbody>\n",
       "    <tr>\n",
       "      <th>count</th>\n",
       "      <td>8760.000000</td>\n",
       "      <td>8760.000000</td>\n",
       "      <td>8760.000000</td>\n",
       "      <td>8760.000000</td>\n",
       "      <td>8760.000000</td>\n",
       "      <td>8760.000000</td>\n",
       "      <td>8760.000000</td>\n",
       "      <td>8760.000000</td>\n",
       "      <td>8760.000000</td>\n",
       "      <td>8760.000000</td>\n",
       "    </tr>\n",
       "    <tr>\n",
       "      <th>mean</th>\n",
       "      <td>704.602055</td>\n",
       "      <td>11.500000</td>\n",
       "      <td>12.882922</td>\n",
       "      <td>58.226256</td>\n",
       "      <td>1.724909</td>\n",
       "      <td>1436.825799</td>\n",
       "      <td>4.073813</td>\n",
       "      <td>0.569111</td>\n",
       "      <td>0.148687</td>\n",
       "      <td>0.075068</td>\n",
       "    </tr>\n",
       "    <tr>\n",
       "      <th>std</th>\n",
       "      <td>644.997468</td>\n",
       "      <td>6.922582</td>\n",
       "      <td>11.944825</td>\n",
       "      <td>20.362413</td>\n",
       "      <td>1.036300</td>\n",
       "      <td>608.298712</td>\n",
       "      <td>13.060369</td>\n",
       "      <td>0.868746</td>\n",
       "      <td>1.128193</td>\n",
       "      <td>0.436746</td>\n",
       "    </tr>\n",
       "    <tr>\n",
       "      <th>min</th>\n",
       "      <td>0.000000</td>\n",
       "      <td>0.000000</td>\n",
       "      <td>-17.800000</td>\n",
       "      <td>0.000000</td>\n",
       "      <td>0.000000</td>\n",
       "      <td>27.000000</td>\n",
       "      <td>-30.600000</td>\n",
       "      <td>0.000000</td>\n",
       "      <td>0.000000</td>\n",
       "      <td>0.000000</td>\n",
       "    </tr>\n",
       "    <tr>\n",
       "      <th>25%</th>\n",
       "      <td>191.000000</td>\n",
       "      <td>5.750000</td>\n",
       "      <td>3.500000</td>\n",
       "      <td>42.000000</td>\n",
       "      <td>0.900000</td>\n",
       "      <td>940.000000</td>\n",
       "      <td>-4.700000</td>\n",
       "      <td>0.000000</td>\n",
       "      <td>0.000000</td>\n",
       "      <td>0.000000</td>\n",
       "    </tr>\n",
       "    <tr>\n",
       "      <th>50%</th>\n",
       "      <td>504.500000</td>\n",
       "      <td>11.500000</td>\n",
       "      <td>13.700000</td>\n",
       "      <td>57.000000</td>\n",
       "      <td>1.500000</td>\n",
       "      <td>1698.000000</td>\n",
       "      <td>5.100000</td>\n",
       "      <td>0.010000</td>\n",
       "      <td>0.000000</td>\n",
       "      <td>0.000000</td>\n",
       "    </tr>\n",
       "    <tr>\n",
       "      <th>75%</th>\n",
       "      <td>1065.250000</td>\n",
       "      <td>17.250000</td>\n",
       "      <td>22.500000</td>\n",
       "      <td>74.000000</td>\n",
       "      <td>2.300000</td>\n",
       "      <td>2000.000000</td>\n",
       "      <td>14.800000</td>\n",
       "      <td>0.930000</td>\n",
       "      <td>0.000000</td>\n",
       "      <td>0.000000</td>\n",
       "    </tr>\n",
       "    <tr>\n",
       "      <th>max</th>\n",
       "      <td>3556.000000</td>\n",
       "      <td>23.000000</td>\n",
       "      <td>39.400000</td>\n",
       "      <td>98.000000</td>\n",
       "      <td>7.400000</td>\n",
       "      <td>2000.000000</td>\n",
       "      <td>27.200000</td>\n",
       "      <td>3.520000</td>\n",
       "      <td>35.000000</td>\n",
       "      <td>8.800000</td>\n",
       "    </tr>\n",
       "  </tbody>\n",
       "</table>\n",
       "</div>"
      ],
      "text/plain": [
       "       Rented Bike Count         Hour  Temperature(°C)  Humidity(%)  \\\n",
       "count        8760.000000  8760.000000      8760.000000  8760.000000   \n",
       "mean          704.602055    11.500000        12.882922    58.226256   \n",
       "std           644.997468     6.922582        11.944825    20.362413   \n",
       "min             0.000000     0.000000       -17.800000     0.000000   \n",
       "25%           191.000000     5.750000         3.500000    42.000000   \n",
       "50%           504.500000    11.500000        13.700000    57.000000   \n",
       "75%          1065.250000    17.250000        22.500000    74.000000   \n",
       "max          3556.000000    23.000000        39.400000    98.000000   \n",
       "\n",
       "       Wind speed (m/s)  Visibility (10m)  Dew point temperature(°C)  \\\n",
       "count       8760.000000       8760.000000                8760.000000   \n",
       "mean           1.724909       1436.825799                   4.073813   \n",
       "std            1.036300        608.298712                  13.060369   \n",
       "min            0.000000         27.000000                 -30.600000   \n",
       "25%            0.900000        940.000000                  -4.700000   \n",
       "50%            1.500000       1698.000000                   5.100000   \n",
       "75%            2.300000       2000.000000                  14.800000   \n",
       "max            7.400000       2000.000000                  27.200000   \n",
       "\n",
       "       Solar Radiation (MJ/m2)  Rainfall(mm)  Snowfall (cm)  \n",
       "count              8760.000000   8760.000000    8760.000000  \n",
       "mean                  0.569111      0.148687       0.075068  \n",
       "std                   0.868746      1.128193       0.436746  \n",
       "min                   0.000000      0.000000       0.000000  \n",
       "25%                   0.000000      0.000000       0.000000  \n",
       "50%                   0.010000      0.000000       0.000000  \n",
       "75%                   0.930000      0.000000       0.000000  \n",
       "max                   3.520000     35.000000       8.800000  "
      ]
     },
     "execution_count": 6,
     "metadata": {},
     "output_type": "execute_result"
    }
   ],
   "source": [
    "bike.describe()"
   ]
  },
  {
   "cell_type": "code",
   "execution_count": 7,
   "id": "1525f72d",
   "metadata": {},
   "outputs": [
    {
     "name": "stdout",
     "output_type": "stream",
     "text": [
      "<class 'pandas.core.frame.DataFrame'>\n",
      "RangeIndex: 8760 entries, 0 to 8759\n",
      "Data columns (total 14 columns):\n",
      " #   Column                     Non-Null Count  Dtype  \n",
      "---  ------                     --------------  -----  \n",
      " 0   Date                       8760 non-null   object \n",
      " 1   Rented Bike Count          8760 non-null   int64  \n",
      " 2   Hour                       8760 non-null   int64  \n",
      " 3   Temperature(°C)            8760 non-null   float64\n",
      " 4   Humidity(%)                8760 non-null   int64  \n",
      " 5   Wind speed (m/s)           8760 non-null   float64\n",
      " 6   Visibility (10m)           8760 non-null   int64  \n",
      " 7   Dew point temperature(°C)  8760 non-null   float64\n",
      " 8   Solar Radiation (MJ/m2)    8760 non-null   float64\n",
      " 9   Rainfall(mm)               8760 non-null   float64\n",
      " 10  Snowfall (cm)              8760 non-null   float64\n",
      " 11  Seasons                    8760 non-null   object \n",
      " 12  Holiday                    8760 non-null   object \n",
      " 13  Functioning Day            8760 non-null   object \n",
      "dtypes: float64(6), int64(4), object(4)\n",
      "memory usage: 958.3+ KB\n"
     ]
    }
   ],
   "source": [
    "bike.info()"
   ]
  },
  {
   "cell_type": "markdown",
   "id": "d554ad98",
   "metadata": {},
   "source": [
    "## Changing from categorical to numerical"
   ]
  },
  {
   "cell_type": "code",
   "execution_count": 8,
   "id": "49481691",
   "metadata": {},
   "outputs": [
    {
     "data": {
      "text/plain": [
       "array(['Winter', 'Spring', 'Summer', 'Autumn'], dtype=object)"
      ]
     },
     "execution_count": 8,
     "metadata": {},
     "output_type": "execute_result"
    }
   ],
   "source": [
    "bike[\"Seasons\"].unique()"
   ]
  },
  {
   "cell_type": "code",
   "execution_count": 9,
   "id": "71933fa1",
   "metadata": {},
   "outputs": [
    {
     "data": {
      "text/plain": [
       "array(['No Holiday', 'Holiday'], dtype=object)"
      ]
     },
     "execution_count": 9,
     "metadata": {},
     "output_type": "execute_result"
    }
   ],
   "source": [
    "bike[\"Holiday\"].unique()"
   ]
  },
  {
   "cell_type": "code",
   "execution_count": 10,
   "id": "9cddce80",
   "metadata": {},
   "outputs": [
    {
     "data": {
      "text/plain": [
       "array(['Yes', 'No'], dtype=object)"
      ]
     },
     "execution_count": 10,
     "metadata": {},
     "output_type": "execute_result"
    }
   ],
   "source": [
    "bike[\"Functioning Day\"].unique()"
   ]
  },
  {
   "cell_type": "code",
   "execution_count": 11,
   "id": "5b553529",
   "metadata": {},
   "outputs": [],
   "source": [
    "bike['Seasons'].replace('Winter', 0, inplace = True)\n",
    "bike['Seasons'].replace('Spring', 1, inplace = True)\n",
    "bike['Seasons'].replace('Summer', 2, inplace = True)\n",
    "bike['Seasons'].replace('Autumn', 3, inplace = True)"
   ]
  },
  {
   "cell_type": "code",
   "execution_count": 12,
   "id": "9b709716",
   "metadata": {},
   "outputs": [
    {
     "data": {
      "text/plain": [
       "8758    3\n",
       "8759    3\n",
       "Name: Seasons, dtype: int64"
      ]
     },
     "execution_count": 12,
     "metadata": {},
     "output_type": "execute_result"
    }
   ],
   "source": [
    "bike['Seasons'].tail(2)"
   ]
  },
  {
   "cell_type": "code",
   "execution_count": 13,
   "id": "4a633542",
   "metadata": {},
   "outputs": [],
   "source": [
    "bike[\"Holiday\"].replace('No Holiday', 0, inplace = True)\n",
    "bike[\"Holiday\"].replace('Holiday', 1, inplace = True)"
   ]
  },
  {
   "cell_type": "code",
   "execution_count": 14,
   "id": "168799a7",
   "metadata": {},
   "outputs": [
    {
     "data": {
      "text/plain": [
       "8758    0\n",
       "8759    0\n",
       "Name: Holiday, dtype: int64"
      ]
     },
     "execution_count": 14,
     "metadata": {},
     "output_type": "execute_result"
    }
   ],
   "source": [
    "bike[\"Holiday\"].tail(2)"
   ]
  },
  {
   "cell_type": "code",
   "execution_count": 15,
   "id": "2d461b05",
   "metadata": {},
   "outputs": [],
   "source": [
    "bike[\"Functioning Day\"].replace('No', 0, inplace = True)\n",
    "bike[\"Functioning Day\"].replace('Yes', 1, inplace = True)"
   ]
  },
  {
   "cell_type": "code",
   "execution_count": 16,
   "id": "de4649aa",
   "metadata": {},
   "outputs": [
    {
     "data": {
      "text/plain": [
       "8758    1\n",
       "8759    1\n",
       "Name: Functioning Day, dtype: int64"
      ]
     },
     "execution_count": 16,
     "metadata": {},
     "output_type": "execute_result"
    }
   ],
   "source": [
    "bike[\"Functioning Day\"].tail(2)"
   ]
  },
  {
   "cell_type": "markdown",
   "id": "3f5ded7f",
   "metadata": {},
   "source": []
  },
  {
   "cell_type": "markdown",
   "id": "9b8617ba",
   "metadata": {},
   "source": [
    "# Graphics "
   ]
  },
  {
   "cell_type": "markdown",
   "id": "55aa16f0",
   "metadata": {},
   "source": [
    "sns.histplot(data = bike, y = \"Rented Bike Count\", x = \"Hour\")"
   ]
  },
  {
   "cell_type": "markdown",
   "id": "49dac960",
   "metadata": {},
   "source": [
    "sns.histplot(data = bike, x = \"Holiday\")"
   ]
  },
  {
   "cell_type": "markdown",
   "id": "0ad2e7c7",
   "metadata": {},
   "source": []
  },
  {
   "cell_type": "markdown",
   "id": "6a913d6a",
   "metadata": {},
   "source": [
    "sns.histplot(data = bike, x = \"Functioning Day\")"
   ]
  },
  {
   "cell_type": "markdown",
   "id": "0dbb515f",
   "metadata": {},
   "source": []
  },
  {
   "cell_type": "markdown",
   "id": "b093f7b3",
   "metadata": {
    "scrolled": false
   },
   "source": [
    "sns.histplot(data = bike, x = \"Rented Bike Count\")"
   ]
  },
  {
   "cell_type": "markdown",
   "id": "cc92ff35",
   "metadata": {},
   "source": [
    "sns.histplot(data = bike, x = \"Temperature(°C)\")"
   ]
  },
  {
   "cell_type": "markdown",
   "id": "0e42e7c2",
   "metadata": {},
   "source": [
    "sns.histplot(data = bike, x = \"Humidity(%)\")\n",
    "\n"
   ]
  },
  {
   "cell_type": "markdown",
   "id": "362659b6",
   "metadata": {},
   "source": [
    "sns.histplot(data = bike, x = \"Wind speed (m/s)\")\n",
    "\n"
   ]
  },
  {
   "cell_type": "markdown",
   "id": "04e8ad92",
   "metadata": {},
   "source": [
    "sns.histplot(data = bike, x = \"Visibility (10m)\")"
   ]
  },
  {
   "cell_type": "markdown",
   "id": "4df921e2",
   "metadata": {},
   "source": [
    "sns.histplot(data = bike, x = \"Dew point temperature(°C)\")"
   ]
  },
  {
   "cell_type": "markdown",
   "id": "58fbb1a8",
   "metadata": {},
   "source": [
    "sns.histplot(data = bike, x = \"Solar Radiation (MJ/m2)\")\n"
   ]
  },
  {
   "cell_type": "markdown",
   "id": "2de24e9f",
   "metadata": {},
   "source": [
    "sns.histplot(data = bike, x = \"Rainfall(mm)\")"
   ]
  },
  {
   "cell_type": "markdown",
   "id": "b72bf52e",
   "metadata": {},
   "source": [
    "sns.histplot(data = bike, x = \"Snowfall (cm)\")"
   ]
  },
  {
   "cell_type": "markdown",
   "id": "009685ca",
   "metadata": {},
   "source": [
    "sns.histplot(data = bike, x = \"Seasons\")"
   ]
  },
  {
   "cell_type": "markdown",
   "id": "ca143f37",
   "metadata": {},
   "source": [
    "The bikes have been used equally throughout the seasons "
   ]
  },
  {
   "cell_type": "markdown",
   "id": "bd615d3f",
   "metadata": {},
   "source": [
    "The seasons have the same amount of observations but the number of rented bikes are different between seasons"
   ]
  },
  {
   "cell_type": "markdown",
   "id": "8472938d",
   "metadata": {},
   "source": [
    "bike.head(1)"
   ]
  },
  {
   "cell_type": "markdown",
   "id": "30d42d17",
   "metadata": {},
   "source": [
    "bike.plot(x = \"Temperature(°C)\", y = \"Rented Bike Count\", style = \"*\")\n",
    "plt.title(\"Rented Bike Count vs Temperature(°C)\")\n",
    "plt.xlabel(\"Temperature(°C)\")\n",
    "plt.ylabel(\"Rented Bike Count\")\n",
    "plt.show()"
   ]
  },
  {
   "cell_type": "markdown",
   "id": "66d21d4f",
   "metadata": {},
   "source": [
    "bike.plot(x = \"Hour\", y = \"Rented Bike Count\", style = \"*\")\n",
    "plt.title(\"Rented Bike Count vs Hour\")\n",
    "plt.xlabel(\"Hour\")\n",
    "plt.ylabel(\"Rented Bike Count\")\n",
    "plt.show()"
   ]
  },
  {
   "cell_type": "markdown",
   "id": "6caced00",
   "metadata": {},
   "source": [
    "sns.histplot(data = bike, x = \"Seasons\", y = \"Rented Bike Count\")"
   ]
  },
  {
   "cell_type": "markdown",
   "id": "5d391499",
   "metadata": {},
   "source": [
    "('Winter', 0, inplace = True)\n",
    "('Spring', 1, inplace = True)\n",
    "('Summer', 2, inplace = True)\n",
    "('Autumn', 3, inplace = True)"
   ]
  },
  {
   "cell_type": "markdown",
   "id": "da114cb5",
   "metadata": {},
   "source": [
    "sns.histplot(data = bike, x = \"Seasons\", y = \"Temperature(°C)\")"
   ]
  },
  {
   "cell_type": "markdown",
   "id": "8f316a48",
   "metadata": {},
   "source": [
    "sns.boxplot(data = bike[\"Rented Bike Count\"])"
   ]
  },
  {
   "cell_type": "markdown",
   "id": "2c23b2c9",
   "metadata": {},
   "source": [
    "sns.boxplot(data = bike[\"Temperature(°C)\"])"
   ]
  },
  {
   "cell_type": "markdown",
   "id": "79ccfc98",
   "metadata": {},
   "source": [
    " sns.boxplot(data = bike[\"Visibility (10m)\"])"
   ]
  },
  {
   "cell_type": "markdown",
   "id": "2e489789",
   "metadata": {},
   "source": []
  },
  {
   "cell_type": "markdown",
   "id": "82dc2cc5",
   "metadata": {},
   "source": [
    "# Correlation"
   ]
  },
  {
   "cell_type": "code",
   "execution_count": 17,
   "id": "83688582",
   "metadata": {},
   "outputs": [
    {
     "data": {
      "text/html": [
       "<div>\n",
       "<style scoped>\n",
       "    .dataframe tbody tr th:only-of-type {\n",
       "        vertical-align: middle;\n",
       "    }\n",
       "\n",
       "    .dataframe tbody tr th {\n",
       "        vertical-align: top;\n",
       "    }\n",
       "\n",
       "    .dataframe thead th {\n",
       "        text-align: right;\n",
       "    }\n",
       "</style>\n",
       "<table border=\"1\" class=\"dataframe\">\n",
       "  <thead>\n",
       "    <tr style=\"text-align: right;\">\n",
       "      <th></th>\n",
       "      <th>Date</th>\n",
       "      <th>Rented Bike Count</th>\n",
       "      <th>Hour</th>\n",
       "      <th>Temperature(°C)</th>\n",
       "      <th>Humidity(%)</th>\n",
       "      <th>Wind speed (m/s)</th>\n",
       "      <th>Visibility (10m)</th>\n",
       "      <th>Dew point temperature(°C)</th>\n",
       "      <th>Solar Radiation (MJ/m2)</th>\n",
       "      <th>Rainfall(mm)</th>\n",
       "      <th>Snowfall (cm)</th>\n",
       "      <th>Seasons</th>\n",
       "      <th>Holiday</th>\n",
       "      <th>Functioning Day</th>\n",
       "    </tr>\n",
       "  </thead>\n",
       "  <tbody>\n",
       "    <tr>\n",
       "      <th>0</th>\n",
       "      <td>01/12/2017</td>\n",
       "      <td>254</td>\n",
       "      <td>0</td>\n",
       "      <td>-5.2</td>\n",
       "      <td>37</td>\n",
       "      <td>2.2</td>\n",
       "      <td>2000</td>\n",
       "      <td>-17.6</td>\n",
       "      <td>0.0</td>\n",
       "      <td>0.0</td>\n",
       "      <td>0.0</td>\n",
       "      <td>0</td>\n",
       "      <td>0</td>\n",
       "      <td>1</td>\n",
       "    </tr>\n",
       "    <tr>\n",
       "      <th>1</th>\n",
       "      <td>01/12/2017</td>\n",
       "      <td>204</td>\n",
       "      <td>1</td>\n",
       "      <td>-5.5</td>\n",
       "      <td>38</td>\n",
       "      <td>0.8</td>\n",
       "      <td>2000</td>\n",
       "      <td>-17.6</td>\n",
       "      <td>0.0</td>\n",
       "      <td>0.0</td>\n",
       "      <td>0.0</td>\n",
       "      <td>0</td>\n",
       "      <td>0</td>\n",
       "      <td>1</td>\n",
       "    </tr>\n",
       "    <tr>\n",
       "      <th>2</th>\n",
       "      <td>01/12/2017</td>\n",
       "      <td>173</td>\n",
       "      <td>2</td>\n",
       "      <td>-6.0</td>\n",
       "      <td>39</td>\n",
       "      <td>1.0</td>\n",
       "      <td>2000</td>\n",
       "      <td>-17.7</td>\n",
       "      <td>0.0</td>\n",
       "      <td>0.0</td>\n",
       "      <td>0.0</td>\n",
       "      <td>0</td>\n",
       "      <td>0</td>\n",
       "      <td>1</td>\n",
       "    </tr>\n",
       "  </tbody>\n",
       "</table>\n",
       "</div>"
      ],
      "text/plain": [
       "         Date  Rented Bike Count  Hour  Temperature(°C)  Humidity(%)  \\\n",
       "0  01/12/2017                254     0             -5.2           37   \n",
       "1  01/12/2017                204     1             -5.5           38   \n",
       "2  01/12/2017                173     2             -6.0           39   \n",
       "\n",
       "   Wind speed (m/s)  Visibility (10m)  Dew point temperature(°C)  \\\n",
       "0               2.2              2000                      -17.6   \n",
       "1               0.8              2000                      -17.6   \n",
       "2               1.0              2000                      -17.7   \n",
       "\n",
       "   Solar Radiation (MJ/m2)  Rainfall(mm)  Snowfall (cm)  Seasons  Holiday  \\\n",
       "0                      0.0           0.0            0.0        0        0   \n",
       "1                      0.0           0.0            0.0        0        0   \n",
       "2                      0.0           0.0            0.0        0        0   \n",
       "\n",
       "   Functioning Day  \n",
       "0                1  \n",
       "1                1  \n",
       "2                1  "
      ]
     },
     "execution_count": 17,
     "metadata": {},
     "output_type": "execute_result"
    }
   ],
   "source": [
    "bike.head(3)"
   ]
  },
  {
   "cell_type": "code",
   "execution_count": 18,
   "id": "b15290fc",
   "metadata": {},
   "outputs": [],
   "source": [
    "bike_d = bike.drop([\"Date\"], axis = 1)"
   ]
  },
  {
   "cell_type": "code",
   "execution_count": 19,
   "id": "1e616f51",
   "metadata": {},
   "outputs": [
    {
     "data": {
      "text/html": [
       "<div>\n",
       "<style scoped>\n",
       "    .dataframe tbody tr th:only-of-type {\n",
       "        vertical-align: middle;\n",
       "    }\n",
       "\n",
       "    .dataframe tbody tr th {\n",
       "        vertical-align: top;\n",
       "    }\n",
       "\n",
       "    .dataframe thead th {\n",
       "        text-align: right;\n",
       "    }\n",
       "</style>\n",
       "<table border=\"1\" class=\"dataframe\">\n",
       "  <thead>\n",
       "    <tr style=\"text-align: right;\">\n",
       "      <th></th>\n",
       "      <th>Rented Bike Count</th>\n",
       "      <th>Hour</th>\n",
       "      <th>Temperature(°C)</th>\n",
       "      <th>Humidity(%)</th>\n",
       "      <th>Wind speed (m/s)</th>\n",
       "      <th>Visibility (10m)</th>\n",
       "      <th>Dew point temperature(°C)</th>\n",
       "      <th>Solar Radiation (MJ/m2)</th>\n",
       "      <th>Rainfall(mm)</th>\n",
       "      <th>Snowfall (cm)</th>\n",
       "      <th>Seasons</th>\n",
       "      <th>Holiday</th>\n",
       "      <th>Functioning Day</th>\n",
       "    </tr>\n",
       "  </thead>\n",
       "  <tbody>\n",
       "    <tr>\n",
       "      <th>0</th>\n",
       "      <td>254</td>\n",
       "      <td>0</td>\n",
       "      <td>-5.2</td>\n",
       "      <td>37</td>\n",
       "      <td>2.2</td>\n",
       "      <td>2000</td>\n",
       "      <td>-17.6</td>\n",
       "      <td>0.0</td>\n",
       "      <td>0.0</td>\n",
       "      <td>0.0</td>\n",
       "      <td>0</td>\n",
       "      <td>0</td>\n",
       "      <td>1</td>\n",
       "    </tr>\n",
       "    <tr>\n",
       "      <th>1</th>\n",
       "      <td>204</td>\n",
       "      <td>1</td>\n",
       "      <td>-5.5</td>\n",
       "      <td>38</td>\n",
       "      <td>0.8</td>\n",
       "      <td>2000</td>\n",
       "      <td>-17.6</td>\n",
       "      <td>0.0</td>\n",
       "      <td>0.0</td>\n",
       "      <td>0.0</td>\n",
       "      <td>0</td>\n",
       "      <td>0</td>\n",
       "      <td>1</td>\n",
       "    </tr>\n",
       "    <tr>\n",
       "      <th>2</th>\n",
       "      <td>173</td>\n",
       "      <td>2</td>\n",
       "      <td>-6.0</td>\n",
       "      <td>39</td>\n",
       "      <td>1.0</td>\n",
       "      <td>2000</td>\n",
       "      <td>-17.7</td>\n",
       "      <td>0.0</td>\n",
       "      <td>0.0</td>\n",
       "      <td>0.0</td>\n",
       "      <td>0</td>\n",
       "      <td>0</td>\n",
       "      <td>1</td>\n",
       "    </tr>\n",
       "  </tbody>\n",
       "</table>\n",
       "</div>"
      ],
      "text/plain": [
       "   Rented Bike Count  Hour  Temperature(°C)  Humidity(%)  Wind speed (m/s)  \\\n",
       "0                254     0             -5.2           37               2.2   \n",
       "1                204     1             -5.5           38               0.8   \n",
       "2                173     2             -6.0           39               1.0   \n",
       "\n",
       "   Visibility (10m)  Dew point temperature(°C)  Solar Radiation (MJ/m2)  \\\n",
       "0              2000                      -17.6                      0.0   \n",
       "1              2000                      -17.6                      0.0   \n",
       "2              2000                      -17.7                      0.0   \n",
       "\n",
       "   Rainfall(mm)  Snowfall (cm)  Seasons  Holiday  Functioning Day  \n",
       "0           0.0            0.0        0        0                1  \n",
       "1           0.0            0.0        0        0                1  \n",
       "2           0.0            0.0        0        0                1  "
      ]
     },
     "execution_count": 19,
     "metadata": {},
     "output_type": "execute_result"
    }
   ],
   "source": [
    "bike_d.head(3)"
   ]
  },
  {
   "cell_type": "markdown",
   "id": "7a88f17f",
   "metadata": {},
   "source": [
    "from statsmodels.stats.outliers_influence import variance_inflation_factor\n",
    "\n",
    "vif_data = pd.DataFrame()\n",
    "vif_data[\"Variable\"] = bike_d.columns\n",
    "vif_data[\"VIF\"] = [variance_inflation_factor(bike_d.values, i) for i in range(bike_d.shape[1])]\n",
    "print(vif_data)"
   ]
  },
  {
   "cell_type": "markdown",
   "id": "7fd05838",
   "metadata": {},
   "source": [
    "corr_matrix = np.corrcoef(bike_d, rowvar = False)\n",
    "\n",
    "sns.heatmap(corr_matrix, annot = True, cmap = 'coolwarm', fmt = '.2f', \n",
    "            xticklabels = range(bike_d.shape[1]), yticklabels = range(bike_d.shape[1]))\n",
    "plt.title(\"Feature Correlation Matrix\")\n",
    "plt.show()"
   ]
  },
  {
   "cell_type": "markdown",
   "id": "47b0ce43",
   "metadata": {},
   "source": [
    "The highest correlations are between: \n",
    "- Rented Bike Count & Temperature(°C) = 0.54 (0 & 2)\n",
    "- Temperature(°C) & Dew point temperature(°C) = 0.91 (2 & 6)\n",
    "- Temperature(°C) & Seasons = 0.59 (2 & 10)\n",
    "- Humidity(%) & Visibility (10m) = 0.54 (3 & 5)\n",
    "- Humidity(%) & Dew point temperature(°C) = 0.54 (3 & 6)\n",
    "- Dew point temperature(°C) & Seasons = 0.58 (6 & 10)"
   ]
  },
  {
   "cell_type": "markdown",
   "id": "2788938c",
   "metadata": {},
   "source": [
    "import numpy as np\n",
    "\n",
    "eigenvalues, _ = np.linalg.eig(corr_matrix)\n",
    "print(\"Eigenvalues:\", eigenvalues)\n"
   ]
  },
  {
   "cell_type": "markdown",
   "id": "563fde01",
   "metadata": {},
   "source": [
    "condition_number = np.sqrt(np.max(eigenvalues) / np.min(eigenvalues))\n",
    "print(\"Condition Number:\", condition_number)\n"
   ]
  },
  {
   "cell_type": "markdown",
   "id": "ab9a25f9",
   "metadata": {},
   "source": [
    "def find_highly_correlated_vars(corr_matrix, threshold = 0.5):\n",
    "    if isinstance(corr_matrix, pd.DataFrame):\n",
    "        corr_matrix = corr_matrix.values\n",
    "    rows, cols = np.where(np.abs(corr_matrix) > threshold)\n",
    "    unique_pairs = set((min(r, c), max(r, c)) for r, c in zip(rows, cols) if r != c)\n",
    "    return list(unique_pairs)\n",
    "\n",
    "corr_matrix = bike_d.corr()\n",
    "highly_corr_vars = find_highly_correlated_vars(corr_matrix, threshold=0.5)\n",
    "\n",
    "print(\"Pairs of highly correlated variables:\", highly_corr_vars)"
   ]
  },
  {
   "cell_type": "markdown",
   "id": "adfa4400",
   "metadata": {},
   "source": [
    "bike_d.head(1)"
   ]
  },
  {
   "cell_type": "markdown",
   "id": "62a36f6f",
   "metadata": {
    "scrolled": false
   },
   "source": [
    "sns.pairplot(bike[[\"Rented Bike Count\", \"Temperature(°C)\"]])\n",
    "\n",
    "#sns.pairplot(bike[[\"Rented Bike Count\", \"Seasons\"]])\n",
    "\n",
    "sns.pairplot(bike[[\"Temperature(°C)\", \"Dew point temperature(°C)\"]])\n",
    "\n",
    "sns.pairplot(bike[[\"Temperature(°C)\", \"Seasons\"]])\n",
    "\n",
    "sns.pairplot(bike[[\"Humidity(%)\", \"Visibility (10m)\"]])\n",
    "\n",
    "sns.pairplot(bike[[\"Humidity(%)\", \"Dew point temperature(°C)\"]])\n",
    "\n",
    "sns.pairplot(bike[[\"Dew point temperature(°C)\", \"Seasons\"]])"
   ]
  },
  {
   "cell_type": "markdown",
   "id": "686a6bcf",
   "metadata": {},
   "source": [
    "Rented Bike Count & Temperature(°C) = 0.54 (0 & 2)\n",
    "\n",
    "Temperature(°C) & Dew point temperature(°C) = 0.91 (2 & 6)\n",
    "\n",
    "Temperature(°C) & Seasons = 0.59 (2 & 10)\n",
    "\n",
    "Humidity(%) & Visibility (10m) = 0.54 (3 & 5)\n",
    "\n",
    "Humidity(%) & Dew point temperature(°C) = 0.54 (3 & 6)\n",
    "Dew point temperature(°C) & Seasons = 0.58 (6 & 10"
   ]
  },
  {
   "cell_type": "markdown",
   "id": "f341a7b9",
   "metadata": {},
   "source": [
    "Multicollinearity"
   ]
  },
  {
   "cell_type": "code",
   "execution_count": 20,
   "id": "2e4a3862",
   "metadata": {},
   "outputs": [],
   "source": [
    "bike_array = bike_d.values"
   ]
  },
  {
   "cell_type": "code",
   "execution_count": 21,
   "id": "031a6c1e",
   "metadata": {},
   "outputs": [],
   "source": [
    "X = bike_array[:, 1:]\n",
    "\n",
    "y = bike_array[:, 0]"
   ]
  },
  {
   "cell_type": "code",
   "execution_count": 22,
   "id": "68998cc4",
   "metadata": {},
   "outputs": [
    {
     "data": {
      "text/plain": [
       "array([254., 204., 173., ..., 694., 712., 584.])"
      ]
     },
     "execution_count": 22,
     "metadata": {},
     "output_type": "execute_result"
    }
   ],
   "source": [
    "y"
   ]
  },
  {
   "cell_type": "code",
   "execution_count": 23,
   "id": "90223a12",
   "metadata": {},
   "outputs": [
    {
     "data": {
      "text/plain": [
       "array([[ 0. , -5.2, 37. , ...,  0. ,  0. ,  1. ],\n",
       "       [ 1. , -5.5, 38. , ...,  0. ,  0. ,  1. ],\n",
       "       [ 2. , -6. , 39. , ...,  0. ,  0. ,  1. ],\n",
       "       ...,\n",
       "       [21. ,  2.6, 39. , ...,  3. ,  0. ,  1. ],\n",
       "       [22. ,  2.1, 41. , ...,  3. ,  0. ,  1. ],\n",
       "       [23. ,  1.9, 43. , ...,  3. ,  0. ,  1. ]])"
      ]
     },
     "execution_count": 23,
     "metadata": {},
     "output_type": "execute_result"
    }
   ],
   "source": [
    "X"
   ]
  },
  {
   "cell_type": "code",
   "execution_count": null,
   "id": "23843f8f",
   "metadata": {},
   "outputs": [],
   "source": []
  },
  {
   "cell_type": "code",
   "execution_count": 24,
   "id": "f99706c2",
   "metadata": {},
   "outputs": [
    {
     "name": "stdout",
     "output_type": "stream",
     "text": [
      "                            OLS Regression Results                            \n",
      "==============================================================================\n",
      "Dep. Variable:                      y   R-squared:                       0.545\n",
      "Model:                            OLS   Adj. R-squared:                  0.544\n",
      "Method:                 Least Squares   F-statistic:                     871.6\n",
      "Date:                Sun, 26 Nov 2023   Prob (F-statistic):               0.00\n",
      "Time:                        09:44:20   Log-Likelihood:                -65655.\n",
      "No. Observations:                8760   AIC:                         1.313e+05\n",
      "Df Residuals:                    8747   BIC:                         1.314e+05\n",
      "Df Model:                          12                                         \n",
      "Covariance Type:            nonrobust                                         \n",
      "==============================================================================\n",
      "                 coef    std err          t      P>|t|      [0.025      0.975]\n",
      "------------------------------------------------------------------------------\n",
      "const       -335.7974     96.368     -3.485      0.000    -524.702    -146.893\n",
      "x1            27.4522      0.732     37.524      0.000      26.018      28.886\n",
      "x2            19.4339      3.649      5.326      0.000      12.281      26.587\n",
      "x3            -9.9012      1.033     -9.589      0.000     -11.925      -7.877\n",
      "x4            21.4400      5.121      4.187      0.000      11.402      31.478\n",
      "x5            -0.0063      0.010     -0.641      0.521      -0.025       0.013\n",
      "x6             7.3304      3.833      1.912      0.056      -0.184      14.845\n",
      "x7           -74.3133      7.619     -9.754      0.000     -89.248     -59.379\n",
      "x8           -59.3219      4.296    -13.809      0.000     -67.743     -50.901\n",
      "x9            16.2795     11.160      1.459      0.145      -5.596      38.155\n",
      "x10          108.9526      5.532     19.696      0.000      98.109     119.796\n",
      "x11         -126.7298     21.578     -5.873      0.000    -169.027     -84.432\n",
      "x12          916.1297     26.445     34.643      0.000     864.291     967.968\n",
      "==============================================================================\n",
      "Omnibus:                     1395.904   Durbin-Watson:                   0.503\n",
      "Prob(Omnibus):                  0.000   Jarque-Bera (JB):             2755.333\n",
      "Skew:                           0.978   Prob(JB):                         0.00\n",
      "Kurtosis:                       4.930   Cond. No.                     3.25e+04\n",
      "==============================================================================\n",
      "\n",
      "Notes:\n",
      "[1] Standard Errors assume that the covariance matrix of the errors is correctly specified.\n",
      "[2] The condition number is large, 3.25e+04. This might indicate that there are\n",
      "strong multicollinearity or other numerical problems.\n"
     ]
    }
   ],
   "source": [
    "import statsmodels.api as sm\n",
    "\n",
    "# Assuming X is your feature matrix and y is your target variable\n",
    "\n",
    "# Add a constant to the feature matrix (for intercept)\n",
    "X_with_constant = sm.add_constant(X)\n",
    "\n",
    "# Fit the OLS model\n",
    "model = sm.OLS(y, X_with_constant).fit()\n",
    "\n",
    "# Summary of the regression results\n",
    "print(model.summary())\n"
   ]
  },
  {
   "cell_type": "code",
   "execution_count": null,
   "id": "0eeb5dfe",
   "metadata": {},
   "outputs": [],
   "source": []
  },
  {
   "cell_type": "code",
   "execution_count": 25,
   "id": "898ac511",
   "metadata": {},
   "outputs": [],
   "source": [
    "X_train, X_test, y_train, y_test = train_test_split(X, y, test_size = 0.1, random_state = 12)"
   ]
  },
  {
   "cell_type": "code",
   "execution_count": 26,
   "id": "20e33953",
   "metadata": {},
   "outputs": [
    {
     "data": {
      "text/plain": [
       "((8760, 12), (8760,), (7884, 12), (876, 12), (7884,), (876,))"
      ]
     },
     "execution_count": 26,
     "metadata": {},
     "output_type": "execute_result"
    }
   ],
   "source": [
    "X.shape, y.shape, X_train.shape, X_test.shape, y_train.shape, y_test.shape"
   ]
  },
  {
   "cell_type": "code",
   "execution_count": 27,
   "id": "aea68f3d",
   "metadata": {},
   "outputs": [],
   "source": [
    "scaler = MinMaxScaler()\n",
    "\n",
    "scaler.fit(X_train)\n",
    "\n",
    "X_train_scaled = scaler.transform(X_train)\n",
    "\n",
    "X_test_scaled  = scaler.transform(X_test)\n",
    "\n",
    "X_scaled = scaler.transform(X)"
   ]
  },
  {
   "cell_type": "markdown",
   "id": "74fe5b3d",
   "metadata": {},
   "source": [
    "# Models"
   ]
  },
  {
   "cell_type": "markdown",
   "id": "590b4100",
   "metadata": {},
   "source": [
    "# Linear Regression"
   ]
  },
  {
   "cell_type": "code",
   "execution_count": 28,
   "id": "5c2a959c",
   "metadata": {},
   "outputs": [],
   "source": [
    "from sklearn.linear_model import LinearRegression"
   ]
  },
  {
   "cell_type": "code",
   "execution_count": 29,
   "id": "35d12d92",
   "metadata": {},
   "outputs": [
    {
     "name": "stdout",
     "output_type": "stream",
     "text": [
      "Mean Squared Error: 186610.79228381193\n",
      "Root Mean Squared Error: 431.98471302097244\n",
      "R-squared: 0.5347049423977273\n",
      "Adjusted R-squared: 0.5282350227091672\n"
     ]
    }
   ],
   "source": [
    "linear_reg = LinearRegression()\n",
    "\n",
    "linear_reg.fit(X_train_scaled, y_train)\n",
    "\n",
    "yp_lr = linear_reg.predict(X_test_scaled)\n",
    "\n",
    "mse = mean_squared_error(y_test, yp_lr)\n",
    "mse_r = mean_squared_error(y_test, yp_lr, squared = False)\n",
    "r2 = r2_score(y_test, yp_lr)\n",
    "\n",
    "n = len(y_test)\n",
    "k = X_train_scaled.shape[1]\n",
    "adj_r2 = 1 - ((1 - r2) * (n - 1) / (n - k - 1))\n",
    "\n",
    "print(f'Mean Squared Error: {mse}')\n",
    "print(f'Root Mean Squared Error: {mse_r}')\n",
    "print(f'R-squared: {r2}')\n",
    "print(f'Adjusted R-squared: {adj_r2}')"
   ]
  },
  {
   "cell_type": "code",
   "execution_count": 30,
   "id": "2b395788",
   "metadata": {},
   "outputs": [
    {
     "name": "stdout",
     "output_type": "stream",
     "text": [
      "Training MSE: 189792.53252521323\n",
      "Validation MSE: 186610.79228381193\n"
     ]
    }
   ],
   "source": [
    "train_pred = linear_reg.predict(X_train_scaled)\n",
    "test_pred = linear_reg.predict(X_test_scaled)\n",
    "\n",
    "from sklearn.metrics import mean_squared_error, r2_score\n",
    "\n",
    "train_mse = mean_squared_error(y_train, train_pred)\n",
    "test_mse = mean_squared_error(y_test, test_pred)\n",
    "\n",
    "print(f'Training MSE: {train_mse}')\n",
    "print(f'Validation MSE: {test_mse}')"
   ]
  },
  {
   "cell_type": "markdown",
   "id": "da463ca1",
   "metadata": {},
   "source": [
    "## No overfitting "
   ]
  },
  {
   "cell_type": "code",
   "execution_count": 31,
   "id": "f64f323c",
   "metadata": {
    "collapsed": true
   },
   "outputs": [
    {
     "name": "stdout",
     "output_type": "stream",
     "text": [
      "Huber Loss: [6.25824586e+02 2.72912001e+02 6.66369647e+02 7.86046498e+01\n",
      " 4.72694679e+02 8.28958142e+01 1.32796250e+03 5.57463302e+01\n",
      " 1.59421814e+02 1.65219214e+02 9.97005439e+01 4.64920819e+02\n",
      " 2.61531063e+02 2.81068118e+02 2.69964518e+02 3.97936863e+02\n",
      " 3.46950340e+02 7.57294254e+01 6.53521042e+02 1.35242043e+01\n",
      " 2.91530539e+01 5.87501574e+02 9.06413994e+02 4.90299451e+02\n",
      " 3.24162962e+01 2.24808338e+02 2.40750585e+02 6.68905075e+02\n",
      " 6.93351770e+01 2.41414390e+02 8.08600753e+02 2.76033335e+02\n",
      " 3.42200477e+02 9.00386404e+02 2.19648952e+02 1.57606847e+02\n",
      " 1.24418052e+02 3.68782637e+02 4.05936681e+02 3.58407879e+01\n",
      " 1.22906213e+02 6.18001314e+01 9.08283019e+01 5.14265759e+02\n",
      " 4.38420372e+01 1.31089351e+02 3.38748072e+02 1.22545415e+02\n",
      " 3.66566616e+01 8.38948011e+02 7.96805679e+02 1.53599271e+02\n",
      " 2.48588693e+02 4.51021468e+02 6.63467936e+01 2.16285076e+02\n",
      " 8.15458601e+01 2.90432497e+02 3.54235744e+02 3.59479213e+02\n",
      " 2.05870327e+02 3.04762034e+02 4.44839259e+02 5.76895538e+02\n",
      " 1.53552460e+02 9.01667033e+00 7.13506924e+01 8.69353190e+01\n",
      " 1.62242205e+02 3.34144061e+02 1.90702293e+02 1.66694086e+02\n",
      " 2.94548499e+01 1.51738288e+02 5.04386124e+02 1.85241990e+02\n",
      " 4.65116490e+02 2.81012183e+02 3.27930225e+02 7.89553706e+02\n",
      " 3.79951060e+02 7.08826676e+02 2.71873470e+02 2.05753883e+02\n",
      " 1.74280345e+02 2.20644730e+02 6.23468416e+02 1.85089026e+02\n",
      " 3.65636547e+02 2.05855284e+02 7.10408325e+02 1.77408178e+02\n",
      " 2.04747316e+02 5.37223675e+02 1.09458846e+02 1.37091739e+02\n",
      " 5.25255681e+02 1.66375804e+02 3.56974061e+02 2.19343672e+02\n",
      " 1.91028885e+02 2.96603107e+02 1.39526320e+02 2.73300187e+02\n",
      " 7.88206854e+02 1.65204146e+02 8.11484695e+02 5.69053333e+02\n",
      " 2.36701123e+02 1.48467326e+02 2.44180180e+02 4.73269116e+01\n",
      " 7.34835565e+01 8.75600369e+00 5.03568843e+02 1.11447016e+03\n",
      " 3.48816994e+02 7.82578361e+01 4.85677088e+01 1.40875205e+02\n",
      " 9.45475391e+01 2.04317681e+02 1.10263739e+02 1.84305668e+02\n",
      " 2.40866385e+02 1.60287244e+02 2.24999771e+02 1.40132281e+02\n",
      " 1.72377957e+02 8.98959706e+02 9.58739664e+02 6.44508726e+02\n",
      " 5.55810248e+02 6.88505572e+02 6.46156237e+01 4.68573717e+02\n",
      " 1.89909266e+02 3.28638276e+01 1.53287145e+02 7.79922714e+02\n",
      " 1.25056379e+02 4.51435717e+02 1.20435221e+02 8.19771034e+02\n",
      " 3.69462004e+02 4.76236063e+02 2.77342918e+02 7.24828190e+00\n",
      " 3.69128532e+01 2.85988169e+02 3.96261510e+02 6.05495448e+02\n",
      " 4.75668133e+01 4.76517659e+01 8.73141449e+01 2.52387931e+02\n",
      " 8.36604256e+02 4.67514836e+02 2.67423599e+02 9.45709867e+01\n",
      " 5.07409470e+00 1.03165942e+03 3.09723802e+02 9.35191877e+02\n",
      " 1.13020071e+02 8.15824215e+01 2.53188705e+02 6.66029574e+01\n",
      " 1.38427401e+02 1.00127216e-02 3.46567326e+02 5.42289422e+02\n",
      " 1.81082929e+03 3.51688385e+02 2.40602183e+01 1.01162029e+02\n",
      " 3.60216138e+02 9.44948966e+02 6.83075938e+02 8.91173285e+02\n",
      " 8.64701236e+02 1.76663549e+03 2.54663552e+01 5.94232653e+02\n",
      " 5.02609138e+02 6.98598886e+02 3.76898053e+02 2.68002534e+02\n",
      " 3.52982139e+02 3.20743731e+02 2.30814252e+02 1.16711928e+02\n",
      " 2.25541184e+02 1.76255535e+02 4.41432156e+02 5.59444240e+02\n",
      " 7.58611701e+01 3.34552816e+01 4.50166830e+01 1.24160899e+02\n",
      " 1.67548921e+02 1.98781831e+02 3.24914231e+02 4.28906027e+02\n",
      " 4.20116946e+02 7.02580442e+01 2.35198091e+02 2.12862187e+02\n",
      " 1.18006646e+02 9.98276400e+02 1.50799284e+02 1.49731490e+02\n",
      " 3.05878088e+02 5.78780912e+02 6.60527876e+01 6.35946603e+02\n",
      " 1.69370327e+02 6.89618536e+01 2.84182042e+02 6.32935973e+02\n",
      " 1.50884962e+03 2.26956352e+02 2.87695164e+02 7.59196999e+02\n",
      " 9.46464602e+01 5.67709378e+01 1.37127301e+01 1.05699524e+02\n",
      " 2.13671494e+02 1.76393288e+02 6.68147172e+01 2.52931415e+02\n",
      " 4.56837771e+02 4.19662630e+01 2.07542083e+02 4.42689005e+01\n",
      " 4.55550601e+02 9.30511749e+01 6.27177969e+02 9.79558672e+01\n",
      " 6.53716042e+02 4.55379195e+02 1.71286200e+02 1.28928930e+02\n",
      " 7.65617488e+02 4.58941678e+02 4.31423567e+02 5.44358191e+02\n",
      " 6.45921765e+01 1.39375814e+02 7.11231419e+02 4.34924495e+02\n",
      " 9.73557944e+02 1.22495183e+02 2.84020244e+01 1.53793411e+02\n",
      " 4.51277290e+02 2.99451871e+02 1.49787849e+01 4.89679113e+01\n",
      " 1.49250559e+03 1.42044031e+02 1.08277230e+02 1.02070441e+00\n",
      " 9.48196394e+02 2.10890885e+02 5.80987495e+01 1.27035762e+03\n",
      " 2.71290699e+02 3.39446555e+02 3.52064298e+02 3.98692483e+02\n",
      " 4.65846330e+02 2.67817715e+00 7.41527601e+02 4.45133235e+02\n",
      " 3.62028501e+02 4.27420124e+01 2.93007456e+01 3.04806246e+02\n",
      " 5.11537997e+02 1.63367576e+02 4.22041881e+02 1.11965917e+02\n",
      " 2.76976552e+02 3.40955198e+02 4.66087179e+02 4.66892472e+02\n",
      " 7.89945564e+01 3.24856916e+02 4.30114634e+01 1.01597944e+03\n",
      " 4.61977932e+02 7.02903867e+01 2.25467717e+02 9.21909331e+01\n",
      " 2.05159370e+02 7.49466444e+01 1.12920180e+02 5.50627483e+02\n",
      " 2.77578312e+02 1.67311590e+02 6.79237010e+02 3.96754525e+02\n",
      " 4.58417240e+02 1.31133260e+02 1.72605343e+02 5.03969416e+02\n",
      " 2.41912686e+02 7.92813064e+02 3.74895282e+02 4.58066881e+02\n",
      " 2.90483123e+01 3.62961835e+02 7.82513714e+02 4.70026022e+01\n",
      " 1.96373350e+02 2.68581620e+02 1.20850573e+02 1.48990406e+02\n",
      " 5.32901095e+01 4.89484798e+02 4.26896180e+02 2.03290701e+02\n",
      " 3.98810844e+02 4.70008882e+02 1.75673581e+01 8.34229853e+00\n",
      " 5.56046299e+02 2.95751591e+02 3.99576881e+02 2.44860000e+02\n",
      " 1.20686987e+02 1.18857834e+02 2.04510886e+02 3.83855607e+01\n",
      " 1.72551279e+02 1.52488342e+02 6.41553572e+01 2.76215095e+02\n",
      " 1.69700468e+02 1.16216325e+02 9.86333408e+01 4.34846815e+02\n",
      " 4.10432238e+02 7.36137237e+02 5.87242275e+02 1.26801198e+02\n",
      " 1.51667740e+01 3.61633060e+02 1.46576661e+02 4.68362077e+01\n",
      " 6.34988605e+01 3.26055051e+01 2.26351880e+01 3.52204053e+02\n",
      " 5.35179422e+02 4.49573990e+02 2.47266868e+02 6.38200425e+01\n",
      " 9.62812234e+01 8.07374923e+02 1.22236115e+02 1.17001590e+00\n",
      " 4.92730457e+01 6.71005703e+02 6.94007317e+01 2.54762006e+02\n",
      " 2.59110422e+02 3.18405692e+02 2.27467167e+02 1.01707160e+02\n",
      " 5.29960952e+02 3.82432185e+02 3.01645185e+02 4.67363636e+02\n",
      " 2.60582773e+02 3.42741806e+02 1.87765719e+02 5.71810775e+02\n",
      " 1.30103990e+02 1.34595555e+02 2.79068824e+01 2.51920286e+02\n",
      " 1.82853883e+02 1.40545941e+02 8.86664486e+01 8.16777282e+01\n",
      " 3.59122641e+01 7.69359931e+01 6.56447499e+02 5.45780940e+02\n",
      " 9.89350588e+02 1.03398794e+03 4.75589580e+02 2.56374175e+02\n",
      " 5.98505748e+02 1.96652062e+02 1.72139785e+02 1.62030296e+02\n",
      " 3.08895045e+01 1.14288000e+02 2.82623700e+02 6.27278507e+02\n",
      " 3.15706471e+02 9.66777527e+02 5.59070052e+02 1.03655110e+02\n",
      " 1.36410954e+01 2.40778721e+02 1.89824702e+03 3.92971106e+02\n",
      " 2.16816631e+02 5.41264526e+01 9.52075272e+01 4.90685859e+02\n",
      " 5.80700437e+02 3.33447397e+02 1.69966148e+02 4.57854079e+02\n",
      " 1.39076861e+03 6.26878674e+01 7.85973521e+01 1.53032753e+02\n",
      " 1.73786286e+02 7.11172355e+01 4.03393781e+02 4.83965231e+02\n",
      " 1.97825244e+02 2.18684558e+02 8.73560462e+01 1.55114951e+02\n",
      " 2.65834993e+02 6.60492469e+01 1.08357519e+03 4.87878267e+02\n",
      " 9.82441438e+01 1.63100677e+02 1.61381686e+02 4.39056975e+02\n",
      " 1.10877756e+02 2.08607023e+02 3.48845223e+01 7.46942261e+02\n",
      " 3.85817233e+02 2.40082843e+02 2.01127110e+02 4.24401102e+02\n",
      " 9.75530818e+00 1.21415940e+02 4.40969677e+02 1.82244145e+02\n",
      " 4.46989215e+02 1.99274619e+02 2.00291581e+02 2.14413763e+02\n",
      " 3.49637138e+02 8.97943580e+01 1.62491887e+02 3.40983601e+02\n",
      " 4.09385438e+02 3.23065507e+02 1.75286005e+02 3.28380946e+02\n",
      " 5.84716448e+01 6.48119783e+02 8.01819993e+01 2.74093446e+02\n",
      " 6.98347110e+02 8.40748434e+02 5.13558652e+02 9.47228246e+02\n",
      " 5.97860807e+02 3.87426816e+02 4.50072635e+02 5.89047884e+01\n",
      " 2.22182895e+02 1.37043744e+02 4.94620466e+02 4.85392761e+01\n",
      " 5.26365467e+02 4.75433774e+02 1.85495155e+02 1.10003288e+03\n",
      " 3.71355945e+01 3.10952872e+02 6.20650025e+02 4.98387579e+02\n",
      " 1.15182504e+03 2.58860384e+02 2.56380169e+02 2.82508883e+02\n",
      " 3.12337332e+02 1.04747932e+02 2.75645569e+02 2.64623098e+02\n",
      " 3.83855521e+02 2.69488895e+02 3.47569834e+01 3.05008089e+02\n",
      " 2.15116375e+02 1.64264554e+02 1.95887979e+02 7.08479120e+02\n",
      " 4.12785161e+01 6.37147576e+02 8.35833199e+02 1.82293703e+02\n",
      " 1.51681374e+02 1.20395492e+02 5.27429883e+01 5.49735357e+02\n",
      " 2.91106911e+02 5.71021739e+02 6.57683138e+02 1.88312769e+02\n",
      " 1.36384046e+02 7.13623414e+02 5.25206602e+02 1.03497528e+02\n",
      " 3.34977695e+00 1.57648081e+02 2.46841413e+01 2.25956677e+02\n",
      " 3.12163159e+02 5.82072154e+02 2.44339636e+02 1.08234705e+03\n",
      " 2.89304593e+01 1.14450343e+02 4.02513209e+02 2.01975453e+03\n",
      " 1.99645343e+02 1.94608103e+01 2.57699742e+02 1.45998527e+02\n",
      " 5.21964721e+01 1.84637088e+02 7.74203093e+02 4.50411670e+02\n",
      " 1.03897383e+02 1.93776961e+02 1.01971276e+02 5.30221185e+02\n",
      " 3.52453941e+02 1.27618360e+01 1.10055948e+02 1.46657399e+02\n",
      " 1.39225888e+02 1.76249786e+02 9.39508245e+01 4.50139017e+02\n",
      " 2.88324187e+02 1.38061375e+02 3.23892199e+02 9.11363993e+02\n",
      " 9.27647196e+02 7.40455099e+01 6.12738682e+01 1.92856400e+00\n",
      " 3.97146962e+02 8.65773722e+01 2.12639859e+02 1.87873693e+02\n",
      " 1.67195463e+02 4.02398209e+02 2.68447184e+01 6.01846922e+00\n",
      " 4.84580780e+02 2.82808042e+01 7.30630983e+02 1.36845105e+03\n",
      " 4.98793929e+02 3.54567241e+02 6.34906093e+02 2.18481326e+02\n",
      " 8.37541344e+02 3.09693143e+02 2.02124457e+02 1.77860461e+02\n",
      " 4.26541626e+02 3.10904756e+02 1.41204579e+02 2.65331873e+02\n",
      " 5.44433001e+02 6.53255502e+00 4.88113379e+01 2.29095692e+02\n",
      " 2.39255694e+02 3.32628919e+02 3.40701324e+01 4.21821885e+02\n",
      " 1.15409759e+01 3.08709821e+02 6.06319681e+02 8.78644438e+01\n",
      " 4.12551152e+02 1.03131688e+02 2.57200423e+02 3.47804410e+02\n",
      " 3.59924349e+02 5.09383938e+02 4.03966126e+02 4.39026164e+02\n",
      " 1.41363813e+03 5.94600394e+00 4.22869109e+02 3.92722239e+01\n",
      " 5.80312988e+01 4.79735114e+01 1.07417394e+02 8.73972030e+01\n",
      " 7.41953257e+01 5.87070589e+02 4.00045529e+02 1.34059690e+02\n",
      " 8.58471309e+01 2.31801487e+02 6.41043099e+01 4.79040644e+02\n",
      " 2.09249355e-01 2.57872817e+02 2.12571166e+02 6.00737525e+02\n",
      " 2.14679895e+01 8.64841027e+02 3.62151819e+01 1.71461336e+03\n",
      " 3.44009705e+02 6.27161484e+01 3.87960061e+02 1.31339706e+02\n",
      " 6.41876460e+01 2.10409142e+02 7.63218708e+01 3.22331853e+02\n",
      " 4.49497925e+01 1.29657968e+03 3.13611525e+02 2.26081349e+02\n",
      " 1.64841602e+01 8.37631769e+02 3.20064680e+02 1.83340252e+02\n",
      " 7.05901732e+02 6.54209399e+02 3.88905814e+02 7.37081374e+01\n",
      " 3.45514516e+01 4.14720841e+02 3.13975300e+02 8.53039410e+02\n",
      " 4.91313762e+02 1.26131893e+02 7.05757767e+01 4.02191874e+01\n",
      " 1.94561950e+02 5.02867119e+01 1.36502401e+02 4.71140258e+02\n",
      " 4.50938052e+02 7.90141603e+01 1.85666751e+01 5.02117852e+02\n",
      " 1.97525423e+02 7.49139190e+02 3.24637549e+02 6.75029049e+01\n",
      " 1.98294892e+02 3.85556758e+01 4.99606402e+01 1.23551662e+02\n",
      " 1.01650826e+02 1.04247781e+02 1.57825955e+02 1.44111339e+02\n",
      " 9.26907024e+01 2.77701549e+02 5.89350820e+02 6.88578196e+01\n",
      " 3.15971797e+02 5.94496378e+01 2.51431393e+02 2.24583933e+02\n",
      " 9.33381421e+02 1.59203397e+02 2.76618201e+02 1.57144739e+02\n",
      " 5.69576312e+00 6.43348136e+01 1.40193323e+01 6.33436245e+01\n",
      " 1.02494108e+03 4.02618328e+02 4.62084044e+01 2.16849703e+02\n",
      " 6.52165865e+02 2.36345845e+02 1.59995590e+02 3.98675349e+02\n",
      " 6.75925084e+02 8.85290052e+01 7.40411325e+02 3.93296195e+02\n",
      " 6.44449657e+02 2.75321744e+02 4.65283915e+02 6.07094635e+02\n",
      " 1.14715976e+02 3.88230645e+02 3.79405349e+02 8.36336258e+02\n",
      " 9.27367076e+01 1.58899497e+02 1.88829795e+02 3.29615440e+02\n",
      " 7.04347691e+01 7.71673358e+02 1.50880634e+03 3.53337281e+02\n",
      " 3.44102505e+02 2.27331736e+01 2.35014895e+02 4.36663339e+02\n",
      " 7.24357416e+02 4.46648882e+02 6.75138869e+02 1.28960293e+02\n",
      " 5.68691688e+01 3.73066711e+02 3.53683889e+01 3.89524665e+01\n",
      " 1.67271943e+01 1.90297072e+02 1.88668303e+02 3.68906890e+02\n",
      " 8.17111527e+01 3.19725649e+02 2.70948637e+02 1.95025162e+02\n",
      " 1.44128376e+02 4.87407067e+02 3.46905586e+02 1.31500194e+02\n",
      " 2.21410578e+02 6.11114005e+01 2.07049872e+02 4.25588102e+01\n",
      " 2.81772360e+02 1.66513793e+01 2.00254859e+02 1.23153369e+02\n",
      " 9.59211092e+02 4.95560718e+02 2.71510113e+01 1.24905472e+02\n",
      " 2.49109083e+01 9.36477858e+01 1.33013094e+03 4.26737971e+02\n",
      " 2.13477011e+02 1.92627973e+02 5.18348573e+01 4.65180487e+02\n",
      " 1.73261148e+02 1.79201353e+02 1.58295123e+02 6.75192123e+02\n",
      " 3.03671859e+02 1.96196539e+01 3.64536203e+02 8.04472148e+02\n",
      " 2.61556097e+02 7.56108160e+01 1.64551269e+02 9.28734400e+02\n",
      " 2.32121410e+02 7.38284712e+02 8.50128838e+01 3.39106776e+02\n",
      " 5.52472517e+02 2.46845765e+02 3.02980502e+02 1.12607659e+00\n",
      " 1.64874697e+02 2.47452829e+02 5.45422373e+02 1.27755014e+02\n",
      " 2.03453700e+02 2.86950513e+02 8.21407980e+02 4.81470803e+00\n",
      " 1.79767834e+02 7.06436387e+02 6.80429032e+02 1.90478295e+01\n",
      " 2.50959548e+02 1.63877336e+02 2.28107582e+02 5.73055703e+02\n",
      " 2.09372520e+02 2.51463106e+02 4.61233241e+01 6.67244818e+02\n",
      " 3.50698983e+02 6.50968203e+02 4.53967145e+02 1.73835597e+02\n",
      " 5.01393396e+01 1.13178763e+02 1.32120609e+02 3.60070427e+02\n",
      " 3.81188037e+02 1.20936425e+02 4.85392979e+02 2.40688548e+02\n",
      " 2.88699675e+02 2.56907811e+02 5.29008951e+02 3.94330020e+02\n",
      " 5.00901232e+02 7.14263183e+02 3.50609011e+01 4.70286155e+01\n",
      " 3.46375578e+02 1.06194348e+02 1.27845029e+02 2.26248887e+02\n",
      " 5.66696412e+01 3.46114700e+01 2.21672862e+02 1.96320633e+02\n",
      " 1.87076191e+02 6.46115051e+02 1.35566514e+01 7.61462906e+02\n",
      " 5.61632215e+02 9.28942024e+01 1.76281303e+02 1.47814256e+02\n",
      " 5.11080105e+02 2.95801242e+02 1.53917725e+02 1.67093777e+02\n",
      " 1.59042352e+02 3.16863638e-02 4.37982060e+02 2.01448279e+02\n",
      " 5.64171290e+02 4.28483098e+02 4.19847149e+02 4.51717870e+02\n",
      " 3.02026898e+02 3.44312567e+02 4.55829293e+02 1.91824810e+01\n",
      " 6.87018396e+01 2.17525335e+01 7.27221214e+02 1.31228895e+02\n",
      " 3.13502718e+02 3.11884054e+02 1.52851737e+02 1.83891560e+02\n",
      " 7.10491013e+02 2.76219936e+02 1.12047352e+02 8.97974914e+02\n",
      " 3.19055559e+01 2.76778946e+01 1.64249674e+02 2.92863836e+02\n",
      " 2.06230043e+00 2.31421100e+02 5.49720501e+01 2.50400935e+01]\n",
      "Mean Huber Loss: 318.1292093386071\n"
     ]
    }
   ],
   "source": [
    "import tensorflow as tf\n",
    "def huber_loss(y_test, yp_lr, delta=1.0):\n",
    "    error = y_test - yp_lr\n",
    "    condition = tf.abs(error) < delta\n",
    "    squared_loss = 0.5 * tf.square(error)\n",
    "    linear_loss = delta * (tf.abs(error) - 0.5 * delta)\n",
    "    return tf.where(condition, squared_loss, linear_loss)\n",
    "\n",
    "loss = huber_loss(y_test, yp_lr, delta=1.0)\n",
    "print(\"Huber Loss:\", loss.numpy())\n",
    "\n",
    "mean_huber_loss = np.mean(loss)\n",
    "print(f\"Mean Huber Loss: {mean_huber_loss}\")"
   ]
  },
  {
   "cell_type": "code",
   "execution_count": 32,
   "id": "297a10e1",
   "metadata": {},
   "outputs": [
    {
     "data": {
      "text/plain": [
       "0.5174216088198078"
      ]
     },
     "execution_count": 32,
     "metadata": {},
     "output_type": "execute_result"
    }
   ],
   "source": [
    "score_l = cross_val_score(LinearRegression(), X_test_scaled, y_test, cv = 5, scoring = 'r2').mean()\n",
    "score_l"
   ]
  },
  {
   "cell_type": "code",
   "execution_count": 33,
   "id": "7bb2d981",
   "metadata": {},
   "outputs": [
    {
     "data": {
      "text/html": [
       "<div>\n",
       "<style scoped>\n",
       "    .dataframe tbody tr th:only-of-type {\n",
       "        vertical-align: middle;\n",
       "    }\n",
       "\n",
       "    .dataframe tbody tr th {\n",
       "        vertical-align: top;\n",
       "    }\n",
       "\n",
       "    .dataframe thead th {\n",
       "        text-align: right;\n",
       "    }\n",
       "</style>\n",
       "<table border=\"1\" class=\"dataframe\">\n",
       "  <thead>\n",
       "    <tr style=\"text-align: right;\">\n",
       "      <th></th>\n",
       "      <th>Actual</th>\n",
       "      <th>Predicted</th>\n",
       "    </tr>\n",
       "  </thead>\n",
       "  <tbody>\n",
       "    <tr>\n",
       "      <th>0</th>\n",
       "      <td>278.0</td>\n",
       "      <td>904.324586</td>\n",
       "    </tr>\n",
       "    <tr>\n",
       "      <th>1</th>\n",
       "      <td>96.0</td>\n",
       "      <td>-177.412001</td>\n",
       "    </tr>\n",
       "    <tr>\n",
       "      <th>2</th>\n",
       "      <td>215.0</td>\n",
       "      <td>881.869647</td>\n",
       "    </tr>\n",
       "    <tr>\n",
       "      <th>3</th>\n",
       "      <td>1290.0</td>\n",
       "      <td>1210.895350</td>\n",
       "    </tr>\n",
       "    <tr>\n",
       "      <th>4</th>\n",
       "      <td>165.0</td>\n",
       "      <td>638.194679</td>\n",
       "    </tr>\n",
       "  </tbody>\n",
       "</table>\n",
       "</div>"
      ],
      "text/plain": [
       "   Actual    Predicted\n",
       "0   278.0   904.324586\n",
       "1    96.0  -177.412001\n",
       "2   215.0   881.869647\n",
       "3  1290.0  1210.895350\n",
       "4   165.0   638.194679"
      ]
     },
     "execution_count": 33,
     "metadata": {},
     "output_type": "execute_result"
    }
   ],
   "source": [
    "pred = pd.DataFrame({'Actual': y_test, 'Predicted': yp_lr})\n",
    "pred.head()"
   ]
  },
  {
   "cell_type": "markdown",
   "id": "0dc2c325",
   "metadata": {},
   "source": [
    "## Polynomial 2 and 3"
   ]
  },
  {
   "cell_type": "code",
   "execution_count": 34,
   "id": "34597a64",
   "metadata": {},
   "outputs": [],
   "source": [
    "from sklearn.preprocessing import PolynomialFeatures"
   ]
  },
  {
   "cell_type": "code",
   "execution_count": 35,
   "id": "2de30d74",
   "metadata": {},
   "outputs": [
    {
     "name": "stdout",
     "output_type": "stream",
     "text": [
      "Mean Squared Error: 129787.7459520186\n",
      "Root Mean Squared Error: 360.2606638977098\n",
      "R-squared: 0.6763874372444199\n",
      "Adjusted R-squared: 0.6718876101840874\n"
     ]
    }
   ],
   "source": [
    "poly_features = PolynomialFeatures(degree = 2)\n",
    "\n",
    "X_train_poly = poly_features.fit_transform(X_train_scaled)\n",
    "X_test_poly = poly_features.transform(X_test_scaled)\n",
    "\n",
    "poly_reg = LinearRegression()\n",
    "poly_reg.fit(X_train_poly, y_train)\n",
    "\n",
    "yp_p2 = poly_reg.predict(X_test_poly)\n",
    "\n",
    "mse = mean_squared_error(y_test, yp_p2)\n",
    "mse_r = mean_squared_error(y_test, yp_p2, squared = False)\n",
    "r2 = r2_score(y_test, yp_p2)\n",
    "\n",
    "n = len(y_test)\n",
    "k = X_train_scaled.shape[1]  # Number of features\n",
    "adj_r2 = 1 - ((1 - r2) * (n - 1) / (n - k - 1))\n",
    "\n",
    "print(f'Mean Squared Error: {mse}')\n",
    "print(f'Root Mean Squared Error: {mse_r}')\n",
    "print(f'R-squared: {r2}')\n",
    "print(f'Adjusted R-squared: {adj_r2}')"
   ]
  },
  {
   "cell_type": "markdown",
   "id": "560c2d59",
   "metadata": {},
   "source": [
    "I tried to check the Training MSE and the Validation MSE but I encountered an error and I could not fixed it."
   ]
  },
  {
   "cell_type": "code",
   "execution_count": 36,
   "id": "c28660de",
   "metadata": {},
   "outputs": [
    {
     "data": {
      "text/plain": [
       "0.5174216088198078"
      ]
     },
     "execution_count": 36,
     "metadata": {},
     "output_type": "execute_result"
    }
   ],
   "source": [
    "score_lp2 = cross_val_score(poly_reg, X_test_scaled, y_test, cv = 5, scoring = 'r2').mean()\n",
    "score_lp2"
   ]
  },
  {
   "cell_type": "code",
   "execution_count": 37,
   "id": "0268788d",
   "metadata": {},
   "outputs": [
    {
     "data": {
      "text/html": [
       "<div>\n",
       "<style scoped>\n",
       "    .dataframe tbody tr th:only-of-type {\n",
       "        vertical-align: middle;\n",
       "    }\n",
       "\n",
       "    .dataframe tbody tr th {\n",
       "        vertical-align: top;\n",
       "    }\n",
       "\n",
       "    .dataframe thead th {\n",
       "        text-align: right;\n",
       "    }\n",
       "</style>\n",
       "<table border=\"1\" class=\"dataframe\">\n",
       "  <thead>\n",
       "    <tr style=\"text-align: right;\">\n",
       "      <th></th>\n",
       "      <th>Actual</th>\n",
       "      <th>Predicted</th>\n",
       "    </tr>\n",
       "  </thead>\n",
       "  <tbody>\n",
       "    <tr>\n",
       "      <th>0</th>\n",
       "      <td>278.0</td>\n",
       "      <td>542.993921</td>\n",
       "    </tr>\n",
       "    <tr>\n",
       "      <th>1</th>\n",
       "      <td>96.0</td>\n",
       "      <td>-131.065529</td>\n",
       "    </tr>\n",
       "    <tr>\n",
       "      <th>2</th>\n",
       "      <td>215.0</td>\n",
       "      <td>860.609526</td>\n",
       "    </tr>\n",
       "    <tr>\n",
       "      <th>3</th>\n",
       "      <td>1290.0</td>\n",
       "      <td>1490.185513</td>\n",
       "    </tr>\n",
       "    <tr>\n",
       "      <th>4</th>\n",
       "      <td>165.0</td>\n",
       "      <td>158.351659</td>\n",
       "    </tr>\n",
       "  </tbody>\n",
       "</table>\n",
       "</div>"
      ],
      "text/plain": [
       "   Actual    Predicted\n",
       "0   278.0   542.993921\n",
       "1    96.0  -131.065529\n",
       "2   215.0   860.609526\n",
       "3  1290.0  1490.185513\n",
       "4   165.0   158.351659"
      ]
     },
     "execution_count": 37,
     "metadata": {},
     "output_type": "execute_result"
    }
   ],
   "source": [
    "pred_p2 = pd.DataFrame({'Actual': y_test, 'Predicted': yp_p2})\n",
    "pred_p2.head()"
   ]
  },
  {
   "cell_type": "code",
   "execution_count": 38,
   "id": "f5aed552",
   "metadata": {},
   "outputs": [
    {
     "name": "stdout",
     "output_type": "stream",
     "text": [
      "Mean Squared Error: 7884767.095634608\n",
      "R-squared: -18.659865943680813\n"
     ]
    }
   ],
   "source": [
    "degree = 3\n",
    "poly_features = PolynomialFeatures(degree=degree)\n",
    "\n",
    "X_train_poly = poly_features.fit_transform(X_train_scaled)\n",
    "X_test_poly = poly_features.transform(X_test_scaled)\n",
    "\n",
    "poly_reg = LinearRegression()\n",
    "poly_reg.fit(X_train_poly, y_train)\n",
    "\n",
    "yp_p3 = poly_reg.predict(X_test_poly)\n",
    "\n",
    "mse = mean_squared_error(y_test, yp_p3)\n",
    "r2 = r2_score(y_test, yp_p3)\n",
    "\n",
    "print(f'Mean Squared Error: {mse}')\n",
    "print(f'R-squared: {r2}')"
   ]
  },
  {
   "cell_type": "markdown",
   "id": "0a86ab62",
   "metadata": {},
   "source": [
    "## Ridge"
   ]
  },
  {
   "cell_type": "code",
   "execution_count": 39,
   "id": "4102f4b3",
   "metadata": {},
   "outputs": [
    {
     "name": "stdout",
     "output_type": "stream",
     "text": [
      "Mean Squared Error (Ridge): 186716.16873945633\n",
      "R-squared (Ridge): 0.5344421969080431\n"
     ]
    }
   ],
   "source": [
    "from sklearn.linear_model import Ridge\n",
    "\n",
    "ridge_reg = Ridge(alpha=1.0)  # Adjust alpha based on the strength of regularization\n",
    "ridge_reg.fit(X_train_scaled, y_train)\n",
    "\n",
    "yp_lnR = ridge_reg.predict(X_test_scaled)\n",
    "\n",
    "mse = mean_squared_error(y_test, yp_lnR)\n",
    "r2 = r2_score(y_test, yp_lnR)\n",
    "\n",
    "print(f'Mean Squared Error (Ridge): {mse}')\n",
    "print(f'R-squared (Ridge): {r2}')"
   ]
  },
  {
   "cell_type": "code",
   "execution_count": 40,
   "id": "64ba5acc",
   "metadata": {},
   "outputs": [
    {
     "data": {
      "text/html": [
       "<div>\n",
       "<style scoped>\n",
       "    .dataframe tbody tr th:only-of-type {\n",
       "        vertical-align: middle;\n",
       "    }\n",
       "\n",
       "    .dataframe tbody tr th {\n",
       "        vertical-align: top;\n",
       "    }\n",
       "\n",
       "    .dataframe thead th {\n",
       "        text-align: right;\n",
       "    }\n",
       "</style>\n",
       "<table border=\"1\" class=\"dataframe\">\n",
       "  <thead>\n",
       "    <tr style=\"text-align: right;\">\n",
       "      <th></th>\n",
       "      <th>Actual</th>\n",
       "      <th>Predicted</th>\n",
       "    </tr>\n",
       "  </thead>\n",
       "  <tbody>\n",
       "    <tr>\n",
       "      <th>0</th>\n",
       "      <td>278.0</td>\n",
       "      <td>902.460464</td>\n",
       "    </tr>\n",
       "    <tr>\n",
       "      <th>1</th>\n",
       "      <td>96.0</td>\n",
       "      <td>-181.113443</td>\n",
       "    </tr>\n",
       "    <tr>\n",
       "      <th>2</th>\n",
       "      <td>215.0</td>\n",
       "      <td>880.951804</td>\n",
       "    </tr>\n",
       "    <tr>\n",
       "      <th>3</th>\n",
       "      <td>1290.0</td>\n",
       "      <td>1207.115334</td>\n",
       "    </tr>\n",
       "    <tr>\n",
       "      <th>4</th>\n",
       "      <td>165.0</td>\n",
       "      <td>633.579224</td>\n",
       "    </tr>\n",
       "  </tbody>\n",
       "</table>\n",
       "</div>"
      ],
      "text/plain": [
       "   Actual    Predicted\n",
       "0   278.0   902.460464\n",
       "1    96.0  -181.113443\n",
       "2   215.0   880.951804\n",
       "3  1290.0  1207.115334\n",
       "4   165.0   633.579224"
      ]
     },
     "execution_count": 40,
     "metadata": {},
     "output_type": "execute_result"
    }
   ],
   "source": [
    "pred_lnR = pd.DataFrame({'Actual': y_test, 'Predicted': yp_lnR})\n",
    "pred_lnR.head()"
   ]
  },
  {
   "cell_type": "code",
   "execution_count": 41,
   "id": "05ceb1dd",
   "metadata": {},
   "outputs": [
    {
     "name": "stdout",
     "output_type": "stream",
     "text": [
      "Mean Squared Error (Ridge): 139837.312329306\n",
      "Root Mean Squared Error: 373.9482749382674\n",
      "R-squared (Ridge): 0.6513298641578313\n",
      "Adjusted R-squared: 0.5279686237480159\n"
     ]
    }
   ],
   "source": [
    "degree = 2\n",
    "\n",
    "poly = PolynomialFeatures(degree=degree, include_bias=False)\n",
    "X_train_poly = poly.fit_transform(X_train_scaled)\n",
    "X_test_poly = poly.transform(X_test_scaled)\n",
    "\n",
    "ridge_reg2 = Ridge(alpha = 10.0) \n",
    "ridge_reg2.fit(X_train_poly, y_train)\n",
    "\n",
    "yp_rp2 = ridge_reg2.predict(X_test_poly)\n",
    "\n",
    "mse_ridge = mean_squared_error(y_test, yp_rp2)\n",
    "mse_ridge_r = mean_squared_error(y_test, yp_rp2, squared = False)\n",
    "r2_ridge = r2_score(y_test, yp_rp2)\n",
    "\n",
    "n = len(y_test)\n",
    "k = X_train_scaled.shape[1]  \n",
    "adj_r2 = 1 - ((1 - r2) * (n - 1) / (n - k - 1))\n",
    "\n",
    "print(f'Mean Squared Error (Ridge): {mse_ridge}')\n",
    "print(f'Root Mean Squared Error: {mse_ridge_r}')\n",
    "print(f'R-squared (Ridge): {r2_ridge}')\n",
    "print(f'Adjusted R-squared: {adj_r2}')"
   ]
  },
  {
   "cell_type": "code",
   "execution_count": 42,
   "id": "833cbaac",
   "metadata": {},
   "outputs": [
    {
     "data": {
      "text/plain": [
       "0.49492148674357406"
      ]
     },
     "execution_count": 42,
     "metadata": {},
     "output_type": "execute_result"
    }
   ],
   "source": [
    "score_rp2 = cross_val_score(ridge_reg2, X_test_scaled, y_test, cv = 5, scoring = 'r2').mean()\n",
    "score_rp2"
   ]
  },
  {
   "cell_type": "code",
   "execution_count": 89,
   "id": "44e36eb8",
   "metadata": {},
   "outputs": [
    {
     "name": "stdout",
     "output_type": "stream",
     "text": [
      "Training MSE: 149872.55606509215\n",
      "Validation MSE: 139837.312329306\n",
      "Mean Huber Loss: 270.78954287712133\n"
     ]
    }
   ],
   "source": [
    "train_pred = ridge_reg2.predict(X_train_poly)\n",
    "test_pred = ridge_reg2.predict(X_test_poly)\n",
    "\n",
    "from sklearn.metrics import mean_squared_error, r2_score\n",
    "\n",
    "train_mse = mean_squared_error(y_train, train_pred)\n",
    "test_mse = mean_squared_error(y_test, test_pred)\n",
    "\n",
    "print(f'Training MSE: {train_mse}')\n",
    "print(f'Validation MSE: {test_mse}')\n",
    "\n",
    "import tensorflow as tf\n",
    "def huber_loss(y_test, yp_rp2, delta = 1.0):\n",
    "    error = y_test - yp_rp2\n",
    "    condition = tf.abs(error) < delta\n",
    "    squared_loss = 0.5 * tf.square(error)\n",
    "    linear_loss = delta * (tf.abs(error) - 0.5 * delta)\n",
    "    return tf.where(condition, squared_loss, linear_loss)\n",
    "\n",
    "loss = huber_loss(y_test, yp_rp2, delta = 1.0)\n",
    "#print(\"Huber Loss:\", loss.numpy())\n",
    "\n",
    "mean_huber_loss = np.mean(loss)\n",
    "print(f\"Mean Huber Loss: {mean_huber_loss}\")"
   ]
  },
  {
   "cell_type": "markdown",
   "id": "12ca11cb",
   "metadata": {},
   "source": [
    "## A little bit overfitting but with a significant difference between R2 and Adjusted R2 and low cross validation"
   ]
  },
  {
   "cell_type": "markdown",
   "id": "ec8b581e",
   "metadata": {},
   "source": [
    "## Lasso"
   ]
  },
  {
   "cell_type": "code",
   "execution_count": 44,
   "id": "8e1e9c71",
   "metadata": {},
   "outputs": [
    {
     "name": "stdout",
     "output_type": "stream",
     "text": [
      "Mean Squared Error (Lasso): 187733.61720385953\n",
      "R-squared (Lasso): 0.5319052924982925\n"
     ]
    }
   ],
   "source": [
    "from sklearn.linear_model import Lasso\n",
    "\n",
    "lasso_reg = Lasso(alpha=1.0) \n",
    "lasso_reg.fit(X_train_scaled, y_train)\n",
    "\n",
    "yp_lnL = lasso_reg.predict(X_test_scaled)\n",
    "\n",
    "mse = mean_squared_error(y_test, yp_lnL)\n",
    "r2 = r2_score(y_test, yp_lnL)\n",
    "\n",
    "print(f'Mean Squared Error (Lasso): {mse}')\n",
    "print(f'R-squared (Lasso): {r2}')"
   ]
  },
  {
   "cell_type": "code",
   "execution_count": 45,
   "id": "d5922ae0",
   "metadata": {},
   "outputs": [
    {
     "name": "stdout",
     "output_type": "stream",
     "text": [
      "Mean Squared Error (Lasso): 178059.99527643577\n",
      "R-squared (Lasso): 0.5560254862816063\n"
     ]
    }
   ],
   "source": [
    "degree = 2\n",
    "\n",
    "poly = PolynomialFeatures(degree=degree, include_bias=False)\n",
    "X_train_poly = poly.fit_transform(X_train_scaled)\n",
    "X_test_poly = poly.transform(X_test_scaled)\n",
    " \n",
    "lasso_reg = Lasso(alpha = 10.0, max_iter = 100000)\n",
    "lasso_reg.fit(X_train_poly, y_train)\n",
    "\n",
    "yp_lp2 = lasso_reg.predict(X_test_poly)\n",
    "\n",
    "mse_lasso = mean_squared_error(y_test, yp_lp2)\n",
    "r2_lasso = r2_score(y_test, yp_lp2)\n",
    "\n",
    "print(f'Mean Squared Error (Lasso): {mse_lasso}')\n",
    "print(f'R-squared (Lasso): {r2_lasso}')"
   ]
  },
  {
   "cell_type": "code",
   "execution_count": null,
   "id": "99933654",
   "metadata": {},
   "outputs": [],
   "source": []
  },
  {
   "cell_type": "code",
   "execution_count": null,
   "id": "30277b04",
   "metadata": {},
   "outputs": [],
   "source": []
  },
  {
   "cell_type": "code",
   "execution_count": null,
   "id": "434908e8",
   "metadata": {},
   "outputs": [],
   "source": []
  },
  {
   "cell_type": "markdown",
   "id": "fd85fb6b",
   "metadata": {},
   "source": [
    "# Random Forest"
   ]
  },
  {
   "cell_type": "code",
   "execution_count": 46,
   "id": "be5d6dc6",
   "metadata": {},
   "outputs": [],
   "source": [
    "from sklearn.ensemble import RandomForestRegressor"
   ]
  },
  {
   "cell_type": "code",
   "execution_count": 47,
   "id": "c38de7ad",
   "metadata": {},
   "outputs": [
    {
     "name": "stdout",
     "output_type": "stream",
     "text": [
      "Best Hyperparameters: {'max_depth': 20, 'min_samples_leaf': 1, 'n_estimators': 200}\n",
      "Mean Squared Error: 47864.82343373498\n",
      "Root Mean Squared Error: 218.7803086059963\n",
      "R-squared (Best Model): 0.880653924115758\n",
      "Adjusted R-squared: 0.5253964437265424\n"
     ]
    }
   ],
   "source": [
    "from sklearn.model_selection import GridSearchCV\n",
    "\n",
    "param_grid = {\n",
    "    'n_estimators': [50, 100, 200],\n",
    "    'max_depth': [None, 10, 20],\n",
    "    'min_samples_leaf': [1, 2, 4]\n",
    "}\n",
    "\n",
    "grid_search = GridSearchCV(RandomForestRegressor(random_state = 12), param_grid, cv = 5, scoring = 'r2')\n",
    "grid_search.fit(X_train_scaled, y_train)\n",
    "\n",
    "best_params = grid_search.best_params_\n",
    "best_model = grid_search.best_estimator_\n",
    "\n",
    "y_pred_best = best_model.predict(X_test_scaled)\n",
    "mse = mean_squared_error(y_test, y_pred_best)\n",
    "mse_r = mean_squared_error(y_test, y_pred_best, squared = False)\n",
    "r2_best = r2_score(y_test, y_pred_best)\n",
    "\n",
    "n = len(y_test)\n",
    "k = X_train_scaled.shape[1]  \n",
    "adj_r2 = 1 - ((1 - r2) * (n - 1) / (n - k - 1))\n",
    "\n",
    "print(f'Best Hyperparameters: {best_params}')\n",
    "print(f'Mean Squared Error: {mse}')\n",
    "print(f'Root Mean Squared Error: {mse_r}')\n",
    "print(f'R-squared (Best Model): {r2_best}')\n",
    "print(f'Adjusted R-squared: {adj_r2}')"
   ]
  },
  {
   "cell_type": "code",
   "execution_count": 48,
   "id": "71731a18",
   "metadata": {},
   "outputs": [
    {
     "data": {
      "text/plain": [
       "0.8167560886424747"
      ]
     },
     "execution_count": 48,
     "metadata": {},
     "output_type": "execute_result"
    }
   ],
   "source": [
    "score_rf = cross_val_score(RandomForestRegressor(max_depth = 20,\n",
    "                                              min_samples_leaf = 1, \n",
    "                                              n_estimators = 200,\n",
    "                                              random_state = 12), X_test_scaled, y_test, \n",
    "                           cv = 10, scoring = 'r2').mean()\n",
    "score_rf"
   ]
  },
  {
   "cell_type": "code",
   "execution_count": 49,
   "id": "0214ede1",
   "metadata": {},
   "outputs": [
    {
     "data": {
      "text/html": [
       "<div>\n",
       "<style scoped>\n",
       "    .dataframe tbody tr th:only-of-type {\n",
       "        vertical-align: middle;\n",
       "    }\n",
       "\n",
       "    .dataframe tbody tr th {\n",
       "        vertical-align: top;\n",
       "    }\n",
       "\n",
       "    .dataframe thead th {\n",
       "        text-align: right;\n",
       "    }\n",
       "</style>\n",
       "<table border=\"1\" class=\"dataframe\">\n",
       "  <thead>\n",
       "    <tr style=\"text-align: right;\">\n",
       "      <th></th>\n",
       "      <th>Actual</th>\n",
       "      <th>Predicted</th>\n",
       "    </tr>\n",
       "  </thead>\n",
       "  <tbody>\n",
       "    <tr>\n",
       "      <th>0</th>\n",
       "      <td>278.0</td>\n",
       "      <td>375.696921</td>\n",
       "    </tr>\n",
       "    <tr>\n",
       "      <th>1</th>\n",
       "      <td>96.0</td>\n",
       "      <td>104.730000</td>\n",
       "    </tr>\n",
       "    <tr>\n",
       "      <th>2</th>\n",
       "      <td>215.0</td>\n",
       "      <td>225.783338</td>\n",
       "    </tr>\n",
       "  </tbody>\n",
       "</table>\n",
       "</div>"
      ],
      "text/plain": [
       "   Actual   Predicted\n",
       "0   278.0  375.696921\n",
       "1    96.0  104.730000\n",
       "2   215.0  225.783338"
      ]
     },
     "execution_count": 49,
     "metadata": {},
     "output_type": "execute_result"
    }
   ],
   "source": [
    "pred_rf = pd.DataFrame({'Actual': y_test, 'Predicted': y_pred_best})\n",
    "pred_rf.head(3)"
   ]
  },
  {
   "cell_type": "code",
   "execution_count": null,
   "id": "592c5f08",
   "metadata": {},
   "outputs": [],
   "source": []
  },
  {
   "cell_type": "code",
   "execution_count": 90,
   "id": "4e6c07b7",
   "metadata": {},
   "outputs": [
    {
     "name": "stdout",
     "output_type": "stream",
     "text": [
      "Training MSE: 7499.696162755546\n",
      "Validation MSE: 47864.82343373498\n",
      "Mean Huber Loss: 136.1568998640456\n"
     ]
    }
   ],
   "source": [
    "train_pred = best_model.predict(X_train_scaled)\n",
    "test_pred = best_model.predict(X_test_scaled)\n",
    "\n",
    "from sklearn.metrics import mean_squared_error, r2_score\n",
    "\n",
    "train_mse = mean_squared_error(y_train, train_pred)\n",
    "test_mse = mean_squared_error(y_test, test_pred)\n",
    "\n",
    "print(f'Training MSE: {train_mse}')\n",
    "print(f'Validation MSE: {test_mse}')\n",
    "\n",
    "import tensorflow as tf\n",
    "def huber_loss(y_test, y_pred_best, delta = 1.0):\n",
    "    error = y_test - y_pred_best\n",
    "    condition = tf.abs(error) < delta\n",
    "    squared_loss = 0.5 * tf.square(error)\n",
    "    linear_loss = delta * (tf.abs(error) - 0.5 * delta)\n",
    "    return tf.where(condition, squared_loss, linear_loss)\n",
    "\n",
    "loss = huber_loss(y_test, y_pred_best, delta = 1.0)\n",
    "#print(\"Huber Loss:\", loss.numpy())\n",
    "\n",
    "mean_huber_loss = np.mean(loss)\n",
    "print(f\"Mean Huber Loss: {mean_huber_loss}\")"
   ]
  },
  {
   "cell_type": "markdown",
   "id": "fb174594",
   "metadata": {},
   "source": [
    "## overfitting here and a big difference between R2 and Adjusted R2"
   ]
  },
  {
   "cell_type": "code",
   "execution_count": null,
   "id": "bf4915d0",
   "metadata": {},
   "outputs": [],
   "source": []
  },
  {
   "cell_type": "code",
   "execution_count": null,
   "id": "b16b412d",
   "metadata": {},
   "outputs": [],
   "source": []
  },
  {
   "cell_type": "markdown",
   "id": "2d6d7853",
   "metadata": {},
   "source": [
    "# ANN"
   ]
  },
  {
   "cell_type": "code",
   "execution_count": 51,
   "id": "665034be",
   "metadata": {
    "collapsed": true
   },
   "outputs": [
    {
     "name": "stdout",
     "output_type": "stream",
     "text": [
      "Requirement already satisfied: tensorflow in /Users/izaiaszacca/anaconda3/lib/python3.11/site-packages (2.15.0)\n",
      "Requirement already satisfied: tensorflow-macos==2.15.0 in /Users/izaiaszacca/anaconda3/lib/python3.11/site-packages (from tensorflow) (2.15.0)\n",
      "Requirement already satisfied: absl-py>=1.0.0 in /Users/izaiaszacca/anaconda3/lib/python3.11/site-packages (from tensorflow-macos==2.15.0->tensorflow) (2.0.0)\n",
      "Requirement already satisfied: astunparse>=1.6.0 in /Users/izaiaszacca/anaconda3/lib/python3.11/site-packages (from tensorflow-macos==2.15.0->tensorflow) (1.6.3)\n",
      "Requirement already satisfied: flatbuffers>=23.5.26 in /Users/izaiaszacca/anaconda3/lib/python3.11/site-packages (from tensorflow-macos==2.15.0->tensorflow) (23.5.26)\n",
      "Requirement already satisfied: gast!=0.5.0,!=0.5.1,!=0.5.2,>=0.2.1 in /Users/izaiaszacca/anaconda3/lib/python3.11/site-packages (from tensorflow-macos==2.15.0->tensorflow) (0.5.4)\n",
      "Requirement already satisfied: google-pasta>=0.1.1 in /Users/izaiaszacca/anaconda3/lib/python3.11/site-packages (from tensorflow-macos==2.15.0->tensorflow) (0.2.0)\n",
      "Requirement already satisfied: h5py>=2.9.0 in /Users/izaiaszacca/anaconda3/lib/python3.11/site-packages (from tensorflow-macos==2.15.0->tensorflow) (3.9.0)\n",
      "Requirement already satisfied: libclang>=13.0.0 in /Users/izaiaszacca/anaconda3/lib/python3.11/site-packages (from tensorflow-macos==2.15.0->tensorflow) (16.0.6)\n",
      "Requirement already satisfied: ml-dtypes~=0.2.0 in /Users/izaiaszacca/anaconda3/lib/python3.11/site-packages (from tensorflow-macos==2.15.0->tensorflow) (0.2.0)\n",
      "Requirement already satisfied: numpy<2.0.0,>=1.23.5 in /Users/izaiaszacca/anaconda3/lib/python3.11/site-packages (from tensorflow-macos==2.15.0->tensorflow) (1.24.3)\n",
      "Requirement already satisfied: opt-einsum>=2.3.2 in /Users/izaiaszacca/anaconda3/lib/python3.11/site-packages (from tensorflow-macos==2.15.0->tensorflow) (3.3.0)\n",
      "Requirement already satisfied: packaging in /Users/izaiaszacca/anaconda3/lib/python3.11/site-packages (from tensorflow-macos==2.15.0->tensorflow) (23.1)\n",
      "Requirement already satisfied: protobuf!=4.21.0,!=4.21.1,!=4.21.2,!=4.21.3,!=4.21.4,!=4.21.5,<5.0.0dev,>=3.20.3 in /Users/izaiaszacca/anaconda3/lib/python3.11/site-packages (from tensorflow-macos==2.15.0->tensorflow) (4.23.4)\n",
      "Requirement already satisfied: setuptools in /Users/izaiaszacca/anaconda3/lib/python3.11/site-packages (from tensorflow-macos==2.15.0->tensorflow) (68.0.0)\n",
      "Requirement already satisfied: six>=1.12.0 in /Users/izaiaszacca/anaconda3/lib/python3.11/site-packages (from tensorflow-macos==2.15.0->tensorflow) (1.16.0)\n",
      "Requirement already satisfied: termcolor>=1.1.0 in /Users/izaiaszacca/anaconda3/lib/python3.11/site-packages (from tensorflow-macos==2.15.0->tensorflow) (2.3.0)\n",
      "Requirement already satisfied: typing-extensions>=3.6.6 in /Users/izaiaszacca/anaconda3/lib/python3.11/site-packages (from tensorflow-macos==2.15.0->tensorflow) (4.7.1)\n",
      "Requirement already satisfied: wrapt<1.15,>=1.11.0 in /Users/izaiaszacca/anaconda3/lib/python3.11/site-packages (from tensorflow-macos==2.15.0->tensorflow) (1.14.1)\n",
      "Requirement already satisfied: tensorflow-io-gcs-filesystem>=0.23.1 in /Users/izaiaszacca/anaconda3/lib/python3.11/site-packages (from tensorflow-macos==2.15.0->tensorflow) (0.34.0)\n",
      "Requirement already satisfied: grpcio<2.0,>=1.24.3 in /Users/izaiaszacca/anaconda3/lib/python3.11/site-packages (from tensorflow-macos==2.15.0->tensorflow) (1.59.3)\n",
      "Requirement already satisfied: tensorboard<2.16,>=2.15 in /Users/izaiaszacca/anaconda3/lib/python3.11/site-packages (from tensorflow-macos==2.15.0->tensorflow) (2.15.1)\n",
      "Requirement already satisfied: tensorflow-estimator<2.16,>=2.15.0 in /Users/izaiaszacca/anaconda3/lib/python3.11/site-packages (from tensorflow-macos==2.15.0->tensorflow) (2.15.0)\n",
      "Requirement already satisfied: keras<2.16,>=2.15.0 in /Users/izaiaszacca/anaconda3/lib/python3.11/site-packages (from tensorflow-macos==2.15.0->tensorflow) (2.15.0)\n",
      "Requirement already satisfied: wheel<1.0,>=0.23.0 in /Users/izaiaszacca/anaconda3/lib/python3.11/site-packages (from astunparse>=1.6.0->tensorflow-macos==2.15.0->tensorflow) (0.38.4)\n",
      "Requirement already satisfied: google-auth<3,>=1.6.3 in /Users/izaiaszacca/anaconda3/lib/python3.11/site-packages (from tensorboard<2.16,>=2.15->tensorflow-macos==2.15.0->tensorflow) (2.23.4)\n",
      "Requirement already satisfied: google-auth-oauthlib<2,>=0.5 in /Users/izaiaszacca/anaconda3/lib/python3.11/site-packages (from tensorboard<2.16,>=2.15->tensorflow-macos==2.15.0->tensorflow) (1.1.0)\n",
      "Requirement already satisfied: markdown>=2.6.8 in /Users/izaiaszacca/anaconda3/lib/python3.11/site-packages (from tensorboard<2.16,>=2.15->tensorflow-macos==2.15.0->tensorflow) (3.4.1)\n",
      "Requirement already satisfied: requests<3,>=2.21.0 in /Users/izaiaszacca/anaconda3/lib/python3.11/site-packages (from tensorboard<2.16,>=2.15->tensorflow-macos==2.15.0->tensorflow) (2.31.0)\n",
      "Requirement already satisfied: tensorboard-data-server<0.8.0,>=0.7.0 in /Users/izaiaszacca/anaconda3/lib/python3.11/site-packages (from tensorboard<2.16,>=2.15->tensorflow-macos==2.15.0->tensorflow) (0.7.2)\n",
      "Requirement already satisfied: werkzeug>=1.0.1 in /Users/izaiaszacca/anaconda3/lib/python3.11/site-packages (from tensorboard<2.16,>=2.15->tensorflow-macos==2.15.0->tensorflow) (2.2.3)\n",
      "Requirement already satisfied: cachetools<6.0,>=2.0.0 in /Users/izaiaszacca/anaconda3/lib/python3.11/site-packages (from google-auth<3,>=1.6.3->tensorboard<2.16,>=2.15->tensorflow-macos==2.15.0->tensorflow) (5.3.2)\n",
      "Requirement already satisfied: pyasn1-modules>=0.2.1 in /Users/izaiaszacca/anaconda3/lib/python3.11/site-packages (from google-auth<3,>=1.6.3->tensorboard<2.16,>=2.15->tensorflow-macos==2.15.0->tensorflow) (0.2.8)\n",
      "Requirement already satisfied: rsa<5,>=3.1.4 in /Users/izaiaszacca/anaconda3/lib/python3.11/site-packages (from google-auth<3,>=1.6.3->tensorboard<2.16,>=2.15->tensorflow-macos==2.15.0->tensorflow) (4.9)\n",
      "Requirement already satisfied: requests-oauthlib>=0.7.0 in /Users/izaiaszacca/anaconda3/lib/python3.11/site-packages (from google-auth-oauthlib<2,>=0.5->tensorboard<2.16,>=2.15->tensorflow-macos==2.15.0->tensorflow) (1.3.1)\n",
      "Requirement already satisfied: charset-normalizer<4,>=2 in /Users/izaiaszacca/anaconda3/lib/python3.11/site-packages (from requests<3,>=2.21.0->tensorboard<2.16,>=2.15->tensorflow-macos==2.15.0->tensorflow) (2.0.4)\n",
      "Requirement already satisfied: idna<4,>=2.5 in /Users/izaiaszacca/anaconda3/lib/python3.11/site-packages (from requests<3,>=2.21.0->tensorboard<2.16,>=2.15->tensorflow-macos==2.15.0->tensorflow) (3.4)\n",
      "Requirement already satisfied: urllib3<3,>=1.21.1 in /Users/izaiaszacca/anaconda3/lib/python3.11/site-packages (from requests<3,>=2.21.0->tensorboard<2.16,>=2.15->tensorflow-macos==2.15.0->tensorflow) (1.26.16)\n",
      "Requirement already satisfied: certifi>=2017.4.17 in /Users/izaiaszacca/anaconda3/lib/python3.11/site-packages (from requests<3,>=2.21.0->tensorboard<2.16,>=2.15->tensorflow-macos==2.15.0->tensorflow) (2023.7.22)\n",
      "Requirement already satisfied: MarkupSafe>=2.1.1 in /Users/izaiaszacca/anaconda3/lib/python3.11/site-packages (from werkzeug>=1.0.1->tensorboard<2.16,>=2.15->tensorflow-macos==2.15.0->tensorflow) (2.1.1)\n",
      "Requirement already satisfied: pyasn1<0.5.0,>=0.4.6 in /Users/izaiaszacca/anaconda3/lib/python3.11/site-packages (from pyasn1-modules>=0.2.1->google-auth<3,>=1.6.3->tensorboard<2.16,>=2.15->tensorflow-macos==2.15.0->tensorflow) (0.4.8)\n",
      "Requirement already satisfied: oauthlib>=3.0.0 in /Users/izaiaszacca/anaconda3/lib/python3.11/site-packages (from requests-oauthlib>=0.7.0->google-auth-oauthlib<2,>=0.5->tensorboard<2.16,>=2.15->tensorflow-macos==2.15.0->tensorflow) (3.2.2)\n",
      "Requirement already satisfied: keras in /Users/izaiaszacca/anaconda3/lib/python3.11/site-packages (2.15.0)\n"
     ]
    }
   ],
   "source": [
    " !pip install tensorflow\n",
    " !pip install keras"
   ]
  },
  {
   "cell_type": "code",
   "execution_count": 52,
   "id": "16fec597",
   "metadata": {},
   "outputs": [],
   "source": [
    "import numpy as np\n",
    "import tensorflow as tf\n",
    "from tensorflow import keras"
   ]
  },
  {
   "cell_type": "code",
   "execution_count": 53,
   "id": "d5178b1d",
   "metadata": {
    "collapsed": true
   },
   "outputs": [
    {
     "name": "stdout",
     "output_type": "stream",
     "text": [
      "Epoch 1/300\n",
      "99/99 [==============================] - 0s 1ms/step - loss: 896581.0000 - val_loss: 850420.1250\n",
      "Epoch 2/300\n",
      "99/99 [==============================] - 0s 543us/step - loss: 527471.3125 - val_loss: 337542.6875\n",
      "Epoch 3/300\n",
      "99/99 [==============================] - 0s 523us/step - loss: 323448.9688 - val_loss: 311188.5312\n",
      "Epoch 4/300\n",
      "99/99 [==============================] - 0s 522us/step - loss: 293725.2500 - val_loss: 278960.5938\n",
      "Epoch 5/300\n",
      "99/99 [==============================] - 0s 543us/step - loss: 260979.9219 - val_loss: 247623.2656\n",
      "Epoch 6/300\n",
      "99/99 [==============================] - 0s 621us/step - loss: 235532.4688 - val_loss: 226330.2969\n",
      "Epoch 7/300\n",
      "99/99 [==============================] - 0s 540us/step - loss: 218410.5625 - val_loss: 212060.1094\n",
      "Epoch 8/300\n",
      "99/99 [==============================] - 0s 517us/step - loss: 204875.2969 - val_loss: 199063.2969\n",
      "Epoch 9/300\n",
      "99/99 [==============================] - 0s 473us/step - loss: 193318.7031 - val_loss: 184523.5625\n",
      "Epoch 10/300\n",
      "99/99 [==============================] - 0s 479us/step - loss: 182602.2969 - val_loss: 174138.5000\n",
      "Epoch 11/300\n",
      "99/99 [==============================] - 0s 492us/step - loss: 174475.8594 - val_loss: 166612.7031\n",
      "Epoch 12/300\n",
      "99/99 [==============================] - 0s 503us/step - loss: 168446.6250 - val_loss: 160040.4062\n",
      "Epoch 13/300\n",
      "99/99 [==============================] - 0s 515us/step - loss: 165480.9844 - val_loss: 157222.7656\n",
      "Epoch 14/300\n",
      "99/99 [==============================] - 0s 507us/step - loss: 160774.6875 - val_loss: 153033.4062\n",
      "Epoch 15/300\n",
      "99/99 [==============================] - 0s 469us/step - loss: 158328.3281 - val_loss: 149859.9375\n",
      "Epoch 16/300\n",
      "99/99 [==============================] - 0s 469us/step - loss: 156385.6562 - val_loss: 147569.4219\n",
      "Epoch 17/300\n",
      "99/99 [==============================] - 0s 489us/step - loss: 154977.6562 - val_loss: 145698.2969\n",
      "Epoch 18/300\n",
      "99/99 [==============================] - 0s 509us/step - loss: 153010.7656 - val_loss: 144025.0156\n",
      "Epoch 19/300\n",
      "99/99 [==============================] - 0s 489us/step - loss: 152000.0469 - val_loss: 142914.9844\n",
      "Epoch 20/300\n",
      "99/99 [==============================] - 0s 484us/step - loss: 150874.1094 - val_loss: 141740.1406\n",
      "Epoch 21/300\n",
      "99/99 [==============================] - 0s 501us/step - loss: 150023.2500 - val_loss: 140855.2188\n",
      "Epoch 22/300\n",
      "99/99 [==============================] - 0s 516us/step - loss: 149712.6875 - val_loss: 141958.8438\n",
      "Epoch 23/300\n",
      "99/99 [==============================] - 0s 508us/step - loss: 147949.4531 - val_loss: 139105.4688\n",
      "Epoch 24/300\n",
      "99/99 [==============================] - 0s 503us/step - loss: 147722.8594 - val_loss: 139035.3906\n",
      "Epoch 25/300\n",
      "99/99 [==============================] - 0s 466us/step - loss: 146628.3125 - val_loss: 137128.7500\n",
      "Epoch 26/300\n",
      "99/99 [==============================] - 0s 459us/step - loss: 146095.9844 - val_loss: 137639.1406\n",
      "Epoch 27/300\n",
      "99/99 [==============================] - 0s 468us/step - loss: 144824.0469 - val_loss: 135318.8125\n",
      "Epoch 28/300\n",
      "99/99 [==============================] - 0s 462us/step - loss: 143811.2656 - val_loss: 134405.5469\n",
      "Epoch 29/300\n",
      "99/99 [==============================] - 0s 464us/step - loss: 143754.7969 - val_loss: 134268.4531\n",
      "Epoch 30/300\n",
      "99/99 [==============================] - 0s 474us/step - loss: 142820.7031 - val_loss: 135041.0156\n",
      "Epoch 31/300\n",
      "99/99 [==============================] - 0s 459us/step - loss: 143084.5781 - val_loss: 135740.0781\n",
      "Epoch 32/300\n",
      "99/99 [==============================] - 0s 474us/step - loss: 141296.8594 - val_loss: 132281.0938\n",
      "Epoch 33/300\n",
      "99/99 [==============================] - 0s 461us/step - loss: 140109.2500 - val_loss: 130859.2812\n",
      "Epoch 34/300\n",
      "99/99 [==============================] - 0s 458us/step - loss: 139535.2656 - val_loss: 131513.8281\n",
      "Epoch 35/300\n",
      "99/99 [==============================] - 0s 466us/step - loss: 139069.5469 - val_loss: 130128.1328\n",
      "Epoch 36/300\n",
      "99/99 [==============================] - 0s 458us/step - loss: 137694.9688 - val_loss: 130275.5391\n",
      "Epoch 37/300\n",
      "99/99 [==============================] - 0s 471us/step - loss: 137535.9062 - val_loss: 127780.9141\n",
      "Epoch 38/300\n",
      "99/99 [==============================] - 0s 467us/step - loss: 137148.2812 - val_loss: 126817.3359\n",
      "Epoch 39/300\n",
      "99/99 [==============================] - 0s 461us/step - loss: 135347.9531 - val_loss: 128902.2891\n",
      "Epoch 40/300\n",
      "99/99 [==============================] - 0s 467us/step - loss: 134487.4375 - val_loss: 125366.4453\n",
      "Epoch 41/300\n",
      "99/99 [==============================] - 0s 458us/step - loss: 134070.3125 - val_loss: 127018.0781\n",
      "Epoch 42/300\n",
      "99/99 [==============================] - 0s 466us/step - loss: 135054.8281 - val_loss: 124479.2266\n",
      "Epoch 43/300\n",
      "99/99 [==============================] - 0s 462us/step - loss: 132463.7500 - val_loss: 122880.0625\n",
      "Epoch 44/300\n",
      "99/99 [==============================] - 0s 464us/step - loss: 133019.6094 - val_loss: 122841.4531\n",
      "Epoch 45/300\n",
      "99/99 [==============================] - 0s 464us/step - loss: 130845.3906 - val_loss: 122183.1094\n",
      "Epoch 46/300\n",
      "99/99 [==============================] - 0s 466us/step - loss: 130626.7891 - val_loss: 120839.4453\n",
      "Epoch 47/300\n",
      "99/99 [==============================] - 0s 465us/step - loss: 129680.0234 - val_loss: 120366.2031\n",
      "Epoch 48/300\n",
      "99/99 [==============================] - 0s 458us/step - loss: 128860.8594 - val_loss: 121035.9688\n",
      "Epoch 49/300\n",
      "99/99 [==============================] - 0s 464us/step - loss: 127924.7031 - val_loss: 120951.3672\n",
      "Epoch 50/300\n",
      "99/99 [==============================] - 0s 461us/step - loss: 127083.1562 - val_loss: 118941.6172\n",
      "Epoch 51/300\n",
      "99/99 [==============================] - 0s 466us/step - loss: 126253.7891 - val_loss: 117232.7812\n",
      "Epoch 52/300\n",
      "99/99 [==============================] - 0s 467us/step - loss: 125372.7734 - val_loss: 116274.7109\n",
      "Epoch 53/300\n",
      "99/99 [==============================] - 0s 471us/step - loss: 124587.6953 - val_loss: 115574.0938\n",
      "Epoch 54/300\n",
      "99/99 [==============================] - 0s 470us/step - loss: 123846.6484 - val_loss: 114671.1953\n",
      "Epoch 55/300\n",
      "99/99 [==============================] - 0s 463us/step - loss: 123590.3125 - val_loss: 117128.3594\n",
      "Epoch 56/300\n",
      "99/99 [==============================] - 0s 465us/step - loss: 122626.1328 - val_loss: 114023.3672\n",
      "Epoch 57/300\n",
      "99/99 [==============================] - 0s 463us/step - loss: 121598.5391 - val_loss: 113615.1172\n",
      "Epoch 58/300\n",
      "99/99 [==============================] - 0s 604us/step - loss: 121594.3750 - val_loss: 115936.8828\n",
      "Epoch 59/300\n",
      "99/99 [==============================] - 0s 790us/step - loss: 120421.9141 - val_loss: 116574.4375\n",
      "Epoch 60/300\n",
      "99/99 [==============================] - 0s 846us/step - loss: 119428.2891 - val_loss: 112162.6250\n",
      "Epoch 61/300\n",
      "99/99 [==============================] - 0s 953us/step - loss: 118408.8516 - val_loss: 110857.7734\n",
      "Epoch 62/300\n",
      "99/99 [==============================] - 0s 862us/step - loss: 118460.2266 - val_loss: 110790.6016\n",
      "Epoch 63/300\n",
      "99/99 [==============================] - 0s 875us/step - loss: 117012.5703 - val_loss: 113933.2188\n",
      "Epoch 64/300\n",
      "99/99 [==============================] - 0s 659us/step - loss: 117151.8359 - val_loss: 109313.3906\n",
      "Epoch 65/300\n",
      "99/99 [==============================] - 0s 841us/step - loss: 116131.3828 - val_loss: 111282.2656\n",
      "Epoch 66/300\n",
      "99/99 [==============================] - 0s 858us/step - loss: 115301.4062 - val_loss: 108809.0469\n",
      "Epoch 67/300\n",
      "99/99 [==============================] - 0s 955us/step - loss: 114597.9297 - val_loss: 109201.8047\n",
      "Epoch 68/300\n",
      "99/99 [==============================] - 0s 861us/step - loss: 115123.8125 - val_loss: 110942.7422\n",
      "Epoch 69/300\n",
      "99/99 [==============================] - 0s 862us/step - loss: 115240.5312 - val_loss: 108642.6562\n",
      "Epoch 70/300\n",
      "99/99 [==============================] - 0s 816us/step - loss: 114025.4219 - val_loss: 113635.1562\n",
      "Epoch 71/300\n",
      "99/99 [==============================] - 0s 868us/step - loss: 114926.0156 - val_loss: 108721.9375\n",
      "Epoch 72/300\n",
      "99/99 [==============================] - 0s 864us/step - loss: 113045.0781 - val_loss: 107096.2578\n",
      "Epoch 73/300\n",
      "99/99 [==============================] - 0s 855us/step - loss: 112608.3516 - val_loss: 108841.5781\n",
      "Epoch 74/300\n"
     ]
    },
    {
     "name": "stdout",
     "output_type": "stream",
     "text": [
      "99/99 [==============================] - 0s 637us/step - loss: 112063.5312 - val_loss: 105933.3750\n",
      "Epoch 75/300\n",
      "99/99 [==============================] - 0s 815us/step - loss: 110983.9219 - val_loss: 105364.1406\n",
      "Epoch 76/300\n",
      "99/99 [==============================] - 0s 861us/step - loss: 110542.1953 - val_loss: 116130.1484\n",
      "Epoch 77/300\n",
      "99/99 [==============================] - 0s 974us/step - loss: 112251.6172 - val_loss: 105604.5781\n",
      "Epoch 78/300\n",
      "99/99 [==============================] - 0s 825us/step - loss: 111294.6875 - val_loss: 108495.0078\n",
      "Epoch 79/300\n",
      "99/99 [==============================] - 0s 692us/step - loss: 110498.5938 - val_loss: 104648.4609\n",
      "Epoch 80/300\n",
      "99/99 [==============================] - 0s 741us/step - loss: 108785.1172 - val_loss: 107371.8281\n",
      "Epoch 81/300\n",
      "99/99 [==============================] - 0s 874us/step - loss: 110623.2656 - val_loss: 104578.1953\n",
      "Epoch 82/300\n",
      "99/99 [==============================] - 0s 877us/step - loss: 108361.3125 - val_loss: 103773.8516\n",
      "Epoch 83/300\n",
      "99/99 [==============================] - 0s 846us/step - loss: 109097.4141 - val_loss: 106509.5469\n",
      "Epoch 84/300\n",
      "99/99 [==============================] - 0s 803us/step - loss: 108785.3750 - val_loss: 103612.4688\n",
      "Epoch 85/300\n",
      "99/99 [==============================] - 0s 698us/step - loss: 107852.9297 - val_loss: 105241.0469\n",
      "Epoch 86/300\n",
      "99/99 [==============================] - 0s 982us/step - loss: 108528.1406 - val_loss: 103151.9766\n",
      "Epoch 87/300\n",
      "99/99 [==============================] - 0s 994us/step - loss: 107195.5859 - val_loss: 104107.9609\n",
      "Epoch 88/300\n",
      "99/99 [==============================] - 0s 892us/step - loss: 107162.0469 - val_loss: 105951.1250\n",
      "Epoch 89/300\n",
      "99/99 [==============================] - 0s 743us/step - loss: 109565.7891 - val_loss: 103456.1953\n",
      "Epoch 90/300\n",
      "99/99 [==============================] - 0s 795us/step - loss: 107309.3672 - val_loss: 103835.8203\n",
      "Epoch 91/300\n",
      "99/99 [==============================] - 0s 807us/step - loss: 105626.2188 - val_loss: 103796.5625\n",
      "Epoch 92/300\n",
      "99/99 [==============================] - 0s 927us/step - loss: 105886.0391 - val_loss: 101896.2188\n",
      "Epoch 93/300\n",
      "99/99 [==============================] - 0s 1ms/step - loss: 106317.5469 - val_loss: 102537.9609\n",
      "Epoch 94/300\n",
      "99/99 [==============================] - 0s 588us/step - loss: 105455.0312 - val_loss: 109625.3750\n",
      "Epoch 95/300\n",
      "99/99 [==============================] - 0s 713us/step - loss: 105665.9141 - val_loss: 101663.1875\n",
      "Epoch 96/300\n",
      "99/99 [==============================] - 0s 1ms/step - loss: 104281.8828 - val_loss: 101747.2969\n",
      "Epoch 97/300\n",
      "99/99 [==============================] - 0s 1ms/step - loss: 104349.4375 - val_loss: 101946.6953\n",
      "Epoch 98/300\n",
      "99/99 [==============================] - 0s 1ms/step - loss: 104362.9453 - val_loss: 105916.7031\n",
      "Epoch 99/300\n",
      "99/99 [==============================] - 0s 829us/step - loss: 104811.8281 - val_loss: 101986.8594\n",
      "Epoch 100/300\n",
      "99/99 [==============================] - 0s 860us/step - loss: 104472.9453 - val_loss: 102541.5469\n",
      "Epoch 101/300\n",
      "99/99 [==============================] - 0s 950us/step - loss: 104088.2188 - val_loss: 102374.0859\n",
      "Epoch 102/300\n",
      "99/99 [==============================] - 0s 736us/step - loss: 103303.1562 - val_loss: 105399.0312\n",
      "Epoch 103/300\n",
      "99/99 [==============================] - 0s 654us/step - loss: 103155.4844 - val_loss: 104098.9922\n",
      "Epoch 104/300\n",
      "99/99 [==============================] - 0s 862us/step - loss: 103290.8047 - val_loss: 99458.4141\n",
      "Epoch 105/300\n",
      "99/99 [==============================] - 0s 991us/step - loss: 102929.2031 - val_loss: 100364.4453\n",
      "Epoch 106/300\n",
      "99/99 [==============================] - 0s 989us/step - loss: 102629.4141 - val_loss: 99124.0312\n",
      "Epoch 107/300\n",
      "99/99 [==============================] - 0s 675us/step - loss: 101833.5859 - val_loss: 102723.5391\n",
      "Epoch 108/300\n",
      "99/99 [==============================] - 0s 577us/step - loss: 102274.4375 - val_loss: 99973.7656\n",
      "Epoch 109/300\n",
      "99/99 [==============================] - 0s 706us/step - loss: 102126.7891 - val_loss: 99207.6484\n",
      "Epoch 110/300\n",
      "99/99 [==============================] - 0s 984us/step - loss: 101568.1641 - val_loss: 99178.0547\n",
      "Epoch 111/300\n",
      "99/99 [==============================] - 0s 817us/step - loss: 100518.5078 - val_loss: 100688.0469\n",
      "Epoch 112/300\n",
      "99/99 [==============================] - 0s 875us/step - loss: 101970.3750 - val_loss: 98825.3672\n",
      "Epoch 113/300\n",
      "99/99 [==============================] - 0s 643us/step - loss: 100700.0000 - val_loss: 101132.1875\n",
      "Epoch 114/300\n",
      "99/99 [==============================] - 0s 670us/step - loss: 101426.6641 - val_loss: 98215.8906\n",
      "Epoch 115/300\n",
      "99/99 [==============================] - 0s 992us/step - loss: 101305.3828 - val_loss: 97811.9844\n",
      "Epoch 116/300\n",
      "99/99 [==============================] - 0s 1ms/step - loss: 100322.2969 - val_loss: 98227.3906\n",
      "Epoch 117/300\n",
      "99/99 [==============================] - 0s 547us/step - loss: 100388.5938 - val_loss: 98260.0547\n",
      "Epoch 118/300\n",
      "99/99 [==============================] - 0s 482us/step - loss: 99935.7422 - val_loss: 97925.2656\n",
      "Epoch 119/300\n",
      "99/99 [==============================] - 0s 462us/step - loss: 100552.5234 - val_loss: 98610.0938\n",
      "Epoch 120/300\n",
      "99/99 [==============================] - 0s 466us/step - loss: 99993.0625 - val_loss: 100077.2734\n",
      "Epoch 121/300\n",
      "99/99 [==============================] - 0s 477us/step - loss: 101476.8359 - val_loss: 97798.7969\n",
      "Epoch 122/300\n",
      "99/99 [==============================] - 0s 469us/step - loss: 98802.3281 - val_loss: 96973.2422\n",
      "Epoch 123/300\n",
      "99/99 [==============================] - 0s 472us/step - loss: 99664.2656 - val_loss: 97544.1953\n",
      "Epoch 124/300\n",
      "99/99 [==============================] - 0s 464us/step - loss: 99615.9766 - val_loss: 100075.0781\n",
      "Epoch 125/300\n",
      "99/99 [==============================] - 0s 471us/step - loss: 98995.8047 - val_loss: 97187.0469\n",
      "Epoch 126/300\n",
      "99/99 [==============================] - 0s 465us/step - loss: 100559.1719 - val_loss: 97260.1328\n",
      "Epoch 127/300\n",
      "99/99 [==============================] - 0s 472us/step - loss: 99283.8516 - val_loss: 96362.2188\n",
      "Epoch 128/300\n",
      "99/99 [==============================] - 0s 469us/step - loss: 98225.0391 - val_loss: 96411.8828\n",
      "Epoch 129/300\n",
      "99/99 [==============================] - 0s 463us/step - loss: 97799.4688 - val_loss: 97877.6484\n",
      "Epoch 130/300\n",
      "99/99 [==============================] - 0s 467us/step - loss: 98290.3125 - val_loss: 95895.3438\n",
      "Epoch 131/300\n",
      "99/99 [==============================] - 0s 458us/step - loss: 98156.6016 - val_loss: 96114.4688\n",
      "Epoch 132/300\n",
      "99/99 [==============================] - 0s 460us/step - loss: 98253.0469 - val_loss: 98483.7344\n",
      "Epoch 133/300\n",
      "99/99 [==============================] - 0s 480us/step - loss: 99214.6953 - val_loss: 95542.8281\n",
      "Epoch 134/300\n",
      "99/99 [==============================] - 0s 481us/step - loss: 97896.7031 - val_loss: 96330.5000\n",
      "Epoch 135/300\n",
      "99/99 [==============================] - 0s 465us/step - loss: 98185.6328 - val_loss: 96278.7969\n",
      "Epoch 136/300\n",
      "99/99 [==============================] - 0s 470us/step - loss: 96770.1484 - val_loss: 95442.4219\n",
      "Epoch 137/300\n",
      "99/99 [==============================] - 0s 469us/step - loss: 96647.3984 - val_loss: 94676.1406\n",
      "Epoch 138/300\n",
      "99/99 [==============================] - 0s 459us/step - loss: 97722.5781 - val_loss: 95321.8438\n",
      "Epoch 139/300\n",
      "99/99 [==============================] - 0s 463us/step - loss: 97538.7422 - val_loss: 97878.7344\n",
      "Epoch 140/300\n",
      "99/99 [==============================] - 0s 464us/step - loss: 96903.9531 - val_loss: 95048.7031\n",
      "Epoch 141/300\n",
      "99/99 [==============================] - 0s 462us/step - loss: 96588.2812 - val_loss: 95080.5391\n",
      "Epoch 142/300\n",
      "99/99 [==============================] - 0s 467us/step - loss: 97389.5703 - val_loss: 94238.6406\n",
      "Epoch 143/300\n",
      "99/99 [==============================] - 0s 463us/step - loss: 95323.0312 - val_loss: 94523.7969\n",
      "Epoch 144/300\n",
      "99/99 [==============================] - 0s 471us/step - loss: 96706.9297 - val_loss: 94612.3516\n",
      "Epoch 145/300\n",
      "99/99 [==============================] - 0s 463us/step - loss: 95502.3906 - val_loss: 97249.8281\n",
      "Epoch 146/300\n",
      "99/99 [==============================] - 0s 463us/step - loss: 97090.2109 - val_loss: 94312.9453\n",
      "Epoch 147/300\n"
     ]
    },
    {
     "name": "stdout",
     "output_type": "stream",
     "text": [
      "99/99 [==============================] - 0s 460us/step - loss: 96340.6641 - val_loss: 98284.1328\n",
      "Epoch 148/300\n",
      "99/99 [==============================] - 0s 461us/step - loss: 95714.1641 - val_loss: 94441.4531\n",
      "Epoch 149/300\n",
      "99/99 [==============================] - 0s 461us/step - loss: 95785.2891 - val_loss: 95740.9141\n",
      "Epoch 150/300\n",
      "99/99 [==============================] - 0s 468us/step - loss: 94495.4375 - val_loss: 94480.3359\n",
      "Epoch 151/300\n",
      "99/99 [==============================] - 0s 463us/step - loss: 93959.6484 - val_loss: 99448.6250\n",
      "Epoch 152/300\n",
      "99/99 [==============================] - 0s 491us/step - loss: 95602.5938 - val_loss: 96485.0234\n",
      "28/28 [==============================] - 0s 273us/step\n",
      "Mean Squared Error: 90863.33278622113\n",
      "Root Mean Squared Error: 301.43545376451846\n",
      "R-squared: 0.7734415081502938\n",
      "Adjusted R-squared: 0.7702912162589886\n"
     ]
    }
   ],
   "source": [
    "from keras.models import Sequential\n",
    "from keras.layers import Dense\n",
    "\n",
    "model = Sequential()\n",
    "\n",
    "model.add(Dense(units=64, activation='relu', input_dim=X_train_scaled.shape[1]))\n",
    "\n",
    "model.add(Dense(units=32, activation='relu'))\n",
    "\n",
    "model.add(Dense(units=16, activation='relu'))\n",
    "\n",
    "model.add(Dense(units=8, activation='relu'))\n",
    "\n",
    "model.add(Dense(units=1, activation='linear'))\n",
    "\n",
    "model.compile(optimizer='adam', loss='mean_squared_error')\n",
    "\n",
    "#from keras.layers import Dropout\n",
    "#model.add(Dropout(0.5)) \n",
    "\n",
    "#from keras.regularizers import l1, l2\n",
    "#model.add(Dense(units=64, activation='relu', input_dim=X_train.shape[1], kernel_regularizer=l2(0.01)))\n",
    "\n",
    "from keras.callbacks import EarlyStopping\n",
    "early_stopping = EarlyStopping(monitor='val_loss', patience = 10, restore_best_weights=True)\n",
    "model.fit(X_train_scaled, y_train, epochs = 300, batch_size = 64, validation_split=0.2, callbacks=[early_stopping])\n",
    "\n",
    "y_pred = model.predict(X_test_scaled)\n",
    "\n",
    "mse = mean_squared_error(y_test, y_pred)\n",
    "mse_r = mean_squared_error(y_test, y_pred, squared = False)\n",
    "r2 = r2_score(y_test, y_pred)\n",
    "\n",
    "n = len(y_test)\n",
    "k = X_train_scaled.shape[1]  \n",
    "adj_r2 = 1 - ((1 - r2) * (n - 1) / (n - k - 1))\n",
    "\n",
    "print(f'Mean Squared Error: {mse}')\n",
    "print(f'Root Mean Squared Error: {mse_r}')\n",
    "print(f'R-squared: {r2}')\n",
    "print(f'Adjusted R-squared: {adj_r2}')"
   ]
  },
  {
   "cell_type": "code",
   "execution_count": 54,
   "id": "82226ac5",
   "metadata": {},
   "outputs": [
    {
     "name": "stdout",
     "output_type": "stream",
     "text": [
      "Mean Squared Error: 90863.33278622113\n",
      "Root Mean Squared Error: 301.43545376451846\n",
      "R-squared: 0.7734415081502938\n",
      "Adjusted R-squared: 0.7702912162589886\n"
     ]
    }
   ],
   "source": [
    "print(f'Mean Squared Error: {mse}')\n",
    "print(f'Root Mean Squared Error: {mse_r}')\n",
    "print(f'R-squared: {r2}')\n",
    "print(f'Adjusted R-squared: {adj_r2}')"
   ]
  },
  {
   "cell_type": "code",
   "execution_count": 55,
   "id": "8c5330c5",
   "metadata": {},
   "outputs": [
    {
     "name": "stdout",
     "output_type": "stream",
     "text": [
      "247/247 [==============================] - 0s 201us/step\n",
      "28/28 [==============================] - 0s 234us/step\n",
      "Training MSE: 94593.94022420379\n",
      "Validation MSE: 90863.33278622113\n",
      "Huber Loss: [[ 192.81484985  374.81484985  255.81484985 ...  308.81484985\n",
      "   243.18515015  682.18515015]\n",
      " [ 176.76589966    4.23410034  113.76589966 ...   60.76589966\n",
      "   613.76589966 1052.76589966]\n",
      " [ 356.47485352  538.47485352  419.47485352 ...  472.47485352\n",
      "    79.52514648  518.52514648]\n",
      " ...\n",
      " [ 129.62747192  311.62747192  192.62747192 ...  245.62747192\n",
      "   306.37252808  745.37252808]\n",
      " [ 365.35266113  547.35266113  428.35266113 ...  481.35266113\n",
      "    70.64733887  509.64733887]\n",
      " [ 880.63623047 1062.63623047  943.63623047 ...  996.63623047\n",
      "   443.63623047    4.63623047]]\n",
      "Mean Huber Loss: 631.8439452217276\n"
     ]
    }
   ],
   "source": [
    "train_pred = model.predict(X_train_scaled)\n",
    "test_pred = model.predict(X_test_scaled)\n",
    "\n",
    "from sklearn.metrics import mean_squared_error, r2_score\n",
    "\n",
    "train_mse = mean_squared_error(y_train, train_pred)\n",
    "test_mse = mean_squared_error(y_test, test_pred)\n",
    "\n",
    "print(f'Training MSE: {train_mse}')\n",
    "print(f'Validation MSE: {test_mse}')\n",
    "\n",
    "import tensorflow as tf\n",
    "def huber_loss(y_test, y_pred, delta = 1.0):\n",
    "    error = y_test - y_pred\n",
    "    condition = tf.abs(error) < delta\n",
    "    squared_loss = 0.5 * tf.square(error)\n",
    "    linear_loss = delta * (tf.abs(error) - 0.5 * delta)\n",
    "    return tf.where(condition, squared_loss, linear_loss)\n",
    "\n",
    "loss = huber_loss(y_test, y_pred, delta = 1.0)\n",
    "print(\"Huber Loss:\", loss.numpy())\n",
    "\n",
    "mean_huber_loss = np.mean(loss)\n",
    "print(f\"Mean Huber Loss: {mean_huber_loss}\")"
   ]
  },
  {
   "cell_type": "markdown",
   "id": "0699b93e",
   "metadata": {},
   "source": [
    "## A little bit overfitting but good R2"
   ]
  },
  {
   "cell_type": "code",
   "execution_count": 56,
   "id": "c3b99ecb",
   "metadata": {
    "collapsed": true
   },
   "outputs": [
    {
     "name": "stdout",
     "output_type": "stream",
     "text": [
      "Epoch 1/200\n",
      "87/87 [==============================] - 0s 2ms/step - loss: 908117.6250 - val_loss: 882577.3750\n",
      "Epoch 2/200\n",
      "87/87 [==============================] - 0s 538us/step - loss: 670237.6250 - val_loss: 364391.4375\n",
      "Epoch 3/200\n",
      "87/87 [==============================] - 0s 517us/step - loss: 334399.6875 - val_loss: 323202.7188\n",
      "Epoch 4/200\n",
      "87/87 [==============================] - 0s 513us/step - loss: 313892.8438 - val_loss: 300811.5312\n",
      "Epoch 5/200\n",
      "87/87 [==============================] - 0s 511us/step - loss: 288132.0938 - val_loss: 271967.2188\n",
      "Epoch 6/200\n",
      "87/87 [==============================] - 0s 512us/step - loss: 257438.3438 - val_loss: 242338.3750\n",
      "Epoch 7/200\n",
      "87/87 [==============================] - 0s 513us/step - loss: 231269.1562 - val_loss: 218320.8906\n",
      "Epoch 8/200\n",
      "87/87 [==============================] - 0s 511us/step - loss: 211037.8594 - val_loss: 199138.1094\n",
      "Epoch 9/200\n",
      "87/87 [==============================] - 0s 510us/step - loss: 195348.1875 - val_loss: 183469.6406\n",
      "Epoch 10/200\n",
      "87/87 [==============================] - 0s 515us/step - loss: 184480.9531 - val_loss: 174779.8906\n",
      "Epoch 11/200\n",
      "87/87 [==============================] - 0s 517us/step - loss: 176369.7812 - val_loss: 165390.2656\n",
      "Epoch 12/200\n",
      "87/87 [==============================] - 0s 504us/step - loss: 170627.8438 - val_loss: 159800.2031\n",
      "Epoch 13/200\n",
      "87/87 [==============================] - 0s 509us/step - loss: 165829.8438 - val_loss: 158246.3594\n",
      "Epoch 14/200\n",
      "87/87 [==============================] - 0s 513us/step - loss: 163796.4688 - val_loss: 151296.7656\n",
      "Epoch 15/200\n",
      "87/87 [==============================] - 0s 510us/step - loss: 160843.7500 - val_loss: 149981.5469\n",
      "Epoch 16/200\n",
      "87/87 [==============================] - 0s 511us/step - loss: 158411.1875 - val_loss: 147920.6875\n",
      "Epoch 17/200\n",
      "87/87 [==============================] - 0s 511us/step - loss: 157767.9062 - val_loss: 144982.8438\n",
      "Epoch 18/200\n",
      "87/87 [==============================] - 0s 515us/step - loss: 156049.8438 - val_loss: 143754.7969\n",
      "Epoch 19/200\n",
      "87/87 [==============================] - 0s 513us/step - loss: 154449.7344 - val_loss: 142144.6094\n",
      "Epoch 20/200\n",
      "87/87 [==============================] - 0s 513us/step - loss: 153544.5312 - val_loss: 141677.4062\n",
      "Epoch 21/200\n",
      "87/87 [==============================] - 0s 520us/step - loss: 152662.2969 - val_loss: 140566.0156\n",
      "Epoch 22/200\n",
      "87/87 [==============================] - 0s 507us/step - loss: 151357.0938 - val_loss: 139673.6406\n",
      "Epoch 23/200\n",
      "87/87 [==============================] - 0s 508us/step - loss: 150984.1719 - val_loss: 139389.0781\n",
      "Epoch 24/200\n",
      "87/87 [==============================] - 0s 514us/step - loss: 149916.1562 - val_loss: 137284.5625\n",
      "Epoch 25/200\n",
      "87/87 [==============================] - 0s 505us/step - loss: 149735.8125 - val_loss: 137726.2188\n",
      "Epoch 26/200\n",
      "87/87 [==============================] - 0s 512us/step - loss: 148261.4062 - val_loss: 135827.2344\n",
      "Epoch 27/200\n",
      "87/87 [==============================] - 0s 508us/step - loss: 146809.7344 - val_loss: 134262.4219\n",
      "Epoch 28/200\n",
      "87/87 [==============================] - 0s 505us/step - loss: 146550.8281 - val_loss: 133858.8438\n",
      "Epoch 29/200\n",
      "87/87 [==============================] - 0s 514us/step - loss: 145542.7344 - val_loss: 133331.1719\n",
      "Epoch 30/200\n",
      "87/87 [==============================] - 0s 537us/step - loss: 145837.4219 - val_loss: 132140.1250\n",
      "Epoch 31/200\n",
      "87/87 [==============================] - 0s 1ms/step - loss: 144375.3906 - val_loss: 131673.1562\n",
      "Epoch 32/200\n",
      "87/87 [==============================] - 0s 999us/step - loss: 143910.6562 - val_loss: 131012.9531\n",
      "Epoch 33/200\n",
      "87/87 [==============================] - 0s 914us/step - loss: 142873.5938 - val_loss: 130323.6406\n",
      "Epoch 34/200\n",
      "87/87 [==============================] - 0s 1ms/step - loss: 142846.1719 - val_loss: 130163.8281\n",
      "Epoch 35/200\n",
      "87/87 [==============================] - 0s 1ms/step - loss: 142180.1094 - val_loss: 129918.1094\n",
      "Epoch 36/200\n",
      "87/87 [==============================] - 0s 842us/step - loss: 141862.2500 - val_loss: 129847.8594\n",
      "Epoch 37/200\n",
      "87/87 [==============================] - 0s 618us/step - loss: 141147.9688 - val_loss: 131318.8906\n",
      "Epoch 38/200\n",
      "87/87 [==============================] - 0s 897us/step - loss: 140537.4219 - val_loss: 128632.8438\n",
      "Epoch 39/200\n",
      "87/87 [==============================] - 0s 855us/step - loss: 140383.3906 - val_loss: 126228.3516\n",
      "Epoch 40/200\n",
      "87/87 [==============================] - 0s 1ms/step - loss: 141288.4062 - val_loss: 125618.2734\n",
      "Epoch 41/200\n",
      "87/87 [==============================] - 0s 725us/step - loss: 138105.4062 - val_loss: 125661.9453\n",
      "Epoch 42/200\n",
      "87/87 [==============================] - 0s 554us/step - loss: 137721.9531 - val_loss: 128145.5547\n",
      "Epoch 43/200\n",
      "87/87 [==============================] - 0s 521us/step - loss: 137031.5312 - val_loss: 125500.1875\n",
      "Epoch 44/200\n",
      "87/87 [==============================] - 0s 526us/step - loss: 136552.0312 - val_loss: 123501.8750\n",
      "Epoch 45/200\n",
      "87/87 [==============================] - 0s 518us/step - loss: 135979.7188 - val_loss: 123357.7109\n",
      "Epoch 46/200\n",
      "87/87 [==============================] - 0s 522us/step - loss: 136206.6250 - val_loss: 122288.8828\n",
      "Epoch 47/200\n",
      "87/87 [==============================] - 0s 679us/step - loss: 134379.2500 - val_loss: 121891.6484\n",
      "Epoch 48/200\n",
      "87/87 [==============================] - 0s 845us/step - loss: 134024.0312 - val_loss: 121039.6094\n",
      "Epoch 49/200\n",
      "87/87 [==============================] - 0s 977us/step - loss: 134429.1250 - val_loss: 121536.1094\n",
      "Epoch 50/200\n",
      "87/87 [==============================] - 0s 959us/step - loss: 132571.8281 - val_loss: 120109.2109\n",
      "Epoch 51/200\n",
      "87/87 [==============================] - 0s 994us/step - loss: 132647.4688 - val_loss: 123096.9375\n",
      "Epoch 52/200\n",
      "87/87 [==============================] - 0s 931us/step - loss: 131376.7188 - val_loss: 119904.8672\n",
      "Epoch 53/200\n",
      "87/87 [==============================] - 0s 996us/step - loss: 131555.5156 - val_loss: 118348.3047\n",
      "Epoch 54/200\n",
      "87/87 [==============================] - 0s 619us/step - loss: 130425.9219 - val_loss: 118112.1797\n",
      "Epoch 55/200\n",
      "87/87 [==============================] - 0s 1ms/step - loss: 128786.8203 - val_loss: 117210.6875\n",
      "Epoch 56/200\n",
      "87/87 [==============================] - 0s 942us/step - loss: 129108.7734 - val_loss: 119473.8672\n",
      "Epoch 57/200\n",
      "87/87 [==============================] - 0s 1ms/step - loss: 129123.2500 - val_loss: 120626.6094\n",
      "Epoch 58/200\n",
      "87/87 [==============================] - 0s 940us/step - loss: 128488.5625 - val_loss: 121897.3594\n",
      "Epoch 59/200\n",
      "87/87 [==============================] - 0s 677us/step - loss: 126123.8516 - val_loss: 115401.3359\n",
      "Epoch 60/200\n",
      "87/87 [==============================] - 0s 772us/step - loss: 127526.6562 - val_loss: 117682.1484\n",
      "Epoch 61/200\n",
      "87/87 [==============================] - 0s 935us/step - loss: 127678.9062 - val_loss: 115492.4531\n",
      "Epoch 62/200\n",
      "87/87 [==============================] - 0s 946us/step - loss: 124988.6328 - val_loss: 113993.3438\n",
      "Epoch 63/200\n",
      "87/87 [==============================] - 0s 951us/step - loss: 124989.2422 - val_loss: 114110.2812\n",
      "Epoch 64/200\n",
      "87/87 [==============================] - 0s 753us/step - loss: 124551.5938 - val_loss: 113329.0469\n",
      "Epoch 65/200\n",
      "87/87 [==============================] - 0s 599us/step - loss: 123947.3750 - val_loss: 113161.4688\n",
      "Epoch 66/200\n",
      "87/87 [==============================] - 0s 532us/step - loss: 124381.3594 - val_loss: 116586.1406\n",
      "Epoch 67/200\n",
      "87/87 [==============================] - 0s 522us/step - loss: 123063.2578 - val_loss: 113433.0781\n",
      "Epoch 68/200\n",
      "87/87 [==============================] - 0s 530us/step - loss: 122621.4141 - val_loss: 111800.7188\n",
      "Epoch 69/200\n",
      "87/87 [==============================] - 0s 558us/step - loss: 121386.7188 - val_loss: 111290.8750\n",
      "Epoch 70/200\n",
      "87/87 [==============================] - 0s 792us/step - loss: 122613.4688 - val_loss: 111062.8359\n",
      "Epoch 71/200\n",
      "87/87 [==============================] - 0s 1ms/step - loss: 120477.7422 - val_loss: 110385.4609\n",
      "Epoch 72/200\n",
      "87/87 [==============================] - 0s 952us/step - loss: 121388.3516 - val_loss: 110100.3516\n",
      "Epoch 73/200\n",
      "87/87 [==============================] - 0s 555us/step - loss: 119694.1406 - val_loss: 109441.0000\n",
      "Epoch 74/200\n"
     ]
    },
    {
     "name": "stdout",
     "output_type": "stream",
     "text": [
      "87/87 [==============================] - 0s 521us/step - loss: 119184.6094 - val_loss: 109416.1797\n",
      "Epoch 75/200\n",
      "87/87 [==============================] - 0s 508us/step - loss: 119037.4141 - val_loss: 110385.1172\n",
      "Epoch 76/200\n",
      "87/87 [==============================] - 0s 517us/step - loss: 118738.5078 - val_loss: 108561.1797\n",
      "Epoch 77/200\n",
      "87/87 [==============================] - 0s 504us/step - loss: 118615.6250 - val_loss: 109097.8828\n",
      "Epoch 78/200\n",
      "87/87 [==============================] - 0s 515us/step - loss: 117528.1484 - val_loss: 108769.3125\n",
      "Epoch 79/200\n",
      "87/87 [==============================] - 0s 533us/step - loss: 116952.6953 - val_loss: 107394.6953\n",
      "Epoch 80/200\n",
      "87/87 [==============================] - 0s 554us/step - loss: 118477.4531 - val_loss: 106989.4062\n",
      "Epoch 81/200\n",
      "87/87 [==============================] - 0s 548us/step - loss: 117830.8906 - val_loss: 106990.2188\n",
      "Epoch 82/200\n",
      "87/87 [==============================] - 0s 542us/step - loss: 116532.3438 - val_loss: 106657.5625\n",
      "Epoch 83/200\n",
      "87/87 [==============================] - 0s 544us/step - loss: 115821.0000 - val_loss: 106592.7812\n",
      "Epoch 84/200\n",
      "87/87 [==============================] - 0s 1ms/step - loss: 114896.8047 - val_loss: 107097.0781\n",
      "Epoch 85/200\n",
      "87/87 [==============================] - 0s 1ms/step - loss: 115201.6094 - val_loss: 108646.2500\n",
      "Epoch 86/200\n",
      "87/87 [==============================] - 0s 1ms/step - loss: 115413.6406 - val_loss: 105738.0469\n",
      "Epoch 87/200\n",
      "87/87 [==============================] - 0s 905us/step - loss: 114035.2734 - val_loss: 107902.9844\n",
      "Epoch 88/200\n",
      "87/87 [==============================] - 0s 617us/step - loss: 115378.3125 - val_loss: 105655.4297\n",
      "Epoch 89/200\n",
      "87/87 [==============================] - 0s 533us/step - loss: 113563.9062 - val_loss: 107587.4141\n",
      "Epoch 90/200\n",
      "87/87 [==============================] - 0s 528us/step - loss: 113064.1562 - val_loss: 105168.4453\n",
      "Epoch 91/200\n",
      "87/87 [==============================] - 0s 517us/step - loss: 113528.9609 - val_loss: 104959.8750\n",
      "Epoch 92/200\n",
      "87/87 [==============================] - 0s 513us/step - loss: 112500.1094 - val_loss: 109610.9453\n",
      "Epoch 93/200\n",
      "87/87 [==============================] - 0s 512us/step - loss: 112379.6719 - val_loss: 107287.3125\n",
      "Epoch 94/200\n",
      "87/87 [==============================] - 0s 509us/step - loss: 111946.9375 - val_loss: 104970.3906\n",
      "Epoch 95/200\n",
      "87/87 [==============================] - 0s 512us/step - loss: 112598.2578 - val_loss: 104225.0547\n",
      "Epoch 96/200\n",
      "87/87 [==============================] - 0s 522us/step - loss: 111893.4766 - val_loss: 103866.6953\n",
      "Epoch 97/200\n",
      "87/87 [==============================] - 0s 505us/step - loss: 111303.2344 - val_loss: 103413.0938\n",
      "Epoch 98/200\n",
      "87/87 [==============================] - 0s 501us/step - loss: 110636.1875 - val_loss: 105007.6562\n",
      "Epoch 99/200\n",
      "87/87 [==============================] - 0s 498us/step - loss: 111229.5781 - val_loss: 109460.4688\n",
      "Epoch 100/200\n",
      "87/87 [==============================] - 0s 512us/step - loss: 111752.6875 - val_loss: 102986.9453\n",
      "Epoch 101/200\n",
      "87/87 [==============================] - 0s 506us/step - loss: 109944.0312 - val_loss: 103311.1406\n",
      "Epoch 102/200\n",
      "87/87 [==============================] - 0s 519us/step - loss: 110567.4688 - val_loss: 103181.5234\n",
      "Epoch 103/200\n",
      "87/87 [==============================] - 0s 528us/step - loss: 110743.4844 - val_loss: 103433.0938\n",
      "Epoch 104/200\n",
      "87/87 [==============================] - 0s 527us/step - loss: 109468.8594 - val_loss: 102238.7969\n",
      "Epoch 105/200\n",
      "87/87 [==============================] - 0s 523us/step - loss: 110848.1719 - val_loss: 102419.2109\n",
      "Epoch 106/200\n",
      "87/87 [==============================] - 0s 532us/step - loss: 109494.5859 - val_loss: 103960.4141\n",
      "Epoch 107/200\n",
      "87/87 [==============================] - 0s 523us/step - loss: 109010.0156 - val_loss: 103556.3906\n",
      "Epoch 108/200\n",
      "87/87 [==============================] - 0s 519us/step - loss: 109293.2656 - val_loss: 102077.3906\n",
      "Epoch 109/200\n",
      "87/87 [==============================] - 0s 504us/step - loss: 108308.3438 - val_loss: 111204.6562\n",
      "Epoch 110/200\n",
      "87/87 [==============================] - 0s 508us/step - loss: 109562.7266 - val_loss: 103325.3047\n",
      "Epoch 111/200\n",
      "87/87 [==============================] - 0s 511us/step - loss: 108174.7422 - val_loss: 103995.2188\n",
      "Epoch 112/200\n",
      "87/87 [==============================] - 0s 515us/step - loss: 109223.0078 - val_loss: 101434.1328\n",
      "Epoch 113/200\n",
      "87/87 [==============================] - 0s 511us/step - loss: 108248.4297 - val_loss: 115674.2891\n",
      "Epoch 114/200\n",
      "87/87 [==============================] - 0s 505us/step - loss: 108219.8828 - val_loss: 110186.1484\n",
      "Epoch 115/200\n",
      "87/87 [==============================] - 0s 510us/step - loss: 108186.8594 - val_loss: 102826.7031\n",
      "Epoch 116/200\n",
      "87/87 [==============================] - 0s 512us/step - loss: 107790.1016 - val_loss: 101598.6484\n",
      "Epoch 117/200\n",
      "87/87 [==============================] - 0s 512us/step - loss: 107758.4531 - val_loss: 101809.8516\n",
      "Epoch 118/200\n",
      "87/87 [==============================] - 0s 517us/step - loss: 107088.4688 - val_loss: 102504.9141\n",
      "Epoch 119/200\n",
      "87/87 [==============================] - 0s 653us/step - loss: 108632.0703 - val_loss: 101943.7266\n",
      "Epoch 120/200\n",
      "87/87 [==============================] - 0s 821us/step - loss: 107057.4453 - val_loss: 105177.3359\n",
      "Epoch 121/200\n",
      "87/87 [==============================] - 0s 1ms/step - loss: 108091.7891 - val_loss: 100949.4062\n",
      "Epoch 122/200\n",
      "87/87 [==============================] - 0s 1ms/step - loss: 106588.6016 - val_loss: 100470.5625\n",
      "Epoch 123/200\n",
      "87/87 [==============================] - 0s 766us/step - loss: 105897.2422 - val_loss: 101388.3438\n",
      "Epoch 124/200\n",
      "87/87 [==============================] - 0s 560us/step - loss: 109727.2578 - val_loss: 100980.7734\n",
      "Epoch 125/200\n",
      "87/87 [==============================] - 0s 528us/step - loss: 106083.6875 - val_loss: 102120.5625\n",
      "Epoch 126/200\n",
      "87/87 [==============================] - 0s 508us/step - loss: 106414.3125 - val_loss: 102143.8672\n",
      "Epoch 127/200\n",
      "87/87 [==============================] - 0s 508us/step - loss: 105586.1484 - val_loss: 105272.2812\n",
      "Epoch 128/200\n",
      "87/87 [==============================] - 0s 513us/step - loss: 105754.3750 - val_loss: 104820.6406\n",
      "Epoch 129/200\n",
      "87/87 [==============================] - 0s 508us/step - loss: 106528.3906 - val_loss: 102820.1719\n",
      "Epoch 130/200\n",
      "87/87 [==============================] - 0s 515us/step - loss: 108716.3281 - val_loss: 99927.4922\n",
      "Epoch 131/200\n",
      "87/87 [==============================] - 0s 509us/step - loss: 106652.3359 - val_loss: 103543.4219\n",
      "Epoch 132/200\n",
      "87/87 [==============================] - 0s 504us/step - loss: 105993.3125 - val_loss: 100164.5859\n",
      "Epoch 133/200\n",
      "87/87 [==============================] - 0s 506us/step - loss: 104890.9219 - val_loss: 100436.4141\n",
      "Epoch 134/200\n",
      "87/87 [==============================] - 0s 513us/step - loss: 105173.4375 - val_loss: 105614.7734\n",
      "Epoch 135/200\n",
      "87/87 [==============================] - 0s 747us/step - loss: 104916.5625 - val_loss: 99649.6328\n",
      "Epoch 136/200\n",
      "87/87 [==============================] - 0s 1ms/step - loss: 106856.7891 - val_loss: 102963.4531\n",
      "Epoch 137/200\n",
      "87/87 [==============================] - 0s 909us/step - loss: 104850.5000 - val_loss: 103058.7969\n",
      "Epoch 138/200\n",
      "87/87 [==============================] - 0s 651us/step - loss: 104739.1094 - val_loss: 100177.9844\n",
      "Epoch 139/200\n",
      "87/87 [==============================] - 0s 551us/step - loss: 104305.8828 - val_loss: 99298.4766\n",
      "Epoch 140/200\n",
      "87/87 [==============================] - 0s 674us/step - loss: 103993.3047 - val_loss: 98930.0938\n",
      "Epoch 141/200\n",
      "87/87 [==============================] - 0s 522us/step - loss: 104482.6641 - val_loss: 99074.7891\n",
      "Epoch 142/200\n",
      "87/87 [==============================] - 0s 518us/step - loss: 104380.3359 - val_loss: 100261.3828\n",
      "Epoch 143/200\n",
      "87/87 [==============================] - 0s 503us/step - loss: 104409.1094 - val_loss: 101001.5859\n",
      "Epoch 144/200\n",
      "87/87 [==============================] - 0s 519us/step - loss: 103801.9375 - val_loss: 98902.7656\n",
      "Epoch 145/200\n",
      "87/87 [==============================] - 0s 870us/step - loss: 103282.5312 - val_loss: 100095.0469\n",
      "Epoch 146/200\n",
      "87/87 [==============================] - 0s 1ms/step - loss: 103607.5547 - val_loss: 98826.8828\n",
      "Epoch 147/200\n"
     ]
    },
    {
     "name": "stdout",
     "output_type": "stream",
     "text": [
      "87/87 [==============================] - 0s 870us/step - loss: 103999.1875 - val_loss: 98576.8516\n",
      "Epoch 148/200\n",
      "87/87 [==============================] - 0s 742us/step - loss: 102909.9922 - val_loss: 98528.3750\n",
      "Epoch 149/200\n",
      "87/87 [==============================] - 0s 533us/step - loss: 103211.4219 - val_loss: 100808.7422\n",
      "Epoch 150/200\n",
      "87/87 [==============================] - 0s 510us/step - loss: 102546.9531 - val_loss: 100554.1328\n",
      "Epoch 151/200\n",
      "87/87 [==============================] - 0s 513us/step - loss: 103409.6328 - val_loss: 98934.7891\n",
      "Epoch 152/200\n",
      "87/87 [==============================] - 0s 510us/step - loss: 102942.8281 - val_loss: 97925.2656\n",
      "Epoch 153/200\n",
      "87/87 [==============================] - 0s 507us/step - loss: 103140.1094 - val_loss: 98246.2188\n",
      "Epoch 154/200\n",
      "87/87 [==============================] - 0s 543us/step - loss: 102248.1328 - val_loss: 104032.8672\n",
      "Epoch 155/200\n",
      "87/87 [==============================] - 0s 760us/step - loss: 104228.5703 - val_loss: 101512.7734\n",
      "Epoch 156/200\n",
      "87/87 [==============================] - 0s 1ms/step - loss: 102406.1016 - val_loss: 98671.6953\n",
      "Epoch 157/200\n",
      "87/87 [==============================] - 0s 905us/step - loss: 103081.4297 - val_loss: 99684.2500\n",
      "Epoch 158/200\n",
      "87/87 [==============================] - 0s 676us/step - loss: 101549.9844 - val_loss: 97155.9219\n",
      "Epoch 159/200\n",
      "87/87 [==============================] - 0s 556us/step - loss: 101417.2422 - val_loss: 98695.8438\n",
      "Epoch 160/200\n",
      "87/87 [==============================] - 0s 526us/step - loss: 102467.2812 - val_loss: 97449.5000\n",
      "Epoch 161/200\n",
      "87/87 [==============================] - 0s 519us/step - loss: 101860.5781 - val_loss: 96691.7734\n",
      "Epoch 162/200\n",
      "87/87 [==============================] - 0s 513us/step - loss: 101003.1250 - val_loss: 97459.7031\n",
      "Epoch 163/200\n",
      "87/87 [==============================] - 0s 514us/step - loss: 101366.3516 - val_loss: 96886.6641\n",
      "Epoch 164/200\n",
      "87/87 [==============================] - 0s 720us/step - loss: 101136.2031 - val_loss: 97039.3906\n",
      "Epoch 165/200\n",
      "87/87 [==============================] - 0s 983us/step - loss: 101324.0391 - val_loss: 96174.3984\n",
      "Epoch 166/200\n",
      "87/87 [==============================] - 0s 965us/step - loss: 101600.3828 - val_loss: 96418.1484\n",
      "Epoch 167/200\n",
      "87/87 [==============================] - 0s 726us/step - loss: 100705.8672 - val_loss: 95715.4922\n",
      "Epoch 168/200\n",
      "87/87 [==============================] - 0s 565us/step - loss: 100375.7500 - val_loss: 97539.2656\n",
      "Epoch 169/200\n",
      "87/87 [==============================] - 0s 518us/step - loss: 100902.5625 - val_loss: 95686.8516\n",
      "Epoch 170/200\n",
      "87/87 [==============================] - 0s 516us/step - loss: 101310.6797 - val_loss: 97062.2500\n",
      "Epoch 171/200\n",
      "87/87 [==============================] - 0s 504us/step - loss: 99920.1250 - val_loss: 95715.3984\n",
      "Epoch 172/200\n",
      "87/87 [==============================] - 0s 513us/step - loss: 101742.4766 - val_loss: 105785.2188\n",
      "Epoch 173/200\n",
      "87/87 [==============================] - 0s 857us/step - loss: 100762.7891 - val_loss: 96538.8516\n",
      "Epoch 174/200\n",
      "87/87 [==============================] - 0s 824us/step - loss: 100222.2969 - val_loss: 95441.3359\n",
      "Epoch 175/200\n",
      "87/87 [==============================] - 0s 845us/step - loss: 100881.5391 - val_loss: 95593.1953\n",
      "Epoch 176/200\n",
      "87/87 [==============================] - 0s 668us/step - loss: 98942.3984 - val_loss: 95403.7656\n",
      "Epoch 177/200\n",
      "87/87 [==============================] - 0s 557us/step - loss: 100433.0625 - val_loss: 95217.4922\n",
      "Epoch 178/200\n",
      "87/87 [==============================] - 0s 510us/step - loss: 99407.1016 - val_loss: 95331.2188\n",
      "Epoch 179/200\n",
      "87/87 [==============================] - 0s 515us/step - loss: 98600.9219 - val_loss: 95122.9219\n",
      "Epoch 180/200\n",
      "87/87 [==============================] - 0s 499us/step - loss: 99737.8281 - val_loss: 95847.8125\n",
      "Epoch 181/200\n",
      "87/87 [==============================] - 0s 509us/step - loss: 99664.7969 - val_loss: 94992.6094\n",
      "Epoch 182/200\n",
      "87/87 [==============================] - 0s 508us/step - loss: 98103.3281 - val_loss: 96793.4922\n",
      "Epoch 183/200\n",
      "87/87 [==============================] - 0s 504us/step - loss: 98168.5781 - val_loss: 100450.8203\n",
      "Epoch 184/200\n",
      "87/87 [==============================] - 0s 504us/step - loss: 99428.3516 - val_loss: 97153.6328\n",
      "Epoch 185/200\n",
      "87/87 [==============================] - 0s 509us/step - loss: 98368.1016 - val_loss: 94853.6094\n",
      "Epoch 186/200\n",
      "87/87 [==============================] - 0s 502us/step - loss: 97855.7891 - val_loss: 100024.8828\n",
      "Epoch 187/200\n",
      "87/87 [==============================] - 0s 506us/step - loss: 100451.6641 - val_loss: 97144.6016\n",
      "Epoch 188/200\n",
      "87/87 [==============================] - 0s 505us/step - loss: 98756.6641 - val_loss: 93758.7578\n",
      "Epoch 189/200\n",
      "87/87 [==============================] - 0s 502us/step - loss: 97488.0859 - val_loss: 98916.8906\n",
      "Epoch 190/200\n",
      "87/87 [==============================] - 0s 503us/step - loss: 97109.5625 - val_loss: 93790.9688\n",
      "Epoch 191/200\n",
      "87/87 [==============================] - 0s 505us/step - loss: 97201.9219 - val_loss: 94638.1094\n",
      "Epoch 192/200\n",
      "87/87 [==============================] - 0s 507us/step - loss: 97258.4922 - val_loss: 94614.0781\n",
      "Epoch 193/200\n",
      "87/87 [==============================] - 0s 501us/step - loss: 96632.5625 - val_loss: 101307.9922\n",
      "Epoch 194/200\n",
      "87/87 [==============================] - 0s 512us/step - loss: 96776.3125 - val_loss: 93873.4219\n",
      "Epoch 195/200\n",
      "87/87 [==============================] - 0s 524us/step - loss: 97560.3203 - val_loss: 94662.9688\n",
      "Epoch 196/200\n",
      "87/87 [==============================] - 0s 523us/step - loss: 96864.0000 - val_loss: 92752.0156\n",
      "Epoch 197/200\n",
      "87/87 [==============================] - 0s 523us/step - loss: 97108.4922 - val_loss: 92984.4219\n",
      "Epoch 198/200\n",
      "87/87 [==============================] - 0s 532us/step - loss: 96447.8828 - val_loss: 93296.9375\n",
      "Epoch 199/200\n",
      "87/87 [==============================] - 0s 515us/step - loss: 96175.9922 - val_loss: 93064.1797\n",
      "Epoch 200/200\n",
      "87/87 [==============================] - 0s 503us/step - loss: 96253.0625 - val_loss: 94580.7500\n",
      "Mean Squared Error: 90863.33278622113\n",
      "Root Mean Squared Error: 301.43545376451846\n",
      "R-squared: 0.7734415081502938\n",
      "Adjusted R-squared: 0.7702912162589886\n"
     ]
    }
   ],
   "source": [
    "from keras.models import Sequential\n",
    "from keras.layers import Dense\n",
    "\n",
    "model = Sequential()\n",
    "\n",
    "model.add(Dense(units=64, activation='relu', input_dim=X_train_scaled.shape[1]))\n",
    "\n",
    "model.add(Dense(units=32, activation='relu'))\n",
    "\n",
    "model.add(Dense(units=16, activation='relu'))\n",
    "\n",
    "model.add(Dense(units=8, activation='relu'))\n",
    "\n",
    "model.add(Dense(units=1, activation='linear'))\n",
    "\n",
    "model.compile(optimizer='adam', loss='mean_squared_error')\n",
    "\n",
    "#from keras.layers import Dropout\n",
    "#model.add(Dropout(0.5)) \n",
    "\n",
    "#from keras.regularizers import l1, l2\n",
    "#model.add(Dense(units=64, activation='relu', input_dim=X_train.shape[1], kernel_regularizer=l2(0.01)))\n",
    "\n",
    "from keras.callbacks import EarlyStopping\n",
    "early_stopping = EarlyStopping(monitor='val_loss', patience = 10, restore_best_weights=True)\n",
    "model.fit(X_train_scaled, y_train, epochs = 200, batch_size = 64, validation_split=0.3, callbacks=[early_stopping])\n",
    "\n",
    "mse = mean_squared_error(y_test, y_pred)\n",
    "mse_r = mean_squared_error(y_test, y_pred, squared = False)\n",
    "r2 = r2_score(y_test, y_pred)\n",
    "\n",
    "n = len(y_test)\n",
    "k = X_train_scaled.shape[1]  \n",
    "adj_r2 = 1 - ((1 - r2) * (n - 1) / (n - k - 1))\n",
    "\n",
    "print(f'Mean Squared Error: {mse}')\n",
    "print(f'Root Mean Squared Error: {mse_r}')\n",
    "print(f'R-squared: {r2}')\n",
    "print(f'Adjusted R-squared: {adj_r2}')"
   ]
  },
  {
   "cell_type": "code",
   "execution_count": 57,
   "id": "f4ed3263",
   "metadata": {},
   "outputs": [
    {
     "name": "stdout",
     "output_type": "stream",
     "text": [
      "Mean Squared Error: 90863.33278622113\n",
      "Root Mean Squared Error: 301.43545376451846\n",
      "R-squared: 0.7734415081502938\n",
      "Adjusted R-squared: 0.7702912162589886\n"
     ]
    }
   ],
   "source": [
    "print(f'Mean Squared Error: {mse}')\n",
    "print(f'Root Mean Squared Error: {mse_r}')\n",
    "print(f'R-squared: {r2}')\n",
    "print(f'Adjusted R-squared: {adj_r2}')"
   ]
  },
  {
   "cell_type": "code",
   "execution_count": 58,
   "id": "a32f3df8",
   "metadata": {},
   "outputs": [
    {
     "name": "stdout",
     "output_type": "stream",
     "text": [
      "247/247 [==============================] - 0s 210us/step\n",
      "28/28 [==============================] - 0s 225us/step\n",
      "Training MSE: 95802.45132358055\n",
      "Validation MSE: 89235.2420333117\n",
      "Huber Loss: [[ 192.81484985  374.81484985  255.81484985 ...  308.81484985\n",
      "   243.18515015  682.18515015]\n",
      " [ 176.76589966    4.23410034  113.76589966 ...   60.76589966\n",
      "   613.76589966 1052.76589966]\n",
      " [ 356.47485352  538.47485352  419.47485352 ...  472.47485352\n",
      "    79.52514648  518.52514648]\n",
      " ...\n",
      " [ 129.62747192  311.62747192  192.62747192 ...  245.62747192\n",
      "   306.37252808  745.37252808]\n",
      " [ 365.35266113  547.35266113  428.35266113 ...  481.35266113\n",
      "    70.64733887  509.64733887]\n",
      " [ 880.63623047 1062.63623047  943.63623047 ...  996.63623047\n",
      "   443.63623047    4.63623047]]\n",
      "Mean Huber Loss: 631.8439452217276\n"
     ]
    }
   ],
   "source": [
    "train_pred = model.predict(X_train_scaled)\n",
    "test_pred = model.predict(X_test_scaled)\n",
    "\n",
    "from sklearn.metrics import mean_squared_error, r2_score\n",
    "\n",
    "train_mse = mean_squared_error(y_train, train_pred)\n",
    "test_mse = mean_squared_error(y_test, test_pred)\n",
    "\n",
    "print(f'Training MSE: {train_mse}')\n",
    "print(f'Validation MSE: {test_mse}')\n",
    "\n",
    "import tensorflow as tf\n",
    "def huber_loss(y_test, y_pred, delta = 1.0):\n",
    "    error = y_test - y_pred\n",
    "    condition = tf.abs(error) < delta\n",
    "    squared_loss = 0.5 * tf.square(error)\n",
    "    linear_loss = delta * (tf.abs(error) - 0.5 * delta)\n",
    "    return tf.where(condition, squared_loss, linear_loss)\n",
    "\n",
    "loss = huber_loss(y_test, y_pred, delta = 1.0)\n",
    "print(\"Huber Loss:\", loss.numpy())\n",
    "\n",
    "mean_huber_loss = np.mean(loss)\n",
    "print(f\"Mean Huber Loss: {mean_huber_loss}\")"
   ]
  },
  {
   "cell_type": "markdown",
   "id": "3bf9d64f",
   "metadata": {},
   "source": [
    "## Overfitting "
   ]
  },
  {
   "cell_type": "markdown",
   "id": "f0d8b450",
   "metadata": {},
   "source": [
    "# SVM"
   ]
  },
  {
   "cell_type": "code",
   "execution_count": 59,
   "id": "577688c3",
   "metadata": {},
   "outputs": [],
   "source": [
    "from sklearn import svm"
   ]
  },
  {
   "cell_type": "code",
   "execution_count": 60,
   "id": "ff30a011",
   "metadata": {},
   "outputs": [
    {
     "name": "stdout",
     "output_type": "stream",
     "text": [
      "Mean Squared Error: 219017.08777414344\n",
      "Root Mean Squared Error: 467.99261508504964\n",
      "R-squared: 0.4539031359088639\n",
      "Adjusted R-squared: 0.4463096685055109\n"
     ]
    }
   ],
   "source": [
    "regressor = svm.SVR(kernel = 'linear', C = 5.0, epsilon = 2.5)\n",
    "\n",
    "regressor.fit(X_train_scaled, y_train)\n",
    "\n",
    "yp_svm = regressor.predict(X_test_scaled)\n",
    "\n",
    "mse = mean_squared_error(y_test, yp_svm)\n",
    "mse_r = mean_squared_error(y_test, yp_svm, squared = False)\n",
    "r2 = r2_score(y_test, yp_svm)\n",
    "\n",
    "n = len(y_test)\n",
    "k = X_train_scaled.shape[1]  \n",
    "adj_r2 = 1 - ((1 - r2) * (n - 1) / (n - k - 1))\n",
    "\n",
    "print(f'Mean Squared Error: {mse}')\n",
    "print(f'Root Mean Squared Error: {mse_r}')\n",
    "print(f'R-squared: {r2}')\n",
    "print(f'Adjusted R-squared: {adj_r2}')"
   ]
  },
  {
   "cell_type": "code",
   "execution_count": 61,
   "id": "a8e88b7d",
   "metadata": {},
   "outputs": [
    {
     "data": {
      "text/plain": [
       "0.2565501411335086"
      ]
     },
     "execution_count": 61,
     "metadata": {},
     "output_type": "execute_result"
    }
   ],
   "source": [
    "score_svm = cross_val_score(svm.SVR(kernel = 'linear', C = 5.0, epsilon = 2.5), \n",
    "                            X_test_scaled, y_test, cv = 10, scoring = 'r2').mean()\n",
    "score_svm"
   ]
  },
  {
   "cell_type": "code",
   "execution_count": 62,
   "id": "ea0dc11d",
   "metadata": {},
   "outputs": [
    {
     "data": {
      "text/html": [
       "<div>\n",
       "<style scoped>\n",
       "    .dataframe tbody tr th:only-of-type {\n",
       "        vertical-align: middle;\n",
       "    }\n",
       "\n",
       "    .dataframe tbody tr th {\n",
       "        vertical-align: top;\n",
       "    }\n",
       "\n",
       "    .dataframe thead th {\n",
       "        text-align: right;\n",
       "    }\n",
       "</style>\n",
       "<table border=\"1\" class=\"dataframe\">\n",
       "  <thead>\n",
       "    <tr style=\"text-align: right;\">\n",
       "      <th></th>\n",
       "      <th>Actual</th>\n",
       "      <th>Predicted</th>\n",
       "    </tr>\n",
       "  </thead>\n",
       "  <tbody>\n",
       "    <tr>\n",
       "      <th>0</th>\n",
       "      <td>278.0</td>\n",
       "      <td>764.490599</td>\n",
       "    </tr>\n",
       "    <tr>\n",
       "      <th>1</th>\n",
       "      <td>96.0</td>\n",
       "      <td>-58.484435</td>\n",
       "    </tr>\n",
       "    <tr>\n",
       "      <th>2</th>\n",
       "      <td>215.0</td>\n",
       "      <td>757.955124</td>\n",
       "    </tr>\n",
       "    <tr>\n",
       "      <th>3</th>\n",
       "      <td>1290.0</td>\n",
       "      <td>807.288673</td>\n",
       "    </tr>\n",
       "    <tr>\n",
       "      <th>4</th>\n",
       "      <td>165.0</td>\n",
       "      <td>428.452345</td>\n",
       "    </tr>\n",
       "  </tbody>\n",
       "</table>\n",
       "</div>"
      ],
      "text/plain": [
       "   Actual   Predicted\n",
       "0   278.0  764.490599\n",
       "1    96.0  -58.484435\n",
       "2   215.0  757.955124\n",
       "3  1290.0  807.288673\n",
       "4   165.0  428.452345"
      ]
     },
     "execution_count": 62,
     "metadata": {},
     "output_type": "execute_result"
    }
   ],
   "source": [
    "pred_svm = pd.DataFrame({'Actual': y_test, 'Predicted': yp_svm})\n",
    "pred_svm.head()"
   ]
  },
  {
   "cell_type": "code",
   "execution_count": null,
   "id": "4dee445f",
   "metadata": {},
   "outputs": [],
   "source": []
  },
  {
   "cell_type": "code",
   "execution_count": 63,
   "id": "753e0e58",
   "metadata": {},
   "outputs": [
    {
     "name": "stdout",
     "output_type": "stream",
     "text": [
      "Mean Squared Error: 156496.6455444801\n",
      "Root Mean Squared Error: 395.5965691768321\n",
      "R-squared: 0.6097915087760011\n",
      "Adjusted R-squared: 0.6043656664878343\n"
     ]
    }
   ],
   "source": [
    "regressor = svm.SVR(kernel = 'poly', C = 50.0, epsilon = 3.5, degree = 2)\n",
    "\n",
    "regressor.fit(X_train_scaled, y_train)\n",
    "\n",
    "yp_svm_p2 = regressor.predict(X_test_scaled)\n",
    "\n",
    "mse = mean_squared_error(y_test, yp_svm_p2)\n",
    "mse_r = mean_squared_error(y_test, yp_svm_p2, squared = False)\n",
    "r2 = r2_score(y_test, yp_svm_p2)\n",
    "\n",
    "n = len(y_test)\n",
    "k = X_train_scaled.shape[1]  \n",
    "adj_r2 = 1 - ((1 - r2) * (n - 1) / (n - k - 1))\n",
    "\n",
    "print(f'Mean Squared Error: {mse}')\n",
    "print(f'Root Mean Squared Error: {mse_r}')\n",
    "print(f'R-squared: {r2}')\n",
    "print(f'Adjusted R-squared: {adj_r2}')"
   ]
  },
  {
   "cell_type": "code",
   "execution_count": 64,
   "id": "7db15db6",
   "metadata": {},
   "outputs": [
    {
     "data": {
      "text/plain": [
       "0.5455578696625797"
      ]
     },
     "execution_count": 64,
     "metadata": {},
     "output_type": "execute_result"
    }
   ],
   "source": [
    "score_svr = cross_val_score(svm.SVR(kernel = 'poly', C = 50.0, epsilon = 3.5, degree = 2), \n",
    "                            X_test_scaled, y_test, cv = 10, scoring = 'r2').mean()\n",
    "score_svr"
   ]
  },
  {
   "cell_type": "code",
   "execution_count": 91,
   "id": "2b7f64bf",
   "metadata": {},
   "outputs": [
    {
     "name": "stdout",
     "output_type": "stream",
     "text": [
      "Training MSE: 142713.81169964845\n",
      "Validation MSE: 122853.06655295874\n",
      "Mean Huber Loss: 229.34374606979154\n"
     ]
    }
   ],
   "source": [
    "train_pred = regressor.predict(X_train_scaled)\n",
    "test_pred = regressor.predict(X_test_scaled)\n",
    "\n",
    "from sklearn.metrics import mean_squared_error, r2_score\n",
    "\n",
    "train_mse = mean_squared_error(y_train, train_pred)\n",
    "test_mse = mean_squared_error(y_test, test_pred)\n",
    "\n",
    "print(f'Training MSE: {train_mse}')\n",
    "print(f'Validation MSE: {test_mse}')\n",
    "\n",
    "import tensorflow as tf\n",
    "def huber_loss(y_test, yp_svm_p2, delta = 1.0):\n",
    "    error = y_test - yp_svm_p2\n",
    "    condition = tf.abs(error) < delta\n",
    "    squared_loss = 0.5 * tf.square(error)\n",
    "    linear_loss = delta * (tf.abs(error) - 0.5 * delta)\n",
    "    return tf.where(condition, squared_loss, linear_loss)\n",
    "\n",
    "loss = huber_loss(y_test, yp_svm_p2, delta = 1.0)\n",
    "#print(\"Huber Loss:\", loss.numpy())\n",
    "\n",
    "mean_huber_loss = np.mean(loss)\n",
    "print(f\"Mean Huber Loss: {mean_huber_loss}\")"
   ]
  },
  {
   "cell_type": "code",
   "execution_count": 66,
   "id": "ec18e31f",
   "metadata": {},
   "outputs": [],
   "source": [
    "from sklearn.model_selection import RandomizedSearchCV\n",
    "\n",
    "param_dist = {'kernel': ['linear', 'poly', 'rbf', 'sigmoid'],\n",
    "              'C': [0.1, 1, 10, 100],\n",
    "              'epsilon': [0.1, 0.5, 1, 2],\n",
    "              'degree': [2, 3, 4]}\n",
    "\n",
    "random_search = RandomizedSearchCV(svm.SVR(), param_dist, cv=5)\n",
    "random_search.fit(X_train_scaled, y_train)\n",
    "\n",
    "best_params = random_search.best_params_\n",
    "best_regressor = random_search.best_estimator_\n",
    "\n",
    "yp_best = best_regressor.predict(X_test_scaled)\n"
   ]
  },
  {
   "cell_type": "code",
   "execution_count": 67,
   "id": "f7582981",
   "metadata": {},
   "outputs": [
    {
     "data": {
      "text/plain": [
       "{'kernel': 'poly', 'epsilon': 0.5, 'degree': 4, 'C': 10}"
      ]
     },
     "execution_count": 67,
     "metadata": {},
     "output_type": "execute_result"
    }
   ],
   "source": [
    "best_params"
   ]
  },
  {
   "cell_type": "code",
   "execution_count": 92,
   "id": "7c6a0fea",
   "metadata": {},
   "outputs": [
    {
     "name": "stdout",
     "output_type": "stream",
     "text": [
      "Mean Squared Error: 122875.65273039367\n",
      "Root Mean Squared Error: 350.53623597339214\n",
      "R-squared: 0.6936220396720054\n",
      "Adjusted R-squared: 0.68936185945887\n"
     ]
    }
   ],
   "source": [
    "regressor = svm.SVR(kernel = 'poly', C = 10.0, epsilon = 0.5, degree = 4)\n",
    "\n",
    "regressor.fit(X_train_scaled, y_train)\n",
    "\n",
    "yp_svm_p2 = regressor.predict(X_test_scaled)\n",
    "\n",
    "mse = mean_squared_error(y_test, yp_svm_p2)\n",
    "mse_r = mean_squared_error(y_test, yp_svm_p2, squared = False)\n",
    "r2 = r2_score(y_test, yp_svm_p2)\n",
    "\n",
    "n = len(y_test)\n",
    "k = X_train_scaled.shape[1]  \n",
    "adj_r2 = 1 - ((1 - r2) * (n - 1) / (n - k - 1))\n",
    "\n",
    "print(f'Mean Squared Error: {mse}')\n",
    "print(f'Root Mean Squared Error: {mse_r}')\n",
    "print(f'R-squared: {r2}')\n",
    "print(f'Adjusted R-squared: {adj_r2}')"
   ]
  },
  {
   "cell_type": "code",
   "execution_count": 93,
   "id": "4fa3a720",
   "metadata": {},
   "outputs": [
    {
     "data": {
      "text/plain": [
       "0.6175871976557368"
      ]
     },
     "execution_count": 93,
     "metadata": {},
     "output_type": "execute_result"
    }
   ],
   "source": [
    "score_svr = cross_val_score(svm.SVR(kernel = 'poly', C = 10.0, epsilon = 0.5, degree = 4), \n",
    "                            X_test_scaled, y_test, cv = 10, scoring = 'r2').mean()\n",
    "score_svr"
   ]
  },
  {
   "cell_type": "code",
   "execution_count": 94,
   "id": "3cf8f7b3",
   "metadata": {},
   "outputs": [
    {
     "name": "stdout",
     "output_type": "stream",
     "text": [
      "Training MSE: 142681.57771167823\n",
      "Validation MSE: 122875.65273039367\n",
      "Mean Huber Loss: 229.3798514472264\n"
     ]
    }
   ],
   "source": [
    "train_pred = regressor.predict(X_train_scaled)\n",
    "test_pred = regressor.predict(X_test_scaled)\n",
    "\n",
    "from sklearn.metrics import mean_squared_error, r2_score\n",
    "\n",
    "train_mse = mean_squared_error(y_train, train_pred)\n",
    "test_mse = mean_squared_error(y_test, test_pred)\n",
    "\n",
    "print(f'Training MSE: {train_mse}')\n",
    "print(f'Validation MSE: {test_mse}')\n",
    "\n",
    "import tensorflow as tf\n",
    "def huber_loss(y_test, yp_svm_p2, delta = 1.0):\n",
    "    error = y_test - yp_svm_p2\n",
    "    condition = tf.abs(error) < delta\n",
    "    squared_loss = 0.5 * tf.square(error)\n",
    "    linear_loss = delta * (tf.abs(error) - 0.5 * delta)\n",
    "    return tf.where(condition, squared_loss, linear_loss)\n",
    "\n",
    "loss = huber_loss(y_test, yp_svm_p2, delta = 1.0)\n",
    "#print(\"Huber Loss:\", loss.numpy())\n",
    "\n",
    "mean_huber_loss = np.mean(loss)\n",
    "print(f\"Mean Huber Loss: {mean_huber_loss}\")"
   ]
  },
  {
   "cell_type": "markdown",
   "id": "746946c1",
   "metadata": {},
   "source": [
    "## Good R2 and a little bit overfitting "
   ]
  },
  {
   "cell_type": "code",
   "execution_count": null,
   "id": "c70d4eea",
   "metadata": {},
   "outputs": [],
   "source": []
  },
  {
   "cell_type": "code",
   "execution_count": null,
   "id": "71310987",
   "metadata": {},
   "outputs": [],
   "source": []
  },
  {
   "cell_type": "markdown",
   "id": "cebdc20b",
   "metadata": {},
   "source": [
    "# KNN"
   ]
  },
  {
   "cell_type": "code",
   "execution_count": 71,
   "id": "051ace45",
   "metadata": {},
   "outputs": [],
   "source": [
    "from sklearn.neighbors import KNeighborsRegressor"
   ]
  },
  {
   "cell_type": "code",
   "execution_count": 72,
   "id": "e7466068",
   "metadata": {},
   "outputs": [
    {
     "data": {
      "text/plain": [
       "5"
      ]
     },
     "execution_count": 72,
     "metadata": {},
     "output_type": "execute_result"
    }
   ],
   "source": [
    "from sklearn.model_selection import GridSearchCV\n",
    "\n",
    "param_grid = {'n_neighbors': [1, 3, 5, 7, 9]}\n",
    "grid_search = GridSearchCV(KNeighborsRegressor(), param_grid, cv = 5, scoring = 'neg_mean_squared_error')\n",
    "grid_search.fit(X_train_scaled, y_train)\n",
    "\n",
    "best_k = grid_search.best_params_['n_neighbors']\n",
    "#knn_regressor = KNeighborsRegressor(n_neighbors=best_k)\n",
    "#knn_regressor.fit(X_train, y_train)\n",
    "\n",
    "best_k"
   ]
  },
  {
   "cell_type": "code",
   "execution_count": 95,
   "id": "b1c23bf5",
   "metadata": {},
   "outputs": [
    {
     "name": "stdout",
     "output_type": "stream",
     "text": [
      "Mean Squared Error: 73768.86378995432\n",
      "Root Mean Squared Error: 271.6042411118691\n",
      "R-squared: 0.8160648304081041\n",
      "Adjusted R-squared: 0.8135072150719479\n"
     ]
    }
   ],
   "source": [
    "knn_regressor = KNeighborsRegressor(n_neighbors = 5) #metric = 'manhattan') \n",
    "\n",
    "knn_regressor.fit(X_train_scaled, y_train)\n",
    "\n",
    "yp_knn = knn_regressor.predict(X_test_scaled)\n",
    "\n",
    "mse = mean_squared_error(y_test, yp_knn)\n",
    "mse_r = mean_squared_error(y_test, yp_knn, squared = False)\n",
    "r2 = r2_score(y_test, yp_knn)\n",
    "\n",
    "n = len(y_test)\n",
    "k = X_train_scaled.shape[1]  \n",
    "adj_r2 = 1 - ((1 - r2) * (n - 1) / (n - k - 1))\n",
    "\n",
    "print(f'Mean Squared Error: {mse}')\n",
    "print(f'Root Mean Squared Error: {mse_r}')\n",
    "print(f'R-squared: {r2}')\n",
    "print(f'Adjusted R-squared: {adj_r2}')"
   ]
  },
  {
   "cell_type": "code",
   "execution_count": 96,
   "id": "85167242",
   "metadata": {},
   "outputs": [
    {
     "data": {
      "text/plain": [
       "0.6744090215394375"
      ]
     },
     "execution_count": 96,
     "metadata": {},
     "output_type": "execute_result"
    }
   ],
   "source": [
    "score_knn = cross_val_score(KNeighborsRegressor(n_neighbors = 5), \n",
    "                            X_test_scaled, y_test, cv = 5, scoring = 'r2').mean()\n",
    "score_knn"
   ]
  },
  {
   "cell_type": "code",
   "execution_count": 75,
   "id": "7af89a94",
   "metadata": {},
   "outputs": [
    {
     "data": {
      "text/html": [
       "<div>\n",
       "<style scoped>\n",
       "    .dataframe tbody tr th:only-of-type {\n",
       "        vertical-align: middle;\n",
       "    }\n",
       "\n",
       "    .dataframe tbody tr th {\n",
       "        vertical-align: top;\n",
       "    }\n",
       "\n",
       "    .dataframe thead th {\n",
       "        text-align: right;\n",
       "    }\n",
       "</style>\n",
       "<table border=\"1\" class=\"dataframe\">\n",
       "  <thead>\n",
       "    <tr style=\"text-align: right;\">\n",
       "      <th></th>\n",
       "      <th>Actual</th>\n",
       "      <th>Predicted</th>\n",
       "    </tr>\n",
       "  </thead>\n",
       "  <tbody>\n",
       "    <tr>\n",
       "      <th>0</th>\n",
       "      <td>278.0</td>\n",
       "      <td>314.428571</td>\n",
       "    </tr>\n",
       "    <tr>\n",
       "      <th>1</th>\n",
       "      <td>96.0</td>\n",
       "      <td>67.857143</td>\n",
       "    </tr>\n",
       "    <tr>\n",
       "      <th>2</th>\n",
       "      <td>215.0</td>\n",
       "      <td>235.428571</td>\n",
       "    </tr>\n",
       "    <tr>\n",
       "      <th>3</th>\n",
       "      <td>1290.0</td>\n",
       "      <td>1216.142857</td>\n",
       "    </tr>\n",
       "    <tr>\n",
       "      <th>4</th>\n",
       "      <td>165.0</td>\n",
       "      <td>246.571429</td>\n",
       "    </tr>\n",
       "  </tbody>\n",
       "</table>\n",
       "</div>"
      ],
      "text/plain": [
       "   Actual    Predicted\n",
       "0   278.0   314.428571\n",
       "1    96.0    67.857143\n",
       "2   215.0   235.428571\n",
       "3  1290.0  1216.142857\n",
       "4   165.0   246.571429"
      ]
     },
     "execution_count": 75,
     "metadata": {},
     "output_type": "execute_result"
    }
   ],
   "source": [
    "pred_knn = pd.DataFrame({'Actual': y_test, 'Predicted': yp_knn})\n",
    "pred_knn.head()"
   ]
  },
  {
   "cell_type": "code",
   "execution_count": 109,
   "id": "ec4ca7f0",
   "metadata": {},
   "outputs": [
    {
     "name": "stdout",
     "output_type": "stream",
     "text": [
      "Training MSE: 52214.922186707256\n",
      "Validation MSE: 73768.86378995432\n",
      "Mean Huber Loss: 170.3860502283105\n"
     ]
    }
   ],
   "source": [
    "train_pred = knn_regressor.predict(X_train_scaled)\n",
    "test_pred = knn_regressor.predict(X_test_scaled)\n",
    "\n",
    "from sklearn.metrics import mean_squared_error, r2_score\n",
    "\n",
    "train_mse = mean_squared_error(y_train, train_pred)\n",
    "test_mse = mean_squared_error(y_test, test_pred)\n",
    "\n",
    "print(f'Training MSE: {train_mse}')\n",
    "print(f'Validation MSE: {test_mse}')\n",
    "\n",
    "import tensorflow as tf\n",
    "def huber_loss(y_test, yp_knn, delta = 1.0):\n",
    "    error = y_test - yp_knn\n",
    "    condition = tf.abs(error) < delta\n",
    "    squared_loss = 0.5 * tf.square(error)\n",
    "    linear_loss = delta * (tf.abs(error) - 0.5 * delta)\n",
    "    return tf.where(condition, squared_loss, linear_loss)\n",
    "\n",
    "loss = huber_loss(y_test, yp_knn, delta = 1.0)\n",
    "#print(\"Huber Loss:\", loss.numpy())\n",
    "\n",
    "mean_huber_loss = np.mean(loss)\n",
    "print(f\"Mean Huber Loss: {mean_huber_loss}\")"
   ]
  },
  {
   "cell_type": "markdown",
   "id": "3df8ec02",
   "metadata": {},
   "source": [
    "## overfitting here"
   ]
  },
  {
   "cell_type": "markdown",
   "id": "ec5225f5",
   "metadata": {},
   "source": [
    "## Bagging Regressor KNN"
   ]
  },
  {
   "cell_type": "code",
   "execution_count": 105,
   "id": "a34e3255",
   "metadata": {},
   "outputs": [
    {
     "name": "stdout",
     "output_type": "stream",
     "text": [
      "Mean Squared Error: 69057.48757990867\n",
      "Root Mean Squared Error: 262.7879136868906\n",
      "R-squared: 0.8278121684811622\n",
      "Adjusted R-squared: 0.8254178996767287\n"
     ]
    }
   ],
   "source": [
    "from sklearn.ensemble import BaggingRegressor\n",
    "\n",
    "bagging_regressor = BaggingRegressor(KNeighborsRegressor(n_neighbors = 5), n_estimators = 10, random_state=12)\n",
    "bagging_regressor.fit(X_train_scaled, y_train)\n",
    "\n",
    "\n",
    "yp_knn_bgg = bagging_regressor.predict(X_test_scaled)\n",
    "\n",
    "mse = mean_squared_error(y_test, yp_knn_bgg)\n",
    "mse_r = mean_squared_error(y_test, yp_knn_bgg, squared = False)\n",
    "r2 = r2_score(y_test, yp_knn_bgg)\n",
    "\n",
    "n = len(y_test)\n",
    "k = X_train_scaled.shape[1]  \n",
    "adj_r2 = 1 - ((1 - r2) * (n - 1) / (n - k - 1))\n",
    "\n",
    "print(f'Mean Squared Error: {mse}')\n",
    "print(f'Root Mean Squared Error: {mse_r}')\n",
    "print(f'R-squared: {r2}')\n",
    "print(f'Adjusted R-squared: {adj_r2}')"
   ]
  },
  {
   "cell_type": "code",
   "execution_count": 108,
   "id": "a1dfb6f6",
   "metadata": {},
   "outputs": [
    {
     "data": {
      "text/plain": [
       "0.6742653791048585"
      ]
     },
     "execution_count": 108,
     "metadata": {},
     "output_type": "execute_result"
    }
   ],
   "source": [
    "score_knn_bgg = cross_val_score(BaggingRegressor(KNeighborsRegressor(n_neighbors = 5), n_estimators = 10, random_state=12), \n",
    "                            X_test_scaled, y_test, cv = 5, scoring = 'r2').mean()\n",
    "score_knn_bgg"
   ]
  },
  {
   "cell_type": "code",
   "execution_count": 107,
   "id": "9b79040b",
   "metadata": {},
   "outputs": [
    {
     "name": "stdout",
     "output_type": "stream",
     "text": [
      "Training MSE: 50692.00948361238\n",
      "Validation MSE: 69057.48757990867\n",
      "Mean Huber Loss: 166.08534885844747\n"
     ]
    }
   ],
   "source": [
    "train_pred = bagging_regressor.predict(X_train_scaled)\n",
    "test_pred = bagging_regressor.predict(X_test_scaled)\n",
    "\n",
    "from sklearn.metrics import mean_squared_error, r2_score\n",
    "\n",
    "train_mse = mean_squared_error(y_train, train_pred)\n",
    "test_mse = mean_squared_error(y_test, test_pred)\n",
    "\n",
    "print(f'Training MSE: {train_mse}')\n",
    "print(f'Validation MSE: {test_mse}')\n",
    "\n",
    "import tensorflow as tf\n",
    "def huber_loss(y_test, yp_knn_bgg, delta = 1.0):\n",
    "    error = y_test - yp_knn_bgg\n",
    "    condition = tf.abs(error) < delta\n",
    "    squared_loss = 0.5 * tf.square(error)\n",
    "    linear_loss = delta * (tf.abs(error) - 0.5 * delta)\n",
    "    return tf.where(condition, squared_loss, linear_loss)\n",
    "\n",
    "loss = huber_loss(y_test, yp_knn_bgg, delta = 1.0)\n",
    "#print(\"Huber Loss:\", loss.numpy())\n",
    "\n",
    "mean_huber_loss = np.mean(loss)\n",
    "print(f\"Mean Huber Loss: {mean_huber_loss}\")"
   ]
  },
  {
   "cell_type": "markdown",
   "id": "207ea361",
   "metadata": {},
   "source": [
    "## overfitting here"
   ]
  },
  {
   "cell_type": "markdown",
   "id": "a3e461dc",
   "metadata": {},
   "source": [
    "# Decision Tree"
   ]
  },
  {
   "cell_type": "code",
   "execution_count": 80,
   "id": "3ae0b356",
   "metadata": {},
   "outputs": [],
   "source": [
    "from sklearn.tree import DecisionTreeRegressor"
   ]
  },
  {
   "cell_type": "code",
   "execution_count": 81,
   "id": "3f884de5",
   "metadata": {},
   "outputs": [
    {
     "data": {
      "text/plain": [
       "{'max_depth': 10, 'min_samples_leaf': 1, 'min_samples_split': 10}"
      ]
     },
     "execution_count": 81,
     "metadata": {},
     "output_type": "execute_result"
    }
   ],
   "source": [
    "from sklearn.model_selection import GridSearchCV\n",
    "\n",
    "param_grid = {\n",
    "    'max_depth': [None, 10, 20, 30],\n",
    "    'min_samples_split': [2, 5, 10],\n",
    "    'min_samples_leaf': [1, 2, 4]\n",
    "}\n",
    "\n",
    "grid_search = GridSearchCV(DecisionTreeRegressor(), param_grid, cv = 10, scoring = 'neg_mean_squared_error')\n",
    "grid_search.fit(X_train_scaled, y_train)\n",
    "\n",
    "best_params = grid_search.best_params_\n",
    "best_params"
   ]
  },
  {
   "cell_type": "code",
   "execution_count": 99,
   "id": "ee9064cc",
   "metadata": {},
   "outputs": [
    {
     "name": "stdout",
     "output_type": "stream",
     "text": [
      "Mean Squared Error: 77739.18779481889\n",
      "Root Mean Squared Error: 278.817481149979\n",
      "R-squared: 0.8061652307443637\n",
      "Adjusted R-squared: 0.8034699616469505\n"
     ]
    }
   ],
   "source": [
    "tree_regressor = DecisionTreeRegressor(\n",
    "    max_depth = 10,\n",
    "    min_samples_split = 10,\n",
    "    min_samples_leaf = 1,\n",
    "    random_state = 12\n",
    ")\n",
    "\n",
    "tree_regressor.fit(X_train_scaled, y_train)\n",
    "\n",
    "yp_dt = tree_regressor.predict(X_test_scaled)\n",
    "\n",
    "mse = mean_squared_error(y_test, yp_dt)\n",
    "mse_r = mean_squared_error(y_test, yp_dt, squared = False)\n",
    "r2 = r2_score(y_test, yp_dt)\n",
    "\n",
    "n = len(y_test)\n",
    "k = X_train_scaled.shape[1]  \n",
    "adj_r2 = 1 - ((1 - r2) * (n - 1) / (n - k - 1))\n",
    "\n",
    "print(f'Mean Squared Error: {mse}')\n",
    "print(f'Root Mean Squared Error: {mse_r}')\n",
    "print(f'R-squared: {r2}')\n",
    "print(f'Adjusted R-squared: {adj_r2}')"
   ]
  },
  {
   "cell_type": "code",
   "execution_count": 100,
   "id": "503c2f33",
   "metadata": {},
   "outputs": [
    {
     "data": {
      "text/plain": [
       "0.7015877555424976"
      ]
     },
     "execution_count": 100,
     "metadata": {},
     "output_type": "execute_result"
    }
   ],
   "source": [
    "score_dt = cross_val_score(DecisionTreeRegressor(max_depth = 10, min_samples_split = 10, \n",
    "                                                 min_samples_leaf = 1, random_state = 12), \n",
    "X_test_scaled, y_test, cv = 5, scoring = 'r2').mean()\n",
    "\n",
    "score_dt"
   ]
  },
  {
   "cell_type": "code",
   "execution_count": 101,
   "id": "eeb2b251",
   "metadata": {},
   "outputs": [
    {
     "data": {
      "text/html": [
       "<div>\n",
       "<style scoped>\n",
       "    .dataframe tbody tr th:only-of-type {\n",
       "        vertical-align: middle;\n",
       "    }\n",
       "\n",
       "    .dataframe tbody tr th {\n",
       "        vertical-align: top;\n",
       "    }\n",
       "\n",
       "    .dataframe thead th {\n",
       "        text-align: right;\n",
       "    }\n",
       "</style>\n",
       "<table border=\"1\" class=\"dataframe\">\n",
       "  <thead>\n",
       "    <tr style=\"text-align: right;\">\n",
       "      <th></th>\n",
       "      <th>Actual</th>\n",
       "      <th>Predicted</th>\n",
       "    </tr>\n",
       "  </thead>\n",
       "  <tbody>\n",
       "    <tr>\n",
       "      <th>0</th>\n",
       "      <td>278.0</td>\n",
       "      <td>340.025000</td>\n",
       "    </tr>\n",
       "    <tr>\n",
       "      <th>1</th>\n",
       "      <td>96.0</td>\n",
       "      <td>95.153846</td>\n",
       "    </tr>\n",
       "    <tr>\n",
       "      <th>2</th>\n",
       "      <td>215.0</td>\n",
       "      <td>222.646552</td>\n",
       "    </tr>\n",
       "    <tr>\n",
       "      <th>3</th>\n",
       "      <td>1290.0</td>\n",
       "      <td>1049.590909</td>\n",
       "    </tr>\n",
       "    <tr>\n",
       "      <th>4</th>\n",
       "      <td>165.0</td>\n",
       "      <td>175.277778</td>\n",
       "    </tr>\n",
       "  </tbody>\n",
       "</table>\n",
       "</div>"
      ],
      "text/plain": [
       "   Actual    Predicted\n",
       "0   278.0   340.025000\n",
       "1    96.0    95.153846\n",
       "2   215.0   222.646552\n",
       "3  1290.0  1049.590909\n",
       "4   165.0   175.277778"
      ]
     },
     "execution_count": 101,
     "metadata": {},
     "output_type": "execute_result"
    }
   ],
   "source": [
    "pred_dt = pd.DataFrame({'Actual': y_test, 'Predicted': yp_dt})\n",
    "pred_dt.head()"
   ]
  },
  {
   "cell_type": "code",
   "execution_count": 102,
   "id": "e05c04f7",
   "metadata": {},
   "outputs": [
    {
     "name": "stdout",
     "output_type": "stream",
     "text": [
      "Training MSE: 49107.2471874179\n",
      "Validation MSE: 77739.18779481889\n",
      "Mean Huber Loss: 171.48279566027747\n"
     ]
    }
   ],
   "source": [
    "train_pred = tree_regressor.predict(X_train_scaled)\n",
    "test_pred = tree_regressor.predict(X_test_scaled)\n",
    "\n",
    "from sklearn.metrics import mean_squared_error, r2_score\n",
    "\n",
    "train_mse = mean_squared_error(y_train, train_pred)\n",
    "test_mse = mean_squared_error(y_test, test_pred)\n",
    "\n",
    "print(f'Training MSE: {train_mse}')\n",
    "print(f'Validation MSE: {test_mse}')\n",
    "\n",
    "import tensorflow as tf\n",
    "def huber_loss(y_test, yp_dt, delta = 1.0):\n",
    "    error = y_test - yp_dt\n",
    "    condition = tf.abs(error) < delta\n",
    "    squared_loss = 0.5 * tf.square(error)\n",
    "    linear_loss = delta * (tf.abs(error) - 0.5 * delta)\n",
    "    return tf.where(condition, squared_loss, linear_loss)\n",
    "\n",
    "loss = huber_loss(y_test, yp_dt, delta = 1.0)\n",
    "#print(\"Huber Loss:\", loss.numpy())\n",
    "\n",
    "mean_huber_loss = np.mean(loss)\n",
    "print(f\"Mean Huber Loss: {mean_huber_loss}\")"
   ]
  },
  {
   "cell_type": "markdown",
   "id": "47a91686",
   "metadata": {},
   "source": [
    "## overfitting here"
   ]
  },
  {
   "cell_type": "markdown",
   "id": "8431e836",
   "metadata": {},
   "source": [
    "# Summary"
   ]
  },
  {
   "cell_type": "code",
   "execution_count": 103,
   "id": "112bc5e6",
   "metadata": {},
   "outputs": [
    {
     "name": "stdout",
     "output_type": "stream",
     "text": [
      "R2 LN: 0.5347049423977273\n",
      "R2 LNP2: 0.6763874372444199\n",
      "R2 RP2: 0.6513298641578313\n",
      "R2 RF: 0.880653924115758\n",
      "R2 Report SVM: 0.4539031359088639\n",
      "R2 SVR: 0.6936220396720054\n",
      "R2 KNN: 0.8160648304081041\n",
      "R2 KNN BGG: 0.8202495378911263\n",
      "R2 DT: 0.8061652307443637\n"
     ]
    }
   ],
   "source": [
    "print(\"R2 LN:\", r2_score(y_test, yp_lr))\n",
    "\n",
    "print(\"R2 LNP2:\", r2_score(y_test, yp_p2))\n",
    "\n",
    "print(\"R2 RP2:\", r2_score(y_test, yp_rp2))\n",
    "\n",
    "print(\"R2 RF:\", r2_score(y_test, y_pred_best))\n",
    "\n",
    "print(\"R2 Report SVM:\", r2_score(y_test, yp_svm))\n",
    "\n",
    "print(\"R2 SVR:\", r2_score(y_test, yp_svm_p2))\n",
    "\n",
    "print(\"R2 KNN:\", r2_score(y_test, yp_knn))\n",
    "\n",
    "print(\"R2 KNN BGG:\", r2_score(y_test, yp_knn_bgg))\n",
    "\n",
    "print(\"R2 DT:\", r2_score(y_test, yp_dt))"
   ]
  },
  {
   "cell_type": "code",
   "execution_count": null,
   "id": "543c1b24",
   "metadata": {},
   "outputs": [],
   "source": []
  },
  {
   "cell_type": "markdown",
   "id": "8706c32c",
   "metadata": {},
   "source": [
    "less X \n",
    "- R2 LN: 0.52529649482042\n",
    "- R2 LNP2: 0.6554331060997658\n",
    "- R2 RP2: 0.6213144674255984\n",
    "- R2 RF: 0.8652196621176939\n",
    "- R2 SVM: 0.4251713331905206\n",
    "- R2 SVR: 0.5968790842225762\n",
    "- R2 KNN: 0.8351079076593745\n",
    "- R2 KNN BGG: 0.820196677419755\n",
    "- R2 DT: 0.8123233303297475"
   ]
  },
  {
   "cell_type": "markdown",
   "id": "351d7512",
   "metadata": {},
   "source": [
    "PCA\n",
    "- R2 LN: 0.00026587473278671947\n",
    "- R2 LNP2: -0.016234262458589388\n",
    "- R2 RP2: 4.7678354563984726e-05\n",
    "- R2 RF: -0.0074760565829212755\n",
    "- R2 SVM: -0.08563072443027475\n",
    "- R2 SVR: -0.09217215527709399\n",
    "- R2 KNN: -0.09579557291859575\n",
    "- R2 KNN BGG: -0.18895100097992756\n",
    "- R2 DT: -0.08782161761984697"
   ]
  },
  {
   "cell_type": "code",
   "execution_count": 104,
   "id": "93c77371",
   "metadata": {},
   "outputs": [
    {
     "name": "stdout",
     "output_type": "stream",
     "text": [
      "Cross Validation LN: 0.5174216088198078\n",
      "Cross Validation LNP2: 0.5174216088198078\n",
      "Cross Validation RP2: 0.49492148674357406\n",
      "Cross Validation RF: 0.8167560886424747\n",
      "Cross Validation SVM: 0.2565501411335086\n",
      "Cross Validation SVR: 0.6175871976557368\n",
      "Cross Validation KNN: 0.6744090215394375\n",
      "Cross Validation KNN BGG: 0.6689259348438269\n",
      "Cross Validation DT: 0.7015877555424976\n"
     ]
    }
   ],
   "source": [
    "print(\"Cross Validation LN:\", score_l) #yp_lr\n",
    "\n",
    "print(\"Cross Validation LNP2:\", score_lp2) #yp_p2\n",
    "\n",
    "print(\"Cross Validation RP2:\", score_rp2) #yp_rp2\n",
    "\n",
    "print(\"Cross Validation RF:\", score_rf) #y_pred_best\n",
    "\n",
    "#ANN y_pred\n",
    "\n",
    "print(\"Cross Validation SVM:\", score_svm) #yp_svm\n",
    "\n",
    "print(\"Cross Validation SVR:\", score_svr) #yp_svm_p2\n",
    "\n",
    "print(\"Cross Validation KNN:\", score_knn) #yp_knn\n",
    "\n",
    "print(\"Cross Validation KNN BGG:\", score_knn_bgg)  #yp_knn_bgg\n",
    "\n",
    "print(\"Cross Validation DT:\", score_dt) #yp_dt\n",
    "\n",
    "\n"
   ]
  },
  {
   "cell_type": "code",
   "execution_count": null,
   "id": "87752301",
   "metadata": {},
   "outputs": [],
   "source": []
  },
  {
   "cell_type": "code",
   "execution_count": null,
   "id": "ff844956",
   "metadata": {},
   "outputs": [],
   "source": []
  },
  {
   "cell_type": "code",
   "execution_count": null,
   "id": "cafe00a2",
   "metadata": {},
   "outputs": [],
   "source": []
  },
  {
   "cell_type": "code",
   "execution_count": null,
   "id": "2959e6c5",
   "metadata": {},
   "outputs": [],
   "source": []
  },
  {
   "cell_type": "code",
   "execution_count": null,
   "id": "f9ef0b3f",
   "metadata": {},
   "outputs": [],
   "source": []
  },
  {
   "cell_type": "code",
   "execution_count": null,
   "id": "15adf5e0",
   "metadata": {},
   "outputs": [],
   "source": []
  }
 ],
 "metadata": {
  "kernelspec": {
   "display_name": "Python 3 (ipykernel)",
   "language": "python",
   "name": "python3"
  },
  "language_info": {
   "codemirror_mode": {
    "name": "ipython",
    "version": 3
   },
   "file_extension": ".py",
   "mimetype": "text/x-python",
   "name": "python",
   "nbconvert_exporter": "python",
   "pygments_lexer": "ipython3",
   "version": "3.11.5"
  }
 },
 "nbformat": 4,
 "nbformat_minor": 5
}
