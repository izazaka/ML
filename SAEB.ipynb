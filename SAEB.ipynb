{
 "cells": [
  {
   "cell_type": "markdown",
   "id": "ad7dc505",
   "metadata": {},
   "source": [
    "## Libraries"
   ]
  },
  {
   "cell_type": "code",
   "execution_count": 42,
   "id": "f754a870",
   "metadata": {},
   "outputs": [],
   "source": [
    "%matplotlib inline\n",
    "\n",
    "import pandas as pd\n",
    "\n",
    "import numpy as np\n",
    "\n",
    "import matplotlib.pyplot as plt\n",
    "\n",
    "import seaborn as sns\n",
    "\n",
    "from sklearn.cluster import KMeans\n",
    "\n",
    "from sklearn.impute import KNNImputer\n",
    "\n",
    "from sklearn.preprocessing import StandardScaler\n",
    "\n",
    "from sklearn.preprocessing import Normalizer \n",
    "\n",
    "from sklearn.metrics import silhouette_score as ss\n",
    "\n",
    "from sklearn_extra.cluster import KMedoids\n",
    "\n",
    "import scipy.cluster.hierarchy as sch\n",
    "\n",
    "from sklearn.cluster import AgglomerativeClustering\n",
    "\n",
    "from sklearn.cluster import DBSCAN\n",
    "\n",
    "import plotly.express as px\n",
    "\n",
    "import itertools\n",
    "\n",
    "from matplotlib import gridspec \n",
    "\n",
    "from sklearn.cluster import OPTICS, cluster_optics_dbscan \n",
    "\n",
    "from fcmeans import FCM\n",
    "\n",
    "from sklearn.datasets import make_blobs\n",
    "\n",
    "from seaborn import scatterplot as scatter\n"
   ]
  },
  {
   "cell_type": "code",
   "execution_count": 31,
   "id": "66426abe",
   "metadata": {},
   "outputs": [],
   "source": [
    "saeb = pd.read_csv(\"saeb2021.csv\")"
   ]
  },
  {
   "cell_type": "code",
   "execution_count": 32,
   "id": "b2b561e5",
   "metadata": {},
   "outputs": [
    {
     "data": {
      "text/html": [
       "<div>\n",
       "<style scoped>\n",
       "    .dataframe tbody tr th:only-of-type {\n",
       "        vertical-align: middle;\n",
       "    }\n",
       "\n",
       "    .dataframe tbody tr th {\n",
       "        vertical-align: top;\n",
       "    }\n",
       "\n",
       "    .dataframe thead th {\n",
       "        text-align: right;\n",
       "    }\n",
       "</style>\n",
       "<table border=\"1\" class=\"dataframe\">\n",
       "  <thead>\n",
       "    <tr style=\"text-align: right;\">\n",
       "      <th></th>\n",
       "      <th>Sigla da UF</th>\n",
       "      <th>Rede</th>\n",
       "      <th>TX_Apro</th>\n",
       "      <th>Indicador de Rendimento (P)</th>\n",
       "      <th>SAEB_M</th>\n",
       "      <th>SAEB_P</th>\n",
       "      <th>Nota Média Padronizada (N)</th>\n",
       "      <th>IDEB\\n2021\\n(N x P)</th>\n",
       "    </tr>\n",
       "  </thead>\n",
       "  <tbody>\n",
       "    <tr>\n",
       "      <th>0</th>\n",
       "      <td>NaN</td>\n",
       "      <td>NaN</td>\n",
       "      <td>NaN</td>\n",
       "      <td>NaN</td>\n",
       "      <td>NaN</td>\n",
       "      <td>NaN</td>\n",
       "      <td>NaN</td>\n",
       "      <td>NaN</td>\n",
       "    </tr>\n",
       "    <tr>\n",
       "      <th>1</th>\n",
       "      <td>NaN</td>\n",
       "      <td>NaN</td>\n",
       "      <td>NaN</td>\n",
       "      <td>NaN</td>\n",
       "      <td>NaN</td>\n",
       "      <td>NaN</td>\n",
       "      <td>NaN</td>\n",
       "      <td>NaN</td>\n",
       "    </tr>\n",
       "    <tr>\n",
       "      <th>2</th>\n",
       "      <td>SG_UF</td>\n",
       "      <td>REDE</td>\n",
       "      <td>VL_APROVACAO_2021_SI_4</td>\n",
       "      <td>VL_INDICADOR_REND_2021</td>\n",
       "      <td>VL_NOTA_MATEMATICA_2021</td>\n",
       "      <td>VL_NOTA_PORTUGUES_2021</td>\n",
       "      <td>VL_NOTA_MEDIA_2021</td>\n",
       "      <td>VL_OBSERVADO_2021</td>\n",
       "    </tr>\n",
       "    <tr>\n",
       "      <th>3</th>\n",
       "      <td>RO</td>\n",
       "      <td>Municipal</td>\n",
       "      <td>100.0</td>\n",
       "      <td>1.00</td>\n",
       "      <td>ND</td>\n",
       "      <td>ND</td>\n",
       "      <td>-</td>\n",
       "      <td>-</td>\n",
       "    </tr>\n",
       "    <tr>\n",
       "      <th>4</th>\n",
       "      <td>RO</td>\n",
       "      <td>Estadual</td>\n",
       "      <td>-</td>\n",
       "      <td>-</td>\n",
       "      <td>-</td>\n",
       "      <td>-</td>\n",
       "      <td>-</td>\n",
       "      <td>-</td>\n",
       "    </tr>\n",
       "    <tr>\n",
       "      <th>5</th>\n",
       "      <td>RO</td>\n",
       "      <td>Municipal</td>\n",
       "      <td>98.7</td>\n",
       "      <td>0.99</td>\n",
       "      <td>ND</td>\n",
       "      <td>ND</td>\n",
       "      <td>-</td>\n",
       "      <td>-</td>\n",
       "    </tr>\n",
       "    <tr>\n",
       "      <th>6</th>\n",
       "      <td>RO</td>\n",
       "      <td>Municipal</td>\n",
       "      <td>-</td>\n",
       "      <td>-</td>\n",
       "      <td>-</td>\n",
       "      <td>-</td>\n",
       "      <td>-</td>\n",
       "      <td>-</td>\n",
       "    </tr>\n",
       "    <tr>\n",
       "      <th>7</th>\n",
       "      <td>RO</td>\n",
       "      <td>Estadual</td>\n",
       "      <td>96.8</td>\n",
       "      <td>0.97</td>\n",
       "      <td>258.05</td>\n",
       "      <td>272.48</td>\n",
       "      <td>5.51</td>\n",
       "      <td>5.3</td>\n",
       "    </tr>\n",
       "    <tr>\n",
       "      <th>8</th>\n",
       "      <td>RO</td>\n",
       "      <td>Municipal</td>\n",
       "      <td>-</td>\n",
       "      <td>-</td>\n",
       "      <td>-</td>\n",
       "      <td>-</td>\n",
       "      <td>-</td>\n",
       "      <td>-</td>\n",
       "    </tr>\n",
       "    <tr>\n",
       "      <th>9</th>\n",
       "      <td>RO</td>\n",
       "      <td>Municipal</td>\n",
       "      <td>-</td>\n",
       "      <td>-</td>\n",
       "      <td>-</td>\n",
       "      <td>-</td>\n",
       "      <td>-</td>\n",
       "      <td>-</td>\n",
       "    </tr>\n",
       "  </tbody>\n",
       "</table>\n",
       "</div>"
      ],
      "text/plain": [
       "  Sigla da UF       Rede                 TX_Apro Indicador de Rendimento (P)  \\\n",
       "0         NaN        NaN                     NaN                         NaN   \n",
       "1         NaN        NaN                     NaN                         NaN   \n",
       "2       SG_UF       REDE  VL_APROVACAO_2021_SI_4      VL_INDICADOR_REND_2021   \n",
       "3          RO  Municipal                   100.0                        1.00   \n",
       "4          RO   Estadual                       -                           -   \n",
       "5          RO  Municipal                    98.7                        0.99   \n",
       "6          RO  Municipal                       -                           -   \n",
       "7          RO   Estadual                    96.8                        0.97   \n",
       "8          RO  Municipal                       -                           -   \n",
       "9          RO  Municipal                       -                           -   \n",
       "\n",
       "                    SAEB_M                  SAEB_P Nota Média Padronizada (N)  \\\n",
       "0                      NaN                     NaN                        NaN   \n",
       "1                      NaN                     NaN                        NaN   \n",
       "2  VL_NOTA_MATEMATICA_2021  VL_NOTA_PORTUGUES_2021         VL_NOTA_MEDIA_2021   \n",
       "3                       ND                      ND                          -   \n",
       "4                        -                       -                          -   \n",
       "5                       ND                      ND                          -   \n",
       "6                        -                       -                          -   \n",
       "7                   258.05                  272.48                       5.51   \n",
       "8                        -                       -                          -   \n",
       "9                        -                       -                          -   \n",
       "\n",
       "  IDEB\\n2021\\n(N x P)  \n",
       "0                 NaN  \n",
       "1                 NaN  \n",
       "2   VL_OBSERVADO_2021  \n",
       "3                   -  \n",
       "4                   -  \n",
       "5                   -  \n",
       "6                   -  \n",
       "7                 5.3  \n",
       "8                   -  \n",
       "9                   -  "
      ]
     },
     "execution_count": 32,
     "metadata": {},
     "output_type": "execute_result"
    }
   ],
   "source": [
    "saeb.head(10)"
   ]
  },
  {
   "cell_type": "code",
   "execution_count": 34,
   "id": "c8a4eec5",
   "metadata": {},
   "outputs": [
    {
     "name": "stdout",
     "output_type": "stream",
     "text": [
      "<class 'pandas.core.frame.DataFrame'>\n",
      "RangeIndex: 46253 entries, 0 to 46252\n",
      "Data columns (total 8 columns):\n",
      " #   Column                       Non-Null Count  Dtype \n",
      "---  ------                       --------------  ----- \n",
      " 0   Sigla da UF                  46250 non-null  object\n",
      " 1   Rede                         46248 non-null  object\n",
      " 2   TX_Apro                      46248 non-null  object\n",
      " 3   Indicador de Rendimento (P)  46248 non-null  object\n",
      " 4   SAEB_M                       46248 non-null  object\n",
      " 5   SAEB_P                       46248 non-null  object\n",
      " 6   Nota Média Padronizada (N)   46248 non-null  object\n",
      " 7   IDEB\n",
      "2021\n",
      "(N x P)            46248 non-null  object\n",
      "dtypes: object(8)\n",
      "memory usage: 2.8+ MB\n"
     ]
    }
   ],
   "source": [
    "saeb.info()"
   ]
  },
  {
   "cell_type": "code",
   "execution_count": 35,
   "id": "459a0774",
   "metadata": {},
   "outputs": [
    {
     "data": {
      "text/plain": [
       "Sigla da UF                    3\n",
       "Rede                           5\n",
       "TX_Apro                        5\n",
       "Indicador de Rendimento (P)    5\n",
       "SAEB_M                         5\n",
       "SAEB_P                         5\n",
       "Nota Média Padronizada (N)     5\n",
       "IDEB\\n2021\\n(N x P)            5\n",
       "dtype: int64"
      ]
     },
     "execution_count": 35,
     "metadata": {},
     "output_type": "execute_result"
    }
   ],
   "source": [
    "saeb.isnull().sum()"
   ]
  },
  {
   "cell_type": "code",
   "execution_count": 23,
   "id": "c0c1794b",
   "metadata": {},
   "outputs": [],
   "source": [
    "miss_vals = [\"NaN\", \"ND\", \"-\"]"
   ]
  },
  {
   "cell_type": "code",
   "execution_count": 37,
   "id": "01962edf",
   "metadata": {},
   "outputs": [],
   "source": [
    "saeb = pd.read_csv(\"saeb2021.csv\", na_values = miss_vals)"
   ]
  },
  {
   "cell_type": "code",
   "execution_count": 38,
   "id": "66b5f355",
   "metadata": {},
   "outputs": [
    {
     "name": "stdout",
     "output_type": "stream",
     "text": [
      "<class 'pandas.core.frame.DataFrame'>\n",
      "RangeIndex: 46253 entries, 0 to 46252\n",
      "Data columns (total 8 columns):\n",
      " #   Column                       Non-Null Count  Dtype \n",
      "---  ------                       --------------  ----- \n",
      " 0   Sigla da UF                  46250 non-null  object\n",
      " 1   Rede                         46248 non-null  object\n",
      " 2   TX_Apro                      35164 non-null  object\n",
      " 3   Indicador de Rendimento (P)  35164 non-null  object\n",
      " 4   SAEB_M                       22219 non-null  object\n",
      " 5   SAEB_P                       22219 non-null  object\n",
      " 6   Nota Média Padronizada (N)   22219 non-null  object\n",
      " 7   IDEB\n",
      "2021\n",
      "(N x P)            22213 non-null  object\n",
      "dtypes: object(8)\n",
      "memory usage: 2.8+ MB\n"
     ]
    }
   ],
   "source": [
    "saeb.info()"
   ]
  },
  {
   "cell_type": "code",
   "execution_count": 39,
   "id": "5585d2ed",
   "metadata": {},
   "outputs": [],
   "source": [
    "saeb = saeb.dropna(axis = 0)"
   ]
  },
  {
   "cell_type": "code",
   "execution_count": 40,
   "id": "9994a393",
   "metadata": {},
   "outputs": [
    {
     "name": "stdout",
     "output_type": "stream",
     "text": [
      "<class 'pandas.core.frame.DataFrame'>\n",
      "Index: 22213 entries, 2 to 46249\n",
      "Data columns (total 8 columns):\n",
      " #   Column                       Non-Null Count  Dtype \n",
      "---  ------                       --------------  ----- \n",
      " 0   Sigla da UF                  22213 non-null  object\n",
      " 1   Rede                         22213 non-null  object\n",
      " 2   TX_Apro                      22213 non-null  object\n",
      " 3   Indicador de Rendimento (P)  22213 non-null  object\n",
      " 4   SAEB_M                       22213 non-null  object\n",
      " 5   SAEB_P                       22213 non-null  object\n",
      " 6   Nota Média Padronizada (N)   22213 non-null  object\n",
      " 7   IDEB\n",
      "2021\n",
      "(N x P)            22213 non-null  object\n",
      "dtypes: object(8)\n",
      "memory usage: 1.5+ MB\n"
     ]
    }
   ],
   "source": [
    "saeb.info()"
   ]
  },
  {
   "cell_type": "code",
   "execution_count": 41,
   "id": "62bb8a7f",
   "metadata": {},
   "outputs": [
    {
     "data": {
      "text/html": [
       "<div>\n",
       "<style scoped>\n",
       "    .dataframe tbody tr th:only-of-type {\n",
       "        vertical-align: middle;\n",
       "    }\n",
       "\n",
       "    .dataframe tbody tr th {\n",
       "        vertical-align: top;\n",
       "    }\n",
       "\n",
       "    .dataframe thead th {\n",
       "        text-align: right;\n",
       "    }\n",
       "</style>\n",
       "<table border=\"1\" class=\"dataframe\">\n",
       "  <thead>\n",
       "    <tr style=\"text-align: right;\">\n",
       "      <th></th>\n",
       "      <th>Sigla da UF</th>\n",
       "      <th>Rede</th>\n",
       "      <th>TX_Apro</th>\n",
       "      <th>Indicador de Rendimento (P)</th>\n",
       "      <th>SAEB_M</th>\n",
       "      <th>SAEB_P</th>\n",
       "      <th>Nota Média Padronizada (N)</th>\n",
       "      <th>IDEB\\n2021\\n(N x P)</th>\n",
       "    </tr>\n",
       "  </thead>\n",
       "  <tbody>\n",
       "    <tr>\n",
       "      <th>46238</th>\n",
       "      <td>DF</td>\n",
       "      <td>Estadual</td>\n",
       "      <td>94.7</td>\n",
       "      <td>0.95</td>\n",
       "      <td>239.31</td>\n",
       "      <td>235.75</td>\n",
       "      <td>4.58</td>\n",
       "      <td>4.4</td>\n",
       "    </tr>\n",
       "    <tr>\n",
       "      <th>46240</th>\n",
       "      <td>DF</td>\n",
       "      <td>Estadual</td>\n",
       "      <td>93.9</td>\n",
       "      <td>0.95</td>\n",
       "      <td>259.99</td>\n",
       "      <td>270.43</td>\n",
       "      <td>5.51</td>\n",
       "      <td>5.2</td>\n",
       "    </tr>\n",
       "    <tr>\n",
       "      <th>46245</th>\n",
       "      <td>DF</td>\n",
       "      <td>Estadual</td>\n",
       "      <td>98.4</td>\n",
       "      <td>0.99</td>\n",
       "      <td>258.07</td>\n",
       "      <td>256.03</td>\n",
       "      <td>5.24</td>\n",
       "      <td>5.2</td>\n",
       "    </tr>\n",
       "    <tr>\n",
       "      <th>46246</th>\n",
       "      <td>DF</td>\n",
       "      <td>Estadual</td>\n",
       "      <td>96.2</td>\n",
       "      <td>0.96</td>\n",
       "      <td>245.02</td>\n",
       "      <td>256.19</td>\n",
       "      <td>5.02</td>\n",
       "      <td>4.8</td>\n",
       "    </tr>\n",
       "    <tr>\n",
       "      <th>46249</th>\n",
       "      <td>DF</td>\n",
       "      <td>Estadual</td>\n",
       "      <td>93.6</td>\n",
       "      <td>0.94</td>\n",
       "      <td>250.47</td>\n",
       "      <td>251.39</td>\n",
       "      <td>5.03</td>\n",
       "      <td>4.7</td>\n",
       "    </tr>\n",
       "  </tbody>\n",
       "</table>\n",
       "</div>"
      ],
      "text/plain": [
       "      Sigla da UF      Rede TX_Apro Indicador de Rendimento (P)  SAEB_M  \\\n",
       "46238          DF  Estadual    94.7                        0.95  239.31   \n",
       "46240          DF  Estadual    93.9                        0.95  259.99   \n",
       "46245          DF  Estadual    98.4                        0.99  258.07   \n",
       "46246          DF  Estadual    96.2                        0.96  245.02   \n",
       "46249          DF  Estadual    93.6                        0.94  250.47   \n",
       "\n",
       "       SAEB_P Nota Média Padronizada (N) IDEB\\n2021\\n(N x P)  \n",
       "46238  235.75                       4.58                 4.4  \n",
       "46240  270.43                       5.51                 5.2  \n",
       "46245  256.03                       5.24                 5.2  \n",
       "46246  256.19                       5.02                 4.8  \n",
       "46249  251.39                       5.03                 4.7  "
      ]
     },
     "execution_count": 41,
     "metadata": {},
     "output_type": "execute_result"
    }
   ],
   "source": [
    "saeb.tail()"
   ]
  },
  {
   "cell_type": "code",
   "execution_count": 43,
   "id": "bf464901",
   "metadata": {},
   "outputs": [
    {
     "data": {
      "text/plain": [
       "array(['REDE', 'Estadual', 'Municipal', 'Federal'], dtype=object)"
      ]
     },
     "execution_count": 43,
     "metadata": {},
     "output_type": "execute_result"
    }
   ],
   "source": [
    "saeb[\"Rede\"].unique()"
   ]
  },
  {
   "cell_type": "code",
   "execution_count": 44,
   "id": "fd445dd2",
   "metadata": {},
   "outputs": [
    {
     "data": {
      "text/plain": [
       "Rede\n",
       "Municipal    11818\n",
       "Estadual     10385\n",
       "Federal          9\n",
       "REDE             1\n",
       "Name: count, dtype: int64"
      ]
     },
     "execution_count": 44,
     "metadata": {},
     "output_type": "execute_result"
    }
   ],
   "source": [
    "saeb[\"Rede\"].value_counts()"
   ]
  },
  {
   "cell_type": "code",
   "execution_count": 45,
   "id": "4536300d",
   "metadata": {},
   "outputs": [],
   "source": [
    "saeb[\"rede_b\"] = saeb[\"Rede\"].map(lambda x: 0 if x == \"Estadual\" else (1 if x == \"Municipal\" else 2))"
   ]
  },
  {
   "cell_type": "code",
   "execution_count": 48,
   "id": "c2f78487",
   "metadata": {},
   "outputs": [
    {
     "data": {
      "text/plain": [
       "rede_b\n",
       "1    11818\n",
       "0    10385\n",
       "2       10\n",
       "Name: count, dtype: int64"
      ]
     },
     "execution_count": 48,
     "metadata": {},
     "output_type": "execute_result"
    }
   ],
   "source": [
    "saeb[\"rede_b\"].value_counts()"
   ]
  },
  {
   "cell_type": "code",
   "execution_count": 49,
   "id": "13c6d13d",
   "metadata": {},
   "outputs": [
    {
     "data": {
      "text/html": [
       "<div>\n",
       "<style scoped>\n",
       "    .dataframe tbody tr th:only-of-type {\n",
       "        vertical-align: middle;\n",
       "    }\n",
       "\n",
       "    .dataframe tbody tr th {\n",
       "        vertical-align: top;\n",
       "    }\n",
       "\n",
       "    .dataframe thead th {\n",
       "        text-align: right;\n",
       "    }\n",
       "</style>\n",
       "<table border=\"1\" class=\"dataframe\">\n",
       "  <thead>\n",
       "    <tr style=\"text-align: right;\">\n",
       "      <th></th>\n",
       "      <th>Sigla da UF</th>\n",
       "      <th>Rede</th>\n",
       "      <th>TX_Apro</th>\n",
       "      <th>Indicador de Rendimento (P)</th>\n",
       "      <th>SAEB_M</th>\n",
       "      <th>SAEB_P</th>\n",
       "      <th>Nota Média Padronizada (N)</th>\n",
       "      <th>IDEB\\n2021\\n(N x P)</th>\n",
       "      <th>rede_b</th>\n",
       "    </tr>\n",
       "  </thead>\n",
       "  <tbody>\n",
       "    <tr>\n",
       "      <th>2</th>\n",
       "      <td>SG_UF</td>\n",
       "      <td>REDE</td>\n",
       "      <td>VL_APROVACAO_2021_SI_4</td>\n",
       "      <td>VL_INDICADOR_REND_2021</td>\n",
       "      <td>VL_NOTA_MATEMATICA_2021</td>\n",
       "      <td>VL_NOTA_PORTUGUES_2021</td>\n",
       "      <td>VL_NOTA_MEDIA_2021</td>\n",
       "      <td>VL_OBSERVADO_2021</td>\n",
       "      <td>2</td>\n",
       "    </tr>\n",
       "  </tbody>\n",
       "</table>\n",
       "</div>"
      ],
      "text/plain": [
       "  Sigla da UF  Rede                 TX_Apro Indicador de Rendimento (P)  \\\n",
       "2       SG_UF  REDE  VL_APROVACAO_2021_SI_4      VL_INDICADOR_REND_2021   \n",
       "\n",
       "                    SAEB_M                  SAEB_P Nota Média Padronizada (N)  \\\n",
       "2  VL_NOTA_MATEMATICA_2021  VL_NOTA_PORTUGUES_2021         VL_NOTA_MEDIA_2021   \n",
       "\n",
       "  IDEB\\n2021\\n(N x P)  rede_b  \n",
       "2   VL_OBSERVADO_2021       2  "
      ]
     },
     "execution_count": 49,
     "metadata": {},
     "output_type": "execute_result"
    }
   ],
   "source": [
    "saeb.head(1)"
   ]
  },
  {
   "cell_type": "code",
   "execution_count": 53,
   "id": "0eccd373",
   "metadata": {},
   "outputs": [],
   "source": [
    "saeb_m = saeb.loc[saeb[\"rede_b\"] != 2, [\"rede_b\", \"TX_Apro\", \"SAEB_M\",]]"
   ]
  },
  {
   "cell_type": "code",
   "execution_count": 54,
   "id": "ca38694f",
   "metadata": {},
   "outputs": [
    {
     "data": {
      "text/html": [
       "<div>\n",
       "<style scoped>\n",
       "    .dataframe tbody tr th:only-of-type {\n",
       "        vertical-align: middle;\n",
       "    }\n",
       "\n",
       "    .dataframe tbody tr th {\n",
       "        vertical-align: top;\n",
       "    }\n",
       "\n",
       "    .dataframe thead th {\n",
       "        text-align: right;\n",
       "    }\n",
       "</style>\n",
       "<table border=\"1\" class=\"dataframe\">\n",
       "  <thead>\n",
       "    <tr style=\"text-align: right;\">\n",
       "      <th></th>\n",
       "      <th>rede_b</th>\n",
       "      <th>TX_Apro</th>\n",
       "      <th>SAEB_M</th>\n",
       "    </tr>\n",
       "  </thead>\n",
       "  <tbody>\n",
       "    <tr>\n",
       "      <th>7</th>\n",
       "      <td>0</td>\n",
       "      <td>96.8</td>\n",
       "      <td>258.05</td>\n",
       "    </tr>\n",
       "  </tbody>\n",
       "</table>\n",
       "</div>"
      ],
      "text/plain": [
       "   rede_b TX_Apro  SAEB_M\n",
       "7       0    96.8  258.05"
      ]
     },
     "execution_count": 54,
     "metadata": {},
     "output_type": "execute_result"
    }
   ],
   "source": [
    "saeb_m.head(1)"
   ]
  },
  {
   "cell_type": "code",
   "execution_count": 56,
   "id": "11d18057",
   "metadata": {},
   "outputs": [
    {
     "name": "stderr",
     "output_type": "stream",
     "text": [
      "/Users/izaiaszacca/anaconda3/lib/python3.11/site-packages/seaborn/_oldcore.py:1119: FutureWarning: use_inf_as_na option is deprecated and will be removed in a future version. Convert inf values to NaN before operating instead.\n",
      "  with pd.option_context('mode.use_inf_as_na', True):\n"
     ]
    },
    {
     "data": {
      "text/plain": [
       "<Axes: xlabel='SAEB_M', ylabel='Count'>"
      ]
     },
     "execution_count": 56,
     "metadata": {},
     "output_type": "execute_result"
    },
    {
     "data": {
      "image/png": "[encoded data removed]",
      "text/plain": [
       "<Figure size 640x480 with 1 Axes>"
      ]
     },
     "metadata": {},
     "output_type": "display_data"
    }
   ],
   "source": [
    "sns.histplot(data = saeb_m, x = \"SAEB_M\", bins = 20)"
   ]
  },
  {
   "cell_type": "markdown",
   "id": "303974cf",
   "metadata": {},
   "source": [
    "### Standardise"
   ]
  },
  {
   "cell_type": "code",
   "execution_count": 57,
   "id": "3a857493",
   "metadata": {},
   "outputs": [
    {
     "data": {
      "text/html": [
       "<div>\n",
       "<style scoped>\n",
       "    .dataframe tbody tr th:only-of-type {\n",
       "        vertical-align: middle;\n",
       "    }\n",
       "\n",
       "    .dataframe tbody tr th {\n",
       "        vertical-align: top;\n",
       "    }\n",
       "\n",
       "    .dataframe thead th {\n",
       "        text-align: right;\n",
       "    }\n",
       "</style>\n",
       "<table border=\"1\" class=\"dataframe\">\n",
       "  <thead>\n",
       "    <tr style=\"text-align: right;\">\n",
       "      <th></th>\n",
       "      <th>rede_b</th>\n",
       "      <th>TX_Apro</th>\n",
       "      <th>SAEB_M</th>\n",
       "    </tr>\n",
       "  </thead>\n",
       "  <tbody>\n",
       "    <tr>\n",
       "      <th>7</th>\n",
       "      <td>0</td>\n",
       "      <td>96.8</td>\n",
       "      <td>258.05</td>\n",
       "    </tr>\n",
       "  </tbody>\n",
       "</table>\n",
       "</div>"
      ],
      "text/plain": [
       "   rede_b TX_Apro  SAEB_M\n",
       "7       0    96.8  258.05"
      ]
     },
     "execution_count": 57,
     "metadata": {},
     "output_type": "execute_result"
    }
   ],
   "source": [
    "saeb_m.head(1)"
   ]
  },
  {
   "cell_type": "code",
   "execution_count": 59,
   "id": "8efc6c7b",
   "metadata": {},
   "outputs": [],
   "source": [
    "scaler = StandardScaler()"
   ]
  },
  {
   "cell_type": "code",
   "execution_count": 60,
   "id": "a80aa41f",
   "metadata": {},
   "outputs": [],
   "source": [
    "saeb_m[[\"TX_Apro_T\", \"SAEB_T\" ]] = scaler.fit_transform(\n",
    "saeb_m[[\"TX_Apro\", \"SAEB_M\" ]])"
   ]
  },
  {
   "cell_type": "code",
   "execution_count": null,
   "id": "952b32fd",
   "metadata": {},
   "outputs": [],
   "source": []
  }
 ],
 "metadata": {
  "kernelspec": {
   "display_name": "Python 3 (ipykernel)",
   "language": "python",
   "name": "python3"
  },
  "language_info": {
   "codemirror_mode": {
    "name": "ipython",
    "version": 3
   },
   "file_extension": ".py",
   "mimetype": "text/x-python",
   "name": "python",
   "nbconvert_exporter": "python",
   "pygments_lexer": "ipython3",
   "version": "3.11.5"
  }
 },
 "nbformat": 4,
 "nbformat_minor": 5
}
