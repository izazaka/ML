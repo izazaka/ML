{
 "cells": [
  {
   "cell_type": "markdown",
   "id": "00fd4389",
   "metadata": {},
   "source": [
    "# Librabries "
   ]
  },
  {
   "cell_type": "code",
   "execution_count": 1,
   "id": "6d9355bf",
   "metadata": {},
   "outputs": [],
   "source": [
    "%matplotlib inline\n",
    "\n",
    "import pandas as pd\n",
    "\n",
    "import numpy as np\n",
    "\n",
    "import matplotlib.pyplot as plt\n",
    "\n",
    "import seaborn as sns\n",
    "\n",
    "from sklearn.model_selection import train_test_split, cross_val_score\n",
    "\n",
    "from sklearn import metrics\n",
    "\n",
    "from sklearn.preprocessing import MinMaxScaler\n",
    "\n",
    "from sklearn.metrics import mean_squared_error, r2_score\n",
    "\n",
    "from sklearn.metrics import classification_report\n",
    "\n",
    "from sklearn.metrics import accuracy_score\n",
    "\n",
    "from sklearn.model_selection import cross_val_score"
   ]
  },
  {
   "cell_type": "markdown",
   "id": "a23f5879",
   "metadata": {},
   "source": []
  },
  {
   "cell_type": "markdown",
   "id": "3651eb2d",
   "metadata": {},
   "source": [
    "# EDA"
   ]
  },
  {
   "cell_type": "code",
   "execution_count": 2,
   "id": "d0a7ffb6",
   "metadata": {},
   "outputs": [],
   "source": [
    "bike = pd.read_csv(\"Seoul_Bike.csv\")"
   ]
  },
  {
   "cell_type": "markdown",
   "id": "928b9638",
   "metadata": {},
   "source": [
    "DOI\n",
    "10.24432/C5F62R\n",
    "License\n",
    "This dataset is licensed under a Creative Commons Attribution 4.0 International (CC BY 4.0) license.\n",
    "This allows for the sharing and adaptation of the datasets for any purpose, provided that the appropriate credit is given.\n",
    "\n",
    "https://archive.ics.uci.edu/dataset/560/seoul+bike+sharing+demand\n"
   ]
  },
  {
   "cell_type": "markdown",
   "id": "e3319d90",
   "metadata": {},
   "source": [
    "@misc{misc_seoul_bike_sharing_demand_560,\n",
    "  title        = {{Seoul Bike Sharing Demand}},\n",
    "  year         = {2020},\n",
    "  howpublished = {UCI Machine Learning Repository},\n",
    "  note         = {{DOI}: https://doi.org/10.24432/C5F62R}\n",
    "}"
   ]
  },
  {
   "cell_type": "code",
   "execution_count": 3,
   "id": "0a3114db",
   "metadata": {},
   "outputs": [
    {
     "data": {
      "text/html": [
       "<div>\n",
       "<style scoped>\n",
       "    .dataframe tbody tr th:only-of-type {\n",
       "        vertical-align: middle;\n",
       "    }\n",
       "\n",
       "    .dataframe tbody tr th {\n",
       "        vertical-align: top;\n",
       "    }\n",
       "\n",
       "    .dataframe thead th {\n",
       "        text-align: right;\n",
       "    }\n",
       "</style>\n",
       "<table border=\"1\" class=\"dataframe\">\n",
       "  <thead>\n",
       "    <tr style=\"text-align: right;\">\n",
       "      <th></th>\n",
       "      <th>Date</th>\n",
       "      <th>Rented Bike Count</th>\n",
       "      <th>Hour</th>\n",
       "      <th>Temperature(°C)</th>\n",
       "      <th>Humidity(%)</th>\n",
       "      <th>Wind speed (m/s)</th>\n",
       "      <th>Visibility (10m)</th>\n",
       "      <th>Dew point temperature(°C)</th>\n",
       "      <th>Solar Radiation (MJ/m2)</th>\n",
       "      <th>Rainfall(mm)</th>\n",
       "      <th>Snowfall (cm)</th>\n",
       "      <th>Seasons</th>\n",
       "      <th>Holiday</th>\n",
       "      <th>Functioning Day</th>\n",
       "    </tr>\n",
       "  </thead>\n",
       "  <tbody>\n",
       "    <tr>\n",
       "      <th>0</th>\n",
       "      <td>01/12/2017</td>\n",
       "      <td>254</td>\n",
       "      <td>0</td>\n",
       "      <td>-5.2</td>\n",
       "      <td>37</td>\n",
       "      <td>2.2</td>\n",
       "      <td>2000</td>\n",
       "      <td>-17.6</td>\n",
       "      <td>0.0</td>\n",
       "      <td>0.0</td>\n",
       "      <td>0.0</td>\n",
       "      <td>Winter</td>\n",
       "      <td>No Holiday</td>\n",
       "      <td>Yes</td>\n",
       "    </tr>\n",
       "    <tr>\n",
       "      <th>1</th>\n",
       "      <td>01/12/2017</td>\n",
       "      <td>204</td>\n",
       "      <td>1</td>\n",
       "      <td>-5.5</td>\n",
       "      <td>38</td>\n",
       "      <td>0.8</td>\n",
       "      <td>2000</td>\n",
       "      <td>-17.6</td>\n",
       "      <td>0.0</td>\n",
       "      <td>0.0</td>\n",
       "      <td>0.0</td>\n",
       "      <td>Winter</td>\n",
       "      <td>No Holiday</td>\n",
       "      <td>Yes</td>\n",
       "    </tr>\n",
       "    <tr>\n",
       "      <th>2</th>\n",
       "      <td>01/12/2017</td>\n",
       "      <td>173</td>\n",
       "      <td>2</td>\n",
       "      <td>-6.0</td>\n",
       "      <td>39</td>\n",
       "      <td>1.0</td>\n",
       "      <td>2000</td>\n",
       "      <td>-17.7</td>\n",
       "      <td>0.0</td>\n",
       "      <td>0.0</td>\n",
       "      <td>0.0</td>\n",
       "      <td>Winter</td>\n",
       "      <td>No Holiday</td>\n",
       "      <td>Yes</td>\n",
       "    </tr>\n",
       "  </tbody>\n",
       "</table>\n",
       "</div>"
      ],
      "text/plain": [
       "         Date  Rented Bike Count  Hour  Temperature(°C)  Humidity(%)  \\\n",
       "0  01/12/2017                254     0             -5.2           37   \n",
       "1  01/12/2017                204     1             -5.5           38   \n",
       "2  01/12/2017                173     2             -6.0           39   \n",
       "\n",
       "   Wind speed (m/s)  Visibility (10m)  Dew point temperature(°C)  \\\n",
       "0               2.2              2000                      -17.6   \n",
       "1               0.8              2000                      -17.6   \n",
       "2               1.0              2000                      -17.7   \n",
       "\n",
       "   Solar Radiation (MJ/m2)  Rainfall(mm)  Snowfall (cm) Seasons     Holiday  \\\n",
       "0                      0.0           0.0            0.0  Winter  No Holiday   \n",
       "1                      0.0           0.0            0.0  Winter  No Holiday   \n",
       "2                      0.0           0.0            0.0  Winter  No Holiday   \n",
       "\n",
       "  Functioning Day  \n",
       "0             Yes  \n",
       "1             Yes  \n",
       "2             Yes  "
      ]
     },
     "execution_count": 3,
     "metadata": {},
     "output_type": "execute_result"
    }
   ],
   "source": [
    "bike.head(3)"
   ]
  },
  {
   "cell_type": "code",
   "execution_count": 4,
   "id": "d7da1278",
   "metadata": {},
   "outputs": [
    {
     "data": {
      "text/html": [
       "<div>\n",
       "<style scoped>\n",
       "    .dataframe tbody tr th:only-of-type {\n",
       "        vertical-align: middle;\n",
       "    }\n",
       "\n",
       "    .dataframe tbody tr th {\n",
       "        vertical-align: top;\n",
       "    }\n",
       "\n",
       "    .dataframe thead th {\n",
       "        text-align: right;\n",
       "    }\n",
       "</style>\n",
       "<table border=\"1\" class=\"dataframe\">\n",
       "  <thead>\n",
       "    <tr style=\"text-align: right;\">\n",
       "      <th></th>\n",
       "      <th>Date</th>\n",
       "      <th>Rented Bike Count</th>\n",
       "      <th>Hour</th>\n",
       "      <th>Temperature(°C)</th>\n",
       "      <th>Humidity(%)</th>\n",
       "      <th>Wind speed (m/s)</th>\n",
       "      <th>Visibility (10m)</th>\n",
       "      <th>Dew point temperature(°C)</th>\n",
       "      <th>Solar Radiation (MJ/m2)</th>\n",
       "      <th>Rainfall(mm)</th>\n",
       "      <th>Snowfall (cm)</th>\n",
       "      <th>Seasons</th>\n",
       "      <th>Holiday</th>\n",
       "      <th>Functioning Day</th>\n",
       "    </tr>\n",
       "  </thead>\n",
       "  <tbody>\n",
       "    <tr>\n",
       "      <th>8757</th>\n",
       "      <td>30/11/2018</td>\n",
       "      <td>694</td>\n",
       "      <td>21</td>\n",
       "      <td>2.6</td>\n",
       "      <td>39</td>\n",
       "      <td>0.3</td>\n",
       "      <td>1968</td>\n",
       "      <td>-9.9</td>\n",
       "      <td>0.0</td>\n",
       "      <td>0.0</td>\n",
       "      <td>0.0</td>\n",
       "      <td>Autumn</td>\n",
       "      <td>No Holiday</td>\n",
       "      <td>Yes</td>\n",
       "    </tr>\n",
       "    <tr>\n",
       "      <th>8758</th>\n",
       "      <td>30/11/2018</td>\n",
       "      <td>712</td>\n",
       "      <td>22</td>\n",
       "      <td>2.1</td>\n",
       "      <td>41</td>\n",
       "      <td>1.0</td>\n",
       "      <td>1859</td>\n",
       "      <td>-9.8</td>\n",
       "      <td>0.0</td>\n",
       "      <td>0.0</td>\n",
       "      <td>0.0</td>\n",
       "      <td>Autumn</td>\n",
       "      <td>No Holiday</td>\n",
       "      <td>Yes</td>\n",
       "    </tr>\n",
       "    <tr>\n",
       "      <th>8759</th>\n",
       "      <td>30/11/2018</td>\n",
       "      <td>584</td>\n",
       "      <td>23</td>\n",
       "      <td>1.9</td>\n",
       "      <td>43</td>\n",
       "      <td>1.3</td>\n",
       "      <td>1909</td>\n",
       "      <td>-9.3</td>\n",
       "      <td>0.0</td>\n",
       "      <td>0.0</td>\n",
       "      <td>0.0</td>\n",
       "      <td>Autumn</td>\n",
       "      <td>No Holiday</td>\n",
       "      <td>Yes</td>\n",
       "    </tr>\n",
       "  </tbody>\n",
       "</table>\n",
       "</div>"
      ],
      "text/plain": [
       "            Date  Rented Bike Count  Hour  Temperature(°C)  Humidity(%)  \\\n",
       "8757  30/11/2018                694    21              2.6           39   \n",
       "8758  30/11/2018                712    22              2.1           41   \n",
       "8759  30/11/2018                584    23              1.9           43   \n",
       "\n",
       "      Wind speed (m/s)  Visibility (10m)  Dew point temperature(°C)  \\\n",
       "8757               0.3              1968                       -9.9   \n",
       "8758               1.0              1859                       -9.8   \n",
       "8759               1.3              1909                       -9.3   \n",
       "\n",
       "      Solar Radiation (MJ/m2)  Rainfall(mm)  Snowfall (cm) Seasons  \\\n",
       "8757                      0.0           0.0            0.0  Autumn   \n",
       "8758                      0.0           0.0            0.0  Autumn   \n",
       "8759                      0.0           0.0            0.0  Autumn   \n",
       "\n",
       "         Holiday Functioning Day  \n",
       "8757  No Holiday             Yes  \n",
       "8758  No Holiday             Yes  \n",
       "8759  No Holiday             Yes  "
      ]
     },
     "execution_count": 4,
     "metadata": {},
     "output_type": "execute_result"
    }
   ],
   "source": [
    "bike.tail(3)"
   ]
  },
  {
   "cell_type": "code",
   "execution_count": 5,
   "id": "ce60c0ee",
   "metadata": {},
   "outputs": [
    {
     "data": {
      "text/plain": [
       "(8760, 14)"
      ]
     },
     "execution_count": 5,
     "metadata": {},
     "output_type": "execute_result"
    }
   ],
   "source": [
    "bike.shape"
   ]
  },
  {
   "cell_type": "code",
   "execution_count": 6,
   "id": "10c051a7",
   "metadata": {},
   "outputs": [
    {
     "data": {
      "text/html": [
       "<div>\n",
       "<style scoped>\n",
       "    .dataframe tbody tr th:only-of-type {\n",
       "        vertical-align: middle;\n",
       "    }\n",
       "\n",
       "    .dataframe tbody tr th {\n",
       "        vertical-align: top;\n",
       "    }\n",
       "\n",
       "    .dataframe thead th {\n",
       "        text-align: right;\n",
       "    }\n",
       "</style>\n",
       "<table border=\"1\" class=\"dataframe\">\n",
       "  <thead>\n",
       "    <tr style=\"text-align: right;\">\n",
       "      <th></th>\n",
       "      <th>Rented Bike Count</th>\n",
       "      <th>Hour</th>\n",
       "      <th>Temperature(°C)</th>\n",
       "      <th>Humidity(%)</th>\n",
       "      <th>Wind speed (m/s)</th>\n",
       "      <th>Visibility (10m)</th>\n",
       "      <th>Dew point temperature(°C)</th>\n",
       "      <th>Solar Radiation (MJ/m2)</th>\n",
       "      <th>Rainfall(mm)</th>\n",
       "      <th>Snowfall (cm)</th>\n",
       "    </tr>\n",
       "  </thead>\n",
       "  <tbody>\n",
       "    <tr>\n",
       "      <th>count</th>\n",
       "      <td>8760.000000</td>\n",
       "      <td>8760.000000</td>\n",
       "      <td>8760.000000</td>\n",
       "      <td>8760.000000</td>\n",
       "      <td>8760.000000</td>\n",
       "      <td>8760.000000</td>\n",
       "      <td>8760.000000</td>\n",
       "      <td>8760.000000</td>\n",
       "      <td>8760.000000</td>\n",
       "      <td>8760.000000</td>\n",
       "    </tr>\n",
       "    <tr>\n",
       "      <th>mean</th>\n",
       "      <td>704.602055</td>\n",
       "      <td>11.500000</td>\n",
       "      <td>12.882922</td>\n",
       "      <td>58.226256</td>\n",
       "      <td>1.724909</td>\n",
       "      <td>1436.825799</td>\n",
       "      <td>4.073813</td>\n",
       "      <td>0.569111</td>\n",
       "      <td>0.148687</td>\n",
       "      <td>0.075068</td>\n",
       "    </tr>\n",
       "    <tr>\n",
       "      <th>std</th>\n",
       "      <td>644.997468</td>\n",
       "      <td>6.922582</td>\n",
       "      <td>11.944825</td>\n",
       "      <td>20.362413</td>\n",
       "      <td>1.036300</td>\n",
       "      <td>608.298712</td>\n",
       "      <td>13.060369</td>\n",
       "      <td>0.868746</td>\n",
       "      <td>1.128193</td>\n",
       "      <td>0.436746</td>\n",
       "    </tr>\n",
       "    <tr>\n",
       "      <th>min</th>\n",
       "      <td>0.000000</td>\n",
       "      <td>0.000000</td>\n",
       "      <td>-17.800000</td>\n",
       "      <td>0.000000</td>\n",
       "      <td>0.000000</td>\n",
       "      <td>27.000000</td>\n",
       "      <td>-30.600000</td>\n",
       "      <td>0.000000</td>\n",
       "      <td>0.000000</td>\n",
       "      <td>0.000000</td>\n",
       "    </tr>\n",
       "    <tr>\n",
       "      <th>25%</th>\n",
       "      <td>191.000000</td>\n",
       "      <td>5.750000</td>\n",
       "      <td>3.500000</td>\n",
       "      <td>42.000000</td>\n",
       "      <td>0.900000</td>\n",
       "      <td>940.000000</td>\n",
       "      <td>-4.700000</td>\n",
       "      <td>0.000000</td>\n",
       "      <td>0.000000</td>\n",
       "      <td>0.000000</td>\n",
       "    </tr>\n",
       "    <tr>\n",
       "      <th>50%</th>\n",
       "      <td>504.500000</td>\n",
       "      <td>11.500000</td>\n",
       "      <td>13.700000</td>\n",
       "      <td>57.000000</td>\n",
       "      <td>1.500000</td>\n",
       "      <td>1698.000000</td>\n",
       "      <td>5.100000</td>\n",
       "      <td>0.010000</td>\n",
       "      <td>0.000000</td>\n",
       "      <td>0.000000</td>\n",
       "    </tr>\n",
       "    <tr>\n",
       "      <th>75%</th>\n",
       "      <td>1065.250000</td>\n",
       "      <td>17.250000</td>\n",
       "      <td>22.500000</td>\n",
       "      <td>74.000000</td>\n",
       "      <td>2.300000</td>\n",
       "      <td>2000.000000</td>\n",
       "      <td>14.800000</td>\n",
       "      <td>0.930000</td>\n",
       "      <td>0.000000</td>\n",
       "      <td>0.000000</td>\n",
       "    </tr>\n",
       "    <tr>\n",
       "      <th>max</th>\n",
       "      <td>3556.000000</td>\n",
       "      <td>23.000000</td>\n",
       "      <td>39.400000</td>\n",
       "      <td>98.000000</td>\n",
       "      <td>7.400000</td>\n",
       "      <td>2000.000000</td>\n",
       "      <td>27.200000</td>\n",
       "      <td>3.520000</td>\n",
       "      <td>35.000000</td>\n",
       "      <td>8.800000</td>\n",
       "    </tr>\n",
       "  </tbody>\n",
       "</table>\n",
       "</div>"
      ],
      "text/plain": [
       "       Rented Bike Count         Hour  Temperature(°C)  Humidity(%)  \\\n",
       "count        8760.000000  8760.000000      8760.000000  8760.000000   \n",
       "mean          704.602055    11.500000        12.882922    58.226256   \n",
       "std           644.997468     6.922582        11.944825    20.362413   \n",
       "min             0.000000     0.000000       -17.800000     0.000000   \n",
       "25%           191.000000     5.750000         3.500000    42.000000   \n",
       "50%           504.500000    11.500000        13.700000    57.000000   \n",
       "75%          1065.250000    17.250000        22.500000    74.000000   \n",
       "max          3556.000000    23.000000        39.400000    98.000000   \n",
       "\n",
       "       Wind speed (m/s)  Visibility (10m)  Dew point temperature(°C)  \\\n",
       "count       8760.000000       8760.000000                8760.000000   \n",
       "mean           1.724909       1436.825799                   4.073813   \n",
       "std            1.036300        608.298712                  13.060369   \n",
       "min            0.000000         27.000000                 -30.600000   \n",
       "25%            0.900000        940.000000                  -4.700000   \n",
       "50%            1.500000       1698.000000                   5.100000   \n",
       "75%            2.300000       2000.000000                  14.800000   \n",
       "max            7.400000       2000.000000                  27.200000   \n",
       "\n",
       "       Solar Radiation (MJ/m2)  Rainfall(mm)  Snowfall (cm)  \n",
       "count              8760.000000   8760.000000    8760.000000  \n",
       "mean                  0.569111      0.148687       0.075068  \n",
       "std                   0.868746      1.128193       0.436746  \n",
       "min                   0.000000      0.000000       0.000000  \n",
       "25%                   0.000000      0.000000       0.000000  \n",
       "50%                   0.010000      0.000000       0.000000  \n",
       "75%                   0.930000      0.000000       0.000000  \n",
       "max                   3.520000     35.000000       8.800000  "
      ]
     },
     "execution_count": 6,
     "metadata": {},
     "output_type": "execute_result"
    }
   ],
   "source": [
    "bike.describe()"
   ]
  },
  {
   "cell_type": "code",
   "execution_count": 7,
   "id": "1525f72d",
   "metadata": {},
   "outputs": [
    {
     "name": "stdout",
     "output_type": "stream",
     "text": [
      "<class 'pandas.core.frame.DataFrame'>\n",
      "RangeIndex: 8760 entries, 0 to 8759\n",
      "Data columns (total 14 columns):\n",
      " #   Column                     Non-Null Count  Dtype  \n",
      "---  ------                     --------------  -----  \n",
      " 0   Date                       8760 non-null   object \n",
      " 1   Rented Bike Count          8760 non-null   int64  \n",
      " 2   Hour                       8760 non-null   int64  \n",
      " 3   Temperature(°C)            8760 non-null   float64\n",
      " 4   Humidity(%)                8760 non-null   int64  \n",
      " 5   Wind speed (m/s)           8760 non-null   float64\n",
      " 6   Visibility (10m)           8760 non-null   int64  \n",
      " 7   Dew point temperature(°C)  8760 non-null   float64\n",
      " 8   Solar Radiation (MJ/m2)    8760 non-null   float64\n",
      " 9   Rainfall(mm)               8760 non-null   float64\n",
      " 10  Snowfall (cm)              8760 non-null   float64\n",
      " 11  Seasons                    8760 non-null   object \n",
      " 12  Holiday                    8760 non-null   object \n",
      " 13  Functioning Day            8760 non-null   object \n",
      "dtypes: float64(6), int64(4), object(4)\n",
      "memory usage: 958.3+ KB\n"
     ]
    }
   ],
   "source": [
    "bike.info()"
   ]
  },
  {
   "cell_type": "markdown",
   "id": "d554ad98",
   "metadata": {},
   "source": [
    "## Changing from categorical to numerical"
   ]
  },
  {
   "cell_type": "code",
   "execution_count": 8,
   "id": "49481691",
   "metadata": {},
   "outputs": [
    {
     "data": {
      "text/plain": [
       "array(['Winter', 'Spring', 'Summer', 'Autumn'], dtype=object)"
      ]
     },
     "execution_count": 8,
     "metadata": {},
     "output_type": "execute_result"
    }
   ],
   "source": [
    "bike[\"Seasons\"].unique()"
   ]
  },
  {
   "cell_type": "code",
   "execution_count": 9,
   "id": "71933fa1",
   "metadata": {},
   "outputs": [
    {
     "data": {
      "text/plain": [
       "array(['No Holiday', 'Holiday'], dtype=object)"
      ]
     },
     "execution_count": 9,
     "metadata": {},
     "output_type": "execute_result"
    }
   ],
   "source": [
    "bike[\"Holiday\"].unique()"
   ]
  },
  {
   "cell_type": "code",
   "execution_count": 10,
   "id": "9cddce80",
   "metadata": {},
   "outputs": [
    {
     "data": {
      "text/plain": [
       "array(['Yes', 'No'], dtype=object)"
      ]
     },
     "execution_count": 10,
     "metadata": {},
     "output_type": "execute_result"
    }
   ],
   "source": [
    "bike[\"Functioning Day\"].unique()"
   ]
  },
  {
   "cell_type": "code",
   "execution_count": 11,
   "id": "5b553529",
   "metadata": {},
   "outputs": [],
   "source": [
    "bike['Seasons'].replace('Winter', 0, inplace = True)\n",
    "bike['Seasons'].replace('Spring', 1, inplace = True)\n",
    "bike['Seasons'].replace('Summer', 2, inplace = True)\n",
    "bike['Seasons'].replace('Autumn', 3, inplace = True)"
   ]
  },
  {
   "cell_type": "code",
   "execution_count": 12,
   "id": "9b709716",
   "metadata": {},
   "outputs": [
    {
     "data": {
      "text/plain": [
       "8758    3\n",
       "8759    3\n",
       "Name: Seasons, dtype: int64"
      ]
     },
     "execution_count": 12,
     "metadata": {},
     "output_type": "execute_result"
    }
   ],
   "source": [
    "bike['Seasons'].tail(2)"
   ]
  },
  {
   "cell_type": "code",
   "execution_count": 13,
   "id": "4a633542",
   "metadata": {},
   "outputs": [],
   "source": [
    "bike[\"Holiday\"].replace('No Holiday', 0, inplace = True)\n",
    "bike[\"Holiday\"].replace('Holiday', 1, inplace = True)"
   ]
  },
  {
   "cell_type": "code",
   "execution_count": 14,
   "id": "168799a7",
   "metadata": {},
   "outputs": [
    {
     "data": {
      "text/plain": [
       "8758    0\n",
       "8759    0\n",
       "Name: Holiday, dtype: int64"
      ]
     },
     "execution_count": 14,
     "metadata": {},
     "output_type": "execute_result"
    }
   ],
   "source": [
    "bike[\"Holiday\"].tail(2)"
   ]
  },
  {
   "cell_type": "code",
   "execution_count": 15,
   "id": "2d461b05",
   "metadata": {},
   "outputs": [],
   "source": [
    "bike[\"Functioning Day\"].replace('No', 0, inplace = True)\n",
    "bike[\"Functioning Day\"].replace('Yes', 1, inplace = True)"
   ]
  },
  {
   "cell_type": "code",
   "execution_count": 16,
   "id": "de4649aa",
   "metadata": {},
   "outputs": [
    {
     "data": {
      "text/plain": [
       "8758    1\n",
       "8759    1\n",
       "Name: Functioning Day, dtype: int64"
      ]
     },
     "execution_count": 16,
     "metadata": {},
     "output_type": "execute_result"
    }
   ],
   "source": [
    "bike[\"Functioning Day\"].tail(2)"
   ]
  },
  {
   "cell_type": "markdown",
   "id": "3f5ded7f",
   "metadata": {},
   "source": []
  },
  {
   "cell_type": "markdown",
   "id": "9b8617ba",
   "metadata": {},
   "source": [
    "# Graphics "
   ]
  },
  {
   "cell_type": "markdown",
   "id": "b7a66de9",
   "metadata": {},
   "source": [
    "sns.histplot(data = bike, y = \"Rented Bike Count\", x = \"Hour\")"
   ]
  },
  {
   "cell_type": "markdown",
   "id": "9a9f97d3",
   "metadata": {},
   "source": [
    "sns.histplot(data = bike, x = \"Holiday\")"
   ]
  },
  {
   "cell_type": "markdown",
   "id": "4344e869",
   "metadata": {},
   "source": []
  },
  {
   "cell_type": "markdown",
   "id": "f52f9faf",
   "metadata": {},
   "source": [
    "sns.histplot(data = bike, x = \"Functioning Day\")"
   ]
  },
  {
   "cell_type": "markdown",
   "id": "0dbb515f",
   "metadata": {},
   "source": []
  },
  {
   "cell_type": "markdown",
   "id": "27e3f8db",
   "metadata": {
    "scrolled": false
   },
   "source": [
    "sns.histplot(data = bike, x = \"Rented Bike Count\")"
   ]
  },
  {
   "cell_type": "markdown",
   "id": "4b638edd",
   "metadata": {},
   "source": [
    "sns.histplot(data = bike, x = \"Temperature(°C)\")"
   ]
  },
  {
   "cell_type": "markdown",
   "id": "28f862ac",
   "metadata": {},
   "source": [
    "sns.histplot(data = bike, x = \"Humidity(%)\")\n",
    "\n"
   ]
  },
  {
   "cell_type": "markdown",
   "id": "7e3b5b69",
   "metadata": {},
   "source": [
    "sns.histplot(data = bike, x = \"Wind speed (m/s)\")\n",
    "\n"
   ]
  },
  {
   "cell_type": "markdown",
   "id": "9eae0515",
   "metadata": {},
   "source": [
    "sns.histplot(data = bike, x = \"Visibility (10m)\")"
   ]
  },
  {
   "cell_type": "markdown",
   "id": "a5bcb0bb",
   "metadata": {},
   "source": [
    "sns.histplot(data = bike, x = \"Dew point temperature(°C)\")"
   ]
  },
  {
   "cell_type": "markdown",
   "id": "adc3744c",
   "metadata": {},
   "source": [
    "sns.histplot(data = bike, x = \"Solar Radiation (MJ/m2)\")\n"
   ]
  },
  {
   "cell_type": "markdown",
   "id": "e5fc2ba5",
   "metadata": {},
   "source": [
    "sns.histplot(data = bike, x = \"Rainfall(mm)\")"
   ]
  },
  {
   "cell_type": "markdown",
   "id": "b48980c8",
   "metadata": {},
   "source": [
    "sns.histplot(data = bike, x = \"Snowfall (cm)\")"
   ]
  },
  {
   "cell_type": "markdown",
   "id": "f98697b8",
   "metadata": {},
   "source": [
    "sns.histplot(data = bike, x = \"Seasons\")"
   ]
  },
  {
   "cell_type": "markdown",
   "id": "ca143f37",
   "metadata": {},
   "source": [
    "The bikes have been used equally throughout the seasons "
   ]
  },
  {
   "cell_type": "markdown",
   "id": "bd615d3f",
   "metadata": {},
   "source": [
    "The seasons have the same amount of observations but the number of rented bikes are different between seasons"
   ]
  },
  {
   "cell_type": "markdown",
   "id": "89a558a7",
   "metadata": {},
   "source": [
    "bike.head(1)"
   ]
  },
  {
   "cell_type": "markdown",
   "id": "fc44aa3b",
   "metadata": {},
   "source": [
    "bike.plot(x = \"Temperature(°C)\", y = \"Rented Bike Count\", style = \"*\")\n",
    "plt.title(\"Rented Bike Count vs Temperature(°C)\")\n",
    "plt.xlabel(\"Temperature(°C)\")\n",
    "plt.ylabel(\"Rented Bike Count\")\n",
    "plt.show()"
   ]
  },
  {
   "cell_type": "markdown",
   "id": "0ff3f65f",
   "metadata": {},
   "source": [
    "bike.plot(x = \"Hour\", y = \"Rented Bike Count\", style = \"*\")\n",
    "plt.title(\"Rented Bike Count vs Hour\")\n",
    "plt.xlabel(\"Hour\")\n",
    "plt.ylabel(\"Rented Bike Count\")\n",
    "plt.show()"
   ]
  },
  {
   "cell_type": "markdown",
   "id": "b05d02d0",
   "metadata": {},
   "source": [
    "sns.histplot(data = bike, x = \"Seasons\", y = \"Rented Bike Count\")"
   ]
  },
  {
   "cell_type": "markdown",
   "id": "5d391499",
   "metadata": {},
   "source": [
    "('Winter', 0, inplace = True)\n",
    "('Spring', 1, inplace = True)\n",
    "('Summer', 2, inplace = True)\n",
    "('Autumn', 3, inplace = True)"
   ]
  },
  {
   "cell_type": "markdown",
   "id": "551fcf49",
   "metadata": {},
   "source": [
    "sns.histplot(data = bike, x = \"Seasons\", y = \"Temperature(°C)\")"
   ]
  },
  {
   "cell_type": "markdown",
   "id": "ccc42cc7",
   "metadata": {},
   "source": [
    "sns.boxplot(data = bike[\"Rented Bike Count\"])"
   ]
  },
  {
   "cell_type": "markdown",
   "id": "e97e4996",
   "metadata": {},
   "source": [
    "sns.boxplot(data = bike[\"Temperature(°C)\"])"
   ]
  },
  {
   "cell_type": "markdown",
   "id": "96ec0b6c",
   "metadata": {},
   "source": [
    " sns.boxplot(data = bike[\"Visibility (10m)\"])"
   ]
  },
  {
   "cell_type": "markdown",
   "id": "2e489789",
   "metadata": {},
   "source": []
  },
  {
   "cell_type": "markdown",
   "id": "82dc2cc5",
   "metadata": {},
   "source": [
    "# Correlation"
   ]
  },
  {
   "cell_type": "markdown",
   "id": "3405e80a",
   "metadata": {},
   "source": [
    "bike.head(3)"
   ]
  },
  {
   "cell_type": "markdown",
   "id": "c85bf135",
   "metadata": {},
   "source": [
    "bike_d = bike.drop([\"Date\"], axis = 1)"
   ]
  },
  {
   "cell_type": "markdown",
   "id": "3493c839",
   "metadata": {},
   "source": [
    "bike_d.head(3)"
   ]
  },
  {
   "cell_type": "markdown",
   "id": "acd8c52d",
   "metadata": {},
   "source": [
    "from statsmodels.stats.outliers_influence import variance_inflation_factor\n",
    "\n",
    "vif_data = pd.DataFrame()\n",
    "vif_data[\"Variable\"] = bike_d.columns\n",
    "vif_data[\"VIF\"] = [variance_inflation_factor(bike_d.values, i) for i in range(bike_d.shape[1])]\n",
    "print(vif_data)"
   ]
  },
  {
   "cell_type": "markdown",
   "id": "d0787800",
   "metadata": {},
   "source": [
    "corr_matrix = np.corrcoef(bike_d, rowvar = False)\n",
    "\n",
    "sns.heatmap(corr_matrix, annot = True, cmap = 'coolwarm', fmt = '.2f', \n",
    "            xticklabels = range(bike_d.shape[1]), yticklabels = range(bike_d.shape[1]))\n",
    "plt.title(\"Feature Correlation Matrix\")\n",
    "plt.show()"
   ]
  },
  {
   "cell_type": "markdown",
   "id": "47b0ce43",
   "metadata": {},
   "source": [
    "The highest correlations are between: \n",
    "- Rented Bike Count & Temperature(°C) = 0.54 (0 & 2)\n",
    "- Temperature(°C) & Dew point temperature(°C) = 0.91 (2 & 6)\n",
    "- Temperature(°C) & Seasons = 0.59 (2 & 10)\n",
    "- Humidity(%) & Visibility (10m) = 0.54 (3 & 5)\n",
    "- Humidity(%) & Dew point temperature(°C) = 0.54 (3 & 6)\n",
    "- Dew point temperature(°C) & Seasons = 0.58 (6 & 10)"
   ]
  },
  {
   "cell_type": "markdown",
   "id": "e49f9512",
   "metadata": {},
   "source": [
    "import numpy as np\n",
    "\n",
    "eigenvalues, _ = np.linalg.eig(corr_matrix)\n",
    "print(\"Eigenvalues:\", eigenvalues)\n"
   ]
  },
  {
   "cell_type": "markdown",
   "id": "1abe2c34",
   "metadata": {},
   "source": [
    "condition_number = np.sqrt(np.max(eigenvalues) / np.min(eigenvalues))\n",
    "print(\"Condition Number:\", condition_number)\n"
   ]
  },
  {
   "cell_type": "markdown",
   "id": "8260248c",
   "metadata": {},
   "source": [
    "def find_highly_correlated_vars(corr_matrix, threshold = 0.5):\n",
    "    if isinstance(corr_matrix, pd.DataFrame):\n",
    "        corr_matrix = corr_matrix.values\n",
    "    rows, cols = np.where(np.abs(corr_matrix) > threshold)\n",
    "    unique_pairs = set((min(r, c), max(r, c)) for r, c in zip(rows, cols) if r != c)\n",
    "    return list(unique_pairs)\n",
    "\n",
    "corr_matrix = bike_d.corr()\n",
    "highly_corr_vars = find_highly_correlated_vars(corr_matrix, threshold=0.5)\n",
    "\n",
    "print(\"Pairs of highly correlated variables:\", highly_corr_vars)"
   ]
  },
  {
   "cell_type": "markdown",
   "id": "dc574245",
   "metadata": {},
   "source": [
    "bike_d.head(1)"
   ]
  },
  {
   "cell_type": "markdown",
   "id": "7f3da89e",
   "metadata": {
    "scrolled": false
   },
   "source": [
    "sns.pairplot(bike[[\"Rented Bike Count\", \"Temperature(°C)\"]])\n",
    "\n",
    "#sns.pairplot(bike[[\"Rented Bike Count\", \"Seasons\"]])\n",
    "\n",
    "sns.pairplot(bike[[\"Temperature(°C)\", \"Dew point temperature(°C)\"]])\n",
    "\n",
    "sns.pairplot(bike[[\"Temperature(°C)\", \"Seasons\"]])\n",
    "\n",
    "sns.pairplot(bike[[\"Humidity(%)\", \"Visibility (10m)\"]])\n",
    "\n",
    "sns.pairplot(bike[[\"Humidity(%)\", \"Dew point temperature(°C)\"]])\n",
    "\n",
    "sns.pairplot(bike[[\"Dew point temperature(°C)\", \"Seasons\"]])"
   ]
  },
  {
   "cell_type": "markdown",
   "id": "686a6bcf",
   "metadata": {},
   "source": [
    "Rented Bike Count & Temperature(°C) = 0.54 (0 & 2)\n",
    "\n",
    "Temperature(°C) & Dew point temperature(°C) = 0.91 (2 & 6)\n",
    "\n",
    "Temperature(°C) & Seasons = 0.59 (2 & 10)\n",
    "\n",
    "Humidity(%) & Visibility (10m) = 0.54 (3 & 5)\n",
    "\n",
    "Humidity(%) & Dew point temperature(°C) = 0.54 (3 & 6)\n",
    "Dew point temperature(°C) & Seasons = 0.58 (6 & 10"
   ]
  },
  {
   "cell_type": "markdown",
   "id": "f341a7b9",
   "metadata": {},
   "source": [
    "Multicollinearity"
   ]
  },
  {
   "cell_type": "markdown",
   "id": "ea8fb6a3",
   "metadata": {},
   "source": [
    "X = bike_d.iloc[:, 1:]  # All rows, columns from index 1 onwards (excluding the first column)\n",
    "y = bike_d.iloc[:, 0]   # All rows, only the first column"
   ]
  },
  {
   "cell_type": "code",
   "execution_count": 17,
   "id": "1a7078a1",
   "metadata": {},
   "outputs": [],
   "source": [
    "bike_d2 = bike.drop([\"Date\", \"Visibility (10m)\", \"Dew point temperature(°C)\", \"Seasons\", \"Holiday\", \"Functioning Day\"], axis = 1)"
   ]
  },
  {
   "cell_type": "code",
   "execution_count": 18,
   "id": "de5b431d",
   "metadata": {},
   "outputs": [
    {
     "data": {
      "text/html": [
       "<div>\n",
       "<style scoped>\n",
       "    .dataframe tbody tr th:only-of-type {\n",
       "        vertical-align: middle;\n",
       "    }\n",
       "\n",
       "    .dataframe tbody tr th {\n",
       "        vertical-align: top;\n",
       "    }\n",
       "\n",
       "    .dataframe thead th {\n",
       "        text-align: right;\n",
       "    }\n",
       "</style>\n",
       "<table border=\"1\" class=\"dataframe\">\n",
       "  <thead>\n",
       "    <tr style=\"text-align: right;\">\n",
       "      <th></th>\n",
       "      <th>Rented Bike Count</th>\n",
       "      <th>Hour</th>\n",
       "      <th>Temperature(°C)</th>\n",
       "      <th>Humidity(%)</th>\n",
       "      <th>Wind speed (m/s)</th>\n",
       "      <th>Solar Radiation (MJ/m2)</th>\n",
       "      <th>Rainfall(mm)</th>\n",
       "      <th>Snowfall (cm)</th>\n",
       "    </tr>\n",
       "  </thead>\n",
       "  <tbody>\n",
       "    <tr>\n",
       "      <th>0</th>\n",
       "      <td>254</td>\n",
       "      <td>0</td>\n",
       "      <td>-5.2</td>\n",
       "      <td>37</td>\n",
       "      <td>2.2</td>\n",
       "      <td>0.0</td>\n",
       "      <td>0.0</td>\n",
       "      <td>0.0</td>\n",
       "    </tr>\n",
       "    <tr>\n",
       "      <th>1</th>\n",
       "      <td>204</td>\n",
       "      <td>1</td>\n",
       "      <td>-5.5</td>\n",
       "      <td>38</td>\n",
       "      <td>0.8</td>\n",
       "      <td>0.0</td>\n",
       "      <td>0.0</td>\n",
       "      <td>0.0</td>\n",
       "    </tr>\n",
       "  </tbody>\n",
       "</table>\n",
       "</div>"
      ],
      "text/plain": [
       "   Rented Bike Count  Hour  Temperature(°C)  Humidity(%)  Wind speed (m/s)  \\\n",
       "0                254     0             -5.2           37               2.2   \n",
       "1                204     1             -5.5           38               0.8   \n",
       "\n",
       "   Solar Radiation (MJ/m2)  Rainfall(mm)  Snowfall (cm)  \n",
       "0                      0.0           0.0            0.0  \n",
       "1                      0.0           0.0            0.0  "
      ]
     },
     "execution_count": 18,
     "metadata": {},
     "output_type": "execute_result"
    }
   ],
   "source": [
    "bike_d2.head(2)"
   ]
  },
  {
   "cell_type": "code",
   "execution_count": 19,
   "id": "bf1272e5",
   "metadata": {},
   "outputs": [
    {
     "data": {
      "image/png": "[encoded data removed]",
      "text/plain": [
       "<Figure size 640x480 with 2 Axes>"
      ]
     },
     "metadata": {},
     "output_type": "display_data"
    }
   ],
   "source": [
    "corr_matrix = np.corrcoef(bike_d2, rowvar = False)\n",
    "\n",
    "sns.heatmap(corr_matrix, annot = True, cmap = 'coolwarm', fmt = '.2f', \n",
    "            xticklabels = range(bike_d2.shape[1]), yticklabels = range(bike_d2.shape[1]))\n",
    "plt.title(\"Feature Correlation Matrix\")\n",
    "plt.show()"
   ]
  },
  {
   "cell_type": "code",
   "execution_count": 20,
   "id": "4860ee87",
   "metadata": {},
   "outputs": [
    {
     "name": "stdout",
     "output_type": "stream",
     "text": [
      "Eigenvalues: [2.30501078 1.48845607 0.22373965 0.43508645 0.62660268 0.8840208\n",
      " 0.96495307 1.07213051]\n"
     ]
    }
   ],
   "source": [
    "import numpy as np\n",
    "\n",
    "eigenvalues, _ = np.linalg.eig(corr_matrix)\n",
    "print(\"Eigenvalues:\", eigenvalues)"
   ]
  },
  {
   "cell_type": "code",
   "execution_count": 21,
   "id": "de54e10c",
   "metadata": {},
   "outputs": [
    {
     "name": "stdout",
     "output_type": "stream",
     "text": [
      "Condition Number: 3.2097041653301455\n"
     ]
    }
   ],
   "source": [
    "condition_number = np.sqrt(np.max(eigenvalues) / np.min(eigenvalues))\n",
    "print(\"Condition Number:\", condition_number)"
   ]
  },
  {
   "cell_type": "code",
   "execution_count": 22,
   "id": "37e9d0a3",
   "metadata": {},
   "outputs": [
    {
     "name": "stdout",
     "output_type": "stream",
     "text": [
      "Pairs of highly correlated variables: [(0, 2)]\n"
     ]
    }
   ],
   "source": [
    "def find_highly_correlated_vars(corr_matrix, threshold = 0.5):\n",
    "    if isinstance(corr_matrix, pd.DataFrame):\n",
    "        corr_matrix = corr_matrix.values\n",
    "    rows, cols = np.where(np.abs(corr_matrix) > threshold)\n",
    "    unique_pairs = set((min(r, c), max(r, c)) for r, c in zip(rows, cols) if r != c)\n",
    "    return list(unique_pairs)\n",
    "\n",
    "corr_matrix = bike_d2.corr()\n",
    "highly_corr_vars = find_highly_correlated_vars(corr_matrix, threshold=0.5)\n",
    "\n",
    "print(\"Pairs of highly correlated variables:\", highly_corr_vars)"
   ]
  },
  {
   "cell_type": "code",
   "execution_count": null,
   "id": "83931d7d",
   "metadata": {},
   "outputs": [],
   "source": []
  },
  {
   "cell_type": "code",
   "execution_count": 23,
   "id": "9fba339a",
   "metadata": {},
   "outputs": [
    {
     "data": {
      "text/html": [
       "<div>\n",
       "<style scoped>\n",
       "    .dataframe tbody tr th:only-of-type {\n",
       "        vertical-align: middle;\n",
       "    }\n",
       "\n",
       "    .dataframe tbody tr th {\n",
       "        vertical-align: top;\n",
       "    }\n",
       "\n",
       "    .dataframe thead th {\n",
       "        text-align: right;\n",
       "    }\n",
       "</style>\n",
       "<table border=\"1\" class=\"dataframe\">\n",
       "  <thead>\n",
       "    <tr style=\"text-align: right;\">\n",
       "      <th></th>\n",
       "      <th>Rented Bike Count</th>\n",
       "      <th>Hour</th>\n",
       "      <th>Temperature(°C)</th>\n",
       "      <th>Humidity(%)</th>\n",
       "      <th>Wind speed (m/s)</th>\n",
       "      <th>Solar Radiation (MJ/m2)</th>\n",
       "      <th>Rainfall(mm)</th>\n",
       "      <th>Snowfall (cm)</th>\n",
       "    </tr>\n",
       "  </thead>\n",
       "  <tbody>\n",
       "    <tr>\n",
       "      <th>0</th>\n",
       "      <td>254</td>\n",
       "      <td>0</td>\n",
       "      <td>-5.2</td>\n",
       "      <td>37</td>\n",
       "      <td>2.2</td>\n",
       "      <td>0.0</td>\n",
       "      <td>0.0</td>\n",
       "      <td>0.0</td>\n",
       "    </tr>\n",
       "    <tr>\n",
       "      <th>1</th>\n",
       "      <td>204</td>\n",
       "      <td>1</td>\n",
       "      <td>-5.5</td>\n",
       "      <td>38</td>\n",
       "      <td>0.8</td>\n",
       "      <td>0.0</td>\n",
       "      <td>0.0</td>\n",
       "      <td>0.0</td>\n",
       "    </tr>\n",
       "  </tbody>\n",
       "</table>\n",
       "</div>"
      ],
      "text/plain": [
       "   Rented Bike Count  Hour  Temperature(°C)  Humidity(%)  Wind speed (m/s)  \\\n",
       "0                254     0             -5.2           37               2.2   \n",
       "1                204     1             -5.5           38               0.8   \n",
       "\n",
       "   Solar Radiation (MJ/m2)  Rainfall(mm)  Snowfall (cm)  \n",
       "0                      0.0           0.0            0.0  \n",
       "1                      0.0           0.0            0.0  "
      ]
     },
     "execution_count": 23,
     "metadata": {},
     "output_type": "execute_result"
    }
   ],
   "source": [
    "bike_d2.head(2)"
   ]
  },
  {
   "cell_type": "code",
   "execution_count": 24,
   "id": "12a40c3c",
   "metadata": {},
   "outputs": [],
   "source": [
    "bike_d3 = bike.drop([\"Date\", \n",
    "                     \"Humidity(%)\", \"Wind speed (m/s)\", \n",
    "                     \"Visibility (10m)\", \"Dew point temperature(°C)\",\n",
    "                     \"Solar Radiation (MJ/m2)\", \"Rainfall(mm)\",\n",
    "                     \"Snowfall (cm)\",\n",
    "                     \"Seasons\", \"Holiday\", \"Functioning Day\"], axis = 1)"
   ]
  },
  {
   "cell_type": "code",
   "execution_count": 25,
   "id": "67fe0abd",
   "metadata": {},
   "outputs": [
    {
     "data": {
      "text/html": [
       "<div>\n",
       "<style scoped>\n",
       "    .dataframe tbody tr th:only-of-type {\n",
       "        vertical-align: middle;\n",
       "    }\n",
       "\n",
       "    .dataframe tbody tr th {\n",
       "        vertical-align: top;\n",
       "    }\n",
       "\n",
       "    .dataframe thead th {\n",
       "        text-align: right;\n",
       "    }\n",
       "</style>\n",
       "<table border=\"1\" class=\"dataframe\">\n",
       "  <thead>\n",
       "    <tr style=\"text-align: right;\">\n",
       "      <th></th>\n",
       "      <th>Rented Bike Count</th>\n",
       "      <th>Hour</th>\n",
       "      <th>Temperature(°C)</th>\n",
       "    </tr>\n",
       "  </thead>\n",
       "  <tbody>\n",
       "    <tr>\n",
       "      <th>0</th>\n",
       "      <td>254</td>\n",
       "      <td>0</td>\n",
       "      <td>-5.2</td>\n",
       "    </tr>\n",
       "    <tr>\n",
       "      <th>1</th>\n",
       "      <td>204</td>\n",
       "      <td>1</td>\n",
       "      <td>-5.5</td>\n",
       "    </tr>\n",
       "  </tbody>\n",
       "</table>\n",
       "</div>"
      ],
      "text/plain": [
       "   Rented Bike Count  Hour  Temperature(°C)\n",
       "0                254     0             -5.2\n",
       "1                204     1             -5.5"
      ]
     },
     "execution_count": 25,
     "metadata": {},
     "output_type": "execute_result"
    }
   ],
   "source": [
    "bike_d3.head(2)"
   ]
  },
  {
   "cell_type": "code",
   "execution_count": null,
   "id": "525c5877",
   "metadata": {},
   "outputs": [],
   "source": []
  },
  {
   "cell_type": "code",
   "execution_count": null,
   "id": "d696a49c",
   "metadata": {},
   "outputs": [],
   "source": []
  },
  {
   "cell_type": "code",
   "execution_count": null,
   "id": "ba5f429f",
   "metadata": {},
   "outputs": [],
   "source": []
  },
  {
   "cell_type": "code",
   "execution_count": 26,
   "id": "2e4a3862",
   "metadata": {},
   "outputs": [],
   "source": [
    "bike_array = bike_d3.values"
   ]
  },
  {
   "cell_type": "code",
   "execution_count": 27,
   "id": "031a6c1e",
   "metadata": {},
   "outputs": [],
   "source": [
    "X = bike_array[:, 1:]\n",
    "\n",
    "y = bike_array[:, 0]"
   ]
  },
  {
   "cell_type": "code",
   "execution_count": 28,
   "id": "68998cc4",
   "metadata": {},
   "outputs": [
    {
     "data": {
      "text/plain": [
       "array([254., 204., 173., ..., 694., 712., 584.])"
      ]
     },
     "execution_count": 28,
     "metadata": {},
     "output_type": "execute_result"
    }
   ],
   "source": [
    "y"
   ]
  },
  {
   "cell_type": "code",
   "execution_count": 29,
   "id": "90223a12",
   "metadata": {},
   "outputs": [
    {
     "data": {
      "text/plain": [
       "array([[ 0. , -5.2],\n",
       "       [ 1. , -5.5],\n",
       "       [ 2. , -6. ],\n",
       "       ...,\n",
       "       [21. ,  2.6],\n",
       "       [22. ,  2.1],\n",
       "       [23. ,  1.9]])"
      ]
     },
     "execution_count": 29,
     "metadata": {},
     "output_type": "execute_result"
    }
   ],
   "source": [
    "X"
   ]
  },
  {
   "cell_type": "code",
   "execution_count": 30,
   "id": "898ac511",
   "metadata": {},
   "outputs": [],
   "source": [
    "X_train, X_test, y_train, y_test = train_test_split(X, y, test_size = 0.2, random_state = 12)"
   ]
  },
  {
   "cell_type": "code",
   "execution_count": 31,
   "id": "20e33953",
   "metadata": {},
   "outputs": [
    {
     "data": {
      "text/plain": [
       "((8760, 2), (8760,), (7008, 2), (1752, 2), (7008,), (1752,))"
      ]
     },
     "execution_count": 31,
     "metadata": {},
     "output_type": "execute_result"
    }
   ],
   "source": [
    "X.shape, y.shape, X_train.shape, X_test.shape, y_train.shape, y_test.shape"
   ]
  },
  {
   "cell_type": "code",
   "execution_count": 32,
   "id": "aea68f3d",
   "metadata": {},
   "outputs": [],
   "source": [
    "scaler = MinMaxScaler()\n",
    "\n",
    "scaler.fit(X_train)\n",
    "\n",
    "X_train_scaled = scaler.transform(X_train)\n",
    "\n",
    "X_test_scaled  = scaler.transform(X_test)\n",
    "\n",
    "X_scaled = scaler.transform(X)"
   ]
  },
  {
   "cell_type": "markdown",
   "id": "74fe5b3d",
   "metadata": {},
   "source": [
    "# Models"
   ]
  },
  {
   "cell_type": "markdown",
   "id": "590b4100",
   "metadata": {},
   "source": [
    "# Linear Regression"
   ]
  },
  {
   "cell_type": "code",
   "execution_count": 33,
   "id": "5c2a959c",
   "metadata": {},
   "outputs": [],
   "source": [
    "from sklearn.linear_model import LinearRegression"
   ]
  },
  {
   "cell_type": "code",
   "execution_count": 34,
   "id": "35d12d92",
   "metadata": {},
   "outputs": [
    {
     "name": "stdout",
     "output_type": "stream",
     "text": [
      "Mean Squared Error: 242817.70559788027\n",
      "Root Mean Squared Error: 492.76536566390325\n",
      "R-squared: 0.3991796133882427\n",
      "Adjusted R-squared: 0.39849256892099083\n"
     ]
    }
   ],
   "source": [
    "linear_reg = LinearRegression()\n",
    "\n",
    "linear_reg.fit(X_train_scaled, y_train)\n",
    "\n",
    "yp_lr = linear_reg.predict(X_test_scaled)\n",
    "\n",
    "mse = mean_squared_error(y_test, yp_lr)\n",
    "mse_r = mean_squared_error(y_test, yp_lr, squared = False)\n",
    "r2 = r2_score(y_test, yp_lr)\n",
    "\n",
    "n = len(y_test)\n",
    "k = X_train_scaled.shape[1]\n",
    "adj_r2 = 1 - ((1 - r2) * (n - 1) / (n - k - 1))\n",
    "\n",
    "print(f'Mean Squared Error: {mse}')\n",
    "print(f'Root Mean Squared Error: {mse_r}')\n",
    "print(f'R-squared: {r2}')\n",
    "print(f'Adjusted R-squared: {adj_r2}')"
   ]
  },
  {
   "cell_type": "code",
   "execution_count": 35,
   "id": "1a3cb88c",
   "metadata": {},
   "outputs": [
    {
     "name": "stdout",
     "output_type": "stream",
     "text": [
      "Training MSE: 246198.12060337863\n",
      "Validation MSE: 242817.70559788027\n"
     ]
    }
   ],
   "source": [
    "train_pred = linear_reg.predict(X_train_scaled)\n",
    "test_pred = linear_reg.predict(X_test_scaled)\n",
    "\n",
    "from sklearn.metrics import mean_squared_error, r2_score\n",
    "\n",
    "train_mse = mean_squared_error(y_train, train_pred)\n",
    "test_mse = mean_squared_error(y_test, test_pred)\n",
    "\n",
    "print(f'Training MSE: {train_mse}')\n",
    "print(f'Validation MSE: {test_mse}')"
   ]
  },
  {
   "cell_type": "markdown",
   "id": "9b11085b",
   "metadata": {},
   "source": [
    "## No overfitting but low R2\n",
    "\n",
    "## 30% Training MSE: 242346.04562180358\n",
    "Validation MSE: 253067.87962849034"
   ]
  },
  {
   "cell_type": "code",
   "execution_count": 36,
   "id": "75828c13",
   "metadata": {},
   "outputs": [
    {
     "name": "stdout",
     "output_type": "stream",
     "text": [
      "Mean Huber Loss: 360.61065113969966\n"
     ]
    }
   ],
   "source": [
    "import tensorflow as tf\n",
    "def huber_loss(y_test, yp_lr, delta=1.0):\n",
    "    error = y_test - yp_lr\n",
    "    condition = tf.abs(error) < delta\n",
    "    squared_loss = 0.5 * tf.square(error)\n",
    "    linear_loss = delta * (tf.abs(error) - 0.5 * delta)\n",
    "    return tf.where(condition, squared_loss, linear_loss)\n",
    "\n",
    "loss = huber_loss(y_test, yp_lr, delta=1.0)\n",
    "#print(\"Huber Loss:\", loss.numpy())\n",
    "\n",
    "mean_huber_loss = np.mean(loss)\n",
    "print(f\"Mean Huber Loss: {mean_huber_loss}\")"
   ]
  },
  {
   "cell_type": "code",
   "execution_count": 37,
   "id": "297a10e1",
   "metadata": {},
   "outputs": [
    {
     "data": {
      "text/plain": [
       "0.39460955763442185"
      ]
     },
     "execution_count": 37,
     "metadata": {},
     "output_type": "execute_result"
    }
   ],
   "source": [
    "score_l = cross_val_score(LinearRegression(), X_test_scaled, y_test, cv = 5, scoring = 'r2').mean()\n",
    "score_l"
   ]
  },
  {
   "cell_type": "code",
   "execution_count": 38,
   "id": "7bb2d981",
   "metadata": {},
   "outputs": [
    {
     "data": {
      "text/html": [
       "<div>\n",
       "<style scoped>\n",
       "    .dataframe tbody tr th:only-of-type {\n",
       "        vertical-align: middle;\n",
       "    }\n",
       "\n",
       "    .dataframe tbody tr th {\n",
       "        vertical-align: top;\n",
       "    }\n",
       "\n",
       "    .dataframe thead th {\n",
       "        text-align: right;\n",
       "    }\n",
       "</style>\n",
       "<table border=\"1\" class=\"dataframe\">\n",
       "  <thead>\n",
       "    <tr style=\"text-align: right;\">\n",
       "      <th></th>\n",
       "      <th>Actual</th>\n",
       "      <th>Predicted</th>\n",
       "    </tr>\n",
       "  </thead>\n",
       "  <tbody>\n",
       "    <tr>\n",
       "      <th>0</th>\n",
       "      <td>278.0</td>\n",
       "      <td>831.860917</td>\n",
       "    </tr>\n",
       "    <tr>\n",
       "      <th>1</th>\n",
       "      <td>96.0</td>\n",
       "      <td>-22.764604</td>\n",
       "    </tr>\n",
       "    <tr>\n",
       "      <th>2</th>\n",
       "      <td>215.0</td>\n",
       "      <td>603.995434</td>\n",
       "    </tr>\n",
       "    <tr>\n",
       "      <th>3</th>\n",
       "      <td>1290.0</td>\n",
       "      <td>967.730262</td>\n",
       "    </tr>\n",
       "    <tr>\n",
       "      <th>4</th>\n",
       "      <td>165.0</td>\n",
       "      <td>718.654236</td>\n",
       "    </tr>\n",
       "  </tbody>\n",
       "</table>\n",
       "</div>"
      ],
      "text/plain": [
       "   Actual   Predicted\n",
       "0   278.0  831.860917\n",
       "1    96.0  -22.764604\n",
       "2   215.0  603.995434\n",
       "3  1290.0  967.730262\n",
       "4   165.0  718.654236"
      ]
     },
     "execution_count": 38,
     "metadata": {},
     "output_type": "execute_result"
    }
   ],
   "source": [
    "pred = pd.DataFrame({'Actual': y_test, 'Predicted': yp_lr})\n",
    "pred.head()"
   ]
  },
  {
   "cell_type": "markdown",
   "id": "0dc2c325",
   "metadata": {},
   "source": [
    "## Polynomial 2 and 3"
   ]
  },
  {
   "cell_type": "code",
   "execution_count": 39,
   "id": "34597a64",
   "metadata": {},
   "outputs": [],
   "source": [
    "from sklearn.preprocessing import PolynomialFeatures"
   ]
  },
  {
   "cell_type": "code",
   "execution_count": 40,
   "id": "2de30d74",
   "metadata": {},
   "outputs": [
    {
     "name": "stdout",
     "output_type": "stream",
     "text": [
      "Mean Squared Error: 220932.85232122723\n",
      "Root Mean Squared Error: 470.0349479785809\n",
      "R-squared: 0.4533307963682661\n",
      "Adjusted R-squared: 0.4527056743515345\n"
     ]
    }
   ],
   "source": [
    "poly_features = PolynomialFeatures(degree = 2)\n",
    "\n",
    "X_train_poly = poly_features.fit_transform(X_train_scaled)\n",
    "X_test_poly = poly_features.transform(X_test_scaled)\n",
    "\n",
    "poly_reg = LinearRegression()\n",
    "poly_reg.fit(X_train_poly, y_train)\n",
    "\n",
    "yp_p2 = poly_reg.predict(X_test_poly)\n",
    "\n",
    "mse = mean_squared_error(y_test, yp_p2)\n",
    "mse_r = mean_squared_error(y_test, yp_p2, squared = False)\n",
    "r2 = r2_score(y_test, yp_p2)\n",
    "\n",
    "n = len(y_test)\n",
    "k = X_train_scaled.shape[1]  # Number of features\n",
    "adj_r2 = 1 - ((1 - r2) * (n - 1) / (n - k - 1))\n",
    "\n",
    "print(f'Mean Squared Error: {mse}')\n",
    "print(f'Root Mean Squared Error: {mse_r}')\n",
    "print(f'R-squared: {r2}')\n",
    "print(f'Adjusted R-squared: {adj_r2}')"
   ]
  },
  {
   "cell_type": "code",
   "execution_count": 41,
   "id": "c28660de",
   "metadata": {},
   "outputs": [
    {
     "data": {
      "text/plain": [
       "0.39460955763442185"
      ]
     },
     "execution_count": 41,
     "metadata": {},
     "output_type": "execute_result"
    }
   ],
   "source": [
    "score_lp2 = cross_val_score(poly_reg, X_test_scaled, y_test, cv = 5, scoring = 'r2').mean()\n",
    "score_lp2"
   ]
  },
  {
   "cell_type": "code",
   "execution_count": 42,
   "id": "0268788d",
   "metadata": {},
   "outputs": [
    {
     "data": {
      "text/html": [
       "<div>\n",
       "<style scoped>\n",
       "    .dataframe tbody tr th:only-of-type {\n",
       "        vertical-align: middle;\n",
       "    }\n",
       "\n",
       "    .dataframe tbody tr th {\n",
       "        vertical-align: top;\n",
       "    }\n",
       "\n",
       "    .dataframe thead th {\n",
       "        text-align: right;\n",
       "    }\n",
       "</style>\n",
       "<table border=\"1\" class=\"dataframe\">\n",
       "  <thead>\n",
       "    <tr style=\"text-align: right;\">\n",
       "      <th></th>\n",
       "      <th>Actual</th>\n",
       "      <th>Predicted</th>\n",
       "    </tr>\n",
       "  </thead>\n",
       "  <tbody>\n",
       "    <tr>\n",
       "      <th>0</th>\n",
       "      <td>278.0</td>\n",
       "      <td>524.901708</td>\n",
       "    </tr>\n",
       "    <tr>\n",
       "      <th>1</th>\n",
       "      <td>96.0</td>\n",
       "      <td>205.002854</td>\n",
       "    </tr>\n",
       "    <tr>\n",
       "      <th>2</th>\n",
       "      <td>215.0</td>\n",
       "      <td>519.436048</td>\n",
       "    </tr>\n",
       "    <tr>\n",
       "      <th>3</th>\n",
       "      <td>1290.0</td>\n",
       "      <td>990.160071</td>\n",
       "    </tr>\n",
       "    <tr>\n",
       "      <th>4</th>\n",
       "      <td>165.0</td>\n",
       "      <td>582.496980</td>\n",
       "    </tr>\n",
       "  </tbody>\n",
       "</table>\n",
       "</div>"
      ],
      "text/plain": [
       "   Actual   Predicted\n",
       "0   278.0  524.901708\n",
       "1    96.0  205.002854\n",
       "2   215.0  519.436048\n",
       "3  1290.0  990.160071\n",
       "4   165.0  582.496980"
      ]
     },
     "execution_count": 42,
     "metadata": {},
     "output_type": "execute_result"
    }
   ],
   "source": [
    "pred_p2 = pd.DataFrame({'Actual': y_test, 'Predicted': yp_p2})\n",
    "pred_p2.head()"
   ]
  },
  {
   "cell_type": "markdown",
   "id": "5d1a0e82",
   "metadata": {},
   "source": [
    "train_pred = poly_reg.predict(X_train_poly)\n",
    "test_pred = poly_reg.predict(X_test_poly)\n",
    "\n",
    "from sklearn.metrics import mean_squared_error, r2_score\n",
    "\n",
    "train_mse = mean_squared_error(y_train, train_pred)\n",
    "test_mse = mean_squared_error(y_test, test_pred)\n",
    "\n",
    "print(f'Training MSE: {train_mse}')\n",
    "print(f'Validation MSE: {test_mse}')\n",
    "\n",
    "import tensorflow as tf\n",
    "def huber_loss(y_test, yp_p2, delta=1.0):\n",
    "    error = y_test - yp_p2\n",
    "    condition = tf.abs(error) < delta\n",
    "    squared_loss = 0.5 * tf.square(error)\n",
    "    linear_loss = delta * (tf.abs(error) - 0.5 * delta)\n",
    "    return tf.where(condition, squared_loss, linear_loss)\n",
    "\n",
    "loss = huber_loss(y_test, yp_p2, delta=1.0)\n",
    "print(\"Huber Loss:\", loss.numpy())\n",
    "\n",
    "mean_huber_loss = np.mean(loss)\n",
    "print(f\"Mean Huber Loss: {mean_huber_loss}\")"
   ]
  },
  {
   "cell_type": "markdown",
   "id": "be519e94",
   "metadata": {},
   "source": [
    "## Not overfitting "
   ]
  },
  {
   "cell_type": "markdown",
   "id": "1e3e34cb",
   "metadata": {},
   "source": []
  },
  {
   "cell_type": "code",
   "execution_count": 43,
   "id": "f5aed552",
   "metadata": {},
   "outputs": [
    {
     "name": "stdout",
     "output_type": "stream",
     "text": [
      "Mean Squared Error: 202259.78873932717\n",
      "R-squared: 0.4995348293603358\n"
     ]
    }
   ],
   "source": [
    "degree = 3\n",
    "poly_features = PolynomialFeatures(degree=degree)\n",
    "\n",
    "X_train_poly = poly_features.fit_transform(X_train_scaled)\n",
    "X_test_poly = poly_features.transform(X_test_scaled)\n",
    "\n",
    "poly_reg = LinearRegression()\n",
    "poly_reg.fit(X_train_poly, y_train)\n",
    "\n",
    "yp_p3 = poly_reg.predict(X_test_poly)\n",
    "\n",
    "mse = mean_squared_error(y_test, yp_p3)\n",
    "r2 = r2_score(y_test, yp_p3)\n",
    "\n",
    "print(f'Mean Squared Error: {mse}')\n",
    "print(f'R-squared: {r2}')"
   ]
  },
  {
   "cell_type": "markdown",
   "id": "0a86ab62",
   "metadata": {},
   "source": [
    "## Ridge"
   ]
  },
  {
   "cell_type": "code",
   "execution_count": 44,
   "id": "4102f4b3",
   "metadata": {},
   "outputs": [
    {
     "name": "stdout",
     "output_type": "stream",
     "text": [
      "Mean Squared Error (Ridge): 242788.79081971946\n",
      "R-squared (Ridge): 0.39925115919315257\n"
     ]
    }
   ],
   "source": [
    "from sklearn.linear_model import Ridge\n",
    "\n",
    "ridge_reg = Ridge(alpha=1.0)  # Adjust alpha based on the strength of regularization\n",
    "ridge_reg.fit(X_train_scaled, y_train)\n",
    "\n",
    "yp_lnR = ridge_reg.predict(X_test_scaled)\n",
    "\n",
    "mse = mean_squared_error(y_test, yp_lnR)\n",
    "r2 = r2_score(y_test, yp_lnR)\n",
    "\n",
    "print(f'Mean Squared Error (Ridge): {mse}')\n",
    "print(f'R-squared (Ridge): {r2}')"
   ]
  },
  {
   "cell_type": "code",
   "execution_count": 45,
   "id": "64ba5acc",
   "metadata": {},
   "outputs": [
    {
     "data": {
      "text/html": [
       "<div>\n",
       "<style scoped>\n",
       "    .dataframe tbody tr th:only-of-type {\n",
       "        vertical-align: middle;\n",
       "    }\n",
       "\n",
       "    .dataframe tbody tr th {\n",
       "        vertical-align: top;\n",
       "    }\n",
       "\n",
       "    .dataframe thead th {\n",
       "        text-align: right;\n",
       "    }\n",
       "</style>\n",
       "<table border=\"1\" class=\"dataframe\">\n",
       "  <thead>\n",
       "    <tr style=\"text-align: right;\">\n",
       "      <th></th>\n",
       "      <th>Actual</th>\n",
       "      <th>Predicted</th>\n",
       "    </tr>\n",
       "  </thead>\n",
       "  <tbody>\n",
       "    <tr>\n",
       "      <th>0</th>\n",
       "      <td>278.0</td>\n",
       "      <td>830.886403</td>\n",
       "    </tr>\n",
       "    <tr>\n",
       "      <th>1</th>\n",
       "      <td>96.0</td>\n",
       "      <td>-21.193754</td>\n",
       "    </tr>\n",
       "    <tr>\n",
       "      <th>2</th>\n",
       "      <td>215.0</td>\n",
       "      <td>603.804502</td>\n",
       "    </tr>\n",
       "    <tr>\n",
       "      <th>3</th>\n",
       "      <td>1290.0</td>\n",
       "      <td>967.492646</td>\n",
       "    </tr>\n",
       "    <tr>\n",
       "      <th>4</th>\n",
       "      <td>165.0</td>\n",
       "      <td>719.198340</td>\n",
       "    </tr>\n",
       "  </tbody>\n",
       "</table>\n",
       "</div>"
      ],
      "text/plain": [
       "   Actual   Predicted\n",
       "0   278.0  830.886403\n",
       "1    96.0  -21.193754\n",
       "2   215.0  603.804502\n",
       "3  1290.0  967.492646\n",
       "4   165.0  719.198340"
      ]
     },
     "execution_count": 45,
     "metadata": {},
     "output_type": "execute_result"
    }
   ],
   "source": [
    "pred_lnR = pd.DataFrame({'Actual': y_test, 'Predicted': yp_lnR})\n",
    "pred_lnR.head()"
   ]
  },
  {
   "cell_type": "code",
   "execution_count": 46,
   "id": "05ceb1dd",
   "metadata": {},
   "outputs": [
    {
     "name": "stdout",
     "output_type": "stream",
     "text": [
      "Mean Squared Error (Ridge): 223465.61354643287\n",
      "Root Mean Squared Error: 472.72149681015446\n",
      "R-squared (Ridge): 0.4470638127692883\n",
      "Adjusted R-squared: 0.3985641965392853\n"
     ]
    }
   ],
   "source": [
    "degree = 2\n",
    "\n",
    "poly = PolynomialFeatures(degree=degree, include_bias=False)\n",
    "X_train_poly = poly.fit_transform(X_train_scaled)\n",
    "X_test_poly = poly.transform(X_test_scaled)\n",
    "\n",
    "ridge_reg2 = Ridge(alpha = 10.0) \n",
    "ridge_reg2.fit(X_train_poly, y_train)\n",
    "\n",
    "yp_rp2 = ridge_reg2.predict(X_test_poly)\n",
    "\n",
    "mse_ridge = mean_squared_error(y_test, yp_rp2)\n",
    "mse_ridge_r = mean_squared_error(y_test, yp_rp2, squared = False)\n",
    "r2_ridge = r2_score(y_test, yp_rp2)\n",
    "\n",
    "n = len(y_test)\n",
    "k = X_train_scaled.shape[1]  \n",
    "adj_r2 = 1 - ((1 - r2) * (n - 1) / (n - k - 1))\n",
    "\n",
    "print(f'Mean Squared Error (Ridge): {mse_ridge}')\n",
    "print(f'Root Mean Squared Error: {mse_ridge_r}')\n",
    "print(f'R-squared (Ridge): {r2_ridge}')\n",
    "print(f'Adjusted R-squared: {adj_r2}')"
   ]
  },
  {
   "cell_type": "code",
   "execution_count": 47,
   "id": "833cbaac",
   "metadata": {},
   "outputs": [
    {
     "data": {
      "text/plain": [
       "0.38995153345812467"
      ]
     },
     "execution_count": 47,
     "metadata": {},
     "output_type": "execute_result"
    }
   ],
   "source": [
    "score_rp2 = cross_val_score(ridge_reg2, X_test_scaled, y_test, cv = 5, scoring = 'r2').mean()\n",
    "score_rp2"
   ]
  },
  {
   "cell_type": "code",
   "execution_count": 48,
   "id": "00cbb057",
   "metadata": {},
   "outputs": [
    {
     "name": "stdout",
     "output_type": "stream",
     "text": [
      "Training MSE: 226873.3318295576\n",
      "Validation MSE: 223465.61354643287\n",
      "Mean Huber Loss: 335.1979898962455\n"
     ]
    }
   ],
   "source": [
    "train_pred = ridge_reg2.predict(X_train_poly)\n",
    "test_pred = ridge_reg2.predict(X_test_poly)\n",
    "\n",
    "from sklearn.metrics import mean_squared_error, r2_score\n",
    "\n",
    "train_mse = mean_squared_error(y_train, train_pred)\n",
    "test_mse = mean_squared_error(y_test, test_pred)\n",
    "\n",
    "print(f'Training MSE: {train_mse}')\n",
    "print(f'Validation MSE: {test_mse}')\n",
    "\n",
    "import tensorflow as tf\n",
    "def huber_loss(y_test, yp_rp2, delta = 1.0):\n",
    "    error = y_test - yp_rp2\n",
    "    condition = tf.abs(error) < delta\n",
    "    squared_loss = 0.5 * tf.square(error)\n",
    "    linear_loss = delta * (tf.abs(error) - 0.5 * delta)\n",
    "    return tf.where(condition, squared_loss, linear_loss)\n",
    "\n",
    "loss = huber_loss(y_test, yp_rp2, delta = 1.0)\n",
    "#print(\"Huber Loss:\", loss.numpy())\n",
    "\n",
    "mean_huber_loss = np.mean(loss)\n",
    "print(f\"Mean Huber Loss: {mean_huber_loss}\")"
   ]
  },
  {
   "cell_type": "markdown",
   "id": "9f1962cb",
   "metadata": {},
   "source": [
    "## No overfitting but significant difference between R2 and Adjusted R2"
   ]
  },
  {
   "cell_type": "markdown",
   "id": "3acc9d3d",
   "metadata": {},
   "source": []
  },
  {
   "cell_type": "markdown",
   "id": "ec8b581e",
   "metadata": {},
   "source": [
    "## Lasso"
   ]
  },
  {
   "cell_type": "code",
   "execution_count": 49,
   "id": "8e1e9c71",
   "metadata": {},
   "outputs": [
    {
     "name": "stdout",
     "output_type": "stream",
     "text": [
      "Mean Squared Error (Lasso): 242764.9455925631\n",
      "R-squared (Lasso): 0.39931016106273887\n"
     ]
    }
   ],
   "source": [
    "from sklearn.linear_model import Lasso\n",
    "\n",
    "lasso_reg = Lasso(alpha=1.0) \n",
    "lasso_reg.fit(X_train_scaled, y_train)\n",
    "\n",
    "yp_lnL = lasso_reg.predict(X_test_scaled)\n",
    "\n",
    "mse = mean_squared_error(y_test, yp_lnL)\n",
    "r2 = r2_score(y_test, yp_lnL)\n",
    "\n",
    "print(f'Mean Squared Error (Lasso): {mse}')\n",
    "print(f'R-squared (Lasso): {r2}')"
   ]
  },
  {
   "cell_type": "code",
   "execution_count": 50,
   "id": "d5922ae0",
   "metadata": {},
   "outputs": [
    {
     "name": "stdout",
     "output_type": "stream",
     "text": [
      "Mean Squared Error (Lasso): 226845.03330264846\n",
      "R-squared (Lasso): 0.4387018843034318\n"
     ]
    }
   ],
   "source": [
    "degree = 2\n",
    "\n",
    "poly = PolynomialFeatures(degree=degree, include_bias=False)\n",
    "X_train_poly = poly.fit_transform(X_train_scaled)\n",
    "X_test_poly = poly.transform(X_test_scaled)\n",
    " \n",
    "lasso_reg = Lasso(alpha = 10.0, max_iter = 100000)\n",
    "lasso_reg.fit(X_train_poly, y_train)\n",
    "\n",
    "yp_lp2 = lasso_reg.predict(X_test_poly)\n",
    "\n",
    "mse_lasso = mean_squared_error(y_test, yp_lp2)\n",
    "r2_lasso = r2_score(y_test, yp_lp2)\n",
    "\n",
    "print(f'Mean Squared Error (Lasso): {mse_lasso}')\n",
    "print(f'R-squared (Lasso): {r2_lasso}')"
   ]
  },
  {
   "cell_type": "markdown",
   "id": "e63b392d",
   "metadata": {},
   "source": []
  },
  {
   "cell_type": "markdown",
   "id": "fd85fb6b",
   "metadata": {},
   "source": [
    "# Random Forest"
   ]
  },
  {
   "cell_type": "code",
   "execution_count": 51,
   "id": "be5d6dc6",
   "metadata": {},
   "outputs": [],
   "source": [
    "from sklearn.ensemble import RandomForestRegressor"
   ]
  },
  {
   "cell_type": "code",
   "execution_count": 52,
   "id": "c38de7ad",
   "metadata": {},
   "outputs": [
    {
     "name": "stdout",
     "output_type": "stream",
     "text": [
      "Best Hyperparameters: {'max_depth': 10, 'min_samples_leaf': 4, 'n_estimators': 100}\n",
      "Mean Squared Error: 167026.3267661557\n",
      "Root Mean Squared Error: 408.6885449412005\n",
      "R-squared (Best Model): 0.5867153839754451\n",
      "Adjusted R-squared: 0.3986232658781337\n"
     ]
    }
   ],
   "source": [
    "from sklearn.model_selection import GridSearchCV\n",
    "\n",
    "param_grid = {\n",
    "    'n_estimators': [50, 100, 200],\n",
    "    'max_depth': [None, 10, 20],\n",
    "    'min_samples_leaf': [1, 2, 4]\n",
    "}\n",
    "\n",
    "grid_search = GridSearchCV(RandomForestRegressor(random_state = 12), param_grid, cv = 5, scoring = 'r2')\n",
    "grid_search.fit(X_train_scaled, y_train)\n",
    "\n",
    "best_params = grid_search.best_params_\n",
    "best_model = grid_search.best_estimator_\n",
    "\n",
    "y_pred_best = best_model.predict(X_test_scaled)\n",
    "mse = mean_squared_error(y_test, y_pred_best)\n",
    "mse_r = mean_squared_error(y_test, y_pred_best, squared = False)\n",
    "r2_best = r2_score(y_test, y_pred_best)\n",
    "\n",
    "n = len(y_test)\n",
    "k = X_train_scaled.shape[1]  \n",
    "adj_r2 = 1 - ((1 - r2) * (n - 1) / (n - k - 1))\n",
    "\n",
    "print(f'Best Hyperparameters: {best_params}')\n",
    "print(f'Mean Squared Error: {mse}')\n",
    "print(f'Root Mean Squared Error: {mse_r}')\n",
    "print(f'R-squared (Best Model): {r2_best}')\n",
    "print(f'Adjusted R-squared: {adj_r2}')"
   ]
  },
  {
   "cell_type": "code",
   "execution_count": 53,
   "id": "71731a18",
   "metadata": {},
   "outputs": [
    {
     "data": {
      "text/plain": [
       "0.5410243375530565"
      ]
     },
     "execution_count": 53,
     "metadata": {},
     "output_type": "execute_result"
    }
   ],
   "source": [
    "score_rf = cross_val_score(RandomForestRegressor(max_depth = 10,\n",
    "                                              min_samples_leaf = 4, \n",
    "                                              n_estimators = 200,\n",
    "                                              random_state = 12), X_test_scaled, y_test, \n",
    "                           cv = 10, scoring = 'r2').mean()\n",
    "score_rf"
   ]
  },
  {
   "cell_type": "code",
   "execution_count": 54,
   "id": "0214ede1",
   "metadata": {},
   "outputs": [
    {
     "data": {
      "text/html": [
       "<div>\n",
       "<style scoped>\n",
       "    .dataframe tbody tr th:only-of-type {\n",
       "        vertical-align: middle;\n",
       "    }\n",
       "\n",
       "    .dataframe tbody tr th {\n",
       "        vertical-align: top;\n",
       "    }\n",
       "\n",
       "    .dataframe thead th {\n",
       "        text-align: right;\n",
       "    }\n",
       "</style>\n",
       "<table border=\"1\" class=\"dataframe\">\n",
       "  <thead>\n",
       "    <tr style=\"text-align: right;\">\n",
       "      <th></th>\n",
       "      <th>Actual</th>\n",
       "      <th>Predicted</th>\n",
       "    </tr>\n",
       "  </thead>\n",
       "  <tbody>\n",
       "    <tr>\n",
       "      <th>0</th>\n",
       "      <td>278.0</td>\n",
       "      <td>338.867429</td>\n",
       "    </tr>\n",
       "    <tr>\n",
       "      <th>1</th>\n",
       "      <td>96.0</td>\n",
       "      <td>158.759999</td>\n",
       "    </tr>\n",
       "    <tr>\n",
       "      <th>2</th>\n",
       "      <td>215.0</td>\n",
       "      <td>166.600270</td>\n",
       "    </tr>\n",
       "  </tbody>\n",
       "</table>\n",
       "</div>"
      ],
      "text/plain": [
       "   Actual   Predicted\n",
       "0   278.0  338.867429\n",
       "1    96.0  158.759999\n",
       "2   215.0  166.600270"
      ]
     },
     "execution_count": 54,
     "metadata": {},
     "output_type": "execute_result"
    }
   ],
   "source": [
    "pred_rf = pd.DataFrame({'Actual': y_test, 'Predicted': y_pred_best})\n",
    "pred_rf.head(3)"
   ]
  },
  {
   "cell_type": "code",
   "execution_count": null,
   "id": "592c5f08",
   "metadata": {},
   "outputs": [],
   "source": []
  },
  {
   "cell_type": "code",
   "execution_count": 55,
   "id": "20fc16cf",
   "metadata": {},
   "outputs": [
    {
     "name": "stdout",
     "output_type": "stream",
     "text": [
      "Training MSE: 121619.56725421119\n",
      "Validation MSE: 167026.3267661557\n",
      "Mean Huber Loss: 257.91922503534374\n"
     ]
    }
   ],
   "source": [
    "train_pred = best_model.predict(X_train_scaled)\n",
    "test_pred = best_model.predict(X_test_scaled)\n",
    "\n",
    "from sklearn.metrics import mean_squared_error, r2_score\n",
    "\n",
    "train_mse = mean_squared_error(y_train, train_pred)\n",
    "test_mse = mean_squared_error(y_test, test_pred)\n",
    "\n",
    "print(f'Training MSE: {train_mse}')\n",
    "print(f'Validation MSE: {test_mse}')\n",
    "\n",
    "import tensorflow as tf\n",
    "def huber_loss(y_test, y_pred_best, delta = 1.0):\n",
    "    error = y_test - y_pred_best\n",
    "    condition = tf.abs(error) < delta\n",
    "    squared_loss = 0.5 * tf.square(error)\n",
    "    linear_loss = delta * (tf.abs(error) - 0.5 * delta)\n",
    "    return tf.where(condition, squared_loss, linear_loss)\n",
    "\n",
    "loss = huber_loss(y_test, y_pred_best, delta = 1.0)\n",
    "#print(\"Huber Loss:\", loss.numpy())\n",
    "\n",
    "mean_huber_loss = np.mean(loss)\n",
    "print(f\"Mean Huber Loss: {mean_huber_loss}\")"
   ]
  },
  {
   "cell_type": "markdown",
   "id": "6242d3fd",
   "metadata": {},
   "source": [
    "## Overfitting here and big difference between R2 and Adjusted R2"
   ]
  },
  {
   "cell_type": "code",
   "execution_count": null,
   "id": "8c78a37f",
   "metadata": {},
   "outputs": [],
   "source": []
  },
  {
   "cell_type": "code",
   "execution_count": null,
   "id": "b16b412d",
   "metadata": {},
   "outputs": [],
   "source": []
  },
  {
   "cell_type": "markdown",
   "id": "2d6d7853",
   "metadata": {},
   "source": [
    "# ANN"
   ]
  },
  {
   "cell_type": "code",
   "execution_count": 56,
   "id": "665034be",
   "metadata": {},
   "outputs": [
    {
     "name": "stdout",
     "output_type": "stream",
     "text": [
      "Requirement already satisfied: tensorflow in /Users/izaiaszacca/anaconda3/lib/python3.11/site-packages (2.15.0)\n",
      "Requirement already satisfied: tensorflow-macos==2.15.0 in /Users/izaiaszacca/anaconda3/lib/python3.11/site-packages (from tensorflow) (2.15.0)\n",
      "Requirement already satisfied: absl-py>=1.0.0 in /Users/izaiaszacca/anaconda3/lib/python3.11/site-packages (from tensorflow-macos==2.15.0->tensorflow) (2.0.0)\n",
      "Requirement already satisfied: astunparse>=1.6.0 in /Users/izaiaszacca/anaconda3/lib/python3.11/site-packages (from tensorflow-macos==2.15.0->tensorflow) (1.6.3)\n",
      "Requirement already satisfied: flatbuffers>=23.5.26 in /Users/izaiaszacca/anaconda3/lib/python3.11/site-packages (from tensorflow-macos==2.15.0->tensorflow) (23.5.26)\n",
      "Requirement already satisfied: gast!=0.5.0,!=0.5.1,!=0.5.2,>=0.2.1 in /Users/izaiaszacca/anaconda3/lib/python3.11/site-packages (from tensorflow-macos==2.15.0->tensorflow) (0.5.4)\n",
      "Requirement already satisfied: google-pasta>=0.1.1 in /Users/izaiaszacca/anaconda3/lib/python3.11/site-packages (from tensorflow-macos==2.15.0->tensorflow) (0.2.0)\n",
      "Requirement already satisfied: h5py>=2.9.0 in /Users/izaiaszacca/anaconda3/lib/python3.11/site-packages (from tensorflow-macos==2.15.0->tensorflow) (3.9.0)\n",
      "Requirement already satisfied: libclang>=13.0.0 in /Users/izaiaszacca/anaconda3/lib/python3.11/site-packages (from tensorflow-macos==2.15.0->tensorflow) (16.0.6)\n",
      "Requirement already satisfied: ml-dtypes~=0.2.0 in /Users/izaiaszacca/anaconda3/lib/python3.11/site-packages (from tensorflow-macos==2.15.0->tensorflow) (0.2.0)\n",
      "Requirement already satisfied: numpy<2.0.0,>=1.23.5 in /Users/izaiaszacca/anaconda3/lib/python3.11/site-packages (from tensorflow-macos==2.15.0->tensorflow) (1.24.3)\n",
      "Requirement already satisfied: opt-einsum>=2.3.2 in /Users/izaiaszacca/anaconda3/lib/python3.11/site-packages (from tensorflow-macos==2.15.0->tensorflow) (3.3.0)\n",
      "Requirement already satisfied: packaging in /Users/izaiaszacca/anaconda3/lib/python3.11/site-packages (from tensorflow-macos==2.15.0->tensorflow) (23.1)\n",
      "Requirement already satisfied: protobuf!=4.21.0,!=4.21.1,!=4.21.2,!=4.21.3,!=4.21.4,!=4.21.5,<5.0.0dev,>=3.20.3 in /Users/izaiaszacca/anaconda3/lib/python3.11/site-packages (from tensorflow-macos==2.15.0->tensorflow) (4.23.4)\n",
      "Requirement already satisfied: setuptools in /Users/izaiaszacca/anaconda3/lib/python3.11/site-packages (from tensorflow-macos==2.15.0->tensorflow) (68.0.0)\n",
      "Requirement already satisfied: six>=1.12.0 in /Users/izaiaszacca/anaconda3/lib/python3.11/site-packages (from tensorflow-macos==2.15.0->tensorflow) (1.16.0)\n",
      "Requirement already satisfied: termcolor>=1.1.0 in /Users/izaiaszacca/anaconda3/lib/python3.11/site-packages (from tensorflow-macos==2.15.0->tensorflow) (2.3.0)\n",
      "Requirement already satisfied: typing-extensions>=3.6.6 in /Users/izaiaszacca/anaconda3/lib/python3.11/site-packages (from tensorflow-macos==2.15.0->tensorflow) (4.7.1)\n",
      "Requirement already satisfied: wrapt<1.15,>=1.11.0 in /Users/izaiaszacca/anaconda3/lib/python3.11/site-packages (from tensorflow-macos==2.15.0->tensorflow) (1.14.1)\n",
      "Requirement already satisfied: tensorflow-io-gcs-filesystem>=0.23.1 in /Users/izaiaszacca/anaconda3/lib/python3.11/site-packages (from tensorflow-macos==2.15.0->tensorflow) (0.34.0)\n",
      "Requirement already satisfied: grpcio<2.0,>=1.24.3 in /Users/izaiaszacca/anaconda3/lib/python3.11/site-packages (from tensorflow-macos==2.15.0->tensorflow) (1.59.3)\n",
      "Requirement already satisfied: tensorboard<2.16,>=2.15 in /Users/izaiaszacca/anaconda3/lib/python3.11/site-packages (from tensorflow-macos==2.15.0->tensorflow) (2.15.1)\n",
      "Requirement already satisfied: tensorflow-estimator<2.16,>=2.15.0 in /Users/izaiaszacca/anaconda3/lib/python3.11/site-packages (from tensorflow-macos==2.15.0->tensorflow) (2.15.0)\n",
      "Requirement already satisfied: keras<2.16,>=2.15.0 in /Users/izaiaszacca/anaconda3/lib/python3.11/site-packages (from tensorflow-macos==2.15.0->tensorflow) (2.15.0)\n",
      "Requirement already satisfied: wheel<1.0,>=0.23.0 in /Users/izaiaszacca/anaconda3/lib/python3.11/site-packages (from astunparse>=1.6.0->tensorflow-macos==2.15.0->tensorflow) (0.38.4)\n",
      "Requirement already satisfied: google-auth<3,>=1.6.3 in /Users/izaiaszacca/anaconda3/lib/python3.11/site-packages (from tensorboard<2.16,>=2.15->tensorflow-macos==2.15.0->tensorflow) (2.23.4)\n",
      "Requirement already satisfied: google-auth-oauthlib<2,>=0.5 in /Users/izaiaszacca/anaconda3/lib/python3.11/site-packages (from tensorboard<2.16,>=2.15->tensorflow-macos==2.15.0->tensorflow) (1.1.0)\n",
      "Requirement already satisfied: markdown>=2.6.8 in /Users/izaiaszacca/anaconda3/lib/python3.11/site-packages (from tensorboard<2.16,>=2.15->tensorflow-macos==2.15.0->tensorflow) (3.4.1)\n",
      "Requirement already satisfied: requests<3,>=2.21.0 in /Users/izaiaszacca/anaconda3/lib/python3.11/site-packages (from tensorboard<2.16,>=2.15->tensorflow-macos==2.15.0->tensorflow) (2.31.0)\n",
      "Requirement already satisfied: tensorboard-data-server<0.8.0,>=0.7.0 in /Users/izaiaszacca/anaconda3/lib/python3.11/site-packages (from tensorboard<2.16,>=2.15->tensorflow-macos==2.15.0->tensorflow) (0.7.2)\n",
      "Requirement already satisfied: werkzeug>=1.0.1 in /Users/izaiaszacca/anaconda3/lib/python3.11/site-packages (from tensorboard<2.16,>=2.15->tensorflow-macos==2.15.0->tensorflow) (2.2.3)\n",
      "Requirement already satisfied: cachetools<6.0,>=2.0.0 in /Users/izaiaszacca/anaconda3/lib/python3.11/site-packages (from google-auth<3,>=1.6.3->tensorboard<2.16,>=2.15->tensorflow-macos==2.15.0->tensorflow) (5.3.2)\n",
      "Requirement already satisfied: pyasn1-modules>=0.2.1 in /Users/izaiaszacca/anaconda3/lib/python3.11/site-packages (from google-auth<3,>=1.6.3->tensorboard<2.16,>=2.15->tensorflow-macos==2.15.0->tensorflow) (0.2.8)\n",
      "Requirement already satisfied: rsa<5,>=3.1.4 in /Users/izaiaszacca/anaconda3/lib/python3.11/site-packages (from google-auth<3,>=1.6.3->tensorboard<2.16,>=2.15->tensorflow-macos==2.15.0->tensorflow) (4.9)\n",
      "Requirement already satisfied: requests-oauthlib>=0.7.0 in /Users/izaiaszacca/anaconda3/lib/python3.11/site-packages (from google-auth-oauthlib<2,>=0.5->tensorboard<2.16,>=2.15->tensorflow-macos==2.15.0->tensorflow) (1.3.1)\n",
      "Requirement already satisfied: charset-normalizer<4,>=2 in /Users/izaiaszacca/anaconda3/lib/python3.11/site-packages (from requests<3,>=2.21.0->tensorboard<2.16,>=2.15->tensorflow-macos==2.15.0->tensorflow) (2.0.4)\n",
      "Requirement already satisfied: idna<4,>=2.5 in /Users/izaiaszacca/anaconda3/lib/python3.11/site-packages (from requests<3,>=2.21.0->tensorboard<2.16,>=2.15->tensorflow-macos==2.15.0->tensorflow) (3.4)\n",
      "Requirement already satisfied: urllib3<3,>=1.21.1 in /Users/izaiaszacca/anaconda3/lib/python3.11/site-packages (from requests<3,>=2.21.0->tensorboard<2.16,>=2.15->tensorflow-macos==2.15.0->tensorflow) (1.26.16)\n",
      "Requirement already satisfied: certifi>=2017.4.17 in /Users/izaiaszacca/anaconda3/lib/python3.11/site-packages (from requests<3,>=2.21.0->tensorboard<2.16,>=2.15->tensorflow-macos==2.15.0->tensorflow) (2023.7.22)\n",
      "Requirement already satisfied: MarkupSafe>=2.1.1 in /Users/izaiaszacca/anaconda3/lib/python3.11/site-packages (from werkzeug>=1.0.1->tensorboard<2.16,>=2.15->tensorflow-macos==2.15.0->tensorflow) (2.1.1)\n",
      "Requirement already satisfied: pyasn1<0.5.0,>=0.4.6 in /Users/izaiaszacca/anaconda3/lib/python3.11/site-packages (from pyasn1-modules>=0.2.1->google-auth<3,>=1.6.3->tensorboard<2.16,>=2.15->tensorflow-macos==2.15.0->tensorflow) (0.4.8)\n",
      "Requirement already satisfied: oauthlib>=3.0.0 in /Users/izaiaszacca/anaconda3/lib/python3.11/site-packages (from requests-oauthlib>=0.7.0->google-auth-oauthlib<2,>=0.5->tensorboard<2.16,>=2.15->tensorflow-macos==2.15.0->tensorflow) (3.2.2)\n",
      "Requirement already satisfied: keras in /Users/izaiaszacca/anaconda3/lib/python3.11/site-packages (2.15.0)\n"
     ]
    }
   ],
   "source": [
    " !pip install tensorflow\n",
    " !pip install keras"
   ]
  },
  {
   "cell_type": "code",
   "execution_count": 57,
   "id": "16fec597",
   "metadata": {},
   "outputs": [],
   "source": [
    "import numpy as np\n",
    "import tensorflow as tf\n",
    "from tensorflow import keras"
   ]
  },
  {
   "cell_type": "code",
   "execution_count": 58,
   "id": "d5178b1d",
   "metadata": {},
   "outputs": [
    {
     "name": "stdout",
     "output_type": "stream",
     "text": [
      "Epoch 1/300\n",
      "88/88 [==============================] - 0s 1ms/step - loss: 917322.6250 - val_loss: 925312.8125\n",
      "Epoch 2/300\n",
      "88/88 [==============================] - 0s 509us/step - loss: 908341.6250 - val_loss: 889459.5000\n",
      "Epoch 3/300\n",
      "88/88 [==============================] - 0s 577us/step - loss: 743071.9375 - val_loss: 523334.6250\n",
      "Epoch 4/300\n",
      "88/88 [==============================] - 0s 542us/step - loss: 369757.6250 - val_loss: 326876.5000\n",
      "Epoch 5/300\n",
      "88/88 [==============================] - 0s 539us/step - loss: 321977.1875 - val_loss: 322288.9688\n",
      "Epoch 6/300\n",
      "88/88 [==============================] - 0s 545us/step - loss: 317416.9688 - val_loss: 317448.9375\n",
      "Epoch 7/300\n",
      "88/88 [==============================] - 0s 535us/step - loss: 312687.4375 - val_loss: 312884.1875\n",
      "Epoch 8/300\n",
      "88/88 [==============================] - 0s 520us/step - loss: 307883.8750 - val_loss: 307894.6875\n",
      "Epoch 9/300\n",
      "88/88 [==============================] - 0s 523us/step - loss: 303169.8125 - val_loss: 302939.6875\n",
      "Epoch 10/300\n",
      "88/88 [==============================] - 0s 541us/step - loss: 298402.1562 - val_loss: 297994.0000\n",
      "Epoch 11/300\n",
      "88/88 [==============================] - 0s 536us/step - loss: 293691.2500 - val_loss: 292940.9062\n",
      "Epoch 12/300\n",
      "88/88 [==============================] - 0s 539us/step - loss: 288545.8125 - val_loss: 287474.1562\n",
      "Epoch 13/300\n",
      "88/88 [==============================] - 0s 539us/step - loss: 283423.3125 - val_loss: 282325.5625\n",
      "Epoch 14/300\n",
      "88/88 [==============================] - 0s 555us/step - loss: 278529.0312 - val_loss: 277120.6875\n",
      "Epoch 15/300\n",
      "88/88 [==============================] - 0s 565us/step - loss: 273460.7812 - val_loss: 271758.5000\n",
      "Epoch 16/300\n",
      "88/88 [==============================] - 0s 533us/step - loss: 268700.1875 - val_loss: 266913.5312\n",
      "Epoch 17/300\n",
      "88/88 [==============================] - 0s 551us/step - loss: 264015.5938 - val_loss: 262513.6875\n",
      "Epoch 18/300\n",
      "88/88 [==============================] - 0s 545us/step - loss: 259724.2344 - val_loss: 257898.1406\n",
      "Epoch 19/300\n",
      "88/88 [==============================] - 0s 568us/step - loss: 255981.6406 - val_loss: 254036.4531\n",
      "Epoch 20/300\n",
      "88/88 [==============================] - 0s 547us/step - loss: 252588.0000 - val_loss: 250997.2969\n",
      "Epoch 21/300\n",
      "88/88 [==============================] - 0s 542us/step - loss: 250127.7031 - val_loss: 247677.1406\n",
      "Epoch 22/300\n",
      "88/88 [==============================] - 0s 536us/step - loss: 247428.5469 - val_loss: 245285.5625\n",
      "Epoch 23/300\n",
      "88/88 [==============================] - 0s 520us/step - loss: 245178.2031 - val_loss: 242878.2188\n",
      "Epoch 24/300\n",
      "88/88 [==============================] - 0s 616us/step - loss: 243664.2344 - val_loss: 241932.7812\n",
      "Epoch 25/300\n",
      "88/88 [==============================] - 0s 642us/step - loss: 242202.0938 - val_loss: 239495.4844\n",
      "Epoch 26/300\n",
      "88/88 [==============================] - 0s 606us/step - loss: 241125.6250 - val_loss: 238112.9531\n",
      "Epoch 27/300\n",
      "88/88 [==============================] - 0s 617us/step - loss: 240275.6562 - val_loss: 236828.6875\n",
      "Epoch 28/300\n",
      "88/88 [==============================] - 0s 568us/step - loss: 239150.4688 - val_loss: 236261.6562\n",
      "Epoch 29/300\n",
      "88/88 [==============================] - 0s 673us/step - loss: 238408.2031 - val_loss: 236007.1406\n",
      "Epoch 30/300\n",
      "88/88 [==============================] - 0s 604us/step - loss: 237536.4062 - val_loss: 234551.7344\n",
      "Epoch 31/300\n",
      "88/88 [==============================] - 0s 609us/step - loss: 237418.0625 - val_loss: 233567.0469\n",
      "Epoch 32/300\n",
      "88/88 [==============================] - 0s 610us/step - loss: 236817.8594 - val_loss: 232844.8906\n",
      "Epoch 33/300\n",
      "88/88 [==============================] - 0s 551us/step - loss: 236136.5312 - val_loss: 232827.2031\n",
      "Epoch 34/300\n",
      "88/88 [==============================] - 0s 516us/step - loss: 235761.2500 - val_loss: 231908.4688\n",
      "Epoch 35/300\n",
      "88/88 [==============================] - 0s 537us/step - loss: 235655.0781 - val_loss: 231646.6562\n",
      "Epoch 36/300\n",
      "88/88 [==============================] - 0s 522us/step - loss: 235381.0625 - val_loss: 231137.6250\n",
      "Epoch 37/300\n",
      "88/88 [==============================] - 0s 566us/step - loss: 235226.0312 - val_loss: 230964.6094\n",
      "Epoch 38/300\n",
      "88/88 [==============================] - 0s 538us/step - loss: 235427.0312 - val_loss: 230767.9062\n",
      "Epoch 39/300\n",
      "88/88 [==============================] - 0s 546us/step - loss: 234968.6562 - val_loss: 230447.8125\n",
      "Epoch 40/300\n",
      "88/88 [==============================] - 0s 523us/step - loss: 234724.9844 - val_loss: 231154.9688\n",
      "Epoch 41/300\n",
      "88/88 [==============================] - 0s 529us/step - loss: 234944.4844 - val_loss: 230473.4688\n",
      "Epoch 42/300\n",
      "88/88 [==============================] - 0s 514us/step - loss: 234663.5469 - val_loss: 230067.4844\n",
      "Epoch 43/300\n",
      "88/88 [==============================] - 0s 513us/step - loss: 234513.4219 - val_loss: 229865.9062\n",
      "Epoch 44/300\n",
      "88/88 [==============================] - 0s 532us/step - loss: 234613.2500 - val_loss: 229942.5781\n",
      "Epoch 45/300\n",
      "88/88 [==============================] - 0s 543us/step - loss: 234340.3281 - val_loss: 229681.3750\n",
      "Epoch 46/300\n",
      "88/88 [==============================] - 0s 540us/step - loss: 234539.7969 - val_loss: 229635.5625\n",
      "Epoch 47/300\n",
      "88/88 [==============================] - 0s 547us/step - loss: 234308.4219 - val_loss: 229534.1562\n",
      "Epoch 48/300\n",
      "88/88 [==============================] - 0s 521us/step - loss: 234351.1562 - val_loss: 229430.5000\n",
      "Epoch 49/300\n",
      "88/88 [==============================] - 0s 522us/step - loss: 234243.2812 - val_loss: 229451.2812\n",
      "Epoch 50/300\n",
      "88/88 [==============================] - 0s 528us/step - loss: 234338.4062 - val_loss: 230041.3125\n",
      "Epoch 51/300\n",
      "88/88 [==============================] - 0s 540us/step - loss: 234161.1875 - val_loss: 229618.4219\n",
      "Epoch 52/300\n",
      "88/88 [==============================] - 0s 532us/step - loss: 234638.1094 - val_loss: 229426.8750\n",
      "Epoch 53/300\n",
      "88/88 [==============================] - 0s 556us/step - loss: 234194.5781 - val_loss: 229236.8906\n",
      "Epoch 54/300\n",
      "88/88 [==============================] - 0s 546us/step - loss: 234288.3125 - val_loss: 230121.9531\n",
      "Epoch 55/300\n",
      "88/88 [==============================] - 0s 517us/step - loss: 234102.0000 - val_loss: 230333.8594\n",
      "Epoch 56/300\n",
      "88/88 [==============================] - 0s 517us/step - loss: 234080.0781 - val_loss: 229667.6250\n",
      "Epoch 57/300\n",
      "88/88 [==============================] - 0s 499us/step - loss: 234337.5000 - val_loss: 229328.2500\n",
      "Epoch 58/300\n",
      "88/88 [==============================] - 0s 516us/step - loss: 234246.9375 - val_loss: 229646.7969\n",
      "Epoch 59/300\n",
      "88/88 [==============================] - 0s 512us/step - loss: 234388.0938 - val_loss: 229330.1250\n",
      "Epoch 60/300\n",
      "88/88 [==============================] - 0s 508us/step - loss: 234106.8125 - val_loss: 229288.6250\n",
      "Epoch 61/300\n",
      "88/88 [==============================] - 0s 496us/step - loss: 234168.5625 - val_loss: 229387.0312\n",
      "Epoch 62/300\n",
      "88/88 [==============================] - 0s 529us/step - loss: 234267.1875 - val_loss: 229068.6406\n",
      "Epoch 63/300\n",
      "88/88 [==============================] - 0s 520us/step - loss: 234011.8594 - val_loss: 229102.3125\n",
      "Epoch 64/300\n",
      "88/88 [==============================] - 0s 499us/step - loss: 234153.1875 - val_loss: 229206.9844\n",
      "Epoch 65/300\n",
      "88/88 [==============================] - 0s 493us/step - loss: 234001.2344 - val_loss: 229060.1719\n",
      "Epoch 66/300\n",
      "88/88 [==============================] - 0s 527us/step - loss: 234082.1406 - val_loss: 228955.5938\n",
      "Epoch 67/300\n",
      "88/88 [==============================] - 0s 503us/step - loss: 234188.2344 - val_loss: 229151.6094\n",
      "Epoch 68/300\n",
      "88/88 [==============================] - 0s 501us/step - loss: 234091.9531 - val_loss: 228924.2500\n",
      "Epoch 69/300\n",
      "88/88 [==============================] - 0s 495us/step - loss: 233866.2500 - val_loss: 229106.4844\n",
      "Epoch 70/300\n",
      "88/88 [==============================] - 0s 519us/step - loss: 233972.3750 - val_loss: 228897.3281\n",
      "Epoch 71/300\n",
      "88/88 [==============================] - 0s 506us/step - loss: 234091.3750 - val_loss: 229174.8906\n",
      "Epoch 72/300\n",
      "88/88 [==============================] - 0s 501us/step - loss: 234186.8750 - val_loss: 228835.2812\n",
      "Epoch 73/300\n",
      "88/88 [==============================] - 0s 497us/step - loss: 234108.1406 - val_loss: 229243.2812\n",
      "Epoch 74/300\n"
     ]
    },
    {
     "name": "stdout",
     "output_type": "stream",
     "text": [
      "88/88 [==============================] - 0s 522us/step - loss: 234326.8750 - val_loss: 228818.7812\n",
      "Epoch 75/300\n",
      "88/88 [==============================] - 0s 490us/step - loss: 233589.5469 - val_loss: 230870.7500\n",
      "Epoch 76/300\n",
      "88/88 [==============================] - 0s 484us/step - loss: 234442.9844 - val_loss: 229645.2344\n",
      "Epoch 77/300\n",
      "88/88 [==============================] - 0s 515us/step - loss: 233908.9688 - val_loss: 228806.8438\n",
      "Epoch 78/300\n",
      "88/88 [==============================] - 0s 502us/step - loss: 233823.3750 - val_loss: 229249.8906\n",
      "Epoch 79/300\n",
      "88/88 [==============================] - 0s 498us/step - loss: 233891.8750 - val_loss: 229797.4531\n",
      "Epoch 80/300\n",
      "88/88 [==============================] - 0s 512us/step - loss: 233766.7656 - val_loss: 228729.0156\n",
      "Epoch 81/300\n",
      "88/88 [==============================] - 0s 496us/step - loss: 233897.1719 - val_loss: 228974.4062\n",
      "Epoch 82/300\n",
      "88/88 [==============================] - 0s 506us/step - loss: 234117.9531 - val_loss: 228783.9375\n",
      "Epoch 83/300\n",
      "88/88 [==============================] - 0s 506us/step - loss: 233896.0938 - val_loss: 228725.6875\n",
      "Epoch 84/300\n",
      "88/88 [==============================] - 0s 508us/step - loss: 233934.4531 - val_loss: 228910.4688\n",
      "Epoch 85/300\n",
      "88/88 [==============================] - 0s 496us/step - loss: 233800.3281 - val_loss: 229769.3594\n",
      "Epoch 86/300\n",
      "88/88 [==============================] - 0s 508us/step - loss: 233776.8594 - val_loss: 228708.5000\n",
      "Epoch 87/300\n",
      "88/88 [==============================] - 0s 516us/step - loss: 233793.8438 - val_loss: 228915.1719\n",
      "Epoch 88/300\n",
      "88/88 [==============================] - 0s 505us/step - loss: 233839.7031 - val_loss: 228762.0156\n",
      "Epoch 89/300\n",
      "88/88 [==============================] - 0s 482us/step - loss: 234235.6406 - val_loss: 228705.9688\n",
      "Epoch 90/300\n",
      "88/88 [==============================] - 0s 506us/step - loss: 233918.7031 - val_loss: 228565.4844\n",
      "Epoch 91/300\n",
      "88/88 [==============================] - 0s 508us/step - loss: 234297.5312 - val_loss: 228642.9688\n",
      "Epoch 92/300\n",
      "88/88 [==============================] - 0s 502us/step - loss: 233975.5469 - val_loss: 228566.7500\n",
      "Epoch 93/300\n",
      "88/88 [==============================] - 0s 498us/step - loss: 233977.1250 - val_loss: 228524.9219\n",
      "Epoch 94/300\n",
      "88/88 [==============================] - 0s 500us/step - loss: 233594.2031 - val_loss: 230640.7344\n",
      "Epoch 95/300\n",
      "88/88 [==============================] - 0s 499us/step - loss: 233707.1094 - val_loss: 228902.1406\n",
      "Epoch 96/300\n",
      "88/88 [==============================] - 0s 508us/step - loss: 233941.4844 - val_loss: 228387.9062\n",
      "Epoch 97/300\n",
      "88/88 [==============================] - 0s 515us/step - loss: 233755.1875 - val_loss: 228290.4375\n",
      "Epoch 98/300\n",
      "88/88 [==============================] - 0s 503us/step - loss: 233560.0938 - val_loss: 228475.6406\n",
      "Epoch 99/300\n",
      "88/88 [==============================] - 0s 510us/step - loss: 233091.2500 - val_loss: 231110.3906\n",
      "Epoch 100/300\n",
      "88/88 [==============================] - 0s 489us/step - loss: 233750.3594 - val_loss: 228208.7344\n",
      "Epoch 101/300\n",
      "88/88 [==============================] - 0s 506us/step - loss: 233349.8438 - val_loss: 228802.9844\n",
      "Epoch 102/300\n",
      "88/88 [==============================] - 0s 517us/step - loss: 233315.6406 - val_loss: 228233.8125\n",
      "Epoch 103/300\n",
      "88/88 [==============================] - 0s 486us/step - loss: 233279.2969 - val_loss: 228048.8906\n",
      "Epoch 104/300\n",
      "88/88 [==============================] - 0s 506us/step - loss: 233407.9531 - val_loss: 229877.3125\n",
      "Epoch 105/300\n",
      "88/88 [==============================] - 0s 504us/step - loss: 233393.2656 - val_loss: 227702.2500\n",
      "Epoch 106/300\n",
      "88/88 [==============================] - 0s 503us/step - loss: 233231.1875 - val_loss: 227792.8750\n",
      "Epoch 107/300\n",
      "88/88 [==============================] - 0s 493us/step - loss: 233377.8125 - val_loss: 228096.7344\n",
      "Epoch 108/300\n",
      "88/88 [==============================] - 0s 508us/step - loss: 233648.6094 - val_loss: 227496.1250\n",
      "Epoch 109/300\n",
      "88/88 [==============================] - 0s 508us/step - loss: 233020.0312 - val_loss: 227465.3594\n",
      "Epoch 110/300\n",
      "88/88 [==============================] - 0s 505us/step - loss: 233202.9688 - val_loss: 227621.3438\n",
      "Epoch 111/300\n",
      "88/88 [==============================] - 0s 500us/step - loss: 232816.1250 - val_loss: 227522.6875\n",
      "Epoch 112/300\n",
      "88/88 [==============================] - 0s 507us/step - loss: 232790.8281 - val_loss: 227130.5938\n",
      "Epoch 113/300\n",
      "88/88 [==============================] - 0s 517us/step - loss: 232717.2656 - val_loss: 227359.8438\n",
      "Epoch 114/300\n",
      "88/88 [==============================] - 0s 505us/step - loss: 232998.2969 - val_loss: 227836.3906\n",
      "Epoch 115/300\n",
      "88/88 [==============================] - 0s 505us/step - loss: 232540.3750 - val_loss: 227327.2188\n",
      "Epoch 116/300\n",
      "88/88 [==============================] - 0s 507us/step - loss: 232412.7656 - val_loss: 226852.1719\n",
      "Epoch 117/300\n",
      "88/88 [==============================] - 0s 510us/step - loss: 232108.4531 - val_loss: 226903.3906\n",
      "Epoch 118/300\n",
      "88/88 [==============================] - 0s 513us/step - loss: 232503.8438 - val_loss: 226868.4531\n",
      "Epoch 119/300\n",
      "88/88 [==============================] - 0s 500us/step - loss: 231987.2812 - val_loss: 226730.8906\n",
      "Epoch 120/300\n",
      "88/88 [==============================] - 0s 504us/step - loss: 232132.1250 - val_loss: 227201.0469\n",
      "Epoch 121/300\n",
      "88/88 [==============================] - 0s 530us/step - loss: 231986.6719 - val_loss: 226864.8281\n",
      "Epoch 122/300\n",
      "88/88 [==============================] - 0s 515us/step - loss: 232075.4375 - val_loss: 226020.8438\n",
      "Epoch 123/300\n",
      "88/88 [==============================] - 0s 500us/step - loss: 231557.8281 - val_loss: 226992.8906\n",
      "Epoch 124/300\n",
      "88/88 [==============================] - 0s 505us/step - loss: 231653.4531 - val_loss: 225527.3438\n",
      "Epoch 125/300\n",
      "88/88 [==============================] - 0s 512us/step - loss: 231315.9844 - val_loss: 225545.2500\n",
      "Epoch 126/300\n",
      "88/88 [==============================] - 0s 490us/step - loss: 230997.3438 - val_loss: 225323.1562\n",
      "Epoch 127/300\n",
      "88/88 [==============================] - 0s 503us/step - loss: 230883.6719 - val_loss: 225150.5000\n",
      "Epoch 128/300\n",
      "88/88 [==============================] - 0s 509us/step - loss: 230527.7031 - val_loss: 225418.6562\n",
      "Epoch 129/300\n",
      "88/88 [==============================] - 0s 517us/step - loss: 230541.5000 - val_loss: 224500.0156\n",
      "Epoch 130/300\n",
      "88/88 [==============================] - 0s 500us/step - loss: 230455.8750 - val_loss: 225030.3906\n",
      "Epoch 131/300\n",
      "88/88 [==============================] - 0s 507us/step - loss: 230222.7031 - val_loss: 224607.0000\n",
      "Epoch 132/300\n",
      "88/88 [==============================] - 0s 511us/step - loss: 229835.4688 - val_loss: 224033.2969\n",
      "Epoch 133/300\n",
      "88/88 [==============================] - 0s 515us/step - loss: 229795.9844 - val_loss: 223388.3750\n",
      "Epoch 134/300\n",
      "88/88 [==============================] - 0s 506us/step - loss: 229383.0938 - val_loss: 223313.8281\n",
      "Epoch 135/300\n",
      "88/88 [==============================] - 0s 504us/step - loss: 228880.2344 - val_loss: 223000.5625\n",
      "Epoch 136/300\n",
      "88/88 [==============================] - 0s 516us/step - loss: 229046.8906 - val_loss: 222491.9844\n",
      "Epoch 137/300\n",
      "88/88 [==============================] - 0s 512us/step - loss: 228838.4688 - val_loss: 222901.5312\n",
      "Epoch 138/300\n",
      "88/88 [==============================] - 0s 520us/step - loss: 228206.7812 - val_loss: 221756.6406\n",
      "Epoch 139/300\n",
      "88/88 [==============================] - 0s 505us/step - loss: 228118.5312 - val_loss: 221450.2188\n",
      "Epoch 140/300\n",
      "88/88 [==============================] - 0s 506us/step - loss: 227746.5469 - val_loss: 221161.5156\n",
      "Epoch 141/300\n",
      "88/88 [==============================] - 0s 485us/step - loss: 227354.2969 - val_loss: 221454.3125\n",
      "Epoch 142/300\n",
      "88/88 [==============================] - 0s 503us/step - loss: 226942.6094 - val_loss: 220292.7656\n",
      "Epoch 143/300\n",
      "88/88 [==============================] - 0s 496us/step - loss: 226943.9062 - val_loss: 220833.1250\n",
      "Epoch 144/300\n",
      "88/88 [==============================] - 0s 538us/step - loss: 226554.0156 - val_loss: 219911.7188\n",
      "Epoch 145/300\n",
      "88/88 [==============================] - 0s 506us/step - loss: 226052.4062 - val_loss: 219292.7656\n",
      "Epoch 146/300\n",
      "88/88 [==============================] - 0s 516us/step - loss: 225934.4531 - val_loss: 218802.7344\n"
     ]
    },
    {
     "name": "stdout",
     "output_type": "stream",
     "text": [
      "Epoch 147/300\n",
      "88/88 [==============================] - 0s 512us/step - loss: 225289.7500 - val_loss: 218523.3281\n",
      "Epoch 148/300\n",
      "88/88 [==============================] - 0s 508us/step - loss: 225177.1875 - val_loss: 218115.2031\n",
      "Epoch 149/300\n",
      "88/88 [==============================] - 0s 508us/step - loss: 224574.7188 - val_loss: 217940.5156\n",
      "Epoch 150/300\n",
      "88/88 [==============================] - 0s 521us/step - loss: 224335.5938 - val_loss: 217893.8594\n",
      "Epoch 151/300\n",
      "88/88 [==============================] - 0s 505us/step - loss: 224035.5312 - val_loss: 217153.6250\n",
      "Epoch 152/300\n",
      "88/88 [==============================] - 0s 501us/step - loss: 223758.9062 - val_loss: 216993.1250\n",
      "Epoch 153/300\n",
      "88/88 [==============================] - 0s 506us/step - loss: 223552.7812 - val_loss: 215835.0469\n",
      "Epoch 154/300\n",
      "88/88 [==============================] - 0s 505us/step - loss: 222931.8906 - val_loss: 215394.1250\n",
      "Epoch 155/300\n",
      "88/88 [==============================] - 0s 509us/step - loss: 222421.9375 - val_loss: 214991.9531\n",
      "Epoch 156/300\n",
      "88/88 [==============================] - 0s 505us/step - loss: 222046.2031 - val_loss: 214568.8125\n",
      "Epoch 157/300\n",
      "88/88 [==============================] - 0s 507us/step - loss: 221832.3594 - val_loss: 214214.8438\n",
      "Epoch 158/300\n",
      "88/88 [==============================] - 0s 510us/step - loss: 221810.0781 - val_loss: 213911.8750\n",
      "Epoch 159/300\n",
      "88/88 [==============================] - 0s 510us/step - loss: 221139.4688 - val_loss: 213810.9844\n",
      "Epoch 160/300\n",
      "88/88 [==============================] - 0s 502us/step - loss: 221043.2188 - val_loss: 212962.1250\n",
      "Epoch 161/300\n",
      "88/88 [==============================] - 0s 511us/step - loss: 220149.7031 - val_loss: 212505.5625\n",
      "Epoch 162/300\n",
      "88/88 [==============================] - 0s 510us/step - loss: 219930.8125 - val_loss: 212342.8281\n",
      "Epoch 163/300\n",
      "88/88 [==============================] - 0s 520us/step - loss: 219731.9062 - val_loss: 212407.0469\n",
      "Epoch 164/300\n",
      "88/88 [==============================] - 0s 504us/step - loss: 219065.1094 - val_loss: 210972.8750\n",
      "Epoch 165/300\n",
      "88/88 [==============================] - 0s 505us/step - loss: 218640.2344 - val_loss: 210505.6250\n",
      "Epoch 166/300\n",
      "88/88 [==============================] - 0s 497us/step - loss: 218337.5938 - val_loss: 209983.9375\n",
      "Epoch 167/300\n",
      "88/88 [==============================] - 0s 503us/step - loss: 217690.7188 - val_loss: 209681.6250\n",
      "Epoch 168/300\n",
      "88/88 [==============================] - 0s 506us/step - loss: 216873.2656 - val_loss: 208937.3125\n",
      "Epoch 169/300\n",
      "88/88 [==============================] - 0s 486us/step - loss: 216265.8906 - val_loss: 207973.2031\n",
      "Epoch 170/300\n",
      "88/88 [==============================] - 0s 510us/step - loss: 215636.7344 - val_loss: 207729.4531\n",
      "Epoch 171/300\n",
      "88/88 [==============================] - 0s 509us/step - loss: 215222.1562 - val_loss: 207152.4531\n",
      "Epoch 172/300\n",
      "88/88 [==============================] - 0s 510us/step - loss: 214713.7500 - val_loss: 206051.4219\n",
      "Epoch 173/300\n",
      "88/88 [==============================] - 0s 508us/step - loss: 214179.2500 - val_loss: 205284.1094\n",
      "Epoch 174/300\n",
      "88/88 [==============================] - 0s 500us/step - loss: 213585.5156 - val_loss: 205381.2969\n",
      "Epoch 175/300\n",
      "88/88 [==============================] - 0s 512us/step - loss: 212876.9219 - val_loss: 204070.1875\n",
      "Epoch 176/300\n",
      "88/88 [==============================] - 0s 504us/step - loss: 211892.9219 - val_loss: 204639.9062\n",
      "Epoch 177/300\n",
      "88/88 [==============================] - 0s 508us/step - loss: 211929.3906 - val_loss: 203586.6094\n",
      "Epoch 178/300\n",
      "88/88 [==============================] - 0s 506us/step - loss: 211227.2344 - val_loss: 202515.4062\n",
      "Epoch 179/300\n",
      "88/88 [==============================] - 0s 510us/step - loss: 210790.1250 - val_loss: 201359.5469\n",
      "Epoch 180/300\n",
      "88/88 [==============================] - 0s 511us/step - loss: 209923.4219 - val_loss: 201184.5312\n",
      "Epoch 181/300\n",
      "88/88 [==============================] - 0s 505us/step - loss: 208930.5469 - val_loss: 200523.1875\n",
      "Epoch 182/300\n",
      "88/88 [==============================] - 0s 509us/step - loss: 208635.7500 - val_loss: 200335.4688\n",
      "Epoch 183/300\n",
      "88/88 [==============================] - 0s 514us/step - loss: 208236.2031 - val_loss: 199263.6562\n",
      "Epoch 184/300\n",
      "88/88 [==============================] - 0s 490us/step - loss: 207540.1250 - val_loss: 198526.6250\n",
      "Epoch 185/300\n",
      "88/88 [==============================] - 0s 505us/step - loss: 206931.0625 - val_loss: 198200.9062\n",
      "Epoch 186/300\n",
      "88/88 [==============================] - 0s 490us/step - loss: 205816.2656 - val_loss: 198427.0469\n",
      "Epoch 187/300\n",
      "88/88 [==============================] - 0s 488us/step - loss: 205846.4688 - val_loss: 197079.5312\n",
      "Epoch 188/300\n",
      "88/88 [==============================] - 0s 512us/step - loss: 204723.8750 - val_loss: 196074.1875\n",
      "Epoch 189/300\n",
      "88/88 [==============================] - 0s 508us/step - loss: 204122.0469 - val_loss: 195400.1250\n",
      "Epoch 190/300\n",
      "88/88 [==============================] - 0s 513us/step - loss: 204108.0938 - val_loss: 194746.8594\n",
      "Epoch 191/300\n",
      "88/88 [==============================] - 0s 507us/step - loss: 203222.9062 - val_loss: 195053.9062\n",
      "Epoch 192/300\n",
      "88/88 [==============================] - 0s 500us/step - loss: 202323.0156 - val_loss: 193637.1562\n",
      "Epoch 193/300\n",
      "88/88 [==============================] - 0s 514us/step - loss: 201446.7500 - val_loss: 193357.1875\n",
      "Epoch 194/300\n",
      "88/88 [==============================] - 0s 516us/step - loss: 201384.4375 - val_loss: 192499.4531\n",
      "Epoch 195/300\n",
      "88/88 [==============================] - 0s 509us/step - loss: 200433.2500 - val_loss: 192084.6562\n",
      "Epoch 196/300\n",
      "88/88 [==============================] - 0s 498us/step - loss: 200310.6094 - val_loss: 192973.2656\n",
      "Epoch 197/300\n",
      "88/88 [==============================] - 0s 512us/step - loss: 199968.8281 - val_loss: 190683.2812\n",
      "Epoch 198/300\n",
      "88/88 [==============================] - 0s 515us/step - loss: 198695.6562 - val_loss: 190196.7188\n",
      "Epoch 199/300\n",
      "88/88 [==============================] - 0s 493us/step - loss: 197887.2188 - val_loss: 190428.4375\n",
      "Epoch 200/300\n",
      "88/88 [==============================] - 0s 498us/step - loss: 197894.8906 - val_loss: 189607.5312\n",
      "Epoch 201/300\n",
      "88/88 [==============================] - 0s 508us/step - loss: 196714.5625 - val_loss: 189184.6875\n",
      "Epoch 202/300\n",
      "88/88 [==============================] - 0s 527us/step - loss: 196275.2344 - val_loss: 188387.5000\n",
      "Epoch 203/300\n",
      "88/88 [==============================] - 0s 500us/step - loss: 196115.0625 - val_loss: 188876.3125\n",
      "Epoch 204/300\n",
      "88/88 [==============================] - 0s 497us/step - loss: 195278.7969 - val_loss: 186690.9844\n",
      "Epoch 205/300\n",
      "88/88 [==============================] - 0s 511us/step - loss: 194739.1250 - val_loss: 186619.6875\n",
      "Epoch 206/300\n",
      "88/88 [==============================] - 0s 515us/step - loss: 194068.8281 - val_loss: 185552.3125\n",
      "Epoch 207/300\n",
      "88/88 [==============================] - 0s 520us/step - loss: 193663.9531 - val_loss: 185528.5938\n",
      "Epoch 208/300\n",
      "88/88 [==============================] - 0s 500us/step - loss: 192372.7031 - val_loss: 184677.5781\n",
      "Epoch 209/300\n",
      "88/88 [==============================] - 0s 513us/step - loss: 192084.7500 - val_loss: 184241.0781\n",
      "Epoch 210/300\n",
      "88/88 [==============================] - 0s 513us/step - loss: 192079.6875 - val_loss: 183601.3125\n",
      "Epoch 211/300\n",
      "88/88 [==============================] - 0s 525us/step - loss: 190875.2344 - val_loss: 182778.0469\n",
      "Epoch 212/300\n",
      "88/88 [==============================] - 0s 498us/step - loss: 190861.2344 - val_loss: 182195.1562\n",
      "Epoch 213/300\n",
      "88/88 [==============================] - 0s 496us/step - loss: 189855.4219 - val_loss: 182292.3750\n",
      "Epoch 214/300\n",
      "88/88 [==============================] - 0s 534us/step - loss: 189681.4375 - val_loss: 181294.6094\n",
      "Epoch 215/300\n",
      "88/88 [==============================] - 0s 509us/step - loss: 188857.2344 - val_loss: 182819.5781\n",
      "Epoch 216/300\n",
      "88/88 [==============================] - 0s 513us/step - loss: 189084.4531 - val_loss: 180681.1875\n",
      "Epoch 217/300\n",
      "88/88 [==============================] - 0s 503us/step - loss: 188920.7812 - val_loss: 179637.3906\n",
      "Epoch 218/300\n",
      "88/88 [==============================] - 0s 514us/step - loss: 188122.3906 - val_loss: 179333.7500\n",
      "Epoch 219/300\n"
     ]
    },
    {
     "name": "stdout",
     "output_type": "stream",
     "text": [
      "88/88 [==============================] - 0s 511us/step - loss: 187331.0469 - val_loss: 178788.5469\n",
      "Epoch 220/300\n",
      "88/88 [==============================] - 0s 507us/step - loss: 186929.9062 - val_loss: 179706.1094\n",
      "Epoch 221/300\n",
      "88/88 [==============================] - 0s 522us/step - loss: 186641.4844 - val_loss: 178123.0312\n",
      "Epoch 222/300\n",
      "88/88 [==============================] - 0s 507us/step - loss: 186613.2969 - val_loss: 178403.6406\n",
      "Epoch 223/300\n",
      "88/88 [==============================] - 0s 503us/step - loss: 186258.0469 - val_loss: 178177.9844\n",
      "Epoch 224/300\n",
      "88/88 [==============================] - 0s 506us/step - loss: 186028.0000 - val_loss: 177948.2188\n",
      "Epoch 225/300\n",
      "88/88 [==============================] - 0s 508us/step - loss: 185337.6562 - val_loss: 176870.8594\n",
      "Epoch 226/300\n",
      "88/88 [==============================] - 0s 496us/step - loss: 185291.8438 - val_loss: 176506.4688\n",
      "Epoch 227/300\n",
      "88/88 [==============================] - 0s 514us/step - loss: 184259.6094 - val_loss: 176404.7969\n",
      "Epoch 228/300\n",
      "88/88 [==============================] - 0s 505us/step - loss: 183995.1250 - val_loss: 176801.2500\n",
      "Epoch 229/300\n",
      "88/88 [==============================] - 0s 509us/step - loss: 183786.4062 - val_loss: 176147.3594\n",
      "Epoch 230/300\n",
      "88/88 [==============================] - 0s 514us/step - loss: 183716.9844 - val_loss: 178665.1406\n",
      "Epoch 231/300\n",
      "88/88 [==============================] - 0s 488us/step - loss: 184382.0312 - val_loss: 176077.4688\n",
      "Epoch 232/300\n",
      "88/88 [==============================] - 0s 513us/step - loss: 183523.8438 - val_loss: 175248.5781\n",
      "Epoch 233/300\n",
      "88/88 [==============================] - 0s 524us/step - loss: 183871.9844 - val_loss: 174968.2969\n",
      "Epoch 234/300\n",
      "88/88 [==============================] - 0s 504us/step - loss: 183949.5000 - val_loss: 174837.7188\n",
      "Epoch 235/300\n",
      "88/88 [==============================] - 0s 512us/step - loss: 182271.3906 - val_loss: 174666.4062\n",
      "Epoch 236/300\n",
      "88/88 [==============================] - 0s 510us/step - loss: 182542.6406 - val_loss: 174877.6094\n",
      "Epoch 237/300\n",
      "88/88 [==============================] - 0s 510us/step - loss: 182472.2656 - val_loss: 174204.0781\n",
      "Epoch 238/300\n",
      "88/88 [==============================] - 0s 509us/step - loss: 182139.4375 - val_loss: 174225.2812\n",
      "Epoch 239/300\n",
      "88/88 [==============================] - 0s 490us/step - loss: 182737.2812 - val_loss: 173971.3125\n",
      "Epoch 240/300\n",
      "88/88 [==============================] - 0s 507us/step - loss: 181795.2500 - val_loss: 174535.9688\n",
      "Epoch 241/300\n",
      "88/88 [==============================] - 0s 509us/step - loss: 182098.2344 - val_loss: 173942.6250\n",
      "Epoch 242/300\n",
      "88/88 [==============================] - 0s 505us/step - loss: 182402.0938 - val_loss: 173705.0000\n",
      "Epoch 243/300\n",
      "88/88 [==============================] - 0s 498us/step - loss: 181195.9375 - val_loss: 174063.0469\n",
      "Epoch 244/300\n",
      "88/88 [==============================] - 0s 504us/step - loss: 181863.5156 - val_loss: 173336.7031\n",
      "Epoch 245/300\n",
      "88/88 [==============================] - 0s 521us/step - loss: 181134.4375 - val_loss: 175290.8906\n",
      "Epoch 246/300\n",
      "88/88 [==============================] - 0s 503us/step - loss: 181425.0000 - val_loss: 174267.1875\n",
      "Epoch 247/300\n",
      "88/88 [==============================] - 0s 505us/step - loss: 181271.2812 - val_loss: 173845.9531\n",
      "Epoch 248/300\n",
      "88/88 [==============================] - 0s 502us/step - loss: 181676.8125 - val_loss: 173505.4375\n",
      "Epoch 249/300\n",
      "88/88 [==============================] - 0s 517us/step - loss: 180906.1875 - val_loss: 173608.5000\n",
      "Epoch 250/300\n",
      "88/88 [==============================] - 0s 505us/step - loss: 180052.5000 - val_loss: 173742.0312\n",
      "Epoch 251/300\n",
      "88/88 [==============================] - 0s 514us/step - loss: 180499.7344 - val_loss: 172939.0156\n",
      "Epoch 252/300\n",
      "88/88 [==============================] - 0s 505us/step - loss: 180284.0469 - val_loss: 172972.1719\n",
      "Epoch 253/300\n",
      "88/88 [==============================] - 0s 511us/step - loss: 180333.7188 - val_loss: 172839.5000\n",
      "Epoch 254/300\n",
      "88/88 [==============================] - 0s 513us/step - loss: 179977.8125 - val_loss: 172509.8750\n",
      "Epoch 255/300\n",
      "88/88 [==============================] - 0s 515us/step - loss: 180412.1562 - val_loss: 172480.6719\n",
      "Epoch 256/300\n",
      "88/88 [==============================] - 0s 513us/step - loss: 179748.0312 - val_loss: 172439.6719\n",
      "Epoch 257/300\n",
      "88/88 [==============================] - 0s 507us/step - loss: 179898.2031 - val_loss: 172957.5781\n",
      "Epoch 258/300\n",
      "88/88 [==============================] - 0s 504us/step - loss: 179698.7969 - val_loss: 172351.9219\n",
      "Epoch 259/300\n",
      "88/88 [==============================] - 0s 497us/step - loss: 180074.9375 - val_loss: 171907.8438\n",
      "Epoch 260/300\n",
      "88/88 [==============================] - 0s 519us/step - loss: 180082.1875 - val_loss: 171707.2812\n",
      "Epoch 261/300\n",
      "88/88 [==============================] - 0s 504us/step - loss: 179196.9688 - val_loss: 171948.2969\n",
      "Epoch 262/300\n",
      "88/88 [==============================] - 0s 491us/step - loss: 179510.3438 - val_loss: 174776.5781\n",
      "Epoch 263/300\n",
      "88/88 [==============================] - 0s 506us/step - loss: 180570.5938 - val_loss: 171344.6562\n",
      "Epoch 264/300\n",
      "88/88 [==============================] - 0s 507us/step - loss: 179471.8594 - val_loss: 172829.9062\n",
      "Epoch 265/300\n",
      "88/88 [==============================] - 0s 518us/step - loss: 179419.1875 - val_loss: 171709.2500\n",
      "Epoch 266/300\n",
      "88/88 [==============================] - 0s 509us/step - loss: 179458.5938 - val_loss: 171163.0938\n",
      "Epoch 267/300\n",
      "88/88 [==============================] - 0s 505us/step - loss: 179189.3750 - val_loss: 171037.1094\n",
      "Epoch 268/300\n",
      "88/88 [==============================] - 0s 517us/step - loss: 179554.9688 - val_loss: 171760.4375\n",
      "Epoch 269/300\n",
      "88/88 [==============================] - 0s 509us/step - loss: 179957.4688 - val_loss: 170535.0312\n",
      "Epoch 270/300\n",
      "88/88 [==============================] - 0s 509us/step - loss: 178806.0781 - val_loss: 171199.3594\n",
      "Epoch 271/300\n",
      "88/88 [==============================] - 0s 491us/step - loss: 178957.4688 - val_loss: 171341.7812\n",
      "Epoch 272/300\n",
      "88/88 [==============================] - 0s 515us/step - loss: 178704.6875 - val_loss: 170624.9062\n",
      "Epoch 273/300\n",
      "88/88 [==============================] - 0s 518us/step - loss: 178824.1719 - val_loss: 170450.9688\n",
      "Epoch 274/300\n",
      "88/88 [==============================] - 0s 495us/step - loss: 178212.1562 - val_loss: 171293.0625\n",
      "Epoch 275/300\n",
      "88/88 [==============================] - 0s 503us/step - loss: 178873.1094 - val_loss: 171191.2969\n",
      "Epoch 276/300\n",
      "88/88 [==============================] - 0s 512us/step - loss: 178655.7656 - val_loss: 170273.9688\n",
      "Epoch 277/300\n",
      "88/88 [==============================] - 0s 506us/step - loss: 178640.7188 - val_loss: 172284.5469\n",
      "Epoch 278/300\n",
      "88/88 [==============================] - 0s 501us/step - loss: 178659.9219 - val_loss: 172256.0625\n",
      "Epoch 279/300\n",
      "88/88 [==============================] - 0s 498us/step - loss: 178413.5312 - val_loss: 170347.3906\n",
      "Epoch 280/300\n",
      "88/88 [==============================] - 0s 522us/step - loss: 178131.6875 - val_loss: 170250.3281\n",
      "Epoch 281/300\n",
      "88/88 [==============================] - 0s 512us/step - loss: 177773.2031 - val_loss: 170370.7188\n",
      "Epoch 282/300\n",
      "88/88 [==============================] - 0s 518us/step - loss: 179235.5000 - val_loss: 169900.2656\n",
      "Epoch 283/300\n",
      "88/88 [==============================] - 0s 503us/step - loss: 177758.0156 - val_loss: 170292.6406\n",
      "Epoch 284/300\n",
      "88/88 [==============================] - 0s 516us/step - loss: 177762.6562 - val_loss: 169811.0781\n",
      "Epoch 285/300\n",
      "88/88 [==============================] - 0s 486us/step - loss: 178741.4844 - val_loss: 170021.3906\n",
      "Epoch 286/300\n",
      "88/88 [==============================] - 0s 489us/step - loss: 177562.6875 - val_loss: 171419.2500\n",
      "Epoch 287/300\n",
      "88/88 [==============================] - 0s 487us/step - loss: 177872.8438 - val_loss: 170061.9844\n",
      "Epoch 288/300\n",
      "88/88 [==============================] - 0s 507us/step - loss: 177661.7344 - val_loss: 169618.7188\n",
      "Epoch 289/300\n",
      "88/88 [==============================] - 0s 500us/step - loss: 177250.2188 - val_loss: 169558.2031\n",
      "Epoch 290/300\n",
      "88/88 [==============================] - 0s 497us/step - loss: 177961.0000 - val_loss: 169632.1406\n",
      "Epoch 291/300\n"
     ]
    },
    {
     "name": "stdout",
     "output_type": "stream",
     "text": [
      "88/88 [==============================] - 0s 486us/step - loss: 177284.8594 - val_loss: 169095.5938\n",
      "Epoch 292/300\n",
      "88/88 [==============================] - 0s 503us/step - loss: 176370.2812 - val_loss: 175068.3281\n",
      "Epoch 293/300\n",
      "88/88 [==============================] - 0s 507us/step - loss: 178370.7188 - val_loss: 169078.2812\n",
      "Epoch 294/300\n",
      "88/88 [==============================] - 0s 498us/step - loss: 177162.0469 - val_loss: 169881.4844\n",
      "Epoch 295/300\n",
      "88/88 [==============================] - 0s 501us/step - loss: 177268.9062 - val_loss: 170756.9688\n",
      "Epoch 296/300\n",
      "88/88 [==============================] - 0s 509us/step - loss: 176891.1094 - val_loss: 170104.6094\n",
      "Epoch 297/300\n",
      "88/88 [==============================] - 0s 498us/step - loss: 176934.8594 - val_loss: 168797.0469\n",
      "Epoch 298/300\n",
      "88/88 [==============================] - 0s 499us/step - loss: 177154.3750 - val_loss: 169672.0938\n",
      "Epoch 299/300\n",
      "88/88 [==============================] - 0s 500us/step - loss: 177298.4062 - val_loss: 168452.9531\n",
      "Epoch 300/300\n",
      "88/88 [==============================] - 0s 496us/step - loss: 176353.2500 - val_loss: 170047.8438\n",
      "55/55 [==============================] - 0s 257us/step\n",
      "Mean Squared Error: 182160.89778748312\n",
      "Root Mean Squared Error: 426.80311361034273\n",
      "R-squared: 0.5492668841230668\n",
      "Adjusted R-squared: 0.5487514660374442\n"
     ]
    }
   ],
   "source": [
    "from keras.models import Sequential\n",
    "from keras.layers import Dense\n",
    "\n",
    "model = Sequential()\n",
    "\n",
    "model.add(Dense(units=64, activation='relu', input_dim=X_train_scaled.shape[1]))\n",
    "\n",
    "model.add(Dense(units=32, activation='relu'))\n",
    "\n",
    "model.add(Dense(units=16, activation='relu'))\n",
    "\n",
    "model.add(Dense(units=8, activation='relu'))\n",
    "\n",
    "model.add(Dense(units=1, activation='linear'))\n",
    "\n",
    "model.compile(optimizer='adam', loss='mean_squared_error')\n",
    "\n",
    "#from keras.layers import Dropout\n",
    "#model.add(Dropout(0.5)) \n",
    "\n",
    "#from keras.regularizers import l1, l2\n",
    "#model.add(Dense(units=64, activation='relu', input_dim=X_train.shape[1], kernel_regularizer=l2(0.01)))\n",
    "\n",
    "from keras.callbacks import EarlyStopping\n",
    "early_stopping = EarlyStopping(monitor='val_loss', patience = 10, restore_best_weights=True)\n",
    "model.fit(X_train_scaled, y_train, epochs = 300, batch_size = 64, validation_split=0.2, callbacks=[early_stopping])\n",
    "\n",
    "y_pred = model.predict(X_test_scaled)\n",
    "\n",
    "mse = mean_squared_error(y_test, y_pred)\n",
    "mse_r = mean_squared_error(y_test, y_pred, squared = False)\n",
    "r2 = r2_score(y_test, y_pred)\n",
    "\n",
    "n = len(y_test)\n",
    "k = X_train_scaled.shape[1]  \n",
    "adj_r2 = 1 - ((1 - r2) * (n - 1) / (n - k - 1))\n",
    "\n",
    "print(f'Mean Squared Error: {mse}')\n",
    "print(f'Root Mean Squared Error: {mse_r}')\n",
    "print(f'R-squared: {r2}')\n",
    "print(f'Adjusted R-squared: {adj_r2}')"
   ]
  },
  {
   "cell_type": "code",
   "execution_count": 59,
   "id": "82226ac5",
   "metadata": {},
   "outputs": [
    {
     "name": "stdout",
     "output_type": "stream",
     "text": [
      "Mean Squared Error: 182160.89778748312\n",
      "Root Mean Squared Error: 426.80311361034273\n",
      "R-squared: 0.5492668841230668\n",
      "Adjusted R-squared: 0.5487514660374442\n"
     ]
    }
   ],
   "source": [
    "print(f'Mean Squared Error: {mse}')\n",
    "print(f'Root Mean Squared Error: {mse_r}')\n",
    "print(f'R-squared: {r2}')\n",
    "print(f'Adjusted R-squared: {adj_r2}')"
   ]
  },
  {
   "cell_type": "code",
   "execution_count": 60,
   "id": "077803f9",
   "metadata": {},
   "outputs": [
    {
     "name": "stdout",
     "output_type": "stream",
     "text": [
      "219/219 [==============================] - 0s 247us/step\n",
      "55/55 [==============================] - 0s 234us/step\n",
      "Training MSE: 175837.1534937032\n",
      "Validation MSE: 182160.89778748312\n",
      "Huber Loss: [[ 84.10565186 266.10565186 147.10565186 ... 398.89434814  74.10565186\n",
      "  108.10565186]\n",
      " [115.5806427   65.4193573   52.5806427  ... 599.5806427  125.5806427\n",
      "   91.5806427 ]\n",
      " [ 97.43060303  83.56939697  34.43060303 ... 581.43060303 107.43060303\n",
      "   73.43060303]\n",
      " ...\n",
      " [653.83374023 835.83374023 716.83374023 ... 169.83374023 643.83374023\n",
      "  677.83374023]\n",
      " [171.47569275   9.52430725 108.47569275 ... 655.47569275 181.47569275\n",
      "  147.47569275]\n",
      " [232.24658203 414.24658203 295.24658203 ... 250.75341797 222.24658203\n",
      "  256.24658203]]\n",
      "Mean Huber Loss: 627.0388039451589\n"
     ]
    }
   ],
   "source": [
    "train_pred = model.predict(X_train_scaled)\n",
    "test_pred = model.predict(X_test_scaled)\n",
    "\n",
    "from sklearn.metrics import mean_squared_error, r2_score\n",
    "\n",
    "train_mse = mean_squared_error(y_train, train_pred)\n",
    "test_mse = mean_squared_error(y_test, test_pred)\n",
    "\n",
    "print(f'Training MSE: {train_mse}')\n",
    "print(f'Validation MSE: {test_mse}')\n",
    "\n",
    "import tensorflow as tf\n",
    "def huber_loss(y_test, y_pred, delta = 1.0):\n",
    "    error = y_test - y_pred\n",
    "    condition = tf.abs(error) < delta\n",
    "    squared_loss = 0.5 * tf.square(error)\n",
    "    linear_loss = delta * (tf.abs(error) - 0.5 * delta)\n",
    "    return tf.where(condition, squared_loss, linear_loss)\n",
    "\n",
    "loss = huber_loss(y_test, y_pred, delta = 1.0)\n",
    "print(\"Huber Loss:\", loss.numpy())\n",
    "\n",
    "mean_huber_loss = np.mean(loss)\n",
    "print(f\"Mean Huber Loss: {mean_huber_loss}\")"
   ]
  },
  {
   "cell_type": "markdown",
   "id": "a055dc2d",
   "metadata": {},
   "source": [
    "## 30% Training MSE: 190473.52005780334\n",
    "Validation MSE: 200931.60889353"
   ]
  },
  {
   "cell_type": "code",
   "execution_count": 61,
   "id": "c3b99ecb",
   "metadata": {},
   "outputs": [
    {
     "name": "stdout",
     "output_type": "stream",
     "text": [
      "Epoch 1/300\n",
      "77/77 [==============================] - 0s 1ms/step - loss: 919380.3125 - val_loss: 918245.1250\n",
      "Epoch 2/300\n",
      "77/77 [==============================] - 0s 612us/step - loss: 917919.0000 - val_loss: 911409.9375\n",
      "Epoch 3/300\n",
      "77/77 [==============================] - 0s 610us/step - loss: 847333.5625 - val_loss: 686914.8750\n",
      "Epoch 4/300\n",
      "77/77 [==============================] - 0s 639us/step - loss: 438707.3750 - val_loss: 321354.1250\n",
      "Epoch 5/300\n",
      "77/77 [==============================] - 0s 593us/step - loss: 322707.1875 - val_loss: 315309.5625\n",
      "Epoch 6/300\n",
      "77/77 [==============================] - 0s 611us/step - loss: 316903.1250 - val_loss: 309393.0312\n",
      "Epoch 7/300\n",
      "77/77 [==============================] - 0s 609us/step - loss: 311280.2500 - val_loss: 303289.5625\n",
      "Epoch 8/300\n",
      "77/77 [==============================] - 0s 584us/step - loss: 305306.5312 - val_loss: 297312.5938\n",
      "Epoch 9/300\n",
      "77/77 [==============================] - 0s 592us/step - loss: 299310.8125 - val_loss: 290851.5625\n",
      "Epoch 10/300\n",
      "77/77 [==============================] - 0s 598us/step - loss: 293246.0938 - val_loss: 284634.1875\n",
      "Epoch 11/300\n",
      "77/77 [==============================] - 0s 627us/step - loss: 287318.4688 - val_loss: 278032.6875\n",
      "Epoch 12/300\n",
      "77/77 [==============================] - 0s 597us/step - loss: 281251.5625 - val_loss: 271599.2500\n",
      "Epoch 13/300\n",
      "77/77 [==============================] - 0s 599us/step - loss: 275734.6562 - val_loss: 265130.9688\n",
      "Epoch 14/300\n",
      "77/77 [==============================] - 0s 577us/step - loss: 269161.0625 - val_loss: 259496.1406\n",
      "Epoch 15/300\n",
      "77/77 [==============================] - 0s 592us/step - loss: 264413.3438 - val_loss: 253926.0312\n",
      "Epoch 16/300\n",
      "77/77 [==============================] - 0s 597us/step - loss: 260644.7188 - val_loss: 249310.5469\n",
      "Epoch 17/300\n",
      "77/77 [==============================] - 0s 631us/step - loss: 256147.9688 - val_loss: 244934.4219\n",
      "Epoch 18/300\n",
      "77/77 [==============================] - 0s 602us/step - loss: 252500.6875 - val_loss: 242079.6875\n",
      "Epoch 19/300\n",
      "77/77 [==============================] - 0s 602us/step - loss: 250320.7656 - val_loss: 238882.3594\n",
      "Epoch 20/300\n",
      "77/77 [==============================] - 0s 578us/step - loss: 247991.8750 - val_loss: 237071.9062\n",
      "Epoch 21/300\n",
      "77/77 [==============================] - 0s 591us/step - loss: 246712.3125 - val_loss: 234674.7812\n",
      "Epoch 22/300\n",
      "77/77 [==============================] - 0s 602us/step - loss: 245073.4688 - val_loss: 233069.9219\n",
      "Epoch 23/300\n",
      "77/77 [==============================] - 0s 597us/step - loss: 243734.2812 - val_loss: 231637.6562\n",
      "Epoch 24/300\n",
      "77/77 [==============================] - 0s 597us/step - loss: 242850.1406 - val_loss: 231658.7031\n",
      "Epoch 25/300\n",
      "77/77 [==============================] - 0s 594us/step - loss: 242163.1562 - val_loss: 229364.9375\n",
      "Epoch 26/300\n",
      "77/77 [==============================] - 0s 593us/step - loss: 241411.2656 - val_loss: 229330.7500\n",
      "Epoch 27/300\n",
      "77/77 [==============================] - 0s 606us/step - loss: 240807.6094 - val_loss: 227759.2031\n",
      "Epoch 28/300\n",
      "77/77 [==============================] - 0s 577us/step - loss: 240203.8125 - val_loss: 227947.3750\n",
      "Epoch 29/300\n",
      "77/77 [==============================] - 0s 625us/step - loss: 240267.6406 - val_loss: 227101.1406\n",
      "Epoch 30/300\n",
      "77/77 [==============================] - 0s 625us/step - loss: 239491.5000 - val_loss: 226133.8906\n",
      "Epoch 31/300\n",
      "77/77 [==============================] - 0s 604us/step - loss: 239269.7812 - val_loss: 226875.0469\n",
      "Epoch 32/300\n",
      "77/77 [==============================] - 0s 585us/step - loss: 239658.5938 - val_loss: 225556.9375\n",
      "Epoch 33/300\n",
      "77/77 [==============================] - 0s 605us/step - loss: 239007.3906 - val_loss: 225384.4062\n",
      "Epoch 34/300\n",
      "77/77 [==============================] - 0s 627us/step - loss: 239101.2031 - val_loss: 225138.4688\n",
      "Epoch 35/300\n",
      "77/77 [==============================] - 0s 625us/step - loss: 238612.0625 - val_loss: 224741.3125\n",
      "Epoch 36/300\n",
      "77/77 [==============================] - 0s 629us/step - loss: 238576.3906 - val_loss: 226317.3906\n",
      "Epoch 37/300\n",
      "77/77 [==============================] - 0s 563us/step - loss: 238677.8281 - val_loss: 224436.2969\n",
      "Epoch 38/300\n",
      "77/77 [==============================] - 0s 515us/step - loss: 238422.1875 - val_loss: 225030.3281\n",
      "Epoch 39/300\n",
      "77/77 [==============================] - 0s 518us/step - loss: 238528.6719 - val_loss: 224307.0625\n",
      "Epoch 40/300\n",
      "77/77 [==============================] - 0s 598us/step - loss: 238157.8750 - val_loss: 223973.8438\n",
      "Epoch 41/300\n",
      "77/77 [==============================] - 0s 646us/step - loss: 237722.2500 - val_loss: 224742.6094\n",
      "Epoch 42/300\n",
      "77/77 [==============================] - 0s 587us/step - loss: 238275.0625 - val_loss: 223875.4219\n",
      "Epoch 43/300\n",
      "77/77 [==============================] - 0s 617us/step - loss: 238375.0625 - val_loss: 224311.6875\n",
      "Epoch 44/300\n",
      "77/77 [==============================] - 0s 578us/step - loss: 237857.2656 - val_loss: 224188.9219\n",
      "Epoch 45/300\n",
      "77/77 [==============================] - 0s 612us/step - loss: 237547.2344 - val_loss: 223445.5000\n",
      "Epoch 46/300\n",
      "77/77 [==============================] - 0s 612us/step - loss: 237604.6406 - val_loss: 223729.8594\n",
      "Epoch 47/300\n",
      "77/77 [==============================] - 0s 618us/step - loss: 237827.3125 - val_loss: 223253.6875\n",
      "Epoch 48/300\n",
      "77/77 [==============================] - 0s 594us/step - loss: 237344.5625 - val_loss: 223367.6562\n",
      "Epoch 49/300\n",
      "77/77 [==============================] - 0s 608us/step - loss: 237593.8281 - val_loss: 223364.8281\n",
      "Epoch 50/300\n",
      "77/77 [==============================] - 0s 565us/step - loss: 237490.9844 - val_loss: 223709.4062\n",
      "Epoch 51/300\n",
      "77/77 [==============================] - 0s 619us/step - loss: 237552.1406 - val_loss: 223002.6250\n",
      "Epoch 52/300\n",
      "77/77 [==============================] - 0s 613us/step - loss: 237799.8281 - val_loss: 223056.1719\n",
      "Epoch 53/300\n",
      "77/77 [==============================] - 0s 601us/step - loss: 237281.9062 - val_loss: 223012.6875\n",
      "Epoch 54/300\n",
      "77/77 [==============================] - 0s 586us/step - loss: 237109.8281 - val_loss: 222735.4219\n",
      "Epoch 55/300\n",
      "77/77 [==============================] - 0s 567us/step - loss: 237163.3906 - val_loss: 222628.7969\n",
      "Epoch 56/300\n",
      "77/77 [==============================] - 0s 556us/step - loss: 237170.1719 - val_loss: 222686.8438\n",
      "Epoch 57/300\n",
      "77/77 [==============================] - 0s 572us/step - loss: 237038.3594 - val_loss: 222434.4688\n",
      "Epoch 58/300\n",
      "77/77 [==============================] - 0s 574us/step - loss: 236990.8438 - val_loss: 223151.6406\n",
      "Epoch 59/300\n",
      "77/77 [==============================] - 0s 581us/step - loss: 236946.0312 - val_loss: 222340.4219\n",
      "Epoch 60/300\n",
      "77/77 [==============================] - 0s 639us/step - loss: 236715.5469 - val_loss: 222767.3594\n",
      "Epoch 61/300\n",
      "77/77 [==============================] - 0s 646us/step - loss: 236862.0000 - val_loss: 222248.7500\n",
      "Epoch 62/300\n",
      "77/77 [==============================] - 0s 602us/step - loss: 236910.0000 - val_loss: 223066.2969\n",
      "Epoch 63/300\n",
      "77/77 [==============================] - 0s 617us/step - loss: 237110.3594 - val_loss: 222024.2500\n",
      "Epoch 64/300\n",
      "77/77 [==============================] - 0s 608us/step - loss: 237210.1250 - val_loss: 222284.0781\n",
      "Epoch 65/300\n",
      "77/77 [==============================] - 0s 582us/step - loss: 236573.7500 - val_loss: 222655.9531\n",
      "Epoch 66/300\n",
      "77/77 [==============================] - 0s 768us/step - loss: 236638.5000 - val_loss: 223063.6562\n",
      "Epoch 67/300\n",
      "77/77 [==============================] - 0s 641us/step - loss: 236777.2188 - val_loss: 222985.8438\n",
      "Epoch 68/300\n",
      "77/77 [==============================] - 0s 661us/step - loss: 236651.0156 - val_loss: 222065.2500\n",
      "Epoch 69/300\n",
      "77/77 [==============================] - 0s 633us/step - loss: 236433.5938 - val_loss: 221512.8125\n",
      "Epoch 70/300\n",
      "77/77 [==============================] - 0s 597us/step - loss: 236763.0938 - val_loss: 221806.8438\n",
      "Epoch 71/300\n",
      "77/77 [==============================] - 0s 542us/step - loss: 236241.2812 - val_loss: 222315.8750\n",
      "Epoch 72/300\n",
      "77/77 [==============================] - 0s 552us/step - loss: 236138.7812 - val_loss: 221312.8906\n",
      "Epoch 73/300\n",
      "77/77 [==============================] - 0s 589us/step - loss: 236120.4375 - val_loss: 221433.5938\n",
      "Epoch 74/300\n"
     ]
    },
    {
     "name": "stdout",
     "output_type": "stream",
     "text": [
      "77/77 [==============================] - 0s 553us/step - loss: 235910.3906 - val_loss: 221140.8594\n",
      "Epoch 75/300\n",
      "77/77 [==============================] - 0s 557us/step - loss: 236159.9531 - val_loss: 221437.1250\n",
      "Epoch 76/300\n",
      "77/77 [==============================] - 0s 563us/step - loss: 235997.1406 - val_loss: 221276.9219\n",
      "Epoch 77/300\n",
      "77/77 [==============================] - 0s 571us/step - loss: 235944.8438 - val_loss: 223626.0938\n",
      "Epoch 78/300\n",
      "77/77 [==============================] - 0s 559us/step - loss: 236000.8125 - val_loss: 221809.3906\n",
      "Epoch 79/300\n",
      "77/77 [==============================] - 0s 565us/step - loss: 235978.1875 - val_loss: 221223.4688\n",
      "Epoch 80/300\n",
      "77/77 [==============================] - 0s 571us/step - loss: 235703.7344 - val_loss: 220530.2500\n",
      "Epoch 81/300\n",
      "77/77 [==============================] - 0s 558us/step - loss: 235540.9219 - val_loss: 220557.6875\n",
      "Epoch 82/300\n",
      "77/77 [==============================] - 0s 563us/step - loss: 235482.7031 - val_loss: 220269.1406\n",
      "Epoch 83/300\n",
      "77/77 [==============================] - 0s 566us/step - loss: 235956.7969 - val_loss: 220135.3906\n",
      "Epoch 84/300\n",
      "77/77 [==============================] - 0s 568us/step - loss: 235660.1562 - val_loss: 220309.5000\n",
      "Epoch 85/300\n",
      "77/77 [==============================] - 0s 553us/step - loss: 234864.0781 - val_loss: 220144.1719\n",
      "Epoch 86/300\n",
      "77/77 [==============================] - 0s 557us/step - loss: 235229.8438 - val_loss: 221074.3750\n",
      "Epoch 87/300\n",
      "77/77 [==============================] - 0s 562us/step - loss: 235011.3594 - val_loss: 220410.0312\n",
      "Epoch 88/300\n",
      "77/77 [==============================] - 0s 564us/step - loss: 235057.0156 - val_loss: 219533.1719\n",
      "Epoch 89/300\n",
      "77/77 [==============================] - 0s 582us/step - loss: 234752.9062 - val_loss: 219340.5156\n",
      "Epoch 90/300\n",
      "77/77 [==============================] - 0s 558us/step - loss: 234884.3281 - val_loss: 219199.3438\n",
      "Epoch 91/300\n",
      "77/77 [==============================] - 0s 564us/step - loss: 234405.5312 - val_loss: 219704.7656\n",
      "Epoch 92/300\n",
      "77/77 [==============================] - 0s 568us/step - loss: 234506.9062 - val_loss: 219222.0312\n",
      "Epoch 93/300\n",
      "77/77 [==============================] - 0s 581us/step - loss: 234510.8750 - val_loss: 218768.8438\n",
      "Epoch 94/300\n",
      "77/77 [==============================] - 0s 557us/step - loss: 233938.6406 - val_loss: 219536.3125\n",
      "Epoch 95/300\n",
      "77/77 [==============================] - 0s 551us/step - loss: 233947.4375 - val_loss: 219756.1719\n",
      "Epoch 96/300\n",
      "77/77 [==============================] - 0s 581us/step - loss: 234119.9062 - val_loss: 218645.5625\n",
      "Epoch 97/300\n",
      "77/77 [==============================] - 0s 567us/step - loss: 233684.1562 - val_loss: 218462.1875\n",
      "Epoch 98/300\n",
      "77/77 [==============================] - 0s 558us/step - loss: 233808.9531 - val_loss: 218195.5625\n",
      "Epoch 99/300\n",
      "77/77 [==============================] - 0s 572us/step - loss: 233314.8750 - val_loss: 218444.3750\n",
      "Epoch 100/300\n",
      "77/77 [==============================] - 0s 572us/step - loss: 233340.9531 - val_loss: 217715.9688\n",
      "Epoch 101/300\n",
      "77/77 [==============================] - 0s 562us/step - loss: 233218.1719 - val_loss: 217249.4688\n",
      "Epoch 102/300\n",
      "77/77 [==============================] - 0s 579us/step - loss: 232949.5625 - val_loss: 217134.7344\n",
      "Epoch 103/300\n",
      "77/77 [==============================] - 0s 561us/step - loss: 232784.1875 - val_loss: 217497.5156\n",
      "Epoch 104/300\n",
      "77/77 [==============================] - 0s 556us/step - loss: 232547.5781 - val_loss: 216538.2031\n",
      "Epoch 105/300\n",
      "77/77 [==============================] - 0s 574us/step - loss: 232769.0000 - val_loss: 216658.3125\n",
      "Epoch 106/300\n",
      "77/77 [==============================] - 0s 567us/step - loss: 232154.0000 - val_loss: 216186.9688\n",
      "Epoch 107/300\n",
      "77/77 [==============================] - 0s 568us/step - loss: 231984.2812 - val_loss: 216131.9219\n",
      "Epoch 108/300\n",
      "77/77 [==============================] - 0s 568us/step - loss: 231619.3750 - val_loss: 215982.2969\n",
      "Epoch 109/300\n",
      "77/77 [==============================] - 0s 583us/step - loss: 231679.2656 - val_loss: 215613.8594\n",
      "Epoch 110/300\n",
      "77/77 [==============================] - 0s 582us/step - loss: 231288.9844 - val_loss: 215059.8594\n",
      "Epoch 111/300\n",
      "77/77 [==============================] - 0s 561us/step - loss: 231063.7656 - val_loss: 214590.8594\n",
      "Epoch 112/300\n",
      "77/77 [==============================] - 0s 581us/step - loss: 230689.6875 - val_loss: 214376.2969\n",
      "Epoch 113/300\n",
      "77/77 [==============================] - 0s 567us/step - loss: 230324.8125 - val_loss: 213977.3750\n",
      "Epoch 114/300\n",
      "77/77 [==============================] - 0s 552us/step - loss: 229977.2969 - val_loss: 214188.0781\n",
      "Epoch 115/300\n",
      "77/77 [==============================] - 0s 577us/step - loss: 229571.9531 - val_loss: 213646.2500\n",
      "Epoch 116/300\n",
      "77/77 [==============================] - 0s 568us/step - loss: 229712.0156 - val_loss: 212924.8906\n",
      "Epoch 117/300\n",
      "77/77 [==============================] - 0s 554us/step - loss: 229099.3906 - val_loss: 213085.0312\n",
      "Epoch 118/300\n",
      "77/77 [==============================] - 0s 575us/step - loss: 229007.3438 - val_loss: 212209.7812\n",
      "Epoch 119/300\n",
      "77/77 [==============================] - 0s 546us/step - loss: 228412.8750 - val_loss: 213227.3906\n",
      "Epoch 120/300\n",
      "77/77 [==============================] - 0s 562us/step - loss: 228302.7500 - val_loss: 211435.6250\n",
      "Epoch 121/300\n",
      "77/77 [==============================] - 0s 562us/step - loss: 227693.3906 - val_loss: 211716.1406\n",
      "Epoch 122/300\n",
      "77/77 [==============================] - 0s 587us/step - loss: 227438.7969 - val_loss: 211408.8438\n",
      "Epoch 123/300\n",
      "77/77 [==============================] - 0s 559us/step - loss: 227134.3438 - val_loss: 210684.6875\n",
      "Epoch 124/300\n",
      "77/77 [==============================] - 0s 574us/step - loss: 226917.7969 - val_loss: 211947.2188\n",
      "Epoch 125/300\n",
      "77/77 [==============================] - 0s 556us/step - loss: 226664.8750 - val_loss: 210064.7500\n",
      "Epoch 126/300\n",
      "77/77 [==============================] - 0s 567us/step - loss: 226395.0938 - val_loss: 209174.3906\n",
      "Epoch 127/300\n",
      "77/77 [==============================] - 0s 563us/step - loss: 225964.5781 - val_loss: 208980.4688\n",
      "Epoch 128/300\n",
      "77/77 [==============================] - 0s 579us/step - loss: 225403.3281 - val_loss: 208631.7656\n",
      "Epoch 129/300\n",
      "77/77 [==============================] - 0s 572us/step - loss: 225286.3125 - val_loss: 208191.9062\n",
      "Epoch 130/300\n",
      "77/77 [==============================] - 0s 559us/step - loss: 224754.0938 - val_loss: 207813.0625\n",
      "Epoch 131/300\n",
      "77/77 [==============================] - 0s 576us/step - loss: 224609.0781 - val_loss: 207562.4219\n",
      "Epoch 132/300\n",
      "77/77 [==============================] - 0s 550us/step - loss: 224577.2344 - val_loss: 207004.0938\n",
      "Epoch 133/300\n",
      "77/77 [==============================] - 0s 546us/step - loss: 223777.9531 - val_loss: 207111.2812\n",
      "Epoch 134/300\n",
      "77/77 [==============================] - 0s 570us/step - loss: 223764.0469 - val_loss: 206189.8281\n",
      "Epoch 135/300\n",
      "77/77 [==============================] - 0s 556us/step - loss: 222860.5781 - val_loss: 206285.8281\n",
      "Epoch 136/300\n",
      "77/77 [==============================] - 0s 568us/step - loss: 222990.2031 - val_loss: 205481.0156\n",
      "Epoch 137/300\n",
      "77/77 [==============================] - 0s 581us/step - loss: 222418.9062 - val_loss: 205395.5625\n",
      "Epoch 138/300\n",
      "77/77 [==============================] - 0s 570us/step - loss: 222736.0781 - val_loss: 204743.1562\n",
      "Epoch 139/300\n",
      "77/77 [==============================] - 0s 563us/step - loss: 221829.4062 - val_loss: 204621.6719\n",
      "Epoch 140/300\n",
      "77/77 [==============================] - 0s 564us/step - loss: 221850.3281 - val_loss: 204077.8281\n",
      "Epoch 141/300\n",
      "77/77 [==============================] - 0s 568us/step - loss: 221729.1406 - val_loss: 203932.9062\n",
      "Epoch 142/300\n",
      "77/77 [==============================] - 0s 562us/step - loss: 221209.8125 - val_loss: 203262.5312\n",
      "Epoch 143/300\n",
      "77/77 [==============================] - 0s 580us/step - loss: 220732.7031 - val_loss: 202764.7969\n",
      "Epoch 144/300\n",
      "77/77 [==============================] - 0s 572us/step - loss: 219906.2656 - val_loss: 202066.0781\n",
      "Epoch 145/300\n",
      "77/77 [==============================] - 0s 559us/step - loss: 219355.2344 - val_loss: 201207.5625\n",
      "Epoch 146/300\n",
      "77/77 [==============================] - 0s 545us/step - loss: 218961.3125 - val_loss: 202213.3438\n"
     ]
    },
    {
     "name": "stdout",
     "output_type": "stream",
     "text": [
      "Epoch 147/300\n",
      "77/77 [==============================] - 0s 556us/step - loss: 217899.3906 - val_loss: 199991.5156\n",
      "Epoch 148/300\n",
      "77/77 [==============================] - 0s 568us/step - loss: 217393.0781 - val_loss: 199684.1406\n",
      "Epoch 149/300\n",
      "77/77 [==============================] - 0s 554us/step - loss: 217121.4844 - val_loss: 201003.7188\n",
      "Epoch 150/300\n",
      "77/77 [==============================] - 0s 550us/step - loss: 217530.6562 - val_loss: 198532.9688\n",
      "Epoch 151/300\n",
      "77/77 [==============================] - 0s 567us/step - loss: 216061.9688 - val_loss: 197825.0625\n",
      "Epoch 152/300\n",
      "77/77 [==============================] - 0s 558us/step - loss: 215541.7031 - val_loss: 197673.4531\n",
      "Epoch 153/300\n",
      "77/77 [==============================] - 0s 552us/step - loss: 214863.4219 - val_loss: 197287.5312\n",
      "Epoch 154/300\n",
      "77/77 [==============================] - 0s 566us/step - loss: 214260.9219 - val_loss: 196594.3594\n",
      "Epoch 155/300\n",
      "77/77 [==============================] - 0s 573us/step - loss: 214183.6094 - val_loss: 195973.2969\n",
      "Epoch 156/300\n",
      "77/77 [==============================] - 0s 562us/step - loss: 213346.0469 - val_loss: 196401.2969\n",
      "Epoch 157/300\n",
      "77/77 [==============================] - 0s 563us/step - loss: 212987.7969 - val_loss: 194583.0312\n",
      "Epoch 158/300\n",
      "77/77 [==============================] - 0s 558us/step - loss: 212206.3906 - val_loss: 195540.9688\n",
      "Epoch 159/300\n",
      "77/77 [==============================] - 0s 558us/step - loss: 212324.1250 - val_loss: 194108.5625\n",
      "Epoch 160/300\n",
      "77/77 [==============================] - 0s 577us/step - loss: 211490.0312 - val_loss: 193583.8438\n",
      "Epoch 161/300\n",
      "77/77 [==============================] - 0s 557us/step - loss: 210998.4062 - val_loss: 193107.8750\n",
      "Epoch 162/300\n",
      "77/77 [==============================] - 0s 558us/step - loss: 209746.6875 - val_loss: 195117.5781\n",
      "Epoch 163/300\n",
      "77/77 [==============================] - 0s 564us/step - loss: 210063.4531 - val_loss: 191249.2188\n",
      "Epoch 164/300\n",
      "77/77 [==============================] - 0s 563us/step - loss: 208988.3594 - val_loss: 190358.8906\n",
      "Epoch 165/300\n",
      "77/77 [==============================] - 0s 561us/step - loss: 208510.2500 - val_loss: 192408.7344\n",
      "Epoch 166/300\n",
      "77/77 [==============================] - 0s 571us/step - loss: 207590.5469 - val_loss: 189532.3750\n",
      "Epoch 167/300\n",
      "77/77 [==============================] - 0s 571us/step - loss: 206780.8594 - val_loss: 188589.9219\n",
      "Epoch 168/300\n",
      "77/77 [==============================] - 0s 554us/step - loss: 206186.4062 - val_loss: 189076.6406\n",
      "Epoch 169/300\n",
      "77/77 [==============================] - 0s 585us/step - loss: 205466.9375 - val_loss: 187268.5625\n",
      "Epoch 170/300\n",
      "77/77 [==============================] - 0s 559us/step - loss: 204859.8438 - val_loss: 189832.5000\n",
      "Epoch 171/300\n",
      "77/77 [==============================] - 0s 555us/step - loss: 204110.9375 - val_loss: 186216.5938\n",
      "Epoch 172/300\n",
      "77/77 [==============================] - 0s 575us/step - loss: 202881.6406 - val_loss: 186499.0156\n",
      "Epoch 173/300\n",
      "77/77 [==============================] - 0s 576us/step - loss: 202819.6719 - val_loss: 185528.9062\n",
      "Epoch 174/300\n",
      "77/77 [==============================] - 0s 555us/step - loss: 201913.5625 - val_loss: 185315.0938\n",
      "Epoch 175/300\n",
      "77/77 [==============================] - 0s 571us/step - loss: 201365.5469 - val_loss: 182902.1406\n",
      "Epoch 176/300\n",
      "77/77 [==============================] - 0s 572us/step - loss: 200072.1406 - val_loss: 182283.4844\n",
      "Epoch 177/300\n",
      "77/77 [==============================] - 0s 561us/step - loss: 199912.5000 - val_loss: 182007.2188\n",
      "Epoch 178/300\n",
      "77/77 [==============================] - 0s 570us/step - loss: 199319.0469 - val_loss: 181237.9062\n",
      "Epoch 179/300\n",
      "77/77 [==============================] - 0s 561us/step - loss: 199451.7344 - val_loss: 181092.6719\n",
      "Epoch 180/300\n",
      "77/77 [==============================] - 0s 561us/step - loss: 198253.2344 - val_loss: 181475.8281\n",
      "Epoch 181/300\n",
      "77/77 [==============================] - 0s 564us/step - loss: 197367.3906 - val_loss: 179466.5312\n",
      "Epoch 182/300\n",
      "77/77 [==============================] - 0s 564us/step - loss: 196721.0781 - val_loss: 178819.2031\n",
      "Epoch 183/300\n",
      "77/77 [==============================] - 0s 564us/step - loss: 196703.8438 - val_loss: 178365.4844\n",
      "Epoch 184/300\n",
      "77/77 [==============================] - 0s 573us/step - loss: 195746.8750 - val_loss: 178185.6562\n",
      "Epoch 185/300\n",
      "77/77 [==============================] - 0s 586us/step - loss: 195161.6875 - val_loss: 177357.4688\n",
      "Epoch 186/300\n",
      "77/77 [==============================] - 0s 549us/step - loss: 194921.9688 - val_loss: 177156.8438\n",
      "Epoch 187/300\n",
      "77/77 [==============================] - 0s 575us/step - loss: 194396.0781 - val_loss: 176803.2188\n",
      "Epoch 188/300\n",
      "77/77 [==============================] - 0s 574us/step - loss: 194309.3750 - val_loss: 176271.0000\n",
      "Epoch 189/300\n",
      "77/77 [==============================] - 0s 562us/step - loss: 193399.4219 - val_loss: 175397.3438\n",
      "Epoch 190/300\n",
      "77/77 [==============================] - 0s 567us/step - loss: 193021.6562 - val_loss: 174796.5156\n",
      "Epoch 191/300\n",
      "77/77 [==============================] - 0s 566us/step - loss: 192353.1562 - val_loss: 174740.2969\n",
      "Epoch 192/300\n",
      "77/77 [==============================] - 0s 559us/step - loss: 192000.1719 - val_loss: 175186.6719\n",
      "Epoch 193/300\n",
      "77/77 [==============================] - 0s 554us/step - loss: 191812.2656 - val_loss: 175239.1875\n",
      "Epoch 194/300\n",
      "77/77 [==============================] - 0s 575us/step - loss: 192197.6094 - val_loss: 173517.0781\n",
      "Epoch 195/300\n",
      "77/77 [==============================] - 0s 569us/step - loss: 191477.9688 - val_loss: 173239.3594\n",
      "Epoch 196/300\n",
      "77/77 [==============================] - 0s 557us/step - loss: 190541.7344 - val_loss: 173574.4219\n",
      "Epoch 197/300\n",
      "77/77 [==============================] - 0s 575us/step - loss: 190975.5625 - val_loss: 172799.1094\n",
      "Epoch 198/300\n",
      "77/77 [==============================] - 0s 561us/step - loss: 189889.4688 - val_loss: 172426.3906\n",
      "Epoch 199/300\n",
      "77/77 [==============================] - 0s 553us/step - loss: 190573.8906 - val_loss: 174074.9844\n",
      "Epoch 200/300\n",
      "77/77 [==============================] - 0s 582us/step - loss: 189844.9375 - val_loss: 171850.8906\n",
      "Epoch 201/300\n",
      "77/77 [==============================] - 0s 576us/step - loss: 189010.3281 - val_loss: 171560.7812\n",
      "Epoch 202/300\n",
      "77/77 [==============================] - 0s 554us/step - loss: 188478.6406 - val_loss: 171661.4688\n",
      "Epoch 203/300\n",
      "77/77 [==============================] - 0s 580us/step - loss: 189207.7656 - val_loss: 170989.6406\n",
      "Epoch 204/300\n",
      "77/77 [==============================] - 0s 584us/step - loss: 188536.8594 - val_loss: 170687.9844\n",
      "Epoch 205/300\n",
      "77/77 [==============================] - 0s 557us/step - loss: 188169.0469 - val_loss: 171267.1562\n",
      "Epoch 206/300\n",
      "77/77 [==============================] - 0s 558us/step - loss: 188100.4688 - val_loss: 170501.7500\n",
      "Epoch 207/300\n",
      "77/77 [==============================] - 0s 586us/step - loss: 187595.4219 - val_loss: 171511.7969\n",
      "Epoch 208/300\n",
      "77/77 [==============================] - 0s 553us/step - loss: 187269.5625 - val_loss: 169741.4219\n",
      "Epoch 209/300\n",
      "77/77 [==============================] - 0s 565us/step - loss: 187266.5938 - val_loss: 169589.6250\n",
      "Epoch 210/300\n",
      "77/77 [==============================] - 0s 560us/step - loss: 186897.2500 - val_loss: 169436.9531\n",
      "Epoch 211/300\n",
      "77/77 [==============================] - 0s 560us/step - loss: 187281.1719 - val_loss: 169156.0781\n",
      "Epoch 212/300\n",
      "77/77 [==============================] - 0s 539us/step - loss: 187395.5938 - val_loss: 170276.8594\n",
      "Epoch 213/300\n",
      "77/77 [==============================] - 0s 546us/step - loss: 186603.8438 - val_loss: 170586.6406\n",
      "Epoch 214/300\n",
      "77/77 [==============================] - 0s 547us/step - loss: 186473.0156 - val_loss: 168746.0938\n",
      "Epoch 215/300\n",
      "77/77 [==============================] - 0s 552us/step - loss: 186008.2500 - val_loss: 168379.0625\n",
      "Epoch 216/300\n",
      "77/77 [==============================] - 0s 560us/step - loss: 186117.5781 - val_loss: 168214.5156\n",
      "Epoch 217/300\n",
      "77/77 [==============================] - 0s 537us/step - loss: 185767.0781 - val_loss: 168006.1875\n",
      "Epoch 218/300\n",
      "77/77 [==============================] - 0s 590us/step - loss: 185220.8594 - val_loss: 168031.4531\n",
      "Epoch 219/300\n"
     ]
    },
    {
     "name": "stdout",
     "output_type": "stream",
     "text": [
      "77/77 [==============================] - 0s 537us/step - loss: 185600.4062 - val_loss: 168128.7188\n",
      "Epoch 220/300\n",
      "77/77 [==============================] - 0s 547us/step - loss: 185064.6875 - val_loss: 168428.3750\n",
      "Epoch 221/300\n",
      "77/77 [==============================] - 0s 569us/step - loss: 185758.8281 - val_loss: 167194.3750\n",
      "Epoch 222/300\n",
      "77/77 [==============================] - 0s 567us/step - loss: 185116.3594 - val_loss: 166972.7188\n",
      "Epoch 223/300\n",
      "77/77 [==============================] - 0s 558us/step - loss: 185012.3125 - val_loss: 167428.7500\n",
      "Epoch 224/300\n",
      "77/77 [==============================] - 0s 559us/step - loss: 184553.0156 - val_loss: 166910.3438\n",
      "Epoch 225/300\n",
      "77/77 [==============================] - 0s 566us/step - loss: 184566.3906 - val_loss: 167524.0625\n",
      "Epoch 226/300\n",
      "77/77 [==============================] - 0s 555us/step - loss: 184202.1719 - val_loss: 167823.1406\n",
      "Epoch 227/300\n",
      "77/77 [==============================] - 0s 569us/step - loss: 184961.5938 - val_loss: 166473.0781\n",
      "Epoch 228/300\n",
      "77/77 [==============================] - 0s 557us/step - loss: 185018.5938 - val_loss: 168521.2031\n",
      "Epoch 229/300\n",
      "77/77 [==============================] - 0s 570us/step - loss: 184284.4375 - val_loss: 166058.0625\n",
      "Epoch 230/300\n",
      "77/77 [==============================] - 0s 566us/step - loss: 184055.0156 - val_loss: 165987.7812\n",
      "Epoch 231/300\n",
      "77/77 [==============================] - 0s 561us/step - loss: 184164.4375 - val_loss: 167486.3750\n",
      "Epoch 232/300\n",
      "77/77 [==============================] - 0s 553us/step - loss: 184755.6719 - val_loss: 167364.3594\n",
      "Epoch 233/300\n",
      "77/77 [==============================] - 0s 552us/step - loss: 183700.8438 - val_loss: 166940.1562\n",
      "Epoch 234/300\n",
      "77/77 [==============================] - 0s 560us/step - loss: 183682.4062 - val_loss: 165466.4688\n",
      "Epoch 235/300\n",
      "77/77 [==============================] - 0s 564us/step - loss: 183863.7031 - val_loss: 166043.9062\n",
      "Epoch 236/300\n",
      "77/77 [==============================] - 0s 567us/step - loss: 183722.9219 - val_loss: 165777.2812\n",
      "Epoch 237/300\n",
      "77/77 [==============================] - 0s 565us/step - loss: 183378.1875 - val_loss: 166735.2031\n",
      "Epoch 238/300\n",
      "77/77 [==============================] - 0s 566us/step - loss: 183228.5469 - val_loss: 165447.2812\n",
      "Epoch 239/300\n",
      "77/77 [==============================] - 0s 568us/step - loss: 184011.9844 - val_loss: 165444.8594\n",
      "Epoch 240/300\n",
      "77/77 [==============================] - 0s 573us/step - loss: 183049.2344 - val_loss: 165168.8750\n",
      "Epoch 241/300\n",
      "77/77 [==============================] - 0s 565us/step - loss: 183493.1250 - val_loss: 165229.9219\n",
      "Epoch 242/300\n",
      "77/77 [==============================] - 0s 556us/step - loss: 183030.7812 - val_loss: 165887.2812\n",
      "Epoch 243/300\n",
      "77/77 [==============================] - 0s 581us/step - loss: 183691.0625 - val_loss: 165684.3438\n",
      "Epoch 244/300\n",
      "77/77 [==============================] - 0s 566us/step - loss: 182418.5781 - val_loss: 166882.9688\n",
      "Epoch 245/300\n",
      "77/77 [==============================] - 0s 552us/step - loss: 182951.8906 - val_loss: 165096.2031\n",
      "Epoch 246/300\n",
      "77/77 [==============================] - 0s 574us/step - loss: 183536.1719 - val_loss: 164636.2344\n",
      "Epoch 247/300\n",
      "77/77 [==============================] - 0s 567us/step - loss: 182324.1562 - val_loss: 164869.8906\n",
      "Epoch 248/300\n",
      "77/77 [==============================] - 0s 556us/step - loss: 183236.2031 - val_loss: 165096.1094\n",
      "Epoch 249/300\n",
      "77/77 [==============================] - 0s 569us/step - loss: 182192.2188 - val_loss: 165440.8594\n",
      "Epoch 250/300\n",
      "77/77 [==============================] - 0s 564us/step - loss: 183123.3438 - val_loss: 165651.1406\n",
      "Epoch 251/300\n",
      "77/77 [==============================] - 0s 560us/step - loss: 182981.6406 - val_loss: 164171.2812\n",
      "Epoch 252/300\n",
      "77/77 [==============================] - 0s 572us/step - loss: 182923.7812 - val_loss: 164059.5000\n",
      "Epoch 253/300\n",
      "77/77 [==============================] - 0s 565us/step - loss: 182021.2656 - val_loss: 163887.6875\n",
      "Epoch 254/300\n",
      "77/77 [==============================] - 0s 559us/step - loss: 182657.2188 - val_loss: 164504.2969\n",
      "Epoch 255/300\n",
      "77/77 [==============================] - 0s 570us/step - loss: 182560.2656 - val_loss: 165060.6875\n",
      "Epoch 256/300\n",
      "77/77 [==============================] - 0s 564us/step - loss: 182354.9531 - val_loss: 164253.8906\n",
      "Epoch 257/300\n",
      "77/77 [==============================] - 0s 556us/step - loss: 181977.2344 - val_loss: 165476.4531\n",
      "Epoch 258/300\n",
      "77/77 [==============================] - 0s 571us/step - loss: 182583.5938 - val_loss: 164835.1250\n",
      "Epoch 259/300\n",
      "77/77 [==============================] - 0s 561us/step - loss: 181483.8281 - val_loss: 163892.8125\n",
      "Epoch 260/300\n",
      "77/77 [==============================] - 0s 565us/step - loss: 181558.5156 - val_loss: 164887.7344\n",
      "Epoch 261/300\n",
      "77/77 [==============================] - 0s 574us/step - loss: 181974.4844 - val_loss: 164998.6094\n",
      "Epoch 262/300\n",
      "77/77 [==============================] - 0s 565us/step - loss: 181476.9062 - val_loss: 163596.5156\n",
      "Epoch 263/300\n",
      "77/77 [==============================] - 0s 556us/step - loss: 181930.8438 - val_loss: 164185.8906\n",
      "Epoch 264/300\n",
      "77/77 [==============================] - 0s 573us/step - loss: 181526.3594 - val_loss: 163684.6406\n",
      "Epoch 265/300\n",
      "77/77 [==============================] - 0s 551us/step - loss: 181359.8594 - val_loss: 163488.4375\n",
      "Epoch 266/300\n",
      "77/77 [==============================] - 0s 560us/step - loss: 180985.6250 - val_loss: 163656.6562\n",
      "Epoch 267/300\n",
      "77/77 [==============================] - 0s 571us/step - loss: 181125.0469 - val_loss: 167002.5312\n",
      "Epoch 268/300\n",
      "77/77 [==============================] - 0s 579us/step - loss: 181583.7031 - val_loss: 163301.7812\n",
      "Epoch 269/300\n",
      "77/77 [==============================] - 0s 559us/step - loss: 181138.9844 - val_loss: 163145.0469\n",
      "Epoch 270/300\n",
      "77/77 [==============================] - 0s 565us/step - loss: 182203.4531 - val_loss: 164021.3438\n",
      "Epoch 271/300\n",
      "77/77 [==============================] - 0s 545us/step - loss: 180639.5156 - val_loss: 165287.6250\n",
      "Epoch 272/300\n",
      "77/77 [==============================] - 0s 548us/step - loss: 180782.3438 - val_loss: 164231.2500\n",
      "Epoch 273/300\n",
      "77/77 [==============================] - 0s 574us/step - loss: 181133.5625 - val_loss: 163809.5938\n",
      "Epoch 274/300\n",
      "77/77 [==============================] - 0s 572us/step - loss: 181527.0625 - val_loss: 162747.4062\n",
      "Epoch 275/300\n",
      "77/77 [==============================] - 0s 553us/step - loss: 180884.9062 - val_loss: 165775.4219\n",
      "Epoch 276/300\n",
      "77/77 [==============================] - 0s 564us/step - loss: 181426.9219 - val_loss: 163906.2812\n",
      "Epoch 277/300\n",
      "77/77 [==============================] - 0s 549us/step - loss: 181295.5000 - val_loss: 167143.7812\n",
      "Epoch 278/300\n",
      "77/77 [==============================] - 0s 545us/step - loss: 181011.3594 - val_loss: 165354.1406\n",
      "Epoch 279/300\n",
      "77/77 [==============================] - 0s 567us/step - loss: 180852.7031 - val_loss: 163216.3906\n",
      "Epoch 280/300\n",
      "77/77 [==============================] - 0s 575us/step - loss: 180596.8125 - val_loss: 162659.6250\n",
      "Epoch 281/300\n",
      "77/77 [==============================] - 0s 555us/step - loss: 180414.9844 - val_loss: 162783.5625\n",
      "Epoch 282/300\n",
      "77/77 [==============================] - 0s 581us/step - loss: 180709.2031 - val_loss: 162925.4219\n",
      "Epoch 283/300\n",
      "77/77 [==============================] - 0s 543us/step - loss: 181360.5312 - val_loss: 162965.1406\n",
      "Epoch 284/300\n",
      "77/77 [==============================] - 0s 543us/step - loss: 180907.1875 - val_loss: 163638.0312\n",
      "Epoch 285/300\n",
      "77/77 [==============================] - 0s 553us/step - loss: 180635.4062 - val_loss: 165494.0781\n",
      "Epoch 286/300\n",
      "77/77 [==============================] - 0s 543us/step - loss: 181749.9375 - val_loss: 163763.8594\n",
      "Epoch 287/300\n",
      "77/77 [==============================] - 0s 568us/step - loss: 180119.0781 - val_loss: 163942.3750\n",
      "Epoch 288/300\n",
      "77/77 [==============================] - 0s 579us/step - loss: 180945.3906 - val_loss: 162436.2031\n",
      "Epoch 289/300\n",
      "77/77 [==============================] - 0s 570us/step - loss: 180424.7500 - val_loss: 163701.6719\n",
      "Epoch 290/300\n",
      "77/77 [==============================] - 0s 555us/step - loss: 180984.8438 - val_loss: 163087.5000\n",
      "Epoch 291/300\n"
     ]
    },
    {
     "name": "stdout",
     "output_type": "stream",
     "text": [
      "77/77 [==============================] - 0s 554us/step - loss: 180298.5469 - val_loss: 162437.3750\n",
      "Epoch 292/300\n",
      "77/77 [==============================] - 0s 556us/step - loss: 180300.7344 - val_loss: 162357.6250\n",
      "Epoch 293/300\n",
      "77/77 [==============================] - 0s 555us/step - loss: 179470.9219 - val_loss: 162535.8281\n",
      "Epoch 294/300\n",
      "77/77 [==============================] - 0s 565us/step - loss: 179418.4688 - val_loss: 163126.6719\n",
      "Epoch 295/300\n",
      "77/77 [==============================] - 0s 568us/step - loss: 180049.2812 - val_loss: 162586.7969\n",
      "Epoch 296/300\n",
      "77/77 [==============================] - 0s 559us/step - loss: 180410.2344 - val_loss: 161979.6719\n",
      "Epoch 297/300\n",
      "77/77 [==============================] - 0s 568us/step - loss: 179504.7344 - val_loss: 161869.6406\n",
      "Epoch 298/300\n",
      "77/77 [==============================] - 0s 544us/step - loss: 179465.7031 - val_loss: 162539.1094\n",
      "Epoch 299/300\n",
      "77/77 [==============================] - 0s 558us/step - loss: 181011.5781 - val_loss: 162461.2969\n",
      "Epoch 300/300\n",
      "77/77 [==============================] - 0s 552us/step - loss: 179904.1719 - val_loss: 162571.5156\n",
      "Mean Squared Error: 182160.89778748312\n",
      "Root Mean Squared Error: 426.80311361034273\n",
      "R-squared: 0.5492668841230668\n",
      "Adjusted R-squared: 0.5487514660374442\n"
     ]
    }
   ],
   "source": [
    "from keras.models import Sequential\n",
    "from keras.layers import Dense\n",
    "\n",
    "model = Sequential()\n",
    "\n",
    "model.add(Dense(units=64, activation='relu', input_dim=X_train_scaled.shape[1]))\n",
    "\n",
    "model.add(Dense(units=32, activation='relu'))\n",
    "\n",
    "model.add(Dense(units=16, activation='relu'))\n",
    "\n",
    "model.add(Dense(units=8, activation='relu'))\n",
    "\n",
    "model.add(Dense(units=1, activation='linear'))\n",
    "\n",
    "model.compile(optimizer='adam', loss='mean_squared_error')\n",
    "\n",
    "#from keras.layers import Dropout\n",
    "#model.add(Dropout(0.5)) \n",
    "\n",
    "#from keras.regularizers import l1, l2\n",
    "#model.add(Dense(units=64, activation='relu', input_dim=X_train.shape[1], kernel_regularizer=l2(0.01)))\n",
    "\n",
    "from keras.callbacks import EarlyStopping\n",
    "early_stopping = EarlyStopping(monitor='val_loss', patience = 10, restore_best_weights=True)\n",
    "model.fit(X_train_scaled, y_train, epochs = 300, batch_size = 64, validation_split=0.3, callbacks=[early_stopping])\n",
    "\n",
    "mse = mean_squared_error(y_test, y_pred)\n",
    "mse_r = mean_squared_error(y_test, y_pred, squared = False)\n",
    "r2 = r2_score(y_test, y_pred)\n",
    "\n",
    "n = len(y_test)\n",
    "k = X_train_scaled.shape[1]  \n",
    "adj_r2 = 1 - ((1 - r2) * (n - 1) / (n - k - 1))\n",
    "\n",
    "print(f'Mean Squared Error: {mse}')\n",
    "print(f'Root Mean Squared Error: {mse_r}')\n",
    "print(f'R-squared: {r2}')\n",
    "print(f'Adjusted R-squared: {adj_r2}')"
   ]
  },
  {
   "cell_type": "code",
   "execution_count": 62,
   "id": "f4ed3263",
   "metadata": {
    "scrolled": true
   },
   "outputs": [
    {
     "name": "stdout",
     "output_type": "stream",
     "text": [
      "Mean Squared Error: 182160.89778748312\n",
      "Root Mean Squared Error: 426.80311361034273\n",
      "R-squared: 0.5492668841230668\n",
      "Adjusted R-squared: 0.5487514660374442\n"
     ]
    }
   ],
   "source": [
    "print(f'Mean Squared Error: {mse}')\n",
    "print(f'Root Mean Squared Error: {mse_r}')\n",
    "print(f'R-squared: {r2}')\n",
    "print(f'Adjusted R-squared: {adj_r2}')"
   ]
  },
  {
   "cell_type": "code",
   "execution_count": 63,
   "id": "53397bb4",
   "metadata": {},
   "outputs": [
    {
     "name": "stdout",
     "output_type": "stream",
     "text": [
      "219/219 [==============================] - 0s 267us/step\n",
      "55/55 [==============================] - 0s 261us/step\n",
      "Training MSE: 174220.74619443633\n",
      "Validation MSE: 179539.4143288872\n",
      "Huber Loss: [[ 84.10565186 266.10565186 147.10565186 ... 398.89434814  74.10565186\n",
      "  108.10565186]\n",
      " [115.5806427   65.4193573   52.5806427  ... 599.5806427  125.5806427\n",
      "   91.5806427 ]\n",
      " [ 97.43060303  83.56939697  34.43060303 ... 581.43060303 107.43060303\n",
      "   73.43060303]\n",
      " ...\n",
      " [653.83374023 835.83374023 716.83374023 ... 169.83374023 643.83374023\n",
      "  677.83374023]\n",
      " [171.47569275   9.52430725 108.47569275 ... 655.47569275 181.47569275\n",
      "  147.47569275]\n",
      " [232.24658203 414.24658203 295.24658203 ... 250.75341797 222.24658203\n",
      "  256.24658203]]\n",
      "Mean Huber Loss: 627.0388039451589\n"
     ]
    }
   ],
   "source": [
    "train_pred = model.predict(X_train_scaled)\n",
    "test_pred = model.predict(X_test_scaled)\n",
    "\n",
    "from sklearn.metrics import mean_squared_error, r2_score\n",
    "\n",
    "train_mse = mean_squared_error(y_train, train_pred)\n",
    "test_mse = mean_squared_error(y_test, test_pred)\n",
    "\n",
    "print(f'Training MSE: {train_mse}')\n",
    "print(f'Validation MSE: {test_mse}')\n",
    "\n",
    "import tensorflow as tf\n",
    "def huber_loss(y_test, y_pred, delta = 1.0):\n",
    "    error = y_test - y_pred\n",
    "    condition = tf.abs(error) < delta\n",
    "    squared_loss = 0.5 * tf.square(error)\n",
    "    linear_loss = delta * (tf.abs(error) - 0.5 * delta)\n",
    "    return tf.where(condition, squared_loss, linear_loss)\n",
    "\n",
    "loss = huber_loss(y_test, y_pred, delta = 1.0)\n",
    "print(\"Huber Loss:\", loss.numpy())\n",
    "\n",
    "mean_huber_loss = np.mean(loss)\n",
    "print(f\"Mean Huber Loss: {mean_huber_loss}\")"
   ]
  },
  {
   "cell_type": "markdown",
   "id": "f796ea26",
   "metadata": {},
   "source": [
    "## No overfitting \n",
    "\n",
    "\n",
    "## 30% Training MSE: 167561.7460854632\n",
    "Validation MSE: 182676.4375581989"
   ]
  },
  {
   "cell_type": "markdown",
   "id": "f0d8b450",
   "metadata": {},
   "source": [
    "# SVM"
   ]
  },
  {
   "cell_type": "code",
   "execution_count": 64,
   "id": "577688c3",
   "metadata": {},
   "outputs": [],
   "source": [
    "from sklearn import svm"
   ]
  },
  {
   "cell_type": "code",
   "execution_count": 65,
   "id": "ff30a011",
   "metadata": {},
   "outputs": [
    {
     "name": "stdout",
     "output_type": "stream",
     "text": [
      "Mean Squared Error: 260812.0098650761\n",
      "Root Mean Squared Error: 510.6975718221853\n",
      "R-squared: 0.35465508079698926\n",
      "Adjusted R-squared: 0.3539171220557623\n"
     ]
    }
   ],
   "source": [
    "regressor = svm.SVR(kernel = 'linear', C = 5.0, epsilon = 2.5)\n",
    "\n",
    "regressor.fit(X_train_scaled, y_train)\n",
    "\n",
    "yp_svm = regressor.predict(X_test_scaled)\n",
    "\n",
    "mse = mean_squared_error(y_test, yp_svm)\n",
    "mse_r = mean_squared_error(y_test, yp_svm, squared = False)\n",
    "r2 = r2_score(y_test, yp_svm)\n",
    "\n",
    "n = len(y_test)\n",
    "k = X_train_scaled.shape[1]  \n",
    "adj_r2 = 1 - ((1 - r2) * (n - 1) / (n - k - 1))\n",
    "\n",
    "print(f'Mean Squared Error: {mse}')\n",
    "print(f'Root Mean Squared Error: {mse_r}')\n",
    "print(f'R-squared: {r2}')\n",
    "print(f'Adjusted R-squared: {adj_r2}')"
   ]
  },
  {
   "cell_type": "code",
   "execution_count": 66,
   "id": "a8e88b7d",
   "metadata": {},
   "outputs": [
    {
     "data": {
      "text/plain": [
       "0.22382072257431407"
      ]
     },
     "execution_count": 66,
     "metadata": {},
     "output_type": "execute_result"
    }
   ],
   "source": [
    "score_svm = cross_val_score(svm.SVR(kernel = 'linear', C = 5.0, epsilon = 2.5), \n",
    "                            X_test_scaled, y_test, cv = 10, scoring = 'r2').mean()\n",
    "score_svm"
   ]
  },
  {
   "cell_type": "code",
   "execution_count": 67,
   "id": "ea0dc11d",
   "metadata": {},
   "outputs": [
    {
     "data": {
      "text/html": [
       "<div>\n",
       "<style scoped>\n",
       "    .dataframe tbody tr th:only-of-type {\n",
       "        vertical-align: middle;\n",
       "    }\n",
       "\n",
       "    .dataframe tbody tr th {\n",
       "        vertical-align: top;\n",
       "    }\n",
       "\n",
       "    .dataframe thead th {\n",
       "        text-align: right;\n",
       "    }\n",
       "</style>\n",
       "<table border=\"1\" class=\"dataframe\">\n",
       "  <thead>\n",
       "    <tr style=\"text-align: right;\">\n",
       "      <th></th>\n",
       "      <th>Actual</th>\n",
       "      <th>Predicted</th>\n",
       "    </tr>\n",
       "  </thead>\n",
       "  <tbody>\n",
       "    <tr>\n",
       "      <th>0</th>\n",
       "      <td>278.0</td>\n",
       "      <td>715.132368</td>\n",
       "    </tr>\n",
       "    <tr>\n",
       "      <th>1</th>\n",
       "      <td>96.0</td>\n",
       "      <td>83.647308</td>\n",
       "    </tr>\n",
       "    <tr>\n",
       "      <th>2</th>\n",
       "      <td>215.0</td>\n",
       "      <td>545.293195</td>\n",
       "    </tr>\n",
       "    <tr>\n",
       "      <th>3</th>\n",
       "      <td>1290.0</td>\n",
       "      <td>799.546194</td>\n",
       "    </tr>\n",
       "    <tr>\n",
       "      <th>4</th>\n",
       "      <td>165.0</td>\n",
       "      <td>614.944886</td>\n",
       "    </tr>\n",
       "  </tbody>\n",
       "</table>\n",
       "</div>"
      ],
      "text/plain": [
       "   Actual   Predicted\n",
       "0   278.0  715.132368\n",
       "1    96.0   83.647308\n",
       "2   215.0  545.293195\n",
       "3  1290.0  799.546194\n",
       "4   165.0  614.944886"
      ]
     },
     "execution_count": 67,
     "metadata": {},
     "output_type": "execute_result"
    }
   ],
   "source": [
    "pred_svm = pd.DataFrame({'Actual': y_test, 'Predicted': yp_svm})\n",
    "pred_svm.head()"
   ]
  },
  {
   "cell_type": "code",
   "execution_count": null,
   "id": "4dee445f",
   "metadata": {},
   "outputs": [],
   "source": []
  },
  {
   "cell_type": "code",
   "execution_count": 68,
   "id": "753e0e58",
   "metadata": {},
   "outputs": [
    {
     "name": "stdout",
     "output_type": "stream",
     "text": [
      "Mean Squared Error: 226015.57144926663\n",
      "Root Mean Squared Error: 475.4109500729518\n",
      "R-squared: 0.44075427825963653\n",
      "Adjusted R-squared: 0.44011477486142003\n"
     ]
    }
   ],
   "source": [
    "regressor = svm.SVR(kernel = 'poly', C = 50.0, epsilon = 3.5, degree = 2)\n",
    "\n",
    "regressor.fit(X_train_scaled, y_train)\n",
    "\n",
    "yp_svm_p2 = regressor.predict(X_test_scaled)\n",
    "\n",
    "mse = mean_squared_error(y_test, yp_svm_p2)\n",
    "mse_r = mean_squared_error(y_test, yp_svm_p2, squared = False)\n",
    "r2 = r2_score(y_test, yp_svm_p2)\n",
    "\n",
    "n = len(y_test)\n",
    "k = X_train_scaled.shape[1]  \n",
    "adj_r2 = 1 - ((1 - r2) * (n - 1) / (n - k - 1))\n",
    "\n",
    "print(f'Mean Squared Error: {mse}')\n",
    "print(f'Root Mean Squared Error: {mse_r}')\n",
    "print(f'R-squared: {r2}')\n",
    "print(f'Adjusted R-squared: {adj_r2}')"
   ]
  },
  {
   "cell_type": "code",
   "execution_count": 69,
   "id": "7db15db6",
   "metadata": {},
   "outputs": [
    {
     "data": {
      "text/plain": [
       "0.43712128689851515"
      ]
     },
     "execution_count": 69,
     "metadata": {},
     "output_type": "execute_result"
    }
   ],
   "source": [
    "score_svr = cross_val_score(svm.SVR(kernel = 'poly', C = 50.0, epsilon = 3.5, degree = 2), \n",
    "                            X_test_scaled, y_test, cv = 10, scoring = 'r2').mean()\n",
    "score_svr"
   ]
  },
  {
   "cell_type": "code",
   "execution_count": 70,
   "id": "2b7f64bf",
   "metadata": {},
   "outputs": [
    {
     "name": "stdout",
     "output_type": "stream",
     "text": [
      "Training MSE: 230861.0609871089\n",
      "Validation MSE: 226015.57144926663\n",
      "Mean Huber Loss: 332.35711018672214\n"
     ]
    }
   ],
   "source": [
    "train_pred = regressor.predict(X_train_scaled)\n",
    "test_pred = regressor.predict(X_test_scaled)\n",
    "\n",
    "from sklearn.metrics import mean_squared_error, r2_score\n",
    "\n",
    "train_mse = mean_squared_error(y_train, train_pred)\n",
    "test_mse = mean_squared_error(y_test, test_pred)\n",
    "\n",
    "print(f'Training MSE: {train_mse}')\n",
    "print(f'Validation MSE: {test_mse}')\n",
    "\n",
    "import tensorflow as tf\n",
    "def huber_loss(y_test, yp_svm_p2, delta = 1.0):\n",
    "    error = y_test - yp_svm_p2\n",
    "    condition = tf.abs(error) < delta\n",
    "    squared_loss = 0.5 * tf.square(error)\n",
    "    linear_loss = delta * (tf.abs(error) - 0.5 * delta)\n",
    "    return tf.where(condition, squared_loss, linear_loss)\n",
    "\n",
    "loss = huber_loss(y_test, yp_svm_p2, delta = 1.0)\n",
    "#print(\"Huber Loss:\", loss.numpy())\n",
    "\n",
    "mean_huber_loss = np.mean(loss)\n",
    "print(f\"Mean Huber Loss: {mean_huber_loss}\")"
   ]
  },
  {
   "cell_type": "markdown",
   "id": "567dad86",
   "metadata": {},
   "source": [
    "## No overfitting \n",
    "\n",
    "## 30% Training MSE: 228137.12938671483\n",
    "Validation MSE: 234311.1493008199"
   ]
  },
  {
   "cell_type": "markdown",
   "id": "c2a207f7",
   "metadata": {},
   "source": []
  },
  {
   "cell_type": "markdown",
   "id": "cebdc20b",
   "metadata": {},
   "source": [
    "# KNN"
   ]
  },
  {
   "cell_type": "code",
   "execution_count": 71,
   "id": "051ace45",
   "metadata": {},
   "outputs": [],
   "source": [
    "from sklearn.neighbors import KNeighborsRegressor"
   ]
  },
  {
   "cell_type": "code",
   "execution_count": 72,
   "id": "e7466068",
   "metadata": {},
   "outputs": [
    {
     "data": {
      "text/plain": [
       "9"
      ]
     },
     "execution_count": 72,
     "metadata": {},
     "output_type": "execute_result"
    }
   ],
   "source": [
    "from sklearn.model_selection import GridSearchCV\n",
    "\n",
    "param_grid = {'n_neighbors': [1, 3, 5, 7, 9]}  # Adjust the range based on your data\n",
    "grid_search = GridSearchCV(KNeighborsRegressor(), param_grid, cv=5, scoring='neg_mean_squared_error')\n",
    "grid_search.fit(X_train_scaled, y_train)\n",
    "\n",
    "best_k = grid_search.best_params_['n_neighbors']\n",
    "#knn_regressor = KNeighborsRegressor(n_neighbors=best_k)\n",
    "#knn_regressor.fit(X_train, y_train)\n",
    "\n",
    "best_k"
   ]
  },
  {
   "cell_type": "code",
   "execution_count": 73,
   "id": "b1c23bf5",
   "metadata": {},
   "outputs": [
    {
     "name": "stdout",
     "output_type": "stream",
     "text": [
      "Mean Squared Error: 171021.93224674446\n",
      "Root Mean Squared Error: 413.5479805859829\n",
      "R-squared: 0.5768287852050449\n",
      "Adjusted R-squared: 0.5763448844448449\n"
     ]
    }
   ],
   "source": [
    "knn_regressor = KNeighborsRegressor(n_neighbors = 9, metric='manhattan') \n",
    "\n",
    "knn_regressor.fit(X_train_scaled, y_train)\n",
    "\n",
    "yp_knn = knn_regressor.predict(X_test_scaled)\n",
    "\n",
    "mse = mean_squared_error(y_test, yp_knn)\n",
    "mse_r = mean_squared_error(y_test, yp_knn, squared = False)\n",
    "r2 = r2_score(y_test, yp_knn)\n",
    "\n",
    "n = len(y_test)\n",
    "k = X_train_scaled.shape[1]  \n",
    "adj_r2 = 1 - ((1 - r2) * (n - 1) / (n - k - 1))\n",
    "\n",
    "print(f'Mean Squared Error: {mse}')\n",
    "print(f'Root Mean Squared Error: {mse_r}')\n",
    "print(f'R-squared: {r2}')\n",
    "print(f'Adjusted R-squared: {adj_r2}')"
   ]
  },
  {
   "cell_type": "code",
   "execution_count": 74,
   "id": "85167242",
   "metadata": {},
   "outputs": [
    {
     "data": {
      "text/plain": [
       "0.566962709582967"
      ]
     },
     "execution_count": 74,
     "metadata": {},
     "output_type": "execute_result"
    }
   ],
   "source": [
    "score_knn = cross_val_score(KNeighborsRegressor(n_neighbors = 9), \n",
    "                            X_test_scaled, y_test, cv = 5, scoring = 'r2').mean()\n",
    "score_knn"
   ]
  },
  {
   "cell_type": "code",
   "execution_count": 75,
   "id": "7af89a94",
   "metadata": {},
   "outputs": [
    {
     "data": {
      "text/html": [
       "<div>\n",
       "<style scoped>\n",
       "    .dataframe tbody tr th:only-of-type {\n",
       "        vertical-align: middle;\n",
       "    }\n",
       "\n",
       "    .dataframe tbody tr th {\n",
       "        vertical-align: top;\n",
       "    }\n",
       "\n",
       "    .dataframe thead th {\n",
       "        text-align: right;\n",
       "    }\n",
       "</style>\n",
       "<table border=\"1\" class=\"dataframe\">\n",
       "  <thead>\n",
       "    <tr style=\"text-align: right;\">\n",
       "      <th></th>\n",
       "      <th>Actual</th>\n",
       "      <th>Predicted</th>\n",
       "    </tr>\n",
       "  </thead>\n",
       "  <tbody>\n",
       "    <tr>\n",
       "      <th>0</th>\n",
       "      <td>278.0</td>\n",
       "      <td>328.333333</td>\n",
       "    </tr>\n",
       "    <tr>\n",
       "      <th>1</th>\n",
       "      <td>96.0</td>\n",
       "      <td>139.777778</td>\n",
       "    </tr>\n",
       "    <tr>\n",
       "      <th>2</th>\n",
       "      <td>215.0</td>\n",
       "      <td>172.888889</td>\n",
       "    </tr>\n",
       "    <tr>\n",
       "      <th>3</th>\n",
       "      <td>1290.0</td>\n",
       "      <td>997.000000</td>\n",
       "    </tr>\n",
       "    <tr>\n",
       "      <th>4</th>\n",
       "      <td>165.0</td>\n",
       "      <td>421.666667</td>\n",
       "    </tr>\n",
       "  </tbody>\n",
       "</table>\n",
       "</div>"
      ],
      "text/plain": [
       "   Actual   Predicted\n",
       "0   278.0  328.333333\n",
       "1    96.0  139.777778\n",
       "2   215.0  172.888889\n",
       "3  1290.0  997.000000\n",
       "4   165.0  421.666667"
      ]
     },
     "execution_count": 75,
     "metadata": {},
     "output_type": "execute_result"
    }
   ],
   "source": [
    "pred_knn = pd.DataFrame({'Actual': y_test, 'Predicted': yp_knn})\n",
    "pred_knn.head()"
   ]
  },
  {
   "cell_type": "code",
   "execution_count": 76,
   "id": "a0860514",
   "metadata": {},
   "outputs": [
    {
     "name": "stdout",
     "output_type": "stream",
     "text": [
      "Training MSE: 137710.31506144654\n",
      "Validation MSE: 171021.93224674446\n",
      "Mean Huber Loss: 262.4580549918259\n"
     ]
    }
   ],
   "source": [
    "train_pred = knn_regressor.predict(X_train_scaled)\n",
    "test_pred = knn_regressor.predict(X_test_scaled)\n",
    "\n",
    "from sklearn.metrics import mean_squared_error, r2_score\n",
    "\n",
    "train_mse = mean_squared_error(y_train, train_pred)\n",
    "test_mse = mean_squared_error(y_test, test_pred)\n",
    "\n",
    "print(f'Training MSE: {train_mse}')\n",
    "print(f'Validation MSE: {test_mse}')\n",
    "\n",
    "import tensorflow as tf\n",
    "def huber_loss(y_test, yp_knn, delta = 1.0):\n",
    "    error = y_test - yp_knn\n",
    "    condition = tf.abs(error) < delta\n",
    "    squared_loss = 0.5 * tf.square(error)\n",
    "    linear_loss = delta * (tf.abs(error) - 0.5 * delta)\n",
    "    return tf.where(condition, squared_loss, linear_loss)\n",
    "\n",
    "loss = huber_loss(y_test, yp_knn, delta = 1.0)\n",
    "#print(\"Huber Loss:\", loss.numpy())\n",
    "\n",
    "mean_huber_loss = np.mean(loss)\n",
    "print(f\"Mean Huber Loss: {mean_huber_loss}\")"
   ]
  },
  {
   "cell_type": "markdown",
   "id": "da91fbf7",
   "metadata": {},
   "source": [
    "## Overfitting here"
   ]
  },
  {
   "cell_type": "code",
   "execution_count": 77,
   "id": "a34e3255",
   "metadata": {},
   "outputs": [
    {
     "name": "stdout",
     "output_type": "stream",
     "text": [
      "Mean Squared Error: 193217.9620947489\n",
      "Root Mean Squared Error: 439.5656516320957\n",
      "R-squared: 0.5219076368411402\n",
      "Adjusted R-squared: 0.5213609331668589\n"
     ]
    }
   ],
   "source": [
    "from sklearn.ensemble import BaggingRegressor\n",
    "\n",
    "bagging_regressor = BaggingRegressor(KNeighborsRegressor(n_neighbors = 4), n_estimators = 10, random_state=12)\n",
    "bagging_regressor.fit(X_train_scaled, y_train)\n",
    "\n",
    "\n",
    "yp_knn_bgg = bagging_regressor.predict(X_test_scaled)\n",
    "\n",
    "mse = mean_squared_error(y_test, yp_knn_bgg)\n",
    "mse_r = mean_squared_error(y_test, yp_knn_bgg, squared = False)\n",
    "r2 = r2_score(y_test, yp_knn_bgg)\n",
    "\n",
    "n = len(y_test)\n",
    "k = X_train_scaled.shape[1]  \n",
    "adj_r2 = 1 - ((1 - r2) * (n - 1) / (n - k - 1))\n",
    "\n",
    "print(f'Mean Squared Error: {mse}')\n",
    "print(f'Root Mean Squared Error: {mse_r}')\n",
    "print(f'R-squared: {r2}')\n",
    "print(f'Adjusted R-squared: {adj_r2}')"
   ]
  },
  {
   "cell_type": "code",
   "execution_count": 78,
   "id": "a1dfb6f6",
   "metadata": {},
   "outputs": [
    {
     "data": {
      "text/plain": [
       "0.5459766094983227"
      ]
     },
     "execution_count": 78,
     "metadata": {},
     "output_type": "execute_result"
    }
   ],
   "source": [
    "score_knn_bgg = cross_val_score(BaggingRegressor(KNeighborsRegressor(n_neighbors = 4), n_estimators = 10, random_state=12), \n",
    "                            X_test_scaled, y_test, cv = 5, scoring = 'r2').mean()\n",
    "score_knn_bgg"
   ]
  },
  {
   "cell_type": "code",
   "execution_count": 79,
   "id": "9b79040b",
   "metadata": {},
   "outputs": [
    {
     "name": "stdout",
     "output_type": "stream",
     "text": [
      "Training MSE: 112665.32327491797\n",
      "Validation MSE: 193217.9620947489\n",
      "Mean Huber Loss: 274.4220692422945\n"
     ]
    }
   ],
   "source": [
    "train_pred = bagging_regressor.predict(X_train_scaled)\n",
    "test_pred = bagging_regressor.predict(X_test_scaled)\n",
    "\n",
    "from sklearn.metrics import mean_squared_error, r2_score\n",
    "\n",
    "train_mse = mean_squared_error(y_train, train_pred)\n",
    "test_mse = mean_squared_error(y_test, test_pred)\n",
    "\n",
    "print(f'Training MSE: {train_mse}')\n",
    "print(f'Validation MSE: {test_mse}')\n",
    "\n",
    "import tensorflow as tf\n",
    "def huber_loss(y_test, yp_knn_bgg, delta = 1.0):\n",
    "    error = y_test - yp_knn_bgg\n",
    "    condition = tf.abs(error) < delta\n",
    "    squared_loss = 0.5 * tf.square(error)\n",
    "    linear_loss = delta * (tf.abs(error) - 0.5 * delta)\n",
    "    return tf.where(condition, squared_loss, linear_loss)\n",
    "\n",
    "loss = huber_loss(y_test, yp_knn_bgg, delta = 1.0)\n",
    "#print(\"Huber Loss:\", loss.numpy())\n",
    "\n",
    "mean_huber_loss = np.mean(loss)\n",
    "print(f\"Mean Huber Loss: {mean_huber_loss}\")"
   ]
  },
  {
   "cell_type": "markdown",
   "id": "7c1633e6",
   "metadata": {},
   "source": [
    "## Overfitting here"
   ]
  },
  {
   "cell_type": "markdown",
   "id": "a3e461dc",
   "metadata": {},
   "source": [
    "# Decision Tree"
   ]
  },
  {
   "cell_type": "code",
   "execution_count": 80,
   "id": "3ae0b356",
   "metadata": {},
   "outputs": [],
   "source": [
    "from sklearn.tree import DecisionTreeRegressor"
   ]
  },
  {
   "cell_type": "code",
   "execution_count": 81,
   "id": "3f884de5",
   "metadata": {},
   "outputs": [
    {
     "data": {
      "text/plain": [
       "{'max_depth': 10, 'min_samples_leaf': 4, 'min_samples_split': 10}"
      ]
     },
     "execution_count": 81,
     "metadata": {},
     "output_type": "execute_result"
    }
   ],
   "source": [
    "from sklearn.model_selection import GridSearchCV\n",
    "\n",
    "param_grid = {\n",
    "    'max_depth': [None, 10, 20, 30],\n",
    "    'min_samples_split': [2, 5, 10],\n",
    "    'min_samples_leaf': [1, 2, 4]\n",
    "}\n",
    "\n",
    "grid_search = GridSearchCV(DecisionTreeRegressor(), param_grid, cv = 5, scoring = 'neg_mean_squared_error')\n",
    "grid_search.fit(X_train_scaled, y_train)\n",
    "\n",
    "best_params = grid_search.best_params_\n",
    "best_params"
   ]
  },
  {
   "cell_type": "code",
   "execution_count": 82,
   "id": "ee9064cc",
   "metadata": {},
   "outputs": [
    {
     "name": "stdout",
     "output_type": "stream",
     "text": [
      "Mean Squared Error: 181200.42440230845\n",
      "Root Mean Squared Error: 425.67643157956076\n",
      "R-squared: 0.5516434488352242\n",
      "Adjusted R-squared: 0.551130748376488\n"
     ]
    }
   ],
   "source": [
    "tree_regressor = DecisionTreeRegressor(\n",
    "    max_depth = 10,\n",
    "    min_samples_split = 10,\n",
    "    min_samples_leaf = 4,\n",
    "    random_state = 12\n",
    ")\n",
    "\n",
    "tree_regressor.fit(X_train_scaled, y_train)\n",
    "\n",
    "yp_dt = tree_regressor.predict(X_test_scaled)\n",
    "\n",
    "mse = mean_squared_error(y_test, yp_dt)\n",
    "mse_r = mean_squared_error(y_test, yp_dt, squared = False)\n",
    "r2 = r2_score(y_test, yp_dt)\n",
    "\n",
    "n = len(y_test)\n",
    "k = X_train_scaled.shape[1]  \n",
    "adj_r2 = 1 - ((1 - r2) * (n - 1) / (n - k - 1))\n",
    "\n",
    "print(f'Mean Squared Error: {mse}')\n",
    "print(f'Root Mean Squared Error: {mse_r}')\n",
    "print(f'R-squared: {r2}')\n",
    "print(f'Adjusted R-squared: {adj_r2}')"
   ]
  },
  {
   "cell_type": "code",
   "execution_count": 83,
   "id": "503c2f33",
   "metadata": {},
   "outputs": [
    {
     "data": {
      "text/plain": [
       "0.4731598280110855"
      ]
     },
     "execution_count": 83,
     "metadata": {},
     "output_type": "execute_result"
    }
   ],
   "source": [
    "score_dt = cross_val_score(DecisionTreeRegressor(max_depth = 10, min_samples_split = 10, \n",
    "                                                 min_samples_leaf = 4, random_state = 12), \n",
    "X_test_scaled, y_test, cv = 5, scoring = 'r2').mean()\n",
    "\n",
    "score_dt"
   ]
  },
  {
   "cell_type": "code",
   "execution_count": 84,
   "id": "eeb2b251",
   "metadata": {},
   "outputs": [
    {
     "data": {
      "text/html": [
       "<div>\n",
       "<style scoped>\n",
       "    .dataframe tbody tr th:only-of-type {\n",
       "        vertical-align: middle;\n",
       "    }\n",
       "\n",
       "    .dataframe tbody tr th {\n",
       "        vertical-align: top;\n",
       "    }\n",
       "\n",
       "    .dataframe thead th {\n",
       "        text-align: right;\n",
       "    }\n",
       "</style>\n",
       "<table border=\"1\" class=\"dataframe\">\n",
       "  <thead>\n",
       "    <tr style=\"text-align: right;\">\n",
       "      <th></th>\n",
       "      <th>Actual</th>\n",
       "      <th>Predicted</th>\n",
       "    </tr>\n",
       "  </thead>\n",
       "  <tbody>\n",
       "    <tr>\n",
       "      <th>0</th>\n",
       "      <td>278.0</td>\n",
       "      <td>334.317647</td>\n",
       "    </tr>\n",
       "    <tr>\n",
       "      <th>1</th>\n",
       "      <td>96.0</td>\n",
       "      <td>168.857143</td>\n",
       "    </tr>\n",
       "    <tr>\n",
       "      <th>2</th>\n",
       "      <td>215.0</td>\n",
       "      <td>109.500000</td>\n",
       "    </tr>\n",
       "    <tr>\n",
       "      <th>3</th>\n",
       "      <td>1290.0</td>\n",
       "      <td>1306.000000</td>\n",
       "    </tr>\n",
       "    <tr>\n",
       "      <th>4</th>\n",
       "      <td>165.0</td>\n",
       "      <td>574.833333</td>\n",
       "    </tr>\n",
       "  </tbody>\n",
       "</table>\n",
       "</div>"
      ],
      "text/plain": [
       "   Actual    Predicted\n",
       "0   278.0   334.317647\n",
       "1    96.0   168.857143\n",
       "2   215.0   109.500000\n",
       "3  1290.0  1306.000000\n",
       "4   165.0   574.833333"
      ]
     },
     "execution_count": 84,
     "metadata": {},
     "output_type": "execute_result"
    }
   ],
   "source": [
    "pred_dt = pd.DataFrame({'Actual': y_test, 'Predicted': yp_dt})\n",
    "pred_dt.head()"
   ]
  },
  {
   "cell_type": "code",
   "execution_count": 85,
   "id": "e05c04f7",
   "metadata": {},
   "outputs": [
    {
     "name": "stdout",
     "output_type": "stream",
     "text": [
      "Training MSE: 126603.5474418591\n",
      "Validation MSE: 181200.42440230845\n",
      "Mean Huber Loss: 267.1467770341865\n"
     ]
    }
   ],
   "source": [
    "train_pred = tree_regressor.predict(X_train_scaled)\n",
    "test_pred = tree_regressor.predict(X_test_scaled)\n",
    "\n",
    "from sklearn.metrics import mean_squared_error, r2_score\n",
    "\n",
    "train_mse = mean_squared_error(y_train, train_pred)\n",
    "test_mse = mean_squared_error(y_test, test_pred)\n",
    "\n",
    "print(f'Training MSE: {train_mse}')\n",
    "print(f'Validation MSE: {test_mse}')\n",
    "\n",
    "import tensorflow as tf\n",
    "def huber_loss(y_test, yp_dt, delta = 1.0):\n",
    "    error = y_test - yp_dt\n",
    "    condition = tf.abs(error) < delta\n",
    "    squared_loss = 0.5 * tf.square(error)\n",
    "    linear_loss = delta * (tf.abs(error) - 0.5 * delta)\n",
    "    return tf.where(condition, squared_loss, linear_loss)\n",
    "\n",
    "loss = huber_loss(y_test, yp_dt, delta = 1.0)\n",
    "#print(\"Huber Loss:\", loss.numpy())\n",
    "\n",
    "mean_huber_loss = np.mean(loss)\n",
    "print(f\"Mean Huber Loss: {mean_huber_loss}\")"
   ]
  },
  {
   "cell_type": "markdown",
   "id": "c4612edf",
   "metadata": {},
   "source": [
    "## Overfitting here"
   ]
  },
  {
   "cell_type": "markdown",
   "id": "92d71547",
   "metadata": {},
   "source": [
    "# Summary"
   ]
  },
  {
   "cell_type": "code",
   "execution_count": 86,
   "id": "112bc5e6",
   "metadata": {},
   "outputs": [
    {
     "name": "stdout",
     "output_type": "stream",
     "text": [
      "R2 LN: 0.3991796133882427\n",
      "R2 LNP2: 0.4533307963682661\n",
      "R2 RP2: 0.4470638127692883\n",
      "R2 RF: 0.5867153839754451\n",
      "R2 SVM: 0.35465508079698926\n",
      "R2 SVR: 0.44075427825963653\n",
      "R2 KNN: 0.5768287852050449\n",
      "R2 KNN BGG: 0.5219076368411402\n",
      "R2 DT: 0.5516434488352242\n"
     ]
    }
   ],
   "source": [
    "print(\"R2 LN:\", r2_score(y_test, yp_lr))\n",
    "\n",
    "print(\"R2 LNP2:\", r2_score(y_test, yp_p2))\n",
    "\n",
    "print(\"R2 RP2:\", r2_score(y_test, yp_rp2))\n",
    "\n",
    "print(\"R2 RF:\", r2_score(y_test, y_pred_best))\n",
    "\n",
    "print(\"R2 SVM:\", r2_score(y_test, yp_svm))\n",
    "\n",
    "print(\"R2 SVR:\", r2_score(y_test, yp_svm_p2))\n",
    "\n",
    "print(\"R2 KNN:\", r2_score(y_test, yp_knn))\n",
    "\n",
    "print(\"R2 KNN BGG:\", r2_score(y_test, yp_knn_bgg))\n",
    "\n",
    "print(\"R2 DT:\", r2_score(y_test, yp_dt))"
   ]
  },
  {
   "cell_type": "code",
   "execution_count": null,
   "id": "543c1b24",
   "metadata": {},
   "outputs": [],
   "source": []
  },
  {
   "cell_type": "markdown",
   "id": "fb95e9a4",
   "metadata": {},
   "source": [
    "## 10 %\n",
    "\n",
    "R2 LN: 0.38074734896171947\n",
    "R2 LNP2: 0.437375128022336\n",
    "R2 RP2: 0.43158689283648877\n",
    "R2 RF: 0.5731908439376762\n",
    "R2 SVM: 0.35080947923018724\n",
    "R2 SVR: 0.4270188162339221\n",
    "R2 KNN: 0.5503845902353699\n",
    "R2 KNN BGG: 0.5354262824282361\n",
    "R2 DT: 0.5445850330737287"
   ]
  },
  {
   "cell_type": "markdown",
   "id": "ec1de3be",
   "metadata": {},
   "source": [
    "## 20 %\n",
    "\n",
    "R2 LN: 0.3991796133882427\n",
    "R2 LNP2: 0.4533307963682661\n",
    "R2 RP2: 0.4470638127692883\n",
    "R2 RF: 0.5867153839754451\n",
    "R2 SVM: 0.35465508079698926\n",
    "R2 SVR: 0.44075427825963653\n",
    "R2 KNN: 0.5768287852050449\n",
    "R2 KNN BGG: 0.5219076368411402\n",
    "R2 DT: 0.5516434488352242"
   ]
  },
  {
   "cell_type": "markdown",
   "id": "cc382ad9",
   "metadata": {},
   "source": [
    "## 30%\n",
    "\n",
    "R2 LN: 0.39912159290211624\n",
    "R2 LNP2: 0.4580627201369608\n",
    "R2 RP2: 0.44855675534225115\n",
    "R2 RF: 0.5818660606458415\n",
    "R2 SVM: 0.34350975005476103\n",
    "R2 SVR: 0.44365713118615513\n",
    "R2 KNN: 0.5712481683582395\n",
    "R2 KNN BGG: 0.5414348406777505\n",
    "R2 DT: 0.5362274954131457"
   ]
  },
  {
   "cell_type": "code",
   "execution_count": null,
   "id": "a389a803",
   "metadata": {},
   "outputs": [],
   "source": []
  },
  {
   "cell_type": "code",
   "execution_count": null,
   "id": "72dc80d7",
   "metadata": {},
   "outputs": [],
   "source": []
  },
  {
   "cell_type": "code",
   "execution_count": null,
   "id": "64d5da8b",
   "metadata": {},
   "outputs": [],
   "source": []
  },
  {
   "cell_type": "code",
   "execution_count": 87,
   "id": "93c77371",
   "metadata": {},
   "outputs": [
    {
     "name": "stdout",
     "output_type": "stream",
     "text": [
      "Cross Validation LN: 0.39460955763442185\n",
      "Cross Validation LNP2: 0.39460955763442185\n",
      "Cross Validation RP2: 0.38995153345812467\n",
      "Cross Validation RF: 0.5410243375530565\n",
      "Cross Validation SVM: 0.22382072257431407\n",
      "Cross Validation SVR: 0.43712128689851515\n",
      "Cross Validation KNN: 0.566962709582967\n",
      "Cross Validation KNN BGG: 0.5459766094983227\n",
      "Cross Validation DT: 0.4731598280110855\n"
     ]
    }
   ],
   "source": [
    "print(\"Cross Validation LN:\", score_l) #yp_lr\n",
    "\n",
    "print(\"Cross Validation LNP2:\", score_lp2) #yp_p2\n",
    "\n",
    "print(\"Cross Validation RP2:\", score_rp2) #yp_rp2\n",
    "\n",
    "print(\"Cross Validation RF:\", score_rf) #y_pred_best\n",
    "\n",
    "#ANN y_pred\n",
    "\n",
    "print(\"Cross Validation SVM:\", score_svm) #yp_svm\n",
    "\n",
    "print(\"Cross Validation SVR:\", score_svr) #yp_svm_p2\n",
    "\n",
    "print(\"Cross Validation KNN:\", score_knn) #yp_knn\n",
    "\n",
    "print(\"Cross Validation KNN BGG:\", score_knn_bgg)  #yp_knn_bgg\n",
    "\n",
    "print(\"Cross Validation DT:\", score_dt) #yp_dt\n",
    "\n",
    "\n"
   ]
  },
  {
   "cell_type": "code",
   "execution_count": null,
   "id": "87752301",
   "metadata": {},
   "outputs": [],
   "source": []
  },
  {
   "cell_type": "code",
   "execution_count": null,
   "id": "e73ee44a",
   "metadata": {},
   "outputs": [],
   "source": []
  },
  {
   "cell_type": "code",
   "execution_count": null,
   "id": "1a751ca9",
   "metadata": {},
   "outputs": [],
   "source": []
  },
  {
   "cell_type": "code",
   "execution_count": null,
   "id": "3e8fbacf",
   "metadata": {},
   "outputs": [],
   "source": []
  },
  {
   "cell_type": "code",
   "execution_count": null,
   "id": "1dc0b4be",
   "metadata": {},
   "outputs": [],
   "source": []
  },
  {
   "cell_type": "code",
   "execution_count": null,
   "id": "221651a1",
   "metadata": {},
   "outputs": [],
   "source": []
  }
 ],
 "metadata": {
  "kernelspec": {
   "display_name": "Python 3 (ipykernel)",
   "language": "python",
   "name": "python3"
  },
  "language_info": {
   "codemirror_mode": {
    "name": "ipython",
    "version": 3
   },
   "file_extension": ".py",
   "mimetype": "text/x-python",
   "name": "python",
   "nbconvert_exporter": "python",
   "pygments_lexer": "ipython3",
   "version": "3.11.5"
  }
 },
 "nbformat": 4,
 "nbformat_minor": 5
}
