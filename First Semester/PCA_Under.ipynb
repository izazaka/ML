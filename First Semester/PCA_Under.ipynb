{
 "cells": [
  {
   "cell_type": "markdown",
   "id": "9963855d",
   "metadata": {},
   "source": [
    "Task:\n",
    "As a data analyst, your task is to prepare and analyse the data set using appropriate data preparation and statistical techniques and ultimately apply the machine learning models for the specified tasks. Your analysis should aim to identify any relationships or trends in the data that can be used to improve employee satisfaction, productivity and issues. Recognise suitable independent variables and target variable from the dataset to justify your classification/ prediction tasks. You can perform clustering on the dataset based on your analysis if applicable. You can generate synthetic data or use any additional data to support your machine learning models if required."
   ]
  },
  {
   "cell_type": "markdown",
   "id": "d3939cb6",
   "metadata": {},
   "source": [
    "\n",
    "Data Preparation\n",
    "● Characterisation of the data set: size; number of attributes; has/does not have missing values, number of observations etc.[0-10]\n",
    "● Application of Data preparation/evaluation methods (Cleaning, renaming, etc) and EDA (Exploratory Data Analysis) visualizations (plural), including a clear and concise explanation of your rationale for what you are doing with the data and why you are doing it.[0-20]\n",
    "● Apply encoding, scaling and feature engineering as and if required, detailing how and why you used these techniques and the rationale for your decisions.[0-30]\n",
    "● Explore the possibility of using dimensional reduction on the dataset. Employ both LDA (Linear Discriminant Analysis) and PCA (Principal Component Analysis) and compare the separation of\n",
    "classes through visualization. Explain the difference between both techniques in your own words and discuss in detail how your results may affect your analysis of classifying or clustering the normal as compared to anomalous biddings.[0-40]\n"
   ]
  },
  {
   "cell_type": "markdown",
   "id": "96cb76a5",
   "metadata": {},
   "source": [
    "Machine Learning\n",
    "● Provide a conceptual understanding and logical justification based on the reasoning for the specific choice of machine learning approaches (supervised/ Unsupervised) for the provided data set. (0-20 marks)\n",
    "● Machine Learning models can be used for Prediction, Classification, and Clustering. You can choose suitable features for the machine learning models based on feature selection methods, such as random forest or any other method. The selection of hyperparameters for the ML models should be performed by using hyperparameter tuning, such as GridSearchCV. Obtain best accuracy using optimal values of the hyperparameters.. (0-30 marks)\n",
    "● You should train and test the Machine learning models in the case of supervised learning for different splits (at least 2 different splits) and use appropriate metrics for unsupervised learning. Use K-fold cross-validation to provide authenticity of the modelling outcomes. (0-30 marks)\n",
    "● Exhibit a comparison of ML modelling outcomes using a Table or graph visualisation. Identify the possible similarities and contrast of the Machine Learning modelling outcomes based on chosen metric and discuss their statistical understanding. (0-20 marks)\n"
   ]
  },
  {
   "cell_type": "markdown",
   "id": "72f8829d",
   "metadata": {},
   "source": [
    "Report\n",
    "A report is required to provide the details of work performed in all tasks. The report should be based on Introduction, rationale of data preparation techniques, machines learning models and conclusions. Illustrations should be used to highlight the details of any section.\n",
    "This should also include evidence to support your data wrangling and analysis through the use of references and citations.\n",
    "Conclusions, Findings of data set and references/citations in (HARVARD style). This should be completed in the Jupyter Notebook Markdown."
   ]
  },
  {
   "cell_type": "markdown",
   "id": "5cbca5e8",
   "metadata": {},
   "source": [
    "# Libraries "
   ]
  },
  {
   "cell_type": "code",
   "execution_count": 1,
   "id": "87283313",
   "metadata": {},
   "outputs": [],
   "source": [
    "%matplotlib inline\n",
    "\n",
    "import pandas as pd\n",
    "\n",
    "import numpy as np\n",
    "\n",
    "import matplotlib.pyplot as plt\n",
    "\n",
    "import seaborn as sns\n",
    "\n",
    "import statsmodels.api as sm\n",
    "\n",
    "from sklearn.model_selection import train_test_split, cross_val_score\n",
    "\n",
    "from sklearn import metrics\n",
    "\n",
    "from sklearn.preprocessing import MinMaxScaler\n",
    "\n",
    "from sklearn.metrics import mean_squared_error, r2_score\n",
    "\n",
    "from sklearn.metrics import classification_report\n",
    "\n",
    "from sklearn.metrics import accuracy_score\n",
    "\n",
    "from sklearn.model_selection import cross_val_score\n",
    "\n",
    "from sklearn.preprocessing import MinMaxScaler\n",
    "\n",
    "from sklearn.decomposition import PCA\n",
    "\n",
    "from sklearn.discriminant_analysis import LinearDiscriminantAnalysis"
   ]
  },
  {
   "cell_type": "markdown",
   "id": "ce6bab81",
   "metadata": {},
   "source": [
    "License\n",
    "This dataset is licensed under a Creative Commons Attribution 4.0 International (CC BY 4.0) license.\n",
    "\n",
    "This allows for the sharing and adaptation of the datasets for any purpose, provided that the appropriate credit is given.\n",
    "\n",
    "DOI\n",
    "10.24432/C5BS66\n",
    "\n",
    "Creators\n",
    "NA NA\n",
    "National Center for Health Statistics (NCHS) at the Centers for Disease Control and Prevention (CDC)\n",
    "\n",
    "https://archive.ics.uci.edu/dataset/887/national+health+and+nutrition+health+survey+2013-2014+(nhanes)+age+prediction+subset"
   ]
  },
  {
   "cell_type": "markdown",
   "id": "58c9eefe",
   "metadata": {},
   "source": [
    "# Same text as ca1\n",
    "\n",
    "# EDA\n",
    "\n",
    "Exploratory Data Analysis. \n",
    "\n",
    "After importing the necessary libraries the next step is to do the Exploratory Data Analysis in our raw data to check its characteristics, such as: the size, shape, which kind of features and observations they are, if there are any missing or duplicated values and what kind of distribution it is. EDA was originally developed in 1970 by the American mathematician John Tukey (IBM, 2023). \n",
    "\n",
    "This is a crucial task because it is the one that helps us to understand what we are dealing with and which approach we are going to use next to obtain a good accuracy for the Machine Learning Model applied and get effective results. \n",
    "\n"
   ]
  },
  {
   "cell_type": "code",
   "execution_count": 2,
   "id": "aa433106",
   "metadata": {},
   "outputs": [],
   "source": [
    "age = pd.read_csv(\"NHANES_age_prediction.csv\")"
   ]
  },
  {
   "cell_type": "code",
   "execution_count": 3,
   "id": "15e44a67",
   "metadata": {},
   "outputs": [
    {
     "data": {
      "text/html": [
       "<div>\n",
       "<style scoped>\n",
       "    .dataframe tbody tr th:only-of-type {\n",
       "        vertical-align: middle;\n",
       "    }\n",
       "\n",
       "    .dataframe tbody tr th {\n",
       "        vertical-align: top;\n",
       "    }\n",
       "\n",
       "    .dataframe thead th {\n",
       "        text-align: right;\n",
       "    }\n",
       "</style>\n",
       "<table border=\"1\" class=\"dataframe\">\n",
       "  <thead>\n",
       "    <tr style=\"text-align: right;\">\n",
       "      <th></th>\n",
       "      <th>SEQN</th>\n",
       "      <th>age_group</th>\n",
       "      <th>RIDAGEYR</th>\n",
       "      <th>RIAGENDR</th>\n",
       "      <th>PAQ605</th>\n",
       "      <th>BMXBMI</th>\n",
       "      <th>LBXGLU</th>\n",
       "      <th>DIQ010</th>\n",
       "      <th>LBXGLT</th>\n",
       "      <th>LBXIN</th>\n",
       "    </tr>\n",
       "  </thead>\n",
       "  <tbody>\n",
       "    <tr>\n",
       "      <th>2276</th>\n",
       "      <td>83718.0</td>\n",
       "      <td>Adult</td>\n",
       "      <td>60.0</td>\n",
       "      <td>2.0</td>\n",
       "      <td>2.0</td>\n",
       "      <td>27.4</td>\n",
       "      <td>90.0</td>\n",
       "      <td>2.0</td>\n",
       "      <td>108.0</td>\n",
       "      <td>4.99</td>\n",
       "    </tr>\n",
       "    <tr>\n",
       "      <th>2277</th>\n",
       "      <td>83727.0</td>\n",
       "      <td>Adult</td>\n",
       "      <td>26.0</td>\n",
       "      <td>1.0</td>\n",
       "      <td>2.0</td>\n",
       "      <td>24.5</td>\n",
       "      <td>108.0</td>\n",
       "      <td>2.0</td>\n",
       "      <td>108.0</td>\n",
       "      <td>3.76</td>\n",
       "    </tr>\n",
       "  </tbody>\n",
       "</table>\n",
       "</div>"
      ],
      "text/plain": [
       "         SEQN age_group  RIDAGEYR  RIAGENDR  PAQ605  BMXBMI  LBXGLU  DIQ010  \\\n",
       "2276  83718.0     Adult      60.0       2.0     2.0    27.4    90.0     2.0   \n",
       "2277  83727.0     Adult      26.0       1.0     2.0    24.5   108.0     2.0   \n",
       "\n",
       "      LBXGLT  LBXIN  \n",
       "2276   108.0   4.99  \n",
       "2277   108.0   3.76  "
      ]
     },
     "execution_count": 3,
     "metadata": {},
     "output_type": "execute_result"
    }
   ],
   "source": [
    "age.tail(2)"
   ]
  },
  {
   "cell_type": "code",
   "execution_count": 4,
   "id": "bccc35c9",
   "metadata": {},
   "outputs": [
    {
     "data": {
      "text/plain": [
       "(2278, 10)"
      ]
     },
     "execution_count": 4,
     "metadata": {},
     "output_type": "execute_result"
    }
   ],
   "source": [
    "age.shape"
   ]
  },
  {
   "cell_type": "code",
   "execution_count": 5,
   "id": "d16cf0d9",
   "metadata": {},
   "outputs": [
    {
     "name": "stdout",
     "output_type": "stream",
     "text": [
      "<class 'pandas.core.frame.DataFrame'>\n",
      "RangeIndex: 2278 entries, 0 to 2277\n",
      "Data columns (total 10 columns):\n",
      " #   Column     Non-Null Count  Dtype  \n",
      "---  ------     --------------  -----  \n",
      " 0   SEQN       2278 non-null   float64\n",
      " 1   age_group  2278 non-null   object \n",
      " 2   RIDAGEYR   2278 non-null   float64\n",
      " 3   RIAGENDR   2278 non-null   float64\n",
      " 4   PAQ605     2278 non-null   float64\n",
      " 5   BMXBMI     2278 non-null   float64\n",
      " 6   LBXGLU     2278 non-null   float64\n",
      " 7   DIQ010     2278 non-null   float64\n",
      " 8   LBXGLT     2278 non-null   float64\n",
      " 9   LBXIN      2278 non-null   float64\n",
      "dtypes: float64(9), object(1)\n",
      "memory usage: 178.1+ KB\n"
     ]
    }
   ],
   "source": [
    "age.info()"
   ]
  },
  {
   "cell_type": "code",
   "execution_count": 6,
   "id": "53a26ae8",
   "metadata": {},
   "outputs": [
    {
     "data": {
      "text/plain": [
       "0"
      ]
     },
     "execution_count": 6,
     "metadata": {},
     "output_type": "execute_result"
    }
   ],
   "source": [
    "age.duplicated().sum()"
   ]
  },
  {
   "cell_type": "code",
   "execution_count": 7,
   "id": "f240c57c",
   "metadata": {},
   "outputs": [
    {
     "data": {
      "text/html": [
       "<div>\n",
       "<style scoped>\n",
       "    .dataframe tbody tr th:only-of-type {\n",
       "        vertical-align: middle;\n",
       "    }\n",
       "\n",
       "    .dataframe tbody tr th {\n",
       "        vertical-align: top;\n",
       "    }\n",
       "\n",
       "    .dataframe thead th {\n",
       "        text-align: right;\n",
       "    }\n",
       "</style>\n",
       "<table border=\"1\" class=\"dataframe\">\n",
       "  <thead>\n",
       "    <tr style=\"text-align: right;\">\n",
       "      <th></th>\n",
       "      <th>SEQN</th>\n",
       "      <th>RIDAGEYR</th>\n",
       "      <th>RIAGENDR</th>\n",
       "      <th>PAQ605</th>\n",
       "      <th>BMXBMI</th>\n",
       "      <th>LBXGLU</th>\n",
       "      <th>DIQ010</th>\n",
       "      <th>LBXGLT</th>\n",
       "      <th>LBXIN</th>\n",
       "    </tr>\n",
       "  </thead>\n",
       "  <tbody>\n",
       "    <tr>\n",
       "      <th>count</th>\n",
       "      <td>2278.000000</td>\n",
       "      <td>2278.000000</td>\n",
       "      <td>2278.000000</td>\n",
       "      <td>2278.000000</td>\n",
       "      <td>2278.000000</td>\n",
       "      <td>2278.000000</td>\n",
       "      <td>2278.000000</td>\n",
       "      <td>2278.000000</td>\n",
       "      <td>2278.000000</td>\n",
       "    </tr>\n",
       "    <tr>\n",
       "      <th>mean</th>\n",
       "      <td>78691.853819</td>\n",
       "      <td>41.795874</td>\n",
       "      <td>1.511414</td>\n",
       "      <td>1.822651</td>\n",
       "      <td>27.955180</td>\n",
       "      <td>99.553117</td>\n",
       "      <td>2.016242</td>\n",
       "      <td>114.978929</td>\n",
       "      <td>11.834794</td>\n",
       "    </tr>\n",
       "    <tr>\n",
       "      <th>std</th>\n",
       "      <td>2921.365151</td>\n",
       "      <td>20.156111</td>\n",
       "      <td>0.499979</td>\n",
       "      <td>0.398918</td>\n",
       "      <td>7.248962</td>\n",
       "      <td>17.889834</td>\n",
       "      <td>0.185556</td>\n",
       "      <td>47.061239</td>\n",
       "      <td>9.718812</td>\n",
       "    </tr>\n",
       "    <tr>\n",
       "      <th>min</th>\n",
       "      <td>73564.000000</td>\n",
       "      <td>12.000000</td>\n",
       "      <td>1.000000</td>\n",
       "      <td>1.000000</td>\n",
       "      <td>14.500000</td>\n",
       "      <td>63.000000</td>\n",
       "      <td>1.000000</td>\n",
       "      <td>40.000000</td>\n",
       "      <td>0.140000</td>\n",
       "    </tr>\n",
       "    <tr>\n",
       "      <th>25%</th>\n",
       "      <td>76171.750000</td>\n",
       "      <td>24.000000</td>\n",
       "      <td>1.000000</td>\n",
       "      <td>2.000000</td>\n",
       "      <td>22.800000</td>\n",
       "      <td>91.000000</td>\n",
       "      <td>2.000000</td>\n",
       "      <td>87.000000</td>\n",
       "      <td>5.860000</td>\n",
       "    </tr>\n",
       "    <tr>\n",
       "      <th>50%</th>\n",
       "      <td>78749.000000</td>\n",
       "      <td>41.000000</td>\n",
       "      <td>2.000000</td>\n",
       "      <td>2.000000</td>\n",
       "      <td>26.800000</td>\n",
       "      <td>97.000000</td>\n",
       "      <td>2.000000</td>\n",
       "      <td>105.000000</td>\n",
       "      <td>9.040000</td>\n",
       "    </tr>\n",
       "    <tr>\n",
       "      <th>75%</th>\n",
       "      <td>81213.500000</td>\n",
       "      <td>58.000000</td>\n",
       "      <td>2.000000</td>\n",
       "      <td>2.000000</td>\n",
       "      <td>31.200000</td>\n",
       "      <td>104.000000</td>\n",
       "      <td>2.000000</td>\n",
       "      <td>130.000000</td>\n",
       "      <td>14.440000</td>\n",
       "    </tr>\n",
       "    <tr>\n",
       "      <th>max</th>\n",
       "      <td>83727.000000</td>\n",
       "      <td>80.000000</td>\n",
       "      <td>2.000000</td>\n",
       "      <td>7.000000</td>\n",
       "      <td>70.100000</td>\n",
       "      <td>405.000000</td>\n",
       "      <td>3.000000</td>\n",
       "      <td>604.000000</td>\n",
       "      <td>102.290000</td>\n",
       "    </tr>\n",
       "  </tbody>\n",
       "</table>\n",
       "</div>"
      ],
      "text/plain": [
       "               SEQN     RIDAGEYR     RIAGENDR       PAQ605       BMXBMI  \\\n",
       "count   2278.000000  2278.000000  2278.000000  2278.000000  2278.000000   \n",
       "mean   78691.853819    41.795874     1.511414     1.822651    27.955180   \n",
       "std     2921.365151    20.156111     0.499979     0.398918     7.248962   \n",
       "min    73564.000000    12.000000     1.000000     1.000000    14.500000   \n",
       "25%    76171.750000    24.000000     1.000000     2.000000    22.800000   \n",
       "50%    78749.000000    41.000000     2.000000     2.000000    26.800000   \n",
       "75%    81213.500000    58.000000     2.000000     2.000000    31.200000   \n",
       "max    83727.000000    80.000000     2.000000     7.000000    70.100000   \n",
       "\n",
       "            LBXGLU       DIQ010       LBXGLT        LBXIN  \n",
       "count  2278.000000  2278.000000  2278.000000  2278.000000  \n",
       "mean     99.553117     2.016242   114.978929    11.834794  \n",
       "std      17.889834     0.185556    47.061239     9.718812  \n",
       "min      63.000000     1.000000    40.000000     0.140000  \n",
       "25%      91.000000     2.000000    87.000000     5.860000  \n",
       "50%      97.000000     2.000000   105.000000     9.040000  \n",
       "75%     104.000000     2.000000   130.000000    14.440000  \n",
       "max     405.000000     3.000000   604.000000   102.290000  "
      ]
     },
     "execution_count": 7,
     "metadata": {},
     "output_type": "execute_result"
    }
   ],
   "source": [
    "age.describe()"
   ]
  },
  {
   "cell_type": "code",
   "execution_count": 8,
   "id": "0a6444ce",
   "metadata": {},
   "outputs": [],
   "source": [
    "age.drop(columns = \"SEQN\", inplace = True)"
   ]
  },
  {
   "cell_type": "code",
   "execution_count": 9,
   "id": "c9936ec0",
   "metadata": {},
   "outputs": [
    {
     "data": {
      "text/plain": [
       "array(['Adult', 'Senior'], dtype=object)"
      ]
     },
     "execution_count": 9,
     "metadata": {},
     "output_type": "execute_result"
    }
   ],
   "source": [
    "age[\"age_group\"].unique()"
   ]
  },
  {
   "cell_type": "code",
   "execution_count": 10,
   "id": "92aaafb2",
   "metadata": {},
   "outputs": [
    {
     "data": {
      "text/plain": [
       "age_group\n",
       "Adult     1914\n",
       "Senior     364\n",
       "Name: count, dtype: int64"
      ]
     },
     "execution_count": 10,
     "metadata": {},
     "output_type": "execute_result"
    }
   ],
   "source": [
    "age[\"age_group\"].value_counts()"
   ]
  },
  {
   "cell_type": "code",
   "execution_count": 11,
   "id": "9f485eef",
   "metadata": {
    "scrolled": false
   },
   "outputs": [
    {
     "name": "stderr",
     "output_type": "stream",
     "text": [
      "/Users/izaiaszacca/anaconda3/lib/python3.11/site-packages/seaborn/_oldcore.py:1119: FutureWarning: use_inf_as_na option is deprecated and will be removed in a future version. Convert inf values to NaN before operating instead.\n",
      "  with pd.option_context('mode.use_inf_as_na', True):\n"
     ]
    },
    {
     "data": {
      "text/plain": [
       "<Axes: xlabel='age_group', ylabel='Count'>"
      ]
     },
     "execution_count": 11,
     "metadata": {},
     "output_type": "execute_result"
    },
    {
     "data": {
      "image/png": "[encoded data removed]",
      "text/plain": [
       "<Figure size 640x480 with 1 Axes>"
      ]
     },
     "metadata": {},
     "output_type": "display_data"
    }
   ],
   "source": [
    "sns.histplot(data = age, x = \"age_group\")"
   ]
  },
  {
   "cell_type": "markdown",
   "id": "f9f58478",
   "metadata": {},
   "source": [
    "# Same text as ca1\n",
    "\n",
    "By plotting this graphic of the target variable \"class\" we can see that the amount of failures for components not related to the APS system is significantly superior to the ones related to the APS. The difference between the two classes are so strong that it may be necessary to balance the dataset so the accuracy can be more trustworthy. A higher accuracy in this case might be misleading given the bias. The imbalance of the dataset can cause an overfitting in the Machine Learning Model when the minority class tends to be ignored over the majority (Truong, 2022). \n",
    "\n",
    "The application of SMOTE (Synthetic Minority Oversampling Technique), where the dataset is balanced by the creation of synthetic samples of the minority class (SATPATHY) can be a solution for this problem or undersampling techniques such as Near-miss that eliminate the majority class observations by random in order to balance the dataset (Imarticus, 2021).\n"
   ]
  },
  {
   "cell_type": "markdown",
   "id": "69ab8e07",
   "metadata": {},
   "source": []
  },
  {
   "cell_type": "markdown",
   "id": "d04b0fe4",
   "metadata": {},
   "source": []
  },
  {
   "cell_type": "markdown",
   "id": "a671dd30",
   "metadata": {},
   "source": [
    "# SAME TEXT AS CA1\n",
    "\n",
    "\"Forcing an ordinal relationship via an ordinal encoding and allowing the model to assume a natural ordering between categories may result in poor performance or unexpected results (predictions halfway between categories).\" (Brownlee, 2020). That is the reason why the variable \"class\" will be transformed in a numerical data through the One-Hot Enconding where a binary value will be put in place and no ordinal relationship will be forced. This method create two new features where \"class_neg\" will be 1 when the \"neg\" value is true and 0 when is false and \"class_pos\" will be the oposite. The new variable \"class_pos\" will be dropped so we have just one target variable and the Machine Learning models can perform their mathematical procedures. "
   ]
  },
  {
   "cell_type": "code",
   "execution_count": 12,
   "id": "728827c0",
   "metadata": {},
   "outputs": [],
   "source": [
    "age = pd.get_dummies(age, dtype = int)"
   ]
  },
  {
   "cell_type": "code",
   "execution_count": 13,
   "id": "febe2a07",
   "metadata": {},
   "outputs": [
    {
     "data": {
      "text/html": [
       "<div>\n",
       "<style scoped>\n",
       "    .dataframe tbody tr th:only-of-type {\n",
       "        vertical-align: middle;\n",
       "    }\n",
       "\n",
       "    .dataframe tbody tr th {\n",
       "        vertical-align: top;\n",
       "    }\n",
       "\n",
       "    .dataframe thead th {\n",
       "        text-align: right;\n",
       "    }\n",
       "</style>\n",
       "<table border=\"1\" class=\"dataframe\">\n",
       "  <thead>\n",
       "    <tr style=\"text-align: right;\">\n",
       "      <th></th>\n",
       "      <th>RIDAGEYR</th>\n",
       "      <th>RIAGENDR</th>\n",
       "      <th>PAQ605</th>\n",
       "      <th>BMXBMI</th>\n",
       "      <th>LBXGLU</th>\n",
       "      <th>DIQ010</th>\n",
       "      <th>LBXGLT</th>\n",
       "      <th>LBXIN</th>\n",
       "      <th>age_group_Adult</th>\n",
       "      <th>age_group_Senior</th>\n",
       "    </tr>\n",
       "  </thead>\n",
       "  <tbody>\n",
       "    <tr>\n",
       "      <th>2276</th>\n",
       "      <td>60.0</td>\n",
       "      <td>2.0</td>\n",
       "      <td>2.0</td>\n",
       "      <td>27.4</td>\n",
       "      <td>90.0</td>\n",
       "      <td>2.0</td>\n",
       "      <td>108.0</td>\n",
       "      <td>4.99</td>\n",
       "      <td>1</td>\n",
       "      <td>0</td>\n",
       "    </tr>\n",
       "    <tr>\n",
       "      <th>2277</th>\n",
       "      <td>26.0</td>\n",
       "      <td>1.0</td>\n",
       "      <td>2.0</td>\n",
       "      <td>24.5</td>\n",
       "      <td>108.0</td>\n",
       "      <td>2.0</td>\n",
       "      <td>108.0</td>\n",
       "      <td>3.76</td>\n",
       "      <td>1</td>\n",
       "      <td>0</td>\n",
       "    </tr>\n",
       "  </tbody>\n",
       "</table>\n",
       "</div>"
      ],
      "text/plain": [
       "      RIDAGEYR  RIAGENDR  PAQ605  BMXBMI  LBXGLU  DIQ010  LBXGLT  LBXIN  \\\n",
       "2276      60.0       2.0     2.0    27.4    90.0     2.0   108.0   4.99   \n",
       "2277      26.0       1.0     2.0    24.5   108.0     2.0   108.0   3.76   \n",
       "\n",
       "      age_group_Adult  age_group_Senior  \n",
       "2276                1                 0  \n",
       "2277                1                 0  "
      ]
     },
     "execution_count": 13,
     "metadata": {},
     "output_type": "execute_result"
    }
   ],
   "source": [
    "age.tail(2)"
   ]
  },
  {
   "cell_type": "code",
   "execution_count": 14,
   "id": "3e959b75",
   "metadata": {},
   "outputs": [],
   "source": [
    "age.drop(columns = \"age_group_Senior\", inplace = True)"
   ]
  },
  {
   "cell_type": "markdown",
   "id": "b5a585fe",
   "metadata": {},
   "source": [
    "### There are more 0 in the \"age_group_Senior\" column \n",
    "justigy why this is better"
   ]
  },
  {
   "cell_type": "code",
   "execution_count": 15,
   "id": "decb724a",
   "metadata": {},
   "outputs": [
    {
     "data": {
      "text/html": [
       "<div>\n",
       "<style scoped>\n",
       "    .dataframe tbody tr th:only-of-type {\n",
       "        vertical-align: middle;\n",
       "    }\n",
       "\n",
       "    .dataframe tbody tr th {\n",
       "        vertical-align: top;\n",
       "    }\n",
       "\n",
       "    .dataframe thead th {\n",
       "        text-align: right;\n",
       "    }\n",
       "</style>\n",
       "<table border=\"1\" class=\"dataframe\">\n",
       "  <thead>\n",
       "    <tr style=\"text-align: right;\">\n",
       "      <th></th>\n",
       "      <th>RIDAGEYR</th>\n",
       "      <th>RIAGENDR</th>\n",
       "      <th>PAQ605</th>\n",
       "      <th>BMXBMI</th>\n",
       "      <th>LBXGLU</th>\n",
       "      <th>DIQ010</th>\n",
       "      <th>LBXGLT</th>\n",
       "      <th>LBXIN</th>\n",
       "      <th>age_group_Adult</th>\n",
       "    </tr>\n",
       "  </thead>\n",
       "  <tbody>\n",
       "    <tr>\n",
       "      <th>2276</th>\n",
       "      <td>60.0</td>\n",
       "      <td>2.0</td>\n",
       "      <td>2.0</td>\n",
       "      <td>27.4</td>\n",
       "      <td>90.0</td>\n",
       "      <td>2.0</td>\n",
       "      <td>108.0</td>\n",
       "      <td>4.99</td>\n",
       "      <td>1</td>\n",
       "    </tr>\n",
       "    <tr>\n",
       "      <th>2277</th>\n",
       "      <td>26.0</td>\n",
       "      <td>1.0</td>\n",
       "      <td>2.0</td>\n",
       "      <td>24.5</td>\n",
       "      <td>108.0</td>\n",
       "      <td>2.0</td>\n",
       "      <td>108.0</td>\n",
       "      <td>3.76</td>\n",
       "      <td>1</td>\n",
       "    </tr>\n",
       "  </tbody>\n",
       "</table>\n",
       "</div>"
      ],
      "text/plain": [
       "      RIDAGEYR  RIAGENDR  PAQ605  BMXBMI  LBXGLU  DIQ010  LBXGLT  LBXIN  \\\n",
       "2276      60.0       2.0     2.0    27.4    90.0     2.0   108.0   4.99   \n",
       "2277      26.0       1.0     2.0    24.5   108.0     2.0   108.0   3.76   \n",
       "\n",
       "      age_group_Adult  \n",
       "2276                1  \n",
       "2277                1  "
      ]
     },
     "execution_count": 15,
     "metadata": {},
     "output_type": "execute_result"
    }
   ],
   "source": [
    "age.tail(2)"
   ]
  },
  {
   "cell_type": "code",
   "execution_count": null,
   "id": "91445f17",
   "metadata": {},
   "outputs": [],
   "source": []
  },
  {
   "cell_type": "markdown",
   "id": "0a30d33b",
   "metadata": {
    "scrolled": false
   },
   "source": [
    "for column in age.columns:\n",
    "    plt.figure(figsize = (4, 2))\n",
    "    plt.hist(age[column])\n",
    "    plt.title(f'Histogram of {column}')\n",
    "    plt.xlabel(column)\n",
    "    plt.ylabel('Frequency')\n",
    "    plt.show()"
   ]
  },
  {
   "cell_type": "markdown",
   "id": "a74bd0f6",
   "metadata": {
    "scrolled": false
   },
   "source": [
    "for column in age.columns:\n",
    "    plt.figure(figsize = (4, 2))\n",
    "    plt.boxplot(age[column])\n",
    "    plt.title(f'Box Plot of {column}')\n",
    "    plt.xlabel(column)\n",
    "    plt.ylabel('Frequency')\n",
    "    plt.show()"
   ]
  },
  {
   "cell_type": "markdown",
   "id": "876d7d64",
   "metadata": {},
   "source": [
    "The distribution of the columns are not normal as we can see in the graphics "
   ]
  },
  {
   "cell_type": "code",
   "execution_count": null,
   "id": "ad0e7809",
   "metadata": {},
   "outputs": [],
   "source": []
  },
  {
   "cell_type": "markdown",
   "id": "591fa0d9",
   "metadata": {},
   "source": [
    "# Correlation"
   ]
  },
  {
   "cell_type": "code",
   "execution_count": 16,
   "id": "5e778b6b",
   "metadata": {},
   "outputs": [
    {
     "name": "stdout",
     "output_type": "stream",
     "text": [
      "          Variable        VIF\n",
      "0         RIDAGEYR  11.209553\n",
      "1         RIAGENDR  10.367954\n",
      "2           PAQ605  20.416338\n",
      "3           BMXBMI  24.915629\n",
      "4           LBXGLU  54.956103\n",
      "5           DIQ010  55.210887\n",
      "6           LBXGLT  14.247082\n",
      "7            LBXIN   3.951943\n",
      "8  age_group_Adult  11.327506\n"
     ]
    }
   ],
   "source": [
    "from statsmodels.stats.outliers_influence import variance_inflation_factor\n",
    "\n",
    "vif_data = pd.DataFrame()\n",
    "vif_data[\"Variable\"] = age.columns\n",
    "vif_data[\"VIF\"] = [variance_inflation_factor(age.values, i) for i in range(age.shape[1])]\n",
    "print(vif_data)"
   ]
  },
  {
   "cell_type": "markdown",
   "id": "95a92525",
   "metadata": {},
   "source": [
    "corr_matrix = np.corrcoef(age, rowvar = False)\n",
    "\n",
    "sns.heatmap(corr_matrix, annot = True, cmap = 'coolwarm', fmt = '.2f', \n",
    "            xticklabels = range(age.shape[1]), yticklabels = range(age.shape[1]))\n",
    "plt.title(\"Feature Correlation Matrix\")\n",
    "plt.show()"
   ]
  },
  {
   "cell_type": "code",
   "execution_count": 17,
   "id": "4b0398ab",
   "metadata": {},
   "outputs": [
    {
     "data": {
      "image/png": "[encoded data removed]",
      "text/plain": [
       "<Figure size 640x480 with 2 Axes>"
      ]
     },
     "metadata": {},
     "output_type": "display_data"
    }
   ],
   "source": [
    "corr_matrix = age.corr()\n",
    "\n",
    "sns.heatmap(corr_matrix, annot=True, cmap='coolwarm', fmt='.2f',\n",
    "            xticklabels=age.columns, yticklabels=age.columns)\n",
    "\n",
    "plt.title(\"Feature Correlation Matrix\")\n",
    "plt.show()"
   ]
  },
  {
   "cell_type": "code",
   "execution_count": 18,
   "id": "e4286679",
   "metadata": {},
   "outputs": [
    {
     "name": "stdout",
     "output_type": "stream",
     "text": [
      "Eigenvalues: [2.28735158 1.6442327  0.25546501 0.28328876 0.46698967 1.18954507\n",
      " 1.07942265 0.96177846 0.83192609]\n"
     ]
    }
   ],
   "source": [
    "eigenvalues, _ = np.linalg.eig(corr_matrix)\n",
    "print(\"Eigenvalues:\", eigenvalues)"
   ]
  },
  {
   "cell_type": "code",
   "execution_count": 19,
   "id": "e0f3c8fe",
   "metadata": {},
   "outputs": [
    {
     "name": "stdout",
     "output_type": "stream",
     "text": [
      "Condition Number: 2.992269808680624\n"
     ]
    }
   ],
   "source": [
    "condition_number = np.sqrt(np.max(eigenvalues) / np.min(eigenvalues))\n",
    "print(\"Condition Number:\", condition_number)"
   ]
  },
  {
   "cell_type": "code",
   "execution_count": 20,
   "id": "c72251d4",
   "metadata": {},
   "outputs": [
    {
     "name": "stdout",
     "output_type": "stream",
     "text": [
      "Pairs of highly correlated variables: [(3, 7), (0, 8), (4, 6)]\n"
     ]
    }
   ],
   "source": [
    "def find_highly_correlated_vars(corr_matrix, threshold = 0.5):\n",
    "    if isinstance(corr_matrix, pd.DataFrame):\n",
    "        corr_matrix = corr_matrix.values\n",
    "    rows, cols = np.where(np.abs(corr_matrix) > threshold)\n",
    "    unique_pairs = set((min(r, c), max(r, c)) for r, c in zip(rows, cols) if r != c)\n",
    "    return list(unique_pairs)\n",
    "\n",
    "corr_matrix = age.corr()\n",
    "highly_corr_vars = find_highly_correlated_vars(corr_matrix, threshold=0.5)\n",
    "\n",
    "print(\"Pairs of highly correlated variables:\", highly_corr_vars)"
   ]
  },
  {
   "cell_type": "code",
   "execution_count": 21,
   "id": "4d3cdb87",
   "metadata": {},
   "outputs": [
    {
     "data": {
      "text/html": [
       "<div>\n",
       "<style scoped>\n",
       "    .dataframe tbody tr th:only-of-type {\n",
       "        vertical-align: middle;\n",
       "    }\n",
       "\n",
       "    .dataframe tbody tr th {\n",
       "        vertical-align: top;\n",
       "    }\n",
       "\n",
       "    .dataframe thead th {\n",
       "        text-align: right;\n",
       "    }\n",
       "</style>\n",
       "<table border=\"1\" class=\"dataframe\">\n",
       "  <thead>\n",
       "    <tr style=\"text-align: right;\">\n",
       "      <th></th>\n",
       "      <th>RIDAGEYR</th>\n",
       "      <th>RIAGENDR</th>\n",
       "      <th>PAQ605</th>\n",
       "      <th>BMXBMI</th>\n",
       "      <th>LBXGLU</th>\n",
       "      <th>DIQ010</th>\n",
       "      <th>LBXGLT</th>\n",
       "      <th>LBXIN</th>\n",
       "      <th>age_group_Adult</th>\n",
       "    </tr>\n",
       "  </thead>\n",
       "  <tbody>\n",
       "    <tr>\n",
       "      <th>2273</th>\n",
       "      <td>38.0</td>\n",
       "      <td>2.0</td>\n",
       "      <td>2.0</td>\n",
       "      <td>33.5</td>\n",
       "      <td>100.0</td>\n",
       "      <td>2.0</td>\n",
       "      <td>73.0</td>\n",
       "      <td>6.53</td>\n",
       "      <td>1</td>\n",
       "    </tr>\n",
       "    <tr>\n",
       "      <th>2274</th>\n",
       "      <td>61.0</td>\n",
       "      <td>1.0</td>\n",
       "      <td>2.0</td>\n",
       "      <td>30.0</td>\n",
       "      <td>93.0</td>\n",
       "      <td>2.0</td>\n",
       "      <td>208.0</td>\n",
       "      <td>13.02</td>\n",
       "      <td>1</td>\n",
       "    </tr>\n",
       "    <tr>\n",
       "      <th>2275</th>\n",
       "      <td>34.0</td>\n",
       "      <td>1.0</td>\n",
       "      <td>2.0</td>\n",
       "      <td>23.7</td>\n",
       "      <td>103.0</td>\n",
       "      <td>2.0</td>\n",
       "      <td>124.0</td>\n",
       "      <td>21.41</td>\n",
       "      <td>1</td>\n",
       "    </tr>\n",
       "    <tr>\n",
       "      <th>2276</th>\n",
       "      <td>60.0</td>\n",
       "      <td>2.0</td>\n",
       "      <td>2.0</td>\n",
       "      <td>27.4</td>\n",
       "      <td>90.0</td>\n",
       "      <td>2.0</td>\n",
       "      <td>108.0</td>\n",
       "      <td>4.99</td>\n",
       "      <td>1</td>\n",
       "    </tr>\n",
       "    <tr>\n",
       "      <th>2277</th>\n",
       "      <td>26.0</td>\n",
       "      <td>1.0</td>\n",
       "      <td>2.0</td>\n",
       "      <td>24.5</td>\n",
       "      <td>108.0</td>\n",
       "      <td>2.0</td>\n",
       "      <td>108.0</td>\n",
       "      <td>3.76</td>\n",
       "      <td>1</td>\n",
       "    </tr>\n",
       "  </tbody>\n",
       "</table>\n",
       "</div>"
      ],
      "text/plain": [
       "      RIDAGEYR  RIAGENDR  PAQ605  BMXBMI  LBXGLU  DIQ010  LBXGLT  LBXIN  \\\n",
       "2273      38.0       2.0     2.0    33.5   100.0     2.0    73.0   6.53   \n",
       "2274      61.0       1.0     2.0    30.0    93.0     2.0   208.0  13.02   \n",
       "2275      34.0       1.0     2.0    23.7   103.0     2.0   124.0  21.41   \n",
       "2276      60.0       2.0     2.0    27.4    90.0     2.0   108.0   4.99   \n",
       "2277      26.0       1.0     2.0    24.5   108.0     2.0   108.0   3.76   \n",
       "\n",
       "      age_group_Adult  \n",
       "2273                1  \n",
       "2274                1  \n",
       "2275                1  \n",
       "2276                1  \n",
       "2277                1  "
      ]
     },
     "execution_count": 21,
     "metadata": {},
     "output_type": "execute_result"
    }
   ],
   "source": [
    "age.tail()"
   ]
  },
  {
   "cell_type": "code",
   "execution_count": 22,
   "id": "ad4a38de",
   "metadata": {},
   "outputs": [],
   "source": [
    "age_array = age.values"
   ]
  },
  {
   "cell_type": "code",
   "execution_count": 23,
   "id": "1d23927e",
   "metadata": {},
   "outputs": [],
   "source": [
    "X = age_array[:, 0:8]\n",
    "\n",
    "y = age_array[:, 8]"
   ]
  },
  {
   "cell_type": "code",
   "execution_count": 24,
   "id": "4af2a58e",
   "metadata": {},
   "outputs": [
    {
     "data": {
      "text/plain": [
       "array([1., 1., 1., ..., 1., 1., 1.])"
      ]
     },
     "execution_count": 24,
     "metadata": {},
     "output_type": "execute_result"
    }
   ],
   "source": [
    "y"
   ]
  },
  {
   "cell_type": "code",
   "execution_count": 25,
   "id": "86afbfb9",
   "metadata": {},
   "outputs": [
    {
     "data": {
      "text/plain": [
       "(2278, 8)"
      ]
     },
     "execution_count": 25,
     "metadata": {},
     "output_type": "execute_result"
    }
   ],
   "source": [
    "X.shape"
   ]
  },
  {
   "cell_type": "code",
   "execution_count": null,
   "id": "6d667a9b",
   "metadata": {},
   "outputs": [],
   "source": []
  },
  {
   "cell_type": "code",
   "execution_count": null,
   "id": "cf4b4ebd",
   "metadata": {},
   "outputs": [],
   "source": []
  },
  {
   "cell_type": "code",
   "execution_count": 26,
   "id": "58439f49",
   "metadata": {},
   "outputs": [
    {
     "name": "stdout",
     "output_type": "stream",
     "text": [
      "                            OLS Regression Results                            \n",
      "==============================================================================\n",
      "Dep. Variable:                      y   R-squared:                       0.495\n",
      "Model:                            OLS   Adj. R-squared:                  0.494\n",
      "Method:                 Least Squares   F-statistic:                     278.5\n",
      "Date:                Sun, 24 Dec 2023   Prob (F-statistic):               0.00\n",
      "Time:                        18:50:17   Log-Likelihood:                -166.09\n",
      "No. Observations:                2278   AIC:                             350.2\n",
      "Df Residuals:                    2269   BIC:                             401.8\n",
      "Df Model:                           8                                         \n",
      "Covariance Type:            nonrobust                                         \n",
      "==============================================================================\n",
      "                 coef    std err          t      P>|t|      [0.025      0.975]\n",
      "------------------------------------------------------------------------------\n",
      "const          1.1410      0.078     14.679      0.000       0.989       1.293\n",
      "x1            -0.0128      0.000    -42.949      0.000      -0.013      -0.012\n",
      "x2             0.0158      0.011      1.397      0.163      -0.006       0.038\n",
      "x3            -0.0608      0.014     -4.365      0.000      -0.088      -0.034\n",
      "x4             0.0074      0.001      7.824      0.000       0.006       0.009\n",
      "x5             0.0020      0.000      4.690      0.000       0.001       0.003\n",
      "x6             0.0171      0.030      0.578      0.563      -0.041       0.075\n",
      "x7            -0.0007      0.000     -4.348      0.000      -0.001      -0.000\n",
      "x8            -0.0031      0.001     -4.317      0.000      -0.004      -0.002\n",
      "==============================================================================\n",
      "Omnibus:                       93.538   Durbin-Watson:                   2.020\n",
      "Prob(Omnibus):                  0.000   Jarque-Bera (JB):               53.538\n",
      "Skew:                          -0.220   Prob(JB):                     2.37e-12\n",
      "Kurtosis:                       2.392   Cond. No.                     2.48e+03\n",
      "==============================================================================\n",
      "\n",
      "Notes:\n",
      "[1] Standard Errors assume that the covariance matrix of the errors is correctly specified.\n",
      "[2] The condition number is large, 2.48e+03. This might indicate that there are\n",
      "strong multicollinearity or other numerical problems.\n"
     ]
    }
   ],
   "source": [
    "X_with_constant = sm.add_constant(X)\n",
    "\n",
    "model = sm.OLS(y, X_with_constant).fit()\n",
    "\n",
    "print(model.summary())"
   ]
  },
  {
   "cell_type": "code",
   "execution_count": null,
   "id": "c3c3a8c6",
   "metadata": {},
   "outputs": [],
   "source": []
  },
  {
   "cell_type": "markdown",
   "id": "b73a6b9f",
   "metadata": {},
   "source": [
    "## Normalisation\n",
    "\n",
    "The MinMax method was chosen given the skeweness of the data. "
   ]
  },
  {
   "cell_type": "code",
   "execution_count": 27,
   "id": "8afdcd98",
   "metadata": {},
   "outputs": [],
   "source": [
    "scaler = MinMaxScaler()\n",
    "\n",
    "X_scaled = scaler.fit_transform(X)"
   ]
  },
  {
   "cell_type": "code",
   "execution_count": 28,
   "id": "2dd2cedb",
   "metadata": {},
   "outputs": [
    {
     "data": {
      "text/plain": [
       "array([[0.72058824, 1.        , 0.16666667, ..., 0.5       , 0.19503546,\n",
       "        0.14459129],\n",
       "       [0.20588235, 1.        , 0.16666667, ..., 0.5       , 0.07092199,\n",
       "        0.03631914],\n",
       "       [0.05882353, 0.        , 0.16666667, ..., 0.5       , 0.04964539,\n",
       "        0.05873715],\n",
       "       ...,\n",
       "       [0.32352941, 0.        , 0.16666667, ..., 0.5       , 0.14893617,\n",
       "        0.2082232 ],\n",
       "       [0.70588235, 1.        , 0.16666667, ..., 0.5       , 0.12056738,\n",
       "        0.0474792 ],\n",
       "       [0.20588235, 0.        , 0.16666667, ..., 0.5       , 0.12056738,\n",
       "        0.03543808]])"
      ]
     },
     "execution_count": 28,
     "metadata": {},
     "output_type": "execute_result"
    }
   ],
   "source": [
    "X_scaled"
   ]
  },
  {
   "cell_type": "code",
   "execution_count": null,
   "id": "741e0eb6",
   "metadata": {},
   "outputs": [],
   "source": []
  },
  {
   "cell_type": "markdown",
   "id": "d7eeacbc",
   "metadata": {},
   "source": [
    "# PCA"
   ]
  },
  {
   "cell_type": "code",
   "execution_count": 29,
   "id": "f70c2831",
   "metadata": {},
   "outputs": [
    {
     "data": {
      "text/html": [
       "<style>#sk-container-id-1 {color: black;}#sk-container-id-1 pre{padding: 0;}#sk-container-id-1 div.sk-toggleable {background-color: white;}#sk-container-id-1 label.sk-toggleable__label {cursor: pointer;display: block;width: 100%;margin-bottom: 0;padding: 0.3em;box-sizing: border-box;text-align: center;}#sk-container-id-1 label.sk-toggleable__label-arrow:before {content: \"▸\";float: left;margin-right: 0.25em;color: #696969;}#sk-container-id-1 label.sk-toggleable__label-arrow:hover:before {color: black;}#sk-container-id-1 div.sk-estimator:hover label.sk-toggleable__label-arrow:before {color: black;}#sk-container-id-1 div.sk-toggleable__content {max-height: 0;max-width: 0;overflow: hidden;text-align: left;background-color: #f0f8ff;}#sk-container-id-1 div.sk-toggleable__content pre {margin: 0.2em;color: black;border-radius: 0.25em;background-color: #f0f8ff;}#sk-container-id-1 input.sk-toggleable__control:checked~div.sk-toggleable__content {max-height: 200px;max-width: 100%;overflow: auto;}#sk-container-id-1 input.sk-toggleable__control:checked~label.sk-toggleable__label-arrow:before {content: \"▾\";}#sk-container-id-1 div.sk-estimator input.sk-toggleable__control:checked~label.sk-toggleable__label {background-color: #d4ebff;}#sk-container-id-1 div.sk-label input.sk-toggleable__control:checked~label.sk-toggleable__label {background-color: #d4ebff;}#sk-container-id-1 input.sk-hidden--visually {border: 0;clip: rect(1px 1px 1px 1px);clip: rect(1px, 1px, 1px, 1px);height: 1px;margin: -1px;overflow: hidden;padding: 0;position: absolute;width: 1px;}#sk-container-id-1 div.sk-estimator {font-family: monospace;background-color: #f0f8ff;border: 1px dotted black;border-radius: 0.25em;box-sizing: border-box;margin-bottom: 0.5em;}#sk-container-id-1 div.sk-estimator:hover {background-color: #d4ebff;}#sk-container-id-1 div.sk-parallel-item::after {content: \"\";width: 100%;border-bottom: 1px solid gray;flex-grow: 1;}#sk-container-id-1 div.sk-label:hover label.sk-toggleable__label {background-color: #d4ebff;}#sk-container-id-1 div.sk-serial::before {content: \"\";position: absolute;border-left: 1px solid gray;box-sizing: border-box;top: 0;bottom: 0;left: 50%;z-index: 0;}#sk-container-id-1 div.sk-serial {display: flex;flex-direction: column;align-items: center;background-color: white;padding-right: 0.2em;padding-left: 0.2em;position: relative;}#sk-container-id-1 div.sk-item {position: relative;z-index: 1;}#sk-container-id-1 div.sk-parallel {display: flex;align-items: stretch;justify-content: center;background-color: white;position: relative;}#sk-container-id-1 div.sk-item::before, #sk-container-id-1 div.sk-parallel-item::before {content: \"\";position: absolute;border-left: 1px solid gray;box-sizing: border-box;top: 0;bottom: 0;left: 50%;z-index: -1;}#sk-container-id-1 div.sk-parallel-item {display: flex;flex-direction: column;z-index: 1;position: relative;background-color: white;}#sk-container-id-1 div.sk-parallel-item:first-child::after {align-self: flex-end;width: 50%;}#sk-container-id-1 div.sk-parallel-item:last-child::after {align-self: flex-start;width: 50%;}#sk-container-id-1 div.sk-parallel-item:only-child::after {width: 0;}#sk-container-id-1 div.sk-dashed-wrapped {border: 1px dashed gray;margin: 0 0.4em 0.5em 0.4em;box-sizing: border-box;padding-bottom: 0.4em;background-color: white;}#sk-container-id-1 div.sk-label label {font-family: monospace;font-weight: bold;display: inline-block;line-height: 1.2em;}#sk-container-id-1 div.sk-label-container {text-align: center;}#sk-container-id-1 div.sk-container {/* jupyter's `normalize.less` sets `[hidden] { display: none; }` but bootstrap.min.css set `[hidden] { display: none !important; }` so we also need the `!important` here to be able to override the default hidden behavior on the sphinx rendered scikit-learn.org. See: https://github.com/scikit-learn/scikit-learn/issues/21755 */display: inline-block !important;position: relative;}#sk-container-id-1 div.sk-text-repr-fallback {display: none;}</style><div id=\"sk-container-id-1\" class=\"sk-top-container\"><div class=\"sk-text-repr-fallback\"><pre>PCA()</pre><b>In a Jupyter environment, please rerun this cell to show the HTML representation or trust the notebook. <br />On GitHub, the HTML representation is unable to render, please try loading this page with nbviewer.org.</b></div><div class=\"sk-container\" hidden><div class=\"sk-item\"><div class=\"sk-estimator sk-toggleable\"><input class=\"sk-toggleable__control sk-hidden--visually\" id=\"sk-estimator-id-1\" type=\"checkbox\" checked><label for=\"sk-estimator-id-1\" class=\"sk-toggleable__label sk-toggleable__label-arrow\">PCA</label><div class=\"sk-toggleable__content\"><pre>PCA()</pre></div></div></div></div></div>"
      ],
      "text/plain": [
       "PCA()"
      ]
     },
     "execution_count": 29,
     "metadata": {},
     "output_type": "execute_result"
    }
   ],
   "source": [
    "pca = PCA()\n",
    "\n",
    "pca.fit(X_scaled)"
   ]
  },
  {
   "cell_type": "code",
   "execution_count": 30,
   "id": "db16bd75",
   "metadata": {},
   "outputs": [],
   "source": [
    "variance = pca.explained_variance_ratio_\n",
    "\n",
    "var = np.cumsum(np.round(pca.explained_variance_ratio_, decimals = 3)*100)"
   ]
  },
  {
   "cell_type": "code",
   "execution_count": null,
   "id": "07d364c6",
   "metadata": {},
   "outputs": [],
   "source": []
  },
  {
   "cell_type": "code",
   "execution_count": 31,
   "id": "3eccdb83",
   "metadata": {},
   "outputs": [
    {
     "data": {
      "image/png": "[encoded data removed]",
      "text/plain": [
       "<Figure size 640x480 with 1 Axes>"
      ]
     },
     "metadata": {},
     "output_type": "display_data"
    }
   ],
   "source": [
    "pca = PCA().fit(X_scaled) \n",
    "plt.plot(np.cumsum(pca.explained_variance_ratio_)) \n",
    "plt.xlabel('number of components') \n",
    "plt.ylabel('cumulative explained variance'); "
   ]
  },
  {
   "cell_type": "code",
   "execution_count": 32,
   "id": "e4daa867",
   "metadata": {},
   "outputs": [
    {
     "data": {
      "image/png": "[encoded data removed]",
      "text/plain": [
       "<Figure size 640x480 with 1 Axes>"
      ]
     },
     "metadata": {},
     "output_type": "display_data"
    }
   ],
   "source": [
    "plt.figure()\n",
    "plt.plot(np.cumsum(pca.explained_variance_ratio_))\n",
    "plt.xlabel(\"Number of Components\")\n",
    "plt.xticks(np.arange(0, 12, 1), fontsize = 15)\n",
    "plt.ylabel(\"Variance (%)\")\n",
    "plt.yticks(np.arange(0.90, 1.2, 0.05), fontsize = 15)\n",
    "plt.axhline(y=0.95, color='r', linestyle='--', label='95% Variance')\n",
    "cumulative_variance = np.cumsum(pca.explained_variance_ratio_)\n",
    "index_95 = np.argmax(cumulative_variance >= 0.95)\n",
    "plt.axvline(x=index_95, color='r', linestyle='--')\n",
    "plt.legend()\n",
    "plt.title(\"Train Dataset Explained Variance\")\n",
    "plt.show()"
   ]
  },
  {
   "cell_type": "code",
   "execution_count": null,
   "id": "740651b3",
   "metadata": {},
   "outputs": [],
   "source": []
  },
  {
   "cell_type": "markdown",
   "id": "bf99a975",
   "metadata": {},
   "source": [
    "## Split with 20%"
   ]
  },
  {
   "cell_type": "code",
   "execution_count": 33,
   "id": "d3e5ebca",
   "metadata": {},
   "outputs": [],
   "source": [
    "X_train, X_test, y_tr, y_te = train_test_split(X_scaled, y, test_size = 0.3, random_state = 12)"
   ]
  },
  {
   "cell_type": "code",
   "execution_count": 34,
   "id": "d8de4e4f",
   "metadata": {},
   "outputs": [
    {
     "data": {
      "text/plain": [
       "((2278, 8), (2278,), (1594, 8), (684, 8), (1594,), (684,))"
      ]
     },
     "execution_count": 34,
     "metadata": {},
     "output_type": "execute_result"
    }
   ],
   "source": [
    "X_scaled.shape, y.shape, X_train.shape, X_test.shape, y_tr.shape, y_te.shape"
   ]
  },
  {
   "cell_type": "code",
   "execution_count": null,
   "id": "54efd57b",
   "metadata": {},
   "outputs": [],
   "source": []
  },
  {
   "cell_type": "markdown",
   "id": "43eff55d",
   "metadata": {},
   "source": [
    "# APPLYING PCA"
   ]
  },
  {
   "cell_type": "code",
   "execution_count": 35,
   "id": "f7c0c6d7",
   "metadata": {},
   "outputs": [],
   "source": [
    "pca = PCA(n_components = 3)\n",
    "\n",
    "X_train_p = pca.fit_transform(X_train)\n",
    "\n",
    "X_test_p = pca.transform(X_test)"
   ]
  },
  {
   "cell_type": "code",
   "execution_count": 36,
   "id": "ff2d4729",
   "metadata": {},
   "outputs": [],
   "source": [
    "from imblearn.under_sampling import NearMiss\n",
    "\n",
    "nr = NearMiss()\n",
    "\n",
    "# Train the model\n",
    "X_train_pca, y_train = nr.fit_resample(X_train_p, y_tr)\n",
    "\n",
    "X_test_pca, y_test = nr.fit_resample(X_test_p, y_te)"
   ]
  },
  {
   "cell_type": "code",
   "execution_count": 37,
   "id": "17289244",
   "metadata": {},
   "outputs": [
    {
     "data": {
      "text/plain": [
       "array([[ 0.50729139,  0.45415379, -0.07306538],\n",
       "       [-0.49300153,  0.34029935,  0.07389526],\n",
       "       [ 0.5094277 ,  0.55237087, -0.01091817],\n",
       "       ...,\n",
       "       [-0.49388283,  0.2690405 ,  0.4671892 ],\n",
       "       [ 0.5119406 ,  0.13395624, -0.12629468],\n",
       "       [-0.49163253,  0.14311958, -0.01444295]])"
      ]
     },
     "execution_count": 37,
     "metadata": {},
     "output_type": "execute_result"
    }
   ],
   "source": [
    "X_train_pca"
   ]
  },
  {
   "cell_type": "code",
   "execution_count": 38,
   "id": "4ae939fb",
   "metadata": {},
   "outputs": [
    {
     "data": {
      "text/plain": [
       "array([[ 0.50981764,  0.43852959,  0.06070771],\n",
       "       [ 0.50797609,  0.33759696, -0.13735497],\n",
       "       [ 0.51350949,  0.37837107,  0.07590466],\n",
       "       [-0.49392118,  0.55918391, -0.02945452],\n",
       "       [-0.49190142,  0.34756744, -0.14305843],\n",
       "       [-0.49277665,  0.46359811, -0.0322854 ],\n",
       "       [ 0.50655813,  0.49240754, -0.04690477],\n",
       "       [-0.49345559,  0.54648526, -0.1030664 ],\n",
       "       [-0.49347181,  0.54704115, -0.05683033],\n",
       "       [ 0.50743208,  0.32805909, -0.15010848],\n",
       "       [-0.49228372,  0.39523118, -0.16054952],\n",
       "       [-0.49370967,  0.56021068,  0.07231582],\n",
       "       [-0.49400793,  0.5657916 , -0.01037223],\n",
       "       [ 0.50755941,  0.37317731, -0.04883844],\n",
       "       [-0.4934522 ,  0.46073227, -0.04285765],\n",
       "       [-0.49221546,  0.56510832,  0.06385969],\n",
       "       [-0.49248773,  0.35683773, -0.10123645],\n",
       "       [-0.49223429,  0.53845614, -0.17008033],\n",
       "       [-0.49153539,  0.59172189,  0.02810139],\n",
       "       [ 0.50818352,  0.45412852,  0.12647555],\n",
       "       [ 0.50742734,  0.57773169,  0.03704014],\n",
       "       [ 0.50685905,  0.48248231, -0.16026737],\n",
       "       [ 0.50776519,  0.55606417, -0.12386552],\n",
       "       [ 0.50735055,  0.4506375 , -0.04402909],\n",
       "       [ 0.50932291,  0.38754978,  0.22593147],\n",
       "       [ 0.50685086,  0.5253535 , -0.05629616],\n",
       "       [ 0.50719688,  0.5511111 , -0.10371127],\n",
       "       [ 0.5074354 ,  0.415977  ,  0.04755372],\n",
       "       [-0.49185285,  0.56093492,  0.35361979],\n",
       "       [-0.49445464,  0.48867498,  0.40768181],\n",
       "       [-0.49181397,  0.4021777 , -0.03925184],\n",
       "       [ 0.50858396,  0.3802779 , -0.04538628],\n",
       "       [-0.49112736,  0.3488609 ,  0.26695179],\n",
       "       [ 0.50653944,  0.55617963, -0.11163443],\n",
       "       [-0.49255838,  0.41960375, -0.06257564],\n",
       "       [ 0.50771104,  0.56543411, -0.02084927],\n",
       "       [ 0.50786283,  0.37316425, -0.02663606],\n",
       "       [-0.49270355,  0.54866672, -0.12800357],\n",
       "       [ 0.50983011,  0.54939476, -0.08294388],\n",
       "       [-0.49254481,  0.34575315,  0.00932832],\n",
       "       [ 0.50672377,  0.55534156, -0.0358157 ],\n",
       "       [ 0.50647552,  0.49800425, -0.03598878],\n",
       "       [ 0.50727712,  0.37065666, -0.20775458],\n",
       "       [ 0.50801106,  0.5632296 , -0.01510208],\n",
       "       [ 0.51179463,  0.38836311,  0.01316423],\n",
       "       [-0.49273035,  0.40511183,  0.01973517],\n",
       "       [-0.48689525,  0.56280569, -0.00260723],\n",
       "       [-0.48738864,  0.56306715, -0.13563694],\n",
       "       [-0.49307188,  0.55301929, -0.04421746],\n",
       "       [ 0.50740649,  0.33784837, -0.09775869],\n",
       "       [ 0.50698442,  0.37483493, -0.11586025],\n",
       "       [ 0.50743356,  0.46710492, -0.02749321],\n",
       "       [-0.49407982,  0.40408487,  0.17457352],\n",
       "       [-0.4923481 ,  0.3635471 , -0.13262652],\n",
       "       [-0.4935955 ,  0.35103356, -0.02645472],\n",
       "       [ 0.50326428,  0.57979639, -0.05705758],\n",
       "       [-0.49339551,  0.41400967,  0.0969477 ],\n",
       "       [-0.48939237,  0.54834295, -0.10486083],\n",
       "       [-0.4911317 ,  0.36959809, -0.19756032],\n",
       "       [ 0.51105563,  0.42561223,  0.14865776],\n",
       "       [-0.49167897,  0.40809762, -0.08193754],\n",
       "       [ 0.50669733,  0.51439354,  0.03107972],\n",
       "       [-0.49104354,  0.41332511,  0.01644763],\n",
       "       [-0.49075219,  0.54875378,  0.20462063],\n",
       "       [-0.49292638,  0.55299476, -0.08906898],\n",
       "       [ 0.50774174,  0.55905009,  0.04903931],\n",
       "       [ 0.51083196,  0.43873869, -0.0938064 ],\n",
       "       [ 0.50776043,  0.4425271 ,  0.03795967],\n",
       "       [ 0.50801267,  0.54970516, -0.01994228],\n",
       "       [-0.49305492,  0.4048523 ,  0.06348107],\n",
       "       [-0.49186666,  0.53122258, -0.23740186],\n",
       "       [ 0.50722001,  0.47701571,  0.06808259],\n",
       "       [ 0.50717899,  0.55323189, -0.16964438],\n",
       "       [-0.49280309,  0.37731481, -0.06758054],\n",
       "       [-0.49306847,  0.51787852, -0.22172913],\n",
       "       [ 0.50689503,  0.41431911, -0.11086784],\n",
       "       [ 0.50605671,  0.5116639 , -0.04443577],\n",
       "       [ 0.51149001,  0.56709067, -0.09555797],\n",
       "       [-0.49247609,  0.40041856, -0.08225585],\n",
       "       [ 0.51100166,  0.40967168, -0.15674565],\n",
       "       [ 0.50705789,  0.59988453,  0.28437444],\n",
       "       [-0.4916338 ,  0.31844514, -0.2017726 ],\n",
       "       [ 0.50770445,  0.35854735, -0.07052888],\n",
       "       [-0.49410388,  0.45736526,  0.06467772],\n",
       "       [-0.49278047,  0.43789175, -0.03124165],\n",
       "       [ 0.50624176,  0.39277891, -0.0568711 ],\n",
       "       [-0.49428079,  0.56720562,  0.07578305],\n",
       "       [ 0.51160402,  0.42000228, -0.03184375],\n",
       "       [-0.49282544,  0.56275708, -0.10633602],\n",
       "       [-0.49110252,  0.46246809,  0.01973343],\n",
       "       [-0.49249752,  0.49157348, -0.18961195],\n",
       "       [ 0.50755071,  0.32689915, -0.10587988],\n",
       "       [ 0.51310383,  0.46245228,  0.22938986],\n",
       "       [-0.49279648,  0.37717185, -0.15291055],\n",
       "       [-0.48851571,  0.38237671, -0.18048192],\n",
       "       [ 0.50715344,  0.5177526 , -0.10657795],\n",
       "       [-0.49201464,  0.3693428 , -0.0192992 ],\n",
       "       [ 0.51273182,  0.44912781, -0.00082923],\n",
       "       [-0.49399345,  0.56323175, -0.0643904 ],\n",
       "       [-0.49321273,  0.46149626, -0.07080954],\n",
       "       [ 0.50637795,  0.40258263,  0.04642306],\n",
       "       [ 0.50741076,  0.31694608, -0.12606712],\n",
       "       [ 0.50916825,  0.30101076, -0.10964906],\n",
       "       [ 0.51159013,  0.29268582, -0.13005196],\n",
       "       [ 0.50791092,  0.29306013, -0.11826856],\n",
       "       [-0.49195361,  0.31388981, -0.15274883],\n",
       "       [-0.49155288,  0.30960737, -0.13255168],\n",
       "       [ 0.50843028,  0.32056285, -0.02562818],\n",
       "       [ 0.50804524,  0.31868113, -0.02922009],\n",
       "       [ 0.50791162,  0.28098143, -0.15929122],\n",
       "       [-0.49193827,  0.29382784, -0.14693425],\n",
       "       [ 0.51109778,  0.31893778, -0.01305038],\n",
       "       [-0.49241121,  0.29400382, -0.11147573],\n",
       "       [ 0.50734406,  0.30411338, -0.0374754 ],\n",
       "       [ 0.50781695,  0.26766873, -0.11045915],\n",
       "       [-0.4866352 ,  0.29725241, -0.04380776],\n",
       "       [ 0.50832926,  0.29450431, -0.04506206],\n",
       "       [ 0.51149168,  0.37182697,  0.18762755],\n",
       "       [-0.49189605,  0.29639557, -0.06325852],\n",
       "       [ 0.51089521,  0.32121519,  0.05208297],\n",
       "       [-0.49302093,  0.28823136,  0.02739387],\n",
       "       [-0.49203521,  0.2774317 , -0.12381352],\n",
       "       [-0.49163955,  0.28675985, -0.08376805],\n",
       "       [-0.49147228,  0.28641646, -0.06437038],\n",
       "       [ 0.50796957,  0.25069764, -0.11674616],\n",
       "       [ 0.50769263,  0.30740024,  0.02763339],\n",
       "       [ 0.50712002,  0.3185573 ,  0.08763921],\n",
       "       [-0.4912277 ,  0.27820541, -0.07979233],\n",
       "       [ 0.5114349 ,  0.24333624, -0.11970821],\n",
       "       [-0.49120754,  0.25854487, -0.20301593],\n",
       "       [ 0.50775078,  0.24003554, -0.1087933 ],\n",
       "       [ 0.50756907,  0.23962453, -0.148359  ],\n",
       "       [-0.49196067,  0.2699835 , -0.06798358],\n",
       "       [ 0.51164229,  0.24362154, -0.08122073],\n",
       "       [-0.49276645,  0.26024128,  0.0103327 ],\n",
       "       [-0.49104151,  0.24586655, -0.13167395],\n",
       "       [ 0.51064516,  0.27444783,  0.00088998],\n",
       "       [-0.49440104,  0.32125763,  0.25389264],\n",
       "       [-0.490782  ,  0.3087511 ,  0.15519243],\n",
       "       [-0.49200889,  0.24571917,  0.00956086],\n",
       "       [-0.4917019 ,  0.29996384,  0.1965797 ],\n",
       "       [ 0.51106013,  0.27239331,  0.02423942],\n",
       "       [-0.49208059,  0.240214  , -0.00833402],\n",
       "       [ 0.50829258,  0.26207536,  0.00220349],\n",
       "       [-0.49323562,  0.2968586 ,  0.150464  ],\n",
       "       [-0.49098976,  0.24785999,  0.05667503],\n",
       "       [-0.49343905,  0.29599829,  0.25453096],\n",
       "       [-0.49185846,  0.22807908, -0.02443855],\n",
       "       [-0.49273876,  0.28614043,  0.23690043],\n",
       "       [-0.49153922,  0.22815517,  0.01562994],\n",
       "       [ 0.50751297,  0.25359736,  0.01345674],\n",
       "       [ 0.50772511,  0.2108123 , -0.06014753],\n",
       "       [ 0.51062777,  0.1989738 , -0.09665519],\n",
       "       [-0.49155582,  0.21127969, -0.14549177],\n",
       "       [ 0.50813428,  0.2341675 , -0.00842996],\n",
       "       [-0.49030564,  0.23873732,  0.06037812],\n",
       "       [-0.49387808,  0.3450838 ,  0.35086853],\n",
       "       [ 0.50795383,  0.21312325, -0.03042449],\n",
       "       [ 0.50811233,  0.18912623, -0.14055532],\n",
       "       [-0.49221715,  0.20327657, -0.14052024],\n",
       "       [-0.49208836,  0.21732135,  0.03283955],\n",
       "       [ 0.50932448,  0.20771264, -0.01825065],\n",
       "       [ 0.50807084,  0.19776029, -0.03874861],\n",
       "       [ 0.50825354,  0.18739646, -0.05862582],\n",
       "       [-0.49286688,  0.2492267 ,  0.17413905],\n",
       "       [ 0.50776364,  0.17401707, -0.13413693],\n",
       "       [-0.4894828 ,  0.28753298,  0.30627503],\n",
       "       [ 0.50895238,  0.19289664, -0.03060851],\n",
       "       [-0.49142364,  0.19514252, -0.0312166 ],\n",
       "       [-0.4924209 ,  0.1922223 , -0.02861649],\n",
       "       [ 0.51075092,  0.16756766, -0.14267058],\n",
       "       [-0.49128374,  0.19252271, -0.09209257],\n",
       "       [ 0.51289041,  0.22965263,  0.08957116],\n",
       "       [-0.48802709,  0.17860024, -0.1768575 ],\n",
       "       [-0.49149883,  0.17668495, -0.17628935],\n",
       "       [-0.4925274 ,  0.2066556 ,  0.07155177],\n",
       "       [ 0.507693  ,  0.16340905, -0.0859472 ],\n",
       "       [ 0.50664986,  0.16840533, -0.06267285],\n",
       "       [-0.4912612 ,  0.18504144, -0.06109331],\n",
       "       [-0.49094504,  0.17801821, -0.10669898],\n",
       "       [ 0.51171644,  0.17694174, -0.0308057 ],\n",
       "       [-0.49284084,  0.22757548,  0.14746695],\n",
       "       [-0.4931645 ,  0.22725777,  0.1181068 ],\n",
       "       [-0.48768074,  0.18422614,  0.03828339],\n",
       "       [ 0.50298757,  0.18287095, -0.00769659],\n",
       "       [ 0.50887645,  0.16181474, -0.05762045],\n",
       "       [ 0.50772462,  0.1505673 , -0.12165238],\n",
       "       [-0.49040217,  0.22028136,  0.14156025],\n",
       "       [-0.49248906,  0.21166839,  0.10158171],\n",
       "       [ 0.51161488,  0.15094993, -0.08532443],\n",
       "       [ 0.51113025,  0.15118273, -0.07919534],\n",
       "       [-0.49326492,  0.18535625,  0.06350355],\n",
       "       [ 0.5081696 ,  0.19035491,  0.01773021],\n",
       "       [-0.49231917,  0.17138271,  0.02159814],\n",
       "       [ 0.51203713,  0.17590749, -0.00404963],\n",
       "       [-0.49216966,  0.19371876,  0.08521935],\n",
       "       [-0.49257997,  0.21098528,  0.14259873],\n",
       "       [-0.48830633,  0.15307451, -0.15193034],\n",
       "       [-0.49759726,  0.17875207,  0.0656593 ],\n",
       "       [-0.4863883 ,  0.17513527,  0.05713748],\n",
       "       [ 0.50802428,  0.15527084, -0.02820624],\n",
       "       [ 0.50779461,  0.14192327, -0.06545741]])"
      ]
     },
     "execution_count": 38,
     "metadata": {},
     "output_type": "execute_result"
    }
   ],
   "source": [
    "X_test_pca"
   ]
  },
  {
   "cell_type": "code",
   "execution_count": 39,
   "id": "c0b5c134",
   "metadata": {},
   "outputs": [
    {
     "data": {
      "text/plain": [
       "((526, 3), (202, 3))"
      ]
     },
     "execution_count": 39,
     "metadata": {},
     "output_type": "execute_result"
    }
   ],
   "source": [
    "X_train_pca.shape, X_test_pca.shape"
   ]
  },
  {
   "cell_type": "code",
   "execution_count": null,
   "id": "cd7a4e46",
   "metadata": {},
   "outputs": [],
   "source": []
  },
  {
   "cell_type": "markdown",
   "id": "e55dce5d",
   "metadata": {},
   "source": [
    "# Models"
   ]
  },
  {
   "cell_type": "markdown",
   "id": "eecf8200",
   "metadata": {},
   "source": [
    "# Linear Regression"
   ]
  },
  {
   "cell_type": "code",
   "execution_count": 40,
   "id": "dd9d6946",
   "metadata": {},
   "outputs": [],
   "source": [
    "from sklearn.linear_model import LinearRegression"
   ]
  },
  {
   "cell_type": "code",
   "execution_count": 41,
   "id": "d7814928",
   "metadata": {},
   "outputs": [
    {
     "name": "stdout",
     "output_type": "stream",
     "text": [
      "Mean Squared Error: 0.06736739719404918\n",
      "Root Mean Squared Error: 0.25955230146166913\n",
      "R-squared: 0.7305304112238034\n",
      "Adjusted R-squared: 0.7264475386665883\n"
     ]
    }
   ],
   "source": [
    "linear_reg = LinearRegression()\n",
    "\n",
    "linear_reg.fit(X_train_pca, y_train)\n",
    "\n",
    "yp_lr = linear_reg.predict(X_test_pca)\n",
    "\n",
    "mse = mean_squared_error(y_test, yp_lr)\n",
    "mse_r = mean_squared_error(y_test, yp_lr, squared = False)\n",
    "r2 = r2_score(y_test, yp_lr)\n",
    "\n",
    "n = len(y_test)\n",
    "k = X_train_pca.shape[1]\n",
    "adj_r2 = 1 - ((1 - r2) * (n - 1) / (n - k - 1))\n",
    "\n",
    "print(f'Mean Squared Error: {mse}')\n",
    "print(f'Root Mean Squared Error: {mse_r}')\n",
    "print(f'R-squared: {r2}')\n",
    "print(f'Adjusted R-squared: {adj_r2}')"
   ]
  },
  {
   "cell_type": "code",
   "execution_count": 42,
   "id": "3eaa86f0",
   "metadata": {},
   "outputs": [
    {
     "name": "stdout",
     "output_type": "stream",
     "text": [
      "Training MSE: 0.06978876478746747\n",
      "Validation MSE: 0.06736739719404918\n"
     ]
    }
   ],
   "source": [
    "train_pred = linear_reg.predict(X_train_pca)\n",
    "test_pred = linear_reg.predict(X_test_pca)\n",
    "\n",
    "from sklearn.metrics import mean_squared_error, r2_score\n",
    "\n",
    "train_mse = mean_squared_error(y_train, train_pred)\n",
    "test_mse = mean_squared_error(y_test, test_pred)\n",
    "\n",
    "print(f'Training MSE: {train_mse}')\n",
    "print(f'Validation MSE: {test_mse}')"
   ]
  },
  {
   "cell_type": "code",
   "execution_count": 43,
   "id": "78f0faa2",
   "metadata": {},
   "outputs": [
    {
     "name": "stdout",
     "output_type": "stream",
     "text": [
      "Mean Huber Loss: 0.03368369859702459\n"
     ]
    }
   ],
   "source": [
    "import tensorflow as tf\n",
    "def huber_loss(y_test, yp_lr, delta=1.0):\n",
    "    error = y_test - yp_lr\n",
    "    condition = tf.abs(error) < delta\n",
    "    squared_loss = 0.5 * tf.square(error)\n",
    "    linear_loss = delta * (tf.abs(error) - 0.5 * delta)\n",
    "    return tf.where(condition, squared_loss, linear_loss)\n",
    "\n",
    "loss = huber_loss(y_test, yp_lr, delta=1.0)\n",
    "\n",
    "mean_huber_loss = np.mean(loss)\n",
    "print(f\"Mean Huber Loss: {mean_huber_loss}\")"
   ]
  },
  {
   "cell_type": "code",
   "execution_count": 44,
   "id": "7ad0792d",
   "metadata": {},
   "outputs": [
    {
     "data": {
      "text/plain": [
       "0.1026245078442155"
      ]
     },
     "execution_count": 44,
     "metadata": {},
     "output_type": "execute_result"
    }
   ],
   "source": [
    "score_l = cross_val_score(LinearRegression(), X_test_pca, y_test, cv = 5, scoring = 'r2').mean()\n",
    "score_l"
   ]
  },
  {
   "cell_type": "code",
   "execution_count": 45,
   "id": "e0ea12c0",
   "metadata": {},
   "outputs": [
    {
     "data": {
      "text/html": [
       "<div>\n",
       "<style scoped>\n",
       "    .dataframe tbody tr th:only-of-type {\n",
       "        vertical-align: middle;\n",
       "    }\n",
       "\n",
       "    .dataframe tbody tr th {\n",
       "        vertical-align: top;\n",
       "    }\n",
       "\n",
       "    .dataframe thead th {\n",
       "        text-align: right;\n",
       "    }\n",
       "</style>\n",
       "<table border=\"1\" class=\"dataframe\">\n",
       "  <thead>\n",
       "    <tr style=\"text-align: right;\">\n",
       "      <th></th>\n",
       "      <th>Actual</th>\n",
       "      <th>Predicted</th>\n",
       "    </tr>\n",
       "  </thead>\n",
       "  <tbody>\n",
       "    <tr>\n",
       "      <th>0</th>\n",
       "      <td>0.0</td>\n",
       "      <td>0.248344</td>\n",
       "    </tr>\n",
       "    <tr>\n",
       "      <th>1</th>\n",
       "      <td>0.0</td>\n",
       "      <td>0.526644</td>\n",
       "    </tr>\n",
       "    <tr>\n",
       "      <th>2</th>\n",
       "      <td>0.0</td>\n",
       "      <td>0.451367</td>\n",
       "    </tr>\n",
       "    <tr>\n",
       "      <th>3</th>\n",
       "      <td>0.0</td>\n",
       "      <td>-0.209936</td>\n",
       "    </tr>\n",
       "    <tr>\n",
       "      <th>4</th>\n",
       "      <td>0.0</td>\n",
       "      <td>0.457480</td>\n",
       "    </tr>\n",
       "  </tbody>\n",
       "</table>\n",
       "</div>"
      ],
      "text/plain": [
       "   Actual  Predicted\n",
       "0     0.0   0.248344\n",
       "1     0.0   0.526644\n",
       "2     0.0   0.451367\n",
       "3     0.0  -0.209936\n",
       "4     0.0   0.457480"
      ]
     },
     "execution_count": 45,
     "metadata": {},
     "output_type": "execute_result"
    }
   ],
   "source": [
    "pred = pd.DataFrame({'Actual': y_test, 'Predicted': yp_lr})\n",
    "pred.head()"
   ]
  },
  {
   "cell_type": "code",
   "execution_count": null,
   "id": "2af0780a",
   "metadata": {},
   "outputs": [],
   "source": []
  },
  {
   "cell_type": "markdown",
   "id": "d942b781",
   "metadata": {},
   "source": [
    "## Polynomial 2 and 3"
   ]
  },
  {
   "cell_type": "code",
   "execution_count": 46,
   "id": "82080ff3",
   "metadata": {},
   "outputs": [],
   "source": [
    "from sklearn.preprocessing import PolynomialFeatures"
   ]
  },
  {
   "cell_type": "code",
   "execution_count": 47,
   "id": "487594c0",
   "metadata": {},
   "outputs": [
    {
     "name": "stdout",
     "output_type": "stream",
     "text": [
      "Mean Squared Error: 0.06102239767456707\n",
      "Root Mean Squared Error: 0.24702711930993945\n",
      "R-squared: 0.7559104093017317\n",
      "Adjusted R-squared: 0.7522120821699397\n"
     ]
    }
   ],
   "source": [
    "poly_features = PolynomialFeatures(degree = 2)\n",
    "\n",
    "X_train_poly = poly_features.fit_transform(X_train_pca)\n",
    "X_test_poly = poly_features.transform(X_test_pca)\n",
    "\n",
    "poly_reg = LinearRegression()\n",
    "poly_reg.fit(X_train_poly, y_train)\n",
    "\n",
    "yp_p2 = poly_reg.predict(X_test_poly)\n",
    "\n",
    "mse = mean_squared_error(y_test, yp_p2)\n",
    "mse_r = mean_squared_error(y_test, yp_p2, squared = False)\n",
    "r2 = r2_score(y_test, yp_p2)\n",
    "\n",
    "n = len(y_test)\n",
    "k = X_train_pca.shape[1]  # Number of features\n",
    "adj_r2 = 1 - ((1 - r2) * (n - 1) / (n - k - 1))\n",
    "\n",
    "print(f'Mean Squared Error: {mse}')\n",
    "print(f'Root Mean Squared Error: {mse_r}')\n",
    "print(f'R-squared: {r2}')\n",
    "print(f'Adjusted R-squared: {adj_r2}')"
   ]
  },
  {
   "cell_type": "code",
   "execution_count": 48,
   "id": "0c7fa418",
   "metadata": {},
   "outputs": [
    {
     "data": {
      "text/plain": [
       "0.1026245078442155"
      ]
     },
     "execution_count": 48,
     "metadata": {},
     "output_type": "execute_result"
    }
   ],
   "source": [
    "score_lp2 = cross_val_score(poly_reg, X_test_pca, y_test, cv = 5, scoring = 'r2').mean()\n",
    "score_lp2"
   ]
  },
  {
   "cell_type": "code",
   "execution_count": 49,
   "id": "924736ab",
   "metadata": {},
   "outputs": [
    {
     "data": {
      "text/html": [
       "<div>\n",
       "<style scoped>\n",
       "    .dataframe tbody tr th:only-of-type {\n",
       "        vertical-align: middle;\n",
       "    }\n",
       "\n",
       "    .dataframe tbody tr th {\n",
       "        vertical-align: top;\n",
       "    }\n",
       "\n",
       "    .dataframe thead th {\n",
       "        text-align: right;\n",
       "    }\n",
       "</style>\n",
       "<table border=\"1\" class=\"dataframe\">\n",
       "  <thead>\n",
       "    <tr style=\"text-align: right;\">\n",
       "      <th></th>\n",
       "      <th>Actual</th>\n",
       "      <th>Predicted</th>\n",
       "    </tr>\n",
       "  </thead>\n",
       "  <tbody>\n",
       "    <tr>\n",
       "      <th>0</th>\n",
       "      <td>0.0</td>\n",
       "      <td>0.171219</td>\n",
       "    </tr>\n",
       "    <tr>\n",
       "      <th>1</th>\n",
       "      <td>0.0</td>\n",
       "      <td>0.433251</td>\n",
       "    </tr>\n",
       "    <tr>\n",
       "      <th>2</th>\n",
       "      <td>0.0</td>\n",
       "      <td>0.356900</td>\n",
       "    </tr>\n",
       "    <tr>\n",
       "      <th>3</th>\n",
       "      <td>0.0</td>\n",
       "      <td>-0.117945</td>\n",
       "    </tr>\n",
       "    <tr>\n",
       "      <th>4</th>\n",
       "      <td>0.0</td>\n",
       "      <td>0.371995</td>\n",
       "    </tr>\n",
       "  </tbody>\n",
       "</table>\n",
       "</div>"
      ],
      "text/plain": [
       "   Actual  Predicted\n",
       "0     0.0   0.171219\n",
       "1     0.0   0.433251\n",
       "2     0.0   0.356900\n",
       "3     0.0  -0.117945\n",
       "4     0.0   0.371995"
      ]
     },
     "execution_count": 49,
     "metadata": {},
     "output_type": "execute_result"
    }
   ],
   "source": [
    "pred_p2 = pd.DataFrame({'Actual': y_test, 'Predicted': yp_p2})\n",
    "pred_p2.head()"
   ]
  },
  {
   "cell_type": "code",
   "execution_count": 50,
   "id": "489f2c8f",
   "metadata": {},
   "outputs": [
    {
     "name": "stdout",
     "output_type": "stream",
     "text": [
      "Mean Squared Error: 0.03721114558457538\n",
      "R-squared: 0.8511554176616984\n"
     ]
    }
   ],
   "source": [
    "degree = 3\n",
    "poly_features = PolynomialFeatures(degree=degree)\n",
    "\n",
    "X_train_poly = poly_features.fit_transform(X_train_pca)\n",
    "X_test_poly = poly_features.transform(X_test_pca)\n",
    "\n",
    "poly_reg = LinearRegression()\n",
    "poly_reg.fit(X_train_poly, y_train)\n",
    "\n",
    "yp_p3 = poly_reg.predict(X_test_poly)\n",
    "\n",
    "mse = mean_squared_error(y_test, yp_p3)\n",
    "r2 = r2_score(y_test, yp_p3)\n",
    "\n",
    "print(f'Mean Squared Error: {mse}')\n",
    "print(f'R-squared: {r2}')"
   ]
  },
  {
   "cell_type": "code",
   "execution_count": null,
   "id": "a0ba3c07",
   "metadata": {},
   "outputs": [],
   "source": []
  },
  {
   "cell_type": "markdown",
   "id": "8ec4e421",
   "metadata": {},
   "source": [
    "## Ridge"
   ]
  },
  {
   "cell_type": "code",
   "execution_count": 51,
   "id": "1a258a9f",
   "metadata": {},
   "outputs": [
    {
     "name": "stdout",
     "output_type": "stream",
     "text": [
      "Mean Squared Error (Ridge): 0.06860302954477289\n",
      "R-squared (Ridge): 0.7255878818209085\n"
     ]
    }
   ],
   "source": [
    "from sklearn.linear_model import Ridge\n",
    "\n",
    "ridge_reg = Ridge(alpha=1.0)  # Adjust alpha based on the strength of regularization\n",
    "ridge_reg.fit(X_train_pca, y_train)\n",
    "\n",
    "yp_lnR = ridge_reg.predict(X_test_pca)\n",
    "\n",
    "mse = mean_squared_error(y_test, yp_lnR)\n",
    "r2 = r2_score(y_test, yp_lnR)\n",
    "\n",
    "print(f'Mean Squared Error (Ridge): {mse}')\n",
    "print(f'R-squared (Ridge): {r2}')"
   ]
  },
  {
   "cell_type": "code",
   "execution_count": 52,
   "id": "150be03a",
   "metadata": {},
   "outputs": [
    {
     "data": {
      "text/html": [
       "<div>\n",
       "<style scoped>\n",
       "    .dataframe tbody tr th:only-of-type {\n",
       "        vertical-align: middle;\n",
       "    }\n",
       "\n",
       "    .dataframe tbody tr th {\n",
       "        vertical-align: top;\n",
       "    }\n",
       "\n",
       "    .dataframe thead th {\n",
       "        text-align: right;\n",
       "    }\n",
       "</style>\n",
       "<table border=\"1\" class=\"dataframe\">\n",
       "  <thead>\n",
       "    <tr style=\"text-align: right;\">\n",
       "      <th></th>\n",
       "      <th>Actual</th>\n",
       "      <th>Predicted</th>\n",
       "    </tr>\n",
       "  </thead>\n",
       "  <tbody>\n",
       "    <tr>\n",
       "      <th>0</th>\n",
       "      <td>0.0</td>\n",
       "      <td>0.275817</td>\n",
       "    </tr>\n",
       "    <tr>\n",
       "      <th>1</th>\n",
       "      <td>0.0</td>\n",
       "      <td>0.523006</td>\n",
       "    </tr>\n",
       "    <tr>\n",
       "      <th>2</th>\n",
       "      <td>0.0</td>\n",
       "      <td>0.457845</td>\n",
       "    </tr>\n",
       "    <tr>\n",
       "      <th>3</th>\n",
       "      <td>0.0</td>\n",
       "      <td>-0.136467</td>\n",
       "    </tr>\n",
       "    <tr>\n",
       "      <th>4</th>\n",
       "      <td>0.0</td>\n",
       "      <td>0.460182</td>\n",
       "    </tr>\n",
       "  </tbody>\n",
       "</table>\n",
       "</div>"
      ],
      "text/plain": [
       "   Actual  Predicted\n",
       "0     0.0   0.275817\n",
       "1     0.0   0.523006\n",
       "2     0.0   0.457845\n",
       "3     0.0  -0.136467\n",
       "4     0.0   0.460182"
      ]
     },
     "execution_count": 52,
     "metadata": {},
     "output_type": "execute_result"
    }
   ],
   "source": [
    "pred_lnR = pd.DataFrame({'Actual': y_test, 'Predicted': yp_lnR})\n",
    "pred_lnR.head()"
   ]
  },
  {
   "cell_type": "code",
   "execution_count": 53,
   "id": "0549aff7",
   "metadata": {},
   "outputs": [
    {
     "name": "stdout",
     "output_type": "stream",
     "text": [
      "Mean Squared Error (Ridge): 0.1019953689032047\n",
      "Root Mean Squared Error: 0.31936713810785966\n",
      "R-squared (Ridge): 0.5920185243871812\n",
      "Adjusted R-squared: 0.7214301224545586\n"
     ]
    }
   ],
   "source": [
    "degree = 2\n",
    "\n",
    "poly = PolynomialFeatures(degree=degree, include_bias=False)\n",
    "X_train_poly = poly.fit_transform(X_train_pca)\n",
    "X_test_poly = poly.transform(X_test_pca)\n",
    "\n",
    "ridge_reg2 = Ridge(alpha = 10.0) \n",
    "ridge_reg2.fit(X_train_poly, y_train)\n",
    "\n",
    "yp_rp2 = ridge_reg2.predict(X_test_poly)\n",
    "\n",
    "mse_ridge = mean_squared_error(y_test, yp_rp2)\n",
    "mse_ridge_r = mean_squared_error(y_test, yp_rp2, squared = False)\n",
    "r2_ridge = r2_score(y_test, yp_rp2)\n",
    "\n",
    "n = len(y_test)\n",
    "k = X_train_pca.shape[1]  \n",
    "adj_r2 = 1 - ((1 - r2) * (n - 1) / (n - k - 1))\n",
    "\n",
    "print(f'Mean Squared Error (Ridge): {mse_ridge}')\n",
    "print(f'Root Mean Squared Error: {mse_ridge_r}')\n",
    "print(f'R-squared (Ridge): {r2_ridge}')\n",
    "print(f'Adjusted R-squared: {adj_r2}')"
   ]
  },
  {
   "cell_type": "code",
   "execution_count": 54,
   "id": "68ac4dc6",
   "metadata": {},
   "outputs": [
    {
     "data": {
      "text/plain": [
       "0.03240044930125818"
      ]
     },
     "execution_count": 54,
     "metadata": {},
     "output_type": "execute_result"
    }
   ],
   "source": [
    "score_rp2 = cross_val_score(ridge_reg2, X_test_pca, y_test, cv = 5, scoring = 'r2').mean()\n",
    "score_rp2"
   ]
  },
  {
   "cell_type": "code",
   "execution_count": 55,
   "id": "54d01d29",
   "metadata": {},
   "outputs": [
    {
     "name": "stdout",
     "output_type": "stream",
     "text": [
      "Training MSE: 0.10575450276466063\n",
      "Validation MSE: 0.1019953689032047\n",
      "Mean Huber Loss: 0.03368369859702459\n"
     ]
    }
   ],
   "source": [
    "train_pred = ridge_reg2.predict(X_train_poly)\n",
    "test_pred = ridge_reg2.predict(X_test_poly)\n",
    "\n",
    "from sklearn.metrics import mean_squared_error, r2_score\n",
    "\n",
    "train_mse = mean_squared_error(y_train, train_pred)\n",
    "test_mse = mean_squared_error(y_test, test_pred)\n",
    "\n",
    "print(f'Training MSE: {train_mse}')\n",
    "print(f'Validation MSE: {test_mse}')\n",
    "\n",
    "import tensorflow as tf\n",
    "def huber_loss(y_test, yp_rp2, delta = 1.0):\n",
    "    error = y_test - yp_rp2\n",
    "    condition = tf.abs(error) < delta\n",
    "    squared_loss = 0.5 * tf.square(error)\n",
    "    linear_loss = delta * (tf.abs(error) - 0.5 * delta)\n",
    "    return tf.where(condition, squared_loss, linear_loss)\n",
    "\n",
    "\n",
    "mean_huber_loss = np.mean(loss)\n",
    "print(f\"Mean Huber Loss: {mean_huber_loss}\")"
   ]
  },
  {
   "cell_type": "code",
   "execution_count": null,
   "id": "bdfc944e",
   "metadata": {},
   "outputs": [],
   "source": []
  },
  {
   "cell_type": "markdown",
   "id": "4d6e30c9",
   "metadata": {},
   "source": [
    "## Lasso"
   ]
  },
  {
   "cell_type": "code",
   "execution_count": 56,
   "id": "cb5bf252",
   "metadata": {},
   "outputs": [
    {
     "name": "stdout",
     "output_type": "stream",
     "text": [
      "Mean Squared Error (Lasso): 0.25\n",
      "R-squared (Lasso): 0.0\n"
     ]
    }
   ],
   "source": [
    "from sklearn.linear_model import Lasso\n",
    "\n",
    "lasso_reg = Lasso(alpha=1.0) \n",
    "lasso_reg.fit(X_train_pca, y_train)\n",
    "\n",
    "yp_lnL = lasso_reg.predict(X_test_pca)\n",
    "\n",
    "mse = mean_squared_error(y_test, yp_lnL)\n",
    "r2 = r2_score(y_test, yp_lnL)\n",
    "\n",
    "print(f'Mean Squared Error (Lasso): {mse}')\n",
    "print(f'R-squared (Lasso): {r2}')"
   ]
  },
  {
   "cell_type": "code",
   "execution_count": 57,
   "id": "5432b782",
   "metadata": {},
   "outputs": [
    {
     "name": "stdout",
     "output_type": "stream",
     "text": [
      "Mean Squared Error (Lasso): 0.25\n",
      "R-squared (Lasso): 0.0\n"
     ]
    }
   ],
   "source": [
    "degree = 2\n",
    "\n",
    "poly = PolynomialFeatures(degree=degree, include_bias=False)\n",
    "X_train_poly = poly.fit_transform(X_train_pca)\n",
    "X_test_poly = poly.transform(X_test_pca)\n",
    " \n",
    "lasso_reg = Lasso(alpha = 10.0, max_iter = 100000)\n",
    "lasso_reg.fit(X_train_poly, y_train)\n",
    "\n",
    "yp_lp2 = lasso_reg.predict(X_test_poly)\n",
    "\n",
    "mse_lasso = mean_squared_error(y_test, yp_lp2)\n",
    "r2_lasso = r2_score(y_test, yp_lp2)\n",
    "\n",
    "print(f'Mean Squared Error (Lasso): {mse_lasso}')\n",
    "print(f'R-squared (Lasso): {r2_lasso}')"
   ]
  },
  {
   "cell_type": "code",
   "execution_count": null,
   "id": "a0de985a",
   "metadata": {},
   "outputs": [],
   "source": []
  },
  {
   "cell_type": "markdown",
   "id": "03917d53",
   "metadata": {},
   "source": [
    "# Random Forest"
   ]
  },
  {
   "cell_type": "code",
   "execution_count": 58,
   "id": "9516409a",
   "metadata": {},
   "outputs": [],
   "source": [
    "from sklearn.ensemble import RandomForestRegressor"
   ]
  },
  {
   "cell_type": "code",
   "execution_count": 59,
   "id": "83a52991",
   "metadata": {
    "scrolled": true
   },
   "outputs": [
    {
     "name": "stdout",
     "output_type": "stream",
     "text": [
      "Best Hyperparameters: {'max_depth': None, 'min_samples_leaf': 4, 'n_estimators': 100}\n",
      "Mean Squared Error: 0.01327637985630603\n",
      "Root Mean Squared Error: 0.11522317412875775\n",
      "R-squared (Best Model): 0.9468944805747759\n",
      "Adjusted R-squared: -0.015151515151515138\n"
     ]
    }
   ],
   "source": [
    "from sklearn.model_selection import GridSearchCV\n",
    "\n",
    "param_grid = {\n",
    "    'n_estimators': [50, 100, 200],\n",
    "    'max_depth': [None, 10, 20],\n",
    "    'min_samples_leaf': [1, 2, 4]\n",
    "}\n",
    "\n",
    "grid_search = GridSearchCV(RandomForestRegressor(random_state = 12), param_grid, cv = 5, scoring = 'r2')\n",
    "grid_search.fit(X_train_pca, y_train)\n",
    "\n",
    "best_params = grid_search.best_params_\n",
    "best_model = grid_search.best_estimator_\n",
    "\n",
    "y_pred_best = best_model.predict(X_test_pca)\n",
    "mse = mean_squared_error(y_test, y_pred_best)\n",
    "mse_r = mean_squared_error(y_test, y_pred_best, squared = False)\n",
    "r2_best = r2_score(y_test, y_pred_best)\n",
    "\n",
    "n = len(y_test)\n",
    "k = X_train_pca.shape[1]  \n",
    "adj_r2 = 1 - ((1 - r2) * (n - 1) / (n - k - 1))\n",
    "\n",
    "print(f'Best Hyperparameters: {best_params}')\n",
    "print(f'Mean Squared Error: {mse}')\n",
    "print(f'Root Mean Squared Error: {mse_r}')\n",
    "print(f'R-squared (Best Model): {r2_best}')\n",
    "print(f'Adjusted R-squared: {adj_r2}')"
   ]
  },
  {
   "cell_type": "code",
   "execution_count": 60,
   "id": "fa7e981b",
   "metadata": {},
   "outputs": [
    {
     "data": {
      "text/plain": [
       "0.17498947368421053"
      ]
     },
     "execution_count": 60,
     "metadata": {},
     "output_type": "execute_result"
    }
   ],
   "source": [
    "score_rf = cross_val_score(RandomForestRegressor(max_depth = None,\n",
    "                                              min_samples_leaf = 1, \n",
    "                                              n_estimators = 50,\n",
    "                                              random_state = 12), X_test_pca, y_test, \n",
    "                           cv = 10, scoring = 'r2').mean()\n",
    "score_rf"
   ]
  },
  {
   "cell_type": "code",
   "execution_count": 61,
   "id": "f920f66a",
   "metadata": {},
   "outputs": [
    {
     "data": {
      "text/html": [
       "<div>\n",
       "<style scoped>\n",
       "    .dataframe tbody tr th:only-of-type {\n",
       "        vertical-align: middle;\n",
       "    }\n",
       "\n",
       "    .dataframe tbody tr th {\n",
       "        vertical-align: top;\n",
       "    }\n",
       "\n",
       "    .dataframe thead th {\n",
       "        text-align: right;\n",
       "    }\n",
       "</style>\n",
       "<table border=\"1\" class=\"dataframe\">\n",
       "  <thead>\n",
       "    <tr style=\"text-align: right;\">\n",
       "      <th></th>\n",
       "      <th>Actual</th>\n",
       "      <th>Predicted</th>\n",
       "    </tr>\n",
       "  </thead>\n",
       "  <tbody>\n",
       "    <tr>\n",
       "      <th>0</th>\n",
       "      <td>0.0</td>\n",
       "      <td>0.000000</td>\n",
       "    </tr>\n",
       "    <tr>\n",
       "      <th>1</th>\n",
       "      <td>0.0</td>\n",
       "      <td>0.009278</td>\n",
       "    </tr>\n",
       "    <tr>\n",
       "      <th>2</th>\n",
       "      <td>0.0</td>\n",
       "      <td>0.069254</td>\n",
       "    </tr>\n",
       "  </tbody>\n",
       "</table>\n",
       "</div>"
      ],
      "text/plain": [
       "   Actual  Predicted\n",
       "0     0.0   0.000000\n",
       "1     0.0   0.009278\n",
       "2     0.0   0.069254"
      ]
     },
     "execution_count": 61,
     "metadata": {},
     "output_type": "execute_result"
    }
   ],
   "source": [
    "pred_rf = pd.DataFrame({'Actual': y_test, 'Predicted': y_pred_best})\n",
    "pred_rf.head(3)"
   ]
  },
  {
   "cell_type": "code",
   "execution_count": 62,
   "id": "33c87b18",
   "metadata": {},
   "outputs": [
    {
     "name": "stdout",
     "output_type": "stream",
     "text": [
      "Training MSE: 0.0054799016819319524\n",
      "Validation MSE: 0.01327637985630603\n",
      "Mean Huber Loss: 0.006638189928153015\n"
     ]
    }
   ],
   "source": [
    "train_pred = best_model.predict(X_train_pca)\n",
    "test_pred = best_model.predict(X_test_pca)\n",
    "\n",
    "from sklearn.metrics import mean_squared_error, r2_score\n",
    "\n",
    "train_mse = mean_squared_error(y_train, train_pred)\n",
    "test_mse = mean_squared_error(y_test, test_pred)\n",
    "\n",
    "print(f'Training MSE: {train_mse}')\n",
    "print(f'Validation MSE: {test_mse}')\n",
    "\n",
    "import tensorflow as tfx\n",
    "def huber_loss(y_test, y_pred_best, delta = 1.0):\n",
    "    error = y_test - y_pred_best\n",
    "    condition = tf.abs(error) < delta\n",
    "    squared_loss = 0.5 * tf.square(error)\n",
    "    linear_loss = delta * (tf.abs(error) - 0.5 * delta)\n",
    "    return tf.where(condition, squared_loss, linear_loss)\n",
    "\n",
    "loss = huber_loss(y_test, y_pred_best, delta = 1.0)\n",
    "\n",
    "\n",
    "mean_huber_loss = np.mean(loss)\n",
    "print(f\"Mean Huber Loss: {mean_huber_loss}\")"
   ]
  },
  {
   "cell_type": "code",
   "execution_count": null,
   "id": "abaa72e3",
   "metadata": {},
   "outputs": [],
   "source": []
  },
  {
   "cell_type": "markdown",
   "id": "e320412b",
   "metadata": {},
   "source": [
    "# ANN"
   ]
  },
  {
   "cell_type": "code",
   "execution_count": 63,
   "id": "bc6ea769",
   "metadata": {},
   "outputs": [],
   "source": [
    "#!pip install tensorflow\n",
    "# !pip install keras\n"
   ]
  },
  {
   "cell_type": "code",
   "execution_count": 64,
   "id": "ae8e4280",
   "metadata": {},
   "outputs": [
    {
     "name": "stdout",
     "output_type": "stream",
     "text": [
      "Requirement already satisfied: pip in /Users/izaiaszacca/anaconda3/lib/python3.11/site-packages (23.3.2)\n",
      "Note: you may need to restart the kernel to use updated packages.\n"
     ]
    }
   ],
   "source": [
    "pip install --upgrade pip"
   ]
  },
  {
   "cell_type": "code",
   "execution_count": 65,
   "id": "7b9b872c",
   "metadata": {},
   "outputs": [
    {
     "name": "stdout",
     "output_type": "stream",
     "text": [
      "Epoch 1/300\n",
      "7/7 [==============================] - 0s 10ms/step - loss: 0.3512 - val_loss: 0.8560\n",
      "Epoch 2/300\n",
      "7/7 [==============================] - 0s 2ms/step - loss: 0.3073 - val_loss: 0.7320\n",
      "Epoch 3/300\n",
      "7/7 [==============================] - 0s 2ms/step - loss: 0.2745 - val_loss: 0.6125\n",
      "Epoch 4/300\n",
      "7/7 [==============================] - 0s 2ms/step - loss: 0.2524 - val_loss: 0.5020\n",
      "Epoch 5/300\n",
      "7/7 [==============================] - 0s 3ms/step - loss: 0.2395 - val_loss: 0.4139\n",
      "Epoch 6/300\n",
      "7/7 [==============================] - 0s 2ms/step - loss: 0.2305 - val_loss: 0.3716\n",
      "Epoch 7/300\n",
      "7/7 [==============================] - 0s 2ms/step - loss: 0.2191 - val_loss: 0.3543\n",
      "Epoch 8/300\n",
      "7/7 [==============================] - 0s 3ms/step - loss: 0.2066 - val_loss: 0.3224\n",
      "Epoch 9/300\n",
      "7/7 [==============================] - 0s 2ms/step - loss: 0.1926 - val_loss: 0.2964\n",
      "Epoch 10/300\n",
      "7/7 [==============================] - 0s 2ms/step - loss: 0.1781 - val_loss: 0.2451\n",
      "Epoch 11/300\n",
      "7/7 [==============================] - 0s 2ms/step - loss: 0.1614 - val_loss: 0.1948\n",
      "Epoch 12/300\n",
      "7/7 [==============================] - 0s 2ms/step - loss: 0.1422 - val_loss: 0.1545\n",
      "Epoch 13/300\n",
      "7/7 [==============================] - 0s 2ms/step - loss: 0.1248 - val_loss: 0.1006\n",
      "Epoch 14/300\n",
      "7/7 [==============================] - 0s 2ms/step - loss: 0.1067 - val_loss: 0.0669\n",
      "Epoch 15/300\n",
      "7/7 [==============================] - 0s 2ms/step - loss: 0.0932 - val_loss: 0.0304\n",
      "Epoch 16/300\n",
      "7/7 [==============================] - 0s 2ms/step - loss: 0.0826 - val_loss: 0.0124\n",
      "Epoch 17/300\n",
      "7/7 [==============================] - 0s 2ms/step - loss: 0.0748 - val_loss: 0.0044\n",
      "Epoch 18/300\n",
      "7/7 [==============================] - 0s 2ms/step - loss: 0.0711 - val_loss: 0.0059\n",
      "Epoch 19/300\n",
      "7/7 [==============================] - 0s 2ms/step - loss: 0.0668 - val_loss: 0.0089\n",
      "Epoch 20/300\n",
      "7/7 [==============================] - 0s 2ms/step - loss: 0.0650 - val_loss: 0.0123\n",
      "Epoch 21/300\n",
      "7/7 [==============================] - 0s 2ms/step - loss: 0.0643 - val_loss: 0.0183\n",
      "Epoch 22/300\n",
      "7/7 [==============================] - 0s 2ms/step - loss: 0.0647 - val_loss: 0.0142\n",
      "Epoch 23/300\n",
      "7/7 [==============================] - 0s 2ms/step - loss: 0.0619 - val_loss: 0.0250\n",
      "Epoch 24/300\n",
      "7/7 [==============================] - 0s 2ms/step - loss: 0.0584 - val_loss: 0.0195\n",
      "Epoch 25/300\n",
      "7/7 [==============================] - 0s 2ms/step - loss: 0.0557 - val_loss: 0.0262\n",
      "Epoch 26/300\n",
      "7/7 [==============================] - 0s 2ms/step - loss: 0.0531 - val_loss: 0.0240\n",
      "Epoch 27/300\n",
      "7/7 [==============================] - 0s 3ms/step - loss: 0.0521 - val_loss: 0.0282\n",
      "7/7 [==============================] - 0s 474us/step\n"
     ]
    }
   ],
   "source": [
    "from keras.models import Sequential\n",
    "from keras.layers import Dense\n",
    "\n",
    "model = Sequential()\n",
    "\n",
    "model.add(Dense(units=64, activation='relu', input_dim=X_train_pca.shape[1]))\n",
    "\n",
    "model.add(Dense(units=32, activation='relu'))\n",
    "\n",
    "model.add(Dense(units=16, activation='relu'))\n",
    "\n",
    "model.add(Dense(units=8, activation='relu'))\n",
    "\n",
    "model.add(Dense(units=1, activation='linear'))\n",
    "\n",
    "model.compile(optimizer='adam', loss='mean_squared_error')\n",
    "\n",
    "#from keras.layers import Dropout\n",
    "#model.add(Dropout(0.5)) \n",
    "\n",
    "#from keras.regularizers import l1, l2\n",
    "#model.add(Dense(units=64, activation='relu', input_dim=X_train.shape[1], kernel_regularizer=l2(0.01)))\n",
    "\n",
    "from keras.callbacks import EarlyStopping\n",
    "early_stopping = EarlyStopping(monitor='val_loss', patience = 10, restore_best_weights=True)\n",
    "model.fit(X_train_pca, y_train, epochs = 300, batch_size = 64, validation_split=0.2, callbacks=[early_stopping])\n",
    "\n",
    "y_pred = model.predict(X_test_pca)\n",
    "\n",
    "mse = mean_squared_error(y_test, y_pred)\n",
    "mse_r = mean_squared_error(y_test, y_pred, squared = False)\n",
    "r2 = r2_score(y_test, y_pred)\n",
    "\n",
    "n = len(y_test)\n",
    "k = X_train_pca.shape[1]  \n",
    "adj_r2 = 1 - ((1 - r2) * (n - 1) / (n - k - 1))\n",
    "\n"
   ]
  },
  {
   "cell_type": "code",
   "execution_count": 66,
   "id": "1972b499",
   "metadata": {
    "scrolled": true
   },
   "outputs": [
    {
     "name": "stdout",
     "output_type": "stream",
     "text": [
      "Mean Squared Error: 0.053883992802052395\n",
      "Root Mean Squared Error: 0.23212925882372604\n",
      "R-squared: 0.7844640287917904\n",
      "Adjusted R-squared: 0.7811983322583327\n"
     ]
    }
   ],
   "source": [
    "print(f'Mean Squared Error: {mse}')\n",
    "print(f'Root Mean Squared Error: {mse_r}')\n",
    "print(f'R-squared: {r2}')\n",
    "print(f'Adjusted R-squared: {adj_r2}')"
   ]
  },
  {
   "cell_type": "code",
   "execution_count": 67,
   "id": "99df9ebe",
   "metadata": {},
   "outputs": [
    {
     "name": "stdout",
     "output_type": "stream",
     "text": [
      "17/17 [==============================] - 0s 336us/step\n",
      "7/7 [==============================] - 0s 467us/step\n",
      "Training MSE: 0.05806716877375161\n",
      "Validation MSE: 0.053883992802052395\n",
      "Mean Huber Loss: 0.21376258770687862\n"
     ]
    }
   ],
   "source": [
    "train_pred = model.predict(X_train_pca)\n",
    "test_pred = model.predict(X_test_pca)\n",
    "\n",
    "from sklearn.metrics import mean_squared_error, r2_score\n",
    "\n",
    "train_mse = mean_squared_error(y_train, train_pred)\n",
    "test_mse = mean_squared_error(y_test, test_pred)\n",
    "\n",
    "print(f'Training MSE: {train_mse}')\n",
    "print(f'Validation MSE: {test_mse}')\n",
    "\n",
    "import tensorflow as tf\n",
    "def huber_loss(y_test, y_pred, delta = 1.0):\n",
    "    error = y_test - y_pred\n",
    "    condition = tf.abs(error) < delta\n",
    "    squared_loss = 0.5 * tf.square(error)\n",
    "    linear_loss = delta * (tf.abs(error) - 0.5 * delta)\n",
    "    return tf.where(condition, squared_loss, linear_loss)\n",
    "\n",
    "loss = huber_loss(y_test, y_pred, delta = 1.0)\n",
    "\n",
    "\n",
    "mean_huber_loss = np.mean(loss)\n",
    "print(f\"Mean Huber Loss: {mean_huber_loss}\")"
   ]
  },
  {
   "cell_type": "code",
   "execution_count": null,
   "id": "b34f3083",
   "metadata": {},
   "outputs": [],
   "source": []
  },
  {
   "cell_type": "markdown",
   "id": "7145f42f",
   "metadata": {},
   "source": [
    "# SVM"
   ]
  },
  {
   "cell_type": "code",
   "execution_count": 68,
   "id": "fd49d9a2",
   "metadata": {},
   "outputs": [],
   "source": [
    "from sklearn import svm"
   ]
  },
  {
   "cell_type": "code",
   "execution_count": 69,
   "id": "f9756a16",
   "metadata": {},
   "outputs": [
    {
     "name": "stdout",
     "output_type": "stream",
     "text": [
      "Mean Squared Error: 0.25\n",
      "Root Mean Squared Error: 0.5\n",
      "R-squared: 0.0\n",
      "Adjusted R-squared: -0.015151515151515138\n"
     ]
    }
   ],
   "source": [
    "regressor = svm.SVR(kernel = 'linear', C = 5.0, epsilon = 2.5)\n",
    "\n",
    "regressor.fit(X_train_pca, y_train)\n",
    "\n",
    "yp_svm = regressor.predict(X_test_pca)\n",
    "\n",
    "mse = mean_squared_error(y_test, yp_svm)\n",
    "mse_r = mean_squared_error(y_test, yp_svm, squared = False)\n",
    "r2 = r2_score(y_test, yp_svm)\n",
    "\n",
    "n = len(y_test)\n",
    "k = X_train_pca.shape[1]  \n",
    "adj_r2 = 1 - ((1 - r2) * (n - 1) / (n - k - 1))\n",
    "\n",
    "print(f'Mean Squared Error: {mse}')\n",
    "print(f'Root Mean Squared Error: {mse_r}')\n",
    "print(f'R-squared: {r2}')\n",
    "print(f'Adjusted R-squared: {adj_r2}')"
   ]
  },
  {
   "cell_type": "code",
   "execution_count": 70,
   "id": "67f0707b",
   "metadata": {},
   "outputs": [
    {
     "data": {
      "text/plain": [
       "-0.42631578947368426"
      ]
     },
     "execution_count": 70,
     "metadata": {},
     "output_type": "execute_result"
    }
   ],
   "source": [
    "score_svm = cross_val_score(svm.SVR(kernel = 'linear', C = 5.0, epsilon = 2.5), \n",
    "                            X_test_pca, y_test, cv = 10, scoring = 'r2').mean()\n",
    "score_svm"
   ]
  },
  {
   "cell_type": "code",
   "execution_count": 71,
   "id": "9d584886",
   "metadata": {},
   "outputs": [
    {
     "data": {
      "text/html": [
       "<div>\n",
       "<style scoped>\n",
       "    .dataframe tbody tr th:only-of-type {\n",
       "        vertical-align: middle;\n",
       "    }\n",
       "\n",
       "    .dataframe tbody tr th {\n",
       "        vertical-align: top;\n",
       "    }\n",
       "\n",
       "    .dataframe thead th {\n",
       "        text-align: right;\n",
       "    }\n",
       "</style>\n",
       "<table border=\"1\" class=\"dataframe\">\n",
       "  <thead>\n",
       "    <tr style=\"text-align: right;\">\n",
       "      <th></th>\n",
       "      <th>Actual</th>\n",
       "      <th>Predicted</th>\n",
       "    </tr>\n",
       "  </thead>\n",
       "  <tbody>\n",
       "    <tr>\n",
       "      <th>0</th>\n",
       "      <td>0.0</td>\n",
       "      <td>0.5</td>\n",
       "    </tr>\n",
       "    <tr>\n",
       "      <th>1</th>\n",
       "      <td>0.0</td>\n",
       "      <td>0.5</td>\n",
       "    </tr>\n",
       "    <tr>\n",
       "      <th>2</th>\n",
       "      <td>0.0</td>\n",
       "      <td>0.5</td>\n",
       "    </tr>\n",
       "    <tr>\n",
       "      <th>3</th>\n",
       "      <td>0.0</td>\n",
       "      <td>0.5</td>\n",
       "    </tr>\n",
       "    <tr>\n",
       "      <th>4</th>\n",
       "      <td>0.0</td>\n",
       "      <td>0.5</td>\n",
       "    </tr>\n",
       "  </tbody>\n",
       "</table>\n",
       "</div>"
      ],
      "text/plain": [
       "   Actual  Predicted\n",
       "0     0.0        0.5\n",
       "1     0.0        0.5\n",
       "2     0.0        0.5\n",
       "3     0.0        0.5\n",
       "4     0.0        0.5"
      ]
     },
     "execution_count": 71,
     "metadata": {},
     "output_type": "execute_result"
    }
   ],
   "source": [
    "pred_svm = pd.DataFrame({'Actual': y_test, 'Predicted': yp_svm})\n",
    "pred_svm.head()"
   ]
  },
  {
   "cell_type": "code",
   "execution_count": null,
   "id": "14d00d77",
   "metadata": {},
   "outputs": [],
   "source": []
  },
  {
   "cell_type": "code",
   "execution_count": 72,
   "id": "903e1a37",
   "metadata": {},
   "outputs": [
    {
     "name": "stdout",
     "output_type": "stream",
     "text": [
      "Mean Squared Error: 0.25\n",
      "Root Mean Squared Error: 0.5\n",
      "R-squared: 0.0\n",
      "Adjusted R-squared: -0.015151515151515138\n"
     ]
    }
   ],
   "source": [
    "regressor = svm.SVR(kernel = 'poly', C = 50.0, epsilon = 3.5, degree = 2)\n",
    "\n",
    "regressor.fit(X_train_pca, y_train)\n",
    "\n",
    "yp_svm_p2 = regressor.predict(X_test_pca)\n",
    "\n",
    "mse = mean_squared_error(y_test, yp_svm_p2)\n",
    "mse_r = mean_squared_error(y_test, yp_svm_p2, squared = False)\n",
    "r2 = r2_score(y_test, yp_svm_p2)\n",
    "\n",
    "n = len(y_test)\n",
    "k = X_train_pca.shape[1]  \n",
    "adj_r2 = 1 - ((1 - r2) * (n - 1) / (n - k - 1))\n",
    "\n",
    "print(f'Mean Squared Error: {mse}')\n",
    "print(f'Root Mean Squared Error: {mse_r}')\n",
    "print(f'R-squared: {r2}')\n",
    "print(f'Adjusted R-squared: {adj_r2}')"
   ]
  },
  {
   "cell_type": "code",
   "execution_count": 73,
   "id": "026e82ce",
   "metadata": {},
   "outputs": [
    {
     "data": {
      "text/plain": [
       "-0.42631578947368426"
      ]
     },
     "execution_count": 73,
     "metadata": {},
     "output_type": "execute_result"
    }
   ],
   "source": [
    "score_svr = cross_val_score(svm.SVR(kernel = 'poly', C = 50.0, epsilon = 3.5, degree = 2), \n",
    "                            X_test_pca, y_test, cv = 10, scoring = 'r2').mean()\n",
    "score_svr"
   ]
  },
  {
   "cell_type": "code",
   "execution_count": 74,
   "id": "108b6212",
   "metadata": {},
   "outputs": [
    {
     "name": "stdout",
     "output_type": "stream",
     "text": [
      "Training MSE: 0.25\n",
      "Validation MSE: 0.25\n",
      "Mean Huber Loss: 0.125\n"
     ]
    }
   ],
   "source": [
    "train_pred = regressor.predict(X_train_pca)\n",
    "test_pred = regressor.predict(X_test_pca)\n",
    "\n",
    "from sklearn.metrics import mean_squared_error, r2_score\n",
    "\n",
    "train_mse = mean_squared_error(y_train, train_pred)\n",
    "test_mse = mean_squared_error(y_test, test_pred)\n",
    "\n",
    "print(f'Training MSE: {train_mse}')\n",
    "print(f'Validation MSE: {test_mse}')\n",
    "\n",
    "import tensorflow as tf\n",
    "def huber_loss(y_test, yp_svm_p2, delta = 1.0):\n",
    "    error = y_test - yp_svm_p2\n",
    "    condition = tf.abs(error) < delta\n",
    "    squared_loss = 0.5 * tf.square(error)\n",
    "    linear_loss = delta * (tf.abs(error) - 0.5 * delta)\n",
    "    return tf.where(condition, squared_loss, linear_loss)\n",
    "\n",
    "loss = huber_loss(y_test, yp_svm_p2, delta = 1.0)\n",
    "\n",
    "\n",
    "mean_huber_loss = np.mean(loss)\n",
    "print(f\"Mean Huber Loss: {mean_huber_loss}\")"
   ]
  },
  {
   "cell_type": "code",
   "execution_count": 75,
   "id": "3b1255a6",
   "metadata": {},
   "outputs": [],
   "source": [
    "from sklearn.model_selection import RandomizedSearchCV\n",
    "\n",
    "param_dist = {'kernel': ['linear', 'poly', 'rbf', 'sigmoid'],\n",
    "              'C': [0.1, 1, 10, 100],\n",
    "              'epsilon': [0.1, 0.5, 1, 2],\n",
    "              'degree': [2, 3, 4]}\n",
    "\n",
    "random_search = RandomizedSearchCV(svm.SVR(), param_dist, cv=5)\n",
    "random_search.fit(X_train_pca, y_train)\n",
    "\n",
    "best_params = random_search.best_params_\n",
    "best_regressor = random_search.best_estimator_\n",
    "\n",
    "yp_best = best_regressor.predict(X_test_pca)\n"
   ]
  },
  {
   "cell_type": "code",
   "execution_count": 76,
   "id": "003c86d2",
   "metadata": {},
   "outputs": [
    {
     "data": {
      "text/plain": [
       "{'kernel': 'poly', 'epsilon': 0.1, 'degree': 4, 'C': 0.1}"
      ]
     },
     "execution_count": 76,
     "metadata": {},
     "output_type": "execute_result"
    }
   ],
   "source": [
    "best_params"
   ]
  },
  {
   "cell_type": "code",
   "execution_count": 77,
   "id": "d38524a5",
   "metadata": {},
   "outputs": [
    {
     "name": "stdout",
     "output_type": "stream",
     "text": [
      "Mean Squared Error: 0.25\n",
      "Root Mean Squared Error: 0.5\n",
      "R-squared: 0.0\n",
      "Adjusted R-squared: -0.015151515151515138\n"
     ]
    }
   ],
   "source": [
    "regressor = svm.SVR(kernel = 'linear', C = 1, epsilon = 2.0, degree = 3)\n",
    "\n",
    "regressor.fit(X_train_pca, y_train)\n",
    "\n",
    "yp_svm_p2 = regressor.predict(X_test_pca)\n",
    "\n",
    "mse = mean_squared_error(y_test, yp_svm_p2)\n",
    "mse_r = mean_squared_error(y_test, yp_svm_p2, squared = False)\n",
    "r2 = r2_score(y_test, yp_svm_p2)\n",
    "\n",
    "n = len(y_test)\n",
    "k = X_train_pca.shape[1]  \n",
    "adj_r2 = 1 - ((1 - r2) * (n - 1) / (n - k - 1))\n",
    "\n",
    "print(f'Mean Squared Error: {mse}')\n",
    "print(f'Root Mean Squared Error: {mse_r}')\n",
    "print(f'R-squared: {r2}')\n",
    "print(f'Adjusted R-squared: {adj_r2}')"
   ]
  },
  {
   "cell_type": "code",
   "execution_count": 78,
   "id": "3d2bfe95",
   "metadata": {},
   "outputs": [
    {
     "data": {
      "text/plain": [
       "-0.42631578947368426"
      ]
     },
     "execution_count": 78,
     "metadata": {},
     "output_type": "execute_result"
    }
   ],
   "source": [
    "score_svr = cross_val_score(svm.SVR(kernel = 'poly', C = 100, epsilon = 2.0, degree = 4), \n",
    "                            X_test_pca, y_test, cv = 10, scoring = 'r2').mean()\n",
    "score_svr"
   ]
  },
  {
   "cell_type": "code",
   "execution_count": 79,
   "id": "a4a8ae47",
   "metadata": {},
   "outputs": [
    {
     "name": "stdout",
     "output_type": "stream",
     "text": [
      "Training MSE: 0.25\n",
      "Validation MSE: 0.25\n",
      "Mean Huber Loss: 0.125\n"
     ]
    }
   ],
   "source": [
    "train_pred = regressor.predict(X_train_pca)\n",
    "test_pred = regressor.predict(X_test_pca)\n",
    "\n",
    "from sklearn.metrics import mean_squared_error, r2_score\n",
    "\n",
    "train_mse = mean_squared_error(y_train, train_pred)\n",
    "test_mse = mean_squared_error(y_test, test_pred)\n",
    "\n",
    "print(f'Training MSE: {train_mse}')\n",
    "print(f'Validation MSE: {test_mse}')\n",
    "\n",
    "import tensorflow as tf\n",
    "def huber_loss(y_test, yp_svm_p2, delta = 1.0):\n",
    "    error = y_test - yp_svm_p2\n",
    "    condition = tf.abs(error) < delta\n",
    "    squared_loss = 0.5 * tf.square(error)\n",
    "    linear_loss = delta * (tf.abs(error) - 0.5 * delta)\n",
    "    return tf.where(condition, squared_loss, linear_loss)\n",
    "\n",
    "loss = huber_loss(y_test, yp_svm_p2, delta = 1.0)\n",
    "\n",
    "\n",
    "mean_huber_loss = np.mean(loss)\n",
    "print(f\"Mean Huber Loss: {mean_huber_loss}\")"
   ]
  },
  {
   "cell_type": "code",
   "execution_count": null,
   "id": "fd9deb48",
   "metadata": {},
   "outputs": [],
   "source": []
  },
  {
   "cell_type": "markdown",
   "id": "a321283b",
   "metadata": {},
   "source": [
    "# KNN"
   ]
  },
  {
   "cell_type": "code",
   "execution_count": 80,
   "id": "5a9a43ce",
   "metadata": {},
   "outputs": [],
   "source": [
    "from sklearn.neighbors import KNeighborsRegressor"
   ]
  },
  {
   "cell_type": "code",
   "execution_count": 81,
   "id": "247c4d69",
   "metadata": {},
   "outputs": [
    {
     "data": {
      "text/plain": [
       "11"
      ]
     },
     "execution_count": 81,
     "metadata": {},
     "output_type": "execute_result"
    }
   ],
   "source": [
    "from sklearn.model_selection import GridSearchCV\n",
    "\n",
    "param_grid = {'n_neighbors': [1, 2, 3, 4, 5, 6, 7, 8, 9, 10, 11, 12, 13, 14, 15]}\n",
    "grid_search = GridSearchCV(KNeighborsRegressor(), param_grid, cv = 5, scoring = 'neg_mean_squared_error')\n",
    "grid_search.fit(X_train_pca, y_train)\n",
    "\n",
    "best_k = grid_search.best_params_['n_neighbors']\n",
    "#knn_regressor = KNeighborsRegressor(n_neighbors=best_k)\n",
    "#knn_regressor.fit(X_train, y_train)\n",
    "\n",
    "best_k"
   ]
  },
  {
   "cell_type": "code",
   "execution_count": 82,
   "id": "7169e46f",
   "metadata": {},
   "outputs": [
    {
     "name": "stdout",
     "output_type": "stream",
     "text": [
      "Mean Squared Error: 0.01595159515951595\n",
      "Root Mean Squared Error: 0.12629962454226043\n",
      "R-squared: 0.9361936193619362\n",
      "Adjusted R-squared: 0.9352268560189353\n"
     ]
    }
   ],
   "source": [
    "knn_regressor = KNeighborsRegressor(n_neighbors = 3, metric = 'manhattan') \n",
    "\n",
    "knn_regressor.fit(X_train_pca, y_train)\n",
    "\n",
    "yp_knn = knn_regressor.predict(X_test_pca)\n",
    "\n",
    "mse = mean_squared_error(y_test, yp_knn)\n",
    "mse_r = mean_squared_error(y_test, yp_knn, squared = False)\n",
    "r2 = r2_score(y_test, yp_knn)\n",
    "\n",
    "n = len(y_test)\n",
    "k = X_train_pca.shape[1]  \n",
    "adj_r2 = 1 - ((1 - r2) * (n - 1) / (n - k - 1))\n",
    "\n",
    "print(f'Mean Squared Error: {mse}')\n",
    "print(f'Root Mean Squared Error: {mse_r}')\n",
    "print(f'R-squared: {r2}')\n",
    "print(f'Adjusted R-squared: {adj_r2}')"
   ]
  },
  {
   "cell_type": "code",
   "execution_count": 83,
   "id": "47a1e4b9",
   "metadata": {},
   "outputs": [
    {
     "data": {
      "text/plain": [
       "0.2975215817321081"
      ]
     },
     "execution_count": 83,
     "metadata": {},
     "output_type": "execute_result"
    }
   ],
   "source": [
    "score_knn = cross_val_score(KNeighborsRegressor(n_neighbors = 3, metric='manhattan'), \n",
    "                            X_test_pca, y_test, cv = 5, scoring = 'r2').mean()\n",
    "score_knn"
   ]
  },
  {
   "cell_type": "code",
   "execution_count": 84,
   "id": "c5d44965",
   "metadata": {},
   "outputs": [
    {
     "data": {
      "text/html": [
       "<div>\n",
       "<style scoped>\n",
       "    .dataframe tbody tr th:only-of-type {\n",
       "        vertical-align: middle;\n",
       "    }\n",
       "\n",
       "    .dataframe tbody tr th {\n",
       "        vertical-align: top;\n",
       "    }\n",
       "\n",
       "    .dataframe thead th {\n",
       "        text-align: right;\n",
       "    }\n",
       "</style>\n",
       "<table border=\"1\" class=\"dataframe\">\n",
       "  <thead>\n",
       "    <tr style=\"text-align: right;\">\n",
       "      <th></th>\n",
       "      <th>Actual</th>\n",
       "      <th>Predicted</th>\n",
       "    </tr>\n",
       "  </thead>\n",
       "  <tbody>\n",
       "    <tr>\n",
       "      <th>0</th>\n",
       "      <td>0.0</td>\n",
       "      <td>0.0</td>\n",
       "    </tr>\n",
       "    <tr>\n",
       "      <th>1</th>\n",
       "      <td>0.0</td>\n",
       "      <td>0.0</td>\n",
       "    </tr>\n",
       "    <tr>\n",
       "      <th>2</th>\n",
       "      <td>0.0</td>\n",
       "      <td>0.0</td>\n",
       "    </tr>\n",
       "    <tr>\n",
       "      <th>3</th>\n",
       "      <td>0.0</td>\n",
       "      <td>0.0</td>\n",
       "    </tr>\n",
       "    <tr>\n",
       "      <th>4</th>\n",
       "      <td>0.0</td>\n",
       "      <td>0.0</td>\n",
       "    </tr>\n",
       "  </tbody>\n",
       "</table>\n",
       "</div>"
      ],
      "text/plain": [
       "   Actual  Predicted\n",
       "0     0.0        0.0\n",
       "1     0.0        0.0\n",
       "2     0.0        0.0\n",
       "3     0.0        0.0\n",
       "4     0.0        0.0"
      ]
     },
     "execution_count": 84,
     "metadata": {},
     "output_type": "execute_result"
    }
   ],
   "source": [
    "pred_knn = pd.DataFrame({'Actual': y_test, 'Predicted': yp_knn})\n",
    "pred_knn.head()"
   ]
  },
  {
   "cell_type": "code",
   "execution_count": 85,
   "id": "ba8b03bb",
   "metadata": {},
   "outputs": [
    {
     "name": "stdout",
     "output_type": "stream",
     "text": [
      "Training MSE: 0.012674271229404309\n",
      "Validation MSE: 0.01595159515951595\n",
      "Mean Huber Loss: 0.007975797579757976\n"
     ]
    }
   ],
   "source": [
    "train_pred = knn_regressor.predict(X_train_pca)\n",
    "test_pred = knn_regressor.predict(X_test_pca)\n",
    "\n",
    "from sklearn.metrics import mean_squared_error, r2_score\n",
    "\n",
    "train_mse = mean_squared_error(y_train, train_pred)\n",
    "test_mse = mean_squared_error(y_test, test_pred)\n",
    "\n",
    "print(f'Training MSE: {train_mse}')\n",
    "print(f'Validation MSE: {test_mse}')\n",
    "\n",
    "import tensorflow as tf\n",
    "def huber_loss(y_test, yp_knn, delta = 1.0):\n",
    "    error = y_test - yp_knn\n",
    "    condition = tf.abs(error) < delta\n",
    "    squared_loss = 0.5 * tf.square(error)\n",
    "    linear_loss = delta * (tf.abs(error) - 0.5 * delta)\n",
    "    return tf.where(condition, squared_loss, linear_loss)\n",
    "\n",
    "loss = huber_loss(y_test, yp_knn, delta = 1.0)\n",
    "\n",
    "\n",
    "mean_huber_loss = np.mean(loss)\n",
    "print(f\"Mean Huber Loss: {mean_huber_loss}\")"
   ]
  },
  {
   "cell_type": "markdown",
   "id": "28c39802",
   "metadata": {},
   "source": [
    "## Bagging Regressor KNN"
   ]
  },
  {
   "cell_type": "code",
   "execution_count": 86,
   "id": "3edb389c",
   "metadata": {},
   "outputs": [
    {
     "name": "stdout",
     "output_type": "stream",
     "text": [
      "Mean Squared Error: 0.016032531824611035\n",
      "Root Mean Squared Error: 0.1266196344356239\n",
      "R-squared: 0.9358698727015559\n",
      "Adjusted R-squared: 0.9348982041061249\n"
     ]
    }
   ],
   "source": [
    "from sklearn.ensemble import BaggingRegressor\n",
    "\n",
    "bagging_regressor = BaggingRegressor(KNeighborsRegressor(n_neighbors = 7), n_estimators = 10, random_state=12)\n",
    "bagging_regressor.fit(X_train_pca, y_train)\n",
    "\n",
    "\n",
    "yp_knn_bgg = bagging_regressor.predict(X_test_pca)\n",
    "\n",
    "mse = mean_squared_error(y_test, yp_knn_bgg)\n",
    "mse_r = mean_squared_error(y_test, yp_knn_bgg, squared = False)\n",
    "r2 = r2_score(y_test, yp_knn_bgg)\n",
    "\n",
    "n = len(y_test)\n",
    "k = X_train_pca.shape[1]  \n",
    "adj_r2 = 1 - ((1 - r2) * (n - 1) / (n - k - 1))\n",
    "\n",
    "print(f'Mean Squared Error: {mse}')\n",
    "print(f'Root Mean Squared Error: {mse_r}')\n",
    "print(f'R-squared: {r2}')\n",
    "print(f'Adjusted R-squared: {adj_r2}')"
   ]
  },
  {
   "cell_type": "code",
   "execution_count": 87,
   "id": "e9dde635",
   "metadata": {},
   "outputs": [
    {
     "data": {
      "text/plain": [
       "0.11634187509590299"
      ]
     },
     "execution_count": 87,
     "metadata": {},
     "output_type": "execute_result"
    }
   ],
   "source": [
    "score_knn_bgg = cross_val_score(BaggingRegressor(KNeighborsRegressor(n_neighbors = 7), n_estimators = 10, random_state=12), \n",
    "                            X_test_pca, y_test, cv = 5, scoring = 'r2').mean()\n",
    "score_knn_bgg"
   ]
  },
  {
   "cell_type": "code",
   "execution_count": 88,
   "id": "1ee841d4",
   "metadata": {},
   "outputs": [
    {
     "name": "stdout",
     "output_type": "stream",
     "text": [
      "Training MSE: 0.019110731745169553\n",
      "Validation MSE: 0.016032531824611035\n",
      "Mean Huber Loss: 0.008016265912305517\n"
     ]
    }
   ],
   "source": [
    "train_pred = bagging_regressor.predict(X_train_pca)\n",
    "test_pred = bagging_regressor.predict(X_test_pca)\n",
    "\n",
    "from sklearn.metrics import mean_squared_error, r2_score\n",
    "\n",
    "train_mse = mean_squared_error(y_train, train_pred)\n",
    "test_mse = mean_squared_error(y_test, test_pred)\n",
    "\n",
    "print(f'Training MSE: {train_mse}')\n",
    "print(f'Validation MSE: {test_mse}')\n",
    "\n",
    "import tensorflow as tf\n",
    "def huber_loss(y_test, yp_knn_bgg, delta = 1.0):\n",
    "    error = y_test - yp_knn_bgg\n",
    "    condition = tf.abs(error) < delta\n",
    "    squared_loss = 0.5 * tf.square(error)\n",
    "    linear_loss = delta * (tf.abs(error) - 0.5 * delta)\n",
    "    return tf.where(condition, squared_loss, linear_loss)\n",
    "\n",
    "loss = huber_loss(y_test, yp_knn_bgg, delta = 1.0)\n",
    "\n",
    "\n",
    "mean_huber_loss = np.mean(loss)\n",
    "print(f\"Mean Huber Loss: {mean_huber_loss}\")"
   ]
  },
  {
   "cell_type": "code",
   "execution_count": null,
   "id": "e49b206c",
   "metadata": {},
   "outputs": [],
   "source": []
  },
  {
   "cell_type": "markdown",
   "id": "a1c9a207",
   "metadata": {},
   "source": [
    "# Decision Tree"
   ]
  },
  {
   "cell_type": "code",
   "execution_count": 89,
   "id": "26cb62ae",
   "metadata": {},
   "outputs": [],
   "source": [
    "from sklearn.tree import DecisionTreeRegressor"
   ]
  },
  {
   "cell_type": "code",
   "execution_count": 90,
   "id": "ebab6cf8",
   "metadata": {},
   "outputs": [
    {
     "data": {
      "text/plain": [
       "{'max_depth': 20, 'min_samples_leaf': 2, 'min_samples_split': 2}"
      ]
     },
     "execution_count": 90,
     "metadata": {},
     "output_type": "execute_result"
    }
   ],
   "source": [
    "from sklearn.model_selection import GridSearchCV\n",
    "\n",
    "param_grid = {\n",
    "    'max_depth': [None, 10, 20, 30],\n",
    "    'min_samples_split': [2, 5, 10],\n",
    "    'min_samples_leaf': [1, 2, 4]\n",
    "}\n",
    "\n",
    "grid_search = GridSearchCV(DecisionTreeRegressor(), param_grid, cv = 10, scoring = 'neg_mean_squared_error')\n",
    "grid_search.fit(X_train_pca, y_train)\n",
    "\n",
    "best_params = grid_search.best_params_\n",
    "best_params"
   ]
  },
  {
   "cell_type": "code",
   "execution_count": 91,
   "id": "107669ff",
   "metadata": {},
   "outputs": [
    {
     "name": "stdout",
     "output_type": "stream",
     "text": [
      "Mean Squared Error: 0.009900990099009901\n",
      "Root Mean Squared Error: 0.09950371902099892\n",
      "R-squared: 0.9603960396039604\n",
      "Adjusted R-squared: 0.9597959795979598\n"
     ]
    }
   ],
   "source": [
    "tree_regressor = DecisionTreeRegressor(\n",
    "    max_depth = None,\n",
    "    min_samples_split = 5,\n",
    "    min_samples_leaf = 2,\n",
    "    random_state = 12\n",
    ")\n",
    "\n",
    "tree_regressor.fit(X_train_pca, y_train)\n",
    "\n",
    "yp_dt = tree_regressor.predict(X_test_pca)\n",
    "\n",
    "mse = mean_squared_error(y_test, yp_dt)\n",
    "mse_r = mean_squared_error(y_test, yp_dt, squared = False)\n",
    "r2 = r2_score(y_test, yp_dt)\n",
    "\n",
    "n = len(y_test)\n",
    "k = X_train_pca.shape[1]  \n",
    "adj_r2 = 1 - ((1 - r2) * (n - 1) / (n - k - 1))\n",
    "\n",
    "print(f'Mean Squared Error: {mse}')\n",
    "print(f'Root Mean Squared Error: {mse_r}')\n",
    "print(f'R-squared: {r2}')\n",
    "print(f'Adjusted R-squared: {adj_r2}')"
   ]
  },
  {
   "cell_type": "code",
   "execution_count": 92,
   "id": "6a464a6d",
   "metadata": {},
   "outputs": [
    {
     "data": {
      "text/plain": [
       "0.3799498746867168"
      ]
     },
     "execution_count": 92,
     "metadata": {},
     "output_type": "execute_result"
    }
   ],
   "source": [
    "score_dt = cross_val_score(DecisionTreeRegressor(max_depth = None, min_samples_split = 5, \n",
    "                                                 min_samples_leaf = 2, random_state = 12), \n",
    "X_test_pca, y_test, cv = 5, scoring = 'r2').mean()\n",
    "\n",
    "score_dt"
   ]
  },
  {
   "cell_type": "code",
   "execution_count": 93,
   "id": "075d7854",
   "metadata": {},
   "outputs": [
    {
     "data": {
      "text/html": [
       "<div>\n",
       "<style scoped>\n",
       "    .dataframe tbody tr th:only-of-type {\n",
       "        vertical-align: middle;\n",
       "    }\n",
       "\n",
       "    .dataframe tbody tr th {\n",
       "        vertical-align: top;\n",
       "    }\n",
       "\n",
       "    .dataframe thead th {\n",
       "        text-align: right;\n",
       "    }\n",
       "</style>\n",
       "<table border=\"1\" class=\"dataframe\">\n",
       "  <thead>\n",
       "    <tr style=\"text-align: right;\">\n",
       "      <th></th>\n",
       "      <th>Actual</th>\n",
       "      <th>Predicted</th>\n",
       "    </tr>\n",
       "  </thead>\n",
       "  <tbody>\n",
       "    <tr>\n",
       "      <th>0</th>\n",
       "      <td>0.0</td>\n",
       "      <td>0.0</td>\n",
       "    </tr>\n",
       "    <tr>\n",
       "      <th>1</th>\n",
       "      <td>0.0</td>\n",
       "      <td>0.0</td>\n",
       "    </tr>\n",
       "    <tr>\n",
       "      <th>2</th>\n",
       "      <td>0.0</td>\n",
       "      <td>0.0</td>\n",
       "    </tr>\n",
       "    <tr>\n",
       "      <th>3</th>\n",
       "      <td>0.0</td>\n",
       "      <td>0.0</td>\n",
       "    </tr>\n",
       "    <tr>\n",
       "      <th>4</th>\n",
       "      <td>0.0</td>\n",
       "      <td>0.0</td>\n",
       "    </tr>\n",
       "  </tbody>\n",
       "</table>\n",
       "</div>"
      ],
      "text/plain": [
       "   Actual  Predicted\n",
       "0     0.0        0.0\n",
       "1     0.0        0.0\n",
       "2     0.0        0.0\n",
       "3     0.0        0.0\n",
       "4     0.0        0.0"
      ]
     },
     "execution_count": 93,
     "metadata": {},
     "output_type": "execute_result"
    }
   ],
   "source": [
    "pred_dt = pd.DataFrame({'Actual': y_test, 'Predicted': yp_dt})\n",
    "pred_dt.head()"
   ]
  },
  {
   "cell_type": "code",
   "execution_count": 94,
   "id": "f2ee5515",
   "metadata": {},
   "outputs": [
    {
     "name": "stdout",
     "output_type": "stream",
     "text": [
      "Training MSE: 0.0009505703422053232\n",
      "Validation MSE: 0.009900990099009901\n",
      "Mean Huber Loss: 0.0049504950495049506\n"
     ]
    }
   ],
   "source": [
    "train_pred = tree_regressor.predict(X_train_pca)\n",
    "test_pred = tree_regressor.predict(X_test_pca)\n",
    "\n",
    "from sklearn.metrics import mean_squared_error, r2_score\n",
    "\n",
    "train_mse = mean_squared_error(y_train, train_pred)\n",
    "test_mse = mean_squared_error(y_test, test_pred)\n",
    "\n",
    "print(f'Training MSE: {train_mse}')\n",
    "print(f'Validation MSE: {test_mse}')\n",
    "\n",
    "import tensorflow as tf\n",
    "def huber_loss(y_test, yp_dt, delta = 1.0):\n",
    "    error = y_test - yp_dt\n",
    "    condition = tf.abs(error) < delta\n",
    "    squared_loss = 0.5 * tf.square(error)\n",
    "    linear_loss = delta * (tf.abs(error) - 0.5 * delta)\n",
    "    return tf.where(condition, squared_loss, linear_loss)\n",
    "\n",
    "loss = huber_loss(y_test, yp_dt, delta = 1.0)\n",
    "\n",
    "\n",
    "mean_huber_loss = np.mean(loss)\n",
    "print(f\"Mean Huber Loss: {mean_huber_loss}\")"
   ]
  },
  {
   "cell_type": "code",
   "execution_count": null,
   "id": "82e134d6",
   "metadata": {},
   "outputs": [],
   "source": []
  },
  {
   "cell_type": "markdown",
   "id": "8488da14",
   "metadata": {},
   "source": [
    "# Summary 30%"
   ]
  },
  {
   "cell_type": "code",
   "execution_count": 95,
   "id": "73abfafb",
   "metadata": {},
   "outputs": [
    {
     "name": "stdout",
     "output_type": "stream",
     "text": [
      "R2 LN: 0.7305304112238034\n",
      "R2 LNP2: 0.7559104093017317\n",
      "R2 RP2: 0.5920185243871812\n",
      "R2 RF: 0.9468944805747759\n",
      "R2 Report SVM: 0.0\n",
      "R2 SVR: 0.0\n",
      "R2 KNN: 0.9361936193619362\n",
      "R2 KNN BGG: 0.9358698727015559\n",
      "R2 DT: 0.9603960396039604\n"
     ]
    }
   ],
   "source": [
    "print(\"R2 LN:\", r2_score(y_test, yp_lr))\n",
    "\n",
    "print(\"R2 LNP2:\", r2_score(y_test, yp_p2))\n",
    "\n",
    "print(\"R2 RP2:\", r2_score(y_test, yp_rp2))\n",
    "\n",
    "print(\"R2 RF:\", r2_score(y_test, y_pred_best))\n",
    "\n",
    "print(\"R2 Report SVM:\", r2_score(y_test, yp_svm))\n",
    "\n",
    "print(\"R2 SVR:\", r2_score(y_test, yp_svm_p2))\n",
    "\n",
    "print(\"R2 KNN:\", r2_score(y_test, yp_knn))\n",
    "\n",
    "print(\"R2 KNN BGG:\", r2_score(y_test, yp_knn_bgg))\n",
    "\n",
    "print(\"R2 DT:\", r2_score(y_test, yp_dt))"
   ]
  },
  {
   "cell_type": "code",
   "execution_count": null,
   "id": "1013364b",
   "metadata": {},
   "outputs": [],
   "source": []
  }
 ],
 "metadata": {
  "kernelspec": {
   "display_name": "Python 3 (ipykernel)",
   "language": "python",
   "name": "python3"
  },
  "language_info": {
   "codemirror_mode": {
    "name": "ipython",
    "version": 3
   },
   "file_extension": ".py",
   "mimetype": "text/x-python",
   "name": "python",
   "nbconvert_exporter": "python",
   "pygments_lexer": "ipython3",
   "version": "3.11.5"
  }
 },
 "nbformat": 4,
 "nbformat_minor": 5
}
