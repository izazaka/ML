{
 "cells": [
  {
   "cell_type": "markdown",
   "id": "e6f6dc48",
   "metadata": {},
   "source": [
    "# CA1 Machine Learning"
   ]
  },
  {
   "cell_type": "code",
   "execution_count": 2,
   "id": "970c9704",
   "metadata": {},
   "outputs": [
    {
     "name": "stdout",
     "output_type": "stream",
     "text": [
      "Collecting cufflinks\n",
      "  Downloading cufflinks-0.17.3.tar.gz (81 kB)\n",
      "\u001b[2K     \u001b[90m━━━━━━━━━━━━━━━━━━━━━━━━━━━━━━━━━━━━━━━━\u001b[0m \u001b[32m81.7/81.7 kB\u001b[0m \u001b[31m1.5 MB/s\u001b[0m eta \u001b[36m0:00:00\u001b[0ma \u001b[36m0:00:01\u001b[0m\n",
      "\u001b[?25h  Preparing metadata (setup.py) ... \u001b[?25ldone\n",
      "\u001b[?25hRequirement already satisfied: numpy>=1.9.2 in /Users/izaiaszacca/anaconda3/lib/python3.11/site-packages (from cufflinks) (1.24.3)\n",
      "Requirement already satisfied: pandas>=0.19.2 in /Users/izaiaszacca/anaconda3/lib/python3.11/site-packages (from cufflinks) (2.0.3)\n",
      "Requirement already satisfied: plotly>=4.1.1 in /Users/izaiaszacca/anaconda3/lib/python3.11/site-packages (from cufflinks) (5.9.0)\n",
      "Requirement already satisfied: six>=1.9.0 in /Users/izaiaszacca/anaconda3/lib/python3.11/site-packages (from cufflinks) (1.16.0)\n",
      "Collecting colorlover>=0.2.1 (from cufflinks)\n",
      "  Downloading colorlover-0.3.0-py3-none-any.whl (8.9 kB)\n",
      "Requirement already satisfied: setuptools>=34.4.1 in /Users/izaiaszacca/anaconda3/lib/python3.11/site-packages (from cufflinks) (68.0.0)\n",
      "Requirement already satisfied: ipython>=5.3.0 in /Users/izaiaszacca/anaconda3/lib/python3.11/site-packages (from cufflinks) (8.15.0)\n",
      "Requirement already satisfied: ipywidgets>=7.0.0 in /Users/izaiaszacca/anaconda3/lib/python3.11/site-packages (from cufflinks) (8.0.4)\n",
      "Requirement already satisfied: backcall in /Users/izaiaszacca/anaconda3/lib/python3.11/site-packages (from ipython>=5.3.0->cufflinks) (0.2.0)\n",
      "Requirement already satisfied: decorator in /Users/izaiaszacca/anaconda3/lib/python3.11/site-packages (from ipython>=5.3.0->cufflinks) (5.1.1)\n",
      "Requirement already satisfied: jedi>=0.16 in /Users/izaiaszacca/anaconda3/lib/python3.11/site-packages (from ipython>=5.3.0->cufflinks) (0.18.1)\n",
      "Requirement already satisfied: matplotlib-inline in /Users/izaiaszacca/anaconda3/lib/python3.11/site-packages (from ipython>=5.3.0->cufflinks) (0.1.6)\n",
      "Requirement already satisfied: pickleshare in /Users/izaiaszacca/anaconda3/lib/python3.11/site-packages (from ipython>=5.3.0->cufflinks) (0.7.5)\n",
      "Requirement already satisfied: prompt-toolkit!=3.0.37,<3.1.0,>=3.0.30 in /Users/izaiaszacca/anaconda3/lib/python3.11/site-packages (from ipython>=5.3.0->cufflinks) (3.0.36)\n",
      "Requirement already satisfied: pygments>=2.4.0 in /Users/izaiaszacca/anaconda3/lib/python3.11/site-packages (from ipython>=5.3.0->cufflinks) (2.15.1)\n",
      "Requirement already satisfied: stack-data in /Users/izaiaszacca/anaconda3/lib/python3.11/site-packages (from ipython>=5.3.0->cufflinks) (0.2.0)\n",
      "Requirement already satisfied: traitlets>=5 in /Users/izaiaszacca/anaconda3/lib/python3.11/site-packages (from ipython>=5.3.0->cufflinks) (5.7.1)\n",
      "Requirement already satisfied: pexpect>4.3 in /Users/izaiaszacca/anaconda3/lib/python3.11/site-packages (from ipython>=5.3.0->cufflinks) (4.8.0)\n",
      "Requirement already satisfied: appnope in /Users/izaiaszacca/anaconda3/lib/python3.11/site-packages (from ipython>=5.3.0->cufflinks) (0.1.2)\n",
      "Requirement already satisfied: ipykernel>=4.5.1 in /Users/izaiaszacca/anaconda3/lib/python3.11/site-packages (from ipywidgets>=7.0.0->cufflinks) (6.25.0)\n",
      "Requirement already satisfied: widgetsnbextension~=4.0 in /Users/izaiaszacca/anaconda3/lib/python3.11/site-packages (from ipywidgets>=7.0.0->cufflinks) (4.0.5)\n",
      "Requirement already satisfied: jupyterlab-widgets~=3.0 in /Users/izaiaszacca/anaconda3/lib/python3.11/site-packages (from ipywidgets>=7.0.0->cufflinks) (3.0.5)\n",
      "Requirement already satisfied: python-dateutil>=2.8.2 in /Users/izaiaszacca/anaconda3/lib/python3.11/site-packages (from pandas>=0.19.2->cufflinks) (2.8.2)\n",
      "Requirement already satisfied: pytz>=2020.1 in /Users/izaiaszacca/anaconda3/lib/python3.11/site-packages (from pandas>=0.19.2->cufflinks) (2023.3.post1)\n",
      "Requirement already satisfied: tzdata>=2022.1 in /Users/izaiaszacca/anaconda3/lib/python3.11/site-packages (from pandas>=0.19.2->cufflinks) (2023.3)\n",
      "Requirement already satisfied: tenacity>=6.2.0 in /Users/izaiaszacca/anaconda3/lib/python3.11/site-packages (from plotly>=4.1.1->cufflinks) (8.2.2)\n",
      "Requirement already satisfied: comm>=0.1.1 in /Users/izaiaszacca/anaconda3/lib/python3.11/site-packages (from ipykernel>=4.5.1->ipywidgets>=7.0.0->cufflinks) (0.1.2)\n",
      "Requirement already satisfied: debugpy>=1.6.5 in /Users/izaiaszacca/anaconda3/lib/python3.11/site-packages (from ipykernel>=4.5.1->ipywidgets>=7.0.0->cufflinks) (1.6.7)\n",
      "Requirement already satisfied: jupyter-client>=6.1.12 in /Users/izaiaszacca/anaconda3/lib/python3.11/site-packages (from ipykernel>=4.5.1->ipywidgets>=7.0.0->cufflinks) (7.4.9)\n",
      "Requirement already satisfied: jupyter-core!=5.0.*,>=4.12 in /Users/izaiaszacca/anaconda3/lib/python3.11/site-packages (from ipykernel>=4.5.1->ipywidgets>=7.0.0->cufflinks) (5.3.0)\n",
      "Requirement already satisfied: nest-asyncio in /Users/izaiaszacca/anaconda3/lib/python3.11/site-packages (from ipykernel>=4.5.1->ipywidgets>=7.0.0->cufflinks) (1.5.6)\n",
      "Requirement already satisfied: packaging in /Users/izaiaszacca/anaconda3/lib/python3.11/site-packages (from ipykernel>=4.5.1->ipywidgets>=7.0.0->cufflinks) (23.1)\n",
      "Requirement already satisfied: psutil in /Users/izaiaszacca/anaconda3/lib/python3.11/site-packages (from ipykernel>=4.5.1->ipywidgets>=7.0.0->cufflinks) (5.9.0)\n",
      "Requirement already satisfied: pyzmq>=20 in /Users/izaiaszacca/anaconda3/lib/python3.11/site-packages (from ipykernel>=4.5.1->ipywidgets>=7.0.0->cufflinks) (23.2.0)\n",
      "Requirement already satisfied: tornado>=6.1 in /Users/izaiaszacca/anaconda3/lib/python3.11/site-packages (from ipykernel>=4.5.1->ipywidgets>=7.0.0->cufflinks) (6.3.2)\n",
      "Requirement already satisfied: parso<0.9.0,>=0.8.0 in /Users/izaiaszacca/anaconda3/lib/python3.11/site-packages (from jedi>=0.16->ipython>=5.3.0->cufflinks) (0.8.3)\n",
      "Requirement already satisfied: ptyprocess>=0.5 in /Users/izaiaszacca/anaconda3/lib/python3.11/site-packages (from pexpect>4.3->ipython>=5.3.0->cufflinks) (0.7.0)\n",
      "Requirement already satisfied: wcwidth in /Users/izaiaszacca/anaconda3/lib/python3.11/site-packages (from prompt-toolkit!=3.0.37,<3.1.0,>=3.0.30->ipython>=5.3.0->cufflinks) (0.2.5)\n",
      "Requirement already satisfied: executing in /Users/izaiaszacca/anaconda3/lib/python3.11/site-packages (from stack-data->ipython>=5.3.0->cufflinks) (0.8.3)\n",
      "Requirement already satisfied: asttokens in /Users/izaiaszacca/anaconda3/lib/python3.11/site-packages (from stack-data->ipython>=5.3.0->cufflinks) (2.0.5)\n",
      "Requirement already satisfied: pure-eval in /Users/izaiaszacca/anaconda3/lib/python3.11/site-packages (from stack-data->ipython>=5.3.0->cufflinks) (0.2.2)\n",
      "Requirement already satisfied: entrypoints in /Users/izaiaszacca/anaconda3/lib/python3.11/site-packages (from jupyter-client>=6.1.12->ipykernel>=4.5.1->ipywidgets>=7.0.0->cufflinks) (0.4)\n",
      "Requirement already satisfied: platformdirs>=2.5 in /Users/izaiaszacca/anaconda3/lib/python3.11/site-packages (from jupyter-core!=5.0.*,>=4.12->ipykernel>=4.5.1->ipywidgets>=7.0.0->cufflinks) (3.10.0)\n",
      "Building wheels for collected packages: cufflinks\n",
      "  Building wheel for cufflinks (setup.py) ... \u001b[?25ldone\n",
      "\u001b[?25h  Created wheel for cufflinks: filename=cufflinks-0.17.3-py3-none-any.whl size=67902 sha256=db78c6c7fb336777211c6df7590284da58cf50b326959f30a15a3ed35c09dc14\n",
      "  Stored in directory: /Users/izaiaszacca/Library/Caches/pip/wheels/c3/bf/8f/afa0730b29e347e8c1071049f89748c1262e7a14a838820ae6\n",
      "Successfully built cufflinks\n",
      "Installing collected packages: colorlover, cufflinks\n",
      "Successfully installed colorlover-0.3.0 cufflinks-0.17.3\n",
      "Note: you may need to restart the kernel to use updated packages.\n"
     ]
    }
   ],
   "source": [
    "pip install cufflinks"
   ]
  },
  {
   "cell_type": "code",
   "execution_count": 1,
   "id": "ea908b62",
   "metadata": {
    "scrolled": true
   },
   "outputs": [
    {
     "ename": "ModuleNotFoundError",
     "evalue": "No module named 'cufflinks'",
     "output_type": "error",
     "traceback": [
      "\u001b[0;31m---------------------------------------------------------------------------\u001b[0m",
      "\u001b[0;31mModuleNotFoundError\u001b[0m                       Traceback (most recent call last)",
      "Cell \u001b[0;32mIn[1], line 4\u001b[0m\n\u001b[1;32m      2\u001b[0m \u001b[38;5;28;01mimport\u001b[39;00m \u001b[38;5;21;01mseaborn\u001b[39;00m \u001b[38;5;28;01mas\u001b[39;00m \u001b[38;5;21;01msns\u001b[39;00m\n\u001b[1;32m      3\u001b[0m \u001b[38;5;28;01mimport\u001b[39;00m \u001b[38;5;21;01mmatplotlib\u001b[39;00m\u001b[38;5;21;01m.\u001b[39;00m\u001b[38;5;21;01mpyplot\u001b[39;00m \u001b[38;5;28;01mas\u001b[39;00m \u001b[38;5;21;01mplt\u001b[39;00m\n\u001b[0;32m----> 4\u001b[0m \u001b[38;5;28;01mimport\u001b[39;00m \u001b[38;5;21;01mcufflinks\u001b[39;00m \u001b[38;5;28;01mas\u001b[39;00m \u001b[38;5;21;01mcf\u001b[39;00m\n\u001b[1;32m      5\u001b[0m \u001b[38;5;28;01mfrom\u001b[39;00m \u001b[38;5;21;01mIPython\u001b[39;00m\u001b[38;5;21;01m.\u001b[39;00m\u001b[38;5;21;01mdisplay\u001b[39;00m \u001b[38;5;28;01mimport\u001b[39;00m display,HTML\n\u001b[1;32m      7\u001b[0m cf\u001b[38;5;241m.\u001b[39mset_config_file(sharing\u001b[38;5;241m=\u001b[39m\u001b[38;5;124m'\u001b[39m\u001b[38;5;124mpublic\u001b[39m\u001b[38;5;124m'\u001b[39m,theme\u001b[38;5;241m=\u001b[39m\u001b[38;5;124m'\u001b[39m\u001b[38;5;124mwhite\u001b[39m\u001b[38;5;124m'\u001b[39m,offline\u001b[38;5;241m=\u001b[39m\u001b[38;5;28;01mTrue\u001b[39;00m) \u001b[38;5;66;03m# write cf.getThemes() to find all themes available\u001b[39;00m\n",
      "\u001b[0;31mModuleNotFoundError\u001b[0m: No module named 'cufflinks'"
     ]
    }
   ],
   "source": [
    "import pandas as pd\n",
    "import seaborn as sns\n",
    "import matplotlib.pyplot as plt\n",
    "import cufflinks as cf\n",
    "from IPython.display import display,HTML\n",
    "\n",
    "cf.set_config_file(sharing='public',theme='white',offline=True) # write cf.getThemes() to find all themes available\n",
    "import warnings\n",
    "warnings.filterwarnings('ignore')"
   ]
  },
  {
   "cell_type": "code",
   "execution_count": null,
   "id": "21977067",
   "metadata": {},
   "outputs": [],
   "source": [
    "cf.getThemes()"
   ]
  },
  {
   "cell_type": "code",
   "execution_count": null,
   "id": "b4c4c170",
   "metadata": {},
   "outputs": [],
   "source": [
    "df = pd.read_excel(\"Seoul_Bike.xlsx\") #we use _excel when we have to use excel files and .xlsx "
   ]
  },
  {
   "cell_type": "code",
   "execution_count": null,
   "id": "2952254c",
   "metadata": {
    "scrolled": true
   },
   "outputs": [],
   "source": [
    "df.shape"
   ]
  },
  {
   "cell_type": "markdown",
   "id": "004ed1af",
   "metadata": {},
   "source": [
    "This dataset cointan 8760 rows and 14 columns"
   ]
  },
  {
   "cell_type": "code",
   "execution_count": null,
   "id": "1cd8de09",
   "metadata": {
    "scrolled": true
   },
   "outputs": [],
   "source": [
    "df.info()"
   ]
  },
  {
   "cell_type": "code",
   "execution_count": null,
   "id": "ec496817",
   "metadata": {},
   "outputs": [],
   "source": [
    "df.rename(columns={'Temperature(°C)': 'Temperature'}, inplace=True)"
   ]
  },
  {
   "cell_type": "markdown",
   "id": "502b8272",
   "metadata": {},
   "source": [
    "We can see there are not missing values in our info on non-null count and we can see what kind of dtypes we have in our DataFrame"
   ]
  },
  {
   "cell_type": "code",
   "execution_count": null,
   "id": "5bb4f67a",
   "metadata": {
    "scrolled": true
   },
   "outputs": [],
   "source": [
    "df.head(24) # Lets see our first 24 rows because it is based on the hours of the day "
   ]
  },
  {
   "cell_type": "code",
   "execution_count": null,
   "id": "2b5e6c4d",
   "metadata": {},
   "outputs": [],
   "source": [
    "df.describe() #Describe function only takes numerical values(int, floats) columns "
   ]
  },
  {
   "cell_type": "markdown",
   "id": "a0e531a9",
   "metadata": {},
   "source": [
    "From describe function we can see our\n",
    "1.- mean bikes rented per hour is 704.60 / temperature 12.88 C / Humidity 58.22 / WindSpeed 1.72 km/h etc.\n",
    "2.- our min temperature was -17.8 c while our max was 39.40\n",
    "\n"
   ]
  },
  {
   "cell_type": "code",
   "execution_count": null,
   "id": "d7e560a5",
   "metadata": {
    "scrolled": true
   },
   "outputs": [],
   "source": [
    "df['Date'].info()"
   ]
  },
  {
   "cell_type": "code",
   "execution_count": null,
   "id": "eed60089",
   "metadata": {
    "scrolled": false
   },
   "outputs": [],
   "source": [
    "df[\"month\"] = df[\"Date\"].dt.month\n",
    "df[\"month\"]=df[\"month\"].map({1:\"Jan\", 2: \"Feb\", 3: \"Mar\", 4: \"Apr\", 5: \"May\", 6: \"Jun\", 7: \"Jul\", 8: \"Aug\", 9: \"Sep\", 10: \"Oct\", 11: \"Nov\", 12: \"Dec\"})\n",
    "df.head()\n",
    "#added a new column with the month"
   ]
  },
  {
   "cell_type": "code",
   "execution_count": null,
   "id": "d95b4bb7",
   "metadata": {
    "scrolled": false
   },
   "outputs": [],
   "source": [
    "df['Holiday'].unique()"
   ]
  },
  {
   "cell_type": "code",
   "execution_count": null,
   "id": "7272e12d",
   "metadata": {},
   "outputs": [],
   "source": [
    "df['Seasons'].unique()"
   ]
  },
  {
   "cell_type": "code",
   "execution_count": null,
   "id": "ab7de900",
   "metadata": {},
   "outputs": [],
   "source": [
    "# Reemplazamos 'No Holiday' por 0 y 'Holiday' por 1\n",
    "df['Holiday'] = df['Holiday'].replace({'No Holiday': 0, 'Holiday': 1}) # changed holiday to make it numerical\n",
    "df['Functioning Day'] = df['Functioning Day'].replace({'Yes': 0, 'No': 1})\n",
    "df['Seasons'] = df['Seasons'].replace({'Winter': 0, 'Spring': 1, 'Summer':2, 'Autumn':3})\n",
    "df.drop([\"Date\"], inplace=True, axis=1)\n",
    "df.head()\n"
   ]
  },
  {
   "cell_type": "code",
   "execution_count": null,
   "id": "206a2312",
   "metadata": {},
   "outputs": [],
   "source": [
    "df.info()"
   ]
  },
  {
   "cell_type": "code",
   "execution_count": null,
   "id": "2b58bf9b",
   "metadata": {},
   "outputs": [],
   "source": [
    "plt.figure(figsize=(15, 15))  \n",
    "sns.pairplot(df[['Hour', 'Temperature', 'Humidity(%)', 'Wind speed (m/s)', 'Solar Radiation (MJ/m2)', 'Rainfall(mm)', 'Snowfall (cm)','Rented Bike Count']])\n",
    "plt.show()\n"
   ]
  },
  {
   "cell_type": "code",
   "execution_count": null,
   "id": "09e21894",
   "metadata": {
    "scrolled": true
   },
   "outputs": [],
   "source": [
    "fig,ax=plt.subplots(figsize=(15,8))\n",
    "#Barplot for Holiday distribution of counts\n",
    "sns.barplot(data=df,x='Holiday',y='Rented Bike Count',hue='Seasons')\n",
    "ax.set_title('Holiday wise distribution of counts')\n",
    "plt.show()"
   ]
  },
  {
   "cell_type": "code",
   "execution_count": null,
   "id": "75c0e933",
   "metadata": {},
   "outputs": [],
   "source": [
    "fig,ax=plt.subplots(figsize=(15,8))\n",
    "#Boxplot for total_count outliers\n",
    "sns.boxplot(data=df[['Rented Bike Count']])\n",
    "ax.set_title('total_count outliers')\n",
    "plt.show()\n"
   ]
  },
  {
   "cell_type": "code",
   "execution_count": null,
   "id": "f8b9dbf5",
   "metadata": {},
   "outputs": [],
   "source": [
    "df['month'].unique()"
   ]
  },
  {
   "cell_type": "code",
   "execution_count": null,
   "id": "471fa406",
   "metadata": {},
   "outputs": [],
   "source": [
    "fig,ax=plt.subplots(figsize=(20,10))\n",
    "sns.set_style('white')\n",
    "#Bar plot\n",
    "sns.barplot(x='month',y='Rented Bike Count',data=df[['Rented Bike Count','month']],hue='month',ax=ax)\n",
    "ax.set_title(\"Rented Bike count per month\")\n",
    "plt.show()\n"
   ]
  },
  {
   "cell_type": "markdown",
   "id": "79d9f5a1",
   "metadata": {},
   "source": [
    "Missing value analysis"
   ]
  },
  {
   "cell_type": "code",
   "execution_count": null,
   "id": "06b741f2",
   "metadata": {
    "scrolled": true
   },
   "outputs": [],
   "source": [
    "df.isnull().sum()"
   ]
  },
  {
   "cell_type": "markdown",
   "id": "23d90611",
   "metadata": {},
   "source": [
    "No missing values"
   ]
  },
  {
   "cell_type": "code",
   "execution_count": null,
   "id": "a1ef6780",
   "metadata": {},
   "outputs": [],
   "source": [
    "#Histogram, as you can see the data is skew on the right side , the data is not equal distribuited, the density of values is more between 0 and 1000\n",
    "plt.figure(figsize=(15, 10))\n",
    "\n",
    "plt.subplot(2, 1, 1)\n",
    "sns.histplot(df['Rented Bike Count'], kde=True, color='blue')\n",
    "plt.title('Rented Bikes count')\n",
    "plt.tight_layout()\n",
    "plt.show()"
   ]
  },
  {
   "cell_type": "markdown",
   "id": "c1cda374",
   "metadata": {},
   "source": [
    "\n",
    "# Visualization\n",
    "\n"
   ]
  },
  {
   "cell_type": "code",
   "execution_count": null,
   "id": "f4b37e14",
   "metadata": {
    "scrolled": true
   },
   "outputs": [],
   "source": [
    "fig,ax=plt.subplots(figsize=(20,10))\n",
    "sns.set_style('white')\n",
    "#Bar plot\n",
    "sns.barplot(x='Hour',y='Rented Bike Count',data=df[['Hour','Rented Bike Count','Seasons']],hue='Seasons',ax=ax)\n",
    "ax.set_title('Seasonwise hourly distribution of counts')\n",
    "plt.show()\n"
   ]
  },
  {
   "cell_type": "code",
   "execution_count": null,
   "id": "ee79c1d7",
   "metadata": {
    "scrolled": false
   },
   "outputs": [],
   "source": [
    "fig, ax1 = plt.subplots(figsize=(15, 8))\n",
    "sns.barplot(x='Hour', y='Temperature', data=df[['Hour','Temperature']],ax=ax1)\n",
    "ax1.set_title('Temperature throught the seasons')\n",
    "plt.show()"
   ]
  },
  {
   "cell_type": "code",
   "execution_count": null,
   "id": "9a69b031",
   "metadata": {},
   "outputs": [],
   "source": [
    "sns.histplot(data=df[\"Rented Bike Count\"])"
   ]
  },
  {
   "cell_type": "code",
   "execution_count": null,
   "id": "e6e67cdf",
   "metadata": {},
   "outputs": [],
   "source": [
    "df['Seasons'].unique()"
   ]
  },
  {
   "cell_type": "code",
   "execution_count": null,
   "id": "eb9c7ea7",
   "metadata": {},
   "outputs": [],
   "source": [
    "df2 = df.pivot_table(index=\"Hour\", columns=\"month\", values=\"Rented Bike Count\", aggfunc='sum')\n",
    "\n",
    "pd.set_option('display.max_rows', None)\n",
    "df2"
   ]
  },
  {
   "cell_type": "code",
   "execution_count": null,
   "id": "1feed84d",
   "metadata": {},
   "outputs": [],
   "source": [
    "df2.iplot(kind=\"line\")"
   ]
  },
  {
   "cell_type": "code",
   "execution_count": null,
   "id": "842e6f33",
   "metadata": {
    "scrolled": true
   },
   "outputs": [],
   "source": [
    "plt.figure(figsize=(15, 10))\n",
    "sns.heatmap(df2, cmap=\"YlGnBu\", annot=True, fmt=\".0f\", linewidths=.5)\n",
    "plt.title(\"Ditribution of bikes rented for hour and months\")\n",
    "plt.xlabel(\"month\")\n",
    "plt.ylabel(\"Hour\")\n",
    "plt.show()"
   ]
  },
  {
   "cell_type": "code",
   "execution_count": null,
   "id": "ff8cc3ef",
   "metadata": {},
   "outputs": [],
   "source": [
    "# Supongamos que quieres eliminar valores atípicos usando el rango intercuartílico (IQR)\n",
    "Q1 = df['Rented Bike Count'].quantile(0.25)\n",
    "Q3 = df['Rented Bike Count'].quantile(0.75)\n",
    "IQR = Q3 - Q1\n",
    "df = df[(df['Rented Bike Count'] > Q1 - 1.5 * IQR) & (df['Rented Bike Count'] < Q3 + 1.5 * IQR)]"
   ]
  },
  {
   "cell_type": "code",
   "execution_count": null,
   "id": "8a9b1577",
   "metadata": {},
   "outputs": [],
   "source": [
    "sns.histplot(data=df[\"Rented Bike Count\"])"
   ]
  },
  {
   "cell_type": "code",
   "execution_count": null,
   "id": "b54f0d1c",
   "metadata": {},
   "outputs": [],
   "source": [
    "df.info()"
   ]
  },
  {
   "cell_type": "code",
   "execution_count": null,
   "id": "f7716a3d",
   "metadata": {},
   "outputs": [],
   "source": [
    "df3 = df.copy()"
   ]
  },
  {
   "cell_type": "code",
   "execution_count": null,
   "id": "911bf0cd",
   "metadata": {
    "scrolled": true
   },
   "outputs": [],
   "source": [
    "month_dum = pd.get_dummies(df3.month)\n",
    "month_dum.head()"
   ]
  },
  {
   "cell_type": "code",
   "execution_count": null,
   "id": "54af468c",
   "metadata": {},
   "outputs": [],
   "source": [
    "Hour_dum = pd.get_dummies(df3.Hour)\n",
    "Hour_dum.head()"
   ]
  },
  {
   "cell_type": "code",
   "execution_count": null,
   "id": "8d9e62ac",
   "metadata": {
    "scrolled": true
   },
   "outputs": [],
   "source": [
    "df3 = pd.concat([df3,month_dum,Hour_dum], axis=1)\n",
    "df3.head()"
   ]
  },
  {
   "cell_type": "code",
   "execution_count": null,
   "id": "6c65243d",
   "metadata": {
    "scrolled": true
   },
   "outputs": [],
   "source": [
    "df3.shape"
   ]
  },
  {
   "cell_type": "code",
   "execution_count": null,
   "id": "42664dff",
   "metadata": {},
   "outputs": [],
   "source": [
    "df3.drop([\"month\",\"Hour\"], axis=1, inplace=True)\n",
    "df3.head()"
   ]
  },
  {
   "cell_type": "code",
   "execution_count": null,
   "id": "fbafa090",
   "metadata": {
    "scrolled": true
   },
   "outputs": [],
   "source": [
    "from sklearn.model_selection import train_test_split\n",
    "\n",
    "df_train, df_test = train_test_split(df3, train_size=0.7, test_size=0.3, random_state=50)\n",
    "\n",
    "print(df_train.shape)\n",
    "print(df_test.shape)\n"
   ]
  },
  {
   "cell_type": "code",
   "execution_count": null,
   "id": "6e8a326b",
   "metadata": {
    "scrolled": true
   },
   "outputs": [],
   "source": [
    "from sklearn.preprocessing import MinMaxScaler\n",
    "var_list = [\"Temperature\", \"Humidity(%)\", \"Wind speed (m/s)\",\"Visibility (10m)\", \"Dew point temperature(°C)\" ]\n",
    "scaler = MinMaxScaler()\n",
    "df_train[var_list] = scaler.fit_transform(df_train[var_list])\n",
    "df_train.describe()"
   ]
  },
  {
   "cell_type": "code",
   "execution_count": null,
   "id": "4d90c71e",
   "metadata": {},
   "outputs": [],
   "source": [
    "df_train.head()"
   ]
  },
  {
   "cell_type": "code",
   "execution_count": null,
   "id": "ace4979e",
   "metadata": {},
   "outputs": [],
   "source": [
    "y_train = df_train.pop(\"Rented Bike Count\")\n",
    "y_train.head()"
   ]
  },
  {
   "cell_type": "code",
   "execution_count": null,
   "id": "d49e46df",
   "metadata": {},
   "outputs": [],
   "source": [
    "X_train = df_train\n",
    "X_train.head()"
   ]
  },
  {
   "cell_type": "code",
   "execution_count": null,
   "id": "5eb61f15",
   "metadata": {},
   "outputs": [],
   "source": [
    "from sklearn.ensemble import RandomForestRegressor\n",
    "from sklearn.metrics import mean_squared_error, r2_score\n",
    "X_train.columns = X_train.columns.astype(str)\n",
    "\n",
    "rf_model = RandomForestRegressor(n_estimators=100, random_state=42)\n",
    "\n",
    "rf_model.fit(X_train, y_train)\n",
    "\n",
    "y_train_pred_rf = rf_model.predict(X_train)\n",
    "mse_rf = mean_squared_error(y_train, y_train_pred_rf)\n",
    "r2_rf = r2_score(y_train, y_train_pred_rf)\n",
    "\n",
    "print(f\"Random Forest - Mean Squared Error (Train): {mse_rf}\")\n",
    "print(f\"Random Forest - R-Squared (Train): {r2_rf}\")"
   ]
  },
  {
   "cell_type": "code",
   "execution_count": null,
   "id": "73a0efa7",
   "metadata": {},
   "outputs": [],
   "source": [
    "import matplotlib.pyplot as plt"
   ]
  },
  {
   "cell_type": "code",
   "execution_count": null,
   "id": "ba8f4c72",
   "metadata": {},
   "outputs": [],
   "source": [
    "plt.scatter(y_train, y_train_pred_rf)\n",
    "plt.xlabel('Rented Bike Count (True Values)')\n",
    "plt.ylabel('Rented Bike Count (Predicted Values)')\n",
    "plt.title('Random Forest - True vs. Predicted Rented Bike Count (Train)')\n",
    "plt.show()"
   ]
  },
  {
   "cell_type": "code",
   "execution_count": null,
   "id": "c85c5f27",
   "metadata": {},
   "outputs": [],
   "source": [
    "from sklearn.linear_model import LinearRegression\n",
    "from sklearn.metrics import mean_squared_error, r2_score\n",
    "\n",
    "linear_model = LinearRegression()\n",
    "\n",
    "linear_model.fit(X_train, y_train)\n",
    "\n",
    "y_train_pred_linear = linear_model.predict(X_train)\n",
    "\n",
    "mse_linear = mean_squared_error(y_train, y_train_pred_linear)\n",
    "r2_linear = r2_score(y_train, y_train_pred_linear)\n",
    "\n",
    "print(f\"Regresión Lineal - Mean Squared Error (Train): {mse_linear}\")\n",
    "print(f\"Regresión Lineal - R-Squared (Train): {r2_linear}\")"
   ]
  },
  {
   "cell_type": "code",
   "execution_count": null,
   "id": "815e2dee",
   "metadata": {},
   "outputs": [],
   "source": [
    "plt.scatter(y_train, y_train_pred_linear)\n",
    "plt.xlabel('Rented Bike Count (True Values)')\n",
    "plt.ylabel('Rented Bike Count (Predicted Values)')\n",
    "plt.title('Regresión Lineal - True vs. Predicted Rented Bike Count (Train)')\n",
    "plt.show()"
   ]
  },
  {
   "cell_type": "code",
   "execution_count": null,
   "id": "0e9f896b",
   "metadata": {},
   "outputs": [],
   "source": []
  },
  {
   "cell_type": "code",
   "execution_count": null,
   "id": "d2adaeeb",
   "metadata": {},
   "outputs": [],
   "source": []
  }
 ],
 "metadata": {
  "kernelspec": {
   "display_name": "Python 3 (ipykernel)",
   "language": "python",
   "name": "python3"
  },
  "language_info": {
   "codemirror_mode": {
    "name": "ipython",
    "version": 3
   },
   "file_extension": ".py",
   "mimetype": "text/x-python",
   "name": "python",
   "nbconvert_exporter": "python",
   "pygments_lexer": "ipython3",
   "version": "3.11.5"
  }
 },
 "nbformat": 4,
 "nbformat_minor": 5
}
