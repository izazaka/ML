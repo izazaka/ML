{
 "cells": [
  {
   "cell_type": "markdown",
   "id": "00fd4389",
   "metadata": {},
   "source": [
    "# Librabries "
   ]
  },
  {
   "cell_type": "code",
   "execution_count": 1,
   "id": "6d9355bf",
   "metadata": {},
   "outputs": [],
   "source": [
    "%matplotlib inline\n",
    "\n",
    "import pandas as pd\n",
    "\n",
    "import numpy as np\n",
    "\n",
    "import matplotlib.pyplot as plt\n",
    "\n",
    "import seaborn as sns\n",
    "\n",
    "from sklearn.model_selection import train_test_split, cross_val_score\n",
    "\n",
    "from sklearn import metrics\n",
    "\n",
    "from sklearn.preprocessing import MinMaxScaler\n",
    "\n",
    "from sklearn.metrics import mean_squared_error, r2_score\n",
    "\n",
    "from sklearn.metrics import classification_report\n",
    "\n",
    "from sklearn.metrics import accuracy_score\n",
    "\n",
    "from sklearn.model_selection import cross_val_score"
   ]
  },
  {
   "cell_type": "markdown",
   "id": "a23f5879",
   "metadata": {},
   "source": []
  },
  {
   "cell_type": "markdown",
   "id": "3651eb2d",
   "metadata": {},
   "source": [
    "# EDA"
   ]
  },
  {
   "cell_type": "code",
   "execution_count": 2,
   "id": "d0a7ffb6",
   "metadata": {},
   "outputs": [],
   "source": [
    "bike = pd.read_csv(\"Seoul_Bike.csv\")"
   ]
  },
  {
   "cell_type": "markdown",
   "id": "928b9638",
   "metadata": {},
   "source": [
    "DOI\n",
    "10.24432/C5F62R\n",
    "License\n",
    "This dataset is licensed under a Creative Commons Attribution 4.0 International (CC BY 4.0) license.\n",
    "This allows for the sharing and adaptation of the datasets for any purpose, provided that the appropriate credit is given.\n",
    "\n",
    "https://archive.ics.uci.edu/dataset/560/seoul+bike+sharing+demand\n"
   ]
  },
  {
   "cell_type": "markdown",
   "id": "77c7c5cc",
   "metadata": {},
   "source": [
    "@misc{misc_seoul_bike_sharing_demand_560,\n",
    "  title        = {{Seoul Bike Sharing Demand}},\n",
    "  year         = {2020},\n",
    "  howpublished = {UCI Machine Learning Repository},\n",
    "  note         = {{DOI}: https://doi.org/10.24432/C5F62R}\n",
    "}"
   ]
  },
  {
   "cell_type": "code",
   "execution_count": 3,
   "id": "0a3114db",
   "metadata": {},
   "outputs": [
    {
     "data": {
      "text/html": [
       "<div>\n",
       "<style scoped>\n",
       "    .dataframe tbody tr th:only-of-type {\n",
       "        vertical-align: middle;\n",
       "    }\n",
       "\n",
       "    .dataframe tbody tr th {\n",
       "        vertical-align: top;\n",
       "    }\n",
       "\n",
       "    .dataframe thead th {\n",
       "        text-align: right;\n",
       "    }\n",
       "</style>\n",
       "<table border=\"1\" class=\"dataframe\">\n",
       "  <thead>\n",
       "    <tr style=\"text-align: right;\">\n",
       "      <th></th>\n",
       "      <th>Date</th>\n",
       "      <th>Rented Bike Count</th>\n",
       "      <th>Hour</th>\n",
       "      <th>Temperature(°C)</th>\n",
       "      <th>Humidity(%)</th>\n",
       "      <th>Wind speed (m/s)</th>\n",
       "      <th>Visibility (10m)</th>\n",
       "      <th>Dew point temperature(°C)</th>\n",
       "      <th>Solar Radiation (MJ/m2)</th>\n",
       "      <th>Rainfall(mm)</th>\n",
       "      <th>Snowfall (cm)</th>\n",
       "      <th>Seasons</th>\n",
       "      <th>Holiday</th>\n",
       "      <th>Functioning Day</th>\n",
       "    </tr>\n",
       "  </thead>\n",
       "  <tbody>\n",
       "    <tr>\n",
       "      <th>0</th>\n",
       "      <td>01/12/2017</td>\n",
       "      <td>254</td>\n",
       "      <td>0</td>\n",
       "      <td>-5.2</td>\n",
       "      <td>37</td>\n",
       "      <td>2.2</td>\n",
       "      <td>2000</td>\n",
       "      <td>-17.6</td>\n",
       "      <td>0.0</td>\n",
       "      <td>0.0</td>\n",
       "      <td>0.0</td>\n",
       "      <td>Winter</td>\n",
       "      <td>No Holiday</td>\n",
       "      <td>Yes</td>\n",
       "    </tr>\n",
       "    <tr>\n",
       "      <th>1</th>\n",
       "      <td>01/12/2017</td>\n",
       "      <td>204</td>\n",
       "      <td>1</td>\n",
       "      <td>-5.5</td>\n",
       "      <td>38</td>\n",
       "      <td>0.8</td>\n",
       "      <td>2000</td>\n",
       "      <td>-17.6</td>\n",
       "      <td>0.0</td>\n",
       "      <td>0.0</td>\n",
       "      <td>0.0</td>\n",
       "      <td>Winter</td>\n",
       "      <td>No Holiday</td>\n",
       "      <td>Yes</td>\n",
       "    </tr>\n",
       "    <tr>\n",
       "      <th>2</th>\n",
       "      <td>01/12/2017</td>\n",
       "      <td>173</td>\n",
       "      <td>2</td>\n",
       "      <td>-6.0</td>\n",
       "      <td>39</td>\n",
       "      <td>1.0</td>\n",
       "      <td>2000</td>\n",
       "      <td>-17.7</td>\n",
       "      <td>0.0</td>\n",
       "      <td>0.0</td>\n",
       "      <td>0.0</td>\n",
       "      <td>Winter</td>\n",
       "      <td>No Holiday</td>\n",
       "      <td>Yes</td>\n",
       "    </tr>\n",
       "  </tbody>\n",
       "</table>\n",
       "</div>"
      ],
      "text/plain": [
       "         Date  Rented Bike Count  Hour  Temperature(°C)  Humidity(%)  \\\n",
       "0  01/12/2017                254     0             -5.2           37   \n",
       "1  01/12/2017                204     1             -5.5           38   \n",
       "2  01/12/2017                173     2             -6.0           39   \n",
       "\n",
       "   Wind speed (m/s)  Visibility (10m)  Dew point temperature(°C)  \\\n",
       "0               2.2              2000                      -17.6   \n",
       "1               0.8              2000                      -17.6   \n",
       "2               1.0              2000                      -17.7   \n",
       "\n",
       "   Solar Radiation (MJ/m2)  Rainfall(mm)  Snowfall (cm) Seasons     Holiday  \\\n",
       "0                      0.0           0.0            0.0  Winter  No Holiday   \n",
       "1                      0.0           0.0            0.0  Winter  No Holiday   \n",
       "2                      0.0           0.0            0.0  Winter  No Holiday   \n",
       "\n",
       "  Functioning Day  \n",
       "0             Yes  \n",
       "1             Yes  \n",
       "2             Yes  "
      ]
     },
     "execution_count": 3,
     "metadata": {},
     "output_type": "execute_result"
    }
   ],
   "source": [
    "bike.head(3)"
   ]
  },
  {
   "cell_type": "code",
   "execution_count": 4,
   "id": "365bd25f",
   "metadata": {},
   "outputs": [
    {
     "data": {
      "text/html": [
       "<div>\n",
       "<style scoped>\n",
       "    .dataframe tbody tr th:only-of-type {\n",
       "        vertical-align: middle;\n",
       "    }\n",
       "\n",
       "    .dataframe tbody tr th {\n",
       "        vertical-align: top;\n",
       "    }\n",
       "\n",
       "    .dataframe thead th {\n",
       "        text-align: right;\n",
       "    }\n",
       "</style>\n",
       "<table border=\"1\" class=\"dataframe\">\n",
       "  <thead>\n",
       "    <tr style=\"text-align: right;\">\n",
       "      <th></th>\n",
       "      <th>Date</th>\n",
       "      <th>Rented Bike Count</th>\n",
       "      <th>Hour</th>\n",
       "      <th>Temperature(°C)</th>\n",
       "      <th>Humidity(%)</th>\n",
       "      <th>Wind speed (m/s)</th>\n",
       "      <th>Visibility (10m)</th>\n",
       "      <th>Dew point temperature(°C)</th>\n",
       "      <th>Solar Radiation (MJ/m2)</th>\n",
       "      <th>Rainfall(mm)</th>\n",
       "      <th>Snowfall (cm)</th>\n",
       "      <th>Seasons</th>\n",
       "      <th>Holiday</th>\n",
       "      <th>Functioning Day</th>\n",
       "    </tr>\n",
       "  </thead>\n",
       "  <tbody>\n",
       "    <tr>\n",
       "      <th>8757</th>\n",
       "      <td>30/11/2018</td>\n",
       "      <td>694</td>\n",
       "      <td>21</td>\n",
       "      <td>2.6</td>\n",
       "      <td>39</td>\n",
       "      <td>0.3</td>\n",
       "      <td>1968</td>\n",
       "      <td>-9.9</td>\n",
       "      <td>0.0</td>\n",
       "      <td>0.0</td>\n",
       "      <td>0.0</td>\n",
       "      <td>Autumn</td>\n",
       "      <td>No Holiday</td>\n",
       "      <td>Yes</td>\n",
       "    </tr>\n",
       "    <tr>\n",
       "      <th>8758</th>\n",
       "      <td>30/11/2018</td>\n",
       "      <td>712</td>\n",
       "      <td>22</td>\n",
       "      <td>2.1</td>\n",
       "      <td>41</td>\n",
       "      <td>1.0</td>\n",
       "      <td>1859</td>\n",
       "      <td>-9.8</td>\n",
       "      <td>0.0</td>\n",
       "      <td>0.0</td>\n",
       "      <td>0.0</td>\n",
       "      <td>Autumn</td>\n",
       "      <td>No Holiday</td>\n",
       "      <td>Yes</td>\n",
       "    </tr>\n",
       "    <tr>\n",
       "      <th>8759</th>\n",
       "      <td>30/11/2018</td>\n",
       "      <td>584</td>\n",
       "      <td>23</td>\n",
       "      <td>1.9</td>\n",
       "      <td>43</td>\n",
       "      <td>1.3</td>\n",
       "      <td>1909</td>\n",
       "      <td>-9.3</td>\n",
       "      <td>0.0</td>\n",
       "      <td>0.0</td>\n",
       "      <td>0.0</td>\n",
       "      <td>Autumn</td>\n",
       "      <td>No Holiday</td>\n",
       "      <td>Yes</td>\n",
       "    </tr>\n",
       "  </tbody>\n",
       "</table>\n",
       "</div>"
      ],
      "text/plain": [
       "            Date  Rented Bike Count  Hour  Temperature(°C)  Humidity(%)  \\\n",
       "8757  30/11/2018                694    21              2.6           39   \n",
       "8758  30/11/2018                712    22              2.1           41   \n",
       "8759  30/11/2018                584    23              1.9           43   \n",
       "\n",
       "      Wind speed (m/s)  Visibility (10m)  Dew point temperature(°C)  \\\n",
       "8757               0.3              1968                       -9.9   \n",
       "8758               1.0              1859                       -9.8   \n",
       "8759               1.3              1909                       -9.3   \n",
       "\n",
       "      Solar Radiation (MJ/m2)  Rainfall(mm)  Snowfall (cm) Seasons  \\\n",
       "8757                      0.0           0.0            0.0  Autumn   \n",
       "8758                      0.0           0.0            0.0  Autumn   \n",
       "8759                      0.0           0.0            0.0  Autumn   \n",
       "\n",
       "         Holiday Functioning Day  \n",
       "8757  No Holiday             Yes  \n",
       "8758  No Holiday             Yes  \n",
       "8759  No Holiday             Yes  "
      ]
     },
     "execution_count": 4,
     "metadata": {},
     "output_type": "execute_result"
    }
   ],
   "source": [
    "bike.tail(3)"
   ]
  },
  {
   "cell_type": "code",
   "execution_count": 5,
   "id": "ce60c0ee",
   "metadata": {},
   "outputs": [
    {
     "data": {
      "text/plain": [
       "(8760, 14)"
      ]
     },
     "execution_count": 5,
     "metadata": {},
     "output_type": "execute_result"
    }
   ],
   "source": [
    "bike.shape"
   ]
  },
  {
   "cell_type": "code",
   "execution_count": 6,
   "id": "10c051a7",
   "metadata": {},
   "outputs": [
    {
     "data": {
      "text/html": [
       "<div>\n",
       "<style scoped>\n",
       "    .dataframe tbody tr th:only-of-type {\n",
       "        vertical-align: middle;\n",
       "    }\n",
       "\n",
       "    .dataframe tbody tr th {\n",
       "        vertical-align: top;\n",
       "    }\n",
       "\n",
       "    .dataframe thead th {\n",
       "        text-align: right;\n",
       "    }\n",
       "</style>\n",
       "<table border=\"1\" class=\"dataframe\">\n",
       "  <thead>\n",
       "    <tr style=\"text-align: right;\">\n",
       "      <th></th>\n",
       "      <th>Rented Bike Count</th>\n",
       "      <th>Hour</th>\n",
       "      <th>Temperature(°C)</th>\n",
       "      <th>Humidity(%)</th>\n",
       "      <th>Wind speed (m/s)</th>\n",
       "      <th>Visibility (10m)</th>\n",
       "      <th>Dew point temperature(°C)</th>\n",
       "      <th>Solar Radiation (MJ/m2)</th>\n",
       "      <th>Rainfall(mm)</th>\n",
       "      <th>Snowfall (cm)</th>\n",
       "    </tr>\n",
       "  </thead>\n",
       "  <tbody>\n",
       "    <tr>\n",
       "      <th>count</th>\n",
       "      <td>8760.000000</td>\n",
       "      <td>8760.000000</td>\n",
       "      <td>8760.000000</td>\n",
       "      <td>8760.000000</td>\n",
       "      <td>8760.000000</td>\n",
       "      <td>8760.000000</td>\n",
       "      <td>8760.000000</td>\n",
       "      <td>8760.000000</td>\n",
       "      <td>8760.000000</td>\n",
       "      <td>8760.000000</td>\n",
       "    </tr>\n",
       "    <tr>\n",
       "      <th>mean</th>\n",
       "      <td>704.602055</td>\n",
       "      <td>11.500000</td>\n",
       "      <td>12.882922</td>\n",
       "      <td>58.226256</td>\n",
       "      <td>1.724909</td>\n",
       "      <td>1436.825799</td>\n",
       "      <td>4.073813</td>\n",
       "      <td>0.569111</td>\n",
       "      <td>0.148687</td>\n",
       "      <td>0.075068</td>\n",
       "    </tr>\n",
       "    <tr>\n",
       "      <th>std</th>\n",
       "      <td>644.997468</td>\n",
       "      <td>6.922582</td>\n",
       "      <td>11.944825</td>\n",
       "      <td>20.362413</td>\n",
       "      <td>1.036300</td>\n",
       "      <td>608.298712</td>\n",
       "      <td>13.060369</td>\n",
       "      <td>0.868746</td>\n",
       "      <td>1.128193</td>\n",
       "      <td>0.436746</td>\n",
       "    </tr>\n",
       "    <tr>\n",
       "      <th>min</th>\n",
       "      <td>0.000000</td>\n",
       "      <td>0.000000</td>\n",
       "      <td>-17.800000</td>\n",
       "      <td>0.000000</td>\n",
       "      <td>0.000000</td>\n",
       "      <td>27.000000</td>\n",
       "      <td>-30.600000</td>\n",
       "      <td>0.000000</td>\n",
       "      <td>0.000000</td>\n",
       "      <td>0.000000</td>\n",
       "    </tr>\n",
       "    <tr>\n",
       "      <th>25%</th>\n",
       "      <td>191.000000</td>\n",
       "      <td>5.750000</td>\n",
       "      <td>3.500000</td>\n",
       "      <td>42.000000</td>\n",
       "      <td>0.900000</td>\n",
       "      <td>940.000000</td>\n",
       "      <td>-4.700000</td>\n",
       "      <td>0.000000</td>\n",
       "      <td>0.000000</td>\n",
       "      <td>0.000000</td>\n",
       "    </tr>\n",
       "    <tr>\n",
       "      <th>50%</th>\n",
       "      <td>504.500000</td>\n",
       "      <td>11.500000</td>\n",
       "      <td>13.700000</td>\n",
       "      <td>57.000000</td>\n",
       "      <td>1.500000</td>\n",
       "      <td>1698.000000</td>\n",
       "      <td>5.100000</td>\n",
       "      <td>0.010000</td>\n",
       "      <td>0.000000</td>\n",
       "      <td>0.000000</td>\n",
       "    </tr>\n",
       "    <tr>\n",
       "      <th>75%</th>\n",
       "      <td>1065.250000</td>\n",
       "      <td>17.250000</td>\n",
       "      <td>22.500000</td>\n",
       "      <td>74.000000</td>\n",
       "      <td>2.300000</td>\n",
       "      <td>2000.000000</td>\n",
       "      <td>14.800000</td>\n",
       "      <td>0.930000</td>\n",
       "      <td>0.000000</td>\n",
       "      <td>0.000000</td>\n",
       "    </tr>\n",
       "    <tr>\n",
       "      <th>max</th>\n",
       "      <td>3556.000000</td>\n",
       "      <td>23.000000</td>\n",
       "      <td>39.400000</td>\n",
       "      <td>98.000000</td>\n",
       "      <td>7.400000</td>\n",
       "      <td>2000.000000</td>\n",
       "      <td>27.200000</td>\n",
       "      <td>3.520000</td>\n",
       "      <td>35.000000</td>\n",
       "      <td>8.800000</td>\n",
       "    </tr>\n",
       "  </tbody>\n",
       "</table>\n",
       "</div>"
      ],
      "text/plain": [
       "       Rented Bike Count         Hour  Temperature(°C)  Humidity(%)  \\\n",
       "count        8760.000000  8760.000000      8760.000000  8760.000000   \n",
       "mean          704.602055    11.500000        12.882922    58.226256   \n",
       "std           644.997468     6.922582        11.944825    20.362413   \n",
       "min             0.000000     0.000000       -17.800000     0.000000   \n",
       "25%           191.000000     5.750000         3.500000    42.000000   \n",
       "50%           504.500000    11.500000        13.700000    57.000000   \n",
       "75%          1065.250000    17.250000        22.500000    74.000000   \n",
       "max          3556.000000    23.000000        39.400000    98.000000   \n",
       "\n",
       "       Wind speed (m/s)  Visibility (10m)  Dew point temperature(°C)  \\\n",
       "count       8760.000000       8760.000000                8760.000000   \n",
       "mean           1.724909       1436.825799                   4.073813   \n",
       "std            1.036300        608.298712                  13.060369   \n",
       "min            0.000000         27.000000                 -30.600000   \n",
       "25%            0.900000        940.000000                  -4.700000   \n",
       "50%            1.500000       1698.000000                   5.100000   \n",
       "75%            2.300000       2000.000000                  14.800000   \n",
       "max            7.400000       2000.000000                  27.200000   \n",
       "\n",
       "       Solar Radiation (MJ/m2)  Rainfall(mm)  Snowfall (cm)  \n",
       "count              8760.000000   8760.000000    8760.000000  \n",
       "mean                  0.569111      0.148687       0.075068  \n",
       "std                   0.868746      1.128193       0.436746  \n",
       "min                   0.000000      0.000000       0.000000  \n",
       "25%                   0.000000      0.000000       0.000000  \n",
       "50%                   0.010000      0.000000       0.000000  \n",
       "75%                   0.930000      0.000000       0.000000  \n",
       "max                   3.520000     35.000000       8.800000  "
      ]
     },
     "execution_count": 6,
     "metadata": {},
     "output_type": "execute_result"
    }
   ],
   "source": [
    "bike.describe()"
   ]
  },
  {
   "cell_type": "code",
   "execution_count": 7,
   "id": "1525f72d",
   "metadata": {},
   "outputs": [
    {
     "name": "stdout",
     "output_type": "stream",
     "text": [
      "<class 'pandas.core.frame.DataFrame'>\n",
      "RangeIndex: 8760 entries, 0 to 8759\n",
      "Data columns (total 14 columns):\n",
      " #   Column                     Non-Null Count  Dtype  \n",
      "---  ------                     --------------  -----  \n",
      " 0   Date                       8760 non-null   object \n",
      " 1   Rented Bike Count          8760 non-null   int64  \n",
      " 2   Hour                       8760 non-null   int64  \n",
      " 3   Temperature(°C)            8760 non-null   float64\n",
      " 4   Humidity(%)                8760 non-null   int64  \n",
      " 5   Wind speed (m/s)           8760 non-null   float64\n",
      " 6   Visibility (10m)           8760 non-null   int64  \n",
      " 7   Dew point temperature(°C)  8760 non-null   float64\n",
      " 8   Solar Radiation (MJ/m2)    8760 non-null   float64\n",
      " 9   Rainfall(mm)               8760 non-null   float64\n",
      " 10  Snowfall (cm)              8760 non-null   float64\n",
      " 11  Seasons                    8760 non-null   object \n",
      " 12  Holiday                    8760 non-null   object \n",
      " 13  Functioning Day            8760 non-null   object \n",
      "dtypes: float64(6), int64(4), object(4)\n",
      "memory usage: 958.3+ KB\n"
     ]
    }
   ],
   "source": [
    "bike.info()"
   ]
  },
  {
   "cell_type": "markdown",
   "id": "d554ad98",
   "metadata": {},
   "source": [
    "## Changing from categorical to numerical"
   ]
  },
  {
   "cell_type": "code",
   "execution_count": 8,
   "id": "49481691",
   "metadata": {},
   "outputs": [
    {
     "data": {
      "text/plain": [
       "array(['Winter', 'Spring', 'Summer', 'Autumn'], dtype=object)"
      ]
     },
     "execution_count": 8,
     "metadata": {},
     "output_type": "execute_result"
    }
   ],
   "source": [
    "bike[\"Seasons\"].unique()"
   ]
  },
  {
   "cell_type": "code",
   "execution_count": 9,
   "id": "71933fa1",
   "metadata": {},
   "outputs": [
    {
     "data": {
      "text/plain": [
       "array(['No Holiday', 'Holiday'], dtype=object)"
      ]
     },
     "execution_count": 9,
     "metadata": {},
     "output_type": "execute_result"
    }
   ],
   "source": [
    "bike[\"Holiday\"].unique()"
   ]
  },
  {
   "cell_type": "code",
   "execution_count": 10,
   "id": "9cddce80",
   "metadata": {},
   "outputs": [
    {
     "data": {
      "text/plain": [
       "array(['Yes', 'No'], dtype=object)"
      ]
     },
     "execution_count": 10,
     "metadata": {},
     "output_type": "execute_result"
    }
   ],
   "source": [
    "bike[\"Functioning Day\"].unique()"
   ]
  },
  {
   "cell_type": "code",
   "execution_count": 11,
   "id": "5b553529",
   "metadata": {},
   "outputs": [],
   "source": [
    "bike['Seasons'].replace('Winter', 0, inplace = True)\n",
    "bike['Seasons'].replace('Spring', 1, inplace = True)\n",
    "bike['Seasons'].replace('Summer', 2, inplace = True)\n",
    "bike['Seasons'].replace('Autumn', 3, inplace = True)"
   ]
  },
  {
   "cell_type": "code",
   "execution_count": 12,
   "id": "9b709716",
   "metadata": {},
   "outputs": [
    {
     "data": {
      "text/plain": [
       "8758    3\n",
       "8759    3\n",
       "Name: Seasons, dtype: int64"
      ]
     },
     "execution_count": 12,
     "metadata": {},
     "output_type": "execute_result"
    }
   ],
   "source": [
    "bike['Seasons'].tail(2)"
   ]
  },
  {
   "cell_type": "code",
   "execution_count": 13,
   "id": "4a633542",
   "metadata": {},
   "outputs": [],
   "source": [
    "bike[\"Holiday\"].replace('No Holiday', 0, inplace = True)\n",
    "bike[\"Holiday\"].replace('Holiday', 1, inplace = True)"
   ]
  },
  {
   "cell_type": "code",
   "execution_count": 14,
   "id": "168799a7",
   "metadata": {},
   "outputs": [
    {
     "data": {
      "text/plain": [
       "8758    0\n",
       "8759    0\n",
       "Name: Holiday, dtype: int64"
      ]
     },
     "execution_count": 14,
     "metadata": {},
     "output_type": "execute_result"
    }
   ],
   "source": [
    "bike[\"Holiday\"].tail(2)"
   ]
  },
  {
   "cell_type": "code",
   "execution_count": 15,
   "id": "2d461b05",
   "metadata": {},
   "outputs": [],
   "source": [
    "bike[\"Functioning Day\"].replace('No', 0, inplace = True)\n",
    "bike[\"Functioning Day\"].replace('Yes', 1, inplace = True)"
   ]
  },
  {
   "cell_type": "code",
   "execution_count": 16,
   "id": "de4649aa",
   "metadata": {},
   "outputs": [
    {
     "data": {
      "text/plain": [
       "8758    1\n",
       "8759    1\n",
       "Name: Functioning Day, dtype: int64"
      ]
     },
     "execution_count": 16,
     "metadata": {},
     "output_type": "execute_result"
    }
   ],
   "source": [
    "bike[\"Functioning Day\"].tail(2)"
   ]
  },
  {
   "cell_type": "markdown",
   "id": "3f5ded7f",
   "metadata": {},
   "source": []
  },
  {
   "cell_type": "markdown",
   "id": "9b8617ba",
   "metadata": {},
   "source": [
    "# Graphics "
   ]
  },
  {
   "cell_type": "markdown",
   "id": "96eb9c9e",
   "metadata": {},
   "source": [
    "sns.histplot(data = bike, y = \"Rented Bike Count\", x = \"Hour\")"
   ]
  },
  {
   "cell_type": "markdown",
   "id": "127d936a",
   "metadata": {},
   "source": [
    "sns.histplot(data = bike, x = \"Holiday\")"
   ]
  },
  {
   "cell_type": "markdown",
   "id": "b2c316cc",
   "metadata": {},
   "source": []
  },
  {
   "cell_type": "markdown",
   "id": "d1df2115",
   "metadata": {},
   "source": [
    "sns.histplot(data = bike, x = \"Functioning Day\")"
   ]
  },
  {
   "cell_type": "markdown",
   "id": "0dbb515f",
   "metadata": {},
   "source": []
  },
  {
   "cell_type": "markdown",
   "id": "f376b11a",
   "metadata": {
    "scrolled": false
   },
   "source": [
    "sns.histplot(data = bike, x = \"Rented Bike Count\")"
   ]
  },
  {
   "cell_type": "markdown",
   "id": "1feadf64",
   "metadata": {},
   "source": [
    "sns.histplot(data = bike, x = \"Temperature(°C)\")"
   ]
  },
  {
   "cell_type": "markdown",
   "id": "82b99c7e",
   "metadata": {},
   "source": [
    "sns.histplot(data = bike, x = \"Humidity(%)\")\n",
    "\n"
   ]
  },
  {
   "cell_type": "markdown",
   "id": "2203d8e1",
   "metadata": {},
   "source": [
    "sns.histplot(data = bike, x = \"Wind speed (m/s)\")\n",
    "\n"
   ]
  },
  {
   "cell_type": "markdown",
   "id": "5de16833",
   "metadata": {},
   "source": [
    "sns.histplot(data = bike, x = \"Visibility (10m)\")"
   ]
  },
  {
   "cell_type": "markdown",
   "id": "e0137213",
   "metadata": {},
   "source": [
    "sns.histplot(data = bike, x = \"Dew point temperature(°C)\")"
   ]
  },
  {
   "cell_type": "markdown",
   "id": "33c1c66b",
   "metadata": {},
   "source": [
    "sns.histplot(data = bike, x = \"Solar Radiation (MJ/m2)\")\n"
   ]
  },
  {
   "cell_type": "markdown",
   "id": "990af7c5",
   "metadata": {},
   "source": [
    "sns.histplot(data = bike, x = \"Rainfall(mm)\")"
   ]
  },
  {
   "cell_type": "markdown",
   "id": "d9a25fc4",
   "metadata": {},
   "source": [
    "sns.histplot(data = bike, x = \"Snowfall (cm)\")"
   ]
  },
  {
   "cell_type": "markdown",
   "id": "8a50d667",
   "metadata": {},
   "source": [
    "sns.histplot(data = bike, x = \"Seasons\")"
   ]
  },
  {
   "cell_type": "markdown",
   "id": "ca143f37",
   "metadata": {},
   "source": [
    "The bikes have been used equally throughout the seasons "
   ]
  },
  {
   "cell_type": "markdown",
   "id": "bd615d3f",
   "metadata": {},
   "source": [
    "The seasons have the same amount of observations but the number of rented bikes are different between seasons"
   ]
  },
  {
   "cell_type": "markdown",
   "id": "499c3c6e",
   "metadata": {},
   "source": [
    "bike.head(1)"
   ]
  },
  {
   "cell_type": "markdown",
   "id": "01c5857e",
   "metadata": {},
   "source": [
    "bike.plot(x = \"Temperature(°C)\", y = \"Rented Bike Count\", style = \"*\")\n",
    "plt.title(\"Rented Bike Count vs Temperature(°C)\")\n",
    "plt.xlabel(\"Temperature(°C)\")\n",
    "plt.ylabel(\"Rented Bike Count\")\n",
    "plt.show()"
   ]
  },
  {
   "cell_type": "markdown",
   "id": "2b69f363",
   "metadata": {},
   "source": [
    "bike.plot(x = \"Hour\", y = \"Rented Bike Count\", style = \"*\")\n",
    "plt.title(\"Rented Bike Count vs Hour\")\n",
    "plt.xlabel(\"Hour\")\n",
    "plt.ylabel(\"Rented Bike Count\")\n",
    "plt.show()"
   ]
  },
  {
   "cell_type": "markdown",
   "id": "7b2b932b",
   "metadata": {},
   "source": [
    "sns.histplot(data = bike, x = \"Seasons\", y = \"Rented Bike Count\")"
   ]
  },
  {
   "cell_type": "markdown",
   "id": "5d391499",
   "metadata": {},
   "source": [
    "('Winter', 0, inplace = True)\n",
    "('Spring', 1, inplace = True)\n",
    "('Summer', 2, inplace = True)\n",
    "('Autumn', 3, inplace = True)"
   ]
  },
  {
   "cell_type": "markdown",
   "id": "a98fd04f",
   "metadata": {},
   "source": [
    "sns.histplot(data = bike, x = \"Seasons\", y = \"Temperature(°C)\")"
   ]
  },
  {
   "cell_type": "markdown",
   "id": "da94a027",
   "metadata": {},
   "source": [
    "sns.boxplot(data = bike[\"Rented Bike Count\"])"
   ]
  },
  {
   "cell_type": "markdown",
   "id": "fd6f8453",
   "metadata": {},
   "source": [
    "sns.boxplot(data = bike[\"Temperature(°C)\"])"
   ]
  },
  {
   "cell_type": "markdown",
   "id": "cc6993fd",
   "metadata": {},
   "source": [
    " sns.boxplot(data = bike[\"Visibility (10m)\"])"
   ]
  },
  {
   "cell_type": "markdown",
   "id": "2e489789",
   "metadata": {},
   "source": []
  },
  {
   "cell_type": "markdown",
   "id": "82dc2cc5",
   "metadata": {},
   "source": [
    "# Correlation"
   ]
  },
  {
   "cell_type": "markdown",
   "id": "79341045",
   "metadata": {},
   "source": [
    "bike.head(3)"
   ]
  },
  {
   "cell_type": "markdown",
   "id": "a2ed2cf0",
   "metadata": {},
   "source": [
    "bike_d = bike.drop([\"Date\"], axis = 1)"
   ]
  },
  {
   "cell_type": "markdown",
   "id": "2133f829",
   "metadata": {},
   "source": [
    "bike_d.head(3)"
   ]
  },
  {
   "cell_type": "markdown",
   "id": "79b0ddcf",
   "metadata": {},
   "source": [
    "from statsmodels.stats.outliers_influence import variance_inflation_factor\n",
    "\n",
    "vif_data = pd.DataFrame()\n",
    "vif_data[\"Variable\"] = bike_d.columns\n",
    "vif_data[\"VIF\"] = [variance_inflation_factor(bike_d.values, i) for i in range(bike_d.shape[1])]\n",
    "print(vif_data)"
   ]
  },
  {
   "cell_type": "markdown",
   "id": "985cf2a9",
   "metadata": {},
   "source": [
    "corr_matrix = np.corrcoef(bike_d, rowvar = False)\n",
    "\n",
    "sns.heatmap(corr_matrix, annot = True, cmap = 'coolwarm', fmt = '.2f', \n",
    "            xticklabels = range(bike_d.shape[1]), yticklabels = range(bike_d.shape[1]))\n",
    "plt.title(\"Feature Correlation Matrix\")\n",
    "plt.show()"
   ]
  },
  {
   "cell_type": "markdown",
   "id": "47b0ce43",
   "metadata": {},
   "source": [
    "The highest correlations are between: \n",
    "- Rented Bike Count & Temperature(°C) = 0.54 (0 & 2)\n",
    "- Temperature(°C) & Dew point temperature(°C) = 0.91 (2 & 6)\n",
    "- Temperature(°C) & Seasons = 0.59 (2 & 10)\n",
    "- Humidity(%) & Visibility (10m) = 0.54 (3 & 5)\n",
    "- Humidity(%) & Dew point temperature(°C) = 0.54 (3 & 6)\n",
    "- Dew point temperature(°C) & Seasons = 0.58 (6 & 10)"
   ]
  },
  {
   "cell_type": "markdown",
   "id": "7aa9bd44",
   "metadata": {},
   "source": [
    "import numpy as np\n",
    "\n",
    "eigenvalues, _ = np.linalg.eig(corr_matrix)\n",
    "print(\"Eigenvalues:\", eigenvalues)\n"
   ]
  },
  {
   "cell_type": "markdown",
   "id": "3dfdfd9c",
   "metadata": {},
   "source": [
    "condition_number = np.sqrt(np.max(eigenvalues) / np.min(eigenvalues))\n",
    "print(\"Condition Number:\", condition_number)\n"
   ]
  },
  {
   "cell_type": "markdown",
   "id": "704c5049",
   "metadata": {},
   "source": [
    "def find_highly_correlated_vars(corr_matrix, threshold = 0.5):\n",
    "    if isinstance(corr_matrix, pd.DataFrame):\n",
    "        corr_matrix = corr_matrix.values\n",
    "    rows, cols = np.where(np.abs(corr_matrix) > threshold)\n",
    "    unique_pairs = set((min(r, c), max(r, c)) for r, c in zip(rows, cols) if r != c)\n",
    "    return list(unique_pairs)\n",
    "\n",
    "corr_matrix = bike_d.corr()\n",
    "highly_corr_vars = find_highly_correlated_vars(corr_matrix, threshold=0.5)\n",
    "\n",
    "print(\"Pairs of highly correlated variables:\", highly_corr_vars)"
   ]
  },
  {
   "cell_type": "markdown",
   "id": "96fd62d1",
   "metadata": {},
   "source": [
    "bike_d.head(1)"
   ]
  },
  {
   "cell_type": "markdown",
   "id": "96e110b4",
   "metadata": {
    "scrolled": false
   },
   "source": [
    "sns.pairplot(bike[[\"Rented Bike Count\", \"Temperature(°C)\"]])\n",
    "\n",
    "#sns.pairplot(bike[[\"Rented Bike Count\", \"Seasons\"]])\n",
    "\n",
    "sns.pairplot(bike[[\"Temperature(°C)\", \"Dew point temperature(°C)\"]])\n",
    "\n",
    "sns.pairplot(bike[[\"Temperature(°C)\", \"Seasons\"]])\n",
    "\n",
    "sns.pairplot(bike[[\"Humidity(%)\", \"Visibility (10m)\"]])\n",
    "\n",
    "sns.pairplot(bike[[\"Humidity(%)\", \"Dew point temperature(°C)\"]])\n",
    "\n",
    "sns.pairplot(bike[[\"Dew point temperature(°C)\", \"Seasons\"]])"
   ]
  },
  {
   "cell_type": "markdown",
   "id": "686a6bcf",
   "metadata": {},
   "source": [
    "Rented Bike Count & Temperature(°C) = 0.54 (0 & 2)\n",
    "\n",
    "Temperature(°C) & Dew point temperature(°C) = 0.91 (2 & 6)\n",
    "\n",
    "Temperature(°C) & Seasons = 0.59 (2 & 10)\n",
    "\n",
    "Humidity(%) & Visibility (10m) = 0.54 (3 & 5)\n",
    "\n",
    "Humidity(%) & Dew point temperature(°C) = 0.54 (3 & 6)\n",
    "Dew point temperature(°C) & Seasons = 0.58 (6 & 10"
   ]
  },
  {
   "cell_type": "markdown",
   "id": "f341a7b9",
   "metadata": {},
   "source": [
    "Multicollinearity"
   ]
  },
  {
   "cell_type": "code",
   "execution_count": 48,
   "id": "2e4a3862",
   "metadata": {},
   "outputs": [],
   "source": [
    "bike_array = bike_d.values"
   ]
  },
  {
   "cell_type": "code",
   "execution_count": 49,
   "id": "031a6c1e",
   "metadata": {},
   "outputs": [],
   "source": [
    "X = bike_array[:, 1:]\n",
    "\n",
    "y = bike_array[:, 0]"
   ]
  },
  {
   "cell_type": "code",
   "execution_count": 50,
   "id": "68998cc4",
   "metadata": {},
   "outputs": [
    {
     "data": {
      "text/plain": [
       "array([254., 204., 173., ..., 694., 712., 584.])"
      ]
     },
     "execution_count": 50,
     "metadata": {},
     "output_type": "execute_result"
    }
   ],
   "source": [
    "y"
   ]
  },
  {
   "cell_type": "code",
   "execution_count": 51,
   "id": "90223a12",
   "metadata": {},
   "outputs": [
    {
     "data": {
      "text/plain": [
       "array([[ 0. , -5.2, 37. , ...,  0. ,  0. ,  1. ],\n",
       "       [ 1. , -5.5, 38. , ...,  0. ,  0. ,  1. ],\n",
       "       [ 2. , -6. , 39. , ...,  0. ,  0. ,  1. ],\n",
       "       ...,\n",
       "       [21. ,  2.6, 39. , ...,  3. ,  0. ,  1. ],\n",
       "       [22. ,  2.1, 41. , ...,  3. ,  0. ,  1. ],\n",
       "       [23. ,  1.9, 43. , ...,  3. ,  0. ,  1. ]])"
      ]
     },
     "execution_count": 51,
     "metadata": {},
     "output_type": "execute_result"
    }
   ],
   "source": [
    "X"
   ]
  },
  {
   "cell_type": "code",
   "execution_count": null,
   "id": "23843f8f",
   "metadata": {},
   "outputs": [],
   "source": []
  },
  {
   "cell_type": "code",
   "execution_count": 52,
   "id": "f99706c2",
   "metadata": {},
   "outputs": [
    {
     "name": "stdout",
     "output_type": "stream",
     "text": [
      "                            OLS Regression Results                            \n",
      "==============================================================================\n",
      "Dep. Variable:                      y   R-squared:                       0.545\n",
      "Model:                            OLS   Adj. R-squared:                  0.544\n",
      "Method:                 Least Squares   F-statistic:                     871.6\n",
      "Date:                Sun, 26 Nov 2023   Prob (F-statistic):               0.00\n",
      "Time:                        09:32:48   Log-Likelihood:                -65655.\n",
      "No. Observations:                8760   AIC:                         1.313e+05\n",
      "Df Residuals:                    8747   BIC:                         1.314e+05\n",
      "Df Model:                          12                                         \n",
      "Covariance Type:            nonrobust                                         \n",
      "==============================================================================\n",
      "                 coef    std err          t      P>|t|      [0.025      0.975]\n",
      "------------------------------------------------------------------------------\n",
      "const       -335.7974     96.368     -3.485      0.000    -524.702    -146.893\n",
      "x1            27.4522      0.732     37.524      0.000      26.018      28.886\n",
      "x2            19.4339      3.649      5.326      0.000      12.281      26.587\n",
      "x3            -9.9012      1.033     -9.589      0.000     -11.925      -7.877\n",
      "x4            21.4400      5.121      4.187      0.000      11.402      31.478\n",
      "x5            -0.0063      0.010     -0.641      0.521      -0.025       0.013\n",
      "x6             7.3304      3.833      1.912      0.056      -0.184      14.845\n",
      "x7           -74.3133      7.619     -9.754      0.000     -89.248     -59.379\n",
      "x8           -59.3219      4.296    -13.809      0.000     -67.743     -50.901\n",
      "x9            16.2795     11.160      1.459      0.145      -5.596      38.155\n",
      "x10          108.9526      5.532     19.696      0.000      98.109     119.796\n",
      "x11         -126.7298     21.578     -5.873      0.000    -169.027     -84.432\n",
      "x12          916.1297     26.445     34.643      0.000     864.291     967.968\n",
      "==============================================================================\n",
      "Omnibus:                     1395.904   Durbin-Watson:                   0.503\n",
      "Prob(Omnibus):                  0.000   Jarque-Bera (JB):             2755.333\n",
      "Skew:                           0.978   Prob(JB):                         0.00\n",
      "Kurtosis:                       4.930   Cond. No.                     3.25e+04\n",
      "==============================================================================\n",
      "\n",
      "Notes:\n",
      "[1] Standard Errors assume that the covariance matrix of the errors is correctly specified.\n",
      "[2] The condition number is large, 3.25e+04. This might indicate that there are\n",
      "strong multicollinearity or other numerical problems.\n"
     ]
    }
   ],
   "source": [
    "import statsmodels.api as sm\n",
    "\n",
    "# Assuming X is your feature matrix and y is your target variable\n",
    "\n",
    "# Add a constant to the feature matrix (for intercept)\n",
    "X_with_constant = sm.add_constant(X)\n",
    "\n",
    "# Fit the OLS model\n",
    "model = sm.OLS(y, X_with_constant).fit()\n",
    "\n",
    "# Summary of the regression results\n",
    "print(model.summary())\n"
   ]
  },
  {
   "cell_type": "code",
   "execution_count": null,
   "id": "0eeb5dfe",
   "metadata": {},
   "outputs": [],
   "source": []
  },
  {
   "cell_type": "code",
   "execution_count": 53,
   "id": "898ac511",
   "metadata": {},
   "outputs": [],
   "source": [
    "X_train, X_test, y_train, y_test = train_test_split(X, y, test_size = 0.2, random_state = 12)"
   ]
  },
  {
   "cell_type": "code",
   "execution_count": 54,
   "id": "20e33953",
   "metadata": {},
   "outputs": [
    {
     "data": {
      "text/plain": [
       "((8760, 12), (8760,), (7008, 12), (1752, 12), (7008,), (1752,))"
      ]
     },
     "execution_count": 54,
     "metadata": {},
     "output_type": "execute_result"
    }
   ],
   "source": [
    "X.shape, y.shape, X_train.shape, X_test.shape, y_train.shape, y_test.shape"
   ]
  },
  {
   "cell_type": "code",
   "execution_count": 55,
   "id": "aea68f3d",
   "metadata": {},
   "outputs": [],
   "source": [
    "scaler = MinMaxScaler()\n",
    "\n",
    "scaler.fit(X_train)\n",
    "\n",
    "X_train_scaled = scaler.transform(X_train)\n",
    "\n",
    "X_test_scaled  = scaler.transform(X_test)\n",
    "\n",
    "X_scaled = scaler.transform(X)"
   ]
  },
  {
   "cell_type": "markdown",
   "id": "82fd98e1",
   "metadata": {},
   "source": [
    "# PCA"
   ]
  },
  {
   "cell_type": "markdown",
   "id": "42ff06dc",
   "metadata": {},
   "source": [
    "from sklearn.decomposition import PCA"
   ]
  },
  {
   "cell_type": "markdown",
   "id": "bebef52b",
   "metadata": {},
   "source": [
    "pca = PCA()\n",
    "\n",
    "pca.fit(X_scaled)"
   ]
  },
  {
   "cell_type": "markdown",
   "id": "ee88badd",
   "metadata": {},
   "source": [
    "variance = pca.explained_variance_ratio_\n",
    "\n",
    "var = np.cumsum(np.round(pca.explained_variance_ratio_, decimals = 3)*100)\n",
    "\n"
   ]
  },
  {
   "cell_type": "markdown",
   "id": "1d82f1fb",
   "metadata": {},
   "source": [
    "plt.figure()\n",
    "plt.plot(np.cumsum(pca.explained_variance_ratio_))\n",
    "plt.xlabel(\"Number of Components\")\n",
    "plt.xticks(np.arange(0, 13, 1), fontsize = 15)\n",
    "plt.ylabel(\"Variance (%)\")\n",
    "plt.yticks(np.arange(0.90, 1.0, 0.05), fontsize = 15)\n",
    "#plt.xticks(np.arange(0, 24, 5), fontsize = 15, rotation = 0, ha = 'center')\n",
    "plt.title(\"Train Dataset Explained Variance\")\n",
    "plt.show()"
   ]
  },
  {
   "cell_type": "markdown",
   "id": "39d9fb9b",
   "metadata": {},
   "source": [
    "pca = PCA(n_components = 6)\n",
    "\n",
    "bike_pca = pca.fit_transform(X_scaled)"
   ]
  },
  {
   "cell_type": "markdown",
   "id": "7a5b6551",
   "metadata": {},
   "source": [
    "bike_pca = pd.DataFrame(bike_pca)\n",
    "\n",
    "bike_pca.head()"
   ]
  },
  {
   "cell_type": "markdown",
   "id": "bfac47ad",
   "metadata": {},
   "source": [
    "bike_concat = pd.concat([bike_pca, rbc], axis = 1)\n",
    "\n",
    "bike_concat.head()"
   ]
  },
  {
   "cell_type": "markdown",
   "id": "b554df59",
   "metadata": {},
   "source": [
    "bike_array = bike_concat.values"
   ]
  },
  {
   "cell_type": "markdown",
   "id": "40f0c842",
   "metadata": {},
   "source": [
    "X = bike_array[:,0:6]\n",
    "\n",
    "y = bike_array[:,6]"
   ]
  },
  {
   "cell_type": "markdown",
   "id": "b1b4e5d7",
   "metadata": {},
   "source": [
    "y"
   ]
  },
  {
   "cell_type": "markdown",
   "id": "1a582e53",
   "metadata": {},
   "source": [
    "X"
   ]
  },
  {
   "cell_type": "markdown",
   "id": "addd7e5b",
   "metadata": {},
   "source": [
    "X_train, X_test, y_train, y_test = train_test_split(X, y, test_size = 0.2, random_state = 12)"
   ]
  },
  {
   "cell_type": "markdown",
   "id": "0dd61888",
   "metadata": {},
   "source": [
    "X.shape, y.shape, X_train.shape, X_test.shape, y_train.shape, y_test.shape"
   ]
  },
  {
   "cell_type": "markdown",
   "id": "74fe5b3d",
   "metadata": {},
   "source": [
    "# Models"
   ]
  },
  {
   "cell_type": "markdown",
   "id": "590b4100",
   "metadata": {},
   "source": [
    "# Linear Regression"
   ]
  },
  {
   "cell_type": "code",
   "execution_count": 56,
   "id": "5c2a959c",
   "metadata": {},
   "outputs": [],
   "source": [
    "from sklearn.linear_model import LinearRegression"
   ]
  },
  {
   "cell_type": "code",
   "execution_count": 57,
   "id": "35d12d92",
   "metadata": {},
   "outputs": [
    {
     "name": "stdout",
     "output_type": "stream",
     "text": [
      "Mean Squared Error: 185842.69668292036\n",
      "Root Mean Squared Error: 431.09476531607334\n",
      "R-squared: 0.5401567583588167\n",
      "Adjusted R-squared: 0.536983602004766\n"
     ]
    }
   ],
   "source": [
    "linear_reg = LinearRegression()\n",
    "\n",
    "linear_reg.fit(X_train_scaled, y_train)\n",
    "\n",
    "yp_lr = linear_reg.predict(X_test_scaled)\n",
    "\n",
    "mse = mean_squared_error(y_test, yp_lr)\n",
    "mse_r = mean_squared_error(y_test, yp_lr, squared = False)\n",
    "r2 = r2_score(y_test, yp_lr)\n",
    "\n",
    "n = len(y_test)\n",
    "k = X_train_scaled.shape[1]\n",
    "adj_r2 = 1 - ((1 - r2) * (n - 1) / (n - k - 1))\n",
    "\n",
    "print(f'Mean Squared Error: {mse}')\n",
    "print(f'Root Mean Squared Error: {mse_r}')\n",
    "print(f'R-squared: {r2}')\n",
    "print(f'Adjusted R-squared: {adj_r2}')"
   ]
  },
  {
   "cell_type": "code",
   "execution_count": 58,
   "id": "2b395788",
   "metadata": {},
   "outputs": [
    {
     "name": "stdout",
     "output_type": "stream",
     "text": [
      "Training MSE: 190458.54514326117\n",
      "Validation MSE: 185842.69668292036\n"
     ]
    }
   ],
   "source": [
    "train_pred = linear_reg.predict(X_train_scaled)\n",
    "test_pred = linear_reg.predict(X_test_scaled)\n",
    "\n",
    "from sklearn.metrics import mean_squared_error, r2_score\n",
    "\n",
    "train_mse = mean_squared_error(y_train, train_pred)\n",
    "test_mse = mean_squared_error(y_test, test_pred)\n",
    "\n",
    "print(f'Training MSE: {train_mse}')\n",
    "print(f'Validation MSE: {test_mse}')"
   ]
  },
  {
   "cell_type": "code",
   "execution_count": 59,
   "id": "f64f323c",
   "metadata": {},
   "outputs": [
    {
     "name": "stdout",
     "output_type": "stream",
     "text": [
      "Huber Loss: [629.0940898  270.01464979 672.25497044 ...  68.04103483  32.85476287\n",
      "  18.68046059]\n",
      "Mean Huber Loss: 316.29980294918016\n"
     ]
    }
   ],
   "source": [
    "import tensorflow as tf\n",
    "def huber_loss(y_test, yp_lr, delta=1.0):\n",
    "    error = y_test - yp_lr\n",
    "    condition = tf.abs(error) < delta\n",
    "    squared_loss = 0.5 * tf.square(error)\n",
    "    linear_loss = delta * (tf.abs(error) - 0.5 * delta)\n",
    "    return tf.where(condition, squared_loss, linear_loss)\n",
    "\n",
    "loss = huber_loss(y_test, yp_lr, delta=1.0)\n",
    "print(\"Huber Loss:\", loss.numpy())\n",
    "\n",
    "mean_huber_loss = np.mean(loss)\n",
    "print(f\"Mean Huber Loss: {mean_huber_loss}\")"
   ]
  },
  {
   "cell_type": "code",
   "execution_count": 60,
   "id": "297a10e1",
   "metadata": {},
   "outputs": [
    {
     "data": {
      "text/plain": [
       "0.5341206624410259"
      ]
     },
     "execution_count": 60,
     "metadata": {},
     "output_type": "execute_result"
    }
   ],
   "source": [
    "score_l = cross_val_score(LinearRegression(), X_test_scaled, y_test, cv = 5, scoring = 'r2').mean()\n",
    "score_l"
   ]
  },
  {
   "cell_type": "code",
   "execution_count": 61,
   "id": "7bb2d981",
   "metadata": {},
   "outputs": [
    {
     "data": {
      "text/html": [
       "<div>\n",
       "<style scoped>\n",
       "    .dataframe tbody tr th:only-of-type {\n",
       "        vertical-align: middle;\n",
       "    }\n",
       "\n",
       "    .dataframe tbody tr th {\n",
       "        vertical-align: top;\n",
       "    }\n",
       "\n",
       "    .dataframe thead th {\n",
       "        text-align: right;\n",
       "    }\n",
       "</style>\n",
       "<table border=\"1\" class=\"dataframe\">\n",
       "  <thead>\n",
       "    <tr style=\"text-align: right;\">\n",
       "      <th></th>\n",
       "      <th>Actual</th>\n",
       "      <th>Predicted</th>\n",
       "    </tr>\n",
       "  </thead>\n",
       "  <tbody>\n",
       "    <tr>\n",
       "      <th>0</th>\n",
       "      <td>278.0</td>\n",
       "      <td>907.594090</td>\n",
       "    </tr>\n",
       "    <tr>\n",
       "      <th>1</th>\n",
       "      <td>96.0</td>\n",
       "      <td>-174.514650</td>\n",
       "    </tr>\n",
       "    <tr>\n",
       "      <th>2</th>\n",
       "      <td>215.0</td>\n",
       "      <td>887.754970</td>\n",
       "    </tr>\n",
       "    <tr>\n",
       "      <th>3</th>\n",
       "      <td>1290.0</td>\n",
       "      <td>1209.507621</td>\n",
       "    </tr>\n",
       "    <tr>\n",
       "      <th>4</th>\n",
       "      <td>165.0</td>\n",
       "      <td>635.190941</td>\n",
       "    </tr>\n",
       "  </tbody>\n",
       "</table>\n",
       "</div>"
      ],
      "text/plain": [
       "   Actual    Predicted\n",
       "0   278.0   907.594090\n",
       "1    96.0  -174.514650\n",
       "2   215.0   887.754970\n",
       "3  1290.0  1209.507621\n",
       "4   165.0   635.190941"
      ]
     },
     "execution_count": 61,
     "metadata": {},
     "output_type": "execute_result"
    }
   ],
   "source": [
    "pred = pd.DataFrame({'Actual': y_test, 'Predicted': yp_lr})\n",
    "pred.head()"
   ]
  },
  {
   "cell_type": "markdown",
   "id": "0dc2c325",
   "metadata": {},
   "source": [
    "## Polynomial 2 and 3"
   ]
  },
  {
   "cell_type": "code",
   "execution_count": 62,
   "id": "34597a64",
   "metadata": {},
   "outputs": [],
   "source": [
    "from sklearn.preprocessing import PolynomialFeatures"
   ]
  },
  {
   "cell_type": "code",
   "execution_count": 63,
   "id": "2de30d74",
   "metadata": {},
   "outputs": [
    {
     "name": "stdout",
     "output_type": "stream",
     "text": [
      "Mean Squared Error: 132761.75680633067\n",
      "Root Mean Squared Error: 364.3648676894229\n",
      "R-squared: 0.6714985430933418\n",
      "Adjusted R-squared: 0.669231713028431\n"
     ]
    }
   ],
   "source": [
    "poly_features = PolynomialFeatures(degree = 2)\n",
    "\n",
    "X_train_poly = poly_features.fit_transform(X_train_scaled)\n",
    "X_test_poly = poly_features.transform(X_test_scaled)\n",
    "\n",
    "poly_reg = LinearRegression()\n",
    "poly_reg.fit(X_train_poly, y_train)\n",
    "\n",
    "yp_p2 = poly_reg.predict(X_test_poly)\n",
    "\n",
    "mse = mean_squared_error(y_test, yp_p2)\n",
    "mse_r = mean_squared_error(y_test, yp_p2, squared = False)\n",
    "r2 = r2_score(y_test, yp_p2)\n",
    "\n",
    "n = len(y_test)\n",
    "k = X_train_scaled.shape[1]  # Number of features\n",
    "adj_r2 = 1 - ((1 - r2) * (n - 1) / (n - k - 1))\n",
    "\n",
    "print(f'Mean Squared Error: {mse}')\n",
    "print(f'Root Mean Squared Error: {mse_r}')\n",
    "print(f'R-squared: {r2}')\n",
    "print(f'Adjusted R-squared: {adj_r2}')"
   ]
  },
  {
   "cell_type": "code",
   "execution_count": 64,
   "id": "c28660de",
   "metadata": {},
   "outputs": [
    {
     "data": {
      "text/plain": [
       "0.5341206624410259"
      ]
     },
     "execution_count": 64,
     "metadata": {},
     "output_type": "execute_result"
    }
   ],
   "source": [
    "score_lp2 = cross_val_score(poly_reg, X_test_scaled, y_test, cv = 5, scoring = 'r2').mean()\n",
    "score_lp2"
   ]
  },
  {
   "cell_type": "code",
   "execution_count": 65,
   "id": "0268788d",
   "metadata": {},
   "outputs": [
    {
     "data": {
      "text/html": [
       "<div>\n",
       "<style scoped>\n",
       "    .dataframe tbody tr th:only-of-type {\n",
       "        vertical-align: middle;\n",
       "    }\n",
       "\n",
       "    .dataframe tbody tr th {\n",
       "        vertical-align: top;\n",
       "    }\n",
       "\n",
       "    .dataframe thead th {\n",
       "        text-align: right;\n",
       "    }\n",
       "</style>\n",
       "<table border=\"1\" class=\"dataframe\">\n",
       "  <thead>\n",
       "    <tr style=\"text-align: right;\">\n",
       "      <th></th>\n",
       "      <th>Actual</th>\n",
       "      <th>Predicted</th>\n",
       "    </tr>\n",
       "  </thead>\n",
       "  <tbody>\n",
       "    <tr>\n",
       "      <th>0</th>\n",
       "      <td>278.0</td>\n",
       "      <td>552.851686</td>\n",
       "    </tr>\n",
       "    <tr>\n",
       "      <th>1</th>\n",
       "      <td>96.0</td>\n",
       "      <td>-123.371865</td>\n",
       "    </tr>\n",
       "    <tr>\n",
       "      <th>2</th>\n",
       "      <td>215.0</td>\n",
       "      <td>866.315405</td>\n",
       "    </tr>\n",
       "    <tr>\n",
       "      <th>3</th>\n",
       "      <td>1290.0</td>\n",
       "      <td>1483.687897</td>\n",
       "    </tr>\n",
       "    <tr>\n",
       "      <th>4</th>\n",
       "      <td>165.0</td>\n",
       "      <td>118.160562</td>\n",
       "    </tr>\n",
       "  </tbody>\n",
       "</table>\n",
       "</div>"
      ],
      "text/plain": [
       "   Actual    Predicted\n",
       "0   278.0   552.851686\n",
       "1    96.0  -123.371865\n",
       "2   215.0   866.315405\n",
       "3  1290.0  1483.687897\n",
       "4   165.0   118.160562"
      ]
     },
     "execution_count": 65,
     "metadata": {},
     "output_type": "execute_result"
    }
   ],
   "source": [
    "pred_p2 = pd.DataFrame({'Actual': y_test, 'Predicted': yp_p2})\n",
    "pred_p2.head()"
   ]
  },
  {
   "cell_type": "code",
   "execution_count": 66,
   "id": "f5aed552",
   "metadata": {},
   "outputs": [
    {
     "name": "stdout",
     "output_type": "stream",
     "text": [
      "Mean Squared Error: 5755289.859001542\n",
      "R-squared: -13.240705675205177\n"
     ]
    }
   ],
   "source": [
    "degree = 3\n",
    "poly_features = PolynomialFeatures(degree=degree)\n",
    "\n",
    "X_train_poly = poly_features.fit_transform(X_train_scaled)\n",
    "X_test_poly = poly_features.transform(X_test_scaled)\n",
    "\n",
    "poly_reg = LinearRegression()\n",
    "poly_reg.fit(X_train_poly, y_train)\n",
    "\n",
    "yp_p3 = poly_reg.predict(X_test_poly)\n",
    "\n",
    "mse = mean_squared_error(y_test, yp_p3)\n",
    "r2 = r2_score(y_test, yp_p3)\n",
    "\n",
    "print(f'Mean Squared Error: {mse}')\n",
    "print(f'R-squared: {r2}')"
   ]
  },
  {
   "cell_type": "markdown",
   "id": "0a86ab62",
   "metadata": {},
   "source": [
    "## Ridge"
   ]
  },
  {
   "cell_type": "code",
   "execution_count": 67,
   "id": "4102f4b3",
   "metadata": {},
   "outputs": [
    {
     "name": "stdout",
     "output_type": "stream",
     "text": [
      "Mean Squared Error (Ridge): 186019.2179265123\n",
      "R-squared (Ridge): 0.5397199798234172\n"
     ]
    }
   ],
   "source": [
    "from sklearn.linear_model import Ridge\n",
    "\n",
    "ridge_reg = Ridge(alpha=1.0)  # Adjust alpha based on the strength of regularization\n",
    "ridge_reg.fit(X_train_scaled, y_train)\n",
    "\n",
    "yp_lnR = ridge_reg.predict(X_test_scaled)\n",
    "\n",
    "mse = mean_squared_error(y_test, yp_lnR)\n",
    "r2 = r2_score(y_test, yp_lnR)\n",
    "\n",
    "print(f'Mean Squared Error (Ridge): {mse}')\n",
    "print(f'R-squared (Ridge): {r2}')"
   ]
  },
  {
   "cell_type": "code",
   "execution_count": 68,
   "id": "64ba5acc",
   "metadata": {},
   "outputs": [
    {
     "data": {
      "text/html": [
       "<div>\n",
       "<style scoped>\n",
       "    .dataframe tbody tr th:only-of-type {\n",
       "        vertical-align: middle;\n",
       "    }\n",
       "\n",
       "    .dataframe tbody tr th {\n",
       "        vertical-align: top;\n",
       "    }\n",
       "\n",
       "    .dataframe thead th {\n",
       "        text-align: right;\n",
       "    }\n",
       "</style>\n",
       "<table border=\"1\" class=\"dataframe\">\n",
       "  <thead>\n",
       "    <tr style=\"text-align: right;\">\n",
       "      <th></th>\n",
       "      <th>Actual</th>\n",
       "      <th>Predicted</th>\n",
       "    </tr>\n",
       "  </thead>\n",
       "  <tbody>\n",
       "    <tr>\n",
       "      <th>0</th>\n",
       "      <td>278.0</td>\n",
       "      <td>905.527146</td>\n",
       "    </tr>\n",
       "    <tr>\n",
       "      <th>1</th>\n",
       "      <td>96.0</td>\n",
       "      <td>-178.881010</td>\n",
       "    </tr>\n",
       "    <tr>\n",
       "      <th>2</th>\n",
       "      <td>215.0</td>\n",
       "      <td>886.750411</td>\n",
       "    </tr>\n",
       "    <tr>\n",
       "      <th>3</th>\n",
       "      <td>1290.0</td>\n",
       "      <td>1205.119259</td>\n",
       "    </tr>\n",
       "    <tr>\n",
       "      <th>4</th>\n",
       "      <td>165.0</td>\n",
       "      <td>629.988721</td>\n",
       "    </tr>\n",
       "  </tbody>\n",
       "</table>\n",
       "</div>"
      ],
      "text/plain": [
       "   Actual    Predicted\n",
       "0   278.0   905.527146\n",
       "1    96.0  -178.881010\n",
       "2   215.0   886.750411\n",
       "3  1290.0  1205.119259\n",
       "4   165.0   629.988721"
      ]
     },
     "execution_count": 68,
     "metadata": {},
     "output_type": "execute_result"
    }
   ],
   "source": [
    "pred_lnR = pd.DataFrame({'Actual': y_test, 'Predicted': yp_lnR})\n",
    "pred_lnR.head()"
   ]
  },
  {
   "cell_type": "code",
   "execution_count": 69,
   "id": "05ceb1dd",
   "metadata": {},
   "outputs": [
    {
     "name": "stdout",
     "output_type": "stream",
     "text": [
      "Mean Squared Error (Ridge): 144139.33694178428\n",
      "Root Mean Squared Error: 379.65686737076715\n",
      "R-squared (Ridge): 0.6433462216682719\n",
      "Adjusted R-squared: 0.5365438094714223\n"
     ]
    }
   ],
   "source": [
    "degree = 2\n",
    "\n",
    "poly = PolynomialFeatures(degree=degree, include_bias=False)\n",
    "X_train_poly = poly.fit_transform(X_train_scaled)\n",
    "X_test_poly = poly.transform(X_test_scaled)\n",
    "\n",
    "ridge_reg2 = Ridge(alpha = 10.0) \n",
    "ridge_reg2.fit(X_train_poly, y_train)\n",
    "\n",
    "yp_rp2 = ridge_reg2.predict(X_test_poly)\n",
    "\n",
    "mse_ridge = mean_squared_error(y_test, yp_rp2)\n",
    "mse_ridge_r = mean_squared_error(y_test, yp_rp2, squared = False)\n",
    "r2_ridge = r2_score(y_test, yp_rp2)\n",
    "\n",
    "n = len(y_test)\n",
    "k = X_train_scaled.shape[1]  \n",
    "adj_r2 = 1 - ((1 - r2) * (n - 1) / (n - k - 1))\n",
    "\n",
    "print(f'Mean Squared Error (Ridge): {mse_ridge}')\n",
    "print(f'Root Mean Squared Error: {mse_ridge_r}')\n",
    "print(f'R-squared (Ridge): {r2_ridge}')\n",
    "print(f'Adjusted R-squared: {adj_r2}')"
   ]
  },
  {
   "cell_type": "code",
   "execution_count": 70,
   "id": "833cbaac",
   "metadata": {},
   "outputs": [
    {
     "data": {
      "text/plain": [
       "0.5186486637938877"
      ]
     },
     "execution_count": 70,
     "metadata": {},
     "output_type": "execute_result"
    }
   ],
   "source": [
    "score_rp2 = cross_val_score(ridge_reg2, X_test_scaled, y_test, cv = 5, scoring = 'r2').mean()\n",
    "score_rp2"
   ]
  },
  {
   "cell_type": "code",
   "execution_count": 71,
   "id": "44e36eb8",
   "metadata": {},
   "outputs": [
    {
     "name": "stdout",
     "output_type": "stream",
     "text": [
      "Training MSE: 151023.888653889\n",
      "Validation MSE: 144139.33694178428\n",
      "Huber Loss: [386.93637803  14.42920058 570.71982699 ... 144.18735183  70.69270944\n",
      "  60.18537088]\n",
      "Mean Huber Loss: 272.2005880263161\n"
     ]
    }
   ],
   "source": [
    "train_pred = ridge_reg2.predict(X_train_poly)\n",
    "test_pred = ridge_reg2.predict(X_test_poly)\n",
    "\n",
    "from sklearn.metrics import mean_squared_error, r2_score\n",
    "\n",
    "train_mse = mean_squared_error(y_train, train_pred)\n",
    "test_mse = mean_squared_error(y_test, test_pred)\n",
    "\n",
    "print(f'Training MSE: {train_mse}')\n",
    "print(f'Validation MSE: {test_mse}')\n",
    "\n",
    "import tensorflow as tf\n",
    "def huber_loss(y_test, yp_rp2, delta = 1.0):\n",
    "    error = y_test - yp_rp2\n",
    "    condition = tf.abs(error) < delta\n",
    "    squared_loss = 0.5 * tf.square(error)\n",
    "    linear_loss = delta * (tf.abs(error) - 0.5 * delta)\n",
    "    return tf.where(condition, squared_loss, linear_loss)\n",
    "\n",
    "loss = huber_loss(y_test, yp_rp2, delta = 1.0)\n",
    "print(\"Huber Loss:\", loss.numpy())\n",
    "\n",
    "mean_huber_loss = np.mean(loss)\n",
    "print(f\"Mean Huber Loss: {mean_huber_loss}\")"
   ]
  },
  {
   "cell_type": "markdown",
   "id": "ec8b581e",
   "metadata": {},
   "source": [
    "## Lasso"
   ]
  },
  {
   "cell_type": "code",
   "execution_count": 72,
   "id": "8e1e9c71",
   "metadata": {},
   "outputs": [
    {
     "name": "stdout",
     "output_type": "stream",
     "text": [
      "Mean Squared Error (Lasso): 187257.83532533856\n",
      "R-squared (Lasso): 0.5366551844346523\n"
     ]
    }
   ],
   "source": [
    "from sklearn.linear_model import Lasso\n",
    "\n",
    "lasso_reg = Lasso(alpha=1.0) \n",
    "lasso_reg.fit(X_train_scaled, y_train)\n",
    "\n",
    "yp_lnL = lasso_reg.predict(X_test_scaled)\n",
    "\n",
    "mse = mean_squared_error(y_test, yp_lnL)\n",
    "r2 = r2_score(y_test, yp_lnL)\n",
    "\n",
    "print(f'Mean Squared Error (Lasso): {mse}')\n",
    "print(f'R-squared (Lasso): {r2}')"
   ]
  },
  {
   "cell_type": "code",
   "execution_count": 73,
   "id": "d5922ae0",
   "metadata": {},
   "outputs": [
    {
     "name": "stdout",
     "output_type": "stream",
     "text": [
      "Mean Squared Error (Lasso): 177484.92741340806\n",
      "R-squared (Lasso): 0.5608369560872153\n"
     ]
    }
   ],
   "source": [
    "degree = 2\n",
    "\n",
    "poly = PolynomialFeatures(degree=degree, include_bias=False)\n",
    "X_train_poly = poly.fit_transform(X_train_scaled)\n",
    "X_test_poly = poly.transform(X_test_scaled)\n",
    " \n",
    "lasso_reg = Lasso(alpha = 10.0, max_iter = 100000)\n",
    "lasso_reg.fit(X_train_poly, y_train)\n",
    "\n",
    "yp_lp2 = lasso_reg.predict(X_test_poly)\n",
    "\n",
    "mse_lasso = mean_squared_error(y_test, yp_lp2)\n",
    "r2_lasso = r2_score(y_test, yp_lp2)\n",
    "\n",
    "print(f'Mean Squared Error (Lasso): {mse_lasso}')\n",
    "print(f'R-squared (Lasso): {r2_lasso}')"
   ]
  },
  {
   "cell_type": "code",
   "execution_count": null,
   "id": "99933654",
   "metadata": {},
   "outputs": [],
   "source": []
  },
  {
   "cell_type": "code",
   "execution_count": null,
   "id": "30277b04",
   "metadata": {},
   "outputs": [],
   "source": []
  },
  {
   "cell_type": "code",
   "execution_count": null,
   "id": "434908e8",
   "metadata": {},
   "outputs": [],
   "source": []
  },
  {
   "cell_type": "markdown",
   "id": "fd85fb6b",
   "metadata": {},
   "source": [
    "# Random Forest"
   ]
  },
  {
   "cell_type": "code",
   "execution_count": 74,
   "id": "be5d6dc6",
   "metadata": {},
   "outputs": [],
   "source": [
    "from sklearn.ensemble import RandomForestRegressor"
   ]
  },
  {
   "cell_type": "code",
   "execution_count": 75,
   "id": "c38de7ad",
   "metadata": {},
   "outputs": [
    {
     "name": "stdout",
     "output_type": "stream",
     "text": [
      "Best Hyperparameters: {'max_depth': 20, 'min_samples_leaf': 1, 'n_estimators': 200}\n",
      "Mean Squared Error: 47854.67287351166\n",
      "Root Mean Squared Error: 218.7571093096443\n",
      "R-squared (Best Model): 0.8815899236579663\n",
      "Adjusted R-squared: 0.5334578654083244\n"
     ]
    }
   ],
   "source": [
    "from sklearn.model_selection import GridSearchCV\n",
    "\n",
    "param_grid = {\n",
    "    'n_estimators': [50, 100, 200],\n",
    "    'max_depth': [None, 10, 20],\n",
    "    'min_samples_leaf': [1, 2, 4]\n",
    "}\n",
    "\n",
    "grid_search = GridSearchCV(RandomForestRegressor(random_state = 12), param_grid, cv = 5, scoring = 'r2')\n",
    "grid_search.fit(X_train_scaled, y_train)\n",
    "\n",
    "best_params = grid_search.best_params_\n",
    "best_model = grid_search.best_estimator_\n",
    "\n",
    "y_pred_best = best_model.predict(X_test_scaled)\n",
    "mse = mean_squared_error(y_test, y_pred_best)\n",
    "mse_r = mean_squared_error(y_test, y_pred_best, squared = False)\n",
    "r2_best = r2_score(y_test, y_pred_best)\n",
    "\n",
    "n = len(y_test)\n",
    "k = X_train_scaled.shape[1]  \n",
    "adj_r2 = 1 - ((1 - r2) * (n - 1) / (n - k - 1))\n",
    "\n",
    "print(f'Best Hyperparameters: {best_params}')\n",
    "print(f'Mean Squared Error: {mse}')\n",
    "print(f'Root Mean Squared Error: {mse_r}')\n",
    "print(f'R-squared (Best Model): {r2_best}')\n",
    "print(f'Adjusted R-squared: {adj_r2}')"
   ]
  },
  {
   "cell_type": "code",
   "execution_count": 76,
   "id": "71731a18",
   "metadata": {},
   "outputs": [
    {
     "data": {
      "text/plain": [
       "0.8370468983350395"
      ]
     },
     "execution_count": 76,
     "metadata": {},
     "output_type": "execute_result"
    }
   ],
   "source": [
    "score_rf = cross_val_score(RandomForestRegressor(max_depth = 20,\n",
    "                                              min_samples_leaf = 1, \n",
    "                                              n_estimators = 200,\n",
    "                                              random_state = 12), X_test_scaled, y_test, \n",
    "                           cv = 10, scoring = 'r2').mean()\n",
    "score_rf"
   ]
  },
  {
   "cell_type": "code",
   "execution_count": 77,
   "id": "0214ede1",
   "metadata": {},
   "outputs": [
    {
     "data": {
      "text/html": [
       "<div>\n",
       "<style scoped>\n",
       "    .dataframe tbody tr th:only-of-type {\n",
       "        vertical-align: middle;\n",
       "    }\n",
       "\n",
       "    .dataframe tbody tr th {\n",
       "        vertical-align: top;\n",
       "    }\n",
       "\n",
       "    .dataframe thead th {\n",
       "        text-align: right;\n",
       "    }\n",
       "</style>\n",
       "<table border=\"1\" class=\"dataframe\">\n",
       "  <thead>\n",
       "    <tr style=\"text-align: right;\">\n",
       "      <th></th>\n",
       "      <th>Actual</th>\n",
       "      <th>Predicted</th>\n",
       "    </tr>\n",
       "  </thead>\n",
       "  <tbody>\n",
       "    <tr>\n",
       "      <th>0</th>\n",
       "      <td>278.0</td>\n",
       "      <td>366.867507</td>\n",
       "    </tr>\n",
       "    <tr>\n",
       "      <th>1</th>\n",
       "      <td>96.0</td>\n",
       "      <td>102.960000</td>\n",
       "    </tr>\n",
       "    <tr>\n",
       "      <th>2</th>\n",
       "      <td>215.0</td>\n",
       "      <td>222.148692</td>\n",
       "    </tr>\n",
       "  </tbody>\n",
       "</table>\n",
       "</div>"
      ],
      "text/plain": [
       "   Actual   Predicted\n",
       "0   278.0  366.867507\n",
       "1    96.0  102.960000\n",
       "2   215.0  222.148692"
      ]
     },
     "execution_count": 77,
     "metadata": {},
     "output_type": "execute_result"
    }
   ],
   "source": [
    "pred_rf = pd.DataFrame({'Actual': y_test, 'Predicted': y_pred_best})\n",
    "pred_rf.head(3)"
   ]
  },
  {
   "cell_type": "code",
   "execution_count": null,
   "id": "592c5f08",
   "metadata": {},
   "outputs": [],
   "source": []
  },
  {
   "cell_type": "code",
   "execution_count": 78,
   "id": "4e6c07b7",
   "metadata": {},
   "outputs": [
    {
     "name": "stdout",
     "output_type": "stream",
     "text": [
      "Training MSE: 7595.403739927417\n",
      "Validation MSE: 47854.67287351166\n",
      "Huber Loss: [ 88.36750667   6.46         6.64869158 ... 260.91113889 105.60333333\n",
      "  41.38697024]\n",
      "Mean Huber Loss: 135.31223651408155\n"
     ]
    }
   ],
   "source": [
    "train_pred = best_model.predict(X_train_scaled)\n",
    "test_pred = best_model.predict(X_test_scaled)\n",
    "\n",
    "from sklearn.metrics import mean_squared_error, r2_score\n",
    "\n",
    "train_mse = mean_squared_error(y_train, train_pred)\n",
    "test_mse = mean_squared_error(y_test, test_pred)\n",
    "\n",
    "print(f'Training MSE: {train_mse}')\n",
    "print(f'Validation MSE: {test_mse}')\n",
    "\n",
    "import tensorflow as tf\n",
    "def huber_loss(y_test, y_pred_best, delta = 1.0):\n",
    "    error = y_test - y_pred_best\n",
    "    condition = tf.abs(error) < delta\n",
    "    squared_loss = 0.5 * tf.square(error)\n",
    "    linear_loss = delta * (tf.abs(error) - 0.5 * delta)\n",
    "    return tf.where(condition, squared_loss, linear_loss)\n",
    "\n",
    "loss = huber_loss(y_test, y_pred_best, delta = 1.0)\n",
    "print(\"Huber Loss:\", loss.numpy())\n",
    "\n",
    "mean_huber_loss = np.mean(loss)\n",
    "print(f\"Mean Huber Loss: {mean_huber_loss}\")"
   ]
  },
  {
   "cell_type": "markdown",
   "id": "fb174594",
   "metadata": {},
   "source": [
    "## overfitting here "
   ]
  },
  {
   "cell_type": "code",
   "execution_count": null,
   "id": "bf4915d0",
   "metadata": {},
   "outputs": [],
   "source": []
  },
  {
   "cell_type": "code",
   "execution_count": null,
   "id": "b16b412d",
   "metadata": {},
   "outputs": [],
   "source": []
  },
  {
   "cell_type": "markdown",
   "id": "2d6d7853",
   "metadata": {},
   "source": [
    "# ANN"
   ]
  },
  {
   "cell_type": "code",
   "execution_count": 79,
   "id": "665034be",
   "metadata": {},
   "outputs": [
    {
     "name": "stdout",
     "output_type": "stream",
     "text": [
      "Requirement already satisfied: tensorflow in /Users/izaiaszacca/anaconda3/lib/python3.11/site-packages (2.15.0)\n",
      "Requirement already satisfied: tensorflow-macos==2.15.0 in /Users/izaiaszacca/anaconda3/lib/python3.11/site-packages (from tensorflow) (2.15.0)\n",
      "Requirement already satisfied: absl-py>=1.0.0 in /Users/izaiaszacca/anaconda3/lib/python3.11/site-packages (from tensorflow-macos==2.15.0->tensorflow) (2.0.0)\n",
      "Requirement already satisfied: astunparse>=1.6.0 in /Users/izaiaszacca/anaconda3/lib/python3.11/site-packages (from tensorflow-macos==2.15.0->tensorflow) (1.6.3)\n",
      "Requirement already satisfied: flatbuffers>=23.5.26 in /Users/izaiaszacca/anaconda3/lib/python3.11/site-packages (from tensorflow-macos==2.15.0->tensorflow) (23.5.26)\n",
      "Requirement already satisfied: gast!=0.5.0,!=0.5.1,!=0.5.2,>=0.2.1 in /Users/izaiaszacca/anaconda3/lib/python3.11/site-packages (from tensorflow-macos==2.15.0->tensorflow) (0.5.4)\n",
      "Requirement already satisfied: google-pasta>=0.1.1 in /Users/izaiaszacca/anaconda3/lib/python3.11/site-packages (from tensorflow-macos==2.15.0->tensorflow) (0.2.0)\n",
      "Requirement already satisfied: h5py>=2.9.0 in /Users/izaiaszacca/anaconda3/lib/python3.11/site-packages (from tensorflow-macos==2.15.0->tensorflow) (3.9.0)\n",
      "Requirement already satisfied: libclang>=13.0.0 in /Users/izaiaszacca/anaconda3/lib/python3.11/site-packages (from tensorflow-macos==2.15.0->tensorflow) (16.0.6)\n",
      "Requirement already satisfied: ml-dtypes~=0.2.0 in /Users/izaiaszacca/anaconda3/lib/python3.11/site-packages (from tensorflow-macos==2.15.0->tensorflow) (0.2.0)\n",
      "Requirement already satisfied: numpy<2.0.0,>=1.23.5 in /Users/izaiaszacca/anaconda3/lib/python3.11/site-packages (from tensorflow-macos==2.15.0->tensorflow) (1.24.3)\n",
      "Requirement already satisfied: opt-einsum>=2.3.2 in /Users/izaiaszacca/anaconda3/lib/python3.11/site-packages (from tensorflow-macos==2.15.0->tensorflow) (3.3.0)\n",
      "Requirement already satisfied: packaging in /Users/izaiaszacca/anaconda3/lib/python3.11/site-packages (from tensorflow-macos==2.15.0->tensorflow) (23.1)\n",
      "Requirement already satisfied: protobuf!=4.21.0,!=4.21.1,!=4.21.2,!=4.21.3,!=4.21.4,!=4.21.5,<5.0.0dev,>=3.20.3 in /Users/izaiaszacca/anaconda3/lib/python3.11/site-packages (from tensorflow-macos==2.15.0->tensorflow) (4.23.4)\n",
      "Requirement already satisfied: setuptools in /Users/izaiaszacca/anaconda3/lib/python3.11/site-packages (from tensorflow-macos==2.15.0->tensorflow) (68.0.0)\n",
      "Requirement already satisfied: six>=1.12.0 in /Users/izaiaszacca/anaconda3/lib/python3.11/site-packages (from tensorflow-macos==2.15.0->tensorflow) (1.16.0)\n",
      "Requirement already satisfied: termcolor>=1.1.0 in /Users/izaiaszacca/anaconda3/lib/python3.11/site-packages (from tensorflow-macos==2.15.0->tensorflow) (2.3.0)\n",
      "Requirement already satisfied: typing-extensions>=3.6.6 in /Users/izaiaszacca/anaconda3/lib/python3.11/site-packages (from tensorflow-macos==2.15.0->tensorflow) (4.7.1)\n",
      "Requirement already satisfied: wrapt<1.15,>=1.11.0 in /Users/izaiaszacca/anaconda3/lib/python3.11/site-packages (from tensorflow-macos==2.15.0->tensorflow) (1.14.1)\n",
      "Requirement already satisfied: tensorflow-io-gcs-filesystem>=0.23.1 in /Users/izaiaszacca/anaconda3/lib/python3.11/site-packages (from tensorflow-macos==2.15.0->tensorflow) (0.34.0)\n",
      "Requirement already satisfied: grpcio<2.0,>=1.24.3 in /Users/izaiaszacca/anaconda3/lib/python3.11/site-packages (from tensorflow-macos==2.15.0->tensorflow) (1.59.3)\n",
      "Requirement already satisfied: tensorboard<2.16,>=2.15 in /Users/izaiaszacca/anaconda3/lib/python3.11/site-packages (from tensorflow-macos==2.15.0->tensorflow) (2.15.1)\n",
      "Requirement already satisfied: tensorflow-estimator<2.16,>=2.15.0 in /Users/izaiaszacca/anaconda3/lib/python3.11/site-packages (from tensorflow-macos==2.15.0->tensorflow) (2.15.0)\n",
      "Requirement already satisfied: keras<2.16,>=2.15.0 in /Users/izaiaszacca/anaconda3/lib/python3.11/site-packages (from tensorflow-macos==2.15.0->tensorflow) (2.15.0)\n",
      "Requirement already satisfied: wheel<1.0,>=0.23.0 in /Users/izaiaszacca/anaconda3/lib/python3.11/site-packages (from astunparse>=1.6.0->tensorflow-macos==2.15.0->tensorflow) (0.38.4)\n",
      "Requirement already satisfied: google-auth<3,>=1.6.3 in /Users/izaiaszacca/anaconda3/lib/python3.11/site-packages (from tensorboard<2.16,>=2.15->tensorflow-macos==2.15.0->tensorflow) (2.23.4)\n",
      "Requirement already satisfied: google-auth-oauthlib<2,>=0.5 in /Users/izaiaszacca/anaconda3/lib/python3.11/site-packages (from tensorboard<2.16,>=2.15->tensorflow-macos==2.15.0->tensorflow) (1.1.0)\n",
      "Requirement already satisfied: markdown>=2.6.8 in /Users/izaiaszacca/anaconda3/lib/python3.11/site-packages (from tensorboard<2.16,>=2.15->tensorflow-macos==2.15.0->tensorflow) (3.4.1)\n",
      "Requirement already satisfied: requests<3,>=2.21.0 in /Users/izaiaszacca/anaconda3/lib/python3.11/site-packages (from tensorboard<2.16,>=2.15->tensorflow-macos==2.15.0->tensorflow) (2.31.0)\n",
      "Requirement already satisfied: tensorboard-data-server<0.8.0,>=0.7.0 in /Users/izaiaszacca/anaconda3/lib/python3.11/site-packages (from tensorboard<2.16,>=2.15->tensorflow-macos==2.15.0->tensorflow) (0.7.2)\n",
      "Requirement already satisfied: werkzeug>=1.0.1 in /Users/izaiaszacca/anaconda3/lib/python3.11/site-packages (from tensorboard<2.16,>=2.15->tensorflow-macos==2.15.0->tensorflow) (2.2.3)\n",
      "Requirement already satisfied: cachetools<6.0,>=2.0.0 in /Users/izaiaszacca/anaconda3/lib/python3.11/site-packages (from google-auth<3,>=1.6.3->tensorboard<2.16,>=2.15->tensorflow-macos==2.15.0->tensorflow) (5.3.2)\n",
      "Requirement already satisfied: pyasn1-modules>=0.2.1 in /Users/izaiaszacca/anaconda3/lib/python3.11/site-packages (from google-auth<3,>=1.6.3->tensorboard<2.16,>=2.15->tensorflow-macos==2.15.0->tensorflow) (0.2.8)\n",
      "Requirement already satisfied: rsa<5,>=3.1.4 in /Users/izaiaszacca/anaconda3/lib/python3.11/site-packages (from google-auth<3,>=1.6.3->tensorboard<2.16,>=2.15->tensorflow-macos==2.15.0->tensorflow) (4.9)\n",
      "Requirement already satisfied: requests-oauthlib>=0.7.0 in /Users/izaiaszacca/anaconda3/lib/python3.11/site-packages (from google-auth-oauthlib<2,>=0.5->tensorboard<2.16,>=2.15->tensorflow-macos==2.15.0->tensorflow) (1.3.1)\n",
      "Requirement already satisfied: charset-normalizer<4,>=2 in /Users/izaiaszacca/anaconda3/lib/python3.11/site-packages (from requests<3,>=2.21.0->tensorboard<2.16,>=2.15->tensorflow-macos==2.15.0->tensorflow) (2.0.4)\n",
      "Requirement already satisfied: idna<4,>=2.5 in /Users/izaiaszacca/anaconda3/lib/python3.11/site-packages (from requests<3,>=2.21.0->tensorboard<2.16,>=2.15->tensorflow-macos==2.15.0->tensorflow) (3.4)\n",
      "Requirement already satisfied: urllib3<3,>=1.21.1 in /Users/izaiaszacca/anaconda3/lib/python3.11/site-packages (from requests<3,>=2.21.0->tensorboard<2.16,>=2.15->tensorflow-macos==2.15.0->tensorflow) (1.26.16)\n",
      "Requirement already satisfied: certifi>=2017.4.17 in /Users/izaiaszacca/anaconda3/lib/python3.11/site-packages (from requests<3,>=2.21.0->tensorboard<2.16,>=2.15->tensorflow-macos==2.15.0->tensorflow) (2023.7.22)\n",
      "Requirement already satisfied: MarkupSafe>=2.1.1 in /Users/izaiaszacca/anaconda3/lib/python3.11/site-packages (from werkzeug>=1.0.1->tensorboard<2.16,>=2.15->tensorflow-macos==2.15.0->tensorflow) (2.1.1)\n",
      "Requirement already satisfied: pyasn1<0.5.0,>=0.4.6 in /Users/izaiaszacca/anaconda3/lib/python3.11/site-packages (from pyasn1-modules>=0.2.1->google-auth<3,>=1.6.3->tensorboard<2.16,>=2.15->tensorflow-macos==2.15.0->tensorflow) (0.4.8)\n",
      "Requirement already satisfied: oauthlib>=3.0.0 in /Users/izaiaszacca/anaconda3/lib/python3.11/site-packages (from requests-oauthlib>=0.7.0->google-auth-oauthlib<2,>=0.5->tensorboard<2.16,>=2.15->tensorflow-macos==2.15.0->tensorflow) (3.2.2)\n",
      "Requirement already satisfied: keras in /Users/izaiaszacca/anaconda3/lib/python3.11/site-packages (2.15.0)\n"
     ]
    }
   ],
   "source": [
    " !pip install tensorflow\n",
    " !pip install keras"
   ]
  },
  {
   "cell_type": "code",
   "execution_count": 80,
   "id": "16fec597",
   "metadata": {},
   "outputs": [],
   "source": [
    "import numpy as np\n",
    "import tensorflow as tf\n",
    "from tensorflow import keras"
   ]
  },
  {
   "cell_type": "code",
   "execution_count": 81,
   "id": "d5178b1d",
   "metadata": {},
   "outputs": [
    {
     "name": "stdout",
     "output_type": "stream",
     "text": [
      "Epoch 1/300\n",
      "88/88 [==============================] - 0s 1ms/step - loss: 906404.6875 - val_loss: 867447.1250\n",
      "Epoch 2/300\n",
      "88/88 [==============================] - 0s 551us/step - loss: 565983.6875 - val_loss: 341771.3125\n",
      "Epoch 3/300\n",
      "88/88 [==============================] - 0s 582us/step - loss: 330338.8125 - val_loss: 320344.5000\n",
      "Epoch 4/300\n",
      "88/88 [==============================] - 0s 572us/step - loss: 307212.0938 - val_loss: 296779.3750\n",
      "Epoch 5/300\n",
      "88/88 [==============================] - 0s 585us/step - loss: 281653.3438 - val_loss: 270689.7500\n",
      "Epoch 6/300\n",
      "88/88 [==============================] - 0s 570us/step - loss: 256232.1875 - val_loss: 247311.5938\n",
      "Epoch 7/300\n",
      "88/88 [==============================] - 0s 604us/step - loss: 235507.5781 - val_loss: 229681.6250\n",
      "Epoch 8/300\n",
      "88/88 [==============================] - 0s 567us/step - loss: 220261.0781 - val_loss: 215795.4062\n",
      "Epoch 9/300\n",
      "88/88 [==============================] - 0s 560us/step - loss: 208179.6094 - val_loss: 203969.3438\n",
      "Epoch 10/300\n",
      "88/88 [==============================] - 0s 610us/step - loss: 197806.5938 - val_loss: 196371.0625\n",
      "Epoch 11/300\n",
      "88/88 [==============================] - 0s 939us/step - loss: 188650.1250 - val_loss: 188135.3438\n",
      "Epoch 12/300\n",
      "88/88 [==============================] - 0s 670us/step - loss: 180845.3438 - val_loss: 177809.5469\n",
      "Epoch 13/300\n",
      "88/88 [==============================] - 0s 564us/step - loss: 174283.3906 - val_loss: 170495.5469\n",
      "Epoch 14/300\n",
      "88/88 [==============================] - 0s 546us/step - loss: 169713.5625 - val_loss: 166765.0625\n",
      "Epoch 15/300\n",
      "88/88 [==============================] - 0s 546us/step - loss: 165876.0156 - val_loss: 161454.9219\n",
      "Epoch 16/300\n",
      "88/88 [==============================] - 0s 569us/step - loss: 163763.6875 - val_loss: 158414.5781\n",
      "Epoch 17/300\n",
      "88/88 [==============================] - 0s 604us/step - loss: 160027.3906 - val_loss: 155482.8594\n",
      "Epoch 18/300\n",
      "88/88 [==============================] - 0s 595us/step - loss: 159465.8906 - val_loss: 155981.2344\n",
      "Epoch 19/300\n",
      "88/88 [==============================] - 0s 587us/step - loss: 156892.7500 - val_loss: 156752.5156\n",
      "Epoch 20/300\n",
      "88/88 [==============================] - 0s 579us/step - loss: 155364.0000 - val_loss: 149694.7656\n",
      "Epoch 21/300\n",
      "88/88 [==============================] - 0s 579us/step - loss: 153186.5156 - val_loss: 148450.4531\n",
      "Epoch 22/300\n",
      "88/88 [==============================] - 0s 568us/step - loss: 152393.3438 - val_loss: 148025.5625\n",
      "Epoch 23/300\n",
      "88/88 [==============================] - 0s 567us/step - loss: 151851.6875 - val_loss: 146352.2812\n",
      "Epoch 24/300\n",
      "88/88 [==============================] - 0s 552us/step - loss: 150546.0781 - val_loss: 145485.9531\n",
      "Epoch 25/300\n",
      "88/88 [==============================] - 0s 571us/step - loss: 150266.5625 - val_loss: 143250.8125\n",
      "Epoch 26/300\n",
      "88/88 [==============================] - 0s 574us/step - loss: 148160.8750 - val_loss: 143366.9688\n",
      "Epoch 27/300\n",
      "88/88 [==============================] - 0s 536us/step - loss: 147996.0312 - val_loss: 141035.5469\n",
      "Epoch 28/300\n",
      "88/88 [==============================] - 0s 548us/step - loss: 147153.1094 - val_loss: 139900.8438\n",
      "Epoch 29/300\n",
      "88/88 [==============================] - 0s 542us/step - loss: 146001.8281 - val_loss: 139070.8750\n",
      "Epoch 30/300\n",
      "88/88 [==============================] - 0s 588us/step - loss: 144704.9688 - val_loss: 138239.4844\n",
      "Epoch 31/300\n",
      "88/88 [==============================] - 0s 539us/step - loss: 144130.1875 - val_loss: 137636.2656\n",
      "Epoch 32/300\n",
      "88/88 [==============================] - 0s 550us/step - loss: 143671.6719 - val_loss: 138318.9375\n",
      "Epoch 33/300\n",
      "88/88 [==============================] - 0s 552us/step - loss: 143222.5938 - val_loss: 136450.8281\n",
      "Epoch 34/300\n",
      "88/88 [==============================] - 0s 589us/step - loss: 145621.2656 - val_loss: 137569.6406\n",
      "Epoch 35/300\n",
      "88/88 [==============================] - 0s 579us/step - loss: 141027.4062 - val_loss: 135874.2188\n",
      "Epoch 36/300\n",
      "88/88 [==============================] - 0s 585us/step - loss: 140683.8906 - val_loss: 133271.3438\n",
      "Epoch 37/300\n",
      "88/88 [==============================] - 0s 578us/step - loss: 139761.9062 - val_loss: 136109.6094\n",
      "Epoch 38/300\n",
      "88/88 [==============================] - 0s 596us/step - loss: 139341.3281 - val_loss: 132188.8438\n",
      "Epoch 39/300\n",
      "88/88 [==============================] - 0s 659us/step - loss: 139469.7500 - val_loss: 131044.8125\n",
      "Epoch 40/300\n",
      "88/88 [==============================] - 0s 638us/step - loss: 137854.6094 - val_loss: 131055.6016\n",
      "Epoch 41/300\n",
      "88/88 [==============================] - 0s 623us/step - loss: 137047.0000 - val_loss: 130164.5000\n",
      "Epoch 42/300\n",
      "88/88 [==============================] - 0s 627us/step - loss: 136851.2500 - val_loss: 129011.1484\n",
      "Epoch 43/300\n",
      "88/88 [==============================] - 0s 625us/step - loss: 135818.7500 - val_loss: 128151.2031\n",
      "Epoch 44/300\n",
      "88/88 [==============================] - 0s 614us/step - loss: 136220.5000 - val_loss: 127360.7266\n",
      "Epoch 45/300\n",
      "88/88 [==============================] - 0s 640us/step - loss: 135119.4531 - val_loss: 127042.3984\n",
      "Epoch 46/300\n",
      "88/88 [==============================] - 0s 620us/step - loss: 134195.7656 - val_loss: 126284.7500\n",
      "Epoch 47/300\n",
      "88/88 [==============================] - 0s 604us/step - loss: 132601.7344 - val_loss: 129303.3281\n",
      "Epoch 48/300\n",
      "88/88 [==============================] - 0s 622us/step - loss: 134207.9375 - val_loss: 124696.1562\n",
      "Epoch 49/300\n",
      "88/88 [==============================] - 0s 619us/step - loss: 131443.1562 - val_loss: 123807.6328\n",
      "Epoch 50/300\n",
      "88/88 [==============================] - 0s 766us/step - loss: 132398.5625 - val_loss: 124364.8984\n",
      "Epoch 51/300\n",
      "88/88 [==============================] - 0s 714us/step - loss: 130595.3203 - val_loss: 123452.7969\n",
      "Epoch 52/300\n",
      "88/88 [==============================] - 0s 595us/step - loss: 130387.8281 - val_loss: 122142.8047\n",
      "Epoch 53/300\n",
      "88/88 [==============================] - 0s 587us/step - loss: 129051.1953 - val_loss: 122610.9688\n",
      "Epoch 54/300\n",
      "88/88 [==============================] - 0s 623us/step - loss: 129741.0391 - val_loss: 120345.3047\n",
      "Epoch 55/300\n",
      "88/88 [==============================] - 0s 580us/step - loss: 128851.5078 - val_loss: 119743.3125\n",
      "Epoch 56/300\n",
      "88/88 [==============================] - 0s 579us/step - loss: 127735.5859 - val_loss: 119098.6250\n",
      "Epoch 57/300\n",
      "88/88 [==============================] - 0s 588us/step - loss: 126844.5781 - val_loss: 119008.6641\n",
      "Epoch 58/300\n",
      "88/88 [==============================] - 0s 570us/step - loss: 126737.6719 - val_loss: 120514.1719\n",
      "Epoch 59/300\n",
      "88/88 [==============================] - 0s 578us/step - loss: 126410.5391 - val_loss: 117345.3906\n",
      "Epoch 60/300\n",
      "88/88 [==============================] - 0s 590us/step - loss: 125216.3438 - val_loss: 116976.4531\n",
      "Epoch 61/300\n",
      "88/88 [==============================] - 0s 568us/step - loss: 125083.0781 - val_loss: 117134.4922\n",
      "Epoch 62/300\n",
      "88/88 [==============================] - 0s 574us/step - loss: 125351.5234 - val_loss: 115827.4922\n",
      "Epoch 63/300\n",
      "88/88 [==============================] - 0s 559us/step - loss: 123926.5625 - val_loss: 119770.6562\n",
      "Epoch 64/300\n",
      "88/88 [==============================] - 0s 554us/step - loss: 123714.7656 - val_loss: 117223.6797\n",
      "Epoch 65/300\n",
      "88/88 [==============================] - 0s 563us/step - loss: 122213.6484 - val_loss: 114450.2109\n",
      "Epoch 66/300\n",
      "88/88 [==============================] - 0s 549us/step - loss: 122511.7188 - val_loss: 113653.6719\n",
      "Epoch 67/300\n",
      "88/88 [==============================] - 0s 552us/step - loss: 121898.9922 - val_loss: 118489.8594\n",
      "Epoch 68/300\n",
      "88/88 [==============================] - 0s 590us/step - loss: 121270.0234 - val_loss: 113936.7422\n",
      "Epoch 69/300\n",
      "88/88 [==============================] - 0s 582us/step - loss: 120381.1328 - val_loss: 112710.9141\n",
      "Epoch 70/300\n",
      "88/88 [==============================] - 0s 586us/step - loss: 119890.8125 - val_loss: 114124.3672\n",
      "Epoch 71/300\n",
      "88/88 [==============================] - 0s 640us/step - loss: 119493.9609 - val_loss: 111647.9688\n",
      "Epoch 72/300\n",
      "88/88 [==============================] - 0s 633us/step - loss: 118428.9609 - val_loss: 111480.5156\n",
      "Epoch 73/300\n",
      "88/88 [==============================] - 0s 571us/step - loss: 117981.7891 - val_loss: 111363.8203\n",
      "Epoch 74/300\n",
      "88/88 [==============================] - 0s 580us/step - loss: 117889.2109 - val_loss: 111668.5781\n",
      "Epoch 75/300\n",
      "88/88 [==============================] - 0s 586us/step - loss: 117620.1641 - val_loss: 110751.0156\n",
      "Epoch 76/300\n",
      "88/88 [==============================] - 0s 569us/step - loss: 116595.8906 - val_loss: 111080.8594\n",
      "Epoch 77/300\n",
      "88/88 [==============================] - 0s 717us/step - loss: 116719.0000 - val_loss: 110178.9531\n",
      "Epoch 78/300\n",
      "88/88 [==============================] - 0s 640us/step - loss: 116384.5391 - val_loss: 109464.8984\n",
      "Epoch 79/300\n",
      "88/88 [==============================] - 0s 638us/step - loss: 115612.1406 - val_loss: 108775.0391\n",
      "Epoch 80/300\n",
      "88/88 [==============================] - 0s 648us/step - loss: 115328.5469 - val_loss: 108565.1328\n",
      "Epoch 81/300\n",
      "88/88 [==============================] - 0s 590us/step - loss: 114522.6484 - val_loss: 111090.0547\n",
      "Epoch 82/300\n",
      "88/88 [==============================] - 0s 536us/step - loss: 115341.3594 - val_loss: 107575.4766\n",
      "Epoch 83/300\n",
      "88/88 [==============================] - 0s 548us/step - loss: 114074.9219 - val_loss: 109688.7109\n",
      "Epoch 84/300\n",
      "88/88 [==============================] - 0s 536us/step - loss: 114459.2734 - val_loss: 108239.8750\n",
      "Epoch 85/300\n",
      "88/88 [==============================] - 0s 537us/step - loss: 113156.2266 - val_loss: 108665.1172\n",
      "Epoch 86/300\n",
      "88/88 [==============================] - 0s 543us/step - loss: 113556.0469 - val_loss: 107402.6016\n",
      "Epoch 87/300\n",
      "88/88 [==============================] - 0s 539us/step - loss: 112474.9297 - val_loss: 105966.4922\n",
      "Epoch 88/300\n",
      "88/88 [==============================] - 0s 539us/step - loss: 111713.0391 - val_loss: 105768.6953\n",
      "Epoch 89/300\n",
      "88/88 [==============================] - 0s 537us/step - loss: 112265.4297 - val_loss: 105834.7500\n",
      "Epoch 90/300\n",
      "88/88 [==============================] - 0s 545us/step - loss: 111719.1328 - val_loss: 105362.6797\n",
      "Epoch 91/300\n",
      "88/88 [==============================] - 0s 550us/step - loss: 111306.9922 - val_loss: 111881.0859\n",
      "Epoch 92/300\n",
      "88/88 [==============================] - 0s 528us/step - loss: 110231.0938 - val_loss: 105125.5547\n",
      "Epoch 93/300\n",
      "88/88 [==============================] - 0s 528us/step - loss: 109904.8516 - val_loss: 106449.9531\n",
      "Epoch 94/300\n",
      "88/88 [==============================] - 0s 549us/step - loss: 109829.0469 - val_loss: 106691.3984\n",
      "Epoch 95/300\n",
      "88/88 [==============================] - 0s 546us/step - loss: 109838.8672 - val_loss: 105397.2188\n",
      "Epoch 96/300\n",
      "88/88 [==============================] - 0s 558us/step - loss: 109361.3906 - val_loss: 105799.6328\n",
      "Epoch 97/300\n",
      "88/88 [==============================] - 0s 556us/step - loss: 109046.2266 - val_loss: 105286.6953\n",
      "Epoch 98/300\n",
      "88/88 [==============================] - 0s 641us/step - loss: 109684.0547 - val_loss: 107474.4219\n",
      "Epoch 99/300\n",
      "88/88 [==============================] - 0s 670us/step - loss: 109528.5781 - val_loss: 103639.2578\n",
      "Epoch 100/300\n",
      "88/88 [==============================] - 0s 597us/step - loss: 107771.9219 - val_loss: 107739.8125\n",
      "Epoch 101/300\n",
      "88/88 [==============================] - 0s 580us/step - loss: 108401.5938 - val_loss: 119671.4844\n",
      "Epoch 102/300\n",
      "88/88 [==============================] - 0s 568us/step - loss: 108664.4688 - val_loss: 103122.3984\n",
      "Epoch 103/300\n",
      "88/88 [==============================] - 0s 548us/step - loss: 108053.4766 - val_loss: 102389.6641\n",
      "Epoch 104/300\n",
      "88/88 [==============================] - 0s 561us/step - loss: 108012.5547 - val_loss: 102320.9453\n",
      "Epoch 105/300\n",
      "88/88 [==============================] - 0s 555us/step - loss: 106779.3438 - val_loss: 102332.8359\n",
      "Epoch 106/300\n",
      "88/88 [==============================] - 0s 563us/step - loss: 106923.5547 - val_loss: 102496.7656\n",
      "Epoch 107/300\n",
      "88/88 [==============================] - 0s 565us/step - loss: 107471.3516 - val_loss: 104035.9922\n",
      "Epoch 108/300\n",
      "88/88 [==============================] - 0s 580us/step - loss: 106608.8047 - val_loss: 101588.8359\n",
      "Epoch 109/300\n",
      "88/88 [==============================] - 0s 601us/step - loss: 106369.1953 - val_loss: 105897.6172\n",
      "Epoch 110/300\n",
      "88/88 [==============================] - 0s 837us/step - loss: 105826.3281 - val_loss: 103875.9922\n",
      "Epoch 111/300\n",
      "88/88 [==============================] - 0s 637us/step - loss: 105908.2656 - val_loss: 101418.7500\n",
      "Epoch 112/300\n",
      "88/88 [==============================] - 0s 544us/step - loss: 106101.4141 - val_loss: 105858.3281\n",
      "Epoch 113/300\n",
      "88/88 [==============================] - 0s 552us/step - loss: 104721.1562 - val_loss: 101916.5391\n",
      "Epoch 114/300\n",
      "88/88 [==============================] - 0s 547us/step - loss: 106196.1719 - val_loss: 100974.8125\n",
      "Epoch 115/300\n",
      "88/88 [==============================] - 0s 533us/step - loss: 104560.5625 - val_loss: 101117.8125\n",
      "Epoch 116/300\n",
      "88/88 [==============================] - 0s 568us/step - loss: 104801.3281 - val_loss: 102713.9844\n",
      "Epoch 117/300\n",
      "88/88 [==============================] - 0s 561us/step - loss: 104536.5312 - val_loss: 101000.3047\n",
      "Epoch 118/300\n",
      "88/88 [==============================] - 0s 561us/step - loss: 105335.4453 - val_loss: 100567.0625\n",
      "Epoch 119/300\n",
      "88/88 [==============================] - 0s 544us/step - loss: 104509.1328 - val_loss: 101995.9141\n",
      "Epoch 120/300\n",
      "88/88 [==============================] - 0s 509us/step - loss: 104009.1016 - val_loss: 99819.2734\n",
      "Epoch 121/300\n",
      "88/88 [==============================] - 0s 542us/step - loss: 104938.7344 - val_loss: 99929.5078\n",
      "Epoch 122/300\n",
      "88/88 [==============================] - 0s 555us/step - loss: 103550.8047 - val_loss: 99551.1797\n",
      "Epoch 123/300\n",
      "88/88 [==============================] - 0s 560us/step - loss: 104862.0234 - val_loss: 99451.6172\n",
      "Epoch 124/300\n",
      "88/88 [==============================] - 0s 546us/step - loss: 104007.2578 - val_loss: 99775.4766\n",
      "Epoch 125/300\n",
      "88/88 [==============================] - 0s 550us/step - loss: 102614.6406 - val_loss: 99783.7266\n",
      "Epoch 126/300\n",
      "88/88 [==============================] - 0s 530us/step - loss: 102546.9766 - val_loss: 99628.4844\n",
      "Epoch 127/300\n",
      "88/88 [==============================] - 0s 553us/step - loss: 102837.8828 - val_loss: 100495.3125\n",
      "Epoch 128/300\n",
      "88/88 [==============================] - 0s 538us/step - loss: 102587.2266 - val_loss: 99257.3047\n",
      "Epoch 129/300\n",
      "88/88 [==============================] - 0s 533us/step - loss: 103455.4531 - val_loss: 100178.4297\n",
      "Epoch 130/300\n",
      "88/88 [==============================] - 0s 528us/step - loss: 102658.7969 - val_loss: 101808.8594\n",
      "Epoch 131/300\n",
      "88/88 [==============================] - 0s 537us/step - loss: 101694.6328 - val_loss: 100476.7500\n",
      "Epoch 132/300\n",
      "88/88 [==============================] - 0s 540us/step - loss: 101540.0859 - val_loss: 98989.9141\n",
      "Epoch 133/300\n",
      "88/88 [==============================] - 0s 549us/step - loss: 101520.4766 - val_loss: 103778.9766\n",
      "Epoch 134/300\n",
      "88/88 [==============================] - 0s 566us/step - loss: 102261.2344 - val_loss: 100284.2656\n",
      "Epoch 135/300\n",
      "88/88 [==============================] - 0s 561us/step - loss: 102496.8125 - val_loss: 102040.3672\n",
      "Epoch 136/300\n",
      "88/88 [==============================] - 0s 553us/step - loss: 101259.7812 - val_loss: 98532.5000\n",
      "Epoch 137/300\n",
      "88/88 [==============================] - 0s 568us/step - loss: 100640.9688 - val_loss: 99103.7969\n",
      "Epoch 138/300\n",
      "88/88 [==============================] - 0s 567us/step - loss: 102682.5078 - val_loss: 98119.3047\n",
      "Epoch 139/300\n",
      "88/88 [==============================] - 0s 556us/step - loss: 100722.6172 - val_loss: 99652.2812\n",
      "Epoch 140/300\n",
      "88/88 [==============================] - 0s 560us/step - loss: 100263.6797 - val_loss: 99382.6328\n",
      "Epoch 141/300\n",
      "88/88 [==============================] - 0s 567us/step - loss: 101000.7812 - val_loss: 100340.7344\n",
      "Epoch 142/300\n",
      "88/88 [==============================] - 0s 548us/step - loss: 100979.3047 - val_loss: 101952.6641\n",
      "Epoch 143/300\n",
      "88/88 [==============================] - 0s 579us/step - loss: 99732.4375 - val_loss: 98330.3984\n",
      "Epoch 144/300\n",
      "88/88 [==============================] - 0s 531us/step - loss: 99654.7812 - val_loss: 98060.2656\n",
      "Epoch 145/300\n",
      "88/88 [==============================] - 0s 531us/step - loss: 100058.5312 - val_loss: 101484.5000\n",
      "Epoch 146/300\n",
      "88/88 [==============================] - 0s 539us/step - loss: 99924.7188 - val_loss: 97256.1719\n",
      "Epoch 147/300\n"
     ]
    },
    {
     "name": "stdout",
     "output_type": "stream",
     "text": [
      "88/88 [==============================] - 0s 551us/step - loss: 98781.0781 - val_loss: 97241.0391\n",
      "Epoch 148/300\n",
      "88/88 [==============================] - 0s 545us/step - loss: 99454.1484 - val_loss: 97823.3125\n",
      "Epoch 149/300\n",
      "88/88 [==============================] - 0s 543us/step - loss: 98903.3438 - val_loss: 104850.1328\n",
      "Epoch 150/300\n",
      "88/88 [==============================] - 0s 536us/step - loss: 99270.3906 - val_loss: 97764.6484\n",
      "Epoch 151/300\n",
      "88/88 [==============================] - 0s 533us/step - loss: 97960.6875 - val_loss: 96799.9062\n",
      "Epoch 152/300\n",
      "88/88 [==============================] - 0s 537us/step - loss: 98234.1562 - val_loss: 98681.3828\n",
      "Epoch 153/300\n",
      "88/88 [==============================] - 0s 539us/step - loss: 98621.8281 - val_loss: 99597.3047\n",
      "Epoch 154/300\n",
      "88/88 [==============================] - 0s 548us/step - loss: 98192.2344 - val_loss: 98744.8359\n",
      "Epoch 155/300\n",
      "88/88 [==============================] - 0s 550us/step - loss: 98079.1094 - val_loss: 96741.5234\n",
      "Epoch 156/300\n",
      "88/88 [==============================] - 0s 574us/step - loss: 98194.6172 - val_loss: 96396.9844\n",
      "Epoch 157/300\n",
      "88/88 [==============================] - 0s 635us/step - loss: 97171.4688 - val_loss: 97109.3672\n",
      "Epoch 158/300\n",
      "88/88 [==============================] - 0s 608us/step - loss: 96998.4375 - val_loss: 101211.2031\n",
      "Epoch 159/300\n",
      "88/88 [==============================] - 0s 640us/step - loss: 97363.7422 - val_loss: 96701.6953\n",
      "Epoch 160/300\n",
      "88/88 [==============================] - 0s 635us/step - loss: 96822.8594 - val_loss: 99106.1094\n",
      "Epoch 161/300\n",
      "88/88 [==============================] - 0s 599us/step - loss: 97068.8906 - val_loss: 99033.5859\n",
      "Epoch 162/300\n",
      "88/88 [==============================] - 0s 589us/step - loss: 97079.9141 - val_loss: 95356.1094\n",
      "Epoch 163/300\n",
      "88/88 [==============================] - 0s 588us/step - loss: 97246.3750 - val_loss: 95990.4453\n",
      "Epoch 164/300\n",
      "88/88 [==============================] - 0s 616us/step - loss: 97331.2031 - val_loss: 95756.0156\n",
      "Epoch 165/300\n",
      "88/88 [==============================] - 0s 598us/step - loss: 96488.9531 - val_loss: 95273.1328\n",
      "Epoch 166/300\n",
      "88/88 [==============================] - 0s 614us/step - loss: 97029.5469 - val_loss: 95435.1875\n",
      "Epoch 167/300\n",
      "88/88 [==============================] - 0s 589us/step - loss: 95104.9062 - val_loss: 95443.2891\n",
      "Epoch 168/300\n",
      "88/88 [==============================] - 0s 602us/step - loss: 97026.6484 - val_loss: 96117.5547\n",
      "Epoch 169/300\n",
      "88/88 [==============================] - 0s 589us/step - loss: 95707.7969 - val_loss: 95722.7266\n",
      "Epoch 170/300\n",
      "88/88 [==============================] - 0s 576us/step - loss: 97880.6719 - val_loss: 94170.1250\n",
      "Epoch 171/300\n",
      "88/88 [==============================] - 0s 551us/step - loss: 95789.9766 - val_loss: 96580.2578\n",
      "Epoch 172/300\n",
      "88/88 [==============================] - 0s 577us/step - loss: 95493.4766 - val_loss: 93686.5859\n",
      "Epoch 173/300\n",
      "88/88 [==============================] - 0s 628us/step - loss: 97805.9062 - val_loss: 94906.4609\n",
      "Epoch 174/300\n",
      "88/88 [==============================] - 0s 656us/step - loss: 95240.0625 - val_loss: 97649.6094\n",
      "Epoch 175/300\n",
      "88/88 [==============================] - 0s 547us/step - loss: 95879.3203 - val_loss: 94574.8281\n",
      "Epoch 176/300\n",
      "88/88 [==============================] - 0s 543us/step - loss: 96015.1719 - val_loss: 94744.7969\n",
      "Epoch 177/300\n",
      "88/88 [==============================] - 0s 549us/step - loss: 95264.0938 - val_loss: 95718.8672\n",
      "Epoch 178/300\n",
      "88/88 [==============================] - 0s 539us/step - loss: 95546.3984 - val_loss: 93769.6406\n",
      "Epoch 179/300\n",
      "88/88 [==============================] - 0s 543us/step - loss: 93877.9297 - val_loss: 95979.7109\n",
      "Epoch 180/300\n",
      "88/88 [==============================] - 0s 565us/step - loss: 94285.7109 - val_loss: 94158.3359\n",
      "Epoch 181/300\n",
      "88/88 [==============================] - 0s 615us/step - loss: 94269.9531 - val_loss: 96941.5156\n",
      "Epoch 182/300\n",
      "88/88 [==============================] - 0s 600us/step - loss: 94237.8047 - val_loss: 95560.5156\n",
      "55/55 [==============================] - 0s 259us/step\n",
      "Mean Squared Error: 92358.88538855751\n",
      "Root Mean Squared Error: 303.9060469759651\n",
      "R-squared: 0.7714701195715914\n",
      "Adjusted R-squared: 0.7698931451235518\n"
     ]
    }
   ],
   "source": [
    "from keras.models import Sequential\n",
    "from keras.layers import Dense\n",
    "\n",
    "model = Sequential()\n",
    "\n",
    "model.add(Dense(units=64, activation='relu', input_dim=X_train_scaled.shape[1]))\n",
    "\n",
    "model.add(Dense(units=32, activation='relu'))\n",
    "\n",
    "model.add(Dense(units=16, activation='relu'))\n",
    "\n",
    "model.add(Dense(units=8, activation='relu'))\n",
    "\n",
    "model.add(Dense(units=1, activation='linear'))\n",
    "\n",
    "model.compile(optimizer='adam', loss='mean_squared_error')\n",
    "\n",
    "#from keras.layers import Dropout\n",
    "#model.add(Dropout(0.5)) \n",
    "\n",
    "#from keras.regularizers import l1, l2\n",
    "#model.add(Dense(units=64, activation='relu', input_dim=X_train.shape[1], kernel_regularizer=l2(0.01)))\n",
    "\n",
    "from keras.callbacks import EarlyStopping\n",
    "early_stopping = EarlyStopping(monitor='val_loss', patience = 10, restore_best_weights=True)\n",
    "model.fit(X_train_scaled, y_train, epochs = 300, batch_size = 64, validation_split=0.2, callbacks=[early_stopping])\n",
    "\n",
    "y_pred = model.predict(X_test_scaled)\n",
    "\n",
    "mse = mean_squared_error(y_test, y_pred)\n",
    "mse_r = mean_squared_error(y_test, y_pred, squared = False)\n",
    "r2 = r2_score(y_test, y_pred)\n",
    "\n",
    "n = len(y_test)\n",
    "k = X_train_scaled.shape[1]  \n",
    "adj_r2 = 1 - ((1 - r2) * (n - 1) / (n - k - 1))\n",
    "\n",
    "print(f'Mean Squared Error: {mse}')\n",
    "print(f'Root Mean Squared Error: {mse_r}')\n",
    "print(f'R-squared: {r2}')\n",
    "print(f'Adjusted R-squared: {adj_r2}')"
   ]
  },
  {
   "cell_type": "code",
   "execution_count": 82,
   "id": "82226ac5",
   "metadata": {},
   "outputs": [
    {
     "name": "stdout",
     "output_type": "stream",
     "text": [
      "Mean Squared Error: 92358.88538855751\n",
      "Root Mean Squared Error: 303.9060469759651\n",
      "R-squared: 0.7714701195715914\n",
      "Adjusted R-squared: 0.7698931451235518\n"
     ]
    }
   ],
   "source": [
    "print(f'Mean Squared Error: {mse}')\n",
    "print(f'Root Mean Squared Error: {mse_r}')\n",
    "print(f'R-squared: {r2}')\n",
    "print(f'Adjusted R-squared: {adj_r2}')"
   ]
  },
  {
   "cell_type": "code",
   "execution_count": 83,
   "id": "8c5330c5",
   "metadata": {},
   "outputs": [
    {
     "name": "stdout",
     "output_type": "stream",
     "text": [
      "219/219 [==============================] - 0s 234us/step\n",
      "55/55 [==============================] - 0s 254us/step\n",
      "Training MSE: 93725.1626358601\n",
      "Validation MSE: 92358.88538855751\n",
      "Huber Loss: [[2.56473938e+02 4.38473938e+02 3.19473938e+02 ... 2.26526062e+02\n",
      "  2.46473938e+02 2.80473938e+02]\n",
      " [1.91641907e+02 9.64190674e+00 1.28641907e+02 ... 6.75641907e+02\n",
      "  2.01641907e+02 1.67641907e+02]\n",
      " [2.95691833e+02 4.77691833e+02 3.58691833e+02 ... 1.87308167e+02\n",
      "  2.85691833e+02 3.19691833e+02]\n",
      " ...\n",
      " [7.22512634e+02 9.04512634e+02 7.85512634e+02 ... 2.38512634e+02\n",
      "  7.12512634e+02 7.46512634e+02]\n",
      " [1.22793213e+02 3.04793213e+02 1.85793213e+02 ... 3.60206787e+02\n",
      "  1.12793213e+02 1.46793213e+02]\n",
      " [2.27680683e-01 1.80825195e+02 6.18251953e+01 ... 4.84174805e+02\n",
      "  1.01748047e+01 2.28251953e+01]]\n",
      "Mean Huber Loss: 648.1771284728512\n"
     ]
    }
   ],
   "source": [
    "train_pred = model.predict(X_train_scaled)\n",
    "test_pred = model.predict(X_test_scaled)\n",
    "\n",
    "from sklearn.metrics import mean_squared_error, r2_score\n",
    "\n",
    "train_mse = mean_squared_error(y_train, train_pred)\n",
    "test_mse = mean_squared_error(y_test, test_pred)\n",
    "\n",
    "print(f'Training MSE: {train_mse}')\n",
    "print(f'Validation MSE: {test_mse}')\n",
    "\n",
    "import tensorflow as tf\n",
    "def huber_loss(y_test, y_pred, delta = 1.0):\n",
    "    error = y_test - y_pred\n",
    "    condition = tf.abs(error) < delta\n",
    "    squared_loss = 0.5 * tf.square(error)\n",
    "    linear_loss = delta * (tf.abs(error) - 0.5 * delta)\n",
    "    return tf.where(condition, squared_loss, linear_loss)\n",
    "\n",
    "loss = huber_loss(y_test, y_pred, delta = 1.0)\n",
    "print(\"Huber Loss:\", loss.numpy())\n",
    "\n",
    "mean_huber_loss = np.mean(loss)\n",
    "print(f\"Mean Huber Loss: {mean_huber_loss}\")"
   ]
  },
  {
   "cell_type": "code",
   "execution_count": null,
   "id": "e823c99a",
   "metadata": {},
   "outputs": [],
   "source": []
  },
  {
   "cell_type": "code",
   "execution_count": 84,
   "id": "c3b99ecb",
   "metadata": {},
   "outputs": [
    {
     "name": "stdout",
     "output_type": "stream",
     "text": [
      "Epoch 1/200\n",
      "77/77 [==============================] - 0s 1ms/step - loss: 911487.2500 - val_loss: 877088.5625\n",
      "Epoch 2/200\n",
      "77/77 [==============================] - 0s 642us/step - loss: 642736.1875 - val_loss: 343488.7188\n",
      "Epoch 3/200\n",
      "77/77 [==============================] - 0s 674us/step - loss: 339005.5312 - val_loss: 323896.7812\n",
      "Epoch 4/200\n",
      "77/77 [==============================] - 0s 678us/step - loss: 322822.8750 - val_loss: 308504.5312\n",
      "Epoch 5/200\n",
      "77/77 [==============================] - 0s 684us/step - loss: 305735.2812 - val_loss: 289999.8438\n",
      "Epoch 6/200\n",
      "77/77 [==============================] - 0s 639us/step - loss: 286718.1562 - val_loss: 270120.4062\n",
      "Epoch 7/200\n",
      "77/77 [==============================] - 0s 672us/step - loss: 266463.7188 - val_loss: 248765.6406\n",
      "Epoch 8/200\n",
      "77/77 [==============================] - 0s 648us/step - loss: 246241.1250 - val_loss: 229958.3125\n",
      "Epoch 9/200\n",
      "77/77 [==============================] - 0s 617us/step - loss: 229761.9062 - val_loss: 215122.4688\n",
      "Epoch 10/200\n",
      "77/77 [==============================] - 0s 630us/step - loss: 216525.6406 - val_loss: 203943.5156\n",
      "Epoch 11/200\n",
      "77/77 [==============================] - 0s 637us/step - loss: 205827.3906 - val_loss: 193572.1406\n",
      "Epoch 12/200\n",
      "77/77 [==============================] - 0s 647us/step - loss: 196783.9375 - val_loss: 184933.5312\n",
      "Epoch 13/200\n",
      "77/77 [==============================] - 0s 648us/step - loss: 189172.5469 - val_loss: 177012.8125\n",
      "Epoch 14/200\n",
      "77/77 [==============================] - 0s 662us/step - loss: 182906.5625 - val_loss: 170768.5781\n",
      "Epoch 15/200\n",
      "77/77 [==============================] - 0s 672us/step - loss: 177197.3438 - val_loss: 165495.5469\n",
      "Epoch 16/200\n",
      "77/77 [==============================] - 0s 682us/step - loss: 173070.6875 - val_loss: 161066.0469\n",
      "Epoch 17/200\n",
      "77/77 [==============================] - 0s 651us/step - loss: 169631.2812 - val_loss: 160728.1250\n",
      "Epoch 18/200\n",
      "77/77 [==============================] - 0s 621us/step - loss: 167018.1406 - val_loss: 157213.8750\n",
      "Epoch 19/200\n",
      "77/77 [==============================] - 0s 613us/step - loss: 165165.0469 - val_loss: 152496.5781\n",
      "Epoch 20/200\n",
      "77/77 [==============================] - 0s 631us/step - loss: 161883.2188 - val_loss: 154362.7656\n",
      "Epoch 21/200\n",
      "77/77 [==============================] - 0s 619us/step - loss: 159826.5000 - val_loss: 148096.9688\n",
      "Epoch 22/200\n",
      "77/77 [==============================] - 0s 661us/step - loss: 158245.5625 - val_loss: 147030.5469\n",
      "Epoch 23/200\n",
      "77/77 [==============================] - 0s 659us/step - loss: 156822.5156 - val_loss: 144876.9688\n",
      "Epoch 24/200\n",
      "77/77 [==============================] - 0s 614us/step - loss: 155302.2969 - val_loss: 145011.7812\n",
      "Epoch 25/200\n",
      "77/77 [==============================] - 0s 663us/step - loss: 154818.5156 - val_loss: 143104.6719\n",
      "Epoch 26/200\n",
      "77/77 [==============================] - 0s 609us/step - loss: 153704.9688 - val_loss: 144575.0156\n",
      "Epoch 27/200\n",
      "77/77 [==============================] - 0s 643us/step - loss: 153247.9219 - val_loss: 141292.3594\n",
      "Epoch 28/200\n",
      "77/77 [==============================] - 0s 653us/step - loss: 151787.8906 - val_loss: 140357.4375\n",
      "Epoch 29/200\n",
      "77/77 [==============================] - 0s 596us/step - loss: 151727.4688 - val_loss: 138796.2812\n",
      "Epoch 30/200\n",
      "77/77 [==============================] - 0s 634us/step - loss: 149968.3438 - val_loss: 140027.6406\n",
      "Epoch 31/200\n",
      "77/77 [==============================] - 0s 601us/step - loss: 150049.5781 - val_loss: 137426.3281\n",
      "Epoch 32/200\n",
      "77/77 [==============================] - 0s 633us/step - loss: 149135.6719 - val_loss: 136820.9688\n",
      "Epoch 33/200\n",
      "77/77 [==============================] - 0s 638us/step - loss: 147699.0781 - val_loss: 135585.9688\n",
      "Epoch 34/200\n",
      "77/77 [==============================] - 0s 635us/step - loss: 147051.2344 - val_loss: 134835.1719\n",
      "Epoch 35/200\n",
      "77/77 [==============================] - 0s 617us/step - loss: 147484.1719 - val_loss: 134273.5156\n",
      "Epoch 36/200\n",
      "77/77 [==============================] - 0s 711us/step - loss: 145413.9219 - val_loss: 135649.2969\n",
      "Epoch 37/200\n",
      "77/77 [==============================] - 0s 669us/step - loss: 145645.0312 - val_loss: 133426.6719\n",
      "Epoch 38/200\n",
      "77/77 [==============================] - 0s 681us/step - loss: 144450.8125 - val_loss: 132494.5938\n",
      "Epoch 39/200\n",
      "77/77 [==============================] - 0s 689us/step - loss: 143415.7656 - val_loss: 131554.2969\n",
      "Epoch 40/200\n",
      "77/77 [==============================] - 0s 672us/step - loss: 142668.6094 - val_loss: 131665.7500\n",
      "Epoch 41/200\n",
      "77/77 [==============================] - 0s 647us/step - loss: 143185.1250 - val_loss: 131613.9062\n",
      "Epoch 42/200\n",
      "77/77 [==============================] - 0s 643us/step - loss: 141431.5000 - val_loss: 129797.8906\n",
      "Epoch 43/200\n",
      "77/77 [==============================] - 0s 647us/step - loss: 140591.4219 - val_loss: 128154.5391\n",
      "Epoch 44/200\n",
      "77/77 [==============================] - 0s 646us/step - loss: 139989.4688 - val_loss: 127809.9922\n",
      "Epoch 45/200\n",
      "77/77 [==============================] - 0s 623us/step - loss: 138926.5938 - val_loss: 129099.3672\n",
      "Epoch 46/200\n",
      "77/77 [==============================] - 0s 685us/step - loss: 138018.4531 - val_loss: 141996.1562\n",
      "Epoch 47/200\n",
      "77/77 [==============================] - 0s 738us/step - loss: 138523.5625 - val_loss: 125296.2500\n",
      "Epoch 48/200\n",
      "77/77 [==============================] - 0s 611us/step - loss: 137289.9219 - val_loss: 124434.5703\n",
      "Epoch 49/200\n",
      "77/77 [==============================] - 0s 596us/step - loss: 136405.9844 - val_loss: 123672.4531\n",
      "Epoch 50/200\n",
      "77/77 [==============================] - 0s 613us/step - loss: 135179.4219 - val_loss: 123486.6016\n",
      "Epoch 51/200\n",
      "77/77 [==============================] - 0s 617us/step - loss: 134725.7031 - val_loss: 122165.3516\n",
      "Epoch 52/200\n",
      "77/77 [==============================] - 0s 609us/step - loss: 134254.3438 - val_loss: 121782.2969\n",
      "Epoch 53/200\n",
      "77/77 [==============================] - 0s 629us/step - loss: 132969.3281 - val_loss: 120939.4922\n",
      "Epoch 54/200\n",
      "77/77 [==============================] - 0s 624us/step - loss: 132060.9219 - val_loss: 121303.3750\n",
      "Epoch 55/200\n",
      "77/77 [==============================] - 0s 598us/step - loss: 130969.7031 - val_loss: 120412.5078\n",
      "Epoch 56/200\n",
      "77/77 [==============================] - 0s 604us/step - loss: 131795.6562 - val_loss: 121525.9219\n",
      "Epoch 57/200\n",
      "77/77 [==============================] - 0s 630us/step - loss: 130171.1875 - val_loss: 118598.6406\n",
      "Epoch 58/200\n",
      "77/77 [==============================] - 0s 598us/step - loss: 129499.3125 - val_loss: 118369.1719\n",
      "Epoch 59/200\n",
      "77/77 [==============================] - 0s 588us/step - loss: 128910.8359 - val_loss: 118921.0859\n",
      "Epoch 60/200\n",
      "77/77 [==============================] - 0s 591us/step - loss: 128012.6562 - val_loss: 116500.8906\n",
      "Epoch 61/200\n",
      "77/77 [==============================] - 0s 596us/step - loss: 126955.6562 - val_loss: 115938.6406\n",
      "Epoch 62/200\n",
      "77/77 [==============================] - 0s 627us/step - loss: 126661.1797 - val_loss: 117604.8594\n",
      "Epoch 63/200\n",
      "77/77 [==============================] - 0s 590us/step - loss: 126289.5234 - val_loss: 117359.9922\n",
      "Epoch 64/200\n",
      "77/77 [==============================] - 0s 627us/step - loss: 124762.3828 - val_loss: 114860.8984\n",
      "Epoch 65/200\n",
      "77/77 [==============================] - 0s 629us/step - loss: 124802.3750 - val_loss: 113799.7891\n",
      "Epoch 66/200\n",
      "77/77 [==============================] - 0s 629us/step - loss: 123814.6641 - val_loss: 112740.3516\n",
      "Epoch 67/200\n",
      "77/77 [==============================] - 0s 589us/step - loss: 122414.5000 - val_loss: 114021.5391\n",
      "Epoch 68/200\n",
      "77/77 [==============================] - 0s 609us/step - loss: 122985.5469 - val_loss: 113084.9609\n",
      "Epoch 69/200\n",
      "77/77 [==============================] - 0s 638us/step - loss: 121614.9688 - val_loss: 111553.1797\n",
      "Epoch 70/200\n",
      "77/77 [==============================] - 0s 648us/step - loss: 121697.3125 - val_loss: 110902.6641\n",
      "Epoch 71/200\n",
      "77/77 [==============================] - 0s 618us/step - loss: 120176.1094 - val_loss: 110000.2812\n",
      "Epoch 72/200\n",
      "77/77 [==============================] - 0s 616us/step - loss: 119561.4766 - val_loss: 109490.5938\n",
      "Epoch 73/200\n",
      "77/77 [==============================] - 0s 656us/step - loss: 119184.6875 - val_loss: 112213.5234\n",
      "Epoch 74/200\n",
      "77/77 [==============================] - 0s 664us/step - loss: 119891.0078 - val_loss: 108545.4922\n",
      "Epoch 75/200\n",
      "77/77 [==============================] - 0s 667us/step - loss: 118111.2500 - val_loss: 108148.8125\n",
      "Epoch 76/200\n",
      "77/77 [==============================] - 0s 651us/step - loss: 117057.0469 - val_loss: 108018.7891\n",
      "Epoch 77/200\n",
      "77/77 [==============================] - 0s 621us/step - loss: 116617.0000 - val_loss: 107020.2656\n",
      "Epoch 78/200\n",
      "77/77 [==============================] - 0s 607us/step - loss: 115692.1641 - val_loss: 110183.8672\n",
      "Epoch 79/200\n",
      "77/77 [==============================] - 0s 606us/step - loss: 115881.7891 - val_loss: 106768.9297\n",
      "Epoch 80/200\n",
      "77/77 [==============================] - 0s 629us/step - loss: 116286.0781 - val_loss: 107622.5391\n",
      "Epoch 81/200\n",
      "77/77 [==============================] - 0s 631us/step - loss: 115262.9531 - val_loss: 113211.4531\n",
      "Epoch 82/200\n",
      "77/77 [==============================] - 0s 631us/step - loss: 114588.7812 - val_loss: 105550.2109\n",
      "Epoch 83/200\n",
      "77/77 [==============================] - 0s 621us/step - loss: 114625.9062 - val_loss: 105331.7969\n",
      "Epoch 84/200\n",
      "77/77 [==============================] - 0s 622us/step - loss: 113869.4375 - val_loss: 104224.7656\n",
      "Epoch 85/200\n",
      "77/77 [==============================] - 0s 612us/step - loss: 113365.0625 - val_loss: 104690.8516\n",
      "Epoch 86/200\n",
      "77/77 [==============================] - 0s 705us/step - loss: 112922.3047 - val_loss: 106519.1094\n",
      "Epoch 87/200\n",
      "77/77 [==============================] - 0s 764us/step - loss: 111963.3594 - val_loss: 103391.2109\n",
      "Epoch 88/200\n",
      "77/77 [==============================] - 0s 673us/step - loss: 111927.3516 - val_loss: 102877.8984\n",
      "Epoch 89/200\n",
      "77/77 [==============================] - 0s 652us/step - loss: 110972.6875 - val_loss: 102788.1172\n",
      "Epoch 90/200\n",
      "77/77 [==============================] - 0s 610us/step - loss: 111397.4609 - val_loss: 103582.7578\n",
      "Epoch 91/200\n",
      "77/77 [==============================] - 0s 599us/step - loss: 110343.6484 - val_loss: 103009.0234\n",
      "Epoch 92/200\n",
      "77/77 [==============================] - 0s 597us/step - loss: 111003.2578 - val_loss: 102945.1406\n",
      "Epoch 93/200\n",
      "77/77 [==============================] - 0s 607us/step - loss: 110365.3281 - val_loss: 101617.8750\n",
      "Epoch 94/200\n",
      "77/77 [==============================] - 0s 614us/step - loss: 109217.1094 - val_loss: 100857.5312\n",
      "Epoch 95/200\n",
      "77/77 [==============================] - 0s 707us/step - loss: 108591.5938 - val_loss: 100650.8438\n",
      "Epoch 96/200\n",
      "77/77 [==============================] - 0s 644us/step - loss: 108202.4844 - val_loss: 101257.1641\n",
      "Epoch 97/200\n",
      "77/77 [==============================] - 0s 627us/step - loss: 107359.8594 - val_loss: 101228.6641\n",
      "Epoch 98/200\n",
      "77/77 [==============================] - 0s 578us/step - loss: 106672.3828 - val_loss: 102343.3047\n",
      "Epoch 99/200\n",
      "77/77 [==============================] - 0s 597us/step - loss: 107397.3906 - val_loss: 101145.5312\n",
      "Epoch 100/200\n",
      "77/77 [==============================] - 0s 599us/step - loss: 106797.1406 - val_loss: 99614.0312\n",
      "Epoch 101/200\n",
      "77/77 [==============================] - 0s 616us/step - loss: 106576.4141 - val_loss: 99449.7031\n",
      "Epoch 102/200\n",
      "77/77 [==============================] - 0s 618us/step - loss: 106180.0000 - val_loss: 99429.4688\n",
      "Epoch 103/200\n",
      "77/77 [==============================] - 0s 632us/step - loss: 105149.9844 - val_loss: 99541.2109\n",
      "Epoch 104/200\n",
      "77/77 [==============================] - 0s 628us/step - loss: 105166.8047 - val_loss: 98727.4453\n",
      "Epoch 105/200\n",
      "77/77 [==============================] - 0s 591us/step - loss: 104207.9219 - val_loss: 102417.4375\n",
      "Epoch 106/200\n",
      "77/77 [==============================] - 0s 626us/step - loss: 104085.4219 - val_loss: 97866.3203\n",
      "Epoch 107/200\n",
      "77/77 [==============================] - 0s 621us/step - loss: 105058.5391 - val_loss: 98145.2734\n",
      "Epoch 108/200\n",
      "77/77 [==============================] - 0s 650us/step - loss: 103230.6172 - val_loss: 97862.2734\n",
      "Epoch 109/200\n",
      "77/77 [==============================] - 0s 635us/step - loss: 102696.9688 - val_loss: 98665.4844\n",
      "Epoch 110/200\n",
      "77/77 [==============================] - 0s 644us/step - loss: 102999.6016 - val_loss: 96787.2891\n",
      "Epoch 111/200\n",
      "77/77 [==============================] - 0s 632us/step - loss: 103072.9844 - val_loss: 97139.1719\n",
      "Epoch 112/200\n",
      "77/77 [==============================] - 0s 624us/step - loss: 101817.2812 - val_loss: 103290.9062\n",
      "Epoch 113/200\n",
      "77/77 [==============================] - 0s 626us/step - loss: 102361.5781 - val_loss: 97384.4609\n",
      "Epoch 114/200\n",
      "77/77 [==============================] - 0s 625us/step - loss: 102582.0703 - val_loss: 97250.6250\n",
      "Epoch 115/200\n",
      "77/77 [==============================] - 0s 632us/step - loss: 101867.5703 - val_loss: 104188.2969\n",
      "Epoch 116/200\n",
      "77/77 [==============================] - 0s 631us/step - loss: 101338.5469 - val_loss: 97418.4219\n",
      "Epoch 117/200\n",
      "77/77 [==============================] - 0s 641us/step - loss: 99693.9375 - val_loss: 98767.3281\n",
      "Epoch 118/200\n",
      "77/77 [==============================] - 0s 637us/step - loss: 100484.0391 - val_loss: 95886.4609\n",
      "Epoch 119/200\n",
      "77/77 [==============================] - 0s 647us/step - loss: 100084.7656 - val_loss: 95448.8750\n",
      "Epoch 120/200\n",
      "77/77 [==============================] - 0s 594us/step - loss: 99424.7812 - val_loss: 94224.5000\n",
      "Epoch 121/200\n",
      "77/77 [==============================] - 0s 604us/step - loss: 99822.0469 - val_loss: 100384.8281\n",
      "Epoch 122/200\n",
      "77/77 [==============================] - 0s 586us/step - loss: 99007.0312 - val_loss: 94486.5703\n",
      "Epoch 123/200\n",
      "77/77 [==============================] - 0s 592us/step - loss: 97609.0547 - val_loss: 94249.3906\n",
      "Epoch 124/200\n",
      "77/77 [==============================] - 0s 588us/step - loss: 98639.0391 - val_loss: 93066.3281\n",
      "Epoch 125/200\n",
      "77/77 [==============================] - 0s 579us/step - loss: 97704.4844 - val_loss: 93203.6719\n",
      "Epoch 126/200\n",
      "77/77 [==============================] - 0s 607us/step - loss: 96575.5859 - val_loss: 92433.1406\n",
      "Epoch 127/200\n",
      "77/77 [==============================] - 0s 598us/step - loss: 96929.3281 - val_loss: 91956.5078\n",
      "Epoch 128/200\n",
      "77/77 [==============================] - 0s 583us/step - loss: 97928.6641 - val_loss: 91361.9609\n",
      "Epoch 129/200\n",
      "77/77 [==============================] - 0s 577us/step - loss: 96407.4375 - val_loss: 92986.4531\n",
      "Epoch 130/200\n",
      "77/77 [==============================] - 0s 574us/step - loss: 95884.2578 - val_loss: 92960.6484\n",
      "Epoch 131/200\n",
      "77/77 [==============================] - 0s 591us/step - loss: 95729.3203 - val_loss: 90811.4922\n",
      "Epoch 132/200\n",
      "77/77 [==============================] - 0s 580us/step - loss: 95141.3203 - val_loss: 90012.4609\n",
      "Epoch 133/200\n",
      "77/77 [==============================] - 0s 586us/step - loss: 95471.8750 - val_loss: 90710.7578\n",
      "Epoch 134/200\n",
      "77/77 [==============================] - 0s 577us/step - loss: 94442.9922 - val_loss: 90277.9922\n",
      "Epoch 135/200\n",
      "77/77 [==============================] - 0s 586us/step - loss: 95233.4062 - val_loss: 91779.1172\n",
      "Epoch 136/200\n",
      "77/77 [==============================] - 0s 581us/step - loss: 93082.5078 - val_loss: 90694.3281\n",
      "Epoch 137/200\n",
      "77/77 [==============================] - 0s 578us/step - loss: 94886.9922 - val_loss: 89828.4531\n",
      "Epoch 138/200\n",
      "77/77 [==============================] - 0s 596us/step - loss: 93395.2734 - val_loss: 90007.8750\n",
      "Epoch 139/200\n",
      "77/77 [==============================] - 0s 592us/step - loss: 93065.6094 - val_loss: 91317.8828\n",
      "Epoch 140/200\n",
      "77/77 [==============================] - 0s 589us/step - loss: 94322.0938 - val_loss: 91738.2266\n",
      "Epoch 141/200\n",
      "77/77 [==============================] - 0s 613us/step - loss: 92161.3750 - val_loss: 88771.6328\n",
      "Epoch 142/200\n",
      "77/77 [==============================] - 0s 583us/step - loss: 93081.6797 - val_loss: 90725.9062\n",
      "Epoch 143/200\n",
      "77/77 [==============================] - 0s 573us/step - loss: 90490.7969 - val_loss: 87966.2344\n",
      "Epoch 144/200\n",
      "77/77 [==============================] - 0s 595us/step - loss: 90762.8281 - val_loss: 87273.8828\n",
      "Epoch 145/200\n",
      "77/77 [==============================] - 0s 595us/step - loss: 89955.9766 - val_loss: 87803.6562\n",
      "Epoch 146/200\n",
      "77/77 [==============================] - 0s 583us/step - loss: 90779.1250 - val_loss: 87364.6328\n",
      "Epoch 147/200\n"
     ]
    },
    {
     "name": "stdout",
     "output_type": "stream",
     "text": [
      "77/77 [==============================] - 0s 615us/step - loss: 90157.1484 - val_loss: 86573.6875\n",
      "Epoch 148/200\n",
      "77/77 [==============================] - 0s 644us/step - loss: 89291.4531 - val_loss: 86587.6953\n",
      "Epoch 149/200\n",
      "77/77 [==============================] - 0s 632us/step - loss: 89338.6484 - val_loss: 88268.4766\n",
      "Epoch 150/200\n",
      "77/77 [==============================] - 0s 633us/step - loss: 89251.3047 - val_loss: 86855.0469\n",
      "Epoch 151/200\n",
      "77/77 [==============================] - 0s 642us/step - loss: 89365.0156 - val_loss: 87624.0469\n",
      "Epoch 152/200\n",
      "77/77 [==============================] - 0s 664us/step - loss: 89958.5312 - val_loss: 86208.7344\n",
      "Epoch 153/200\n",
      "77/77 [==============================] - 0s 678us/step - loss: 88216.6641 - val_loss: 85448.9609\n",
      "Epoch 154/200\n",
      "77/77 [==============================] - 0s 644us/step - loss: 88006.3594 - val_loss: 93716.6953\n",
      "Epoch 155/200\n",
      "77/77 [==============================] - 0s 635us/step - loss: 88724.5391 - val_loss: 84817.5078\n",
      "Epoch 156/200\n",
      "77/77 [==============================] - 0s 611us/step - loss: 87924.4219 - val_loss: 87990.0312\n",
      "Epoch 157/200\n",
      "77/77 [==============================] - 0s 617us/step - loss: 86891.5703 - val_loss: 85500.1094\n",
      "Epoch 158/200\n",
      "77/77 [==============================] - 0s 630us/step - loss: 86060.1953 - val_loss: 83844.2188\n",
      "Epoch 159/200\n",
      "77/77 [==============================] - 0s 663us/step - loss: 86184.6172 - val_loss: 85407.6875\n",
      "Epoch 160/200\n",
      "77/77 [==============================] - 0s 636us/step - loss: 86704.8438 - val_loss: 83535.5859\n",
      "Epoch 161/200\n",
      "77/77 [==============================] - 0s 611us/step - loss: 85792.9609 - val_loss: 84800.3203\n",
      "Epoch 162/200\n",
      "77/77 [==============================] - 0s 620us/step - loss: 85454.8281 - val_loss: 82939.0781\n",
      "Epoch 163/200\n",
      "77/77 [==============================] - 0s 603us/step - loss: 86244.4297 - val_loss: 84175.0078\n",
      "Epoch 164/200\n",
      "77/77 [==============================] - 0s 596us/step - loss: 85802.0234 - val_loss: 84463.9766\n",
      "Epoch 165/200\n",
      "77/77 [==============================] - 0s 585us/step - loss: 84852.3203 - val_loss: 82225.6641\n",
      "Epoch 166/200\n",
      "77/77 [==============================] - 0s 577us/step - loss: 84369.5703 - val_loss: 83843.7266\n",
      "Epoch 167/200\n",
      "77/77 [==============================] - 0s 559us/step - loss: 84540.8984 - val_loss: 84581.5781\n",
      "Epoch 168/200\n",
      "77/77 [==============================] - 0s 588us/step - loss: 83887.4922 - val_loss: 80961.0859\n",
      "Epoch 169/200\n",
      "77/77 [==============================] - 0s 619us/step - loss: 84682.8203 - val_loss: 84246.2656\n",
      "Epoch 170/200\n",
      "77/77 [==============================] - 0s 622us/step - loss: 82684.6484 - val_loss: 81848.1641\n",
      "Epoch 171/200\n",
      "77/77 [==============================] - 0s 621us/step - loss: 83144.3438 - val_loss: 81728.5781\n",
      "Epoch 172/200\n",
      "77/77 [==============================] - 0s 628us/step - loss: 82674.8516 - val_loss: 80987.8516\n",
      "Epoch 173/200\n",
      "77/77 [==============================] - 0s 603us/step - loss: 83656.3125 - val_loss: 85251.8047\n",
      "Epoch 174/200\n",
      "77/77 [==============================] - 0s 577us/step - loss: 82793.0703 - val_loss: 86331.0625\n",
      "Epoch 175/200\n",
      "77/77 [==============================] - 0s 574us/step - loss: 82526.3359 - val_loss: 81755.4219\n",
      "Epoch 176/200\n",
      "77/77 [==============================] - 0s 574us/step - loss: 82502.3906 - val_loss: 80131.3672\n",
      "Epoch 177/200\n",
      "77/77 [==============================] - 0s 605us/step - loss: 81196.7188 - val_loss: 79582.7969\n",
      "Epoch 178/200\n",
      "77/77 [==============================] - 0s 692us/step - loss: 81313.4688 - val_loss: 79589.7266\n",
      "Epoch 179/200\n",
      "77/77 [==============================] - 0s 711us/step - loss: 80300.5859 - val_loss: 80280.0391\n",
      "Epoch 180/200\n",
      "77/77 [==============================] - 0s 709us/step - loss: 79902.5781 - val_loss: 79365.0547\n",
      "Epoch 181/200\n",
      "77/77 [==============================] - 0s 642us/step - loss: 81521.6250 - val_loss: 83421.9141\n",
      "Epoch 182/200\n",
      "77/77 [==============================] - 0s 640us/step - loss: 80661.6953 - val_loss: 79308.4219\n",
      "Epoch 183/200\n",
      "77/77 [==============================] - 0s 721us/step - loss: 79562.0391 - val_loss: 77719.0625\n",
      "Epoch 184/200\n",
      "77/77 [==============================] - 0s 616us/step - loss: 78642.7812 - val_loss: 79042.6953\n",
      "Epoch 185/200\n",
      "77/77 [==============================] - 0s 634us/step - loss: 82552.5625 - val_loss: 83974.4531\n",
      "Epoch 186/200\n",
      "77/77 [==============================] - 0s 601us/step - loss: 78570.0859 - val_loss: 78858.8984\n",
      "Epoch 187/200\n",
      "77/77 [==============================] - 0s 650us/step - loss: 78675.8516 - val_loss: 77924.3281\n",
      "Epoch 188/200\n",
      "77/77 [==============================] - 0s 627us/step - loss: 77229.7031 - val_loss: 82569.0391\n",
      "Epoch 189/200\n",
      "77/77 [==============================] - 0s 623us/step - loss: 79157.3594 - val_loss: 77851.5000\n",
      "Epoch 190/200\n",
      "77/77 [==============================] - 0s 576us/step - loss: 76446.7109 - val_loss: 76971.2734\n",
      "Epoch 191/200\n",
      "77/77 [==============================] - 0s 578us/step - loss: 76841.3438 - val_loss: 76085.3828\n",
      "Epoch 192/200\n",
      "77/77 [==============================] - 0s 586us/step - loss: 76916.1328 - val_loss: 75163.2266\n",
      "Epoch 193/200\n",
      "77/77 [==============================] - 0s 586us/step - loss: 80154.2031 - val_loss: 78815.5078\n",
      "Epoch 194/200\n",
      "77/77 [==============================] - 0s 634us/step - loss: 76455.1406 - val_loss: 77870.1172\n",
      "Epoch 195/200\n",
      "77/77 [==============================] - 0s 621us/step - loss: 76075.1641 - val_loss: 76689.5938\n",
      "Epoch 196/200\n",
      "77/77 [==============================] - 0s 611us/step - loss: 75562.0703 - val_loss: 77608.4609\n",
      "Epoch 197/200\n",
      "77/77 [==============================] - 0s 632us/step - loss: 75421.6328 - val_loss: 78131.0547\n",
      "Epoch 198/200\n",
      "77/77 [==============================] - 0s 601us/step - loss: 77726.2188 - val_loss: 75485.8672\n",
      "Epoch 199/200\n",
      "77/77 [==============================] - 0s 592us/step - loss: 75561.5938 - val_loss: 77659.7109\n",
      "Epoch 200/200\n",
      "77/77 [==============================] - 0s 677us/step - loss: 75387.2969 - val_loss: 73621.4688\n",
      "Mean Squared Error: 92358.88538855751\n",
      "Root Mean Squared Error: 303.9060469759651\n",
      "R-squared: 0.7714701195715914\n",
      "Adjusted R-squared: 0.7698931451235518\n"
     ]
    }
   ],
   "source": [
    "from keras.models import Sequential\n",
    "from keras.layers import Dense\n",
    "\n",
    "model = Sequential()\n",
    "\n",
    "model.add(Dense(units=64, activation='relu', input_dim=X_train_scaled.shape[1]))\n",
    "\n",
    "model.add(Dense(units=32, activation='relu'))\n",
    "\n",
    "model.add(Dense(units=16, activation='relu'))\n",
    "\n",
    "model.add(Dense(units=8, activation='relu'))\n",
    "\n",
    "model.add(Dense(units=1, activation='linear'))\n",
    "\n",
    "model.compile(optimizer='adam', loss='mean_squared_error')\n",
    "\n",
    "#from keras.layers import Dropout\n",
    "#model.add(Dropout(0.5)) \n",
    "\n",
    "#from keras.regularizers import l1, l2\n",
    "#model.add(Dense(units=64, activation='relu', input_dim=X_train.shape[1], kernel_regularizer=l2(0.01)))\n",
    "\n",
    "from keras.callbacks import EarlyStopping\n",
    "early_stopping = EarlyStopping(monitor='val_loss', patience = 10, restore_best_weights=True)\n",
    "model.fit(X_train_scaled, y_train, epochs = 200, batch_size = 64, validation_split=0.3, callbacks=[early_stopping])\n",
    "\n",
    "mse = mean_squared_error(y_test, y_pred)\n",
    "mse_r = mean_squared_error(y_test, y_pred, squared = False)\n",
    "r2 = r2_score(y_test, y_pred)\n",
    "\n",
    "n = len(y_test)\n",
    "k = X_train_scaled.shape[1]  \n",
    "adj_r2 = 1 - ((1 - r2) * (n - 1) / (n - k - 1))\n",
    "\n",
    "print(f'Mean Squared Error: {mse}')\n",
    "print(f'Root Mean Squared Error: {mse_r}')\n",
    "print(f'R-squared: {r2}')\n",
    "print(f'Adjusted R-squared: {adj_r2}')"
   ]
  },
  {
   "cell_type": "code",
   "execution_count": 85,
   "id": "f4ed3263",
   "metadata": {},
   "outputs": [
    {
     "name": "stdout",
     "output_type": "stream",
     "text": [
      "Mean Squared Error: 92358.88538855751\n",
      "Root Mean Squared Error: 303.9060469759651\n",
      "R-squared: 0.7714701195715914\n",
      "Adjusted R-squared: 0.7698931451235518\n"
     ]
    }
   ],
   "source": [
    "print(f'Mean Squared Error: {mse}')\n",
    "print(f'Root Mean Squared Error: {mse_r}')\n",
    "print(f'R-squared: {r2}')\n",
    "print(f'Adjusted R-squared: {adj_r2}')"
   ]
  },
  {
   "cell_type": "code",
   "execution_count": 86,
   "id": "a32f3df8",
   "metadata": {},
   "outputs": [
    {
     "name": "stdout",
     "output_type": "stream",
     "text": [
      "219/219 [==============================] - 0s 302us/step\n",
      "55/55 [==============================] - 0s 293us/step\n",
      "Training MSE: 73013.88601358036\n",
      "Validation MSE: 74194.4127476367\n",
      "Huber Loss: [[2.56473938e+02 4.38473938e+02 3.19473938e+02 ... 2.26526062e+02\n",
      "  2.46473938e+02 2.80473938e+02]\n",
      " [1.91641907e+02 9.64190674e+00 1.28641907e+02 ... 6.75641907e+02\n",
      "  2.01641907e+02 1.67641907e+02]\n",
      " [2.95691833e+02 4.77691833e+02 3.58691833e+02 ... 1.87308167e+02\n",
      "  2.85691833e+02 3.19691833e+02]\n",
      " ...\n",
      " [7.22512634e+02 9.04512634e+02 7.85512634e+02 ... 2.38512634e+02\n",
      "  7.12512634e+02 7.46512634e+02]\n",
      " [1.22793213e+02 3.04793213e+02 1.85793213e+02 ... 3.60206787e+02\n",
      "  1.12793213e+02 1.46793213e+02]\n",
      " [2.27680683e-01 1.80825195e+02 6.18251953e+01 ... 4.84174805e+02\n",
      "  1.01748047e+01 2.28251953e+01]]\n",
      "Mean Huber Loss: 648.1771284728512\n"
     ]
    }
   ],
   "source": [
    "train_pred = model.predict(X_train_scaled)\n",
    "test_pred = model.predict(X_test_scaled)\n",
    "\n",
    "from sklearn.metrics import mean_squared_error, r2_score\n",
    "\n",
    "train_mse = mean_squared_error(y_train, train_pred)\n",
    "test_mse = mean_squared_error(y_test, test_pred)\n",
    "\n",
    "print(f'Training MSE: {train_mse}')\n",
    "print(f'Validation MSE: {test_mse}')\n",
    "\n",
    "import tensorflow as tf\n",
    "def huber_loss(y_test, y_pred, delta = 1.0):\n",
    "    error = y_test - y_pred\n",
    "    condition = tf.abs(error) < delta\n",
    "    squared_loss = 0.5 * tf.square(error)\n",
    "    linear_loss = delta * (tf.abs(error) - 0.5 * delta)\n",
    "    return tf.where(condition, squared_loss, linear_loss)\n",
    "\n",
    "loss = huber_loss(y_test, y_pred, delta = 1.0)\n",
    "print(\"Huber Loss:\", loss.numpy())\n",
    "\n",
    "mean_huber_loss = np.mean(loss)\n",
    "print(f\"Mean Huber Loss: {mean_huber_loss}\")"
   ]
  },
  {
   "cell_type": "code",
   "execution_count": null,
   "id": "3e549f40",
   "metadata": {},
   "outputs": [],
   "source": []
  },
  {
   "cell_type": "markdown",
   "id": "f0d8b450",
   "metadata": {},
   "source": [
    "# SVM"
   ]
  },
  {
   "cell_type": "code",
   "execution_count": 87,
   "id": "577688c3",
   "metadata": {},
   "outputs": [],
   "source": [
    "from sklearn import svm"
   ]
  },
  {
   "cell_type": "code",
   "execution_count": 88,
   "id": "ff30a011",
   "metadata": {},
   "outputs": [
    {
     "name": "stdout",
     "output_type": "stream",
     "text": [
      "Mean Squared Error: 220202.8142315266\n",
      "Root Mean Squared Error: 469.25772687461057\n",
      "R-squared: 0.45513717933451325\n",
      "Adjusted R-squared: 0.45137734388426265\n"
     ]
    }
   ],
   "source": [
    "regressor = svm.SVR(kernel = 'linear', C = 5.0, epsilon = 2.5)\n",
    "\n",
    "regressor.fit(X_train_scaled, y_train)\n",
    "\n",
    "yp_svm = regressor.predict(X_test_scaled)\n",
    "\n",
    "mse = mean_squared_error(y_test, yp_svm)\n",
    "mse_r = mean_squared_error(y_test, yp_svm, squared = False)\n",
    "r2 = r2_score(y_test, yp_svm)\n",
    "\n",
    "n = len(y_test)\n",
    "k = X_train_scaled.shape[1]  \n",
    "adj_r2 = 1 - ((1 - r2) * (n - 1) / (n - k - 1))\n",
    "\n",
    "print(f'Mean Squared Error: {mse}')\n",
    "print(f'Root Mean Squared Error: {mse_r}')\n",
    "print(f'R-squared: {r2}')\n",
    "print(f'Adjusted R-squared: {adj_r2}')"
   ]
  },
  {
   "cell_type": "code",
   "execution_count": 89,
   "id": "a8e88b7d",
   "metadata": {},
   "outputs": [
    {
     "data": {
      "text/plain": [
       "0.3638188085225539"
      ]
     },
     "execution_count": 89,
     "metadata": {},
     "output_type": "execute_result"
    }
   ],
   "source": [
    "score_svm = cross_val_score(svm.SVR(kernel = 'linear', C = 5.0, epsilon = 2.5), \n",
    "                            X_test_scaled, y_test, cv = 10, scoring = 'r2').mean()\n",
    "score_svm"
   ]
  },
  {
   "cell_type": "code",
   "execution_count": 90,
   "id": "ea0dc11d",
   "metadata": {},
   "outputs": [
    {
     "data": {
      "text/html": [
       "<div>\n",
       "<style scoped>\n",
       "    .dataframe tbody tr th:only-of-type {\n",
       "        vertical-align: middle;\n",
       "    }\n",
       "\n",
       "    .dataframe tbody tr th {\n",
       "        vertical-align: top;\n",
       "    }\n",
       "\n",
       "    .dataframe thead th {\n",
       "        text-align: right;\n",
       "    }\n",
       "</style>\n",
       "<table border=\"1\" class=\"dataframe\">\n",
       "  <thead>\n",
       "    <tr style=\"text-align: right;\">\n",
       "      <th></th>\n",
       "      <th>Actual</th>\n",
       "      <th>Predicted</th>\n",
       "    </tr>\n",
       "  </thead>\n",
       "  <tbody>\n",
       "    <tr>\n",
       "      <th>0</th>\n",
       "      <td>278.0</td>\n",
       "      <td>756.616406</td>\n",
       "    </tr>\n",
       "    <tr>\n",
       "      <th>1</th>\n",
       "      <td>96.0</td>\n",
       "      <td>-51.270283</td>\n",
       "    </tr>\n",
       "    <tr>\n",
       "      <th>2</th>\n",
       "      <td>215.0</td>\n",
       "      <td>756.654760</td>\n",
       "    </tr>\n",
       "    <tr>\n",
       "      <th>3</th>\n",
       "      <td>1290.0</td>\n",
       "      <td>792.623854</td>\n",
       "    </tr>\n",
       "    <tr>\n",
       "      <th>4</th>\n",
       "      <td>165.0</td>\n",
       "      <td>422.297329</td>\n",
       "    </tr>\n",
       "  </tbody>\n",
       "</table>\n",
       "</div>"
      ],
      "text/plain": [
       "   Actual   Predicted\n",
       "0   278.0  756.616406\n",
       "1    96.0  -51.270283\n",
       "2   215.0  756.654760\n",
       "3  1290.0  792.623854\n",
       "4   165.0  422.297329"
      ]
     },
     "execution_count": 90,
     "metadata": {},
     "output_type": "execute_result"
    }
   ],
   "source": [
    "pred_svm = pd.DataFrame({'Actual': y_test, 'Predicted': yp_svm})\n",
    "pred_svm.head()"
   ]
  },
  {
   "cell_type": "code",
   "execution_count": null,
   "id": "4dee445f",
   "metadata": {},
   "outputs": [],
   "source": []
  },
  {
   "cell_type": "code",
   "execution_count": 91,
   "id": "753e0e58",
   "metadata": {},
   "outputs": [
    {
     "name": "stdout",
     "output_type": "stream",
     "text": [
      "Mean Squared Error: 160193.39347554627\n",
      "Root Mean Squared Error: 400.2416688396478\n",
      "R-squared: 0.6036225761888292\n",
      "Adjusted R-squared: 0.6008873668238297\n"
     ]
    }
   ],
   "source": [
    "regressor = svm.SVR(kernel = 'poly', C = 50.0, epsilon = 3.5, degree = 2)\n",
    "\n",
    "regressor.fit(X_train_scaled, y_train)\n",
    "\n",
    "yp_svm_p2 = regressor.predict(X_test_scaled)\n",
    "\n",
    "mse = mean_squared_error(y_test, yp_svm_p2)\n",
    "mse_r = mean_squared_error(y_test, yp_svm_p2, squared = False)\n",
    "r2 = r2_score(y_test, yp_svm_p2)\n",
    "\n",
    "n = len(y_test)\n",
    "k = X_train_scaled.shape[1]  \n",
    "adj_r2 = 1 - ((1 - r2) * (n - 1) / (n - k - 1))\n",
    "\n",
    "print(f'Mean Squared Error: {mse}')\n",
    "print(f'Root Mean Squared Error: {mse_r}')\n",
    "print(f'R-squared: {r2}')\n",
    "print(f'Adjusted R-squared: {adj_r2}')"
   ]
  },
  {
   "cell_type": "code",
   "execution_count": 92,
   "id": "7db15db6",
   "metadata": {},
   "outputs": [
    {
     "data": {
      "text/plain": [
       "0.5686715095042352"
      ]
     },
     "execution_count": 92,
     "metadata": {},
     "output_type": "execute_result"
    }
   ],
   "source": [
    "score_svr = cross_val_score(svm.SVR(kernel = 'poly', C = 50.0, epsilon = 3.5, degree = 2), \n",
    "                            X_test_scaled, y_test, cv = 10, scoring = 'r2').mean()\n",
    "score_svr"
   ]
  },
  {
   "cell_type": "code",
   "execution_count": 93,
   "id": "2b7f64bf",
   "metadata": {},
   "outputs": [
    {
     "name": "stdout",
     "output_type": "stream",
     "text": [
      "Training MSE: 167267.6930914243\n",
      "Validation MSE: 160193.39347554627\n",
      "Huber Loss: [375.45062594   3.86296596 503.08507458 ...  34.75855603  27.06379235\n",
      "   1.90599832]\n",
      "Mean Huber Loss: 270.39235339210677\n"
     ]
    }
   ],
   "source": [
    "train_pred = regressor.predict(X_train_scaled)\n",
    "test_pred = regressor.predict(X_test_scaled)\n",
    "\n",
    "from sklearn.metrics import mean_squared_error, r2_score\n",
    "\n",
    "train_mse = mean_squared_error(y_train, train_pred)\n",
    "test_mse = mean_squared_error(y_test, test_pred)\n",
    "\n",
    "print(f'Training MSE: {train_mse}')\n",
    "print(f'Validation MSE: {test_mse}')\n",
    "\n",
    "import tensorflow as tf\n",
    "def huber_loss(y_test, yp_svm_p2, delta = 1.0):\n",
    "    error = y_test - yp_svm_p2\n",
    "    condition = tf.abs(error) < delta\n",
    "    squared_loss = 0.5 * tf.square(error)\n",
    "    linear_loss = delta * (tf.abs(error) - 0.5 * delta)\n",
    "    return tf.where(condition, squared_loss, linear_loss)\n",
    "\n",
    "loss = huber_loss(y_test, yp_svm_p2, delta = 1.0)\n",
    "print(\"Huber Loss:\", loss.numpy())\n",
    "\n",
    "mean_huber_loss = np.mean(loss)\n",
    "print(f\"Mean Huber Loss: {mean_huber_loss}\")"
   ]
  },
  {
   "cell_type": "code",
   "execution_count": 94,
   "id": "ec18e31f",
   "metadata": {},
   "outputs": [],
   "source": [
    "from sklearn.model_selection import RandomizedSearchCV\n",
    "\n",
    "param_dist = {'kernel': ['linear', 'poly', 'rbf', 'sigmoid'],\n",
    "              'C': [0.1, 1, 10, 100],\n",
    "              'epsilon': [0.1, 0.5, 1, 2],\n",
    "              'degree': [2, 3, 4]}\n",
    "\n",
    "random_search = RandomizedSearchCV(svm.SVR(), param_dist, cv=5)\n",
    "random_search.fit(X_train_scaled, y_train)\n",
    "\n",
    "best_params = random_search.best_params_\n",
    "best_regressor = random_search.best_estimator_\n",
    "\n",
    "yp_best = best_regressor.predict(X_test_scaled)\n"
   ]
  },
  {
   "cell_type": "code",
   "execution_count": 95,
   "id": "f7582981",
   "metadata": {},
   "outputs": [
    {
     "data": {
      "text/plain": [
       "{'kernel': 'rbf', 'epsilon': 2, 'degree': 4, 'C': 100}"
      ]
     },
     "execution_count": 95,
     "metadata": {},
     "output_type": "execute_result"
    }
   ],
   "source": [
    "best_params"
   ]
  },
  {
   "cell_type": "code",
   "execution_count": 96,
   "id": "7c6a0fea",
   "metadata": {},
   "outputs": [
    {
     "name": "stdout",
     "output_type": "stream",
     "text": [
      "Mean Squared Error: 131211.7797991492\n",
      "Root Mean Squared Error: 362.2316659254809\n",
      "R-squared: 0.6753337567669127\n",
      "Adjusted R-squared: 0.6730933916612214\n"
     ]
    }
   ],
   "source": [
    "regressor = svm.SVR(kernel = 'poly', C = 10.0, epsilon = 2.0, degree = 4)\n",
    "\n",
    "regressor.fit(X_train_scaled, y_train)\n",
    "\n",
    "yp_svm_p2 = regressor.predict(X_test_scaled)\n",
    "\n",
    "mse = mean_squared_error(y_test, yp_svm_p2)\n",
    "mse_r = mean_squared_error(y_test, yp_svm_p2, squared = False)\n",
    "r2 = r2_score(y_test, yp_svm_p2)\n",
    "\n",
    "n = len(y_test)\n",
    "k = X_train_scaled.shape[1]  \n",
    "adj_r2 = 1 - ((1 - r2) * (n - 1) / (n - k - 1))\n",
    "\n",
    "print(f'Mean Squared Error: {mse}')\n",
    "print(f'Root Mean Squared Error: {mse_r}')\n",
    "print(f'R-squared: {r2}')\n",
    "print(f'Adjusted R-squared: {adj_r2}')"
   ]
  },
  {
   "cell_type": "code",
   "execution_count": 97,
   "id": "4fa3a720",
   "metadata": {},
   "outputs": [
    {
     "data": {
      "text/plain": [
       "0.6311822372531833"
      ]
     },
     "execution_count": 97,
     "metadata": {},
     "output_type": "execute_result"
    }
   ],
   "source": [
    "score_svr = cross_val_score(svm.SVR(kernel = 'poly', C = 10.0, epsilon = 2.0, degree = 4), \n",
    "                            X_test_scaled, y_test, cv = 10, scoring = 'r2').mean()\n",
    "score_svr"
   ]
  },
  {
   "cell_type": "code",
   "execution_count": 98,
   "id": "3cf8f7b3",
   "metadata": {},
   "outputs": [
    {
     "name": "stdout",
     "output_type": "stream",
     "text": [
      "Training MSE: 144330.44901054853\n",
      "Validation MSE: 131211.7797991492\n",
      "Huber Loss: [262.46364556   5.75479504 462.91365616 ...  27.89716222  52.34869084\n",
      "  14.3959097 ]\n",
      "Mean Huber Loss: 234.53624251979005\n"
     ]
    }
   ],
   "source": [
    "train_pred = regressor.predict(X_train_scaled)\n",
    "test_pred = regressor.predict(X_test_scaled)\n",
    "\n",
    "from sklearn.metrics import mean_squared_error, r2_score\n",
    "\n",
    "train_mse = mean_squared_error(y_train, train_pred)\n",
    "test_mse = mean_squared_error(y_test, test_pred)\n",
    "\n",
    "print(f'Training MSE: {train_mse}')\n",
    "print(f'Validation MSE: {test_mse}')\n",
    "\n",
    "import tensorflow as tf\n",
    "def huber_loss(y_test, yp_svm_p2, delta = 1.0):\n",
    "    error = y_test - yp_svm_p2\n",
    "    condition = tf.abs(error) < delta\n",
    "    squared_loss = 0.5 * tf.square(error)\n",
    "    linear_loss = delta * (tf.abs(error) - 0.5 * delta)\n",
    "    return tf.where(condition, squared_loss, linear_loss)\n",
    "\n",
    "loss = huber_loss(y_test, yp_svm_p2, delta = 1.0)\n",
    "print(\"Huber Loss:\", loss.numpy())\n",
    "\n",
    "mean_huber_loss = np.mean(loss)\n",
    "print(f\"Mean Huber Loss: {mean_huber_loss}\")"
   ]
  },
  {
   "cell_type": "code",
   "execution_count": null,
   "id": "5f7bbfb4",
   "metadata": {},
   "outputs": [],
   "source": []
  },
  {
   "cell_type": "code",
   "execution_count": null,
   "id": "c70d4eea",
   "metadata": {},
   "outputs": [],
   "source": []
  },
  {
   "cell_type": "code",
   "execution_count": null,
   "id": "71310987",
   "metadata": {},
   "outputs": [],
   "source": []
  },
  {
   "cell_type": "markdown",
   "id": "cebdc20b",
   "metadata": {},
   "source": [
    "# KNN"
   ]
  },
  {
   "cell_type": "code",
   "execution_count": 99,
   "id": "051ace45",
   "metadata": {},
   "outputs": [],
   "source": [
    "from sklearn.neighbors import KNeighborsRegressor"
   ]
  },
  {
   "cell_type": "code",
   "execution_count": 100,
   "id": "e7466068",
   "metadata": {},
   "outputs": [
    {
     "data": {
      "text/plain": [
       "7"
      ]
     },
     "execution_count": 100,
     "metadata": {},
     "output_type": "execute_result"
    }
   ],
   "source": [
    "from sklearn.model_selection import GridSearchCV\n",
    "\n",
    "param_grid = {'n_neighbors': [1, 3, 5, 7, 9]}\n",
    "grid_search = GridSearchCV(KNeighborsRegressor(), param_grid, cv = 5, scoring = 'neg_mean_squared_error')\n",
    "grid_search.fit(X_train_scaled, y_train)\n",
    "\n",
    "best_k = grid_search.best_params_['n_neighbors']\n",
    "#knn_regressor = KNeighborsRegressor(n_neighbors=best_k)\n",
    "#knn_regressor.fit(X_train, y_train)\n",
    "\n",
    "best_k"
   ]
  },
  {
   "cell_type": "code",
   "execution_count": 101,
   "id": "b1c23bf5",
   "metadata": {},
   "outputs": [
    {
     "name": "stdout",
     "output_type": "stream",
     "text": [
      "Mean Squared Error: 77172.34961792936\n",
      "Root Mean Squared Error: 277.7991173814801\n",
      "R-squared: 0.8090471993423416\n",
      "Adjusted R-squared: 0.8077295261923175\n"
     ]
    }
   ],
   "source": [
    "knn_regressor = KNeighborsRegressor(n_neighbors = 7) #metric = 'manhattan') \n",
    "\n",
    "knn_regressor.fit(X_train_scaled, y_train)\n",
    "\n",
    "yp_knn = knn_regressor.predict(X_test_scaled)\n",
    "\n",
    "mse = mean_squared_error(y_test, yp_knn)\n",
    "mse_r = mean_squared_error(y_test, yp_knn, squared = False)\n",
    "r2 = r2_score(y_test, yp_knn)\n",
    "\n",
    "n = len(y_test)\n",
    "k = X_train_scaled.shape[1]  \n",
    "adj_r2 = 1 - ((1 - r2) * (n - 1) / (n - k - 1))\n",
    "\n",
    "print(f'Mean Squared Error: {mse}')\n",
    "print(f'Root Mean Squared Error: {mse_r}')\n",
    "print(f'R-squared: {r2}')\n",
    "print(f'Adjusted R-squared: {adj_r2}')"
   ]
  },
  {
   "cell_type": "code",
   "execution_count": 102,
   "id": "85167242",
   "metadata": {},
   "outputs": [
    {
     "data": {
      "text/plain": [
       "0.736637750071026"
      ]
     },
     "execution_count": 102,
     "metadata": {},
     "output_type": "execute_result"
    }
   ],
   "source": [
    "score_knn = cross_val_score(KNeighborsRegressor(n_neighbors = 7, metric='manhattan'), \n",
    "                            X_test_scaled, y_test, cv = 5, scoring = 'r2').mean()\n",
    "score_knn"
   ]
  },
  {
   "cell_type": "code",
   "execution_count": 103,
   "id": "7af89a94",
   "metadata": {},
   "outputs": [
    {
     "data": {
      "text/html": [
       "<div>\n",
       "<style scoped>\n",
       "    .dataframe tbody tr th:only-of-type {\n",
       "        vertical-align: middle;\n",
       "    }\n",
       "\n",
       "    .dataframe tbody tr th {\n",
       "        vertical-align: top;\n",
       "    }\n",
       "\n",
       "    .dataframe thead th {\n",
       "        text-align: right;\n",
       "    }\n",
       "</style>\n",
       "<table border=\"1\" class=\"dataframe\">\n",
       "  <thead>\n",
       "    <tr style=\"text-align: right;\">\n",
       "      <th></th>\n",
       "      <th>Actual</th>\n",
       "      <th>Predicted</th>\n",
       "    </tr>\n",
       "  </thead>\n",
       "  <tbody>\n",
       "    <tr>\n",
       "      <th>0</th>\n",
       "      <td>278.0</td>\n",
       "      <td>314.428571</td>\n",
       "    </tr>\n",
       "    <tr>\n",
       "      <th>1</th>\n",
       "      <td>96.0</td>\n",
       "      <td>67.857143</td>\n",
       "    </tr>\n",
       "    <tr>\n",
       "      <th>2</th>\n",
       "      <td>215.0</td>\n",
       "      <td>235.428571</td>\n",
       "    </tr>\n",
       "    <tr>\n",
       "      <th>3</th>\n",
       "      <td>1290.0</td>\n",
       "      <td>1216.142857</td>\n",
       "    </tr>\n",
       "    <tr>\n",
       "      <th>4</th>\n",
       "      <td>165.0</td>\n",
       "      <td>292.000000</td>\n",
       "    </tr>\n",
       "  </tbody>\n",
       "</table>\n",
       "</div>"
      ],
      "text/plain": [
       "   Actual    Predicted\n",
       "0   278.0   314.428571\n",
       "1    96.0    67.857143\n",
       "2   215.0   235.428571\n",
       "3  1290.0  1216.142857\n",
       "4   165.0   292.000000"
      ]
     },
     "execution_count": 103,
     "metadata": {},
     "output_type": "execute_result"
    }
   ],
   "source": [
    "pred_knn = pd.DataFrame({'Actual': y_test, 'Predicted': yp_knn})\n",
    "pred_knn.head()"
   ]
  },
  {
   "cell_type": "code",
   "execution_count": 104,
   "id": "ec4ca7f0",
   "metadata": {},
   "outputs": [
    {
     "name": "stdout",
     "output_type": "stream",
     "text": [
      "Training MSE: 60740.17127364644\n",
      "Validation MSE: 77172.34961792936\n",
      "Huber Loss: [ 35.92857143  27.64285714  19.92857143 ... 325.07142857  28.5\n",
      "  35.21428571]\n",
      "Mean Huber Loss: 178.56398518311434\n"
     ]
    }
   ],
   "source": [
    "train_pred = knn_regressor.predict(X_train_scaled)\n",
    "test_pred = knn_regressor.predict(X_test_scaled)\n",
    "\n",
    "from sklearn.metrics import mean_squared_error, r2_score\n",
    "\n",
    "train_mse = mean_squared_error(y_train, train_pred)\n",
    "test_mse = mean_squared_error(y_test, test_pred)\n",
    "\n",
    "print(f'Training MSE: {train_mse}')\n",
    "print(f'Validation MSE: {test_mse}')\n",
    "\n",
    "import tensorflow as tf\n",
    "def huber_loss(y_test, yp_knn, delta = 1.0):\n",
    "    error = y_test - yp_knn\n",
    "    condition = tf.abs(error) < delta\n",
    "    squared_loss = 0.5 * tf.square(error)\n",
    "    linear_loss = delta * (tf.abs(error) - 0.5 * delta)\n",
    "    return tf.where(condition, squared_loss, linear_loss)\n",
    "\n",
    "loss = huber_loss(y_test, yp_knn, delta = 1.0)\n",
    "print(\"Huber Loss:\", loss.numpy())\n",
    "\n",
    "mean_huber_loss = np.mean(loss)\n",
    "print(f\"Mean Huber Loss: {mean_huber_loss}\")"
   ]
  },
  {
   "cell_type": "markdown",
   "id": "3df8ec02",
   "metadata": {},
   "source": [
    "## overfitting here"
   ]
  },
  {
   "cell_type": "markdown",
   "id": "ec5225f5",
   "metadata": {},
   "source": [
    "## Bagging Regressor KNN"
   ]
  },
  {
   "cell_type": "code",
   "execution_count": 105,
   "id": "a34e3255",
   "metadata": {},
   "outputs": [
    {
     "name": "stdout",
     "output_type": "stream",
     "text": [
      "Mean Squared Error: 73942.11993942782\n",
      "Root Mean Squared Error: 271.92300369668584\n",
      "R-squared: 0.8170399766379812\n",
      "Adjusted R-squared: 0.8157774577878696\n"
     ]
    }
   ],
   "source": [
    "from sklearn.ensemble import BaggingRegressor\n",
    "\n",
    "bagging_regressor = BaggingRegressor(KNeighborsRegressor(n_neighbors = 7), n_estimators = 10, random_state=12)\n",
    "bagging_regressor.fit(X_train_scaled, y_train)\n",
    "\n",
    "\n",
    "yp_knn_bgg = bagging_regressor.predict(X_test_scaled)\n",
    "\n",
    "mse = mean_squared_error(y_test, yp_knn_bgg)\n",
    "mse_r = mean_squared_error(y_test, yp_knn_bgg, squared = False)\n",
    "r2 = r2_score(y_test, yp_knn_bgg)\n",
    "\n",
    "n = len(y_test)\n",
    "k = X_train_scaled.shape[1]  \n",
    "adj_r2 = 1 - ((1 - r2) * (n - 1) / (n - k - 1))\n",
    "\n",
    "print(f'Mean Squared Error: {mse}')\n",
    "print(f'Root Mean Squared Error: {mse_r}')\n",
    "print(f'R-squared: {r2}')\n",
    "print(f'Adjusted R-squared: {adj_r2}')"
   ]
  },
  {
   "cell_type": "code",
   "execution_count": 106,
   "id": "a1dfb6f6",
   "metadata": {},
   "outputs": [
    {
     "data": {
      "text/plain": [
       "0.7220922194704742"
      ]
     },
     "execution_count": 106,
     "metadata": {},
     "output_type": "execute_result"
    }
   ],
   "source": [
    "score_knn_bgg = cross_val_score(BaggingRegressor(KNeighborsRegressor(n_neighbors = 7), n_estimators = 10, random_state=12), \n",
    "                            X_test_scaled, y_test, cv = 5, scoring = 'r2').mean()\n",
    "score_knn_bgg"
   ]
  },
  {
   "cell_type": "code",
   "execution_count": 107,
   "id": "9b79040b",
   "metadata": {},
   "outputs": [
    {
     "name": "stdout",
     "output_type": "stream",
     "text": [
      "Training MSE: 59216.84069093048\n",
      "Validation MSE: 73942.11993942782\n",
      "Huber Loss: [ 24.94285714  14.2         23.9        ... 520.5         18.97142857\n",
      "  22.54285714]\n",
      "Mean Huber Loss: 174.6367754636101\n"
     ]
    }
   ],
   "source": [
    "train_pred = bagging_regressor.predict(X_train_scaled)\n",
    "test_pred = bagging_regressor.predict(X_test_scaled)\n",
    "\n",
    "from sklearn.metrics import mean_squared_error, r2_score\n",
    "\n",
    "train_mse = mean_squared_error(y_train, train_pred)\n",
    "test_mse = mean_squared_error(y_test, test_pred)\n",
    "\n",
    "print(f'Training MSE: {train_mse}')\n",
    "print(f'Validation MSE: {test_mse}')\n",
    "\n",
    "import tensorflow as tf\n",
    "def huber_loss(y_test, yp_knn_bgg, delta = 1.0):\n",
    "    error = y_test - yp_knn_bgg\n",
    "    condition = tf.abs(error) < delta\n",
    "    squared_loss = 0.5 * tf.square(error)\n",
    "    linear_loss = delta * (tf.abs(error) - 0.5 * delta)\n",
    "    return tf.where(condition, squared_loss, linear_loss)\n",
    "\n",
    "loss = huber_loss(y_test, yp_knn_bgg, delta = 1.0)\n",
    "print(\"Huber Loss:\", loss.numpy())\n",
    "\n",
    "mean_huber_loss = np.mean(loss)\n",
    "print(f\"Mean Huber Loss: {mean_huber_loss}\")"
   ]
  },
  {
   "cell_type": "markdown",
   "id": "207ea361",
   "metadata": {},
   "source": [
    "## overfitting here"
   ]
  },
  {
   "cell_type": "markdown",
   "id": "a3e461dc",
   "metadata": {},
   "source": [
    "# Decision Tree"
   ]
  },
  {
   "cell_type": "code",
   "execution_count": 108,
   "id": "3ae0b356",
   "metadata": {},
   "outputs": [],
   "source": [
    "from sklearn.tree import DecisionTreeRegressor"
   ]
  },
  {
   "cell_type": "code",
   "execution_count": 109,
   "id": "3f884de5",
   "metadata": {},
   "outputs": [
    {
     "data": {
      "text/plain": [
       "{'max_depth': 10, 'min_samples_leaf': 2, 'min_samples_split': 10}"
      ]
     },
     "execution_count": 109,
     "metadata": {},
     "output_type": "execute_result"
    }
   ],
   "source": [
    "from sklearn.model_selection import GridSearchCV\n",
    "\n",
    "param_grid = {\n",
    "    'max_depth': [None, 10, 20, 30],\n",
    "    'min_samples_split': [2, 5, 10],\n",
    "    'min_samples_leaf': [1, 2, 4]\n",
    "}\n",
    "\n",
    "grid_search = GridSearchCV(DecisionTreeRegressor(), param_grid, cv = 10, scoring = 'neg_mean_squared_error')\n",
    "grid_search.fit(X_train_scaled, y_train)\n",
    "\n",
    "best_params = grid_search.best_params_\n",
    "best_params"
   ]
  },
  {
   "cell_type": "code",
   "execution_count": 110,
   "id": "ee9064cc",
   "metadata": {},
   "outputs": [
    {
     "name": "stdout",
     "output_type": "stream",
     "text": [
      "Mean Squared Error: 68932.03913163528\n",
      "Root Mean Squared Error: 262.5491175601915\n",
      "R-squared: 0.8294367608036264\n",
      "Adjusted R-squared: 0.8282597861800747\n"
     ]
    }
   ],
   "source": [
    "tree_regressor = DecisionTreeRegressor(\n",
    "    max_depth = 10,\n",
    "    min_samples_split = 10,\n",
    "    min_samples_leaf = 2,\n",
    "    random_state = 12\n",
    ")\n",
    "\n",
    "tree_regressor.fit(X_train_scaled, y_train)\n",
    "\n",
    "yp_dt = tree_regressor.predict(X_test_scaled)\n",
    "\n",
    "mse = mean_squared_error(y_test, yp_dt)\n",
    "mse_r = mean_squared_error(y_test, yp_dt, squared = False)\n",
    "r2 = r2_score(y_test, yp_dt)\n",
    "\n",
    "n = len(y_test)\n",
    "k = X_train_scaled.shape[1]  \n",
    "adj_r2 = 1 - ((1 - r2) * (n - 1) / (n - k - 1))\n",
    "\n",
    "print(f'Mean Squared Error: {mse}')\n",
    "print(f'Root Mean Squared Error: {mse_r}')\n",
    "print(f'R-squared: {r2}')\n",
    "print(f'Adjusted R-squared: {adj_r2}')"
   ]
  },
  {
   "cell_type": "code",
   "execution_count": 111,
   "id": "503c2f33",
   "metadata": {},
   "outputs": [
    {
     "data": {
      "text/plain": [
       "0.7352431381070327"
      ]
     },
     "execution_count": 111,
     "metadata": {},
     "output_type": "execute_result"
    }
   ],
   "source": [
    "score_dt = cross_val_score(DecisionTreeRegressor(max_depth = 10, min_samples_split = 10, \n",
    "                                                 min_samples_leaf = 1, random_state = 12), \n",
    "X_test_scaled, y_test, cv = 5, scoring = 'r2').mean()\n",
    "\n",
    "score_dt"
   ]
  },
  {
   "cell_type": "code",
   "execution_count": 112,
   "id": "eeb2b251",
   "metadata": {},
   "outputs": [
    {
     "data": {
      "text/html": [
       "<div>\n",
       "<style scoped>\n",
       "    .dataframe tbody tr th:only-of-type {\n",
       "        vertical-align: middle;\n",
       "    }\n",
       "\n",
       "    .dataframe tbody tr th {\n",
       "        vertical-align: top;\n",
       "    }\n",
       "\n",
       "    .dataframe thead th {\n",
       "        text-align: right;\n",
       "    }\n",
       "</style>\n",
       "<table border=\"1\" class=\"dataframe\">\n",
       "  <thead>\n",
       "    <tr style=\"text-align: right;\">\n",
       "      <th></th>\n",
       "      <th>Actual</th>\n",
       "      <th>Predicted</th>\n",
       "    </tr>\n",
       "  </thead>\n",
       "  <tbody>\n",
       "    <tr>\n",
       "      <th>0</th>\n",
       "      <td>278.0</td>\n",
       "      <td>345.118182</td>\n",
       "    </tr>\n",
       "    <tr>\n",
       "      <th>1</th>\n",
       "      <td>96.0</td>\n",
       "      <td>92.083333</td>\n",
       "    </tr>\n",
       "    <tr>\n",
       "      <th>2</th>\n",
       "      <td>215.0</td>\n",
       "      <td>223.230392</td>\n",
       "    </tr>\n",
       "    <tr>\n",
       "      <th>3</th>\n",
       "      <td>1290.0</td>\n",
       "      <td>1086.692308</td>\n",
       "    </tr>\n",
       "    <tr>\n",
       "      <th>4</th>\n",
       "      <td>165.0</td>\n",
       "      <td>366.443182</td>\n",
       "    </tr>\n",
       "  </tbody>\n",
       "</table>\n",
       "</div>"
      ],
      "text/plain": [
       "   Actual    Predicted\n",
       "0   278.0   345.118182\n",
       "1    96.0    92.083333\n",
       "2   215.0   223.230392\n",
       "3  1290.0  1086.692308\n",
       "4   165.0   366.443182"
      ]
     },
     "execution_count": 112,
     "metadata": {},
     "output_type": "execute_result"
    }
   ],
   "source": [
    "pred_dt = pd.DataFrame({'Actual': y_test, 'Predicted': yp_dt})\n",
    "pred_dt.head()"
   ]
  },
  {
   "cell_type": "code",
   "execution_count": 113,
   "id": "e05c04f7",
   "metadata": {},
   "outputs": [
    {
     "name": "stdout",
     "output_type": "stream",
     "text": [
      "Training MSE: 49045.3121731998\n",
      "Validation MSE: 68932.03913163528\n",
      "Huber Loss: [ 66.61818182   3.41666667   7.73039216 ...   5.76315789 129.52631579\n",
      "   1.78571429]\n",
      "Mean Huber Loss: 162.90471140806181\n"
     ]
    }
   ],
   "source": [
    "train_pred = tree_regressor.predict(X_train_scaled)\n",
    "test_pred = tree_regressor.predict(X_test_scaled)\n",
    "\n",
    "from sklearn.metrics import mean_squared_error, r2_score\n",
    "\n",
    "train_mse = mean_squared_error(y_train, train_pred)\n",
    "test_mse = mean_squared_error(y_test, test_pred)\n",
    "\n",
    "print(f'Training MSE: {train_mse}')\n",
    "print(f'Validation MSE: {test_mse}')\n",
    "\n",
    "import tensorflow as tf\n",
    "def huber_loss(y_test, yp_dt, delta = 1.0):\n",
    "    error = y_test - yp_dt\n",
    "    condition = tf.abs(error) < delta\n",
    "    squared_loss = 0.5 * tf.square(error)\n",
    "    linear_loss = delta * (tf.abs(error) - 0.5 * delta)\n",
    "    return tf.where(condition, squared_loss, linear_loss)\n",
    "\n",
    "loss = huber_loss(y_test, yp_dt, delta = 1.0)\n",
    "print(\"Huber Loss:\", loss.numpy())\n",
    "\n",
    "mean_huber_loss = np.mean(loss)\n",
    "print(f\"Mean Huber Loss: {mean_huber_loss}\")"
   ]
  },
  {
   "cell_type": "markdown",
   "id": "47a91686",
   "metadata": {},
   "source": [
    "## overfitting here"
   ]
  },
  {
   "cell_type": "markdown",
   "id": "8431e836",
   "metadata": {},
   "source": [
    "# Summary"
   ]
  },
  {
   "cell_type": "code",
   "execution_count": 114,
   "id": "112bc5e6",
   "metadata": {},
   "outputs": [
    {
     "name": "stdout",
     "output_type": "stream",
     "text": [
      "R2 LN: 0.5401567583588167\n",
      "R2 LNP2: 0.6714985430933418\n",
      "R2 RP2: 0.6433462216682719\n",
      "R2 RF: 0.8815899236579663\n",
      "R2 Report SVM: 0.45513717933451325\n",
      "R2 SVR: 0.6753337567669127\n",
      "R2 KNN: 0.8090471993423416\n",
      "R2 KNN BGG: 0.8170399766379812\n",
      "R2 DT: 0.8294367608036264\n"
     ]
    }
   ],
   "source": [
    "print(\"R2 LN:\", r2_score(y_test, yp_lr))\n",
    "\n",
    "print(\"R2 LNP2:\", r2_score(y_test, yp_p2))\n",
    "\n",
    "print(\"R2 RP2:\", r2_score(y_test, yp_rp2))\n",
    "\n",
    "print(\"R2 RF:\", r2_score(y_test, y_pred_best))\n",
    "\n",
    "print(\"R2 Report SVM:\", r2_score(y_test, yp_svm))\n",
    "\n",
    "print(\"R2 SVR:\", r2_score(y_test, yp_svm_p2))\n",
    "\n",
    "print(\"R2 KNN:\", r2_score(y_test, yp_knn))\n",
    "\n",
    "print(\"R2 KNN BGG:\", r2_score(y_test, yp_knn_bgg))\n",
    "\n",
    "print(\"R2 DT:\", r2_score(y_test, yp_dt))"
   ]
  },
  {
   "cell_type": "code",
   "execution_count": null,
   "id": "543c1b24",
   "metadata": {},
   "outputs": [],
   "source": []
  },
  {
   "cell_type": "markdown",
   "id": "8706c32c",
   "metadata": {},
   "source": [
    "less X \n",
    "- R2 LN: 0.52529649482042\n",
    "- R2 LNP2: 0.6554331060997658\n",
    "- R2 RP2: 0.6213144674255984\n",
    "- R2 RF: 0.8652196621176939\n",
    "- R2 SVM: 0.4251713331905206\n",
    "- R2 SVR: 0.5968790842225762\n",
    "- R2 KNN: 0.8351079076593745\n",
    "- R2 KNN BGG: 0.820196677419755\n",
    "- R2 DT: 0.8123233303297475"
   ]
  },
  {
   "cell_type": "markdown",
   "id": "351d7512",
   "metadata": {},
   "source": [
    "PCA\n",
    "- R2 LN: 0.00026587473278671947\n",
    "- R2 LNP2: -0.016234262458589388\n",
    "- R2 RP2: 4.7678354563984726e-05\n",
    "- R2 RF: -0.0074760565829212755\n",
    "- R2 SVM: -0.08563072443027475\n",
    "- R2 SVR: -0.09217215527709399\n",
    "- R2 KNN: -0.09579557291859575\n",
    "- R2 KNN BGG: -0.18895100097992756\n",
    "- R2 DT: -0.08782161761984697"
   ]
  },
  {
   "cell_type": "code",
   "execution_count": 115,
   "id": "93c77371",
   "metadata": {},
   "outputs": [
    {
     "name": "stdout",
     "output_type": "stream",
     "text": [
      "Cross Validation LN: 0.5341206624410259\n",
      "Cross Validation LNP2: 0.5341206624410259\n",
      "Cross Validation RP2: 0.5186486637938877\n",
      "Cross Validation RF: 0.8370468983350395\n",
      "Cross Validation SVM: 0.3638188085225539\n",
      "Cross Validation SVR: 0.6311822372531833\n",
      "Cross Validation KNN: 0.736637750071026\n",
      "Cross Validation KNN BGG: 0.7220922194704742\n",
      "Cross Validation DT: 0.7352431381070327\n"
     ]
    }
   ],
   "source": [
    "print(\"Cross Validation LN:\", score_l) #yp_lr\n",
    "\n",
    "print(\"Cross Validation LNP2:\", score_lp2) #yp_p2\n",
    "\n",
    "print(\"Cross Validation RP2:\", score_rp2) #yp_rp2\n",
    "\n",
    "print(\"Cross Validation RF:\", score_rf) #y_pred_best\n",
    "\n",
    "#ANN y_pred\n",
    "\n",
    "print(\"Cross Validation SVM:\", score_svm) #yp_svm\n",
    "\n",
    "print(\"Cross Validation SVR:\", score_svr) #yp_svm_p2\n",
    "\n",
    "print(\"Cross Validation KNN:\", score_knn) #yp_knn\n",
    "\n",
    "print(\"Cross Validation KNN BGG:\", score_knn_bgg)  #yp_knn_bgg\n",
    "\n",
    "print(\"Cross Validation DT:\", score_dt) #yp_dt\n",
    "\n",
    "\n"
   ]
  },
  {
   "cell_type": "code",
   "execution_count": null,
   "id": "87752301",
   "metadata": {},
   "outputs": [],
   "source": []
  },
  {
   "cell_type": "code",
   "execution_count": null,
   "id": "ff844956",
   "metadata": {},
   "outputs": [],
   "source": []
  },
  {
   "cell_type": "code",
   "execution_count": null,
   "id": "cafe00a2",
   "metadata": {},
   "outputs": [],
   "source": []
  },
  {
   "cell_type": "code",
   "execution_count": null,
   "id": "2959e6c5",
   "metadata": {},
   "outputs": [],
   "source": []
  },
  {
   "cell_type": "code",
   "execution_count": null,
   "id": "f9ef0b3f",
   "metadata": {},
   "outputs": [],
   "source": []
  },
  {
   "cell_type": "code",
   "execution_count": null,
   "id": "15adf5e0",
   "metadata": {},
   "outputs": [],
   "source": []
  }
 ],
 "metadata": {
  "kernelspec": {
   "display_name": "Python 3 (ipykernel)",
   "language": "python",
   "name": "python3"
  },
  "language_info": {
   "codemirror_mode": {
    "name": "ipython",
    "version": 3
   },
   "file_extension": ".py",
   "mimetype": "text/x-python",
   "name": "python",
   "nbconvert_exporter": "python",
   "pygments_lexer": "ipython3",
   "version": "3.11.5"
  }
 },
 "nbformat": 4,
 "nbformat_minor": 5
}
