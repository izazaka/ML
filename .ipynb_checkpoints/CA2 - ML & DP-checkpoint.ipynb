{
 "cells": [
  {
   "cell_type": "markdown",
   "id": "ccfd3eb0",
   "metadata": {},
   "source": [
    "Task:\n",
    "As a data analyst, your task is to prepare and analyse the data set using appropriate data preparation and statistical techniques and ultimately apply the machine learning models for the specified tasks. Your analysis should aim to identify any relationships or trends in the data that can be used to improve employee satisfaction, productivity and issues. Recognise suitable independent variables and target variable from the dataset to justify your classification/ prediction tasks. You can perform clustering on the dataset based on your analysis if applicable. You can generate synthetic data or use any additional data to support your machine learning models if required."
   ]
  },
  {
   "cell_type": "markdown",
   "id": "d3939cb6",
   "metadata": {},
   "source": [
    "\n",
    "Data Preparation\n",
    "● Characterisation of the data set: size; number of attributes; has/does not have missing values, number of observations etc.[0-10]\n",
    "● Application of Data preparation/evaluation methods (Cleaning, renaming, etc) and EDA (Exploratory Data Analysis) visualizations (plural), including a clear and concise explanation of your rationale for what you are doing with the data and why you are doing it.[0-20]\n",
    "● Apply encoding, scaling and feature engineering as and if required, detailing how and why you used these techniques and the rationale for your decisions.[0-30]\n",
    "● Explore the possibility of using dimensional reduction on the dataset. Employ both LDA (Linear Discriminant Analysis) and PCA (Principal Component Analysis) and compare the separation of\n",
    "classes through visualization. Explain the difference between both techniques in your own words and discuss in detail how your results may affect your analysis of classifying or clustering the normal as compared to anomalous biddings.[0-40]\n"
   ]
  },
  {
   "cell_type": "markdown",
   "id": "0d9c4a82",
   "metadata": {},
   "source": [
    "Machine Learning\n",
    "● Provide a conceptual understanding and logical justification based on the reasoning for the specific choice of machine learning approaches (supervised/ Unsupervised) for the provided data set. (0-20 marks)\n",
    "● Machine Learning models can be used for Prediction, Classification, and Clustering. You can choose suitable features for the machine learning models based on feature selection methods, such as random forest or any other method. The selection of hyperparameters for the ML models should be performed by using hyperparameter tuning, such as GridSearchCV. Obtain best accuracy using optimal values of the hyperparameters.. (0-30 marks)\n",
    "● You should train and test the Machine learning models in the case of supervised learning for different splits (at least 2 different splits) and use appropriate metrics for unsupervised learning. Use K-fold cross-validation to provide authenticity of the modelling outcomes. (0-30 marks)\n",
    "● Exhibit a comparison of ML modelling outcomes using a Table or graph visualisation. Identify the possible similarities and contrast of the Machine Learning modelling outcomes based on chosen metric and discuss their statistical understanding. (0-20 marks)\n"
   ]
  },
  {
   "cell_type": "markdown",
   "id": "7e0f0b2b",
   "metadata": {},
   "source": [
    "Report\n",
    "A report is required to provide the details of work performed in all tasks. The report should be based on Introduction, rationale of data preparation techniques, machines learning models and conclusions. Illustrations should be used to highlight the details of any section.\n",
    "This should also include evidence to support your data wrangling and analysis through the use of references and citations.\n",
    "Conclusions, Findings of data set and references/citations in (HARVARD style). This should be completed in the Jupyter Notebook Markdown."
   ]
  },
  {
   "cell_type": "markdown",
   "id": "5cbca5e8",
   "metadata": {},
   "source": [
    "# Libraries "
   ]
  },
  {
   "cell_type": "code",
   "execution_count": 1,
   "id": "87283313",
   "metadata": {},
   "outputs": [],
   "source": [
    "%matplotlib inline\n",
    "\n",
    "import pandas as pd\n",
    "\n",
    "import numpy as np\n",
    "\n",
    "import matplotlib.pyplot as plt\n",
    "\n",
    "import seaborn as sns\n",
    "\n",
    "import statsmodels.api as sm\n",
    "\n",
    "from sklearn.model_selection import train_test_split, cross_val_score\n",
    "\n",
    "from sklearn import metrics\n",
    "\n",
    "from sklearn.preprocessing import MinMaxScaler\n",
    "\n",
    "from sklearn.metrics import mean_squared_error, r2_score\n",
    "\n",
    "from sklearn.metrics import classification_report\n",
    "\n",
    "from sklearn.metrics import accuracy_score\n",
    "\n",
    "from sklearn.model_selection import cross_val_score\n",
    "\n",
    "from sklearn.preprocessing import MinMaxScaler\n",
    "\n",
    "from sklearn.decomposition import PCA\n",
    "\n",
    "from sklearn.discriminant_analysis import LinearDiscriminantAnalysis\n",
    "\n",
    "from sklearn.metrics import accuracy_score, classification_report, confusion_matrix\n",
    "\n",
    "from sklearn.model_selection import cross_validate\n",
    "\n",
    "from sklearn.metrics import make_scorer\n"
   ]
  },
  {
   "cell_type": "markdown",
   "id": "085089e1",
   "metadata": {},
   "source": [
    "License\n",
    "This dataset is licensed under a Creative Commons Attribution 4.0 International (CC BY 4.0) license.\n",
    "\n",
    "This allows for the sharing and adaptation of the datasets for any purpose, provided that the appropriate credit is given.\n",
    "\n",
    "DOI\n",
    "10.24432/C5BS66\n",
    "\n",
    "Creators\n",
    "NA NA\n",
    "National Center for Health Statistics (NCHS) at the Centers for Disease Control and Prevention (CDC)\n",
    "\n",
    "https://archive.ics.uci.edu/dataset/887/national+health+and+nutrition+health+survey+2013-2014+(nhanes)+age+prediction+subset"
   ]
  },
  {
   "cell_type": "markdown",
   "id": "411dcba1",
   "metadata": {},
   "source": [
    "# EDA\n",
    "\n",
    "Exploratory Data Analysis. \n",
    "\n",
    "After importing the necessary libraries the next step is to do the Exploratory Data Analysis in our raw data to check its characteristics, such as: the size, shape, which kind of features and observations they are, if there are any missing or duplicated values and what kind of distribution it is. EDA was originally developed in 1970 by the American mathematician John Tukey (IBM, 2023). \n",
    "\n",
    "This is a crucial task because it is the one that helps us to understand what we are dealing with and which approach we are going to use next to obtain a good accuracy for the Machine Learning Model applied and get effective results. \n",
    "\n"
   ]
  },
  {
   "cell_type": "code",
   "execution_count": 2,
   "id": "aa433106",
   "metadata": {},
   "outputs": [],
   "source": [
    "age = pd.read_csv(\"NHANES_age_prediction.csv\")"
   ]
  },
  {
   "cell_type": "code",
   "execution_count": 3,
   "id": "15e44a67",
   "metadata": {},
   "outputs": [
    {
     "data": {
      "text/html": [
       "<div>\n",
       "<style scoped>\n",
       "    .dataframe tbody tr th:only-of-type {\n",
       "        vertical-align: middle;\n",
       "    }\n",
       "\n",
       "    .dataframe tbody tr th {\n",
       "        vertical-align: top;\n",
       "    }\n",
       "\n",
       "    .dataframe thead th {\n",
       "        text-align: right;\n",
       "    }\n",
       "</style>\n",
       "<table border=\"1\" class=\"dataframe\">\n",
       "  <thead>\n",
       "    <tr style=\"text-align: right;\">\n",
       "      <th></th>\n",
       "      <th>SEQN</th>\n",
       "      <th>age_group</th>\n",
       "      <th>RIDAGEYR</th>\n",
       "      <th>RIAGENDR</th>\n",
       "      <th>PAQ605</th>\n",
       "      <th>BMXBMI</th>\n",
       "      <th>LBXGLU</th>\n",
       "      <th>DIQ010</th>\n",
       "      <th>LBXGLT</th>\n",
       "      <th>LBXIN</th>\n",
       "    </tr>\n",
       "  </thead>\n",
       "  <tbody>\n",
       "    <tr>\n",
       "      <th>2276</th>\n",
       "      <td>83718.0</td>\n",
       "      <td>Adult</td>\n",
       "      <td>60.0</td>\n",
       "      <td>2.0</td>\n",
       "      <td>2.0</td>\n",
       "      <td>27.4</td>\n",
       "      <td>90.0</td>\n",
       "      <td>2.0</td>\n",
       "      <td>108.0</td>\n",
       "      <td>4.99</td>\n",
       "    </tr>\n",
       "    <tr>\n",
       "      <th>2277</th>\n",
       "      <td>83727.0</td>\n",
       "      <td>Adult</td>\n",
       "      <td>26.0</td>\n",
       "      <td>1.0</td>\n",
       "      <td>2.0</td>\n",
       "      <td>24.5</td>\n",
       "      <td>108.0</td>\n",
       "      <td>2.0</td>\n",
       "      <td>108.0</td>\n",
       "      <td>3.76</td>\n",
       "    </tr>\n",
       "  </tbody>\n",
       "</table>\n",
       "</div>"
      ],
      "text/plain": [
       "         SEQN age_group  RIDAGEYR  RIAGENDR  PAQ605  BMXBMI  LBXGLU  DIQ010  \\\n",
       "2276  83718.0     Adult      60.0       2.0     2.0    27.4    90.0     2.0   \n",
       "2277  83727.0     Adult      26.0       1.0     2.0    24.5   108.0     2.0   \n",
       "\n",
       "      LBXGLT  LBXIN  \n",
       "2276   108.0   4.99  \n",
       "2277   108.0   3.76  "
      ]
     },
     "execution_count": 3,
     "metadata": {},
     "output_type": "execute_result"
    }
   ],
   "source": [
    "age.tail(2)"
   ]
  },
  {
   "cell_type": "code",
   "execution_count": 4,
   "id": "bccc35c9",
   "metadata": {},
   "outputs": [
    {
     "data": {
      "text/plain": [
       "(2278, 10)"
      ]
     },
     "execution_count": 4,
     "metadata": {},
     "output_type": "execute_result"
    }
   ],
   "source": [
    "age.shape"
   ]
  },
  {
   "cell_type": "code",
   "execution_count": 5,
   "id": "d16cf0d9",
   "metadata": {},
   "outputs": [
    {
     "name": "stdout",
     "output_type": "stream",
     "text": [
      "<class 'pandas.core.frame.DataFrame'>\n",
      "RangeIndex: 2278 entries, 0 to 2277\n",
      "Data columns (total 10 columns):\n",
      " #   Column     Non-Null Count  Dtype  \n",
      "---  ------     --------------  -----  \n",
      " 0   SEQN       2278 non-null   float64\n",
      " 1   age_group  2278 non-null   object \n",
      " 2   RIDAGEYR   2278 non-null   float64\n",
      " 3   RIAGENDR   2278 non-null   float64\n",
      " 4   PAQ605     2278 non-null   float64\n",
      " 5   BMXBMI     2278 non-null   float64\n",
      " 6   LBXGLU     2278 non-null   float64\n",
      " 7   DIQ010     2278 non-null   float64\n",
      " 8   LBXGLT     2278 non-null   float64\n",
      " 9   LBXIN      2278 non-null   float64\n",
      "dtypes: float64(9), object(1)\n",
      "memory usage: 178.1+ KB\n"
     ]
    }
   ],
   "source": [
    "age.info()"
   ]
  },
  {
   "cell_type": "code",
   "execution_count": 6,
   "id": "53a26ae8",
   "metadata": {},
   "outputs": [
    {
     "data": {
      "text/plain": [
       "0"
      ]
     },
     "execution_count": 6,
     "metadata": {},
     "output_type": "execute_result"
    }
   ],
   "source": [
    "age.duplicated().sum()"
   ]
  },
  {
   "cell_type": "code",
   "execution_count": 7,
   "id": "f240c57c",
   "metadata": {},
   "outputs": [
    {
     "data": {
      "text/html": [
       "<div>\n",
       "<style scoped>\n",
       "    .dataframe tbody tr th:only-of-type {\n",
       "        vertical-align: middle;\n",
       "    }\n",
       "\n",
       "    .dataframe tbody tr th {\n",
       "        vertical-align: top;\n",
       "    }\n",
       "\n",
       "    .dataframe thead th {\n",
       "        text-align: right;\n",
       "    }\n",
       "</style>\n",
       "<table border=\"1\" class=\"dataframe\">\n",
       "  <thead>\n",
       "    <tr style=\"text-align: right;\">\n",
       "      <th></th>\n",
       "      <th>SEQN</th>\n",
       "      <th>RIDAGEYR</th>\n",
       "      <th>RIAGENDR</th>\n",
       "      <th>PAQ605</th>\n",
       "      <th>BMXBMI</th>\n",
       "      <th>LBXGLU</th>\n",
       "      <th>DIQ010</th>\n",
       "      <th>LBXGLT</th>\n",
       "      <th>LBXIN</th>\n",
       "    </tr>\n",
       "  </thead>\n",
       "  <tbody>\n",
       "    <tr>\n",
       "      <th>count</th>\n",
       "      <td>2278.000000</td>\n",
       "      <td>2278.000000</td>\n",
       "      <td>2278.000000</td>\n",
       "      <td>2278.000000</td>\n",
       "      <td>2278.000000</td>\n",
       "      <td>2278.000000</td>\n",
       "      <td>2278.000000</td>\n",
       "      <td>2278.000000</td>\n",
       "      <td>2278.000000</td>\n",
       "    </tr>\n",
       "    <tr>\n",
       "      <th>mean</th>\n",
       "      <td>78691.853819</td>\n",
       "      <td>41.795874</td>\n",
       "      <td>1.511414</td>\n",
       "      <td>1.822651</td>\n",
       "      <td>27.955180</td>\n",
       "      <td>99.553117</td>\n",
       "      <td>2.016242</td>\n",
       "      <td>114.978929</td>\n",
       "      <td>11.834794</td>\n",
       "    </tr>\n",
       "    <tr>\n",
       "      <th>std</th>\n",
       "      <td>2921.365151</td>\n",
       "      <td>20.156111</td>\n",
       "      <td>0.499979</td>\n",
       "      <td>0.398918</td>\n",
       "      <td>7.248962</td>\n",
       "      <td>17.889834</td>\n",
       "      <td>0.185556</td>\n",
       "      <td>47.061239</td>\n",
       "      <td>9.718812</td>\n",
       "    </tr>\n",
       "    <tr>\n",
       "      <th>min</th>\n",
       "      <td>73564.000000</td>\n",
       "      <td>12.000000</td>\n",
       "      <td>1.000000</td>\n",
       "      <td>1.000000</td>\n",
       "      <td>14.500000</td>\n",
       "      <td>63.000000</td>\n",
       "      <td>1.000000</td>\n",
       "      <td>40.000000</td>\n",
       "      <td>0.140000</td>\n",
       "    </tr>\n",
       "    <tr>\n",
       "      <th>25%</th>\n",
       "      <td>76171.750000</td>\n",
       "      <td>24.000000</td>\n",
       "      <td>1.000000</td>\n",
       "      <td>2.000000</td>\n",
       "      <td>22.800000</td>\n",
       "      <td>91.000000</td>\n",
       "      <td>2.000000</td>\n",
       "      <td>87.000000</td>\n",
       "      <td>5.860000</td>\n",
       "    </tr>\n",
       "    <tr>\n",
       "      <th>50%</th>\n",
       "      <td>78749.000000</td>\n",
       "      <td>41.000000</td>\n",
       "      <td>2.000000</td>\n",
       "      <td>2.000000</td>\n",
       "      <td>26.800000</td>\n",
       "      <td>97.000000</td>\n",
       "      <td>2.000000</td>\n",
       "      <td>105.000000</td>\n",
       "      <td>9.040000</td>\n",
       "    </tr>\n",
       "    <tr>\n",
       "      <th>75%</th>\n",
       "      <td>81213.500000</td>\n",
       "      <td>58.000000</td>\n",
       "      <td>2.000000</td>\n",
       "      <td>2.000000</td>\n",
       "      <td>31.200000</td>\n",
       "      <td>104.000000</td>\n",
       "      <td>2.000000</td>\n",
       "      <td>130.000000</td>\n",
       "      <td>14.440000</td>\n",
       "    </tr>\n",
       "    <tr>\n",
       "      <th>max</th>\n",
       "      <td>83727.000000</td>\n",
       "      <td>80.000000</td>\n",
       "      <td>2.000000</td>\n",
       "      <td>7.000000</td>\n",
       "      <td>70.100000</td>\n",
       "      <td>405.000000</td>\n",
       "      <td>3.000000</td>\n",
       "      <td>604.000000</td>\n",
       "      <td>102.290000</td>\n",
       "    </tr>\n",
       "  </tbody>\n",
       "</table>\n",
       "</div>"
      ],
      "text/plain": [
       "               SEQN     RIDAGEYR     RIAGENDR       PAQ605       BMXBMI  \\\n",
       "count   2278.000000  2278.000000  2278.000000  2278.000000  2278.000000   \n",
       "mean   78691.853819    41.795874     1.511414     1.822651    27.955180   \n",
       "std     2921.365151    20.156111     0.499979     0.398918     7.248962   \n",
       "min    73564.000000    12.000000     1.000000     1.000000    14.500000   \n",
       "25%    76171.750000    24.000000     1.000000     2.000000    22.800000   \n",
       "50%    78749.000000    41.000000     2.000000     2.000000    26.800000   \n",
       "75%    81213.500000    58.000000     2.000000     2.000000    31.200000   \n",
       "max    83727.000000    80.000000     2.000000     7.000000    70.100000   \n",
       "\n",
       "            LBXGLU       DIQ010       LBXGLT        LBXIN  \n",
       "count  2278.000000  2278.000000  2278.000000  2278.000000  \n",
       "mean     99.553117     2.016242   114.978929    11.834794  \n",
       "std      17.889834     0.185556    47.061239     9.718812  \n",
       "min      63.000000     1.000000    40.000000     0.140000  \n",
       "25%      91.000000     2.000000    87.000000     5.860000  \n",
       "50%      97.000000     2.000000   105.000000     9.040000  \n",
       "75%     104.000000     2.000000   130.000000    14.440000  \n",
       "max     405.000000     3.000000   604.000000   102.290000  "
      ]
     },
     "execution_count": 7,
     "metadata": {},
     "output_type": "execute_result"
    }
   ],
   "source": [
    "age.describe()"
   ]
  },
  {
   "cell_type": "code",
   "execution_count": 8,
   "id": "e0c93e22",
   "metadata": {},
   "outputs": [],
   "source": [
    "age.drop(columns = \"SEQN\", inplace = True)"
   ]
  },
  {
   "cell_type": "markdown",
   "id": "0e1a3d30",
   "metadata": {},
   "source": [
    "SEQN = SEQN\tID\tContinuous\t\tRespondent Sequence Number\t\tno\n",
    "\n",
    "no need for this variable "
   ]
  },
  {
   "cell_type": "code",
   "execution_count": 9,
   "id": "c9936ec0",
   "metadata": {},
   "outputs": [
    {
     "data": {
      "text/plain": [
       "array(['Adult', 'Senior'], dtype=object)"
      ]
     },
     "execution_count": 9,
     "metadata": {},
     "output_type": "execute_result"
    }
   ],
   "source": [
    "age[\"age_group\"].unique()"
   ]
  },
  {
   "cell_type": "code",
   "execution_count": 10,
   "id": "92aaafb2",
   "metadata": {},
   "outputs": [
    {
     "data": {
      "text/plain": [
       "RIDAGEYR\n",
       "80.0    107\n",
       "16.0     70\n",
       "18.0     70\n",
       "14.0     60\n",
       "12.0     58\n",
       "       ... \n",
       "76.0     13\n",
       "75.0     12\n",
       "77.0      9\n",
       "79.0      8\n",
       "78.0      8\n",
       "Name: count, Length: 69, dtype: int64"
      ]
     },
     "execution_count": 10,
     "metadata": {},
     "output_type": "execute_result"
    }
   ],
   "source": [
    "age[\"RIDAGEYR\"].value_counts()"
   ]
  },
  {
   "cell_type": "code",
   "execution_count": 11,
   "id": "7c878736",
   "metadata": {},
   "outputs": [
    {
     "data": {
      "text/plain": [
       "RIAGENDR\n",
       "2.0    1165\n",
       "1.0    1113\n",
       "Name: count, dtype: int64"
      ]
     },
     "execution_count": 11,
     "metadata": {},
     "output_type": "execute_result"
    }
   ],
   "source": [
    "age[\"RIAGENDR\"].value_counts()"
   ]
  },
  {
   "cell_type": "code",
   "execution_count": 12,
   "id": "8d94ef15",
   "metadata": {},
   "outputs": [
    {
     "data": {
      "text/plain": [
       "age_group\n",
       "Adult     1914\n",
       "Senior     364\n",
       "Name: count, dtype: int64"
      ]
     },
     "execution_count": 12,
     "metadata": {},
     "output_type": "execute_result"
    }
   ],
   "source": [
    "age[\"age_group\"].value_counts()"
   ]
  },
  {
   "cell_type": "code",
   "execution_count": 13,
   "id": "9f485eef",
   "metadata": {
    "scrolled": false
   },
   "outputs": [
    {
     "name": "stderr",
     "output_type": "stream",
     "text": [
      "/Users/izaiaszacca/anaconda3/lib/python3.11/site-packages/seaborn/_oldcore.py:1119: FutureWarning: use_inf_as_na option is deprecated and will be removed in a future version. Convert inf values to NaN before operating instead.\n",
      "  with pd.option_context('mode.use_inf_as_na', True):\n"
     ]
    },
    {
     "data": {
      "text/plain": [
       "<Axes: xlabel='age_group', ylabel='Count'>"
      ]
     },
     "execution_count": 13,
     "metadata": {},
     "output_type": "execute_result"
    },
    {
     "data": {
      "image/png": "[encoded data removed]",
      "text/plain": [
       "<Figure size 640x480 with 1 Axes>"
      ]
     },
     "metadata": {},
     "output_type": "display_data"
    }
   ],
   "source": [
    "sns.histplot(data = age, x = \"age_group\")"
   ]
  },
  {
   "cell_type": "code",
   "execution_count": 14,
   "id": "728827c0",
   "metadata": {},
   "outputs": [],
   "source": [
    "age = pd.get_dummies(age, dtype = int)"
   ]
  },
  {
   "cell_type": "code",
   "execution_count": 15,
   "id": "febe2a07",
   "metadata": {},
   "outputs": [
    {
     "data": {
      "text/html": [
       "<div>\n",
       "<style scoped>\n",
       "    .dataframe tbody tr th:only-of-type {\n",
       "        vertical-align: middle;\n",
       "    }\n",
       "\n",
       "    .dataframe tbody tr th {\n",
       "        vertical-align: top;\n",
       "    }\n",
       "\n",
       "    .dataframe thead th {\n",
       "        text-align: right;\n",
       "    }\n",
       "</style>\n",
       "<table border=\"1\" class=\"dataframe\">\n",
       "  <thead>\n",
       "    <tr style=\"text-align: right;\">\n",
       "      <th></th>\n",
       "      <th>RIDAGEYR</th>\n",
       "      <th>RIAGENDR</th>\n",
       "      <th>PAQ605</th>\n",
       "      <th>BMXBMI</th>\n",
       "      <th>LBXGLU</th>\n",
       "      <th>DIQ010</th>\n",
       "      <th>LBXGLT</th>\n",
       "      <th>LBXIN</th>\n",
       "      <th>age_group_Adult</th>\n",
       "      <th>age_group_Senior</th>\n",
       "    </tr>\n",
       "  </thead>\n",
       "  <tbody>\n",
       "    <tr>\n",
       "      <th>2276</th>\n",
       "      <td>60.0</td>\n",
       "      <td>2.0</td>\n",
       "      <td>2.0</td>\n",
       "      <td>27.4</td>\n",
       "      <td>90.0</td>\n",
       "      <td>2.0</td>\n",
       "      <td>108.0</td>\n",
       "      <td>4.99</td>\n",
       "      <td>1</td>\n",
       "      <td>0</td>\n",
       "    </tr>\n",
       "    <tr>\n",
       "      <th>2277</th>\n",
       "      <td>26.0</td>\n",
       "      <td>1.0</td>\n",
       "      <td>2.0</td>\n",
       "      <td>24.5</td>\n",
       "      <td>108.0</td>\n",
       "      <td>2.0</td>\n",
       "      <td>108.0</td>\n",
       "      <td>3.76</td>\n",
       "      <td>1</td>\n",
       "      <td>0</td>\n",
       "    </tr>\n",
       "  </tbody>\n",
       "</table>\n",
       "</div>"
      ],
      "text/plain": [
       "      RIDAGEYR  RIAGENDR  PAQ605  BMXBMI  LBXGLU  DIQ010  LBXGLT  LBXIN  \\\n",
       "2276      60.0       2.0     2.0    27.4    90.0     2.0   108.0   4.99   \n",
       "2277      26.0       1.0     2.0    24.5   108.0     2.0   108.0   3.76   \n",
       "\n",
       "      age_group_Adult  age_group_Senior  \n",
       "2276                1                 0  \n",
       "2277                1                 0  "
      ]
     },
     "execution_count": 15,
     "metadata": {},
     "output_type": "execute_result"
    }
   ],
   "source": [
    "age.tail(2)"
   ]
  },
  {
   "cell_type": "code",
   "execution_count": 16,
   "id": "3e959b75",
   "metadata": {},
   "outputs": [],
   "source": [
    "age.drop(columns = \"age_group_Senior\", inplace = True)"
   ]
  },
  {
   "cell_type": "code",
   "execution_count": 17,
   "id": "decb724a",
   "metadata": {},
   "outputs": [
    {
     "data": {
      "text/html": [
       "<div>\n",
       "<style scoped>\n",
       "    .dataframe tbody tr th:only-of-type {\n",
       "        vertical-align: middle;\n",
       "    }\n",
       "\n",
       "    .dataframe tbody tr th {\n",
       "        vertical-align: top;\n",
       "    }\n",
       "\n",
       "    .dataframe thead th {\n",
       "        text-align: right;\n",
       "    }\n",
       "</style>\n",
       "<table border=\"1\" class=\"dataframe\">\n",
       "  <thead>\n",
       "    <tr style=\"text-align: right;\">\n",
       "      <th></th>\n",
       "      <th>RIDAGEYR</th>\n",
       "      <th>RIAGENDR</th>\n",
       "      <th>PAQ605</th>\n",
       "      <th>BMXBMI</th>\n",
       "      <th>LBXGLU</th>\n",
       "      <th>DIQ010</th>\n",
       "      <th>LBXGLT</th>\n",
       "      <th>LBXIN</th>\n",
       "      <th>age_group_Adult</th>\n",
       "    </tr>\n",
       "  </thead>\n",
       "  <tbody>\n",
       "    <tr>\n",
       "      <th>2276</th>\n",
       "      <td>60.0</td>\n",
       "      <td>2.0</td>\n",
       "      <td>2.0</td>\n",
       "      <td>27.4</td>\n",
       "      <td>90.0</td>\n",
       "      <td>2.0</td>\n",
       "      <td>108.0</td>\n",
       "      <td>4.99</td>\n",
       "      <td>1</td>\n",
       "    </tr>\n",
       "    <tr>\n",
       "      <th>2277</th>\n",
       "      <td>26.0</td>\n",
       "      <td>1.0</td>\n",
       "      <td>2.0</td>\n",
       "      <td>24.5</td>\n",
       "      <td>108.0</td>\n",
       "      <td>2.0</td>\n",
       "      <td>108.0</td>\n",
       "      <td>3.76</td>\n",
       "      <td>1</td>\n",
       "    </tr>\n",
       "  </tbody>\n",
       "</table>\n",
       "</div>"
      ],
      "text/plain": [
       "      RIDAGEYR  RIAGENDR  PAQ605  BMXBMI  LBXGLU  DIQ010  LBXGLT  LBXIN  \\\n",
       "2276      60.0       2.0     2.0    27.4    90.0     2.0   108.0   4.99   \n",
       "2277      26.0       1.0     2.0    24.5   108.0     2.0   108.0   3.76   \n",
       "\n",
       "      age_group_Adult  \n",
       "2276                1  \n",
       "2277                1  "
      ]
     },
     "execution_count": 17,
     "metadata": {},
     "output_type": "execute_result"
    }
   ],
   "source": [
    "age.tail(2)"
   ]
  },
  {
   "cell_type": "markdown",
   "id": "bdd959fb",
   "metadata": {},
   "source": [
    "## Distributions of each column"
   ]
  },
  {
   "cell_type": "code",
   "execution_count": 18,
   "id": "659a6c8f",
   "metadata": {
    "scrolled": false
   },
   "outputs": [
    {
     "data": {
      "image/png": "[encoded data removed]",
      "text/plain": [
       "<Figure size 400x200 with 1 Axes>"
      ]
     },
     "metadata": {},
     "output_type": "display_data"
    },
    {
     "data": {
      "image/png": "[encoded data removed]",
      "text/plain": [
       "<Figure size 400x200 with 1 Axes>"
      ]
     },
     "metadata": {},
     "output_type": "display_data"
    },
    {
     "data": {
      "image/png": "[encoded data removed]",
      "text/plain": [
       "<Figure size 400x200 with 1 Axes>"
      ]
     },
     "metadata": {},
     "output_type": "display_data"
    },
    {
     "data": {
      "image/png": "[encoded data removed]",
      "text/plain": [
       "<Figure size 400x200 with 1 Axes>"
      ]
     },
     "metadata": {},
     "output_type": "display_data"
    },
    {
     "data": {
      "image/png": "[encoded data removed]",
      "text/plain": [
       "<Figure size 400x200 with 1 Axes>"
      ]
     },
     "metadata": {},
     "output_type": "display_data"
    },
    {
     "data": {
      "image/png": "[encoded data removed]",
      "text/plain": [
       "<Figure size 400x200 with 1 Axes>"
      ]
     },
     "metadata": {},
     "output_type": "display_data"
    },
    {
     "data": {
      "image/png": "[encoded data removed]",
      "text/plain": [
       "<Figure size 400x200 with 1 Axes>"
      ]
     },
     "metadata": {},
     "output_type": "display_data"
    },
    {
     "data": {
      "image/png": "[encoded data removed]",
      "text/plain": [
       "<Figure size 400x200 with 1 Axes>"
      ]
     },
     "metadata": {},
     "output_type": "display_data"
    },
    {
     "data": {
      "image/png": "[encoded data removed]",
      "text/plain": [
       "<Figure size 400x200 with 1 Axes>"
      ]
     },
     "metadata": {},
     "output_type": "display_data"
    }
   ],
   "source": [
    "for column in age.columns:\n",
    "    plt.figure(figsize = (4, 2))\n",
    "    plt.hist(age[column])\n",
    "    plt.title(f'Distribution of {column}')\n",
    "    plt.xlabel(column)\n",
    "    plt.ylabel('Frequency')\n",
    "    plt.show()"
   ]
  },
  {
   "cell_type": "markdown",
   "id": "25e5a845",
   "metadata": {},
   "source": [
    "## Boxplot for each column"
   ]
  },
  {
   "cell_type": "code",
   "execution_count": 19,
   "id": "26d46991",
   "metadata": {
    "scrolled": false
   },
   "outputs": [
    {
     "data": {
      "image/png": "[encoded data removed]",
      "text/plain": [
       "<Figure size 400x200 with 1 Axes>"
      ]
     },
     "metadata": {},
     "output_type": "display_data"
    },
    {
     "data": {
      "image/png": "[encoded data removed]",
      "text/plain": [
       "<Figure size 400x200 with 1 Axes>"
      ]
     },
     "metadata": {},
     "output_type": "display_data"
    },
    {
     "data": {
      "image/png": "[encoded data removed]",
      "text/plain": [
       "<Figure size 400x200 with 1 Axes>"
      ]
     },
     "metadata": {},
     "output_type": "display_data"
    },
    {
     "data": {
      "image/png": "[encoded data removed]",
      "text/plain": [
       "<Figure size 400x200 with 1 Axes>"
      ]
     },
     "metadata": {},
     "output_type": "display_data"
    },
    {
     "data": {
      "image/png": "[encoded data removed]",
      "text/plain": [
       "<Figure size 400x200 with 1 Axes>"
      ]
     },
     "metadata": {},
     "output_type": "display_data"
    },
    {
     "data": {
      "image/png": "[encoded data removed]",
      "text/plain": [
       "<Figure size 400x200 with 1 Axes>"
      ]
     },
     "metadata": {},
     "output_type": "display_data"
    },
    {
     "data": {
      "image/png": "[encoded data removed]",
      "text/plain": [
       "<Figure size 400x200 with 1 Axes>"
      ]
     },
     "metadata": {},
     "output_type": "display_data"
    },
    {
     "data": {
      "image/png": "[encoded data removed]",
      "text/plain": [
       "<Figure size 400x200 with 1 Axes>"
      ]
     },
     "metadata": {},
     "output_type": "display_data"
    },
    {
     "data": {
      "image/png": "[encoded data removed]",
      "text/plain": [
       "<Figure size 400x200 with 1 Axes>"
      ]
     },
     "metadata": {},
     "output_type": "display_data"
    }
   ],
   "source": [
    "import matplotlib.pyplot as plt\n",
    "\n",
    "# Assuming 'age' is your DataFrame\n",
    "for column in age.columns:\n",
    "    plt.figure(figsize=(4, 2))\n",
    "    # Convert column to numeric, coercing errors to NaN\n",
    "    age[column] = pd.to_numeric(age[column], errors='coerce')\n",
    "    plt.boxplot(age[column].dropna())  # Drop NaN values before plotting\n",
    "    plt.title(f'Box Plot of {column}')\n",
    "    plt.xlabel(column)\n",
    "    plt.show()\n"
   ]
  },
  {
   "cell_type": "code",
   "execution_count": null,
   "id": "ad0e7809",
   "metadata": {},
   "outputs": [],
   "source": []
  },
  {
   "cell_type": "markdown",
   "id": "591fa0d9",
   "metadata": {},
   "source": [
    "# Correlation"
   ]
  },
  {
   "cell_type": "code",
   "execution_count": 20,
   "id": "5e778b6b",
   "metadata": {},
   "outputs": [
    {
     "name": "stdout",
     "output_type": "stream",
     "text": [
      "          Variable        VIF\n",
      "0         RIDAGEYR  11.209553\n",
      "1         RIAGENDR  10.367954\n",
      "2           PAQ605  20.416338\n",
      "3           BMXBMI  24.915629\n",
      "4           LBXGLU  54.956103\n",
      "5           DIQ010  55.210887\n",
      "6           LBXGLT  14.247082\n",
      "7            LBXIN   3.951943\n",
      "8  age_group_Adult  11.327506\n"
     ]
    }
   ],
   "source": [
    "from statsmodels.stats.outliers_influence import variance_inflation_factor\n",
    "\n",
    "vif_data = pd.DataFrame()\n",
    "vif_data[\"Variable\"] = age.columns\n",
    "vif_data[\"VIF\"] = [variance_inflation_factor(age.values, i) for i in range(age.shape[1])]\n",
    "print(vif_data)"
   ]
  },
  {
   "cell_type": "code",
   "execution_count": 21,
   "id": "95d02887",
   "metadata": {},
   "outputs": [
    {
     "data": {
      "image/png": "[encoded data removed]",
      "text/plain": [
       "<Figure size 640x480 with 2 Axes>"
      ]
     },
     "metadata": {},
     "output_type": "display_data"
    }
   ],
   "source": [
    "corr_matrix = age.corr()\n",
    "\n",
    "sns.heatmap(corr_matrix, annot=True, cmap='coolwarm', fmt='.2f',\n",
    "            xticklabels=age.columns, yticklabels=age.columns)\n",
    "\n",
    "plt.title(\"Feature Correlation Matrix\")\n",
    "plt.show()"
   ]
  },
  {
   "cell_type": "code",
   "execution_count": 22,
   "id": "e4286679",
   "metadata": {},
   "outputs": [
    {
     "name": "stdout",
     "output_type": "stream",
     "text": [
      "Eigenvalues: [2.28735158 1.6442327  0.25546501 0.28328876 0.46698967 1.18954507\n",
      " 1.07942265 0.96177846 0.83192609]\n"
     ]
    }
   ],
   "source": [
    "eigenvalues, _ = np.linalg.eig(corr_matrix)\n",
    "print(\"Eigenvalues:\", eigenvalues)"
   ]
  },
  {
   "cell_type": "code",
   "execution_count": 23,
   "id": "e0f3c8fe",
   "metadata": {},
   "outputs": [
    {
     "name": "stdout",
     "output_type": "stream",
     "text": [
      "Condition Number: 2.992269808680624\n"
     ]
    }
   ],
   "source": [
    "condition_number = np.sqrt(np.max(eigenvalues) / np.min(eigenvalues))\n",
    "print(\"Condition Number:\", condition_number)"
   ]
  },
  {
   "cell_type": "code",
   "execution_count": 24,
   "id": "c72251d4",
   "metadata": {},
   "outputs": [
    {
     "name": "stdout",
     "output_type": "stream",
     "text": [
      "Pairs of highly correlated variables: [(3, 7), (0, 8), (4, 6)]\n"
     ]
    }
   ],
   "source": [
    "def find_highly_correlated_vars(corr_matrix, threshold = 0.5):\n",
    "    if isinstance(corr_matrix, pd.DataFrame):\n",
    "        corr_matrix = corr_matrix.values\n",
    "    rows, cols = np.where(np.abs(corr_matrix) > threshold)\n",
    "    unique_pairs = set((min(r, c), max(r, c)) for r, c in zip(rows, cols) if r != c)\n",
    "    return list(unique_pairs)\n",
    "\n",
    "corr_matrix = age.corr()\n",
    "highly_corr_vars = find_highly_correlated_vars(corr_matrix, threshold=0.5)\n",
    "\n",
    "print(\"Pairs of highly correlated variables:\", highly_corr_vars)"
   ]
  },
  {
   "cell_type": "code",
   "execution_count": 25,
   "id": "4d3cdb87",
   "metadata": {},
   "outputs": [
    {
     "data": {
      "text/html": [
       "<div>\n",
       "<style scoped>\n",
       "    .dataframe tbody tr th:only-of-type {\n",
       "        vertical-align: middle;\n",
       "    }\n",
       "\n",
       "    .dataframe tbody tr th {\n",
       "        vertical-align: top;\n",
       "    }\n",
       "\n",
       "    .dataframe thead th {\n",
       "        text-align: right;\n",
       "    }\n",
       "</style>\n",
       "<table border=\"1\" class=\"dataframe\">\n",
       "  <thead>\n",
       "    <tr style=\"text-align: right;\">\n",
       "      <th></th>\n",
       "      <th>RIDAGEYR</th>\n",
       "      <th>RIAGENDR</th>\n",
       "      <th>PAQ605</th>\n",
       "      <th>BMXBMI</th>\n",
       "      <th>LBXGLU</th>\n",
       "      <th>DIQ010</th>\n",
       "      <th>LBXGLT</th>\n",
       "      <th>LBXIN</th>\n",
       "      <th>age_group_Adult</th>\n",
       "    </tr>\n",
       "  </thead>\n",
       "  <tbody>\n",
       "    <tr>\n",
       "      <th>2273</th>\n",
       "      <td>38.0</td>\n",
       "      <td>2.0</td>\n",
       "      <td>2.0</td>\n",
       "      <td>33.5</td>\n",
       "      <td>100.0</td>\n",
       "      <td>2.0</td>\n",
       "      <td>73.0</td>\n",
       "      <td>6.53</td>\n",
       "      <td>1</td>\n",
       "    </tr>\n",
       "    <tr>\n",
       "      <th>2274</th>\n",
       "      <td>61.0</td>\n",
       "      <td>1.0</td>\n",
       "      <td>2.0</td>\n",
       "      <td>30.0</td>\n",
       "      <td>93.0</td>\n",
       "      <td>2.0</td>\n",
       "      <td>208.0</td>\n",
       "      <td>13.02</td>\n",
       "      <td>1</td>\n",
       "    </tr>\n",
       "    <tr>\n",
       "      <th>2275</th>\n",
       "      <td>34.0</td>\n",
       "      <td>1.0</td>\n",
       "      <td>2.0</td>\n",
       "      <td>23.7</td>\n",
       "      <td>103.0</td>\n",
       "      <td>2.0</td>\n",
       "      <td>124.0</td>\n",
       "      <td>21.41</td>\n",
       "      <td>1</td>\n",
       "    </tr>\n",
       "    <tr>\n",
       "      <th>2276</th>\n",
       "      <td>60.0</td>\n",
       "      <td>2.0</td>\n",
       "      <td>2.0</td>\n",
       "      <td>27.4</td>\n",
       "      <td>90.0</td>\n",
       "      <td>2.0</td>\n",
       "      <td>108.0</td>\n",
       "      <td>4.99</td>\n",
       "      <td>1</td>\n",
       "    </tr>\n",
       "    <tr>\n",
       "      <th>2277</th>\n",
       "      <td>26.0</td>\n",
       "      <td>1.0</td>\n",
       "      <td>2.0</td>\n",
       "      <td>24.5</td>\n",
       "      <td>108.0</td>\n",
       "      <td>2.0</td>\n",
       "      <td>108.0</td>\n",
       "      <td>3.76</td>\n",
       "      <td>1</td>\n",
       "    </tr>\n",
       "  </tbody>\n",
       "</table>\n",
       "</div>"
      ],
      "text/plain": [
       "      RIDAGEYR  RIAGENDR  PAQ605  BMXBMI  LBXGLU  DIQ010  LBXGLT  LBXIN  \\\n",
       "2273      38.0       2.0     2.0    33.5   100.0     2.0    73.0   6.53   \n",
       "2274      61.0       1.0     2.0    30.0    93.0     2.0   208.0  13.02   \n",
       "2275      34.0       1.0     2.0    23.7   103.0     2.0   124.0  21.41   \n",
       "2276      60.0       2.0     2.0    27.4    90.0     2.0   108.0   4.99   \n",
       "2277      26.0       1.0     2.0    24.5   108.0     2.0   108.0   3.76   \n",
       "\n",
       "      age_group_Adult  \n",
       "2273                1  \n",
       "2274                1  \n",
       "2275                1  \n",
       "2276                1  \n",
       "2277                1  "
      ]
     },
     "execution_count": 25,
     "metadata": {},
     "output_type": "execute_result"
    }
   ],
   "source": [
    "age.tail()"
   ]
  },
  {
   "cell_type": "code",
   "execution_count": 26,
   "id": "ad4a38de",
   "metadata": {},
   "outputs": [],
   "source": [
    "age_array = age.values"
   ]
  },
  {
   "cell_type": "code",
   "execution_count": 27,
   "id": "1d23927e",
   "metadata": {},
   "outputs": [],
   "source": [
    "X = age_array[:, 0:8]\n",
    "\n",
    "y = age_array[:, 8]"
   ]
  },
  {
   "cell_type": "code",
   "execution_count": 28,
   "id": "4af2a58e",
   "metadata": {},
   "outputs": [
    {
     "data": {
      "text/plain": [
       "array([1., 1., 1., ..., 1., 1., 1.])"
      ]
     },
     "execution_count": 28,
     "metadata": {},
     "output_type": "execute_result"
    }
   ],
   "source": [
    "y"
   ]
  },
  {
   "cell_type": "code",
   "execution_count": 29,
   "id": "86afbfb9",
   "metadata": {},
   "outputs": [
    {
     "data": {
      "text/plain": [
       "(2278, 8)"
      ]
     },
     "execution_count": 29,
     "metadata": {},
     "output_type": "execute_result"
    }
   ],
   "source": [
    "X.shape"
   ]
  },
  {
   "cell_type": "code",
   "execution_count": 30,
   "id": "58439f49",
   "metadata": {},
   "outputs": [
    {
     "name": "stdout",
     "output_type": "stream",
     "text": [
      "                            OLS Regression Results                            \n",
      "==============================================================================\n",
      "Dep. Variable:                      y   R-squared:                       0.495\n",
      "Model:                            OLS   Adj. R-squared:                  0.494\n",
      "Method:                 Least Squares   F-statistic:                     278.5\n",
      "Date:                Mon, 01 Jan 2024   Prob (F-statistic):               0.00\n",
      "Time:                        17:13:46   Log-Likelihood:                -166.09\n",
      "No. Observations:                2278   AIC:                             350.2\n",
      "Df Residuals:                    2269   BIC:                             401.8\n",
      "Df Model:                           8                                         \n",
      "Covariance Type:            nonrobust                                         \n",
      "==============================================================================\n",
      "                 coef    std err          t      P>|t|      [0.025      0.975]\n",
      "------------------------------------------------------------------------------\n",
      "const          1.1410      0.078     14.679      0.000       0.989       1.293\n",
      "x1            -0.0128      0.000    -42.949      0.000      -0.013      -0.012\n",
      "x2             0.0158      0.011      1.397      0.163      -0.006       0.038\n",
      "x3            -0.0608      0.014     -4.365      0.000      -0.088      -0.034\n",
      "x4             0.0074      0.001      7.824      0.000       0.006       0.009\n",
      "x5             0.0020      0.000      4.690      0.000       0.001       0.003\n",
      "x6             0.0171      0.030      0.578      0.563      -0.041       0.075\n",
      "x7            -0.0007      0.000     -4.348      0.000      -0.001      -0.000\n",
      "x8            -0.0031      0.001     -4.317      0.000      -0.004      -0.002\n",
      "==============================================================================\n",
      "Omnibus:                       93.538   Durbin-Watson:                   2.020\n",
      "Prob(Omnibus):                  0.000   Jarque-Bera (JB):               53.538\n",
      "Skew:                          -0.220   Prob(JB):                     2.37e-12\n",
      "Kurtosis:                       2.392   Cond. No.                     2.48e+03\n",
      "==============================================================================\n",
      "\n",
      "Notes:\n",
      "[1] Standard Errors assume that the covariance matrix of the errors is correctly specified.\n",
      "[2] The condition number is large, 2.48e+03. This might indicate that there are\n",
      "strong multicollinearity or other numerical problems.\n"
     ]
    }
   ],
   "source": [
    "X_with_constant = sm.add_constant(X)\n",
    "\n",
    "model = sm.OLS(y, X_with_constant).fit()\n",
    "\n",
    "print(model.summary())"
   ]
  },
  {
   "cell_type": "code",
   "execution_count": null,
   "id": "c3c3a8c6",
   "metadata": {},
   "outputs": [],
   "source": []
  },
  {
   "cell_type": "markdown",
   "id": "6c5d5722",
   "metadata": {},
   "source": [
    "## Normalisation\n",
    "\n",
    "The MinMax method was chosen given the skeweness of the data. "
   ]
  },
  {
   "cell_type": "code",
   "execution_count": 31,
   "id": "1874c023",
   "metadata": {},
   "outputs": [],
   "source": [
    "scaler = MinMaxScaler()\n",
    "\n",
    "X_scaled = scaler.fit_transform(X)"
   ]
  },
  {
   "cell_type": "code",
   "execution_count": 32,
   "id": "3530db0d",
   "metadata": {},
   "outputs": [
    {
     "data": {
      "text/plain": [
       "array([[0.72058824, 1.        , 0.16666667, ..., 0.5       , 0.19503546,\n",
       "        0.14459129],\n",
       "       [0.20588235, 1.        , 0.16666667, ..., 0.5       , 0.07092199,\n",
       "        0.03631914],\n",
       "       [0.05882353, 0.        , 0.16666667, ..., 0.5       , 0.04964539,\n",
       "        0.05873715],\n",
       "       ...,\n",
       "       [0.32352941, 0.        , 0.16666667, ..., 0.5       , 0.14893617,\n",
       "        0.2082232 ],\n",
       "       [0.70588235, 1.        , 0.16666667, ..., 0.5       , 0.12056738,\n",
       "        0.0474792 ],\n",
       "       [0.20588235, 0.        , 0.16666667, ..., 0.5       , 0.12056738,\n",
       "        0.03543808]])"
      ]
     },
     "execution_count": 32,
     "metadata": {},
     "output_type": "execute_result"
    }
   ],
   "source": [
    "X_scaled"
   ]
  },
  {
   "cell_type": "code",
   "execution_count": null,
   "id": "904ef8ef",
   "metadata": {},
   "outputs": [],
   "source": []
  },
  {
   "cell_type": "markdown",
   "id": "a2725515",
   "metadata": {},
   "source": [
    "# PCA"
   ]
  },
  {
   "cell_type": "code",
   "execution_count": 33,
   "id": "0c7a2760",
   "metadata": {},
   "outputs": [
    {
     "data": {
      "text/html": [
       "<style>#sk-container-id-1 {color: black;}#sk-container-id-1 pre{padding: 0;}#sk-container-id-1 div.sk-toggleable {background-color: white;}#sk-container-id-1 label.sk-toggleable__label {cursor: pointer;display: block;width: 100%;margin-bottom: 0;padding: 0.3em;box-sizing: border-box;text-align: center;}#sk-container-id-1 label.sk-toggleable__label-arrow:before {content: \"▸\";float: left;margin-right: 0.25em;color: #696969;}#sk-container-id-1 label.sk-toggleable__label-arrow:hover:before {color: black;}#sk-container-id-1 div.sk-estimator:hover label.sk-toggleable__label-arrow:before {color: black;}#sk-container-id-1 div.sk-toggleable__content {max-height: 0;max-width: 0;overflow: hidden;text-align: left;background-color: #f0f8ff;}#sk-container-id-1 div.sk-toggleable__content pre {margin: 0.2em;color: black;border-radius: 0.25em;background-color: #f0f8ff;}#sk-container-id-1 input.sk-toggleable__control:checked~div.sk-toggleable__content {max-height: 200px;max-width: 100%;overflow: auto;}#sk-container-id-1 input.sk-toggleable__control:checked~label.sk-toggleable__label-arrow:before {content: \"▾\";}#sk-container-id-1 div.sk-estimator input.sk-toggleable__control:checked~label.sk-toggleable__label {background-color: #d4ebff;}#sk-container-id-1 div.sk-label input.sk-toggleable__control:checked~label.sk-toggleable__label {background-color: #d4ebff;}#sk-container-id-1 input.sk-hidden--visually {border: 0;clip: rect(1px 1px 1px 1px);clip: rect(1px, 1px, 1px, 1px);height: 1px;margin: -1px;overflow: hidden;padding: 0;position: absolute;width: 1px;}#sk-container-id-1 div.sk-estimator {font-family: monospace;background-color: #f0f8ff;border: 1px dotted black;border-radius: 0.25em;box-sizing: border-box;margin-bottom: 0.5em;}#sk-container-id-1 div.sk-estimator:hover {background-color: #d4ebff;}#sk-container-id-1 div.sk-parallel-item::after {content: \"\";width: 100%;border-bottom: 1px solid gray;flex-grow: 1;}#sk-container-id-1 div.sk-label:hover label.sk-toggleable__label {background-color: #d4ebff;}#sk-container-id-1 div.sk-serial::before {content: \"\";position: absolute;border-left: 1px solid gray;box-sizing: border-box;top: 0;bottom: 0;left: 50%;z-index: 0;}#sk-container-id-1 div.sk-serial {display: flex;flex-direction: column;align-items: center;background-color: white;padding-right: 0.2em;padding-left: 0.2em;position: relative;}#sk-container-id-1 div.sk-item {position: relative;z-index: 1;}#sk-container-id-1 div.sk-parallel {display: flex;align-items: stretch;justify-content: center;background-color: white;position: relative;}#sk-container-id-1 div.sk-item::before, #sk-container-id-1 div.sk-parallel-item::before {content: \"\";position: absolute;border-left: 1px solid gray;box-sizing: border-box;top: 0;bottom: 0;left: 50%;z-index: -1;}#sk-container-id-1 div.sk-parallel-item {display: flex;flex-direction: column;z-index: 1;position: relative;background-color: white;}#sk-container-id-1 div.sk-parallel-item:first-child::after {align-self: flex-end;width: 50%;}#sk-container-id-1 div.sk-parallel-item:last-child::after {align-self: flex-start;width: 50%;}#sk-container-id-1 div.sk-parallel-item:only-child::after {width: 0;}#sk-container-id-1 div.sk-dashed-wrapped {border: 1px dashed gray;margin: 0 0.4em 0.5em 0.4em;box-sizing: border-box;padding-bottom: 0.4em;background-color: white;}#sk-container-id-1 div.sk-label label {font-family: monospace;font-weight: bold;display: inline-block;line-height: 1.2em;}#sk-container-id-1 div.sk-label-container {text-align: center;}#sk-container-id-1 div.sk-container {/* jupyter's `normalize.less` sets `[hidden] { display: none; }` but bootstrap.min.css set `[hidden] { display: none !important; }` so we also need the `!important` here to be able to override the default hidden behavior on the sphinx rendered scikit-learn.org. See: https://github.com/scikit-learn/scikit-learn/issues/21755 */display: inline-block !important;position: relative;}#sk-container-id-1 div.sk-text-repr-fallback {display: none;}</style><div id=\"sk-container-id-1\" class=\"sk-top-container\"><div class=\"sk-text-repr-fallback\"><pre>PCA()</pre><b>In a Jupyter environment, please rerun this cell to show the HTML representation or trust the notebook. <br />On GitHub, the HTML representation is unable to render, please try loading this page with nbviewer.org.</b></div><div class=\"sk-container\" hidden><div class=\"sk-item\"><div class=\"sk-estimator sk-toggleable\"><input class=\"sk-toggleable__control sk-hidden--visually\" id=\"sk-estimator-id-1\" type=\"checkbox\" checked><label for=\"sk-estimator-id-1\" class=\"sk-toggleable__label sk-toggleable__label-arrow\">PCA</label><div class=\"sk-toggleable__content\"><pre>PCA()</pre></div></div></div></div></div>"
      ],
      "text/plain": [
       "PCA()"
      ]
     },
     "execution_count": 33,
     "metadata": {},
     "output_type": "execute_result"
    }
   ],
   "source": [
    "pca = PCA()\n",
    "\n",
    "pca.fit(X_scaled)"
   ]
  },
  {
   "cell_type": "code",
   "execution_count": 34,
   "id": "0ea5561e",
   "metadata": {},
   "outputs": [],
   "source": [
    "variance = pca.explained_variance_ratio_\n",
    "\n",
    "var = np.cumsum(np.round(pca.explained_variance_ratio_, decimals = 3)*100)"
   ]
  },
  {
   "cell_type": "code",
   "execution_count": null,
   "id": "ff61b329",
   "metadata": {},
   "outputs": [],
   "source": []
  },
  {
   "cell_type": "code",
   "execution_count": 35,
   "id": "4f46f452",
   "metadata": {},
   "outputs": [
    {
     "data": {
      "image/png": "[encoded data removed]",
      "text/plain": [
       "<Figure size 640x480 with 1 Axes>"
      ]
     },
     "metadata": {},
     "output_type": "display_data"
    }
   ],
   "source": [
    "plt.figure()\n",
    "plt.plot(np.cumsum(pca.explained_variance_ratio_))\n",
    "plt.xlabel(\"Number of Components\")\n",
    "plt.xticks(np.arange(0, 12, 1), fontsize = 15)\n",
    "plt.ylabel(\"Variance (%)\")\n",
    "plt.yticks(np.arange(0.90, 1.2, 0.05), fontsize = 15)\n",
    "plt.axhline(y=0.95, color='r', linestyle='--', label='95% Variance')\n",
    "cumulative_variance = np.cumsum(pca.explained_variance_ratio_)\n",
    "index_95 = np.argmax(cumulative_variance >= 0.95)\n",
    "plt.axvline(x=index_95, color='r', linestyle='--')\n",
    "plt.legend()\n",
    "plt.title(\"Train Dataset Explained Variance\")\n",
    "plt.show()"
   ]
  },
  {
   "cell_type": "code",
   "execution_count": null,
   "id": "45237ea1",
   "metadata": {},
   "outputs": [],
   "source": []
  },
  {
   "cell_type": "code",
   "execution_count": 36,
   "id": "703d3bee",
   "metadata": {},
   "outputs": [],
   "source": [
    "X_train, X_test, y_train, y_test = train_test_split(X_scaled, y, test_size = 0.1, random_state = 12)"
   ]
  },
  {
   "cell_type": "code",
   "execution_count": 37,
   "id": "a2256379",
   "metadata": {},
   "outputs": [
    {
     "data": {
      "text/plain": [
       "((2278, 8), (2278,), (2050, 8), (228, 8), (2050,), (228,))"
      ]
     },
     "execution_count": 37,
     "metadata": {},
     "output_type": "execute_result"
    }
   ],
   "source": [
    "X_scaled.shape, y.shape, X_train.shape, X_test.shape, y_train.shape, y_test.shape"
   ]
  },
  {
   "cell_type": "markdown",
   "id": "ee3240a5",
   "metadata": {},
   "source": [
    "# APPLYING PCA"
   ]
  },
  {
   "cell_type": "code",
   "execution_count": 38,
   "id": "c843f968",
   "metadata": {},
   "outputs": [],
   "source": [
    "pca = PCA(n_components = 3)\n",
    "\n",
    "X_train_pca = pca.fit_transform(X_train)\n",
    "\n",
    "X_test_pca = pca.transform(X_test)"
   ]
  },
  {
   "cell_type": "code",
   "execution_count": 39,
   "id": "c250fdaa",
   "metadata": {},
   "outputs": [
    {
     "data": {
      "text/plain": [
       "array([[ 0.5051172 , -0.1203027 ,  0.03514212],\n",
       "       [ 0.50541339, -0.04963616, -0.04571383],\n",
       "       [ 0.51225579, -0.35085995, -0.00665912],\n",
       "       ...,\n",
       "       [ 0.50940191, -0.1259566 , -0.03497524],\n",
       "       [ 0.50251984,  0.12059495,  0.06322992],\n",
       "       [ 0.51103765, -0.44111322, -0.06147402]])"
      ]
     },
     "execution_count": 39,
     "metadata": {},
     "output_type": "execute_result"
    }
   ],
   "source": [
    "X_train_pca"
   ]
  },
  {
   "cell_type": "code",
   "execution_count": 40,
   "id": "4e63e3e9",
   "metadata": {},
   "outputs": [
    {
     "data": {
      "text/plain": [
       "array([[-4.97346429e-01,  5.33955595e-02,  1.16236911e-01],\n",
       "       [-4.98569607e-01,  1.44185999e-01,  1.67260063e-02],\n",
       "       [-4.95815390e-01,  2.80887703e-02, -5.46797318e-02],\n",
       "       [-4.90064866e-01, -3.72542665e-01, -1.18193479e-01],\n",
       "       [ 5.02822682e-01, -1.71846087e-01,  2.44701517e-01],\n",
       "       [-4.91679659e-01, -9.19212931e-02, -1.58854583e-01],\n",
       "       [ 5.10389822e-01, -3.55273610e-01, -1.18916546e-01],\n",
       "       [ 5.01071381e-01,  4.51086233e-01,  5.97485442e-02],\n",
       "       [-4.98550517e-01,  2.48915084e-01,  4.75082064e-03],\n",
       "       [ 5.09920743e-01, -3.50851726e-01, -8.62494126e-02],\n",
       "       [-4.97341253e-01,  1.60323816e-02,  1.68652952e-01],\n",
       "       [-4.88361976e-01, -3.96917699e-01, -1.10814564e-01],\n",
       "       [ 5.06753727e-01, -1.89899299e-02,  4.20614851e-02],\n",
       "       [ 5.01234797e-01,  3.28590620e-01, -1.23230612e-01],\n",
       "       [-4.93570406e-01, -2.80779240e-01,  1.71960176e-02],\n",
       "       [-4.88974647e-01, -3.54835634e-01, -1.47516571e-01],\n",
       "       [-4.90397596e-01, -4.47753852e-01,  2.20146259e-01],\n",
       "       [-4.94123022e-01,  1.89599464e-02, -1.34675200e-01],\n",
       "       [-4.90318333e-01, -3.63607180e-01, -7.76246696e-02],\n",
       "       [ 5.03105813e-01,  1.85972038e-01, -1.29457041e-01],\n",
       "       [ 5.10198553e-01, -1.25148890e-01, -2.62396344e-03],\n",
       "       [-4.98806666e-01,  1.97510019e-01,  8.09252997e-02],\n",
       "       [ 5.05387313e-01,  2.00820710e-01,  5.07937069e-02],\n",
       "       [-4.86694360e-01, -3.32810188e-01, -6.57276914e-02],\n",
       "       [-4.94251557e-01,  7.20832663e-02, -6.58248295e-03],\n",
       "       [ 5.04322327e-01,  1.72959705e-02, -7.51322367e-02],\n",
       "       [ 5.01572366e-01,  3.48816696e-01, -1.35483043e-01],\n",
       "       [-5.01719441e-01,  1.80740401e-01,  5.32517801e-02],\n",
       "       [-4.94127325e-01, -9.52235694e-02, -1.31280665e-02],\n",
       "       [-4.89170502e-01, -3.82231402e-01, -1.18505290e-01],\n",
       "       [ 5.10553026e-01, -3.42362651e-01, -1.63408787e-01],\n",
       "       [ 5.10347819e-01, -3.65225136e-01, -8.65352504e-02],\n",
       "       [-4.97047286e-01,  2.42045132e-01,  5.40057922e-02],\n",
       "       [-5.01540754e-01,  3.00763914e-01,  1.44368669e-01],\n",
       "       [-4.92182877e-01, -3.13191128e-01, -2.12762640e-02],\n",
       "       [ 5.08816116e-01, -2.19465803e-01, -9.30814159e-02],\n",
       "       [ 5.07503137e-01, -2.97671394e-02,  3.63379559e-02],\n",
       "       [ 5.03929325e-01,  3.94861518e-01,  9.13532344e-02],\n",
       "       [ 5.03462849e-01,  2.86680505e-02, -4.52132831e-03],\n",
       "       [ 5.10728153e-01, -3.99070041e-01, -1.30465207e-01],\n",
       "       [ 5.11856029e-01, -4.39391373e-01, -1.04711207e-01],\n",
       "       [-4.93209526e-01, -9.31744009e-02,  1.27209669e-02],\n",
       "       [ 5.09396812e-01, -2.76840604e-01, -1.29424360e-01],\n",
       "       [ 5.10744613e-01, -3.99567695e-01, -1.44004974e-01],\n",
       "       [ 5.04184001e-01,  3.30986822e-01, -1.22442417e-02],\n",
       "       [ 5.04379194e-01,  1.15186483e-01, -1.45231496e-01],\n",
       "       [-4.96070220e-01,  5.00165897e-02, -7.45513057e-02],\n",
       "       [-5.03046591e-01,  5.62143780e-01, -3.64352467e-02],\n",
       "       [-4.90567796e-01, -3.69793052e-01, -1.33660557e-01],\n",
       "       [ 5.06308496e-01, -3.63522913e-01,  3.77488530e-01],\n",
       "       [ 5.02709055e-01,  1.53951717e-01, -6.15393649e-02],\n",
       "       [ 5.04024885e-01,  9.12402616e-03,  3.03761911e-02],\n",
       "       [-4.90609193e-01, -3.66284299e-01, -9.70476251e-02],\n",
       "       [-4.98279795e-01,  3.49575573e-01, -1.49213075e-01],\n",
       "       [ 5.02066386e-01,  2.51653272e-01, -1.05849090e-01],\n",
       "       [ 5.11643067e-01, -2.29810971e-01, -6.23128612e-02],\n",
       "       [-4.92130016e-01, -2.98477202e-01,  1.18966760e-02],\n",
       "       [-4.96551683e-01,  1.14693845e-01,  2.29371145e-01],\n",
       "       [-5.00668101e-01,  4.67196100e-01, -3.70037488e-02],\n",
       "       [-4.99546537e-01,  2.20203550e-02,  2.37269892e-01],\n",
       "       [-4.97638645e-01,  1.24961672e-01,  4.11458547e-02],\n",
       "       [ 5.06907463e-01,  1.89043511e-01,  6.36144741e-04],\n",
       "       [-4.90883418e-01, -2.91950906e-01, -1.19173706e-01],\n",
       "       [ 4.97933672e-01,  5.04190198e-01, -4.65797947e-02],\n",
       "       [-4.94253862e-01, -2.71134719e-01,  9.41450779e-02],\n",
       "       [-5.02009100e-01,  5.48754670e-01, -1.10715504e-01],\n",
       "       [-5.02469587e-01,  5.49396466e-01, -6.48770868e-02],\n",
       "       [ 5.07992539e-01, -2.00943464e-01, -7.00727156e-02],\n",
       "       [-5.04630461e-01, -3.95050217e-02,  6.21579864e-01],\n",
       "       [-4.89944375e-01, -3.47589728e-01, -5.54674308e-02],\n",
       "       [ 5.04336656e-01, -7.81857868e-02, -9.80646151e-04],\n",
       "       [ 5.02844335e-01,  1.08209498e-01,  7.08030761e-02],\n",
       "       [ 5.09894647e-01, -1.42264168e-01,  6.83034020e-02],\n",
       "       [-4.95318950e-01, -1.15848949e-01,  2.01298164e-02],\n",
       "       [-4.92501910e-01, -9.59647761e-02, -1.29680696e-02],\n",
       "       [-4.87589882e-01, -2.74249524e-01, -7.56514625e-02],\n",
       "       [-4.98914350e-01, -1.19741605e-01,  3.91269114e-01],\n",
       "       [ 5.12140567e-01, -2.50413005e-01, -1.32549102e-01],\n",
       "       [ 5.11355600e-01, -3.90137377e-01, -6.78081503e-02],\n",
       "       [ 5.01298521e-01,  3.39458682e-01, -1.47595123e-01],\n",
       "       [-4.98896181e-01,  3.97234349e-01, -1.66607699e-01],\n",
       "       [-4.94867105e-01, -3.58906564e-01,  3.98582915e-01],\n",
       "       [-5.03763448e-01,  5.63516469e-01,  6.45908516e-02],\n",
       "       [-5.03216014e-01,  5.69153691e-01, -1.67273559e-02],\n",
       "       [ 5.00115562e-01,  3.85036677e-01, -4.73826708e-02],\n",
       "       [-5.01387871e-01,  4.63990742e-01, -4.81724660e-02],\n",
       "       [-4.89728965e-01, -3.90535848e-01, -4.73794646e-02],\n",
       "       [-5.05612224e-01,  3.12013315e-01,  5.36628635e-01],\n",
       "       [-5.01891227e-01,  5.69004015e-01,  5.75735296e-02],\n",
       "       [ 4.99282010e-01,  3.31694465e-01,  9.05251422e-02],\n",
       "       [ 5.10026280e-01, -1.40416478e-01, -7.07490451e-02],\n",
       "       [-4.99524998e-01,  2.15845251e-01,  1.39790807e-01],\n",
       "       [-4.99111324e-01, -1.16730335e-01,  4.89809868e-01],\n",
       "       [-4.85383662e-01, -4.18539725e-01, -7.33032743e-02],\n",
       "       [ 5.04253621e-01,  3.17156964e-02, -3.26296191e-03],\n",
       "       [-4.89323053e-01, -3.84695999e-01, -1.97890283e-02],\n",
       "       [ 5.03625530e-01, -1.07347895e-01,  1.20806272e-01],\n",
       "       [ 5.07193067e-01, -2.20524753e-01, -8.83576276e-03],\n",
       "       [-4.91792442e-01, -2.30915254e-01, -4.63743896e-02],\n",
       "       [-4.90863753e-01, -2.25083427e-01, -1.53019299e-01],\n",
       "       [-4.89867337e-01, -2.75404753e-01, -1.55605836e-01],\n",
       "       [-4.96773656e-01,  1.25622606e-01, -4.71161911e-02],\n",
       "       [ 5.13634929e-01, -3.37748168e-01, -1.36750407e-01],\n",
       "       [-4.99211679e-01,  3.59220871e-01, -1.06923073e-01],\n",
       "       [-4.91183571e-01, -3.52977260e-01,  4.37745082e-02],\n",
       "       [-4.94954844e-01, -2.52874764e-01,  2.03451565e-01],\n",
       "       [-5.00133722e-01,  5.40212441e-01, -1.77579072e-01],\n",
       "       [-4.88563749e-01, -3.13689020e-01,  4.19746930e-04],\n",
       "       [-5.00393043e-01,  5.96709097e-01,  2.57623918e-02],\n",
       "       [-4.93023668e-01, -6.12009667e-02, -1.64519252e-01],\n",
       "       [-4.96844999e-01,  9.72155367e-02, -5.29586466e-02],\n",
       "       [ 4.99386852e-01,  4.68678886e-01,  1.30989534e-01],\n",
       "       [-4.91067532e-01, -2.42716651e-01, -8.62941971e-02],\n",
       "       [ 4.98031121e-01,  5.91311789e-01,  3.99388332e-02],\n",
       "       [-4.98918456e-01,  1.34680760e-01,  7.09013301e-02],\n",
       "       [-4.95721629e-01, -5.83212363e-02,  4.11250843e-02],\n",
       "       [-4.99509919e-01, -9.33153441e-02,  5.65333563e-01],\n",
       "       [-4.87945763e-01, -4.51593963e-01, -7.98664037e-02],\n",
       "       [-4.92159650e-01, -2.28635754e-01, -7.82783220e-02],\n",
       "       [ 5.08722689e-01, -3.47718108e-01,  2.08544829e-02],\n",
       "       [-4.95865517e-01,  4.63340574e-02,  1.10250342e-01],\n",
       "       [ 5.02933440e-01,  1.62105806e-01, -1.18113175e-01],\n",
       "       [ 5.06097792e-01,  2.55589549e-01, -7.91760759e-02],\n",
       "       [ 5.02490200e-01, -2.79263124e-02,  7.84689855e-02],\n",
       "       [-4.97290363e-01,  9.01100039e-02,  2.84070256e-02],\n",
       "       [-4.90654426e-01, -4.14649167e-01,  8.72919347e-02],\n",
       "       [-4.95658482e-01,  1.71427852e-02, -6.23001702e-02],\n",
       "       [-4.87605313e-01, -2.32353225e-01, -8.83563847e-02],\n",
       "       [-4.91163453e-01, -2.48191707e-02, -4.69479306e-02],\n",
       "       [-4.90067233e-01, -3.24278568e-01, -1.40891431e-01],\n",
       "       [-4.93371882e-01, -4.44299076e-02, -1.84671909e-01],\n",
       "       [ 4.99562592e-01,  4.94235684e-01, -1.58015551e-01],\n",
       "       [-4.93015619e-01, -1.09738392e-01, -7.37388693e-02],\n",
       "       [-4.88504968e-01, -4.34401644e-01, -4.15813862e-02],\n",
       "       [ 5.10951201e-01, -4.16126146e-01, -1.56426839e-01],\n",
       "       [ 4.99579791e-01,  5.68033865e-01, -1.22068671e-01],\n",
       "       [-4.90156397e-01, -4.02794630e-01,  7.32724966e-03],\n",
       "       [ 4.99237511e-01,  4.62675418e-01, -4.27464291e-02],\n",
       "       [ 5.12017904e-01, -4.25344150e-01, -1.00413399e-01],\n",
       "       [ 4.99812652e-01,  4.01731672e-01,  2.27600474e-01],\n",
       "       [ 5.06053249e-01, -2.71593945e-01,  1.08204897e-01],\n",
       "       [ 5.10149251e-01, -3.94671194e-01,  2.36837179e-01],\n",
       "       [ 5.06137370e-01, -1.21590207e-01,  9.89216320e-03],\n",
       "       [-4.90975359e-01, -1.97705391e-01,  2.09759245e-01],\n",
       "       [ 5.03132115e-01, -4.02366040e-02,  1.84288177e-01],\n",
       "       [-4.93580264e-01, -2.25947641e-02, -8.64352238e-02],\n",
       "       [ 5.04281801e-01,  1.25991959e-01,  1.53476507e-02],\n",
       "       [-4.88609832e-01, -3.53179769e-01, -1.69599614e-01],\n",
       "       [-4.92671653e-01,  1.54701590e-01, -1.58352908e-01],\n",
       "       [-4.94662706e-01,  1.44070597e-01,  5.00997050e-01],\n",
       "       [-4.96524425e-01,  1.88121766e-01, -6.46788467e-02],\n",
       "       [-4.97701068e-01,  2.95914445e-01, -1.52053608e-01],\n",
       "       [ 5.03052325e-01,  2.00289897e-01, -1.37710839e-01],\n",
       "       [ 5.10077394e-01, -7.60939899e-02,  2.21364968e-02],\n",
       "       [ 4.98142821e-01,  5.37300965e-01, -5.55197927e-02],\n",
       "       [ 4.98647060e-01,  5.62685177e-01, -1.03034120e-01],\n",
       "       [ 5.08327411e-01, -3.65446024e-01,  7.60215685e-02],\n",
       "       [-4.88550554e-01, -3.93531549e-01, -7.68243638e-02],\n",
       "       [-5.00358184e-01,  2.31619355e-01,  1.42609270e-01],\n",
       "       [-4.92208443e-01, -1.69628273e-01, -1.02984120e-01],\n",
       "       [ 5.05760155e-01, -7.08560497e-02, -7.06490817e-02],\n",
       "       [-4.91427759e-01, -3.51506209e-01, -1.38489150e-02],\n",
       "       [ 5.11763391e-01, -3.40755277e-01,  3.61180005e-02],\n",
       "       [ 4.99024103e-01,  4.28862565e-01,  4.95554931e-02],\n",
       "       [-4.92933553e-01, -2.23304455e-01,  5.50471523e-03],\n",
       "       [-4.95585218e-01, -1.74909853e-01,  8.58704061e-02],\n",
       "       [ 5.07131648e-01,  3.35075996e-02,  6.02845985e-02],\n",
       "       [-4.97425213e-01, -2.42442409e-02,  8.81837067e-02],\n",
       "       [ 5.06801040e-01,  1.62523500e-01, -8.32313651e-02],\n",
       "       [-4.94403324e-01, -9.44580782e-02, -6.10534788e-02],\n",
       "       [-4.94094455e-01, -2.10306917e-01,  3.72833995e-01],\n",
       "       [-4.98824517e-01,  1.49366604e-01,  2.48456496e-01],\n",
       "       [-4.98051626e-01,  1.95447940e-01, -3.21797589e-02],\n",
       "       [ 5.10452241e-01, -2.41835729e-01,  1.81984925e-01],\n",
       "       [-5.03835234e-01,  3.25673544e-01,  2.47369843e-01],\n",
       "       [-4.93990927e-01,  2.60139195e-02, -1.97224285e-01],\n",
       "       [-5.03874731e-01,  5.66645841e-01,  3.46328121e-01],\n",
       "       [-5.06321578e-01,  4.94730734e-01,  4.01260434e-01],\n",
       "       [-4.99392950e-01,  4.05039948e-01, -4.53306557e-02],\n",
       "       [-5.00451846e-01,  2.31142706e-01,  1.13333459e-01],\n",
       "       [-4.96391187e-01,  2.13773118e-01, -1.49073814e-01],\n",
       "       [ 5.02261779e-01,  2.92183831e-01, -1.56556870e-01],\n",
       "       [ 5.04727359e-01, -1.20126097e-01,  1.71522771e-02],\n",
       "       [ 5.10316709e-01, -4.29998680e-01, -6.35981251e-02],\n",
       "       [-4.92471770e-01,  3.39690271e-02,  4.16498693e-02],\n",
       "       [ 5.01351152e-01,  3.92626599e-01, -4.25987551e-02],\n",
       "       [-4.92594092e-01, -2.32274137e-01, -7.31495676e-02],\n",
       "       [ 5.10038281e-01, -5.93956018e-02, -1.45010523e-01],\n",
       "       [ 5.05666386e-01, -2.76970650e-01,  1.29669251e-01],\n",
       "       [-5.00488819e-01,  3.54090404e-01,  2.61501657e-01],\n",
       "       [ 5.03409485e-01,  3.33779251e-01,  5.25455670e-02],\n",
       "       [ 4.98083742e-01,  5.68042624e-01, -1.10494942e-01],\n",
       "       [ 5.11272868e-01, -4.15353492e-01, -1.14659895e-01],\n",
       "       [-5.00118211e-01,  4.22317472e-01, -6.85737368e-02],\n",
       "       [ 4.98695392e-01,  5.78205381e-01, -1.88511347e-02],\n",
       "       [ 5.00274469e-01,  3.85305944e-01, -2.51959129e-02],\n",
       "       [-4.88183553e-01, -4.25343408e-01, -1.24900860e-01],\n",
       "       [-5.00894057e-01,  5.51034080e-01, -1.34808840e-01],\n",
       "       [ 5.09745650e-01, -3.73877289e-01, -6.57393594e-02],\n",
       "       [ 5.01245829e-01,  5.60919097e-01, -8.43327952e-02],\n",
       "       [-4.96796568e-01,  1.01311843e-01, -3.29922186e-02],\n",
       "       [-4.97699377e-01,  7.36178011e-02,  1.21738358e-01],\n",
       "       [ 5.03081686e-01,  1.40667219e-01, -8.15472643e-02],\n",
       "       [ 5.03029587e-01,  1.23597464e-01, -5.47212005e-02],\n",
       "       [-5.00100952e-01,  3.48867690e-01,  3.21060883e-03],\n",
       "       [ 5.08889510e-01, -2.97555462e-01, -8.94791724e-02],\n",
       "       [-4.93372733e-01, -9.31298558e-02, -1.30373149e-01],\n",
       "       [-4.91327798e-01, -3.40462706e-01,  3.63325016e-02],\n",
       "       [-4.97315163e-01,  4.73003705e-02,  7.87413299e-02],\n",
       "       [ 5.11244753e-01, -4.40180460e-01, -7.50471488e-02],\n",
       "       [ 4.97562746e-01,  5.67440361e-01, -3.54039226e-02],\n",
       "       [ 5.02393061e-01,  1.74930085e-01, -8.31092484e-02],\n",
       "       [-4.95786124e-01,  8.59727886e-02, -3.82608180e-02],\n",
       "       [ 5.04159886e-01, -9.66560659e-02,  3.07897194e-01],\n",
       "       [ 5.09182408e-01, -1.80906000e-01,  2.21869753e-03],\n",
       "       [-4.91854846e-01, -1.17407713e-01,  4.43015992e-02],\n",
       "       [-4.96484985e-01,  2.48020653e-01, -1.36665887e-01],\n",
       "       [-4.93320217e-01, -1.01574028e-01,  1.43455209e-01],\n",
       "       [ 5.03577700e-01,  1.37051886e-01, -1.15682542e-01],\n",
       "       [-4.91958634e-01, -2.83642764e-01,  3.03229724e-02],\n",
       "       [ 5.01847964e-01,  2.22619604e-01, -5.74260410e-02],\n",
       "       [ 5.08579058e-01,  3.61340179e-02,  5.03653695e-03],\n",
       "       [ 4.97825055e-01,  5.10080884e-01, -3.50981927e-02],\n",
       "       [-4.96165886e-01,  2.60319470e-01, -2.07787711e-01],\n",
       "       [-4.95143197e-01,  1.34455876e-01, -1.68270355e-01],\n",
       "       [-4.93180441e-01, -4.54496958e-02, -1.18743551e-01],\n",
       "       [ 5.11735468e-01, -2.74472443e-01, -5.32100925e-02],\n",
       "       [ 4.97553710e-01,  3.50493916e-01,  6.87031006e-01]])"
      ]
     },
     "execution_count": 40,
     "metadata": {},
     "output_type": "execute_result"
    }
   ],
   "source": [
    "X_test_pca"
   ]
  },
  {
   "cell_type": "code",
   "execution_count": 41,
   "id": "eb6205aa",
   "metadata": {},
   "outputs": [
    {
     "data": {
      "text/plain": [
       "((2050, 3), (228, 3))"
      ]
     },
     "execution_count": 41,
     "metadata": {},
     "output_type": "execute_result"
    }
   ],
   "source": [
    "X_train_pca.shape, X_test_pca.shape"
   ]
  },
  {
   "cell_type": "code",
   "execution_count": null,
   "id": "431b56c0",
   "metadata": {},
   "outputs": [],
   "source": []
  },
  {
   "cell_type": "markdown",
   "id": "10a0073a",
   "metadata": {},
   "source": [
    "# Decision Tree Regression"
   ]
  },
  {
   "cell_type": "code",
   "execution_count": 42,
   "id": "284bcd03",
   "metadata": {},
   "outputs": [],
   "source": [
    "from sklearn.tree import DecisionTreeRegressor"
   ]
  },
  {
   "cell_type": "code",
   "execution_count": 43,
   "id": "b1969c69",
   "metadata": {},
   "outputs": [
    {
     "data": {
      "text/plain": [
       "{'max_depth': None, 'min_samples_leaf': 1, 'min_samples_split': 5}"
      ]
     },
     "execution_count": 43,
     "metadata": {},
     "output_type": "execute_result"
    }
   ],
   "source": [
    "from sklearn.model_selection import GridSearchCV\n",
    "\n",
    "param_grid = {\n",
    "    'max_depth': [None, 10, 20, 30],\n",
    "    'min_samples_split': [2, 5, 10],\n",
    "    'min_samples_leaf': [1, 2, 4]\n",
    "}\n",
    "\n",
    "grid_search = GridSearchCV(DecisionTreeRegressor(), param_grid, cv = 10, scoring = 'neg_mean_squared_error')\n",
    "grid_search.fit(X_train_pca, y_train)\n",
    "\n",
    "best_params = grid_search.best_params_\n",
    "best_params"
   ]
  },
  {
   "cell_type": "code",
   "execution_count": 44,
   "id": "4ce03b49",
   "metadata": {},
   "outputs": [
    {
     "name": "stdout",
     "output_type": "stream",
     "text": [
      "Mean Squared Error: 0.0015838206627680313\n",
      "Root Mean Squared Error: 0.039797244411743274\n",
      "R-squared: 0.9894606588154975\n",
      "Adjusted R-squared: 0.9893195069246337\n"
     ]
    }
   ],
   "source": [
    "tree_regressor = DecisionTreeRegressor(\n",
    "    max_depth = None,\n",
    "    min_samples_split = 2,\n",
    "    min_samples_leaf = 2,\n",
    "    random_state = 12\n",
    ")\n",
    "\n",
    "tree_regressor.fit(X_train_pca, y_train)\n",
    "\n",
    "yp_dt = tree_regressor.predict(X_test_pca)\n",
    "\n",
    "mse = mean_squared_error(y_test, yp_dt)\n",
    "mse_r = mean_squared_error(y_test, yp_dt, squared = False)\n",
    "r2 = r2_score(y_test, yp_dt)\n",
    "\n",
    "n = len(y_test)\n",
    "k = X_train_pca.shape[1]  \n",
    "adj_r2 = 1 - ((1 - r2) * (n - 1) / (n - k - 1))\n",
    "\n",
    "print(f'Mean Squared Error: {mse}')\n",
    "print(f'Root Mean Squared Error: {mse_r}')\n",
    "print(f'R-squared: {r2}')\n",
    "print(f'Adjusted R-squared: {adj_r2}')"
   ]
  },
  {
   "cell_type": "code",
   "execution_count": 45,
   "id": "88b3cb16",
   "metadata": {},
   "outputs": [
    {
     "data": {
      "text/plain": [
       "0.9291146675821599"
      ]
     },
     "execution_count": 45,
     "metadata": {},
     "output_type": "execute_result"
    }
   ],
   "source": [
    "score_dt = cross_val_score(DecisionTreeRegressor(max_depth = None, min_samples_split = 5, \n",
    "                                                 min_samples_leaf = 2, random_state = 12), \n",
    "X_test_pca, y_test, cv = 5, scoring = 'r2').mean()\n",
    "\n",
    "score_dt"
   ]
  },
  {
   "cell_type": "code",
   "execution_count": 46,
   "id": "e8e9453b",
   "metadata": {},
   "outputs": [
    {
     "name": "stdout",
     "output_type": "stream",
     "text": [
      "Training MSE: 0.0008130081300813008\n",
      "Validation MSE: 0.0015838206627680313\n",
      "Mean Huber Loss: 0.0007919103313840157\n"
     ]
    }
   ],
   "source": [
    "train_pred = tree_regressor.predict(X_train_pca)\n",
    "test_pred = tree_regressor.predict(X_test_pca)\n",
    "\n",
    "from sklearn.metrics import mean_squared_error, r2_score\n",
    "\n",
    "train_mse = mean_squared_error(y_train, train_pred)\n",
    "test_mse = mean_squared_error(y_test, test_pred)\n",
    "\n",
    "print(f'Training MSE: {train_mse}')\n",
    "print(f'Validation MSE: {test_mse}')\n",
    "\n",
    "import tensorflow as tf\n",
    "def huber_loss(y_test, yp_dt, delta = 1.0):\n",
    "    error = y_test - yp_dt\n",
    "    condition = tf.abs(error) < delta\n",
    "    squared_loss = 0.5 * tf.square(error)\n",
    "    linear_loss = delta * (tf.abs(error) - 0.5 * delta)\n",
    "    return tf.where(condition, squared_loss, linear_loss)\n",
    "\n",
    "loss = huber_loss(y_test, yp_dt, delta = 1.0)\n",
    "\n",
    "\n",
    "mean_huber_loss = np.mean(loss)\n",
    "print(f\"Mean Huber Loss: {mean_huber_loss}\")"
   ]
  },
  {
   "cell_type": "code",
   "execution_count": null,
   "id": "efd22c78",
   "metadata": {},
   "outputs": [],
   "source": []
  },
  {
   "cell_type": "markdown",
   "id": "d686646e",
   "metadata": {},
   "source": [
    "# Decision Tree Classification"
   ]
  },
  {
   "cell_type": "code",
   "execution_count": 47,
   "id": "6946f448",
   "metadata": {},
   "outputs": [
    {
     "name": "stdout",
     "output_type": "stream",
     "text": [
      "Accuracy_dt: 0.9956\n",
      "Confusion Matrix:\n",
      " [[ 42   0]\n",
      " [  1 185]]\n",
      "Classification Report:\n",
      "               precision    recall  f1-score   support\n",
      "\n",
      "         0.0       0.98      1.00      0.99        42\n",
      "         1.0       1.00      0.99      1.00       186\n",
      "\n",
      "    accuracy                           1.00       228\n",
      "   macro avg       0.99      1.00      0.99       228\n",
      "weighted avg       1.00      1.00      1.00       228\n",
      "\n"
     ]
    }
   ],
   "source": [
    "from sklearn.tree import DecisionTreeClassifier\n",
    "\n",
    "dt_model = DecisionTreeClassifier()\n",
    "\n",
    "dt_model.fit(X_train_pca, y_train)\n",
    "\n",
    "y_dt = dt_model.predict(X_test_pca)\n",
    "\n",
    "accuracy_dt = accuracy_score(y_test, y_dt)\n",
    "conf_matrix = confusion_matrix(y_test, y_dt)\n",
    "classification_rep = classification_report(y_test, y_dt)\n",
    "\n",
    "print(f'Accuracy_dt: {accuracy_dt:.4f}')\n",
    "print('Confusion Matrix:\\n', conf_matrix)\n",
    "print('Classification Report:\\n', classification_rep)"
   ]
  },
  {
   "cell_type": "code",
   "execution_count": 48,
   "id": "8f25ed14",
   "metadata": {},
   "outputs": [
    {
     "name": "stdout",
     "output_type": "stream",
     "text": [
      "Cross-validated Accuracy: 0.9888 (+/- 0.0037)\n"
     ]
    }
   ],
   "source": [
    "dt_model = DecisionTreeClassifier()\n",
    "\n",
    "scorer = make_scorer(accuracy_score)\n",
    "\n",
    "cv_dt = cross_val_score(dt_model, X_train_pca, y_train, cv = 5, scoring = scorer)\n",
    "\n",
    "print(\"Cross-validated Accuracy: {:.4f} (+/- {:.4f})\".format(cv_dt.mean(), cv_dt.std()))"
   ]
  },
  {
   "cell_type": "code",
   "execution_count": null,
   "id": "0ad461c5",
   "metadata": {},
   "outputs": [],
   "source": []
  },
  {
   "cell_type": "markdown",
   "id": "4d5466e3",
   "metadata": {},
   "source": [
    "# Random Forest Classification"
   ]
  },
  {
   "cell_type": "code",
   "execution_count": 49,
   "id": "6f390aa1",
   "metadata": {},
   "outputs": [
    {
     "name": "stdout",
     "output_type": "stream",
     "text": [
      "Best Parameters: {'max_depth': None, 'n_estimators': 50}\n",
      "Accuracy_rf: 1.0000\n",
      "Confusion Matrix:\n",
      " [[ 42   0]\n",
      " [  0 186]]\n",
      "Classification Report:\n",
      "               precision    recall  f1-score   support\n",
      "\n",
      "         0.0       1.00      1.00      1.00        42\n",
      "         1.0       1.00      1.00      1.00       186\n",
      "\n",
      "    accuracy                           1.00       228\n",
      "   macro avg       1.00      1.00      1.00       228\n",
      "weighted avg       1.00      1.00      1.00       228\n",
      "\n"
     ]
    }
   ],
   "source": [
    "from sklearn.ensemble import RandomForestClassifier\n",
    "from sklearn.model_selection import GridSearchCV\n",
    "\n",
    "param_grid = {\n",
    "    'n_estimators': [50, 100, 150, 200],  \n",
    "    'max_depth': [None, 10, 20, 30],  \n",
    "    \n",
    "}\n",
    "\n",
    "rf_model = RandomForestClassifier(random_state = 12)\n",
    "\n",
    "grid_search = GridSearchCV(rf_model, param_grid, cv = 5, scoring = 'accuracy')\n",
    "\n",
    "grid_search.fit(X_train_pca, y_train)\n",
    "\n",
    "best_params = grid_search.best_params_\n",
    "\n",
    "best_rf_model = grid_search.best_estimator_\n",
    "y_rf = best_rf_model.predict(X_test_pca)\n",
    "\n",
    "accuracy_rf = accuracy_score(y_test, y_rf)\n",
    "conf_matrix = confusion_matrix(y_test, y_rf)\n",
    "classification_rep = classification_report(y_test, y_rf)\n",
    "\n",
    "print(f'Best Parameters: {best_params}')\n",
    "print(f'Accuracy_rf: {accuracy_rf:.4f}')\n",
    "print('Confusion Matrix:\\n', conf_matrix)\n",
    "print('Classification Report:\\n', classification_rep)"
   ]
  },
  {
   "cell_type": "code",
   "execution_count": 50,
   "id": "9c687f2d",
   "metadata": {},
   "outputs": [
    {
     "name": "stdout",
     "output_type": "stream",
     "text": [
      "Cross-validated Accuracy: 0.9927 (+/- 0.0041)\n"
     ]
    }
   ],
   "source": [
    "best_rf_model = grid_search.best_estimator_\n",
    "\n",
    "scorer = make_scorer(accuracy_score)\n",
    "\n",
    "cv_rf = cross_val_score(best_rf_model, X_train_pca, y_train, cv = 5, scoring = scorer)\n",
    "\n",
    "print(\"Cross-validated Accuracy: {:.4f} (+/- {:.4f})\".format(cv_rf.mean(), cv_rf.std()))"
   ]
  },
  {
   "cell_type": "code",
   "execution_count": null,
   "id": "ca34a815",
   "metadata": {},
   "outputs": [],
   "source": []
  },
  {
   "cell_type": "markdown",
   "id": "bc52620f",
   "metadata": {},
   "source": [
    "# LDA"
   ]
  },
  {
   "cell_type": "code",
   "execution_count": 51,
   "id": "d248bded",
   "metadata": {},
   "outputs": [
    {
     "name": "stdout",
     "output_type": "stream",
     "text": [
      "Number of Components for LDA: 1\n"
     ]
    }
   ],
   "source": [
    "num_components = len(np.unique(y)) - 1\n",
    "print(f'Number of Components for LDA: {num_components}')"
   ]
  },
  {
   "cell_type": "code",
   "execution_count": 52,
   "id": "8b39c608",
   "metadata": {},
   "outputs": [],
   "source": [
    "lda = LinearDiscriminantAnalysis(n_components = 1)\n",
    "\n",
    "X_train_lda = lda.fit_transform(X_train, y_train)\n",
    "\n",
    "X_test_lda = lda.transform(X_test)"
   ]
  },
  {
   "cell_type": "code",
   "execution_count": 53,
   "id": "2a491c3a",
   "metadata": {},
   "outputs": [
    {
     "data": {
      "text/plain": [
       "((2050, 1), (228, 1))"
      ]
     },
     "execution_count": 53,
     "metadata": {},
     "output_type": "execute_result"
    }
   ],
   "source": [
    "X_train_lda.shape, X_test_lda.shape"
   ]
  },
  {
   "cell_type": "code",
   "execution_count": null,
   "id": "82bd8c02",
   "metadata": {},
   "outputs": [],
   "source": []
  },
  {
   "cell_type": "markdown",
   "id": "f641fe13",
   "metadata": {},
   "source": [
    "# KNN Regression"
   ]
  },
  {
   "cell_type": "code",
   "execution_count": 54,
   "id": "1e7cd075",
   "metadata": {},
   "outputs": [],
   "source": [
    "from sklearn.neighbors import KNeighborsRegressor"
   ]
  },
  {
   "cell_type": "code",
   "execution_count": 55,
   "id": "96577e75",
   "metadata": {},
   "outputs": [
    {
     "data": {
      "text/plain": [
       "15"
      ]
     },
     "execution_count": 55,
     "metadata": {},
     "output_type": "execute_result"
    }
   ],
   "source": [
    "from sklearn.model_selection import GridSearchCV\n",
    "\n",
    "param_grid = {'n_neighbors': [1, 2, 3, 4, 5, 6, 7, 8, 9, 10, 11, 12, 13, 14, 15]}\n",
    "grid_search = GridSearchCV(KNeighborsRegressor(), param_grid, cv = 5, scoring = 'neg_mean_squared_error')\n",
    "grid_search.fit(X_train_lda, y_train)\n",
    "\n",
    "best_k = grid_search.best_params_['n_neighbors']\n",
    "#knn_regressor = KNeighborsRegressor(n_neighbors=best_k)\n",
    "#knn_regressor.fit(X_train, y_train)\n",
    "\n",
    "best_k"
   ]
  },
  {
   "cell_type": "code",
   "execution_count": 56,
   "id": "36e658df",
   "metadata": {},
   "outputs": [
    {
     "name": "stdout",
     "output_type": "stream",
     "text": [
      "Mean Squared Error: 0.011695906432748537\n",
      "Root Mean Squared Error: 0.10814761408717502\n",
      "R-squared: 0.9221710189452125\n",
      "Adjusted R-squared: 0.9218266429228461\n"
     ]
    }
   ],
   "source": [
    "knn_regressor = KNeighborsRegressor(n_neighbors = 15, metric = 'manhattan') \n",
    "\n",
    "knn_regressor.fit(X_train_lda, y_train)\n",
    "\n",
    "yp_knn = knn_regressor.predict(X_test_lda)\n",
    "\n",
    "mse = mean_squared_error(y_test, yp_knn)\n",
    "mse_r = mean_squared_error(y_test, yp_knn, squared = False)\n",
    "r2 = r2_score(y_test, yp_knn)\n",
    "\n",
    "n = len(y_test)\n",
    "k = X_train_lda.shape[1]  \n",
    "adj_r2 = 1 - ((1 - r2) * (n - 1) / (n - k - 1))\n",
    "\n",
    "print(f'Mean Squared Error: {mse}')\n",
    "print(f'Root Mean Squared Error: {mse_r}')\n",
    "print(f'R-squared: {r2}')\n",
    "print(f'Adjusted R-squared: {adj_r2}')"
   ]
  },
  {
   "cell_type": "code",
   "execution_count": 74,
   "id": "9299c4de",
   "metadata": {},
   "outputs": [
    {
     "data": {
      "text/plain": [
       "0.8840013405047603"
      ]
     },
     "execution_count": 74,
     "metadata": {},
     "output_type": "execute_result"
    }
   ],
   "source": [
    "score_knn = cross_val_score(KNeighborsRegressor(n_neighbors = 15, metric='manhattan'), \n",
    "                            X_test_lda, y_test, cv = 5, scoring = 'r2').mean()\n",
    "score_knn"
   ]
  },
  {
   "cell_type": "code",
   "execution_count": 75,
   "id": "c3444c13",
   "metadata": {},
   "outputs": [
    {
     "name": "stdout",
     "output_type": "stream",
     "text": [
      "Training MSE: 0.02125311653116531\n",
      "Validation MSE: 0.011695906432748537\n",
      "Mean Huber Loss: 0.005847953216374269\n"
     ]
    }
   ],
   "source": [
    "train_pred = knn_regressor.predict(X_train_lda)\n",
    "test_pred = knn_regressor.predict(X_test_lda)\n",
    "\n",
    "from sklearn.metrics import mean_squared_error, r2_score\n",
    "\n",
    "train_mse = mean_squared_error(y_train, train_pred)\n",
    "test_mse = mean_squared_error(y_test, test_pred)\n",
    "\n",
    "print(f'Training MSE: {train_mse}')\n",
    "print(f'Validation MSE: {test_mse}')\n",
    "\n",
    "import tensorflow as tf\n",
    "def huber_loss(y_test, yp_knn, delta = 1.0):\n",
    "    error = y_test - yp_knn\n",
    "    condition = tf.abs(error) < delta\n",
    "    squared_loss = 0.5 * tf.square(error)\n",
    "    linear_loss = delta * (tf.abs(error) - 0.5 * delta)\n",
    "    return tf.where(condition, squared_loss, linear_loss)\n",
    "\n",
    "loss = huber_loss(y_test, yp_knn, delta = 1.0)\n",
    "\n",
    "\n",
    "mean_huber_loss = np.mean(loss)\n",
    "print(f\"Mean Huber Loss: {mean_huber_loss}\")"
   ]
  },
  {
   "cell_type": "code",
   "execution_count": null,
   "id": "1206520b",
   "metadata": {},
   "outputs": [],
   "source": []
  },
  {
   "cell_type": "markdown",
   "id": "f5488d47",
   "metadata": {},
   "source": [
    "# Logistic Regression Classification"
   ]
  },
  {
   "cell_type": "code",
   "execution_count": 59,
   "id": "b5098c63",
   "metadata": {},
   "outputs": [
    {
     "name": "stdout",
     "output_type": "stream",
     "text": [
      "Accuracy_lg: 0.9868\n",
      "Confusion Matrix:\n",
      " [[ 41   1]\n",
      " [  2 184]]\n",
      "Classification Report:\n",
      "               precision    recall  f1-score   support\n",
      "\n",
      "         0.0       0.95      0.98      0.96        42\n",
      "         1.0       0.99      0.99      0.99       186\n",
      "\n",
      "    accuracy                           0.99       228\n",
      "   macro avg       0.97      0.98      0.98       228\n",
      "weighted avg       0.99      0.99      0.99       228\n",
      "\n"
     ]
    }
   ],
   "source": [
    "from sklearn.linear_model import LogisticRegression\n",
    "\n",
    "logreg_model = LogisticRegression()\n",
    "\n",
    "logreg_model.fit(X_train_lda, y_train)\n",
    "\n",
    "y_lg = logreg_model.predict(X_test_lda)\n",
    "\n",
    "accuracy_lg = accuracy_score(y_test, y_lg)\n",
    "conf_matrix = confusion_matrix(y_test, y_lg)\n",
    "classification_rep = classification_report(y_test, y_lg)\n",
    "\n",
    "print(f'Accuracy_lg: {accuracy_lg:.4f}')\n",
    "print('Confusion Matrix:\\n', conf_matrix)\n",
    "print('Classification Report:\\n', classification_rep)"
   ]
  },
  {
   "cell_type": "code",
   "execution_count": 60,
   "id": "8508565b",
   "metadata": {},
   "outputs": [
    {
     "name": "stdout",
     "output_type": "stream",
     "text": [
      "Cross-validated Accuracy: 0.9698 (+/- 0.0061)\n"
     ]
    }
   ],
   "source": [
    "logreg_model = LogisticRegression()\n",
    "\n",
    "scorer = make_scorer(accuracy_score)\n",
    "\n",
    "cv_lg = cross_val_score(logreg_model, X_train_lda, y_train, cv = 5, scoring = scorer)\n",
    "\n",
    "print(\"Cross-validated Accuracy: {:.4f} (+/- {:.4f})\".format(cv_lg.mean(), cv_lg.std()))"
   ]
  },
  {
   "cell_type": "code",
   "execution_count": null,
   "id": "16187237",
   "metadata": {},
   "outputs": [],
   "source": []
  },
  {
   "cell_type": "markdown",
   "id": "59e792f3",
   "metadata": {},
   "source": [
    "# SVM Classification"
   ]
  },
  {
   "cell_type": "code",
   "execution_count": 61,
   "id": "0e69d866",
   "metadata": {},
   "outputs": [
    {
     "name": "stdout",
     "output_type": "stream",
     "text": [
      "Best Parameters: {'C': 1, 'kernel': 'linear'}\n",
      "Accuracy_svm: 0.9868\n",
      "Confusion Matrix:\n",
      " [[ 41   1]\n",
      " [  2 184]]\n",
      "Classification Report:\n",
      "               precision    recall  f1-score   support\n",
      "\n",
      "         0.0       0.95      0.98      0.96        42\n",
      "         1.0       0.99      0.99      0.99       186\n",
      "\n",
      "    accuracy                           0.99       228\n",
      "   macro avg       0.97      0.98      0.98       228\n",
      "weighted avg       0.99      0.99      0.99       228\n",
      "\n"
     ]
    }
   ],
   "source": [
    "from sklearn.model_selection import GridSearchCV\n",
    "from sklearn.svm import SVC\n",
    "\n",
    "param_grid = {\n",
    "    'C': [0.1, 1, 10],  \n",
    "    'kernel': ['linear', 'rbf', 'poly'],  \n",
    "   \n",
    "}\n",
    "\n",
    "\n",
    "svm_model = SVC(random_state = 12)\n",
    "\n",
    "grid_search = GridSearchCV(svm_model, param_grid, cv = 5, scoring = 'accuracy')\n",
    "\n",
    "grid_search.fit(X_train_lda, y_train)\n",
    "\n",
    "best_params = grid_search.best_params_\n",
    "\n",
    "best_svm_model = grid_search.best_estimator_\n",
    "y_svm = best_svm_model.predict(X_test_lda)\n",
    "\n",
    "accuracy_svm = accuracy_score(y_test, y_svm)\n",
    "conf_matrix = confusion_matrix(y_test, y_svm)\n",
    "classification_rep = classification_report(y_test, y_svm)\n",
    "\n",
    "print(f'Best Parameters: {best_params}')\n",
    "print(f'Accuracy_svm: {accuracy_svm:.4f}')\n",
    "print('Confusion Matrix:\\n', conf_matrix)\n",
    "print('Classification Report:\\n', classification_rep)"
   ]
  },
  {
   "cell_type": "code",
   "execution_count": 62,
   "id": "c329bdb3",
   "metadata": {},
   "outputs": [
    {
     "name": "stdout",
     "output_type": "stream",
     "text": [
      "Cross-validated Accuracy: 0.9693 (+/- 0.0070)\n"
     ]
    }
   ],
   "source": [
    "best_svm_model = grid_search.best_estimator_\n",
    "\n",
    "scorer = make_scorer(accuracy_score)\n",
    "\n",
    "cv_svm = cross_val_score(best_svm_model, X_train_lda, y_train, cv = 5, scoring = scorer)\n",
    "\n",
    "print(\"Cross-validated Accuracy: {:.4f} (+/- {:.4f})\".format(cv_svm.mean(), cv_svm.std()))"
   ]
  },
  {
   "cell_type": "code",
   "execution_count": null,
   "id": "cac4c1ba",
   "metadata": {},
   "outputs": [],
   "source": []
  },
  {
   "cell_type": "markdown",
   "id": "8f47f0d2",
   "metadata": {},
   "source": [
    "# K Neighbors Classification"
   ]
  },
  {
   "cell_type": "code",
   "execution_count": 63,
   "id": "8f10060e",
   "metadata": {},
   "outputs": [
    {
     "name": "stdout",
     "output_type": "stream",
     "text": [
      "Best Parameters: {'n_neighbors': 15, 'p': 1, 'weights': 'uniform'}\n",
      "Accuracy_knn: 0.9825\n",
      "Confusion Matrix:\n",
      " [[ 41   1]\n",
      " [  3 183]]\n",
      "Classification Report:\n",
      "               precision    recall  f1-score   support\n",
      "\n",
      "         0.0       0.93      0.98      0.95        42\n",
      "         1.0       0.99      0.98      0.99       186\n",
      "\n",
      "    accuracy                           0.98       228\n",
      "   macro avg       0.96      0.98      0.97       228\n",
      "weighted avg       0.98      0.98      0.98       228\n",
      "\n"
     ]
    }
   ],
   "source": [
    "from sklearn.model_selection import GridSearchCV\n",
    "from sklearn.neighbors import KNeighborsClassifier\n",
    "\n",
    "param_grid = {\n",
    "    'n_neighbors': [3, 5, 7, 9, 11, 13, 15, 17, 19, 21, 23],  \n",
    "    'weights': ['uniform', 'distance'],  \n",
    "    'p': [1, 2],  \n",
    "}\n",
    "\n",
    "\n",
    "knn_model = KNeighborsClassifier()\n",
    "\n",
    "\n",
    "grid_search = GridSearchCV(knn_model, param_grid, cv = 5, scoring = 'accuracy')\n",
    "\n",
    "grid_search.fit(X_train_lda, y_train)\n",
    "\n",
    "best_params = grid_search.best_params_\n",
    "\n",
    "best_knn_model = grid_search.best_estimator_\n",
    "y_knn = best_knn_model.predict(X_test_lda)\n",
    "\n",
    "accuracy_knn = accuracy_score(y_test, y_knn)\n",
    "conf_matrix = confusion_matrix(y_test, y_knn)\n",
    "classification_rep = classification_report(y_test, y_knn)\n",
    "\n",
    "print(f'Best Parameters: {best_params}')\n",
    "print(f'Accuracy_knn: {accuracy_knn:.4f}')\n",
    "print('Confusion Matrix:\\n', conf_matrix)\n",
    "print('Classification Report:\\n', classification_rep)"
   ]
  },
  {
   "cell_type": "code",
   "execution_count": 64,
   "id": "4ffc59a9",
   "metadata": {},
   "outputs": [
    {
     "name": "stdout",
     "output_type": "stream",
     "text": [
      "Cross-validated Accuracy: 0.9688 (+/- 0.0054)\n"
     ]
    }
   ],
   "source": [
    "best_knn_model = grid_search.best_estimator_\n",
    "\n",
    "scorer = make_scorer(accuracy_score)\n",
    "\n",
    "cv_knn = cross_val_score(best_knn_model, X_train_lda, y_train, cv = 5, scoring = scorer)\n",
    "\n",
    "print(\"Cross-validated Accuracy: {:.4f} (+/- {:.4f})\".format(cv_knn.mean(), cv_knn.std()))"
   ]
  },
  {
   "cell_type": "code",
   "execution_count": null,
   "id": "5fc1c1d8",
   "metadata": {},
   "outputs": [],
   "source": []
  },
  {
   "cell_type": "markdown",
   "id": "edd4a978",
   "metadata": {},
   "source": [
    "# Oringial Data"
   ]
  },
  {
   "cell_type": "markdown",
   "id": "d752cb9b",
   "metadata": {},
   "source": [
    "# Decision Tree Regression"
   ]
  },
  {
   "cell_type": "code",
   "execution_count": 65,
   "id": "61c8984c",
   "metadata": {},
   "outputs": [],
   "source": [
    "from sklearn.tree import DecisionTreeRegressor"
   ]
  },
  {
   "cell_type": "code",
   "execution_count": 66,
   "id": "6e176ff2",
   "metadata": {},
   "outputs": [
    {
     "data": {
      "text/plain": [
       "{'max_depth': None, 'min_samples_leaf': 1, 'min_samples_split': 2}"
      ]
     },
     "execution_count": 66,
     "metadata": {},
     "output_type": "execute_result"
    }
   ],
   "source": [
    "from sklearn.model_selection import GridSearchCV\n",
    "\n",
    "param_grid = {\n",
    "    'max_depth': [None, 10, 20, 30],\n",
    "    'min_samples_split': [2, 5, 10],\n",
    "    'min_samples_leaf': [1, 2, 4]\n",
    "}\n",
    "\n",
    "grid_search = GridSearchCV(DecisionTreeRegressor(), param_grid, cv = 10, scoring = 'neg_mean_squared_error')\n",
    "grid_search.fit(X_train, y_train)\n",
    "\n",
    "best_params = grid_search.best_params_\n",
    "best_params"
   ]
  },
  {
   "cell_type": "code",
   "execution_count": 67,
   "id": "d3917d55",
   "metadata": {},
   "outputs": [
    {
     "name": "stdout",
     "output_type": "stream",
     "text": [
      "Mean Squared Error: 0.0\n",
      "Root Mean Squared Error: 0.0\n",
      "R-squared: 1.0\n",
      "Adjusted R-squared: 1.0\n"
     ]
    }
   ],
   "source": [
    "tree_regressor = DecisionTreeRegressor(\n",
    "    max_depth = None,\n",
    "    min_samples_split = 2,\n",
    "    min_samples_leaf = 1,\n",
    "    random_state = 12\n",
    ")\n",
    "\n",
    "tree_regressor.fit(X_train, y_train)\n",
    "\n",
    "yp_dt = tree_regressor.predict(X_test)\n",
    "\n",
    "mse = mean_squared_error(y_test, yp_dt)\n",
    "mse_r = mean_squared_error(y_test, yp_dt, squared = False)\n",
    "r2 = r2_score(y_test, yp_dt)\n",
    "\n",
    "n = len(y_test)\n",
    "k = X_train.shape[1]  \n",
    "adj_r2 = 1 - ((1 - r2) * (n - 1) / (n - k - 1))\n",
    "\n",
    "print(f'Mean Squared Error: {mse}')\n",
    "print(f'Root Mean Squared Error: {mse_r}')\n",
    "print(f'R-squared: {r2}')\n",
    "print(f'Adjusted R-squared: {adj_r2}')"
   ]
  },
  {
   "cell_type": "code",
   "execution_count": 68,
   "id": "5a5d17ed",
   "metadata": {},
   "outputs": [
    {
     "data": {
      "text/plain": [
       "1.0"
      ]
     },
     "execution_count": 68,
     "metadata": {},
     "output_type": "execute_result"
    }
   ],
   "source": [
    "score_dt = cross_val_score(DecisionTreeRegressor(max_depth = None, min_samples_split = 2, \n",
    "                                                 min_samples_leaf = 1, random_state = 12), \n",
    "X_test, y_test, cv = 5, scoring = 'r2').mean()\n",
    "\n",
    "score_dt"
   ]
  },
  {
   "cell_type": "code",
   "execution_count": 69,
   "id": "8eca151f",
   "metadata": {},
   "outputs": [
    {
     "name": "stdout",
     "output_type": "stream",
     "text": [
      "Training MSE: 0.0\n",
      "Validation MSE: 0.0\n",
      "Mean Huber Loss: 0.0\n"
     ]
    }
   ],
   "source": [
    "train_pred = tree_regressor.predict(X_train)\n",
    "test_pred = tree_regressor.predict(X_test)\n",
    "\n",
    "from sklearn.metrics import mean_squared_error, r2_score\n",
    "\n",
    "train_mse = mean_squared_error(y_train, train_pred)\n",
    "test_mse = mean_squared_error(y_test, test_pred)\n",
    "\n",
    "print(f'Training MSE: {train_mse}')\n",
    "print(f'Validation MSE: {test_mse}')\n",
    "\n",
    "import tensorflow as tf\n",
    "def huber_loss(y_test, yp_dt, delta = 1.0):\n",
    "    error = y_test - yp_dt\n",
    "    condition = tf.abs(error) < delta\n",
    "    squared_loss = 0.5 * tf.square(error)\n",
    "    linear_loss = delta * (tf.abs(error) - 0.5 * delta)\n",
    "    return tf.where(condition, squared_loss, linear_loss)\n",
    "\n",
    "loss = huber_loss(y_test, yp_dt, delta = 1.0)\n",
    "\n",
    "\n",
    "mean_huber_loss = np.mean(loss)\n",
    "print(f\"Mean Huber Loss: {mean_huber_loss}\")"
   ]
  },
  {
   "cell_type": "code",
   "execution_count": null,
   "id": "65fe1e3f",
   "metadata": {},
   "outputs": [],
   "source": []
  },
  {
   "cell_type": "markdown",
   "id": "b64f1c86",
   "metadata": {},
   "source": [
    "# Decision Tree Classification"
   ]
  },
  {
   "cell_type": "code",
   "execution_count": 70,
   "id": "84695d70",
   "metadata": {},
   "outputs": [
    {
     "name": "stdout",
     "output_type": "stream",
     "text": [
      "Accuracy_dt: 1.0000\n",
      "Confusion Matrix:\n",
      " [[ 42   0]\n",
      " [  0 186]]\n",
      "Classification Report:\n",
      "               precision    recall  f1-score   support\n",
      "\n",
      "         0.0       1.00      1.00      1.00        42\n",
      "         1.0       1.00      1.00      1.00       186\n",
      "\n",
      "    accuracy                           1.00       228\n",
      "   macro avg       1.00      1.00      1.00       228\n",
      "weighted avg       1.00      1.00      1.00       228\n",
      "\n"
     ]
    }
   ],
   "source": [
    "from sklearn.tree import DecisionTreeClassifier\n",
    "\n",
    "dt_model = DecisionTreeClassifier()\n",
    "\n",
    "dt_model.fit(X_train, y_train)\n",
    "\n",
    "y_dt = dt_model.predict(X_test)\n",
    "\n",
    "accuracy_dt = accuracy_score(y_test, y_dt)\n",
    "conf_matrix = confusion_matrix(y_test, y_dt)\n",
    "classification_rep = classification_report(y_test, y_dt)\n",
    "\n",
    "print(f'Accuracy_dt: {accuracy_dt:.4f}')\n",
    "print('Confusion Matrix:\\n', conf_matrix)\n",
    "print('Classification Report:\\n', classification_rep)"
   ]
  },
  {
   "cell_type": "code",
   "execution_count": 71,
   "id": "e6ecdcae",
   "metadata": {},
   "outputs": [
    {
     "name": "stdout",
     "output_type": "stream",
     "text": [
      "Cross-validated Accuracy: 1.0000 (+/- 0.0000)\n"
     ]
    }
   ],
   "source": [
    "dt_model = DecisionTreeClassifier()\n",
    "\n",
    "scorer = make_scorer(accuracy_score)\n",
    "\n",
    "cv_dt = cross_val_score(dt_model, X_train, y_train, cv = 5, scoring = scorer)\n",
    "\n",
    "print(\"Cross-validated Accuracy: {:.4f} (+/- {:.4f})\".format(cv_dt.mean(), cv_dt.std()))"
   ]
  },
  {
   "cell_type": "code",
   "execution_count": null,
   "id": "7ca2c2e5",
   "metadata": {},
   "outputs": [],
   "source": []
  },
  {
   "cell_type": "markdown",
   "id": "6cd5e58d",
   "metadata": {},
   "source": [
    "# Random Forest Classification"
   ]
  },
  {
   "cell_type": "code",
   "execution_count": 72,
   "id": "1b875f40",
   "metadata": {},
   "outputs": [
    {
     "name": "stdout",
     "output_type": "stream",
     "text": [
      "Best Parameters: {'max_depth': None, 'n_estimators': 50}\n",
      "Accuracy_rf: 1.0000\n",
      "Confusion Matrix:\n",
      " [[ 42   0]\n",
      " [  0 186]]\n",
      "Classification Report:\n",
      "               precision    recall  f1-score   support\n",
      "\n",
      "         0.0       1.00      1.00      1.00        42\n",
      "         1.0       1.00      1.00      1.00       186\n",
      "\n",
      "    accuracy                           1.00       228\n",
      "   macro avg       1.00      1.00      1.00       228\n",
      "weighted avg       1.00      1.00      1.00       228\n",
      "\n"
     ]
    }
   ],
   "source": [
    "from sklearn.ensemble import RandomForestClassifier\n",
    "from sklearn.model_selection import GridSearchCV\n",
    "\n",
    "param_grid = {\n",
    "    'n_estimators': [50, 100, 150, 200],  \n",
    "    'max_depth': [None, 10, 20, 30],  \n",
    "    \n",
    "}\n",
    "\n",
    "rf_model = RandomForestClassifier(random_state = 12)\n",
    "\n",
    "grid_search = GridSearchCV(rf_model, param_grid, cv = 5, scoring = 'accuracy')\n",
    "\n",
    "grid_search.fit(X_train, y_train)\n",
    "\n",
    "best_params = grid_search.best_params_\n",
    "\n",
    "best_rf_model = grid_search.best_estimator_\n",
    "y_rf = best_rf_model.predict(X_test)\n",
    "\n",
    "accuracy_rf = accuracy_score(y_test, y_rf)\n",
    "conf_matrix = confusion_matrix(y_test, y_rf)\n",
    "classification_rep = classification_report(y_test, y_rf)\n",
    "\n",
    "print(f'Best Parameters: {best_params}')\n",
    "print(f'Accuracy_rf: {accuracy_rf:.4f}')\n",
    "print('Confusion Matrix:\\n', conf_matrix)\n",
    "print('Classification Report:\\n', classification_rep)"
   ]
  },
  {
   "cell_type": "code",
   "execution_count": 73,
   "id": "e4252d4e",
   "metadata": {},
   "outputs": [
    {
     "name": "stdout",
     "output_type": "stream",
     "text": [
      "Cross-validated Accuracy: 1.0000 (+/- 0.0000)\n"
     ]
    }
   ],
   "source": [
    "best_rf_model = grid_search.best_estimator_\n",
    "\n",
    "scorer = make_scorer(accuracy_score)\n",
    "\n",
    "cv_rf = cross_val_score(best_rf_model, X_train, y_train, cv = 5, scoring = scorer)\n",
    "\n",
    "print(\"Cross-validated Accuracy: {:.4f} (+/- {:.4f})\".format(cv_rf.mean(), cv_rf.std()))"
   ]
  },
  {
   "cell_type": "code",
   "execution_count": null,
   "id": "a720034e",
   "metadata": {},
   "outputs": [],
   "source": []
  },
  {
   "cell_type": "markdown",
   "id": "1d6033ba",
   "metadata": {},
   "source": [
    "# Experiments \n",
    "\n",
    "All the experiments performed in the pursuit of the best models and their results can be found in separated Jupyter Notebooks or in the Github Repository, the links are provided in the main file.\n",
    "\n",
    "\n",
    "- LDA with Regression Algorithms: http://localhost:8888/notebooks/Documents/GitHub/ML/LDA.ipynb\n",
    "\n",
    "- LDA with Classification Algorithms: http://localhost:8888/notebooks/Documents/GitHub/ML/LDA_Classification.ipynb\n",
    "\n",
    "- LDA with Oversampling and Regression: http://localhost:8888/notebooks/Documents/GitHub/ML/LDA_Over.ipynb\n",
    "\n",
    "- LDA with Undersampling and Regression: http://localhost:8888/notebooks/Documents/GitHub/ML/LDA_Under.ipynb\n",
    "\n",
    "- PCA with Regression Algorithms:http://localhost:8888/notebooks/Documents/GitHub/ML/PCA.ipynb\n",
    "\n",
    "- PCA with Classification Algorithms: http://localhost:8888/notebooks/Documents/GitHub/ML/PCA_Classification.ipynb\n",
    "\n",
    "- PCA with Oversampling and Regression: http://localhost:8888/notebooks/Documents/GitHub/ML/PCA_Over.ipynb\n",
    "\n",
    "\n",
    "- PCA with Undersampling and Regression: http://localhost:8888/notebooks/Documents/GitHub/ML/PCA_Under.ipynb\n",
    "\n",
    "- Original Data with Regression and Classification Algorithms: http://localhost:8888/notebooks/Documents/GitHub/ML/Original%20Data.ipynb\n",
    "\n",
    "- Summary of R2 and Accuracy of all Models: https://docs.google.com/spreadsheets/d/1_jueJid0ULbd2rgHKxMRD1Jy-Ke8bujUO5ozr00IkL4/edit#gid=0\n",
    "\n",
    "- Report commenting the results: https://docs.google.com/document/d/1p2BFYHVDboWd9mrEXTVh0OGbmO2Yr76NnoasbBn3NKA/edit\n",
    "\n",
    "- Github Repository: https://github.com/izazaka/ML"
   ]
  },
  {
   "cell_type": "code",
   "execution_count": null,
   "id": "c356fcfa",
   "metadata": {},
   "outputs": [],
   "source": []
  }
 ],
 "metadata": {
  "kernelspec": {
   "display_name": "Python 3 (ipykernel)",
   "language": "python",
   "name": "python3"
  },
  "language_info": {
   "codemirror_mode": {
    "name": "ipython",
    "version": 3
   },
   "file_extension": ".py",
   "mimetype": "text/x-python",
   "name": "python",
   "nbconvert_exporter": "python",
   "pygments_lexer": "ipython3",
   "version": "3.11.5"
  }
 },
 "nbformat": 4,
 "nbformat_minor": 5
}
