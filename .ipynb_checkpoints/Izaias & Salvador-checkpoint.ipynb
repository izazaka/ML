{
 "cells": [
  {
   "cell_type": "markdown",
   "id": "04a9de90",
   "metadata": {},
   "source": [
    "# CA1 Machine Learning"
   ]
  },
  {
   "cell_type": "markdown",
   "id": "3404becf",
   "metadata": {},
   "source": [
    "# Libraries"
   ]
  },
  {
   "cell_type": "code",
   "execution_count": 1,
   "id": "d273d643",
   "metadata": {},
   "outputs": [
    {
     "data": {
      "text/html": [
       "        <script type=\"text/javascript\">\n",
       "        window.PlotlyConfig = {MathJaxConfig: 'local'};\n",
       "        if (window.MathJax && window.MathJax.Hub && window.MathJax.Hub.Config) {window.MathJax.Hub.Config({SVG: {font: \"STIX-Web\"}});}\n",
       "        if (typeof require !== 'undefined') {\n",
       "        require.undef(\"plotly\");\n",
       "        requirejs.config({\n",
       "            paths: {\n",
       "                'plotly': ['https://cdn.plot.ly/plotly-2.12.1.min']\n",
       "            }\n",
       "        });\n",
       "        require(['plotly'], function(Plotly) {\n",
       "            window._Plotly = Plotly;\n",
       "        });\n",
       "        }\n",
       "        </script>\n",
       "        "
      ]
     },
     "metadata": {},
     "output_type": "display_data"
    },
    {
     "data": {
      "text/html": [
       "        <script type=\"text/javascript\">\n",
       "        window.PlotlyConfig = {MathJaxConfig: 'local'};\n",
       "        if (window.MathJax && window.MathJax.Hub && window.MathJax.Hub.Config) {window.MathJax.Hub.Config({SVG: {font: \"STIX-Web\"}});}\n",
       "        if (typeof require !== 'undefined') {\n",
       "        require.undef(\"plotly\");\n",
       "        requirejs.config({\n",
       "            paths: {\n",
       "                'plotly': ['https://cdn.plot.ly/plotly-2.12.1.min']\n",
       "            }\n",
       "        });\n",
       "        require(['plotly'], function(Plotly) {\n",
       "            window._Plotly = Plotly;\n",
       "        });\n",
       "        }\n",
       "        </script>\n",
       "        "
      ]
     },
     "metadata": {},
     "output_type": "display_data"
    }
   ],
   "source": [
    "import cufflinks as cf\n",
    "\n",
    "from IPython.display import display,HTML\n",
    "\n",
    "%matplotlib inline\n",
    "\n",
    "import pandas as pd\n",
    "\n",
    "import numpy as np\n",
    "\n",
    "import matplotlib.pyplot as plt\n",
    "\n",
    "import seaborn as sns\n",
    "\n",
    "from sklearn.model_selection import train_test_split, cross_val_score\n",
    "\n",
    "from sklearn import metrics\n",
    "\n",
    "from sklearn.preprocessing import MinMaxScaler\n",
    "\n",
    "from sklearn.metrics import mean_squared_error, r2_score\n",
    "\n",
    "from sklearn.metrics import classification_report\n",
    "\n",
    "from sklearn.metrics import accuracy_score\n",
    "\n",
    "from sklearn.model_selection import cross_val_score\n",
    "\n",
    "cf.set_config_file(sharing='public',theme='white',offline=True) # write cf.getThemes() to find all themes available\n",
    "import warnings\n",
    "warnings.filterwarnings('ignore')"
   ]
  },
  {
   "cell_type": "code",
   "execution_count": 2,
   "id": "4fa40234",
   "metadata": {},
   "outputs": [
    {
     "data": {
      "text/plain": [
       "['ggplot', 'pearl', 'solar', 'space', 'white', 'polar', 'henanigans']"
      ]
     },
     "execution_count": 2,
     "metadata": {},
     "output_type": "execute_result"
    }
   ],
   "source": [
    "cf.getThemes()"
   ]
  },
  {
   "cell_type": "markdown",
   "id": "c04b92fe",
   "metadata": {},
   "source": [
    "# Exploratory Data Analysis (EDA)"
   ]
  },
  {
   "cell_type": "code",
   "execution_count": 3,
   "id": "c031570a",
   "metadata": {},
   "outputs": [],
   "source": [
    "df = pd.read_excel(\"Seoul_Bike.xlsx\") "
   ]
  },
  {
   "cell_type": "markdown",
   "id": "e7885aa6",
   "metadata": {},
   "source": [
    "DOI\n",
    "10.24432/C5F62R\n",
    "License\n",
    "This dataset is licensed under a Creative Commons Attribution 4.0 International (CC BY 4.0) license.\n",
    "This allows for the sharing and adaptation of the datasets for any purpose, provided that the appropriate credit is given.\n",
    "\n",
    "https://archive.ics.uci.edu/dataset/560/seoul+bike+sharing+demand\n",
    "\n",
    "    @misc{misc_seoul_bike_sharing_demand_560,\n",
    "  title        = {{Seoul Bike Sharing Demand}},\n",
    "  year         = {2020},\n",
    "  howpublished = {UCI Machine Learning Repository},\n",
    "  note         = {{DOI}: https://doi.org/10.24432/C5F62R}\n",
    "}"
   ]
  },
  {
   "cell_type": "code",
   "execution_count": 4,
   "id": "0c5f13ed",
   "metadata": {},
   "outputs": [
    {
     "data": {
      "text/plain": [
       "(8760, 14)"
      ]
     },
     "execution_count": 4,
     "metadata": {},
     "output_type": "execute_result"
    }
   ],
   "source": [
    "df.shape "
   ]
  },
  {
   "cell_type": "code",
   "execution_count": 5,
   "id": "42fc3d33",
   "metadata": {},
   "outputs": [
    {
     "name": "stdout",
     "output_type": "stream",
     "text": [
      "<class 'pandas.core.frame.DataFrame'>\n",
      "RangeIndex: 8760 entries, 0 to 8759\n",
      "Data columns (total 14 columns):\n",
      " #   Column                     Non-Null Count  Dtype         \n",
      "---  ------                     --------------  -----         \n",
      " 0   Date                       8760 non-null   datetime64[ns]\n",
      " 1   Rented Bike Count          8760 non-null   int64         \n",
      " 2   Hour                       8760 non-null   int64         \n",
      " 3   Temperature(°C)            8760 non-null   float64       \n",
      " 4   Humidity(%)                8760 non-null   int64         \n",
      " 5   Wind speed (m/s)           8760 non-null   float64       \n",
      " 6   Visibility (10m)           8760 non-null   int64         \n",
      " 7   Dew point temperature(°C)  8760 non-null   float64       \n",
      " 8   Solar Radiation (MJ/m2)    8760 non-null   float64       \n",
      " 9   Rainfall(mm)               8760 non-null   float64       \n",
      " 10  Snowfall (cm)              8760 non-null   float64       \n",
      " 11  Seasons                    8760 non-null   object        \n",
      " 12  Holiday                    8760 non-null   object        \n",
      " 13  Functioning Day            8760 non-null   object        \n",
      "dtypes: datetime64[ns](1), float64(6), int64(4), object(3)\n",
      "memory usage: 958.3+ KB\n"
     ]
    }
   ],
   "source": [
    "df.info()"
   ]
  },
  {
   "cell_type": "markdown",
   "id": "0c791a2b",
   "metadata": {},
   "source": [
    "If we open the file as csv we cannot see the variable date as a datetime64[ns] Dtype. This will help to group by month for a better visualisation. The Machine Learning Algorithms will be use the original dataset by hour. The categorical data will be transformed in numeric."
   ]
  },
  {
   "cell_type": "code",
   "execution_count": 6,
   "id": "f108531d",
   "metadata": {},
   "outputs": [],
   "source": [
    "df.rename(columns={'Temperature(°C)': 'Temperature'}, inplace=True) "
   ]
  },
  {
   "cell_type": "markdown",
   "id": "defc3b51",
   "metadata": {},
   "source": [
    "It will be easier to deal with this variable withou the (°C)."
   ]
  },
  {
   "cell_type": "code",
   "execution_count": 7,
   "id": "117be58d",
   "metadata": {},
   "outputs": [
    {
     "data": {
      "text/html": [
       "<div>\n",
       "<style scoped>\n",
       "    .dataframe tbody tr th:only-of-type {\n",
       "        vertical-align: middle;\n",
       "    }\n",
       "\n",
       "    .dataframe tbody tr th {\n",
       "        vertical-align: top;\n",
       "    }\n",
       "\n",
       "    .dataframe thead th {\n",
       "        text-align: right;\n",
       "    }\n",
       "</style>\n",
       "<table border=\"1\" class=\"dataframe\">\n",
       "  <thead>\n",
       "    <tr style=\"text-align: right;\">\n",
       "      <th></th>\n",
       "      <th>Date</th>\n",
       "      <th>Rented Bike Count</th>\n",
       "      <th>Hour</th>\n",
       "      <th>Temperature</th>\n",
       "      <th>Humidity(%)</th>\n",
       "      <th>Wind speed (m/s)</th>\n",
       "      <th>Visibility (10m)</th>\n",
       "      <th>Dew point temperature(°C)</th>\n",
       "      <th>Solar Radiation (MJ/m2)</th>\n",
       "      <th>Rainfall(mm)</th>\n",
       "      <th>Snowfall (cm)</th>\n",
       "    </tr>\n",
       "  </thead>\n",
       "  <tbody>\n",
       "    <tr>\n",
       "      <th>count</th>\n",
       "      <td>8760</td>\n",
       "      <td>8760.000000</td>\n",
       "      <td>8760.000000</td>\n",
       "      <td>8760.000000</td>\n",
       "      <td>8760.000000</td>\n",
       "      <td>8760.000000</td>\n",
       "      <td>8760.000000</td>\n",
       "      <td>8760.000000</td>\n",
       "      <td>8760.000000</td>\n",
       "      <td>8760.000000</td>\n",
       "      <td>8760.000000</td>\n",
       "    </tr>\n",
       "    <tr>\n",
       "      <th>mean</th>\n",
       "      <td>2018-05-31 23:59:59.999999744</td>\n",
       "      <td>704.602055</td>\n",
       "      <td>11.500000</td>\n",
       "      <td>12.882922</td>\n",
       "      <td>58.226256</td>\n",
       "      <td>1.724909</td>\n",
       "      <td>1436.825799</td>\n",
       "      <td>4.073813</td>\n",
       "      <td>0.569111</td>\n",
       "      <td>0.148687</td>\n",
       "      <td>0.075068</td>\n",
       "    </tr>\n",
       "    <tr>\n",
       "      <th>min</th>\n",
       "      <td>2017-12-01 00:00:00</td>\n",
       "      <td>0.000000</td>\n",
       "      <td>0.000000</td>\n",
       "      <td>-17.800000</td>\n",
       "      <td>0.000000</td>\n",
       "      <td>0.000000</td>\n",
       "      <td>27.000000</td>\n",
       "      <td>-30.600000</td>\n",
       "      <td>0.000000</td>\n",
       "      <td>0.000000</td>\n",
       "      <td>0.000000</td>\n",
       "    </tr>\n",
       "    <tr>\n",
       "      <th>25%</th>\n",
       "      <td>2018-03-02 00:00:00</td>\n",
       "      <td>191.000000</td>\n",
       "      <td>5.750000</td>\n",
       "      <td>3.500000</td>\n",
       "      <td>42.000000</td>\n",
       "      <td>0.900000</td>\n",
       "      <td>940.000000</td>\n",
       "      <td>-4.700000</td>\n",
       "      <td>0.000000</td>\n",
       "      <td>0.000000</td>\n",
       "      <td>0.000000</td>\n",
       "    </tr>\n",
       "    <tr>\n",
       "      <th>50%</th>\n",
       "      <td>2018-06-01 00:00:00</td>\n",
       "      <td>504.500000</td>\n",
       "      <td>11.500000</td>\n",
       "      <td>13.700000</td>\n",
       "      <td>57.000000</td>\n",
       "      <td>1.500000</td>\n",
       "      <td>1698.000000</td>\n",
       "      <td>5.100000</td>\n",
       "      <td>0.010000</td>\n",
       "      <td>0.000000</td>\n",
       "      <td>0.000000</td>\n",
       "    </tr>\n",
       "    <tr>\n",
       "      <th>75%</th>\n",
       "      <td>2018-08-31 00:00:00</td>\n",
       "      <td>1065.250000</td>\n",
       "      <td>17.250000</td>\n",
       "      <td>22.500000</td>\n",
       "      <td>74.000000</td>\n",
       "      <td>2.300000</td>\n",
       "      <td>2000.000000</td>\n",
       "      <td>14.800000</td>\n",
       "      <td>0.930000</td>\n",
       "      <td>0.000000</td>\n",
       "      <td>0.000000</td>\n",
       "    </tr>\n",
       "    <tr>\n",
       "      <th>max</th>\n",
       "      <td>2018-11-30 00:00:00</td>\n",
       "      <td>3556.000000</td>\n",
       "      <td>23.000000</td>\n",
       "      <td>39.400000</td>\n",
       "      <td>98.000000</td>\n",
       "      <td>7.400000</td>\n",
       "      <td>2000.000000</td>\n",
       "      <td>27.200000</td>\n",
       "      <td>3.520000</td>\n",
       "      <td>35.000000</td>\n",
       "      <td>8.800000</td>\n",
       "    </tr>\n",
       "    <tr>\n",
       "      <th>std</th>\n",
       "      <td>NaN</td>\n",
       "      <td>644.997468</td>\n",
       "      <td>6.922582</td>\n",
       "      <td>11.944825</td>\n",
       "      <td>20.362413</td>\n",
       "      <td>1.036300</td>\n",
       "      <td>608.298712</td>\n",
       "      <td>13.060369</td>\n",
       "      <td>0.868746</td>\n",
       "      <td>1.128193</td>\n",
       "      <td>0.436746</td>\n",
       "    </tr>\n",
       "  </tbody>\n",
       "</table>\n",
       "</div>"
      ],
      "text/plain": [
       "                                Date  Rented Bike Count         Hour  \\\n",
       "count                           8760        8760.000000  8760.000000   \n",
       "mean   2018-05-31 23:59:59.999999744         704.602055    11.500000   \n",
       "min              2017-12-01 00:00:00           0.000000     0.000000   \n",
       "25%              2018-03-02 00:00:00         191.000000     5.750000   \n",
       "50%              2018-06-01 00:00:00         504.500000    11.500000   \n",
       "75%              2018-08-31 00:00:00        1065.250000    17.250000   \n",
       "max              2018-11-30 00:00:00        3556.000000    23.000000   \n",
       "std                              NaN         644.997468     6.922582   \n",
       "\n",
       "       Temperature  Humidity(%)  Wind speed (m/s)  Visibility (10m)  \\\n",
       "count  8760.000000  8760.000000       8760.000000       8760.000000   \n",
       "mean     12.882922    58.226256          1.724909       1436.825799   \n",
       "min     -17.800000     0.000000          0.000000         27.000000   \n",
       "25%       3.500000    42.000000          0.900000        940.000000   \n",
       "50%      13.700000    57.000000          1.500000       1698.000000   \n",
       "75%      22.500000    74.000000          2.300000       2000.000000   \n",
       "max      39.400000    98.000000          7.400000       2000.000000   \n",
       "std      11.944825    20.362413          1.036300        608.298712   \n",
       "\n",
       "       Dew point temperature(°C)  Solar Radiation (MJ/m2)  Rainfall(mm)  \\\n",
       "count                8760.000000              8760.000000   8760.000000   \n",
       "mean                    4.073813                 0.569111      0.148687   \n",
       "min                   -30.600000                 0.000000      0.000000   \n",
       "25%                    -4.700000                 0.000000      0.000000   \n",
       "50%                     5.100000                 0.010000      0.000000   \n",
       "75%                    14.800000                 0.930000      0.000000   \n",
       "max                    27.200000                 3.520000     35.000000   \n",
       "std                    13.060369                 0.868746      1.128193   \n",
       "\n",
       "       Snowfall (cm)  \n",
       "count    8760.000000  \n",
       "mean        0.075068  \n",
       "min         0.000000  \n",
       "25%         0.000000  \n",
       "50%         0.000000  \n",
       "75%         0.000000  \n",
       "max         8.800000  \n",
       "std         0.436746  "
      ]
     },
     "execution_count": 7,
     "metadata": {},
     "output_type": "execute_result"
    }
   ],
   "source": [
    "df.describe()"
   ]
  },
  {
   "cell_type": "code",
   "execution_count": 8,
   "id": "8c9b9ecc",
   "metadata": {},
   "outputs": [
    {
     "data": {
      "text/html": [
       "<div>\n",
       "<style scoped>\n",
       "    .dataframe tbody tr th:only-of-type {\n",
       "        vertical-align: middle;\n",
       "    }\n",
       "\n",
       "    .dataframe tbody tr th {\n",
       "        vertical-align: top;\n",
       "    }\n",
       "\n",
       "    .dataframe thead th {\n",
       "        text-align: right;\n",
       "    }\n",
       "</style>\n",
       "<table border=\"1\" class=\"dataframe\">\n",
       "  <thead>\n",
       "    <tr style=\"text-align: right;\">\n",
       "      <th></th>\n",
       "      <th>Date</th>\n",
       "      <th>Rented Bike Count</th>\n",
       "      <th>Hour</th>\n",
       "      <th>Temperature</th>\n",
       "      <th>Humidity(%)</th>\n",
       "      <th>Wind speed (m/s)</th>\n",
       "      <th>Visibility (10m)</th>\n",
       "      <th>Dew point temperature(°C)</th>\n",
       "      <th>Solar Radiation (MJ/m2)</th>\n",
       "      <th>Rainfall(mm)</th>\n",
       "      <th>Snowfall (cm)</th>\n",
       "      <th>Seasons</th>\n",
       "      <th>Holiday</th>\n",
       "      <th>Functioning Day</th>\n",
       "      <th>month</th>\n",
       "    </tr>\n",
       "  </thead>\n",
       "  <tbody>\n",
       "    <tr>\n",
       "      <th>0</th>\n",
       "      <td>2017-12-01</td>\n",
       "      <td>254</td>\n",
       "      <td>0</td>\n",
       "      <td>-5.2</td>\n",
       "      <td>37</td>\n",
       "      <td>2.2</td>\n",
       "      <td>2000</td>\n",
       "      <td>-17.6</td>\n",
       "      <td>0.0</td>\n",
       "      <td>0.0</td>\n",
       "      <td>0.0</td>\n",
       "      <td>Winter</td>\n",
       "      <td>No Holiday</td>\n",
       "      <td>Yes</td>\n",
       "      <td>Dec</td>\n",
       "    </tr>\n",
       "    <tr>\n",
       "      <th>1</th>\n",
       "      <td>2017-12-01</td>\n",
       "      <td>204</td>\n",
       "      <td>1</td>\n",
       "      <td>-5.5</td>\n",
       "      <td>38</td>\n",
       "      <td>0.8</td>\n",
       "      <td>2000</td>\n",
       "      <td>-17.6</td>\n",
       "      <td>0.0</td>\n",
       "      <td>0.0</td>\n",
       "      <td>0.0</td>\n",
       "      <td>Winter</td>\n",
       "      <td>No Holiday</td>\n",
       "      <td>Yes</td>\n",
       "      <td>Dec</td>\n",
       "    </tr>\n",
       "  </tbody>\n",
       "</table>\n",
       "</div>"
      ],
      "text/plain": [
       "        Date  Rented Bike Count  Hour  Temperature  Humidity(%)  \\\n",
       "0 2017-12-01                254     0         -5.2           37   \n",
       "1 2017-12-01                204     1         -5.5           38   \n",
       "\n",
       "   Wind speed (m/s)  Visibility (10m)  Dew point temperature(°C)  \\\n",
       "0               2.2              2000                      -17.6   \n",
       "1               0.8              2000                      -17.6   \n",
       "\n",
       "   Solar Radiation (MJ/m2)  Rainfall(mm)  Snowfall (cm) Seasons     Holiday  \\\n",
       "0                      0.0           0.0            0.0  Winter  No Holiday   \n",
       "1                      0.0           0.0            0.0  Winter  No Holiday   \n",
       "\n",
       "  Functioning Day month  \n",
       "0             Yes   Dec  \n",
       "1             Yes   Dec  "
      ]
     },
     "execution_count": 8,
     "metadata": {},
     "output_type": "execute_result"
    }
   ],
   "source": [
    "df[\"month\"] = df[\"Date\"].dt.month\n",
    "df[\"month\"]=df[\"month\"].map({1:\"Jan\", 2: \"Feb\", 3: \"Mar\", 4: \"Apr\", 5: \"May\", 6: \"Jun\", 7: \"Jul\", 8: \"Aug\", 9: \"Sep\", 10: \"Oct\", 11: \"Nov\", 12: \"Dec\"})\n",
    "df.head(2)"
   ]
  },
  {
   "cell_type": "code",
   "execution_count": 9,
   "id": "57035d60",
   "metadata": {},
   "outputs": [
    {
     "data": {
      "text/plain": [
       "array(['No Holiday', 'Holiday'], dtype=object)"
      ]
     },
     "execution_count": 9,
     "metadata": {},
     "output_type": "execute_result"
    }
   ],
   "source": [
    "df['Holiday'].unique()"
   ]
  },
  {
   "cell_type": "code",
   "execution_count": 10,
   "id": "845e701a",
   "metadata": {},
   "outputs": [
    {
     "data": {
      "text/plain": [
       "array(['Winter', 'Spring', 'Summer', 'Autumn'], dtype=object)"
      ]
     },
     "execution_count": 10,
     "metadata": {},
     "output_type": "execute_result"
    }
   ],
   "source": [
    "df['Seasons'].unique()"
   ]
  },
  {
   "cell_type": "code",
   "execution_count": 11,
   "id": "211ffa1e",
   "metadata": {},
   "outputs": [
    {
     "data": {
      "text/plain": [
       "array(['Yes', 'No'], dtype=object)"
      ]
     },
     "execution_count": 11,
     "metadata": {},
     "output_type": "execute_result"
    }
   ],
   "source": [
    "df['Functioning Day'].unique()"
   ]
  },
  {
   "cell_type": "code",
   "execution_count": 12,
   "id": "2d42cc21",
   "metadata": {},
   "outputs": [
    {
     "data": {
      "text/html": [
       "<div>\n",
       "<style scoped>\n",
       "    .dataframe tbody tr th:only-of-type {\n",
       "        vertical-align: middle;\n",
       "    }\n",
       "\n",
       "    .dataframe tbody tr th {\n",
       "        vertical-align: top;\n",
       "    }\n",
       "\n",
       "    .dataframe thead th {\n",
       "        text-align: right;\n",
       "    }\n",
       "</style>\n",
       "<table border=\"1\" class=\"dataframe\">\n",
       "  <thead>\n",
       "    <tr style=\"text-align: right;\">\n",
       "      <th></th>\n",
       "      <th>Rented Bike Count</th>\n",
       "      <th>Hour</th>\n",
       "      <th>Temperature</th>\n",
       "      <th>Humidity(%)</th>\n",
       "      <th>Wind speed (m/s)</th>\n",
       "      <th>Visibility (10m)</th>\n",
       "      <th>Dew point temperature(°C)</th>\n",
       "      <th>Solar Radiation (MJ/m2)</th>\n",
       "      <th>Rainfall(mm)</th>\n",
       "      <th>Snowfall (cm)</th>\n",
       "      <th>Seasons</th>\n",
       "      <th>Holiday</th>\n",
       "      <th>Functioning Day</th>\n",
       "      <th>month</th>\n",
       "    </tr>\n",
       "  </thead>\n",
       "  <tbody>\n",
       "    <tr>\n",
       "      <th>0</th>\n",
       "      <td>254</td>\n",
       "      <td>0</td>\n",
       "      <td>-5.2</td>\n",
       "      <td>37</td>\n",
       "      <td>2.2</td>\n",
       "      <td>2000</td>\n",
       "      <td>-17.6</td>\n",
       "      <td>0.0</td>\n",
       "      <td>0.0</td>\n",
       "      <td>0.0</td>\n",
       "      <td>0</td>\n",
       "      <td>0</td>\n",
       "      <td>0</td>\n",
       "      <td>Dec</td>\n",
       "    </tr>\n",
       "    <tr>\n",
       "      <th>1</th>\n",
       "      <td>204</td>\n",
       "      <td>1</td>\n",
       "      <td>-5.5</td>\n",
       "      <td>38</td>\n",
       "      <td>0.8</td>\n",
       "      <td>2000</td>\n",
       "      <td>-17.6</td>\n",
       "      <td>0.0</td>\n",
       "      <td>0.0</td>\n",
       "      <td>0.0</td>\n",
       "      <td>0</td>\n",
       "      <td>0</td>\n",
       "      <td>0</td>\n",
       "      <td>Dec</td>\n",
       "    </tr>\n",
       "    <tr>\n",
       "      <th>2</th>\n",
       "      <td>173</td>\n",
       "      <td>2</td>\n",
       "      <td>-6.0</td>\n",
       "      <td>39</td>\n",
       "      <td>1.0</td>\n",
       "      <td>2000</td>\n",
       "      <td>-17.7</td>\n",
       "      <td>0.0</td>\n",
       "      <td>0.0</td>\n",
       "      <td>0.0</td>\n",
       "      <td>0</td>\n",
       "      <td>0</td>\n",
       "      <td>0</td>\n",
       "      <td>Dec</td>\n",
       "    </tr>\n",
       "    <tr>\n",
       "      <th>3</th>\n",
       "      <td>107</td>\n",
       "      <td>3</td>\n",
       "      <td>-6.2</td>\n",
       "      <td>40</td>\n",
       "      <td>0.9</td>\n",
       "      <td>2000</td>\n",
       "      <td>-17.6</td>\n",
       "      <td>0.0</td>\n",
       "      <td>0.0</td>\n",
       "      <td>0.0</td>\n",
       "      <td>0</td>\n",
       "      <td>0</td>\n",
       "      <td>0</td>\n",
       "      <td>Dec</td>\n",
       "    </tr>\n",
       "    <tr>\n",
       "      <th>4</th>\n",
       "      <td>78</td>\n",
       "      <td>4</td>\n",
       "      <td>-6.0</td>\n",
       "      <td>36</td>\n",
       "      <td>2.3</td>\n",
       "      <td>2000</td>\n",
       "      <td>-18.6</td>\n",
       "      <td>0.0</td>\n",
       "      <td>0.0</td>\n",
       "      <td>0.0</td>\n",
       "      <td>0</td>\n",
       "      <td>0</td>\n",
       "      <td>0</td>\n",
       "      <td>Dec</td>\n",
       "    </tr>\n",
       "  </tbody>\n",
       "</table>\n",
       "</div>"
      ],
      "text/plain": [
       "   Rented Bike Count  Hour  Temperature  Humidity(%)  Wind speed (m/s)  \\\n",
       "0                254     0         -5.2           37               2.2   \n",
       "1                204     1         -5.5           38               0.8   \n",
       "2                173     2         -6.0           39               1.0   \n",
       "3                107     3         -6.2           40               0.9   \n",
       "4                 78     4         -6.0           36               2.3   \n",
       "\n",
       "   Visibility (10m)  Dew point temperature(°C)  Solar Radiation (MJ/m2)  \\\n",
       "0              2000                      -17.6                      0.0   \n",
       "1              2000                      -17.6                      0.0   \n",
       "2              2000                      -17.7                      0.0   \n",
       "3              2000                      -17.6                      0.0   \n",
       "4              2000                      -18.6                      0.0   \n",
       "\n",
       "   Rainfall(mm)  Snowfall (cm)  Seasons  Holiday  Functioning Day month  \n",
       "0           0.0            0.0        0        0                0   Dec  \n",
       "1           0.0            0.0        0        0                0   Dec  \n",
       "2           0.0            0.0        0        0                0   Dec  \n",
       "3           0.0            0.0        0        0                0   Dec  \n",
       "4           0.0            0.0        0        0                0   Dec  "
      ]
     },
     "execution_count": 12,
     "metadata": {},
     "output_type": "execute_result"
    }
   ],
   "source": [
    "df['Holiday'] = df['Holiday'].replace({'No Holiday': 0, 'Holiday': 1})\n",
    "df['Functioning Day'] = df['Functioning Day'].replace({'Yes': 0, 'No': 1})\n",
    "df['Seasons'] = df['Seasons'].replace({'Winter': 0, 'Spring': 1, 'Summer':2, 'Autumn':3})\n",
    "df.drop([\"Date\"], inplace = True, axis = 1)\n",
    "df.head()"
   ]
  },
  {
   "cell_type": "code",
   "execution_count": 13,
   "id": "50a47dc8",
   "metadata": {},
   "outputs": [
    {
     "data": {
      "image/png": "[encoded data removed]",
      "text/plain": [
       "<Figure size 1500x800 with 1 Axes>"
      ]
     },
     "metadata": {},
     "output_type": "display_data"
    }
   ],
   "source": [
    "fig,ax=plt.subplots(figsize=(15,8))\n",
    "#Barplot for Holiday distribution of counts\n",
    "sns.barplot(data=df,x='Holiday',y='Rented Bike Count',hue='Seasons')\n",
    "ax.set_title('Holiday Distribution of Counts')\n",
    "plt.show()"
   ]
  },
  {
   "cell_type": "markdown",
   "id": "81d38875",
   "metadata": {},
   "source": [
    "From the above bar plot, we can observed that during no holiday the bike rental counts is higher compared to during holiday for different seasons.\n",
    "\n",
    "0: No holiday, 1 : holiday"
   ]
  },
  {
   "cell_type": "code",
   "execution_count": 14,
   "id": "8ad3da51",
   "metadata": {},
   "outputs": [
    {
     "data": {
      "image/png": "[encoded data removed]",
      "text/plain": [
       "<Figure size 1500x1000 with 1 Axes>"
      ]
     },
     "metadata": {},
     "output_type": "display_data"
    }
   ],
   "source": [
    "plt.figure(figsize=(15, 10))\n",
    "\n",
    "plt.subplot(2, 1, 1)\n",
    "sns.histplot(df['Rented Bike Count'], kde=True, color='blue')\n",
    "plt.title('Rented Bikes count')\n",
    "plt.tight_layout()\n",
    "plt.show()"
   ]
  },
  {
   "cell_type": "markdown",
   "id": "ad69da7b",
   "metadata": {},
   "source": [
    "The distribution of the target variable is skewed. "
   ]
  },
  {
   "cell_type": "code",
   "execution_count": 15,
   "id": "2c499bab",
   "metadata": {},
   "outputs": [
    {
     "data": {
      "image/png": "[encoded data removed]",
      "text/plain": [
       "<Figure size 640x480 with 1 Axes>"
      ]
     },
     "metadata": {},
     "output_type": "display_data"
    }
   ],
   "source": [
    "sns.regplot(x='Hour', y='Rented Bike Count', data=df)\n",
    "plt.xlabel('Hour')\n",
    "plt.ylabel('Rented Bike Count')\n",
    "plt.title('Rented bike vs Hour')\n",
    "plt.show()"
   ]
  },
  {
   "cell_type": "markdown",
   "id": "5c4baa18",
   "metadata": {},
   "source": [
    "The number of rented bikes is higher during the evening and night time with a peak in morning around 7 and 8."
   ]
  },
  {
   "cell_type": "code",
   "execution_count": 16,
   "id": "a4e96568",
   "metadata": {},
   "outputs": [
    {
     "data": {
      "image/png": "[encoded data removed]",
      "text/plain": [
       "<Figure size 2000x1000 with 1 Axes>"
      ]
     },
     "metadata": {},
     "output_type": "display_data"
    }
   ],
   "source": [
    "fig,ax=plt.subplots(figsize=(20,10))\n",
    "sns.set_style('white')\n",
    "#Bar plot\n",
    "sns.barplot(x='Hour',y='Rented Bike Count',data=df[['Hour','Rented Bike Count','Seasons']],hue='Seasons',ax=ax)\n",
    "ax.set_title('Seasonwise hourly distribution of counts')\n",
    "plt.show()"
   ]
  },
  {
   "cell_type": "markdown",
   "id": "cd9a7184",
   "metadata": {},
   "source": [
    "Winter:0 ; \n",
    "Spring:1 ; \n",
    "Summer:2 ;\n",
    "Autumn:3 ;"
   ]
  },
  {
   "cell_type": "markdown",
   "id": "c9b9064b",
   "metadata": {},
   "source": [
    "The number of rented bikes is lower when the temperature is also lower as we can see that during the winter the difference is significant. For example: the busiest hour across the seasons is at 6pm (18h) and the number of rented bikes in the Summer is more than 2000 and in the Winter is almost 500."
   ]
  },
  {
   "cell_type": "code",
   "execution_count": 17,
   "id": "b5c98b43",
   "metadata": {},
   "outputs": [
    {
     "data": {
      "image/png": "[encoded data removed]",
      "text/plain": [
       "<Figure size 1500x800 with 1 Axes>"
      ]
     },
     "metadata": {},
     "output_type": "display_data"
    }
   ],
   "source": [
    "fig, ax1 = plt.subplots(figsize=(15, 8))\n",
    "sns.barplot(x='Hour', y='Temperature', data=df[['Hour','Temperature']],ax=ax1)\n",
    "ax1.set_title('Temperature throught the seasons')\n",
    "plt.show()"
   ]
  },
  {
   "cell_type": "code",
   "execution_count": 18,
   "id": "4f573086",
   "metadata": {},
   "outputs": [
    {
     "data": {
      "image/png": "[encoded data removed]",
      "text/plain": [
       "<Figure size 2000x1000 with 1 Axes>"
      ]
     },
     "metadata": {},
     "output_type": "display_data"
    }
   ],
   "source": [
    "fig,ax=plt.subplots(figsize=(20,10))\n",
    "sns.set_style('white')\n",
    "#Bar plot\n",
    "sns.barplot(x='month',y='Rented Bike Count',data=df[['Rented Bike Count','month']],hue='month',ax=ax)\n",
    "ax.set_title(\"Rented Bike count per month\")\n",
    "plt.show()"
   ]
  },
  {
   "cell_type": "markdown",
   "id": "f66c1341",
   "metadata": {},
   "source": [
    "The peak of rented bike is during the Summer"
   ]
  },
  {
   "cell_type": "code",
   "execution_count": 19,
   "id": "11c60014",
   "metadata": {},
   "outputs": [
    {
     "data": {
      "image/png": "[encoded data removed]",
      "text/plain": [
       "<Figure size 1500x800 with 1 Axes>"
      ]
     },
     "metadata": {},
     "output_type": "display_data"
    }
   ],
   "source": [
    "fig, ax1 = plt.subplots(figsize=(15, 8))\n",
    "sns.barplot(x='month', y='Temperature', data=df[['month','Temperature']],ax=ax1)\n",
    "ax1.set_title('Temperature throught the seasons')\n",
    "plt.show()"
   ]
  },
  {
   "cell_type": "markdown",
   "id": "646e217a",
   "metadata": {},
   "source": [
    "The temperature is higher in July and August but the peak of rented bike is in June. Higher and lower temperatures can impact on the number of bikes rented."
   ]
  },
  {
   "cell_type": "code",
   "execution_count": 20,
   "id": "9571358c",
   "metadata": {},
   "outputs": [
    {
     "data": {
      "text/html": [
       "<div>\n",
       "<style scoped>\n",
       "    .dataframe tbody tr th:only-of-type {\n",
       "        vertical-align: middle;\n",
       "    }\n",
       "\n",
       "    .dataframe tbody tr th {\n",
       "        vertical-align: top;\n",
       "    }\n",
       "\n",
       "    .dataframe thead th {\n",
       "        text-align: right;\n",
       "    }\n",
       "</style>\n",
       "<table border=\"1\" class=\"dataframe\">\n",
       "  <thead>\n",
       "    <tr style=\"text-align: right;\">\n",
       "      <th>month</th>\n",
       "      <th>Apr</th>\n",
       "      <th>Aug</th>\n",
       "      <th>Dec</th>\n",
       "      <th>Feb</th>\n",
       "      <th>Jan</th>\n",
       "      <th>Jul</th>\n",
       "      <th>Jun</th>\n",
       "      <th>Mar</th>\n",
       "      <th>May</th>\n",
       "      <th>Nov</th>\n",
       "      <th>Oct</th>\n",
       "      <th>Sep</th>\n",
       "    </tr>\n",
       "    <tr>\n",
       "      <th>Hour</th>\n",
       "      <th></th>\n",
       "      <th></th>\n",
       "      <th></th>\n",
       "      <th></th>\n",
       "      <th></th>\n",
       "      <th></th>\n",
       "      <th></th>\n",
       "      <th></th>\n",
       "      <th></th>\n",
       "      <th></th>\n",
       "      <th></th>\n",
       "      <th></th>\n",
       "    </tr>\n",
       "  </thead>\n",
       "  <tbody>\n",
       "    <tr>\n",
       "      <th>0</th>\n",
       "      <td>14229</td>\n",
       "      <td>25708</td>\n",
       "      <td>6286</td>\n",
       "      <td>4113</td>\n",
       "      <td>4467</td>\n",
       "      <td>27331</td>\n",
       "      <td>29675</td>\n",
       "      <td>9157</td>\n",
       "      <td>19912</td>\n",
       "      <td>14285</td>\n",
       "      <td>19568</td>\n",
       "      <td>22902</td>\n",
       "    </tr>\n",
       "    <tr>\n",
       "      <th>1</th>\n",
       "      <td>10391</td>\n",
       "      <td>19833</td>\n",
       "      <td>6105</td>\n",
       "      <td>3932</td>\n",
       "      <td>4278</td>\n",
       "      <td>21465</td>\n",
       "      <td>22989</td>\n",
       "      <td>7550</td>\n",
       "      <td>14814</td>\n",
       "      <td>11624</td>\n",
       "      <td>14804</td>\n",
       "      <td>17772</td>\n",
       "    </tr>\n",
       "    <tr>\n",
       "      <th>2</th>\n",
       "      <td>7121</td>\n",
       "      <td>13912</td>\n",
       "      <td>4650</td>\n",
       "      <td>2799</td>\n",
       "      <td>3152</td>\n",
       "      <td>15605</td>\n",
       "      <td>17012</td>\n",
       "      <td>5352</td>\n",
       "      <td>10294</td>\n",
       "      <td>7978</td>\n",
       "      <td>10376</td>\n",
       "      <td>11844</td>\n",
       "    </tr>\n",
       "    <tr>\n",
       "      <th>3</th>\n",
       "      <td>4652</td>\n",
       "      <td>9571</td>\n",
       "      <td>3113</td>\n",
       "      <td>1877</td>\n",
       "      <td>2013</td>\n",
       "      <td>10884</td>\n",
       "      <td>11071</td>\n",
       "      <td>3433</td>\n",
       "      <td>7078</td>\n",
       "      <td>5453</td>\n",
       "      <td>7118</td>\n",
       "      <td>7953</td>\n",
       "    </tr>\n",
       "    <tr>\n",
       "      <th>4</th>\n",
       "      <td>2962</td>\n",
       "      <td>6249</td>\n",
       "      <td>1913</td>\n",
       "      <td>1286</td>\n",
       "      <td>1344</td>\n",
       "      <td>7121</td>\n",
       "      <td>7221</td>\n",
       "      <td>2277</td>\n",
       "      <td>4501</td>\n",
       "      <td>3576</td>\n",
       "      <td>4669</td>\n",
       "      <td>5277</td>\n",
       "    </tr>\n",
       "    <tr>\n",
       "      <th>5</th>\n",
       "      <td>3254</td>\n",
       "      <td>6788</td>\n",
       "      <td>1854</td>\n",
       "      <td>1250</td>\n",
       "      <td>1506</td>\n",
       "      <td>8104</td>\n",
       "      <td>7734</td>\n",
       "      <td>2283</td>\n",
       "      <td>4919</td>\n",
       "      <td>3493</td>\n",
       "      <td>4628</td>\n",
       "      <td>4952</td>\n",
       "    </tr>\n",
       "    <tr>\n",
       "      <th>6</th>\n",
       "      <td>7634</td>\n",
       "      <td>13843</td>\n",
       "      <td>2944</td>\n",
       "      <td>2635</td>\n",
       "      <td>2775</td>\n",
       "      <td>15568</td>\n",
       "      <td>15286</td>\n",
       "      <td>4896</td>\n",
       "      <td>10621</td>\n",
       "      <td>7731</td>\n",
       "      <td>10433</td>\n",
       "      <td>10595</td>\n",
       "    </tr>\n",
       "    <tr>\n",
       "      <th>7</th>\n",
       "      <td>18674</td>\n",
       "      <td>24119</td>\n",
       "      <td>6738</td>\n",
       "      <td>6085</td>\n",
       "      <td>6038</td>\n",
       "      <td>27995</td>\n",
       "      <td>30942</td>\n",
       "      <td>13070</td>\n",
       "      <td>23632</td>\n",
       "      <td>18575</td>\n",
       "      <td>23551</td>\n",
       "      <td>21773</td>\n",
       "    </tr>\n",
       "    <tr>\n",
       "      <th>8</th>\n",
       "      <td>32099</td>\n",
       "      <td>38885</td>\n",
       "      <td>13734</td>\n",
       "      <td>11946</td>\n",
       "      <td>12318</td>\n",
       "      <td>43419</td>\n",
       "      <td>48207</td>\n",
       "      <td>23232</td>\n",
       "      <td>37943</td>\n",
       "      <td>34832</td>\n",
       "      <td>39757</td>\n",
       "      <td>34359</td>\n",
       "    </tr>\n",
       "    <tr>\n",
       "      <th>9</th>\n",
       "      <td>19832</td>\n",
       "      <td>24372</td>\n",
       "      <td>8386</td>\n",
       "      <td>7085</td>\n",
       "      <td>7443</td>\n",
       "      <td>26844</td>\n",
       "      <td>32596</td>\n",
       "      <td>15175</td>\n",
       "      <td>25328</td>\n",
       "      <td>20805</td>\n",
       "      <td>24968</td>\n",
       "      <td>22950</td>\n",
       "    </tr>\n",
       "    <tr>\n",
       "      <th>10</th>\n",
       "      <td>16650</td>\n",
       "      <td>18559</td>\n",
       "      <td>6244</td>\n",
       "      <td>5262</td>\n",
       "      <td>5270</td>\n",
       "      <td>20409</td>\n",
       "      <td>27594</td>\n",
       "      <td>12255</td>\n",
       "      <td>22475</td>\n",
       "      <td>16319</td>\n",
       "      <td>21137</td>\n",
       "      <td>20481</td>\n",
       "    </tr>\n",
       "    <tr>\n",
       "      <th>11</th>\n",
       "      <td>20604</td>\n",
       "      <td>20166</td>\n",
       "      <td>7659</td>\n",
       "      <td>6443</td>\n",
       "      <td>6447</td>\n",
       "      <td>21669</td>\n",
       "      <td>30556</td>\n",
       "      <td>14948</td>\n",
       "      <td>25780</td>\n",
       "      <td>18195</td>\n",
       "      <td>23416</td>\n",
       "      <td>23428</td>\n",
       "    </tr>\n",
       "    <tr>\n",
       "      <th>12</th>\n",
       "      <td>26006</td>\n",
       "      <td>21267</td>\n",
       "      <td>8736</td>\n",
       "      <td>7452</td>\n",
       "      <td>7539</td>\n",
       "      <td>24128</td>\n",
       "      <td>35194</td>\n",
       "      <td>18448</td>\n",
       "      <td>30820</td>\n",
       "      <td>20879</td>\n",
       "      <td>27812</td>\n",
       "      <td>27015</td>\n",
       "    </tr>\n",
       "    <tr>\n",
       "      <th>13</th>\n",
       "      <td>26763</td>\n",
       "      <td>20929</td>\n",
       "      <td>9477</td>\n",
       "      <td>7628</td>\n",
       "      <td>7668</td>\n",
       "      <td>24653</td>\n",
       "      <td>36316</td>\n",
       "      <td>19657</td>\n",
       "      <td>33328</td>\n",
       "      <td>21667</td>\n",
       "      <td>30274</td>\n",
       "      <td>29275</td>\n",
       "    </tr>\n",
       "    <tr>\n",
       "      <th>14</th>\n",
       "      <td>27259</td>\n",
       "      <td>20480</td>\n",
       "      <td>9779</td>\n",
       "      <td>7998</td>\n",
       "      <td>7809</td>\n",
       "      <td>24032</td>\n",
       "      <td>37798</td>\n",
       "      <td>21573</td>\n",
       "      <td>34478</td>\n",
       "      <td>22135</td>\n",
       "      <td>32381</td>\n",
       "      <td>31249</td>\n",
       "    </tr>\n",
       "    <tr>\n",
       "      <th>15</th>\n",
       "      <td>27984</td>\n",
       "      <td>24006</td>\n",
       "      <td>10205</td>\n",
       "      <td>8705</td>\n",
       "      <td>7968</td>\n",
       "      <td>26755</td>\n",
       "      <td>42133</td>\n",
       "      <td>24266</td>\n",
       "      <td>36938</td>\n",
       "      <td>23719</td>\n",
       "      <td>35751</td>\n",
       "      <td>34223</td>\n",
       "    </tr>\n",
       "    <tr>\n",
       "      <th>16</th>\n",
       "      <td>31570</td>\n",
       "      <td>27725</td>\n",
       "      <td>10839</td>\n",
       "      <td>8949</td>\n",
       "      <td>7984</td>\n",
       "      <td>31909</td>\n",
       "      <td>48390</td>\n",
       "      <td>25484</td>\n",
       "      <td>42077</td>\n",
       "      <td>25883</td>\n",
       "      <td>39872</td>\n",
       "      <td>38995</td>\n",
       "    </tr>\n",
       "    <tr>\n",
       "      <th>17</th>\n",
       "      <td>37602</td>\n",
       "      <td>37647</td>\n",
       "      <td>11517</td>\n",
       "      <td>10030</td>\n",
       "      <td>9279</td>\n",
       "      <td>42941</td>\n",
       "      <td>59831</td>\n",
       "      <td>28443</td>\n",
       "      <td>51673</td>\n",
       "      <td>31383</td>\n",
       "      <td>47482</td>\n",
       "      <td>47728</td>\n",
       "    </tr>\n",
       "    <tr>\n",
       "      <th>18</th>\n",
       "      <td>49733</td>\n",
       "      <td>56934</td>\n",
       "      <td>14302</td>\n",
       "      <td>13190</td>\n",
       "      <td>11955</td>\n",
       "      <td>64664</td>\n",
       "      <td>74835</td>\n",
       "      <td>36420</td>\n",
       "      <td>65885</td>\n",
       "      <td>41186</td>\n",
       "      <td>59166</td>\n",
       "      <td>60298</td>\n",
       "    </tr>\n",
       "    <tr>\n",
       "      <th>19</th>\n",
       "      <td>35529</td>\n",
       "      <td>50878</td>\n",
       "      <td>10210</td>\n",
       "      <td>8895</td>\n",
       "      <td>8258</td>\n",
       "      <td>56570</td>\n",
       "      <td>66363</td>\n",
       "      <td>24660</td>\n",
       "      <td>52105</td>\n",
       "      <td>29549</td>\n",
       "      <td>43905</td>\n",
       "      <td>49307</td>\n",
       "    </tr>\n",
       "    <tr>\n",
       "      <th>20</th>\n",
       "      <td>30844</td>\n",
       "      <td>48164</td>\n",
       "      <td>8181</td>\n",
       "      <td>6848</td>\n",
       "      <td>6862</td>\n",
       "      <td>54952</td>\n",
       "      <td>62661</td>\n",
       "      <td>20242</td>\n",
       "      <td>44360</td>\n",
       "      <td>24686</td>\n",
       "      <td>37790</td>\n",
       "      <td>44582</td>\n",
       "    </tr>\n",
       "    <tr>\n",
       "      <th>21</th>\n",
       "      <td>29215</td>\n",
       "      <td>47667</td>\n",
       "      <td>8174</td>\n",
       "      <td>6695</td>\n",
       "      <td>6776</td>\n",
       "      <td>54172</td>\n",
       "      <td>59535</td>\n",
       "      <td>19255</td>\n",
       "      <td>43431</td>\n",
       "      <td>23557</td>\n",
       "      <td>36064</td>\n",
       "      <td>41938</td>\n",
       "    </tr>\n",
       "    <tr>\n",
       "      <th>22</th>\n",
       "      <td>25623</td>\n",
       "      <td>42486</td>\n",
       "      <td>7839</td>\n",
       "      <td>6173</td>\n",
       "      <td>6250</td>\n",
       "      <td>48281</td>\n",
       "      <td>53477</td>\n",
       "      <td>17074</td>\n",
       "      <td>38071</td>\n",
       "      <td>22202</td>\n",
       "      <td>32263</td>\n",
       "      <td>37082</td>\n",
       "    </tr>\n",
       "    <tr>\n",
       "      <th>23</th>\n",
       "      <td>17997</td>\n",
       "      <td>31699</td>\n",
       "      <td>6445</td>\n",
       "      <td>4557</td>\n",
       "      <td>4607</td>\n",
       "      <td>34989</td>\n",
       "      <td>39471</td>\n",
       "      <td>11444</td>\n",
       "      <td>26625</td>\n",
       "      <td>16003</td>\n",
       "      <td>23490</td>\n",
       "      <td>27634</td>\n",
       "    </tr>\n",
       "  </tbody>\n",
       "</table>\n",
       "</div>"
      ],
      "text/plain": [
       "month    Apr    Aug    Dec    Feb    Jan    Jul    Jun    Mar    May    Nov  \\\n",
       "Hour                                                                          \n",
       "0      14229  25708   6286   4113   4467  27331  29675   9157  19912  14285   \n",
       "1      10391  19833   6105   3932   4278  21465  22989   7550  14814  11624   \n",
       "2       7121  13912   4650   2799   3152  15605  17012   5352  10294   7978   \n",
       "3       4652   9571   3113   1877   2013  10884  11071   3433   7078   5453   \n",
       "4       2962   6249   1913   1286   1344   7121   7221   2277   4501   3576   \n",
       "5       3254   6788   1854   1250   1506   8104   7734   2283   4919   3493   \n",
       "6       7634  13843   2944   2635   2775  15568  15286   4896  10621   7731   \n",
       "7      18674  24119   6738   6085   6038  27995  30942  13070  23632  18575   \n",
       "8      32099  38885  13734  11946  12318  43419  48207  23232  37943  34832   \n",
       "9      19832  24372   8386   7085   7443  26844  32596  15175  25328  20805   \n",
       "10     16650  18559   6244   5262   5270  20409  27594  12255  22475  16319   \n",
       "11     20604  20166   7659   6443   6447  21669  30556  14948  25780  18195   \n",
       "12     26006  21267   8736   7452   7539  24128  35194  18448  30820  20879   \n",
       "13     26763  20929   9477   7628   7668  24653  36316  19657  33328  21667   \n",
       "14     27259  20480   9779   7998   7809  24032  37798  21573  34478  22135   \n",
       "15     27984  24006  10205   8705   7968  26755  42133  24266  36938  23719   \n",
       "16     31570  27725  10839   8949   7984  31909  48390  25484  42077  25883   \n",
       "17     37602  37647  11517  10030   9279  42941  59831  28443  51673  31383   \n",
       "18     49733  56934  14302  13190  11955  64664  74835  36420  65885  41186   \n",
       "19     35529  50878  10210   8895   8258  56570  66363  24660  52105  29549   \n",
       "20     30844  48164   8181   6848   6862  54952  62661  20242  44360  24686   \n",
       "21     29215  47667   8174   6695   6776  54172  59535  19255  43431  23557   \n",
       "22     25623  42486   7839   6173   6250  48281  53477  17074  38071  22202   \n",
       "23     17997  31699   6445   4557   4607  34989  39471  11444  26625  16003   \n",
       "\n",
       "month    Oct    Sep  \n",
       "Hour                 \n",
       "0      19568  22902  \n",
       "1      14804  17772  \n",
       "2      10376  11844  \n",
       "3       7118   7953  \n",
       "4       4669   5277  \n",
       "5       4628   4952  \n",
       "6      10433  10595  \n",
       "7      23551  21773  \n",
       "8      39757  34359  \n",
       "9      24968  22950  \n",
       "10     21137  20481  \n",
       "11     23416  23428  \n",
       "12     27812  27015  \n",
       "13     30274  29275  \n",
       "14     32381  31249  \n",
       "15     35751  34223  \n",
       "16     39872  38995  \n",
       "17     47482  47728  \n",
       "18     59166  60298  \n",
       "19     43905  49307  \n",
       "20     37790  44582  \n",
       "21     36064  41938  \n",
       "22     32263  37082  \n",
       "23     23490  27634  "
      ]
     },
     "execution_count": 20,
     "metadata": {},
     "output_type": "execute_result"
    }
   ],
   "source": [
    "df2 = df.pivot_table(index=\"Hour\", columns=\"month\", values=\"Rented Bike Count\", aggfunc='sum')\n",
    "\n",
    "pd.set_option('display.max_rows', None)\n",
    "df2"
   ]
  },
  {
   "cell_type": "code",
   "execution_count": 21,
   "id": "020f685e",
   "metadata": {},
   "outputs": [
    {
     "data": {
      "application/vnd.plotly.v1+json": {
       "config": {
        "linkText": "Export to plot.ly",
        "plotlyServerURL": "https://plot.ly",
        "showLink": true
       },
       "data": [
        {
         "line": {
          "color": "rgba(255, 153, 51, 1.0)",
          "dash": "solid",
          "shape": "linear",
          "width": 1.3
         },
         "mode": "lines",
         "name": "Apr",
         "text": "",
         "type": "scatter",
         "x": [
          0,
          1,
          2,
          3,
          4,
          5,
          6,
          7,
          8,
          9,
          10,
          11,
          12,
          13,
          14,
          15,
          16,
          17,
          18,
          19,
          20,
          21,
          22,
          23
         ],
         "y": [
          14229,
          10391,
          7121,
          4652,
          2962,
          3254,
          7634,
          18674,
          32099,
          19832,
          16650,
          20604,
          26006,
          26763,
          27259,
          27984,
          31570,
          37602,
          49733,
          35529,
          30844,
          29215,
          25623,
          17997
         ]
        },
        {
         "line": {
          "color": "rgba(55, 128, 191, 1.0)",
          "dash": "solid",
          "shape": "linear",
          "width": 1.3
         },
         "mode": "lines",
         "name": "Aug",
         "text": "",
         "type": "scatter",
         "x": [
          0,
          1,
          2,
          3,
          4,
          5,
          6,
          7,
          8,
          9,
          10,
          11,
          12,
          13,
          14,
          15,
          16,
          17,
          18,
          19,
          20,
          21,
          22,
          23
         ],
         "y": [
          25708,
          19833,
          13912,
          9571,
          6249,
          6788,
          13843,
          24119,
          38885,
          24372,
          18559,
          20166,
          21267,
          20929,
          20480,
          24006,
          27725,
          37647,
          56934,
          50878,
          48164,
          47667,
          42486,
          31699
         ]
        },
        {
         "line": {
          "color": "rgba(50, 171, 96, 1.0)",
          "dash": "solid",
          "shape": "linear",
          "width": 1.3
         },
         "mode": "lines",
         "name": "Dec",
         "text": "",
         "type": "scatter",
         "x": [
          0,
          1,
          2,
          3,
          4,
          5,
          6,
          7,
          8,
          9,
          10,
          11,
          12,
          13,
          14,
          15,
          16,
          17,
          18,
          19,
          20,
          21,
          22,
          23
         ],
         "y": [
          6286,
          6105,
          4650,
          3113,
          1913,
          1854,
          2944,
          6738,
          13734,
          8386,
          6244,
          7659,
          8736,
          9477,
          9779,
          10205,
          10839,
          11517,
          14302,
          10210,
          8181,
          8174,
          7839,
          6445
         ]
        },
        {
         "line": {
          "color": "rgba(128, 0, 128, 1.0)",
          "dash": "solid",
          "shape": "linear",
          "width": 1.3
         },
         "mode": "lines",
         "name": "Feb",
         "text": "",
         "type": "scatter",
         "x": [
          0,
          1,
          2,
          3,
          4,
          5,
          6,
          7,
          8,
          9,
          10,
          11,
          12,
          13,
          14,
          15,
          16,
          17,
          18,
          19,
          20,
          21,
          22,
          23
         ],
         "y": [
          4113,
          3932,
          2799,
          1877,
          1286,
          1250,
          2635,
          6085,
          11946,
          7085,
          5262,
          6443,
          7452,
          7628,
          7998,
          8705,
          8949,
          10030,
          13190,
          8895,
          6848,
          6695,
          6173,
          4557
         ]
        },
        {
         "line": {
          "color": "rgba(219, 64, 82, 1.0)",
          "dash": "solid",
          "shape": "linear",
          "width": 1.3
         },
         "mode": "lines",
         "name": "Jan",
         "text": "",
         "type": "scatter",
         "x": [
          0,
          1,
          2,
          3,
          4,
          5,
          6,
          7,
          8,
          9,
          10,
          11,
          12,
          13,
          14,
          15,
          16,
          17,
          18,
          19,
          20,
          21,
          22,
          23
         ],
         "y": [
          4467,
          4278,
          3152,
          2013,
          1344,
          1506,
          2775,
          6038,
          12318,
          7443,
          5270,
          6447,
          7539,
          7668,
          7809,
          7968,
          7984,
          9279,
          11955,
          8258,
          6862,
          6776,
          6250,
          4607
         ]
        },
        {
         "line": {
          "color": "rgba(0, 128, 128, 1.0)",
          "dash": "solid",
          "shape": "linear",
          "width": 1.3
         },
         "mode": "lines",
         "name": "Jul",
         "text": "",
         "type": "scatter",
         "x": [
          0,
          1,
          2,
          3,
          4,
          5,
          6,
          7,
          8,
          9,
          10,
          11,
          12,
          13,
          14,
          15,
          16,
          17,
          18,
          19,
          20,
          21,
          22,
          23
         ],
         "y": [
          27331,
          21465,
          15605,
          10884,
          7121,
          8104,
          15568,
          27995,
          43419,
          26844,
          20409,
          21669,
          24128,
          24653,
          24032,
          26755,
          31909,
          42941,
          64664,
          56570,
          54952,
          54172,
          48281,
          34989
         ]
        },
        {
         "line": {
          "color": "rgba(255, 255, 51, 1.0)",
          "dash": "solid",
          "shape": "linear",
          "width": 1.3
         },
         "mode": "lines",
         "name": "Jun",
         "text": "",
         "type": "scatter",
         "x": [
          0,
          1,
          2,
          3,
          4,
          5,
          6,
          7,
          8,
          9,
          10,
          11,
          12,
          13,
          14,
          15,
          16,
          17,
          18,
          19,
          20,
          21,
          22,
          23
         ],
         "y": [
          29675,
          22989,
          17012,
          11071,
          7221,
          7734,
          15286,
          30942,
          48207,
          32596,
          27594,
          30556,
          35194,
          36316,
          37798,
          42133,
          48390,
          59831,
          74835,
          66363,
          62661,
          59535,
          53477,
          39471
         ]
        },
        {
         "line": {
          "color": "rgba(128, 128, 0, 1.0)",
          "dash": "solid",
          "shape": "linear",
          "width": 1.3
         },
         "mode": "lines",
         "name": "Mar",
         "text": "",
         "type": "scatter",
         "x": [
          0,
          1,
          2,
          3,
          4,
          5,
          6,
          7,
          8,
          9,
          10,
          11,
          12,
          13,
          14,
          15,
          16,
          17,
          18,
          19,
          20,
          21,
          22,
          23
         ],
         "y": [
          9157,
          7550,
          5352,
          3433,
          2277,
          2283,
          4896,
          13070,
          23232,
          15175,
          12255,
          14948,
          18448,
          19657,
          21573,
          24266,
          25484,
          28443,
          36420,
          24660,
          20242,
          19255,
          17074,
          11444
         ]
        },
        {
         "line": {
          "color": "rgba(251, 128, 114, 1.0)",
          "dash": "solid",
          "shape": "linear",
          "width": 1.3
         },
         "mode": "lines",
         "name": "May",
         "text": "",
         "type": "scatter",
         "x": [
          0,
          1,
          2,
          3,
          4,
          5,
          6,
          7,
          8,
          9,
          10,
          11,
          12,
          13,
          14,
          15,
          16,
          17,
          18,
          19,
          20,
          21,
          22,
          23
         ],
         "y": [
          19912,
          14814,
          10294,
          7078,
          4501,
          4919,
          10621,
          23632,
          37943,
          25328,
          22475,
          25780,
          30820,
          33328,
          34478,
          36938,
          42077,
          51673,
          65885,
          52105,
          44360,
          43431,
          38071,
          26625
         ]
        },
        {
         "line": {
          "color": "rgba(128, 177, 211, 1.0)",
          "dash": "solid",
          "shape": "linear",
          "width": 1.3
         },
         "mode": "lines",
         "name": "Nov",
         "text": "",
         "type": "scatter",
         "x": [
          0,
          1,
          2,
          3,
          4,
          5,
          6,
          7,
          8,
          9,
          10,
          11,
          12,
          13,
          14,
          15,
          16,
          17,
          18,
          19,
          20,
          21,
          22,
          23
         ],
         "y": [
          14285,
          11624,
          7978,
          5453,
          3576,
          3493,
          7731,
          18575,
          34832,
          20805,
          16319,
          18195,
          20879,
          21667,
          22135,
          23719,
          25883,
          31383,
          41186,
          29549,
          24686,
          23557,
          22202,
          16003
         ]
        },
        {
         "line": {
          "color": "rgba(128, 177, 211, 0.8999999999999999)",
          "dash": "solid",
          "shape": "linear",
          "width": 1.3
         },
         "mode": "lines",
         "name": "Oct",
         "text": "",
         "type": "scatter",
         "x": [
          0,
          1,
          2,
          3,
          4,
          5,
          6,
          7,
          8,
          9,
          10,
          11,
          12,
          13,
          14,
          15,
          16,
          17,
          18,
          19,
          20,
          21,
          22,
          23
         ],
         "y": [
          19568,
          14804,
          10376,
          7118,
          4669,
          4628,
          10433,
          23551,
          39757,
          24968,
          21137,
          23416,
          27812,
          30274,
          32381,
          35751,
          39872,
          47482,
          59166,
          43905,
          37790,
          36064,
          32263,
          23490
         ]
        },
        {
         "line": {
          "color": "rgba(255, 153, 51, 0.8999999999999999)",
          "dash": "solid",
          "shape": "linear",
          "width": 1.3
         },
         "mode": "lines",
         "name": "Sep",
         "text": "",
         "type": "scatter",
         "x": [
          0,
          1,
          2,
          3,
          4,
          5,
          6,
          7,
          8,
          9,
          10,
          11,
          12,
          13,
          14,
          15,
          16,
          17,
          18,
          19,
          20,
          21,
          22,
          23
         ],
         "y": [
          22902,
          17772,
          11844,
          7953,
          5277,
          4952,
          10595,
          21773,
          34359,
          22950,
          20481,
          23428,
          27015,
          29275,
          31249,
          34223,
          38995,
          47728,
          60298,
          49307,
          44582,
          41938,
          37082,
          27634
         ]
        }
       ],
       "layout": {
        "legend": {
         "bgcolor": "#FFFFFF",
         "font": {
          "color": "#4D5663"
         }
        },
        "paper_bgcolor": "#FFFFFF",
        "plot_bgcolor": "#FFFFFF",
        "template": {
         "data": {
          "bar": [
           {
            "error_x": {
             "color": "#2a3f5f"
            },
            "error_y": {
             "color": "#2a3f5f"
            },
            "marker": {
             "line": {
              "color": "#E5ECF6",
              "width": 0.5
             },
             "pattern": {
              "fillmode": "overlay",
              "size": 10,
              "solidity": 0.2
             }
            },
            "type": "bar"
           }
          ],
          "barpolar": [
           {
            "marker": {
             "line": {
              "color": "#E5ECF6",
              "width": 0.5
             },
             "pattern": {
              "fillmode": "overlay",
              "size": 10,
              "solidity": 0.2
             }
            },
            "type": "barpolar"
           }
          ],
          "carpet": [
           {
            "aaxis": {
             "endlinecolor": "#2a3f5f",
             "gridcolor": "white",
             "linecolor": "white",
             "minorgridcolor": "white",
             "startlinecolor": "#2a3f5f"
            },
            "baxis": {
             "endlinecolor": "#2a3f5f",
             "gridcolor": "white",
             "linecolor": "white",
             "minorgridcolor": "white",
             "startlinecolor": "#2a3f5f"
            },
            "type": "carpet"
           }
          ],
          "choropleth": [
           {
            "colorbar": {
             "outlinewidth": 0,
             "ticks": ""
            },
            "type": "choropleth"
           }
          ],
          "contour": [
           {
            "colorbar": {
             "outlinewidth": 0,
             "ticks": ""
            },
            "colorscale": [
             [
              0,
              "#0d0887"
             ],
             [
              0.1111111111111111,
              "#46039f"
             ],
             [
              0.2222222222222222,
              "#7201a8"
             ],
             [
              0.3333333333333333,
              "#9c179e"
             ],
             [
              0.4444444444444444,
              "#bd3786"
             ],
             [
              0.5555555555555556,
              "#d8576b"
             ],
             [
              0.6666666666666666,
              "#ed7953"
             ],
             [
              0.7777777777777778,
              "#fb9f3a"
             ],
             [
              0.8888888888888888,
              "#fdca26"
             ],
             [
              1,
              "#f0f921"
             ]
            ],
            "type": "contour"
           }
          ],
          "contourcarpet": [
           {
            "colorbar": {
             "outlinewidth": 0,
             "ticks": ""
            },
            "type": "contourcarpet"
           }
          ],
          "heatmap": [
           {
            "colorbar": {
             "outlinewidth": 0,
             "ticks": ""
            },
            "colorscale": [
             [
              0,
              "#0d0887"
             ],
             [
              0.1111111111111111,
              "#46039f"
             ],
             [
              0.2222222222222222,
              "#7201a8"
             ],
             [
              0.3333333333333333,
              "#9c179e"
             ],
             [
              0.4444444444444444,
              "#bd3786"
             ],
             [
              0.5555555555555556,
              "#d8576b"
             ],
             [
              0.6666666666666666,
              "#ed7953"
             ],
             [
              0.7777777777777778,
              "#fb9f3a"
             ],
             [
              0.8888888888888888,
              "#fdca26"
             ],
             [
              1,
              "#f0f921"
             ]
            ],
            "type": "heatmap"
           }
          ],
          "heatmapgl": [
           {
            "colorbar": {
             "outlinewidth": 0,
             "ticks": ""
            },
            "colorscale": [
             [
              0,
              "#0d0887"
             ],
             [
              0.1111111111111111,
              "#46039f"
             ],
             [
              0.2222222222222222,
              "#7201a8"
             ],
             [
              0.3333333333333333,
              "#9c179e"
             ],
             [
              0.4444444444444444,
              "#bd3786"
             ],
             [
              0.5555555555555556,
              "#d8576b"
             ],
             [
              0.6666666666666666,
              "#ed7953"
             ],
             [
              0.7777777777777778,
              "#fb9f3a"
             ],
             [
              0.8888888888888888,
              "#fdca26"
             ],
             [
              1,
              "#f0f921"
             ]
            ],
            "type": "heatmapgl"
           }
          ],
          "histogram": [
           {
            "marker": {
             "pattern": {
              "fillmode": "overlay",
              "size": 10,
              "solidity": 0.2
             }
            },
            "type": "histogram"
           }
          ],
          "histogram2d": [
           {
            "colorbar": {
             "outlinewidth": 0,
             "ticks": ""
            },
            "colorscale": [
             [
              0,
              "#0d0887"
             ],
             [
              0.1111111111111111,
              "#46039f"
             ],
             [
              0.2222222222222222,
              "#7201a8"
             ],
             [
              0.3333333333333333,
              "#9c179e"
             ],
             [
              0.4444444444444444,
              "#bd3786"
             ],
             [
              0.5555555555555556,
              "#d8576b"
             ],
             [
              0.6666666666666666,
              "#ed7953"
             ],
             [
              0.7777777777777778,
              "#fb9f3a"
             ],
             [
              0.8888888888888888,
              "#fdca26"
             ],
             [
              1,
              "#f0f921"
             ]
            ],
            "type": "histogram2d"
           }
          ],
          "histogram2dcontour": [
           {
            "colorbar": {
             "outlinewidth": 0,
             "ticks": ""
            },
            "colorscale": [
             [
              0,
              "#0d0887"
             ],
             [
              0.1111111111111111,
              "#46039f"
             ],
             [
              0.2222222222222222,
              "#7201a8"
             ],
             [
              0.3333333333333333,
              "#9c179e"
             ],
             [
              0.4444444444444444,
              "#bd3786"
             ],
             [
              0.5555555555555556,
              "#d8576b"
             ],
             [
              0.6666666666666666,
              "#ed7953"
             ],
             [
              0.7777777777777778,
              "#fb9f3a"
             ],
             [
              0.8888888888888888,
              "#fdca26"
             ],
             [
              1,
              "#f0f921"
             ]
            ],
            "type": "histogram2dcontour"
           }
          ],
          "mesh3d": [
           {
            "colorbar": {
             "outlinewidth": 0,
             "ticks": ""
            },
            "type": "mesh3d"
           }
          ],
          "parcoords": [
           {
            "line": {
             "colorbar": {
              "outlinewidth": 0,
              "ticks": ""
             }
            },
            "type": "parcoords"
           }
          ],
          "pie": [
           {
            "automargin": true,
            "type": "pie"
           }
          ],
          "scatter": [
           {
            "fillpattern": {
             "fillmode": "overlay",
             "size": 10,
             "solidity": 0.2
            },
            "type": "scatter"
           }
          ],
          "scatter3d": [
           {
            "line": {
             "colorbar": {
              "outlinewidth": 0,
              "ticks": ""
             }
            },
            "marker": {
             "colorbar": {
              "outlinewidth": 0,
              "ticks": ""
             }
            },
            "type": "scatter3d"
           }
          ],
          "scattercarpet": [
           {
            "marker": {
             "colorbar": {
              "outlinewidth": 0,
              "ticks": ""
             }
            },
            "type": "scattercarpet"
           }
          ],
          "scattergeo": [
           {
            "marker": {
             "colorbar": {
              "outlinewidth": 0,
              "ticks": ""
             }
            },
            "type": "scattergeo"
           }
          ],
          "scattergl": [
           {
            "marker": {
             "colorbar": {
              "outlinewidth": 0,
              "ticks": ""
             }
            },
            "type": "scattergl"
           }
          ],
          "scattermapbox": [
           {
            "marker": {
             "colorbar": {
              "outlinewidth": 0,
              "ticks": ""
             }
            },
            "type": "scattermapbox"
           }
          ],
          "scatterpolar": [
           {
            "marker": {
             "colorbar": {
              "outlinewidth": 0,
              "ticks": ""
             }
            },
            "type": "scatterpolar"
           }
          ],
          "scatterpolargl": [
           {
            "marker": {
             "colorbar": {
              "outlinewidth": 0,
              "ticks": ""
             }
            },
            "type": "scatterpolargl"
           }
          ],
          "scatterternary": [
           {
            "marker": {
             "colorbar": {
              "outlinewidth": 0,
              "ticks": ""
             }
            },
            "type": "scatterternary"
           }
          ],
          "surface": [
           {
            "colorbar": {
             "outlinewidth": 0,
             "ticks": ""
            },
            "colorscale": [
             [
              0,
              "#0d0887"
             ],
             [
              0.1111111111111111,
              "#46039f"
             ],
             [
              0.2222222222222222,
              "#7201a8"
             ],
             [
              0.3333333333333333,
              "#9c179e"
             ],
             [
              0.4444444444444444,
              "#bd3786"
             ],
             [
              0.5555555555555556,
              "#d8576b"
             ],
             [
              0.6666666666666666,
              "#ed7953"
             ],
             [
              0.7777777777777778,
              "#fb9f3a"
             ],
             [
              0.8888888888888888,
              "#fdca26"
             ],
             [
              1,
              "#f0f921"
             ]
            ],
            "type": "surface"
           }
          ],
          "table": [
           {
            "cells": {
             "fill": {
              "color": "#EBF0F8"
             },
             "line": {
              "color": "white"
             }
            },
            "header": {
             "fill": {
              "color": "#C8D4E3"
             },
             "line": {
              "color": "white"
             }
            },
            "type": "table"
           }
          ]
         },
         "layout": {
          "annotationdefaults": {
           "arrowcolor": "#2a3f5f",
           "arrowhead": 0,
           "arrowwidth": 1
          },
          "autotypenumbers": "strict",
          "coloraxis": {
           "colorbar": {
            "outlinewidth": 0,
            "ticks": ""
           }
          },
          "colorscale": {
           "diverging": [
            [
             0,
             "#8e0152"
            ],
            [
             0.1,
             "#c51b7d"
            ],
            [
             0.2,
             "#de77ae"
            ],
            [
             0.3,
             "#f1b6da"
            ],
            [
             0.4,
             "#fde0ef"
            ],
            [
             0.5,
             "#f7f7f7"
            ],
            [
             0.6,
             "#e6f5d0"
            ],
            [
             0.7,
             "#b8e186"
            ],
            [
             0.8,
             "#7fbc41"
            ],
            [
             0.9,
             "#4d9221"
            ],
            [
             1,
             "#276419"
            ]
           ],
           "sequential": [
            [
             0,
             "#0d0887"
            ],
            [
             0.1111111111111111,
             "#46039f"
            ],
            [
             0.2222222222222222,
             "#7201a8"
            ],
            [
             0.3333333333333333,
             "#9c179e"
            ],
            [
             0.4444444444444444,
             "#bd3786"
            ],
            [
             0.5555555555555556,
             "#d8576b"
            ],
            [
             0.6666666666666666,
             "#ed7953"
            ],
            [
             0.7777777777777778,
             "#fb9f3a"
            ],
            [
             0.8888888888888888,
             "#fdca26"
            ],
            [
             1,
             "#f0f921"
            ]
           ],
           "sequentialminus": [
            [
             0,
             "#0d0887"
            ],
            [
             0.1111111111111111,
             "#46039f"
            ],
            [
             0.2222222222222222,
             "#7201a8"
            ],
            [
             0.3333333333333333,
             "#9c179e"
            ],
            [
             0.4444444444444444,
             "#bd3786"
            ],
            [
             0.5555555555555556,
             "#d8576b"
            ],
            [
             0.6666666666666666,
             "#ed7953"
            ],
            [
             0.7777777777777778,
             "#fb9f3a"
            ],
            [
             0.8888888888888888,
             "#fdca26"
            ],
            [
             1,
             "#f0f921"
            ]
           ]
          },
          "colorway": [
           "#636efa",
           "#EF553B",
           "#00cc96",
           "#ab63fa",
           "#FFA15A",
           "#19d3f3",
           "#FF6692",
           "#B6E880",
           "#FF97FF",
           "#FECB52"
          ],
          "font": {
           "color": "#2a3f5f"
          },
          "geo": {
           "bgcolor": "white",
           "lakecolor": "white",
           "landcolor": "#E5ECF6",
           "showlakes": true,
           "showland": true,
           "subunitcolor": "white"
          },
          "hoverlabel": {
           "align": "left"
          },
          "hovermode": "closest",
          "mapbox": {
           "style": "light"
          },
          "paper_bgcolor": "white",
          "plot_bgcolor": "#E5ECF6",
          "polar": {
           "angularaxis": {
            "gridcolor": "white",
            "linecolor": "white",
            "ticks": ""
           },
           "bgcolor": "#E5ECF6",
           "radialaxis": {
            "gridcolor": "white",
            "linecolor": "white",
            "ticks": ""
           }
          },
          "scene": {
           "xaxis": {
            "backgroundcolor": "#E5ECF6",
            "gridcolor": "white",
            "gridwidth": 2,
            "linecolor": "white",
            "showbackground": true,
            "ticks": "",
            "zerolinecolor": "white"
           },
           "yaxis": {
            "backgroundcolor": "#E5ECF6",
            "gridcolor": "white",
            "gridwidth": 2,
            "linecolor": "white",
            "showbackground": true,
            "ticks": "",
            "zerolinecolor": "white"
           },
           "zaxis": {
            "backgroundcolor": "#E5ECF6",
            "gridcolor": "white",
            "gridwidth": 2,
            "linecolor": "white",
            "showbackground": true,
            "ticks": "",
            "zerolinecolor": "white"
           }
          },
          "shapedefaults": {
           "line": {
            "color": "#2a3f5f"
           }
          },
          "ternary": {
           "aaxis": {
            "gridcolor": "white",
            "linecolor": "white",
            "ticks": ""
           },
           "baxis": {
            "gridcolor": "white",
            "linecolor": "white",
            "ticks": ""
           },
           "bgcolor": "#E5ECF6",
           "caxis": {
            "gridcolor": "white",
            "linecolor": "white",
            "ticks": ""
           }
          },
          "title": {
           "x": 0.05
          },
          "xaxis": {
           "automargin": true,
           "gridcolor": "white",
           "linecolor": "white",
           "ticks": "",
           "title": {
            "standoff": 15
           },
           "zerolinecolor": "white",
           "zerolinewidth": 2
          },
          "yaxis": {
           "automargin": true,
           "gridcolor": "white",
           "linecolor": "white",
           "ticks": "",
           "title": {
            "standoff": 15
           },
           "zerolinecolor": "white",
           "zerolinewidth": 2
          }
         }
        },
        "title": {
         "font": {
          "color": "#4D5663"
         }
        },
        "xaxis": {
         "gridcolor": "#E1E5ED",
         "showgrid": true,
         "tickfont": {
          "color": "#4D5663"
         },
         "title": {
          "font": {
           "color": "#4D5663"
          },
          "text": ""
         },
         "zerolinecolor": "#E1E5ED"
        },
        "yaxis": {
         "gridcolor": "#E1E5ED",
         "showgrid": true,
         "tickfont": {
          "color": "#4D5663"
         },
         "title": {
          "font": {
           "color": "#4D5663"
          },
          "text": ""
         },
         "zerolinecolor": "#E1E5ED"
        }
       }
      },
      "text/html": [
       "<div>                            <div id=\"27038f12-a37e-4950-8aca-abb905ff3005\" class=\"plotly-graph-div\" style=\"height:525px; width:100%;\"></div>            <script type=\"text/javascript\">                require([\"plotly\"], function(Plotly) {                    window.PLOTLYENV=window.PLOTLYENV || {};\n",
       "                    window.PLOTLYENV.BASE_URL='https://plot.ly';                                    if (document.getElementById(\"27038f12-a37e-4950-8aca-abb905ff3005\")) {                    Plotly.newPlot(                        \"27038f12-a37e-4950-8aca-abb905ff3005\",                        [{\"line\":{\"color\":\"rgba(255, 153, 51, 1.0)\",\"dash\":\"solid\",\"shape\":\"linear\",\"width\":1.3},\"mode\":\"lines\",\"name\":\"Apr\",\"text\":\"\",\"x\":[0,1,2,3,4,5,6,7,8,9,10,11,12,13,14,15,16,17,18,19,20,21,22,23],\"y\":[14229,10391,7121,4652,2962,3254,7634,18674,32099,19832,16650,20604,26006,26763,27259,27984,31570,37602,49733,35529,30844,29215,25623,17997],\"type\":\"scatter\"},{\"line\":{\"color\":\"rgba(55, 128, 191, 1.0)\",\"dash\":\"solid\",\"shape\":\"linear\",\"width\":1.3},\"mode\":\"lines\",\"name\":\"Aug\",\"text\":\"\",\"x\":[0,1,2,3,4,5,6,7,8,9,10,11,12,13,14,15,16,17,18,19,20,21,22,23],\"y\":[25708,19833,13912,9571,6249,6788,13843,24119,38885,24372,18559,20166,21267,20929,20480,24006,27725,37647,56934,50878,48164,47667,42486,31699],\"type\":\"scatter\"},{\"line\":{\"color\":\"rgba(50, 171, 96, 1.0)\",\"dash\":\"solid\",\"shape\":\"linear\",\"width\":1.3},\"mode\":\"lines\",\"name\":\"Dec\",\"text\":\"\",\"x\":[0,1,2,3,4,5,6,7,8,9,10,11,12,13,14,15,16,17,18,19,20,21,22,23],\"y\":[6286,6105,4650,3113,1913,1854,2944,6738,13734,8386,6244,7659,8736,9477,9779,10205,10839,11517,14302,10210,8181,8174,7839,6445],\"type\":\"scatter\"},{\"line\":{\"color\":\"rgba(128, 0, 128, 1.0)\",\"dash\":\"solid\",\"shape\":\"linear\",\"width\":1.3},\"mode\":\"lines\",\"name\":\"Feb\",\"text\":\"\",\"x\":[0,1,2,3,4,5,6,7,8,9,10,11,12,13,14,15,16,17,18,19,20,21,22,23],\"y\":[4113,3932,2799,1877,1286,1250,2635,6085,11946,7085,5262,6443,7452,7628,7998,8705,8949,10030,13190,8895,6848,6695,6173,4557],\"type\":\"scatter\"},{\"line\":{\"color\":\"rgba(219, 64, 82, 1.0)\",\"dash\":\"solid\",\"shape\":\"linear\",\"width\":1.3},\"mode\":\"lines\",\"name\":\"Jan\",\"text\":\"\",\"x\":[0,1,2,3,4,5,6,7,8,9,10,11,12,13,14,15,16,17,18,19,20,21,22,23],\"y\":[4467,4278,3152,2013,1344,1506,2775,6038,12318,7443,5270,6447,7539,7668,7809,7968,7984,9279,11955,8258,6862,6776,6250,4607],\"type\":\"scatter\"},{\"line\":{\"color\":\"rgba(0, 128, 128, 1.0)\",\"dash\":\"solid\",\"shape\":\"linear\",\"width\":1.3},\"mode\":\"lines\",\"name\":\"Jul\",\"text\":\"\",\"x\":[0,1,2,3,4,5,6,7,8,9,10,11,12,13,14,15,16,17,18,19,20,21,22,23],\"y\":[27331,21465,15605,10884,7121,8104,15568,27995,43419,26844,20409,21669,24128,24653,24032,26755,31909,42941,64664,56570,54952,54172,48281,34989],\"type\":\"scatter\"},{\"line\":{\"color\":\"rgba(255, 255, 51, 1.0)\",\"dash\":\"solid\",\"shape\":\"linear\",\"width\":1.3},\"mode\":\"lines\",\"name\":\"Jun\",\"text\":\"\",\"x\":[0,1,2,3,4,5,6,7,8,9,10,11,12,13,14,15,16,17,18,19,20,21,22,23],\"y\":[29675,22989,17012,11071,7221,7734,15286,30942,48207,32596,27594,30556,35194,36316,37798,42133,48390,59831,74835,66363,62661,59535,53477,39471],\"type\":\"scatter\"},{\"line\":{\"color\":\"rgba(128, 128, 0, 1.0)\",\"dash\":\"solid\",\"shape\":\"linear\",\"width\":1.3},\"mode\":\"lines\",\"name\":\"Mar\",\"text\":\"\",\"x\":[0,1,2,3,4,5,6,7,8,9,10,11,12,13,14,15,16,17,18,19,20,21,22,23],\"y\":[9157,7550,5352,3433,2277,2283,4896,13070,23232,15175,12255,14948,18448,19657,21573,24266,25484,28443,36420,24660,20242,19255,17074,11444],\"type\":\"scatter\"},{\"line\":{\"color\":\"rgba(251, 128, 114, 1.0)\",\"dash\":\"solid\",\"shape\":\"linear\",\"width\":1.3},\"mode\":\"lines\",\"name\":\"May\",\"text\":\"\",\"x\":[0,1,2,3,4,5,6,7,8,9,10,11,12,13,14,15,16,17,18,19,20,21,22,23],\"y\":[19912,14814,10294,7078,4501,4919,10621,23632,37943,25328,22475,25780,30820,33328,34478,36938,42077,51673,65885,52105,44360,43431,38071,26625],\"type\":\"scatter\"},{\"line\":{\"color\":\"rgba(128, 177, 211, 1.0)\",\"dash\":\"solid\",\"shape\":\"linear\",\"width\":1.3},\"mode\":\"lines\",\"name\":\"Nov\",\"text\":\"\",\"x\":[0,1,2,3,4,5,6,7,8,9,10,11,12,13,14,15,16,17,18,19,20,21,22,23],\"y\":[14285,11624,7978,5453,3576,3493,7731,18575,34832,20805,16319,18195,20879,21667,22135,23719,25883,31383,41186,29549,24686,23557,22202,16003],\"type\":\"scatter\"},{\"line\":{\"color\":\"rgba(128, 177, 211, 0.8999999999999999)\",\"dash\":\"solid\",\"shape\":\"linear\",\"width\":1.3},\"mode\":\"lines\",\"name\":\"Oct\",\"text\":\"\",\"x\":[0,1,2,3,4,5,6,7,8,9,10,11,12,13,14,15,16,17,18,19,20,21,22,23],\"y\":[19568,14804,10376,7118,4669,4628,10433,23551,39757,24968,21137,23416,27812,30274,32381,35751,39872,47482,59166,43905,37790,36064,32263,23490],\"type\":\"scatter\"},{\"line\":{\"color\":\"rgba(255, 153, 51, 0.8999999999999999)\",\"dash\":\"solid\",\"shape\":\"linear\",\"width\":1.3},\"mode\":\"lines\",\"name\":\"Sep\",\"text\":\"\",\"x\":[0,1,2,3,4,5,6,7,8,9,10,11,12,13,14,15,16,17,18,19,20,21,22,23],\"y\":[22902,17772,11844,7953,5277,4952,10595,21773,34359,22950,20481,23428,27015,29275,31249,34223,38995,47728,60298,49307,44582,41938,37082,27634],\"type\":\"scatter\"}],                        {\"legend\":{\"bgcolor\":\"#FFFFFF\",\"font\":{\"color\":\"#4D5663\"}},\"paper_bgcolor\":\"#FFFFFF\",\"plot_bgcolor\":\"#FFFFFF\",\"template\":{\"data\":{\"barpolar\":[{\"marker\":{\"line\":{\"color\":\"#E5ECF6\",\"width\":0.5},\"pattern\":{\"fillmode\":\"overlay\",\"size\":10,\"solidity\":0.2}},\"type\":\"barpolar\"}],\"bar\":[{\"error_x\":{\"color\":\"#2a3f5f\"},\"error_y\":{\"color\":\"#2a3f5f\"},\"marker\":{\"line\":{\"color\":\"#E5ECF6\",\"width\":0.5},\"pattern\":{\"fillmode\":\"overlay\",\"size\":10,\"solidity\":0.2}},\"type\":\"bar\"}],\"carpet\":[{\"aaxis\":{\"endlinecolor\":\"#2a3f5f\",\"gridcolor\":\"white\",\"linecolor\":\"white\",\"minorgridcolor\":\"white\",\"startlinecolor\":\"#2a3f5f\"},\"baxis\":{\"endlinecolor\":\"#2a3f5f\",\"gridcolor\":\"white\",\"linecolor\":\"white\",\"minorgridcolor\":\"white\",\"startlinecolor\":\"#2a3f5f\"},\"type\":\"carpet\"}],\"choropleth\":[{\"colorbar\":{\"outlinewidth\":0,\"ticks\":\"\"},\"type\":\"choropleth\"}],\"contourcarpet\":[{\"colorbar\":{\"outlinewidth\":0,\"ticks\":\"\"},\"type\":\"contourcarpet\"}],\"contour\":[{\"colorbar\":{\"outlinewidth\":0,\"ticks\":\"\"},\"colorscale\":[[0.0,\"#0d0887\"],[0.1111111111111111,\"#46039f\"],[0.2222222222222222,\"#7201a8\"],[0.3333333333333333,\"#9c179e\"],[0.4444444444444444,\"#bd3786\"],[0.5555555555555556,\"#d8576b\"],[0.6666666666666666,\"#ed7953\"],[0.7777777777777778,\"#fb9f3a\"],[0.8888888888888888,\"#fdca26\"],[1.0,\"#f0f921\"]],\"type\":\"contour\"}],\"heatmapgl\":[{\"colorbar\":{\"outlinewidth\":0,\"ticks\":\"\"},\"colorscale\":[[0.0,\"#0d0887\"],[0.1111111111111111,\"#46039f\"],[0.2222222222222222,\"#7201a8\"],[0.3333333333333333,\"#9c179e\"],[0.4444444444444444,\"#bd3786\"],[0.5555555555555556,\"#d8576b\"],[0.6666666666666666,\"#ed7953\"],[0.7777777777777778,\"#fb9f3a\"],[0.8888888888888888,\"#fdca26\"],[1.0,\"#f0f921\"]],\"type\":\"heatmapgl\"}],\"heatmap\":[{\"colorbar\":{\"outlinewidth\":0,\"ticks\":\"\"},\"colorscale\":[[0.0,\"#0d0887\"],[0.1111111111111111,\"#46039f\"],[0.2222222222222222,\"#7201a8\"],[0.3333333333333333,\"#9c179e\"],[0.4444444444444444,\"#bd3786\"],[0.5555555555555556,\"#d8576b\"],[0.6666666666666666,\"#ed7953\"],[0.7777777777777778,\"#fb9f3a\"],[0.8888888888888888,\"#fdca26\"],[1.0,\"#f0f921\"]],\"type\":\"heatmap\"}],\"histogram2dcontour\":[{\"colorbar\":{\"outlinewidth\":0,\"ticks\":\"\"},\"colorscale\":[[0.0,\"#0d0887\"],[0.1111111111111111,\"#46039f\"],[0.2222222222222222,\"#7201a8\"],[0.3333333333333333,\"#9c179e\"],[0.4444444444444444,\"#bd3786\"],[0.5555555555555556,\"#d8576b\"],[0.6666666666666666,\"#ed7953\"],[0.7777777777777778,\"#fb9f3a\"],[0.8888888888888888,\"#fdca26\"],[1.0,\"#f0f921\"]],\"type\":\"histogram2dcontour\"}],\"histogram2d\":[{\"colorbar\":{\"outlinewidth\":0,\"ticks\":\"\"},\"colorscale\":[[0.0,\"#0d0887\"],[0.1111111111111111,\"#46039f\"],[0.2222222222222222,\"#7201a8\"],[0.3333333333333333,\"#9c179e\"],[0.4444444444444444,\"#bd3786\"],[0.5555555555555556,\"#d8576b\"],[0.6666666666666666,\"#ed7953\"],[0.7777777777777778,\"#fb9f3a\"],[0.8888888888888888,\"#fdca26\"],[1.0,\"#f0f921\"]],\"type\":\"histogram2d\"}],\"histogram\":[{\"marker\":{\"pattern\":{\"fillmode\":\"overlay\",\"size\":10,\"solidity\":0.2}},\"type\":\"histogram\"}],\"mesh3d\":[{\"colorbar\":{\"outlinewidth\":0,\"ticks\":\"\"},\"type\":\"mesh3d\"}],\"parcoords\":[{\"line\":{\"colorbar\":{\"outlinewidth\":0,\"ticks\":\"\"}},\"type\":\"parcoords\"}],\"pie\":[{\"automargin\":true,\"type\":\"pie\"}],\"scatter3d\":[{\"line\":{\"colorbar\":{\"outlinewidth\":0,\"ticks\":\"\"}},\"marker\":{\"colorbar\":{\"outlinewidth\":0,\"ticks\":\"\"}},\"type\":\"scatter3d\"}],\"scattercarpet\":[{\"marker\":{\"colorbar\":{\"outlinewidth\":0,\"ticks\":\"\"}},\"type\":\"scattercarpet\"}],\"scattergeo\":[{\"marker\":{\"colorbar\":{\"outlinewidth\":0,\"ticks\":\"\"}},\"type\":\"scattergeo\"}],\"scattergl\":[{\"marker\":{\"colorbar\":{\"outlinewidth\":0,\"ticks\":\"\"}},\"type\":\"scattergl\"}],\"scattermapbox\":[{\"marker\":{\"colorbar\":{\"outlinewidth\":0,\"ticks\":\"\"}},\"type\":\"scattermapbox\"}],\"scatterpolargl\":[{\"marker\":{\"colorbar\":{\"outlinewidth\":0,\"ticks\":\"\"}},\"type\":\"scatterpolargl\"}],\"scatterpolar\":[{\"marker\":{\"colorbar\":{\"outlinewidth\":0,\"ticks\":\"\"}},\"type\":\"scatterpolar\"}],\"scatter\":[{\"fillpattern\":{\"fillmode\":\"overlay\",\"size\":10,\"solidity\":0.2},\"type\":\"scatter\"}],\"scatterternary\":[{\"marker\":{\"colorbar\":{\"outlinewidth\":0,\"ticks\":\"\"}},\"type\":\"scatterternary\"}],\"surface\":[{\"colorbar\":{\"outlinewidth\":0,\"ticks\":\"\"},\"colorscale\":[[0.0,\"#0d0887\"],[0.1111111111111111,\"#46039f\"],[0.2222222222222222,\"#7201a8\"],[0.3333333333333333,\"#9c179e\"],[0.4444444444444444,\"#bd3786\"],[0.5555555555555556,\"#d8576b\"],[0.6666666666666666,\"#ed7953\"],[0.7777777777777778,\"#fb9f3a\"],[0.8888888888888888,\"#fdca26\"],[1.0,\"#f0f921\"]],\"type\":\"surface\"}],\"table\":[{\"cells\":{\"fill\":{\"color\":\"#EBF0F8\"},\"line\":{\"color\":\"white\"}},\"header\":{\"fill\":{\"color\":\"#C8D4E3\"},\"line\":{\"color\":\"white\"}},\"type\":\"table\"}]},\"layout\":{\"annotationdefaults\":{\"arrowcolor\":\"#2a3f5f\",\"arrowhead\":0,\"arrowwidth\":1},\"autotypenumbers\":\"strict\",\"coloraxis\":{\"colorbar\":{\"outlinewidth\":0,\"ticks\":\"\"}},\"colorscale\":{\"diverging\":[[0,\"#8e0152\"],[0.1,\"#c51b7d\"],[0.2,\"#de77ae\"],[0.3,\"#f1b6da\"],[0.4,\"#fde0ef\"],[0.5,\"#f7f7f7\"],[0.6,\"#e6f5d0\"],[0.7,\"#b8e186\"],[0.8,\"#7fbc41\"],[0.9,\"#4d9221\"],[1,\"#276419\"]],\"sequential\":[[0.0,\"#0d0887\"],[0.1111111111111111,\"#46039f\"],[0.2222222222222222,\"#7201a8\"],[0.3333333333333333,\"#9c179e\"],[0.4444444444444444,\"#bd3786\"],[0.5555555555555556,\"#d8576b\"],[0.6666666666666666,\"#ed7953\"],[0.7777777777777778,\"#fb9f3a\"],[0.8888888888888888,\"#fdca26\"],[1.0,\"#f0f921\"]],\"sequentialminus\":[[0.0,\"#0d0887\"],[0.1111111111111111,\"#46039f\"],[0.2222222222222222,\"#7201a8\"],[0.3333333333333333,\"#9c179e\"],[0.4444444444444444,\"#bd3786\"],[0.5555555555555556,\"#d8576b\"],[0.6666666666666666,\"#ed7953\"],[0.7777777777777778,\"#fb9f3a\"],[0.8888888888888888,\"#fdca26\"],[1.0,\"#f0f921\"]]},\"colorway\":[\"#636efa\",\"#EF553B\",\"#00cc96\",\"#ab63fa\",\"#FFA15A\",\"#19d3f3\",\"#FF6692\",\"#B6E880\",\"#FF97FF\",\"#FECB52\"],\"font\":{\"color\":\"#2a3f5f\"},\"geo\":{\"bgcolor\":\"white\",\"lakecolor\":\"white\",\"landcolor\":\"#E5ECF6\",\"showlakes\":true,\"showland\":true,\"subunitcolor\":\"white\"},\"hoverlabel\":{\"align\":\"left\"},\"hovermode\":\"closest\",\"mapbox\":{\"style\":\"light\"},\"paper_bgcolor\":\"white\",\"plot_bgcolor\":\"#E5ECF6\",\"polar\":{\"angularaxis\":{\"gridcolor\":\"white\",\"linecolor\":\"white\",\"ticks\":\"\"},\"bgcolor\":\"#E5ECF6\",\"radialaxis\":{\"gridcolor\":\"white\",\"linecolor\":\"white\",\"ticks\":\"\"}},\"scene\":{\"xaxis\":{\"backgroundcolor\":\"#E5ECF6\",\"gridcolor\":\"white\",\"gridwidth\":2,\"linecolor\":\"white\",\"showbackground\":true,\"ticks\":\"\",\"zerolinecolor\":\"white\"},\"yaxis\":{\"backgroundcolor\":\"#E5ECF6\",\"gridcolor\":\"white\",\"gridwidth\":2,\"linecolor\":\"white\",\"showbackground\":true,\"ticks\":\"\",\"zerolinecolor\":\"white\"},\"zaxis\":{\"backgroundcolor\":\"#E5ECF6\",\"gridcolor\":\"white\",\"gridwidth\":2,\"linecolor\":\"white\",\"showbackground\":true,\"ticks\":\"\",\"zerolinecolor\":\"white\"}},\"shapedefaults\":{\"line\":{\"color\":\"#2a3f5f\"}},\"ternary\":{\"aaxis\":{\"gridcolor\":\"white\",\"linecolor\":\"white\",\"ticks\":\"\"},\"baxis\":{\"gridcolor\":\"white\",\"linecolor\":\"white\",\"ticks\":\"\"},\"bgcolor\":\"#E5ECF6\",\"caxis\":{\"gridcolor\":\"white\",\"linecolor\":\"white\",\"ticks\":\"\"}},\"title\":{\"x\":0.05},\"xaxis\":{\"automargin\":true,\"gridcolor\":\"white\",\"linecolor\":\"white\",\"ticks\":\"\",\"title\":{\"standoff\":15},\"zerolinecolor\":\"white\",\"zerolinewidth\":2},\"yaxis\":{\"automargin\":true,\"gridcolor\":\"white\",\"linecolor\":\"white\",\"ticks\":\"\",\"title\":{\"standoff\":15},\"zerolinecolor\":\"white\",\"zerolinewidth\":2}}},\"title\":{\"font\":{\"color\":\"#4D5663\"}},\"xaxis\":{\"gridcolor\":\"#E1E5ED\",\"showgrid\":true,\"tickfont\":{\"color\":\"#4D5663\"},\"title\":{\"font\":{\"color\":\"#4D5663\"},\"text\":\"\"},\"zerolinecolor\":\"#E1E5ED\"},\"yaxis\":{\"gridcolor\":\"#E1E5ED\",\"showgrid\":true,\"tickfont\":{\"color\":\"#4D5663\"},\"title\":{\"font\":{\"color\":\"#4D5663\"},\"text\":\"\"},\"zerolinecolor\":\"#E1E5ED\"}},                        {\"showLink\": true, \"linkText\": \"Export to plot.ly\", \"plotlyServerURL\": \"https://plot.ly\", \"responsive\": true}                    ).then(function(){\n",
       "                            \n",
       "var gd = document.getElementById('27038f12-a37e-4950-8aca-abb905ff3005');\n",
       "var x = new MutationObserver(function (mutations, observer) {{\n",
       "        var display = window.getComputedStyle(gd).display;\n",
       "        if (!display || display === 'none') {{\n",
       "            console.log([gd, 'removed!']);\n",
       "            Plotly.purge(gd);\n",
       "            observer.disconnect();\n",
       "        }}\n",
       "}});\n",
       "\n",
       "// Listen for the removal of the full notebook cells\n",
       "var notebookContainer = gd.closest('#notebook-container');\n",
       "if (notebookContainer) {{\n",
       "    x.observe(notebookContainer, {childList: true});\n",
       "}}\n",
       "\n",
       "// Listen for the clearing of the current output cell\n",
       "var outputEl = gd.closest('.output');\n",
       "if (outputEl) {{\n",
       "    x.observe(outputEl, {childList: true});\n",
       "}}\n",
       "\n",
       "                        })                };                });            </script>        </div>"
      ]
     },
     "metadata": {},
     "output_type": "display_data"
    }
   ],
   "source": [
    "df2.iplot(kind=\"line\")"
   ]
  },
  {
   "cell_type": "code",
   "execution_count": 22,
   "id": "9bd180b0",
   "metadata": {},
   "outputs": [
    {
     "data": {
      "image/png": "[encoded data removed]",
      "text/plain": [
       "<Figure size 1500x1000 with 2 Axes>"
      ]
     },
     "metadata": {},
     "output_type": "display_data"
    }
   ],
   "source": [
    "plt.figure(figsize=(15, 10))\n",
    "sns.heatmap(df2, cmap=\"YlGnBu\", annot=True, fmt=\".0f\", linewidths=.5)\n",
    "plt.title(\"Ditribution of bikes rented for hour and months\")\n",
    "plt.xlabel(\"month\")\n",
    "plt.ylabel(\"Hour\")\n",
    "plt.show()"
   ]
  },
  {
   "cell_type": "markdown",
   "id": "d27fa879",
   "metadata": {},
   "source": [
    "8 am and 6pm (18h) are the busiest hours for all months but mostly during the warmer seasons."
   ]
  },
  {
   "cell_type": "code",
   "execution_count": 23,
   "id": "9e2cec01",
   "metadata": {},
   "outputs": [
    {
     "data": {
      "image/png": "[encoded data removed]",
      "text/plain": [
       "<Figure size 1500x800 with 1 Axes>"
      ]
     },
     "metadata": {},
     "output_type": "display_data"
    }
   ],
   "source": [
    "fig,ax=plt.subplots(figsize=(15,8))\n",
    "#Boxplot for total_count outliers\n",
    "sns.boxplot(data=df[['Rented Bike Count']])\n",
    "ax.set_title('Total Count')\n",
    "plt.show()"
   ]
  },
  {
   "cell_type": "markdown",
   "id": "6e7ee2a7",
   "metadata": {},
   "source": [
    "As we saw above the targe variable is skewed with a high presence of outliers due the peak hour (18h)."
   ]
  },
  {
   "cell_type": "code",
   "execution_count": null,
   "id": "32882aac",
   "metadata": {},
   "outputs": [],
   "source": []
  },
  {
   "cell_type": "markdown",
   "id": "bde6fe8a",
   "metadata": {},
   "source": [
    "# ML Models"
   ]
  },
  {
   "cell_type": "code",
   "execution_count": 24,
   "id": "870e987c",
   "metadata": {},
   "outputs": [],
   "source": [
    "bike = pd.read_csv(\"Seoul_Bike.csv\")"
   ]
  },
  {
   "cell_type": "code",
   "execution_count": 25,
   "id": "182b7380",
   "metadata": {},
   "outputs": [],
   "source": [
    "bike['Seasons'].replace('Winter', 0, inplace = True)\n",
    "bike['Seasons'].replace('Spring', 1, inplace = True)\n",
    "bike['Seasons'].replace('Summer', 2, inplace = True)\n",
    "bike['Seasons'].replace('Autumn', 3, inplace = True)"
   ]
  },
  {
   "cell_type": "code",
   "execution_count": 26,
   "id": "22ade1ce",
   "metadata": {},
   "outputs": [],
   "source": [
    "bike[\"Holiday\"].replace('No Holiday', 0, inplace = True)\n",
    "bike[\"Holiday\"].replace('Holiday', 1, inplace = True)"
   ]
  },
  {
   "cell_type": "code",
   "execution_count": 27,
   "id": "f2aef4cf",
   "metadata": {},
   "outputs": [],
   "source": [
    "bike[\"Functioning Day\"].replace('No', 0, inplace = True)\n",
    "bike[\"Functioning Day\"].replace('Yes', 1, inplace = True)"
   ]
  },
  {
   "cell_type": "code",
   "execution_count": 28,
   "id": "75362c36",
   "metadata": {},
   "outputs": [],
   "source": [
    "bike_d = bike.drop([\"Date\"], axis = 1)"
   ]
  },
  {
   "cell_type": "code",
   "execution_count": 29,
   "id": "e5e63f8b",
   "metadata": {},
   "outputs": [],
   "source": [
    "bike_array = bike_d.values"
   ]
  },
  {
   "cell_type": "code",
   "execution_count": 30,
   "id": "914be694",
   "metadata": {},
   "outputs": [],
   "source": [
    "X = bike_array[:, 1:]\n",
    "\n",
    "y = bike_array[:, 0]"
   ]
  },
  {
   "cell_type": "code",
   "execution_count": 31,
   "id": "4c531ff3",
   "metadata": {},
   "outputs": [
    {
     "data": {
      "text/plain": [
       "array([[ 0. , -5.2, 37. , ...,  0. ,  0. ,  1. ],\n",
       "       [ 1. , -5.5, 38. , ...,  0. ,  0. ,  1. ],\n",
       "       [ 2. , -6. , 39. , ...,  0. ,  0. ,  1. ],\n",
       "       ...,\n",
       "       [21. ,  2.6, 39. , ...,  3. ,  0. ,  1. ],\n",
       "       [22. ,  2.1, 41. , ...,  3. ,  0. ,  1. ],\n",
       "       [23. ,  1.9, 43. , ...,  3. ,  0. ,  1. ]])"
      ]
     },
     "execution_count": 31,
     "metadata": {},
     "output_type": "execute_result"
    }
   ],
   "source": [
    "X"
   ]
  },
  {
   "cell_type": "code",
   "execution_count": 32,
   "id": "70ec75da",
   "metadata": {},
   "outputs": [
    {
     "data": {
      "text/plain": [
       "array([254., 204., 173., ..., 694., 712., 584.])"
      ]
     },
     "execution_count": 32,
     "metadata": {},
     "output_type": "execute_result"
    }
   ],
   "source": [
    "y"
   ]
  },
  {
   "cell_type": "code",
   "execution_count": 33,
   "id": "d673dc8b",
   "metadata": {},
   "outputs": [],
   "source": [
    "X_train, X_test, y_train, y_test = train_test_split(X, y, test_size = 0.3, random_state = 12)"
   ]
  },
  {
   "cell_type": "code",
   "execution_count": 34,
   "id": "7ead9a83",
   "metadata": {},
   "outputs": [
    {
     "data": {
      "text/plain": [
       "((8760, 12), (8760,), (6132, 12), (2628, 12), (6132,), (2628,))"
      ]
     },
     "execution_count": 34,
     "metadata": {},
     "output_type": "execute_result"
    }
   ],
   "source": [
    "X.shape, y.shape, X_train.shape, X_test.shape, y_train.shape, y_test.shape"
   ]
  },
  {
   "cell_type": "code",
   "execution_count": 35,
   "id": "077bd002",
   "metadata": {},
   "outputs": [],
   "source": [
    "scaler = MinMaxScaler()\n",
    "\n",
    "scaler.fit(X_train)\n",
    "\n",
    "X_train_scaled = scaler.transform(X_train)\n",
    "\n",
    "X_test_scaled  = scaler.transform(X_test)\n",
    "\n",
    "X_scaled = scaler.transform(X)"
   ]
  },
  {
   "cell_type": "markdown",
   "id": "eabdba33",
   "metadata": {},
   "source": [
    "# Linear Regression"
   ]
  },
  {
   "cell_type": "code",
   "execution_count": 36,
   "id": "d6431406",
   "metadata": {},
   "outputs": [],
   "source": [
    "from sklearn.linear_model import LinearRegression"
   ]
  },
  {
   "cell_type": "code",
   "execution_count": 37,
   "id": "22ed6548",
   "metadata": {},
   "outputs": [
    {
     "name": "stdout",
     "output_type": "stream",
     "text": [
      "Mean Squared Error: 195025.4952516888\n",
      "Root Mean Squared Error: 441.6169100608454\n",
      "R-squared: 0.5369360619674715\n",
      "Adjusted R-squared: 0.5348111031696166\n"
     ]
    }
   ],
   "source": [
    "linear_reg = LinearRegression()\n",
    "\n",
    "linear_reg.fit(X_train_scaled, y_train)\n",
    "\n",
    "yp_lr = linear_reg.predict(X_test_scaled)\n",
    "\n",
    "mse = mean_squared_error(y_test, yp_lr)\n",
    "mse_r = mean_squared_error(y_test, yp_lr, squared = False)\n",
    "r2 = r2_score(y_test, yp_lr)\n",
    "\n",
    "n = len(y_test)\n",
    "k = X_train_scaled.shape[1]\n",
    "adj_r2 = 1 - ((1 - r2) * (n - 1) / (n - k - 1))\n",
    "\n",
    "print(f'Mean Squared Error: {mse}')\n",
    "print(f'Root Mean Squared Error: {mse_r}')\n",
    "print(f'R-squared: {r2}')\n",
    "print(f'Adjusted R-squared: {adj_r2}')"
   ]
  },
  {
   "cell_type": "code",
   "execution_count": 38,
   "id": "73f7ee84",
   "metadata": {},
   "outputs": [
    {
     "name": "stdout",
     "output_type": "stream",
     "text": [
      "Training MSE: 187264.33538299127\n",
      "Validation MSE: 195025.4952516888\n",
      "Mean Huber Loss: 326.980255571286\n"
     ]
    }
   ],
   "source": [
    "train_pred = linear_reg.predict(X_train_scaled)\n",
    "test_pred = linear_reg.predict(X_test_scaled)\n",
    "\n",
    "from sklearn.metrics import mean_squared_error, r2_score\n",
    "\n",
    "train_mse = mean_squared_error(y_train, train_pred)\n",
    "test_mse = mean_squared_error(y_test, test_pred)\n",
    "\n",
    "print(f'Training MSE: {train_mse}')\n",
    "print(f'Validation MSE: {test_mse}')\n",
    "\n",
    "import tensorflow as tf\n",
    "def huber_loss(y_test, yp_lr, delta=1.0):\n",
    "    error = y_test - yp_lr\n",
    "    condition = tf.abs(error) < delta\n",
    "    squared_loss = 0.5 * tf.square(error)\n",
    "    linear_loss = delta * (tf.abs(error) - 0.5 * delta)\n",
    "    return tf.where(condition, squared_loss, linear_loss)\n",
    "\n",
    "loss = huber_loss(y_test, yp_lr, delta=1.0)\n",
    "#print(\"Huber Loss:\", loss.numpy())\n",
    "\n",
    "mean_huber_loss = np.mean(loss)\n",
    "print(f\"Mean Huber Loss: {mean_huber_loss}\")"
   ]
  },
  {
   "cell_type": "code",
   "execution_count": 39,
   "id": "883a3baf",
   "metadata": {},
   "outputs": [
    {
     "data": {
      "text/plain": [
       "0.5325208313082583"
      ]
     },
     "execution_count": 39,
     "metadata": {},
     "output_type": "execute_result"
    }
   ],
   "source": [
    "score_l = cross_val_score(LinearRegression(), X_test_scaled, y_test, cv = 5, scoring = 'r2').mean()\n",
    "score_l"
   ]
  },
  {
   "cell_type": "markdown",
   "id": "f60f37c4",
   "metadata": {},
   "source": [
    "# Linear Regression 10%\n",
    "Mean Squared Error: 186610.79228381193\n",
    "Root Mean Squared Error: 431.98471302097244\n",
    "R-squared: 0.5347049423977273\n",
    "Adjusted R-squared: 0.5282350227091672\n",
    "\n",
    "Training MSE: 189792.53252521323\n",
    "Validation MSE: 186610.79228381193\n",
    "Mean Huber Loss: 318.1292093386071\n",
    "\n",
    "Cross-Validation: 0.5174216088198078"
   ]
  },
  {
   "cell_type": "markdown",
   "id": "a146747d",
   "metadata": {},
   "source": [
    "# Linear Regression 30%\n",
    "Mean Squared Error: 195025.4952516888\n",
    "Root Mean Squared Error: 441.6169100608454\n",
    "R-squared: 0.5369360619674715\n",
    "Adjusted R-squared: 0.5348111031696166\n",
    "\n",
    "Training MSE: 187264.33538299127\n",
    "Validation MSE: 195025.4952516888\n",
    "Mean Huber Loss: 326.980255571286\n",
    "\n",
    "Cross-Validation: 0.5325208313082583"
   ]
  },
  {
   "cell_type": "markdown",
   "id": "36c37196",
   "metadata": {},
   "source": [
    "## Polynomial 2"
   ]
  },
  {
   "cell_type": "code",
   "execution_count": 40,
   "id": "16dc937b",
   "metadata": {},
   "outputs": [],
   "source": [
    "from sklearn.preprocessing import PolynomialFeatures"
   ]
  },
  {
   "cell_type": "code",
   "execution_count": 41,
   "id": "6573d545",
   "metadata": {},
   "outputs": [
    {
     "name": "stdout",
     "output_type": "stream",
     "text": [
      "Mean Squared Error: 143033.25052369505\n",
      "Root Mean Squared Error: 378.1973698000755\n",
      "R-squared: 0.6603852220879212\n",
      "Adjusted R-squared: 0.6588267603919575\n"
     ]
    }
   ],
   "source": [
    "poly_features = PolynomialFeatures(degree = 2)\n",
    "\n",
    "X_train_poly = poly_features.fit_transform(X_train_scaled)\n",
    "X_test_poly = poly_features.transform(X_test_scaled)\n",
    "\n",
    "poly_reg = LinearRegression()\n",
    "poly_reg.fit(X_train_poly, y_train)\n",
    "\n",
    "yp_p2 = poly_reg.predict(X_test_poly)\n",
    "\n",
    "mse = mean_squared_error(y_test, yp_p2)\n",
    "mse_r = mean_squared_error(y_test, yp_p2, squared = False)\n",
    "r2 = r2_score(y_test, yp_p2)\n",
    "\n",
    "n = len(y_test)\n",
    "k = X_train_scaled.shape[1]  # Number of features\n",
    "adj_r2 = 1 - ((1 - r2) * (n - 1) / (n - k - 1))\n",
    "\n",
    "print(f'Mean Squared Error: {mse}')\n",
    "print(f'Root Mean Squared Error: {mse_r}')\n",
    "print(f'R-squared: {r2}')\n",
    "print(f'Adjusted R-squared: {adj_r2}')"
   ]
  },
  {
   "cell_type": "code",
   "execution_count": null,
   "id": "f05c759c",
   "metadata": {},
   "outputs": [],
   "source": []
  },
  {
   "cell_type": "code",
   "execution_count": 42,
   "id": "3e007b25",
   "metadata": {},
   "outputs": [
    {
     "name": "stdout",
     "output_type": "stream",
     "text": [
      "Training MSE: 134460.97390464265\n",
      "Validation MSE: 143033.25052369505\n"
     ]
    }
   ],
   "source": [
    "train_pred = poly_reg.predict(X_train_poly)\n",
    "test_pred = poly_reg.predict(X_test_poly)\n",
    "\n",
    "from sklearn.metrics import mean_squared_error, r2_score\n",
    "\n",
    "train_mse = mean_squared_error(y_train, train_pred)\n",
    "test_mse = mean_squared_error(y_test, test_pred)\n",
    "\n",
    "print(f'Training MSE: {train_mse}')\n",
    "print(f'Validation MSE: {test_mse}')"
   ]
  },
  {
   "cell_type": "code",
   "execution_count": 43,
   "id": "60cd6ef9",
   "metadata": {},
   "outputs": [
    {
     "name": "stdout",
     "output_type": "stream",
     "text": [
      "Mean Huber Loss: 267.12350803325194\n"
     ]
    }
   ],
   "source": [
    "import tensorflow as tf\n",
    "def huber_loss(y_test, yp_p2, delta=1.0):\n",
    "    error = y_test - yp_p2\n",
    "    condition = tf.abs(error) < delta\n",
    "    squared_loss = 0.5 * tf.square(error)\n",
    "    linear_loss = delta * (tf.abs(error) - 0.5 * delta)\n",
    "    return tf.where(condition, squared_loss, linear_loss)\n",
    "\n",
    "loss = huber_loss(y_test, yp_p2, delta=1.0)\n",
    "#print(\"Huber Loss:\", loss.numpy())\n",
    "\n",
    "mean_huber_loss = np.mean(loss)\n",
    "print(f\"Mean Huber Loss: {mean_huber_loss}\")"
   ]
  },
  {
   "cell_type": "code",
   "execution_count": 44,
   "id": "2effea0c",
   "metadata": {},
   "outputs": [
    {
     "data": {
      "text/plain": [
       "nan"
      ]
     },
     "execution_count": 44,
     "metadata": {},
     "output_type": "execute_result"
    }
   ],
   "source": [
    "score_p2 = cross_val_score(PolynomialFeatures(degree = 2), X_test_poly, y_test, cv = 10, scoring = 'r2').mean()\n",
    "score_p2"
   ]
  },
  {
   "cell_type": "markdown",
   "id": "f6513035",
   "metadata": {},
   "source": [
    "# Polynomial 2 10%\n",
    "\n",
    "Mean Squared Error: 129787.7459520186\n",
    "Root Mean Squared Error: 360.2606638977098\n",
    "R-squared: 0.6763874372444199\n",
    "Adjusted R-squared: 0.6718876101840874\n",
    "\n",
    "Training MSE: 135728.0226203764\n",
    "Validation MSE: 129787.7459520186\n",
    "Mean Huber Loss: 257.9908250948034\n",
    "\n",
    "Cross-Validation: nan"
   ]
  },
  {
   "cell_type": "markdown",
   "id": "88de3a38",
   "metadata": {},
   "source": [
    "# Polynomial 2 30%\n",
    "\n",
    "Mean Squared Error: 143033.25052369505\n",
    "Root Mean Squared Error: 378.1973698000755\n",
    "R-squared: 0.6603852220879212\n",
    "Adjusted R-squared: 0.6588267603919575\n",
    "\n",
    "Training MSE: 134460.97390464265\n",
    "Validation MSE: 143033.25052369505\n",
    "Mean Huber Loss: 267.12350803325194\n",
    "\n",
    "Cross-Validation: nan"
   ]
  },
  {
   "cell_type": "markdown",
   "id": "4982b6fd",
   "metadata": {},
   "source": []
  },
  {
   "cell_type": "markdown",
   "id": "be5f65f6",
   "metadata": {},
   "source": [
    "# ANN"
   ]
  },
  {
   "cell_type": "code",
   "execution_count": 45,
   "id": "5d0d0e5d",
   "metadata": {
    "collapsed": true
   },
   "outputs": [
    {
     "name": "stdout",
     "output_type": "stream",
     "text": [
      "Requirement already satisfied: tensorflow in /Users/izaiaszacca/anaconda3/lib/python3.11/site-packages (2.15.0)\n",
      "Requirement already satisfied: tensorflow-macos==2.15.0 in /Users/izaiaszacca/anaconda3/lib/python3.11/site-packages (from tensorflow) (2.15.0)\n",
      "Requirement already satisfied: absl-py>=1.0.0 in /Users/izaiaszacca/anaconda3/lib/python3.11/site-packages (from tensorflow-macos==2.15.0->tensorflow) (2.0.0)\n",
      "Requirement already satisfied: astunparse>=1.6.0 in /Users/izaiaszacca/anaconda3/lib/python3.11/site-packages (from tensorflow-macos==2.15.0->tensorflow) (1.6.3)\n",
      "Requirement already satisfied: flatbuffers>=23.5.26 in /Users/izaiaszacca/anaconda3/lib/python3.11/site-packages (from tensorflow-macos==2.15.0->tensorflow) (23.5.26)\n",
      "Requirement already satisfied: gast!=0.5.0,!=0.5.1,!=0.5.2,>=0.2.1 in /Users/izaiaszacca/anaconda3/lib/python3.11/site-packages (from tensorflow-macos==2.15.0->tensorflow) (0.5.4)\n",
      "Requirement already satisfied: google-pasta>=0.1.1 in /Users/izaiaszacca/anaconda3/lib/python3.11/site-packages (from tensorflow-macos==2.15.0->tensorflow) (0.2.0)\n",
      "Requirement already satisfied: h5py>=2.9.0 in /Users/izaiaszacca/anaconda3/lib/python3.11/site-packages (from tensorflow-macos==2.15.0->tensorflow) (3.9.0)\n",
      "Requirement already satisfied: libclang>=13.0.0 in /Users/izaiaszacca/anaconda3/lib/python3.11/site-packages (from tensorflow-macos==2.15.0->tensorflow) (16.0.6)\n",
      "Requirement already satisfied: ml-dtypes~=0.2.0 in /Users/izaiaszacca/anaconda3/lib/python3.11/site-packages (from tensorflow-macos==2.15.0->tensorflow) (0.2.0)\n",
      "Requirement already satisfied: numpy<2.0.0,>=1.23.5 in /Users/izaiaszacca/anaconda3/lib/python3.11/site-packages (from tensorflow-macos==2.15.0->tensorflow) (1.24.3)\n",
      "Requirement already satisfied: opt-einsum>=2.3.2 in /Users/izaiaszacca/anaconda3/lib/python3.11/site-packages (from tensorflow-macos==2.15.0->tensorflow) (3.3.0)\n",
      "Requirement already satisfied: packaging in /Users/izaiaszacca/anaconda3/lib/python3.11/site-packages (from tensorflow-macos==2.15.0->tensorflow) (23.1)\n",
      "Requirement already satisfied: protobuf!=4.21.0,!=4.21.1,!=4.21.2,!=4.21.3,!=4.21.4,!=4.21.5,<5.0.0dev,>=3.20.3 in /Users/izaiaszacca/anaconda3/lib/python3.11/site-packages (from tensorflow-macos==2.15.0->tensorflow) (4.23.4)\n",
      "Requirement already satisfied: setuptools in /Users/izaiaszacca/anaconda3/lib/python3.11/site-packages (from tensorflow-macos==2.15.0->tensorflow) (68.0.0)\n",
      "Requirement already satisfied: six>=1.12.0 in /Users/izaiaszacca/anaconda3/lib/python3.11/site-packages (from tensorflow-macos==2.15.0->tensorflow) (1.16.0)\n",
      "Requirement already satisfied: termcolor>=1.1.0 in /Users/izaiaszacca/anaconda3/lib/python3.11/site-packages (from tensorflow-macos==2.15.0->tensorflow) (2.3.0)\n",
      "Requirement already satisfied: typing-extensions>=3.6.6 in /Users/izaiaszacca/anaconda3/lib/python3.11/site-packages (from tensorflow-macos==2.15.0->tensorflow) (4.7.1)\n",
      "Requirement already satisfied: wrapt<1.15,>=1.11.0 in /Users/izaiaszacca/anaconda3/lib/python3.11/site-packages (from tensorflow-macos==2.15.0->tensorflow) (1.14.1)\n",
      "Requirement already satisfied: tensorflow-io-gcs-filesystem>=0.23.1 in /Users/izaiaszacca/anaconda3/lib/python3.11/site-packages (from tensorflow-macos==2.15.0->tensorflow) (0.34.0)\n",
      "Requirement already satisfied: grpcio<2.0,>=1.24.3 in /Users/izaiaszacca/anaconda3/lib/python3.11/site-packages (from tensorflow-macos==2.15.0->tensorflow) (1.59.3)\n",
      "Requirement already satisfied: tensorboard<2.16,>=2.15 in /Users/izaiaszacca/anaconda3/lib/python3.11/site-packages (from tensorflow-macos==2.15.0->tensorflow) (2.15.1)\n",
      "Requirement already satisfied: tensorflow-estimator<2.16,>=2.15.0 in /Users/izaiaszacca/anaconda3/lib/python3.11/site-packages (from tensorflow-macos==2.15.0->tensorflow) (2.15.0)\n",
      "Requirement already satisfied: keras<2.16,>=2.15.0 in /Users/izaiaszacca/anaconda3/lib/python3.11/site-packages (from tensorflow-macos==2.15.0->tensorflow) (2.15.0)\n",
      "Requirement already satisfied: wheel<1.0,>=0.23.0 in /Users/izaiaszacca/anaconda3/lib/python3.11/site-packages (from astunparse>=1.6.0->tensorflow-macos==2.15.0->tensorflow) (0.38.4)\n",
      "Requirement already satisfied: google-auth<3,>=1.6.3 in /Users/izaiaszacca/anaconda3/lib/python3.11/site-packages (from tensorboard<2.16,>=2.15->tensorflow-macos==2.15.0->tensorflow) (2.23.4)\n",
      "Requirement already satisfied: google-auth-oauthlib<2,>=0.5 in /Users/izaiaszacca/anaconda3/lib/python3.11/site-packages (from tensorboard<2.16,>=2.15->tensorflow-macos==2.15.0->tensorflow) (1.1.0)\n",
      "Requirement already satisfied: markdown>=2.6.8 in /Users/izaiaszacca/anaconda3/lib/python3.11/site-packages (from tensorboard<2.16,>=2.15->tensorflow-macos==2.15.0->tensorflow) (3.4.1)\n",
      "Requirement already satisfied: requests<3,>=2.21.0 in /Users/izaiaszacca/anaconda3/lib/python3.11/site-packages (from tensorboard<2.16,>=2.15->tensorflow-macos==2.15.0->tensorflow) (2.31.0)\n",
      "Requirement already satisfied: tensorboard-data-server<0.8.0,>=0.7.0 in /Users/izaiaszacca/anaconda3/lib/python3.11/site-packages (from tensorboard<2.16,>=2.15->tensorflow-macos==2.15.0->tensorflow) (0.7.2)\n",
      "Requirement already satisfied: werkzeug>=1.0.1 in /Users/izaiaszacca/anaconda3/lib/python3.11/site-packages (from tensorboard<2.16,>=2.15->tensorflow-macos==2.15.0->tensorflow) (2.2.3)\n",
      "Requirement already satisfied: cachetools<6.0,>=2.0.0 in /Users/izaiaszacca/anaconda3/lib/python3.11/site-packages (from google-auth<3,>=1.6.3->tensorboard<2.16,>=2.15->tensorflow-macos==2.15.0->tensorflow) (5.3.2)\n",
      "Requirement already satisfied: pyasn1-modules>=0.2.1 in /Users/izaiaszacca/anaconda3/lib/python3.11/site-packages (from google-auth<3,>=1.6.3->tensorboard<2.16,>=2.15->tensorflow-macos==2.15.0->tensorflow) (0.2.8)\n",
      "Requirement already satisfied: rsa<5,>=3.1.4 in /Users/izaiaszacca/anaconda3/lib/python3.11/site-packages (from google-auth<3,>=1.6.3->tensorboard<2.16,>=2.15->tensorflow-macos==2.15.0->tensorflow) (4.9)\n",
      "Requirement already satisfied: requests-oauthlib>=0.7.0 in /Users/izaiaszacca/anaconda3/lib/python3.11/site-packages (from google-auth-oauthlib<2,>=0.5->tensorboard<2.16,>=2.15->tensorflow-macos==2.15.0->tensorflow) (1.3.1)\n",
      "Requirement already satisfied: charset-normalizer<4,>=2 in /Users/izaiaszacca/anaconda3/lib/python3.11/site-packages (from requests<3,>=2.21.0->tensorboard<2.16,>=2.15->tensorflow-macos==2.15.0->tensorflow) (2.0.4)\n",
      "Requirement already satisfied: idna<4,>=2.5 in /Users/izaiaszacca/anaconda3/lib/python3.11/site-packages (from requests<3,>=2.21.0->tensorboard<2.16,>=2.15->tensorflow-macos==2.15.0->tensorflow) (3.4)\n",
      "Requirement already satisfied: urllib3<3,>=1.21.1 in /Users/izaiaszacca/anaconda3/lib/python3.11/site-packages (from requests<3,>=2.21.0->tensorboard<2.16,>=2.15->tensorflow-macos==2.15.0->tensorflow) (1.26.16)\n",
      "Requirement already satisfied: certifi>=2017.4.17 in /Users/izaiaszacca/anaconda3/lib/python3.11/site-packages (from requests<3,>=2.21.0->tensorboard<2.16,>=2.15->tensorflow-macos==2.15.0->tensorflow) (2023.7.22)\n",
      "Requirement already satisfied: MarkupSafe>=2.1.1 in /Users/izaiaszacca/anaconda3/lib/python3.11/site-packages (from werkzeug>=1.0.1->tensorboard<2.16,>=2.15->tensorflow-macos==2.15.0->tensorflow) (2.1.1)\n",
      "Requirement already satisfied: pyasn1<0.5.0,>=0.4.6 in /Users/izaiaszacca/anaconda3/lib/python3.11/site-packages (from pyasn1-modules>=0.2.1->google-auth<3,>=1.6.3->tensorboard<2.16,>=2.15->tensorflow-macos==2.15.0->tensorflow) (0.4.8)\n",
      "Requirement already satisfied: oauthlib>=3.0.0 in /Users/izaiaszacca/anaconda3/lib/python3.11/site-packages (from requests-oauthlib>=0.7.0->google-auth-oauthlib<2,>=0.5->tensorboard<2.16,>=2.15->tensorflow-macos==2.15.0->tensorflow) (3.2.2)\n",
      "Requirement already satisfied: keras in /Users/izaiaszacca/anaconda3/lib/python3.11/site-packages (2.15.0)\n"
     ]
    }
   ],
   "source": [
    " !pip install tensorflow\n",
    " !pip install keras"
   ]
  },
  {
   "cell_type": "code",
   "execution_count": 46,
   "id": "aaa64f4a",
   "metadata": {},
   "outputs": [],
   "source": [
    "import numpy as np\n",
    "import tensorflow as tf\n",
    "from tensorflow import keras"
   ]
  },
  {
   "cell_type": "code",
   "execution_count": 47,
   "id": "f8d6dac3",
   "metadata": {
    "collapsed": true
   },
   "outputs": [
    {
     "name": "stdout",
     "output_type": "stream",
     "text": [
      "Epoch 1/300\n",
      "77/77 [==============================] - 0s 1ms/step - loss: 897431.9375 - val_loss: 876014.0625\n",
      "Epoch 2/300\n",
      "77/77 [==============================] - 0s 535us/step - loss: 668239.7500 - val_loss: 367051.2812\n",
      "Epoch 3/300\n",
      "77/77 [==============================] - 0s 579us/step - loss: 331981.6875 - val_loss: 325360.5312\n",
      "Epoch 4/300\n",
      "77/77 [==============================] - 0s 558us/step - loss: 314952.2812 - val_loss: 310395.0625\n",
      "Epoch 5/300\n",
      "77/77 [==============================] - 0s 570us/step - loss: 297282.2812 - val_loss: 292814.5625\n",
      "Epoch 6/300\n",
      "77/77 [==============================] - 0s 572us/step - loss: 278167.8438 - val_loss: 274044.3438\n",
      "Epoch 7/300\n",
      "77/77 [==============================] - 0s 564us/step - loss: 258512.7344 - val_loss: 254999.1094\n",
      "Epoch 8/300\n",
      "77/77 [==============================] - 0s 557us/step - loss: 240526.6406 - val_loss: 239196.7969\n",
      "Epoch 9/300\n",
      "77/77 [==============================] - 0s 569us/step - loss: 225881.6875 - val_loss: 226767.5156\n",
      "Epoch 10/300\n",
      "77/77 [==============================] - 0s 565us/step - loss: 214509.9688 - val_loss: 216392.3906\n",
      "Epoch 11/300\n",
      "77/77 [==============================] - 0s 563us/step - loss: 205102.5938 - val_loss: 207751.7344\n",
      "Epoch 12/300\n",
      "77/77 [==============================] - 0s 576us/step - loss: 196917.3438 - val_loss: 200050.6562\n",
      "Epoch 13/300\n",
      "77/77 [==============================] - 0s 591us/step - loss: 190577.2969 - val_loss: 192955.5469\n",
      "Epoch 14/300\n",
      "77/77 [==============================] - 0s 580us/step - loss: 184246.3906 - val_loss: 186035.7969\n",
      "Epoch 15/300\n",
      "77/77 [==============================] - 0s 549us/step - loss: 178522.2969 - val_loss: 180229.5625\n",
      "Epoch 16/300\n",
      "77/77 [==============================] - 0s 593us/step - loss: 173857.0000 - val_loss: 175628.9062\n",
      "Epoch 17/300\n",
      "77/77 [==============================] - 0s 592us/step - loss: 170666.5781 - val_loss: 171674.8594\n",
      "Epoch 18/300\n",
      "77/77 [==============================] - 0s 586us/step - loss: 167252.4062 - val_loss: 168714.9531\n",
      "Epoch 19/300\n",
      "77/77 [==============================] - 0s 573us/step - loss: 164543.6719 - val_loss: 166388.1406\n",
      "Epoch 20/300\n",
      "77/77 [==============================] - 0s 556us/step - loss: 163170.2188 - val_loss: 163941.0156\n",
      "Epoch 21/300\n",
      "77/77 [==============================] - 0s 564us/step - loss: 161218.4062 - val_loss: 162077.5312\n",
      "Epoch 22/300\n",
      "77/77 [==============================] - 0s 560us/step - loss: 160225.0000 - val_loss: 165157.5938\n",
      "Epoch 23/300\n",
      "77/77 [==============================] - 0s 564us/step - loss: 159313.7500 - val_loss: 159397.7500\n",
      "Epoch 24/300\n",
      "77/77 [==============================] - 0s 562us/step - loss: 157946.2969 - val_loss: 158376.0312\n",
      "Epoch 25/300\n",
      "77/77 [==============================] - 0s 544us/step - loss: 157205.4062 - val_loss: 156921.7344\n",
      "Epoch 26/300\n",
      "77/77 [==============================] - 0s 566us/step - loss: 156226.9688 - val_loss: 157956.8438\n",
      "Epoch 27/300\n",
      "77/77 [==============================] - 0s 571us/step - loss: 155209.0781 - val_loss: 156404.8750\n",
      "Epoch 28/300\n",
      "77/77 [==============================] - 0s 561us/step - loss: 154060.7188 - val_loss: 154278.0781\n",
      "Epoch 29/300\n",
      "77/77 [==============================] - 0s 560us/step - loss: 153713.8125 - val_loss: 153647.1719\n",
      "Epoch 30/300\n",
      "77/77 [==============================] - 0s 620us/step - loss: 153232.5156 - val_loss: 156095.5625\n",
      "Epoch 31/300\n",
      "77/77 [==============================] - 0s 677us/step - loss: 153676.4531 - val_loss: 154664.0000\n",
      "Epoch 32/300\n",
      "77/77 [==============================] - 0s 730us/step - loss: 151762.9062 - val_loss: 151174.3594\n",
      "Epoch 33/300\n",
      "77/77 [==============================] - 0s 682us/step - loss: 151108.8594 - val_loss: 150627.1094\n",
      "Epoch 34/300\n",
      "77/77 [==============================] - 0s 660us/step - loss: 151809.7031 - val_loss: 149875.8750\n",
      "Epoch 35/300\n",
      "77/77 [==============================] - 0s 770us/step - loss: 149537.3594 - val_loss: 151353.3438\n",
      "Epoch 36/300\n",
      "77/77 [==============================] - 0s 662us/step - loss: 149638.9844 - val_loss: 148954.7656\n",
      "Epoch 37/300\n",
      "77/77 [==============================] - 0s 638us/step - loss: 148468.0156 - val_loss: 148795.0781\n",
      "Epoch 38/300\n",
      "77/77 [==============================] - 0s 812us/step - loss: 148154.8438 - val_loss: 147544.7031\n",
      "Epoch 39/300\n",
      "77/77 [==============================] - 0s 722us/step - loss: 147721.9844 - val_loss: 147850.7031\n",
      "Epoch 40/300\n",
      "77/77 [==============================] - 0s 813us/step - loss: 147498.3750 - val_loss: 147572.0625\n",
      "Epoch 41/300\n",
      "77/77 [==============================] - 0s 732us/step - loss: 146420.6719 - val_loss: 155206.9375\n",
      "Epoch 42/300\n",
      "77/77 [==============================] - 0s 621us/step - loss: 147247.8906 - val_loss: 145012.3750\n",
      "Epoch 43/300\n",
      "77/77 [==============================] - 0s 628us/step - loss: 145970.0312 - val_loss: 144816.8281\n",
      "Epoch 44/300\n",
      "77/77 [==============================] - 0s 742us/step - loss: 145248.0781 - val_loss: 143977.1250\n",
      "Epoch 45/300\n",
      "77/77 [==============================] - 0s 654us/step - loss: 144444.8750 - val_loss: 144249.8750\n",
      "Epoch 46/300\n",
      "77/77 [==============================] - 0s 717us/step - loss: 144083.2031 - val_loss: 142780.2188\n",
      "Epoch 47/300\n",
      "77/77 [==============================] - 0s 726us/step - loss: 143927.6406 - val_loss: 143744.8594\n",
      "Epoch 48/300\n",
      "77/77 [==============================] - 0s 656us/step - loss: 142931.3906 - val_loss: 141897.4062\n",
      "Epoch 49/300\n",
      "77/77 [==============================] - 0s 656us/step - loss: 143872.2188 - val_loss: 148356.9531\n",
      "Epoch 50/300\n",
      "77/77 [==============================] - 0s 661us/step - loss: 142966.1719 - val_loss: 141054.8594\n",
      "Epoch 51/300\n",
      "77/77 [==============================] - 0s 632us/step - loss: 142219.7656 - val_loss: 141890.3438\n",
      "Epoch 52/300\n",
      "77/77 [==============================] - 0s 634us/step - loss: 142145.4062 - val_loss: 141814.0000\n",
      "Epoch 53/300\n",
      "77/77 [==============================] - 0s 660us/step - loss: 142167.3750 - val_loss: 140272.1875\n",
      "Epoch 54/300\n",
      "77/77 [==============================] - 0s 714us/step - loss: 140710.3281 - val_loss: 138839.0000\n",
      "Epoch 55/300\n",
      "77/77 [==============================] - 0s 665us/step - loss: 140142.5938 - val_loss: 143282.9219\n",
      "Epoch 56/300\n",
      "77/77 [==============================] - 0s 625us/step - loss: 140361.2500 - val_loss: 138646.0156\n",
      "Epoch 57/300\n",
      "77/77 [==============================] - 0s 628us/step - loss: 140111.9219 - val_loss: 137671.5156\n",
      "Epoch 58/300\n",
      "77/77 [==============================] - 0s 713us/step - loss: 139044.1250 - val_loss: 137799.5938\n",
      "Epoch 59/300\n",
      "77/77 [==============================] - 0s 592us/step - loss: 138848.2344 - val_loss: 137694.1875\n",
      "Epoch 60/300\n",
      "77/77 [==============================] - 0s 542us/step - loss: 139239.8906 - val_loss: 137874.2500\n",
      "Epoch 61/300\n",
      "77/77 [==============================] - 0s 548us/step - loss: 138037.0469 - val_loss: 135916.3438\n",
      "Epoch 62/300\n",
      "77/77 [==============================] - 0s 528us/step - loss: 137760.5938 - val_loss: 135598.5625\n",
      "Epoch 63/300\n",
      "77/77 [==============================] - 0s 536us/step - loss: 138136.2812 - val_loss: 138656.5156\n",
      "Epoch 64/300\n",
      "77/77 [==============================] - 0s 535us/step - loss: 137524.4844 - val_loss: 134363.3594\n",
      "Epoch 65/300\n",
      "77/77 [==============================] - 0s 534us/step - loss: 137382.1406 - val_loss: 134051.3594\n",
      "Epoch 66/300\n",
      "77/77 [==============================] - 0s 542us/step - loss: 136649.7812 - val_loss: 135252.7031\n",
      "Epoch 67/300\n",
      "77/77 [==============================] - 0s 548us/step - loss: 136600.6875 - val_loss: 132982.1875\n",
      "Epoch 68/300\n",
      "77/77 [==============================] - 0s 532us/step - loss: 136039.8125 - val_loss: 135380.6719\n",
      "Epoch 69/300\n",
      "77/77 [==============================] - 0s 549us/step - loss: 135317.6406 - val_loss: 132899.6719\n",
      "Epoch 70/300\n",
      "77/77 [==============================] - 0s 542us/step - loss: 135072.7812 - val_loss: 136343.8906\n",
      "Epoch 71/300\n",
      "77/77 [==============================] - 0s 533us/step - loss: 134911.2031 - val_loss: 133309.5781\n",
      "Epoch 72/300\n",
      "77/77 [==============================] - 0s 554us/step - loss: 134602.2344 - val_loss: 130942.1875\n",
      "Epoch 73/300\n",
      "77/77 [==============================] - 0s 652us/step - loss: 133934.8906 - val_loss: 131063.0938\n",
      "Epoch 74/300\n"
     ]
    },
    {
     "name": "stdout",
     "output_type": "stream",
     "text": [
      "77/77 [==============================] - 0s 661us/step - loss: 133631.6094 - val_loss: 130947.2188\n",
      "Epoch 75/300\n",
      "77/77 [==============================] - 0s 705us/step - loss: 133358.0781 - val_loss: 129597.3906\n",
      "Epoch 76/300\n",
      "77/77 [==============================] - 0s 704us/step - loss: 134175.3281 - val_loss: 129976.0625\n",
      "Epoch 77/300\n",
      "77/77 [==============================] - 0s 724us/step - loss: 133014.1719 - val_loss: 128836.1562\n",
      "Epoch 78/300\n",
      "77/77 [==============================] - 0s 553us/step - loss: 132953.4375 - val_loss: 128378.6562\n",
      "Epoch 79/300\n",
      "77/77 [==============================] - 0s 532us/step - loss: 132178.2344 - val_loss: 128007.4297\n",
      "Epoch 80/300\n",
      "77/77 [==============================] - 0s 544us/step - loss: 132560.8438 - val_loss: 134284.8906\n",
      "Epoch 81/300\n",
      "77/77 [==============================] - 0s 537us/step - loss: 132903.4219 - val_loss: 130599.2344\n",
      "Epoch 82/300\n",
      "77/77 [==============================] - 0s 548us/step - loss: 131652.2344 - val_loss: 127077.1406\n",
      "Epoch 83/300\n",
      "77/77 [==============================] - 0s 555us/step - loss: 131391.7031 - val_loss: 126821.9219\n",
      "Epoch 84/300\n",
      "77/77 [==============================] - 0s 660us/step - loss: 131315.7188 - val_loss: 127114.3438\n",
      "Epoch 85/300\n",
      "77/77 [==============================] - 0s 721us/step - loss: 129617.8906 - val_loss: 126600.5938\n",
      "Epoch 86/300\n",
      "77/77 [==============================] - 0s 692us/step - loss: 129687.0547 - val_loss: 125924.5000\n",
      "Epoch 87/300\n",
      "77/77 [==============================] - 0s 658us/step - loss: 129055.5078 - val_loss: 126373.7344\n",
      "Epoch 88/300\n",
      "77/77 [==============================] - 0s 754us/step - loss: 128994.5938 - val_loss: 125000.0312\n",
      "Epoch 89/300\n",
      "77/77 [==============================] - 0s 713us/step - loss: 128589.2969 - val_loss: 124658.9062\n",
      "Epoch 90/300\n",
      "77/77 [==============================] - 0s 621us/step - loss: 128210.0469 - val_loss: 124353.2656\n",
      "Epoch 91/300\n",
      "77/77 [==============================] - 0s 659us/step - loss: 128206.2578 - val_loss: 128284.6250\n",
      "Epoch 92/300\n",
      "77/77 [==============================] - 0s 725us/step - loss: 127616.9531 - val_loss: 125007.9844\n",
      "Epoch 93/300\n",
      "77/77 [==============================] - 0s 691us/step - loss: 127178.1094 - val_loss: 123792.3672\n",
      "Epoch 94/300\n",
      "77/77 [==============================] - 0s 644us/step - loss: 127142.4531 - val_loss: 122782.1328\n",
      "Epoch 95/300\n",
      "77/77 [==============================] - 0s 670us/step - loss: 126251.8047 - val_loss: 122274.3750\n",
      "Epoch 96/300\n",
      "77/77 [==============================] - 0s 672us/step - loss: 126332.1406 - val_loss: 122781.0547\n",
      "Epoch 97/300\n",
      "77/77 [==============================] - 0s 635us/step - loss: 125871.0078 - val_loss: 123670.4062\n",
      "Epoch 98/300\n",
      "77/77 [==============================] - 0s 732us/step - loss: 125437.2891 - val_loss: 121656.1406\n",
      "Epoch 99/300\n",
      "77/77 [==============================] - 0s 778us/step - loss: 124545.4844 - val_loss: 120550.5234\n",
      "Epoch 100/300\n",
      "77/77 [==============================] - 0s 675us/step - loss: 124428.7188 - val_loss: 121587.4141\n",
      "Epoch 101/300\n",
      "77/77 [==============================] - 0s 674us/step - loss: 124170.9609 - val_loss: 124597.1797\n",
      "Epoch 102/300\n",
      "77/77 [==============================] - 0s 670us/step - loss: 125246.8750 - val_loss: 120101.0859\n",
      "Epoch 103/300\n",
      "77/77 [==============================] - 0s 628us/step - loss: 123651.0938 - val_loss: 120079.3984\n",
      "Epoch 104/300\n",
      "77/77 [==============================] - 0s 585us/step - loss: 122590.7109 - val_loss: 119064.1406\n",
      "Epoch 105/300\n",
      "77/77 [==============================] - 0s 525us/step - loss: 122618.2344 - val_loss: 120001.2812\n",
      "Epoch 106/300\n",
      "77/77 [==============================] - 0s 569us/step - loss: 121831.8906 - val_loss: 118207.7656\n",
      "Epoch 107/300\n",
      "77/77 [==============================] - 0s 678us/step - loss: 121639.4922 - val_loss: 119061.3828\n",
      "Epoch 108/300\n",
      "77/77 [==============================] - 0s 665us/step - loss: 122671.9219 - val_loss: 117656.8281\n",
      "Epoch 109/300\n",
      "77/77 [==============================] - 0s 645us/step - loss: 121036.8281 - val_loss: 117321.1250\n",
      "Epoch 110/300\n",
      "77/77 [==============================] - 0s 714us/step - loss: 120478.8203 - val_loss: 119955.3125\n",
      "Epoch 111/300\n",
      "77/77 [==============================] - 0s 750us/step - loss: 120085.0078 - val_loss: 116200.0234\n",
      "Epoch 112/300\n",
      "77/77 [==============================] - 0s 609us/step - loss: 120688.8359 - val_loss: 116651.3594\n",
      "Epoch 113/300\n",
      "77/77 [==============================] - 0s 557us/step - loss: 118687.4297 - val_loss: 115283.1953\n",
      "Epoch 114/300\n",
      "77/77 [==============================] - 0s 743us/step - loss: 119075.2188 - val_loss: 116266.7734\n",
      "Epoch 115/300\n",
      "77/77 [==============================] - 0s 645us/step - loss: 119027.8359 - val_loss: 114680.6172\n",
      "Epoch 116/300\n",
      "77/77 [==============================] - 0s 644us/step - loss: 118816.9688 - val_loss: 114125.6641\n",
      "Epoch 117/300\n",
      "77/77 [==============================] - 0s 673us/step - loss: 118085.1406 - val_loss: 113695.2344\n",
      "Epoch 118/300\n",
      "77/77 [==============================] - 0s 641us/step - loss: 116881.5859 - val_loss: 118561.5391\n",
      "Epoch 119/300\n",
      "77/77 [==============================] - 0s 598us/step - loss: 117196.8672 - val_loss: 115902.8672\n",
      "Epoch 120/300\n",
      "77/77 [==============================] - 0s 546us/step - loss: 116761.0781 - val_loss: 112272.3125\n",
      "Epoch 121/300\n",
      "77/77 [==============================] - 0s 542us/step - loss: 117477.5938 - val_loss: 115279.2344\n",
      "Epoch 122/300\n",
      "77/77 [==============================] - 0s 551us/step - loss: 116412.8672 - val_loss: 114748.4375\n",
      "Epoch 123/300\n",
      "77/77 [==============================] - 0s 538us/step - loss: 115856.6875 - val_loss: 112288.2969\n",
      "Epoch 124/300\n",
      "77/77 [==============================] - 0s 549us/step - loss: 116514.1953 - val_loss: 113746.3047\n",
      "Epoch 125/300\n",
      "77/77 [==============================] - 0s 541us/step - loss: 114237.5312 - val_loss: 111030.8984\n",
      "Epoch 126/300\n",
      "77/77 [==============================] - 0s 566us/step - loss: 114460.1328 - val_loss: 110636.8281\n",
      "Epoch 127/300\n",
      "77/77 [==============================] - 0s 542us/step - loss: 113539.2891 - val_loss: 110985.4766\n",
      "Epoch 128/300\n",
      "77/77 [==============================] - 0s 528us/step - loss: 113095.1406 - val_loss: 111008.4297\n",
      "Epoch 129/300\n",
      "77/77 [==============================] - 0s 579us/step - loss: 112655.0703 - val_loss: 110019.9766\n",
      "Epoch 130/300\n",
      "77/77 [==============================] - 0s 575us/step - loss: 111638.0000 - val_loss: 113051.5703\n",
      "Epoch 131/300\n",
      "77/77 [==============================] - 0s 543us/step - loss: 112386.4375 - val_loss: 117250.7031\n",
      "Epoch 132/300\n",
      "77/77 [==============================] - 0s 543us/step - loss: 111420.2656 - val_loss: 110239.0234\n",
      "Epoch 133/300\n",
      "77/77 [==============================] - 0s 544us/step - loss: 112775.1250 - val_loss: 108291.8438\n",
      "Epoch 134/300\n",
      "77/77 [==============================] - 0s 551us/step - loss: 111815.6719 - val_loss: 107889.5625\n",
      "Epoch 135/300\n",
      "77/77 [==============================] - 0s 554us/step - loss: 109584.1250 - val_loss: 110409.8203\n",
      "Epoch 136/300\n",
      "77/77 [==============================] - 0s 546us/step - loss: 110177.2422 - val_loss: 107725.5938\n",
      "Epoch 137/300\n",
      "77/77 [==============================] - 0s 525us/step - loss: 109014.3906 - val_loss: 108546.9453\n",
      "Epoch 138/300\n",
      "77/77 [==============================] - 0s 538us/step - loss: 109332.4062 - val_loss: 107503.3438\n",
      "Epoch 139/300\n",
      "77/77 [==============================] - 0s 533us/step - loss: 108013.3203 - val_loss: 106474.1172\n",
      "Epoch 140/300\n",
      "77/77 [==============================] - 0s 568us/step - loss: 108001.2188 - val_loss: 106109.9844\n",
      "Epoch 141/300\n",
      "77/77 [==============================] - 0s 556us/step - loss: 106850.0859 - val_loss: 107418.7031\n",
      "Epoch 142/300\n",
      "77/77 [==============================] - 0s 547us/step - loss: 107430.9141 - val_loss: 107549.4453\n",
      "Epoch 143/300\n",
      "77/77 [==============================] - 0s 548us/step - loss: 106240.7344 - val_loss: 110292.3125\n",
      "Epoch 144/300\n",
      "77/77 [==============================] - 0s 559us/step - loss: 106123.3750 - val_loss: 105449.5781\n",
      "Epoch 145/300\n",
      "77/77 [==============================] - 0s 543us/step - loss: 105973.7812 - val_loss: 107388.8359\n",
      "Epoch 146/300\n",
      "77/77 [==============================] - 0s 538us/step - loss: 105128.5625 - val_loss: 104399.5703\n"
     ]
    },
    {
     "name": "stdout",
     "output_type": "stream",
     "text": [
      "Epoch 147/300\n",
      "77/77 [==============================] - 0s 536us/step - loss: 104907.8750 - val_loss: 105493.0703\n",
      "Epoch 148/300\n",
      "77/77 [==============================] - 0s 551us/step - loss: 104011.0781 - val_loss: 104081.0391\n",
      "Epoch 149/300\n",
      "77/77 [==============================] - 0s 533us/step - loss: 103545.4219 - val_loss: 104732.8203\n",
      "Epoch 150/300\n",
      "77/77 [==============================] - 0s 561us/step - loss: 105420.6250 - val_loss: 107132.3438\n",
      "Epoch 151/300\n",
      "77/77 [==============================] - 0s 543us/step - loss: 104066.9062 - val_loss: 103695.3516\n",
      "Epoch 152/300\n",
      "77/77 [==============================] - 0s 566us/step - loss: 103654.4297 - val_loss: 103219.1641\n",
      "Epoch 153/300\n",
      "77/77 [==============================] - 0s 568us/step - loss: 103776.5312 - val_loss: 102626.6172\n",
      "Epoch 154/300\n",
      "77/77 [==============================] - 0s 529us/step - loss: 102192.2344 - val_loss: 101932.5703\n",
      "Epoch 155/300\n",
      "77/77 [==============================] - 0s 548us/step - loss: 101473.6641 - val_loss: 107601.7891\n",
      "Epoch 156/300\n",
      "77/77 [==============================] - 0s 530us/step - loss: 102263.2109 - val_loss: 103415.9375\n",
      "Epoch 157/300\n",
      "77/77 [==============================] - 0s 540us/step - loss: 100728.4062 - val_loss: 103260.3750\n",
      "Epoch 158/300\n",
      "77/77 [==============================] - 0s 542us/step - loss: 101252.9453 - val_loss: 101058.0781\n",
      "Epoch 159/300\n",
      "77/77 [==============================] - 0s 537us/step - loss: 100502.9453 - val_loss: 100862.7344\n",
      "Epoch 160/300\n",
      "77/77 [==============================] - 0s 543us/step - loss: 100704.7422 - val_loss: 101527.6641\n",
      "Epoch 161/300\n",
      "77/77 [==============================] - 0s 548us/step - loss: 100882.3359 - val_loss: 100534.8125\n",
      "Epoch 162/300\n",
      "77/77 [==============================] - 0s 582us/step - loss: 99377.8516 - val_loss: 99757.9062\n",
      "Epoch 163/300\n",
      "77/77 [==============================] - 0s 527us/step - loss: 99214.5625 - val_loss: 105231.2266\n",
      "Epoch 164/300\n",
      "77/77 [==============================] - 0s 544us/step - loss: 99195.2812 - val_loss: 100249.2109\n",
      "Epoch 165/300\n",
      "77/77 [==============================] - 0s 542us/step - loss: 98752.1641 - val_loss: 101548.5938\n",
      "Epoch 166/300\n",
      "77/77 [==============================] - 0s 542us/step - loss: 98067.3281 - val_loss: 103777.4453\n",
      "Epoch 167/300\n",
      "77/77 [==============================] - 0s 544us/step - loss: 98533.1172 - val_loss: 99841.5938\n",
      "Epoch 168/300\n",
      "77/77 [==============================] - 0s 556us/step - loss: 98468.5000 - val_loss: 99451.0547\n",
      "Epoch 169/300\n",
      "77/77 [==============================] - 0s 570us/step - loss: 97355.3281 - val_loss: 98533.2578\n",
      "Epoch 170/300\n",
      "77/77 [==============================] - 0s 544us/step - loss: 97334.9609 - val_loss: 100409.4766\n",
      "Epoch 171/300\n",
      "77/77 [==============================] - 0s 556us/step - loss: 96403.9922 - val_loss: 98572.7656\n",
      "Epoch 172/300\n",
      "77/77 [==============================] - 0s 537us/step - loss: 96737.4453 - val_loss: 98165.5781\n",
      "Epoch 173/300\n",
      "77/77 [==============================] - 0s 531us/step - loss: 95818.4688 - val_loss: 96582.4922\n",
      "Epoch 174/300\n",
      "77/77 [==============================] - 0s 528us/step - loss: 96820.2578 - val_loss: 97626.1562\n",
      "Epoch 175/300\n",
      "77/77 [==============================] - 0s 534us/step - loss: 96495.1484 - val_loss: 96376.4375\n",
      "Epoch 176/300\n",
      "77/77 [==============================] - 0s 532us/step - loss: 96144.5859 - val_loss: 103964.2109\n",
      "Epoch 177/300\n",
      "77/77 [==============================] - 0s 529us/step - loss: 96441.9922 - val_loss: 108554.0547\n",
      "Epoch 178/300\n",
      "77/77 [==============================] - 0s 615us/step - loss: 95909.9688 - val_loss: 96888.4844\n",
      "Epoch 179/300\n",
      "77/77 [==============================] - 0s 675us/step - loss: 95108.4453 - val_loss: 94875.0547\n",
      "Epoch 180/300\n",
      "77/77 [==============================] - 0s 686us/step - loss: 94971.4688 - val_loss: 98890.1172\n",
      "Epoch 181/300\n",
      "77/77 [==============================] - 0s 698us/step - loss: 95166.8359 - val_loss: 95652.4688\n",
      "Epoch 182/300\n",
      "77/77 [==============================] - 0s 676us/step - loss: 93912.5781 - val_loss: 95565.7109\n",
      "Epoch 183/300\n",
      "77/77 [==============================] - 0s 637us/step - loss: 94035.2578 - val_loss: 98106.4609\n",
      "Epoch 184/300\n",
      "77/77 [==============================] - 0s 718us/step - loss: 93713.7188 - val_loss: 94312.6875\n",
      "Epoch 185/300\n",
      "77/77 [==============================] - 0s 640us/step - loss: 92898.8672 - val_loss: 95151.6641\n",
      "Epoch 186/300\n",
      "77/77 [==============================] - 0s 647us/step - loss: 92791.2344 - val_loss: 101833.9531\n",
      "Epoch 187/300\n",
      "77/77 [==============================] - 0s 600us/step - loss: 92381.7109 - val_loss: 94093.3203\n",
      "Epoch 188/300\n",
      "77/77 [==============================] - 0s 664us/step - loss: 92419.4609 - val_loss: 93908.7031\n",
      "Epoch 189/300\n",
      "77/77 [==============================] - 0s 616us/step - loss: 92338.6094 - val_loss: 94005.8984\n",
      "Epoch 190/300\n",
      "77/77 [==============================] - 0s 686us/step - loss: 92469.1562 - val_loss: 95028.3125\n",
      "Epoch 191/300\n",
      "77/77 [==============================] - 0s 644us/step - loss: 91397.7734 - val_loss: 93480.1016\n",
      "Epoch 192/300\n",
      "77/77 [==============================] - 0s 668us/step - loss: 91416.0312 - val_loss: 92181.5938\n",
      "Epoch 193/300\n",
      "77/77 [==============================] - 0s 701us/step - loss: 90521.2734 - val_loss: 91766.3438\n",
      "Epoch 194/300\n",
      "77/77 [==============================] - 0s 613us/step - loss: 90382.2578 - val_loss: 94517.5078\n",
      "Epoch 195/300\n",
      "77/77 [==============================] - 0s 555us/step - loss: 90704.8125 - val_loss: 103543.6641\n",
      "Epoch 196/300\n",
      "77/77 [==============================] - 0s 523us/step - loss: 90993.8750 - val_loss: 96848.7656\n",
      "Epoch 197/300\n",
      "77/77 [==============================] - 0s 630us/step - loss: 89791.2188 - val_loss: 90945.1953\n",
      "Epoch 198/300\n",
      "77/77 [==============================] - 0s 747us/step - loss: 89100.9922 - val_loss: 95241.1641\n",
      "Epoch 199/300\n",
      "77/77 [==============================] - 0s 594us/step - loss: 89539.8359 - val_loss: 93346.8828\n",
      "Epoch 200/300\n",
      "77/77 [==============================] - 0s 711us/step - loss: 88693.9141 - val_loss: 91182.1172\n",
      "Epoch 201/300\n",
      "77/77 [==============================] - 0s 760us/step - loss: 88304.7891 - val_loss: 89869.6094\n",
      "Epoch 202/300\n",
      "77/77 [==============================] - 0s 830us/step - loss: 88520.0625 - val_loss: 89133.8125\n",
      "Epoch 203/300\n",
      "77/77 [==============================] - 0s 650us/step - loss: 87333.4141 - val_loss: 91793.2969\n",
      "Epoch 204/300\n",
      "77/77 [==============================] - 0s 653us/step - loss: 87876.0312 - val_loss: 94027.3438\n",
      "Epoch 205/300\n",
      "77/77 [==============================] - 0s 619us/step - loss: 87898.9141 - val_loss: 88778.7656\n",
      "Epoch 206/300\n",
      "77/77 [==============================] - 0s 668us/step - loss: 86573.5781 - val_loss: 88627.6719\n",
      "Epoch 207/300\n",
      "77/77 [==============================] - 0s 639us/step - loss: 87039.8594 - val_loss: 87700.2969\n",
      "Epoch 208/300\n",
      "77/77 [==============================] - 0s 655us/step - loss: 85422.0156 - val_loss: 87905.4141\n",
      "Epoch 209/300\n",
      "77/77 [==============================] - 0s 692us/step - loss: 85192.7734 - val_loss: 87697.2109\n",
      "Epoch 210/300\n",
      "77/77 [==============================] - 0s 565us/step - loss: 85403.2031 - val_loss: 93404.1094\n",
      "Epoch 211/300\n",
      "77/77 [==============================] - 0s 622us/step - loss: 84626.5391 - val_loss: 92228.0312\n",
      "Epoch 212/300\n",
      "77/77 [==============================] - 0s 677us/step - loss: 84417.8203 - val_loss: 90263.6719\n",
      "Epoch 213/300\n",
      "77/77 [==============================] - 0s 622us/step - loss: 85093.9922 - val_loss: 86726.0938\n",
      "Epoch 214/300\n",
      "77/77 [==============================] - 0s 668us/step - loss: 84147.9688 - val_loss: 85965.0625\n",
      "Epoch 215/300\n",
      "77/77 [==============================] - 0s 605us/step - loss: 83801.0547 - val_loss: 86708.1562\n",
      "Epoch 216/300\n",
      "77/77 [==============================] - 0s 725us/step - loss: 83386.5156 - val_loss: 92646.6719\n",
      "Epoch 217/300\n",
      "77/77 [==============================] - 0s 730us/step - loss: 83841.6406 - val_loss: 92842.6562\n",
      "Epoch 218/300\n",
      "77/77 [==============================] - 0s 639us/step - loss: 83897.1562 - val_loss: 84972.5547\n",
      "Epoch 219/300\n",
      "77/77 [==============================] - 0s 519us/step - loss: 81389.2578 - val_loss: 84454.1484\n",
      "Epoch 220/300\n"
     ]
    },
    {
     "name": "stdout",
     "output_type": "stream",
     "text": [
      "77/77 [==============================] - 0s 563us/step - loss: 80742.0391 - val_loss: 84683.6875\n",
      "Epoch 221/300\n",
      "77/77 [==============================] - 0s 656us/step - loss: 81479.4531 - val_loss: 83424.4609\n",
      "Epoch 222/300\n",
      "77/77 [==============================] - 0s 743us/step - loss: 80238.0234 - val_loss: 84592.7656\n",
      "Epoch 223/300\n",
      "77/77 [==============================] - 0s 669us/step - loss: 80856.9609 - val_loss: 83497.8281\n",
      "Epoch 224/300\n",
      "77/77 [==============================] - 0s 671us/step - loss: 80047.4453 - val_loss: 88352.5625\n",
      "Epoch 225/300\n",
      "77/77 [==============================] - 0s 755us/step - loss: 81910.4297 - val_loss: 81600.5000\n",
      "Epoch 226/300\n",
      "77/77 [==============================] - 0s 688us/step - loss: 79486.4609 - val_loss: 83410.2734\n",
      "Epoch 227/300\n",
      "77/77 [==============================] - 0s 683us/step - loss: 77680.3203 - val_loss: 81339.2422\n",
      "Epoch 228/300\n",
      "77/77 [==============================] - 0s 679us/step - loss: 78379.2891 - val_loss: 82734.4453\n",
      "Epoch 229/300\n",
      "77/77 [==============================] - 0s 725us/step - loss: 79000.3828 - val_loss: 81150.3906\n",
      "Epoch 230/300\n",
      "77/77 [==============================] - 0s 653us/step - loss: 78286.3438 - val_loss: 81181.2344\n",
      "Epoch 231/300\n",
      "77/77 [==============================] - 0s 763us/step - loss: 77041.1094 - val_loss: 79638.5000\n",
      "Epoch 232/300\n",
      "77/77 [==============================] - 0s 637us/step - loss: 76847.8047 - val_loss: 79546.0156\n",
      "Epoch 233/300\n",
      "77/77 [==============================] - 0s 690us/step - loss: 76389.5547 - val_loss: 80541.5000\n",
      "Epoch 234/300\n",
      "77/77 [==============================] - 0s 775us/step - loss: 76163.2734 - val_loss: 79764.4375\n",
      "Epoch 235/300\n",
      "77/77 [==============================] - 0s 599us/step - loss: 76852.9453 - val_loss: 78849.0078\n",
      "Epoch 236/300\n",
      "77/77 [==============================] - 0s 535us/step - loss: 77766.4688 - val_loss: 79983.2500\n",
      "Epoch 237/300\n",
      "77/77 [==============================] - 0s 529us/step - loss: 75180.4766 - val_loss: 79918.9453\n",
      "Epoch 238/300\n",
      "77/77 [==============================] - 0s 531us/step - loss: 74563.1719 - val_loss: 78474.9219\n",
      "Epoch 239/300\n",
      "77/77 [==============================] - 0s 617us/step - loss: 74061.4844 - val_loss: 77932.7500\n",
      "Epoch 240/300\n",
      "77/77 [==============================] - 0s 554us/step - loss: 73546.0000 - val_loss: 76879.3125\n",
      "Epoch 241/300\n",
      "77/77 [==============================] - 0s 543us/step - loss: 74803.5703 - val_loss: 76836.9062\n",
      "Epoch 242/300\n",
      "77/77 [==============================] - 0s 544us/step - loss: 72419.9922 - val_loss: 82635.0156\n",
      "Epoch 243/300\n",
      "77/77 [==============================] - 0s 545us/step - loss: 73834.8516 - val_loss: 77163.2891\n",
      "Epoch 244/300\n",
      "77/77 [==============================] - 0s 581us/step - loss: 72612.6406 - val_loss: 76402.3594\n",
      "Epoch 245/300\n",
      "77/77 [==============================] - 0s 536us/step - loss: 71951.9766 - val_loss: 78346.0000\n",
      "Epoch 246/300\n",
      "77/77 [==============================] - 0s 551us/step - loss: 71884.6250 - val_loss: 78585.4688\n",
      "Epoch 247/300\n",
      "77/77 [==============================] - 0s 545us/step - loss: 71673.3359 - val_loss: 74847.7031\n",
      "Epoch 248/300\n",
      "77/77 [==============================] - 0s 543us/step - loss: 70579.7969 - val_loss: 75536.7266\n",
      "Epoch 249/300\n",
      "77/77 [==============================] - 0s 544us/step - loss: 70445.4141 - val_loss: 76001.5938\n",
      "Epoch 250/300\n",
      "77/77 [==============================] - 0s 541us/step - loss: 71098.6250 - val_loss: 74347.1875\n",
      "Epoch 251/300\n",
      "77/77 [==============================] - 0s 533us/step - loss: 70795.7344 - val_loss: 74404.3438\n",
      "Epoch 252/300\n",
      "77/77 [==============================] - 0s 533us/step - loss: 69216.7969 - val_loss: 78008.1484\n",
      "Epoch 253/300\n",
      "77/77 [==============================] - 0s 538us/step - loss: 69844.7969 - val_loss: 78989.1328\n",
      "Epoch 254/300\n",
      "77/77 [==============================] - 0s 534us/step - loss: 71853.6953 - val_loss: 73444.8516\n",
      "Epoch 255/300\n",
      "77/77 [==============================] - 0s 554us/step - loss: 69306.4453 - val_loss: 73936.9766\n",
      "Epoch 256/300\n",
      "77/77 [==============================] - 0s 536us/step - loss: 69121.6719 - val_loss: 74155.7266\n",
      "Epoch 257/300\n",
      "77/77 [==============================] - 0s 541us/step - loss: 68908.4844 - val_loss: 74851.7734\n",
      "Epoch 258/300\n",
      "77/77 [==============================] - 0s 546us/step - loss: 68728.8281 - val_loss: 76107.2812\n",
      "Epoch 259/300\n",
      "77/77 [==============================] - 0s 546us/step - loss: 68871.8906 - val_loss: 80495.1562\n",
      "Epoch 260/300\n",
      "77/77 [==============================] - 0s 569us/step - loss: 69040.3984 - val_loss: 73489.0469\n",
      "Epoch 261/300\n",
      "77/77 [==============================] - 0s 543us/step - loss: 67344.7734 - val_loss: 75604.1250\n",
      "Epoch 262/300\n",
      "77/77 [==============================] - 0s 569us/step - loss: 68963.8984 - val_loss: 72964.5312\n",
      "Epoch 263/300\n",
      "77/77 [==============================] - 0s 548us/step - loss: 66632.8828 - val_loss: 75173.8672\n",
      "Epoch 264/300\n",
      "77/77 [==============================] - 0s 520us/step - loss: 67625.6406 - val_loss: 75956.3672\n",
      "Epoch 265/300\n",
      "77/77 [==============================] - 0s 547us/step - loss: 67209.2109 - val_loss: 75248.1094\n",
      "Epoch 266/300\n",
      "77/77 [==============================] - 0s 545us/step - loss: 70341.3828 - val_loss: 72288.4297\n",
      "Epoch 267/300\n",
      "77/77 [==============================] - 0s 547us/step - loss: 65894.9844 - val_loss: 73713.4062\n",
      "Epoch 268/300\n",
      "77/77 [==============================] - 0s 534us/step - loss: 65784.9062 - val_loss: 71407.2266\n",
      "Epoch 269/300\n",
      "77/77 [==============================] - 0s 563us/step - loss: 65610.8984 - val_loss: 71961.1016\n",
      "Epoch 270/300\n",
      "77/77 [==============================] - 0s 610us/step - loss: 65743.2500 - val_loss: 70216.2969\n",
      "Epoch 271/300\n",
      "77/77 [==============================] - 0s 552us/step - loss: 66325.0547 - val_loss: 71352.0781\n",
      "Epoch 272/300\n",
      "77/77 [==============================] - 0s 523us/step - loss: 66207.2500 - val_loss: 73768.7344\n",
      "Epoch 273/300\n",
      "77/77 [==============================] - 0s 539us/step - loss: 67380.5078 - val_loss: 71707.7812\n",
      "Epoch 274/300\n",
      "77/77 [==============================] - 0s 539us/step - loss: 65690.4141 - val_loss: 71615.6328\n",
      "Epoch 275/300\n",
      "77/77 [==============================] - 0s 519us/step - loss: 66426.7344 - val_loss: 73040.3359\n",
      "Epoch 276/300\n",
      "77/77 [==============================] - 0s 510us/step - loss: 65908.4141 - val_loss: 73743.7812\n",
      "Epoch 277/300\n",
      "77/77 [==============================] - 0s 510us/step - loss: 65666.8906 - val_loss: 73411.5000\n",
      "Epoch 278/300\n",
      "77/77 [==============================] - 0s 548us/step - loss: 66697.2031 - val_loss: 71154.6328\n",
      "Epoch 279/300\n",
      "77/77 [==============================] - 0s 578us/step - loss: 64619.7031 - val_loss: 69470.8438\n",
      "Epoch 280/300\n",
      "77/77 [==============================] - 0s 581us/step - loss: 65285.4492 - val_loss: 73936.3281\n",
      "Epoch 281/300\n",
      "77/77 [==============================] - 0s 558us/step - loss: 63482.4531 - val_loss: 69696.1562\n",
      "Epoch 282/300\n",
      "77/77 [==============================] - 0s 561us/step - loss: 63869.6719 - val_loss: 68458.7891\n",
      "Epoch 283/300\n",
      "77/77 [==============================] - 0s 530us/step - loss: 64056.2109 - val_loss: 68900.5781\n",
      "Epoch 284/300\n",
      "77/77 [==============================] - 0s 541us/step - loss: 65063.6641 - val_loss: 70076.0859\n",
      "Epoch 285/300\n",
      "77/77 [==============================] - 0s 539us/step - loss: 63526.1602 - val_loss: 72221.6484\n",
      "Epoch 286/300\n",
      "77/77 [==============================] - 0s 537us/step - loss: 63280.8320 - val_loss: 69068.8594\n",
      "Epoch 287/300\n",
      "77/77 [==============================] - 0s 569us/step - loss: 62643.0938 - val_loss: 69869.6016\n",
      "Epoch 288/300\n",
      "77/77 [==============================] - 0s 559us/step - loss: 62785.1094 - val_loss: 70786.7578\n",
      "Epoch 289/300\n",
      "77/77 [==============================] - 0s 574us/step - loss: 62954.0859 - val_loss: 68258.5625\n",
      "Epoch 290/300\n",
      "77/77 [==============================] - 0s 554us/step - loss: 63764.7656 - val_loss: 70839.0547\n",
      "Epoch 291/300\n",
      "77/77 [==============================] - 0s 563us/step - loss: 62988.0742 - val_loss: 69283.0781\n",
      "Epoch 292/300\n",
      "77/77 [==============================] - 0s 600us/step - loss: 63478.7695 - val_loss: 67962.4375\n",
      "Epoch 293/300\n",
      "77/77 [==============================] - 0s 619us/step - loss: 62705.8477 - val_loss: 67328.6328\n"
     ]
    },
    {
     "name": "stdout",
     "output_type": "stream",
     "text": [
      "Epoch 294/300\n",
      "77/77 [==============================] - 0s 619us/step - loss: 63299.7969 - val_loss: 68092.0469\n",
      "Epoch 295/300\n",
      "77/77 [==============================] - 0s 592us/step - loss: 62316.5898 - val_loss: 67529.5625\n",
      "Epoch 296/300\n",
      "77/77 [==============================] - 0s 589us/step - loss: 61819.1602 - val_loss: 69335.3672\n",
      "Epoch 297/300\n",
      "77/77 [==============================] - 0s 598us/step - loss: 63271.7383 - val_loss: 67935.7188\n",
      "Epoch 298/300\n",
      "77/77 [==============================] - 0s 608us/step - loss: 62297.2812 - val_loss: 72093.0156\n",
      "Epoch 299/300\n",
      "77/77 [==============================] - 0s 594us/step - loss: 61595.3242 - val_loss: 67565.7656\n",
      "Epoch 300/300\n",
      "77/77 [==============================] - 0s 645us/step - loss: 61677.0547 - val_loss: 68897.1250\n",
      "83/83 [==============================] - 0s 263us/step\n"
     ]
    }
   ],
   "source": [
    "from keras.models import Sequential\n",
    "from keras.layers import Dense\n",
    "\n",
    "model = Sequential()\n",
    "\n",
    "model.add(Dense(units=64, activation='relu', input_dim=X_train_scaled.shape[1]))\n",
    "\n",
    "model.add(Dense(units=32, activation='relu'))\n",
    "\n",
    "model.add(Dense(units=16, activation='relu'))\n",
    "\n",
    "model.add(Dense(units=8, activation='relu'))\n",
    "\n",
    "model.add(Dense(units=1, activation='linear'))\n",
    "\n",
    "model.compile(optimizer='adam', loss='mean_squared_error')\n",
    "\n",
    "#from keras.layers import Dropout\n",
    "#model.add(Dropout(0.5)) \n",
    "\n",
    "#from keras.regularizers import l1, l2\n",
    "#model.add(Dense(units=64, activation='relu', input_dim=X_train.shape[1], kernel_regularizer=l2(0.01)))\n",
    "\n",
    "from keras.callbacks import EarlyStopping\n",
    "early_stopping = EarlyStopping(monitor='val_loss', patience = 10, restore_best_weights=True)\n",
    "model.fit(X_train_scaled, y_train, epochs = 300, batch_size = 64, validation_split=0.2, callbacks=[early_stopping])\n",
    "\n",
    "y_pred = model.predict(X_test_scaled)\n",
    "\n",
    "mse = mean_squared_error(y_test, y_pred)\n",
    "mse_r = mean_squared_error(y_test, y_pred, squared = False)\n",
    "r2 = r2_score(y_test, y_pred)\n",
    "\n",
    "n = len(y_test)\n",
    "k = X_train_scaled.shape[1]  \n",
    "adj_r2 = 1 - ((1 - r2) * (n - 1) / (n - k - 1))\n"
   ]
  },
  {
   "cell_type": "code",
   "execution_count": 48,
   "id": "0173147a",
   "metadata": {},
   "outputs": [
    {
     "name": "stdout",
     "output_type": "stream",
     "text": [
      "Mean Squared Error: 69443.73445949942\n",
      "Root Mean Squared Error: 263.5217912422034\n",
      "R-squared: 0.83511443409488\n",
      "Adjusted R-squared: 0.8343577890505735\n"
     ]
    }
   ],
   "source": [
    "print(f'Mean Squared Error: {mse}')\n",
    "print(f'Root Mean Squared Error: {mse_r}')\n",
    "print(f'R-squared: {r2}')\n",
    "print(f'Adjusted R-squared: {adj_r2}')"
   ]
  },
  {
   "cell_type": "code",
   "execution_count": 49,
   "id": "8dce21c4",
   "metadata": {},
   "outputs": [
    {
     "name": "stdout",
     "output_type": "stream",
     "text": [
      "192/192 [==============================] - 0s 231us/step\n",
      "83/83 [==============================] - 0s 224us/step\n",
      "Training MSE: 63192.78008888488\n",
      "Validation MSE: 69443.73445949942\n",
      "Mean Huber Loss: 686.8274866689037\n"
     ]
    }
   ],
   "source": [
    "train_pred = model.predict(X_train_scaled)\n",
    "test_pred = model.predict(X_test_scaled)\n",
    "\n",
    "from sklearn.metrics import mean_squared_error, r2_score\n",
    "\n",
    "train_mse = mean_squared_error(y_train, train_pred)\n",
    "test_mse = mean_squared_error(y_test, test_pred)\n",
    "\n",
    "print(f'Training MSE: {train_mse}')\n",
    "print(f'Validation MSE: {test_mse}')\n",
    "\n",
    "import tensorflow as tf\n",
    "def huber_loss(y_test, y_pred, delta = 1.0):\n",
    "    error = y_test - y_pred\n",
    "    condition = tf.abs(error) < delta\n",
    "    squared_loss = 0.5 * tf.square(error)\n",
    "    linear_loss = delta * (tf.abs(error) - 0.5 * delta)\n",
    "    return tf.where(condition, squared_loss, linear_loss)\n",
    "\n",
    "loss = huber_loss(y_test, y_pred, delta = 1.0)\n",
    "#print(\"Huber Loss:\", loss.numpy())\n",
    "\n",
    "mean_huber_loss = np.mean(loss)\n",
    "print(f\"Mean Huber Loss: {mean_huber_loss}\")"
   ]
  },
  {
   "cell_type": "code",
   "execution_count": null,
   "id": "3b0b4fb5",
   "metadata": {},
   "outputs": [],
   "source": []
  },
  {
   "cell_type": "code",
   "execution_count": 50,
   "id": "90892d05",
   "metadata": {
    "collapsed": true
   },
   "outputs": [
    {
     "name": "stdout",
     "output_type": "stream",
     "text": [
      "Epoch 1/350\n",
      "62/62 [==============================] - 0s 1ms/step - loss: 903381.7500 - val_loss: 899797.2500\n",
      "Epoch 2/350\n",
      "62/62 [==============================] - 0s 709us/step - loss: 754521.0625 - val_loss: 438495.5000\n",
      "Epoch 3/350\n",
      "62/62 [==============================] - 0s 730us/step - loss: 343060.0312 - val_loss: 327939.7188\n",
      "Epoch 4/350\n",
      "62/62 [==============================] - 0s 688us/step - loss: 318341.6562 - val_loss: 313275.6562\n",
      "Epoch 5/350\n",
      "62/62 [==============================] - 0s 671us/step - loss: 303302.9375 - val_loss: 298681.5625\n",
      "Epoch 6/350\n",
      "62/62 [==============================] - 0s 702us/step - loss: 286911.0312 - val_loss: 283619.2500\n",
      "Epoch 7/350\n",
      "62/62 [==============================] - 0s 654us/step - loss: 270853.1562 - val_loss: 268478.0312\n",
      "Epoch 8/350\n",
      "62/62 [==============================] - 0s 689us/step - loss: 255478.0312 - val_loss: 253567.7344\n",
      "Epoch 9/350\n",
      "62/62 [==============================] - 0s 695us/step - loss: 240447.3594 - val_loss: 241827.2812\n",
      "Epoch 10/350\n",
      "62/62 [==============================] - 0s 674us/step - loss: 229218.3281 - val_loss: 231691.4688\n",
      "Epoch 11/350\n",
      "62/62 [==============================] - 0s 709us/step - loss: 218380.0625 - val_loss: 221616.9531\n",
      "Epoch 12/350\n",
      "62/62 [==============================] - 0s 668us/step - loss: 208290.2188 - val_loss: 212322.8438\n",
      "Epoch 13/350\n",
      "62/62 [==============================] - 0s 689us/step - loss: 199479.2031 - val_loss: 203888.3125\n",
      "Epoch 14/350\n",
      "62/62 [==============================] - 0s 666us/step - loss: 191321.2344 - val_loss: 195419.4688\n",
      "Epoch 15/350\n",
      "62/62 [==============================] - 0s 699us/step - loss: 185237.6406 - val_loss: 187885.8750\n",
      "Epoch 16/350\n",
      "62/62 [==============================] - 0s 715us/step - loss: 180413.1250 - val_loss: 182454.8125\n",
      "Epoch 17/350\n",
      "62/62 [==============================] - 0s 687us/step - loss: 175486.0469 - val_loss: 178146.4219\n",
      "Epoch 18/350\n",
      "62/62 [==============================] - 0s 709us/step - loss: 171526.4531 - val_loss: 173351.5469\n",
      "Epoch 19/350\n",
      "62/62 [==============================] - 0s 693us/step - loss: 168878.5156 - val_loss: 170129.5312\n",
      "Epoch 20/350\n",
      "62/62 [==============================] - 0s 677us/step - loss: 165462.7812 - val_loss: 167053.9844\n",
      "Epoch 21/350\n",
      "62/62 [==============================] - 0s 669us/step - loss: 163876.2812 - val_loss: 164999.5781\n",
      "Epoch 22/350\n",
      "62/62 [==============================] - 0s 708us/step - loss: 162477.2188 - val_loss: 163318.0156\n",
      "Epoch 23/350\n",
      "62/62 [==============================] - 0s 674us/step - loss: 161770.5938 - val_loss: 161498.3750\n",
      "Epoch 24/350\n",
      "62/62 [==============================] - 0s 680us/step - loss: 158587.5625 - val_loss: 163138.3125\n",
      "Epoch 25/350\n",
      "62/62 [==============================] - 0s 654us/step - loss: 158101.6719 - val_loss: 159665.8906\n",
      "Epoch 26/350\n",
      "62/62 [==============================] - 0s 702us/step - loss: 156876.0312 - val_loss: 159213.7500\n",
      "Epoch 27/350\n",
      "62/62 [==============================] - 0s 700us/step - loss: 156260.2500 - val_loss: 157946.6719\n",
      "Epoch 28/350\n",
      "62/62 [==============================] - 0s 663us/step - loss: 155115.4531 - val_loss: 156125.0469\n",
      "Epoch 29/350\n",
      "62/62 [==============================] - 0s 701us/step - loss: 154192.4219 - val_loss: 154490.2031\n",
      "Epoch 30/350\n",
      "62/62 [==============================] - 0s 669us/step - loss: 153054.0469 - val_loss: 153868.1719\n",
      "Epoch 31/350\n",
      "62/62 [==============================] - 0s 663us/step - loss: 152067.8906 - val_loss: 153346.3750\n",
      "Epoch 32/350\n",
      "62/62 [==============================] - 0s 685us/step - loss: 150948.9531 - val_loss: 154885.5625\n",
      "Epoch 33/350\n",
      "62/62 [==============================] - 0s 663us/step - loss: 151656.8438 - val_loss: 151295.5625\n",
      "Epoch 34/350\n",
      "62/62 [==============================] - 0s 699us/step - loss: 150076.2031 - val_loss: 149964.9844\n",
      "Epoch 35/350\n",
      "62/62 [==============================] - 0s 665us/step - loss: 149856.9219 - val_loss: 149287.8594\n",
      "Epoch 36/350\n",
      "62/62 [==============================] - 0s 673us/step - loss: 148221.2500 - val_loss: 148463.5625\n",
      "Epoch 37/350\n",
      "62/62 [==============================] - 0s 662us/step - loss: 147839.7812 - val_loss: 149317.7812\n",
      "Epoch 38/350\n",
      "62/62 [==============================] - 0s 682us/step - loss: 146692.1719 - val_loss: 146186.0469\n",
      "Epoch 39/350\n",
      "62/62 [==============================] - 0s 675us/step - loss: 145591.9844 - val_loss: 146315.4688\n",
      "Epoch 40/350\n",
      "62/62 [==============================] - 0s 669us/step - loss: 145573.5781 - val_loss: 144283.0156\n",
      "Epoch 41/350\n",
      "62/62 [==============================] - 0s 692us/step - loss: 144457.1562 - val_loss: 144017.9844\n",
      "Epoch 42/350\n",
      "62/62 [==============================] - 0s 652us/step - loss: 143945.2188 - val_loss: 144407.0469\n",
      "Epoch 43/350\n",
      "62/62 [==============================] - 0s 705us/step - loss: 142834.5312 - val_loss: 142043.9375\n",
      "Epoch 44/350\n",
      "62/62 [==============================] - 0s 747us/step - loss: 143128.3125 - val_loss: 142107.3125\n",
      "Epoch 45/350\n",
      "62/62 [==============================] - 0s 670us/step - loss: 141996.3438 - val_loss: 146332.0156\n",
      "Epoch 46/350\n",
      "62/62 [==============================] - 0s 646us/step - loss: 143847.2344 - val_loss: 139753.2969\n",
      "Epoch 47/350\n",
      "62/62 [==============================] - 0s 663us/step - loss: 141061.0312 - val_loss: 139866.4062\n",
      "Epoch 48/350\n",
      "62/62 [==============================] - 0s 693us/step - loss: 139542.7500 - val_loss: 138925.9062\n",
      "Epoch 49/350\n",
      "62/62 [==============================] - 0s 651us/step - loss: 139510.3438 - val_loss: 142248.7656\n",
      "Epoch 50/350\n",
      "62/62 [==============================] - 0s 692us/step - loss: 140682.2500 - val_loss: 138496.0781\n",
      "Epoch 51/350\n",
      "62/62 [==============================] - 0s 696us/step - loss: 138170.2344 - val_loss: 137384.5938\n",
      "Epoch 52/350\n",
      "62/62 [==============================] - 0s 654us/step - loss: 137413.8125 - val_loss: 137046.7344\n",
      "Epoch 53/350\n",
      "62/62 [==============================] - 0s 693us/step - loss: 136850.0000 - val_loss: 135804.9375\n",
      "Epoch 54/350\n",
      "62/62 [==============================] - 0s 662us/step - loss: 136553.3906 - val_loss: 135274.9062\n",
      "Epoch 55/350\n",
      "62/62 [==============================] - 0s 648us/step - loss: 135461.7031 - val_loss: 134744.8594\n",
      "Epoch 56/350\n",
      "62/62 [==============================] - 0s 651us/step - loss: 138558.6406 - val_loss: 134220.4375\n",
      "Epoch 57/350\n",
      "62/62 [==============================] - 0s 647us/step - loss: 134527.9375 - val_loss: 142422.3594\n",
      "Epoch 58/350\n",
      "62/62 [==============================] - 0s 634us/step - loss: 135252.5625 - val_loss: 133109.6875\n",
      "Epoch 59/350\n",
      "62/62 [==============================] - 0s 654us/step - loss: 133656.8438 - val_loss: 133580.5625\n",
      "Epoch 60/350\n",
      "62/62 [==============================] - 0s 659us/step - loss: 133346.4219 - val_loss: 133005.9062\n",
      "Epoch 61/350\n",
      "62/62 [==============================] - 0s 698us/step - loss: 133978.7500 - val_loss: 132682.1094\n",
      "Epoch 62/350\n",
      "62/62 [==============================] - 0s 673us/step - loss: 131605.6094 - val_loss: 131434.2500\n",
      "Epoch 63/350\n",
      "62/62 [==============================] - 0s 655us/step - loss: 130863.8047 - val_loss: 134438.4688\n",
      "Epoch 64/350\n",
      "62/62 [==============================] - 0s 668us/step - loss: 131280.6250 - val_loss: 134059.7656\n",
      "Epoch 65/350\n",
      "62/62 [==============================] - 0s 653us/step - loss: 131446.7812 - val_loss: 128729.1953\n",
      "Epoch 66/350\n",
      "62/62 [==============================] - 0s 638us/step - loss: 129973.0000 - val_loss: 127884.0000\n",
      "Epoch 67/350\n",
      "62/62 [==============================] - 0s 659us/step - loss: 129674.4141 - val_loss: 127222.3359\n",
      "Epoch 68/350\n",
      "62/62 [==============================] - 0s 666us/step - loss: 128720.9375 - val_loss: 127226.3125\n",
      "Epoch 69/350\n",
      "62/62 [==============================] - 0s 660us/step - loss: 128195.5625 - val_loss: 133778.8906\n",
      "Epoch 70/350\n",
      "62/62 [==============================] - 0s 671us/step - loss: 127685.0781 - val_loss: 125431.1172\n",
      "Epoch 71/350\n",
      "62/62 [==============================] - 0s 682us/step - loss: 127371.4453 - val_loss: 125349.2031\n",
      "Epoch 72/350\n",
      "62/62 [==============================] - 0s 664us/step - loss: 126213.9609 - val_loss: 125112.0312\n",
      "Epoch 73/350\n",
      "62/62 [==============================] - 0s 679us/step - loss: 127054.5625 - val_loss: 124897.0703\n",
      "Epoch 74/350\n"
     ]
    },
    {
     "name": "stdout",
     "output_type": "stream",
     "text": [
      "62/62 [==============================] - 0s 648us/step - loss: 125783.6172 - val_loss: 128875.1484\n",
      "Epoch 75/350\n",
      "62/62 [==============================] - 0s 689us/step - loss: 124313.4453 - val_loss: 123479.5000\n",
      "Epoch 76/350\n",
      "62/62 [==============================] - 0s 645us/step - loss: 123682.3516 - val_loss: 122071.1875\n",
      "Epoch 77/350\n",
      "62/62 [==============================] - 0s 649us/step - loss: 124139.5391 - val_loss: 125234.8203\n",
      "Epoch 78/350\n",
      "62/62 [==============================] - 0s 646us/step - loss: 124157.7578 - val_loss: 120683.0547\n",
      "Epoch 79/350\n",
      "62/62 [==============================] - 0s 648us/step - loss: 122009.8359 - val_loss: 120997.0625\n",
      "Epoch 80/350\n",
      "62/62 [==============================] - 0s 636us/step - loss: 122266.0156 - val_loss: 122520.7656\n",
      "Epoch 81/350\n",
      "62/62 [==============================] - 0s 646us/step - loss: 120947.0469 - val_loss: 118913.2891\n",
      "Epoch 82/350\n",
      "62/62 [==============================] - 0s 645us/step - loss: 120900.0938 - val_loss: 117978.0391\n",
      "Epoch 83/350\n",
      "62/62 [==============================] - 0s 663us/step - loss: 120199.9297 - val_loss: 117132.3594\n",
      "Epoch 84/350\n",
      "62/62 [==============================] - 0s 638us/step - loss: 120286.4141 - val_loss: 119152.4141\n",
      "Epoch 85/350\n",
      "62/62 [==============================] - 0s 649us/step - loss: 119513.4531 - val_loss: 117212.1641\n",
      "Epoch 86/350\n",
      "62/62 [==============================] - 0s 651us/step - loss: 117968.9062 - val_loss: 116531.1172\n",
      "Epoch 87/350\n",
      "62/62 [==============================] - 0s 671us/step - loss: 117186.6250 - val_loss: 117731.8828\n",
      "Epoch 88/350\n",
      "62/62 [==============================] - 0s 650us/step - loss: 116501.7500 - val_loss: 114896.1172\n",
      "Epoch 89/350\n",
      "62/62 [==============================] - 0s 666us/step - loss: 116315.6484 - val_loss: 118483.7188\n",
      "Epoch 90/350\n",
      "62/62 [==============================] - 0s 657us/step - loss: 117263.2109 - val_loss: 113468.5469\n",
      "Epoch 91/350\n",
      "62/62 [==============================] - 0s 652us/step - loss: 115067.2266 - val_loss: 112528.0000\n",
      "Epoch 92/350\n",
      "62/62 [==============================] - 0s 637us/step - loss: 114894.6406 - val_loss: 112474.4844\n",
      "Epoch 93/350\n",
      "62/62 [==============================] - 0s 653us/step - loss: 114438.7812 - val_loss: 112110.6797\n",
      "Epoch 94/350\n",
      "62/62 [==============================] - 0s 637us/step - loss: 113114.7500 - val_loss: 116319.0469\n",
      "Epoch 95/350\n",
      "62/62 [==============================] - 0s 649us/step - loss: 112446.7344 - val_loss: 112482.1406\n",
      "Epoch 96/350\n",
      "62/62 [==============================] - 0s 660us/step - loss: 111427.5391 - val_loss: 109847.9297\n",
      "Epoch 97/350\n",
      "62/62 [==============================] - 0s 641us/step - loss: 112391.3047 - val_loss: 111124.7344\n",
      "Epoch 98/350\n",
      "62/62 [==============================] - 0s 652us/step - loss: 109709.5078 - val_loss: 112976.4453\n",
      "Epoch 99/350\n",
      "62/62 [==============================] - 0s 678us/step - loss: 109764.8516 - val_loss: 108227.7500\n",
      "Epoch 100/350\n",
      "62/62 [==============================] - 0s 786us/step - loss: 109275.9453 - val_loss: 108202.8984\n",
      "Epoch 101/350\n",
      "62/62 [==============================] - 0s 781us/step - loss: 108981.4531 - val_loss: 108625.5312\n",
      "Epoch 102/350\n",
      "62/62 [==============================] - 0s 883us/step - loss: 108238.9688 - val_loss: 107122.3672\n",
      "Epoch 103/350\n",
      "62/62 [==============================] - 0s 773us/step - loss: 107761.1719 - val_loss: 106098.2344\n",
      "Epoch 104/350\n",
      "62/62 [==============================] - 0s 658us/step - loss: 106465.8203 - val_loss: 106868.1016\n",
      "Epoch 105/350\n",
      "62/62 [==============================] - 0s 671us/step - loss: 106780.8047 - val_loss: 105051.3125\n",
      "Epoch 106/350\n",
      "62/62 [==============================] - 0s 627us/step - loss: 105594.6016 - val_loss: 105476.9609\n",
      "Epoch 107/350\n",
      "62/62 [==============================] - 0s 650us/step - loss: 105397.6719 - val_loss: 104142.2266\n",
      "Epoch 108/350\n",
      "62/62 [==============================] - 0s 645us/step - loss: 106392.8594 - val_loss: 103200.8828\n",
      "Epoch 109/350\n",
      "62/62 [==============================] - 0s 648us/step - loss: 105676.4766 - val_loss: 103084.3984\n",
      "Epoch 110/350\n",
      "62/62 [==============================] - 0s 654us/step - loss: 103831.1875 - val_loss: 103814.7969\n",
      "Epoch 111/350\n",
      "62/62 [==============================] - 0s 666us/step - loss: 101849.8594 - val_loss: 102007.5469\n",
      "Epoch 112/350\n",
      "62/62 [==============================] - 0s 661us/step - loss: 102111.6719 - val_loss: 102935.1328\n",
      "Epoch 113/350\n",
      "62/62 [==============================] - 0s 619us/step - loss: 100863.6562 - val_loss: 102109.4766\n",
      "Epoch 114/350\n",
      "62/62 [==============================] - 0s 721us/step - loss: 101278.0000 - val_loss: 102108.5781\n",
      "Epoch 115/350\n",
      "62/62 [==============================] - 0s 722us/step - loss: 100583.1953 - val_loss: 101860.1562\n",
      "Epoch 116/350\n",
      "62/62 [==============================] - 0s 723us/step - loss: 100484.6094 - val_loss: 102365.0078\n",
      "Epoch 117/350\n",
      "62/62 [==============================] - 0s 642us/step - loss: 99791.9531 - val_loss: 100555.3359\n",
      "Epoch 118/350\n",
      "62/62 [==============================] - 0s 624us/step - loss: 98209.0703 - val_loss: 102630.2109\n",
      "Epoch 119/350\n",
      "62/62 [==============================] - 0s 642us/step - loss: 99954.8516 - val_loss: 100616.0234\n",
      "Epoch 120/350\n",
      "62/62 [==============================] - 0s 644us/step - loss: 98447.8047 - val_loss: 98934.3594\n",
      "Epoch 121/350\n",
      "62/62 [==============================] - 0s 650us/step - loss: 96769.8750 - val_loss: 100890.8047\n",
      "Epoch 122/350\n",
      "62/62 [==============================] - 0s 646us/step - loss: 97204.5781 - val_loss: 100780.3672\n",
      "Epoch 123/350\n",
      "62/62 [==============================] - 0s 642us/step - loss: 96683.6484 - val_loss: 98194.5078\n",
      "Epoch 124/350\n",
      "62/62 [==============================] - 0s 602us/step - loss: 96799.3359 - val_loss: 107024.7500\n",
      "Epoch 125/350\n",
      "62/62 [==============================] - 0s 695us/step - loss: 97982.9531 - val_loss: 100473.0078\n",
      "Epoch 126/350\n",
      "62/62 [==============================] - 0s 689us/step - loss: 97413.5625 - val_loss: 97349.2109\n",
      "Epoch 127/350\n",
      "62/62 [==============================] - 0s 676us/step - loss: 94146.2656 - val_loss: 97246.0469\n",
      "Epoch 128/350\n",
      "62/62 [==============================] - 0s 643us/step - loss: 93866.6562 - val_loss: 98970.6797\n",
      "Epoch 129/350\n",
      "62/62 [==============================] - 0s 638us/step - loss: 93464.3203 - val_loss: 100566.8359\n",
      "Epoch 130/350\n",
      "62/62 [==============================] - 0s 658us/step - loss: 94693.5781 - val_loss: 95426.9844\n",
      "Epoch 131/350\n",
      "62/62 [==============================] - 0s 668us/step - loss: 92400.9062 - val_loss: 95494.1250\n",
      "Epoch 132/350\n",
      "62/62 [==============================] - 0s 680us/step - loss: 91949.3594 - val_loss: 95052.3750\n",
      "Epoch 133/350\n",
      "62/62 [==============================] - 0s 661us/step - loss: 91764.1328 - val_loss: 95825.0078\n",
      "Epoch 134/350\n",
      "62/62 [==============================] - 0s 678us/step - loss: 91828.7188 - val_loss: 98864.5703\n",
      "Epoch 135/350\n",
      "62/62 [==============================] - 0s 663us/step - loss: 93281.3984 - val_loss: 94388.2578\n",
      "Epoch 136/350\n",
      "62/62 [==============================] - 0s 643us/step - loss: 93153.5625 - val_loss: 94048.2266\n",
      "Epoch 137/350\n",
      "62/62 [==============================] - 0s 658us/step - loss: 91935.4688 - val_loss: 98762.4531\n",
      "Epoch 138/350\n",
      "62/62 [==============================] - 0s 658us/step - loss: 90968.3906 - val_loss: 100301.1328\n",
      "Epoch 139/350\n",
      "62/62 [==============================] - 0s 659us/step - loss: 90085.6016 - val_loss: 93700.8281\n",
      "Epoch 140/350\n",
      "62/62 [==============================] - 0s 663us/step - loss: 89734.8047 - val_loss: 93100.1016\n",
      "Epoch 141/350\n",
      "62/62 [==============================] - 0s 664us/step - loss: 89215.8594 - val_loss: 93091.7109\n",
      "Epoch 142/350\n",
      "62/62 [==============================] - 0s 680us/step - loss: 88105.7422 - val_loss: 92716.1328\n",
      "Epoch 143/350\n",
      "62/62 [==============================] - 0s 673us/step - loss: 88022.8828 - val_loss: 94588.0469\n",
      "Epoch 144/350\n",
      "62/62 [==============================] - 0s 670us/step - loss: 88781.6328 - val_loss: 102076.0312\n",
      "Epoch 145/350\n",
      "62/62 [==============================] - 0s 677us/step - loss: 86293.5781 - val_loss: 94784.2734\n",
      "Epoch 146/350\n",
      "62/62 [==============================] - 0s 672us/step - loss: 87675.1484 - val_loss: 91693.3750\n",
      "Epoch 147/350\n"
     ]
    },
    {
     "name": "stdout",
     "output_type": "stream",
     "text": [
      "62/62 [==============================] - 0s 687us/step - loss: 87533.7344 - val_loss: 97479.6172\n",
      "Epoch 148/350\n",
      "62/62 [==============================] - 0s 650us/step - loss: 86693.3984 - val_loss: 92400.8984\n",
      "Epoch 149/350\n",
      "62/62 [==============================] - 0s 674us/step - loss: 85533.8281 - val_loss: 92239.1484\n",
      "Epoch 150/350\n",
      "62/62 [==============================] - 0s 658us/step - loss: 84801.9375 - val_loss: 91378.5781\n",
      "Epoch 151/350\n",
      "62/62 [==============================] - 0s 681us/step - loss: 85933.2891 - val_loss: 89588.6562\n",
      "Epoch 152/350\n",
      "62/62 [==============================] - 0s 654us/step - loss: 85026.6797 - val_loss: 88813.6172\n",
      "Epoch 153/350\n",
      "62/62 [==============================] - 0s 666us/step - loss: 83114.8828 - val_loss: 90823.5859\n",
      "Epoch 154/350\n",
      "62/62 [==============================] - 0s 643us/step - loss: 83017.2109 - val_loss: 89277.8125\n",
      "Epoch 155/350\n",
      "62/62 [==============================] - 0s 670us/step - loss: 82459.8516 - val_loss: 88001.1484\n",
      "Epoch 156/350\n",
      "62/62 [==============================] - 0s 685us/step - loss: 83635.6562 - val_loss: 89479.8594\n",
      "Epoch 157/350\n",
      "62/62 [==============================] - 0s 658us/step - loss: 81566.4766 - val_loss: 87406.8750\n",
      "Epoch 158/350\n",
      "62/62 [==============================] - 0s 641us/step - loss: 82415.4141 - val_loss: 88739.6406\n",
      "Epoch 159/350\n",
      "62/62 [==============================] - 0s 667us/step - loss: 81148.6328 - val_loss: 86713.8750\n",
      "Epoch 160/350\n",
      "62/62 [==============================] - 0s 673us/step - loss: 81911.7422 - val_loss: 87597.8984\n",
      "Epoch 161/350\n",
      "62/62 [==============================] - 0s 645us/step - loss: 81204.4375 - val_loss: 87893.7266\n",
      "Epoch 162/350\n",
      "62/62 [==============================] - 0s 643us/step - loss: 79078.9844 - val_loss: 86322.2578\n",
      "Epoch 163/350\n",
      "62/62 [==============================] - 0s 674us/step - loss: 79604.5391 - val_loss: 85203.6406\n",
      "Epoch 164/350\n",
      "62/62 [==============================] - 0s 668us/step - loss: 78787.5781 - val_loss: 85030.3984\n",
      "Epoch 165/350\n",
      "62/62 [==============================] - 0s 655us/step - loss: 77974.4453 - val_loss: 83710.2188\n",
      "Epoch 166/350\n",
      "62/62 [==============================] - 0s 641us/step - loss: 77416.4297 - val_loss: 85665.7031\n",
      "Epoch 167/350\n",
      "62/62 [==============================] - 0s 668us/step - loss: 77383.8281 - val_loss: 83237.7734\n",
      "Epoch 168/350\n",
      "62/62 [==============================] - 0s 647us/step - loss: 77608.1719 - val_loss: 89877.1250\n",
      "Epoch 169/350\n",
      "62/62 [==============================] - 0s 661us/step - loss: 81891.3438 - val_loss: 83080.0625\n",
      "Epoch 170/350\n",
      "62/62 [==============================] - 0s 664us/step - loss: 76163.8125 - val_loss: 81987.5234\n",
      "Epoch 171/350\n",
      "62/62 [==============================] - 0s 637us/step - loss: 76557.6172 - val_loss: 86122.9844\n",
      "Epoch 172/350\n",
      "62/62 [==============================] - 0s 636us/step - loss: 76237.0703 - val_loss: 81308.3594\n",
      "Epoch 173/350\n",
      "62/62 [==============================] - 0s 641us/step - loss: 75010.3047 - val_loss: 81903.3125\n",
      "Epoch 174/350\n",
      "62/62 [==============================] - 0s 647us/step - loss: 74420.3125 - val_loss: 80959.4141\n",
      "Epoch 175/350\n",
      "62/62 [==============================] - 0s 652us/step - loss: 74347.8672 - val_loss: 80475.3906\n",
      "Epoch 176/350\n",
      "62/62 [==============================] - 0s 664us/step - loss: 73773.5312 - val_loss: 82003.6250\n",
      "Epoch 177/350\n",
      "62/62 [==============================] - 0s 680us/step - loss: 73154.5781 - val_loss: 79088.4688\n",
      "Epoch 178/350\n",
      "62/62 [==============================] - 0s 641us/step - loss: 72884.1797 - val_loss: 79938.1875\n",
      "Epoch 179/350\n",
      "62/62 [==============================] - 0s 633us/step - loss: 73430.7656 - val_loss: 79184.1875\n",
      "Epoch 180/350\n",
      "62/62 [==============================] - 0s 624us/step - loss: 71987.5547 - val_loss: 79718.0625\n",
      "Epoch 181/350\n",
      "62/62 [==============================] - 0s 653us/step - loss: 72138.5312 - val_loss: 78919.3906\n",
      "Epoch 182/350\n",
      "62/62 [==============================] - 0s 656us/step - loss: 72868.0938 - val_loss: 77213.3984\n",
      "Epoch 183/350\n",
      "62/62 [==============================] - 0s 654us/step - loss: 70876.5078 - val_loss: 80192.3672\n",
      "Epoch 184/350\n",
      "62/62 [==============================] - 0s 651us/step - loss: 70282.9297 - val_loss: 77100.0391\n",
      "Epoch 185/350\n",
      "62/62 [==============================] - 0s 640us/step - loss: 70610.8906 - val_loss: 80446.8281\n",
      "Epoch 186/350\n",
      "62/62 [==============================] - 0s 666us/step - loss: 72770.7500 - val_loss: 76752.8047\n",
      "Epoch 187/350\n",
      "62/62 [==============================] - 0s 647us/step - loss: 69626.7812 - val_loss: 75844.8828\n",
      "Epoch 188/350\n",
      "62/62 [==============================] - 0s 645us/step - loss: 70064.5547 - val_loss: 79830.7969\n",
      "Epoch 189/350\n",
      "62/62 [==============================] - 0s 653us/step - loss: 72667.9531 - val_loss: 77877.4688\n",
      "Epoch 190/350\n",
      "62/62 [==============================] - 0s 671us/step - loss: 70844.3047 - val_loss: 77632.7500\n",
      "Epoch 191/350\n",
      "62/62 [==============================] - 0s 640us/step - loss: 68708.5938 - val_loss: 74780.1953\n",
      "Epoch 192/350\n",
      "62/62 [==============================] - 0s 646us/step - loss: 68145.7188 - val_loss: 76301.2500\n",
      "Epoch 193/350\n",
      "62/62 [==============================] - 0s 641us/step - loss: 68510.8438 - val_loss: 74192.3203\n",
      "Epoch 194/350\n",
      "62/62 [==============================] - 0s 669us/step - loss: 68435.3750 - val_loss: 74484.2969\n",
      "Epoch 195/350\n",
      "62/62 [==============================] - 0s 643us/step - loss: 68278.2734 - val_loss: 74850.3828\n",
      "Epoch 196/350\n",
      "62/62 [==============================] - 0s 656us/step - loss: 67430.4219 - val_loss: 76434.9375\n",
      "Epoch 197/350\n",
      "62/62 [==============================] - 0s 642us/step - loss: 68198.8516 - val_loss: 74875.8203\n",
      "Epoch 198/350\n",
      "62/62 [==============================] - 0s 671us/step - loss: 68406.2500 - val_loss: 73161.0078\n",
      "Epoch 199/350\n",
      "62/62 [==============================] - 0s 665us/step - loss: 67088.3359 - val_loss: 72405.0938\n",
      "Epoch 200/350\n",
      "62/62 [==============================] - 0s 650us/step - loss: 67237.7578 - val_loss: 72208.7969\n",
      "Epoch 201/350\n",
      "62/62 [==============================] - 0s 645us/step - loss: 66551.0000 - val_loss: 73250.7734\n",
      "Epoch 202/350\n",
      "62/62 [==============================] - 0s 664us/step - loss: 67615.8047 - val_loss: 71139.5078\n",
      "Epoch 203/350\n",
      "62/62 [==============================] - 0s 668us/step - loss: 65914.3672 - val_loss: 71743.8125\n",
      "Epoch 204/350\n",
      "62/62 [==============================] - 0s 652us/step - loss: 66448.0156 - val_loss: 74218.0547\n",
      "Epoch 205/350\n",
      "62/62 [==============================] - 0s 644us/step - loss: 66722.6016 - val_loss: 72624.6484\n",
      "Epoch 206/350\n",
      "62/62 [==============================] - 0s 665us/step - loss: 64851.1133 - val_loss: 76807.4766\n",
      "Epoch 207/350\n",
      "62/62 [==============================] - 0s 645us/step - loss: 65960.0859 - val_loss: 74205.3438\n",
      "Epoch 208/350\n",
      "62/62 [==============================] - 0s 653us/step - loss: 64745.6562 - val_loss: 71625.0312\n",
      "Epoch 209/350\n",
      "62/62 [==============================] - 0s 637us/step - loss: 65783.1562 - val_loss: 71405.9297\n",
      "Epoch 210/350\n",
      "62/62 [==============================] - 0s 654us/step - loss: 65042.4219 - val_loss: 73180.0859\n",
      "Epoch 211/350\n",
      "62/62 [==============================] - 0s 647us/step - loss: 64001.7617 - val_loss: 74072.7969\n",
      "Epoch 212/350\n",
      "62/62 [==============================] - 0s 695us/step - loss: 64467.2734 - val_loss: 73271.9141\n",
      "83/83 [==============================] - 0s 272us/step\n"
     ]
    }
   ],
   "source": [
    "from keras.models import Sequential\n",
    "from keras.layers import Dense\n",
    "\n",
    "model = Sequential()\n",
    "\n",
    "model.add(Dense(units=80, activation='relu', input_dim=X_train_scaled.shape[1]))\n",
    "\n",
    "model.add(Dense(units=64, activation='relu'))\n",
    "\n",
    "model.add(Dense(units=32, activation='relu'))\n",
    "\n",
    "model.add(Dense(units=16, activation='relu'))\n",
    "\n",
    "model.add(Dense(units=8, activation='relu'))\n",
    "\n",
    "model.add(Dense(units=1, activation='linear'))\n",
    "\n",
    "model.compile(optimizer='adam', loss='mean_squared_error')\n",
    "\n",
    "#from keras.layers import Dropout\n",
    "#model.add(Dropout(0.5)) \n",
    "\n",
    "#from keras.regularizers import l1, l2\n",
    "#model.add(Dense(units=64, activation='relu', input_dim=X_train.shape[1], kernel_regularizer=l2(0.01)))\n",
    "\n",
    "from keras.callbacks import EarlyStopping\n",
    "early_stopping = EarlyStopping(monitor='val_loss', patience = 10, restore_best_weights=True)\n",
    "model.fit(X_train_scaled, y_train, epochs = 350, batch_size = 80, validation_split=0.2, callbacks=[early_stopping])\n",
    "\n",
    "y_pred = model.predict(X_test_scaled)\n",
    "\n",
    "mse = mean_squared_error(y_test, y_pred)\n",
    "mse_r = mean_squared_error(y_test, y_pred, squared = False)\n",
    "r2 = r2_score(y_test, y_pred)\n",
    "\n",
    "n = len(y_test)\n",
    "k = X_train_scaled.shape[1]  \n",
    "adj_r2 = 1 - ((1 - r2) * (n - 1) / (n - k - 1))\n"
   ]
  },
  {
   "cell_type": "code",
   "execution_count": 51,
   "id": "26f5f313",
   "metadata": {},
   "outputs": [
    {
     "name": "stdout",
     "output_type": "stream",
     "text": [
      "Mean Squared Error: 73340.19319884239\n",
      "Root Mean Squared Error: 270.8139457244445\n",
      "R-squared: 0.8258627743265359\n",
      "Adjusted R-squared: 0.8250636742469636\n",
      "192/192 [==============================] - 0s 261us/step\n",
      "83/83 [==============================] - 0s 242us/step\n",
      "Training MSE: 65545.54571775686\n",
      "Validation MSE: 73340.19319884239\n",
      "Mean Huber Loss: 674.7012553263174\n"
     ]
    }
   ],
   "source": [
    "print(f'Mean Squared Error: {mse}')\n",
    "print(f'Root Mean Squared Error: {mse_r}')\n",
    "print(f'R-squared: {r2}')\n",
    "print(f'Adjusted R-squared: {adj_r2}')\n",
    "\n",
    "train_pred = model.predict(X_train_scaled)\n",
    "test_pred = model.predict(X_test_scaled)\n",
    "\n",
    "from sklearn.metrics import mean_squared_error, r2_score\n",
    "\n",
    "train_mse = mean_squared_error(y_train, train_pred)\n",
    "test_mse = mean_squared_error(y_test, test_pred)\n",
    "\n",
    "print(f'Training MSE: {train_mse}')\n",
    "print(f'Validation MSE: {test_mse}')\n",
    "\n",
    "import tensorflow as tf\n",
    "def huber_loss(y_test, y_pred, delta = 1.0):\n",
    "    error = y_test - y_pred\n",
    "    condition = tf.abs(error) < delta\n",
    "    squared_loss = 0.5 * tf.square(error)\n",
    "    linear_loss = delta * (tf.abs(error) - 0.5 * delta)\n",
    "    return tf.where(condition, squared_loss, linear_loss)\n",
    "\n",
    "loss = huber_loss(y_test, y_pred, delta = 1.0)\n",
    "#print(\"Huber Loss:\", loss.numpy())\n",
    "\n",
    "mean_huber_loss = np.mean(loss)\n",
    "print(f\"Mean Huber Loss: {mean_huber_loss}\")"
   ]
  },
  {
   "cell_type": "markdown",
   "id": "3a6c6014",
   "metadata": {},
   "source": [
    "# ANN 10%\n",
    "\n",
    "## 300 epochs, batch_size = 64, units from 64 to 1\n",
    "Mean Squared Error: 81181.98082686406\n",
    "Root Mean Squared Error: 284.9245177706967\n",
    "R-squared: 0.7975809759831394\n",
    "Adjusted R-squared: 0.7947663429724762\n",
    "\n",
    "Training MSE: 84108.78480963327\n",
    "Validation MSE: 81181.98082686406\n",
    "Mean Huber Loss: 636.3461260239243\n",
    "\n",
    "## 350 epochs, batch_size = 80, units from 80 to 1\n",
    "Mean Squared Error: 57666.51615700094\n",
    "Root Mean Squared Error: 240.1385353436656\n",
    "R-squared: 0.8562143988104072\n",
    "Adjusted R-squared: 0.8542150625250362\n",
    "\n",
    "Training MSE: 56260.203266645854\n",
    "Validation MSE: 57666.51615700094\n",
    "Mean Huber Loss: 645.5744498701923"
   ]
  },
  {
   "cell_type": "markdown",
   "id": "98ef777e",
   "metadata": {},
   "source": [
    "# ANN 30%\n",
    "\n",
    "## 300 epochs, batch_size = 64, units from 64 to 1\n",
    "Mean Squared Error: 69443.73445949942\n",
    "Root Mean Squared Error: 263.5217912422034\n",
    "R-squared: 0.83511443409488\n",
    "Adjusted R-squared: 0.8343577890505735\n",
    "\n",
    "Training MSE: 63192.78008888488\n",
    "Validation MSE: 69443.73445949942\n",
    "Mean Huber Loss: 686.8274866689037\n",
    "\n",
    "## 350 epochs, batch_size = 80, units from 80 to 1\n",
    "Mean Squared Error: 73340.19319884239\n",
    "Root Mean Squared Error: 270.8139457244445\n",
    "R-squared: 0.8258627743265359\n",
    "Adjusted R-squared: 0.8250636742469636\n",
    "\n",
    "Training MSE: 65545.54571775686\n",
    "Validation MSE: 73340.19319884239\n",
    "Mean Huber Loss: 674.7012553263174"
   ]
  },
  {
   "cell_type": "markdown",
   "id": "d0031bf4",
   "metadata": {},
   "source": [
    "We tried to use a code to get the best parameters but we encountered an error and we could not solve it. So after a fill manual tunning (see results below) we decided to keep the two tests above: the first one with 300 epochs and units from 64 to 1 (better result) and the second one with 350 epochs and units from 80 to 1 (higher R2 but a little bit overfitting)"
   ]
  },
  {
   "cell_type": "markdown",
   "id": "e0f1b239",
   "metadata": {},
   "source": [
    "## 80 64 \n",
    "\n",
    "## 200 epochs\n",
    "Mean Squared Error: 60656.38098330473\n",
    "Root Mean Squared Error: 246.28516192272878\n",
    "R-squared: 0.8499137853925207\n",
    "Adjusted R-squared: 0.8488781128362874\n",
    "219/219 [==============================] - 0s 234us/step\n",
    "55/55 [==============================] - 0s 240us/step\n",
    "Training MSE: 58582.505995858664\n",
    "Validation MSE: 60656.38098330473\n",
    "Mean Huber Loss: 659.6767507504989\n",
    "\n",
    "## 300 epochs\n",
    "Mean Squared Error: 57705.313914379854\n",
    "Root Mean Squared Error: 240.21930379213876\n",
    "R-squared: 0.8572158116302817\n",
    "Adjusted R-squared: 0.856230526834171\n",
    "219/219 [==============================] - 0s 240us/step\n",
    "55/55 [==============================] - 0s 252us/step\n",
    "Training MSE: 53977.55473223913\n",
    "Validation MSE: 57705.313914379854\n",
    "Mean Huber Loss: 664.794071903621"
   ]
  },
  {
   "cell_type": "markdown",
   "id": "dad4a4db",
   "metadata": {},
   "source": [
    "## 200 epochs\n",
    "\n",
    "Mean Squared Error: 74403.76144386557\n",
    "Root Mean Squared Error: 272.77052891371085\n",
    "R-squared: 0.8158977056224086\n",
    "Adjusted R-squared: 0.8146273045111199\n",
    "219/219 [==============================] - 0s 222us/step\n",
    "55/55 [==============================] - 0s 230us/step\n",
    "Training MSE: 78365.65840068748\n",
    "Validation MSE: 74403.76144386557\n",
    "Mean Huber Loss: 669.5942908107245\n",
    "\n",
    "## 400 epochs\n",
    "Mean Squared Error: 104880.8031872959\n",
    "Root Mean Squared Error: 323.8530580175149\n",
    "R-squared: 0.7404862855285423\n",
    "Adjusted R-squared: 0.738695506590269\n",
    "219/219 [==============================] - 0s 243us/step\n",
    "55/55 [==============================] - 0s 237us/step\n",
    "Training MSE: 108801.48485415935\n",
    "Validation MSE: 104880.8031872959\n",
    "Mean Huber Loss: 636.4121079573872"
   ]
  },
  {
   "cell_type": "code",
   "execution_count": null,
   "id": "a3cca403",
   "metadata": {},
   "outputs": [],
   "source": []
  },
  {
   "cell_type": "markdown",
   "id": "f4dee038",
   "metadata": {},
   "source": [
    "# SVM"
   ]
  },
  {
   "cell_type": "code",
   "execution_count": 52,
   "id": "cf47eab9",
   "metadata": {},
   "outputs": [],
   "source": [
    "from sklearn import svm"
   ]
  },
  {
   "cell_type": "code",
   "execution_count": 53,
   "id": "6a999e3d",
   "metadata": {},
   "outputs": [
    {
     "data": {
      "text/plain": [
       "{'kernel': 'poly', 'epsilon': 0.5, 'degree': 4, 'C': 10}"
      ]
     },
     "execution_count": 53,
     "metadata": {},
     "output_type": "execute_result"
    }
   ],
   "source": [
    "from sklearn.model_selection import RandomizedSearchCV\n",
    "\n",
    "param_dist = {'kernel': ['linear', 'poly', 'rbf', 'sigmoid'],\n",
    "              'C': [0.1, 1, 10, 100],\n",
    "              'epsilon': [0.1, 0.5, 1, 2],\n",
    "              'degree': [2, 3, 4]}\n",
    "\n",
    "random_search = RandomizedSearchCV(svm.SVR(), param_dist, cv=5)\n",
    "random_search.fit(X_train_scaled, y_train)\n",
    "\n",
    "best_params = random_search.best_params_\n",
    "best_regressor = random_search.best_estimator_\n",
    "\n",
    "yp_best = best_regressor.predict(X_test_scaled)\n",
    "\n",
    "best_params"
   ]
  },
  {
   "cell_type": "code",
   "execution_count": 54,
   "id": "a1b1d3e0",
   "metadata": {},
   "outputs": [
    {
     "name": "stdout",
     "output_type": "stream",
     "text": [
      "Mean Squared Error: 135421.47278953125\n",
      "Root Mean Squared Error: 367.99656627410434\n",
      "R-squared: 0.6784584476857405\n",
      "Adjusted R-squared: 0.6769829223978738\n"
     ]
    }
   ],
   "source": [
    "regressor = svm.SVR(kernel = 'rbf', C = 100, epsilon = 0.5, degree = 4)\n",
    "\n",
    "regressor.fit(X_train_scaled, y_train)\n",
    "\n",
    "yp_svm_p2 = regressor.predict(X_test_scaled)\n",
    "\n",
    "mse = mean_squared_error(y_test, yp_svm_p2)\n",
    "mse_r = mean_squared_error(y_test, yp_svm_p2, squared = False)\n",
    "r2 = r2_score(y_test, yp_svm_p2)\n",
    "\n",
    "n = len(y_test)\n",
    "k = X_train_scaled.shape[1]  \n",
    "adj_r2 = 1 - ((1 - r2) * (n - 1) / (n - k - 1))\n",
    "\n",
    "print(f'Mean Squared Error: {mse}')\n",
    "print(f'Root Mean Squared Error: {mse_r}')\n",
    "print(f'R-squared: {r2}')\n",
    "print(f'Adjusted R-squared: {adj_r2}')"
   ]
  },
  {
   "cell_type": "code",
   "execution_count": 55,
   "id": "80befdbd",
   "metadata": {},
   "outputs": [
    {
     "data": {
      "text/plain": [
       "0.6493111296077926"
      ]
     },
     "execution_count": 55,
     "metadata": {},
     "output_type": "execute_result"
    }
   ],
   "source": [
    "score_svr = cross_val_score(svm.SVR(kernel = 'rbf', C = 100, epsilon = 0.5, degree = 4), \n",
    "                            X_test_scaled, y_test, cv = 10, scoring = 'r2').mean()\n",
    "score_svr"
   ]
  },
  {
   "cell_type": "code",
   "execution_count": 56,
   "id": "c0e34a45",
   "metadata": {},
   "outputs": [
    {
     "name": "stdout",
     "output_type": "stream",
     "text": [
      "Training MSE: 136164.22074876333\n",
      "Validation MSE: 135421.47278953125\n",
      "Mean Huber Loss: 238.82638266817884\n"
     ]
    }
   ],
   "source": [
    "train_pred = regressor.predict(X_train_scaled)\n",
    "test_pred = regressor.predict(X_test_scaled)\n",
    "\n",
    "from sklearn.metrics import mean_squared_error, r2_score\n",
    "\n",
    "train_mse = mean_squared_error(y_train, train_pred)\n",
    "test_mse = mean_squared_error(y_test, test_pred)\n",
    "\n",
    "print(f'Training MSE: {train_mse}')\n",
    "print(f'Validation MSE: {test_mse}')\n",
    "\n",
    "import tensorflow as tf\n",
    "def huber_loss(y_test, yp_svm_p2, delta = 1.0):\n",
    "    error = y_test - yp_svm_p2\n",
    "    condition = tf.abs(error) < delta\n",
    "    squared_loss = 0.5 * tf.square(error)\n",
    "    linear_loss = delta * (tf.abs(error) - 0.5 * delta)\n",
    "    return tf.where(condition, squared_loss, linear_loss)\n",
    "\n",
    "loss = huber_loss(y_test, yp_svm_p2, delta = 1.0)\n",
    "#print(\"Huber Loss:\", loss.numpy())\n",
    "\n",
    "mean_huber_loss = np.mean(loss)\n",
    "print(f\"Mean Huber Loss: {mean_huber_loss}\")"
   ]
  },
  {
   "cell_type": "markdown",
   "id": "19416c20",
   "metadata": {},
   "source": [
    "# SVM 10%\n",
    "Mean Squared Error: 119816.94511192013\n",
    "Root Mean Squared Error: 346.14584370163993\n",
    "R-squared: 0.7012486164637788\n",
    "Adjusted R-squared: 0.6970944836683737\n",
    "\n",
    "Training MSE: 133960.87217960533\n",
    "Validation MSE: 119816.94511192013\n",
    "Mean Huber Loss: 227.0890721387395\n",
    "\n",
    "Cross-Validation: 0.5995654440241597"
   ]
  },
  {
   "cell_type": "markdown",
   "id": "69a1be52",
   "metadata": {},
   "source": [
    "# SVM 30%\n",
    "Mean Squared Error: 135421.47278953125\n",
    "Root Mean Squared Error: 367.99656627410434\n",
    "R-squared: 0.6784584476857405\n",
    "Adjusted R-squared: 0.6769829223978738\n",
    "\n",
    "Training MSE: 136164.22074876333\n",
    "Validation MSE: 135421.47278953125\n",
    "Mean Huber Loss: 238.82638266817884\n",
    "\n",
    "Cross-Validation: 0.6493111296077926"
   ]
  },
  {
   "cell_type": "code",
   "execution_count": null,
   "id": "a63d554c",
   "metadata": {},
   "outputs": [],
   "source": []
  },
  {
   "cell_type": "markdown",
   "id": "6471863c",
   "metadata": {},
   "source": [
    "# KNN"
   ]
  },
  {
   "cell_type": "code",
   "execution_count": 57,
   "id": "b1655b77",
   "metadata": {},
   "outputs": [],
   "source": [
    "from sklearn.neighbors import KNeighborsRegressor"
   ]
  },
  {
   "cell_type": "code",
   "execution_count": 58,
   "id": "50516499",
   "metadata": {},
   "outputs": [
    {
     "data": {
      "text/plain": [
       "5"
      ]
     },
     "execution_count": 58,
     "metadata": {},
     "output_type": "execute_result"
    }
   ],
   "source": [
    "from sklearn.model_selection import GridSearchCV\n",
    "\n",
    "param_grid = {'n_neighbors': [1, 3, 5, 7, 9, 11, 13, 15]}\n",
    "grid_search = GridSearchCV(KNeighborsRegressor(), param_grid, cv = 10, scoring = 'r2')\n",
    "grid_search.fit(X_train_scaled, y_train)\n",
    "\n",
    "best_k = grid_search.best_params_['n_neighbors']\n",
    "knn_regressor = KNeighborsRegressor(n_neighbors=best_k)\n",
    "knn_regressor.fit(X_train, y_train)\n",
    "\n",
    "best_k"
   ]
  },
  {
   "cell_type": "code",
   "execution_count": 62,
   "id": "7ec1d85b",
   "metadata": {},
   "outputs": [
    {
     "name": "stdout",
     "output_type": "stream",
     "text": [
      "Mean Squared Error: 76861.7489954338\n",
      "Root Mean Squared Error: 277.23951557350875\n",
      "R-squared: 0.8175012752668033\n",
      "Adjusted R-squared: 0.8166638050194617\n"
     ]
    }
   ],
   "source": [
    "knn_regressor = KNeighborsRegressor(n_neighbors = 5, metric = 'manhattan') \n",
    "\n",
    "knn_regressor.fit(X_train_scaled, y_train)\n",
    "\n",
    "yp_knn = knn_regressor.predict(X_test_scaled)\n",
    "\n",
    "mse = mean_squared_error(y_test, yp_knn)\n",
    "mse_r = mean_squared_error(y_test, yp_knn, squared = False)\n",
    "r2 = r2_score(y_test, yp_knn)\n",
    "\n",
    "n = len(y_test)\n",
    "k = X_train_scaled.shape[1]  \n",
    "adj_r2 = 1 - ((1 - r2) * (n - 1) / (n - k - 1))\n",
    "\n",
    "print(f'Mean Squared Error: {mse}')\n",
    "print(f'Root Mean Squared Error: {mse_r}')\n",
    "print(f'R-squared: {r2}')\n",
    "print(f'Adjusted R-squared: {adj_r2}')"
   ]
  },
  {
   "cell_type": "code",
   "execution_count": 63,
   "id": "5d7fc852",
   "metadata": {},
   "outputs": [
    {
     "data": {
      "text/plain": [
       "0.7676851388970428"
      ]
     },
     "execution_count": 63,
     "metadata": {},
     "output_type": "execute_result"
    }
   ],
   "source": [
    "score_knn = cross_val_score(KNeighborsRegressor(n_neighbors = 5, metric='manhattan'), \n",
    "                            X_test_scaled, y_test, cv = 5, scoring = 'r2').mean()\n",
    "score_knn"
   ]
  },
  {
   "cell_type": "code",
   "execution_count": 64,
   "id": "5119ae5b",
   "metadata": {},
   "outputs": [
    {
     "name": "stdout",
     "output_type": "stream",
     "text": [
      "Training MSE: 51431.31103718199\n",
      "Validation MSE: 76861.7489954338\n",
      "Mean Huber Loss: 172.5331506849315\n"
     ]
    }
   ],
   "source": [
    "train_pred = knn_regressor.predict(X_train_scaled)\n",
    "test_pred = knn_regressor.predict(X_test_scaled)\n",
    "\n",
    "from sklearn.metrics import mean_squared_error, r2_score\n",
    "\n",
    "train_mse = mean_squared_error(y_train, train_pred)\n",
    "test_mse = mean_squared_error(y_test, test_pred)\n",
    "\n",
    "print(f'Training MSE: {train_mse}')\n",
    "print(f'Validation MSE: {test_mse}')\n",
    "\n",
    "import tensorflow as tf\n",
    "def huber_loss(y_test, yp_knn, delta = 1.0):\n",
    "    error = y_test - yp_knn\n",
    "    condition = tf.abs(error) < delta\n",
    "    squared_loss = 0.5 * tf.square(error)\n",
    "    linear_loss = delta * (tf.abs(error) - 0.5 * delta)\n",
    "    return tf.where(condition, squared_loss, linear_loss)\n",
    "\n",
    "loss = huber_loss(y_test, yp_knn, delta = 1.0)\n",
    "#print(\"Huber Loss:\", loss.numpy())\n",
    "\n",
    "mean_huber_loss = np.mean(loss)\n",
    "print(f\"Mean Huber Loss: {mean_huber_loss}\")"
   ]
  },
  {
   "cell_type": "code",
   "execution_count": null,
   "id": "65359b57",
   "metadata": {},
   "outputs": [],
   "source": []
  },
  {
   "cell_type": "markdown",
   "id": "cbf05c3f",
   "metadata": {},
   "source": [
    "# Summary 20%"
   ]
  },
  {
   "cell_type": "code",
   "execution_count": null,
   "id": "d1945074",
   "metadata": {},
   "outputs": [],
   "source": []
  },
  {
   "cell_type": "markdown",
   "id": "3d8654b2",
   "metadata": {},
   "source": [
    "# Linear Regression\n",
    "Mean Squared Error: 185842.69668292036\n",
    "Root Mean Squared Error: 431.09476531607334\n",
    "R-squared: 0.5401567583588167\n",
    "Adjusted R-squared: 0.536983602004766\n",
    "\n",
    "Training MSE: 190458.54514326117\n",
    "Validation MSE: 185842.69668292036\n",
    "Mean Huber Loss: 316.29980294918016\n",
    "\n",
    "Cross-Validation: 0.5341206624410259"
   ]
  },
  {
   "cell_type": "markdown",
   "id": "6ea24739",
   "metadata": {},
   "source": [
    "# Linear Regression 10%\n",
    "Mean Squared Error: 186610.79228381193\n",
    "Root Mean Squared Error: 431.98471302097244\n",
    "R-squared: 0.5347049423977273\n",
    "Adjusted R-squared: 0.5282350227091672\n",
    "\n",
    "Training MSE: 189792.53252521323\n",
    "Validation MSE: 186610.79228381193\n",
    "Mean Huber Loss: 318.1292093386071\n",
    "\n",
    "Cross-Validation: 0.5174216088198078"
   ]
  },
  {
   "cell_type": "markdown",
   "id": "dda92250",
   "metadata": {},
   "source": [
    "# Linear Regression 30%\n",
    "Mean Squared Error: 195025.4952516888\n",
    "Root Mean Squared Error: 441.6169100608454\n",
    "R-squared: 0.5369360619674715\n",
    "Adjusted R-squared: 0.5348111031696166\n",
    "\n",
    "Training MSE: 187264.33538299127\n",
    "Validation MSE: 195025.4952516888\n",
    "Mean Huber Loss: 326.980255571286\n",
    "\n",
    "Cross-Validation: 0.5325208313082583"
   ]
  },
  {
   "cell_type": "code",
   "execution_count": null,
   "id": "481add29",
   "metadata": {},
   "outputs": [],
   "source": []
  },
  {
   "cell_type": "markdown",
   "id": "2bd3f2fd",
   "metadata": {},
   "source": [
    "# Polynomial 2\n",
    "\n",
    "Mean Squared Error: 132761.75680633067\n",
    "Root Mean Squared Error: 364.3648676894229\n",
    "R-squared: 0.6714985430933418\n",
    "Adjusted R-squared: 0.669231713028431\n",
    "\n",
    "Training MSE: 136036.4079873431\n",
    "Validation MSE: 132761.75680633067\n",
    "Mean Huber Loss: 259.98146558658806\n",
    "\n",
    "Cross-Validation: nan"
   ]
  },
  {
   "cell_type": "markdown",
   "id": "b0043a86",
   "metadata": {},
   "source": [
    "# Polynomial 2 10%\n",
    "\n",
    "Mean Squared Error: 129787.7459520186\n",
    "Root Mean Squared Error: 360.2606638977098\n",
    "R-squared: 0.6763874372444199\n",
    "Adjusted R-squared: 0.6718876101840874\n",
    "\n",
    "Training MSE: 135728.0226203764\n",
    "Validation MSE: 129787.7459520186\n",
    "Mean Huber Loss: 257.9908250948034\n",
    "\n",
    "Cross-Validation: nan"
   ]
  },
  {
   "cell_type": "markdown",
   "id": "63b03e5f",
   "metadata": {},
   "source": [
    "# Polynomial 2 30%\n",
    "\n",
    "Mean Squared Error: 143033.25052369505\n",
    "Root Mean Squared Error: 378.1973698000755\n",
    "R-squared: 0.6603852220879212\n",
    "Adjusted R-squared: 0.6588267603919575\n",
    "\n",
    "Training MSE: 134460.97390464265\n",
    "Validation MSE: 143033.25052369505\n",
    "Mean Huber Loss: 267.12350803325194\n",
    "\n",
    "Cross-Validation: nan"
   ]
  },
  {
   "cell_type": "code",
   "execution_count": null,
   "id": "304e9be5",
   "metadata": {},
   "outputs": [],
   "source": []
  },
  {
   "cell_type": "markdown",
   "id": "474cecf9",
   "metadata": {},
   "source": [
    "# ANN\n",
    "\n",
    "## 300 epochs, batch_size = 64, units from 64 to 1\n",
    "Mean Squared Error: 72065.56436292425\n",
    "Root Mean Squared Error: 268.45030147668723\n",
    "R-squared: 0.8216832659080004\n",
    "Adjusted R-squared: 0.8204527881569343\n",
    "\n",
    "Training MSE: 72580.07929271933\n",
    "Validation MSE: 72065.56436292425\n",
    "Mean Huber Loss: 637.7659402750329\n",
    "\n",
    "## 350 epochs, batch_size = 80, units from 80 to 1\n",
    "Mean Squared Error: 60959.661632957526\n",
    "Root Mean Squared Error: 246.9001045624678\n",
    "R-squared: 0.8491633574254678\n",
    "Adjusted R-squared: 0.8481225065278861\n",
    "\n",
    "Training MSE: 58179.37027287792\n",
    "Validation MSE: 60959.661632957526\n",
    "Mean Huber Loss: 661.3707187387948"
   ]
  },
  {
   "cell_type": "markdown",
   "id": "42e052b4",
   "metadata": {},
   "source": [
    "# ANN 10%\n",
    "\n",
    "## 300 epochs, batch_size = 64, units from 64 to 1\n",
    "Mean Squared Error: 81181.98082686406\n",
    "Root Mean Squared Error: 284.9245177706967\n",
    "R-squared: 0.7975809759831394\n",
    "Adjusted R-squared: 0.7947663429724762\n",
    "\n",
    "Training MSE: 84108.78480963327\n",
    "Validation MSE: 81181.98082686406\n",
    "Mean Huber Loss: 636.3461260239243\n",
    "\n",
    "## 350 epochs, batch_size = 80, units from 80 to 1\n",
    "Mean Squared Error: 57666.51615700094\n",
    "Root Mean Squared Error: 240.1385353436656\n",
    "R-squared: 0.8562143988104072\n",
    "Adjusted R-squared: 0.8542150625250362\n",
    "\n",
    "Training MSE: 56260.203266645854\n",
    "Validation MSE: 57666.51615700094\n",
    "Mean Huber Loss: 645.5744498701923"
   ]
  },
  {
   "cell_type": "markdown",
   "id": "596e40da",
   "metadata": {},
   "source": [
    "# ANN 30%\n",
    "\n",
    "## 300 epochs, batch_size = 64, units from 64 to 1\n",
    "Mean Squared Error: 69443.73445949942\n",
    "Root Mean Squared Error: 263.5217912422034\n",
    "R-squared: 0.83511443409488\n",
    "Adjusted R-squared: 0.8343577890505735\n",
    "\n",
    "Training MSE: 63192.78008888488\n",
    "Validation MSE: 69443.73445949942\n",
    "Mean Huber Loss: 686.8274866689037\n",
    "\n",
    "## 350 epochs, batch_size = 80, units from 80 to 1\n",
    "Mean Squared Error: 73340.19319884239\n",
    "Root Mean Squared Error: 270.8139457244445\n",
    "R-squared: 0.8258627743265359\n",
    "Adjusted R-squared: 0.8250636742469636\n",
    "\n",
    "Training MSE: 65545.54571775686\n",
    "Validation MSE: 73340.19319884239\n",
    "Mean Huber Loss: 674.7012553263174"
   ]
  },
  {
   "cell_type": "code",
   "execution_count": null,
   "id": "85185138",
   "metadata": {},
   "outputs": [],
   "source": []
  },
  {
   "cell_type": "markdown",
   "id": "6da8eb16",
   "metadata": {},
   "source": [
    "# SVM\n",
    "Mean Squared Error: 125071.40691489683\n",
    "Root Mean Squared Error: 353.6543608028845\n",
    "R-squared: 0.6905272995984493\n",
    "Adjusted R-squared: 0.6883917778015438\n",
    "\n",
    "Training MSE: 135775.01603169597\n",
    "Validation MSE: 125071.40691489683\n",
    "Mean Huber Loss: 229.86391818606475\n",
    "\n",
    "Cross-Validation: 0.6312927155195038"
   ]
  },
  {
   "cell_type": "markdown",
   "id": "39db7c80",
   "metadata": {},
   "source": [
    "# SVM 10%\n",
    "Mean Squared Error: 119816.94511192013\n",
    "Root Mean Squared Error: 346.14584370163993\n",
    "R-squared: 0.7012486164637788\n",
    "Adjusted R-squared: 0.6970944836683737\n",
    "\n",
    "Training MSE: 133960.87217960533\n",
    "Validation MSE: 119816.94511192013\n",
    "Mean Huber Loss: 227.0890721387395\n",
    "\n",
    "Cross-Validation: 0.5995654440241597"
   ]
  },
  {
   "cell_type": "markdown",
   "id": "502402e3",
   "metadata": {},
   "source": [
    "# SVM 30%\n",
    "Mean Squared Error: 135421.47278953125\n",
    "Root Mean Squared Error: 367.99656627410434\n",
    "R-squared: 0.6784584476857405\n",
    "Adjusted R-squared: 0.6769829223978738\n",
    "\n",
    "Training MSE: 136164.22074876333\n",
    "Validation MSE: 135421.47278953125\n",
    "Mean Huber Loss: 238.82638266817884\n",
    "\n",
    "Cross-Validation: 0.6493111296077926"
   ]
  },
  {
   "cell_type": "code",
   "execution_count": null,
   "id": "d761f1e9",
   "metadata": {},
   "outputs": [],
   "source": []
  },
  {
   "cell_type": "markdown",
   "id": "181f018a",
   "metadata": {},
   "source": [
    "# KNN\n",
    "\n",
    "Mean Squared Error: 70692.36432997855\n",
    "Root Mean Squared Error: 265.88035717212836\n",
    "R-squared: 0.8250810682744228\n",
    "Adjusted R-squared: 0.8238740371181796\n",
    "\n",
    "Cross-Validation: 0.736637750071026\n",
    "\n",
    "Training MSE: 57419.776576041375\n",
    "Validation MSE: 70692.36432997855\n",
    "Mean Huber Loss: 169.5090858261113"
   ]
  },
  {
   "cell_type": "markdown",
   "id": "4755ea88",
   "metadata": {},
   "source": [
    "# KNN 10%\n",
    "\n",
    "Mean Squared Error: 68169.39872798434\n",
    "Root Mean Squared Error: 261.0927014069607\n",
    "R-squared: 0.8300265278354895\n",
    "Adjusted R-squared: 0.8276630496593896\n",
    "\n",
    "Cross-Validation: 0.6976379549451517\n",
    "\n",
    "Training MSE: 55495.98124851158\n",
    "Validation MSE: 68169.39872798434\n",
    "Mean Huber Loss: 163.96885192433135"
   ]
  },
  {
   "cell_type": "markdown",
   "id": "bb31e027",
   "metadata": {},
   "source": [
    "# KNN 30%\n",
    "\n",
    "Mean Squared Error: 76861.7489954338\n",
    "Root Mean Squared Error: 277.23951557350875\n",
    "R-squared: 0.8175012752668033\n",
    "Adjusted R-squared: 0.8166638050194617\n",
    "\n",
    "Cross-Validation: 0.7676851388970428\n",
    "\n",
    "Training MSE: 51431.31103718199\n",
    "Validation MSE: 76861.7489954338\n",
    "Mean Huber Loss: 172.5331506849315"
   ]
  },
  {
   "cell_type": "code",
   "execution_count": null,
   "id": "d01f867f",
   "metadata": {},
   "outputs": [],
   "source": []
  }
 ],
 "metadata": {
  "kernelspec": {
   "display_name": "Python 3 (ipykernel)",
   "language": "python",
   "name": "python3"
  },
  "language_info": {
   "codemirror_mode": {
    "name": "ipython",
    "version": 3
   },
   "file_extension": ".py",
   "mimetype": "text/x-python",
   "name": "python",
   "nbconvert_exporter": "python",
   "pygments_lexer": "ipython3",
   "version": "3.11.5"
  }
 },
 "nbformat": 4,
 "nbformat_minor": 5
}
